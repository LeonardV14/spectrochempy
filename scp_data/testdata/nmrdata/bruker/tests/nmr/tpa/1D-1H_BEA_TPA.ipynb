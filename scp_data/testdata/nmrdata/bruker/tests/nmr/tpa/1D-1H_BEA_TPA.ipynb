{
 "cells": [
  {
   "cell_type": "markdown",
   "metadata": {},
   "source": [
    "# comparison NMR plotting"
   ]
  },
  {
   "cell_type": "markdown",
   "metadata": {},
   "source": [
    "##### Matplotlib and Graph setup"
   ]
  },
  {
   "cell_type": "markdown",
   "metadata": {},
   "source": [
    "**Warning** \n",
    "* The command `matplotlib.use('nbagg')` does work only if this notebook is within a brower.\n",
    " \n",
    "* The following command must be executed in a terminal window at the prompt:\n",
    "    \n",
    ">    $ cd '/the/path/where/your/notebooks/are/saved'\n",
    "    \n",
    ">    $ ipython notebook\n",
    "\n",
    "which should automatically open a browser. \n",
    " \n",
    "* Then the present notebook can be open from the file browser.\n",
    " \n",
    "* If you get an error here because *lcsdefault* does not exist, run the `lcsstyle.ipynb` first.\n",
    " \n",
    "* You can define your own style, using the technique described in this `lcsstyle.ipynb` notebook "
   ]
  },
  {
   "cell_type": "code",
   "execution_count": 1,
   "metadata": {
    "collapsed": false
   },
   "outputs": [
    {
     "name": "stderr",
     "output_type": "stream",
     "text": [
      "/Users/aurelievicente/workspace/User/lib/python2.7/site-packages/matplotlib/__init__.py:872: UserWarning: axes.color_cycle is deprecated and replaced with axes.prop_cycle; please use the latter.\n",
      "  warnings.warn(self.msg_depr % (key, alt_key))\n"
     ]
    }
   ],
   "source": [
    "import matplotlib\n",
    "matplotlib.use('nbagg') # this allows having inline graph, which can be modified (i.e., zooming)\n",
    "\n",
    "from matplotlib import pyplot as pl\n",
    "\n",
    "#print pl.style.available # list all available styles \n",
    "matplotlib.rcdefaults()\n",
    "pl.style.use('lcsdefault')"
   ]
  },
  {
   "cell_type": "markdown",
   "metadata": {},
   "source": [
    "##### Imports"
   ]
  },
  {
   "cell_type": "code",
   "execution_count": 2,
   "metadata": {
    "collapsed": false
   },
   "outputs": [],
   "source": [
    "import os\n",
    "\n",
    "from matplotlib import pyplot as pl\n",
    "\n",
    "from mpl_toolkits.axes_grid1.inset_locator import inset_axes, zoomed_inset_axes\n",
    "from mpl_toolkits.axes_grid1.anchored_artists import AnchoredSizeBar\n",
    "\n",
    "\n",
    "import numpy as np\n",
    "import nmrglue as ng\n",
    "import pandas as pd"
   ]
  },
  {
   "cell_type": "markdown",
   "metadata": {},
   "source": [
    "##### Local imports"
   ]
  },
  {
   "cell_type": "code",
   "execution_count": 3,
   "metadata": {
    "collapsed": false
   },
   "outputs": [],
   "source": [
    "from lcslib.nmr.bruker import read_pdata\n",
    "from lcslib.nmr.units import scale"
   ]
  },
  {
   "cell_type": "markdown",
   "metadata": {},
   "source": [
    "##### i/o directory"
   ]
  },
  {
   "cell_type": "code",
   "execution_count": 4,
   "metadata": {
    "collapsed": false
   },
   "outputs": [],
   "source": [
    "DATADIR = os.path.expanduser(os.path.join('~','Documents','aurelie','data')) \n",
    "FIGDIR = 'figures'"
   ]
  },
  {
   "cell_type": "markdown",
   "metadata": {},
   "source": [
    "### import data"
   ]
  },
  {
   "cell_type": "code",
   "execution_count": 5,
   "metadata": {
    "collapsed": false
   },
   "outputs": [],
   "source": [
    "# Xenon\n",
    "user = 'eddy'\n",
    "name1 = '151202'\n",
    "\n",
    "expno1 = 10 \n",
    "procno = 1\n",
    "\n",
    "path1 = os.path.join(DATADIR,user,'nmr',name1, str(expno1), 'pdata',str(procno))\n",
    "\n",
    "dic1, data1 = read_pdata(path1, all_components=True) # read specs and proc\n",
    "\n",
    "#r,i = data\n",
    "r1, i1 = data1\n",
    "\n",
    "# make pd.DataFrame\n",
    "#x = scale(dic, unit='ppm', axis=-1)\n",
    "#d1r = pd.Series(r.astype(np.float64, copy=False), index=x)\n",
    "\n",
    "x1 = scale(dic1, unit='ppm', axis=-1)\n",
    "d1r1 = pd.Series(r1.astype(np.float64, copy=False), index=x1)"
   ]
  },
  {
   "cell_type": "markdown",
   "metadata": {},
   "source": [
    "##### Plot"
   ]
  },
  {
   "cell_type": "code",
   "execution_count": 37,
   "metadata": {
    "collapsed": false,
    "scrolled": false
   },
   "outputs": [
    {
     "data": {
      "text/plain": [
       "<IPython.core.display.Javascript object>"
      ]
     },
     "metadata": {},
     "output_type": "display_data"
    },
    {
     "data": {
      "text/html": [
       "<img src=\"data:image/png;base64,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\">"
      ],
      "text/plain": [
       "<IPython.core.display.HTML object>"
      ]
     },
     "metadata": {},
     "output_type": "execute_result"
    }
   ],
   "source": [
    "#f, ((ax1, ax2), (ax3, ax4), (ax5, ax6)) = pl.subplots(nrows=3, ncols=2)\n",
    "\n",
    "fig = pl.figure(figsize=(5,4)) \n",
    "fig.subplots_adjust( hspace = 0.001, wspace=0.001)\n",
    "#fig.subplots_adjust(hspace = 0.001, wspace=0.001)\n",
    "\n",
    "ax1 = fig.add_subplot(111)\n",
    "ax1.plot(x1, d1r1)\n",
    "# draw a default vline at x=1 that spans the yrange\n",
    "\n",
    "#pl.axvline(x=6.8, ymin=-1.5e8, ymax =2.8e8, color='k', linestyle='dotted')\n",
    "#pl.axvline(x=20, ymin=-1.5e8, ymax =2.8e8, color='k', linestyle='dotted')\n",
    "\n",
    "axins = inset_axes(ax1,\n",
    "                   width=\"55%\",  # width = 30% of parent_bbox\n",
    "                   height=1.8,  # height : 1 inch\n",
    "                   loc=2)\n",
    "\n",
    "axins.plot(x1, d1r1)\n",
    "axins.set_xlim(19.5,7.5)\n",
    "axins.set_ylim(-5e6,3e7)\n",
    "\n",
    "pl.yticks([],visible=False)\n",
    "\n",
    "#figure 280K\n",
    "\n",
    "ax1.set_yticks([])\n",
    "ax1.set_xlim(20,-2)\n",
    "ax1.set_ylim(-1.5e7,5e8)\n",
    "ax1.set_xlabel(r'$\\mathrm{ppm}$', fontsize=16, labelpad=1)\n",
    "ax1.set_ylabel(r'$\\mathrm{a.u.}$', fontsize=16, labelpad=1)\n",
    "#ax1.tick_params(labelsize=16) \n",
    "ax1.text(140,2e6,'A', fontsize=14, color= 'k', fontweight='bold', fontstyle='italic')\n",
    "#ax1.text(79,4.5e6,'B', fontsize=12, color= 'k', fontweight='bold', fontstyle='italic')\n",
    "#ax1.text(10,2.5e6,'C', fontsize=12, color= 'k', fontweight='bold', fontstyle='italic')\n",
    "#ax1.text(190,0.6e6,'x100', fontsize=12, color= 'k', fontweight='bold', fontstyle='italic')\n",
    "#ax1.text(230,1.2e6,'FER-9', fontsize=12, color='g',  fontweight='bold', fontstyle='italic')\n",
    "#ax1.text(230,0.2e6,'FER-46', fontsize=12, color='r',  fontweight='bold', fontstyle='italic')\n",
    "\n",
    "\n",
    "pl.savefig(os.path.join(FIGDIR,'1h_BEA-TPA.png'))\n",
    "#--------\n",
    "pl.show()"
   ]
  },
  {
   "cell_type": "code",
   "execution_count": null,
   "metadata": {
    "collapsed": true
   },
   "outputs": [],
   "source": [
    ""
   ]
  },
  {
   "cell_type": "code",
   "execution_count": null,
   "metadata": {
    "collapsed": true
   },
   "outputs": [],
   "source": [
    ""
   ]
  }
 ],
 "metadata": {
  "kernelspec": {
   "display_name": "Python 2",
   "language": "python",
   "name": "python2"
  },
  "language_info": {
   "codemirror_mode": {
    "name": "ipython",
    "version": 2.0
   },
   "file_extension": ".py",
   "mimetype": "text/x-python",
   "name": "python",
   "nbconvert_exporter": "python",
   "pygments_lexer": "ipython2",
   "version": "2.7.12"
  },
  "latex_envs": {
   "LaTeX_envs_menu_present": true,
   "bibliofile": "biblio.bib",
   "cite_by": "apalike",
   "current_citInitial": 1.0,
   "eqLabelWithNumbers": true,
   "eqNumInitial": 1.0,
   "hotkeys": {},
   "labels_anchors": false,
   "latex_user_defs": false,
   "report_style_numbering": false,
   "user_envs_cfg": false
  },
  "widgets": {
   "state": {},
   "version": "1.1.1"
  }
 },
 "nbformat": 4,
 "nbformat_minor": 0
}