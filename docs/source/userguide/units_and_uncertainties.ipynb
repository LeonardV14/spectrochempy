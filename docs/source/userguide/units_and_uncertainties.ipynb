{
 "cells": [
  {
   "cell_type": "markdown",
   "metadata": {},
   "source": [
    "# Units and uncertainties"
   ]
  },
  {
   "cell_type": "code",
   "execution_count": 1,
   "metadata": {
    "run_control": {
     "frozen": false,
     "read_only": false
    },
    "scrolled": true
   },
   "outputs": [
    {
     "name": "stdout",
     "output_type": "stream",
     "text": [
      "\n",
      "        SpectroChemPy's API\n",
      "        Version   : 0.1a3.dev\n",
      "        Copyright : 2014-2017 - LCS (Laboratory for Catalysis and Spectrochempy)\n",
      "            \n"
     ]
    }
   ],
   "source": [
    "from spectrochempy.api import *"
   ]
  },
  {
   "cell_type": "markdown",
   "metadata": {},
   "source": [
    "## Units\n",
    "\n",
    "\n",
    "Spectrochempy can do calculations with units - it uses [pint](https://pint.readthedocs.io) to define and perform operation on data with units.\n",
    "\n",
    "### Create quantities\n",
    "\n",
    "* to create quantity, use for instance, one of the following expression:"
   ]
  },
  {
   "cell_type": "code",
   "execution_count": 2,
   "metadata": {},
   "outputs": [
    {
     "data": {
      "text/html": [
       "10.0 cm<sup>-1</sup>"
      ],
      "text/latex": [
       "$10.0\\ \\mathrm{cm}^{-1}$"
      ],
      "text/plain": [
       "<Quantity(10.0, '1 / centimeter')>"
      ]
     },
     "execution_count": 2,
     "metadata": {},
     "output_type": "execute_result"
    }
   ],
   "source": [
    "Quantity('10.0 cm^-1')"
   ]
  },
  {
   "cell_type": "code",
   "execution_count": 3,
   "metadata": {},
   "outputs": [
    {
     "data": {
      "text/html": [
       "1.0 cm<sup>-1</sup>.hr<sup>-1</sup>"
      ],
      "text/latex": [
       "$1.0\\ \\mathrm{cm}^{-1} \\cdot \\mathrm{hr}^{-1}$"
      ],
      "text/plain": [
       "<Quantity(1.0, '1 / centimeter / hour')>"
      ]
     },
     "execution_count": 3,
     "metadata": {},
     "output_type": "execute_result"
    }
   ],
   "source": [
    "Quantity(1.0, 'cm^-1/hour')"
   ]
  },
  {
   "cell_type": "code",
   "execution_count": 4,
   "metadata": {},
   "outputs": [
    {
     "data": {
      "text/html": [
       "10.0 scaled-dimensionless (1e-05)"
      ],
      "text/latex": [
       "$10.0\\ \\mathrm{scaled-dimensionless (1e-05)}$"
      ],
      "text/plain": [
       "<Quantity(10.0, 'centimeter / kilometer')>"
      ]
     },
     "execution_count": 4,
     "metadata": {},
     "output_type": "execute_result"
    }
   ],
   "source": [
    "Quantity(10.0, ur.cm/ur.km)"
   ]
  },
  {
   "cell_type": "markdown",
   "metadata": {},
   "source": [
    "or may be (?) simpler,"
   ]
  },
  {
   "cell_type": "code",
   "execution_count": 5,
   "metadata": {},
   "outputs": [
    {
     "data": {
      "text/html": [
       "10.0 m.V<sup>-1</sup>.g<sup>-1</sup>"
      ],
      "text/latex": [
       "$10.0\\ \\mathrm{m} \\cdot \\mathrm{V}^{-1} \\cdot \\mathrm{g}^{-1}$"
      ],
      "text/plain": [
       "<Quantity(10.0, 'meter / gram / volt')>"
      ]
     },
     "execution_count": 5,
     "metadata": {},
     "output_type": "execute_result"
    }
   ],
   "source": [
    "10.0 * ur.meter/ur.gram/ur.volt"
   ]
  },
  {
   "cell_type": "markdown",
   "metadata": {},
   "source": [
    "`ur` stands for **unit registry**, which handle many type of units\n",
    "(and conversion between them)"
   ]
  },
  {
   "cell_type": "markdown",
   "metadata": {},
   "source": [
    "### Do arithmetics with units"
   ]
  },
  {
   "cell_type": "code",
   "execution_count": 6,
   "metadata": {},
   "outputs": [
    {
     "data": {
      "text/html": [
       "200.0 km.hr<sup>-1</sup>"
      ],
      "text/latex": [
       "$200.0\\ \\mathrm{km} \\cdot \\mathrm{hr}^{-1}$"
      ],
      "text/plain": [
       "<Quantity(200.0, 'kilometer / hour')>"
      ]
     },
     "execution_count": 6,
     "metadata": {},
     "output_type": "execute_result"
    }
   ],
   "source": [
    "a = 900 * ur.km\n",
    "b = 4.5 * ur.hours\n",
    "a/b"
   ]
  },
  {
   "cell_type": "markdown",
   "metadata": {},
   "source": [
    "Such calculations can also be done using the following syntax, using a string expression"
   ]
  },
  {
   "cell_type": "code",
   "execution_count": 7,
   "metadata": {},
   "outputs": [
    {
     "data": {
      "text/html": [
       "112.5 km.hr<sup>-1</sup>"
      ],
      "text/latex": [
       "$112.5\\ \\mathrm{km} \\cdot \\mathrm{hr}^{-1}$"
      ],
      "text/plain": [
       "<Quantity(112.5, 'kilometer / hour')>"
      ]
     },
     "execution_count": 7,
     "metadata": {},
     "output_type": "execute_result"
    }
   ],
   "source": [
    "Quantity(\"900 km / (8 hours)\")"
   ]
  },
  {
   "cell_type": "markdown",
   "metadata": {},
   "source": [
    "### Convert between units"
   ]
  },
  {
   "cell_type": "code",
   "execution_count": 8,
   "metadata": {},
   "outputs": [
    {
     "data": {
      "text/html": [
       "5555.555555555556 cm.s<sup>-1</sup>"
      ],
      "text/latex": [
       "$5555.555555555556\\ \\mathrm{cm} \\cdot \\mathrm{s}^{-1}$"
      ],
      "text/plain": [
       "<Quantity(5555.555555555556, 'centimeter / second')>"
      ]
     },
     "execution_count": 8,
     "metadata": {},
     "output_type": "execute_result"
    }
   ],
   "source": [
    "c = a/b\n",
    "c.to('cm/s')"
   ]
  },
  {
   "cell_type": "markdown",
   "metadata": {},
   "source": [
    "We can make the conversion *inplace* using *ito* instead of *to*"
   ]
  },
  {
   "cell_type": "code",
   "execution_count": 9,
   "metadata": {},
   "outputs": [
    {
     "data": {
      "text/html": [
       "55.55555555555556 m.s<sup>-1</sup>"
      ],
      "text/latex": [
       "$55.55555555555556\\ \\mathrm{m} \\cdot \\mathrm{s}^{-1}$"
      ],
      "text/plain": [
       "<Quantity(55.55555555555556, 'meter / second')>"
      ]
     },
     "execution_count": 9,
     "metadata": {},
     "output_type": "execute_result"
    }
   ],
   "source": [
    "c.ito('m/s')\n",
    "c"
   ]
  },
  {
   "cell_type": "markdown",
   "metadata": {},
   "source": [
    "### Do math operations with consistent units"
   ]
  },
  {
   "cell_type": "code",
   "execution_count": 10,
   "metadata": {},
   "outputs": [
    {
     "data": {
      "text/html": [
       "-0.5440211108893699 dimensionless"
      ],
      "text/latex": [
       "$-0.5440211108893699\\ \\mathrm{dimensionless}$"
      ],
      "text/plain": [
       "<Quantity(-0.5440211108893699, 'dimensionless')>"
      ]
     },
     "execution_count": 10,
     "metadata": {},
     "output_type": "execute_result"
    }
   ],
   "source": [
    "x = 10 * ur.radians\n",
    "np.sin(x)"
   ]
  },
  {
   "cell_type": "markdown",
   "metadata": {},
   "source": [
    "Consistency of the units are checked!"
   ]
  },
  {
   "cell_type": "code",
   "execution_count": 11,
   "metadata": {},
   "outputs": [
    {
     "data": {
      "text/html": [
       "3.1622776601683795 m<sup>0.5</sup>"
      ],
      "text/latex": [
       "$3.1622776601683795\\ \\mathrm{m}^{0.5}$"
      ],
      "text/plain": [
       "<Quantity(3.1622776601683795, 'meter ** 0.5')>"
      ]
     },
     "execution_count": 11,
     "metadata": {},
     "output_type": "execute_result"
    }
   ],
   "source": [
    "x = 10 * ur.meters\n",
    "np.sqrt(x)"
   ]
  },
  {
   "cell_type": "markdown",
   "metadata": {},
   "source": [
    "but this is wrong..."
   ]
  },
  {
   "cell_type": "code",
   "execution_count": 12,
   "metadata": {},
   "outputs": [
    {
     "name": "stderr",
     "output_type": "stream",
     "text": [
      " ERROR | Cannot convert from 'meter' to 'radian'\n"
     ]
    }
   ],
   "source": [
    "x = 10 * ur.meters\n",
    "try:\n",
    "    np.cos(x)\n",
    "except DimensionalityError as e:\n",
    "    log.error(e)"
   ]
  },
  {
   "cell_type": "markdown",
   "metadata": {},
   "source": [
    "Units can be set for NDDataset data and/or Coordinates"
   ]
  },
  {
   "cell_type": "code",
   "execution_count": 13,
   "metadata": {},
   "outputs": [
    {
     "data": {
      "text/html": [
       "<table style='width:100%'>\n",
       "<tr style='border: 1px solid lightgray;'><td style='padding-right:5px; width:100px'><strong>Name/Id</strong></td><td style='text-align:left'>50c7424c</td><tr>\n",
       "<tr style='border: 1px solid lightgray;'><td style='padding-right:5px; width:100px'><strong>Author</strong></td><td style='text-align:left'>christian@MacBook-Pro-de-Christian.local</td><tr>\n",
       "<tr style='border: 1px solid lightgray;'><td style='padding-right:5px; width:100px'><strong>Created</strong></td><td style='text-align:left'>2017-11-18 11:50:39.283791</td><tr>\n",
       "<tr style='border: 1px solid lightgray;'><td style='padding-right:5px; width:100px'><strong>Last Modified</strong></td><td style='text-align:left'>2017-11-18 11:50:39.304720</td><tr>\n",
       "<tr style='border: 1px solid lightgray;'><td style='padding-right:5px; width:100px'><strong>Description</strong></td><td style='text-align:left'></td><tr>\n",
       "<tr style='border: 1px solid lightgray;'><td style='padding-right:5px; width:100px'><strong>data</strong></td><td style='text-align:left'><table style='width:100%'>\n",
       "<tr style='border: 1px solid lightgray;'><td style='padding-right:5px; width:100px'><strong>Title</strong></td><td style='text-align:left'>concentration</td><tr>\n",
       "<tr style='border: 1px solid lightgray;'><td style='padding-right:5px; width:100px'><strong>Size</strong></td><td style='text-align:left'>3</td><tr>\n",
       "<tr style='border: 1px solid lightgray;'><td style='padding-right:5px; width:100px'><strong>Values</strong></td><td style='text-align:left'>[   1.000    2.000    3.000] g.cm<sup>-3</sup><br/</td><tr>\n",
       "</table>\n",
       "</td><tr>\n",
       "</table><br/>\n"
      ],
      "text/plain": [
       "NDDataset: [   1.000,    2.000,    3.000] g.cm^-3"
      ]
     },
     "execution_count": 13,
     "metadata": {},
     "output_type": "execute_result"
    }
   ],
   "source": [
    "ds = NDDataset([1., 2., 3.], units='g/cm^3', title='concentration')\n",
    "ds"
   ]
  },
  {
   "cell_type": "code",
   "execution_count": 14,
   "metadata": {},
   "outputs": [
    {
     "data": {
      "text/html": [
       "<table style='width:100%'>\n",
       "<tr style='border: 1px solid lightgray;'><td style='padding-right:5px; width:100px'><strong>Name/Id</strong></td><td style='text-align:left'>50c7424c</td><tr>\n",
       "<tr style='border: 1px solid lightgray;'><td style='padding-right:5px; width:100px'><strong>Author</strong></td><td style='text-align:left'>christian@MacBook-Pro-de-Christian.local</td><tr>\n",
       "<tr style='border: 1px solid lightgray;'><td style='padding-right:5px; width:100px'><strong>Created</strong></td><td style='text-align:left'>2017-11-18 11:50:39.283791</td><tr>\n",
       "<tr style='border: 1px solid lightgray;'><td style='padding-right:5px; width:100px'><strong>Last Modified</strong></td><td style='text-align:left'>2017-11-18 11:50:39.318773</td><tr>\n",
       "<tr style='border: 1px solid lightgray;'><td style='padding-right:5px; width:100px'><strong>Description</strong></td><td style='text-align:left'></td><tr>\n",
       "<tr style='border: 1px solid lightgray;'><td style='padding-right:5px; width:100px'><strong>data</strong></td><td style='text-align:left'><table style='width:100%'>\n",
       "<tr style='border: 1px solid lightgray;'><td style='padding-right:5px; width:100px'><strong>Title</strong></td><td style='text-align:left'>concentration</td><tr>\n",
       "<tr style='border: 1px solid lightgray;'><td style='padding-right:5px; width:100px'><strong>Size</strong></td><td style='text-align:left'>3</td><tr>\n",
       "<tr style='border: 1px solid lightgray;'><td style='padding-right:5px; width:100px'><strong>Values</strong></td><td style='text-align:left'>[1000.000 2000.000 3000.000] kg.m<sup>-3</sup><br/</td><tr>\n",
       "</table>\n",
       "</td><tr>\n",
       "</table><br/>\n"
      ],
      "text/plain": [
       "NDDataset: [1000.000, 2000.000, 3000.000] kg.m^-3"
      ]
     },
     "execution_count": 14,
     "metadata": {},
     "output_type": "execute_result"
    }
   ],
   "source": [
    "ds.to('kg/m^3')"
   ]
  },
  {
   "cell_type": "markdown",
   "metadata": {},
   "source": [
    "One can do transparent calculation using the units"
   ]
  },
  {
   "cell_type": "code",
   "execution_count": 15,
   "metadata": {},
   "outputs": [
    {
     "data": {
      "text/html": [
       "<table style='width:100%'>\n",
       "<tr style='border: 1px solid lightgray;'><td style='padding-right:5px; width:100px'><strong>Name/Id</strong></td><td style='text-align:left'>50d0f1f4</td><tr>\n",
       "<tr style='border: 1px solid lightgray;'><td style='padding-right:5px; width:100px'><strong>Author</strong></td><td style='text-align:left'>christian@MacBook-Pro-de-Christian.local</td><tr>\n",
       "<tr style='border: 1px solid lightgray;'><td style='padding-right:5px; width:100px'><strong>Created</strong></td><td style='text-align:left'>2017-11-18 11:50:39.347647</td><tr>\n",
       "<tr style='border: 1px solid lightgray;'><td style='padding-right:5px; width:100px'><strong>Last Modified</strong></td><td style='text-align:left'>2017-11-18 11:50:39.349121</td><tr>\n",
       "<tr style='border: 1px solid lightgray;'><td style='padding-right:5px; width:100px'><strong>Description</strong></td><td style='text-align:left'></td><tr>\n",
       "<tr style='border: 1px solid lightgray;'><td style='padding-right:5px; width:100px'><strong>History</strong></td><td style='text-align:left'>binary operation mul with `2 meter ** 3` has been performed</td><tr>\n",
       "<tr style='border: 1px solid lightgray;'><td style='padding-right:5px; width:100px'><strong>data</strong></td><td style='text-align:left'><table style='width:100%'>\n",
       "<tr style='border: 1px solid lightgray;'><td style='padding-right:5px; width:100px'><strong>Title</strong></td><td style='text-align:left'>concentration</td><tr>\n",
       "<tr style='border: 1px solid lightgray;'><td style='padding-right:5px; width:100px'><strong>Size</strong></td><td style='text-align:left'>3</td><tr>\n",
       "<tr style='border: 1px solid lightgray;'><td style='padding-right:5px; width:100px'><strong>Values</strong></td><td style='text-align:left'>[2000.000 4000.000 6000.000] kg<br/</td><tr>\n",
       "</table>\n",
       "</td><tr>\n",
       "</table><br/>\n"
      ],
      "text/plain": [
       "NDDataset: [2000.000, 4000.000, 6000.000] kg"
      ]
     },
     "execution_count": 15,
     "metadata": {},
     "output_type": "execute_result"
    }
   ],
   "source": [
    "volume = Quantity(\"2 m^3\")\n",
    "ds1 = ds * volume\n",
    "ds1"
   ]
  },
  {
   "cell_type": "code",
   "execution_count": 16,
   "metadata": {},
   "outputs": [
    {
     "data": {
      "text/html": [
       "<table style='width:100%'>\n",
       "<tr style='border: 1px solid lightgray;'><td style='padding-right:5px; width:100px'><strong>Name/Id</strong></td><td style='text-align:left'>50d58190</td><tr>\n",
       "<tr style='border: 1px solid lightgray;'><td style='padding-right:5px; width:100px'><strong>Author</strong></td><td style='text-align:left'>christian@MacBook-Pro-de-Christian.local</td><tr>\n",
       "<tr style='border: 1px solid lightgray;'><td style='padding-right:5px; width:100px'><strong>Created</strong></td><td style='text-align:left'>2017-11-18 11:50:39.377540</td><tr>\n",
       "<tr style='border: 1px solid lightgray;'><td style='padding-right:5px; width:100px'><strong>Last Modified</strong></td><td style='text-align:left'>2017-11-18 11:50:39.379590</td><tr>\n",
       "<tr style='border: 1px solid lightgray;'><td style='padding-right:5px; width:100px'><strong>Description</strong></td><td style='text-align:left'></td><tr>\n",
       "<tr style='border: 1px solid lightgray;'><td style='padding-right:5px; width:100px'><strong>History</strong></td><td style='text-align:left'>binary operation mul with `2 meter ** 3` has been performed<br/>binary operation truediv with `50c7424c` has been performed</td><tr>\n",
       "<tr style='border: 1px solid lightgray;'><td style='padding-right:5px; width:100px'><strong>data</strong></td><td style='text-align:left'><table style='width:100%'>\n",
       "<tr style='border: 1px solid lightgray;'><td style='padding-right:5px; width:100px'><strong>Title</strong></td><td style='text-align:left'>concentration</td><tr>\n",
       "<tr style='border: 1px solid lightgray;'><td style='padding-right:5px; width:100px'><strong>Size</strong></td><td style='text-align:left'>3</td><tr>\n",
       "<tr style='border: 1px solid lightgray;'><td style='padding-right:5px; width:100px'><strong>Values</strong></td><td style='text-align:left'>[   2.000    2.000    2.000] m<sup>3</sup><br/</td><tr>\n",
       "</table>\n",
       "</td><tr>\n",
       "</table><br/>\n"
      ],
      "text/plain": [
       "NDDataset: [   2.000,    2.000,    2.000] m^3"
      ]
     },
     "execution_count": 16,
     "metadata": {},
     "output_type": "execute_result"
    }
   ],
   "source": [
    "ds1/ds"
   ]
  },
  {
   "cell_type": "markdown",
   "metadata": {},
   "source": [
    "## Uncertainties\n",
    "\n",
    "Spectrochempy can do calculations with uncertainties (and units).\n",
    "\n",
    "A quantity, with an `uncertainty` is called a **Measurement** .\n",
    "\n",
    "Use one of the following expression to create such `Measurement`:"
   ]
  },
  {
   "cell_type": "code",
   "execution_count": 17,
   "metadata": {},
   "outputs": [
    {
     "data": {
      "text/html": [
       "10.00 &plusmn; 0.20 cm"
      ],
      "text/latex": [
       "$\\left(10.00 \\pm 0.20\\right)\\ \\mathrm{cm}$"
      ],
      "text/plain": [
       "<Measurement(10.00, 0.20, centimeter)>"
      ]
     },
     "execution_count": 17,
     "metadata": {},
     "output_type": "execute_result"
    }
   ],
   "source": [
    "Measurement(10.0, .2, 'cm') "
   ]
  },
  {
   "cell_type": "code",
   "execution_count": 18,
   "metadata": {},
   "outputs": [
    {
     "data": {
      "text/html": [
       "10.00 &plusmn; 0.20 cm"
      ],
      "text/latex": [
       "$\\left(10.00 \\pm 0.20\\right)\\ \\mathrm{cm}$"
      ],
      "text/plain": [
       "<Measurement(10.00, 0.20, centimeter)>"
      ]
     },
     "execution_count": 18,
     "metadata": {},
     "output_type": "execute_result"
    }
   ],
   "source": [
    "Quantity(10.0, 'cm').plus_minus(.2)   "
   ]
  },
  {
   "cell_type": "markdown",
   "metadata": {
    "collapsed": true
   },
   "source": [
    "Dataset can also have uncertainties"
   ]
  },
  {
   "cell_type": "code",
   "execution_count": 24,
   "metadata": {},
   "outputs": [
    {
     "data": {
      "text/html": [
       "<table style='width:100%'>\n",
       "<tr style='border: 1px solid lightgray;'><td style='padding-right:5px; width:100px'><strong>Name/Id</strong></td><td style='text-align:left'>50c7424c</td><tr>\n",
       "<tr style='border: 1px solid lightgray;'><td style='padding-right:5px; width:100px'><strong>Author</strong></td><td style='text-align:left'>christian@MacBook-Pro-de-Christian.local</td><tr>\n",
       "<tr style='border: 1px solid lightgray;'><td style='padding-right:5px; width:100px'><strong>Created</strong></td><td style='text-align:left'>2017-11-18 11:50:39.283791</td><tr>\n",
       "<tr style='border: 1px solid lightgray;'><td style='padding-right:5px; width:100px'><strong>Last Modified</strong></td><td style='text-align:left'>2017-11-18 11:51:46.187171</td><tr>\n",
       "<tr style='border: 1px solid lightgray;'><td style='padding-right:5px; width:100px'><strong>Description</strong></td><td style='text-align:left'></td><tr>\n",
       "<tr style='border: 1px solid lightgray;'><td style='padding-right:5px; width:100px'><strong>data</strong></td><td style='text-align:left'><table style='width:100%'>\n",
       "<tr style='border: 1px solid lightgray;'><td style='padding-right:5px; width:100px'><strong>Title</strong></td><td style='text-align:left'>concentration</td><tr>\n",
       "<tr style='border: 1px solid lightgray;'><td style='padding-right:5px; width:100px'><strong>Size</strong></td><td style='text-align:left'>3</td><tr>\n",
       "<tr style='border: 1px solid lightgray;'><td style='padding-right:5px; width:100px'><strong>Values</strong></td><td style='text-align:left'>[1000.000+/-0.100 2000.000+/-0.100 3000.000+/-0.100] kg.m<sup>-3</sup><br/</td><tr>\n",
       "</table>\n",
       "</td><tr>\n",
       "</table><br/>\n"
      ],
      "text/plain": [
       "NDDataset: [1000.000+/-0.100, 2000.000+/-0.100, 3000.000+/-0.100] kg.m^-3"
      ]
     },
     "execution_count": 24,
     "metadata": {},
     "output_type": "execute_result"
    }
   ],
   "source": [
    "ds.plus_minus(.1)\n",
    "ds"
   ]
  },
  {
   "cell_type": "code",
   "execution_count": null,
   "metadata": {
    "collapsed": true
   },
   "outputs": [],
   "source": []
  }
 ],
 "metadata": {
  "kernelspec": {
   "display_name": "Python [conda env:scp36]",
   "language": "python",
   "name": "conda-env-scp36-py"
  },
  "language_info": {
   "codemirror_mode": {
    "name": "ipython",
    "version": 3
   },
   "file_extension": ".py",
   "mimetype": "text/x-python",
   "name": "python",
   "nbconvert_exporter": "python",
   "pygments_lexer": "ipython3",
   "version": "3.6.1"
  },
  "toc": {
   "toc_cell": true,
   "toc_number_sections": false,
   "toc_threshold": 6,
   "toc_window_display": false
  }
 },
 "nbformat": 4,
 "nbformat_minor": 1
}
