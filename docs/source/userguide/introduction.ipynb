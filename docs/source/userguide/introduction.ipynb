{
 "cells": [
  {
   "cell_type": "markdown",
   "metadata": {},
   "source": [
    "## Getting Started\n",
    "\n",
    "<div class=\"alert alert-info\">\n",
    "\n",
    "**Note:** We assume the spectrochemistry package has been properly installed - if not please go to ``install``\n",
    "\n",
    "</div>"
   ]
  },
  {
   "cell_type": "markdown",
   "metadata": {},
   "source": [
    "Before using the package, we need to load the **API (Application Programming Interface)**\n",
    "\n",
    "The simplest way is to import all the objects and methods at once into your python namespace."
   ]
  },
  {
   "cell_type": "code",
   "execution_count": 1,
   "metadata": {},
   "outputs": [
    {
     "name": "stdout",
     "output_type": "stream",
     "text": [
      "\n",
      "        SpectroChemPy's API\n",
      "        Version   : 0.1a2.post53\n",
      "        Copyright : 2014-2017 - LCS (Laboratory for Catalysis and Spectrochempy)\n",
      "            \n"
     ]
    }
   ],
   "source": [
    "from spectrochempy.api import *"
   ]
  },
  {
   "cell_type": "markdown",
   "metadata": {},
   "source": [
    "but you can also import method only when it is needed.\n",
    "\n",
    "For instances, one object very usefull in the following will be a nd-dataset to contain some data. Instead of issuing the previous command, one can do:"
   ]
  },
  {
   "cell_type": "code",
   "execution_count": 2,
   "metadata": {
    "collapsed": true
   },
   "outputs": [],
   "source": [
    "from spectrochempy.api import NDDataset\n",
    "mydataset = NDDataset()"
   ]
  },
  {
   "cell_type": "markdown",
   "metadata": {},
   "source": [
    "In the second line we have defined a new empty instance of **NDDataset**, wich will be further use to load our data."
   ]
  },
  {
   "cell_type": "markdown",
   "metadata": {},
   "source": [
    "Another way to proceed is to not mix the API namespace with your normal python. \n",
    "\n",
    "In this case, you can simply do:\n"
   ]
  },
  {
   "cell_type": "code",
   "execution_count": 3,
   "metadata": {
    "collapsed": true
   },
   "outputs": [],
   "source": [
    "import spectrochempy.api as scp\n",
    "mydataset = scp.NDDataset()"
   ]
  },
  {
   "cell_type": "markdown",
   "metadata": {},
   "source": [
    "As such, the above command ``from spectrochempy import *``, lead to import of several objects and methods in the namespace.\n",
    "\n",
    "To get a list of all available methods or objects, type the following command:"
   ]
  },
  {
   "cell_type": "code",
   "execution_count": 4,
   "metadata": {},
   "outputs": [
    {
     "data": {
      "text/plain": [
       "['APIref',\n",
       " 'Axes',\n",
       " 'Axis',\n",
       " 'AxisError',\n",
       " 'AxisError',\n",
       " 'AxisRange',\n",
       " 'AxisRangeError',\n",
       " 'AxisWarning',\n",
       " 'CRITICAL',\n",
       " 'DEBUG',\n",
       " 'DimensionalityError',\n",
       " 'ERROR',\n",
       " 'Efa',\n",
       " 'Fit',\n",
       " 'FitParameters',\n",
       " 'INFO',\n",
       " 'Iris',\n",
       " 'Isotopes',\n",
       " 'Lsqnonneg',\n",
       " 'Lstsq',\n",
       " 'McrAls',\n",
       " 'Measurement',\n",
       " 'Meta',\n",
       " 'NDArray',\n",
       " 'NDDataset',\n",
       " 'NDDatasetError',\n",
       " 'NDDatasetWarning',\n",
       " 'NDIO',\n",
       " 'NDMath',\n",
       " 'Nnmf',\n",
       " 'ParameterScript',\n",
       " 'Pca',\n",
       " 'Quantity',\n",
       " 'Svd',\n",
       " 'Unit',\n",
       " 'WARN',\n",
       " 'abs',\n",
       " 'abscplx',\n",
       " 'add',\n",
       " 'add_ri',\n",
       " 'align',\n",
       " 'apodize',\n",
       " 'append_imag',\n",
       " 'autosub',\n",
       " 'available_styles',\n",
       " 'basecor',\n",
       " 'bswap',\n",
       " 'byte_swap',\n",
       " 'center',\n",
       " 'coad',\n",
       " 'coadd',\n",
       " 'concatenate',\n",
       " 'conj',\n",
       " 'conv',\n",
       " 'convolute',\n",
       " 'copyright',\n",
       " 'corr',\n",
       " 'correlate',\n",
       " 'cs',\n",
       " 'curfig',\n",
       " 'data',\n",
       " 'decode_States',\n",
       " 'di',\n",
       " 'dx',\n",
       " 'em',\n",
       " 'exchange_lr',\n",
       " 'exlr',\n",
       " 'ext',\n",
       " 'ext_left',\n",
       " 'ext_mid',\n",
       " 'ext_right',\n",
       " 'fft',\n",
       " 'fft_norm',\n",
       " 'fft_positive',\n",
       " 'figure',\n",
       " 'filter_amax',\n",
       " 'filter_amin',\n",
       " 'filter_avg',\n",
       " 'filter_dev',\n",
       " 'filter_generic',\n",
       " 'filter_max',\n",
       " 'filter_median',\n",
       " 'filter_min',\n",
       " 'filter_percentile',\n",
       " 'filter_range',\n",
       " 'filter_rank',\n",
       " 'filter_sum',\n",
       " 'fsh',\n",
       " 'fsh2',\n",
       " 'gm',\n",
       " 'gmb',\n",
       " 'ha',\n",
       " 'ht',\n",
       " 'ifft',\n",
       " 'ifft_norm',\n",
       " 'ifft_positive',\n",
       " 'imag',\n",
       " 'integ',\n",
       " 'interleave_complex',\n",
       " 'interpolate',\n",
       " 'irft',\n",
       " 'jmod',\n",
       " 'list_data',\n",
       " 'load',\n",
       " 'log',\n",
       " 'log_level',\n",
       " 'ls',\n",
       " 'mc',\n",
       " 'mc_pow',\n",
       " 'mir_center',\n",
       " 'mir_center_onepoint',\n",
       " 'mir_left',\n",
       " 'mir_right',\n",
       " 'mult',\n",
       " 'neg_all',\n",
       " 'neg_alt',\n",
       " 'neg_edges',\n",
       " 'neg_even',\n",
       " 'neg_imag',\n",
       " 'neg_left',\n",
       " 'neg_middle',\n",
       " 'neg_odd',\n",
       " 'neg_real',\n",
       " 'neg_right',\n",
       " 'np',\n",
       " 'optimize',\n",
       " 'options',\n",
       " 'plot',\n",
       " 'plot_1D',\n",
       " 'plot_2D',\n",
       " 'plot_3D',\n",
       " 'plot_image',\n",
       " 'plot_map',\n",
       " 'plot_stack',\n",
       " 'plotoptions',\n",
       " 'plt',\n",
       " 'ps',\n",
       " 'ps_exp',\n",
       " 'qart',\n",
       " 'qart_auto',\n",
       " 'qmix',\n",
       " 'raises',\n",
       " 'read',\n",
       " 'read_bruker_nmr',\n",
       " 'read_dso',\n",
       " 'read_jdx',\n",
       " 'read_omnic',\n",
       " 'real',\n",
       " 'rev',\n",
       " 'rft',\n",
       " 'ri2c',\n",
       " 'ri2rr',\n",
       " 'roll',\n",
       " 'rolr',\n",
       " 'rotate_lr',\n",
       " 'rr2ri',\n",
       " 'rs',\n",
       " 'scipy',\n",
       " 'scpadapter',\n",
       " 'set_cmplex',\n",
       " 'set_constant',\n",
       " 'set_imag',\n",
       " 'set_nmr_context',\n",
       " 'set_real',\n",
       " 'show',\n",
       " 'sign',\n",
       " 'sine',\n",
       " 'skl',\n",
       " 'smo',\n",
       " 'sort',\n",
       " 'squeeze',\n",
       " 'swap',\n",
       " 'swap_ri',\n",
       " 'swapaxes',\n",
       " 'sym',\n",
       " 'thres',\n",
       " 'tm',\n",
       " 'tp',\n",
       " 'tp_hyper',\n",
       " 'transpose',\n",
       " 'tri',\n",
       " 'unappend_imag',\n",
       " 'unpack_complex',\n",
       " 'ur',\n",
       " 'version',\n",
       " 'write',\n",
       " 'zd',\n",
       " 'zd_boxcar',\n",
       " 'zd_gaussian',\n",
       " 'zd_sinebell',\n",
       " 'zd_triangle',\n",
       " 'zf',\n",
       " 'zf_auto',\n",
       " 'zf_double',\n",
       " 'zf_inter']"
      ]
     },
     "execution_count": 4,
     "metadata": {},
     "output_type": "execute_result"
    }
   ],
   "source": [
    "APIref"
   ]
  },
  {
   "cell_type": "markdown",
   "metadata": {},
   "source": [
    "If something goes wrong with during a cell execution,  a ``traceback`` is displayed.\n",
    "\n",
    "For instance, the object or method ``toto``does not exist in the API, so an error (**ImportError**) is generated when trying to import this from the API. Here we catch the error in the context raises or more traditionnaly with a try except structure"
   ]
  },
  {
   "cell_type": "code",
   "execution_count": 5,
   "metadata": {
    "collapsed": true
   },
   "outputs": [],
   "source": [
    "with raises(ImportError):\n",
    "    from spectrochempy import toto"
   ]
  },
  {
   "cell_type": "code",
   "execution_count": 6,
   "metadata": {},
   "outputs": [
    {
     "name": "stderr",
     "output_type": "stream",
     "text": [
      " ERROR | OOPS, THAT'S AN IMPORT ERROR!\n"
     ]
    }
   ],
   "source": [
    "try:\n",
    "    from spectrochempy import toto\n",
    "except ImportError:\n",
    "    log.error(\"OOPS, THAT'S AN IMPORT ERROR!\")"
   ]
  },
  {
   "cell_type": "markdown",
   "metadata": {},
   "source": [
    "The error will stop the execution if not catched. The message that would have been displayed without the catching, can be displayed after all with the magic function %tb."
   ]
  },
  {
   "cell_type": "markdown",
   "metadata": {},
   "source": [
    "## Configuration\n",
    "\n",
    "Many options of the API can be set up"
   ]
  },
  {
   "cell_type": "code",
   "execution_count": 7,
   "metadata": {
    "collapsed": true
   },
   "outputs": [],
   "source": [
    "options.log_level = INFO"
   ]
  },
  {
   "cell_type": "markdown",
   "metadata": {},
   "source": [
    "In the above cell, we have set the **log** level to display ``info`` messages, such as this one:"
   ]
  },
  {
   "cell_type": "code",
   "execution_count": 8,
   "metadata": {},
   "outputs": [
    {
     "name": "stderr",
     "output_type": "stream",
     "text": [
      " this is an info message!\n"
     ]
    }
   ],
   "source": [
    "log.info('this is an info message!')\n",
    "log.debug('this is a debug message!')"
   ]
  },
  {
   "cell_type": "markdown",
   "metadata": {},
   "source": [
    "Only the info message is displayed, as expected.\n",
    "\n",
    "If we change it to ``DEBUG``, we should get the two messages"
   ]
  },
  {
   "cell_type": "code",
   "execution_count": 9,
   "metadata": {
    "run_control": {
     "frozen": false,
     "read_only": false
    }
   },
   "outputs": [
    {
     "name": "stderr",
     "output_type": "stream",
     "text": [
      "[SpectroChemPy 2017-10-17 19:59:56] changed default loglevel to 10\n",
      "[SpectroChemPy 2017-10-17 19:59:56] this is an info message!\n",
      "[SpectroChemPy 2017-10-17 19:59:56] this is a debug message!\n"
     ]
    }
   ],
   "source": [
    "options.log_level = DEBUG\n",
    "\n",
    "log.info('this is an info message!')\n",
    "log.debug('this is a debug message!')"
   ]
  },
  {
   "cell_type": "markdown",
   "metadata": {},
   "source": [
    "Let's now come back to a standard level of message for the rest of the Tutorial."
   ]
  },
  {
   "cell_type": "code",
   "execution_count": 10,
   "metadata": {},
   "outputs": [
    {
     "name": "stderr",
     "output_type": "stream",
     "text": [
      " WARNING | this is a warning message!\n"
     ]
    }
   ],
   "source": [
    "options.log_level = WARN\n",
    "\n",
    "log.info('this is an info message!')\n",
    "log.debug('this is a debug message!')\n",
    "log.warning('this is a warning message!')"
   ]
  },
  {
   "cell_type": "markdown",
   "metadata": {},
   "source": [
    "## Access to scientific libraries"
   ]
  },
  {
   "cell_type": "markdown",
   "metadata": {},
   "source": [
    "Several libraries are imported with **SpectroChemPy** (so you don't need to re-import them):\n",
    "\n",
    "- **np** :  This is actually the **`numpy`** library, to perform numerical calculation on nD arrays. \n",
    "- **plt** : This is the **`matplotlib`** library, to allow plotting data \n",
    "\n",
    "Optionally, **scipy** and **sympy** can be available, if **SpectroChempy** can find these libraries installed on your system."
   ]
  },
  {
   "cell_type": "code",
   "execution_count": 11,
   "metadata": {},
   "outputs": [
    {
     "data": {
      "application/javascript": [
       "/* Put everything inside the global mpl namespace */\n",
       "window.mpl = {};\n",
       "\n",
       "\n",
       "mpl.get_websocket_type = function() {\n",
       "    if (typeof(WebSocket) !== 'undefined') {\n",
       "        return WebSocket;\n",
       "    } else if (typeof(MozWebSocket) !== 'undefined') {\n",
       "        return MozWebSocket;\n",
       "    } else {\n",
       "        alert('Your browser does not have WebSocket support.' +\n",
       "              'Please try Chrome, Safari or Firefox ≥ 6. ' +\n",
       "              'Firefox 4 and 5 are also supported but you ' +\n",
       "              'have to enable WebSockets in about:config.');\n",
       "    };\n",
       "}\n",
       "\n",
       "mpl.figure = function(figure_id, websocket, ondownload, parent_element) {\n",
       "    this.id = figure_id;\n",
       "\n",
       "    this.ws = websocket;\n",
       "\n",
       "    this.supports_binary = (this.ws.binaryType != undefined);\n",
       "\n",
       "    if (!this.supports_binary) {\n",
       "        var warnings = document.getElementById(\"mpl-warnings\");\n",
       "        if (warnings) {\n",
       "            warnings.style.display = 'block';\n",
       "            warnings.textContent = (\n",
       "                \"This browser does not support binary websocket messages. \" +\n",
       "                    \"Performance may be slow.\");\n",
       "        }\n",
       "    }\n",
       "\n",
       "    this.imageObj = new Image();\n",
       "\n",
       "    this.context = undefined;\n",
       "    this.message = undefined;\n",
       "    this.canvas = undefined;\n",
       "    this.rubberband_canvas = undefined;\n",
       "    this.rubberband_context = undefined;\n",
       "    this.format_dropdown = undefined;\n",
       "\n",
       "    this.image_mode = 'full';\n",
       "\n",
       "    this.root = $('<div/>');\n",
       "    this._root_extra_style(this.root)\n",
       "    this.root.attr('style', 'display: inline-block');\n",
       "\n",
       "    $(parent_element).append(this.root);\n",
       "\n",
       "    this._init_header(this);\n",
       "    this._init_canvas(this);\n",
       "    this._init_toolbar(this);\n",
       "\n",
       "    var fig = this;\n",
       "\n",
       "    this.waiting = false;\n",
       "\n",
       "    this.ws.onopen =  function () {\n",
       "            fig.send_message(\"supports_binary\", {value: fig.supports_binary});\n",
       "            fig.send_message(\"send_image_mode\", {});\n",
       "            if (mpl.ratio != 1) {\n",
       "                fig.send_message(\"set_dpi_ratio\", {'dpi_ratio': mpl.ratio});\n",
       "            }\n",
       "            fig.send_message(\"refresh\", {});\n",
       "        }\n",
       "\n",
       "    this.imageObj.onload = function() {\n",
       "            if (fig.image_mode == 'full') {\n",
       "                // Full images could contain transparency (where diff images\n",
       "                // almost always do), so we need to clear the canvas so that\n",
       "                // there is no ghosting.\n",
       "                fig.context.clearRect(0, 0, fig.canvas.width, fig.canvas.height);\n",
       "            }\n",
       "            fig.context.drawImage(fig.imageObj, 0, 0);\n",
       "        };\n",
       "\n",
       "    this.imageObj.onunload = function() {\n",
       "        this.ws.close();\n",
       "    }\n",
       "\n",
       "    this.ws.onmessage = this._make_on_message_function(this);\n",
       "\n",
       "    this.ondownload = ondownload;\n",
       "}\n",
       "\n",
       "mpl.figure.prototype._init_header = function() {\n",
       "    var titlebar = $(\n",
       "        '<div class=\"ui-dialog-titlebar ui-widget-header ui-corner-all ' +\n",
       "        'ui-helper-clearfix\"/>');\n",
       "    var titletext = $(\n",
       "        '<div class=\"ui-dialog-title\" style=\"width: 100%; ' +\n",
       "        'text-align: center; padding: 3px;\"/>');\n",
       "    titlebar.append(titletext)\n",
       "    this.root.append(titlebar);\n",
       "    this.header = titletext[0];\n",
       "}\n",
       "\n",
       "\n",
       "\n",
       "mpl.figure.prototype._canvas_extra_style = function(canvas_div) {\n",
       "\n",
       "}\n",
       "\n",
       "\n",
       "mpl.figure.prototype._root_extra_style = function(canvas_div) {\n",
       "\n",
       "}\n",
       "\n",
       "mpl.figure.prototype._init_canvas = function() {\n",
       "    var fig = this;\n",
       "\n",
       "    var canvas_div = $('<div/>');\n",
       "\n",
       "    canvas_div.attr('style', 'position: relative; clear: both; outline: 0');\n",
       "\n",
       "    function canvas_keyboard_event(event) {\n",
       "        return fig.key_event(event, event['data']);\n",
       "    }\n",
       "\n",
       "    canvas_div.keydown('key_press', canvas_keyboard_event);\n",
       "    canvas_div.keyup('key_release', canvas_keyboard_event);\n",
       "    this.canvas_div = canvas_div\n",
       "    this._canvas_extra_style(canvas_div)\n",
       "    this.root.append(canvas_div);\n",
       "\n",
       "    var canvas = $('<canvas/>');\n",
       "    canvas.addClass('mpl-canvas');\n",
       "    canvas.attr('style', \"left: 0; top: 0; z-index: 0; outline: 0\")\n",
       "\n",
       "    this.canvas = canvas[0];\n",
       "    this.context = canvas[0].getContext(\"2d\");\n",
       "\n",
       "    var backingStore = this.context.backingStorePixelRatio ||\n",
       "\tthis.context.webkitBackingStorePixelRatio ||\n",
       "\tthis.context.mozBackingStorePixelRatio ||\n",
       "\tthis.context.msBackingStorePixelRatio ||\n",
       "\tthis.context.oBackingStorePixelRatio ||\n",
       "\tthis.context.backingStorePixelRatio || 1;\n",
       "\n",
       "    mpl.ratio = (window.devicePixelRatio || 1) / backingStore;\n",
       "\n",
       "    var rubberband = $('<canvas/>');\n",
       "    rubberband.attr('style', \"position: absolute; left: 0; top: 0; z-index: 1;\")\n",
       "\n",
       "    var pass_mouse_events = true;\n",
       "\n",
       "    canvas_div.resizable({\n",
       "        start: function(event, ui) {\n",
       "            pass_mouse_events = false;\n",
       "        },\n",
       "        resize: function(event, ui) {\n",
       "            fig.request_resize(ui.size.width, ui.size.height);\n",
       "        },\n",
       "        stop: function(event, ui) {\n",
       "            pass_mouse_events = true;\n",
       "            fig.request_resize(ui.size.width, ui.size.height);\n",
       "        },\n",
       "    });\n",
       "\n",
       "    function mouse_event_fn(event) {\n",
       "        if (pass_mouse_events)\n",
       "            return fig.mouse_event(event, event['data']);\n",
       "    }\n",
       "\n",
       "    rubberband.mousedown('button_press', mouse_event_fn);\n",
       "    rubberband.mouseup('button_release', mouse_event_fn);\n",
       "    // Throttle sequential mouse events to 1 every 20ms.\n",
       "    rubberband.mousemove('motion_notify', mouse_event_fn);\n",
       "\n",
       "    rubberband.mouseenter('figure_enter', mouse_event_fn);\n",
       "    rubberband.mouseleave('figure_leave', mouse_event_fn);\n",
       "\n",
       "    canvas_div.on(\"wheel\", function (event) {\n",
       "        event = event.originalEvent;\n",
       "        event['data'] = 'scroll'\n",
       "        if (event.deltaY < 0) {\n",
       "            event.step = 1;\n",
       "        } else {\n",
       "            event.step = -1;\n",
       "        }\n",
       "        mouse_event_fn(event);\n",
       "    });\n",
       "\n",
       "    canvas_div.append(canvas);\n",
       "    canvas_div.append(rubberband);\n",
       "\n",
       "    this.rubberband = rubberband;\n",
       "    this.rubberband_canvas = rubberband[0];\n",
       "    this.rubberband_context = rubberband[0].getContext(\"2d\");\n",
       "    this.rubberband_context.strokeStyle = \"#000000\";\n",
       "\n",
       "    this._resize_canvas = function(width, height) {\n",
       "        // Keep the size of the canvas, canvas container, and rubber band\n",
       "        // canvas in synch.\n",
       "        canvas_div.css('width', width)\n",
       "        canvas_div.css('height', height)\n",
       "\n",
       "        canvas.attr('width', width * mpl.ratio);\n",
       "        canvas.attr('height', height * mpl.ratio);\n",
       "        canvas.attr('style', 'width: ' + width + 'px; height: ' + height + 'px;');\n",
       "\n",
       "        rubberband.attr('width', width);\n",
       "        rubberband.attr('height', height);\n",
       "    }\n",
       "\n",
       "    // Set the figure to an initial 600x600px, this will subsequently be updated\n",
       "    // upon first draw.\n",
       "    this._resize_canvas(600, 600);\n",
       "\n",
       "    // Disable right mouse context menu.\n",
       "    $(this.rubberband_canvas).bind(\"contextmenu\",function(e){\n",
       "        return false;\n",
       "    });\n",
       "\n",
       "    function set_focus () {\n",
       "        canvas.focus();\n",
       "        canvas_div.focus();\n",
       "    }\n",
       "\n",
       "    window.setTimeout(set_focus, 100);\n",
       "}\n",
       "\n",
       "mpl.figure.prototype._init_toolbar = function() {\n",
       "    var fig = this;\n",
       "\n",
       "    var nav_element = $('<div/>')\n",
       "    nav_element.attr('style', 'width: 100%');\n",
       "    this.root.append(nav_element);\n",
       "\n",
       "    // Define a callback function for later on.\n",
       "    function toolbar_event(event) {\n",
       "        return fig.toolbar_button_onclick(event['data']);\n",
       "    }\n",
       "    function toolbar_mouse_event(event) {\n",
       "        return fig.toolbar_button_onmouseover(event['data']);\n",
       "    }\n",
       "\n",
       "    for(var toolbar_ind in mpl.toolbar_items) {\n",
       "        var name = mpl.toolbar_items[toolbar_ind][0];\n",
       "        var tooltip = mpl.toolbar_items[toolbar_ind][1];\n",
       "        var image = mpl.toolbar_items[toolbar_ind][2];\n",
       "        var method_name = mpl.toolbar_items[toolbar_ind][3];\n",
       "\n",
       "        if (!name) {\n",
       "            // put a spacer in here.\n",
       "            continue;\n",
       "        }\n",
       "        var button = $('<button/>');\n",
       "        button.addClass('ui-button ui-widget ui-state-default ui-corner-all ' +\n",
       "                        'ui-button-icon-only');\n",
       "        button.attr('role', 'button');\n",
       "        button.attr('aria-disabled', 'false');\n",
       "        button.click(method_name, toolbar_event);\n",
       "        button.mouseover(tooltip, toolbar_mouse_event);\n",
       "\n",
       "        var icon_img = $('<span/>');\n",
       "        icon_img.addClass('ui-button-icon-primary ui-icon');\n",
       "        icon_img.addClass(image);\n",
       "        icon_img.addClass('ui-corner-all');\n",
       "\n",
       "        var tooltip_span = $('<span/>');\n",
       "        tooltip_span.addClass('ui-button-text');\n",
       "        tooltip_span.html(tooltip);\n",
       "\n",
       "        button.append(icon_img);\n",
       "        button.append(tooltip_span);\n",
       "\n",
       "        nav_element.append(button);\n",
       "    }\n",
       "\n",
       "    var fmt_picker_span = $('<span/>');\n",
       "\n",
       "    var fmt_picker = $('<select/>');\n",
       "    fmt_picker.addClass('mpl-toolbar-option ui-widget ui-widget-content');\n",
       "    fmt_picker_span.append(fmt_picker);\n",
       "    nav_element.append(fmt_picker_span);\n",
       "    this.format_dropdown = fmt_picker[0];\n",
       "\n",
       "    for (var ind in mpl.extensions) {\n",
       "        var fmt = mpl.extensions[ind];\n",
       "        var option = $(\n",
       "            '<option/>', {selected: fmt === mpl.default_extension}).html(fmt);\n",
       "        fmt_picker.append(option)\n",
       "    }\n",
       "\n",
       "    // Add hover states to the ui-buttons\n",
       "    $( \".ui-button\" ).hover(\n",
       "        function() { $(this).addClass(\"ui-state-hover\");},\n",
       "        function() { $(this).removeClass(\"ui-state-hover\");}\n",
       "    );\n",
       "\n",
       "    var status_bar = $('<span class=\"mpl-message\"/>');\n",
       "    nav_element.append(status_bar);\n",
       "    this.message = status_bar[0];\n",
       "}\n",
       "\n",
       "mpl.figure.prototype.request_resize = function(x_pixels, y_pixels) {\n",
       "    // Request matplotlib to resize the figure. Matplotlib will then trigger a resize in the client,\n",
       "    // which will in turn request a refresh of the image.\n",
       "    this.send_message('resize', {'width': x_pixels, 'height': y_pixels});\n",
       "}\n",
       "\n",
       "mpl.figure.prototype.send_message = function(type, properties) {\n",
       "    properties['type'] = type;\n",
       "    properties['figure_id'] = this.id;\n",
       "    this.ws.send(JSON.stringify(properties));\n",
       "}\n",
       "\n",
       "mpl.figure.prototype.send_draw_message = function() {\n",
       "    if (!this.waiting) {\n",
       "        this.waiting = true;\n",
       "        this.ws.send(JSON.stringify({type: \"draw\", figure_id: this.id}));\n",
       "    }\n",
       "}\n",
       "\n",
       "\n",
       "mpl.figure.prototype.handle_save = function(fig, msg) {\n",
       "    var format_dropdown = fig.format_dropdown;\n",
       "    var format = format_dropdown.options[format_dropdown.selectedIndex].value;\n",
       "    fig.ondownload(fig, format);\n",
       "}\n",
       "\n",
       "\n",
       "mpl.figure.prototype.handle_resize = function(fig, msg) {\n",
       "    var size = msg['size'];\n",
       "    if (size[0] != fig.canvas.width || size[1] != fig.canvas.height) {\n",
       "        fig._resize_canvas(size[0], size[1]);\n",
       "        fig.send_message(\"refresh\", {});\n",
       "    };\n",
       "}\n",
       "\n",
       "mpl.figure.prototype.handle_rubberband = function(fig, msg) {\n",
       "    var x0 = msg['x0'] / mpl.ratio;\n",
       "    var y0 = (fig.canvas.height - msg['y0']) / mpl.ratio;\n",
       "    var x1 = msg['x1'] / mpl.ratio;\n",
       "    var y1 = (fig.canvas.height - msg['y1']) / mpl.ratio;\n",
       "    x0 = Math.floor(x0) + 0.5;\n",
       "    y0 = Math.floor(y0) + 0.5;\n",
       "    x1 = Math.floor(x1) + 0.5;\n",
       "    y1 = Math.floor(y1) + 0.5;\n",
       "    var min_x = Math.min(x0, x1);\n",
       "    var min_y = Math.min(y0, y1);\n",
       "    var width = Math.abs(x1 - x0);\n",
       "    var height = Math.abs(y1 - y0);\n",
       "\n",
       "    fig.rubberband_context.clearRect(\n",
       "        0, 0, fig.canvas.width, fig.canvas.height);\n",
       "\n",
       "    fig.rubberband_context.strokeRect(min_x, min_y, width, height);\n",
       "}\n",
       "\n",
       "mpl.figure.prototype.handle_figure_label = function(fig, msg) {\n",
       "    // Updates the figure title.\n",
       "    fig.header.textContent = msg['label'];\n",
       "}\n",
       "\n",
       "mpl.figure.prototype.handle_cursor = function(fig, msg) {\n",
       "    var cursor = msg['cursor'];\n",
       "    switch(cursor)\n",
       "    {\n",
       "    case 0:\n",
       "        cursor = 'pointer';\n",
       "        break;\n",
       "    case 1:\n",
       "        cursor = 'default';\n",
       "        break;\n",
       "    case 2:\n",
       "        cursor = 'crosshair';\n",
       "        break;\n",
       "    case 3:\n",
       "        cursor = 'move';\n",
       "        break;\n",
       "    }\n",
       "    fig.rubberband_canvas.style.cursor = cursor;\n",
       "}\n",
       "\n",
       "mpl.figure.prototype.handle_message = function(fig, msg) {\n",
       "    fig.message.textContent = msg['message'];\n",
       "}\n",
       "\n",
       "mpl.figure.prototype.handle_draw = function(fig, msg) {\n",
       "    // Request the server to send over a new figure.\n",
       "    fig.send_draw_message();\n",
       "}\n",
       "\n",
       "mpl.figure.prototype.handle_image_mode = function(fig, msg) {\n",
       "    fig.image_mode = msg['mode'];\n",
       "}\n",
       "\n",
       "mpl.figure.prototype.updated_canvas_event = function() {\n",
       "    // Called whenever the canvas gets updated.\n",
       "    this.send_message(\"ack\", {});\n",
       "}\n",
       "\n",
       "// A function to construct a web socket function for onmessage handling.\n",
       "// Called in the figure constructor.\n",
       "mpl.figure.prototype._make_on_message_function = function(fig) {\n",
       "    return function socket_on_message(evt) {\n",
       "        if (evt.data instanceof Blob) {\n",
       "            /* FIXME: We get \"Resource interpreted as Image but\n",
       "             * transferred with MIME type text/plain:\" errors on\n",
       "             * Chrome.  But how to set the MIME type?  It doesn't seem\n",
       "             * to be part of the websocket stream */\n",
       "            evt.data.type = \"image/png\";\n",
       "\n",
       "            /* Free the memory for the previous frames */\n",
       "            if (fig.imageObj.src) {\n",
       "                (window.URL || window.webkitURL).revokeObjectURL(\n",
       "                    fig.imageObj.src);\n",
       "            }\n",
       "\n",
       "            fig.imageObj.src = (window.URL || window.webkitURL).createObjectURL(\n",
       "                evt.data);\n",
       "            fig.updated_canvas_event();\n",
       "            fig.waiting = false;\n",
       "            return;\n",
       "        }\n",
       "        else if (typeof evt.data === 'string' && evt.data.slice(0, 21) == \"data:image/png;base64\") {\n",
       "            fig.imageObj.src = evt.data;\n",
       "            fig.updated_canvas_event();\n",
       "            fig.waiting = false;\n",
       "            return;\n",
       "        }\n",
       "\n",
       "        var msg = JSON.parse(evt.data);\n",
       "        var msg_type = msg['type'];\n",
       "\n",
       "        // Call the  \"handle_{type}\" callback, which takes\n",
       "        // the figure and JSON message as its only arguments.\n",
       "        try {\n",
       "            var callback = fig[\"handle_\" + msg_type];\n",
       "        } catch (e) {\n",
       "            console.log(\"No handler for the '\" + msg_type + \"' message type: \", msg);\n",
       "            return;\n",
       "        }\n",
       "\n",
       "        if (callback) {\n",
       "            try {\n",
       "                // console.log(\"Handling '\" + msg_type + \"' message: \", msg);\n",
       "                callback(fig, msg);\n",
       "            } catch (e) {\n",
       "                console.log(\"Exception inside the 'handler_\" + msg_type + \"' callback:\", e, e.stack, msg);\n",
       "            }\n",
       "        }\n",
       "    };\n",
       "}\n",
       "\n",
       "// from http://stackoverflow.com/questions/1114465/getting-mouse-location-in-canvas\n",
       "mpl.findpos = function(e) {\n",
       "    //this section is from http://www.quirksmode.org/js/events_properties.html\n",
       "    var targ;\n",
       "    if (!e)\n",
       "        e = window.event;\n",
       "    if (e.target)\n",
       "        targ = e.target;\n",
       "    else if (e.srcElement)\n",
       "        targ = e.srcElement;\n",
       "    if (targ.nodeType == 3) // defeat Safari bug\n",
       "        targ = targ.parentNode;\n",
       "\n",
       "    // jQuery normalizes the pageX and pageY\n",
       "    // pageX,Y are the mouse positions relative to the document\n",
       "    // offset() returns the position of the element relative to the document\n",
       "    var x = e.pageX - $(targ).offset().left;\n",
       "    var y = e.pageY - $(targ).offset().top;\n",
       "\n",
       "    return {\"x\": x, \"y\": y};\n",
       "};\n",
       "\n",
       "/*\n",
       " * return a copy of an object with only non-object keys\n",
       " * we need this to avoid circular references\n",
       " * http://stackoverflow.com/a/24161582/3208463\n",
       " */\n",
       "function simpleKeys (original) {\n",
       "  return Object.keys(original).reduce(function (obj, key) {\n",
       "    if (typeof original[key] !== 'object')\n",
       "        obj[key] = original[key]\n",
       "    return obj;\n",
       "  }, {});\n",
       "}\n",
       "\n",
       "mpl.figure.prototype.mouse_event = function(event, name) {\n",
       "    var canvas_pos = mpl.findpos(event)\n",
       "\n",
       "    if (name === 'button_press')\n",
       "    {\n",
       "        this.canvas.focus();\n",
       "        this.canvas_div.focus();\n",
       "    }\n",
       "\n",
       "    var x = canvas_pos.x * mpl.ratio;\n",
       "    var y = canvas_pos.y * mpl.ratio;\n",
       "\n",
       "    this.send_message(name, {x: x, y: y, button: event.button,\n",
       "                             step: event.step,\n",
       "                             guiEvent: simpleKeys(event)});\n",
       "\n",
       "    /* This prevents the web browser from automatically changing to\n",
       "     * the text insertion cursor when the button is pressed.  We want\n",
       "     * to control all of the cursor setting manually through the\n",
       "     * 'cursor' event from matplotlib */\n",
       "    event.preventDefault();\n",
       "    return false;\n",
       "}\n",
       "\n",
       "mpl.figure.prototype._key_event_extra = function(event, name) {\n",
       "    // Handle any extra behaviour associated with a key event\n",
       "}\n",
       "\n",
       "mpl.figure.prototype.key_event = function(event, name) {\n",
       "\n",
       "    // Prevent repeat events\n",
       "    if (name == 'key_press')\n",
       "    {\n",
       "        if (event.which === this._key)\n",
       "            return;\n",
       "        else\n",
       "            this._key = event.which;\n",
       "    }\n",
       "    if (name == 'key_release')\n",
       "        this._key = null;\n",
       "\n",
       "    var value = '';\n",
       "    if (event.ctrlKey && event.which != 17)\n",
       "        value += \"ctrl+\";\n",
       "    if (event.altKey && event.which != 18)\n",
       "        value += \"alt+\";\n",
       "    if (event.shiftKey && event.which != 16)\n",
       "        value += \"shift+\";\n",
       "\n",
       "    value += 'k';\n",
       "    value += event.which.toString();\n",
       "\n",
       "    this._key_event_extra(event, name);\n",
       "\n",
       "    this.send_message(name, {key: value,\n",
       "                             guiEvent: simpleKeys(event)});\n",
       "    return false;\n",
       "}\n",
       "\n",
       "mpl.figure.prototype.toolbar_button_onclick = function(name) {\n",
       "    if (name == 'download') {\n",
       "        this.handle_save(this, null);\n",
       "    } else {\n",
       "        this.send_message(\"toolbar_button\", {name: name});\n",
       "    }\n",
       "};\n",
       "\n",
       "mpl.figure.prototype.toolbar_button_onmouseover = function(tooltip) {\n",
       "    this.message.textContent = tooltip;\n",
       "};\n",
       "mpl.toolbar_items = [[\"Home\", \"Reset original view\", \"fa fa-home icon-home\", \"home\"], [\"Back\", \"Back to  previous view\", \"fa fa-arrow-left icon-arrow-left\", \"back\"], [\"Forward\", \"Forward to next view\", \"fa fa-arrow-right icon-arrow-right\", \"forward\"], [\"\", \"\", \"\", \"\"], [\"Pan\", \"Pan axes with left mouse, zoom with right\", \"fa fa-arrows icon-move\", \"pan\"], [\"Zoom\", \"Zoom to rectangle\", \"fa fa-square-o icon-check-empty\", \"zoom\"], [\"\", \"\", \"\", \"\"], [\"Download\", \"Download plot\", \"fa fa-floppy-o icon-save\", \"download\"]];\n",
       "\n",
       "mpl.extensions = [\"eps\", \"jpeg\", \"pdf\", \"png\", \"ps\", \"raw\", \"svg\", \"tif\"];\n",
       "\n",
       "mpl.default_extension = \"png\";var comm_websocket_adapter = function(comm) {\n",
       "    // Create a \"websocket\"-like object which calls the given IPython comm\n",
       "    // object with the appropriate methods. Currently this is a non binary\n",
       "    // socket, so there is still some room for performance tuning.\n",
       "    var ws = {};\n",
       "\n",
       "    ws.close = function() {\n",
       "        comm.close()\n",
       "    };\n",
       "    ws.send = function(m) {\n",
       "        //console.log('sending', m);\n",
       "        comm.send(m);\n",
       "    };\n",
       "    // Register the callback with on_msg.\n",
       "    comm.on_msg(function(msg) {\n",
       "        //console.log('receiving', msg['content']['data'], msg);\n",
       "        // Pass the mpl event to the overriden (by mpl) onmessage function.\n",
       "        ws.onmessage(msg['content']['data'])\n",
       "    });\n",
       "    return ws;\n",
       "}\n",
       "\n",
       "mpl.mpl_figure_comm = function(comm, msg) {\n",
       "    // This is the function which gets called when the mpl process\n",
       "    // starts-up an IPython Comm through the \"matplotlib\" channel.\n",
       "\n",
       "    var id = msg.content.data.id;\n",
       "    // Get hold of the div created by the display call when the Comm\n",
       "    // socket was opened in Python.\n",
       "    var element = $(\"#\" + id);\n",
       "    var ws_proxy = comm_websocket_adapter(comm)\n",
       "\n",
       "    function ondownload(figure, format) {\n",
       "        window.open(figure.imageObj.src);\n",
       "    }\n",
       "\n",
       "    var fig = new mpl.figure(id, ws_proxy,\n",
       "                           ondownload,\n",
       "                           element.get(0));\n",
       "\n",
       "    // Call onopen now - mpl needs it, as it is assuming we've passed it a real\n",
       "    // web socket which is closed, not our websocket->open comm proxy.\n",
       "    ws_proxy.onopen();\n",
       "\n",
       "    fig.parent_element = element.get(0);\n",
       "    fig.cell_info = mpl.find_output_cell(\"<div id='\" + id + \"'></div>\");\n",
       "    if (!fig.cell_info) {\n",
       "        console.error(\"Failed to find cell for figure\", id, fig);\n",
       "        return;\n",
       "    }\n",
       "\n",
       "    var output_index = fig.cell_info[2]\n",
       "    var cell = fig.cell_info[0];\n",
       "\n",
       "};\n",
       "\n",
       "mpl.figure.prototype.handle_close = function(fig, msg) {\n",
       "    var width = fig.canvas.width/mpl.ratio\n",
       "    fig.root.unbind('remove')\n",
       "\n",
       "    // Update the output cell to use the data from the current canvas.\n",
       "    fig.push_to_output();\n",
       "    var dataURL = fig.canvas.toDataURL();\n",
       "    // Re-enable the keyboard manager in IPython - without this line, in FF,\n",
       "    // the notebook keyboard shortcuts fail.\n",
       "    IPython.keyboard_manager.enable()\n",
       "    $(fig.parent_element).html('<img src=\"' + dataURL + '\" width=\"' + width + '\">');\n",
       "    fig.close_ws(fig, msg);\n",
       "}\n",
       "\n",
       "mpl.figure.prototype.close_ws = function(fig, msg){\n",
       "    fig.send_message('closing', msg);\n",
       "    // fig.ws.close()\n",
       "}\n",
       "\n",
       "mpl.figure.prototype.push_to_output = function(remove_interactive) {\n",
       "    // Turn the data on the canvas into data in the output cell.\n",
       "    var width = this.canvas.width/mpl.ratio\n",
       "    var dataURL = this.canvas.toDataURL();\n",
       "    this.cell_info[1]['text/html'] = '<img src=\"' + dataURL + '\" width=\"' + width + '\">';\n",
       "}\n",
       "\n",
       "mpl.figure.prototype.updated_canvas_event = function() {\n",
       "    // Tell IPython that the notebook contents must change.\n",
       "    IPython.notebook.set_dirty(true);\n",
       "    this.send_message(\"ack\", {});\n",
       "    var fig = this;\n",
       "    // Wait a second, then push the new image to the DOM so\n",
       "    // that it is saved nicely (might be nice to debounce this).\n",
       "    setTimeout(function () { fig.push_to_output() }, 1000);\n",
       "}\n",
       "\n",
       "mpl.figure.prototype._init_toolbar = function() {\n",
       "    var fig = this;\n",
       "\n",
       "    var nav_element = $('<div/>')\n",
       "    nav_element.attr('style', 'width: 100%');\n",
       "    this.root.append(nav_element);\n",
       "\n",
       "    // Define a callback function for later on.\n",
       "    function toolbar_event(event) {\n",
       "        return fig.toolbar_button_onclick(event['data']);\n",
       "    }\n",
       "    function toolbar_mouse_event(event) {\n",
       "        return fig.toolbar_button_onmouseover(event['data']);\n",
       "    }\n",
       "\n",
       "    for(var toolbar_ind in mpl.toolbar_items){\n",
       "        var name = mpl.toolbar_items[toolbar_ind][0];\n",
       "        var tooltip = mpl.toolbar_items[toolbar_ind][1];\n",
       "        var image = mpl.toolbar_items[toolbar_ind][2];\n",
       "        var method_name = mpl.toolbar_items[toolbar_ind][3];\n",
       "\n",
       "        if (!name) { continue; };\n",
       "\n",
       "        var button = $('<button class=\"btn btn-default\" href=\"#\" title=\"' + name + '\"><i class=\"fa ' + image + ' fa-lg\"></i></button>');\n",
       "        button.click(method_name, toolbar_event);\n",
       "        button.mouseover(tooltip, toolbar_mouse_event);\n",
       "        nav_element.append(button);\n",
       "    }\n",
       "\n",
       "    // Add the status bar.\n",
       "    var status_bar = $('<span class=\"mpl-message\" style=\"text-align:right; float: right;\"/>');\n",
       "    nav_element.append(status_bar);\n",
       "    this.message = status_bar[0];\n",
       "\n",
       "    // Add the close button to the window.\n",
       "    var buttongrp = $('<div class=\"btn-group inline pull-right\"></div>');\n",
       "    var button = $('<button class=\"btn btn-mini btn-primary\" href=\"#\" title=\"Stop Interaction\"><i class=\"fa fa-power-off icon-remove icon-large\"></i></button>');\n",
       "    button.click(function (evt) { fig.handle_close(fig, {}); } );\n",
       "    button.mouseover('Stop Interaction', toolbar_mouse_event);\n",
       "    buttongrp.append(button);\n",
       "    var titlebar = this.root.find($('.ui-dialog-titlebar'));\n",
       "    titlebar.prepend(buttongrp);\n",
       "}\n",
       "\n",
       "mpl.figure.prototype._root_extra_style = function(el){\n",
       "    var fig = this\n",
       "    el.on(\"remove\", function(){\n",
       "\tfig.close_ws(fig, {});\n",
       "    });\n",
       "}\n",
       "\n",
       "mpl.figure.prototype._canvas_extra_style = function(el){\n",
       "    // this is important to make the div 'focusable\n",
       "    el.attr('tabindex', 0)\n",
       "    // reach out to IPython and tell the keyboard manager to turn it's self\n",
       "    // off when our div gets focus\n",
       "\n",
       "    // location in version 3\n",
       "    if (IPython.notebook.keyboard_manager) {\n",
       "        IPython.notebook.keyboard_manager.register_events(el);\n",
       "    }\n",
       "    else {\n",
       "        // location in version 2\n",
       "        IPython.keyboard_manager.register_events(el);\n",
       "    }\n",
       "\n",
       "}\n",
       "\n",
       "mpl.figure.prototype._key_event_extra = function(event, name) {\n",
       "    var manager = IPython.notebook.keyboard_manager;\n",
       "    if (!manager)\n",
       "        manager = IPython.keyboard_manager;\n",
       "\n",
       "    // Check for shift+enter\n",
       "    if (event.shiftKey && event.which == 13) {\n",
       "        this.canvas_div.blur();\n",
       "        // select the cell after this one\n",
       "        var index = IPython.notebook.find_cell_index(this.cell_info[0]);\n",
       "        IPython.notebook.select(index + 1);\n",
       "    }\n",
       "}\n",
       "\n",
       "mpl.figure.prototype.handle_save = function(fig, msg) {\n",
       "    fig.ondownload(fig, null);\n",
       "}\n",
       "\n",
       "\n",
       "mpl.find_output_cell = function(html_output) {\n",
       "    // Return the cell and output element which can be found *uniquely* in the notebook.\n",
       "    // Note - this is a bit hacky, but it is done because the \"notebook_saving.Notebook\"\n",
       "    // IPython event is triggered only after the cells have been serialised, which for\n",
       "    // our purposes (turning an active figure into a static one), is too late.\n",
       "    var cells = IPython.notebook.get_cells();\n",
       "    var ncells = cells.length;\n",
       "    for (var i=0; i<ncells; i++) {\n",
       "        var cell = cells[i];\n",
       "        if (cell.cell_type === 'code'){\n",
       "            for (var j=0; j<cell.output_area.outputs.length; j++) {\n",
       "                var data = cell.output_area.outputs[j];\n",
       "                if (data.data) {\n",
       "                    // IPython >= 3 moved mimebundle to data attribute of output\n",
       "                    data = data.data;\n",
       "                }\n",
       "                if (data['text/html'] == html_output) {\n",
       "                    return [cell, data, j];\n",
       "                }\n",
       "            }\n",
       "        }\n",
       "    }\n",
       "}\n",
       "\n",
       "// Register the function which deals with the matplotlib target/channel.\n",
       "// The kernel may be null if the page has been refreshed.\n",
       "if (IPython.notebook.kernel != null) {\n",
       "    IPython.notebook.kernel.comm_manager.register_target('matplotlib', mpl.mpl_figure_comm);\n",
       "}\n"
      ],
      "text/plain": [
       "<IPython.core.display.Javascript object>"
      ]
     },
     "metadata": {},
     "output_type": "display_data"
    },
    {
     "data": {
      "text/html": [
       "<img src=\"data:image/png;base64,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\" width=\"500\">"
      ],
      "text/plain": [
       "<IPython.core.display.HTML object>"
      ]
     },
     "metadata": {},
     "output_type": "display_data"
    },
    {
     "data": {
      "text/plain": [
       "[<matplotlib.lines.Line2D at 0x11dfbdb38>]"
      ]
     },
     "execution_count": 11,
     "metadata": {},
     "output_type": "execute_result"
    }
   ],
   "source": [
    "x = np.linspace(0, 2*np.pi, 100)\n",
    "y = np.sin(x)\n",
    "plt.figure(figsize=(5,2.5))\n",
    "plt.plot(x,y)"
   ]
  },
  {
   "cell_type": "markdown",
   "metadata": {},
   "source": [
    "## Units, uncertainties and measurements"
   ]
  },
  {
   "cell_type": "markdown",
   "metadata": {},
   "source": [
    "The objets **ur**, **Quantity** and **Measurement**, based on the **`pint`** and **`uncertainties`** librairies allows the manipulation of data with units and uncertainties. (see tutorial-1-units-uncertainties)"
   ]
  },
  {
   "cell_type": "code",
   "execution_count": 12,
   "metadata": {},
   "outputs": [
    {
     "data": {
      "text/html": [
       "1.94 cm.s<sup>-1</sup>"
      ],
      "text/latex": [
       "$1.94\\ \\mathrm{cm} \\cdot \\mathrm{s}^{-1}$"
      ],
      "text/plain": [
       "<Quantity(1.94, 'centimeter / second')>"
      ]
     },
     "execution_count": 12,
     "metadata": {},
     "output_type": "execute_result"
    }
   ],
   "source": [
    "19.4 * ur.cm / (10 * ur.s)"
   ]
  },
  {
   "cell_type": "code",
   "execution_count": 13,
   "metadata": {},
   "outputs": [
    {
     "data": {
      "text/html": [
       "10.0 km"
      ],
      "text/latex": [
       "$10.0\\ \\mathrm{km}$"
      ],
      "text/plain": [
       "<Quantity(10.0, 'kilometer')>"
      ]
     },
     "execution_count": 13,
     "metadata": {},
     "output_type": "execute_result"
    }
   ],
   "source": [
    "x= Quantity(10., 'km')\n",
    "x"
   ]
  },
  {
   "cell_type": "code",
   "execution_count": 14,
   "metadata": {},
   "outputs": [
    {
     "name": "stdout",
     "output_type": "stream",
     "text": [
      "(10.000 +/- 0.010) kilometer\n"
     ]
    }
   ],
   "source": [
    "y = Measurement(10, .01, 'km')\n",
    "print(y)  #TODO: _repr_html not working"
   ]
  },
  {
   "cell_type": "markdown",
   "metadata": {},
   "source": [
    "## Using the API: a first example with the Isotope database"
   ]
  },
  {
   "cell_type": "markdown",
   "metadata": {},
   "source": [
    "If you are interested by **NMR**, it might be useful to have information about NMR isotopes, *e.g.*, to include this in some further calculations.\n",
    "\n",
    "Let's get information about the $^{27}$Al nucleus. \n",
    "\n",
    "We use the **Isotopes** class:"
   ]
  },
  {
   "cell_type": "code",
   "execution_count": 15,
   "metadata": {
    "run_control": {
     "frozen": false,
     "read_only": false
    }
   },
   "outputs": [
    {
     "data": {
      "text/html": [
       "<sup>27</sup>Al [5/2]"
      ],
      "text/plain": [
       "Isotopes < 27Al >"
      ]
     },
     "execution_count": 15,
     "metadata": {},
     "output_type": "execute_result"
    }
   ],
   "source": [
    "al = Isotopes('27Al')\n",
    "al"
   ]
  },
  {
   "cell_type": "code",
   "execution_count": 16,
   "metadata": {
    "run_control": {
     "frozen": false,
     "read_only": false
    }
   },
   "outputs": [
    {
     "name": "stdout",
     "output_type": "stream",
     "text": [
      "Al 5/2\n"
     ]
    }
   ],
   "source": [
    "print(al.symbol, al.spin)"
   ]
  },
  {
   "cell_type": "code",
   "execution_count": 17,
   "metadata": {
    "run_control": {
     "frozen": false,
     "read_only": false
    }
   },
   "outputs": [
    {
     "data": {
      "text/html": [
       "1.466e-29 m<sup>2</sup>"
      ],
      "text/latex": [
       "$1.466e-29\\ \\mathrm{m}^{2}$"
      ],
      "text/plain": [
       "<Quantity(1.466e-29, 'meter ** 2')>"
      ]
     },
     "execution_count": 17,
     "metadata": {},
     "output_type": "execute_result"
    }
   ],
   "source": [
    "quadrupolar_moment = al.Q.to('m^2') \n",
    "quadrupolar_moment"
   ]
  },
  {
   "cell_type": "code",
   "execution_count": 18,
   "metadata": {
    "run_control": {
     "frozen": false,
     "read_only": false
    }
   },
   "outputs": [
    {
     "data": {
      "text/html": [
       "11.103076875144868 MHz.T<sup>-1</sup>"
      ],
      "text/latex": [
       "$11.103076875144868\\ \\mathrm{MHz} \\cdot \\mathrm{T}^{-1}$"
      ],
      "text/plain": [
       "<Quantity(11.103076875144868, 'megahertz / tesla')>"
      ]
     },
     "execution_count": 18,
     "metadata": {},
     "output_type": "execute_result"
    }
   ],
   "source": [
    "gyromagnetic_ratio = al.gamma\n",
    "gyromagnetic_ratio"
   ]
  },
  {
   "cell_type": "markdown",
   "metadata": {},
   "source": [
    "It is then obvious how to get the Larmor frequency of aluminium:"
   ]
  },
  {
   "cell_type": "code",
   "execution_count": 19,
   "metadata": {
    "run_control": {
     "frozen": false,
     "read_only": false
    }
   },
   "outputs": [
    {
     "name": "stdout",
     "output_type": "stream",
     "text": [
      "104.37 MHz at 9.40 T\n"
     ]
    }
   ],
   "source": [
    "B0 = Quantity('9.4 tesla')\n",
    "print(\"{freq:~.2f} at {B0:~.2f}\".format(freq=al.gamma * B0, B0=B0))"
   ]
  }
 ],
 "metadata": {
  "kernelspec": {
   "display_name": "Python [conda env:scp36]",
   "language": "python",
   "name": "conda-env-scp36-py"
  },
  "language_info": {
   "codemirror_mode": {
    "name": "ipython",
    "version": 3
   },
   "file_extension": ".py",
   "mimetype": "text/x-python",
   "name": "python",
   "nbconvert_exporter": "python",
   "pygments_lexer": "ipython3",
   "version": "3.6.1"
  },
  "toc": {
   "toc_cell": true,
   "toc_number_sections": false,
   "toc_threshold": 6,
   "toc_window_display": false
  }
 },
 "nbformat": 4,
 "nbformat_minor": 1
}
