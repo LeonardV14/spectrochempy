{
 "cells": [
  {
   "cell_type": "markdown",
   "metadata": {},
   "source": [
    "## Getting Started\n",
    "\n",
    "<div class=\"alert alert-info\">\n",
    "\n",
    "**Note:** We assume the spectrochemistry package has been properly installed - if not please go to ``install``\n",
    "\n",
    "</div>"
   ]
  },
  {
   "cell_type": "markdown",
   "metadata": {},
   "source": [
    "Before using the package, we need to load the **API (Application Programming Interface)**\n",
    "\n",
    "The simplest way is to import all the objects and methods at once into your python namespace."
   ]
  },
  {
   "cell_type": "code",
   "execution_count": 1,
   "metadata": {},
   "outputs": [
    {
     "name": "stdout",
     "output_type": "stream",
     "text": [
      "\n",
      "        SpectroChemPy's API\n",
      "        Version   : 0.1a2.13\n",
      "        Copyright : 2014-2017, LCS - Laboratory for Catalysis and Spectrochempy\n",
      "            \n"
     ]
    }
   ],
   "source": [
    "from spectrochempy.api import *"
   ]
  },
  {
   "cell_type": "markdown",
   "metadata": {},
   "source": [
    "but you can also import method only when it is needed.\n",
    "\n",
    "For instances, one object very usefull in the following will be a nd-dataset to contain some data. Instead of issuing the previous command, one can do:"
   ]
  },
  {
   "cell_type": "code",
   "execution_count": 2,
   "metadata": {
    "collapsed": true
   },
   "outputs": [],
   "source": [
    "from spectrochempy.api import NDDataset\n",
    "mydataset = NDDataset()"
   ]
  },
  {
   "cell_type": "markdown",
   "metadata": {},
   "source": [
    "In the second line we have defined a new empty instance of **NDDataset**, wich will be further use to load our data."
   ]
  },
  {
   "cell_type": "markdown",
   "metadata": {},
   "source": [
    "Another way to proceed is to not mix the API namespace with your normal python. \n",
    "\n",
    "In this case, you can simply do:\n"
   ]
  },
  {
   "cell_type": "code",
   "execution_count": 3,
   "metadata": {
    "collapsed": true
   },
   "outputs": [],
   "source": [
    "import spectrochempy.api as scp\n",
    "mydataset = scp.NDDataset()"
   ]
  },
  {
   "cell_type": "markdown",
   "metadata": {},
   "source": [
    "As such, the above command ``from spectrochempy import *``, lead to import of several objects and methods in the namespace.\n",
    "\n",
    "To get a list of all available methods or objects, type the following command:"
   ]
  },
  {
   "cell_type": "code",
   "execution_count": 4,
   "metadata": {},
   "outputs": [
    {
     "data": {
      "text/plain": [
       "['APIref',\n",
       " 'Axes',\n",
       " 'Axis',\n",
       " 'AxisError',\n",
       " 'AxisError',\n",
       " 'AxisRange',\n",
       " 'AxisRangeError',\n",
       " 'AxisWarning',\n",
       " 'CRITICAL',\n",
       " 'DEBUG',\n",
       " 'DimensionalityError',\n",
       " 'ERROR',\n",
       " 'Efa',\n",
       " 'Fit',\n",
       " 'FitParameters',\n",
       " 'INFO',\n",
       " 'Iris',\n",
       " 'Isotopes',\n",
       " 'Lsqnonneg',\n",
       " 'Lstsq',\n",
       " 'McrAls',\n",
       " 'Measurement',\n",
       " 'Meta',\n",
       " 'NDArray',\n",
       " 'NDDataset',\n",
       " 'NDDatasetError',\n",
       " 'NDDatasetWarning',\n",
       " 'NDIO',\n",
       " 'NDMath',\n",
       " 'Nnmf',\n",
       " 'ParameterScript',\n",
       " 'Pca',\n",
       " 'Quantity',\n",
       " 'Svd',\n",
       " 'Unit',\n",
       " 'WARN',\n",
       " 'abs',\n",
       " 'align',\n",
       " 'apodize',\n",
       " 'autosub',\n",
       " 'basecor',\n",
       " 'concatenate',\n",
       " 'conj',\n",
       " 'copyright',\n",
       " 'data_dir',\n",
       " 'em',\n",
       " 'ft',\n",
       " 'gm',\n",
       " 'gmb',\n",
       " 'imag',\n",
       " 'interpolate',\n",
       " 'jmod',\n",
       " 'list_data_dir',\n",
       " 'load',\n",
       " 'log',\n",
       " 'log_level',\n",
       " 'np',\n",
       " 'optimize',\n",
       " 'options',\n",
       " 'plot',\n",
       " 'plot_1D',\n",
       " 'plot_2D',\n",
       " 'plot_3D',\n",
       " 'plot_image',\n",
       " 'plot_map',\n",
       " 'plot_stack',\n",
       " 'plotoptions',\n",
       " 'plt',\n",
       " 'raises',\n",
       " 'read',\n",
       " 'read_bruker_nmr',\n",
       " 'read_dso',\n",
       " 'read_jdx',\n",
       " 'read_omnic',\n",
       " 'real',\n",
       " 'release',\n",
       " 'scipy',\n",
       " 'set_nmr_context',\n",
       " 'sine',\n",
       " 'skl',\n",
       " 'sort',\n",
       " 'sp',\n",
       " 'squeeze',\n",
       " 'swapaxes',\n",
       " 'sym',\n",
       " 'tm',\n",
       " 'transpose',\n",
       " 'tri',\n",
       " 'ur',\n",
       " 'version',\n",
       " 'write']"
      ]
     },
     "execution_count": 4,
     "metadata": {},
     "output_type": "execute_result"
    }
   ],
   "source": [
    "APIref"
   ]
  },
  {
   "cell_type": "markdown",
   "metadata": {},
   "source": [
    "If something goes wrong with during a cell execution,  a ``traceback`` is displayed.\n",
    "\n",
    "For instance, the object or method ``toto``does not exist in the API, so an error (**ImportError**) is generated when trying to import this from the API. Here we catch the error in the context raises or more traditionnaly with a try except structure"
   ]
  },
  {
   "cell_type": "code",
   "execution_count": 5,
   "metadata": {
    "collapsed": true
   },
   "outputs": [],
   "source": [
    "with raises(ImportError):\n",
    "    from spectrochempy import toto"
   ]
  },
  {
   "cell_type": "code",
   "execution_count": 6,
   "metadata": {},
   "outputs": [
    {
     "name": "stderr",
     "output_type": "stream",
     "text": [
      " ERROR | OOPS, THAT'S AN IMPORT ERROR!\n"
     ]
    }
   ],
   "source": [
    "try:\n",
    "    from spectrochempy import toto\n",
    "except ImportError:\n",
    "    log.error(\"OOPS, THAT'S AN IMPORT ERROR!\")"
   ]
  },
  {
   "cell_type": "markdown",
   "metadata": {},
   "source": [
    "The error will stop the execution if not catched. The message that would have been displayed without the catching, can be displayed after all with the magic function %tb."
   ]
  },
  {
   "cell_type": "markdown",
   "metadata": {},
   "source": [
    "## Configuration\n",
    "\n",
    "Many options of the API can be set up"
   ]
  },
  {
   "cell_type": "code",
   "execution_count": 7,
   "metadata": {
    "collapsed": true
   },
   "outputs": [],
   "source": [
    "options.log_level = INFO"
   ]
  },
  {
   "cell_type": "markdown",
   "metadata": {},
   "source": [
    "In the above cell, we have set the **log** level to display ``info`` messages, such as this one:"
   ]
  },
  {
   "cell_type": "code",
   "execution_count": 8,
   "metadata": {},
   "outputs": [
    {
     "name": "stderr",
     "output_type": "stream",
     "text": [
      " this is an info message!\n"
     ]
    }
   ],
   "source": [
    "log.info('this is an info message!')\n",
    "log.debug('this is a debug message!')"
   ]
  },
  {
   "cell_type": "markdown",
   "metadata": {},
   "source": [
    "Only the info message is displayed, as expected.\n",
    "\n",
    "If we change it to ``DEBUG``, we should get the two messages"
   ]
  },
  {
   "cell_type": "code",
   "execution_count": 9,
   "metadata": {
    "run_control": {
     "frozen": false,
     "read_only": false
    }
   },
   "outputs": [
    {
     "name": "stderr",
     "output_type": "stream",
     "text": [
      "[SpectroChemPy 2017-07-24 22:39:24] changed default loglevel to 10\n",
      "[SpectroChemPy 2017-07-24 22:39:24] this is an info message!\n",
      "[SpectroChemPy 2017-07-24 22:39:24] this is a debug message!\n"
     ]
    }
   ],
   "source": [
    "options.log_level = DEBUG\n",
    "\n",
    "log.info('this is an info message!')\n",
    "log.debug('this is a debug message!')"
   ]
  },
  {
   "cell_type": "markdown",
   "metadata": {},
   "source": [
    "Let's now come back to a standard level of message for the rest of the Tutorial."
   ]
  },
  {
   "cell_type": "code",
   "execution_count": 10,
   "metadata": {},
   "outputs": [
    {
     "name": "stderr",
     "output_type": "stream",
     "text": [
      " WARNING | this is a warning message!\n"
     ]
    }
   ],
   "source": [
    "options.log_level = WARN\n",
    "\n",
    "log.info('this is an info message!')\n",
    "log.debug('this is a debug message!')\n",
    "log.warning('this is a warning message!')"
   ]
  },
  {
   "cell_type": "markdown",
   "metadata": {},
   "source": [
    "## Access to scientific libraries"
   ]
  },
  {
   "cell_type": "markdown",
   "metadata": {},
   "source": [
    "Several libraries are imported with **SpectroChemPy** (so you don't need to re-import them):\n",
    "\n",
    "- **np** :  This is actually the **`numpy`** library, to perform numerical calculation on nD arrays. \n",
    "- **plt** : This is the **`matplotlib`** library, to allow plotting data \n",
    "\n",
    "Optionally, **scipy** and **sympy** can be available, if **SpectroChempy** can find these libraries installed on your system."
   ]
  },
  {
   "cell_type": "code",
   "execution_count": 11,
   "metadata": {},
   "outputs": [
    {
     "data": {
      "application/javascript": [
       "/* Put everything inside the global mpl namespace */\n",
       "window.mpl = {};\n",
       "\n",
       "\n",
       "mpl.get_websocket_type = function() {\n",
       "    if (typeof(WebSocket) !== 'undefined') {\n",
       "        return WebSocket;\n",
       "    } else if (typeof(MozWebSocket) !== 'undefined') {\n",
       "        return MozWebSocket;\n",
       "    } else {\n",
       "        alert('Your browser does not have WebSocket support.' +\n",
       "              'Please try Chrome, Safari or Firefox ≥ 6. ' +\n",
       "              'Firefox 4 and 5 are also supported but you ' +\n",
       "              'have to enable WebSockets in about:config.');\n",
       "    };\n",
       "}\n",
       "\n",
       "mpl.figure = function(figure_id, websocket, ondownload, parent_element) {\n",
       "    this.id = figure_id;\n",
       "\n",
       "    this.ws = websocket;\n",
       "\n",
       "    this.supports_binary = (this.ws.binaryType != undefined);\n",
       "\n",
       "    if (!this.supports_binary) {\n",
       "        var warnings = document.getElementById(\"mpl-warnings\");\n",
       "        if (warnings) {\n",
       "            warnings.style.display = 'block';\n",
       "            warnings.textContent = (\n",
       "                \"This browser does not support binary websocket messages. \" +\n",
       "                    \"Performance may be slow.\");\n",
       "        }\n",
       "    }\n",
       "\n",
       "    this.imageObj = new Image();\n",
       "\n",
       "    this.context = undefined;\n",
       "    this.message = undefined;\n",
       "    this.canvas = undefined;\n",
       "    this.rubberband_canvas = undefined;\n",
       "    this.rubberband_context = undefined;\n",
       "    this.format_dropdown = undefined;\n",
       "\n",
       "    this.image_mode = 'full';\n",
       "\n",
       "    this.root = $('<div/>');\n",
       "    this._root_extra_style(this.root)\n",
       "    this.root.attr('style', 'display: inline-block');\n",
       "\n",
       "    $(parent_element).append(this.root);\n",
       "\n",
       "    this._init_header(this);\n",
       "    this._init_canvas(this);\n",
       "    this._init_toolbar(this);\n",
       "\n",
       "    var fig = this;\n",
       "\n",
       "    this.waiting = false;\n",
       "\n",
       "    this.ws.onopen =  function () {\n",
       "            fig.send_message(\"supports_binary\", {value: fig.supports_binary});\n",
       "            fig.send_message(\"send_image_mode\", {});\n",
       "            if (mpl.ratio != 1) {\n",
       "                fig.send_message(\"set_dpi_ratio\", {'dpi_ratio': mpl.ratio});\n",
       "            }\n",
       "            fig.send_message(\"refresh\", {});\n",
       "        }\n",
       "\n",
       "    this.imageObj.onload = function() {\n",
       "            if (fig.image_mode == 'full') {\n",
       "                // Full images could contain transparency (where diff images\n",
       "                // almost always do), so we need to clear the canvas so that\n",
       "                // there is no ghosting.\n",
       "                fig.context.clearRect(0, 0, fig.canvas.width, fig.canvas.height);\n",
       "            }\n",
       "            fig.context.drawImage(fig.imageObj, 0, 0);\n",
       "        };\n",
       "\n",
       "    this.imageObj.onunload = function() {\n",
       "        this.ws.close();\n",
       "    }\n",
       "\n",
       "    this.ws.onmessage = this._make_on_message_function(this);\n",
       "\n",
       "    this.ondownload = ondownload;\n",
       "}\n",
       "\n",
       "mpl.figure.prototype._init_header = function() {\n",
       "    var titlebar = $(\n",
       "        '<div class=\"ui-dialog-titlebar ui-widget-header ui-corner-all ' +\n",
       "        'ui-helper-clearfix\"/>');\n",
       "    var titletext = $(\n",
       "        '<div class=\"ui-dialog-title\" style=\"width: 100%; ' +\n",
       "        'text-align: center; padding: 3px;\"/>');\n",
       "    titlebar.append(titletext)\n",
       "    this.root.append(titlebar);\n",
       "    this.header = titletext[0];\n",
       "}\n",
       "\n",
       "\n",
       "\n",
       "mpl.figure.prototype._canvas_extra_style = function(canvas_div) {\n",
       "\n",
       "}\n",
       "\n",
       "\n",
       "mpl.figure.prototype._root_extra_style = function(canvas_div) {\n",
       "\n",
       "}\n",
       "\n",
       "mpl.figure.prototype._init_canvas = function() {\n",
       "    var fig = this;\n",
       "\n",
       "    var canvas_div = $('<div/>');\n",
       "\n",
       "    canvas_div.attr('style', 'position: relative; clear: both; outline: 0');\n",
       "\n",
       "    function canvas_keyboard_event(event) {\n",
       "        return fig.key_event(event, event['data']);\n",
       "    }\n",
       "\n",
       "    canvas_div.keydown('key_press', canvas_keyboard_event);\n",
       "    canvas_div.keyup('key_release', canvas_keyboard_event);\n",
       "    this.canvas_div = canvas_div\n",
       "    this._canvas_extra_style(canvas_div)\n",
       "    this.root.append(canvas_div);\n",
       "\n",
       "    var canvas = $('<canvas/>');\n",
       "    canvas.addClass('mpl-canvas');\n",
       "    canvas.attr('style', \"left: 0; top: 0; z-index: 0; outline: 0\")\n",
       "\n",
       "    this.canvas = canvas[0];\n",
       "    this.context = canvas[0].getContext(\"2d\");\n",
       "\n",
       "    var backingStore = this.context.backingStorePixelRatio ||\n",
       "\tthis.context.webkitBackingStorePixelRatio ||\n",
       "\tthis.context.mozBackingStorePixelRatio ||\n",
       "\tthis.context.msBackingStorePixelRatio ||\n",
       "\tthis.context.oBackingStorePixelRatio ||\n",
       "\tthis.context.backingStorePixelRatio || 1;\n",
       "\n",
       "    mpl.ratio = (window.devicePixelRatio || 1) / backingStore;\n",
       "\n",
       "    var rubberband = $('<canvas/>');\n",
       "    rubberband.attr('style', \"position: absolute; left: 0; top: 0; z-index: 1;\")\n",
       "\n",
       "    var pass_mouse_events = true;\n",
       "\n",
       "    canvas_div.resizable({\n",
       "        start: function(event, ui) {\n",
       "            pass_mouse_events = false;\n",
       "        },\n",
       "        resize: function(event, ui) {\n",
       "            fig.request_resize(ui.size.width, ui.size.height);\n",
       "        },\n",
       "        stop: function(event, ui) {\n",
       "            pass_mouse_events = true;\n",
       "            fig.request_resize(ui.size.width, ui.size.height);\n",
       "        },\n",
       "    });\n",
       "\n",
       "    function mouse_event_fn(event) {\n",
       "        if (pass_mouse_events)\n",
       "            return fig.mouse_event(event, event['data']);\n",
       "    }\n",
       "\n",
       "    rubberband.mousedown('button_press', mouse_event_fn);\n",
       "    rubberband.mouseup('button_release', mouse_event_fn);\n",
       "    // Throttle sequential mouse events to 1 every 20ms.\n",
       "    rubberband.mousemove('motion_notify', mouse_event_fn);\n",
       "\n",
       "    rubberband.mouseenter('figure_enter', mouse_event_fn);\n",
       "    rubberband.mouseleave('figure_leave', mouse_event_fn);\n",
       "\n",
       "    canvas_div.on(\"wheel\", function (event) {\n",
       "        event = event.originalEvent;\n",
       "        event['data'] = 'scroll'\n",
       "        if (event.deltaY < 0) {\n",
       "            event.step = 1;\n",
       "        } else {\n",
       "            event.step = -1;\n",
       "        }\n",
       "        mouse_event_fn(event);\n",
       "    });\n",
       "\n",
       "    canvas_div.append(canvas);\n",
       "    canvas_div.append(rubberband);\n",
       "\n",
       "    this.rubberband = rubberband;\n",
       "    this.rubberband_canvas = rubberband[0];\n",
       "    this.rubberband_context = rubberband[0].getContext(\"2d\");\n",
       "    this.rubberband_context.strokeStyle = \"#000000\";\n",
       "\n",
       "    this._resize_canvas = function(width, height) {\n",
       "        // Keep the size of the canvas, canvas container, and rubber band\n",
       "        // canvas in synch.\n",
       "        canvas_div.css('width', width)\n",
       "        canvas_div.css('height', height)\n",
       "\n",
       "        canvas.attr('width', width * mpl.ratio);\n",
       "        canvas.attr('height', height * mpl.ratio);\n",
       "        canvas.attr('style', 'width: ' + width + 'px; height: ' + height + 'px;');\n",
       "\n",
       "        rubberband.attr('width', width);\n",
       "        rubberband.attr('height', height);\n",
       "    }\n",
       "\n",
       "    // Set the figure to an initial 600x600px, this will subsequently be updated\n",
       "    // upon first draw.\n",
       "    this._resize_canvas(600, 600);\n",
       "\n",
       "    // Disable right mouse context menu.\n",
       "    $(this.rubberband_canvas).bind(\"contextmenu\",function(e){\n",
       "        return false;\n",
       "    });\n",
       "\n",
       "    function set_focus () {\n",
       "        canvas.focus();\n",
       "        canvas_div.focus();\n",
       "    }\n",
       "\n",
       "    window.setTimeout(set_focus, 100);\n",
       "}\n",
       "\n",
       "mpl.figure.prototype._init_toolbar = function() {\n",
       "    var fig = this;\n",
       "\n",
       "    var nav_element = $('<div/>')\n",
       "    nav_element.attr('style', 'width: 100%');\n",
       "    this.root.append(nav_element);\n",
       "\n",
       "    // Define a callback function for later on.\n",
       "    function toolbar_event(event) {\n",
       "        return fig.toolbar_button_onclick(event['data']);\n",
       "    }\n",
       "    function toolbar_mouse_event(event) {\n",
       "        return fig.toolbar_button_onmouseover(event['data']);\n",
       "    }\n",
       "\n",
       "    for(var toolbar_ind in mpl.toolbar_items) {\n",
       "        var name = mpl.toolbar_items[toolbar_ind][0];\n",
       "        var tooltip = mpl.toolbar_items[toolbar_ind][1];\n",
       "        var image = mpl.toolbar_items[toolbar_ind][2];\n",
       "        var method_name = mpl.toolbar_items[toolbar_ind][3];\n",
       "\n",
       "        if (!name) {\n",
       "            // put a spacer in here.\n",
       "            continue;\n",
       "        }\n",
       "        var button = $('<button/>');\n",
       "        button.addClass('ui-button ui-widget ui-state-default ui-corner-all ' +\n",
       "                        'ui-button-icon-only');\n",
       "        button.attr('role', 'button');\n",
       "        button.attr('aria-disabled', 'false');\n",
       "        button.click(method_name, toolbar_event);\n",
       "        button.mouseover(tooltip, toolbar_mouse_event);\n",
       "\n",
       "        var icon_img = $('<span/>');\n",
       "        icon_img.addClass('ui-button-icon-primary ui-icon');\n",
       "        icon_img.addClass(image);\n",
       "        icon_img.addClass('ui-corner-all');\n",
       "\n",
       "        var tooltip_span = $('<span/>');\n",
       "        tooltip_span.addClass('ui-button-text');\n",
       "        tooltip_span.html(tooltip);\n",
       "\n",
       "        button.append(icon_img);\n",
       "        button.append(tooltip_span);\n",
       "\n",
       "        nav_element.append(button);\n",
       "    }\n",
       "\n",
       "    var fmt_picker_span = $('<span/>');\n",
       "\n",
       "    var fmt_picker = $('<select/>');\n",
       "    fmt_picker.addClass('mpl-toolbar-option ui-widget ui-widget-content');\n",
       "    fmt_picker_span.append(fmt_picker);\n",
       "    nav_element.append(fmt_picker_span);\n",
       "    this.format_dropdown = fmt_picker[0];\n",
       "\n",
       "    for (var ind in mpl.extensions) {\n",
       "        var fmt = mpl.extensions[ind];\n",
       "        var option = $(\n",
       "            '<option/>', {selected: fmt === mpl.default_extension}).html(fmt);\n",
       "        fmt_picker.append(option)\n",
       "    }\n",
       "\n",
       "    // Add hover states to the ui-buttons\n",
       "    $( \".ui-button\" ).hover(\n",
       "        function() { $(this).addClass(\"ui-state-hover\");},\n",
       "        function() { $(this).removeClass(\"ui-state-hover\");}\n",
       "    );\n",
       "\n",
       "    var status_bar = $('<span class=\"mpl-message\"/>');\n",
       "    nav_element.append(status_bar);\n",
       "    this.message = status_bar[0];\n",
       "}\n",
       "\n",
       "mpl.figure.prototype.request_resize = function(x_pixels, y_pixels) {\n",
       "    // Request matplotlib to resize the figure. Matplotlib will then trigger a resize in the client,\n",
       "    // which will in turn request a refresh of the image.\n",
       "    this.send_message('resize', {'width': x_pixels, 'height': y_pixels});\n",
       "}\n",
       "\n",
       "mpl.figure.prototype.send_message = function(type, properties) {\n",
       "    properties['type'] = type;\n",
       "    properties['figure_id'] = this.id;\n",
       "    this.ws.send(JSON.stringify(properties));\n",
       "}\n",
       "\n",
       "mpl.figure.prototype.send_draw_message = function() {\n",
       "    if (!this.waiting) {\n",
       "        this.waiting = true;\n",
       "        this.ws.send(JSON.stringify({type: \"draw\", figure_id: this.id}));\n",
       "    }\n",
       "}\n",
       "\n",
       "\n",
       "mpl.figure.prototype.handle_save = function(fig, msg) {\n",
       "    var format_dropdown = fig.format_dropdown;\n",
       "    var format = format_dropdown.options[format_dropdown.selectedIndex].value;\n",
       "    fig.ondownload(fig, format);\n",
       "}\n",
       "\n",
       "\n",
       "mpl.figure.prototype.handle_resize = function(fig, msg) {\n",
       "    var size = msg['size'];\n",
       "    if (size[0] != fig.canvas.width || size[1] != fig.canvas.height) {\n",
       "        fig._resize_canvas(size[0], size[1]);\n",
       "        fig.send_message(\"refresh\", {});\n",
       "    };\n",
       "}\n",
       "\n",
       "mpl.figure.prototype.handle_rubberband = function(fig, msg) {\n",
       "    var x0 = msg['x0'] / mpl.ratio;\n",
       "    var y0 = (fig.canvas.height - msg['y0']) / mpl.ratio;\n",
       "    var x1 = msg['x1'] / mpl.ratio;\n",
       "    var y1 = (fig.canvas.height - msg['y1']) / mpl.ratio;\n",
       "    x0 = Math.floor(x0) + 0.5;\n",
       "    y0 = Math.floor(y0) + 0.5;\n",
       "    x1 = Math.floor(x1) + 0.5;\n",
       "    y1 = Math.floor(y1) + 0.5;\n",
       "    var min_x = Math.min(x0, x1);\n",
       "    var min_y = Math.min(y0, y1);\n",
       "    var width = Math.abs(x1 - x0);\n",
       "    var height = Math.abs(y1 - y0);\n",
       "\n",
       "    fig.rubberband_context.clearRect(\n",
       "        0, 0, fig.canvas.width, fig.canvas.height);\n",
       "\n",
       "    fig.rubberband_context.strokeRect(min_x, min_y, width, height);\n",
       "}\n",
       "\n",
       "mpl.figure.prototype.handle_figure_label = function(fig, msg) {\n",
       "    // Updates the figure title.\n",
       "    fig.header.textContent = msg['label'];\n",
       "}\n",
       "\n",
       "mpl.figure.prototype.handle_cursor = function(fig, msg) {\n",
       "    var cursor = msg['cursor'];\n",
       "    switch(cursor)\n",
       "    {\n",
       "    case 0:\n",
       "        cursor = 'pointer';\n",
       "        break;\n",
       "    case 1:\n",
       "        cursor = 'default';\n",
       "        break;\n",
       "    case 2:\n",
       "        cursor = 'crosshair';\n",
       "        break;\n",
       "    case 3:\n",
       "        cursor = 'move';\n",
       "        break;\n",
       "    }\n",
       "    fig.rubberband_canvas.style.cursor = cursor;\n",
       "}\n",
       "\n",
       "mpl.figure.prototype.handle_message = function(fig, msg) {\n",
       "    fig.message.textContent = msg['message'];\n",
       "}\n",
       "\n",
       "mpl.figure.prototype.handle_draw = function(fig, msg) {\n",
       "    // Request the server to send over a new figure.\n",
       "    fig.send_draw_message();\n",
       "}\n",
       "\n",
       "mpl.figure.prototype.handle_image_mode = function(fig, msg) {\n",
       "    fig.image_mode = msg['mode'];\n",
       "}\n",
       "\n",
       "mpl.figure.prototype.updated_canvas_event = function() {\n",
       "    // Called whenever the canvas gets updated.\n",
       "    this.send_message(\"ack\", {});\n",
       "}\n",
       "\n",
       "// A function to construct a web socket function for onmessage handling.\n",
       "// Called in the figure constructor.\n",
       "mpl.figure.prototype._make_on_message_function = function(fig) {\n",
       "    return function socket_on_message(evt) {\n",
       "        if (evt.data instanceof Blob) {\n",
       "            /* FIXME: We get \"Resource interpreted as Image but\n",
       "             * transferred with MIME type text/plain:\" errors on\n",
       "             * Chrome.  But how to set the MIME type?  It doesn't seem\n",
       "             * to be part of the websocket stream */\n",
       "            evt.data.type = \"image/png\";\n",
       "\n",
       "            /* Free the memory for the previous frames */\n",
       "            if (fig.imageObj.src) {\n",
       "                (window.URL || window.webkitURL).revokeObjectURL(\n",
       "                    fig.imageObj.src);\n",
       "            }\n",
       "\n",
       "            fig.imageObj.src = (window.URL || window.webkitURL).createObjectURL(\n",
       "                evt.data);\n",
       "            fig.updated_canvas_event();\n",
       "            fig.waiting = false;\n",
       "            return;\n",
       "        }\n",
       "        else if (typeof evt.data === 'string' && evt.data.slice(0, 21) == \"data:image/png;base64\") {\n",
       "            fig.imageObj.src = evt.data;\n",
       "            fig.updated_canvas_event();\n",
       "            fig.waiting = false;\n",
       "            return;\n",
       "        }\n",
       "\n",
       "        var msg = JSON.parse(evt.data);\n",
       "        var msg_type = msg['type'];\n",
       "\n",
       "        // Call the  \"handle_{type}\" callback, which takes\n",
       "        // the figure and JSON message as its only arguments.\n",
       "        try {\n",
       "            var callback = fig[\"handle_\" + msg_type];\n",
       "        } catch (e) {\n",
       "            console.log(\"No handler for the '\" + msg_type + \"' message type: \", msg);\n",
       "            return;\n",
       "        }\n",
       "\n",
       "        if (callback) {\n",
       "            try {\n",
       "                // console.log(\"Handling '\" + msg_type + \"' message: \", msg);\n",
       "                callback(fig, msg);\n",
       "            } catch (e) {\n",
       "                console.log(\"Exception inside the 'handler_\" + msg_type + \"' callback:\", e, e.stack, msg);\n",
       "            }\n",
       "        }\n",
       "    };\n",
       "}\n",
       "\n",
       "// from http://stackoverflow.com/questions/1114465/getting-mouse-location-in-canvas\n",
       "mpl.findpos = function(e) {\n",
       "    //this section is from http://www.quirksmode.org/js/events_properties.html\n",
       "    var targ;\n",
       "    if (!e)\n",
       "        e = window.event;\n",
       "    if (e.target)\n",
       "        targ = e.target;\n",
       "    else if (e.srcElement)\n",
       "        targ = e.srcElement;\n",
       "    if (targ.nodeType == 3) // defeat Safari bug\n",
       "        targ = targ.parentNode;\n",
       "\n",
       "    // jQuery normalizes the pageX and pageY\n",
       "    // pageX,Y are the mouse positions relative to the document\n",
       "    // offset() returns the position of the element relative to the document\n",
       "    var x = e.pageX - $(targ).offset().left;\n",
       "    var y = e.pageY - $(targ).offset().top;\n",
       "\n",
       "    return {\"x\": x, \"y\": y};\n",
       "};\n",
       "\n",
       "/*\n",
       " * return a copy of an object with only non-object keys\n",
       " * we need this to avoid circular references\n",
       " * http://stackoverflow.com/a/24161582/3208463\n",
       " */\n",
       "function simpleKeys (original) {\n",
       "  return Object.keys(original).reduce(function (obj, key) {\n",
       "    if (typeof original[key] !== 'object')\n",
       "        obj[key] = original[key]\n",
       "    return obj;\n",
       "  }, {});\n",
       "}\n",
       "\n",
       "mpl.figure.prototype.mouse_event = function(event, name) {\n",
       "    var canvas_pos = mpl.findpos(event)\n",
       "\n",
       "    if (name === 'button_press')\n",
       "    {\n",
       "        this.canvas.focus();\n",
       "        this.canvas_div.focus();\n",
       "    }\n",
       "\n",
       "    var x = canvas_pos.x * mpl.ratio;\n",
       "    var y = canvas_pos.y * mpl.ratio;\n",
       "\n",
       "    this.send_message(name, {x: x, y: y, button: event.button,\n",
       "                             step: event.step,\n",
       "                             guiEvent: simpleKeys(event)});\n",
       "\n",
       "    /* This prevents the web browser from automatically changing to\n",
       "     * the text insertion cursor when the button is pressed.  We want\n",
       "     * to control all of the cursor setting manually through the\n",
       "     * 'cursor' event from matplotlib */\n",
       "    event.preventDefault();\n",
       "    return false;\n",
       "}\n",
       "\n",
       "mpl.figure.prototype._key_event_extra = function(event, name) {\n",
       "    // Handle any extra behaviour associated with a key event\n",
       "}\n",
       "\n",
       "mpl.figure.prototype.key_event = function(event, name) {\n",
       "\n",
       "    // Prevent repeat events\n",
       "    if (name == 'key_press')\n",
       "    {\n",
       "        if (event.which === this._key)\n",
       "            return;\n",
       "        else\n",
       "            this._key = event.which;\n",
       "    }\n",
       "    if (name == 'key_release')\n",
       "        this._key = null;\n",
       "\n",
       "    var value = '';\n",
       "    if (event.ctrlKey && event.which != 17)\n",
       "        value += \"ctrl+\";\n",
       "    if (event.altKey && event.which != 18)\n",
       "        value += \"alt+\";\n",
       "    if (event.shiftKey && event.which != 16)\n",
       "        value += \"shift+\";\n",
       "\n",
       "    value += 'k';\n",
       "    value += event.which.toString();\n",
       "\n",
       "    this._key_event_extra(event, name);\n",
       "\n",
       "    this.send_message(name, {key: value,\n",
       "                             guiEvent: simpleKeys(event)});\n",
       "    return false;\n",
       "}\n",
       "\n",
       "mpl.figure.prototype.toolbar_button_onclick = function(name) {\n",
       "    if (name == 'download') {\n",
       "        this.handle_save(this, null);\n",
       "    } else {\n",
       "        this.send_message(\"toolbar_button\", {name: name});\n",
       "    }\n",
       "};\n",
       "\n",
       "mpl.figure.prototype.toolbar_button_onmouseover = function(tooltip) {\n",
       "    this.message.textContent = tooltip;\n",
       "};\n",
       "mpl.toolbar_items = [[\"Home\", \"Reset original view\", \"fa fa-home icon-home\", \"home\"], [\"Back\", \"Back to  previous view\", \"fa fa-arrow-left icon-arrow-left\", \"back\"], [\"Forward\", \"Forward to next view\", \"fa fa-arrow-right icon-arrow-right\", \"forward\"], [\"\", \"\", \"\", \"\"], [\"Pan\", \"Pan axes with left mouse, zoom with right\", \"fa fa-arrows icon-move\", \"pan\"], [\"Zoom\", \"Zoom to rectangle\", \"fa fa-square-o icon-check-empty\", \"zoom\"], [\"\", \"\", \"\", \"\"], [\"Download\", \"Download plot\", \"fa fa-floppy-o icon-save\", \"download\"]];\n",
       "\n",
       "mpl.extensions = [\"eps\", \"jpeg\", \"pdf\", \"png\", \"ps\", \"raw\", \"svg\", \"tif\"];\n",
       "\n",
       "mpl.default_extension = \"png\";var comm_websocket_adapter = function(comm) {\n",
       "    // Create a \"websocket\"-like object which calls the given IPython comm\n",
       "    // object with the appropriate methods. Currently this is a non binary\n",
       "    // socket, so there is still some room for performance tuning.\n",
       "    var ws = {};\n",
       "\n",
       "    ws.close = function() {\n",
       "        comm.close()\n",
       "    };\n",
       "    ws.send = function(m) {\n",
       "        //console.log('sending', m);\n",
       "        comm.send(m);\n",
       "    };\n",
       "    // Register the callback with on_msg.\n",
       "    comm.on_msg(function(msg) {\n",
       "        //console.log('receiving', msg['content']['data'], msg);\n",
       "        // Pass the mpl event to the overriden (by mpl) onmessage function.\n",
       "        ws.onmessage(msg['content']['data'])\n",
       "    });\n",
       "    return ws;\n",
       "}\n",
       "\n",
       "mpl.mpl_figure_comm = function(comm, msg) {\n",
       "    // This is the function which gets called when the mpl process\n",
       "    // starts-up an IPython Comm through the \"matplotlib\" channel.\n",
       "\n",
       "    var id = msg.content.data.id;\n",
       "    // Get hold of the div created by the display call when the Comm\n",
       "    // socket was opened in Python.\n",
       "    var element = $(\"#\" + id);\n",
       "    var ws_proxy = comm_websocket_adapter(comm)\n",
       "\n",
       "    function ondownload(figure, format) {\n",
       "        window.open(figure.imageObj.src);\n",
       "    }\n",
       "\n",
       "    var fig = new mpl.figure(id, ws_proxy,\n",
       "                           ondownload,\n",
       "                           element.get(0));\n",
       "\n",
       "    // Call onopen now - mpl needs it, as it is assuming we've passed it a real\n",
       "    // web socket which is closed, not our websocket->open comm proxy.\n",
       "    ws_proxy.onopen();\n",
       "\n",
       "    fig.parent_element = element.get(0);\n",
       "    fig.cell_info = mpl.find_output_cell(\"<div id='\" + id + \"'></div>\");\n",
       "    if (!fig.cell_info) {\n",
       "        console.error(\"Failed to find cell for figure\", id, fig);\n",
       "        return;\n",
       "    }\n",
       "\n",
       "    var output_index = fig.cell_info[2]\n",
       "    var cell = fig.cell_info[0];\n",
       "\n",
       "};\n",
       "\n",
       "mpl.figure.prototype.handle_close = function(fig, msg) {\n",
       "    var width = fig.canvas.width/mpl.ratio\n",
       "    fig.root.unbind('remove')\n",
       "\n",
       "    // Update the output cell to use the data from the current canvas.\n",
       "    fig.push_to_output();\n",
       "    var dataURL = fig.canvas.toDataURL();\n",
       "    // Re-enable the keyboard manager in IPython - without this line, in FF,\n",
       "    // the notebook keyboard shortcuts fail.\n",
       "    IPython.keyboard_manager.enable()\n",
       "    $(fig.parent_element).html('<img src=\"' + dataURL + '\" width=\"' + width + '\">');\n",
       "    fig.close_ws(fig, msg);\n",
       "}\n",
       "\n",
       "mpl.figure.prototype.close_ws = function(fig, msg){\n",
       "    fig.send_message('closing', msg);\n",
       "    // fig.ws.close()\n",
       "}\n",
       "\n",
       "mpl.figure.prototype.push_to_output = function(remove_interactive) {\n",
       "    // Turn the data on the canvas into data in the output cell.\n",
       "    var width = this.canvas.width/mpl.ratio\n",
       "    var dataURL = this.canvas.toDataURL();\n",
       "    this.cell_info[1]['text/html'] = '<img src=\"' + dataURL + '\" width=\"' + width + '\">';\n",
       "}\n",
       "\n",
       "mpl.figure.prototype.updated_canvas_event = function() {\n",
       "    // Tell IPython that the notebook contents must change.\n",
       "    IPython.notebook.set_dirty(true);\n",
       "    this.send_message(\"ack\", {});\n",
       "    var fig = this;\n",
       "    // Wait a second, then push the new image to the DOM so\n",
       "    // that it is saved nicely (might be nice to debounce this).\n",
       "    setTimeout(function () { fig.push_to_output() }, 1000);\n",
       "}\n",
       "\n",
       "mpl.figure.prototype._init_toolbar = function() {\n",
       "    var fig = this;\n",
       "\n",
       "    var nav_element = $('<div/>')\n",
       "    nav_element.attr('style', 'width: 100%');\n",
       "    this.root.append(nav_element);\n",
       "\n",
       "    // Define a callback function for later on.\n",
       "    function toolbar_event(event) {\n",
       "        return fig.toolbar_button_onclick(event['data']);\n",
       "    }\n",
       "    function toolbar_mouse_event(event) {\n",
       "        return fig.toolbar_button_onmouseover(event['data']);\n",
       "    }\n",
       "\n",
       "    for(var toolbar_ind in mpl.toolbar_items){\n",
       "        var name = mpl.toolbar_items[toolbar_ind][0];\n",
       "        var tooltip = mpl.toolbar_items[toolbar_ind][1];\n",
       "        var image = mpl.toolbar_items[toolbar_ind][2];\n",
       "        var method_name = mpl.toolbar_items[toolbar_ind][3];\n",
       "\n",
       "        if (!name) { continue; };\n",
       "\n",
       "        var button = $('<button class=\"btn btn-default\" href=\"#\" title=\"' + name + '\"><i class=\"fa ' + image + ' fa-lg\"></i></button>');\n",
       "        button.click(method_name, toolbar_event);\n",
       "        button.mouseover(tooltip, toolbar_mouse_event);\n",
       "        nav_element.append(button);\n",
       "    }\n",
       "\n",
       "    // Add the status bar.\n",
       "    var status_bar = $('<span class=\"mpl-message\" style=\"text-align:right; float: right;\"/>');\n",
       "    nav_element.append(status_bar);\n",
       "    this.message = status_bar[0];\n",
       "\n",
       "    // Add the close button to the window.\n",
       "    var buttongrp = $('<div class=\"btn-group inline pull-right\"></div>');\n",
       "    var button = $('<button class=\"btn btn-mini btn-primary\" href=\"#\" title=\"Stop Interaction\"><i class=\"fa fa-power-off icon-remove icon-large\"></i></button>');\n",
       "    button.click(function (evt) { fig.handle_close(fig, {}); } );\n",
       "    button.mouseover('Stop Interaction', toolbar_mouse_event);\n",
       "    buttongrp.append(button);\n",
       "    var titlebar = this.root.find($('.ui-dialog-titlebar'));\n",
       "    titlebar.prepend(buttongrp);\n",
       "}\n",
       "\n",
       "mpl.figure.prototype._root_extra_style = function(el){\n",
       "    var fig = this\n",
       "    el.on(\"remove\", function(){\n",
       "\tfig.close_ws(fig, {});\n",
       "    });\n",
       "}\n",
       "\n",
       "mpl.figure.prototype._canvas_extra_style = function(el){\n",
       "    // this is important to make the div 'focusable\n",
       "    el.attr('tabindex', 0)\n",
       "    // reach out to IPython and tell the keyboard manager to turn it's self\n",
       "    // off when our div gets focus\n",
       "\n",
       "    // location in version 3\n",
       "    if (IPython.notebook.keyboard_manager) {\n",
       "        IPython.notebook.keyboard_manager.register_events(el);\n",
       "    }\n",
       "    else {\n",
       "        // location in version 2\n",
       "        IPython.keyboard_manager.register_events(el);\n",
       "    }\n",
       "\n",
       "}\n",
       "\n",
       "mpl.figure.prototype._key_event_extra = function(event, name) {\n",
       "    var manager = IPython.notebook.keyboard_manager;\n",
       "    if (!manager)\n",
       "        manager = IPython.keyboard_manager;\n",
       "\n",
       "    // Check for shift+enter\n",
       "    if (event.shiftKey && event.which == 13) {\n",
       "        this.canvas_div.blur();\n",
       "        // select the cell after this one\n",
       "        var index = IPython.notebook.find_cell_index(this.cell_info[0]);\n",
       "        IPython.notebook.select(index + 1);\n",
       "    }\n",
       "}\n",
       "\n",
       "mpl.figure.prototype.handle_save = function(fig, msg) {\n",
       "    fig.ondownload(fig, null);\n",
       "}\n",
       "\n",
       "\n",
       "mpl.find_output_cell = function(html_output) {\n",
       "    // Return the cell and output element which can be found *uniquely* in the notebook.\n",
       "    // Note - this is a bit hacky, but it is done because the \"notebook_saving.Notebook\"\n",
       "    // IPython event is triggered only after the cells have been serialised, which for\n",
       "    // our purposes (turning an active figure into a static one), is too late.\n",
       "    var cells = IPython.notebook.get_cells();\n",
       "    var ncells = cells.length;\n",
       "    for (var i=0; i<ncells; i++) {\n",
       "        var cell = cells[i];\n",
       "        if (cell.cell_type === 'code'){\n",
       "            for (var j=0; j<cell.output_area.outputs.length; j++) {\n",
       "                var data = cell.output_area.outputs[j];\n",
       "                if (data.data) {\n",
       "                    // IPython >= 3 moved mimebundle to data attribute of output\n",
       "                    data = data.data;\n",
       "                }\n",
       "                if (data['text/html'] == html_output) {\n",
       "                    return [cell, data, j];\n",
       "                }\n",
       "            }\n",
       "        }\n",
       "    }\n",
       "}\n",
       "\n",
       "// Register the function which deals with the matplotlib target/channel.\n",
       "// The kernel may be null if the page has been refreshed.\n",
       "if (IPython.notebook.kernel != null) {\n",
       "    IPython.notebook.kernel.comm_manager.register_target('matplotlib', mpl.mpl_figure_comm);\n",
       "}\n"
      ],
      "text/plain": [
       "<IPython.core.display.Javascript object>"
      ]
     },
     "metadata": {},
     "output_type": "display_data"
    },
    {
     "data": {
      "text/html": [
       "<img src=\"data:image/png;base64,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\" width=\"500\">"
      ],
      "text/plain": [
       "<IPython.core.display.HTML object>"
      ]
     },
     "metadata": {},
     "output_type": "display_data"
    },
    {
     "data": {
      "text/plain": [
       "[<matplotlib.lines.Line2D at 0x11bdf3550>]"
      ]
     },
     "execution_count": 11,
     "metadata": {},
     "output_type": "execute_result"
    }
   ],
   "source": [
    "x = np.linspace(0, 2*np.pi, 100)\n",
    "y = np.sin(x)\n",
    "plt.figure(figsize=(5,2.5))\n",
    "plt.plot(x,y)"
   ]
  },
  {
   "cell_type": "markdown",
   "metadata": {},
   "source": [
    "## Units, uncertainties and measurements"
   ]
  },
  {
   "cell_type": "markdown",
   "metadata": {},
   "source": [
    "The objets **ur**, **Quantity** and **Measurement**, based on the **`pint`** and **`uncertainties`** librairies allows the manipulation of data with units and uncertainties. (see tutorial-1-units-uncertainties)"
   ]
  },
  {
   "cell_type": "code",
   "execution_count": 12,
   "metadata": {},
   "outputs": [
    {
     "data": {
      "text/html": [
       "1.94 cm.s<sup>-1</sup>"
      ],
      "text/latex": [
       "$1.94\\ \\mathrm{cm} \\cdot \\mathrm{s}^{-1}$"
      ],
      "text/plain": [
       "<Quantity(1.94, 'centimeter / second')>"
      ]
     },
     "execution_count": 12,
     "metadata": {},
     "output_type": "execute_result"
    }
   ],
   "source": [
    "19.4 * ur.cm / (10 * ur.s)"
   ]
  },
  {
   "cell_type": "code",
   "execution_count": 13,
   "metadata": {},
   "outputs": [
    {
     "data": {
      "text/html": [
       "10.0 km"
      ],
      "text/latex": [
       "$10.0\\ \\mathrm{km}$"
      ],
      "text/plain": [
       "<Quantity(10.0, 'kilometer')>"
      ]
     },
     "execution_count": 13,
     "metadata": {},
     "output_type": "execute_result"
    }
   ],
   "source": [
    "x= Quantity(10., 'km')\n",
    "x"
   ]
  },
  {
   "cell_type": "code",
   "execution_count": 14,
   "metadata": {},
   "outputs": [
    {
     "name": "stdout",
     "output_type": "stream",
     "text": [
      "(10.000 +/- 0.010) kilometer\n"
     ]
    }
   ],
   "source": [
    "y = Measurement(10, .01, 'km')\n",
    "print(y)  #TODO: _repr_html not working"
   ]
  },
  {
   "cell_type": "markdown",
   "metadata": {},
   "source": [
    "## Using the API: a first example with the Isotope database"
   ]
  },
  {
   "cell_type": "markdown",
   "metadata": {},
   "source": [
    "If you are interested by **NMR**, it might be useful to have information about NMR isotopes, *e.g.*, to include this in some further calculations.\n",
    "\n",
    "Let's get information about the $^{27}$Al nucleus. \n",
    "\n",
    "We use the **Isotopes** class:"
   ]
  },
  {
   "cell_type": "code",
   "execution_count": 15,
   "metadata": {
    "run_control": {
     "frozen": false,
     "read_only": false
    }
   },
   "outputs": [
    {
     "data": {
      "text/html": [
       "<sup>27</sup>Al [5/2]"
      ],
      "text/plain": [
       "Isotopes < 27Al >"
      ]
     },
     "execution_count": 15,
     "metadata": {},
     "output_type": "execute_result"
    }
   ],
   "source": [
    "al = Isotopes('27Al')\n",
    "al"
   ]
  },
  {
   "cell_type": "code",
   "execution_count": 16,
   "metadata": {
    "run_control": {
     "frozen": false,
     "read_only": false
    }
   },
   "outputs": [
    {
     "name": "stdout",
     "output_type": "stream",
     "text": [
      "Al 5/2\n"
     ]
    }
   ],
   "source": [
    "print(al.symbol, al.spin)"
   ]
  },
  {
   "cell_type": "code",
   "execution_count": 17,
   "metadata": {
    "run_control": {
     "frozen": false,
     "read_only": false
    }
   },
   "outputs": [
    {
     "data": {
      "text/html": [
       "1.466e-29 m<sup>2</sup>"
      ],
      "text/latex": [
       "$1.466e-29\\ \\mathrm{m}^{2}$"
      ],
      "text/plain": [
       "<Quantity(1.466e-29, 'meter ** 2')>"
      ]
     },
     "execution_count": 17,
     "metadata": {},
     "output_type": "execute_result"
    }
   ],
   "source": [
    "quadrupolar_moment = al.Q.to('m^2') \n",
    "quadrupolar_moment"
   ]
  },
  {
   "cell_type": "code",
   "execution_count": 18,
   "metadata": {
    "run_control": {
     "frozen": false,
     "read_only": false
    }
   },
   "outputs": [
    {
     "data": {
      "text/html": [
       "11.103076875144868 MHz.T<sup>-1</sup>"
      ],
      "text/latex": [
       "$11.103076875144868\\ \\mathrm{MHz} \\cdot \\mathrm{T}^{-1}$"
      ],
      "text/plain": [
       "<Quantity(11.103076875144868, 'megahertz / tesla')>"
      ]
     },
     "execution_count": 18,
     "metadata": {},
     "output_type": "execute_result"
    }
   ],
   "source": [
    "gyromagnetic_ratio = al.gamma\n",
    "gyromagnetic_ratio"
   ]
  },
  {
   "cell_type": "markdown",
   "metadata": {},
   "source": [
    "It is then obvious how to get the Larmor frequency of aluminium:"
   ]
  },
  {
   "cell_type": "code",
   "execution_count": 19,
   "metadata": {
    "run_control": {
     "frozen": false,
     "read_only": false
    }
   },
   "outputs": [
    {
     "name": "stdout",
     "output_type": "stream",
     "text": [
      "104.37 MHz at 9.40 T\n"
     ]
    }
   ],
   "source": [
    "B0 = Quantity('9.4 tesla')\n",
    "print(\"{freq:~.2f} at {B0:~.2f}\".format(freq=al.gamma * B0, B0=B0))"
   ]
  }
 ],
 "metadata": {
  "kernelspec": {
   "display_name": "Python [conda env:scp36]",
   "language": "python",
   "name": "conda-env-scp36-py"
  },
  "language_info": {
   "codemirror_mode": {
    "name": "ipython",
    "version": 3
   },
   "file_extension": ".py",
   "mimetype": "text/x-python",
   "name": "python",
   "nbconvert_exporter": "python",
   "pygments_lexer": "ipython3",
   "version": "3.6.1"
  },
  "toc": {
   "toc_cell": true,
   "toc_number_sections": false,
   "toc_threshold": 6,
   "toc_window_display": false
  }
 },
 "nbformat": 4,
 "nbformat_minor": 1
}
