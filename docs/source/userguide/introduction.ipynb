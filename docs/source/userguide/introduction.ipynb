{
 "cells": [
  {
   "cell_type": "markdown",
   "metadata": {},
   "source": [
    "## Getting Started\n",
    "\n",
    "<div class=\"alert alert-info\">\n",
    "\n",
    "**Note:** We assume the spectrochemistry package has been properly installed - if not please go to ``install``\n",
    "\n",
    "</div>"
   ]
  },
  {
   "cell_type": "markdown",
   "metadata": {},
   "source": [
    "Before using the package, we need to load the **API (Application Programming Interface)**\n",
    "\n",
    "The simplest way is to import all the objects and methods at once into your python namespace."
   ]
  },
  {
   "cell_type": "code",
   "execution_count": 1,
   "metadata": {},
   "outputs": [
    {
     "name": "stdout",
     "output_type": "stream",
     "text": [
      "\n",
      "        SpectroChemPy's API\n",
      "        Version   : 0.1a2.post69\n",
      "        Copyright : 2014-2017 - LCS (Laboratory for Catalysis and Spectrochempy)\n",
      "            \n"
     ]
    }
   ],
   "source": [
    "from spectrochempy.api import *"
   ]
  },
  {
   "cell_type": "markdown",
   "metadata": {},
   "source": [
    "but you can also import method only when it is needed.\n",
    "\n",
    "For instances, one object very usefull in the following will be a nd-dataset to contain some data. Instead of issuing the previous command, one can do:"
   ]
  },
  {
   "cell_type": "code",
   "execution_count": 2,
   "metadata": {
    "collapsed": true
   },
   "outputs": [],
   "source": [
    "from spectrochempy.api import NDDataset\n",
    "mydataset = NDDataset()"
   ]
  },
  {
   "cell_type": "markdown",
   "metadata": {},
   "source": [
    "In the second line we have defined a new empty instance of **NDDataset**, wich will be further use to load our data."
   ]
  },
  {
   "cell_type": "markdown",
   "metadata": {},
   "source": [
    "Another way to proceed is to not mix the API namespace with your normal python. \n",
    "\n",
    "In this case, you can simply do:\n"
   ]
  },
  {
   "cell_type": "code",
   "execution_count": 3,
   "metadata": {
    "collapsed": true
   },
   "outputs": [],
   "source": [
    "import spectrochempy.api as scp\n",
    "mydataset = scp.NDDataset()"
   ]
  },
  {
   "cell_type": "markdown",
   "metadata": {},
   "source": [
    "As such, the above command ``from spectrochempy import *``, lead to import of several objects and methods in the namespace.\n",
    "\n",
    "To get a list of all available methods or objects, type the following command:"
   ]
  },
  {
   "cell_type": "code",
   "execution_count": 4,
   "metadata": {},
   "outputs": [
    {
     "data": {
      "text/plain": [
       "['APIref',\n",
       " 'CRITICAL',\n",
       " 'Coord',\n",
       " 'CoordError',\n",
       " 'CoordError',\n",
       " 'CoordRange',\n",
       " 'CoordRangeError',\n",
       " 'CoordSet',\n",
       " 'CoordSetError',\n",
       " 'CoordSetWarning',\n",
       " 'CoordWarning',\n",
       " 'DEBUG',\n",
       " 'DimensionalityError',\n",
       " 'ERROR',\n",
       " 'Efa',\n",
       " 'Fit',\n",
       " 'FitParameters',\n",
       " 'HAS_SCIKITLEARN',\n",
       " 'HAS_SYMPY',\n",
       " 'INFO',\n",
       " 'Iris',\n",
       " 'Isotopes',\n",
       " 'Lsqnonneg',\n",
       " 'Lstsq',\n",
       " 'McrAls',\n",
       " 'Measurement',\n",
       " 'Meta',\n",
       " 'NDArray',\n",
       " 'NDArrayError',\n",
       " 'NDDataset',\n",
       " 'NDDatasetError',\n",
       " 'NDDatasetWarning',\n",
       " 'NDIO',\n",
       " 'NDMath',\n",
       " 'Nnmf',\n",
       " 'ParameterScript',\n",
       " 'Pca',\n",
       " 'Quantity',\n",
       " 'Svd',\n",
       " 'Unit',\n",
       " 'WARN',\n",
       " 'abs',\n",
       " 'align',\n",
       " 'apodize',\n",
       " 'autosub',\n",
       " 'available_styles',\n",
       " 'basecor',\n",
       " 'concatenate',\n",
       " 'conj',\n",
       " 'copyright',\n",
       " 'curfig',\n",
       " 'data',\n",
       " 'em',\n",
       " 'figure',\n",
       " 'gm',\n",
       " 'imag',\n",
       " 'interpolate',\n",
       " 'list_data',\n",
       " 'load',\n",
       " 'log',\n",
       " 'log_level',\n",
       " 'np',\n",
       " 'optimize',\n",
       " 'options',\n",
       " 'plot',\n",
       " 'plot_1D',\n",
       " 'plot_2D',\n",
       " 'plot_3D',\n",
       " 'plot_image',\n",
       " 'plot_map',\n",
       " 'plot_stack',\n",
       " 'plotoptions',\n",
       " 'plt',\n",
       " 'raises',\n",
       " 'read',\n",
       " 'read_bruker_nmr',\n",
       " 'read_dso',\n",
       " 'read_jdx',\n",
       " 'read_omnic',\n",
       " 'real',\n",
       " 'scipy',\n",
       " 'set_nmr_context',\n",
       " 'show',\n",
       " 'skl',\n",
       " 'sort',\n",
       " 'squeeze',\n",
       " 'swapaxes',\n",
       " 'sym',\n",
       " 'transpose',\n",
       " 'ur',\n",
       " 'version',\n",
       " 'write']"
      ]
     },
     "execution_count": 4,
     "metadata": {},
     "output_type": "execute_result"
    }
   ],
   "source": [
    "APIref"
   ]
  },
  {
   "cell_type": "markdown",
   "metadata": {},
   "source": [
    "If something goes wrong with during a cell execution,  a ``traceback`` is displayed.\n",
    "\n",
    "For instance, the object or method ``toto`` does not exist in the API, so an error (**ImportError**) is generated when trying to import this from the API. Here we catch the error with a try except structure"
   ]
  },
  {
   "cell_type": "code",
   "execution_count": 8,
   "metadata": {},
   "outputs": [
    {
     "name": "stderr",
     "output_type": "stream",
     "text": [
      " ERROR | OOPS, THAT'S AN IMPORT ERROR!\n"
     ]
    }
   ],
   "source": [
    "try:\n",
    "    from spectrochempy import toto\n",
    "except ImportError:\n",
    "    log.error(\"OOPS, THAT'S AN IMPORT ERROR!\")"
   ]
  },
  {
   "cell_type": "markdown",
   "metadata": {},
   "source": [
    "The error will stop the execution if not catched."
   ]
  },
  {
   "cell_type": "markdown",
   "metadata": {},
   "source": [
    "## Configuration\n",
    "\n",
    "Many options of the API can be set up"
   ]
  },
  {
   "cell_type": "code",
   "execution_count": 10,
   "metadata": {
    "collapsed": true
   },
   "outputs": [],
   "source": [
    "options.log_level = INFO"
   ]
  },
  {
   "cell_type": "markdown",
   "metadata": {},
   "source": [
    "In the above cell, we have set the **log** level to display ``info`` messages, such as this one:"
   ]
  },
  {
   "cell_type": "code",
   "execution_count": 11,
   "metadata": {},
   "outputs": [
    {
     "name": "stderr",
     "output_type": "stream",
     "text": [
      " this is an info message!\n"
     ]
    }
   ],
   "source": [
    "log.info('this is an info message!')\n",
    "log.debug('this is a debug message!')"
   ]
  },
  {
   "cell_type": "markdown",
   "metadata": {},
   "source": [
    "Only the info message is displayed, as expected.\n",
    "\n",
    "If we change it to ``DEBUG``, we should get the two messages"
   ]
  },
  {
   "cell_type": "code",
   "execution_count": 12,
   "metadata": {
    "run_control": {
     "frozen": false,
     "read_only": false
    }
   },
   "outputs": [
    {
     "name": "stderr",
     "output_type": "stream",
     "text": [
      "[SpectroChemPy 2017-11-02 15:00:27] changed default loglevel to 10\n",
      "[SpectroChemPy 2017-11-02 15:00:27] this is an info message!\n",
      "[SpectroChemPy 2017-11-02 15:00:27] this is a debug message!\n"
     ]
    }
   ],
   "source": [
    "options.log_level = DEBUG\n",
    "\n",
    "log.info('this is an info message!')\n",
    "log.debug('this is a debug message!')"
   ]
  },
  {
   "cell_type": "markdown",
   "metadata": {},
   "source": [
    "Let's now come back to a standard level of message for the rest of the Tutorial."
   ]
  },
  {
   "cell_type": "code",
   "execution_count": 13,
   "metadata": {},
   "outputs": [
    {
     "name": "stderr",
     "output_type": "stream",
     "text": [
      " WARNING | this is a warning message!\n"
     ]
    }
   ],
   "source": [
    "options.log_level = WARN\n",
    "\n",
    "log.info('this is an info message!')\n",
    "log.debug('this is a debug message!')\n",
    "log.warning('this is a warning message!')"
   ]
  },
  {
   "cell_type": "markdown",
   "metadata": {},
   "source": [
    "## Access to scientific libraries"
   ]
  },
  {
   "cell_type": "markdown",
   "metadata": {},
   "source": [
    "Several libraries are imported with **SpectroChemPy** (so you don't need to re-import them):\n",
    "\n",
    "- **np** :  This is actually the **`numpy`** library, to perform numerical calculation on nD arrays. \n",
    "- **plt** : This is the **`matplotlib`** library, to allow plotting data \n",
    "\n",
    "Optionally, **scipy** and **sympy** can be available, if **SpectroChempy** can find these libraries installed on your system."
   ]
  },
  {
   "cell_type": "code",
   "execution_count": 14,
   "metadata": {},
   "outputs": [
    {
     "data": {
      "application/javascript": [
       "/* Put everything inside the global mpl namespace */\n",
       "window.mpl = {};\n",
       "\n",
       "\n",
       "mpl.get_websocket_type = function() {\n",
       "    if (typeof(WebSocket) !== 'undefined') {\n",
       "        return WebSocket;\n",
       "    } else if (typeof(MozWebSocket) !== 'undefined') {\n",
       "        return MozWebSocket;\n",
       "    } else {\n",
       "        alert('Your browser does not have WebSocket support.' +\n",
       "              'Please try Chrome, Safari or Firefox ≥ 6. ' +\n",
       "              'Firefox 4 and 5 are also supported but you ' +\n",
       "              'have to enable WebSockets in about:config.');\n",
       "    };\n",
       "}\n",
       "\n",
       "mpl.figure = function(figure_id, websocket, ondownload, parent_element) {\n",
       "    this.id = figure_id;\n",
       "\n",
       "    this.ws = websocket;\n",
       "\n",
       "    this.supports_binary = (this.ws.binaryType != undefined);\n",
       "\n",
       "    if (!this.supports_binary) {\n",
       "        var warnings = document.getElementById(\"mpl-warnings\");\n",
       "        if (warnings) {\n",
       "            warnings.style.display = 'block';\n",
       "            warnings.textContent = (\n",
       "                \"This browser does not support binary websocket messages. \" +\n",
       "                    \"Performance may be slow.\");\n",
       "        }\n",
       "    }\n",
       "\n",
       "    this.imageObj = new Image();\n",
       "\n",
       "    this.context = undefined;\n",
       "    this.message = undefined;\n",
       "    this.canvas = undefined;\n",
       "    this.rubberband_canvas = undefined;\n",
       "    this.rubberband_context = undefined;\n",
       "    this.format_dropdown = undefined;\n",
       "\n",
       "    this.image_mode = 'full';\n",
       "\n",
       "    this.root = $('<div/>');\n",
       "    this._root_extra_style(this.root)\n",
       "    this.root.attr('style', 'display: inline-block');\n",
       "\n",
       "    $(parent_element).append(this.root);\n",
       "\n",
       "    this._init_header(this);\n",
       "    this._init_canvas(this);\n",
       "    this._init_toolbar(this);\n",
       "\n",
       "    var fig = this;\n",
       "\n",
       "    this.waiting = false;\n",
       "\n",
       "    this.ws.onopen =  function () {\n",
       "            fig.send_message(\"supports_binary\", {value: fig.supports_binary});\n",
       "            fig.send_message(\"send_image_mode\", {});\n",
       "            if (mpl.ratio != 1) {\n",
       "                fig.send_message(\"set_dpi_ratio\", {'dpi_ratio': mpl.ratio});\n",
       "            }\n",
       "            fig.send_message(\"refresh\", {});\n",
       "        }\n",
       "\n",
       "    this.imageObj.onload = function() {\n",
       "            if (fig.image_mode == 'full') {\n",
       "                // Full images could contain transparency (where diff images\n",
       "                // almost always do), so we need to clear the canvas so that\n",
       "                // there is no ghosting.\n",
       "                fig.context.clearRect(0, 0, fig.canvas.width, fig.canvas.height);\n",
       "            }\n",
       "            fig.context.drawImage(fig.imageObj, 0, 0);\n",
       "        };\n",
       "\n",
       "    this.imageObj.onunload = function() {\n",
       "        this.ws.close();\n",
       "    }\n",
       "\n",
       "    this.ws.onmessage = this._make_on_message_function(this);\n",
       "\n",
       "    this.ondownload = ondownload;\n",
       "}\n",
       "\n",
       "mpl.figure.prototype._init_header = function() {\n",
       "    var titlebar = $(\n",
       "        '<div class=\"ui-dialog-titlebar ui-widget-header ui-corner-all ' +\n",
       "        'ui-helper-clearfix\"/>');\n",
       "    var titletext = $(\n",
       "        '<div class=\"ui-dialog-title\" style=\"width: 100%; ' +\n",
       "        'text-align: center; padding: 3px;\"/>');\n",
       "    titlebar.append(titletext)\n",
       "    this.root.append(titlebar);\n",
       "    this.header = titletext[0];\n",
       "}\n",
       "\n",
       "\n",
       "\n",
       "mpl.figure.prototype._canvas_extra_style = function(canvas_div) {\n",
       "\n",
       "}\n",
       "\n",
       "\n",
       "mpl.figure.prototype._root_extra_style = function(canvas_div) {\n",
       "\n",
       "}\n",
       "\n",
       "mpl.figure.prototype._init_canvas = function() {\n",
       "    var fig = this;\n",
       "\n",
       "    var canvas_div = $('<div/>');\n",
       "\n",
       "    canvas_div.attr('style', 'position: relative; clear: both; outline: 0');\n",
       "\n",
       "    function canvas_keyboard_event(event) {\n",
       "        return fig.key_event(event, event['data']);\n",
       "    }\n",
       "\n",
       "    canvas_div.keydown('key_press', canvas_keyboard_event);\n",
       "    canvas_div.keyup('key_release', canvas_keyboard_event);\n",
       "    this.canvas_div = canvas_div\n",
       "    this._canvas_extra_style(canvas_div)\n",
       "    this.root.append(canvas_div);\n",
       "\n",
       "    var canvas = $('<canvas/>');\n",
       "    canvas.addClass('mpl-canvas');\n",
       "    canvas.attr('style', \"left: 0; top: 0; z-index: 0; outline: 0\")\n",
       "\n",
       "    this.canvas = canvas[0];\n",
       "    this.context = canvas[0].getContext(\"2d\");\n",
       "\n",
       "    var backingStore = this.context.backingStorePixelRatio ||\n",
       "\tthis.context.webkitBackingStorePixelRatio ||\n",
       "\tthis.context.mozBackingStorePixelRatio ||\n",
       "\tthis.context.msBackingStorePixelRatio ||\n",
       "\tthis.context.oBackingStorePixelRatio ||\n",
       "\tthis.context.backingStorePixelRatio || 1;\n",
       "\n",
       "    mpl.ratio = (window.devicePixelRatio || 1) / backingStore;\n",
       "\n",
       "    var rubberband = $('<canvas/>');\n",
       "    rubberband.attr('style', \"position: absolute; left: 0; top: 0; z-index: 1;\")\n",
       "\n",
       "    var pass_mouse_events = true;\n",
       "\n",
       "    canvas_div.resizable({\n",
       "        start: function(event, ui) {\n",
       "            pass_mouse_events = false;\n",
       "        },\n",
       "        resize: function(event, ui) {\n",
       "            fig.request_resize(ui.size.width, ui.size.height);\n",
       "        },\n",
       "        stop: function(event, ui) {\n",
       "            pass_mouse_events = true;\n",
       "            fig.request_resize(ui.size.width, ui.size.height);\n",
       "        },\n",
       "    });\n",
       "\n",
       "    function mouse_event_fn(event) {\n",
       "        if (pass_mouse_events)\n",
       "            return fig.mouse_event(event, event['data']);\n",
       "    }\n",
       "\n",
       "    rubberband.mousedown('button_press', mouse_event_fn);\n",
       "    rubberband.mouseup('button_release', mouse_event_fn);\n",
       "    // Throttle sequential mouse events to 1 every 20ms.\n",
       "    rubberband.mousemove('motion_notify', mouse_event_fn);\n",
       "\n",
       "    rubberband.mouseenter('figure_enter', mouse_event_fn);\n",
       "    rubberband.mouseleave('figure_leave', mouse_event_fn);\n",
       "\n",
       "    canvas_div.on(\"wheel\", function (event) {\n",
       "        event = event.originalEvent;\n",
       "        event['data'] = 'scroll'\n",
       "        if (event.deltaY < 0) {\n",
       "            event.step = 1;\n",
       "        } else {\n",
       "            event.step = -1;\n",
       "        }\n",
       "        mouse_event_fn(event);\n",
       "    });\n",
       "\n",
       "    canvas_div.append(canvas);\n",
       "    canvas_div.append(rubberband);\n",
       "\n",
       "    this.rubberband = rubberband;\n",
       "    this.rubberband_canvas = rubberband[0];\n",
       "    this.rubberband_context = rubberband[0].getContext(\"2d\");\n",
       "    this.rubberband_context.strokeStyle = \"#000000\";\n",
       "\n",
       "    this._resize_canvas = function(width, height) {\n",
       "        // Keep the size of the canvas, canvas container, and rubber band\n",
       "        // canvas in synch.\n",
       "        canvas_div.css('width', width)\n",
       "        canvas_div.css('height', height)\n",
       "\n",
       "        canvas.attr('width', width * mpl.ratio);\n",
       "        canvas.attr('height', height * mpl.ratio);\n",
       "        canvas.attr('style', 'width: ' + width + 'px; height: ' + height + 'px;');\n",
       "\n",
       "        rubberband.attr('width', width);\n",
       "        rubberband.attr('height', height);\n",
       "    }\n",
       "\n",
       "    // Set the figure to an initial 600x600px, this will subsequently be updated\n",
       "    // upon first draw.\n",
       "    this._resize_canvas(600, 600);\n",
       "\n",
       "    // Disable right mouse context menu.\n",
       "    $(this.rubberband_canvas).bind(\"contextmenu\",function(e){\n",
       "        return false;\n",
       "    });\n",
       "\n",
       "    function set_focus () {\n",
       "        canvas.focus();\n",
       "        canvas_div.focus();\n",
       "    }\n",
       "\n",
       "    window.setTimeout(set_focus, 100);\n",
       "}\n",
       "\n",
       "mpl.figure.prototype._init_toolbar = function() {\n",
       "    var fig = this;\n",
       "\n",
       "    var nav_element = $('<div/>')\n",
       "    nav_element.attr('style', 'width: 100%');\n",
       "    this.root.append(nav_element);\n",
       "\n",
       "    // Define a callback function for later on.\n",
       "    function toolbar_event(event) {\n",
       "        return fig.toolbar_button_onclick(event['data']);\n",
       "    }\n",
       "    function toolbar_mouse_event(event) {\n",
       "        return fig.toolbar_button_onmouseover(event['data']);\n",
       "    }\n",
       "\n",
       "    for(var toolbar_ind in mpl.toolbar_items) {\n",
       "        var name = mpl.toolbar_items[toolbar_ind][0];\n",
       "        var tooltip = mpl.toolbar_items[toolbar_ind][1];\n",
       "        var image = mpl.toolbar_items[toolbar_ind][2];\n",
       "        var method_name = mpl.toolbar_items[toolbar_ind][3];\n",
       "\n",
       "        if (!name) {\n",
       "            // put a spacer in here.\n",
       "            continue;\n",
       "        }\n",
       "        var button = $('<button/>');\n",
       "        button.addClass('ui-button ui-widget ui-state-default ui-corner-all ' +\n",
       "                        'ui-button-icon-only');\n",
       "        button.attr('role', 'button');\n",
       "        button.attr('aria-disabled', 'false');\n",
       "        button.click(method_name, toolbar_event);\n",
       "        button.mouseover(tooltip, toolbar_mouse_event);\n",
       "\n",
       "        var icon_img = $('<span/>');\n",
       "        icon_img.addClass('ui-button-icon-primary ui-icon');\n",
       "        icon_img.addClass(image);\n",
       "        icon_img.addClass('ui-corner-all');\n",
       "\n",
       "        var tooltip_span = $('<span/>');\n",
       "        tooltip_span.addClass('ui-button-text');\n",
       "        tooltip_span.html(tooltip);\n",
       "\n",
       "        button.append(icon_img);\n",
       "        button.append(tooltip_span);\n",
       "\n",
       "        nav_element.append(button);\n",
       "    }\n",
       "\n",
       "    var fmt_picker_span = $('<span/>');\n",
       "\n",
       "    var fmt_picker = $('<select/>');\n",
       "    fmt_picker.addClass('mpl-toolbar-option ui-widget ui-widget-content');\n",
       "    fmt_picker_span.append(fmt_picker);\n",
       "    nav_element.append(fmt_picker_span);\n",
       "    this.format_dropdown = fmt_picker[0];\n",
       "\n",
       "    for (var ind in mpl.extensions) {\n",
       "        var fmt = mpl.extensions[ind];\n",
       "        var option = $(\n",
       "            '<option/>', {selected: fmt === mpl.default_extension}).html(fmt);\n",
       "        fmt_picker.append(option)\n",
       "    }\n",
       "\n",
       "    // Add hover states to the ui-buttons\n",
       "    $( \".ui-button\" ).hover(\n",
       "        function() { $(this).addClass(\"ui-state-hover\");},\n",
       "        function() { $(this).removeClass(\"ui-state-hover\");}\n",
       "    );\n",
       "\n",
       "    var status_bar = $('<span class=\"mpl-message\"/>');\n",
       "    nav_element.append(status_bar);\n",
       "    this.message = status_bar[0];\n",
       "}\n",
       "\n",
       "mpl.figure.prototype.request_resize = function(x_pixels, y_pixels) {\n",
       "    // Request matplotlib to resize the figure. Matplotlib will then trigger a resize in the client,\n",
       "    // which will in turn request a refresh of the image.\n",
       "    this.send_message('resize', {'width': x_pixels, 'height': y_pixels});\n",
       "}\n",
       "\n",
       "mpl.figure.prototype.send_message = function(type, properties) {\n",
       "    properties['type'] = type;\n",
       "    properties['figure_id'] = this.id;\n",
       "    this.ws.send(JSON.stringify(properties));\n",
       "}\n",
       "\n",
       "mpl.figure.prototype.send_draw_message = function() {\n",
       "    if (!this.waiting) {\n",
       "        this.waiting = true;\n",
       "        this.ws.send(JSON.stringify({type: \"draw\", figure_id: this.id}));\n",
       "    }\n",
       "}\n",
       "\n",
       "\n",
       "mpl.figure.prototype.handle_save = function(fig, msg) {\n",
       "    var format_dropdown = fig.format_dropdown;\n",
       "    var format = format_dropdown.options[format_dropdown.selectedIndex].value;\n",
       "    fig.ondownload(fig, format);\n",
       "}\n",
       "\n",
       "\n",
       "mpl.figure.prototype.handle_resize = function(fig, msg) {\n",
       "    var size = msg['size'];\n",
       "    if (size[0] != fig.canvas.width || size[1] != fig.canvas.height) {\n",
       "        fig._resize_canvas(size[0], size[1]);\n",
       "        fig.send_message(\"refresh\", {});\n",
       "    };\n",
       "}\n",
       "\n",
       "mpl.figure.prototype.handle_rubberband = function(fig, msg) {\n",
       "    var x0 = msg['x0'] / mpl.ratio;\n",
       "    var y0 = (fig.canvas.height - msg['y0']) / mpl.ratio;\n",
       "    var x1 = msg['x1'] / mpl.ratio;\n",
       "    var y1 = (fig.canvas.height - msg['y1']) / mpl.ratio;\n",
       "    x0 = Math.floor(x0) + 0.5;\n",
       "    y0 = Math.floor(y0) + 0.5;\n",
       "    x1 = Math.floor(x1) + 0.5;\n",
       "    y1 = Math.floor(y1) + 0.5;\n",
       "    var min_x = Math.min(x0, x1);\n",
       "    var min_y = Math.min(y0, y1);\n",
       "    var width = Math.abs(x1 - x0);\n",
       "    var height = Math.abs(y1 - y0);\n",
       "\n",
       "    fig.rubberband_context.clearRect(\n",
       "        0, 0, fig.canvas.width, fig.canvas.height);\n",
       "\n",
       "    fig.rubberband_context.strokeRect(min_x, min_y, width, height);\n",
       "}\n",
       "\n",
       "mpl.figure.prototype.handle_figure_label = function(fig, msg) {\n",
       "    // Updates the figure title.\n",
       "    fig.header.textContent = msg['label'];\n",
       "}\n",
       "\n",
       "mpl.figure.prototype.handle_cursor = function(fig, msg) {\n",
       "    var cursor = msg['cursor'];\n",
       "    switch(cursor)\n",
       "    {\n",
       "    case 0:\n",
       "        cursor = 'pointer';\n",
       "        break;\n",
       "    case 1:\n",
       "        cursor = 'default';\n",
       "        break;\n",
       "    case 2:\n",
       "        cursor = 'crosshair';\n",
       "        break;\n",
       "    case 3:\n",
       "        cursor = 'move';\n",
       "        break;\n",
       "    }\n",
       "    fig.rubberband_canvas.style.cursor = cursor;\n",
       "}\n",
       "\n",
       "mpl.figure.prototype.handle_message = function(fig, msg) {\n",
       "    fig.message.textContent = msg['message'];\n",
       "}\n",
       "\n",
       "mpl.figure.prototype.handle_draw = function(fig, msg) {\n",
       "    // Request the server to send over a new figure.\n",
       "    fig.send_draw_message();\n",
       "}\n",
       "\n",
       "mpl.figure.prototype.handle_image_mode = function(fig, msg) {\n",
       "    fig.image_mode = msg['mode'];\n",
       "}\n",
       "\n",
       "mpl.figure.prototype.updated_canvas_event = function() {\n",
       "    // Called whenever the canvas gets updated.\n",
       "    this.send_message(\"ack\", {});\n",
       "}\n",
       "\n",
       "// A function to construct a web socket function for onmessage handling.\n",
       "// Called in the figure constructor.\n",
       "mpl.figure.prototype._make_on_message_function = function(fig) {\n",
       "    return function socket_on_message(evt) {\n",
       "        if (evt.data instanceof Blob) {\n",
       "            /* FIXME: We get \"Resource interpreted as Image but\n",
       "             * transferred with MIME type text/plain:\" errors on\n",
       "             * Chrome.  But how to set the MIME type?  It doesn't seem\n",
       "             * to be part of the websocket stream */\n",
       "            evt.data.type = \"image/png\";\n",
       "\n",
       "            /* Free the memory for the previous frames */\n",
       "            if (fig.imageObj.src) {\n",
       "                (window.URL || window.webkitURL).revokeObjectURL(\n",
       "                    fig.imageObj.src);\n",
       "            }\n",
       "\n",
       "            fig.imageObj.src = (window.URL || window.webkitURL).createObjectURL(\n",
       "                evt.data);\n",
       "            fig.updated_canvas_event();\n",
       "            fig.waiting = false;\n",
       "            return;\n",
       "        }\n",
       "        else if (typeof evt.data === 'string' && evt.data.slice(0, 21) == \"data:image/png;base64\") {\n",
       "            fig.imageObj.src = evt.data;\n",
       "            fig.updated_canvas_event();\n",
       "            fig.waiting = false;\n",
       "            return;\n",
       "        }\n",
       "\n",
       "        var msg = JSON.parse(evt.data);\n",
       "        var msg_type = msg['type'];\n",
       "\n",
       "        // Call the  \"handle_{type}\" callback, which takes\n",
       "        // the figure and JSON message as its only arguments.\n",
       "        try {\n",
       "            var callback = fig[\"handle_\" + msg_type];\n",
       "        } catch (e) {\n",
       "            console.log(\"No handler for the '\" + msg_type + \"' message type: \", msg);\n",
       "            return;\n",
       "        }\n",
       "\n",
       "        if (callback) {\n",
       "            try {\n",
       "                // console.log(\"Handling '\" + msg_type + \"' message: \", msg);\n",
       "                callback(fig, msg);\n",
       "            } catch (e) {\n",
       "                console.log(\"Exception inside the 'handler_\" + msg_type + \"' callback:\", e, e.stack, msg);\n",
       "            }\n",
       "        }\n",
       "    };\n",
       "}\n",
       "\n",
       "// from http://stackoverflow.com/questions/1114465/getting-mouse-location-in-canvas\n",
       "mpl.findpos = function(e) {\n",
       "    //this section is from http://www.quirksmode.org/js/events_properties.html\n",
       "    var targ;\n",
       "    if (!e)\n",
       "        e = window.event;\n",
       "    if (e.target)\n",
       "        targ = e.target;\n",
       "    else if (e.srcElement)\n",
       "        targ = e.srcElement;\n",
       "    if (targ.nodeType == 3) // defeat Safari bug\n",
       "        targ = targ.parentNode;\n",
       "\n",
       "    // jQuery normalizes the pageX and pageY\n",
       "    // pageX,Y are the mouse positions relative to the document\n",
       "    // offset() returns the position of the element relative to the document\n",
       "    var x = e.pageX - $(targ).offset().left;\n",
       "    var y = e.pageY - $(targ).offset().top;\n",
       "\n",
       "    return {\"x\": x, \"y\": y};\n",
       "};\n",
       "\n",
       "/*\n",
       " * return a copy of an object with only non-object keys\n",
       " * we need this to avoid circular references\n",
       " * http://stackoverflow.com/a/24161582/3208463\n",
       " */\n",
       "function simpleKeys (original) {\n",
       "  return Object.keys(original).reduce(function (obj, key) {\n",
       "    if (typeof original[key] !== 'object')\n",
       "        obj[key] = original[key]\n",
       "    return obj;\n",
       "  }, {});\n",
       "}\n",
       "\n",
       "mpl.figure.prototype.mouse_event = function(event, name) {\n",
       "    var canvas_pos = mpl.findpos(event)\n",
       "\n",
       "    if (name === 'button_press')\n",
       "    {\n",
       "        this.canvas.focus();\n",
       "        this.canvas_div.focus();\n",
       "    }\n",
       "\n",
       "    var x = canvas_pos.x * mpl.ratio;\n",
       "    var y = canvas_pos.y * mpl.ratio;\n",
       "\n",
       "    this.send_message(name, {x: x, y: y, button: event.button,\n",
       "                             step: event.step,\n",
       "                             guiEvent: simpleKeys(event)});\n",
       "\n",
       "    /* This prevents the web browser from automatically changing to\n",
       "     * the text insertion cursor when the button is pressed.  We want\n",
       "     * to control all of the cursor setting manually through the\n",
       "     * 'cursor' event from matplotlib */\n",
       "    event.preventDefault();\n",
       "    return false;\n",
       "}\n",
       "\n",
       "mpl.figure.prototype._key_event_extra = function(event, name) {\n",
       "    // Handle any extra behaviour associated with a key event\n",
       "}\n",
       "\n",
       "mpl.figure.prototype.key_event = function(event, name) {\n",
       "\n",
       "    // Prevent repeat events\n",
       "    if (name == 'key_press')\n",
       "    {\n",
       "        if (event.which === this._key)\n",
       "            return;\n",
       "        else\n",
       "            this._key = event.which;\n",
       "    }\n",
       "    if (name == 'key_release')\n",
       "        this._key = null;\n",
       "\n",
       "    var value = '';\n",
       "    if (event.ctrlKey && event.which != 17)\n",
       "        value += \"ctrl+\";\n",
       "    if (event.altKey && event.which != 18)\n",
       "        value += \"alt+\";\n",
       "    if (event.shiftKey && event.which != 16)\n",
       "        value += \"shift+\";\n",
       "\n",
       "    value += 'k';\n",
       "    value += event.which.toString();\n",
       "\n",
       "    this._key_event_extra(event, name);\n",
       "\n",
       "    this.send_message(name, {key: value,\n",
       "                             guiEvent: simpleKeys(event)});\n",
       "    return false;\n",
       "}\n",
       "\n",
       "mpl.figure.prototype.toolbar_button_onclick = function(name) {\n",
       "    if (name == 'download') {\n",
       "        this.handle_save(this, null);\n",
       "    } else {\n",
       "        this.send_message(\"toolbar_button\", {name: name});\n",
       "    }\n",
       "};\n",
       "\n",
       "mpl.figure.prototype.toolbar_button_onmouseover = function(tooltip) {\n",
       "    this.message.textContent = tooltip;\n",
       "};\n",
       "mpl.toolbar_items = [[\"Home\", \"Reset original view\", \"fa fa-home icon-home\", \"home\"], [\"Back\", \"Back to  previous view\", \"fa fa-arrow-left icon-arrow-left\", \"back\"], [\"Forward\", \"Forward to next view\", \"fa fa-arrow-right icon-arrow-right\", \"forward\"], [\"\", \"\", \"\", \"\"], [\"Pan\", \"Pan axes with left mouse, zoom with right\", \"fa fa-arrows icon-move\", \"pan\"], [\"Zoom\", \"Zoom to rectangle\", \"fa fa-square-o icon-check-empty\", \"zoom\"], [\"\", \"\", \"\", \"\"], [\"Download\", \"Download plot\", \"fa fa-floppy-o icon-save\", \"download\"]];\n",
       "\n",
       "mpl.extensions = [\"eps\", \"jpeg\", \"pdf\", \"png\", \"ps\", \"raw\", \"svg\", \"tif\"];\n",
       "\n",
       "mpl.default_extension = \"png\";var comm_websocket_adapter = function(comm) {\n",
       "    // Create a \"websocket\"-like object which calls the given IPython comm\n",
       "    // object with the appropriate methods. Currently this is a non binary\n",
       "    // socket, so there is still some room for performance tuning.\n",
       "    var ws = {};\n",
       "\n",
       "    ws.close = function() {\n",
       "        comm.close()\n",
       "    };\n",
       "    ws.send = function(m) {\n",
       "        //console.log('sending', m);\n",
       "        comm.send(m);\n",
       "    };\n",
       "    // Register the callback with on_msg.\n",
       "    comm.on_msg(function(msg) {\n",
       "        //console.log('receiving', msg['content']['data'], msg);\n",
       "        // Pass the mpl event to the overriden (by mpl) onmessage function.\n",
       "        ws.onmessage(msg['content']['data'])\n",
       "    });\n",
       "    return ws;\n",
       "}\n",
       "\n",
       "mpl.mpl_figure_comm = function(comm, msg) {\n",
       "    // This is the function which gets called when the mpl process\n",
       "    // starts-up an IPython Comm through the \"matplotlib\" channel.\n",
       "\n",
       "    var id = msg.content.data.id;\n",
       "    // Get hold of the div created by the display call when the Comm\n",
       "    // socket was opened in Python.\n",
       "    var element = $(\"#\" + id);\n",
       "    var ws_proxy = comm_websocket_adapter(comm)\n",
       "\n",
       "    function ondownload(figure, format) {\n",
       "        window.open(figure.imageObj.src);\n",
       "    }\n",
       "\n",
       "    var fig = new mpl.figure(id, ws_proxy,\n",
       "                           ondownload,\n",
       "                           element.get(0));\n",
       "\n",
       "    // Call onopen now - mpl needs it, as it is assuming we've passed it a real\n",
       "    // web socket which is closed, not our websocket->open comm proxy.\n",
       "    ws_proxy.onopen();\n",
       "\n",
       "    fig.parent_element = element.get(0);\n",
       "    fig.cell_info = mpl.find_output_cell(\"<div id='\" + id + \"'></div>\");\n",
       "    if (!fig.cell_info) {\n",
       "        console.error(\"Failed to find cell for figure\", id, fig);\n",
       "        return;\n",
       "    }\n",
       "\n",
       "    var output_index = fig.cell_info[2]\n",
       "    var cell = fig.cell_info[0];\n",
       "\n",
       "};\n",
       "\n",
       "mpl.figure.prototype.handle_close = function(fig, msg) {\n",
       "    var width = fig.canvas.width/mpl.ratio\n",
       "    fig.root.unbind('remove')\n",
       "\n",
       "    // Update the output cell to use the data from the current canvas.\n",
       "    fig.push_to_output();\n",
       "    var dataURL = fig.canvas.toDataURL();\n",
       "    // Re-enable the keyboard manager in IPython - without this line, in FF,\n",
       "    // the notebook keyboard shortcuts fail.\n",
       "    IPython.keyboard_manager.enable()\n",
       "    $(fig.parent_element).html('<img src=\"' + dataURL + '\" width=\"' + width + '\">');\n",
       "    fig.close_ws(fig, msg);\n",
       "}\n",
       "\n",
       "mpl.figure.prototype.close_ws = function(fig, msg){\n",
       "    fig.send_message('closing', msg);\n",
       "    // fig.ws.close()\n",
       "}\n",
       "\n",
       "mpl.figure.prototype.push_to_output = function(remove_interactive) {\n",
       "    // Turn the data on the canvas into data in the output cell.\n",
       "    var width = this.canvas.width/mpl.ratio\n",
       "    var dataURL = this.canvas.toDataURL();\n",
       "    this.cell_info[1]['text/html'] = '<img src=\"' + dataURL + '\" width=\"' + width + '\">';\n",
       "}\n",
       "\n",
       "mpl.figure.prototype.updated_canvas_event = function() {\n",
       "    // Tell IPython that the notebook contents must change.\n",
       "    IPython.notebook.set_dirty(true);\n",
       "    this.send_message(\"ack\", {});\n",
       "    var fig = this;\n",
       "    // Wait a second, then push the new image to the DOM so\n",
       "    // that it is saved nicely (might be nice to debounce this).\n",
       "    setTimeout(function () { fig.push_to_output() }, 1000);\n",
       "}\n",
       "\n",
       "mpl.figure.prototype._init_toolbar = function() {\n",
       "    var fig = this;\n",
       "\n",
       "    var nav_element = $('<div/>')\n",
       "    nav_element.attr('style', 'width: 100%');\n",
       "    this.root.append(nav_element);\n",
       "\n",
       "    // Define a callback function for later on.\n",
       "    function toolbar_event(event) {\n",
       "        return fig.toolbar_button_onclick(event['data']);\n",
       "    }\n",
       "    function toolbar_mouse_event(event) {\n",
       "        return fig.toolbar_button_onmouseover(event['data']);\n",
       "    }\n",
       "\n",
       "    for(var toolbar_ind in mpl.toolbar_items){\n",
       "        var name = mpl.toolbar_items[toolbar_ind][0];\n",
       "        var tooltip = mpl.toolbar_items[toolbar_ind][1];\n",
       "        var image = mpl.toolbar_items[toolbar_ind][2];\n",
       "        var method_name = mpl.toolbar_items[toolbar_ind][3];\n",
       "\n",
       "        if (!name) { continue; };\n",
       "\n",
       "        var button = $('<button class=\"btn btn-default\" href=\"#\" title=\"' + name + '\"><i class=\"fa ' + image + ' fa-lg\"></i></button>');\n",
       "        button.click(method_name, toolbar_event);\n",
       "        button.mouseover(tooltip, toolbar_mouse_event);\n",
       "        nav_element.append(button);\n",
       "    }\n",
       "\n",
       "    // Add the status bar.\n",
       "    var status_bar = $('<span class=\"mpl-message\" style=\"text-align:right; float: right;\"/>');\n",
       "    nav_element.append(status_bar);\n",
       "    this.message = status_bar[0];\n",
       "\n",
       "    // Add the close button to the window.\n",
       "    var buttongrp = $('<div class=\"btn-group inline pull-right\"></div>');\n",
       "    var button = $('<button class=\"btn btn-mini btn-primary\" href=\"#\" title=\"Stop Interaction\"><i class=\"fa fa-power-off icon-remove icon-large\"></i></button>');\n",
       "    button.click(function (evt) { fig.handle_close(fig, {}); } );\n",
       "    button.mouseover('Stop Interaction', toolbar_mouse_event);\n",
       "    buttongrp.append(button);\n",
       "    var titlebar = this.root.find($('.ui-dialog-titlebar'));\n",
       "    titlebar.prepend(buttongrp);\n",
       "}\n",
       "\n",
       "mpl.figure.prototype._root_extra_style = function(el){\n",
       "    var fig = this\n",
       "    el.on(\"remove\", function(){\n",
       "\tfig.close_ws(fig, {});\n",
       "    });\n",
       "}\n",
       "\n",
       "mpl.figure.prototype._canvas_extra_style = function(el){\n",
       "    // this is important to make the div 'focusable\n",
       "    el.attr('tabindex', 0)\n",
       "    // reach out to IPython and tell the keyboard manager to turn it's self\n",
       "    // off when our div gets focus\n",
       "\n",
       "    // location in version 3\n",
       "    if (IPython.notebook.keyboard_manager) {\n",
       "        IPython.notebook.keyboard_manager.register_events(el);\n",
       "    }\n",
       "    else {\n",
       "        // location in version 2\n",
       "        IPython.keyboard_manager.register_events(el);\n",
       "    }\n",
       "\n",
       "}\n",
       "\n",
       "mpl.figure.prototype._key_event_extra = function(event, name) {\n",
       "    var manager = IPython.notebook.keyboard_manager;\n",
       "    if (!manager)\n",
       "        manager = IPython.keyboard_manager;\n",
       "\n",
       "    // Check for shift+enter\n",
       "    if (event.shiftKey && event.which == 13) {\n",
       "        this.canvas_div.blur();\n",
       "        // select the cell after this one\n",
       "        var index = IPython.notebook.find_cell_index(this.cell_info[0]);\n",
       "        IPython.notebook.select(index + 1);\n",
       "    }\n",
       "}\n",
       "\n",
       "mpl.figure.prototype.handle_save = function(fig, msg) {\n",
       "    fig.ondownload(fig, null);\n",
       "}\n",
       "\n",
       "\n",
       "mpl.find_output_cell = function(html_output) {\n",
       "    // Return the cell and output element which can be found *uniquely* in the notebook.\n",
       "    // Note - this is a bit hacky, but it is done because the \"notebook_saving.Notebook\"\n",
       "    // IPython event is triggered only after the cells have been serialised, which for\n",
       "    // our purposes (turning an active figure into a static one), is too late.\n",
       "    var cells = IPython.notebook.get_cells();\n",
       "    var ncells = cells.length;\n",
       "    for (var i=0; i<ncells; i++) {\n",
       "        var cell = cells[i];\n",
       "        if (cell.cell_type === 'code'){\n",
       "            for (var j=0; j<cell.output_area.outputs.length; j++) {\n",
       "                var data = cell.output_area.outputs[j];\n",
       "                if (data.data) {\n",
       "                    // IPython >= 3 moved mimebundle to data attribute of output\n",
       "                    data = data.data;\n",
       "                }\n",
       "                if (data['text/html'] == html_output) {\n",
       "                    return [cell, data, j];\n",
       "                }\n",
       "            }\n",
       "        }\n",
       "    }\n",
       "}\n",
       "\n",
       "// Register the function which deals with the matplotlib target/channel.\n",
       "// The kernel may be null if the page has been refreshed.\n",
       "if (IPython.notebook.kernel != null) {\n",
       "    IPython.notebook.kernel.comm_manager.register_target('matplotlib', mpl.mpl_figure_comm);\n",
       "}\n"
      ],
      "text/plain": [
       "<IPython.core.display.Javascript object>"
      ]
     },
     "metadata": {},
     "output_type": "display_data"
    },
    {
     "data": {
      "text/html": [
       "<img src=\"data:image/png;base64,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\" width=\"500\">"
      ],
      "text/plain": [
       "<IPython.core.display.HTML object>"
      ]
     },
     "metadata": {},
     "output_type": "display_data"
    }
   ],
   "source": [
    "x = np.linspace(0, 2*np.pi, 100)\n",
    "y = np.sin(x)\n",
    "plt.figure(figsize=(5,2.5))\n",
    "p, = plt.plot(x,y)\n",
    "p.set_linewidth(2)\n",
    "p.set_color('red')"
   ]
  },
  {
   "cell_type": "markdown",
   "metadata": {},
   "source": [
    "## Units, uncertainties and measurements"
   ]
  },
  {
   "cell_type": "markdown",
   "metadata": {},
   "source": [
    "The objets **ur**, **Quantity** and **Measurement**, allows the manipulation of data with units and uncertainties. (see tutorial-1-units-uncertainties)\n",
    "\n",
    "* **ur**: the unit registry\n",
    "* **Quantity**: a scalar or an array with some units\n",
    "* **Measurement**: a scalar with units and unertainty"
   ]
  },
  {
   "cell_type": "code",
   "execution_count": 15,
   "metadata": {},
   "outputs": [
    {
     "data": {
      "text/html": [
       "centimeter.second<sup>-1</sup>"
      ],
      "text/latex": [
       "$\\mathrm{cm} \\cdot \\mathrm{s}^{-1}$"
      ],
      "text/plain": [
       "<Unit('centimeter / second')>"
      ]
     },
     "execution_count": 15,
     "metadata": {},
     "output_type": "execute_result"
    }
   ],
   "source": [
    "ur.cm / ur.s"
   ]
  },
  {
   "cell_type": "code",
   "execution_count": 16,
   "metadata": {},
   "outputs": [
    {
     "data": {
      "text/html": [
       "20.0 km"
      ],
      "text/latex": [
       "$20.0\\ \\mathrm{km}$"
      ],
      "text/plain": [
       "<Quantity(20.0, 'kilometer')>"
      ]
     },
     "execution_count": 16,
     "metadata": {},
     "output_type": "execute_result"
    }
   ],
   "source": [
    "x = Quantity(10., 'km')\n",
    "x * 2."
   ]
  },
  {
   "cell_type": "code",
   "execution_count": 17,
   "metadata": {},
   "outputs": [
    {
     "data": {
      "text/html": [
       "5.0 km"
      ],
      "text/latex": [
       "$5.0\\ \\mathrm{km}$"
      ],
      "text/plain": [
       "<Quantity(5.0, 'kilometer')>"
      ]
     },
     "execution_count": 17,
     "metadata": {},
     "output_type": "execute_result"
    }
   ],
   "source": [
    "xa = Quantity(np.array((1,2)), 'km')\n",
    "xa[1] * 2.5"
   ]
  },
  {
   "cell_type": "code",
   "execution_count": 18,
   "metadata": {},
   "outputs": [
    {
     "data": {
      "text/html": [
       "10.00 &plusmn; 0.10 km"
      ],
      "text/latex": [
       "$\\left(10.00 \\pm 0.10\\right)\\ \\mathrm{km}$"
      ],
      "text/plain": [
       "<Measurement(10.00, 0.10, kilometer)>"
      ]
     },
     "execution_count": 18,
     "metadata": {},
     "output_type": "execute_result"
    }
   ],
   "source": [
    "y = Measurement(10, .1, 'km')\n",
    "y  "
   ]
  },
  {
   "cell_type": "code",
   "execution_count": 19,
   "metadata": {},
   "outputs": [
    {
     "data": {
      "text/html": [
       "10.000 &plusmn; 0.010 km"
      ],
      "text/latex": [
       "$\\left(10.000 \\pm 0.010\\right)\\ \\mathrm{km}$"
      ],
      "text/plain": [
       "<Measurement(10.00, 0.01, kilometer)>"
      ]
     },
     "execution_count": 19,
     "metadata": {},
     "output_type": "execute_result"
    }
   ],
   "source": [
    "z = x.plus_minus(.01)\n",
    "z"
   ]
  },
  {
   "cell_type": "markdown",
   "metadata": {},
   "source": [
    "**Warning**, this is not available for numpy.array based quantities !  For this we will use NDDataset described \n",
    "here : ..."
   ]
  },
  {
   "cell_type": "code",
   "execution_count": 20,
   "metadata": {},
   "outputs": [
    {
     "name": "stderr",
     "output_type": "stream",
     "text": [
      " ERROR | AttributeError: 'numpy.ndarray' object has no attribute 'strip'\n"
     ]
    }
   ],
   "source": [
    "za = xa.plus_minus(.01)\n",
    "za"
   ]
  },
  {
   "cell_type": "markdown",
   "metadata": {},
   "source": [
    "## Using the API: a first example with the Isotope database"
   ]
  },
  {
   "cell_type": "markdown",
   "metadata": {},
   "source": [
    "If you are interested by **NMR**, it might be useful to have information about NMR isotopes, *e.g.*, to include this in some further calculations.\n",
    "\n",
    "Let's get information about the $^{27}$Al nucleus. \n",
    "\n",
    "We use the **Isotopes** class:"
   ]
  },
  {
   "cell_type": "code",
   "execution_count": 21,
   "metadata": {
    "run_control": {
     "frozen": false,
     "read_only": false
    }
   },
   "outputs": [
    {
     "data": {
      "text/html": [
       "<sup>27</sup>Al [5/2]"
      ],
      "text/plain": [
       "Isotopes < 27Al >"
      ]
     },
     "execution_count": 21,
     "metadata": {},
     "output_type": "execute_result"
    }
   ],
   "source": [
    "al = Isotopes('27Al')\n",
    "al"
   ]
  },
  {
   "cell_type": "code",
   "execution_count": 22,
   "metadata": {
    "run_control": {
     "frozen": false,
     "read_only": false
    }
   },
   "outputs": [
    {
     "name": "stdout",
     "output_type": "stream",
     "text": [
      "Al 5/2\n"
     ]
    }
   ],
   "source": [
    "print(al.symbol, al.spin)"
   ]
  },
  {
   "cell_type": "code",
   "execution_count": 23,
   "metadata": {
    "run_control": {
     "frozen": false,
     "read_only": false
    }
   },
   "outputs": [
    {
     "data": {
      "text/html": [
       "1.466e-29 m<sup>2</sup>"
      ],
      "text/latex": [
       "$1.466e-29\\ \\mathrm{m}^{2}$"
      ],
      "text/plain": [
       "<Quantity(1.466e-29, 'meter ** 2')>"
      ]
     },
     "execution_count": 23,
     "metadata": {},
     "output_type": "execute_result"
    }
   ],
   "source": [
    "quadrupolar_moment = al.Q.to('m^2') \n",
    "quadrupolar_moment"
   ]
  },
  {
   "cell_type": "code",
   "execution_count": 24,
   "metadata": {
    "run_control": {
     "frozen": false,
     "read_only": false
    }
   },
   "outputs": [
    {
     "data": {
      "text/html": [
       "11.103076875144868 MHz.T<sup>-1</sup>"
      ],
      "text/latex": [
       "$11.103076875144868\\ \\mathrm{MHz} \\cdot \\mathrm{T}^{-1}$"
      ],
      "text/plain": [
       "<Quantity(11.103076875144868, 'megahertz / tesla')>"
      ]
     },
     "execution_count": 24,
     "metadata": {},
     "output_type": "execute_result"
    }
   ],
   "source": [
    "gyromagnetic_ratio = al.gamma\n",
    "gyromagnetic_ratio"
   ]
  },
  {
   "cell_type": "markdown",
   "metadata": {},
   "source": [
    "It is then obvious how to get the Larmor frequency of aluminium:"
   ]
  },
  {
   "cell_type": "code",
   "execution_count": 25,
   "metadata": {
    "run_control": {
     "frozen": false,
     "read_only": false
    }
   },
   "outputs": [
    {
     "name": "stdout",
     "output_type": "stream",
     "text": [
      "104.37 MHz at 9.40 T\n"
     ]
    }
   ],
   "source": [
    "B0 = Quantity('9.4 tesla')\n",
    "print(\"{freq:~.2f} at {B0:~.2f}\".format(freq=al.gamma * B0, B0=B0))"
   ]
  }
 ],
 "metadata": {
  "kernelspec": {
   "display_name": "Python [conda env:scp36]",
   "language": "python",
   "name": "conda-env-scp36-py"
  },
  "language_info": {
   "codemirror_mode": {
    "name": "ipython",
    "version": 3
   },
   "file_extension": ".py",
   "mimetype": "text/x-python",
   "name": "python",
   "nbconvert_exporter": "python",
   "pygments_lexer": "ipython3",
   "version": "3.6.1"
  },
  "toc": {
   "toc_cell": true,
   "toc_number_sections": false,
   "toc_threshold": 6,
   "toc_window_display": false
  }
 },
 "nbformat": 4,
 "nbformat_minor": 1
}
