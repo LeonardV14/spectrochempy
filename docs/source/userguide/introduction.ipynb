{
 "cells": [
  {
   "cell_type": "markdown",
   "metadata": {},
   "source": [
    "## Getting Started\n",
    "\n",
    "<div class=\"alert alert-info\">\n",
    "\n",
    "**Note:** We assume the spectrochemistry package has been properly installed - if not please go to ``install``\n",
    "\n",
    "</div>"
   ]
  },
  {
   "cell_type": "markdown",
   "metadata": {},
   "source": [
    "Before using the package, we need to load the **API (Application Programming Interface)**\n",
    "\n",
    "The simplest way is to import all the objects and methods at once into your python namespace."
   ]
  },
  {
   "cell_type": "code",
   "execution_count": 1,
   "metadata": {},
   "outputs": [
    {
     "name": "stdout",
     "output_type": "stream",
     "text": [
      "\n",
      "        SpectroChemPy's API\n",
      "        Version   : 0.1a2.post35\n",
      "        Copyright : 2014-2017 - LCS (Laboratory for Catalysis and Spectrochempy)\n",
      "            \n"
     ]
    }
   ],
   "source": [
    "from spectrochempy.api import *"
   ]
  },
  {
   "cell_type": "markdown",
   "metadata": {},
   "source": [
    "but you can also import method only when it is needed.\n",
    "\n",
    "For instances, one object very usefull in the following will be a nd-dataset to contain some data. Instead of issuing the previous command, one can do:"
   ]
  },
  {
   "cell_type": "code",
   "execution_count": 2,
   "metadata": {
    "collapsed": true
   },
   "outputs": [],
   "source": [
    "from spectrochempy.api import NDDataset\n",
    "mydataset = NDDataset()"
   ]
  },
  {
   "cell_type": "markdown",
   "metadata": {},
   "source": [
    "In the second line we have defined a new empty instance of **NDDataset**, wich will be further use to load our data."
   ]
  },
  {
   "cell_type": "markdown",
   "metadata": {},
   "source": [
    "Another way to proceed is to not mix the API namespace with your normal python. \n",
    "\n",
    "In this case, you can simply do:\n"
   ]
  },
  {
   "cell_type": "code",
   "execution_count": 3,
   "metadata": {
    "collapsed": true
   },
   "outputs": [],
   "source": [
    "import spectrochempy.api as scp\n",
    "mydataset = scp.NDDataset()"
   ]
  },
  {
   "cell_type": "markdown",
   "metadata": {},
   "source": [
    "As such, the above command ``from spectrochempy import *``, lead to import of several objects and methods in the namespace.\n",
    "\n",
    "To get a list of all available methods or objects, type the following command:"
   ]
  },
  {
   "cell_type": "code",
   "execution_count": 4,
   "metadata": {},
   "outputs": [
    {
     "data": {
      "text/plain": [
       "['APIref',\n",
       " 'Axes',\n",
       " 'Axis',\n",
       " 'AxisError',\n",
       " 'AxisError',\n",
       " 'AxisRange',\n",
       " 'AxisRangeError',\n",
       " 'AxisWarning',\n",
       " 'CRITICAL',\n",
       " 'DEBUG',\n",
       " 'DimensionalityError',\n",
       " 'ERROR',\n",
       " 'Efa',\n",
       " 'Fit',\n",
       " 'FitParameters',\n",
       " 'INFO',\n",
       " 'Iris',\n",
       " 'Isotopes',\n",
       " 'Lsqnonneg',\n",
       " 'Lstsq',\n",
       " 'McrAls',\n",
       " 'Measurement',\n",
       " 'Meta',\n",
       " 'NDArray',\n",
       " 'NDDataset',\n",
       " 'NDDatasetError',\n",
       " 'NDDatasetWarning',\n",
       " 'NDIO',\n",
       " 'NDMath',\n",
       " 'Nnmf',\n",
       " 'ParameterScript',\n",
       " 'Pca',\n",
       " 'Quantity',\n",
       " 'Svd',\n",
       " 'Unit',\n",
       " 'WARN',\n",
       " 'abs',\n",
       " 'abscplx',\n",
       " 'add',\n",
       " 'add_ri',\n",
       " 'align',\n",
       " 'apodize',\n",
       " 'append_imag',\n",
       " 'autosub',\n",
       " 'basecor',\n",
       " 'bswap',\n",
       " 'byte_swap',\n",
       " 'center',\n",
       " 'coad',\n",
       " 'coadd',\n",
       " 'concatenate',\n",
       " 'conj',\n",
       " 'conv',\n",
       " 'convolute',\n",
       " 'copyright',\n",
       " 'corr',\n",
       " 'correlate',\n",
       " 'cs',\n",
       " 'data',\n",
       " 'decode_States',\n",
       " 'di',\n",
       " 'dx',\n",
       " 'em',\n",
       " 'exchange_lr',\n",
       " 'exlr',\n",
       " 'ext',\n",
       " 'ext_left',\n",
       " 'ext_mid',\n",
       " 'ext_right',\n",
       " 'fft',\n",
       " 'fft_norm',\n",
       " 'fft_positive',\n",
       " 'filter_amax',\n",
       " 'filter_amin',\n",
       " 'filter_avg',\n",
       " 'filter_dev',\n",
       " 'filter_generic',\n",
       " 'filter_max',\n",
       " 'filter_median',\n",
       " 'filter_min',\n",
       " 'filter_percentile',\n",
       " 'filter_range',\n",
       " 'filter_rank',\n",
       " 'filter_sum',\n",
       " 'fsh',\n",
       " 'fsh2',\n",
       " 'gm',\n",
       " 'gmb',\n",
       " 'ha',\n",
       " 'ht',\n",
       " 'ifft',\n",
       " 'ifft_norm',\n",
       " 'ifft_positive',\n",
       " 'imag',\n",
       " 'integ',\n",
       " 'interleave_complex',\n",
       " 'interpolate',\n",
       " 'irft',\n",
       " 'jmod',\n",
       " 'list_data',\n",
       " 'load',\n",
       " 'log',\n",
       " 'log_level',\n",
       " 'ls',\n",
       " 'mc',\n",
       " 'mc_pow',\n",
       " 'mir_center',\n",
       " 'mir_center_onepoint',\n",
       " 'mir_left',\n",
       " 'mir_right',\n",
       " 'mult',\n",
       " 'neg_all',\n",
       " 'neg_alt',\n",
       " 'neg_edges',\n",
       " 'neg_even',\n",
       " 'neg_imag',\n",
       " 'neg_left',\n",
       " 'neg_middle',\n",
       " 'neg_odd',\n",
       " 'neg_real',\n",
       " 'neg_right',\n",
       " 'np',\n",
       " 'optimize',\n",
       " 'options',\n",
       " 'plot',\n",
       " 'plot_1D',\n",
       " 'plot_2D',\n",
       " 'plot_3D',\n",
       " 'plot_image',\n",
       " 'plot_map',\n",
       " 'plot_stack',\n",
       " 'plotoptions',\n",
       " 'plt',\n",
       " 'ps',\n",
       " 'ps_exp',\n",
       " 'qart',\n",
       " 'qart_auto',\n",
       " 'qmix',\n",
       " 'raises',\n",
       " 'read',\n",
       " 'read_bruker_nmr',\n",
       " 'read_dso',\n",
       " 'read_jdx',\n",
       " 'read_omnic',\n",
       " 'real',\n",
       " 'rev',\n",
       " 'rft',\n",
       " 'ri2c',\n",
       " 'ri2rr',\n",
       " 'roll',\n",
       " 'rolr',\n",
       " 'rotate_lr',\n",
       " 'rr2ri',\n",
       " 'rs',\n",
       " 'scipy',\n",
       " 'scpadapter',\n",
       " 'set_cmplex',\n",
       " 'set_constant',\n",
       " 'set_imag',\n",
       " 'set_nmr_context',\n",
       " 'set_real',\n",
       " 'sign',\n",
       " 'sine',\n",
       " 'skl',\n",
       " 'smo',\n",
       " 'sort',\n",
       " 'sp',\n",
       " 'squeeze',\n",
       " 'swap',\n",
       " 'swap_ri',\n",
       " 'swapaxes',\n",
       " 'sym',\n",
       " 'thres',\n",
       " 'tm',\n",
       " 'tp',\n",
       " 'tp_hyper',\n",
       " 'transpose',\n",
       " 'tri',\n",
       " 'unappend_imag',\n",
       " 'unpack_complex',\n",
       " 'ur',\n",
       " 'version',\n",
       " 'write',\n",
       " 'zd',\n",
       " 'zd_boxcar',\n",
       " 'zd_gaussian',\n",
       " 'zd_sinebell',\n",
       " 'zd_triangle',\n",
       " 'zf',\n",
       " 'zf_auto',\n",
       " 'zf_double',\n",
       " 'zf_inter',\n",
       " 'zf_pad',\n",
       " 'zf_size']"
      ]
     },
     "execution_count": 4,
     "metadata": {},
     "output_type": "execute_result"
    }
   ],
   "source": [
    "APIref"
   ]
  },
  {
   "cell_type": "markdown",
   "metadata": {},
   "source": [
    "If something goes wrong with during a cell execution,  a ``traceback`` is displayed.\n",
    "\n",
    "For instance, the object or method ``toto``does not exist in the API, so an error (**ImportError**) is generated when trying to import this from the API. Here we catch the error in the context raises or more traditionnaly with a try except structure"
   ]
  },
  {
   "cell_type": "code",
   "execution_count": 5,
   "metadata": {
    "collapsed": true
   },
   "outputs": [],
   "source": [
    "with raises(ImportError):\n",
    "    from spectrochempy import toto"
   ]
  },
  {
   "cell_type": "code",
   "execution_count": 6,
   "metadata": {},
   "outputs": [
    {
     "name": "stderr",
     "output_type": "stream",
     "text": [
      " ERROR | OOPS, THAT'S AN IMPORT ERROR!\n"
     ]
    }
   ],
   "source": [
    "try:\n",
    "    from spectrochempy import toto\n",
    "except ImportError:\n",
    "    log.error(\"OOPS, THAT'S AN IMPORT ERROR!\")"
   ]
  },
  {
   "cell_type": "markdown",
   "metadata": {},
   "source": [
    "The error will stop the execution if not catched. The message that would have been displayed without the catching, can be displayed after all with the magic function %tb."
   ]
  },
  {
   "cell_type": "markdown",
   "metadata": {},
   "source": [
    "## Configuration\n",
    "\n",
    "Many options of the API can be set up"
   ]
  },
  {
   "cell_type": "code",
   "execution_count": 7,
   "metadata": {
    "collapsed": true
   },
   "outputs": [],
   "source": [
    "options.log_level = INFO"
   ]
  },
  {
   "cell_type": "markdown",
   "metadata": {},
   "source": [
    "In the above cell, we have set the **log** level to display ``info`` messages, such as this one:"
   ]
  },
  {
   "cell_type": "code",
   "execution_count": 8,
   "metadata": {},
   "outputs": [
    {
     "name": "stderr",
     "output_type": "stream",
     "text": [
      " this is an info message!\n"
     ]
    }
   ],
   "source": [
    "log.info('this is an info message!')\n",
    "log.debug('this is a debug message!')"
   ]
  },
  {
   "cell_type": "markdown",
   "metadata": {},
   "source": [
    "Only the info message is displayed, as expected.\n",
    "\n",
    "If we change it to ``DEBUG``, we should get the two messages"
   ]
  },
  {
   "cell_type": "code",
   "execution_count": 9,
   "metadata": {
    "run_control": {
     "frozen": false,
     "read_only": false
    }
   },
   "outputs": [
    {
     "name": "stderr",
     "output_type": "stream",
     "text": [
      "[SpectroChemPy 2017-07-28 20:24:57] changed default loglevel to 10\n",
      "[SpectroChemPy 2017-07-28 20:24:57] this is an info message!\n",
      "[SpectroChemPy 2017-07-28 20:24:57] this is a debug message!\n"
     ]
    }
   ],
   "source": [
    "options.log_level = DEBUG\n",
    "\n",
    "log.info('this is an info message!')\n",
    "log.debug('this is a debug message!')"
   ]
  },
  {
   "cell_type": "markdown",
   "metadata": {},
   "source": [
    "Let's now come back to a standard level of message for the rest of the Tutorial."
   ]
  },
  {
   "cell_type": "code",
   "execution_count": 10,
   "metadata": {},
   "outputs": [
    {
     "name": "stderr",
     "output_type": "stream",
     "text": [
      " WARNING | this is a warning message!\n"
     ]
    }
   ],
   "source": [
    "options.log_level = WARN\n",
    "\n",
    "log.info('this is an info message!')\n",
    "log.debug('this is a debug message!')\n",
    "log.warning('this is a warning message!')"
   ]
  },
  {
   "cell_type": "markdown",
   "metadata": {},
   "source": [
    "## Access to scientific libraries"
   ]
  },
  {
   "cell_type": "markdown",
   "metadata": {},
   "source": [
    "Several libraries are imported with **SpectroChemPy** (so you don't need to re-import them):\n",
    "\n",
    "- **np** :  This is actually the **`numpy`** library, to perform numerical calculation on nD arrays. \n",
    "- **plt** : This is the **`matplotlib`** library, to allow plotting data \n",
    "\n",
    "Optionally, **scipy** and **sympy** can be available, if **SpectroChempy** can find these libraries installed on your system."
   ]
  },
  {
   "cell_type": "code",
   "execution_count": 11,
   "metadata": {},
   "outputs": [
    {
     "data": {
      "application/javascript": [
       "/* Put everything inside the global mpl namespace */\n",
       "window.mpl = {};\n",
       "\n",
       "\n",
       "mpl.get_websocket_type = function() {\n",
       "    if (typeof(WebSocket) !== 'undefined') {\n",
       "        return WebSocket;\n",
       "    } else if (typeof(MozWebSocket) !== 'undefined') {\n",
       "        return MozWebSocket;\n",
       "    } else {\n",
       "        alert('Your browser does not have WebSocket support.' +\n",
       "              'Please try Chrome, Safari or Firefox ≥ 6. ' +\n",
       "              'Firefox 4 and 5 are also supported but you ' +\n",
       "              'have to enable WebSockets in about:config.');\n",
       "    };\n",
       "}\n",
       "\n",
       "mpl.figure = function(figure_id, websocket, ondownload, parent_element) {\n",
       "    this.id = figure_id;\n",
       "\n",
       "    this.ws = websocket;\n",
       "\n",
       "    this.supports_binary = (this.ws.binaryType != undefined);\n",
       "\n",
       "    if (!this.supports_binary) {\n",
       "        var warnings = document.getElementById(\"mpl-warnings\");\n",
       "        if (warnings) {\n",
       "            warnings.style.display = 'block';\n",
       "            warnings.textContent = (\n",
       "                \"This browser does not support binary websocket messages. \" +\n",
       "                    \"Performance may be slow.\");\n",
       "        }\n",
       "    }\n",
       "\n",
       "    this.imageObj = new Image();\n",
       "\n",
       "    this.context = undefined;\n",
       "    this.message = undefined;\n",
       "    this.canvas = undefined;\n",
       "    this.rubberband_canvas = undefined;\n",
       "    this.rubberband_context = undefined;\n",
       "    this.format_dropdown = undefined;\n",
       "\n",
       "    this.image_mode = 'full';\n",
       "\n",
       "    this.root = $('<div/>');\n",
       "    this._root_extra_style(this.root)\n",
       "    this.root.attr('style', 'display: inline-block');\n",
       "\n",
       "    $(parent_element).append(this.root);\n",
       "\n",
       "    this._init_header(this);\n",
       "    this._init_canvas(this);\n",
       "    this._init_toolbar(this);\n",
       "\n",
       "    var fig = this;\n",
       "\n",
       "    this.waiting = false;\n",
       "\n",
       "    this.ws.onopen =  function () {\n",
       "            fig.send_message(\"supports_binary\", {value: fig.supports_binary});\n",
       "            fig.send_message(\"send_image_mode\", {});\n",
       "            if (mpl.ratio != 1) {\n",
       "                fig.send_message(\"set_dpi_ratio\", {'dpi_ratio': mpl.ratio});\n",
       "            }\n",
       "            fig.send_message(\"refresh\", {});\n",
       "        }\n",
       "\n",
       "    this.imageObj.onload = function() {\n",
       "            if (fig.image_mode == 'full') {\n",
       "                // Full images could contain transparency (where diff images\n",
       "                // almost always do), so we need to clear the canvas so that\n",
       "                // there is no ghosting.\n",
       "                fig.context.clearRect(0, 0, fig.canvas.width, fig.canvas.height);\n",
       "            }\n",
       "            fig.context.drawImage(fig.imageObj, 0, 0);\n",
       "        };\n",
       "\n",
       "    this.imageObj.onunload = function() {\n",
       "        this.ws.close();\n",
       "    }\n",
       "\n",
       "    this.ws.onmessage = this._make_on_message_function(this);\n",
       "\n",
       "    this.ondownload = ondownload;\n",
       "}\n",
       "\n",
       "mpl.figure.prototype._init_header = function() {\n",
       "    var titlebar = $(\n",
       "        '<div class=\"ui-dialog-titlebar ui-widget-header ui-corner-all ' +\n",
       "        'ui-helper-clearfix\"/>');\n",
       "    var titletext = $(\n",
       "        '<div class=\"ui-dialog-title\" style=\"width: 100%; ' +\n",
       "        'text-align: center; padding: 3px;\"/>');\n",
       "    titlebar.append(titletext)\n",
       "    this.root.append(titlebar);\n",
       "    this.header = titletext[0];\n",
       "}\n",
       "\n",
       "\n",
       "\n",
       "mpl.figure.prototype._canvas_extra_style = function(canvas_div) {\n",
       "\n",
       "}\n",
       "\n",
       "\n",
       "mpl.figure.prototype._root_extra_style = function(canvas_div) {\n",
       "\n",
       "}\n",
       "\n",
       "mpl.figure.prototype._init_canvas = function() {\n",
       "    var fig = this;\n",
       "\n",
       "    var canvas_div = $('<div/>');\n",
       "\n",
       "    canvas_div.attr('style', 'position: relative; clear: both; outline: 0');\n",
       "\n",
       "    function canvas_keyboard_event(event) {\n",
       "        return fig.key_event(event, event['data']);\n",
       "    }\n",
       "\n",
       "    canvas_div.keydown('key_press', canvas_keyboard_event);\n",
       "    canvas_div.keyup('key_release', canvas_keyboard_event);\n",
       "    this.canvas_div = canvas_div\n",
       "    this._canvas_extra_style(canvas_div)\n",
       "    this.root.append(canvas_div);\n",
       "\n",
       "    var canvas = $('<canvas/>');\n",
       "    canvas.addClass('mpl-canvas');\n",
       "    canvas.attr('style', \"left: 0; top: 0; z-index: 0; outline: 0\")\n",
       "\n",
       "    this.canvas = canvas[0];\n",
       "    this.context = canvas[0].getContext(\"2d\");\n",
       "\n",
       "    var backingStore = this.context.backingStorePixelRatio ||\n",
       "\tthis.context.webkitBackingStorePixelRatio ||\n",
       "\tthis.context.mozBackingStorePixelRatio ||\n",
       "\tthis.context.msBackingStorePixelRatio ||\n",
       "\tthis.context.oBackingStorePixelRatio ||\n",
       "\tthis.context.backingStorePixelRatio || 1;\n",
       "\n",
       "    mpl.ratio = (window.devicePixelRatio || 1) / backingStore;\n",
       "\n",
       "    var rubberband = $('<canvas/>');\n",
       "    rubberband.attr('style', \"position: absolute; left: 0; top: 0; z-index: 1;\")\n",
       "\n",
       "    var pass_mouse_events = true;\n",
       "\n",
       "    canvas_div.resizable({\n",
       "        start: function(event, ui) {\n",
       "            pass_mouse_events = false;\n",
       "        },\n",
       "        resize: function(event, ui) {\n",
       "            fig.request_resize(ui.size.width, ui.size.height);\n",
       "        },\n",
       "        stop: function(event, ui) {\n",
       "            pass_mouse_events = true;\n",
       "            fig.request_resize(ui.size.width, ui.size.height);\n",
       "        },\n",
       "    });\n",
       "\n",
       "    function mouse_event_fn(event) {\n",
       "        if (pass_mouse_events)\n",
       "            return fig.mouse_event(event, event['data']);\n",
       "    }\n",
       "\n",
       "    rubberband.mousedown('button_press', mouse_event_fn);\n",
       "    rubberband.mouseup('button_release', mouse_event_fn);\n",
       "    // Throttle sequential mouse events to 1 every 20ms.\n",
       "    rubberband.mousemove('motion_notify', mouse_event_fn);\n",
       "\n",
       "    rubberband.mouseenter('figure_enter', mouse_event_fn);\n",
       "    rubberband.mouseleave('figure_leave', mouse_event_fn);\n",
       "\n",
       "    canvas_div.on(\"wheel\", function (event) {\n",
       "        event = event.originalEvent;\n",
       "        event['data'] = 'scroll'\n",
       "        if (event.deltaY < 0) {\n",
       "            event.step = 1;\n",
       "        } else {\n",
       "            event.step = -1;\n",
       "        }\n",
       "        mouse_event_fn(event);\n",
       "    });\n",
       "\n",
       "    canvas_div.append(canvas);\n",
       "    canvas_div.append(rubberband);\n",
       "\n",
       "    this.rubberband = rubberband;\n",
       "    this.rubberband_canvas = rubberband[0];\n",
       "    this.rubberband_context = rubberband[0].getContext(\"2d\");\n",
       "    this.rubberband_context.strokeStyle = \"#000000\";\n",
       "\n",
       "    this._resize_canvas = function(width, height) {\n",
       "        // Keep the size of the canvas, canvas container, and rubber band\n",
       "        // canvas in synch.\n",
       "        canvas_div.css('width', width)\n",
       "        canvas_div.css('height', height)\n",
       "\n",
       "        canvas.attr('width', width * mpl.ratio);\n",
       "        canvas.attr('height', height * mpl.ratio);\n",
       "        canvas.attr('style', 'width: ' + width + 'px; height: ' + height + 'px;');\n",
       "\n",
       "        rubberband.attr('width', width);\n",
       "        rubberband.attr('height', height);\n",
       "    }\n",
       "\n",
       "    // Set the figure to an initial 600x600px, this will subsequently be updated\n",
       "    // upon first draw.\n",
       "    this._resize_canvas(600, 600);\n",
       "\n",
       "    // Disable right mouse context menu.\n",
       "    $(this.rubberband_canvas).bind(\"contextmenu\",function(e){\n",
       "        return false;\n",
       "    });\n",
       "\n",
       "    function set_focus () {\n",
       "        canvas.focus();\n",
       "        canvas_div.focus();\n",
       "    }\n",
       "\n",
       "    window.setTimeout(set_focus, 100);\n",
       "}\n",
       "\n",
       "mpl.figure.prototype._init_toolbar = function() {\n",
       "    var fig = this;\n",
       "\n",
       "    var nav_element = $('<div/>')\n",
       "    nav_element.attr('style', 'width: 100%');\n",
       "    this.root.append(nav_element);\n",
       "\n",
       "    // Define a callback function for later on.\n",
       "    function toolbar_event(event) {\n",
       "        return fig.toolbar_button_onclick(event['data']);\n",
       "    }\n",
       "    function toolbar_mouse_event(event) {\n",
       "        return fig.toolbar_button_onmouseover(event['data']);\n",
       "    }\n",
       "\n",
       "    for(var toolbar_ind in mpl.toolbar_items) {\n",
       "        var name = mpl.toolbar_items[toolbar_ind][0];\n",
       "        var tooltip = mpl.toolbar_items[toolbar_ind][1];\n",
       "        var image = mpl.toolbar_items[toolbar_ind][2];\n",
       "        var method_name = mpl.toolbar_items[toolbar_ind][3];\n",
       "\n",
       "        if (!name) {\n",
       "            // put a spacer in here.\n",
       "            continue;\n",
       "        }\n",
       "        var button = $('<button/>');\n",
       "        button.addClass('ui-button ui-widget ui-state-default ui-corner-all ' +\n",
       "                        'ui-button-icon-only');\n",
       "        button.attr('role', 'button');\n",
       "        button.attr('aria-disabled', 'false');\n",
       "        button.click(method_name, toolbar_event);\n",
       "        button.mouseover(tooltip, toolbar_mouse_event);\n",
       "\n",
       "        var icon_img = $('<span/>');\n",
       "        icon_img.addClass('ui-button-icon-primary ui-icon');\n",
       "        icon_img.addClass(image);\n",
       "        icon_img.addClass('ui-corner-all');\n",
       "\n",
       "        var tooltip_span = $('<span/>');\n",
       "        tooltip_span.addClass('ui-button-text');\n",
       "        tooltip_span.html(tooltip);\n",
       "\n",
       "        button.append(icon_img);\n",
       "        button.append(tooltip_span);\n",
       "\n",
       "        nav_element.append(button);\n",
       "    }\n",
       "\n",
       "    var fmt_picker_span = $('<span/>');\n",
       "\n",
       "    var fmt_picker = $('<select/>');\n",
       "    fmt_picker.addClass('mpl-toolbar-option ui-widget ui-widget-content');\n",
       "    fmt_picker_span.append(fmt_picker);\n",
       "    nav_element.append(fmt_picker_span);\n",
       "    this.format_dropdown = fmt_picker[0];\n",
       "\n",
       "    for (var ind in mpl.extensions) {\n",
       "        var fmt = mpl.extensions[ind];\n",
       "        var option = $(\n",
       "            '<option/>', {selected: fmt === mpl.default_extension}).html(fmt);\n",
       "        fmt_picker.append(option)\n",
       "    }\n",
       "\n",
       "    // Add hover states to the ui-buttons\n",
       "    $( \".ui-button\" ).hover(\n",
       "        function() { $(this).addClass(\"ui-state-hover\");},\n",
       "        function() { $(this).removeClass(\"ui-state-hover\");}\n",
       "    );\n",
       "\n",
       "    var status_bar = $('<span class=\"mpl-message\"/>');\n",
       "    nav_element.append(status_bar);\n",
       "    this.message = status_bar[0];\n",
       "}\n",
       "\n",
       "mpl.figure.prototype.request_resize = function(x_pixels, y_pixels) {\n",
       "    // Request matplotlib to resize the figure. Matplotlib will then trigger a resize in the client,\n",
       "    // which will in turn request a refresh of the image.\n",
       "    this.send_message('resize', {'width': x_pixels, 'height': y_pixels});\n",
       "}\n",
       "\n",
       "mpl.figure.prototype.send_message = function(type, properties) {\n",
       "    properties['type'] = type;\n",
       "    properties['figure_id'] = this.id;\n",
       "    this.ws.send(JSON.stringify(properties));\n",
       "}\n",
       "\n",
       "mpl.figure.prototype.send_draw_message = function() {\n",
       "    if (!this.waiting) {\n",
       "        this.waiting = true;\n",
       "        this.ws.send(JSON.stringify({type: \"draw\", figure_id: this.id}));\n",
       "    }\n",
       "}\n",
       "\n",
       "\n",
       "mpl.figure.prototype.handle_save = function(fig, msg) {\n",
       "    var format_dropdown = fig.format_dropdown;\n",
       "    var format = format_dropdown.options[format_dropdown.selectedIndex].value;\n",
       "    fig.ondownload(fig, format);\n",
       "}\n",
       "\n",
       "\n",
       "mpl.figure.prototype.handle_resize = function(fig, msg) {\n",
       "    var size = msg['size'];\n",
       "    if (size[0] != fig.canvas.width || size[1] != fig.canvas.height) {\n",
       "        fig._resize_canvas(size[0], size[1]);\n",
       "        fig.send_message(\"refresh\", {});\n",
       "    };\n",
       "}\n",
       "\n",
       "mpl.figure.prototype.handle_rubberband = function(fig, msg) {\n",
       "    var x0 = msg['x0'] / mpl.ratio;\n",
       "    var y0 = (fig.canvas.height - msg['y0']) / mpl.ratio;\n",
       "    var x1 = msg['x1'] / mpl.ratio;\n",
       "    var y1 = (fig.canvas.height - msg['y1']) / mpl.ratio;\n",
       "    x0 = Math.floor(x0) + 0.5;\n",
       "    y0 = Math.floor(y0) + 0.5;\n",
       "    x1 = Math.floor(x1) + 0.5;\n",
       "    y1 = Math.floor(y1) + 0.5;\n",
       "    var min_x = Math.min(x0, x1);\n",
       "    var min_y = Math.min(y0, y1);\n",
       "    var width = Math.abs(x1 - x0);\n",
       "    var height = Math.abs(y1 - y0);\n",
       "\n",
       "    fig.rubberband_context.clearRect(\n",
       "        0, 0, fig.canvas.width, fig.canvas.height);\n",
       "\n",
       "    fig.rubberband_context.strokeRect(min_x, min_y, width, height);\n",
       "}\n",
       "\n",
       "mpl.figure.prototype.handle_figure_label = function(fig, msg) {\n",
       "    // Updates the figure title.\n",
       "    fig.header.textContent = msg['label'];\n",
       "}\n",
       "\n",
       "mpl.figure.prototype.handle_cursor = function(fig, msg) {\n",
       "    var cursor = msg['cursor'];\n",
       "    switch(cursor)\n",
       "    {\n",
       "    case 0:\n",
       "        cursor = 'pointer';\n",
       "        break;\n",
       "    case 1:\n",
       "        cursor = 'default';\n",
       "        break;\n",
       "    case 2:\n",
       "        cursor = 'crosshair';\n",
       "        break;\n",
       "    case 3:\n",
       "        cursor = 'move';\n",
       "        break;\n",
       "    }\n",
       "    fig.rubberband_canvas.style.cursor = cursor;\n",
       "}\n",
       "\n",
       "mpl.figure.prototype.handle_message = function(fig, msg) {\n",
       "    fig.message.textContent = msg['message'];\n",
       "}\n",
       "\n",
       "mpl.figure.prototype.handle_draw = function(fig, msg) {\n",
       "    // Request the server to send over a new figure.\n",
       "    fig.send_draw_message();\n",
       "}\n",
       "\n",
       "mpl.figure.prototype.handle_image_mode = function(fig, msg) {\n",
       "    fig.image_mode = msg['mode'];\n",
       "}\n",
       "\n",
       "mpl.figure.prototype.updated_canvas_event = function() {\n",
       "    // Called whenever the canvas gets updated.\n",
       "    this.send_message(\"ack\", {});\n",
       "}\n",
       "\n",
       "// A function to construct a web socket function for onmessage handling.\n",
       "// Called in the figure constructor.\n",
       "mpl.figure.prototype._make_on_message_function = function(fig) {\n",
       "    return function socket_on_message(evt) {\n",
       "        if (evt.data instanceof Blob) {\n",
       "            /* FIXME: We get \"Resource interpreted as Image but\n",
       "             * transferred with MIME type text/plain:\" errors on\n",
       "             * Chrome.  But how to set the MIME type?  It doesn't seem\n",
       "             * to be part of the websocket stream */\n",
       "            evt.data.type = \"image/png\";\n",
       "\n",
       "            /* Free the memory for the previous frames */\n",
       "            if (fig.imageObj.src) {\n",
       "                (window.URL || window.webkitURL).revokeObjectURL(\n",
       "                    fig.imageObj.src);\n",
       "            }\n",
       "\n",
       "            fig.imageObj.src = (window.URL || window.webkitURL).createObjectURL(\n",
       "                evt.data);\n",
       "            fig.updated_canvas_event();\n",
       "            fig.waiting = false;\n",
       "            return;\n",
       "        }\n",
       "        else if (typeof evt.data === 'string' && evt.data.slice(0, 21) == \"data:image/png;base64\") {\n",
       "            fig.imageObj.src = evt.data;\n",
       "            fig.updated_canvas_event();\n",
       "            fig.waiting = false;\n",
       "            return;\n",
       "        }\n",
       "\n",
       "        var msg = JSON.parse(evt.data);\n",
       "        var msg_type = msg['type'];\n",
       "\n",
       "        // Call the  \"handle_{type}\" callback, which takes\n",
       "        // the figure and JSON message as its only arguments.\n",
       "        try {\n",
       "            var callback = fig[\"handle_\" + msg_type];\n",
       "        } catch (e) {\n",
       "            console.log(\"No handler for the '\" + msg_type + \"' message type: \", msg);\n",
       "            return;\n",
       "        }\n",
       "\n",
       "        if (callback) {\n",
       "            try {\n",
       "                // console.log(\"Handling '\" + msg_type + \"' message: \", msg);\n",
       "                callback(fig, msg);\n",
       "            } catch (e) {\n",
       "                console.log(\"Exception inside the 'handler_\" + msg_type + \"' callback:\", e, e.stack, msg);\n",
       "            }\n",
       "        }\n",
       "    };\n",
       "}\n",
       "\n",
       "// from http://stackoverflow.com/questions/1114465/getting-mouse-location-in-canvas\n",
       "mpl.findpos = function(e) {\n",
       "    //this section is from http://www.quirksmode.org/js/events_properties.html\n",
       "    var targ;\n",
       "    if (!e)\n",
       "        e = window.event;\n",
       "    if (e.target)\n",
       "        targ = e.target;\n",
       "    else if (e.srcElement)\n",
       "        targ = e.srcElement;\n",
       "    if (targ.nodeType == 3) // defeat Safari bug\n",
       "        targ = targ.parentNode;\n",
       "\n",
       "    // jQuery normalizes the pageX and pageY\n",
       "    // pageX,Y are the mouse positions relative to the document\n",
       "    // offset() returns the position of the element relative to the document\n",
       "    var x = e.pageX - $(targ).offset().left;\n",
       "    var y = e.pageY - $(targ).offset().top;\n",
       "\n",
       "    return {\"x\": x, \"y\": y};\n",
       "};\n",
       "\n",
       "/*\n",
       " * return a copy of an object with only non-object keys\n",
       " * we need this to avoid circular references\n",
       " * http://stackoverflow.com/a/24161582/3208463\n",
       " */\n",
       "function simpleKeys (original) {\n",
       "  return Object.keys(original).reduce(function (obj, key) {\n",
       "    if (typeof original[key] !== 'object')\n",
       "        obj[key] = original[key]\n",
       "    return obj;\n",
       "  }, {});\n",
       "}\n",
       "\n",
       "mpl.figure.prototype.mouse_event = function(event, name) {\n",
       "    var canvas_pos = mpl.findpos(event)\n",
       "\n",
       "    if (name === 'button_press')\n",
       "    {\n",
       "        this.canvas.focus();\n",
       "        this.canvas_div.focus();\n",
       "    }\n",
       "\n",
       "    var x = canvas_pos.x * mpl.ratio;\n",
       "    var y = canvas_pos.y * mpl.ratio;\n",
       "\n",
       "    this.send_message(name, {x: x, y: y, button: event.button,\n",
       "                             step: event.step,\n",
       "                             guiEvent: simpleKeys(event)});\n",
       "\n",
       "    /* This prevents the web browser from automatically changing to\n",
       "     * the text insertion cursor when the button is pressed.  We want\n",
       "     * to control all of the cursor setting manually through the\n",
       "     * 'cursor' event from matplotlib */\n",
       "    event.preventDefault();\n",
       "    return false;\n",
       "}\n",
       "\n",
       "mpl.figure.prototype._key_event_extra = function(event, name) {\n",
       "    // Handle any extra behaviour associated with a key event\n",
       "}\n",
       "\n",
       "mpl.figure.prototype.key_event = function(event, name) {\n",
       "\n",
       "    // Prevent repeat events\n",
       "    if (name == 'key_press')\n",
       "    {\n",
       "        if (event.which === this._key)\n",
       "            return;\n",
       "        else\n",
       "            this._key = event.which;\n",
       "    }\n",
       "    if (name == 'key_release')\n",
       "        this._key = null;\n",
       "\n",
       "    var value = '';\n",
       "    if (event.ctrlKey && event.which != 17)\n",
       "        value += \"ctrl+\";\n",
       "    if (event.altKey && event.which != 18)\n",
       "        value += \"alt+\";\n",
       "    if (event.shiftKey && event.which != 16)\n",
       "        value += \"shift+\";\n",
       "\n",
       "    value += 'k';\n",
       "    value += event.which.toString();\n",
       "\n",
       "    this._key_event_extra(event, name);\n",
       "\n",
       "    this.send_message(name, {key: value,\n",
       "                             guiEvent: simpleKeys(event)});\n",
       "    return false;\n",
       "}\n",
       "\n",
       "mpl.figure.prototype.toolbar_button_onclick = function(name) {\n",
       "    if (name == 'download') {\n",
       "        this.handle_save(this, null);\n",
       "    } else {\n",
       "        this.send_message(\"toolbar_button\", {name: name});\n",
       "    }\n",
       "};\n",
       "\n",
       "mpl.figure.prototype.toolbar_button_onmouseover = function(tooltip) {\n",
       "    this.message.textContent = tooltip;\n",
       "};\n",
       "mpl.toolbar_items = [[\"Home\", \"Reset original view\", \"fa fa-home icon-home\", \"home\"], [\"Back\", \"Back to  previous view\", \"fa fa-arrow-left icon-arrow-left\", \"back\"], [\"Forward\", \"Forward to next view\", \"fa fa-arrow-right icon-arrow-right\", \"forward\"], [\"\", \"\", \"\", \"\"], [\"Pan\", \"Pan axes with left mouse, zoom with right\", \"fa fa-arrows icon-move\", \"pan\"], [\"Zoom\", \"Zoom to rectangle\", \"fa fa-square-o icon-check-empty\", \"zoom\"], [\"\", \"\", \"\", \"\"], [\"Download\", \"Download plot\", \"fa fa-floppy-o icon-save\", \"download\"]];\n",
       "\n",
       "mpl.extensions = [\"eps\", \"jpeg\", \"pdf\", \"png\", \"ps\", \"raw\", \"svg\", \"tif\"];\n",
       "\n",
       "mpl.default_extension = \"png\";var comm_websocket_adapter = function(comm) {\n",
       "    // Create a \"websocket\"-like object which calls the given IPython comm\n",
       "    // object with the appropriate methods. Currently this is a non binary\n",
       "    // socket, so there is still some room for performance tuning.\n",
       "    var ws = {};\n",
       "\n",
       "    ws.close = function() {\n",
       "        comm.close()\n",
       "    };\n",
       "    ws.send = function(m) {\n",
       "        //console.log('sending', m);\n",
       "        comm.send(m);\n",
       "    };\n",
       "    // Register the callback with on_msg.\n",
       "    comm.on_msg(function(msg) {\n",
       "        //console.log('receiving', msg['content']['data'], msg);\n",
       "        // Pass the mpl event to the overriden (by mpl) onmessage function.\n",
       "        ws.onmessage(msg['content']['data'])\n",
       "    });\n",
       "    return ws;\n",
       "}\n",
       "\n",
       "mpl.mpl_figure_comm = function(comm, msg) {\n",
       "    // This is the function which gets called when the mpl process\n",
       "    // starts-up an IPython Comm through the \"matplotlib\" channel.\n",
       "\n",
       "    var id = msg.content.data.id;\n",
       "    // Get hold of the div created by the display call when the Comm\n",
       "    // socket was opened in Python.\n",
       "    var element = $(\"#\" + id);\n",
       "    var ws_proxy = comm_websocket_adapter(comm)\n",
       "\n",
       "    function ondownload(figure, format) {\n",
       "        window.open(figure.imageObj.src);\n",
       "    }\n",
       "\n",
       "    var fig = new mpl.figure(id, ws_proxy,\n",
       "                           ondownload,\n",
       "                           element.get(0));\n",
       "\n",
       "    // Call onopen now - mpl needs it, as it is assuming we've passed it a real\n",
       "    // web socket which is closed, not our websocket->open comm proxy.\n",
       "    ws_proxy.onopen();\n",
       "\n",
       "    fig.parent_element = element.get(0);\n",
       "    fig.cell_info = mpl.find_output_cell(\"<div id='\" + id + \"'></div>\");\n",
       "    if (!fig.cell_info) {\n",
       "        console.error(\"Failed to find cell for figure\", id, fig);\n",
       "        return;\n",
       "    }\n",
       "\n",
       "    var output_index = fig.cell_info[2]\n",
       "    var cell = fig.cell_info[0];\n",
       "\n",
       "};\n",
       "\n",
       "mpl.figure.prototype.handle_close = function(fig, msg) {\n",
       "    var width = fig.canvas.width/mpl.ratio\n",
       "    fig.root.unbind('remove')\n",
       "\n",
       "    // Update the output cell to use the data from the current canvas.\n",
       "    fig.push_to_output();\n",
       "    var dataURL = fig.canvas.toDataURL();\n",
       "    // Re-enable the keyboard manager in IPython - without this line, in FF,\n",
       "    // the notebook keyboard shortcuts fail.\n",
       "    IPython.keyboard_manager.enable()\n",
       "    $(fig.parent_element).html('<img src=\"' + dataURL + '\" width=\"' + width + '\">');\n",
       "    fig.close_ws(fig, msg);\n",
       "}\n",
       "\n",
       "mpl.figure.prototype.close_ws = function(fig, msg){\n",
       "    fig.send_message('closing', msg);\n",
       "    // fig.ws.close()\n",
       "}\n",
       "\n",
       "mpl.figure.prototype.push_to_output = function(remove_interactive) {\n",
       "    // Turn the data on the canvas into data in the output cell.\n",
       "    var width = this.canvas.width/mpl.ratio\n",
       "    var dataURL = this.canvas.toDataURL();\n",
       "    this.cell_info[1]['text/html'] = '<img src=\"' + dataURL + '\" width=\"' + width + '\">';\n",
       "}\n",
       "\n",
       "mpl.figure.prototype.updated_canvas_event = function() {\n",
       "    // Tell IPython that the notebook contents must change.\n",
       "    IPython.notebook.set_dirty(true);\n",
       "    this.send_message(\"ack\", {});\n",
       "    var fig = this;\n",
       "    // Wait a second, then push the new image to the DOM so\n",
       "    // that it is saved nicely (might be nice to debounce this).\n",
       "    setTimeout(function () { fig.push_to_output() }, 1000);\n",
       "}\n",
       "\n",
       "mpl.figure.prototype._init_toolbar = function() {\n",
       "    var fig = this;\n",
       "\n",
       "    var nav_element = $('<div/>')\n",
       "    nav_element.attr('style', 'width: 100%');\n",
       "    this.root.append(nav_element);\n",
       "\n",
       "    // Define a callback function for later on.\n",
       "    function toolbar_event(event) {\n",
       "        return fig.toolbar_button_onclick(event['data']);\n",
       "    }\n",
       "    function toolbar_mouse_event(event) {\n",
       "        return fig.toolbar_button_onmouseover(event['data']);\n",
       "    }\n",
       "\n",
       "    for(var toolbar_ind in mpl.toolbar_items){\n",
       "        var name = mpl.toolbar_items[toolbar_ind][0];\n",
       "        var tooltip = mpl.toolbar_items[toolbar_ind][1];\n",
       "        var image = mpl.toolbar_items[toolbar_ind][2];\n",
       "        var method_name = mpl.toolbar_items[toolbar_ind][3];\n",
       "\n",
       "        if (!name) { continue; };\n",
       "\n",
       "        var button = $('<button class=\"btn btn-default\" href=\"#\" title=\"' + name + '\"><i class=\"fa ' + image + ' fa-lg\"></i></button>');\n",
       "        button.click(method_name, toolbar_event);\n",
       "        button.mouseover(tooltip, toolbar_mouse_event);\n",
       "        nav_element.append(button);\n",
       "    }\n",
       "\n",
       "    // Add the status bar.\n",
       "    var status_bar = $('<span class=\"mpl-message\" style=\"text-align:right; float: right;\"/>');\n",
       "    nav_element.append(status_bar);\n",
       "    this.message = status_bar[0];\n",
       "\n",
       "    // Add the close button to the window.\n",
       "    var buttongrp = $('<div class=\"btn-group inline pull-right\"></div>');\n",
       "    var button = $('<button class=\"btn btn-mini btn-primary\" href=\"#\" title=\"Stop Interaction\"><i class=\"fa fa-power-off icon-remove icon-large\"></i></button>');\n",
       "    button.click(function (evt) { fig.handle_close(fig, {}); } );\n",
       "    button.mouseover('Stop Interaction', toolbar_mouse_event);\n",
       "    buttongrp.append(button);\n",
       "    var titlebar = this.root.find($('.ui-dialog-titlebar'));\n",
       "    titlebar.prepend(buttongrp);\n",
       "}\n",
       "\n",
       "mpl.figure.prototype._root_extra_style = function(el){\n",
       "    var fig = this\n",
       "    el.on(\"remove\", function(){\n",
       "\tfig.close_ws(fig, {});\n",
       "    });\n",
       "}\n",
       "\n",
       "mpl.figure.prototype._canvas_extra_style = function(el){\n",
       "    // this is important to make the div 'focusable\n",
       "    el.attr('tabindex', 0)\n",
       "    // reach out to IPython and tell the keyboard manager to turn it's self\n",
       "    // off when our div gets focus\n",
       "\n",
       "    // location in version 3\n",
       "    if (IPython.notebook.keyboard_manager) {\n",
       "        IPython.notebook.keyboard_manager.register_events(el);\n",
       "    }\n",
       "    else {\n",
       "        // location in version 2\n",
       "        IPython.keyboard_manager.register_events(el);\n",
       "    }\n",
       "\n",
       "}\n",
       "\n",
       "mpl.figure.prototype._key_event_extra = function(event, name) {\n",
       "    var manager = IPython.notebook.keyboard_manager;\n",
       "    if (!manager)\n",
       "        manager = IPython.keyboard_manager;\n",
       "\n",
       "    // Check for shift+enter\n",
       "    if (event.shiftKey && event.which == 13) {\n",
       "        this.canvas_div.blur();\n",
       "        // select the cell after this one\n",
       "        var index = IPython.notebook.find_cell_index(this.cell_info[0]);\n",
       "        IPython.notebook.select(index + 1);\n",
       "    }\n",
       "}\n",
       "\n",
       "mpl.figure.prototype.handle_save = function(fig, msg) {\n",
       "    fig.ondownload(fig, null);\n",
       "}\n",
       "\n",
       "\n",
       "mpl.find_output_cell = function(html_output) {\n",
       "    // Return the cell and output element which can be found *uniquely* in the notebook.\n",
       "    // Note - this is a bit hacky, but it is done because the \"notebook_saving.Notebook\"\n",
       "    // IPython event is triggered only after the cells have been serialised, which for\n",
       "    // our purposes (turning an active figure into a static one), is too late.\n",
       "    var cells = IPython.notebook.get_cells();\n",
       "    var ncells = cells.length;\n",
       "    for (var i=0; i<ncells; i++) {\n",
       "        var cell = cells[i];\n",
       "        if (cell.cell_type === 'code'){\n",
       "            for (var j=0; j<cell.output_area.outputs.length; j++) {\n",
       "                var data = cell.output_area.outputs[j];\n",
       "                if (data.data) {\n",
       "                    // IPython >= 3 moved mimebundle to data attribute of output\n",
       "                    data = data.data;\n",
       "                }\n",
       "                if (data['text/html'] == html_output) {\n",
       "                    return [cell, data, j];\n",
       "                }\n",
       "            }\n",
       "        }\n",
       "    }\n",
       "}\n",
       "\n",
       "// Register the function which deals with the matplotlib target/channel.\n",
       "// The kernel may be null if the page has been refreshed.\n",
       "if (IPython.notebook.kernel != null) {\n",
       "    IPython.notebook.kernel.comm_manager.register_target('matplotlib', mpl.mpl_figure_comm);\n",
       "}\n"
      ],
      "text/plain": [
       "<IPython.core.display.Javascript object>"
      ]
     },
     "metadata": {},
     "output_type": "display_data"
    },
    {
     "data": {
      "text/html": [
       "<img src=\"data:image/png;base64,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\" width=\"500\">"
      ],
      "text/plain": [
       "<IPython.core.display.HTML object>"
      ]
     },
     "metadata": {},
     "output_type": "display_data"
    },
    {
     "data": {
      "text/plain": [
       "[<matplotlib.lines.Line2D at 0x11c816080>]"
      ]
     },
     "execution_count": 11,
     "metadata": {},
     "output_type": "execute_result"
    }
   ],
   "source": [
    "x = np.linspace(0, 2*np.pi, 100)\n",
    "y = np.sin(x)\n",
    "plt.figure(figsize=(5,2.5))\n",
    "plt.plot(x,y)"
   ]
  },
  {
   "cell_type": "markdown",
   "metadata": {},
   "source": [
    "## Units, uncertainties and measurements"
   ]
  },
  {
   "cell_type": "markdown",
   "metadata": {},
   "source": [
    "The objets **ur**, **Quantity** and **Measurement**, based on the **`pint`** and **`uncertainties`** librairies allows the manipulation of data with units and uncertainties. (see tutorial-1-units-uncertainties)"
   ]
  },
  {
   "cell_type": "code",
   "execution_count": 12,
   "metadata": {},
   "outputs": [
    {
     "data": {
      "text/html": [
       "1.94 cm.s<sup>-1</sup>"
      ],
      "text/latex": [
       "$1.94\\ \\mathrm{cm} \\cdot \\mathrm{s}^{-1}$"
      ],
      "text/plain": [
       "<Quantity(1.94, 'centimeter / second')>"
      ]
     },
     "execution_count": 12,
     "metadata": {},
     "output_type": "execute_result"
    }
   ],
   "source": [
    "19.4 * ur.cm / (10 * ur.s)"
   ]
  },
  {
   "cell_type": "code",
   "execution_count": 13,
   "metadata": {},
   "outputs": [
    {
     "data": {
      "text/html": [
       "10.0 km"
      ],
      "text/latex": [
       "$10.0\\ \\mathrm{km}$"
      ],
      "text/plain": [
       "<Quantity(10.0, 'kilometer')>"
      ]
     },
     "execution_count": 13,
     "metadata": {},
     "output_type": "execute_result"
    }
   ],
   "source": [
    "x= Quantity(10., 'km')\n",
    "x"
   ]
  },
  {
   "cell_type": "code",
   "execution_count": 14,
   "metadata": {},
   "outputs": [
    {
     "name": "stdout",
     "output_type": "stream",
     "text": [
      "(10.000 +/- 0.010) kilometer\n"
     ]
    }
   ],
   "source": [
    "y = Measurement(10, .01, 'km')\n",
    "print(y)  #TODO: _repr_html not working"
   ]
  },
  {
   "cell_type": "markdown",
   "metadata": {},
   "source": [
    "## Using the API: a first example with the Isotope database"
   ]
  },
  {
   "cell_type": "markdown",
   "metadata": {},
   "source": [
    "If you are interested by **NMR**, it might be useful to have information about NMR isotopes, *e.g.*, to include this in some further calculations.\n",
    "\n",
    "Let's get information about the $^{27}$Al nucleus. \n",
    "\n",
    "We use the **Isotopes** class:"
   ]
  },
  {
   "cell_type": "code",
   "execution_count": 15,
   "metadata": {
    "run_control": {
     "frozen": false,
     "read_only": false
    }
   },
   "outputs": [
    {
     "data": {
      "text/html": [
       "<sup>27</sup>Al [5/2]"
      ],
      "text/plain": [
       "Isotopes < 27Al >"
      ]
     },
     "execution_count": 15,
     "metadata": {},
     "output_type": "execute_result"
    }
   ],
   "source": [
    "al = Isotopes('27Al')\n",
    "al"
   ]
  },
  {
   "cell_type": "code",
   "execution_count": 16,
   "metadata": {
    "run_control": {
     "frozen": false,
     "read_only": false
    }
   },
   "outputs": [
    {
     "name": "stdout",
     "output_type": "stream",
     "text": [
      "Al 5/2\n"
     ]
    }
   ],
   "source": [
    "print(al.symbol, al.spin)"
   ]
  },
  {
   "cell_type": "code",
   "execution_count": 17,
   "metadata": {
    "run_control": {
     "frozen": false,
     "read_only": false
    }
   },
   "outputs": [
    {
     "data": {
      "text/html": [
       "1.466e-29 m<sup>2</sup>"
      ],
      "text/latex": [
       "$1.466e-29\\ \\mathrm{m}^{2}$"
      ],
      "text/plain": [
       "<Quantity(1.466e-29, 'meter ** 2')>"
      ]
     },
     "execution_count": 17,
     "metadata": {},
     "output_type": "execute_result"
    }
   ],
   "source": [
    "quadrupolar_moment = al.Q.to('m^2') \n",
    "quadrupolar_moment"
   ]
  },
  {
   "cell_type": "code",
   "execution_count": 18,
   "metadata": {
    "run_control": {
     "frozen": false,
     "read_only": false
    }
   },
   "outputs": [
    {
     "data": {
      "text/html": [
       "11.103076875144868 MHz.T<sup>-1</sup>"
      ],
      "text/latex": [
       "$11.103076875144868\\ \\mathrm{MHz} \\cdot \\mathrm{T}^{-1}$"
      ],
      "text/plain": [
       "<Quantity(11.103076875144868, 'megahertz / tesla')>"
      ]
     },
     "execution_count": 18,
     "metadata": {},
     "output_type": "execute_result"
    }
   ],
   "source": [
    "gyromagnetic_ratio = al.gamma\n",
    "gyromagnetic_ratio"
   ]
  },
  {
   "cell_type": "markdown",
   "metadata": {},
   "source": [
    "It is then obvious how to get the Larmor frequency of aluminium:"
   ]
  },
  {
   "cell_type": "code",
   "execution_count": 19,
   "metadata": {
    "run_control": {
     "frozen": false,
     "read_only": false
    }
   },
   "outputs": [
    {
     "name": "stdout",
     "output_type": "stream",
     "text": [
      "104.37 MHz at 9.40 T\n"
     ]
    }
   ],
   "source": [
    "B0 = Quantity('9.4 tesla')\n",
    "print(\"{freq:~.2f} at {B0:~.2f}\".format(freq=al.gamma * B0, B0=B0))"
   ]
  }
 ],
 "metadata": {
  "kernelspec": {
   "display_name": "Python [conda env:scp36]",
   "language": "python",
   "name": "conda-env-scp36-py"
  },
  "language_info": {
   "codemirror_mode": {
    "name": "ipython",
    "version": 3
   },
   "file_extension": ".py",
   "mimetype": "text/x-python",
   "name": "python",
   "nbconvert_exporter": "python",
   "pygments_lexer": "ipython3",
   "version": "3.6.1"
  },
  "toc": {
   "toc_cell": true,
   "toc_number_sections": false,
   "toc_threshold": 6,
   "toc_window_display": false
  }
 },
 "nbformat": 4,
 "nbformat_minor": 1
}
