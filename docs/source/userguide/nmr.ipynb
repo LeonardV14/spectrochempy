{
 "cells": [
  {
   "cell_type": "markdown",
   "metadata": {},
   "source": [
    "# NMR processing\n",
    "\n",
    "##### Matplotlib and Graph setup"
   ]
  },
  {
   "cell_type": "code",
   "execution_count": 3,
   "metadata": {},
   "outputs": [
    {
     "name": "stdout",
     "output_type": "stream",
     "text": [
      "['_classic_test', 'bmh', 'classic', 'dark_background', 'fivethirtyeight', 'ggplot', 'grayscale', 'seaborn-bright', 'seaborn-colorblind', 'seaborn-dark-palette', 'seaborn-dark', 'seaborn-darkgrid', 'seaborn-deep', 'seaborn-muted', 'seaborn-notebook', 'seaborn-paper', 'seaborn-pastel', 'seaborn-poster', 'seaborn-talk', 'seaborn-ticks', 'seaborn-white', 'seaborn-whitegrid', 'seaborn']\n"
     ]
    },
    {
     "name": "stderr",
     "output_type": "stream",
     "text": [
      "/Users/christian/miniconda3/envs/scp36/lib/python3.6/site-packages/matplotlib/__init__.py:1405: UserWarning: \n",
      "This call to matplotlib.use() has no effect because the backend has already\n",
      "been chosen; matplotlib.use() must be called *before* pylab, matplotlib.pyplot,\n",
      "or matplotlib.backends is imported for the first time.\n",
      "\n",
      "  warnings.warn(_use_error_msg)\n"
     ]
    }
   ],
   "source": [
    "import matplotlib\n",
    "matplotlib.use('nbagg') # this allows having inline graph, which can be modified (i.e., zooming)\n",
    "\n",
    "from matplotlib import pyplot as pl\n",
    "\n",
    "print(pl.style.available) # list all available styles \n",
    "matplotlib.rcdefaults()\n",
    "#pl.style.use('lcsdefault')"
   ]
  },
  {
   "cell_type": "markdown",
   "metadata": {},
   "source": [
    "##### Imports"
   ]
  },
  {
   "cell_type": "code",
   "execution_count": null,
   "metadata": {},
   "outputs": [],
   "source": [
    "import os\n",
    "\n",
    "from matplotlib import pyplot as pl\n",
    "\n",
    "from mpl_toolkits.axes_grid1.inset_locator import inset_axes, zoomed_inset_axes\n",
    "from mpl_toolkits.axes_grid1.anchored_artists import AnchoredSizeBar\n",
    "\n",
    "\n",
    "import numpy as np\n",
    "import nmrglue as ng\n",
    "import pandas as pd"
   ]
  },
  {
   "cell_type": "markdown",
   "metadata": {},
   "source": [
    "##### Local imports"
   ]
  },
  {
   "cell_type": "code",
   "execution_count": null,
   "metadata": {},
   "outputs": [],
   "source": [
    "from lcslib.nmr.bruker import read_pdata\n",
    "from lcslib.nmr.units import scale"
   ]
  },
  {
   "cell_type": "markdown",
   "metadata": {},
   "source": [
    "##### i/o directory"
   ]
  },
  {
   "cell_type": "code",
   "execution_count": null,
   "metadata": {},
   "outputs": [],
   "source": [
    "DATADIR = os.path.expanduser(os.path.join('~','Documents','aurelie','data')) \n",
    "FIGDIR = 'figures'"
   ]
  },
  {
   "cell_type": "markdown",
   "metadata": {},
   "source": [
    "### import data"
   ]
  },
  {
   "cell_type": "code",
   "execution_count": null,
   "metadata": {},
   "outputs": [],
   "source": [
    "# Xenon\n",
    "user = 'eddy'\n",
    "name1 = '151202'\n",
    "\n",
    "expno1 = 10 \n",
    "procno = 1\n",
    "\n",
    "path1 = os.path.join(DATADIR,user,'nmr',name1, str(expno1), 'pdata',str(procno))\n",
    "\n",
    "dic1, data1 = read_pdata(path1, all_components=True) # read specs and proc\n",
    "\n",
    "#r,i = data\n",
    "r1, i1 = data1\n",
    "\n",
    "# make pd.DataFrame\n",
    "#x = scale(dic, unit='ppm', axis=-1)\n",
    "#d1r = pd.Series(r.astype(np.float64, copy=False), index=x)\n",
    "\n",
    "x1 = scale(dic1, unit='ppm', axis=-1)\n",
    "d1r1 = pd.Series(r1.astype(np.float64, copy=False), index=x1)"
   ]
  },
  {
   "cell_type": "markdown",
   "metadata": {},
   "source": [
    "##### Plot"
   ]
  },
  {
   "cell_type": "code",
   "execution_count": null,
   "metadata": {
    "scrolled": false
   },
   "outputs": [],
   "source": [
    "#f, ((ax1, ax2), (ax3, ax4), (ax5, ax6)) = pl.subplots(nrows=3, ncols=2)\n",
    "\n",
    "fig = pl.figure(figsize=(5,4)) \n",
    "fig.subplots_adjust( hspace = 0.001, wspace=0.001)\n",
    "#fig.subplots_adjust(hspace = 0.001, wspace=0.001)\n",
    "\n",
    "ax1 = fig.add_subplot(111)\n",
    "ax1.plot(x1, d1r1)\n",
    "# draw a default vline at x=1 that spans the yrange\n",
    "\n",
    "#pl.axvline(x=6.8, ymin=-1.5e8, ymax =2.8e8, color='k', linestyle='dotted')\n",
    "#pl.axvline(x=20, ymin=-1.5e8, ymax =2.8e8, color='k', linestyle='dotted')\n",
    "\n",
    "axins = inset_axes(ax1,\n",
    "                   width=\"55%\",  # width = 30% of parent_bbox\n",
    "                   height=1.8,  # height : 1 inch\n",
    "                   loc=2)\n",
    "\n",
    "axins.plot(x1, d1r1)\n",
    "axins.set_xlim(19.5,7.5)\n",
    "axins.set_ylim(-5e6,3e7)\n",
    "\n",
    "pl.yticks([],visible=False)\n",
    "\n",
    "#figure 280K\n",
    "\n",
    "ax1.set_yticks([])\n",
    "ax1.set_xlim(20,-2)\n",
    "ax1.set_ylim(-1.5e7,5e8)\n",
    "ax1.set_xlabel(r'$\\mathrm{ppm}$', fontsize=16, labelpad=1)\n",
    "ax1.set_ylabel(r'$\\mathrm{a.u.}$', fontsize=16, labelpad=1)\n",
    "#ax1.tick_params(labelsize=16) \n",
    "ax1.text(140,2e6,'A', fontsize=14, color= 'k', fontweight='bold', fontstyle='italic')\n",
    "#ax1.text(79,4.5e6,'B', fontsize=12, color= 'k', fontweight='bold', fontstyle='italic')\n",
    "#ax1.text(10,2.5e6,'C', fontsize=12, color= 'k', fontweight='bold', fontstyle='italic')\n",
    "#ax1.text(190,0.6e6,'x100', fontsize=12, color= 'k', fontweight='bold', fontstyle='italic')\n",
    "#ax1.text(230,1.2e6,'FER-9', fontsize=12, color='g',  fontweight='bold', fontstyle='italic')\n",
    "#ax1.text(230,0.2e6,'FER-46', fontsize=12, color='r',  fontweight='bold', fontstyle='italic')\n",
    "\n",
    "\n",
    "pl.savefig(os.path.join(FIGDIR,'1h_BEA-TPA.png'))\n",
    "#--------\n",
    "pl.show()"
   ]
  },
  {
   "cell_type": "code",
   "execution_count": null,
   "metadata": {
    "collapsed": true
   },
   "outputs": [],
   "source": []
  },
  {
   "cell_type": "code",
   "execution_count": null,
   "metadata": {
    "collapsed": true
   },
   "outputs": [],
   "source": []
  }
 ],
 "metadata": {
  "kernelspec": {
   "display_name": "Python [conda env:scp36]",
   "language": "python",
   "name": "conda-env-scp36-py"
  },
  "language_info": {
   "codemirror_mode": {
    "name": "ipython",
    "version": 3
   },
   "file_extension": ".py",
   "mimetype": "text/x-python",
   "name": "python",
   "nbconvert_exporter": "python",
   "pygments_lexer": "ipython3",
   "version": "3.6.1"
  },
  "latex_envs": {
   "LaTeX_envs_menu_present": true,
   "bibliofile": "biblio.bib",
   "cite_by": "apalike",
   "current_citInitial": 1,
   "eqLabelWithNumbers": true,
   "eqNumInitial": 1,
   "hotkeys": {},
   "labels_anchors": false,
   "latex_user_defs": false,
   "report_style_numbering": false,
   "user_envs_cfg": false
  },
  "widgets": {
   "state": {},
   "version": "1.1.1"
  }
 },
 "nbformat": 4,
 "nbformat_minor": 1
}
