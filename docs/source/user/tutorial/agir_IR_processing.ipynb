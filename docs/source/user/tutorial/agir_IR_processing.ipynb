{
 "cells": [
  {
   "cell_type": "markdown",
   "metadata": {
    "collapsed": true,
    "nbpresent": {
     "id": "00240045-c477-45dd-94f4-037a0fbd5000"
    },
    "slideshow": {
     "slide_type": "slide"
    }
   },
   "source": [
    "# Processing the IR dataset"
   ]
  },
  {
   "cell_type": "code",
   "execution_count": 1,
   "metadata": {
    "ExecuteTime": {
     "end_time": "2017-12-10T10:52:04.509477Z",
     "start_time": "2017-12-10T10:52:03.354777Z"
    },
    "cell_style": "center",
    "deletable": false,
    "editable": false,
    "hide_input": false,
    "init_cell": true,
    "nbpresent": {
     "id": "4187b2b2-7280-42b1-8c0d-a4af39101f17"
    },
    "slideshow": {
     "slide_type": "subslide"
    }
   },
   "outputs": [
    {
     "name": "stdout",
     "output_type": "stream",
     "text": [
      "SpectroChemPy's API - v.0.1a5.dev\n",
      "© Copyright 2014-2017 - A.Travert and C.Fernandez @ LCS\n"
     ]
    }
   ],
   "source": [
    "from spectrochempy.api import *\n",
    "options.log_level=ERROR"
   ]
  },
  {
   "cell_type": "markdown",
   "metadata": {},
   "source": [
    "## loading a project"
   ]
  },
  {
   "cell_type": "markdown",
   "metadata": {
    "nbpresent": {
     "id": "af79a3ae-e4ce-4602-8ed8-e590658d0d90"
    },
    "slideshow": {
     "slide_type": "-"
    }
   },
   "source": [
    "We read the 'HIZECOKE' project saved previously"
   ]
  },
  {
   "cell_type": "code",
   "execution_count": 2,
   "metadata": {
    "ExecuteTime": {
     "end_time": "2017-12-10T10:52:04.856267Z",
     "start_time": "2017-12-10T10:52:04.512878Z"
    },
    "deletable": false,
    "editable": false,
    "init_cell": true,
    "nbpresent": {
     "id": "0126e973-e46c-4a4f-bf9e-dccf54347cce"
    },
    "slideshow": {
     "slide_type": "-"
    }
   },
   "outputs": [
    {
     "data": {
      "text/html": [
       "Project&nbsp;HIZECOKE:<br/>\n",
       "&nbsp;&nbsp;&nbsp;&nbsp;⤷&nbsp;P350&nbsp;(sub-project)<br/>\n",
       "&nbsp;&nbsp;&nbsp;&nbsp;&nbsp;&nbsp;&nbsp;⤷&nbsp;IR&nbsp;(dataset)<br/>\n",
       "&nbsp;&nbsp;&nbsp;&nbsp;&nbsp;&nbsp;&nbsp;⤷&nbsp;TGA&nbsp;(dataset)<br/>\n",
       "&nbsp;&nbsp;&nbsp;&nbsp;⤷&nbsp;A350&nbsp;(sub-project)<br/>\n",
       "&nbsp;&nbsp;&nbsp;&nbsp;&nbsp;&nbsp;&nbsp;⤷&nbsp;IR&nbsp;(dataset)<br/>\n",
       "&nbsp;&nbsp;&nbsp;&nbsp;&nbsp;&nbsp;&nbsp;⤷&nbsp;TGA&nbsp;(dataset)<br/>\n",
       "&nbsp;&nbsp;&nbsp;&nbsp;⤷&nbsp;B350&nbsp;(sub-project)<br/>\n",
       "&nbsp;&nbsp;&nbsp;&nbsp;&nbsp;&nbsp;&nbsp;⤷&nbsp;IR&nbsp;(dataset)<br/>\n",
       "&nbsp;&nbsp;&nbsp;&nbsp;&nbsp;&nbsp;&nbsp;⤷&nbsp;TGA&nbsp;(dataset)<br/>\n"
      ],
      "text/plain": [
       "<spectrochempy.projects.project.Project at 0x106d41390>"
      ]
     },
     "execution_count": 2,
     "metadata": {},
     "output_type": "execute_result"
    }
   ],
   "source": [
    "proj = Project.load('HIZECOKE')\n",
    "proj"
   ]
  },
  {
   "cell_type": "markdown",
   "metadata": {
    "nbpresent": {
     "id": "6c31f9bf-7001-44da-99bf-fa605d7431d2"
    }
   },
   "source": [
    "Let's replot the data. For this we need to do again the previous pre-processing first."
   ]
  },
  {
   "cell_type": "code",
   "execution_count": 3,
   "metadata": {
    "ExecuteTime": {
     "end_time": "2017-12-10T10:52:06.804626Z",
     "start_time": "2017-12-10T10:52:04.859335Z"
    },
    "deletable": false,
    "editable": false,
    "init_cell": true,
    "nbpresent": {
     "id": "57b59b4c-a867-44b9-a9a4-98d1756a6a42"
    }
   },
   "outputs": [
    {
     "data": {
      "application/javascript": [
       "/* Put everything inside the global mpl namespace */\n",
       "window.mpl = {};\n",
       "\n",
       "\n",
       "mpl.get_websocket_type = function() {\n",
       "    if (typeof(WebSocket) !== 'undefined') {\n",
       "        return WebSocket;\n",
       "    } else if (typeof(MozWebSocket) !== 'undefined') {\n",
       "        return MozWebSocket;\n",
       "    } else {\n",
       "        alert('Your browser does not have WebSocket support.' +\n",
       "              'Please try Chrome, Safari or Firefox ≥ 6. ' +\n",
       "              'Firefox 4 and 5 are also supported but you ' +\n",
       "              'have to enable WebSockets in about:config.');\n",
       "    };\n",
       "}\n",
       "\n",
       "mpl.figure = function(figure_id, websocket, ondownload, parent_element) {\n",
       "    this.id = figure_id;\n",
       "\n",
       "    this.ws = websocket;\n",
       "\n",
       "    this.supports_binary = (this.ws.binaryType != undefined);\n",
       "\n",
       "    if (!this.supports_binary) {\n",
       "        var warnings = document.getElementById(\"mpl-warnings\");\n",
       "        if (warnings) {\n",
       "            warnings.style.display = 'block';\n",
       "            warnings.textContent = (\n",
       "                \"This browser does not support binary websocket messages. \" +\n",
       "                    \"Performance may be slow.\");\n",
       "        }\n",
       "    }\n",
       "\n",
       "    this.imageObj = new Image();\n",
       "\n",
       "    this.context = undefined;\n",
       "    this.message = undefined;\n",
       "    this.canvas = undefined;\n",
       "    this.rubberband_canvas = undefined;\n",
       "    this.rubberband_context = undefined;\n",
       "    this.format_dropdown = undefined;\n",
       "\n",
       "    this.image_mode = 'full';\n",
       "\n",
       "    this.root = $('<div/>');\n",
       "    this._root_extra_style(this.root)\n",
       "    this.root.attr('style', 'display: inline-block');\n",
       "\n",
       "    $(parent_element).append(this.root);\n",
       "\n",
       "    this._init_header(this);\n",
       "    this._init_canvas(this);\n",
       "    this._init_toolbar(this);\n",
       "\n",
       "    var fig = this;\n",
       "\n",
       "    this.waiting = false;\n",
       "\n",
       "    this.ws.onopen =  function () {\n",
       "            fig.send_message(\"supports_binary\", {value: fig.supports_binary});\n",
       "            fig.send_message(\"send_image_mode\", {});\n",
       "            if (mpl.ratio != 1) {\n",
       "                fig.send_message(\"set_dpi_ratio\", {'dpi_ratio': mpl.ratio});\n",
       "            }\n",
       "            fig.send_message(\"refresh\", {});\n",
       "        }\n",
       "\n",
       "    this.imageObj.onload = function() {\n",
       "            if (fig.image_mode == 'full') {\n",
       "                // Full images could contain transparency (where diff images\n",
       "                // almost always do), so we need to clear the canvas so that\n",
       "                // there is no ghosting.\n",
       "                fig.context.clearRect(0, 0, fig.canvas.width, fig.canvas.height);\n",
       "            }\n",
       "            fig.context.drawImage(fig.imageObj, 0, 0);\n",
       "        };\n",
       "\n",
       "    this.imageObj.onunload = function() {\n",
       "        fig.ws.close();\n",
       "    }\n",
       "\n",
       "    this.ws.onmessage = this._make_on_message_function(this);\n",
       "\n",
       "    this.ondownload = ondownload;\n",
       "}\n",
       "\n",
       "mpl.figure.prototype._init_header = function() {\n",
       "    var titlebar = $(\n",
       "        '<div class=\"ui-dialog-titlebar ui-widget-header ui-corner-all ' +\n",
       "        'ui-helper-clearfix\"/>');\n",
       "    var titletext = $(\n",
       "        '<div class=\"ui-dialog-title\" style=\"width: 100%; ' +\n",
       "        'text-align: center; padding: 3px;\"/>');\n",
       "    titlebar.append(titletext)\n",
       "    this.root.append(titlebar);\n",
       "    this.header = titletext[0];\n",
       "}\n",
       "\n",
       "\n",
       "\n",
       "mpl.figure.prototype._canvas_extra_style = function(canvas_div) {\n",
       "\n",
       "}\n",
       "\n",
       "\n",
       "mpl.figure.prototype._root_extra_style = function(canvas_div) {\n",
       "\n",
       "}\n",
       "\n",
       "mpl.figure.prototype._init_canvas = function() {\n",
       "    var fig = this;\n",
       "\n",
       "    var canvas_div = $('<div/>');\n",
       "\n",
       "    canvas_div.attr('style', 'position: relative; clear: both; outline: 0');\n",
       "\n",
       "    function canvas_keyboard_event(event) {\n",
       "        return fig.key_event(event, event['data']);\n",
       "    }\n",
       "\n",
       "    canvas_div.keydown('key_press', canvas_keyboard_event);\n",
       "    canvas_div.keyup('key_release', canvas_keyboard_event);\n",
       "    this.canvas_div = canvas_div\n",
       "    this._canvas_extra_style(canvas_div)\n",
       "    this.root.append(canvas_div);\n",
       "\n",
       "    var canvas = $('<canvas/>');\n",
       "    canvas.addClass('mpl-canvas');\n",
       "    canvas.attr('style', \"left: 0; top: 0; z-index: 0; outline: 0\")\n",
       "\n",
       "    this.canvas = canvas[0];\n",
       "    this.context = canvas[0].getContext(\"2d\");\n",
       "\n",
       "    var backingStore = this.context.backingStorePixelRatio ||\n",
       "\tthis.context.webkitBackingStorePixelRatio ||\n",
       "\tthis.context.mozBackingStorePixelRatio ||\n",
       "\tthis.context.msBackingStorePixelRatio ||\n",
       "\tthis.context.oBackingStorePixelRatio ||\n",
       "\tthis.context.backingStorePixelRatio || 1;\n",
       "\n",
       "    mpl.ratio = (window.devicePixelRatio || 1) / backingStore;\n",
       "\n",
       "    var rubberband = $('<canvas/>');\n",
       "    rubberband.attr('style', \"position: absolute; left: 0; top: 0; z-index: 1;\")\n",
       "\n",
       "    var pass_mouse_events = true;\n",
       "\n",
       "    canvas_div.resizable({\n",
       "        start: function(event, ui) {\n",
       "            pass_mouse_events = false;\n",
       "        },\n",
       "        resize: function(event, ui) {\n",
       "            fig.request_resize(ui.size.width, ui.size.height);\n",
       "        },\n",
       "        stop: function(event, ui) {\n",
       "            pass_mouse_events = true;\n",
       "            fig.request_resize(ui.size.width, ui.size.height);\n",
       "        },\n",
       "    });\n",
       "\n",
       "    function mouse_event_fn(event) {\n",
       "        if (pass_mouse_events)\n",
       "            return fig.mouse_event(event, event['data']);\n",
       "    }\n",
       "\n",
       "    rubberband.mousedown('button_press', mouse_event_fn);\n",
       "    rubberband.mouseup('button_release', mouse_event_fn);\n",
       "    // Throttle sequential mouse events to 1 every 20ms.\n",
       "    rubberband.mousemove('motion_notify', mouse_event_fn);\n",
       "\n",
       "    rubberband.mouseenter('figure_enter', mouse_event_fn);\n",
       "    rubberband.mouseleave('figure_leave', mouse_event_fn);\n",
       "\n",
       "    canvas_div.on(\"wheel\", function (event) {\n",
       "        event = event.originalEvent;\n",
       "        event['data'] = 'scroll'\n",
       "        if (event.deltaY < 0) {\n",
       "            event.step = 1;\n",
       "        } else {\n",
       "            event.step = -1;\n",
       "        }\n",
       "        mouse_event_fn(event);\n",
       "    });\n",
       "\n",
       "    canvas_div.append(canvas);\n",
       "    canvas_div.append(rubberband);\n",
       "\n",
       "    this.rubberband = rubberband;\n",
       "    this.rubberband_canvas = rubberband[0];\n",
       "    this.rubberband_context = rubberband[0].getContext(\"2d\");\n",
       "    this.rubberband_context.strokeStyle = \"#000000\";\n",
       "\n",
       "    this._resize_canvas = function(width, height) {\n",
       "        // Keep the size of the canvas, canvas container, and rubber band\n",
       "        // canvas in synch.\n",
       "        canvas_div.css('width', width)\n",
       "        canvas_div.css('height', height)\n",
       "\n",
       "        canvas.attr('width', width * mpl.ratio);\n",
       "        canvas.attr('height', height * mpl.ratio);\n",
       "        canvas.attr('style', 'width: ' + width + 'px; height: ' + height + 'px;');\n",
       "\n",
       "        rubberband.attr('width', width);\n",
       "        rubberband.attr('height', height);\n",
       "    }\n",
       "\n",
       "    // Set the figure to an initial 600x600px, this will subsequently be updated\n",
       "    // upon first draw.\n",
       "    this._resize_canvas(600, 600);\n",
       "\n",
       "    // Disable right mouse context menu.\n",
       "    $(this.rubberband_canvas).bind(\"contextmenu\",function(e){\n",
       "        return false;\n",
       "    });\n",
       "\n",
       "    function set_focus () {\n",
       "        canvas.focus();\n",
       "        canvas_div.focus();\n",
       "    }\n",
       "\n",
       "    window.setTimeout(set_focus, 100);\n",
       "}\n",
       "\n",
       "mpl.figure.prototype._init_toolbar = function() {\n",
       "    var fig = this;\n",
       "\n",
       "    var nav_element = $('<div/>')\n",
       "    nav_element.attr('style', 'width: 100%');\n",
       "    this.root.append(nav_element);\n",
       "\n",
       "    // Define a callback function for later on.\n",
       "    function toolbar_event(event) {\n",
       "        return fig.toolbar_button_onclick(event['data']);\n",
       "    }\n",
       "    function toolbar_mouse_event(event) {\n",
       "        return fig.toolbar_button_onmouseover(event['data']);\n",
       "    }\n",
       "\n",
       "    for(var toolbar_ind in mpl.toolbar_items) {\n",
       "        var name = mpl.toolbar_items[toolbar_ind][0];\n",
       "        var tooltip = mpl.toolbar_items[toolbar_ind][1];\n",
       "        var image = mpl.toolbar_items[toolbar_ind][2];\n",
       "        var method_name = mpl.toolbar_items[toolbar_ind][3];\n",
       "\n",
       "        if (!name) {\n",
       "            // put a spacer in here.\n",
       "            continue;\n",
       "        }\n",
       "        var button = $('<button/>');\n",
       "        button.addClass('ui-button ui-widget ui-state-default ui-corner-all ' +\n",
       "                        'ui-button-icon-only');\n",
       "        button.attr('role', 'button');\n",
       "        button.attr('aria-disabled', 'false');\n",
       "        button.click(method_name, toolbar_event);\n",
       "        button.mouseover(tooltip, toolbar_mouse_event);\n",
       "\n",
       "        var icon_img = $('<span/>');\n",
       "        icon_img.addClass('ui-button-icon-primary ui-icon');\n",
       "        icon_img.addClass(image);\n",
       "        icon_img.addClass('ui-corner-all');\n",
       "\n",
       "        var tooltip_span = $('<span/>');\n",
       "        tooltip_span.addClass('ui-button-text');\n",
       "        tooltip_span.html(tooltip);\n",
       "\n",
       "        button.append(icon_img);\n",
       "        button.append(tooltip_span);\n",
       "\n",
       "        nav_element.append(button);\n",
       "    }\n",
       "\n",
       "    var fmt_picker_span = $('<span/>');\n",
       "\n",
       "    var fmt_picker = $('<select/>');\n",
       "    fmt_picker.addClass('mpl-toolbar-option ui-widget ui-widget-content');\n",
       "    fmt_picker_span.append(fmt_picker);\n",
       "    nav_element.append(fmt_picker_span);\n",
       "    this.format_dropdown = fmt_picker[0];\n",
       "\n",
       "    for (var ind in mpl.extensions) {\n",
       "        var fmt = mpl.extensions[ind];\n",
       "        var option = $(\n",
       "            '<option/>', {selected: fmt === mpl.default_extension}).html(fmt);\n",
       "        fmt_picker.append(option)\n",
       "    }\n",
       "\n",
       "    // Add hover states to the ui-buttons\n",
       "    $( \".ui-button\" ).hover(\n",
       "        function() { $(this).addClass(\"ui-state-hover\");},\n",
       "        function() { $(this).removeClass(\"ui-state-hover\");}\n",
       "    );\n",
       "\n",
       "    var status_bar = $('<span class=\"mpl-message\"/>');\n",
       "    nav_element.append(status_bar);\n",
       "    this.message = status_bar[0];\n",
       "}\n",
       "\n",
       "mpl.figure.prototype.request_resize = function(x_pixels, y_pixels) {\n",
       "    // Request matplotlib to resize the figure. Matplotlib will then trigger a resize in the client,\n",
       "    // which will in turn request a refresh of the image.\n",
       "    this.send_message('resize', {'width': x_pixels, 'height': y_pixels});\n",
       "}\n",
       "\n",
       "mpl.figure.prototype.send_message = function(type, properties) {\n",
       "    properties['type'] = type;\n",
       "    properties['figure_id'] = this.id;\n",
       "    this.ws.send(JSON.stringify(properties));\n",
       "}\n",
       "\n",
       "mpl.figure.prototype.send_draw_message = function() {\n",
       "    if (!this.waiting) {\n",
       "        this.waiting = true;\n",
       "        this.ws.send(JSON.stringify({type: \"draw\", figure_id: this.id}));\n",
       "    }\n",
       "}\n",
       "\n",
       "\n",
       "mpl.figure.prototype.handle_save = function(fig, msg) {\n",
       "    var format_dropdown = fig.format_dropdown;\n",
       "    var format = format_dropdown.options[format_dropdown.selectedIndex].value;\n",
       "    fig.ondownload(fig, format);\n",
       "}\n",
       "\n",
       "\n",
       "mpl.figure.prototype.handle_resize = function(fig, msg) {\n",
       "    var size = msg['size'];\n",
       "    if (size[0] != fig.canvas.width || size[1] != fig.canvas.height) {\n",
       "        fig._resize_canvas(size[0], size[1]);\n",
       "        fig.send_message(\"refresh\", {});\n",
       "    };\n",
       "}\n",
       "\n",
       "mpl.figure.prototype.handle_rubberband = function(fig, msg) {\n",
       "    var x0 = msg['x0'] / mpl.ratio;\n",
       "    var y0 = (fig.canvas.height - msg['y0']) / mpl.ratio;\n",
       "    var x1 = msg['x1'] / mpl.ratio;\n",
       "    var y1 = (fig.canvas.height - msg['y1']) / mpl.ratio;\n",
       "    x0 = Math.floor(x0) + 0.5;\n",
       "    y0 = Math.floor(y0) + 0.5;\n",
       "    x1 = Math.floor(x1) + 0.5;\n",
       "    y1 = Math.floor(y1) + 0.5;\n",
       "    var min_x = Math.min(x0, x1);\n",
       "    var min_y = Math.min(y0, y1);\n",
       "    var width = Math.abs(x1 - x0);\n",
       "    var height = Math.abs(y1 - y0);\n",
       "\n",
       "    fig.rubberband_context.clearRect(\n",
       "        0, 0, fig.canvas.width, fig.canvas.height);\n",
       "\n",
       "    fig.rubberband_context.strokeRect(min_x, min_y, width, height);\n",
       "}\n",
       "\n",
       "mpl.figure.prototype.handle_figure_label = function(fig, msg) {\n",
       "    // Updates the figure title.\n",
       "    fig.header.textContent = msg['label'];\n",
       "}\n",
       "\n",
       "mpl.figure.prototype.handle_cursor = function(fig, msg) {\n",
       "    var cursor = msg['cursor'];\n",
       "    switch(cursor)\n",
       "    {\n",
       "    case 0:\n",
       "        cursor = 'pointer';\n",
       "        break;\n",
       "    case 1:\n",
       "        cursor = 'default';\n",
       "        break;\n",
       "    case 2:\n",
       "        cursor = 'crosshair';\n",
       "        break;\n",
       "    case 3:\n",
       "        cursor = 'move';\n",
       "        break;\n",
       "    }\n",
       "    fig.rubberband_canvas.style.cursor = cursor;\n",
       "}\n",
       "\n",
       "mpl.figure.prototype.handle_message = function(fig, msg) {\n",
       "    fig.message.textContent = msg['message'];\n",
       "}\n",
       "\n",
       "mpl.figure.prototype.handle_draw = function(fig, msg) {\n",
       "    // Request the server to send over a new figure.\n",
       "    fig.send_draw_message();\n",
       "}\n",
       "\n",
       "mpl.figure.prototype.handle_image_mode = function(fig, msg) {\n",
       "    fig.image_mode = msg['mode'];\n",
       "}\n",
       "\n",
       "mpl.figure.prototype.updated_canvas_event = function() {\n",
       "    // Called whenever the canvas gets updated.\n",
       "    this.send_message(\"ack\", {});\n",
       "}\n",
       "\n",
       "// A function to construct a web socket function for onmessage handling.\n",
       "// Called in the figure constructor.\n",
       "mpl.figure.prototype._make_on_message_function = function(fig) {\n",
       "    return function socket_on_message(evt) {\n",
       "        if (evt.data instanceof Blob) {\n",
       "            /* FIXME: We get \"Resource interpreted as Image but\n",
       "             * transferred with MIME type text/plain:\" errors on\n",
       "             * Chrome.  But how to set the MIME type?  It doesn't seem\n",
       "             * to be part of the websocket stream */\n",
       "            evt.data.type = \"image/png\";\n",
       "\n",
       "            /* Free the memory for the previous frames */\n",
       "            if (fig.imageObj.src) {\n",
       "                (window.URL || window.webkitURL).revokeObjectURL(\n",
       "                    fig.imageObj.src);\n",
       "            }\n",
       "\n",
       "            fig.imageObj.src = (window.URL || window.webkitURL).createObjectURL(\n",
       "                evt.data);\n",
       "            fig.updated_canvas_event();\n",
       "            fig.waiting = false;\n",
       "            return;\n",
       "        }\n",
       "        else if (typeof evt.data === 'string' && evt.data.slice(0, 21) == \"data:image/png;base64\") {\n",
       "            fig.imageObj.src = evt.data;\n",
       "            fig.updated_canvas_event();\n",
       "            fig.waiting = false;\n",
       "            return;\n",
       "        }\n",
       "\n",
       "        var msg = JSON.parse(evt.data);\n",
       "        var msg_type = msg['type'];\n",
       "\n",
       "        // Call the  \"handle_{type}\" callback, which takes\n",
       "        // the figure and JSON message as its only arguments.\n",
       "        try {\n",
       "            var callback = fig[\"handle_\" + msg_type];\n",
       "        } catch (e) {\n",
       "            console.log(\"No handler for the '\" + msg_type + \"' message type: \", msg);\n",
       "            return;\n",
       "        }\n",
       "\n",
       "        if (callback) {\n",
       "            try {\n",
       "                // console.log(\"Handling '\" + msg_type + \"' message: \", msg);\n",
       "                callback(fig, msg);\n",
       "            } catch (e) {\n",
       "                console.log(\"Exception inside the 'handler_\" + msg_type + \"' callback:\", e, e.stack, msg);\n",
       "            }\n",
       "        }\n",
       "    };\n",
       "}\n",
       "\n",
       "// from http://stackoverflow.com/questions/1114465/getting-mouse-location-in-canvas\n",
       "mpl.findpos = function(e) {\n",
       "    //this section is from http://www.quirksmode.org/js/events_properties.html\n",
       "    var targ;\n",
       "    if (!e)\n",
       "        e = window.event;\n",
       "    if (e.target)\n",
       "        targ = e.target;\n",
       "    else if (e.srcElement)\n",
       "        targ = e.srcElement;\n",
       "    if (targ.nodeType == 3) // defeat Safari bug\n",
       "        targ = targ.parentNode;\n",
       "\n",
       "    // jQuery normalizes the pageX and pageY\n",
       "    // pageX,Y are the mouse positions relative to the document\n",
       "    // offset() returns the position of the element relative to the document\n",
       "    var x = e.pageX - $(targ).offset().left;\n",
       "    var y = e.pageY - $(targ).offset().top;\n",
       "\n",
       "    return {\"x\": x, \"y\": y};\n",
       "};\n",
       "\n",
       "/*\n",
       " * return a copy of an object with only non-object keys\n",
       " * we need this to avoid circular references\n",
       " * http://stackoverflow.com/a/24161582/3208463\n",
       " */\n",
       "function simpleKeys (original) {\n",
       "  return Object.keys(original).reduce(function (obj, key) {\n",
       "    if (typeof original[key] !== 'object')\n",
       "        obj[key] = original[key]\n",
       "    return obj;\n",
       "  }, {});\n",
       "}\n",
       "\n",
       "mpl.figure.prototype.mouse_event = function(event, name) {\n",
       "    var canvas_pos = mpl.findpos(event)\n",
       "\n",
       "    if (name === 'button_press')\n",
       "    {\n",
       "        this.canvas.focus();\n",
       "        this.canvas_div.focus();\n",
       "    }\n",
       "\n",
       "    var x = canvas_pos.x * mpl.ratio;\n",
       "    var y = canvas_pos.y * mpl.ratio;\n",
       "\n",
       "    this.send_message(name, {x: x, y: y, button: event.button,\n",
       "                             step: event.step,\n",
       "                             guiEvent: simpleKeys(event)});\n",
       "\n",
       "    /* This prevents the web browser from automatically changing to\n",
       "     * the text insertion cursor when the button is pressed.  We want\n",
       "     * to control all of the cursor setting manually through the\n",
       "     * 'cursor' event from matplotlib */\n",
       "    event.preventDefault();\n",
       "    return false;\n",
       "}\n",
       "\n",
       "mpl.figure.prototype._key_event_extra = function(event, name) {\n",
       "    // Handle any extra behaviour associated with a key event\n",
       "}\n",
       "\n",
       "mpl.figure.prototype.key_event = function(event, name) {\n",
       "\n",
       "    // Prevent repeat events\n",
       "    if (name == 'key_press')\n",
       "    {\n",
       "        if (event.which === this._key)\n",
       "            return;\n",
       "        else\n",
       "            this._key = event.which;\n",
       "    }\n",
       "    if (name == 'key_release')\n",
       "        this._key = null;\n",
       "\n",
       "    var value = '';\n",
       "    if (event.ctrlKey && event.which != 17)\n",
       "        value += \"ctrl+\";\n",
       "    if (event.altKey && event.which != 18)\n",
       "        value += \"alt+\";\n",
       "    if (event.shiftKey && event.which != 16)\n",
       "        value += \"shift+\";\n",
       "\n",
       "    value += 'k';\n",
       "    value += event.which.toString();\n",
       "\n",
       "    this._key_event_extra(event, name);\n",
       "\n",
       "    this.send_message(name, {key: value,\n",
       "                             guiEvent: simpleKeys(event)});\n",
       "    return false;\n",
       "}\n",
       "\n",
       "mpl.figure.prototype.toolbar_button_onclick = function(name) {\n",
       "    if (name == 'download') {\n",
       "        this.handle_save(this, null);\n",
       "    } else {\n",
       "        this.send_message(\"toolbar_button\", {name: name});\n",
       "    }\n",
       "};\n",
       "\n",
       "mpl.figure.prototype.toolbar_button_onmouseover = function(tooltip) {\n",
       "    this.message.textContent = tooltip;\n",
       "};\n",
       "mpl.toolbar_items = [[\"Home\", \"Reset original view\", \"fa fa-home icon-home\", \"home\"], [\"Back\", \"Back to  previous view\", \"fa fa-arrow-left icon-arrow-left\", \"back\"], [\"Forward\", \"Forward to next view\", \"fa fa-arrow-right icon-arrow-right\", \"forward\"], [\"\", \"\", \"\", \"\"], [\"Pan\", \"Pan axes with left mouse, zoom with right\", \"fa fa-arrows icon-move\", \"pan\"], [\"Zoom\", \"Zoom to rectangle\", \"fa fa-square-o icon-check-empty\", \"zoom\"], [\"\", \"\", \"\", \"\"], [\"Download\", \"Download plot\", \"fa fa-floppy-o icon-save\", \"download\"]];\n",
       "\n",
       "mpl.extensions = [\"eps\", \"jpeg\", \"pdf\", \"png\", \"ps\", \"raw\", \"svg\", \"tif\"];\n",
       "\n",
       "mpl.default_extension = \"png\";var comm_websocket_adapter = function(comm) {\n",
       "    // Create a \"websocket\"-like object which calls the given IPython comm\n",
       "    // object with the appropriate methods. Currently this is a non binary\n",
       "    // socket, so there is still some room for performance tuning.\n",
       "    var ws = {};\n",
       "\n",
       "    ws.close = function() {\n",
       "        comm.close()\n",
       "    };\n",
       "    ws.send = function(m) {\n",
       "        //console.log('sending', m);\n",
       "        comm.send(m);\n",
       "    };\n",
       "    // Register the callback with on_msg.\n",
       "    comm.on_msg(function(msg) {\n",
       "        //console.log('receiving', msg['content']['data'], msg);\n",
       "        // Pass the mpl event to the overriden (by mpl) onmessage function.\n",
       "        ws.onmessage(msg['content']['data'])\n",
       "    });\n",
       "    return ws;\n",
       "}\n",
       "\n",
       "mpl.mpl_figure_comm = function(comm, msg) {\n",
       "    // This is the function which gets called when the mpl process\n",
       "    // starts-up an IPython Comm through the \"matplotlib\" channel.\n",
       "\n",
       "    var id = msg.content.data.id;\n",
       "    // Get hold of the div created by the display call when the Comm\n",
       "    // socket was opened in Python.\n",
       "    var element = $(\"#\" + id);\n",
       "    var ws_proxy = comm_websocket_adapter(comm)\n",
       "\n",
       "    function ondownload(figure, format) {\n",
       "        window.open(figure.imageObj.src);\n",
       "    }\n",
       "\n",
       "    var fig = new mpl.figure(id, ws_proxy,\n",
       "                           ondownload,\n",
       "                           element.get(0));\n",
       "\n",
       "    // Call onopen now - mpl needs it, as it is assuming we've passed it a real\n",
       "    // web socket which is closed, not our websocket->open comm proxy.\n",
       "    ws_proxy.onopen();\n",
       "\n",
       "    fig.parent_element = element.get(0);\n",
       "    fig.cell_info = mpl.find_output_cell(\"<div id='\" + id + \"'></div>\");\n",
       "    if (!fig.cell_info) {\n",
       "        console.error(\"Failed to find cell for figure\", id, fig);\n",
       "        return;\n",
       "    }\n",
       "\n",
       "    var output_index = fig.cell_info[2]\n",
       "    var cell = fig.cell_info[0];\n",
       "\n",
       "};\n",
       "\n",
       "mpl.figure.prototype.handle_close = function(fig, msg) {\n",
       "    var width = fig.canvas.width/mpl.ratio\n",
       "    fig.root.unbind('remove')\n",
       "\n",
       "    // Update the output cell to use the data from the current canvas.\n",
       "    fig.push_to_output();\n",
       "    var dataURL = fig.canvas.toDataURL();\n",
       "    // Re-enable the keyboard manager in IPython - without this line, in FF,\n",
       "    // the notebook keyboard shortcuts fail.\n",
       "    IPython.keyboard_manager.enable()\n",
       "    $(fig.parent_element).html('<img src=\"' + dataURL + '\" width=\"' + width + '\">');\n",
       "    fig.close_ws(fig, msg);\n",
       "}\n",
       "\n",
       "mpl.figure.prototype.close_ws = function(fig, msg){\n",
       "    fig.send_message('closing', msg);\n",
       "    // fig.ws.close()\n",
       "}\n",
       "\n",
       "mpl.figure.prototype.push_to_output = function(remove_interactive) {\n",
       "    // Turn the data on the canvas into data in the output cell.\n",
       "    var width = this.canvas.width/mpl.ratio\n",
       "    var dataURL = this.canvas.toDataURL();\n",
       "    this.cell_info[1]['text/html'] = '<img src=\"' + dataURL + '\" width=\"' + width + '\">';\n",
       "}\n",
       "\n",
       "mpl.figure.prototype.updated_canvas_event = function() {\n",
       "    // Tell IPython that the notebook contents must change.\n",
       "    IPython.notebook.set_dirty(true);\n",
       "    this.send_message(\"ack\", {});\n",
       "    var fig = this;\n",
       "    // Wait a second, then push the new image to the DOM so\n",
       "    // that it is saved nicely (might be nice to debounce this).\n",
       "    setTimeout(function () { fig.push_to_output() }, 1000);\n",
       "}\n",
       "\n",
       "mpl.figure.prototype._init_toolbar = function() {\n",
       "    var fig = this;\n",
       "\n",
       "    var nav_element = $('<div/>')\n",
       "    nav_element.attr('style', 'width: 100%');\n",
       "    this.root.append(nav_element);\n",
       "\n",
       "    // Define a callback function for later on.\n",
       "    function toolbar_event(event) {\n",
       "        return fig.toolbar_button_onclick(event['data']);\n",
       "    }\n",
       "    function toolbar_mouse_event(event) {\n",
       "        return fig.toolbar_button_onmouseover(event['data']);\n",
       "    }\n",
       "\n",
       "    for(var toolbar_ind in mpl.toolbar_items){\n",
       "        var name = mpl.toolbar_items[toolbar_ind][0];\n",
       "        var tooltip = mpl.toolbar_items[toolbar_ind][1];\n",
       "        var image = mpl.toolbar_items[toolbar_ind][2];\n",
       "        var method_name = mpl.toolbar_items[toolbar_ind][3];\n",
       "\n",
       "        if (!name) { continue; };\n",
       "\n",
       "        var button = $('<button class=\"btn btn-default\" href=\"#\" title=\"' + name + '\"><i class=\"fa ' + image + ' fa-lg\"></i></button>');\n",
       "        button.click(method_name, toolbar_event);\n",
       "        button.mouseover(tooltip, toolbar_mouse_event);\n",
       "        nav_element.append(button);\n",
       "    }\n",
       "\n",
       "    // Add the status bar.\n",
       "    var status_bar = $('<span class=\"mpl-message\" style=\"text-align:right; float: right;\"/>');\n",
       "    nav_element.append(status_bar);\n",
       "    this.message = status_bar[0];\n",
       "\n",
       "    // Add the close button to the window.\n",
       "    var buttongrp = $('<div class=\"btn-group inline pull-right\"></div>');\n",
       "    var button = $('<button class=\"btn btn-mini btn-primary\" href=\"#\" title=\"Stop Interaction\"><i class=\"fa fa-power-off icon-remove icon-large\"></i></button>');\n",
       "    button.click(function (evt) { fig.handle_close(fig, {}); } );\n",
       "    button.mouseover('Stop Interaction', toolbar_mouse_event);\n",
       "    buttongrp.append(button);\n",
       "    var titlebar = this.root.find($('.ui-dialog-titlebar'));\n",
       "    titlebar.prepend(buttongrp);\n",
       "}\n",
       "\n",
       "mpl.figure.prototype._root_extra_style = function(el){\n",
       "    var fig = this\n",
       "    el.on(\"remove\", function(){\n",
       "\tfig.close_ws(fig, {});\n",
       "    });\n",
       "}\n",
       "\n",
       "mpl.figure.prototype._canvas_extra_style = function(el){\n",
       "    // this is important to make the div 'focusable\n",
       "    el.attr('tabindex', 0)\n",
       "    // reach out to IPython and tell the keyboard manager to turn it's self\n",
       "    // off when our div gets focus\n",
       "\n",
       "    // location in version 3\n",
       "    if (IPython.notebook.keyboard_manager) {\n",
       "        IPython.notebook.keyboard_manager.register_events(el);\n",
       "    }\n",
       "    else {\n",
       "        // location in version 2\n",
       "        IPython.keyboard_manager.register_events(el);\n",
       "    }\n",
       "\n",
       "}\n",
       "\n",
       "mpl.figure.prototype._key_event_extra = function(event, name) {\n",
       "    var manager = IPython.notebook.keyboard_manager;\n",
       "    if (!manager)\n",
       "        manager = IPython.keyboard_manager;\n",
       "\n",
       "    // Check for shift+enter\n",
       "    if (event.shiftKey && event.which == 13) {\n",
       "        this.canvas_div.blur();\n",
       "        event.shiftKey = false;\n",
       "        // Send a \"J\" for go to next cell\n",
       "        event.which = 74;\n",
       "        event.keyCode = 74;\n",
       "        manager.command_mode();\n",
       "        manager.handle_keydown(event);\n",
       "    }\n",
       "}\n",
       "\n",
       "mpl.figure.prototype.handle_save = function(fig, msg) {\n",
       "    fig.ondownload(fig, null);\n",
       "}\n",
       "\n",
       "\n",
       "mpl.find_output_cell = function(html_output) {\n",
       "    // Return the cell and output element which can be found *uniquely* in the notebook.\n",
       "    // Note - this is a bit hacky, but it is done because the \"notebook_saving.Notebook\"\n",
       "    // IPython event is triggered only after the cells have been serialised, which for\n",
       "    // our purposes (turning an active figure into a static one), is too late.\n",
       "    var cells = IPython.notebook.get_cells();\n",
       "    var ncells = cells.length;\n",
       "    for (var i=0; i<ncells; i++) {\n",
       "        var cell = cells[i];\n",
       "        if (cell.cell_type === 'code'){\n",
       "            for (var j=0; j<cell.output_area.outputs.length; j++) {\n",
       "                var data = cell.output_area.outputs[j];\n",
       "                if (data.data) {\n",
       "                    // IPython >= 3 moved mimebundle to data attribute of output\n",
       "                    data = data.data;\n",
       "                }\n",
       "                if (data['text/html'] == html_output) {\n",
       "                    return [cell, data, j];\n",
       "                }\n",
       "            }\n",
       "        }\n",
       "    }\n",
       "}\n",
       "\n",
       "// Register the function which deals with the matplotlib target/channel.\n",
       "// The kernel may be null if the page has been refreshed.\n",
       "if (IPython.notebook.kernel != null) {\n",
       "    IPython.notebook.kernel.comm_manager.register_target('matplotlib', mpl.mpl_figure_comm);\n",
       "}\n"
      ],
      "text/plain": [
       "<IPython.core.display.Javascript object>"
      ]
     },
     "metadata": {},
     "output_type": "display_data"
    },
    {
     "data": {
      "text/html": [
       "<img src=\"data:image/png;base64,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\" width=\"680\">"
      ],
      "text/plain": [
       "<IPython.core.display.HTML object>"
      ]
     },
     "metadata": {},
     "output_type": "display_data"
    }
   ],
   "source": [
    "datasets =[]\n",
    "labels = []\n",
    "\n",
    "for p in reversed(proj.projects):   # we put the parent first this way\n",
    "    datasets.append(p.IR)\n",
    "    labels.append(p.label) \n",
    "    \n",
    "_ = multiplot_stack(sources=datasets, labels=labels, \n",
    "                nrow=1, ncol=3, sharex=True, sharez=True, \n",
    "                figsize=(6.8,3), dpi=100, style='sans')"
   ]
  },
  {
   "cell_type": "markdown",
   "metadata": {},
   "source": [
    "## Creating and using project's scripts"
   ]
  },
  {
   "cell_type": "markdown",
   "metadata": {
    "nbpresent": {
     "id": "304c27b4-dbb2-4a59-90a0-1e61285000f8"
    }
   },
   "source": [
    "In order to avoid having to write this basic pre-processing and plotting function each time we read the initial project, there is two ways:\n",
    "\n",
    "1. We can save the mofified data and reopen the project with the modified files next time we need them. However, the processing that was applied cannot be modified.\n",
    "2. The second possibility is to save the processing scripts along with the project, and reapply them next time we will open this project. If a modification is required, any of the scripts can be modified before being applied.\n",
    "\n",
    "it would be useful to keep the script used here along with the project.\n",
    "\n",
    "To do so, we will store them in the project, using the `%addscript` magic function.\n",
    "\n",
    "The syntax is simple!\n",
    "\n",
    "There are two possibilities: \n",
    "\n",
    "1. `%addscript -p <project_name> -o <scriptname> <cell_reference, file or objects>`\n",
    "1. `%%addscript -p <project_name> -o <scriptname>` \n",
    "    \n",
    "        ...code lines...\n",
    "\n",
    "where\n",
    "\n",
    "* `-p <project_name>` to say in wich project we want to strore our script\n",
    "* `-o <script_name>` to say which name will be used for that script. It must be unique in a project, or confusion may rapidly arise.\n",
    "\n",
    "That's almost all:\n",
    "* The script can come from the current cell (in this case modify the command like this: `%%addscript -p <project_name> -o <script_name>` (yes with two `%`). This should be the first line of the cell to use as a script. \n",
    "* it can also come from another already executed cell: inthis case with give the `id` (*e.g.,* `3`) of the cell to use or a range of cells to use (*e.g.,* `3-10`)\n"
   ]
  },
  {
   "cell_type": "code",
   "execution_count": 4,
   "metadata": {
    "ExecuteTime": {
     "end_time": "2017-12-10T10:52:06.814925Z",
     "start_time": "2017-12-10T10:52:06.806830Z"
    },
    "init_cell": true,
    "nbpresent": {
     "id": "a1ae86af-bf52-49f8-97f5-eae32d3845b2"
    }
   },
   "outputs": [
    {
     "data": {
      "text/plain": [
       "\"\\ndatasets =[]\\nlabels = []\\n\\nfor p in reversed(proj.projects):   # we put the parent first this way\\n    datasets.append(p.IR)\\n    labels.append(p.label) \\n    \\n_ = multiplot_stack(sources=datasets, labels=labels, \\n                nrow=1, ncol=3, sharex=True, sharez=True, \\n                figsize=(6.8,3), dpi=100, style='sans')\\n\""
      ]
     },
     "execution_count": 4,
     "metadata": {},
     "output_type": "execute_result"
    }
   ],
   "source": [
    "%addscript -p proj -o preprocess 3"
   ]
  },
  {
   "cell_type": "code",
   "execution_count": 5,
   "metadata": {
    "ExecuteTime": {
     "end_time": "2017-12-09T20:16:35.392238Z",
     "start_time": "2017-12-09T20:16:35.387717Z"
    },
    "init_cell": true,
    "nbpresent": {
     "id": "4bcb0c3f-b26c-4c4e-b918-a2911e247dd6"
    }
   },
   "outputs": [
    {
     "data": {
      "text/plain": [
       "'\\n\\nprint(\"samples contained in the project are: %s\"%proj.projects_names)'"
      ]
     },
     "execution_count": 5,
     "metadata": {},
     "output_type": "execute_result"
    }
   ],
   "source": [
    "%%addscript -p proj -o print_info\n",
    "\n",
    "print(\"samples contained in the project are: %s\"%proj.projects_names)\n"
   ]
  },
  {
   "cell_type": "markdown",
   "metadata": {},
   "source": [
    "Let's check that the script are stored in the project:"
   ]
  },
  {
   "cell_type": "code",
   "execution_count": 6,
   "metadata": {
    "ExecuteTime": {
     "end_time": "2017-12-09T20:16:37.591258Z",
     "start_time": "2017-12-09T20:16:37.584218Z"
    },
    "init_cell": true
   },
   "outputs": [
    {
     "data": {
      "text/html": [
       "Project&nbsp;HIZECOKE:<br/>\n",
       "&nbsp;&nbsp;&nbsp;&nbsp;⤷&nbsp;P350&nbsp;(sub-project)<br/>\n",
       "&nbsp;&nbsp;&nbsp;&nbsp;&nbsp;&nbsp;&nbsp;⤷&nbsp;IR&nbsp;(dataset)<br/>\n",
       "&nbsp;&nbsp;&nbsp;&nbsp;&nbsp;&nbsp;&nbsp;⤷&nbsp;TGA&nbsp;(dataset)<br/>\n",
       "&nbsp;&nbsp;&nbsp;&nbsp;⤷&nbsp;A350&nbsp;(sub-project)<br/>\n",
       "&nbsp;&nbsp;&nbsp;&nbsp;&nbsp;&nbsp;&nbsp;⤷&nbsp;IR&nbsp;(dataset)<br/>\n",
       "&nbsp;&nbsp;&nbsp;&nbsp;&nbsp;&nbsp;&nbsp;⤷&nbsp;TGA&nbsp;(dataset)<br/>\n",
       "&nbsp;&nbsp;&nbsp;&nbsp;⤷&nbsp;B350&nbsp;(sub-project)<br/>\n",
       "&nbsp;&nbsp;&nbsp;&nbsp;&nbsp;&nbsp;&nbsp;⤷&nbsp;IR&nbsp;(dataset)<br/>\n",
       "&nbsp;&nbsp;&nbsp;&nbsp;&nbsp;&nbsp;&nbsp;⤷&nbsp;TGA&nbsp;(dataset)<br/>\n",
       "&nbsp;&nbsp;&nbsp;&nbsp;⤷&nbsp;preprocess&nbsp;(script)<br/>\n",
       "&nbsp;&nbsp;&nbsp;&nbsp;⤷&nbsp;print_info&nbsp;(script)<br/>\n"
      ],
      "text/plain": [
       "<spectrochempy.projects.project.Project at 0x106d41390>"
      ]
     },
     "execution_count": 6,
     "metadata": {},
     "output_type": "execute_result"
    }
   ],
   "source": [
    "proj"
   ]
  },
  {
   "cell_type": "code",
   "execution_count": 9,
   "metadata": {
    "ExecuteTime": {
     "end_time": "2017-12-09T20:16:52.527422Z",
     "start_time": "2017-12-09T20:16:52.522137Z"
    }
   },
   "outputs": [
    {
     "name": "stderr",
     "output_type": "stream",
     "text": [
      " ERROR | TypeError: 'Script' object is not callable\n"
     ]
    }
   ],
   "source": [
    "proj.print_info()\n"
   ]
  },
  {
   "cell_type": "code",
   "execution_count": null,
   "metadata": {},
   "outputs": [],
   "source": [
    "from IPython.core.magic import (Magics, magics_class, line_magic, cell_magic,\n",
    "                                line_cell_magic)\n",
    "from IPython.core.magics.code import extract_symbols\n",
    "from IPython.core.error import UsageError\n",
    "from IPython.utils.text import get_text_list\n",
    "\n",
    "# ============================================================================\n",
    "# Magic ipython function\n",
    "# ============================================================================\n",
    "@magics_class\n",
    "class SpectroChemPyMagics2(Magics):\n",
    "\n",
    "    @line_magic\n",
    "    def runscript(self, pars=''):\n",
    "        \"\"\"\n",
    "        \n",
    "        \"\"\"\n",
    "        opts, args = self.parse_options(pars, '')\n",
    "        \n",
    "        if not args:\n",
    "            raise UsageError('Missing script name')\n",
    "    \n",
    "        return args"
   ]
  },
  {
   "cell_type": "code",
   "execution_count": null,
   "metadata": {
    "ExecuteTime": {
     "end_time": "2017-12-10T10:24:55.630007Z",
     "start_time": "2017-12-10T10:24:55.621004Z"
    }
   },
   "outputs": [],
   "source": [
    "%execute"
   ]
  },
  {
   "cell_type": "code",
   "execution_count": null,
   "metadata": {
    "nbpresent": {
     "id": "7abe564d-c710-44b0-bbbc-67419775d420"
    }
   },
   "outputs": [],
   "source": [
    "def add_script(priority=50):\n",
    "\n",
    "    def decorator(func):\n",
    "\n",
    "        def wrapper(*args, **kwargs):\n",
    "            print('ok', priority)\n",
    "            return func(*args, **kwargs)\n",
    "        return wrapper\n",
    "\n",
    "    return decorator\n",
    "    "
   ]
  },
  {
   "cell_type": "code",
   "execution_count": null,
   "metadata": {
    "nbpresent": {
     "id": "024ca493-8b25-4f49-a4f3-28db6bbea608"
    }
   },
   "outputs": [],
   "source": [
    "@add_script(priority=0)    # priority 0, it will be executed after all other scripts\n",
    "def plot_IR(proj, figsize=(6.8,3), dpi=100, style='sans') :\n",
    "    datasets =[]\n",
    "    labels = []\n",
    "    for p in reversed(proj.projects):   # we put the parent first this way\n",
    "        p.IR[:, 3998.:1295., INPLACE]      # let's keep only the usefull region\n",
    "        datasets.append(p.IR)\n",
    "        labels.append(p.label) \n",
    "        \n",
    "    multiplot_stack(sources=datasets, labels=labels, \n",
    "                nrow=1, ncol=3, sharex=True, sharez=True, \n",
    "                figsize=figsize, dpi=dpi, style=style)\n",
    "    return None"
   ]
  },
  {
   "cell_type": "code",
   "execution_count": null,
   "metadata": {
    "nbpresent": {
     "id": "da8b74dc-4aa6-47e5-9261-e8ea5190cd5e"
    }
   },
   "outputs": [],
   "source": [
    "options.log_level=WARNING\n",
    "plot_IR(proj)"
   ]
  },
  {
   "cell_type": "markdown",
   "metadata": {
    "collapsed": true,
    "nbpresent": {
     "id": "d64f8d55-67db-44a9-a1d3-d95f8f8f0cca"
    }
   },
   "source": [
    "## Masking bad data\n",
    "\n",
    "Clearly some of the spectra above displayed have problem with noise, or some experiment artifacts. Let's mask them. \n",
    "\n",
    "First, we will make a copy of the data, to be sure not to modified them before finishing alll the processing.\n",
    "\n",
    "Then, we will select the region of interest."
   ]
  },
  {
   "cell_type": "markdown",
   "metadata": {
    "nbpresent": {
     "id": "361f8b0c-e0dc-4aea-8a9e-9324d5f2372e"
    }
   },
   "source": [
    "###  Some notes about Slicing\n",
    "\n",
    "Slicing can be done by index, coordinates or labels (when they are present).\n",
    "\n",
    "* `P350[:, 10]` for colomn slicing (here we get the 10th column (with index starting at 0!))\n",
    "* or `P350[10]` for row slicing\n",
    "\n",
    "As said above, we can also slice using the real coordinates. For example,\n",
    "\n",
    "* `P350[:, 3000.0:3100.0]` will select all columns from wavenumbers 3000 to 3100. \n",
    "\n",
    "**IMPORTANT** : when doing such slicing, the wavenumbers must be expressed as floating numbers (with the decimal separator present) or it will fail!.\n",
    "\n",
    "Here we want to leave only a selection of wavenumbers (between 4000. and 1290. cm$^{-1}$). Let's try to mask them. It is just necessary to affect the value **`masked`** to the data we want to mask:\n",
    "\n"
   ]
  },
  {
   "cell_type": "code",
   "execution_count": null,
   "metadata": {
    "nbpresent": {
     "id": "2eb94372-61f9-4244-a9f0-96d1f0d289f9"
    }
   },
   "outputs": [],
   "source": [
    "for key, sample in samples.items():\n",
    "    sample['IR'][:,400.:1290.] = masked \n",
    "    "
   ]
  },
  {
   "cell_type": "markdown",
   "metadata": {
    "nbpresent": {
     "id": "837d22f3-a331-4bc6-a464-6b3cf80a4e26"
    }
   },
   "source": [
    "Here we have masked the undesired data using coordinates slicing. However, note that when using coordinates, both limits needs to be set, as SpectroChemPy cannot infer wich direction will be masked)"
   ]
  },
  {
   "cell_type": "markdown",
   "metadata": {
    "nbpresent": {
     "id": "e3682b70-bede-4108-a2c4-30410480a159"
    }
   },
   "source": [
    "Let's display the results"
   ]
  },
  {
   "cell_type": "code",
   "execution_count": null,
   "metadata": {
    "nbpresent": {
     "id": "9011b48d-1b70-4ace-997e-6da9d9a83c2f"
    }
   },
   "outputs": [],
   "source": [
    "sources = [sample['IR'] for sample in samples.values()]\n",
    "labels = [\"sample \"+sample['label'] for sample in samples.values()]\n",
    "\n",
    "_ = multiplot_stack(sources=sources, labels=labels, nrow=1, ncol=3, figsize=(9,4), sharex=False,\n",
    "                sharey=True, style='sans')"
   ]
  },
  {
   "cell_type": "markdown",
   "metadata": {
    "collapsed": true,
    "nbpresent": {
     "id": "eda96c1b-baf7-4649-9447-879ab8ef7c6a"
    }
   },
   "source": [
    "To remove a mask, the only way is to remove **all** masks. It cannot be done selectively!"
   ]
  },
  {
   "cell_type": "code",
   "execution_count": null,
   "metadata": {
    "nbpresent": {
     "id": "fcfbcfdd-efce-4243-89e2-1cbc57f20494"
    }
   },
   "outputs": [],
   "source": [
    "for key, sample in samples.items():\n",
    "    sample['IR'].remove_masks()\n",
    "\n",
    "_ = multiplot_stack(sources=sources, labels=labels, nrow=1, ncol=3, figsize=(9,4), sharex=False,\n",
    "                sharey=True, style='sans')"
   ]
  },
  {
   "cell_type": "markdown",
   "metadata": {
    "nbpresent": {
     "id": "53757632-c50f-47e7-bfa4-9e2b1aa08da5"
    }
   },
   "source": [
    "Actually, because we want to select a region of interest, it might be simple to just keep this region (no need to use masks for this). WE will slice this and stor this for further use."
   ]
  },
  {
   "cell_type": "code",
   "execution_count": null,
   "metadata": {
    "nbpresent": {
     "id": "87ed4bc4-cb93-43eb-aebd-f48c736679db"
    }
   },
   "outputs": [],
   "source": [
    "for key, sample in samples.items():\n",
    "    s = sample['IR'][:,1290.:4000.]  # such slicing is not done inplace. Original data are preserved.\n",
    "    sample['IR'] = s                 # we thus need to force the change to keep this modification in the\n",
    "                                     # original data.\n",
    "        \n",
    "    # save the data in a `scp` file\n",
    "    basename = os.path.join(scpdata,'agirdata/{}/FTIR/FTIR'.format(key))\n",
    "    sample['IR'].save(basename + '_corrected.scp')"
   ]
  },
  {
   "cell_type": "markdown",
   "metadata": {
    "nbpresent": {
     "id": "ef14e3b1-4974-4895-bcec-73eeb0ae5664"
    }
   },
   "source": [
    "### Masking bad data for sample P350"
   ]
  },
  {
   "cell_type": "markdown",
   "metadata": {
    "nbpresent": {
     "id": "4def4553-804c-405f-babc-4063afa5d4d8"
    }
   },
   "source": [
    "May be, besides just slicing as above explained, it is useful to use the an interactive window to mask some values. Also because, it appears that mainly the data to remove correspond to some row it may be interesting to work on transposed data (we use the operator `.T`):"
   ]
  },
  {
   "cell_type": "code",
   "execution_count": null,
   "metadata": {
    "nbpresent": {
     "id": "42228607-2aaa-4b18-aa06-c22b87793d97"
    }
   },
   "outputs": [],
   "source": [
    "P350T = samples['P350']['IR'].T\n",
    "_ = P350T.interactive_masks(figsize=(9,5))"
   ]
  },
  {
   "cell_type": "code",
   "execution_count": null,
   "metadata": {
    "nbpresent": {
     "id": "fa866432-6983-4b1f-bfd1-bf2fa986a77d"
    }
   },
   "outputs": [],
   "source": [
    "P350T.T.plot_stack()\n",
    "# keep this \n",
    "P350 = P350T.T"
   ]
  },
  {
   "cell_type": "markdown",
   "metadata": {
    "nbpresent": {
     "id": "41186b70-97e9-4f17-9ef5-9f09321f3797"
    }
   },
   "source": [
    "Put back the masked data into the original"
   ]
  },
  {
   "cell_type": "code",
   "execution_count": null,
   "metadata": {
    "nbpresent": {
     "id": "526de1ac-fa8a-4ab9-9823-1523e00bfb2e"
    }
   },
   "outputs": [],
   "source": [
    "samples['P350']['IR'] = P350 "
   ]
  },
  {
   "cell_type": "markdown",
   "metadata": {
    "nbpresent": {
     "id": "6c81bd00-aa64-411f-844e-089d389f1061"
    }
   },
   "source": [
    "### Masking bad data for sample A350\n",
    "\n",
    "Again we will work on transposed data"
   ]
  },
  {
   "cell_type": "code",
   "execution_count": null,
   "metadata": {
    "nbpresent": {
     "id": "8c60a831-d7cc-4e9c-980d-2ee30fda6578"
    }
   },
   "outputs": [],
   "source": [
    "A350T= samples['A350']['IR'].T\n",
    "A350T.interactive_masks(figsize=(9,5))"
   ]
  },
  {
   "cell_type": "code",
   "execution_count": null,
   "metadata": {
    "nbpresent": {
     "id": "8b183a50-2549-4eed-a1ff-989ce07b672b"
    }
   },
   "outputs": [],
   "source": [
    "samples"
   ]
  },
  {
   "cell_type": "code",
   "execution_count": null,
   "metadata": {
    "nbpresent": {
     "id": "3dc79e77-4b3b-4867-ae16-777d4038d01a"
    }
   },
   "outputs": [],
   "source": [
    "samples['P350']['IR']"
   ]
  },
  {
   "cell_type": "code",
   "execution_count": null,
   "metadata": {
    "nbpresent": {
     "id": "39c374bf-bd47-4bbe-8b0b-8a6c80cc755c"
    }
   },
   "outputs": [],
   "source": [
    "samples['P350']['IR'].plot()"
   ]
  },
  {
   "cell_type": "code",
   "execution_count": null,
   "metadata": {
    "ExecuteTime": {
     "end_time": "2017-12-09T16:58:35.355609Z",
     "start_time": "2017-12-09T16:58:35.349688Z"
    },
    "nbpresent": {
     "id": "2e0d0c2d-c0b4-41d6-9bef-a93fb7cd9eb2"
    }
   },
   "outputs": [],
   "source": [
    "import re\n",
    "p = re.compile(r\"^[^\\W0-9]?[a-zA-Z_]+[\\w]*\\b\")\n",
    "p.match('name.x')[0]"
   ]
  },
  {
   "cell_type": "code",
   "execution_count": null,
   "metadata": {},
   "outputs": [],
   "source": []
  }
 ],
 "metadata": {
  "celltoolbar": "Initialization Cell",
  "kernelspec": {
   "display_name": "Python 3",
   "language": "python",
   "name": "python3"
  },
  "language_info": {
   "codemirror_mode": {
    "name": "ipython",
    "version": 3
   },
   "file_extension": ".py",
   "mimetype": "text/x-python",
   "name": "python",
   "nbconvert_exporter": "python",
   "pygments_lexer": "ipython3",
   "version": "3.6.3"
  },
  "latex_envs": {
   "LaTeX_envs_menu_present": true,
   "autocomplete": true,
   "bibliofile": "biblio.bib",
   "cite_by": "apalike",
   "current_citInitial": 1,
   "eqLabelWithNumbers": true,
   "eqNumInitial": 1,
   "hotkeys": {
    "equation": "Ctrl-E",
    "itemize": "Ctrl-I"
   },
   "labels_anchors": false,
   "latex_user_defs": false,
   "report_style_numbering": false,
   "user_envs_cfg": false
  },
  "toc": {
   "nav_menu": {},
   "number_sections": true,
   "sideBar": true,
   "skip_h1_title": true,
   "toc_cell": false,
   "toc_position": {
    "height": "calc(100% - 180px)",
    "left": "10px",
    "top": "150px",
    "width": "165px"
   },
   "toc_section_display": true,
   "toc_window_display": true
  }
 },
 "nbformat": 4,
 "nbformat_minor": 1
}
