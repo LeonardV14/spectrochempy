{
 "cells": [
  {
   "cell_type": "markdown",
   "metadata": {},
   "source": [
    "## Getting Started\n",
    "\n",
    "( We assume the spectrochemistry package has been properly installed - if not please go to :ref:`install`)"
   ]
  },
  {
   "cell_type": "markdown",
   "metadata": {},
   "source": [
    "Before using the package, we need to load the **API ( *Application Programming Interface* )**"
   ]
  },
  {
   "cell_type": "code",
   "execution_count": 1,
   "metadata": {},
   "outputs": [
    {
     "name": "stdout",
     "output_type": "stream",
     "text": [
      "\n",
      "SpectroChemPy's API\n",
      "    Version   : 0.1.a.10\n",
      "    Copyright : 2014-2017, LCS - Laboratory for Catalysis and Spectrochempy\n",
      "\n"
     ]
    }
   ],
   "source": [
    "from spectrochempy.api import *"
   ]
  },
  {
   "cell_type": "markdown",
   "metadata": {},
   "source": [
    "## Preferences\n",
    "\n",
    "Many options of the API can be set up using the preference manager. Preferences can also be set up programmatically:"
   ]
  },
  {
   "cell_type": "code",
   "execution_count": 2,
   "metadata": {
    "collapsed": true
   },
   "outputs": [],
   "source": [
    "preferences.general.log_level = 'INFO'"
   ]
  },
  {
   "cell_type": "markdown",
   "metadata": {},
   "source": [
    "In the above cell, we have set the **log** level to display ``info`` messages, such as this one:"
   ]
  },
  {
   "cell_type": "code",
   "execution_count": 3,
   "metadata": {},
   "outputs": [
    {
     "name": "stderr",
     "output_type": "stream",
     "text": [
      "this is an info message!\n"
     ]
    }
   ],
   "source": [
    "log.info('this is an info message!')\n",
    "log.debug('this is a debug message!')"
   ]
  },
  {
   "cell_type": "markdown",
   "metadata": {},
   "source": [
    "Only the info message is displayed, as expected.\n",
    "\n",
    "If we change it to ``DEBUG``, we should get the two messages"
   ]
  },
  {
   "cell_type": "code",
   "execution_count": 4,
   "metadata": {
    "run_control": {
     "frozen": false,
     "read_only": false
    }
   },
   "outputs": [
    {
     "name": "stderr",
     "output_type": "stream",
     "text": [
      "this is an info message!\n",
      "this is a debug message!\n"
     ]
    }
   ],
   "source": [
    "preferences.general.log_level = 'DEBUG'\n",
    "\n",
    "log.info('this is an info message!')\n",
    "log.debug('this is a debug message!')"
   ]
  },
  {
   "cell_type": "markdown",
   "metadata": {},
   "source": [
    "Let's now come back to a standard level of message for the rest of the Tutorial."
   ]
  },
  {
   "cell_type": "code",
   "execution_count": 5,
   "metadata": {},
   "outputs": [
    {
     "name": "stderr",
     "output_type": "stream",
     "text": [
      "this is a warning message!\n"
     ]
    }
   ],
   "source": [
    "preferences.general.log_level = 'WARNING'\n",
    "\n",
    "log.info('this is an info message!')\n",
    "log.debug('this is a debug message!')\n",
    "log.warning('this is a warning message!')"
   ]
  },
  {
   "cell_type": "markdown",
   "metadata": {},
   "source": [
    "## Access to scientific libraries"
   ]
  },
  {
   "cell_type": "markdown",
   "metadata": {},
   "source": [
    "Several libraries are imported with **SpectroChemPy** (so you don't need to re-import them):\n",
    "\n",
    "- **np** :  This is actually the **`numpy`** library, to perform numerical calculation on nD arrays.\n",
    "- **plt** : This is the **`matplotlib`** library, to allow plotting data \n",
    "\n",
    "Optionally, **scipy** and **sympy** can be available, if **SpectroChempy** can find these libraries installed on your system."
   ]
  },
  {
   "cell_type": "code",
   "execution_count": 6,
   "metadata": {},
   "outputs": [
    {
     "data": {
      "application/javascript": [
       "/* Put everything inside the global mpl namespace */\n",
       "window.mpl = {};\n",
       "\n",
       "\n",
       "mpl.get_websocket_type = function() {\n",
       "    if (typeof(WebSocket) !== 'undefined') {\n",
       "        return WebSocket;\n",
       "    } else if (typeof(MozWebSocket) !== 'undefined') {\n",
       "        return MozWebSocket;\n",
       "    } else {\n",
       "        alert('Your browser does not have WebSocket support.' +\n",
       "              'Please try Chrome, Safari or Firefox ≥ 6. ' +\n",
       "              'Firefox 4 and 5 are also supported but you ' +\n",
       "              'have to enable WebSockets in about:config.');\n",
       "    };\n",
       "}\n",
       "\n",
       "mpl.figure = function(figure_id, websocket, ondownload, parent_element) {\n",
       "    this.id = figure_id;\n",
       "\n",
       "    this.ws = websocket;\n",
       "\n",
       "    this.supports_binary = (this.ws.binaryType != undefined);\n",
       "\n",
       "    if (!this.supports_binary) {\n",
       "        var warnings = document.getElementById(\"mpl-warnings\");\n",
       "        if (warnings) {\n",
       "            warnings.style.display = 'block';\n",
       "            warnings.textContent = (\n",
       "                \"This browser does not support binary websocket messages. \" +\n",
       "                    \"Performance may be slow.\");\n",
       "        }\n",
       "    }\n",
       "\n",
       "    this.imageObj = new Image();\n",
       "\n",
       "    this.context = undefined;\n",
       "    this.message = undefined;\n",
       "    this.canvas = undefined;\n",
       "    this.rubberband_canvas = undefined;\n",
       "    this.rubberband_context = undefined;\n",
       "    this.format_dropdown = undefined;\n",
       "\n",
       "    this.image_mode = 'full';\n",
       "\n",
       "    this.root = $('<div/>');\n",
       "    this._root_extra_style(this.root)\n",
       "    this.root.attr('style', 'display: inline-block');\n",
       "\n",
       "    $(parent_element).append(this.root);\n",
       "\n",
       "    this._init_header(this);\n",
       "    this._init_canvas(this);\n",
       "    this._init_toolbar(this);\n",
       "\n",
       "    var fig = this;\n",
       "\n",
       "    this.waiting = false;\n",
       "\n",
       "    this.ws.onopen =  function () {\n",
       "            fig.send_message(\"supports_binary\", {value: fig.supports_binary});\n",
       "            fig.send_message(\"send_image_mode\", {});\n",
       "            if (mpl.ratio != 1) {\n",
       "                fig.send_message(\"set_dpi_ratio\", {'dpi_ratio': mpl.ratio});\n",
       "            }\n",
       "            fig.send_message(\"refresh\", {});\n",
       "        }\n",
       "\n",
       "    this.imageObj.onload = function() {\n",
       "            if (fig.image_mode == 'full') {\n",
       "                // Full images could contain transparency (where diff images\n",
       "                // almost always do), so we need to clear the canvas so that\n",
       "                // there is no ghosting.\n",
       "                fig.context.clearRect(0, 0, fig.canvas.width, fig.canvas.height);\n",
       "            }\n",
       "            fig.context.drawImage(fig.imageObj, 0, 0);\n",
       "        };\n",
       "\n",
       "    this.imageObj.onunload = function() {\n",
       "        this.ws.close();\n",
       "    }\n",
       "\n",
       "    this.ws.onmessage = this._make_on_message_function(this);\n",
       "\n",
       "    this.ondownload = ondownload;\n",
       "}\n",
       "\n",
       "mpl.figure.prototype._init_header = function() {\n",
       "    var titlebar = $(\n",
       "        '<div class=\"ui-dialog-titlebar ui-widget-header ui-corner-all ' +\n",
       "        'ui-helper-clearfix\"/>');\n",
       "    var titletext = $(\n",
       "        '<div class=\"ui-dialog-title\" style=\"width: 100%; ' +\n",
       "        'text-align: center; padding: 3px;\"/>');\n",
       "    titlebar.append(titletext)\n",
       "    this.root.append(titlebar);\n",
       "    this.header = titletext[0];\n",
       "}\n",
       "\n",
       "\n",
       "\n",
       "mpl.figure.prototype._canvas_extra_style = function(canvas_div) {\n",
       "\n",
       "}\n",
       "\n",
       "\n",
       "mpl.figure.prototype._root_extra_style = function(canvas_div) {\n",
       "\n",
       "}\n",
       "\n",
       "mpl.figure.prototype._init_canvas = function() {\n",
       "    var fig = this;\n",
       "\n",
       "    var canvas_div = $('<div/>');\n",
       "\n",
       "    canvas_div.attr('style', 'position: relative; clear: both; outline: 0');\n",
       "\n",
       "    function canvas_keyboard_event(event) {\n",
       "        return fig.key_event(event, event['data']);\n",
       "    }\n",
       "\n",
       "    canvas_div.keydown('key_press', canvas_keyboard_event);\n",
       "    canvas_div.keyup('key_release', canvas_keyboard_event);\n",
       "    this.canvas_div = canvas_div\n",
       "    this._canvas_extra_style(canvas_div)\n",
       "    this.root.append(canvas_div);\n",
       "\n",
       "    var canvas = $('<canvas/>');\n",
       "    canvas.addClass('mpl-canvas');\n",
       "    canvas.attr('style', \"left: 0; top: 0; z-index: 0; outline: 0\")\n",
       "\n",
       "    this.canvas = canvas[0];\n",
       "    this.context = canvas[0].getContext(\"2d\");\n",
       "\n",
       "    var backingStore = this.context.backingStorePixelRatio ||\n",
       "\tthis.context.webkitBackingStorePixelRatio ||\n",
       "\tthis.context.mozBackingStorePixelRatio ||\n",
       "\tthis.context.msBackingStorePixelRatio ||\n",
       "\tthis.context.oBackingStorePixelRatio ||\n",
       "\tthis.context.backingStorePixelRatio || 1;\n",
       "\n",
       "    mpl.ratio = (window.devicePixelRatio || 1) / backingStore;\n",
       "\n",
       "    var rubberband = $('<canvas/>');\n",
       "    rubberband.attr('style', \"position: absolute; left: 0; top: 0; z-index: 1;\")\n",
       "\n",
       "    var pass_mouse_events = true;\n",
       "\n",
       "    canvas_div.resizable({\n",
       "        start: function(event, ui) {\n",
       "            pass_mouse_events = false;\n",
       "        },\n",
       "        resize: function(event, ui) {\n",
       "            fig.request_resize(ui.size.width, ui.size.height);\n",
       "        },\n",
       "        stop: function(event, ui) {\n",
       "            pass_mouse_events = true;\n",
       "            fig.request_resize(ui.size.width, ui.size.height);\n",
       "        },\n",
       "    });\n",
       "\n",
       "    function mouse_event_fn(event) {\n",
       "        if (pass_mouse_events)\n",
       "            return fig.mouse_event(event, event['data']);\n",
       "    }\n",
       "\n",
       "    rubberband.mousedown('button_press', mouse_event_fn);\n",
       "    rubberband.mouseup('button_release', mouse_event_fn);\n",
       "    // Throttle sequential mouse events to 1 every 20ms.\n",
       "    rubberband.mousemove('motion_notify', mouse_event_fn);\n",
       "\n",
       "    rubberband.mouseenter('figure_enter', mouse_event_fn);\n",
       "    rubberband.mouseleave('figure_leave', mouse_event_fn);\n",
       "\n",
       "    canvas_div.on(\"wheel\", function (event) {\n",
       "        event = event.originalEvent;\n",
       "        event['data'] = 'scroll'\n",
       "        if (event.deltaY < 0) {\n",
       "            event.step = 1;\n",
       "        } else {\n",
       "            event.step = -1;\n",
       "        }\n",
       "        mouse_event_fn(event);\n",
       "    });\n",
       "\n",
       "    canvas_div.append(canvas);\n",
       "    canvas_div.append(rubberband);\n",
       "\n",
       "    this.rubberband = rubberband;\n",
       "    this.rubberband_canvas = rubberband[0];\n",
       "    this.rubberband_context = rubberband[0].getContext(\"2d\");\n",
       "    this.rubberband_context.strokeStyle = \"#000000\";\n",
       "\n",
       "    this._resize_canvas = function(width, height) {\n",
       "        // Keep the size of the canvas, canvas container, and rubber band\n",
       "        // canvas in synch.\n",
       "        canvas_div.css('width', width)\n",
       "        canvas_div.css('height', height)\n",
       "\n",
       "        canvas.attr('width', width * mpl.ratio);\n",
       "        canvas.attr('height', height * mpl.ratio);\n",
       "        canvas.attr('style', 'width: ' + width + 'px; height: ' + height + 'px;');\n",
       "\n",
       "        rubberband.attr('width', width);\n",
       "        rubberband.attr('height', height);\n",
       "    }\n",
       "\n",
       "    // Set the figure to an initial 600x600px, this will subsequently be updated\n",
       "    // upon first draw.\n",
       "    this._resize_canvas(600, 600);\n",
       "\n",
       "    // Disable right mouse context menu.\n",
       "    $(this.rubberband_canvas).bind(\"contextmenu\",function(e){\n",
       "        return false;\n",
       "    });\n",
       "\n",
       "    function set_focus () {\n",
       "        canvas.focus();\n",
       "        canvas_div.focus();\n",
       "    }\n",
       "\n",
       "    window.setTimeout(set_focus, 100);\n",
       "}\n",
       "\n",
       "mpl.figure.prototype._init_toolbar = function() {\n",
       "    var fig = this;\n",
       "\n",
       "    var nav_element = $('<div/>')\n",
       "    nav_element.attr('style', 'width: 100%');\n",
       "    this.root.append(nav_element);\n",
       "\n",
       "    // Define a callback function for later on.\n",
       "    function toolbar_event(event) {\n",
       "        return fig.toolbar_button_onclick(event['data']);\n",
       "    }\n",
       "    function toolbar_mouse_event(event) {\n",
       "        return fig.toolbar_button_onmouseover(event['data']);\n",
       "    }\n",
       "\n",
       "    for(var toolbar_ind in mpl.toolbar_items) {\n",
       "        var name = mpl.toolbar_items[toolbar_ind][0];\n",
       "        var tooltip = mpl.toolbar_items[toolbar_ind][1];\n",
       "        var image = mpl.toolbar_items[toolbar_ind][2];\n",
       "        var method_name = mpl.toolbar_items[toolbar_ind][3];\n",
       "\n",
       "        if (!name) {\n",
       "            // put a spacer in here.\n",
       "            continue;\n",
       "        }\n",
       "        var button = $('<button/>');\n",
       "        button.addClass('ui-button ui-widget ui-state-default ui-corner-all ' +\n",
       "                        'ui-button-icon-only');\n",
       "        button.attr('role', 'button');\n",
       "        button.attr('aria-disabled', 'false');\n",
       "        button.click(method_name, toolbar_event);\n",
       "        button.mouseover(tooltip, toolbar_mouse_event);\n",
       "\n",
       "        var icon_img = $('<span/>');\n",
       "        icon_img.addClass('ui-button-icon-primary ui-icon');\n",
       "        icon_img.addClass(image);\n",
       "        icon_img.addClass('ui-corner-all');\n",
       "\n",
       "        var tooltip_span = $('<span/>');\n",
       "        tooltip_span.addClass('ui-button-text');\n",
       "        tooltip_span.html(tooltip);\n",
       "\n",
       "        button.append(icon_img);\n",
       "        button.append(tooltip_span);\n",
       "\n",
       "        nav_element.append(button);\n",
       "    }\n",
       "\n",
       "    var fmt_picker_span = $('<span/>');\n",
       "\n",
       "    var fmt_picker = $('<select/>');\n",
       "    fmt_picker.addClass('mpl-toolbar-option ui-widget ui-widget-content');\n",
       "    fmt_picker_span.append(fmt_picker);\n",
       "    nav_element.append(fmt_picker_span);\n",
       "    this.format_dropdown = fmt_picker[0];\n",
       "\n",
       "    for (var ind in mpl.extensions) {\n",
       "        var fmt = mpl.extensions[ind];\n",
       "        var option = $(\n",
       "            '<option/>', {selected: fmt === mpl.default_extension}).html(fmt);\n",
       "        fmt_picker.append(option)\n",
       "    }\n",
       "\n",
       "    // Add hover states to the ui-buttons\n",
       "    $( \".ui-button\" ).hover(\n",
       "        function() { $(this).addClass(\"ui-state-hover\");},\n",
       "        function() { $(this).removeClass(\"ui-state-hover\");}\n",
       "    );\n",
       "\n",
       "    var status_bar = $('<span class=\"mpl-message\"/>');\n",
       "    nav_element.append(status_bar);\n",
       "    this.message = status_bar[0];\n",
       "}\n",
       "\n",
       "mpl.figure.prototype.request_resize = function(x_pixels, y_pixels) {\n",
       "    // Request matplotlib to resize the figure. Matplotlib will then trigger a resize in the client,\n",
       "    // which will in turn request a refresh of the image.\n",
       "    this.send_message('resize', {'width': x_pixels, 'height': y_pixels});\n",
       "}\n",
       "\n",
       "mpl.figure.prototype.send_message = function(type, properties) {\n",
       "    properties['type'] = type;\n",
       "    properties['figure_id'] = this.id;\n",
       "    this.ws.send(JSON.stringify(properties));\n",
       "}\n",
       "\n",
       "mpl.figure.prototype.send_draw_message = function() {\n",
       "    if (!this.waiting) {\n",
       "        this.waiting = true;\n",
       "        this.ws.send(JSON.stringify({type: \"draw\", figure_id: this.id}));\n",
       "    }\n",
       "}\n",
       "\n",
       "\n",
       "mpl.figure.prototype.handle_save = function(fig, msg) {\n",
       "    var format_dropdown = fig.format_dropdown;\n",
       "    var format = format_dropdown.options[format_dropdown.selectedIndex].value;\n",
       "    fig.ondownload(fig, format);\n",
       "}\n",
       "\n",
       "\n",
       "mpl.figure.prototype.handle_resize = function(fig, msg) {\n",
       "    var size = msg['size'];\n",
       "    if (size[0] != fig.canvas.width || size[1] != fig.canvas.height) {\n",
       "        fig._resize_canvas(size[0], size[1]);\n",
       "        fig.send_message(\"refresh\", {});\n",
       "    };\n",
       "}\n",
       "\n",
       "mpl.figure.prototype.handle_rubberband = function(fig, msg) {\n",
       "    var x0 = msg['x0'] / mpl.ratio;\n",
       "    var y0 = (fig.canvas.height - msg['y0']) / mpl.ratio;\n",
       "    var x1 = msg['x1'] / mpl.ratio;\n",
       "    var y1 = (fig.canvas.height - msg['y1']) / mpl.ratio;\n",
       "    x0 = Math.floor(x0) + 0.5;\n",
       "    y0 = Math.floor(y0) + 0.5;\n",
       "    x1 = Math.floor(x1) + 0.5;\n",
       "    y1 = Math.floor(y1) + 0.5;\n",
       "    var min_x = Math.min(x0, x1);\n",
       "    var min_y = Math.min(y0, y1);\n",
       "    var width = Math.abs(x1 - x0);\n",
       "    var height = Math.abs(y1 - y0);\n",
       "\n",
       "    fig.rubberband_context.clearRect(\n",
       "        0, 0, fig.canvas.width, fig.canvas.height);\n",
       "\n",
       "    fig.rubberband_context.strokeRect(min_x, min_y, width, height);\n",
       "}\n",
       "\n",
       "mpl.figure.prototype.handle_figure_label = function(fig, msg) {\n",
       "    // Updates the figure title.\n",
       "    fig.header.textContent = msg['label'];\n",
       "}\n",
       "\n",
       "mpl.figure.prototype.handle_cursor = function(fig, msg) {\n",
       "    var cursor = msg['cursor'];\n",
       "    switch(cursor)\n",
       "    {\n",
       "    case 0:\n",
       "        cursor = 'pointer';\n",
       "        break;\n",
       "    case 1:\n",
       "        cursor = 'default';\n",
       "        break;\n",
       "    case 2:\n",
       "        cursor = 'crosshair';\n",
       "        break;\n",
       "    case 3:\n",
       "        cursor = 'move';\n",
       "        break;\n",
       "    }\n",
       "    fig.rubberband_canvas.style.cursor = cursor;\n",
       "}\n",
       "\n",
       "mpl.figure.prototype.handle_message = function(fig, msg) {\n",
       "    fig.message.textContent = msg['message'];\n",
       "}\n",
       "\n",
       "mpl.figure.prototype.handle_draw = function(fig, msg) {\n",
       "    // Request the server to send over a new figure.\n",
       "    fig.send_draw_message();\n",
       "}\n",
       "\n",
       "mpl.figure.prototype.handle_image_mode = function(fig, msg) {\n",
       "    fig.image_mode = msg['mode'];\n",
       "}\n",
       "\n",
       "mpl.figure.prototype.updated_canvas_event = function() {\n",
       "    // Called whenever the canvas gets updated.\n",
       "    this.send_message(\"ack\", {});\n",
       "}\n",
       "\n",
       "// A function to construct a web socket function for onmessage handling.\n",
       "// Called in the figure constructor.\n",
       "mpl.figure.prototype._make_on_message_function = function(fig) {\n",
       "    return function socket_on_message(evt) {\n",
       "        if (evt.data instanceof Blob) {\n",
       "            /* FIXME: We get \"Resource interpreted as Image but\n",
       "             * transferred with MIME type text/plain:\" errors on\n",
       "             * Chrome.  But how to set the MIME type?  It doesn't seem\n",
       "             * to be part of the websocket stream */\n",
       "            evt.data.type = \"image/png\";\n",
       "\n",
       "            /* Free the memory for the previous frames */\n",
       "            if (fig.imageObj.src) {\n",
       "                (window.URL || window.webkitURL).revokeObjectURL(\n",
       "                    fig.imageObj.src);\n",
       "            }\n",
       "\n",
       "            fig.imageObj.src = (window.URL || window.webkitURL).createObjectURL(\n",
       "                evt.data);\n",
       "            fig.updated_canvas_event();\n",
       "            fig.waiting = false;\n",
       "            return;\n",
       "        }\n",
       "        else if (typeof evt.data === 'string' && evt.data.slice(0, 21) == \"data:image/png;base64\") {\n",
       "            fig.imageObj.src = evt.data;\n",
       "            fig.updated_canvas_event();\n",
       "            fig.waiting = false;\n",
       "            return;\n",
       "        }\n",
       "\n",
       "        var msg = JSON.parse(evt.data);\n",
       "        var msg_type = msg['type'];\n",
       "\n",
       "        // Call the  \"handle_{type}\" callback, which takes\n",
       "        // the figure and JSON message as its only arguments.\n",
       "        try {\n",
       "            var callback = fig[\"handle_\" + msg_type];\n",
       "        } catch (e) {\n",
       "            console.log(\"No handler for the '\" + msg_type + \"' message type: \", msg);\n",
       "            return;\n",
       "        }\n",
       "\n",
       "        if (callback) {\n",
       "            try {\n",
       "                // console.log(\"Handling '\" + msg_type + \"' message: \", msg);\n",
       "                callback(fig, msg);\n",
       "            } catch (e) {\n",
       "                console.log(\"Exception inside the 'handler_\" + msg_type + \"' callback:\", e, e.stack, msg);\n",
       "            }\n",
       "        }\n",
       "    };\n",
       "}\n",
       "\n",
       "// from http://stackoverflow.com/questions/1114465/getting-mouse-location-in-canvas\n",
       "mpl.findpos = function(e) {\n",
       "    //this section is from http://www.quirksmode.org/js/events_properties.html\n",
       "    var targ;\n",
       "    if (!e)\n",
       "        e = window.event;\n",
       "    if (e.target)\n",
       "        targ = e.target;\n",
       "    else if (e.srcElement)\n",
       "        targ = e.srcElement;\n",
       "    if (targ.nodeType == 3) // defeat Safari bug\n",
       "        targ = targ.parentNode;\n",
       "\n",
       "    // jQuery normalizes the pageX and pageY\n",
       "    // pageX,Y are the mouse positions relative to the document\n",
       "    // offset() returns the position of the element relative to the document\n",
       "    var x = e.pageX - $(targ).offset().left;\n",
       "    var y = e.pageY - $(targ).offset().top;\n",
       "\n",
       "    return {\"x\": x, \"y\": y};\n",
       "};\n",
       "\n",
       "/*\n",
       " * return a copy of an object with only non-object keys\n",
       " * we need this to avoid circular references\n",
       " * http://stackoverflow.com/a/24161582/3208463\n",
       " */\n",
       "function simpleKeys (original) {\n",
       "  return Object.keys(original).reduce(function (obj, key) {\n",
       "    if (typeof original[key] !== 'object')\n",
       "        obj[key] = original[key]\n",
       "    return obj;\n",
       "  }, {});\n",
       "}\n",
       "\n",
       "mpl.figure.prototype.mouse_event = function(event, name) {\n",
       "    var canvas_pos = mpl.findpos(event)\n",
       "\n",
       "    if (name === 'button_press')\n",
       "    {\n",
       "        this.canvas.focus();\n",
       "        this.canvas_div.focus();\n",
       "    }\n",
       "\n",
       "    var x = canvas_pos.x * mpl.ratio;\n",
       "    var y = canvas_pos.y * mpl.ratio;\n",
       "\n",
       "    this.send_message(name, {x: x, y: y, button: event.button,\n",
       "                             step: event.step,\n",
       "                             guiEvent: simpleKeys(event)});\n",
       "\n",
       "    /* This prevents the web browser from automatically changing to\n",
       "     * the text insertion cursor when the button is pressed.  We want\n",
       "     * to control all of the cursor setting manually through the\n",
       "     * 'cursor' event from matplotlib */\n",
       "    event.preventDefault();\n",
       "    return false;\n",
       "}\n",
       "\n",
       "mpl.figure.prototype._key_event_extra = function(event, name) {\n",
       "    // Handle any extra behaviour associated with a key event\n",
       "}\n",
       "\n",
       "mpl.figure.prototype.key_event = function(event, name) {\n",
       "\n",
       "    // Prevent repeat events\n",
       "    if (name == 'key_press')\n",
       "    {\n",
       "        if (event.which === this._key)\n",
       "            return;\n",
       "        else\n",
       "            this._key = event.which;\n",
       "    }\n",
       "    if (name == 'key_release')\n",
       "        this._key = null;\n",
       "\n",
       "    var value = '';\n",
       "    if (event.ctrlKey && event.which != 17)\n",
       "        value += \"ctrl+\";\n",
       "    if (event.altKey && event.which != 18)\n",
       "        value += \"alt+\";\n",
       "    if (event.shiftKey && event.which != 16)\n",
       "        value += \"shift+\";\n",
       "\n",
       "    value += 'k';\n",
       "    value += event.which.toString();\n",
       "\n",
       "    this._key_event_extra(event, name);\n",
       "\n",
       "    this.send_message(name, {key: value,\n",
       "                             guiEvent: simpleKeys(event)});\n",
       "    return false;\n",
       "}\n",
       "\n",
       "mpl.figure.prototype.toolbar_button_onclick = function(name) {\n",
       "    if (name == 'download') {\n",
       "        this.handle_save(this, null);\n",
       "    } else {\n",
       "        this.send_message(\"toolbar_button\", {name: name});\n",
       "    }\n",
       "};\n",
       "\n",
       "mpl.figure.prototype.toolbar_button_onmouseover = function(tooltip) {\n",
       "    this.message.textContent = tooltip;\n",
       "};\n",
       "mpl.toolbar_items = [[\"Home\", \"Reset original view\", \"fa fa-home icon-home\", \"home\"], [\"Back\", \"Back to  previous view\", \"fa fa-arrow-left icon-arrow-left\", \"back\"], [\"Forward\", \"Forward to next view\", \"fa fa-arrow-right icon-arrow-right\", \"forward\"], [\"\", \"\", \"\", \"\"], [\"Pan\", \"Pan axes with left mouse, zoom with right\", \"fa fa-arrows icon-move\", \"pan\"], [\"Zoom\", \"Zoom to rectangle\", \"fa fa-square-o icon-check-empty\", \"zoom\"], [\"\", \"\", \"\", \"\"], [\"Download\", \"Download plot\", \"fa fa-floppy-o icon-save\", \"download\"]];\n",
       "\n",
       "mpl.extensions = [\"eps\", \"jpeg\", \"pdf\", \"png\", \"ps\", \"raw\", \"svg\", \"tif\"];\n",
       "\n",
       "mpl.default_extension = \"png\";var comm_websocket_adapter = function(comm) {\n",
       "    // Create a \"websocket\"-like object which calls the given IPython comm\n",
       "    // object with the appropriate methods. Currently this is a non binary\n",
       "    // socket, so there is still some room for performance tuning.\n",
       "    var ws = {};\n",
       "\n",
       "    ws.close = function() {\n",
       "        comm.close()\n",
       "    };\n",
       "    ws.send = function(m) {\n",
       "        //console.log('sending', m);\n",
       "        comm.send(m);\n",
       "    };\n",
       "    // Register the callback with on_msg.\n",
       "    comm.on_msg(function(msg) {\n",
       "        //console.log('receiving', msg['content']['data'], msg);\n",
       "        // Pass the mpl event to the overriden (by mpl) onmessage function.\n",
       "        ws.onmessage(msg['content']['data'])\n",
       "    });\n",
       "    return ws;\n",
       "}\n",
       "\n",
       "mpl.mpl_figure_comm = function(comm, msg) {\n",
       "    // This is the function which gets called when the mpl process\n",
       "    // starts-up an IPython Comm through the \"matplotlib\" channel.\n",
       "\n",
       "    var id = msg.content.data.id;\n",
       "    // Get hold of the div created by the display call when the Comm\n",
       "    // socket was opened in Python.\n",
       "    var element = $(\"#\" + id);\n",
       "    var ws_proxy = comm_websocket_adapter(comm)\n",
       "\n",
       "    function ondownload(figure, format) {\n",
       "        window.open(figure.imageObj.src);\n",
       "    }\n",
       "\n",
       "    var fig = new mpl.figure(id, ws_proxy,\n",
       "                           ondownload,\n",
       "                           element.get(0));\n",
       "\n",
       "    // Call onopen now - mpl needs it, as it is assuming we've passed it a real\n",
       "    // web socket which is closed, not our websocket->open comm proxy.\n",
       "    ws_proxy.onopen();\n",
       "\n",
       "    fig.parent_element = element.get(0);\n",
       "    fig.cell_info = mpl.find_output_cell(\"<div id='\" + id + \"'></div>\");\n",
       "    if (!fig.cell_info) {\n",
       "        console.error(\"Failed to find cell for figure\", id, fig);\n",
       "        return;\n",
       "    }\n",
       "\n",
       "    var output_index = fig.cell_info[2]\n",
       "    var cell = fig.cell_info[0];\n",
       "\n",
       "};\n",
       "\n",
       "mpl.figure.prototype.handle_close = function(fig, msg) {\n",
       "    var width = fig.canvas.width/mpl.ratio\n",
       "    fig.root.unbind('remove')\n",
       "\n",
       "    // Update the output cell to use the data from the current canvas.\n",
       "    fig.push_to_output();\n",
       "    var dataURL = fig.canvas.toDataURL();\n",
       "    // Re-enable the keyboard manager in IPython - without this line, in FF,\n",
       "    // the notebook keyboard shortcuts fail.\n",
       "    IPython.keyboard_manager.enable()\n",
       "    $(fig.parent_element).html('<img src=\"' + dataURL + '\" width=\"' + width + '\">');\n",
       "    fig.close_ws(fig, msg);\n",
       "}\n",
       "\n",
       "mpl.figure.prototype.close_ws = function(fig, msg){\n",
       "    fig.send_message('closing', msg);\n",
       "    // fig.ws.close()\n",
       "}\n",
       "\n",
       "mpl.figure.prototype.push_to_output = function(remove_interactive) {\n",
       "    // Turn the data on the canvas into data in the output cell.\n",
       "    var width = this.canvas.width/mpl.ratio\n",
       "    var dataURL = this.canvas.toDataURL();\n",
       "    this.cell_info[1]['text/html'] = '<img src=\"' + dataURL + '\" width=\"' + width + '\">';\n",
       "}\n",
       "\n",
       "mpl.figure.prototype.updated_canvas_event = function() {\n",
       "    // Tell IPython that the notebook contents must change.\n",
       "    IPython.notebook.set_dirty(true);\n",
       "    this.send_message(\"ack\", {});\n",
       "    var fig = this;\n",
       "    // Wait a second, then push the new image to the DOM so\n",
       "    // that it is saved nicely (might be nice to debounce this).\n",
       "    setTimeout(function () { fig.push_to_output() }, 1000);\n",
       "}\n",
       "\n",
       "mpl.figure.prototype._init_toolbar = function() {\n",
       "    var fig = this;\n",
       "\n",
       "    var nav_element = $('<div/>')\n",
       "    nav_element.attr('style', 'width: 100%');\n",
       "    this.root.append(nav_element);\n",
       "\n",
       "    // Define a callback function for later on.\n",
       "    function toolbar_event(event) {\n",
       "        return fig.toolbar_button_onclick(event['data']);\n",
       "    }\n",
       "    function toolbar_mouse_event(event) {\n",
       "        return fig.toolbar_button_onmouseover(event['data']);\n",
       "    }\n",
       "\n",
       "    for(var toolbar_ind in mpl.toolbar_items){\n",
       "        var name = mpl.toolbar_items[toolbar_ind][0];\n",
       "        var tooltip = mpl.toolbar_items[toolbar_ind][1];\n",
       "        var image = mpl.toolbar_items[toolbar_ind][2];\n",
       "        var method_name = mpl.toolbar_items[toolbar_ind][3];\n",
       "\n",
       "        if (!name) { continue; };\n",
       "\n",
       "        var button = $('<button class=\"btn btn-default\" href=\"#\" title=\"' + name + '\"><i class=\"fa ' + image + ' fa-lg\"></i></button>');\n",
       "        button.click(method_name, toolbar_event);\n",
       "        button.mouseover(tooltip, toolbar_mouse_event);\n",
       "        nav_element.append(button);\n",
       "    }\n",
       "\n",
       "    // Add the status bar.\n",
       "    var status_bar = $('<span class=\"mpl-message\" style=\"text-align:right; float: right;\"/>');\n",
       "    nav_element.append(status_bar);\n",
       "    this.message = status_bar[0];\n",
       "\n",
       "    // Add the close button to the window.\n",
       "    var buttongrp = $('<div class=\"btn-group inline pull-right\"></div>');\n",
       "    var button = $('<button class=\"btn btn-mini btn-primary\" href=\"#\" title=\"Stop Interaction\"><i class=\"fa fa-power-off icon-remove icon-large\"></i></button>');\n",
       "    button.click(function (evt) { fig.handle_close(fig, {}); } );\n",
       "    button.mouseover('Stop Interaction', toolbar_mouse_event);\n",
       "    buttongrp.append(button);\n",
       "    var titlebar = this.root.find($('.ui-dialog-titlebar'));\n",
       "    titlebar.prepend(buttongrp);\n",
       "}\n",
       "\n",
       "mpl.figure.prototype._root_extra_style = function(el){\n",
       "    var fig = this\n",
       "    el.on(\"remove\", function(){\n",
       "\tfig.close_ws(fig, {});\n",
       "    });\n",
       "}\n",
       "\n",
       "mpl.figure.prototype._canvas_extra_style = function(el){\n",
       "    // this is important to make the div 'focusable\n",
       "    el.attr('tabindex', 0)\n",
       "    // reach out to IPython and tell the keyboard manager to turn it's self\n",
       "    // off when our div gets focus\n",
       "\n",
       "    // location in version 3\n",
       "    if (IPython.notebook.keyboard_manager) {\n",
       "        IPython.notebook.keyboard_manager.register_events(el);\n",
       "    }\n",
       "    else {\n",
       "        // location in version 2\n",
       "        IPython.keyboard_manager.register_events(el);\n",
       "    }\n",
       "\n",
       "}\n",
       "\n",
       "mpl.figure.prototype._key_event_extra = function(event, name) {\n",
       "    var manager = IPython.notebook.keyboard_manager;\n",
       "    if (!manager)\n",
       "        manager = IPython.keyboard_manager;\n",
       "\n",
       "    // Check for shift+enter\n",
       "    if (event.shiftKey && event.which == 13) {\n",
       "        this.canvas_div.blur();\n",
       "        // select the cell after this one\n",
       "        var index = IPython.notebook.find_cell_index(this.cell_info[0]);\n",
       "        IPython.notebook.select(index + 1);\n",
       "    }\n",
       "}\n",
       "\n",
       "mpl.figure.prototype.handle_save = function(fig, msg) {\n",
       "    fig.ondownload(fig, null);\n",
       "}\n",
       "\n",
       "\n",
       "mpl.find_output_cell = function(html_output) {\n",
       "    // Return the cell and output element which can be found *uniquely* in the notebook.\n",
       "    // Note - this is a bit hacky, but it is done because the \"notebook_saving.Notebook\"\n",
       "    // IPython event is triggered only after the cells have been serialised, which for\n",
       "    // our purposes (turning an active figure into a static one), is too late.\n",
       "    var cells = IPython.notebook.get_cells();\n",
       "    var ncells = cells.length;\n",
       "    for (var i=0; i<ncells; i++) {\n",
       "        var cell = cells[i];\n",
       "        if (cell.cell_type === 'code'){\n",
       "            for (var j=0; j<cell.output_area.outputs.length; j++) {\n",
       "                var data = cell.output_area.outputs[j];\n",
       "                if (data.data) {\n",
       "                    // IPython >= 3 moved mimebundle to data attribute of output\n",
       "                    data = data.data;\n",
       "                }\n",
       "                if (data['text/html'] == html_output) {\n",
       "                    return [cell, data, j];\n",
       "                }\n",
       "            }\n",
       "        }\n",
       "    }\n",
       "}\n",
       "\n",
       "// Register the function which deals with the matplotlib target/channel.\n",
       "// The kernel may be null if the page has been refreshed.\n",
       "if (IPython.notebook.kernel != null) {\n",
       "    IPython.notebook.kernel.comm_manager.register_target('matplotlib', mpl.mpl_figure_comm);\n",
       "}\n"
      ],
      "text/plain": [
       "<IPython.core.display.Javascript object>"
      ]
     },
     "metadata": {},
     "output_type": "display_data"
    },
    {
     "data": {
      "text/html": [
       "<img src=\"data:image/png;base64,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\" width=\"640\">"
      ],
      "text/plain": [
       "<IPython.core.display.HTML object>"
      ]
     },
     "metadata": {},
     "output_type": "display_data"
    },
    {
     "data": {
      "text/plain": [
       "[<matplotlib.lines.Line2D at 0x106a68e80>]"
      ]
     },
     "execution_count": 6,
     "metadata": {},
     "output_type": "execute_result"
    }
   ],
   "source": [
    "x = np.linspace(0, 2*np.pi, 100)\n",
    "y = np.sin(x)\n",
    "\n",
    "plt.plot(x,y)"
   ]
  },
  {
   "cell_type": "markdown",
   "metadata": {},
   "source": [
    "## Units, uncertainties and measurements"
   ]
  },
  {
   "cell_type": "markdown",
   "metadata": {},
   "source": [
    "The objets **ur**, **quantity** and **measurement**, based on the **`pint`** and **`uncertainties`** librairies allows the manipulation of data with units and uncertainties. (see tutorial-1-units-uncertainties)"
   ]
  },
  {
   "cell_type": "code",
   "execution_count": 7,
   "metadata": {},
   "outputs": [
    {
     "data": {
      "text/html": [
       "1.94 cm.s<sup>-1</sup>"
      ],
      "text/latex": [
       "$1.94 cm / s$"
      ],
      "text/plain": [
       "<Quantity(1.94, 'centimeter / second')>"
      ]
     },
     "execution_count": 7,
     "metadata": {},
     "output_type": "execute_result"
    }
   ],
   "source": [
    "19.4 * ur.cm / (10 * ur.s)"
   ]
  },
  {
   "cell_type": "code",
   "execution_count": 8,
   "metadata": {},
   "outputs": [
    {
     "data": {
      "text/html": [
       "10.0 km"
      ],
      "text/latex": [
       "$10.0 km$"
      ],
      "text/plain": [
       "<Quantity(10.0, 'kilometer')>"
      ]
     },
     "execution_count": 8,
     "metadata": {},
     "output_type": "execute_result"
    }
   ],
   "source": [
    "x= quantity(10., 'km')\n",
    "x"
   ]
  },
  {
   "cell_type": "code",
   "execution_count": 9,
   "metadata": {},
   "outputs": [
    {
     "name": "stdout",
     "output_type": "stream",
     "text": [
      "(10.000 +/- 0.010) kilometer\n"
     ]
    }
   ],
   "source": [
    "y = measurement(10, .01, 'km')\n",
    "print(y)  #TODO: _repr_html not working"
   ]
  },
  {
   "cell_type": "markdown",
   "metadata": {},
   "source": [
    "# Using the API: a first example with the Isotope database"
   ]
  },
  {
   "cell_type": "markdown",
   "metadata": {},
   "source": [
    "If you are interested by **NMR**, it might be useful to have information about NMR isotopes, *e.g.*, to include this in some further calculations.\n",
    "\n",
    "Let's get information about the $^{27}$Al nucleus. \n",
    "\n",
    "We use the **Isotopes** class:"
   ]
  },
  {
   "cell_type": "code",
   "execution_count": 10,
   "metadata": {
    "run_control": {
     "frozen": false,
     "read_only": false
    }
   },
   "outputs": [
    {
     "data": {
      "text/html": [
       "<sup>27</sup>Al [5/2]"
      ],
      "text/plain": [
       "Isotopes < 27Al >"
      ]
     },
     "execution_count": 10,
     "metadata": {},
     "output_type": "execute_result"
    }
   ],
   "source": [
    "al = Isotopes('27Al')\n",
    "al"
   ]
  },
  {
   "cell_type": "code",
   "execution_count": 11,
   "metadata": {
    "run_control": {
     "frozen": false,
     "read_only": false
    }
   },
   "outputs": [
    {
     "name": "stdout",
     "output_type": "stream",
     "text": [
      "Al 5/2\n"
     ]
    }
   ],
   "source": [
    "print(al.symbol, al.spin)"
   ]
  },
  {
   "cell_type": "code",
   "execution_count": 12,
   "metadata": {
    "run_control": {
     "frozen": false,
     "read_only": false
    }
   },
   "outputs": [
    {
     "data": {
      "text/html": [
       "1.466e-29 m<sup>2</sup>"
      ],
      "text/latex": [
       "$1.466e-29 m ** 2$"
      ],
      "text/plain": [
       "<Quantity(1.466e-29, 'meter ** 2')>"
      ]
     },
     "execution_count": 12,
     "metadata": {},
     "output_type": "execute_result"
    }
   ],
   "source": [
    "quadrupolar_moment = al.Q.to('m^2') \n",
    "quadrupolar_moment"
   ]
  },
  {
   "cell_type": "code",
   "execution_count": 13,
   "metadata": {
    "run_control": {
     "frozen": false,
     "read_only": false
    }
   },
   "outputs": [
    {
     "data": {
      "text/html": [
       "11.103076875144868 MHz.T<sup>-1</sup>"
      ],
      "text/latex": [
       "$11.103076875144868 MHz / T$"
      ],
      "text/plain": [
       "<Quantity(11.103076875144868, 'megahertz / tesla')>"
      ]
     },
     "execution_count": 13,
     "metadata": {},
     "output_type": "execute_result"
    }
   ],
   "source": [
    "gyromagnetic_ratio = al.gamma\n",
    "gyromagnetic_ratio"
   ]
  },
  {
   "cell_type": "markdown",
   "metadata": {},
   "source": [
    "It is then obvious how to get the Larmor frequency of aluminium:"
   ]
  },
  {
   "cell_type": "code",
   "execution_count": 14,
   "metadata": {
    "run_control": {
     "frozen": false,
     "read_only": false
    }
   },
   "outputs": [
    {
     "name": "stdout",
     "output_type": "stream",
     "text": [
      "104.37 MHz at 9.40 T\n"
     ]
    }
   ],
   "source": [
    "B0 = quantity('9.4 tesla')\n",
    "print(\"{freq:~.2f} at {B0:~.2f}\".format(freq=al.gamma * B0, B0=B0))"
   ]
  }
 ],
 "metadata": {
  "celltoolbar": "Edit Metadata",
  "kernelspec": {
   "display_name": "Python 3",
   "language": "python",
   "name": "python3"
  },
  "language_info": {
   "codemirror_mode": {
    "name": "ipython",
    "version": 3
   },
   "file_extension": ".py",
   "mimetype": "text/x-python",
   "name": "python",
   "nbconvert_exporter": "python",
   "pygments_lexer": "ipython3",
   "version": "3.5.3"
  },
  "toc": {
   "toc_cell": true,
   "toc_number_sections": false,
   "toc_threshold": 6,
   "toc_window_display": false
  }
 },
 "nbformat": 4,
 "nbformat_minor": 1
}
