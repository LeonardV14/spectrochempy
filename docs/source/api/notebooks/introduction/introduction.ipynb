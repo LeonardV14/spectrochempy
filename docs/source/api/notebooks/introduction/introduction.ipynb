{
 "cells": [
  {
   "cell_type": "markdown",
   "metadata": {},
   "source": [
    "## Getting Started\n",
    "\n",
    "( We assume the spectrochemistry package has been properly installed - if not please go to :ref:`install`)"
   ]
  },
  {
   "cell_type": "markdown",
   "metadata": {},
   "source": [
    "Before using the package, we need to load the **API ( *Application Programming Interface* )**"
   ]
  },
  {
   "cell_type": "code",
   "execution_count": 1,
   "metadata": {},
   "outputs": [],
   "source": [
    "from spectrochempy.api import *"
   ]
  },
  {
   "cell_type": "markdown",
   "metadata": {},
   "source": [
    "## Preferences\n",
    "\n",
    "Many options of the API can be set up using the preference manager."
   ]
  },
  {
   "cell_type": "markdown",
   "metadata": {},
   "source": [
    "To use a graphical interface for the preferences, just type the command : **`view_preferences()`**."
   ]
  },
  {
   "cell_type": "code",
   "execution_count": 2,
   "metadata": {
    "collapsed": true,
    "nbsphinx": {
     "execute": "never",
     "timeout": 60.0
    }
   },
   "outputs": [],
   "source": [
    "#view_preferences()"
   ]
  },
  {
   "cell_type": "markdown",
   "metadata": {},
   "source": [
    "This open a window such this one, allowing to set some API preferences:\n",
    "\n",
    "![ ](../images/prefs.png)\n"
   ]
  },
  {
   "cell_type": "markdown",
   "metadata": {},
   "source": [
    "But preferences can also be set up programmatically:"
   ]
  },
  {
   "cell_type": "code",
   "execution_count": 3,
   "metadata": {
    "collapsed": true
   },
   "outputs": [],
   "source": [
    "preferences.general.log_level = 'INFO'"
   ]
  },
  {
   "cell_type": "markdown",
   "metadata": {},
   "source": [
    "In the above cell, we have set the **log** level to display ``info`` messages, such as this one:"
   ]
  },
  {
   "cell_type": "code",
   "execution_count": 4,
   "metadata": {},
   "outputs": [
    {
     "name": "stderr",
     "output_type": "stream",
     "text": [
      "this is an info message!\n"
     ]
    }
   ],
   "source": [
    "log.info('this is an info message!')\n",
    "log.debug('this is a debug message!')"
   ]
  },
  {
   "cell_type": "markdown",
   "metadata": {},
   "source": [
    "Only the info message is displayed, as expected.\n",
    "\n",
    "If we change it to ``DEBUG``, we should get the two messages"
   ]
  },
  {
   "cell_type": "code",
   "execution_count": 5,
   "metadata": {
    "run_control": {
     "frozen": false,
     "read_only": false
    }
   },
   "outputs": [
    {
     "name": "stderr",
     "output_type": "stream",
     "text": [
      "this is an info message!\n",
      "this is a debug message!\n"
     ]
    }
   ],
   "source": [
    "preferences.general.log_level = 'DEBUG'\n",
    "\n",
    "log.info('this is an info message!')\n",
    "log.debug('this is a debug message!')"
   ]
  },
  {
   "cell_type": "markdown",
   "metadata": {},
   "source": [
    "Let's now come back to a standard level of message for the rest of the Tutorial."
   ]
  },
  {
   "cell_type": "code",
   "execution_count": 6,
   "metadata": {},
   "outputs": [
    {
     "name": "stderr",
     "output_type": "stream",
     "text": [
      "this is a warning message!\n"
     ]
    }
   ],
   "source": [
    "preferences.general.log_level = 'WARNING'\n",
    "\n",
    "log.info('this is an info message!')\n",
    "log.debug('this is a debug message!')\n",
    "log.warning('this is a warning message!')"
   ]
  },
  {
   "cell_type": "markdown",
   "metadata": {},
   "source": [
    "## Access to scientific libraries"
   ]
  },
  {
   "cell_type": "markdown",
   "metadata": {},
   "source": [
    "Several libraries are imported with **SpectroChemPy** (so you don't need to re-import them):\n",
    "\n",
    "- **np** :  This is actually the **`numpy`** library, to perform numerical calculation on nD arrays.\n",
    "- **plt** : This is the **`matplotlib`** library, to allow plotting data \n",
    "\n",
    "Optionally, **scipy** and **sympy** can be available, if **SpectroChempy** can find these libraries installed on your system."
   ]
  },
  {
   "cell_type": "code",
   "execution_count": 7,
   "metadata": {},
   "outputs": [
    {
     "data": {
      "text/plain": [
       "<IPython.core.display.Javascript object>"
      ]
     },
     "metadata": {},
     "output_type": "display_data"
    },
    {
     "data": {
      "text/html": [
       "<img src=\"data:image/png;base64,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\">"
      ],
      "text/plain": [
       "<IPython.core.display.HTML object>"
      ]
     },
     "metadata": {},
     "output_type": "execute_result"
    },
    {
     "data": {
      "text/plain": [
       "[<matplotlib.lines.Line2D at 0x124428e80>]"
      ]
     },
     "execution_count": 7,
     "metadata": {},
     "output_type": "execute_result"
    }
   ],
   "source": [
    "x = np.linspace(0, 2*np.pi, 100)\n",
    "y = np.sin(x)\n",
    "\n",
    "plt.plot(x,y)"
   ]
  },
  {
   "cell_type": "markdown",
   "metadata": {},
   "source": [
    "## Units, uncertainties and measurements"
   ]
  },
  {
   "cell_type": "markdown",
   "metadata": {},
   "source": [
    "The objets **ur**, **quantity** and **measurement**, based on the **`pint`** and **`uncertainties`** librairies allows the manipulation of data with units and uncertainties. (see tutorial-1-units-uncertainties)"
   ]
  },
  {
   "cell_type": "code",
   "execution_count": 8,
   "metadata": {},
   "outputs": [
    {
     "data": {
      "text/html": [
       "1.94 cm.s<sup>-1</sup>"
      ],
      "text/plain": [
       "<Quantity(1.94, 'centimeter / second')>"
      ]
     },
     "execution_count": 8,
     "metadata": {},
     "output_type": "execute_result"
    }
   ],
   "source": [
    "19.4 * ur.cm / (10 * ur.s)"
   ]
  },
  {
   "cell_type": "code",
   "execution_count": 9,
   "metadata": {},
   "outputs": [
    {
     "data": {
      "text/html": [
       "10.0 km"
      ],
      "text/plain": [
       "<Quantity(10.0, 'kilometer')>"
      ]
     },
     "execution_count": 9,
     "metadata": {},
     "output_type": "execute_result"
    }
   ],
   "source": [
    "x= quantity(10., 'km')\n",
    "x"
   ]
  },
  {
   "cell_type": "code",
   "execution_count": 12,
   "metadata": {},
   "outputs": [
    {
     "name": "stdout",
     "output_type": "stream",
     "text": [
      "(10.000 +/- 0.010) kilometer\n"
     ]
    }
   ],
   "source": [
    "y = measurement(10, .01, 'km')\n",
    "print(y)  #TODO: _repr_html not working"
   ]
  },
  {
   "cell_type": "markdown",
   "metadata": {},
   "source": [
    "# Using the API: a first example with the Isotope database"
   ]
  },
  {
   "cell_type": "markdown",
   "metadata": {},
   "source": [
    "If you are interested by **NMR**, it might be useful to have information about NMR isotopes, *e.g.*, to include this in some further calculations.\n",
    "\n",
    "Let's get information about the $^{27}$Al nucleus. \n",
    "\n",
    "We use the **Isotopes** class:"
   ]
  },
  {
   "cell_type": "code",
   "execution_count": 13,
   "metadata": {
    "run_control": {
     "frozen": false,
     "read_only": false
    }
   },
   "outputs": [
    {
     "data": {
      "text/html": [
       "<sup>27</sup>Al [5/2]"
      ],
      "text/plain": [
       "Isotopes < 27Al >"
      ]
     },
     "execution_count": 13,
     "metadata": {},
     "output_type": "execute_result"
    }
   ],
   "source": [
    "al = Isotopes('27Al')\n",
    "al"
   ]
  },
  {
   "cell_type": "code",
   "execution_count": 14,
   "metadata": {
    "run_control": {
     "frozen": false,
     "read_only": false
    }
   },
   "outputs": [
    {
     "name": "stdout",
     "output_type": "stream",
     "text": [
      "Al 5/2\n"
     ]
    }
   ],
   "source": [
    "print(al.symbol, al.spin)"
   ]
  },
  {
   "cell_type": "code",
   "execution_count": 15,
   "metadata": {
    "run_control": {
     "frozen": false,
     "read_only": false
    }
   },
   "outputs": [
    {
     "data": {
      "text/html": [
       "1.466e-29 m<sup>2</sup>"
      ],
      "text/plain": [
       "<Quantity(1.466e-29, 'meter ** 2')>"
      ]
     },
     "execution_count": 15,
     "metadata": {},
     "output_type": "execute_result"
    }
   ],
   "source": [
    "quadrupolar_moment = al.Q.to('m^2') \n",
    "quadrupolar_moment"
   ]
  },
  {
   "cell_type": "code",
   "execution_count": 16,
   "metadata": {
    "run_control": {
     "frozen": false,
     "read_only": false
    }
   },
   "outputs": [
    {
     "data": {
      "text/html": [
       "11.103076875144868 MHz.T<sup>-1</sup>"
      ],
      "text/plain": [
       "<Quantity(11.103076875144868, 'megahertz / tesla')>"
      ]
     },
     "execution_count": 16,
     "metadata": {},
     "output_type": "execute_result"
    }
   ],
   "source": [
    "gyromagnetic_ratio = al.gamma\n",
    "gyromagnetic_ratio"
   ]
  },
  {
   "cell_type": "markdown",
   "metadata": {},
   "source": [
    "It is then obvious how to get the Larmor frequency of aluminium:"
   ]
  },
  {
   "cell_type": "code",
   "execution_count": 30,
   "metadata": {
    "run_control": {
     "frozen": false,
     "read_only": false
    }
   },
   "outputs": [
    {
     "name": "stdout",
     "output_type": "stream",
     "text": [
      "104.37 MHz at 9.40 T\n"
     ]
    }
   ],
   "source": [
    "B0 = quantity('9.4 tesla')\n",
    "print(\"{freq:~.2f} at {B0:~.2f}\".format(freq=al.gamma * B0, B0=B0))"
   ]
  }
 ],
 "metadata": {
  "celltoolbar": "Edit Metadata",
  "kernelspec": {
   "display_name": "Python 3",
   "language": "python",
   "name": "python3"
  },
  "language_info": {
   "codemirror_mode": {
    "name": "ipython",
    "version": 3.0
   },
   "file_extension": ".py",
   "mimetype": "text/x-python",
   "name": "python",
   "nbconvert_exporter": "python",
   "pygments_lexer": "ipython3",
   "version": "3.5.3"
  },
  "toc": {
   "toc_cell": true,
   "toc_number_sections": false,
   "toc_threshold": 6.0,
   "toc_window_display": false
  }
 },
 "nbformat": 4,
 "nbformat_minor": 0
}