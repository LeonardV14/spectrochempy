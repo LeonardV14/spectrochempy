{
 "cells": [
  {
   "cell_type": "markdown",
   "metadata": {},
   "source": [
    "## Getting Started\n",
    "\n",
    "( We assume the spectrochemistry package has been properly installed - if not please go to `install`)"
   ]
  },
  {
   "cell_type": "markdown",
   "metadata": {},
   "source": [
    "Before using the package, we need to load the **API ( *Application Programming Interface* )**\n",
    "\n",
    "The simplest way is to import all the objects and methods at once into your python namespace."
   ]
  },
  {
   "cell_type": "code",
   "execution_count": 61,
   "metadata": {},
   "outputs": [],
   "source": [
    "from spectrochempy.api import *"
   ]
  },
  {
   "cell_type": "markdown",
   "metadata": {},
   "source": [
    "but you can also import method only when it is needed.\n",
    "\n",
    "For instances, one object very usefull in the following will be a nd-dataset to contain some data. Instead of issuing the previous command, one can do:"
   ]
  },
  {
   "cell_type": "code",
   "execution_count": 62,
   "metadata": {
    "collapsed": true
   },
   "outputs": [],
   "source": [
    "from spectrochempy.api import NDDataset\n",
    "mydataset = NDDataset()"
   ]
  },
  {
   "cell_type": "markdown",
   "metadata": {},
   "source": [
    "In the second line we have defined a new empty instance of **NDDataset**, wich will be further use to load our data."
   ]
  },
  {
   "cell_type": "markdown",
   "metadata": {},
   "source": [
    "Another way to proceed is to not mix the API namespace with your normal python. \n",
    "\n",
    "In this case, you can simply do:\n"
   ]
  },
  {
   "cell_type": "code",
   "execution_count": 63,
   "metadata": {
    "collapsed": true
   },
   "outputs": [],
   "source": [
    "from spectrochempy import api\n",
    "mydataset = api.NDDataset()"
   ]
  },
  {
   "cell_type": "markdown",
   "metadata": {},
   "source": [
    "or"
   ]
  },
  {
   "cell_type": "code",
   "execution_count": 64,
   "metadata": {
    "collapsed": true
   },
   "outputs": [],
   "source": [
    "import spectrochempy.api as api\n",
    "mydataset = api.NDDataset()"
   ]
  },
  {
   "cell_type": "markdown",
   "metadata": {},
   "source": [
    "If something goes wrong with during a cell execution,  a ``traceback`` is displayed.\n",
    "\n",
    "For instance, the object or method ``toto``does not exist in the API, so an error (**ImportError**) is generated when trying to import this from the API. Here we catch the error in the context raises or more traditionnaly with a try except structure"
   ]
  },
  {
   "cell_type": "code",
   "execution_count": 65,
   "metadata": {
    "collapsed": true
   },
   "outputs": [],
   "source": [
    "with raises(ImportError):\n",
    "    from spectrochempy import toto"
   ]
  },
  {
   "cell_type": "code",
   "execution_count": 66,
   "metadata": {},
   "outputs": [
    {
     "name": "stderr",
     "output_type": "stream",
     "text": [
      " ERROR | OOPS, THAT'S AN IMPORT ERROR!\n",
      "\n"
     ]
    }
   ],
   "source": [
    "try:\n",
    "    from spectrochempy import toto\n",
    "except ImportError:\n",
    "    log.error(\"OOPS, THAT'S AN IMPORT ERROR!\\n\")"
   ]
  },
  {
   "cell_type": "markdown",
   "metadata": {},
   "source": [
    "The error will stop the execution if not catched. The message that would have been displayed without the catching, can be displayed after all with the magic function %tb."
   ]
  },
  {
   "cell_type": "markdown",
   "metadata": {},
   "source": [
    "## Preferences\n",
    "\n",
    "Many options of the API can be set up"
   ]
  },
  {
   "cell_type": "code",
   "execution_count": 67,
   "metadata": {
    "collapsed": true
   },
   "outputs": [],
   "source": [
    "options.log_level = INFO"
   ]
  },
  {
   "cell_type": "markdown",
   "metadata": {},
   "source": [
    "In the above cell, we have set the **log** level to display ``info`` messages, such as this one:"
   ]
  },
  {
   "cell_type": "code",
   "execution_count": 68,
   "metadata": {},
   "outputs": [
    {
     "name": "stderr",
     "output_type": "stream",
     "text": [
      " this is an info message!\n"
     ]
    }
   ],
   "source": [
    "log.info('this is an info message!')\n",
    "log.debug('this is a debug message!')"
   ]
  },
  {
   "cell_type": "markdown",
   "metadata": {},
   "source": [
    "Only the info message is displayed, as expected.\n",
    "\n",
    "If we change it to ``DEBUG``, we should get the two messages"
   ]
  },
  {
   "cell_type": "code",
   "execution_count": 69,
   "metadata": {
    "run_control": {
     "frozen": false,
     "read_only": false
    }
   },
   "outputs": [
    {
     "name": "stderr",
     "output_type": "stream",
     "text": [
      "[SpectroChemPy 2017-07-11 12:16:48] changed default loglevel to 10\n",
      "[SpectroChemPy 2017-07-11 12:16:48] this is an info message!\n",
      "[SpectroChemPy 2017-07-11 12:16:48] this is a debug message!\n"
     ]
    }
   ],
   "source": [
    "options.log_level = DEBUG\n",
    "\n",
    "log.info('this is an info message!')\n",
    "log.debug('this is a debug message!')"
   ]
  },
  {
   "cell_type": "markdown",
   "metadata": {},
   "source": [
    "Let's now come back to a standard level of message for the rest of the Tutorial."
   ]
  },
  {
   "cell_type": "code",
   "execution_count": 70,
   "metadata": {},
   "outputs": [
    {
     "name": "stderr",
     "output_type": "stream",
     "text": [
      " WARNING | this is a warning message!\n"
     ]
    }
   ],
   "source": [
    "options.log_level = WARN\n",
    "\n",
    "log.info('this is an info message!')\n",
    "log.debug('this is a debug message!')\n",
    "log.warning('this is a warning message!')"
   ]
  },
  {
   "cell_type": "markdown",
   "metadata": {},
   "source": [
    "## Access to scientific libraries"
   ]
  },
  {
   "cell_type": "markdown",
   "metadata": {},
   "source": [
    "Several libraries are imported with **SpectroChemPy** (so you don't need to re-import them):\n",
    "\n",
    "- **np** :  This is actually the **`numpy`** library, to perform numerical calculation on nD arrays.\n",
    "- **plt** : This is the **`matplotlib`** library, to allow plotting data \n",
    "\n",
    "Optionally, **scipy** and **sympy** can be available, if **SpectroChempy** can find these libraries installed on your system."
   ]
  },
  {
   "cell_type": "code",
   "execution_count": 71,
   "metadata": {},
   "outputs": [
    {
     "data": {
      "application/javascript": [
       "/* Put everything inside the global mpl namespace */\n",
       "window.mpl = {};\n",
       "\n",
       "\n",
       "mpl.get_websocket_type = function() {\n",
       "    if (typeof(WebSocket) !== 'undefined') {\n",
       "        return WebSocket;\n",
       "    } else if (typeof(MozWebSocket) !== 'undefined') {\n",
       "        return MozWebSocket;\n",
       "    } else {\n",
       "        alert('Your browser does not have WebSocket support.' +\n",
       "              'Please try Chrome, Safari or Firefox ≥ 6. ' +\n",
       "              'Firefox 4 and 5 are also supported but you ' +\n",
       "              'have to enable WebSockets in about:config.');\n",
       "    };\n",
       "}\n",
       "\n",
       "mpl.figure = function(figure_id, websocket, ondownload, parent_element) {\n",
       "    this.id = figure_id;\n",
       "\n",
       "    this.ws = websocket;\n",
       "\n",
       "    this.supports_binary = (this.ws.binaryType != undefined);\n",
       "\n",
       "    if (!this.supports_binary) {\n",
       "        var warnings = document.getElementById(\"mpl-warnings\");\n",
       "        if (warnings) {\n",
       "            warnings.style.display = 'block';\n",
       "            warnings.textContent = (\n",
       "                \"This browser does not support binary websocket messages. \" +\n",
       "                    \"Performance may be slow.\");\n",
       "        }\n",
       "    }\n",
       "\n",
       "    this.imageObj = new Image();\n",
       "\n",
       "    this.context = undefined;\n",
       "    this.message = undefined;\n",
       "    this.canvas = undefined;\n",
       "    this.rubberband_canvas = undefined;\n",
       "    this.rubberband_context = undefined;\n",
       "    this.format_dropdown = undefined;\n",
       "\n",
       "    this.image_mode = 'full';\n",
       "\n",
       "    this.root = $('<div/>');\n",
       "    this._root_extra_style(this.root)\n",
       "    this.root.attr('style', 'display: inline-block');\n",
       "\n",
       "    $(parent_element).append(this.root);\n",
       "\n",
       "    this._init_header(this);\n",
       "    this._init_canvas(this);\n",
       "    this._init_toolbar(this);\n",
       "\n",
       "    var fig = this;\n",
       "\n",
       "    this.waiting = false;\n",
       "\n",
       "    this.ws.onopen =  function () {\n",
       "            fig.send_message(\"supports_binary\", {value: fig.supports_binary});\n",
       "            fig.send_message(\"send_image_mode\", {});\n",
       "            if (mpl.ratio != 1) {\n",
       "                fig.send_message(\"set_dpi_ratio\", {'dpi_ratio': mpl.ratio});\n",
       "            }\n",
       "            fig.send_message(\"refresh\", {});\n",
       "        }\n",
       "\n",
       "    this.imageObj.onload = function() {\n",
       "            if (fig.image_mode == 'full') {\n",
       "                // Full images could contain transparency (where diff images\n",
       "                // almost always do), so we need to clear the canvas so that\n",
       "                // there is no ghosting.\n",
       "                fig.context.clearRect(0, 0, fig.canvas.width, fig.canvas.height);\n",
       "            }\n",
       "            fig.context.drawImage(fig.imageObj, 0, 0);\n",
       "        };\n",
       "\n",
       "    this.imageObj.onunload = function() {\n",
       "        this.ws.close();\n",
       "    }\n",
       "\n",
       "    this.ws.onmessage = this._make_on_message_function(this);\n",
       "\n",
       "    this.ondownload = ondownload;\n",
       "}\n",
       "\n",
       "mpl.figure.prototype._init_header = function() {\n",
       "    var titlebar = $(\n",
       "        '<div class=\"ui-dialog-titlebar ui-widget-header ui-corner-all ' +\n",
       "        'ui-helper-clearfix\"/>');\n",
       "    var titletext = $(\n",
       "        '<div class=\"ui-dialog-title\" style=\"width: 100%; ' +\n",
       "        'text-align: center; padding: 3px;\"/>');\n",
       "    titlebar.append(titletext)\n",
       "    this.root.append(titlebar);\n",
       "    this.header = titletext[0];\n",
       "}\n",
       "\n",
       "\n",
       "\n",
       "mpl.figure.prototype._canvas_extra_style = function(canvas_div) {\n",
       "\n",
       "}\n",
       "\n",
       "\n",
       "mpl.figure.prototype._root_extra_style = function(canvas_div) {\n",
       "\n",
       "}\n",
       "\n",
       "mpl.figure.prototype._init_canvas = function() {\n",
       "    var fig = this;\n",
       "\n",
       "    var canvas_div = $('<div/>');\n",
       "\n",
       "    canvas_div.attr('style', 'position: relative; clear: both; outline: 0');\n",
       "\n",
       "    function canvas_keyboard_event(event) {\n",
       "        return fig.key_event(event, event['data']);\n",
       "    }\n",
       "\n",
       "    canvas_div.keydown('key_press', canvas_keyboard_event);\n",
       "    canvas_div.keyup('key_release', canvas_keyboard_event);\n",
       "    this.canvas_div = canvas_div\n",
       "    this._canvas_extra_style(canvas_div)\n",
       "    this.root.append(canvas_div);\n",
       "\n",
       "    var canvas = $('<canvas/>');\n",
       "    canvas.addClass('mpl-canvas');\n",
       "    canvas.attr('style', \"left: 0; top: 0; z-index: 0; outline: 0\")\n",
       "\n",
       "    this.canvas = canvas[0];\n",
       "    this.context = canvas[0].getContext(\"2d\");\n",
       "\n",
       "    var backingStore = this.context.backingStorePixelRatio ||\n",
       "\tthis.context.webkitBackingStorePixelRatio ||\n",
       "\tthis.context.mozBackingStorePixelRatio ||\n",
       "\tthis.context.msBackingStorePixelRatio ||\n",
       "\tthis.context.oBackingStorePixelRatio ||\n",
       "\tthis.context.backingStorePixelRatio || 1;\n",
       "\n",
       "    mpl.ratio = (window.devicePixelRatio || 1) / backingStore;\n",
       "\n",
       "    var rubberband = $('<canvas/>');\n",
       "    rubberband.attr('style', \"position: absolute; left: 0; top: 0; z-index: 1;\")\n",
       "\n",
       "    var pass_mouse_events = true;\n",
       "\n",
       "    canvas_div.resizable({\n",
       "        start: function(event, ui) {\n",
       "            pass_mouse_events = false;\n",
       "        },\n",
       "        resize: function(event, ui) {\n",
       "            fig.request_resize(ui.size.width, ui.size.height);\n",
       "        },\n",
       "        stop: function(event, ui) {\n",
       "            pass_mouse_events = true;\n",
       "            fig.request_resize(ui.size.width, ui.size.height);\n",
       "        },\n",
       "    });\n",
       "\n",
       "    function mouse_event_fn(event) {\n",
       "        if (pass_mouse_events)\n",
       "            return fig.mouse_event(event, event['data']);\n",
       "    }\n",
       "\n",
       "    rubberband.mousedown('button_press', mouse_event_fn);\n",
       "    rubberband.mouseup('button_release', mouse_event_fn);\n",
       "    // Throttle sequential mouse events to 1 every 20ms.\n",
       "    rubberband.mousemove('motion_notify', mouse_event_fn);\n",
       "\n",
       "    rubberband.mouseenter('figure_enter', mouse_event_fn);\n",
       "    rubberband.mouseleave('figure_leave', mouse_event_fn);\n",
       "\n",
       "    canvas_div.on(\"wheel\", function (event) {\n",
       "        event = event.originalEvent;\n",
       "        event['data'] = 'scroll'\n",
       "        if (event.deltaY < 0) {\n",
       "            event.step = 1;\n",
       "        } else {\n",
       "            event.step = -1;\n",
       "        }\n",
       "        mouse_event_fn(event);\n",
       "    });\n",
       "\n",
       "    canvas_div.append(canvas);\n",
       "    canvas_div.append(rubberband);\n",
       "\n",
       "    this.rubberband = rubberband;\n",
       "    this.rubberband_canvas = rubberband[0];\n",
       "    this.rubberband_context = rubberband[0].getContext(\"2d\");\n",
       "    this.rubberband_context.strokeStyle = \"#000000\";\n",
       "\n",
       "    this._resize_canvas = function(width, height) {\n",
       "        // Keep the size of the canvas, canvas container, and rubber band\n",
       "        // canvas in synch.\n",
       "        canvas_div.css('width', width)\n",
       "        canvas_div.css('height', height)\n",
       "\n",
       "        canvas.attr('width', width * mpl.ratio);\n",
       "        canvas.attr('height', height * mpl.ratio);\n",
       "        canvas.attr('style', 'width: ' + width + 'px; height: ' + height + 'px;');\n",
       "\n",
       "        rubberband.attr('width', width);\n",
       "        rubberband.attr('height', height);\n",
       "    }\n",
       "\n",
       "    // Set the figure to an initial 600x600px, this will subsequently be updated\n",
       "    // upon first draw.\n",
       "    this._resize_canvas(600, 600);\n",
       "\n",
       "    // Disable right mouse context menu.\n",
       "    $(this.rubberband_canvas).bind(\"contextmenu\",function(e){\n",
       "        return false;\n",
       "    });\n",
       "\n",
       "    function set_focus () {\n",
       "        canvas.focus();\n",
       "        canvas_div.focus();\n",
       "    }\n",
       "\n",
       "    window.setTimeout(set_focus, 100);\n",
       "}\n",
       "\n",
       "mpl.figure.prototype._init_toolbar = function() {\n",
       "    var fig = this;\n",
       "\n",
       "    var nav_element = $('<div/>')\n",
       "    nav_element.attr('style', 'width: 100%');\n",
       "    this.root.append(nav_element);\n",
       "\n",
       "    // Define a callback function for later on.\n",
       "    function toolbar_event(event) {\n",
       "        return fig.toolbar_button_onclick(event['data']);\n",
       "    }\n",
       "    function toolbar_mouse_event(event) {\n",
       "        return fig.toolbar_button_onmouseover(event['data']);\n",
       "    }\n",
       "\n",
       "    for(var toolbar_ind in mpl.toolbar_items) {\n",
       "        var name = mpl.toolbar_items[toolbar_ind][0];\n",
       "        var tooltip = mpl.toolbar_items[toolbar_ind][1];\n",
       "        var image = mpl.toolbar_items[toolbar_ind][2];\n",
       "        var method_name = mpl.toolbar_items[toolbar_ind][3];\n",
       "\n",
       "        if (!name) {\n",
       "            // put a spacer in here.\n",
       "            continue;\n",
       "        }\n",
       "        var button = $('<button/>');\n",
       "        button.addClass('ui-button ui-widget ui-state-default ui-corner-all ' +\n",
       "                        'ui-button-icon-only');\n",
       "        button.attr('role', 'button');\n",
       "        button.attr('aria-disabled', 'false');\n",
       "        button.click(method_name, toolbar_event);\n",
       "        button.mouseover(tooltip, toolbar_mouse_event);\n",
       "\n",
       "        var icon_img = $('<span/>');\n",
       "        icon_img.addClass('ui-button-icon-primary ui-icon');\n",
       "        icon_img.addClass(image);\n",
       "        icon_img.addClass('ui-corner-all');\n",
       "\n",
       "        var tooltip_span = $('<span/>');\n",
       "        tooltip_span.addClass('ui-button-text');\n",
       "        tooltip_span.html(tooltip);\n",
       "\n",
       "        button.append(icon_img);\n",
       "        button.append(tooltip_span);\n",
       "\n",
       "        nav_element.append(button);\n",
       "    }\n",
       "\n",
       "    var fmt_picker_span = $('<span/>');\n",
       "\n",
       "    var fmt_picker = $('<select/>');\n",
       "    fmt_picker.addClass('mpl-toolbar-option ui-widget ui-widget-content');\n",
       "    fmt_picker_span.append(fmt_picker);\n",
       "    nav_element.append(fmt_picker_span);\n",
       "    this.format_dropdown = fmt_picker[0];\n",
       "\n",
       "    for (var ind in mpl.extensions) {\n",
       "        var fmt = mpl.extensions[ind];\n",
       "        var option = $(\n",
       "            '<option/>', {selected: fmt === mpl.default_extension}).html(fmt);\n",
       "        fmt_picker.append(option)\n",
       "    }\n",
       "\n",
       "    // Add hover states to the ui-buttons\n",
       "    $( \".ui-button\" ).hover(\n",
       "        function() { $(this).addClass(\"ui-state-hover\");},\n",
       "        function() { $(this).removeClass(\"ui-state-hover\");}\n",
       "    );\n",
       "\n",
       "    var status_bar = $('<span class=\"mpl-message\"/>');\n",
       "    nav_element.append(status_bar);\n",
       "    this.message = status_bar[0];\n",
       "}\n",
       "\n",
       "mpl.figure.prototype.request_resize = function(x_pixels, y_pixels) {\n",
       "    // Request matplotlib to resize the figure. Matplotlib will then trigger a resize in the client,\n",
       "    // which will in turn request a refresh of the image.\n",
       "    this.send_message('resize', {'width': x_pixels, 'height': y_pixels});\n",
       "}\n",
       "\n",
       "mpl.figure.prototype.send_message = function(type, properties) {\n",
       "    properties['type'] = type;\n",
       "    properties['figure_id'] = this.id;\n",
       "    this.ws.send(JSON.stringify(properties));\n",
       "}\n",
       "\n",
       "mpl.figure.prototype.send_draw_message = function() {\n",
       "    if (!this.waiting) {\n",
       "        this.waiting = true;\n",
       "        this.ws.send(JSON.stringify({type: \"draw\", figure_id: this.id}));\n",
       "    }\n",
       "}\n",
       "\n",
       "\n",
       "mpl.figure.prototype.handle_save = function(fig, msg) {\n",
       "    var format_dropdown = fig.format_dropdown;\n",
       "    var format = format_dropdown.options[format_dropdown.selectedIndex].value;\n",
       "    fig.ondownload(fig, format);\n",
       "}\n",
       "\n",
       "\n",
       "mpl.figure.prototype.handle_resize = function(fig, msg) {\n",
       "    var size = msg['size'];\n",
       "    if (size[0] != fig.canvas.width || size[1] != fig.canvas.height) {\n",
       "        fig._resize_canvas(size[0], size[1]);\n",
       "        fig.send_message(\"refresh\", {});\n",
       "    };\n",
       "}\n",
       "\n",
       "mpl.figure.prototype.handle_rubberband = function(fig, msg) {\n",
       "    var x0 = msg['x0'] / mpl.ratio;\n",
       "    var y0 = (fig.canvas.height - msg['y0']) / mpl.ratio;\n",
       "    var x1 = msg['x1'] / mpl.ratio;\n",
       "    var y1 = (fig.canvas.height - msg['y1']) / mpl.ratio;\n",
       "    x0 = Math.floor(x0) + 0.5;\n",
       "    y0 = Math.floor(y0) + 0.5;\n",
       "    x1 = Math.floor(x1) + 0.5;\n",
       "    y1 = Math.floor(y1) + 0.5;\n",
       "    var min_x = Math.min(x0, x1);\n",
       "    var min_y = Math.min(y0, y1);\n",
       "    var width = Math.abs(x1 - x0);\n",
       "    var height = Math.abs(y1 - y0);\n",
       "\n",
       "    fig.rubberband_context.clearRect(\n",
       "        0, 0, fig.canvas.width, fig.canvas.height);\n",
       "\n",
       "    fig.rubberband_context.strokeRect(min_x, min_y, width, height);\n",
       "}\n",
       "\n",
       "mpl.figure.prototype.handle_figure_label = function(fig, msg) {\n",
       "    // Updates the figure title.\n",
       "    fig.header.textContent = msg['label'];\n",
       "}\n",
       "\n",
       "mpl.figure.prototype.handle_cursor = function(fig, msg) {\n",
       "    var cursor = msg['cursor'];\n",
       "    switch(cursor)\n",
       "    {\n",
       "    case 0:\n",
       "        cursor = 'pointer';\n",
       "        break;\n",
       "    case 1:\n",
       "        cursor = 'default';\n",
       "        break;\n",
       "    case 2:\n",
       "        cursor = 'crosshair';\n",
       "        break;\n",
       "    case 3:\n",
       "        cursor = 'move';\n",
       "        break;\n",
       "    }\n",
       "    fig.rubberband_canvas.style.cursor = cursor;\n",
       "}\n",
       "\n",
       "mpl.figure.prototype.handle_message = function(fig, msg) {\n",
       "    fig.message.textContent = msg['message'];\n",
       "}\n",
       "\n",
       "mpl.figure.prototype.handle_draw = function(fig, msg) {\n",
       "    // Request the server to send over a new figure.\n",
       "    fig.send_draw_message();\n",
       "}\n",
       "\n",
       "mpl.figure.prototype.handle_image_mode = function(fig, msg) {\n",
       "    fig.image_mode = msg['mode'];\n",
       "}\n",
       "\n",
       "mpl.figure.prototype.updated_canvas_event = function() {\n",
       "    // Called whenever the canvas gets updated.\n",
       "    this.send_message(\"ack\", {});\n",
       "}\n",
       "\n",
       "// A function to construct a web socket function for onmessage handling.\n",
       "// Called in the figure constructor.\n",
       "mpl.figure.prototype._make_on_message_function = function(fig) {\n",
       "    return function socket_on_message(evt) {\n",
       "        if (evt.data instanceof Blob) {\n",
       "            /* FIXME: We get \"Resource interpreted as Image but\n",
       "             * transferred with MIME type text/plain:\" errors on\n",
       "             * Chrome.  But how to set the MIME type?  It doesn't seem\n",
       "             * to be part of the websocket stream */\n",
       "            evt.data.type = \"image/png\";\n",
       "\n",
       "            /* Free the memory for the previous frames */\n",
       "            if (fig.imageObj.src) {\n",
       "                (window.URL || window.webkitURL).revokeObjectURL(\n",
       "                    fig.imageObj.src);\n",
       "            }\n",
       "\n",
       "            fig.imageObj.src = (window.URL || window.webkitURL).createObjectURL(\n",
       "                evt.data);\n",
       "            fig.updated_canvas_event();\n",
       "            fig.waiting = false;\n",
       "            return;\n",
       "        }\n",
       "        else if (typeof evt.data === 'string' && evt.data.slice(0, 21) == \"data:image/png;base64\") {\n",
       "            fig.imageObj.src = evt.data;\n",
       "            fig.updated_canvas_event();\n",
       "            fig.waiting = false;\n",
       "            return;\n",
       "        }\n",
       "\n",
       "        var msg = JSON.parse(evt.data);\n",
       "        var msg_type = msg['type'];\n",
       "\n",
       "        // Call the  \"handle_{type}\" callback, which takes\n",
       "        // the figure and JSON message as its only arguments.\n",
       "        try {\n",
       "            var callback = fig[\"handle_\" + msg_type];\n",
       "        } catch (e) {\n",
       "            console.log(\"No handler for the '\" + msg_type + \"' message type: \", msg);\n",
       "            return;\n",
       "        }\n",
       "\n",
       "        if (callback) {\n",
       "            try {\n",
       "                // console.log(\"Handling '\" + msg_type + \"' message: \", msg);\n",
       "                callback(fig, msg);\n",
       "            } catch (e) {\n",
       "                console.log(\"Exception inside the 'handler_\" + msg_type + \"' callback:\", e, e.stack, msg);\n",
       "            }\n",
       "        }\n",
       "    };\n",
       "}\n",
       "\n",
       "// from http://stackoverflow.com/questions/1114465/getting-mouse-location-in-canvas\n",
       "mpl.findpos = function(e) {\n",
       "    //this section is from http://www.quirksmode.org/js/events_properties.html\n",
       "    var targ;\n",
       "    if (!e)\n",
       "        e = window.event;\n",
       "    if (e.target)\n",
       "        targ = e.target;\n",
       "    else if (e.srcElement)\n",
       "        targ = e.srcElement;\n",
       "    if (targ.nodeType == 3) // defeat Safari bug\n",
       "        targ = targ.parentNode;\n",
       "\n",
       "    // jQuery normalizes the pageX and pageY\n",
       "    // pageX,Y are the mouse positions relative to the document\n",
       "    // offset() returns the position of the element relative to the document\n",
       "    var x = e.pageX - $(targ).offset().left;\n",
       "    var y = e.pageY - $(targ).offset().top;\n",
       "\n",
       "    return {\"x\": x, \"y\": y};\n",
       "};\n",
       "\n",
       "/*\n",
       " * return a copy of an object with only non-object keys\n",
       " * we need this to avoid circular references\n",
       " * http://stackoverflow.com/a/24161582/3208463\n",
       " */\n",
       "function simpleKeys (original) {\n",
       "  return Object.keys(original).reduce(function (obj, key) {\n",
       "    if (typeof original[key] !== 'object')\n",
       "        obj[key] = original[key]\n",
       "    return obj;\n",
       "  }, {});\n",
       "}\n",
       "\n",
       "mpl.figure.prototype.mouse_event = function(event, name) {\n",
       "    var canvas_pos = mpl.findpos(event)\n",
       "\n",
       "    if (name === 'button_press')\n",
       "    {\n",
       "        this.canvas.focus();\n",
       "        this.canvas_div.focus();\n",
       "    }\n",
       "\n",
       "    var x = canvas_pos.x * mpl.ratio;\n",
       "    var y = canvas_pos.y * mpl.ratio;\n",
       "\n",
       "    this.send_message(name, {x: x, y: y, button: event.button,\n",
       "                             step: event.step,\n",
       "                             guiEvent: simpleKeys(event)});\n",
       "\n",
       "    /* This prevents the web browser from automatically changing to\n",
       "     * the text insertion cursor when the button is pressed.  We want\n",
       "     * to control all of the cursor setting manually through the\n",
       "     * 'cursor' event from matplotlib */\n",
       "    event.preventDefault();\n",
       "    return false;\n",
       "}\n",
       "\n",
       "mpl.figure.prototype._key_event_extra = function(event, name) {\n",
       "    // Handle any extra behaviour associated with a key event\n",
       "}\n",
       "\n",
       "mpl.figure.prototype.key_event = function(event, name) {\n",
       "\n",
       "    // Prevent repeat events\n",
       "    if (name == 'key_press')\n",
       "    {\n",
       "        if (event.which === this._key)\n",
       "            return;\n",
       "        else\n",
       "            this._key = event.which;\n",
       "    }\n",
       "    if (name == 'key_release')\n",
       "        this._key = null;\n",
       "\n",
       "    var value = '';\n",
       "    if (event.ctrlKey && event.which != 17)\n",
       "        value += \"ctrl+\";\n",
       "    if (event.altKey && event.which != 18)\n",
       "        value += \"alt+\";\n",
       "    if (event.shiftKey && event.which != 16)\n",
       "        value += \"shift+\";\n",
       "\n",
       "    value += 'k';\n",
       "    value += event.which.toString();\n",
       "\n",
       "    this._key_event_extra(event, name);\n",
       "\n",
       "    this.send_message(name, {key: value,\n",
       "                             guiEvent: simpleKeys(event)});\n",
       "    return false;\n",
       "}\n",
       "\n",
       "mpl.figure.prototype.toolbar_button_onclick = function(name) {\n",
       "    if (name == 'download') {\n",
       "        this.handle_save(this, null);\n",
       "    } else {\n",
       "        this.send_message(\"toolbar_button\", {name: name});\n",
       "    }\n",
       "};\n",
       "\n",
       "mpl.figure.prototype.toolbar_button_onmouseover = function(tooltip) {\n",
       "    this.message.textContent = tooltip;\n",
       "};\n",
       "mpl.toolbar_items = [[\"Home\", \"Reset original view\", \"fa fa-home icon-home\", \"home\"], [\"Back\", \"Back to  previous view\", \"fa fa-arrow-left icon-arrow-left\", \"back\"], [\"Forward\", \"Forward to next view\", \"fa fa-arrow-right icon-arrow-right\", \"forward\"], [\"\", \"\", \"\", \"\"], [\"Pan\", \"Pan axes with left mouse, zoom with right\", \"fa fa-arrows icon-move\", \"pan\"], [\"Zoom\", \"Zoom to rectangle\", \"fa fa-square-o icon-check-empty\", \"zoom\"], [\"\", \"\", \"\", \"\"], [\"Download\", \"Download plot\", \"fa fa-floppy-o icon-save\", \"download\"]];\n",
       "\n",
       "mpl.extensions = [\"eps\", \"jpeg\", \"pdf\", \"png\", \"ps\", \"raw\", \"svg\", \"tif\"];\n",
       "\n",
       "mpl.default_extension = \"png\";var comm_websocket_adapter = function(comm) {\n",
       "    // Create a \"websocket\"-like object which calls the given IPython comm\n",
       "    // object with the appropriate methods. Currently this is a non binary\n",
       "    // socket, so there is still some room for performance tuning.\n",
       "    var ws = {};\n",
       "\n",
       "    ws.close = function() {\n",
       "        comm.close()\n",
       "    };\n",
       "    ws.send = function(m) {\n",
       "        //console.log('sending', m);\n",
       "        comm.send(m);\n",
       "    };\n",
       "    // Register the callback with on_msg.\n",
       "    comm.on_msg(function(msg) {\n",
       "        //console.log('receiving', msg['content']['data'], msg);\n",
       "        // Pass the mpl event to the overriden (by mpl) onmessage function.\n",
       "        ws.onmessage(msg['content']['data'])\n",
       "    });\n",
       "    return ws;\n",
       "}\n",
       "\n",
       "mpl.mpl_figure_comm = function(comm, msg) {\n",
       "    // This is the function which gets called when the mpl process\n",
       "    // starts-up an IPython Comm through the \"matplotlib\" channel.\n",
       "\n",
       "    var id = msg.content.data.id;\n",
       "    // Get hold of the div created by the display call when the Comm\n",
       "    // socket was opened in Python.\n",
       "    var element = $(\"#\" + id);\n",
       "    var ws_proxy = comm_websocket_adapter(comm)\n",
       "\n",
       "    function ondownload(figure, format) {\n",
       "        window.open(figure.imageObj.src);\n",
       "    }\n",
       "\n",
       "    var fig = new mpl.figure(id, ws_proxy,\n",
       "                           ondownload,\n",
       "                           element.get(0));\n",
       "\n",
       "    // Call onopen now - mpl needs it, as it is assuming we've passed it a real\n",
       "    // web socket which is closed, not our websocket->open comm proxy.\n",
       "    ws_proxy.onopen();\n",
       "\n",
       "    fig.parent_element = element.get(0);\n",
       "    fig.cell_info = mpl.find_output_cell(\"<div id='\" + id + \"'></div>\");\n",
       "    if (!fig.cell_info) {\n",
       "        console.error(\"Failed to find cell for figure\", id, fig);\n",
       "        return;\n",
       "    }\n",
       "\n",
       "    var output_index = fig.cell_info[2]\n",
       "    var cell = fig.cell_info[0];\n",
       "\n",
       "};\n",
       "\n",
       "mpl.figure.prototype.handle_close = function(fig, msg) {\n",
       "    var width = fig.canvas.width/mpl.ratio\n",
       "    fig.root.unbind('remove')\n",
       "\n",
       "    // Update the output cell to use the data from the current canvas.\n",
       "    fig.push_to_output();\n",
       "    var dataURL = fig.canvas.toDataURL();\n",
       "    // Re-enable the keyboard manager in IPython - without this line, in FF,\n",
       "    // the notebook keyboard shortcuts fail.\n",
       "    IPython.keyboard_manager.enable()\n",
       "    $(fig.parent_element).html('<img src=\"' + dataURL + '\" width=\"' + width + '\">');\n",
       "    fig.close_ws(fig, msg);\n",
       "}\n",
       "\n",
       "mpl.figure.prototype.close_ws = function(fig, msg){\n",
       "    fig.send_message('closing', msg);\n",
       "    // fig.ws.close()\n",
       "}\n",
       "\n",
       "mpl.figure.prototype.push_to_output = function(remove_interactive) {\n",
       "    // Turn the data on the canvas into data in the output cell.\n",
       "    var width = this.canvas.width/mpl.ratio\n",
       "    var dataURL = this.canvas.toDataURL();\n",
       "    this.cell_info[1]['text/html'] = '<img src=\"' + dataURL + '\" width=\"' + width + '\">';\n",
       "}\n",
       "\n",
       "mpl.figure.prototype.updated_canvas_event = function() {\n",
       "    // Tell IPython that the notebook contents must change.\n",
       "    IPython.notebook.set_dirty(true);\n",
       "    this.send_message(\"ack\", {});\n",
       "    var fig = this;\n",
       "    // Wait a second, then push the new image to the DOM so\n",
       "    // that it is saved nicely (might be nice to debounce this).\n",
       "    setTimeout(function () { fig.push_to_output() }, 1000);\n",
       "}\n",
       "\n",
       "mpl.figure.prototype._init_toolbar = function() {\n",
       "    var fig = this;\n",
       "\n",
       "    var nav_element = $('<div/>')\n",
       "    nav_element.attr('style', 'width: 100%');\n",
       "    this.root.append(nav_element);\n",
       "\n",
       "    // Define a callback function for later on.\n",
       "    function toolbar_event(event) {\n",
       "        return fig.toolbar_button_onclick(event['data']);\n",
       "    }\n",
       "    function toolbar_mouse_event(event) {\n",
       "        return fig.toolbar_button_onmouseover(event['data']);\n",
       "    }\n",
       "\n",
       "    for(var toolbar_ind in mpl.toolbar_items){\n",
       "        var name = mpl.toolbar_items[toolbar_ind][0];\n",
       "        var tooltip = mpl.toolbar_items[toolbar_ind][1];\n",
       "        var image = mpl.toolbar_items[toolbar_ind][2];\n",
       "        var method_name = mpl.toolbar_items[toolbar_ind][3];\n",
       "\n",
       "        if (!name) { continue; };\n",
       "\n",
       "        var button = $('<button class=\"btn btn-default\" href=\"#\" title=\"' + name + '\"><i class=\"fa ' + image + ' fa-lg\"></i></button>');\n",
       "        button.click(method_name, toolbar_event);\n",
       "        button.mouseover(tooltip, toolbar_mouse_event);\n",
       "        nav_element.append(button);\n",
       "    }\n",
       "\n",
       "    // Add the status bar.\n",
       "    var status_bar = $('<span class=\"mpl-message\" style=\"text-align:right; float: right;\"/>');\n",
       "    nav_element.append(status_bar);\n",
       "    this.message = status_bar[0];\n",
       "\n",
       "    // Add the close button to the window.\n",
       "    var buttongrp = $('<div class=\"btn-group inline pull-right\"></div>');\n",
       "    var button = $('<button class=\"btn btn-mini btn-primary\" href=\"#\" title=\"Stop Interaction\"><i class=\"fa fa-power-off icon-remove icon-large\"></i></button>');\n",
       "    button.click(function (evt) { fig.handle_close(fig, {}); } );\n",
       "    button.mouseover('Stop Interaction', toolbar_mouse_event);\n",
       "    buttongrp.append(button);\n",
       "    var titlebar = this.root.find($('.ui-dialog-titlebar'));\n",
       "    titlebar.prepend(buttongrp);\n",
       "}\n",
       "\n",
       "mpl.figure.prototype._root_extra_style = function(el){\n",
       "    var fig = this\n",
       "    el.on(\"remove\", function(){\n",
       "\tfig.close_ws(fig, {});\n",
       "    });\n",
       "}\n",
       "\n",
       "mpl.figure.prototype._canvas_extra_style = function(el){\n",
       "    // this is important to make the div 'focusable\n",
       "    el.attr('tabindex', 0)\n",
       "    // reach out to IPython and tell the keyboard manager to turn it's self\n",
       "    // off when our div gets focus\n",
       "\n",
       "    // location in version 3\n",
       "    if (IPython.notebook.keyboard_manager) {\n",
       "        IPython.notebook.keyboard_manager.register_events(el);\n",
       "    }\n",
       "    else {\n",
       "        // location in version 2\n",
       "        IPython.keyboard_manager.register_events(el);\n",
       "    }\n",
       "\n",
       "}\n",
       "\n",
       "mpl.figure.prototype._key_event_extra = function(event, name) {\n",
       "    var manager = IPython.notebook.keyboard_manager;\n",
       "    if (!manager)\n",
       "        manager = IPython.keyboard_manager;\n",
       "\n",
       "    // Check for shift+enter\n",
       "    if (event.shiftKey && event.which == 13) {\n",
       "        this.canvas_div.blur();\n",
       "        // select the cell after this one\n",
       "        var index = IPython.notebook.find_cell_index(this.cell_info[0]);\n",
       "        IPython.notebook.select(index + 1);\n",
       "    }\n",
       "}\n",
       "\n",
       "mpl.figure.prototype.handle_save = function(fig, msg) {\n",
       "    fig.ondownload(fig, null);\n",
       "}\n",
       "\n",
       "\n",
       "mpl.find_output_cell = function(html_output) {\n",
       "    // Return the cell and output element which can be found *uniquely* in the notebook.\n",
       "    // Note - this is a bit hacky, but it is done because the \"notebook_saving.Notebook\"\n",
       "    // IPython event is triggered only after the cells have been serialised, which for\n",
       "    // our purposes (turning an active figure into a static one), is too late.\n",
       "    var cells = IPython.notebook.get_cells();\n",
       "    var ncells = cells.length;\n",
       "    for (var i=0; i<ncells; i++) {\n",
       "        var cell = cells[i];\n",
       "        if (cell.cell_type === 'code'){\n",
       "            for (var j=0; j<cell.output_area.outputs.length; j++) {\n",
       "                var data = cell.output_area.outputs[j];\n",
       "                if (data.data) {\n",
       "                    // IPython >= 3 moved mimebundle to data attribute of output\n",
       "                    data = data.data;\n",
       "                }\n",
       "                if (data['text/html'] == html_output) {\n",
       "                    return [cell, data, j];\n",
       "                }\n",
       "            }\n",
       "        }\n",
       "    }\n",
       "}\n",
       "\n",
       "// Register the function which deals with the matplotlib target/channel.\n",
       "// The kernel may be null if the page has been refreshed.\n",
       "if (IPython.notebook.kernel != null) {\n",
       "    IPython.notebook.kernel.comm_manager.register_target('matplotlib', mpl.mpl_figure_comm);\n",
       "}\n"
      ],
      "text/plain": [
       "<IPython.core.display.Javascript object>"
      ]
     },
     "metadata": {},
     "output_type": "display_data"
    },
    {
     "data": {
      "text/html": [
       "<img src=\"data:image/png;base64,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\" width=\"640\">"
      ],
      "text/plain": [
       "<IPython.core.display.HTML object>"
      ]
     },
     "metadata": {},
     "output_type": "display_data"
    },
    {
     "data": {
      "text/plain": [
       "[<matplotlib.lines.Line2D at 0x112a43d30>]"
      ]
     },
     "execution_count": 71,
     "metadata": {},
     "output_type": "execute_result"
    }
   ],
   "source": [
    "x = np.linspace(0, 2*np.pi, 100)\n",
    "y = np.sin(x)\n",
    "\n",
    "plt.plot(x,y)"
   ]
  },
  {
   "cell_type": "markdown",
   "metadata": {},
   "source": [
    "## Units, uncertainties and measurements"
   ]
  },
  {
   "cell_type": "markdown",
   "metadata": {},
   "source": [
    "The objets **ur**, **Quantity** and **Measurement**, based on the **`pint`** and **`uncertainties`** librairies allows the manipulation of data with units and uncertainties. (see tutorial-1-units-uncertainties)"
   ]
  },
  {
   "cell_type": "code",
   "execution_count": 72,
   "metadata": {},
   "outputs": [
    {
     "data": {
      "text/html": [
       "1.94 cm.s<sup>-1</sup>"
      ],
      "text/latex": [
       "$1.94 cm / s$"
      ],
      "text/plain": [
       "<Quantity(1.94, 'centimeter / second')>"
      ]
     },
     "execution_count": 72,
     "metadata": {},
     "output_type": "execute_result"
    }
   ],
   "source": [
    "19.4 * ur.cm / (10 * ur.s)"
   ]
  },
  {
   "cell_type": "code",
   "execution_count": 73,
   "metadata": {},
   "outputs": [
    {
     "data": {
      "text/html": [
       "10.0 km"
      ],
      "text/latex": [
       "$10.0 km$"
      ],
      "text/plain": [
       "<Quantity(10.0, 'kilometer')>"
      ]
     },
     "execution_count": 73,
     "metadata": {},
     "output_type": "execute_result"
    }
   ],
   "source": [
    "x= Quantity(10., 'km')\n",
    "x"
   ]
  },
  {
   "cell_type": "code",
   "execution_count": 74,
   "metadata": {},
   "outputs": [
    {
     "name": "stdout",
     "output_type": "stream",
     "text": [
      "(10.000 +/- 0.010) kilometer\n"
     ]
    }
   ],
   "source": [
    "y = Measurement(10, .01, 'km')\n",
    "print(y)  #TODO: _repr_html not working"
   ]
  },
  {
   "cell_type": "markdown",
   "metadata": {},
   "source": [
    "# Using the API: a first example with the Isotope database"
   ]
  },
  {
   "cell_type": "markdown",
   "metadata": {},
   "source": [
    "If you are interested by **NMR**, it might be useful to have information about NMR isotopes, *e.g.*, to include this in some further calculations.\n",
    "\n",
    "Let's get information about the $^{27}$Al nucleus. \n",
    "\n",
    "We use the **Isotopes** class:"
   ]
  },
  {
   "cell_type": "code",
   "execution_count": 75,
   "metadata": {
    "run_control": {
     "frozen": false,
     "read_only": false
    }
   },
   "outputs": [
    {
     "data": {
      "text/html": [
       "<sup>27</sup>Al [5/2]"
      ],
      "text/plain": [
       "Isotopes < 27Al >"
      ]
     },
     "execution_count": 75,
     "metadata": {},
     "output_type": "execute_result"
    }
   ],
   "source": [
    "al = Isotopes('27Al')\n",
    "al"
   ]
  },
  {
   "cell_type": "code",
   "execution_count": 76,
   "metadata": {
    "run_control": {
     "frozen": false,
     "read_only": false
    }
   },
   "outputs": [
    {
     "name": "stdout",
     "output_type": "stream",
     "text": [
      "Al 5/2\n"
     ]
    }
   ],
   "source": [
    "print(al.symbol, al.spin)"
   ]
  },
  {
   "cell_type": "code",
   "execution_count": 77,
   "metadata": {
    "run_control": {
     "frozen": false,
     "read_only": false
    }
   },
   "outputs": [
    {
     "data": {
      "text/html": [
       "1.466e-29 m<sup>2</sup>"
      ],
      "text/latex": [
       "$1.466e-29 m ** 2$"
      ],
      "text/plain": [
       "<Quantity(1.466e-29, 'meter ** 2')>"
      ]
     },
     "execution_count": 77,
     "metadata": {},
     "output_type": "execute_result"
    }
   ],
   "source": [
    "quadrupolar_moment = al.Q.to('m^2') \n",
    "quadrupolar_moment"
   ]
  },
  {
   "cell_type": "code",
   "execution_count": 78,
   "metadata": {
    "run_control": {
     "frozen": false,
     "read_only": false
    }
   },
   "outputs": [
    {
     "data": {
      "text/html": [
       "11.103076875144868 MHz.T<sup>-1</sup>"
      ],
      "text/latex": [
       "$11.103076875144868 MHz / T$"
      ],
      "text/plain": [
       "<Quantity(11.103076875144868, 'megahertz / tesla')>"
      ]
     },
     "execution_count": 78,
     "metadata": {},
     "output_type": "execute_result"
    }
   ],
   "source": [
    "gyromagnetic_ratio = al.gamma\n",
    "gyromagnetic_ratio"
   ]
  },
  {
   "cell_type": "markdown",
   "metadata": {},
   "source": [
    "It is then obvious how to get the Larmor frequency of aluminium:"
   ]
  },
  {
   "cell_type": "code",
   "execution_count": 79,
   "metadata": {
    "run_control": {
     "frozen": false,
     "read_only": false
    }
   },
   "outputs": [
    {
     "name": "stdout",
     "output_type": "stream",
     "text": [
      "104.37 MHz at 9.40 T\n"
     ]
    }
   ],
   "source": [
    "B0 = Quantity('9.4 tesla')\n",
    "print(\"{freq:~.2f} at {B0:~.2f}\".format(freq=al.gamma * B0, B0=B0))"
   ]
  }
 ],
 "metadata": {
  "kernelspec": {
   "display_name": "Python [conda env:python352]",
   "language": "python",
   "name": "conda-env-python352-py"
  },
  "language_info": {
   "codemirror_mode": {
    "name": "ipython",
    "version": 3
   },
   "file_extension": ".py",
   "mimetype": "text/x-python",
   "name": "python",
   "nbconvert_exporter": "python",
   "pygments_lexer": "ipython3",
   "version": "3.6.1"
  },
  "toc": {
   "toc_cell": true,
   "toc_number_sections": false,
   "toc_threshold": 6,
   "toc_window_display": false
  }
 },
 "nbformat": 4,
 "nbformat_minor": 1
}
