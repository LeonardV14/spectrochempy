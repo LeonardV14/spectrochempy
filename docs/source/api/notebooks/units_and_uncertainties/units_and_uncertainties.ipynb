{
 "cells": [
  {
   "cell_type": "markdown",
   "metadata": {},
   "source": [
    "## Units and Uncertainties in SpectroChemPy\n"
   ]
  },
  {
   "cell_type": "code",
   "execution_count": 1,
   "metadata": {
    "run_control": {
     "frozen": false,
     "read_only": false
    },
    "scrolled": true
   },
   "outputs": [
    {
     "name": "stdout",
     "output_type": "stream",
     "text": [
      "\n",
      "        SpectroChemPy's API\n",
      "        Version   : 0.1a1.3\n",
      "        Copyright : 2014-2017, LCS - Laboratory for Catalysis and Spectrochempy\n",
      "            \n"
     ]
    }
   ],
   "source": [
    "from spectrochempy.api import *"
   ]
  },
  {
   "cell_type": "markdown",
   "metadata": {
    "collapsed": true
   },
   "source": [
    "### Units\n",
    "Units in SpectroChemPy are based on the `Pint` (library. Quantities with units can be created using the various following syntaxes."
   ]
  },
  {
   "cell_type": "code",
   "execution_count": 2,
   "metadata": {
    "run_control": {
     "frozen": false,
     "read_only": false
    }
   },
   "outputs": [
    {
     "data": {
      "text/html": [
       "19.4 cm"
      ],
      "text/latex": [
       "$19.4 cm$"
      ],
      "text/plain": [
       "<Quantity(19.4, 'centimeter')>"
      ]
     },
     "execution_count": 2,
     "metadata": {},
     "output_type": "execute_result"
    }
   ],
   "source": [
    "19.4 * ur.cm"
   ]
  },
  {
   "cell_type": "code",
   "execution_count": 3,
   "metadata": {
    "run_control": {
     "frozen": false,
     "read_only": false
    }
   },
   "outputs": [
    {
     "data": {
      "text/html": [
       "19.4 cm"
      ],
      "text/latex": [
       "$19.4 cm$"
      ],
      "text/plain": [
       "<Quantity(19.4, 'centimeter')>"
      ]
     },
     "execution_count": 3,
     "metadata": {},
     "output_type": "execute_result"
    }
   ],
   "source": [
    "19.4 * ur('cm')"
   ]
  },
  {
   "cell_type": "code",
   "execution_count": 4,
   "metadata": {
    "run_control": {
     "frozen": false,
     "read_only": false
    }
   },
   "outputs": [
    {
     "data": {
      "text/html": [
       "19.4 cm"
      ],
      "text/latex": [
       "$19.4 cm$"
      ],
      "text/plain": [
       "<Quantity(19.4, 'centimeter')>"
      ]
     },
     "execution_count": 4,
     "metadata": {},
     "output_type": "execute_result"
    }
   ],
   "source": [
    "Quantity(19.4, ur.cm)"
   ]
  },
  {
   "cell_type": "code",
   "execution_count": 5,
   "metadata": {
    "run_control": {
     "frozen": false,
     "read_only": false
    }
   },
   "outputs": [
    {
     "data": {
      "text/html": [
       "19.4 cm"
      ],
      "text/latex": [
       "$19.4 cm$"
      ],
      "text/plain": [
       "<Quantity(19.4, 'centimeter')>"
      ]
     },
     "execution_count": 5,
     "metadata": {},
     "output_type": "execute_result"
    }
   ],
   "source": [
    "Quantity(19.4, 'cm')"
   ]
  },
  {
   "cell_type": "code",
   "execution_count": 6,
   "metadata": {
    "run_control": {
     "frozen": false,
     "read_only": false
    }
   },
   "outputs": [
    {
     "data": {
      "text/html": [
       "19.4 cm"
      ],
      "text/latex": [
       "$19.4 cm$"
      ],
      "text/plain": [
       "<Quantity(19.4, 'centimeter')>"
      ]
     },
     "execution_count": 6,
     "metadata": {},
     "output_type": "execute_result"
    }
   ],
   "source": [
    "Quantity('19.4 cm')"
   ]
  },
  {
   "cell_type": "markdown",
   "metadata": {},
   "source": [
    "Conversion between units are easy"
   ]
  },
  {
   "cell_type": "code",
   "execution_count": 7,
   "metadata": {},
   "outputs": [
    {
     "data": {
      "text/html": [
       "19.4 cm"
      ],
      "text/latex": [
       "$19.4 cm$"
      ],
      "text/plain": [
       "<Quantity(19.4, 'centimeter')>"
      ]
     },
     "execution_count": 7,
     "metadata": {},
     "output_type": "execute_result"
    }
   ],
   "source": [
    "a = Quantity('19.4 cm')\n",
    "a"
   ]
  },
  {
   "cell_type": "code",
   "execution_count": 8,
   "metadata": {
    "run_control": {
     "frozen": false,
     "read_only": false
    }
   },
   "outputs": [
    {
     "name": "stdout",
     "output_type": "stream",
     "text": [
      "7.637795275590551 inch\n",
      "0.000194 kilometer\n"
     ]
    }
   ],
   "source": [
    "a.ito(ur.inch)    # change a inplace\n",
    "b = a.to(ur.km)   # change a to a new variable \n",
    "print(a)\n",
    "print(b)"
   ]
  },
  {
   "cell_type": "markdown",
   "metadata": {},
   "source": [
    "Format strings can be used to format numeric output"
   ]
  },
  {
   "cell_type": "code",
   "execution_count": 9,
   "metadata": {
    "run_control": {
     "frozen": false,
     "read_only": false
    }
   },
   "outputs": [
    {
     "name": "stdout",
     "output_type": "stream",
     "text": [
      "0.131 in^-1\n"
     ]
    }
   ],
   "source": [
    "b = 1/(a.to('in'))\n",
    "print('{:.3fK}'.format(b))  # in latex format"
   ]
  },
  {
   "cell_type": "markdown",
   "metadata": {},
   "source": [
    "Dimensionless units are also handled:"
   ]
  },
  {
   "cell_type": "code",
   "execution_count": 10,
   "metadata": {
    "run_control": {
     "frozen": false,
     "read_only": false
    }
   },
   "outputs": [
    {
     "name": "stdout",
     "output_type": "stream",
     "text": [
      "7.638 scaled-dimensionless (2.5e+08)\n",
      "7.638 inch / angstrom\n"
     ]
    }
   ],
   "source": [
    "b = a / (1.0 * ur.angstrom)\n",
    "print('{:.3fK}'.format(b))\n",
    "print('{:.3f}'.format(b))"
   ]
  },
  {
   "cell_type": "markdown",
   "metadata": {},
   "source": [
    "Scaled dimensionless quantity can be made unscaled:"
   ]
  },
  {
   "cell_type": "code",
   "execution_count": 11,
   "metadata": {
    "run_control": {
     "frozen": false,
     "read_only": false
    }
   },
   "outputs": [
    {
     "data": {
      "text/html": [
       "1940000000.0 dimensionless"
      ],
      "text/latex": [
       "$1940000000.0 dimensionless$"
      ],
      "text/plain": [
       "<Quantity(1940000000.0, 'dimensionless')>"
      ]
     },
     "execution_count": 11,
     "metadata": {},
     "output_type": "execute_result"
    }
   ],
   "source": [
    "b.to_base_units()"
   ]
  },
  {
   "cell_type": "markdown",
   "metadata": {},
   "source": [
    "If an units is not recognized, an error is issued"
   ]
  },
  {
   "cell_type": "code",
   "execution_count": 12,
   "metadata": {
    "run_control": {
     "frozen": false,
     "read_only": false
    }
   },
   "outputs": [
    {
     "name": "stderr",
     "output_type": "stream",
     "text": [
      " ERROR | UndefinedUnitError: 'cmt' is not defined in the unit registry\n"
     ]
    }
   ],
   "source": [
    "wrong = 1.0 * ur('cmt')"
   ]
  },
  {
   "cell_type": "markdown",
   "metadata": {},
   "source": [
    "or if units cannot be converted:"
   ]
  },
  {
   "cell_type": "code",
   "execution_count": 13,
   "metadata": {
    "run_control": {
     "frozen": false,
     "read_only": false
    }
   },
   "outputs": [
    {
     "name": "stderr",
     "output_type": "stream",
     "text": [
      " ERROR | DimensionalityError: Cannot convert from 'liter' ([length] ** 3) to 'meter' ([length])\n"
     ]
    }
   ],
   "source": [
    "a = Quantity('1 liter')\n",
    "a.to('meters') # wrong conversion (units not compatible)"
   ]
  },
  {
   "cell_type": "code",
   "execution_count": 14,
   "metadata": {
    "run_control": {
     "frozen": false,
     "read_only": false
    }
   },
   "outputs": [
    {
     "name": "stderr",
     "output_type": "stream",
     "text": [
      " ERROR | DimensionalityError: Cannot convert from 'meter' to 'radian'\n"
     ]
    }
   ],
   "source": [
    "x = 10 * ur.meters\n",
    "np.cos(x) # wrong argument units"
   ]
  },
  {
   "cell_type": "markdown",
   "metadata": {},
   "source": [
    "Spectroscopic units are silently converted between frequency and wavelength:"
   ]
  },
  {
   "cell_type": "code",
   "execution_count": 15,
   "metadata": {
    "run_control": {
     "frozen": false,
     "read_only": false
    }
   },
   "outputs": [
    {
     "data": {
      "text/html": [
       "299.792458 um"
      ],
      "text/latex": [
       "$299.792458 um$"
      ],
      "text/plain": [
       "<Quantity(299.792458, 'micrometer')>"
      ]
     },
     "execution_count": 15,
     "metadata": {},
     "output_type": "execute_result"
    }
   ],
   "source": [
    "a = Quantity('1 THz')\n",
    "a.ito('micrometer') \n",
    "a"
   ]
  },
  {
   "cell_type": "markdown",
   "metadata": {},
   "source": [
    "The corresponding wavenumber is easily obtained"
   ]
  },
  {
   "cell_type": "code",
   "execution_count": 16,
   "metadata": {},
   "outputs": [
    {
     "name": "stdout",
     "output_type": "stream",
     "text": [
      "33.356 cm^-1\n"
     ]
    }
   ],
   "source": [
    "b = 1/a\n",
    "b.ito('cm^-1')\n",
    "print('{:.3fK}'.format(b))"
   ]
  },
  {
   "cell_type": "markdown",
   "metadata": {},
   "source": [
    "Finally, the units can be affected to array structure"
   ]
  },
  {
   "cell_type": "code",
   "execution_count": 17,
   "metadata": {
    "run_control": {
     "frozen": false,
     "read_only": false
    }
   },
   "outputs": [
    {
     "data": {
      "text/html": [
       "[       3        4        5] m"
      ],
      "text/latex": [
       "$[       3        4        5] m$"
      ],
      "text/plain": [
       "<Quantity([       3        4        5], 'meter')>"
      ]
     },
     "execution_count": 17,
     "metadata": {},
     "output_type": "execute_result"
    }
   ],
   "source": [
    "c = [3., 4., 5.] * ur.meter\n",
    "c"
   ]
  },
  {
   "cell_type": "code",
   "execution_count": 18,
   "metadata": {},
   "outputs": [
    {
     "data": {
      "text/html": [
       "[   0.003    0.004    0.005] km"
      ],
      "text/latex": [
       "$[   0.003    0.004    0.005] km$"
      ],
      "text/plain": [
       "<Quantity([   0.003    0.004    0.005], 'kilometer')>"
      ]
     },
     "execution_count": 18,
     "metadata": {},
     "output_type": "execute_result"
    }
   ],
   "source": [
    "c.ito('km')\n",
    "c"
   ]
  }
 ],
 "metadata": {
  "kernelspec": {
   "display_name": "Python [conda env:scp36]",
   "language": "python",
   "name": "conda-env-scp36-py"
  },
  "language_info": {
   "codemirror_mode": {
    "name": "ipython",
    "version": 3
   },
   "file_extension": ".py",
   "mimetype": "text/x-python",
   "name": "python",
   "nbconvert_exporter": "python",
   "pygments_lexer": "ipython3",
   "version": "3.6.1"
  },
  "toc": {
   "toc_cell": true,
   "toc_number_sections": false,
   "toc_threshold": 6,
   "toc_window_display": false
  }
 },
 "nbformat": 4,
 "nbformat_minor": 1
}
