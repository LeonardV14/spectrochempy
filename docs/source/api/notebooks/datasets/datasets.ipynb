{
 "cells": [
  {
   "cell_type": "markdown",
   "metadata": {},
   "source": [
    "## Multidimensional datasets"
   ]
  },
  {
   "cell_type": "code",
   "execution_count": 1,
   "metadata": {
    "run_control": {
     "frozen": false,
     "read_only": false
    },
    "scrolled": true
   },
   "outputs": [
    {
     "name": "stdout",
     "output_type": "stream",
     "text": [
      "\n",
      "    SpectroChemPy's API\n",
      "    Version   : 0.1.a.19\n",
      "    Copyright : 2014-2017, LCS - Laboratory for Catalysis and Spectrochempy\n",
      "        \n"
     ]
    }
   ],
   "source": [
    "from spectrochempy.api import *"
   ]
  },
  {
   "cell_type": "markdown",
   "metadata": {},
   "source": [
    "### Create a ND-Dataset from scratch\n",
    "\n",
    "Multidimensional array are defined in Spectrochempy using the **NDDataset** object.\n",
    "\n",
    "Below is an example, with a 3D-array with axes. \n",
    "\n",
    "Let's first create the 3 one-dimentional axis, for which we can define labels, units, and masks! "
   ]
  },
  {
   "cell_type": "code",
   "execution_count": 2,
   "metadata": {
    "collapsed": true
   },
   "outputs": [],
   "source": [
    "axe0 = Axis(coords = np.linspace(200., 300., 3),\n",
    "            labels = ['cold', 'normal', 'hot'],\n",
    "            mask = None,\n",
    "            units = \"K\",\n",
    "            title = 'temperature')\n",
    "\n",
    "axe1 = Axis(coords = np.linspace(0., 60., 100),\n",
    "            labels = None,\n",
    "            mask = None,\n",
    "            units = \"minutes\",\n",
    "            title = 'time-on-stream')\n",
    "\n",
    "axe2 = Axis(coords = np.linspace(4000., 1000., 10),\n",
    "            labels = None,\n",
    "            mask = None,\n",
    "            units = \"cm^-1\",\n",
    "            title = 'wavelength')"
   ]
  },
  {
   "cell_type": "markdown",
   "metadata": {},
   "source": [
    "Here is the displayed info for axe1 for instance:"
   ]
  },
  {
   "cell_type": "code",
   "execution_count": 3,
   "metadata": {},
   "outputs": [
    {
     "data": {
      "text/html": [
       "<table><tr><td>title</td><td>Time-on-stream</td></tr>\n",
       "<tr><td>coordinates</td><td>[       0    0.606 ...,     59.4       60]</td></tr>\n",
       "<tr><td>units</td><td>min</td></tr>\n",
       "</table>\n"
      ],
      "text/plain": [
       "Axis([       0,    0.606, ...,     59.4,       60]) min"
      ]
     },
     "execution_count": 3,
     "metadata": {},
     "output_type": "execute_result"
    }
   ],
   "source": [
    "axe1"
   ]
  },
  {
   "cell_type": "markdown",
   "metadata": {},
   "source": [
    "Now we create some 3D data:"
   ]
  },
  {
   "cell_type": "code",
   "execution_count": 4,
   "metadata": {
    "collapsed": true
   },
   "outputs": [],
   "source": [
    "nd_data=np.array([np.array([np.sin(axe2.data*2.*np.pi/4000.)*np.exp(-y/60.) for y in axe1.data])*float(T) \n",
    "         for T in axe0.data])**2"
   ]
  },
  {
   "cell_type": "markdown",
   "metadata": {},
   "source": [
    "The dataset is now create with these data and defined axis:"
   ]
  },
  {
   "cell_type": "code",
   "execution_count": 5,
   "metadata": {
    "collapsed": true,
    "run_control": {
     "frozen": false,
     "read_only": false
    }
   },
   "outputs": [],
   "source": [
    "mydataset = NDDataset(nd_data,\n",
    "               axes = [axe0, axe1, axe2],\n",
    "               title='Absorbance',\n",
    "               units='absorbance'\n",
    "              )\n",
    "\n",
    "mydataset.description = \"\"\"Dataset example created for this tutorial. \n",
    "It's a 3-D dataset (with dimensionless intensity)\"\"\"\n",
    "\n",
    "mydataset.author = 'Tintin and Milou'"
   ]
  },
  {
   "cell_type": "markdown",
   "metadata": {},
   "source": [
    "We can get some information about this object:"
   ]
  },
  {
   "cell_type": "code",
   "execution_count": 6,
   "metadata": {},
   "outputs": [
    {
     "data": {
      "text/html": [
       "<table>\n",
       "<tr><td>       author</td><td> Tintin and Milou</td></tr>\n",
       "<tr><td>       created</td><td> 0001-01-01 00:00:00</td></tr>\n",
       "<tr><td>       last modified</td><td> 0001-01-01 00:00:00</td></tr>\n",
       "<tr><td>  description</td><td> Dataset example created for this tutorial.  It's a 3-D dataset (with\n",
       "               dimensionless intensity)</td></tr>\n",
       "<tr><td>data</td><td><table><tr><td>title</td><td> Absorbance</td></tr>\n",
       "<tr><td>shape</td><td> 3 x 100 x 10</td></tr>\n",
       "<tr><td>units</td><td> AU</td></tr>\n",
       "<tr><td>values</td><td>\n",
       "         [[[ 2.4e-27    1e+04 ...,    3e+04    4e+04]\n",
       "           [2.35e-27  9.8e+03 ..., 2.94e+04 3.92e+04]\n",
       "           ..., \n",
       "           [3.31e-28 1.38e+03 ..., 4.14e+03 5.52e+03]\n",
       "           [3.25e-28 1.35e+03 ..., 4.06e+03 5.41e+03]]\n",
       "          [[3.75e-27 1.56e+04 ..., 4.69e+04 6.25e+04]\n",
       "           [3.67e-27 1.53e+04 ..., 4.59e+04 6.13e+04]\n",
       "           ..., \n",
       "           [5.18e-28 2.16e+03 ..., 6.47e+03 8.63e+03]\n",
       "           [5.07e-28 2.11e+03 ..., 6.34e+03 8.46e+03]]\n",
       "          [[ 5.4e-27 2.25e+04 ..., 6.75e+04    9e+04]\n",
       "           [5.29e-27 2.21e+04 ..., 6.62e+04 8.82e+04]\n",
       "           ..., \n",
       "           [7.46e-28 3.11e+03 ..., 9.32e+03 1.24e+04]\n",
       "           [7.31e-28 3.05e+03 ..., 9.14e+03 1.22e+04]]]</td></tr>\n",
       "</table></td></tr><tr><td>       axis 0</td><td>         <table><tr><td>title</td><td>Temperature</td></tr>\n",
       "         <tr><td>coordinates</td><td>[     200      250      300]</td></tr>\n",
       "         <tr><td>units</td><td>K</td></tr>\n",
       "         <tr border=0><td>labels</td><td>['cold' 'normal' 'hot']</td></tr>\n",
       "         </table>\n",
       "</td></tr>\n",
       "<tr><td>       axis 1</td><td>         <table><tr><td>title</td><td>Time-on-stream</td></tr>\n",
       "         <tr><td>coordinates</td><td>[       0    0.606 ...,     59.4       60]</td></tr>\n",
       "         <tr><td>units</td><td>min</td></tr>\n",
       "         </table>\n",
       "</td></tr>\n",
       "<tr><td>       axis 2</td><td>         <table><tr><td>title</td><td>Wavelength</td></tr>\n",
       "         <tr><td>coordinates</td><td>[   4e+03 3.67e+03 ..., 1.33e+03    1e+03]</td></tr>\n",
       "         <tr><td>units</td><td>cm<sup>-1</sup></td></tr>\n",
       "         </table>\n",
       "</td></tr>\n"
      ],
      "text/plain": [
       "NDDataset([[[ 2.4e-27,    1e+04, ...,    3e+04,    4e+04],\n",
       "            [2.35e-27,  9.8e+03, ..., 2.94e+04, 3.92e+04],\n",
       "            ..., \n",
       "            [3.31e-28, 1.38e+03, ..., 4.14e+03, 5.52e+03],\n",
       "            [3.25e-28, 1.35e+03, ..., 4.06e+03, 5.41e+03]],\n",
       "\n",
       "           [[3.75e-27, 1.56e+04, ..., 4.69e+04, 6.25e+04],\n",
       "            [3.67e-27, 1.53e+04, ..., 4.59e+04, 6.13e+04],\n",
       "            ..., \n",
       "            [5.18e-28, 2.16e+03, ..., 6.47e+03, 8.63e+03],\n",
       "            [5.07e-28, 2.11e+03, ..., 6.34e+03, 8.46e+03]],\n",
       "\n",
       "           [[ 5.4e-27, 2.25e+04, ..., 6.75e+04,    9e+04],\n",
       "            [5.29e-27, 2.21e+04, ..., 6.62e+04, 8.82e+04],\n",
       "            ..., \n",
       "            [7.46e-28, 3.11e+03, ..., 9.32e+03, 1.24e+04],\n",
       "            [7.31e-28, 3.05e+03, ..., 9.14e+03, 1.22e+04]]])"
      ]
     },
     "execution_count": 6,
     "metadata": {},
     "output_type": "execute_result"
    }
   ],
   "source": [
    "mydataset"
   ]
  },
  {
   "cell_type": "markdown",
   "metadata": {},
   "source": [
    "NDDataset can be sliced like conventional numpy-array..."
   ]
  },
  {
   "cell_type": "code",
   "execution_count": 7,
   "metadata": {
    "run_control": {
     "frozen": false,
     "read_only": false
    }
   },
   "outputs": [
    {
     "data": {
      "text/html": [
       "<table>\n",
       "<tr><td>       author</td><td> christian@MacBook-Pro-de-Christian.local</td></tr>\n",
       "<tr><td>       created</td><td> 2017-07-11 00:40:00.694977</td></tr>\n",
       "<tr><td>       last modified</td><td> 0001-01-01 00:00:00</td></tr>\n",
       "<tr><td>  description</td><td> Dataset example created for this tutorial.  It's a 3-D dataset (with\n",
       "               dimensionless intensity)</td></tr>\n",
       "<tr><td>data</td><td><table><tr><td>title</td><td> Absorbance</td></tr>\n",
       "<tr><td>shape</td><td> 3 x 100 x 1</td></tr>\n",
       "<tr><td>units</td><td> AU</td></tr>\n",
       "<tr><td>values</td><td>\n",
       "         [[[ 2.4e-27]\n",
       "           [2.35e-27]\n",
       "           ..., \n",
       "           [3.31e-28]\n",
       "           [3.25e-28]]\n",
       "          [[3.75e-27]\n",
       "           [3.67e-27]\n",
       "           ..., \n",
       "           [5.18e-28]\n",
       "           [5.07e-28]]\n",
       "          [[ 5.4e-27]\n",
       "           [5.29e-27]\n",
       "           ..., \n",
       "           [7.46e-28]\n",
       "           [7.31e-28]]]</td></tr>\n",
       "</table></td></tr><tr><td>       axis 0</td><td>         <table><tr><td>title</td><td>Temperature</td></tr>\n",
       "         <tr><td>coordinates</td><td>[     200      250      300]</td></tr>\n",
       "         <tr><td>units</td><td>K</td></tr>\n",
       "         <tr border=0><td>labels</td><td>['cold' 'normal' 'hot']</td></tr>\n",
       "         </table>\n",
       "</td></tr>\n",
       "<tr><td>       axis 1</td><td>         <table><tr><td>title</td><td>Time-on-stream</td></tr>\n",
       "         <tr><td>coordinates</td><td>[       0    0.606 ...,     59.4       60]</td></tr>\n",
       "         <tr><td>units</td><td>min</td></tr>\n",
       "         </table>\n",
       "</td></tr>\n",
       "<tr><td>       axis 2</td><td>         <table><tr><td>title</td><td>Wavelength</td></tr>\n",
       "         <tr><td>coordinates</td><td>[   4e+03]</td></tr>\n",
       "         <tr><td>units</td><td>cm<sup>-1</sup></td></tr>\n",
       "         </table>\n",
       "</td></tr>\n"
      ],
      "text/plain": [
       "NDDataset([[[ 2.4e-27],\n",
       "            [2.35e-27],\n",
       "            ..., \n",
       "            [3.31e-28],\n",
       "            [3.25e-28]],\n",
       "\n",
       "           [[3.75e-27],\n",
       "            [3.67e-27],\n",
       "            ..., \n",
       "            [5.18e-28],\n",
       "            [5.07e-28]],\n",
       "\n",
       "           [[ 5.4e-27],\n",
       "            [5.29e-27],\n",
       "            ..., \n",
       "            [7.46e-28],\n",
       "            [7.31e-28]]])"
      ]
     },
     "execution_count": 7,
     "metadata": {},
     "output_type": "execute_result"
    }
   ],
   "source": [
    "new = mydataset[..., 0]\n",
    "new"
   ]
  },
  {
   "cell_type": "markdown",
   "metadata": {},
   "source": [
    "or using the axes labels:"
   ]
  },
  {
   "cell_type": "code",
   "execution_count": 8,
   "metadata": {
    "run_control": {
     "frozen": false,
     "read_only": false
    }
   },
   "outputs": [
    {
     "data": {
      "text/html": [
       "<table>\n",
       "<tr><td>       author</td><td> christian@MacBook-Pro-de-Christian.local</td></tr>\n",
       "<tr><td>       created</td><td> 2017-07-11 00:40:03.194796</td></tr>\n",
       "<tr><td>       last modified</td><td> 0001-01-01 00:00:00</td></tr>\n",
       "<tr><td>  description</td><td> Dataset example created for this tutorial.  It's a 3-D dataset (with\n",
       "               dimensionless intensity)</td></tr>\n",
       "<tr><td>data</td><td><table><tr><td>title</td><td> Absorbance</td></tr>\n",
       "<tr><td>shape</td><td> 1 x 100 x 10</td></tr>\n",
       "<tr><td>units</td><td> AU</td></tr>\n",
       "<tr><td>values</td><td>\n",
       "         [[[ 5.4e-27 2.25e+04 ..., 6.75e+04    9e+04]\n",
       "           [5.29e-27 2.21e+04 ..., 6.62e+04 8.82e+04]\n",
       "           ..., \n",
       "           [7.46e-28 3.11e+03 ..., 9.32e+03 1.24e+04]\n",
       "           [7.31e-28 3.05e+03 ..., 9.14e+03 1.22e+04]]]</td></tr>\n",
       "</table></td></tr><tr><td>       axis 0</td><td>         <table><tr><td>title</td><td>Temperature</td></tr>\n",
       "         <tr><td>coordinates</td><td>[     300]</td></tr>\n",
       "         <tr><td>units</td><td>K</td></tr>\n",
       "         <tr border=0><td>labels</td><td>['hot']</td></tr>\n",
       "         </table>\n",
       "</td></tr>\n",
       "<tr><td>       axis 1</td><td>         <table><tr><td>title</td><td>Time-on-stream</td></tr>\n",
       "         <tr><td>coordinates</td><td>[       0    0.606 ...,     59.4       60]</td></tr>\n",
       "         <tr><td>units</td><td>min</td></tr>\n",
       "         </table>\n",
       "</td></tr>\n",
       "<tr><td>       axis 2</td><td>         <table><tr><td>title</td><td>Wavelength</td></tr>\n",
       "         <tr><td>coordinates</td><td>[   4e+03 3.67e+03 ..., 1.33e+03    1e+03]</td></tr>\n",
       "         <tr><td>units</td><td>cm<sup>-1</sup></td></tr>\n",
       "         </table>\n",
       "</td></tr>\n"
      ],
      "text/plain": [
       "NDDataset([[[ 5.4e-27, 2.25e+04, ..., 6.75e+04,    9e+04],\n",
       "            [5.29e-27, 2.21e+04, ..., 6.62e+04, 8.82e+04],\n",
       "            ..., \n",
       "            [7.46e-28, 3.11e+03, ..., 9.32e+03, 1.24e+04],\n",
       "            [7.31e-28, 3.05e+03, ..., 9.14e+03, 1.22e+04]]])"
      ]
     },
     "execution_count": 8,
     "metadata": {},
     "output_type": "execute_result"
    }
   ],
   "source": [
    "new = mydataset['hot']\n",
    "new"
   ]
  },
  {
   "cell_type": "markdown",
   "metadata": {},
   "source": [
    "Single-element dimension are kept but can also be squeezed easily:"
   ]
  },
  {
   "cell_type": "code",
   "execution_count": 9,
   "metadata": {
    "run_control": {
     "frozen": false,
     "read_only": false
    }
   },
   "outputs": [
    {
     "data": {
      "text/html": [
       "<table>\n",
       "<tr><td>       author</td><td> christian@MacBook-Pro-de-Christian.local</td></tr>\n",
       "<tr><td>       created</td><td> 2017-07-11 00:40:08.982196</td></tr>\n",
       "<tr><td>       last modified</td><td> 0001-01-01 00:00:00</td></tr>\n",
       "<tr><td>  description</td><td> Dataset example created for this tutorial.  It's a 3-D dataset (with\n",
       "               dimensionless intensity)</td></tr>\n",
       "<tr><td>data</td><td><table><tr><td>title</td><td> Absorbance</td></tr>\n",
       "<tr><td>shape</td><td> 100 x 10</td></tr>\n",
       "<tr><td>units</td><td> AU</td></tr>\n",
       "<tr><td>values</td><td>\n",
       "         [[ 5.4e-27 2.25e+04 ..., 6.75e+04    9e+04]\n",
       "          [5.29e-27 2.21e+04 ..., 6.62e+04 8.82e+04]\n",
       "          ..., \n",
       "          [7.46e-28 3.11e+03 ..., 9.32e+03 1.24e+04]\n",
       "          [7.31e-28 3.05e+03 ..., 9.14e+03 1.22e+04]]</td></tr>\n",
       "</table></td></tr><tr><td>       axis 0</td><td>         <table><tr><td>title</td><td>Time-on-stream</td></tr>\n",
       "         <tr><td>coordinates</td><td>[       0    0.606 ...,     59.4       60]</td></tr>\n",
       "         <tr><td>units</td><td>min</td></tr>\n",
       "         </table>\n",
       "</td></tr>\n",
       "<tr><td>       axis 1</td><td>         <table><tr><td>title</td><td>Wavelength</td></tr>\n",
       "         <tr><td>coordinates</td><td>[   4e+03 3.67e+03 ..., 1.33e+03    1e+03]</td></tr>\n",
       "         <tr><td>units</td><td>cm<sup>-1</sup></td></tr>\n",
       "         </table>\n",
       "</td></tr>\n"
      ],
      "text/plain": [
       "NDDataset([[ 5.4e-27, 2.25e+04, ..., 6.75e+04,    9e+04],\n",
       "           [5.29e-27, 2.21e+04, ..., 6.62e+04, 8.82e+04],\n",
       "           ..., \n",
       "           [7.46e-28, 3.11e+03, ..., 9.32e+03, 1.24e+04],\n",
       "           [7.31e-28, 3.05e+03, ..., 9.14e+03, 1.22e+04]])"
      ]
     },
     "execution_count": 9,
     "metadata": {},
     "output_type": "execute_result"
    }
   ],
   "source": [
    "new = new.squeeze()\n",
    "new"
   ]
  },
  {
   "cell_type": "markdown",
   "metadata": {},
   "source": [
    "To plot a dataset, use the `plot` command (generic plot). As the NDDataset is 2D, a contour plot is displayed by default."
   ]
  },
  {
   "cell_type": "code",
   "execution_count": 10,
   "metadata": {
    "run_control": {
     "frozen": false,
     "read_only": false
    }
   },
   "outputs": [
    {
     "data": {
      "application/javascript": [
       "/* Put everything inside the global mpl namespace */\n",
       "window.mpl = {};\n",
       "\n",
       "\n",
       "mpl.get_websocket_type = function() {\n",
       "    if (typeof(WebSocket) !== 'undefined') {\n",
       "        return WebSocket;\n",
       "    } else if (typeof(MozWebSocket) !== 'undefined') {\n",
       "        return MozWebSocket;\n",
       "    } else {\n",
       "        alert('Your browser does not have WebSocket support.' +\n",
       "              'Please try Chrome, Safari or Firefox ≥ 6. ' +\n",
       "              'Firefox 4 and 5 are also supported but you ' +\n",
       "              'have to enable WebSockets in about:config.');\n",
       "    };\n",
       "}\n",
       "\n",
       "mpl.figure = function(figure_id, websocket, ondownload, parent_element) {\n",
       "    this.id = figure_id;\n",
       "\n",
       "    this.ws = websocket;\n",
       "\n",
       "    this.supports_binary = (this.ws.binaryType != undefined);\n",
       "\n",
       "    if (!this.supports_binary) {\n",
       "        var warnings = document.getElementById(\"mpl-warnings\");\n",
       "        if (warnings) {\n",
       "            warnings.style.display = 'block';\n",
       "            warnings.textContent = (\n",
       "                \"This browser does not support binary websocket messages. \" +\n",
       "                    \"Performance may be slow.\");\n",
       "        }\n",
       "    }\n",
       "\n",
       "    this.imageObj = new Image();\n",
       "\n",
       "    this.context = undefined;\n",
       "    this.message = undefined;\n",
       "    this.canvas = undefined;\n",
       "    this.rubberband_canvas = undefined;\n",
       "    this.rubberband_context = undefined;\n",
       "    this.format_dropdown = undefined;\n",
       "\n",
       "    this.image_mode = 'full';\n",
       "\n",
       "    this.root = $('<div/>');\n",
       "    this._root_extra_style(this.root)\n",
       "    this.root.attr('style', 'display: inline-block');\n",
       "\n",
       "    $(parent_element).append(this.root);\n",
       "\n",
       "    this._init_header(this);\n",
       "    this._init_canvas(this);\n",
       "    this._init_toolbar(this);\n",
       "\n",
       "    var fig = this;\n",
       "\n",
       "    this.waiting = false;\n",
       "\n",
       "    this.ws.onopen =  function () {\n",
       "            fig.send_message(\"supports_binary\", {value: fig.supports_binary});\n",
       "            fig.send_message(\"send_image_mode\", {});\n",
       "            if (mpl.ratio != 1) {\n",
       "                fig.send_message(\"set_dpi_ratio\", {'dpi_ratio': mpl.ratio});\n",
       "            }\n",
       "            fig.send_message(\"refresh\", {});\n",
       "        }\n",
       "\n",
       "    this.imageObj.onload = function() {\n",
       "            if (fig.image_mode == 'full') {\n",
       "                // Full images could contain transparency (where diff images\n",
       "                // almost always do), so we need to clear the canvas so that\n",
       "                // there is no ghosting.\n",
       "                fig.context.clearRect(0, 0, fig.canvas.width, fig.canvas.height);\n",
       "            }\n",
       "            fig.context.drawImage(fig.imageObj, 0, 0);\n",
       "        };\n",
       "\n",
       "    this.imageObj.onunload = function() {\n",
       "        this.ws.close();\n",
       "    }\n",
       "\n",
       "    this.ws.onmessage = this._make_on_message_function(this);\n",
       "\n",
       "    this.ondownload = ondownload;\n",
       "}\n",
       "\n",
       "mpl.figure.prototype._init_header = function() {\n",
       "    var titlebar = $(\n",
       "        '<div class=\"ui-dialog-titlebar ui-widget-header ui-corner-all ' +\n",
       "        'ui-helper-clearfix\"/>');\n",
       "    var titletext = $(\n",
       "        '<div class=\"ui-dialog-title\" style=\"width: 100%; ' +\n",
       "        'text-align: center; padding: 3px;\"/>');\n",
       "    titlebar.append(titletext)\n",
       "    this.root.append(titlebar);\n",
       "    this.header = titletext[0];\n",
       "}\n",
       "\n",
       "\n",
       "\n",
       "mpl.figure.prototype._canvas_extra_style = function(canvas_div) {\n",
       "\n",
       "}\n",
       "\n",
       "\n",
       "mpl.figure.prototype._root_extra_style = function(canvas_div) {\n",
       "\n",
       "}\n",
       "\n",
       "mpl.figure.prototype._init_canvas = function() {\n",
       "    var fig = this;\n",
       "\n",
       "    var canvas_div = $('<div/>');\n",
       "\n",
       "    canvas_div.attr('style', 'position: relative; clear: both; outline: 0');\n",
       "\n",
       "    function canvas_keyboard_event(event) {\n",
       "        return fig.key_event(event, event['data']);\n",
       "    }\n",
       "\n",
       "    canvas_div.keydown('key_press', canvas_keyboard_event);\n",
       "    canvas_div.keyup('key_release', canvas_keyboard_event);\n",
       "    this.canvas_div = canvas_div\n",
       "    this._canvas_extra_style(canvas_div)\n",
       "    this.root.append(canvas_div);\n",
       "\n",
       "    var canvas = $('<canvas/>');\n",
       "    canvas.addClass('mpl-canvas');\n",
       "    canvas.attr('style', \"left: 0; top: 0; z-index: 0; outline: 0\")\n",
       "\n",
       "    this.canvas = canvas[0];\n",
       "    this.context = canvas[0].getContext(\"2d\");\n",
       "\n",
       "    var backingStore = this.context.backingStorePixelRatio ||\n",
       "\tthis.context.webkitBackingStorePixelRatio ||\n",
       "\tthis.context.mozBackingStorePixelRatio ||\n",
       "\tthis.context.msBackingStorePixelRatio ||\n",
       "\tthis.context.oBackingStorePixelRatio ||\n",
       "\tthis.context.backingStorePixelRatio || 1;\n",
       "\n",
       "    mpl.ratio = (window.devicePixelRatio || 1) / backingStore;\n",
       "\n",
       "    var rubberband = $('<canvas/>');\n",
       "    rubberband.attr('style', \"position: absolute; left: 0; top: 0; z-index: 1;\")\n",
       "\n",
       "    var pass_mouse_events = true;\n",
       "\n",
       "    canvas_div.resizable({\n",
       "        start: function(event, ui) {\n",
       "            pass_mouse_events = false;\n",
       "        },\n",
       "        resize: function(event, ui) {\n",
       "            fig.request_resize(ui.size.width, ui.size.height);\n",
       "        },\n",
       "        stop: function(event, ui) {\n",
       "            pass_mouse_events = true;\n",
       "            fig.request_resize(ui.size.width, ui.size.height);\n",
       "        },\n",
       "    });\n",
       "\n",
       "    function mouse_event_fn(event) {\n",
       "        if (pass_mouse_events)\n",
       "            return fig.mouse_event(event, event['data']);\n",
       "    }\n",
       "\n",
       "    rubberband.mousedown('button_press', mouse_event_fn);\n",
       "    rubberband.mouseup('button_release', mouse_event_fn);\n",
       "    // Throttle sequential mouse events to 1 every 20ms.\n",
       "    rubberband.mousemove('motion_notify', mouse_event_fn);\n",
       "\n",
       "    rubberband.mouseenter('figure_enter', mouse_event_fn);\n",
       "    rubberband.mouseleave('figure_leave', mouse_event_fn);\n",
       "\n",
       "    canvas_div.on(\"wheel\", function (event) {\n",
       "        event = event.originalEvent;\n",
       "        event['data'] = 'scroll'\n",
       "        if (event.deltaY < 0) {\n",
       "            event.step = 1;\n",
       "        } else {\n",
       "            event.step = -1;\n",
       "        }\n",
       "        mouse_event_fn(event);\n",
       "    });\n",
       "\n",
       "    canvas_div.append(canvas);\n",
       "    canvas_div.append(rubberband);\n",
       "\n",
       "    this.rubberband = rubberband;\n",
       "    this.rubberband_canvas = rubberband[0];\n",
       "    this.rubberband_context = rubberband[0].getContext(\"2d\");\n",
       "    this.rubberband_context.strokeStyle = \"#000000\";\n",
       "\n",
       "    this._resize_canvas = function(width, height) {\n",
       "        // Keep the size of the canvas, canvas container, and rubber band\n",
       "        // canvas in synch.\n",
       "        canvas_div.css('width', width)\n",
       "        canvas_div.css('height', height)\n",
       "\n",
       "        canvas.attr('width', width * mpl.ratio);\n",
       "        canvas.attr('height', height * mpl.ratio);\n",
       "        canvas.attr('style', 'width: ' + width + 'px; height: ' + height + 'px;');\n",
       "\n",
       "        rubberband.attr('width', width);\n",
       "        rubberband.attr('height', height);\n",
       "    }\n",
       "\n",
       "    // Set the figure to an initial 600x600px, this will subsequently be updated\n",
       "    // upon first draw.\n",
       "    this._resize_canvas(600, 600);\n",
       "\n",
       "    // Disable right mouse context menu.\n",
       "    $(this.rubberband_canvas).bind(\"contextmenu\",function(e){\n",
       "        return false;\n",
       "    });\n",
       "\n",
       "    function set_focus () {\n",
       "        canvas.focus();\n",
       "        canvas_div.focus();\n",
       "    }\n",
       "\n",
       "    window.setTimeout(set_focus, 100);\n",
       "}\n",
       "\n",
       "mpl.figure.prototype._init_toolbar = function() {\n",
       "    var fig = this;\n",
       "\n",
       "    var nav_element = $('<div/>')\n",
       "    nav_element.attr('style', 'width: 100%');\n",
       "    this.root.append(nav_element);\n",
       "\n",
       "    // Define a callback function for later on.\n",
       "    function toolbar_event(event) {\n",
       "        return fig.toolbar_button_onclick(event['data']);\n",
       "    }\n",
       "    function toolbar_mouse_event(event) {\n",
       "        return fig.toolbar_button_onmouseover(event['data']);\n",
       "    }\n",
       "\n",
       "    for(var toolbar_ind in mpl.toolbar_items) {\n",
       "        var name = mpl.toolbar_items[toolbar_ind][0];\n",
       "        var tooltip = mpl.toolbar_items[toolbar_ind][1];\n",
       "        var image = mpl.toolbar_items[toolbar_ind][2];\n",
       "        var method_name = mpl.toolbar_items[toolbar_ind][3];\n",
       "\n",
       "        if (!name) {\n",
       "            // put a spacer in here.\n",
       "            continue;\n",
       "        }\n",
       "        var button = $('<button/>');\n",
       "        button.addClass('ui-button ui-widget ui-state-default ui-corner-all ' +\n",
       "                        'ui-button-icon-only');\n",
       "        button.attr('role', 'button');\n",
       "        button.attr('aria-disabled', 'false');\n",
       "        button.click(method_name, toolbar_event);\n",
       "        button.mouseover(tooltip, toolbar_mouse_event);\n",
       "\n",
       "        var icon_img = $('<span/>');\n",
       "        icon_img.addClass('ui-button-icon-primary ui-icon');\n",
       "        icon_img.addClass(image);\n",
       "        icon_img.addClass('ui-corner-all');\n",
       "\n",
       "        var tooltip_span = $('<span/>');\n",
       "        tooltip_span.addClass('ui-button-text');\n",
       "        tooltip_span.html(tooltip);\n",
       "\n",
       "        button.append(icon_img);\n",
       "        button.append(tooltip_span);\n",
       "\n",
       "        nav_element.append(button);\n",
       "    }\n",
       "\n",
       "    var fmt_picker_span = $('<span/>');\n",
       "\n",
       "    var fmt_picker = $('<select/>');\n",
       "    fmt_picker.addClass('mpl-toolbar-option ui-widget ui-widget-content');\n",
       "    fmt_picker_span.append(fmt_picker);\n",
       "    nav_element.append(fmt_picker_span);\n",
       "    this.format_dropdown = fmt_picker[0];\n",
       "\n",
       "    for (var ind in mpl.extensions) {\n",
       "        var fmt = mpl.extensions[ind];\n",
       "        var option = $(\n",
       "            '<option/>', {selected: fmt === mpl.default_extension}).html(fmt);\n",
       "        fmt_picker.append(option)\n",
       "    }\n",
       "\n",
       "    // Add hover states to the ui-buttons\n",
       "    $( \".ui-button\" ).hover(\n",
       "        function() { $(this).addClass(\"ui-state-hover\");},\n",
       "        function() { $(this).removeClass(\"ui-state-hover\");}\n",
       "    );\n",
       "\n",
       "    var status_bar = $('<span class=\"mpl-message\"/>');\n",
       "    nav_element.append(status_bar);\n",
       "    this.message = status_bar[0];\n",
       "}\n",
       "\n",
       "mpl.figure.prototype.request_resize = function(x_pixels, y_pixels) {\n",
       "    // Request matplotlib to resize the figure. Matplotlib will then trigger a resize in the client,\n",
       "    // which will in turn request a refresh of the image.\n",
       "    this.send_message('resize', {'width': x_pixels, 'height': y_pixels});\n",
       "}\n",
       "\n",
       "mpl.figure.prototype.send_message = function(type, properties) {\n",
       "    properties['type'] = type;\n",
       "    properties['figure_id'] = this.id;\n",
       "    this.ws.send(JSON.stringify(properties));\n",
       "}\n",
       "\n",
       "mpl.figure.prototype.send_draw_message = function() {\n",
       "    if (!this.waiting) {\n",
       "        this.waiting = true;\n",
       "        this.ws.send(JSON.stringify({type: \"draw\", figure_id: this.id}));\n",
       "    }\n",
       "}\n",
       "\n",
       "\n",
       "mpl.figure.prototype.handle_save = function(fig, msg) {\n",
       "    var format_dropdown = fig.format_dropdown;\n",
       "    var format = format_dropdown.options[format_dropdown.selectedIndex].value;\n",
       "    fig.ondownload(fig, format);\n",
       "}\n",
       "\n",
       "\n",
       "mpl.figure.prototype.handle_resize = function(fig, msg) {\n",
       "    var size = msg['size'];\n",
       "    if (size[0] != fig.canvas.width || size[1] != fig.canvas.height) {\n",
       "        fig._resize_canvas(size[0], size[1]);\n",
       "        fig.send_message(\"refresh\", {});\n",
       "    };\n",
       "}\n",
       "\n",
       "mpl.figure.prototype.handle_rubberband = function(fig, msg) {\n",
       "    var x0 = msg['x0'] / mpl.ratio;\n",
       "    var y0 = (fig.canvas.height - msg['y0']) / mpl.ratio;\n",
       "    var x1 = msg['x1'] / mpl.ratio;\n",
       "    var y1 = (fig.canvas.height - msg['y1']) / mpl.ratio;\n",
       "    x0 = Math.floor(x0) + 0.5;\n",
       "    y0 = Math.floor(y0) + 0.5;\n",
       "    x1 = Math.floor(x1) + 0.5;\n",
       "    y1 = Math.floor(y1) + 0.5;\n",
       "    var min_x = Math.min(x0, x1);\n",
       "    var min_y = Math.min(y0, y1);\n",
       "    var width = Math.abs(x1 - x0);\n",
       "    var height = Math.abs(y1 - y0);\n",
       "\n",
       "    fig.rubberband_context.clearRect(\n",
       "        0, 0, fig.canvas.width, fig.canvas.height);\n",
       "\n",
       "    fig.rubberband_context.strokeRect(min_x, min_y, width, height);\n",
       "}\n",
       "\n",
       "mpl.figure.prototype.handle_figure_label = function(fig, msg) {\n",
       "    // Updates the figure title.\n",
       "    fig.header.textContent = msg['label'];\n",
       "}\n",
       "\n",
       "mpl.figure.prototype.handle_cursor = function(fig, msg) {\n",
       "    var cursor = msg['cursor'];\n",
       "    switch(cursor)\n",
       "    {\n",
       "    case 0:\n",
       "        cursor = 'pointer';\n",
       "        break;\n",
       "    case 1:\n",
       "        cursor = 'default';\n",
       "        break;\n",
       "    case 2:\n",
       "        cursor = 'crosshair';\n",
       "        break;\n",
       "    case 3:\n",
       "        cursor = 'move';\n",
       "        break;\n",
       "    }\n",
       "    fig.rubberband_canvas.style.cursor = cursor;\n",
       "}\n",
       "\n",
       "mpl.figure.prototype.handle_message = function(fig, msg) {\n",
       "    fig.message.textContent = msg['message'];\n",
       "}\n",
       "\n",
       "mpl.figure.prototype.handle_draw = function(fig, msg) {\n",
       "    // Request the server to send over a new figure.\n",
       "    fig.send_draw_message();\n",
       "}\n",
       "\n",
       "mpl.figure.prototype.handle_image_mode = function(fig, msg) {\n",
       "    fig.image_mode = msg['mode'];\n",
       "}\n",
       "\n",
       "mpl.figure.prototype.updated_canvas_event = function() {\n",
       "    // Called whenever the canvas gets updated.\n",
       "    this.send_message(\"ack\", {});\n",
       "}\n",
       "\n",
       "// A function to construct a web socket function for onmessage handling.\n",
       "// Called in the figure constructor.\n",
       "mpl.figure.prototype._make_on_message_function = function(fig) {\n",
       "    return function socket_on_message(evt) {\n",
       "        if (evt.data instanceof Blob) {\n",
       "            /* FIXME: We get \"Resource interpreted as Image but\n",
       "             * transferred with MIME type text/plain:\" errors on\n",
       "             * Chrome.  But how to set the MIME type?  It doesn't seem\n",
       "             * to be part of the websocket stream */\n",
       "            evt.data.type = \"image/png\";\n",
       "\n",
       "            /* Free the memory for the previous frames */\n",
       "            if (fig.imageObj.src) {\n",
       "                (window.URL || window.webkitURL).revokeObjectURL(\n",
       "                    fig.imageObj.src);\n",
       "            }\n",
       "\n",
       "            fig.imageObj.src = (window.URL || window.webkitURL).createObjectURL(\n",
       "                evt.data);\n",
       "            fig.updated_canvas_event();\n",
       "            fig.waiting = false;\n",
       "            return;\n",
       "        }\n",
       "        else if (typeof evt.data === 'string' && evt.data.slice(0, 21) == \"data:image/png;base64\") {\n",
       "            fig.imageObj.src = evt.data;\n",
       "            fig.updated_canvas_event();\n",
       "            fig.waiting = false;\n",
       "            return;\n",
       "        }\n",
       "\n",
       "        var msg = JSON.parse(evt.data);\n",
       "        var msg_type = msg['type'];\n",
       "\n",
       "        // Call the  \"handle_{type}\" callback, which takes\n",
       "        // the figure and JSON message as its only arguments.\n",
       "        try {\n",
       "            var callback = fig[\"handle_\" + msg_type];\n",
       "        } catch (e) {\n",
       "            console.log(\"No handler for the '\" + msg_type + \"' message type: \", msg);\n",
       "            return;\n",
       "        }\n",
       "\n",
       "        if (callback) {\n",
       "            try {\n",
       "                // console.log(\"Handling '\" + msg_type + \"' message: \", msg);\n",
       "                callback(fig, msg);\n",
       "            } catch (e) {\n",
       "                console.log(\"Exception inside the 'handler_\" + msg_type + \"' callback:\", e, e.stack, msg);\n",
       "            }\n",
       "        }\n",
       "    };\n",
       "}\n",
       "\n",
       "// from http://stackoverflow.com/questions/1114465/getting-mouse-location-in-canvas\n",
       "mpl.findpos = function(e) {\n",
       "    //this section is from http://www.quirksmode.org/js/events_properties.html\n",
       "    var targ;\n",
       "    if (!e)\n",
       "        e = window.event;\n",
       "    if (e.target)\n",
       "        targ = e.target;\n",
       "    else if (e.srcElement)\n",
       "        targ = e.srcElement;\n",
       "    if (targ.nodeType == 3) // defeat Safari bug\n",
       "        targ = targ.parentNode;\n",
       "\n",
       "    // jQuery normalizes the pageX and pageY\n",
       "    // pageX,Y are the mouse positions relative to the document\n",
       "    // offset() returns the position of the element relative to the document\n",
       "    var x = e.pageX - $(targ).offset().left;\n",
       "    var y = e.pageY - $(targ).offset().top;\n",
       "\n",
       "    return {\"x\": x, \"y\": y};\n",
       "};\n",
       "\n",
       "/*\n",
       " * return a copy of an object with only non-object keys\n",
       " * we need this to avoid circular references\n",
       " * http://stackoverflow.com/a/24161582/3208463\n",
       " */\n",
       "function simpleKeys (original) {\n",
       "  return Object.keys(original).reduce(function (obj, key) {\n",
       "    if (typeof original[key] !== 'object')\n",
       "        obj[key] = original[key]\n",
       "    return obj;\n",
       "  }, {});\n",
       "}\n",
       "\n",
       "mpl.figure.prototype.mouse_event = function(event, name) {\n",
       "    var canvas_pos = mpl.findpos(event)\n",
       "\n",
       "    if (name === 'button_press')\n",
       "    {\n",
       "        this.canvas.focus();\n",
       "        this.canvas_div.focus();\n",
       "    }\n",
       "\n",
       "    var x = canvas_pos.x * mpl.ratio;\n",
       "    var y = canvas_pos.y * mpl.ratio;\n",
       "\n",
       "    this.send_message(name, {x: x, y: y, button: event.button,\n",
       "                             step: event.step,\n",
       "                             guiEvent: simpleKeys(event)});\n",
       "\n",
       "    /* This prevents the web browser from automatically changing to\n",
       "     * the text insertion cursor when the button is pressed.  We want\n",
       "     * to control all of the cursor setting manually through the\n",
       "     * 'cursor' event from matplotlib */\n",
       "    event.preventDefault();\n",
       "    return false;\n",
       "}\n",
       "\n",
       "mpl.figure.prototype._key_event_extra = function(event, name) {\n",
       "    // Handle any extra behaviour associated with a key event\n",
       "}\n",
       "\n",
       "mpl.figure.prototype.key_event = function(event, name) {\n",
       "\n",
       "    // Prevent repeat events\n",
       "    if (name == 'key_press')\n",
       "    {\n",
       "        if (event.which === this._key)\n",
       "            return;\n",
       "        else\n",
       "            this._key = event.which;\n",
       "    }\n",
       "    if (name == 'key_release')\n",
       "        this._key = null;\n",
       "\n",
       "    var value = '';\n",
       "    if (event.ctrlKey && event.which != 17)\n",
       "        value += \"ctrl+\";\n",
       "    if (event.altKey && event.which != 18)\n",
       "        value += \"alt+\";\n",
       "    if (event.shiftKey && event.which != 16)\n",
       "        value += \"shift+\";\n",
       "\n",
       "    value += 'k';\n",
       "    value += event.which.toString();\n",
       "\n",
       "    this._key_event_extra(event, name);\n",
       "\n",
       "    this.send_message(name, {key: value,\n",
       "                             guiEvent: simpleKeys(event)});\n",
       "    return false;\n",
       "}\n",
       "\n",
       "mpl.figure.prototype.toolbar_button_onclick = function(name) {\n",
       "    if (name == 'download') {\n",
       "        this.handle_save(this, null);\n",
       "    } else {\n",
       "        this.send_message(\"toolbar_button\", {name: name});\n",
       "    }\n",
       "};\n",
       "\n",
       "mpl.figure.prototype.toolbar_button_onmouseover = function(tooltip) {\n",
       "    this.message.textContent = tooltip;\n",
       "};\n",
       "mpl.toolbar_items = [[\"Home\", \"Reset original view\", \"fa fa-home icon-home\", \"home\"], [\"Back\", \"Back to  previous view\", \"fa fa-arrow-left icon-arrow-left\", \"back\"], [\"Forward\", \"Forward to next view\", \"fa fa-arrow-right icon-arrow-right\", \"forward\"], [\"\", \"\", \"\", \"\"], [\"Pan\", \"Pan axes with left mouse, zoom with right\", \"fa fa-arrows icon-move\", \"pan\"], [\"Zoom\", \"Zoom to rectangle\", \"fa fa-square-o icon-check-empty\", \"zoom\"], [\"\", \"\", \"\", \"\"], [\"Download\", \"Download plot\", \"fa fa-floppy-o icon-save\", \"download\"]];\n",
       "\n",
       "mpl.extensions = [\"eps\", \"jpeg\", \"pdf\", \"png\", \"ps\", \"raw\", \"svg\", \"tif\"];\n",
       "\n",
       "mpl.default_extension = \"png\";var comm_websocket_adapter = function(comm) {\n",
       "    // Create a \"websocket\"-like object which calls the given IPython comm\n",
       "    // object with the appropriate methods. Currently this is a non binary\n",
       "    // socket, so there is still some room for performance tuning.\n",
       "    var ws = {};\n",
       "\n",
       "    ws.close = function() {\n",
       "        comm.close()\n",
       "    };\n",
       "    ws.send = function(m) {\n",
       "        //console.log('sending', m);\n",
       "        comm.send(m);\n",
       "    };\n",
       "    // Register the callback with on_msg.\n",
       "    comm.on_msg(function(msg) {\n",
       "        //console.log('receiving', msg['content']['data'], msg);\n",
       "        // Pass the mpl event to the overriden (by mpl) onmessage function.\n",
       "        ws.onmessage(msg['content']['data'])\n",
       "    });\n",
       "    return ws;\n",
       "}\n",
       "\n",
       "mpl.mpl_figure_comm = function(comm, msg) {\n",
       "    // This is the function which gets called when the mpl process\n",
       "    // starts-up an IPython Comm through the \"matplotlib\" channel.\n",
       "\n",
       "    var id = msg.content.data.id;\n",
       "    // Get hold of the div created by the display call when the Comm\n",
       "    // socket was opened in Python.\n",
       "    var element = $(\"#\" + id);\n",
       "    var ws_proxy = comm_websocket_adapter(comm)\n",
       "\n",
       "    function ondownload(figure, format) {\n",
       "        window.open(figure.imageObj.src);\n",
       "    }\n",
       "\n",
       "    var fig = new mpl.figure(id, ws_proxy,\n",
       "                           ondownload,\n",
       "                           element.get(0));\n",
       "\n",
       "    // Call onopen now - mpl needs it, as it is assuming we've passed it a real\n",
       "    // web socket which is closed, not our websocket->open comm proxy.\n",
       "    ws_proxy.onopen();\n",
       "\n",
       "    fig.parent_element = element.get(0);\n",
       "    fig.cell_info = mpl.find_output_cell(\"<div id='\" + id + \"'></div>\");\n",
       "    if (!fig.cell_info) {\n",
       "        console.error(\"Failed to find cell for figure\", id, fig);\n",
       "        return;\n",
       "    }\n",
       "\n",
       "    var output_index = fig.cell_info[2]\n",
       "    var cell = fig.cell_info[0];\n",
       "\n",
       "};\n",
       "\n",
       "mpl.figure.prototype.handle_close = function(fig, msg) {\n",
       "    var width = fig.canvas.width/mpl.ratio\n",
       "    fig.root.unbind('remove')\n",
       "\n",
       "    // Update the output cell to use the data from the current canvas.\n",
       "    fig.push_to_output();\n",
       "    var dataURL = fig.canvas.toDataURL();\n",
       "    // Re-enable the keyboard manager in IPython - without this line, in FF,\n",
       "    // the notebook keyboard shortcuts fail.\n",
       "    IPython.keyboard_manager.enable()\n",
       "    $(fig.parent_element).html('<img src=\"' + dataURL + '\" width=\"' + width + '\">');\n",
       "    fig.close_ws(fig, msg);\n",
       "}\n",
       "\n",
       "mpl.figure.prototype.close_ws = function(fig, msg){\n",
       "    fig.send_message('closing', msg);\n",
       "    // fig.ws.close()\n",
       "}\n",
       "\n",
       "mpl.figure.prototype.push_to_output = function(remove_interactive) {\n",
       "    // Turn the data on the canvas into data in the output cell.\n",
       "    var width = this.canvas.width/mpl.ratio\n",
       "    var dataURL = this.canvas.toDataURL();\n",
       "    this.cell_info[1]['text/html'] = '<img src=\"' + dataURL + '\" width=\"' + width + '\">';\n",
       "}\n",
       "\n",
       "mpl.figure.prototype.updated_canvas_event = function() {\n",
       "    // Tell IPython that the notebook contents must change.\n",
       "    IPython.notebook.set_dirty(true);\n",
       "    this.send_message(\"ack\", {});\n",
       "    var fig = this;\n",
       "    // Wait a second, then push the new image to the DOM so\n",
       "    // that it is saved nicely (might be nice to debounce this).\n",
       "    setTimeout(function () { fig.push_to_output() }, 1000);\n",
       "}\n",
       "\n",
       "mpl.figure.prototype._init_toolbar = function() {\n",
       "    var fig = this;\n",
       "\n",
       "    var nav_element = $('<div/>')\n",
       "    nav_element.attr('style', 'width: 100%');\n",
       "    this.root.append(nav_element);\n",
       "\n",
       "    // Define a callback function for later on.\n",
       "    function toolbar_event(event) {\n",
       "        return fig.toolbar_button_onclick(event['data']);\n",
       "    }\n",
       "    function toolbar_mouse_event(event) {\n",
       "        return fig.toolbar_button_onmouseover(event['data']);\n",
       "    }\n",
       "\n",
       "    for(var toolbar_ind in mpl.toolbar_items){\n",
       "        var name = mpl.toolbar_items[toolbar_ind][0];\n",
       "        var tooltip = mpl.toolbar_items[toolbar_ind][1];\n",
       "        var image = mpl.toolbar_items[toolbar_ind][2];\n",
       "        var method_name = mpl.toolbar_items[toolbar_ind][3];\n",
       "\n",
       "        if (!name) { continue; };\n",
       "\n",
       "        var button = $('<button class=\"btn btn-default\" href=\"#\" title=\"' + name + '\"><i class=\"fa ' + image + ' fa-lg\"></i></button>');\n",
       "        button.click(method_name, toolbar_event);\n",
       "        button.mouseover(tooltip, toolbar_mouse_event);\n",
       "        nav_element.append(button);\n",
       "    }\n",
       "\n",
       "    // Add the status bar.\n",
       "    var status_bar = $('<span class=\"mpl-message\" style=\"text-align:right; float: right;\"/>');\n",
       "    nav_element.append(status_bar);\n",
       "    this.message = status_bar[0];\n",
       "\n",
       "    // Add the close button to the window.\n",
       "    var buttongrp = $('<div class=\"btn-group inline pull-right\"></div>');\n",
       "    var button = $('<button class=\"btn btn-mini btn-primary\" href=\"#\" title=\"Stop Interaction\"><i class=\"fa fa-power-off icon-remove icon-large\"></i></button>');\n",
       "    button.click(function (evt) { fig.handle_close(fig, {}); } );\n",
       "    button.mouseover('Stop Interaction', toolbar_mouse_event);\n",
       "    buttongrp.append(button);\n",
       "    var titlebar = this.root.find($('.ui-dialog-titlebar'));\n",
       "    titlebar.prepend(buttongrp);\n",
       "}\n",
       "\n",
       "mpl.figure.prototype._root_extra_style = function(el){\n",
       "    var fig = this\n",
       "    el.on(\"remove\", function(){\n",
       "\tfig.close_ws(fig, {});\n",
       "    });\n",
       "}\n",
       "\n",
       "mpl.figure.prototype._canvas_extra_style = function(el){\n",
       "    // this is important to make the div 'focusable\n",
       "    el.attr('tabindex', 0)\n",
       "    // reach out to IPython and tell the keyboard manager to turn it's self\n",
       "    // off when our div gets focus\n",
       "\n",
       "    // location in version 3\n",
       "    if (IPython.notebook.keyboard_manager) {\n",
       "        IPython.notebook.keyboard_manager.register_events(el);\n",
       "    }\n",
       "    else {\n",
       "        // location in version 2\n",
       "        IPython.keyboard_manager.register_events(el);\n",
       "    }\n",
       "\n",
       "}\n",
       "\n",
       "mpl.figure.prototype._key_event_extra = function(event, name) {\n",
       "    var manager = IPython.notebook.keyboard_manager;\n",
       "    if (!manager)\n",
       "        manager = IPython.keyboard_manager;\n",
       "\n",
       "    // Check for shift+enter\n",
       "    if (event.shiftKey && event.which == 13) {\n",
       "        this.canvas_div.blur();\n",
       "        // select the cell after this one\n",
       "        var index = IPython.notebook.find_cell_index(this.cell_info[0]);\n",
       "        IPython.notebook.select(index + 1);\n",
       "    }\n",
       "}\n",
       "\n",
       "mpl.figure.prototype.handle_save = function(fig, msg) {\n",
       "    fig.ondownload(fig, null);\n",
       "}\n",
       "\n",
       "\n",
       "mpl.find_output_cell = function(html_output) {\n",
       "    // Return the cell and output element which can be found *uniquely* in the notebook.\n",
       "    // Note - this is a bit hacky, but it is done because the \"notebook_saving.Notebook\"\n",
       "    // IPython event is triggered only after the cells have been serialised, which for\n",
       "    // our purposes (turning an active figure into a static one), is too late.\n",
       "    var cells = IPython.notebook.get_cells();\n",
       "    var ncells = cells.length;\n",
       "    for (var i=0; i<ncells; i++) {\n",
       "        var cell = cells[i];\n",
       "        if (cell.cell_type === 'code'){\n",
       "            for (var j=0; j<cell.output_area.outputs.length; j++) {\n",
       "                var data = cell.output_area.outputs[j];\n",
       "                if (data.data) {\n",
       "                    // IPython >= 3 moved mimebundle to data attribute of output\n",
       "                    data = data.data;\n",
       "                }\n",
       "                if (data['text/html'] == html_output) {\n",
       "                    return [cell, data, j];\n",
       "                }\n",
       "            }\n",
       "        }\n",
       "    }\n",
       "}\n",
       "\n",
       "// Register the function which deals with the matplotlib target/channel.\n",
       "// The kernel may be null if the page has been refreshed.\n",
       "if (IPython.notebook.kernel != null) {\n",
       "    IPython.notebook.kernel.comm_manager.register_target('matplotlib', mpl.mpl_figure_comm);\n",
       "}\n"
      ],
      "text/plain": [
       "<IPython.core.display.Javascript object>"
      ]
     },
     "metadata": {},
     "output_type": "display_data"
    },
    {
     "data": {
      "text/html": [
       "<div id='149312db-e0ea-458a-a771-4a71ea70fb9e'></div>"
      ],
      "text/plain": [
       "<IPython.core.display.HTML object>"
      ]
     },
     "metadata": {},
     "output_type": "display_data"
    },
    {
     "ename": "ValueError",
     "evalue": "The specified plotter for kind `generic` was not found!",
     "output_type": "error",
     "traceback": [
      "\u001b[0;31m---------------------------------------------------------------------------\u001b[0m",
      "\u001b[0;31mNameError\u001b[0m                                 Traceback (most recent call last)",
      "\u001b[0;32m~/Dropbox/D.PROGRAMMES/spectrochempy/spectrochempy/core/dataset/ndio.py\u001b[0m in \u001b[0;36mplot\u001b[0;34m(self, ax, figsize, fontsize, kind, **kwargs)\u001b[0m\n\u001b[1;32m    517\u001b[0m             \u001b[0;32melif\u001b[0m \u001b[0mself\u001b[0m\u001b[0;34m.\u001b[0m\u001b[0mndim\u001b[0m \u001b[0;34m==\u001b[0m \u001b[0;36m2\u001b[0m\u001b[0;34m:\u001b[0m\u001b[0;34m\u001b[0m\u001b[0m\n\u001b[0;32m--> 518\u001b[0;31m                 \u001b[0mself\u001b[0m\u001b[0;34m.\u001b[0m\u001b[0mplot2D\u001b[0m\u001b[0;34m(\u001b[0m\u001b[0max\u001b[0m\u001b[0;34m=\u001b[0m\u001b[0max\u001b[0m\u001b[0;34m,\u001b[0m \u001b[0;34m**\u001b[0m\u001b[0mkwargs\u001b[0m\u001b[0;34m)\u001b[0m\u001b[0;34m\u001b[0m\u001b[0m\n\u001b[0m\u001b[1;32m    519\u001b[0m             \u001b[0;32melif\u001b[0m \u001b[0mself\u001b[0m\u001b[0;34m.\u001b[0m\u001b[0mndim\u001b[0m \u001b[0;34m==\u001b[0m \u001b[0;36m3\u001b[0m\u001b[0;34m:\u001b[0m\u001b[0;34m\u001b[0m\u001b[0m\n",
      "\u001b[0;32m~/Dropbox/D.PROGRAMMES/spectrochempy/spectrochempy/core/plotters/plot2d.py\u001b[0m in \u001b[0;36mplot2D\u001b[0;34m(data, **kwargs)\u001b[0m\n\u001b[1;32m     75\u001b[0m     \u001b[0;31m# show projections\u001b[0m\u001b[0;34m\u001b[0m\u001b[0;34m\u001b[0m\u001b[0m\n\u001b[0;32m---> 76\u001b[0;31m     \u001b[0mproj\u001b[0m \u001b[0;34m=\u001b[0m \u001b[0mkwargs\u001b[0m\u001b[0;34m.\u001b[0m\u001b[0mget\u001b[0m\u001b[0;34m(\u001b[0m\u001b[0;34m'proj'\u001b[0m\u001b[0;34m,\u001b[0m \u001b[0mpm\u001b[0m\u001b[0;34m.\u001b[0m\u001b[0mplot\u001b[0m\u001b[0;34m.\u001b[0m\u001b[0mshow_projections\u001b[0m\u001b[0;34m)\u001b[0m\u001b[0;34m\u001b[0m\u001b[0m\n\u001b[0m\u001b[1;32m     77\u001b[0m \u001b[0;34m\u001b[0m\u001b[0m\n",
      "\u001b[0;31mNameError\u001b[0m: name 'pm' is not defined",
      "\nDuring handling of the above exception, another exception occurred:\n",
      "\u001b[0;31mValueError\u001b[0m                                Traceback (most recent call last)",
      "\u001b[0;32m<ipython-input-10-b82456399abb>\u001b[0m in \u001b[0;36m<module>\u001b[0;34m()\u001b[0m\n\u001b[0;32m----> 1\u001b[0;31m \u001b[0mnew\u001b[0m\u001b[0;34m.\u001b[0m\u001b[0mplot\u001b[0m\u001b[0;34m(\u001b[0m\u001b[0;34m)\u001b[0m\u001b[0;34m\u001b[0m\u001b[0m\n\u001b[0m",
      "\u001b[0;32m~/Dropbox/D.PROGRAMMES/spectrochempy/spectrochempy/core/dataset/ndio.py\u001b[0m in \u001b[0;36mplot\u001b[0;34m(self, ax, figsize, fontsize, kind, **kwargs)\u001b[0m\n\u001b[1;32m    523\u001b[0m \u001b[0;34m\u001b[0m\u001b[0m\n\u001b[1;32m    524\u001b[0m             raise ValueError('The specified plotter '\n\u001b[0;32m--> 525\u001b[0;31m                              'for kind `{}` was not found!'.format(kind))\n\u001b[0m\u001b[1;32m    526\u001b[0m \u001b[0;34m\u001b[0m\u001b[0m\n\u001b[1;32m    527\u001b[0m         \u001b[0;31m# -------------------------------------------------------------------------\u001b[0m\u001b[0;34m\u001b[0m\u001b[0;34m\u001b[0m\u001b[0m\n",
      "\u001b[0;31mValueError\u001b[0m: The specified plotter for kind `generic` was not found!"
     ]
    }
   ],
   "source": [
    "new.plot()"
   ]
  },
  {
   "cell_type": "markdown",
   "metadata": {},
   "source": [
    "We can change or add labels to axes after creation of the dataset"
   ]
  },
  {
   "cell_type": "code",
   "execution_count": 28,
   "metadata": {},
   "outputs": [
    {
     "data": {
      "text/html": [
       "<table><tr><td>title</td><td>Time-on-stream</td></tr>\n",
       "<tr><td>coordinates</td><td>[       0    0.606 ...,     59.4       60]</td></tr>\n",
       "<tr><td>units</td><td>min</td></tr>\n",
       "<tr border=0><td>labels</td><td>[0:00:00 0:00:36.363636 ..., 0:59:23.636364 1:00:00]</td></tr>\n",
       "</table>\n"
      ],
      "text/plain": [
       "Axis([       0,    0.606, ...,     59.4,       60]) min"
      ]
     },
     "execution_count": 28,
     "metadata": {},
     "output_type": "execute_result"
    }
   ],
   "source": [
    "from datetime import datetime, timedelta\n",
    "axe1.labels = [timedelta(minutes=t) for t in axe1.data]\n",
    "axe1"
   ]
  },
  {
   "cell_type": "code",
   "execution_count": 29,
   "metadata": {},
   "outputs": [
    {
     "data": {
      "text/plain": [
       "array(datetime.timedelta(0, 727, 272727), dtype=object)"
      ]
     },
     "execution_count": 29,
     "metadata": {},
     "output_type": "execute_result"
    }
   ],
   "source": [
    "axe1[20].labels\n",
    "#todo: this should be a single object not a a zeooD array!!!!"
   ]
  },
  {
   "cell_type": "markdown",
   "metadata": {},
   "source": [
    "Dataset can be transposed"
   ]
  },
  {
   "cell_type": "code",
   "execution_count": 30,
   "metadata": {
    "run_control": {
     "frozen": false,
     "read_only": false
    }
   },
   "outputs": [
    {
     "data": {
      "text/html": [
       "<table>\n",
       "<tr><td>       author</td><td> christian@MacBook-Pro-de-Christian.local</td></tr>\n",
       "<tr><td>       created</td><td> 2017-07-06 03:06:17.584112</td></tr>\n",
       "<tr><td>       last modified</td><td> 2017-07-06 03:06:17.584127</td></tr>\n",
       "<tr><td>  description</td><td> Dataset example created for this tutorial.  It's a 3-D dataset (with\n",
       "               dimensionless intensity)</td></tr>\n",
       "<tr><td>data</td><td><table><tr><td>title</td><td> Absorbance</td></tr>\n",
       "<tr><td>shape</td><td> 10 x 100</td></tr>\n",
       "<tr><td>units</td><td> AU</td></tr>\n",
       "<tr><td>values</td><td>\n",
       "         [[ 5.4e-27 5.29e-27 ..., 7.46e-28 7.31e-28]\n",
       "          [2.25e+04 2.21e+04 ..., 3.11e+03 3.05e+03]\n",
       "          ..., \n",
       "          [6.75e+04 6.62e+04 ..., 9.32e+03 9.14e+03]\n",
       "          [   9e+04 8.82e+04 ..., 1.24e+04 1.22e+04]]</td></tr>\n",
       "</table></td></tr><tr><td>       axis 0</td><td>         <table><tr><td>title</td><td>Wavelength</td></tr>\n",
       "         <tr><td>coordinates</td><td>[   4e+03 3.67e+03 ..., 1.33e+03    1e+03]</td></tr>\n",
       "         <tr><td>units</td><td>cm<sup>-1</sup></td></tr>\n",
       "         </table>\n",
       "</td></tr>\n",
       "<tr><td>       axis 1</td><td>         <table><tr><td>title</td><td>Time-on-stream</td></tr>\n",
       "         <tr><td>coordinates</td><td>[       0    0.606 ...,     59.4       60]</td></tr>\n",
       "         <tr><td>units</td><td>min</td></tr>\n",
       "         </table>\n",
       "</td></tr>\n"
      ],
      "text/plain": [
       "NDDataset([[ 5.4e-27, 5.29e-27, ..., 7.46e-28, 7.31e-28],\n",
       "           [2.25e+04, 2.21e+04, ..., 3.11e+03, 3.05e+03],\n",
       "           ..., \n",
       "           [6.75e+04, 6.62e+04, ..., 9.32e+03, 9.14e+03],\n",
       "           [   9e+04, 8.82e+04, ..., 1.24e+04, 1.22e+04]])"
      ]
     },
     "execution_count": 30,
     "metadata": {},
     "output_type": "execute_result"
    }
   ],
   "source": [
    "newT = new.T\n",
    "newT"
   ]
  },
  {
   "cell_type": "code",
   "execution_count": 32,
   "metadata": {
    "run_control": {
     "frozen": false,
     "read_only": false
    },
    "scrolled": false
   },
   "outputs": [
    {
     "data": {
      "application/javascript": [
       "/* Put everything inside the global mpl namespace */\n",
       "window.mpl = {};\n",
       "\n",
       "mpl.get_websocket_type = function() {\n",
       "    if (typeof(WebSocket) !== 'undefined') {\n",
       "        return WebSocket;\n",
       "    } else if (typeof(MozWebSocket) !== 'undefined') {\n",
       "        return MozWebSocket;\n",
       "    } else {\n",
       "        alert('Your browser does not have WebSocket support.' +\n",
       "              'Please try Chrome, Safari or Firefox ≥ 6. ' +\n",
       "              'Firefox 4 and 5 are also supported but you ' +\n",
       "              'have to enable WebSockets in about:config.');\n",
       "    };\n",
       "}\n",
       "\n",
       "mpl.figure = function(figure_id, websocket, ondownload, parent_element) {\n",
       "    this.id = figure_id;\n",
       "\n",
       "    this.ws = websocket;\n",
       "\n",
       "    this.supports_binary = (this.ws.binaryType != undefined);\n",
       "\n",
       "    if (!this.supports_binary) {\n",
       "        var warnings = document.getElementById(\"mpl-warnings\");\n",
       "        if (warnings) {\n",
       "            warnings.style.display = 'block';\n",
       "            warnings.textContent = (\n",
       "                \"This browser does not support binary websocket messages. \" +\n",
       "                    \"Performance may be slow.\");\n",
       "        }\n",
       "    }\n",
       "\n",
       "    this.imageObj = new Image();\n",
       "\n",
       "    this.context = undefined;\n",
       "    this.message = undefined;\n",
       "    this.canvas = undefined;\n",
       "    this.rubberband_canvas = undefined;\n",
       "    this.rubberband_context = undefined;\n",
       "    this.format_dropdown = undefined;\n",
       "\n",
       "    this.image_mode = 'full';\n",
       "\n",
       "    this.root = $('<div/>');\n",
       "    this._root_extra_style(this.root)\n",
       "    this.root.attr('style', 'display: inline-block');\n",
       "\n",
       "    $(parent_element).append(this.root);\n",
       "\n",
       "    this._init_header(this);\n",
       "    this._init_canvas(this);\n",
       "    this._init_toolbar(this);\n",
       "\n",
       "    var fig = this;\n",
       "\n",
       "    this.waiting = false;\n",
       "\n",
       "    this.ws.onopen =  function () {\n",
       "            fig.send_message(\"supports_binary\", {value: fig.supports_binary});\n",
       "            fig.send_message(\"send_image_mode\", {});\n",
       "            fig.send_message(\"refresh\", {});\n",
       "        }\n",
       "\n",
       "    this.imageObj.onload = function() {\n",
       "            if (fig.image_mode == 'full') {\n",
       "                // Full images could contain transparency (where diff images\n",
       "                // almost always do), so we need to clear the canvas so that\n",
       "                // there is no ghosting.\n",
       "                fig.context.clearRect(0, 0, fig.canvas.width, fig.canvas.height);\n",
       "            }\n",
       "            fig.context.drawImage(fig.imageObj, 0, 0);\n",
       "        };\n",
       "\n",
       "    this.imageObj.onunload = function() {\n",
       "        this.ws.close();\n",
       "    }\n",
       "\n",
       "    this.ws.onmessage = this._make_on_message_function(this);\n",
       "\n",
       "    this.ondownload = ondownload;\n",
       "}\n",
       "\n",
       "mpl.figure.prototype._init_header = function() {\n",
       "    var titlebar = $(\n",
       "        '<div class=\"ui-dialog-titlebar ui-widget-header ui-corner-all ' +\n",
       "        'ui-helper-clearfix\"/>');\n",
       "    var titletext = $(\n",
       "        '<div class=\"ui-dialog-title\" style=\"width: 100%; ' +\n",
       "        'text-align: center; padding: 3px;\"/>');\n",
       "    titlebar.append(titletext)\n",
       "    this.root.append(titlebar);\n",
       "    this.header = titletext[0];\n",
       "}\n",
       "\n",
       "\n",
       "\n",
       "mpl.figure.prototype._canvas_extra_style = function(canvas_div) {\n",
       "\n",
       "}\n",
       "\n",
       "\n",
       "mpl.figure.prototype._root_extra_style = function(canvas_div) {\n",
       "\n",
       "}\n",
       "\n",
       "mpl.figure.prototype._init_canvas = function() {\n",
       "    var fig = this;\n",
       "\n",
       "    var canvas_div = $('<div/>');\n",
       "\n",
       "    canvas_div.attr('style', 'position: relative; clear: both; outline: 0');\n",
       "\n",
       "    function canvas_keyboard_event(event) {\n",
       "        return fig.key_event(event, event['data']);\n",
       "    }\n",
       "\n",
       "    canvas_div.keydown('key_press', canvas_keyboard_event);\n",
       "    canvas_div.keyup('key_release', canvas_keyboard_event);\n",
       "    this.canvas_div = canvas_div\n",
       "    this._canvas_extra_style(canvas_div)\n",
       "    this.root.append(canvas_div);\n",
       "\n",
       "    var canvas = $('<canvas/>');\n",
       "    canvas.addClass('mpl-canvas');\n",
       "    canvas.attr('style', \"left: 0; top: 0; z-index: 0; outline: 0\")\n",
       "\n",
       "    this.canvas = canvas[0];\n",
       "    this.context = canvas[0].getContext(\"2d\");\n",
       "\n",
       "    var rubberband = $('<canvas/>');\n",
       "    rubberband.attr('style', \"position: absolute; left: 0; top: 0; z-index: 1;\")\n",
       "\n",
       "    var pass_mouse_events = true;\n",
       "\n",
       "    canvas_div.resizable({\n",
       "        start: function(event, ui) {\n",
       "            pass_mouse_events = false;\n",
       "        },\n",
       "        resize: function(event, ui) {\n",
       "            fig.request_resize(ui.size.width, ui.size.height);\n",
       "        },\n",
       "        stop: function(event, ui) {\n",
       "            pass_mouse_events = true;\n",
       "            fig.request_resize(ui.size.width, ui.size.height);\n",
       "        },\n",
       "    });\n",
       "\n",
       "    function mouse_event_fn(event) {\n",
       "        if (pass_mouse_events)\n",
       "            return fig.mouse_event(event, event['data']);\n",
       "    }\n",
       "\n",
       "    rubberband.mousedown('button_press', mouse_event_fn);\n",
       "    rubberband.mouseup('button_release', mouse_event_fn);\n",
       "    // Throttle sequential mouse events to 1 every 20ms.\n",
       "    rubberband.mousemove('motion_notify', mouse_event_fn);\n",
       "\n",
       "    rubberband.mouseenter('figure_enter', mouse_event_fn);\n",
       "    rubberband.mouseleave('figure_leave', mouse_event_fn);\n",
       "\n",
       "    canvas_div.on(\"wheel\", function (event) {\n",
       "        event = event.originalEvent;\n",
       "        event['data'] = 'scroll'\n",
       "        if (event.deltaY < 0) {\n",
       "            event.step = 1;\n",
       "        } else {\n",
       "            event.step = -1;\n",
       "        }\n",
       "        mouse_event_fn(event);\n",
       "    });\n",
       "\n",
       "    canvas_div.append(canvas);\n",
       "    canvas_div.append(rubberband);\n",
       "\n",
       "    this.rubberband = rubberband;\n",
       "    this.rubberband_canvas = rubberband[0];\n",
       "    this.rubberband_context = rubberband[0].getContext(\"2d\");\n",
       "    this.rubberband_context.strokeStyle = \"#000000\";\n",
       "\n",
       "    this._resize_canvas = function(width, height) {\n",
       "        // Keep the size of the canvas, canvas container, and rubber band\n",
       "        // canvas in synch.\n",
       "        canvas_div.css('width', width)\n",
       "        canvas_div.css('height', height)\n",
       "\n",
       "        canvas.attr('width', width);\n",
       "        canvas.attr('height', height);\n",
       "\n",
       "        rubberband.attr('width', width);\n",
       "        rubberband.attr('height', height);\n",
       "    }\n",
       "\n",
       "    // Set the figure to an initial 600x600px, this will subsequently be updated\n",
       "    // upon first draw.\n",
       "    this._resize_canvas(600, 600);\n",
       "\n",
       "    // Disable right mouse context menu.\n",
       "    $(this.rubberband_canvas).bind(\"contextmenu\",function(e){\n",
       "        return false;\n",
       "    });\n",
       "\n",
       "    function set_focus () {\n",
       "        canvas.focus();\n",
       "        canvas_div.focus();\n",
       "    }\n",
       "\n",
       "    window.setTimeout(set_focus, 100);\n",
       "}\n",
       "\n",
       "mpl.figure.prototype._init_toolbar = function() {\n",
       "    var fig = this;\n",
       "\n",
       "    var nav_element = $('<div/>')\n",
       "    nav_element.attr('style', 'width: 100%');\n",
       "    this.root.append(nav_element);\n",
       "\n",
       "    // Define a callback function for later on.\n",
       "    function toolbar_event(event) {\n",
       "        return fig.toolbar_button_onclick(event['data']);\n",
       "    }\n",
       "    function toolbar_mouse_event(event) {\n",
       "        return fig.toolbar_button_onmouseover(event['data']);\n",
       "    }\n",
       "\n",
       "    for(var toolbar_ind in mpl.toolbar_items) {\n",
       "        var name = mpl.toolbar_items[toolbar_ind][0];\n",
       "        var tooltip = mpl.toolbar_items[toolbar_ind][1];\n",
       "        var image = mpl.toolbar_items[toolbar_ind][2];\n",
       "        var method_name = mpl.toolbar_items[toolbar_ind][3];\n",
       "\n",
       "        if (!name) {\n",
       "            // put a spacer in here.\n",
       "            continue;\n",
       "        }\n",
       "        var button = $('<button/>');\n",
       "        button.addClass('ui-button ui-widget ui-state-default ui-corner-all ' +\n",
       "                        'ui-button-icon-only');\n",
       "        button.attr('role', 'button');\n",
       "        button.attr('aria-disabled', 'false');\n",
       "        button.click(method_name, toolbar_event);\n",
       "        button.mouseover(tooltip, toolbar_mouse_event);\n",
       "\n",
       "        var icon_img = $('<span/>');\n",
       "        icon_img.addClass('ui-button-icon-primary ui-icon');\n",
       "        icon_img.addClass(image);\n",
       "        icon_img.addClass('ui-corner-all');\n",
       "\n",
       "        var tooltip_span = $('<span/>');\n",
       "        tooltip_span.addClass('ui-button-text');\n",
       "        tooltip_span.html(tooltip);\n",
       "\n",
       "        button.append(icon_img);\n",
       "        button.append(tooltip_span);\n",
       "\n",
       "        nav_element.append(button);\n",
       "    }\n",
       "\n",
       "    var fmt_picker_span = $('<span/>');\n",
       "\n",
       "    var fmt_picker = $('<select/>');\n",
       "    fmt_picker.addClass('mpl-toolbar-option ui-widget ui-widget-content');\n",
       "    fmt_picker_span.append(fmt_picker);\n",
       "    nav_element.append(fmt_picker_span);\n",
       "    this.format_dropdown = fmt_picker[0];\n",
       "\n",
       "    for (var ind in mpl.extensions) {\n",
       "        var fmt = mpl.extensions[ind];\n",
       "        var option = $(\n",
       "            '<option/>', {selected: fmt === mpl.default_extension}).html(fmt);\n",
       "        fmt_picker.append(option)\n",
       "    }\n",
       "\n",
       "    // Add hover states to the ui-buttons\n",
       "    $( \".ui-button\" ).hover(\n",
       "        function() { $(this).addClass(\"ui-state-hover\");},\n",
       "        function() { $(this).removeClass(\"ui-state-hover\");}\n",
       "    );\n",
       "\n",
       "    var status_bar = $('<span class=\"mpl-message\"/>');\n",
       "    nav_element.append(status_bar);\n",
       "    this.message = status_bar[0];\n",
       "}\n",
       "\n",
       "mpl.figure.prototype.request_resize = function(x_pixels, y_pixels) {\n",
       "    // Request matplotlib to resize the figure. Matplotlib will then trigger a resize in the client,\n",
       "    // which will in turn request a refresh of the image.\n",
       "    this.send_message('resize', {'width': x_pixels, 'height': y_pixels});\n",
       "}\n",
       "\n",
       "mpl.figure.prototype.send_message = function(type, properties) {\n",
       "    properties['type'] = type;\n",
       "    properties['figure_id'] = this.id;\n",
       "    this.ws.send(JSON.stringify(properties));\n",
       "}\n",
       "\n",
       "mpl.figure.prototype.send_draw_message = function() {\n",
       "    if (!this.waiting) {\n",
       "        this.waiting = true;\n",
       "        this.ws.send(JSON.stringify({type: \"draw\", figure_id: this.id}));\n",
       "    }\n",
       "}\n",
       "\n",
       "\n",
       "mpl.figure.prototype.handle_save = function(fig, msg) {\n",
       "    var format_dropdown = fig.format_dropdown;\n",
       "    var format = format_dropdown.options[format_dropdown.selectedIndex].value;\n",
       "    fig.ondownload(fig, format);\n",
       "}\n",
       "\n",
       "\n",
       "mpl.figure.prototype.handle_resize = function(fig, msg) {\n",
       "    var size = msg['size'];\n",
       "    if (size[0] != fig.canvas.width || size[1] != fig.canvas.height) {\n",
       "        fig._resize_canvas(size[0], size[1]);\n",
       "        fig.send_message(\"refresh\", {});\n",
       "    };\n",
       "}\n",
       "\n",
       "mpl.figure.prototype.handle_rubberband = function(fig, msg) {\n",
       "    var x0 = msg['x0'];\n",
       "    var y0 = fig.canvas.height - msg['y0'];\n",
       "    var x1 = msg['x1'];\n",
       "    var y1 = fig.canvas.height - msg['y1'];\n",
       "    x0 = Math.floor(x0) + 0.5;\n",
       "    y0 = Math.floor(y0) + 0.5;\n",
       "    x1 = Math.floor(x1) + 0.5;\n",
       "    y1 = Math.floor(y1) + 0.5;\n",
       "    var min_x = Math.min(x0, x1);\n",
       "    var min_y = Math.min(y0, y1);\n",
       "    var width = Math.abs(x1 - x0);\n",
       "    var height = Math.abs(y1 - y0);\n",
       "\n",
       "    fig.rubberband_context.clearRect(\n",
       "        0, 0, fig.canvas.width, fig.canvas.height);\n",
       "\n",
       "    fig.rubberband_context.strokeRect(min_x, min_y, width, height);\n",
       "}\n",
       "\n",
       "mpl.figure.prototype.handle_figure_label = function(fig, msg) {\n",
       "    // Updates the figure title.\n",
       "    fig.header.textContent = msg['label'];\n",
       "}\n",
       "\n",
       "mpl.figure.prototype.handle_cursor = function(fig, msg) {\n",
       "    var cursor = msg['cursor'];\n",
       "    switch(cursor)\n",
       "    {\n",
       "    case 0:\n",
       "        cursor = 'pointer';\n",
       "        break;\n",
       "    case 1:\n",
       "        cursor = 'default';\n",
       "        break;\n",
       "    case 2:\n",
       "        cursor = 'crosshair';\n",
       "        break;\n",
       "    case 3:\n",
       "        cursor = 'move';\n",
       "        break;\n",
       "    }\n",
       "    fig.rubberband_canvas.style.cursor = cursor;\n",
       "}\n",
       "\n",
       "mpl.figure.prototype.handle_message = function(fig, msg) {\n",
       "    fig.message.textContent = msg['message'];\n",
       "}\n",
       "\n",
       "mpl.figure.prototype.handle_draw = function(fig, msg) {\n",
       "    // Request the server to send over a new figure.\n",
       "    fig.send_draw_message();\n",
       "}\n",
       "\n",
       "mpl.figure.prototype.handle_image_mode = function(fig, msg) {\n",
       "    fig.image_mode = msg['mode'];\n",
       "}\n",
       "\n",
       "mpl.figure.prototype.updated_canvas_event = function() {\n",
       "    // Called whenever the canvas gets updated.\n",
       "    this.send_message(\"ack\", {});\n",
       "}\n",
       "\n",
       "// A function to construct a web socket function for onmessage handling.\n",
       "// Called in the figure constructor.\n",
       "mpl.figure.prototype._make_on_message_function = function(fig) {\n",
       "    return function socket_on_message(evt) {\n",
       "        if (evt.data instanceof Blob) {\n",
       "            /* FIXME: We get \"Resource interpreted as Image but\n",
       "             * transferred with MIME type text/plain:\" errors on\n",
       "             * Chrome.  But how to set the MIME type?  It doesn't seem\n",
       "             * to be part of the websocket stream */\n",
       "            evt.data.type = \"image/png\";\n",
       "\n",
       "            /* Free the memory for the previous frames */\n",
       "            if (fig.imageObj.src) {\n",
       "                (window.URL || window.webkitURL).revokeObjectURL(\n",
       "                    fig.imageObj.src);\n",
       "            }\n",
       "\n",
       "            fig.imageObj.src = (window.URL || window.webkitURL).createObjectURL(\n",
       "                evt.data);\n",
       "            fig.updated_canvas_event();\n",
       "            fig.waiting = false;\n",
       "            return;\n",
       "        }\n",
       "        else if (typeof evt.data === 'string' && evt.data.slice(0, 21) == \"data:image/png;base64\") {\n",
       "            fig.imageObj.src = evt.data;\n",
       "            fig.updated_canvas_event();\n",
       "            fig.waiting = false;\n",
       "            return;\n",
       "        }\n",
       "\n",
       "        var msg = JSON.parse(evt.data);\n",
       "        var msg_type = msg['type'];\n",
       "\n",
       "        // Call the  \"handle_{type}\" callback, which takes\n",
       "        // the figure and JSON message as its only arguments.\n",
       "        try {\n",
       "            var callback = fig[\"handle_\" + msg_type];\n",
       "        } catch (e) {\n",
       "            console.log(\"No handler for the '\" + msg_type + \"' message type: \", msg);\n",
       "            return;\n",
       "        }\n",
       "\n",
       "        if (callback) {\n",
       "            try {\n",
       "                // console.log(\"Handling '\" + msg_type + \"' message: \", msg);\n",
       "                callback(fig, msg);\n",
       "            } catch (e) {\n",
       "                console.log(\"Exception inside the 'handler_\" + msg_type + \"' callback:\", e, e.stack, msg);\n",
       "            }\n",
       "        }\n",
       "    };\n",
       "}\n",
       "\n",
       "// from http://stackoverflow.com/questions/1114465/getting-mouse-location-in-canvas\n",
       "mpl.findpos = function(e) {\n",
       "    //this section is from http://www.quirksmode.org/js/events_properties.html\n",
       "    var targ;\n",
       "    if (!e)\n",
       "        e = window.event;\n",
       "    if (e.target)\n",
       "        targ = e.target;\n",
       "    else if (e.srcElement)\n",
       "        targ = e.srcElement;\n",
       "    if (targ.nodeType == 3) // defeat Safari bug\n",
       "        targ = targ.parentNode;\n",
       "\n",
       "    // jQuery normalizes the pageX and pageY\n",
       "    // pageX,Y are the mouse positions relative to the document\n",
       "    // offset() returns the position of the element relative to the document\n",
       "    var x = e.pageX - $(targ).offset().left;\n",
       "    var y = e.pageY - $(targ).offset().top;\n",
       "\n",
       "    return {\"x\": x, \"y\": y};\n",
       "};\n",
       "\n",
       "/*\n",
       " * return a copy of an object with only non-object keys\n",
       " * we need this to avoid circular references\n",
       " * http://stackoverflow.com/a/24161582/3208463\n",
       " */\n",
       "function simpleKeys (original) {\n",
       "  return Object.keys(original).reduce(function (obj, key) {\n",
       "    if (typeof original[key] !== 'object')\n",
       "        obj[key] = original[key]\n",
       "    return obj;\n",
       "  }, {});\n",
       "}\n",
       "\n",
       "mpl.figure.prototype.mouse_event = function(event, name) {\n",
       "    var canvas_pos = mpl.findpos(event)\n",
       "\n",
       "    if (name === 'button_press')\n",
       "    {\n",
       "        this.canvas.focus();\n",
       "        this.canvas_div.focus();\n",
       "    }\n",
       "\n",
       "    var x = canvas_pos.x;\n",
       "    var y = canvas_pos.y;\n",
       "\n",
       "    this.send_message(name, {x: x, y: y, button: event.button,\n",
       "                             step: event.step,\n",
       "                             guiEvent: simpleKeys(event)});\n",
       "\n",
       "    /* This prevents the web browser from automatically changing to\n",
       "     * the text insertion cursor when the button is pressed.  We want\n",
       "     * to control all of the cursor setting manually through the\n",
       "     * 'cursor' event from matplotlib */\n",
       "    event.preventDefault();\n",
       "    return false;\n",
       "}\n",
       "\n",
       "mpl.figure.prototype._key_event_extra = function(event, name) {\n",
       "    // Handle any extra behaviour associated with a key event\n",
       "}\n",
       "\n",
       "mpl.figure.prototype.key_event = function(event, name) {\n",
       "\n",
       "    // Prevent repeat events\n",
       "    if (name == 'key_press')\n",
       "    {\n",
       "        if (event.which === this._key)\n",
       "            return;\n",
       "        else\n",
       "            this._key = event.which;\n",
       "    }\n",
       "    if (name == 'key_release')\n",
       "        this._key = null;\n",
       "\n",
       "    var value = '';\n",
       "    if (event.ctrlKey && event.which != 17)\n",
       "        value += \"ctrl+\";\n",
       "    if (event.altKey && event.which != 18)\n",
       "        value += \"alt+\";\n",
       "    if (event.shiftKey && event.which != 16)\n",
       "        value += \"shift+\";\n",
       "\n",
       "    value += 'k';\n",
       "    value += event.which.toString();\n",
       "\n",
       "    this._key_event_extra(event, name);\n",
       "\n",
       "    this.send_message(name, {key: value,\n",
       "                             guiEvent: simpleKeys(event)});\n",
       "    return false;\n",
       "}\n",
       "\n",
       "mpl.figure.prototype.toolbar_button_onclick = function(name) {\n",
       "    if (name == 'download') {\n",
       "        this.handle_save(this, null);\n",
       "    } else {\n",
       "        this.send_message(\"toolbar_button\", {name: name});\n",
       "    }\n",
       "};\n",
       "\n",
       "mpl.figure.prototype.toolbar_button_onmouseover = function(tooltip) {\n",
       "    this.message.textContent = tooltip;\n",
       "};\n",
       "mpl.toolbar_items = [[\"Home\", \"Reset original view\", \"fa fa-home icon-home\", \"home\"], [\"Back\", \"Back to  previous view\", \"fa fa-arrow-left icon-arrow-left\", \"back\"], [\"Forward\", \"Forward to next view\", \"fa fa-arrow-right icon-arrow-right\", \"forward\"], [\"\", \"\", \"\", \"\"], [\"Pan\", \"Pan axes with left mouse, zoom with right\", \"fa fa-arrows icon-move\", \"pan\"], [\"Zoom\", \"Zoom to rectangle\", \"fa fa-square-o icon-check-empty\", \"zoom\"], [\"\", \"\", \"\", \"\"], [\"Download\", \"Download plot\", \"fa fa-floppy-o icon-save\", \"download\"]];\n",
       "\n",
       "mpl.extensions = [\"eps\", \"jpeg\", \"pdf\", \"png\", \"ps\", \"raw\", \"svg\", \"tif\"];\n",
       "\n",
       "mpl.default_extension = \"png\";var comm_websocket_adapter = function(comm) {\n",
       "    // Create a \"websocket\"-like object which calls the given IPython comm\n",
       "    // object with the appropriate methods. Currently this is a non binary\n",
       "    // socket, so there is still some room for performance tuning.\n",
       "    var ws = {};\n",
       "\n",
       "    ws.close = function() {\n",
       "        comm.close()\n",
       "    };\n",
       "    ws.send = function(m) {\n",
       "        //console.log('sending', m);\n",
       "        comm.send(m);\n",
       "    };\n",
       "    // Register the callback with on_msg.\n",
       "    comm.on_msg(function(msg) {\n",
       "        //console.log('receiving', msg['content']['data'], msg);\n",
       "        // Pass the mpl event to the overriden (by mpl) onmessage function.\n",
       "        ws.onmessage(msg['content']['data'])\n",
       "    });\n",
       "    return ws;\n",
       "}\n",
       "\n",
       "mpl.mpl_figure_comm = function(comm, msg) {\n",
       "    // This is the function which gets called when the mpl process\n",
       "    // starts-up an IPython Comm through the \"matplotlib\" channel.\n",
       "\n",
       "    var id = msg.content.data.id;\n",
       "    // Get hold of the div created by the display call when the Comm\n",
       "    // socket was opened in Python.\n",
       "    var element = $(\"#\" + id);\n",
       "    var ws_proxy = comm_websocket_adapter(comm)\n",
       "\n",
       "    function ondownload(figure, format) {\n",
       "        window.open(figure.imageObj.src);\n",
       "    }\n",
       "\n",
       "    var fig = new mpl.figure(id, ws_proxy,\n",
       "                           ondownload,\n",
       "                           element.get(0));\n",
       "\n",
       "    // Call onopen now - mpl needs it, as it is assuming we've passed it a real\n",
       "    // web socket which is closed, not our websocket->open comm proxy.\n",
       "    ws_proxy.onopen();\n",
       "\n",
       "    fig.parent_element = element.get(0);\n",
       "    fig.cell_info = mpl.find_output_cell(\"<div id='\" + id + \"'></div>\");\n",
       "    if (!fig.cell_info) {\n",
       "        console.error(\"Failed to find cell for figure\", id, fig);\n",
       "        return;\n",
       "    }\n",
       "\n",
       "    var output_index = fig.cell_info[2]\n",
       "    var cell = fig.cell_info[0];\n",
       "\n",
       "};\n",
       "\n",
       "mpl.figure.prototype.handle_close = function(fig, msg) {\n",
       "    fig.root.unbind('remove')\n",
       "\n",
       "    // Update the output cell to use the data from the current canvas.\n",
       "    fig.push_to_output();\n",
       "    var dataURL = fig.canvas.toDataURL();\n",
       "    // Re-enable the keyboard manager in IPython - without this line, in FF,\n",
       "    // the notebook keyboard shortcuts fail.\n",
       "    IPython.keyboard_manager.enable()\n",
       "    $(fig.parent_element).html('<img src=\"' + dataURL + '\">');\n",
       "    fig.close_ws(fig, msg);\n",
       "}\n",
       "\n",
       "mpl.figure.prototype.close_ws = function(fig, msg){\n",
       "    fig.send_message('closing', msg);\n",
       "    // fig.ws.close()\n",
       "}\n",
       "\n",
       "mpl.figure.prototype.push_to_output = function(remove_interactive) {\n",
       "    // Turn the data on the canvas into data in the output cell.\n",
       "    var dataURL = this.canvas.toDataURL();\n",
       "    this.cell_info[1]['text/html'] = '<img src=\"' + dataURL + '\">';\n",
       "}\n",
       "\n",
       "mpl.figure.prototype.updated_canvas_event = function() {\n",
       "    // Tell IPython that the notebook contents must change.\n",
       "    IPython.notebook.set_dirty(true);\n",
       "    this.send_message(\"ack\", {});\n",
       "    var fig = this;\n",
       "    // Wait a second, then push the new image to the DOM so\n",
       "    // that it is saved nicely (might be nice to debounce this).\n",
       "    setTimeout(function () { fig.push_to_output() }, 1000);\n",
       "}\n",
       "\n",
       "mpl.figure.prototype._init_toolbar = function() {\n",
       "    var fig = this;\n",
       "\n",
       "    var nav_element = $('<div/>')\n",
       "    nav_element.attr('style', 'width: 100%');\n",
       "    this.root.append(nav_element);\n",
       "\n",
       "    // Define a callback function for later on.\n",
       "    function toolbar_event(event) {\n",
       "        return fig.toolbar_button_onclick(event['data']);\n",
       "    }\n",
       "    function toolbar_mouse_event(event) {\n",
       "        return fig.toolbar_button_onmouseover(event['data']);\n",
       "    }\n",
       "\n",
       "    for(var toolbar_ind in mpl.toolbar_items){\n",
       "        var name = mpl.toolbar_items[toolbar_ind][0];\n",
       "        var tooltip = mpl.toolbar_items[toolbar_ind][1];\n",
       "        var image = mpl.toolbar_items[toolbar_ind][2];\n",
       "        var method_name = mpl.toolbar_items[toolbar_ind][3];\n",
       "\n",
       "        if (!name) { continue; };\n",
       "\n",
       "        var button = $('<button class=\"btn btn-default\" href=\"#\" title=\"' + name + '\"><i class=\"fa ' + image + ' fa-lg\"></i></button>');\n",
       "        button.click(method_name, toolbar_event);\n",
       "        button.mouseover(tooltip, toolbar_mouse_event);\n",
       "        nav_element.append(button);\n",
       "    }\n",
       "\n",
       "    // Add the status bar.\n",
       "    var status_bar = $('<span class=\"mpl-message\" style=\"text-align:right; float: right;\"/>');\n",
       "    nav_element.append(status_bar);\n",
       "    this.message = status_bar[0];\n",
       "\n",
       "    // Add the close button to the window.\n",
       "    var buttongrp = $('<div class=\"btn-group inline pull-right\"></div>');\n",
       "    var button = $('<button class=\"btn btn-mini btn-primary\" href=\"#\" title=\"Stop Interaction\"><i class=\"fa fa-power-off icon-remove icon-large\"></i></button>');\n",
       "    button.click(function (evt) { fig.handle_close(fig, {}); } );\n",
       "    button.mouseover('Stop Interaction', toolbar_mouse_event);\n",
       "    buttongrp.append(button);\n",
       "    var titlebar = this.root.find($('.ui-dialog-titlebar'));\n",
       "    titlebar.prepend(buttongrp);\n",
       "}\n",
       "\n",
       "mpl.figure.prototype._root_extra_style = function(el){\n",
       "    var fig = this\n",
       "    el.on(\"remove\", function(){\n",
       "\tfig.close_ws(fig, {});\n",
       "    });\n",
       "}\n",
       "\n",
       "mpl.figure.prototype._canvas_extra_style = function(el){\n",
       "    // this is important to make the div 'focusable\n",
       "    el.attr('tabindex', 0)\n",
       "    // reach out to IPython and tell the keyboard manager to turn it's self\n",
       "    // off when our div gets focus\n",
       "\n",
       "    // location in version 3\n",
       "    if (IPython.notebook.keyboard_manager) {\n",
       "        IPython.notebook.keyboard_manager.register_events(el);\n",
       "    }\n",
       "    else {\n",
       "        // location in version 2\n",
       "        IPython.keyboard_manager.register_events(el);\n",
       "    }\n",
       "\n",
       "}\n",
       "\n",
       "mpl.figure.prototype._key_event_extra = function(event, name) {\n",
       "    var manager = IPython.notebook.keyboard_manager;\n",
       "    if (!manager)\n",
       "        manager = IPython.keyboard_manager;\n",
       "\n",
       "    // Check for shift+enter\n",
       "    if (event.shiftKey && event.which == 13) {\n",
       "        this.canvas_div.blur();\n",
       "        event.shiftKey = false;\n",
       "        // Send a \"J\" for go to next cell\n",
       "        event.which = 74;\n",
       "        event.keyCode = 74;\n",
       "        manager.command_mode();\n",
       "        manager.handle_keydown(event);\n",
       "    }\n",
       "}\n",
       "\n",
       "mpl.figure.prototype.handle_save = function(fig, msg) {\n",
       "    fig.ondownload(fig, null);\n",
       "}\n",
       "\n",
       "\n",
       "mpl.find_output_cell = function(html_output) {\n",
       "    // Return the cell and output element which can be found *uniquely* in the notebook.\n",
       "    // Note - this is a bit hacky, but it is done because the \"notebook_saving.Notebook\"\n",
       "    // IPython event is triggered only after the cells have been serialised, which for\n",
       "    // our purposes (turning an active figure into a static one), is too late.\n",
       "    var cells = IPython.notebook.get_cells();\n",
       "    var ncells = cells.length;\n",
       "    for (var i=0; i<ncells; i++) {\n",
       "        var cell = cells[i];\n",
       "        if (cell.cell_type === 'code'){\n",
       "            for (var j=0; j<cell.output_area.outputs.length; j++) {\n",
       "                var data = cell.output_area.outputs[j];\n",
       "                if (data.data) {\n",
       "                    // IPython >= 3 moved mimebundle to data attribute of output\n",
       "                    data = data.data;\n",
       "                }\n",
       "                if (data['text/html'] == html_output) {\n",
       "                    return [cell, data, j];\n",
       "                }\n",
       "            }\n",
       "        }\n",
       "    }\n",
       "}\n",
       "\n",
       "// Register the function which deals with the matplotlib target/channel.\n",
       "// The kernel may be null if the page has been refreshed.\n",
       "if (IPython.notebook.kernel != null) {\n",
       "    IPython.notebook.kernel.comm_manager.register_target('matplotlib', mpl.mpl_figure_comm);\n",
       "}\n"
      ],
      "text/plain": [
       "<IPython.core.display.Javascript object>"
      ]
     },
     "metadata": {},
     "output_type": "display_data"
    },
    {
     "data": {
      "text/html": [
       "<img src=\"data:image/png;base64,iVBORw0KGgoAAAANSUhEUgAAAoAAAAHgCAYAAAA10dzkAAAAAXNSR0IArs4c6QAAQABJREFUeAHsvVmMJVl63xe5Z1autVdXdW3d093T09OzckhxFS3KJgRYDyIt0/JCG8KA8IMNv9gCTEk0bRnjB28vhi3A0IMBvVCWAQM2YJG2KJEStyGnh7P39Fpd+5qV+55Z/v/OP76MyFtZ1VWVmTeies4pnDon4t689x/fPRHnF993zomiyClbIFsgWyBbIFsgWyBbIFsgWyBbIFsgWyBbIFsgWyBbIFsgWyBbIFsgWyBbIFsgWyBbIFsgWyBbIFsgWyBbIFsgWyBbIFsgWyBbIFsgWyBbIFsgWyBbIFsgWyBbIFsgWyBbIFsgWyBbIFsgWyBbIFsgWyBbIFsgWyBbIFsgWyBbIFsgWyBbIFsgWyBbIFsgWyBbIFsgWyBbIFsgWyBbIFsgWyBbIFsgWyBbIFsgWyBbIFsgWyBbIFsgWyBbIFsgWyBbIFsgWyBbIFsgWyBbIFsgWyBbIFsgWyBbIFsgWyBbIFsgWyBbIFsgWyBbIFsgWyBbIFsgWyBbIFsgWyBbIFsgWyBbIFsgWyBbIFsgWyBbIFsgWyBbIFsgWyBbIFsgWyBbIFsgWyBbIFsgWyBbIFsgWyBbIFsgWyBbIFsgWyBbIFsgWyBbIFsgWyBbIFsgWyBbIFsgWyBbIFsgWyBbIFsgWyBbIFsgWyBbIFsgWyBbIFsgWyBbIFsgWyBbIFsgWyBbIFsgWyBbIFsgWyBbIFsgWyBbIFsgWyBbIFsgWyBbIFsgWyBbIFsgWyBbIFsgWyBbIFsgWyBbIFsgWyBbIFsgWyBbIFsgWyBbIFsgWyBbIFsgWyBbIFsgWyBbIFsgWyBbIFsgWyBbIFsgWyBbIFsgWyBbIFsgWyBbIFsgWyBbIFsgWyBbIFsgWyBbIFsgWyBbIFsgWyBbIFsgWyBbIFsgWyBbIFsgWyBbIFsgWyBbIFsgWyBbIFsgWyBbIFsgWyBbIFsgWyBbIFsgWyBbIFsgWyBbIFsgWyBbIFsgWyBbIFsgWyBbIFsgWyBbIFsgWyBbIFsgWyBbIFsgWyBbIFsgWyBbIFsgWyBbIFsgWyBbIFsgWyBbIFsgWyBbIFsgWyBbIFsgWyBbIFsgWyBbIFsgWyBbIFsgWyBbIFsgWyBbIFsgWyBbIFsgWyBbIFsgWyBbIFsgWyBbIFsgWyBbIFsgWyBbIFsgWyBbIFsgWyBbIFsgWyBbIFsgWyBbIFsgWyBbIFsgWyBbIFsgWyBbIFsgWyBbIFsgWyBbIFsgWyBbIFsgWyBbIFsgWyBbIFsgWyBbIFsgWyBbIFsgWyBbIFsgWyBbIFsgWyBbIFsgWyBbIFsgW6DlFvh/pe+/qWmcVJ19W8rvKv+CcqRnfS3+PpfZAtkC2QLZAtkC2QLZAtkCDVvgb+n7N5XrAPgNbf/PyuPKv6wMCE4ok571Nf91/j9bIFsgWyBbIFsgWyBbIFugUQt8Sd/+nvJvKwcAvqQ6QAj8ReL1/1T5ovKzvBafk8tsgWyBbIFsgWyBbIFsgefaAr3PtXqL/0cqfk15tnYsX1T9A+X52r5vqv6yMsD4LK/VPipXswWyBbIFsgWyBbIFsgWeXwv0P7/Sk/K/r/8BwN9V/g/THv93RMVMbZvqPWXA8Flf4zM6U492nFaug2bne/J2tkC2QLZAtkC2QLZA+yxAlPC68oP2STt4Rc8zAP4bMs+PlbnTUtPaMdWx86i28fw962sdH5c2gb+ru72Q92ULZAtkC2QLZAtkC7TeAi9K4bXWqzwAgc8zAP6bsgcePTx7eOIC+ADDf02ZcG89Efr9HeW3lJ/ltfpnRT15/q5cuVJMTMT8kngpl59EC/z6r/968bWvfe2TeGj5mHaxQP69dzHKJ3hX/r0/wT9ux6HNzc0VZ8+eZe+PbATveQbAr+qHI0f6x6p8Q5nemR+UOpNC/nPlv6zMMjC/rPwsrwGVj0zAXwbAR5rnE/XC4OBg/q0/Ub/o4w8m/96Pt88n7dX8e3/SftF8PI+zwPMMgHMdB3a/3A6aB/iAwi3l95WBwGd9rfO79FFV+gfF/1gcKkbKHT3JHYlTMmquM8Sgt9z3QGVv+a9PZV/6x6vUeaV6Pd4XpV/f+Z5qH/v5tJ1/zx6/Ep8Sr8cr3h+fE2V8Wv1v/Rf8fXV8lS1yLVsgWyBbIFsgWyBboP0WeJ4BsNO6v9KxA2gjFLxbetbXdvssxZ7HBIDDeq1HI0l3jiWNbcrqH1S6qe0N/eP9MCqJv+d/j0iNkr+jTorPCIAzZu78P0AzAC1Kf7I/x/9Xr/hz4zW2/F3sYWtr+5urGp8Xn2B9dSiMI4nPRFX8C+ykNKx6z879frffY6w1iFbvBVQ7/8bvr78n6v7r/gTDfUV/UhNlHEeldvfaL/7iL+7+Qt77ibRA/r0/kT/rIw8q/96PNE1+4RNogeCKT+ChdeWQGPg3+1uzf78YncADWJnTNf9vnAqgMmoZsAKmNhMCPhAUbqV/m6oBiLyL9DBMxWugGWBjILTnznWQJvajwzgVoEMZ9Up3pT8+v1O11aOSWlWiF6hlz6NS/TP5zkp3aKtKqzNQhlbrDY2hPrZtpfp3WCt4HXYOzVaKfusOzWHv6gj4i/gmNFd4SQ2YDAh1vXp9t+3d9lWf47/lPfG+ftWqOq9XWiqNuZYtkC2QLZAt8HQWYAzg5CQPBSv477FRvqf75Ofn3Z8kD2BjVp8sDssHOJqQCBGBawYQI5FhCeDYKHOgB2W1j/dVQNZ5SP5kQ0GAggEhQsd1qDIAGrT4zPjHp1IP3AGhQCRKvt/7rZj/UVjXyBbey9jPO0KzF5asf7JeUjLcDJRws5vmgFeUdYJgQN7OEvva2vxfWRuL86/SzMrfO4/Bmq26Lyl8+D9U9BUDJYTVNRv6jKd+l21bAasVYSO+aT0pDa18E2r5pcPelZ2tE98wf8kx2NL+/2GV2CDs4qEFRkq3j3pb8Z74DcDMne/ZbXv3ff4M/prfKqdsgWyBbIFsgefPAhkA9+E3A6U2i7XUWbvDXi87bjrtqK9vf5PBxZsGsQcJeYYEG30KJbvTBTyio63X+9XpBizZw2f4MDjFp25/mSqGDSNQQJEBA33UrNF1a2Yv+40pFWDUP59vROtgqbmu13hR6TbSBSwFOvG5zvENbPs7DUdWvZvGnftCO5oD7upgVNnDmvuLoW24q+sO24cXzrpBRGMpx0zdpb8B7IrfNGyNutC0s+y0Ne/0eyuND9fQ4/ZhIEVnp262HRI3mFml2wj/O0XpdsE+NGPntWK11Izi0Ol6aOwsA/X5lJ2fT5t2K9hdq/Wj2a/H9qNKv28gvd/tit8mfofyy3ORLZAtkC2QLfCEFsgA+ISGetzbrhU/SGMA6YzwGNlrNJA67H5NDnEnN7hdDgiZ/J5Bvdv7e/Uqf0+nFmP4/J09ApqAhPXUMXuLDnpd/1bLzjpec8dNB17PFRRVHX90ngFraOLfiPyZaA5tIF4cgztgb/N3KA40CjACBey9AivQwb+6Hmuu7zMk1d/jv6vsHoDhPaHZulAKOAMG2NSAEK9V+9ANHDmUWtfNp4bfcKfmtVK/AR/N/LNev+b3V9oNg4AWmqPkV0V1pY1xo7Fd2dqvd27zt/xetrdrYRGsHLZ0zW3jYbvH7xClNfM3HPtuiW8KjZQjyb6jO/bVtdZt7/ZhK0fbiNbH91X6Qs9GsVQs7rLfbSFsH39Xb9M7tQfko6ayt+schdtvvLZbWX9P1PGs5pQtkC2QLfBJsUDlDvikHFF3jyONAbw8+15xZOJo6hQJdtK17YQCQIFMR1bV12v7eL+3d76PfeER6zw0d8x0ZgGSu9WHdrzuzoz340/y++migZZKY8BMaAltod8le6u/WUtHEMcHlAAPhiF3/9SNQKGTzrnSHnrqZWcd3XwG2ZoDHiqtAUNRVnaujqPa579jGxAiBVjZ3vZkVTrAhYf11/fZtrwP27vkfzSTAmCq9hD2dllpq/Ty3mp/aLb9K71VzeBm21rbTt2Vtvp7qjp/Q+amgItEHTL9u1eaK128EscQr0e7qPTz/mgXySC1/2wvvrtqG1EfTHb3cYQ+tuJY/Dp/i5379B1b23psv9CG/bzHv4G1dWpnO46N2k5IrmwdbdparH2nPtoLe2zTet3vq44pj/OsNYZczRY4QAvkMYBF2SMdoJF/FD76reL/SliyIW8cHjk6HjpgUnR0eHAMBnh96BAAMABhSF4V6njdvM/7h8v3s89/w35gLT4XYAG43ElRhmct6n5tpVjQ+jd0et6/8/1oXpNixvHtTHyXO6iASLTQiaFtUF7PQyorzTvr1fs4dhK24Huq7w9NdMzooLTG1eQLmk3v9XH5WOJ4/RlVWD2UY3drDBujI3QPyspj29uD2o/NKav3eDtgjc81/PD9oS8ArK7Zupdk6bpGdNaPl8+oUkBEhNLrOgwL6BrR+NLQZ60+ps46mqPd2cMWevlWt41Ki/f5/7Bzp9ZVqfdvFErreGzwqWyL3UOT2/SEdPs4Yv/O4+BvAcyqTe8EMutBo21KzfsWZWcfC/9XxxavU+4ENlsdD3tosN6wMz5k9GDrsK/LOC4DnI/Xnnq3adqHv7fSR419HA825P9ltelZPaHS72Vf/f28q665srjPwwoS0VHZ01txLLG/Kqv3Zg9mdeblWrZAtoDjU9kOz26B5AG8OXulODpxXJgzuN0Bd36kYc2AGKDoTrm+j05hRZ0GHZr3s8374r3xucCUO3uAh06JDJgFOAKN3kfXtvN1v89hUzTvPpB/J6yFHkp0WiOdb6WPLiz2o9vv282DWWkOjT6GulZ3YvXXh8uOb1iKd9dsrw/fG9l6sae11vdXx8Ix1I8FeAh4D5vbc2Od6A+tobMqbW+2q/cMq33sHkLke+yPqmujHvps1922q2PC7vZghl7wBEirdIWNK+h91GuhvQ6V1ecG+Bhvdtq6U3N1HHWttnfAZQU7fIdvlgJcdmqt6w2N/i2q9wFDAcJ1zdQrWLNOLBvttF5nn7fjfTvLzrYRNx479XEMtAUfi/XGb+DXYh9bjz4P8WRaZ2iM0joN6lGvtMff+PXqJq8K/Bgr0RQao8Se/OOcq/YNpWsK//v1uLnrtHPezhZouwWyBzAD4F7baALA/2P2a8Wgagyj70yGsJEEZu4M6BBiu1667lFW1CtvX+dn1rft6aFzArgqWKy2Y59fX9vxPsNmdGZ0YtQdlq0g0Zp23wY4B9PIMOt/kg4BSDM6hO6AL2u1RvaF9qoe+zqhku91Z1XpjO2wu7cZxUbnRYl2wOzjh8JWkBZa0e4M2ISugMhq34pe8/sCKgNODA10pXXNaLOuSmd9n18DRuNz6u2hs86Nh7VUWg1f1XF0vl4/Fn6nnalH+tBTaUI/27RZ170dxxH7Hgdm9e8wpIU+A2TYMLTWNcY+2nyAUd1TyWWuApxKdxyD7b9Te2jmPY8Cs7pm33iAXtZQafJxxDZl3f6xn7+M8zA+N+DdWuo2D61Via3jfZRPdh76xmM1tV90YT308q9+HLG/Opb4G5+HFVByY4bN+GdN1h3b1WuVdvSSmf6TU7ZAtyyQATAD4F7bWgLA2dnZXR8PZtChA+NiuqySbBCr9rG9nC64LuM9yx3a6MToWCtoJAhbwdmh9JrBJvb7vU8CCvFldEIej4hma7X2nXW/Zt311zvBzDAZsIUe6pE5nrpu9qP90R6+0NlZGnRCIx1VaKsfh+vu3KK+nMLS9c8jWO/Oq9JtmCGw6d+AYyA4G/vZfpSHr/7Z9XoFOqGFTnhFXXD9OOK1aj+vd4IZ320t6KNDDW1VPfbVS0DyaRK/b0CLS/Rh79AZdRAh9oX2uEHC40erNEzappXuAII4HvQ6+z1PCpJxXLTpgBufdzu1VcdjvdYdx7HSAWYBwAFcO8vKtnW7o/vJQLKuuYJ37Bd6Qjvb9bp/h7B5Z/ib3znsHPZ99PaIWpBt/ShPe+jsLGnTdV3Wbe1Rd+k2UdU9A92fZ6CkTQc4oif0hjZeY99wauvUaCceI9ypK29nC3RaIANgBsDONvG02wkA/8nsf1cc1iQQwwtAM5rqu20z2/dZEh2vPQcGyTWNJwrwMuwslSAJ+Pg1SkKf9cT3ByRW8IXmyFxE0W8YYz9/8SzJXjO8B9a8WgKw9QE5aLVeXov3UUbiM/DAGLgCFl0ObcOjtXv7kPRb89OAb/37AiYNNaGRDsv1KHk96pSd8GsQC60BjJRojO2o876ng4TQTFnXbE0BM2h2Z4tdDQgueR9/F3bC1sBVaDPMAAO0Beu1djrj0D2iX2f3cHxd3251ICXAMcClKkNrgEJ1HJwH9VTBjbUGhBkIQnf1Gq8/ide3/h1R93kI4sRvD8JYW9i5eq3SjuZ6oDuAHWyp7B12DajZqflJvb6hNUqfhyCwtVpfpdvbldbY5nj420i0k0qvgSy029Y+lrA75dPCenwXpUc4owb7ojc0Plyu1F6rQt18CsDOmUg7CM22L9vsj9eq+rOfh3xjTs+HBTIAZgDca0tNAHh59gfF8ESfLlJAGPAVebGsL5Sws6TLaTXZwmBjWGTwuSFsVBcq6jsz+/CePUk46nEH5eHqXFBD48N1JmD4dfQDCfUwIBdUw6F11uHL2oED9Ef5rIAQx8EFHR2RK33o9P7Y53L5IfAlFG89BsTQbpBhn+3v7dFnBoTQHJ4ywwEws6RsW1N27o/t+HtKg03opQOLelUOl/sonxXU4zvp7AEVOlrsGjo7S15b2T6enZDAb22dBq9KX6XfHS6L4HgSUQBo6HjaEm9opRE4qLQbHsCD+A38OuAblz++35rqmgMM0Ekdm0c5vA/n4eYOnYabSrePAd20G/8eTBmppwrGrKuya3Uc9X1PEhauf35n3cCOmrpO29P7Hq4DbvVk33roizJsHPaldH2vYWGfh6BstItoCztLv+59aK6DL7BuPaHrUSXHwXCOR49Brdsi15u1QAbAuAI2+zs8z9/+2BDwxx2YwQaIAbTqmX0LugxVAMnreMzqF6aB1CkZFIc0u9XQVS/H1Gk5P26CysfprL/uC2oFjWgMnYYvtum0QjvQW60xhw5gy5lOFX0+huG039vsJxS8VzhAOzbDE2qthsaoh87Q7GNYkuIK1Ok4DTVoQ3PoH5XCunZD5F6BN+zt0XsGF4MAdq1y5756WJgbBbRWAGYgt43Zb+1+HeDdfYJKaHnSErAyvCyVoIDeChjrmoGGTm8evho0WV9dv+vVfq9F+KS6Hvc+fusAMPRVsIhuw451V8ex8zwEDQ3l1n5oezv2U6J9v+AgbjA69YWt4xiq49k51IGbi9D66HI0HQe/yX6dh/ZD2q6VdtuVbdsZEPPvYFD3r8d5Za2Gw6gzSz6A0XbG1nim96dNc16hqK5vuWwXlKGV15npvfM8xGtqYLS2kWRT9IVWatTJz+qZflz7zq/tboEMgBkAd28ZT743AeDvzP6GQsDHhTbjykAC5USqU3p7TBekpxtv9TgZdEAOoRocVwWMQKJLw2O9vqHLVCTCwAGG6B1WDt2xH83kvXqV4jspDWLcX4dmw6NhLEByUUqtn+OLZG+pgRG9hjBrR3N9336BY3w3HtAKEEMzHRQ6DbvYOuCsPgHBoVM6qNBc1dkXmfft1bsbeikNNXRO6EUrdrXWqvQ+XqtDukeLGXLduQYsRolu6of2rZNFMxoAMeura6a+pNYQx+DtekdbAU1opEONOiBjvejmvfuVfB7iYUJbwID1oZn9QAG/AWUFvPzavanTD1uGxijZbzDgZujZhmE86jgrEKtrrerYGpikdCjYnxTeUsOXbRp6KV3fX3CMYwAGKxvb1tjUdrZ9q9e58azC1x7YYF1orzS7bjvT5p99SEPorJech3V4DGC0bgNjgCP76jee/Obosl4DonWGZsDRx7RfN3B17Z/0egbADIB7beMJAG/OflgMTTxIXru1tOLeXOnBY/U96pQLOrmrZToI+Q4lSAS0gMUARUpngBKP2X4nh4G5wAMt82W5e70+sxmwMhgCM2g07A6XsOhyIuHlfngM6sft8BOdLDoDwha0bf3VfsLtO2HXkIWdAZdxZXRH3duE3/dbs700hJ7QaXuHTkpDA8cDvO+EXTr/SiMdrXXGsfgYRhNE1O2017qBBgyjYw2N2L0z81rl3cV22NAd61itpG7QjfIgOisDjWHAoGi9AY0GMbcfJioY0j2mDVu6IzUwotOZztWwu98Axu+Ejgpewr4G3dAdx1KFfz1O03CIvnqO4xjTL+G1I/e7TXMe2stosLVdsXt9mzrgSPjXEIZnC83oeli79bIfz9h+3ghhZ9p03Fhgb7QBW87YvdrHsQU4YruARXTvtLWPxfv290YoNNOmAxh5Qg46+Wd4pFYdR3UD5zaNXmtmtVa0+9ys9nMj9Gzj0dH3SUgZADMA7rUdP1MImJPVYwXndGECDoEYg+LOck5dBON+uIjSwRJiBLwmlQ2OrrPt/YDlfl9AMRIXRYdR0Tqvi1GAo4/BYON6HcAYt4hWAwwaqU+kjGbq7NuvsCla68lhVGDF2TBGHa2xn98AAIvOiqBXACIlOl2O1I7loMI1DqMaVoBdbI3+5dLmy7Vjic6KcFdoNrRYs/VW2vHuHUQyGAQI2K6h0xDDPjosboQcXqeDxZNbARcAM17bpo43fX9CkJ3Hje3wbgVkoS20GhK8zX7aUVwu8RKF5kMJFjkGtLpkH+BwEOchx2AwsC2tk3o9W3cdwPjdK622ubeBLwMvcLBfYdNOWzuMGqD1aO1ATnUe8iDN0AfQ1AE3NPuxlZ3ftx/b9t7ZC2rYqtt4sQQw76vOQ8LUAV+VZoOXQfeQ2sp+DQXoPE76FgerAxBD585tjifOQ9o14B1wuFOrj4F9hvNqyZ/O737etjMAxhXtefvl2qM3AeCN2R8WxybO6n5q5MCUBTSu6lkCQCIl3sWoR0kYuLqAMkx8Spf+AMQpbVMnu96v036/vQRhBEMjlyMDrkHGmqNuEJvf1sxzekdKvSMJDifStiFsUvoBxrED61zRTmdvfQbdqANgle7Ko0tHXwEi4AUMGG4pXWcIwMHdcVfQOC8YcO7UzX6DjH8hw1dodWmQsWZ072e41N9a/R/QaPAK3cBLZPbt9I4Cg9aIXjrUCWXq49slsHOQbdqh0dAIAMwLBmLbJSATUIANDS9oRHOllzoZqDxIzYbGhVKnAcyad9YDCgDBgK/RpNcgZr1xDPvvga5aB+chg0AAGGxa1xnH4dLjBLFejzTj8Yq28bBm7H9QN25ox3546EIzJbDl0sdBnd8jEi0aW4+mthGa2Y72sv9DAOK7KQMaK62GxtheLI8BLyrv5h/nIVAYmik7617VoL3AmAEwA2D9PHiWegLA35/9O8XAxEo69fkQIGZAHROQNVgcLktAjLrzgE7ug/IQxIEwYmZVj54CDlcSOAKP5NjHY6m443byJBIgC60GR+r17YPyEIQGPJ5AofOsSqCLstqH5y4uRISlgVoy4Lhbya9xkMmeAjxcAIt1VmW1jwstF0/0GAzRHLAVdR/HQXnqwg5o8bi00OcS3QGQ1O2B9tM5DLZ0Smikk7VmIIy6xzEe3AUf29ljR0eKTjpX4Mt1gxiPiPMQAIAAyDW0oBHtBkaX7DsYj3nYmbKCL2wcmnfW66FHYNCgGFoNiaOldo7jIMLodc1AFdDFI/cqzQYu29ygy29CwqNlO4/LotbLMYRm9h3kzQQauKHAyxywFTq9bUhnX0AuIBhAHmBb18trB+V9Ri8J+3nAhfUZtsLOLvkNYryrIdewFYAY9qYEwux9PtjzkDZdaaWdhNaF7TrT7iIBuQGJLt1OYh+2PqgoUGjoLDMAZgDsbBNPu71rCJilXuydu68S2Lqf8loqvb2uTiuSYbGCw6HiSAmKLvt1cnDiH2TiQrSuU3cl6Z3ZUcY+QBJwIOHtNBwe3lHas8ixTBw44KKDzn5ZmgMYXZ/VPqDR4BgQw3jKChKnVI9s6AXGDtJLh16SPYxAS2T07qzH+o3cJFSwOKkOy4DIcUR9PyfqWOHD/wMEDkOHTpeGL+snjE47oq3iEUU3GkOnS+/b74k6DysOzwbemLlaNjACAtgcYAiIMXihL/JkCTDeJrTXjfMQyEUzHb+107lyDGw7Azskg9eElBluAZgKYgy93ehYCTcbtEI3mq3VxwHEMAbajycEuAws1l7XzP6D9NIlw+k/exgBlrAr9dA/n/bHpB1+9wpwK83VMfi51/HZB1WGhxHN1m391TY3zNV44vCIjqU2zZPQd2onRnTwbdphaTTyVHraCcBInZL93GxwHvKP8xAwHCvbSL1EP/7S/XCeZADMALjX83RXAHyaD6XBr+sECEhcLaYFjQDjdLlvWq/j8bJncTB55o7otAUOyUeVgTAWoj4sXNifpQ8edwxoxj8QYLgivdTrJbDIxZ7EuMWRpBGdziPSHvWDmOiSvrjjP4MXsDKTMoAYdZezUhwdK4OmgRcD7qEEi4e1b0r7jqjjHe749IPZZOKQPXKzunCi19n1mbQvAJe53RVsoZMMMLqON+ygL/ZYARsCi2gEXNAc2g0yswnceS/ttQLDKSnE5nXtB+8pt2a8iwTvAIAKGBfLY6AEcWj7hgFDIXojcxzWP3HgHjo0kwAUg0Cl2xDjbbx3aCY5aGdAtGbqhlzKg5jokr644z/AyxBgqA3oolxItq+8dHjCDS3WPZb0Ao+Taf9Be+hCOuBFKNdtA3CxfQ1eroeXDngFaOu6vW1b2+t8sDf06PZ5SAtAXwW3YWe0432kPfMPmA3NLr1NHfjtxo0EbZWbCcOhgRGdbHsf15M4D3uli0A0th7Xv7A5uq39cRNdMgBmAIzz+1nLPQPg03wxFyHDIcB1T6cJoEg5rW2DYyw0ba8ikHU0ZUDR9WNdA0WOjYsQM6DRt5xAEe1kNANi03qHF7jFq2gwPJLKeh3gPehQbvwWXIQYfWQovK/LDTrvl9uuR5jRXkWA5XDKaA5Y7CYooh0YMGwBhugEvFwHwDw+lJOeCyfeTzokdAdwud4tUESzQ42AgGGW0tDlbcLqAV2EoEe3tQKLzj6W7oAimvG+OSw6m7Si15opDY+cq+g2dBlsDVtT6pwCdCe7Bopowa9onQYt6wYOrNsAwyxjWgCA5Rx127s7ni7sTMIbaoAJ4ArtlLRph/sr6DJkhXaXrLJw8J4uK7ZnMQCxrh297AdguDL6PAzICnsbytHdLVBENzPS8dgatsLGQJfrvEYbItk/B2wZwgHE8bLeLVBEB30LLTrg0Forzez3+NBCLZqBEwZESvQ+mOspPjP5Jh81qVyF5NjzI5IO/jbkk23IBID/bPbf07OAefoFHjnWAzyWSuqRGVLdrcSJSojZkHhPJd5ESmDR4GhQZIwUY/2Aw2MPZe5juTPsVsIvYFAEDgEuoNFwuyzdsYyO1y4MSDwqy0bG/pPpwtotzXgVAcWlpBVYRLdL6rH+IotgGBIBRECL0hkPXTc8t2ET7GhPnOHW8EWdDophCw7HANzAlSHxcEc5JT/H/i9RFBo7S4/vInwEIFZQSx3NFSgCt3gsrBvtVWZMbnfPQ7yGBixsO5OgxZrZrjzOhMwDDMek2XXDYjdCz3V7A1UGmNlSr8uFZOs5tR5PYPC8YiAAnYBX1Lmh6I7HKHQDr2g2BBi0AK7IAYqMQzS4GLjGS+0+Bjy3BzdRK7RGaa8iodDQaailXbCPsCiJawOQZd22tYHL9W55btECdAGwYed52Ry7zyfN9ujS/9BvMK7POsPWk9vb3Qg9o5eEHjydaEZvlLfmbha/NPlv85YMgFghp6e2wLYHcEwAuJbg6o7Ku2pwd3ZkVvwiMZ5vuDihjui4SgDxpPIJ5eN6DS9G94DL3jnGyd3dNW+UFyAWGKkAEd3H1I1a/2CXgctwy4xA4PBeRwZ0Z5KdGcuH1/DQNhweUx3dwO6RrgIXgvAoAoSAYlVS5zhm0oUVjwCTWEZL3VECitS7FSpPBtR/dPQO406rJQBd91UabikDyAnSoa8CraNl/UhXgQvddKqM7UNfwKHr3g7PLSH8sVIzwFXXzyvdPg894QJANOBSOuPl90QtgNygQsdvSOQYxlXHv9GNEF20DXeq+EHtsbXWABnaCh6jrXSeAYYGramktToGPKDdAy60M3nBwDVTQos1z6fjmEvtBx+5x6ChF1u7nCjr3QQuNOPFCuAKOxu4fEMRoWduMQNoKeva8YB1s01zw0YbMGzNbtsa3djaM4oZHsQiYG4f1uw6tj5oD2gOAecQMOfXXtI2AE5MUH184qLJqbxa3FYOQKTu7ZgYwtw0Q+EJdVPAoSFxWCUA2e3k8X54EO+UOYCRYwC4HuhCT5eKFxHNgNaJlIFcQ2L3wBb7EFYOSFwS4FawSP2+FG/qgghwAYkGw0PS6jrbh/X6wY+nrP+W9nLRoQKG95QNiItlPcb6BSSOCmbRS+n60a53qAYBxhdNq2UbbqkbuhiW4AHpBBUNWYbZMWk2gB1VyzmYtQnrtu2sowu9FRze397GV0DCw2mNR1JJPfJBLBzeqbFzGyAPKKxKdBvC+C0AKgMWgHhYnSulIRE8oM13MxFatEfLQEvnv6Dzz+VMAi40eRyXARHNkfF6ddM7jm0AV09SABKdsXHUA7hYuiVAC71Ai3XjHT/YlQc6f0N+e0L8tqshK2w8J3uHB5RQ+G6aJ6Sf17qd7JkzINq+1j4ne8fEEGxp21YgzjHsFRIzAGYA3Gt7fyoAfNIvw/MGFK4Ut0pQpPS2vXKM02HmKmB4sixPleUJXTC7e1fNcTE60Z7E2zpxDYrLSTMe0dl06ITBKzAEEI9vb+Nl7HbCW0TIOQBxSbqXBYuUjE+0B4ORiXgPgcPI3gYPup3QxIzngMJF6aVOiYcOrxwdKmHm0W04BBKdWUexm54A7EPnhC8xIBG9hi+X8bQZtAGGgKIBEUgEcpnc1F1wQbcnWAC2AYfT6mCxNZ5me+UIKaNxvARaA+Ix7TssGOsuBKDZoVC8WmgFtKydkslE/BZ4sAIKxxMcAojOTUAANz4O31qvQcB14JHzFAgMKDRsGWrRjeeriTbNLQRaASxrBhJd99izHtl5Qv8MtFXJTdDBrmVKW9gtMUo47AtkhV6OIWY843mzja17MrUNbiS6N2a1rh2vLZ5D6zWIh825qpAIKRsKAfHDUgogon8qtff650U9A2AGwGgLz1oeCAB+nBgu4hs6HQyIt1Lp+s0EjEAAHjnCysNFgCGlM2P7mkh4Eg2FQGLkW6rf0UWeNaMYk0iHDxyerOUTOprugws2Ak7wHgKFVTYkMuqIxJI3hsMTqRyVfraZ5dxtjwt6HAYl5GkwBA4XEijiufVYZ1YiBArHEhgeV0kGbAmPd/8Gwh4MQkZoBQydw5sI+DoEaigcL7WjGQDr5nhEbEwy2IIB1jov6Io6AMbvYO8WHVFA4rFURzNj6JpIdPRA7VyCRECxyrwGTDGOEriaSLqBraOpDu52G7awkcOgBhZ3/gZcjgHPF78GYyUnkmbDbNQJQTdxAxFga73Y21CLZiZbkLhKAyrO2Jvs7W6Hx9FDm8bzBhiiN7LbiMesAuOhMWwc+gnpNpHwJFqrgTx0A43cFNFmAdjJ0rZAbe/cQPHK5OvIzWMAm/jRPgHfmQDw67O/UhyZOKf76tNq/uQz2/Xehk4IQqCEmVeKG8o3d2RGSXFCMFkFKBwpXlBZ5aYAkbAsM5uX5Plc3pFv62gCXIAtNJ/cLke03USYmfZrCMAjd7sExNuqGxbxLpLwIRoKT6RyNGkHco/oV+i+ZwtN9sgBW3ektyoJOwMuwJYBMeCQEv1HGwFENDsEGnBoqLVH7p4Uc5EnlIinAsgCDI+nkjpL5DSRABdP/ghIvKvO1fUIj7N8jL2Ix9Sxot26mwJEYJtgIp3+nLSiF2ihTnicNm/YMtQCiZNJNzdv3R3HHL8pmhwCRWc9cxPk9UsNWwFZaDbUEjJvAhDRTtzEsDItHxe6A8wdHg/YstYj0uyMh67bYeawNUBlz6ftPFtqxu4Oj/eoFUyqLWNj6wUUOYamAJFrGuMRrfV+svXNuevFL0/+BxxWBsD4cXP5VBZIAHh/9m4xPLGkk/m6AOZaWV5PJYug9CT/xCl1QS+W+YxKIPFUeu2pvnGf3mzY4oIOHAKJ17frzBEFEO1BfEGgcloXfLIhsU+vNJEMW8yOu6kMcN1IoLikbQCR15nVDBAeklZnYPFUwpkmNPOdeAoDEBcFtq4DuYxF3JI21rI6KQg4lUrqZNZPbMLbgmZgy2B4O0EioEhmbKIBkTAikHWizEALns/moBbPN2P65kuP57z0Rp3joTMlvGzAQq8z8NWEtwU7G7aYnQgY7swVIBLOMhhGCdQ2MXbSmplVyTxywPBuWVJnUpbDzEykMbQYagFEclNQi27DVsDhPUGAwZbxfT4PWUMAnQZDSjLe0ObOQ8OW4RDNBkU8dNxc0G7xvoVWyinlJqHWsDWbtAKF1u4yPMyEZtEKGKIXu3Mc3YTaHALOIWCuC3tJTxQCBgLXBCmrxdUyXytB8aa+m9AWkz5eVIdvQBwuzqbtfp0WTSUDIiHD67qoByACXDekmM6UIKKhcEQwO6zM9qBO5qYulgZEZiACiDcTIFIHFPF6sqACYxDxIFaAyDEcT3DQlK0Z2r8koDUcAoi3tOeWrGyvJ6FkQ+EpXdiBwxeUT6jddG8Zlk7b8KSSgMIFaZ9XRjPjEA3iDJAHDk+mcjyVJ1Or6fysbm0DiB4bBxhWmbAtnRZeQqBwQrqjpO5nT3d3ElPYBDBhHFzA7FwJtcBiQK3Ds6EZ/cfVPqZ0HjbjXeb390IyhsPZBInUuZ745pIxku70Aa7jKRNyPuhH3IVddysBREOh4dB1xtg6XMuyJgZEw6yhCxBv8jzk1hePVqWZOh46fgfGdE6VUAtoRZ1xk00lzjXG9HVqBhR9HjLC3fAdcEi5397lDIAZAPd6DjwRAH7cl+CcxnNYAeKVVGecHz/RoDrPIUGhwRA4JNx8Qq90d5Zq/TgI1q4m0AIQr6UMLK7pJPaFh3X6gMIq40EEHJtKXFyYyQwQLkmr4RD9dyRpSwDAc2NP6//TqQQSqTcxQSVsBAAwIWVRtl5QNiS6JOwJtNh7iFYA8YWUm5igUmlm0gfzKAHDW8qGQ+osw2JPHB6tU8oAojPrITZ184B2tNkLd1tnHtrvpJK96GIyCkAYGd1MpuB4mkq0AUK01opeaybszHno5W/RDGRRnlQ+JsVNnodbahuM1bojCLir7JKQM+co0GIorOCQbZYyaSphSy96g956vpdAHE9cwKEh67haC+OAu7uWaqd9mPQxk/ROp9J1Ij+AeK/awuGkM+AQ7WBuUzcP6GfSh+EQr+Fd6b6XtDMsgcRIT3TWM57Ep715yACYATA1qD38ty8A+LjvxxNn7+EVnbSAoeFwTZ2poYV17QyFwwJD4HBIEEDYuanExXJdd6UGw6vbJeFmvDCA1oi8nYbDF9WxvqhjOKMTuJnQctiJR+4BhosJDqPE47mqSyULfxBWNiCOSjN1Rso1mfDEGQ5vlCWgeEP2X0wXcSbUEFoOMByTZi+W3YxHC1vZE0e486YygOhMV0UCtIDDiQSILpsMLaPJnjjGZwUc3lbnhLf2nl5jTBzzPYGryIauJibUoJeELuDVoGXdBtu7uqpsqO0yAcFACxxOJu1MuGr2PPTzbIDCKs+oTvjQIU86fwPtlHRTB7SaTIx9M7TcKUHLUAs0AlOM2UNnZOCwydAytgK28R4ChfXMOokk5gJb77EEiWjmOJoaL4km2jRjOut6DbU4HrbUcrmNrPSin3GIu4WWMwBmAKRN7SUdOAA+Thwnw4Y6oADDleKjEhCv688IafEc2/M6Kc6lkrrHHTbnseB48FmsyGu4pJD4soA2PIiElgmHA4QjgtpDypSElgGwJhMeTzyHi0k3cHgtZcZL4tW01/CMMAAwPKPtM7J/cx4LbAVoMXMZIFwQ1Lq8oSOxZ5kwssHwtC7sp1UHDmnSzSUu4oSRgcI56TYc4vG8l0RxeZ8QiFdwiLeW2dbNAS3nIQFxw+GtBIZzCWqZ3b4pm+KzOKmO6FSZ8RweU7tp9jxkjKHhEFsbaGdVEloOOAQKp0rtwOJuHWk3WwugxVjDmaT3tkqAi3VUOQ/7ZF/gECiMTPSk6fNwS+0Y0EIvsGXdgAxdMFAFXKE5yv0Odz7tb2TQIpBsoL2vkgwwgmGEw4GrI6Vmw2Fzww7i+PBsohM7R0mdGx7aAToj982NFBcnP8Wf5kkgYcBcPpUFEgC+M/tVzQJ+XYhyURfOl1S+pIvR+FN90H6/2XDII7Iu6+L4kUpnvImcwAM6EQDC4eLCNhz2Nzh+L46fYfzLAsOlBIZXUklomVnNjAwxFJ5LJXXWQWwyXIFufLSGw6slGKL/ui45y+qS8A29KASoMp7EJj1DaAZMDIeA4XV1UEAiwxDmU0dageGZEg4B2mY9Q7RpJs7MqQ0bDm8KthiXSqeEx4KB5C+olQCIp1Od8XtNJz+ECjBEL9rxeN7V0WypS2JpigBDlzzGrkmgxV6Ew4FBvJyRgUQAjIkcBkPrBRANtM2MOYzfl06ecYb3E2ABWWTG0q4kcMXLeTiB4UmVADlPX2ouFI5u2gBwaFi5nUr0M5mG6xpj4dCMXpc8Rar7a6aGja35ga4dqAYKQzNjau3Bx29oyLK9gUSAsemEZ9marfv63NXir0/+GrIyADb94zyn358A8O7stzUL+K4ujR8qv68LzofptO7RiQoMGgpfVkk+qxO7ufAsdqYjXdeJayi8tF1uaAwO2piQYjAEDi8qn9elqNnOH90EWSowvKw6cHs7HQ+LYh+Sp9P5vMrzOpJmw0JoBgLtLQQOnYFFvHNDukyOqj0AiGPSDiQOtqDzB7aZ0AEQzic4vKY6E2lWZVNGlQGFL6ZyQiWP12sawv3oKWZ13kh5VrrnlAmQM96tDoaTSX8zC6bTJiIZaBkMbzAEZqnz+D2HDQlfnVKLeCFl6k1DONrxtqETuHLJsAMm0mypHRPqBAxfUA3drH7Q/HnocWV0/LeU0Q7c3kmeIW7RDFenVJ6SV4tJYs3N/I32wVNU8HYasgAttN9W/7Kq6wRXD4PhkQSHDD1gPGqzEG6gZbGV2+pNDIeUTArCQ0t4FiBEMyXbTUF4DgHnEHCca89aPjYETDALKFwTFK4XH6h8T+UVfRcTDl7QSQwQfkol+WWdIM3fJXn9QMYbAoaRPxJkrUnzVALCEUGtwRC4Pfysttu3v+Ois6qLI0C4JE+ny8tCLDr/kQSDowJCoPCQPJ48Zq9pDwud/5q6IaBwQboXEhxe1j46f5YrAQqBQ8AQsMVr2GzIkB+MGcv2GAKH19RBEca/m35LJqMAhkChAZEJNM3fOBDSZLzhrPQaDB1axgtK+BggnJTHMMrBFgAL2pjYMVNC4YxgFthi0gejUaek12DoEk9i822aGcsz+gdgkW+kDDCyUDcwiGaDIcMOmlsyqH7xYZweUBhwSMnMa4eUCRkCKy8oA7bH1aabvYH3ebiSIMughXbGeHoCHiFlAxYwi3Zm37fhPFxXe7hbguFtoe2ttI3nlvGGofVoqZnVUw8yZQDMALjX9vVYAHzUhwMsG7o42luIx/DdBIjMjWNe1mDxijJQSPmKLjhHH/VRXd3PxI4VgeyKoHZZmXJDpzDj8+wxfEm4BRwSBmeNw2bvRjEOEFiBIXBIKPx20sYkFIBwVBk4ZGJK06FZNDukjNftijJwSCj8hpBxUxoZt3euzOcTJLYBstDG+obzAkKgEDikzrGwNiNQOCGgJQOHTc5SxsakCCkDhYZDAyIBfRY5AgqnpBUwpGRuatOQhW5CyngLgcKArOVtYAGy0H1aGICn9lgrzkMmcACw90sopMRrSGKG8uESaCkJL7cBsgATZqECh9PSa8+hx3UyAs7eQoMh9aZDs9jSHrj7sqyBdlqQRcYDytIvR6UTkCVT58kuTSfOQ0LK6Lyna4hLlk1bFmoPJDAECtFL9izlnj3LzgCYAXCvjeiZAPBxX7qpS449he+mEjjc1CnhcDJQ+KpygGHzniyOhYVK8BYuCw6X5e0EDD3WsFcXHcAKMHxZ9ZcFA2da0SGB4ExEWZRu8lLSfzVdQFmuZlShb+cL0n5WYNjsWCHszMWdJWsWBLEGw8vSfqWELBY4BgyBQvI5XTybHfxuzUyQYB07wPBKCYdX1CHhFRpR539uGwyBw6YnoaCZBATWwXBG+hkVxw2CvYUvCgEAQyYr4cnae4fkb372//F0Mr7wfgJD4JCbiIAsJnMYCg2GhMCbv0EjbIynE83OhMFvae+m2vCRBIZA4RHZ2iHwNpyHD2TXGV2VDYVRGrJYVhworHLTk1CiReHpnBYY4nmjJDNAhXByACG6jykzCaUNiXA33k2AFt2U3P7gnWWcIUB4LIEh436fbjJYBsAMgHtt4/sOgI8SRDiZUPJa8c523tSF02AIEAKG5NfURR171Md0db/DyZcTFAKGZJ6WwoLMBsOXhQCfSnlQF502dKJAFsvVLApigUKXlwVfm9LMkzoAw5dSbovHMMLJ8wkMP1KHekkXyctSvKxLO49Gu6DL+XnliwkM2+AxpCGyVI2hEDC8rMs6IfAFoTYjsPAWnlOnDyCy7mXzngo0G7IMVzMCWsCQx+cxzpBxb5PSfVgZMGx6XUP0koApJnDgMbwvKCSzNiOJxboBwiPycB5WbovHkDbNc6CBwulSN2FlvHKM2LNmdBsM2+AxxJ6eHHFDoHIj6abE+8kyNcDVUcHsUWkGEtsQlkUzk2TsdbteghbrpHIesqw/mg2FlG3wGKKZyUhM6DAY3pSfliWl7qsP6ZWdT0jzKeGhdeOt3a1vyQCYAZC2tJeUAHBGj4KbnGgmTItPCC+hwfCHqdzUadGrTrQvhVJ4zBUDbVn8lcw241h4pmszHqIYZ7isMZGR8RgyAYXZyTj9+5UHpJFc1Rnk3MzCqnUwXJSnEzBktjJ+OS6Tg+qSGA85KN2ddR7WtNsFaC8N70n+tgLDSyUU2nPIZA6enQwcEp5FL3VGaVUl4c5mxhwGGAKEgCGZhaUBQ56fzDqGPN+AEv1RJ0TblKeWUDceQ4DQmbD9fbXdQWk+rIzmCWXKyXLbZVMTOwIMAwrvS/uCulI6UUYZDgsH8dGinRL9lMwBJkTeVJsGDAMKpwWz4THktqHSaK1MWar0c+1oxutp7xuABRxek37AkLAsi89j0/FUore+zQSVp13g+EmuDU/ynjoY3k26mXFvj+Go2oA1o/fh3NTEDm4QmHQCGKIZMMRbi8eQ0DFaGW/IrOStuZ7iS5M/jSnyLOAnaRD5PQ9ZIAHg1dm/WIxPPEgv9qQLI+EVwrOUJ8s6JUuWsP/gwxh4DPEQbugU2Ez5XtoGDmM/wTkS4GU4BBSBQzJ1HjfmejdgETBclz7WNnQ5ncp1ndKxn8VLnLAiz44EEoFFHslEvSq7AYteqPu+LuVopHy4viH8itSvi48hEVB0Rj9BGECyG7AIGLKaGsGVVV0c0VyVUWcx2K0km4k0hkVAEa0Bi9bthaUPHhYJGzP0nZAyT0dBM2HZeklon8Rj8gIUeZRegCJ1A+OU3nPw5yEeQxa4RueKbO76XNpm3B77WcybRCdFCNzAYsh1HRgDwqak+OCXAMGGBMBZJdCa0V3Ps2o/PFrRiaV20AkYBjACkFFn0spBw6KHR8x36GSb45jX8dDeF9TyfZ0Gy60X3ba5wStgd0yaDxYW0cIEGbThOaQMrdX2QvLgYmk8htYIMBoaDWLVNm3ooBNgiO8eqHU5rxL9VQbEuDnGMxtwy2qYBrB6OaF3dOM85Lay0ofWO3O3il+Y/GuYKwPgQTeaT+jnPxQCZjjrlsDrQRrHckvlbW3XS15blzke6AIzXkLhqbIEEqPOJIrdXdf7bUvmowKGG9JtWAQcqzrASGCUxIPpDIksChuAyHpaDNxmuzsz+wCvDcEAYBiZe791wa63Ad/FUjOXoQoSB5OXEVDE2wjo4lk8+IsQF3xgEFiMDNyuJt2U/AZ+/i/CB/T7GxKP6tKPl3Fn7kYoF82Ekg2LwBc6KQ27LmfTu9DM0jvD0mlgDECk5Ik1eHa78wxSPHIVJDJ5CQhzaWCcUZsOWGSU1hHpA7QAxMjeN6jz9KABBtt5XCodq8EQWHSutitYZAQlsIJ3EdiqMjObAclujPGzZ3xBOq0b7YZHwMt1xlOSAKqAQsPXlFoDAOaSY+hGKJc2DZZbH/Bl2A29nbCIF66CRYNuXXe3QrmEktEGdBkaO8t5taHNZGsAFzg0dAFc1CMz0bA7HlxCtQGK1m7QjWMAypjZTsJbHnopnX0M1Dmi/YTyHALOIeDU8Pbw30MA+DSfxVBi4HBLbuoKGFkjjkemsc+P5OHUwKMIHPZoXIMhkZJxc+xjHbbuDEIHBA2JLAp7W3VgkdLbW+pk6RRoWsCgIfFkKqs6sMjsxO4sp4Bn0bAIHEbm0VJR53FevnD2JQ9dBYcDsruBEVg8Lpt354kk2JB1Dw2K91Te0+X/brntkienkBhRaUA8JnXAF+WxVFLHg9eNZMBdlE5DLSOLoh4lviUSwG1vosGQusHxWCoByW61aaYDGQ4DFKfVaVF3ZhEZEp0PnkSgC0g0NB4tt4FcQv0H6zVKQvQfnSbew6VtSOTRiwGMwO5ceR4W0kXIC72HyxLg8jYQ2a2Z78AJj6azZmsPWGQfdc5D2hFewwqyrNegyDFM6srRvfMQf1cFh4ZatIZmvLwkPMqjCWYNtFGPEujqRjLg8kyM2QSLLGlj+LJ24AsAJuExxJto2JpSCXC5ZOwcPsdunYeExANw0egcx4A3ejG1DfQQwg3ARS8PYmSbMC9h9Ce5+ckAmAFwr+fjngDwSb8cj6EBMcAQSDQoPkiwOK2PIrQBKOJFBA5P6zQxJFL3dvdmdgEwzF7eFOAaEClvaRtQpORJCEAXlyBAkUVuAcVT2nZJvVcnd7cuQFw4GS5vMLyjyxGQ6EydcDpY5tAGd9FAIYDI81OPq2S9Lep4QQ8+FCMhKQFVAOKa9OFF3FmieUVHRjiGUG6AIXqpH0/7qHfDCxqa8dDZk8ijDIFbe0Bdx6u7kN5qUAQS7QUdlk7qLoHbofjIAy9p0fYeAlvA4b2yBBjRj/cWzz5IjjfxiCxOBhJdsg9M6F6bZo1MPHQA1rRygOL97TrHhR6PnzMkMrMZSHQJ3HbHC8qPSFvFb2TAQrfzYtJu8AroAhRHk06gxdqjNNx2B8jRjYcOUGQtxABE11nvc0avO4oCvAKzAYboNXS57MbQBPSSiKMEHAKKVZ5Rq2F4haELz2zlQQS4AEUmmBkWu7kEDjPHCZUDiGgMUGSsn2GXUP9WOg8JOVsrcGjdoXltbqOYmpzCDDkEjBVyemoLGAA/+tVi4vBF3QK+KJ4545J6jxpXT3c8cyivQJFHpxkSH2hguuvX9bo71R6dur2aiWYPIiUZSGSJluPpxHlqSzzjHxgUGZcIIN5McEgZ25s6qUkOPQcYvlCCIiWZcZXd8SaipQJFIPG2Luyszl8vDeSAgMPMhsQARNZIBBq7/XQVgyKQiAeR8k6Z2cYL6pAooWeDIXBIPlFmQv0Huzgr9q0ng+J0CYl3VZKBRtfDCzqgyztwCxiOKFMfkXa2eQ5It4AL7QGKQOFygkT0V3VGI5GAV4MhWo8KCgBF1xnz182bCM5DQDEgkRLIjW08iiS8hXUwBBCZ34p29nfLm4iWAEXAELB1CQQE3M6l34Lz0N5EAIuM5qrs9iQch3INsmgFDl2ieyZBGcdH6Nk6rRlzIyAAAEAASURBVJvZz6G9WyFcdJAARYMWYGigrZccE4kWbY8csGVAdInHmXGV3esP/XQgQHE2aQYWnX0MM3MzxVcn/y6yMwBihZye2gIGwLt/UEyMKly7pVmhm9ecqW/d9wf2qNNMcCgo7DtbAiKlcs/hrkIigh7o7mkrgSFweK2sswYe23fSO3p0KvckKGRx5IBEyhe1H+Dq3p01mh16Dki8UcIiwAgs8ji4jaSJcYiGwoDD0+U2E3AOfpwfWiPFpJZ1wS2AuKbSdbYZF4o3EXRlUsVJZcCQHHW8ud3zcKEbEGC9/goOgcTb29tMwqHj7dfFfHgbDA2I3gbSuwuJ6NnQpT2gkCeTrKgdxzYTXkjY0lBoMKzqeEO7v8gzoWdD4t0SFPEo3pOF8YjOpN8CoMJrGHB4KAHiMW0Du3jHu+dpxoaEngMMmY2LVsMX2j2u0h5QPESAlsHWoIjuI1LcvZs1NNtjhKdougQte0IDurjJIDGZxZqPqGawZZt6tyGRNs2C36HR2g2KrOYXIVwmBaHPegMU2Wa8cHfG+SXj6T80M/KW56oAh5TALc8I5jgYC+hrB7drFRzyDBB752jn3fM05xAwvU9Oe7GAAXB2tpiYoPqItCXPW4JDAPGKclluqb4NiQrPJjg8VyvLek93Bs7X1XP5MSQCiNd04l5N5VYqgURc7CPqVA2FvVr3DDh0yfOOuanqbgIDPCYRQLyuzFILLvEoGhIHdDEHUgDEM8oAokuWxunmHSrWAbgYnwgQOt/cLoHFysPFLGEeHwggUr6gDutU8jB2GwICuCowvJUAcUV62YevgITnjWc040FkDUWX3u7WWMokpPyP5zLbewgc3tFWlHhvDYmEyQ2GJ1SSgUXXm1hYGxwPT+JS0gxw3U2ZMYq0ICARzyFQeEh6nV2nq+12mwa4mHQTgLgoSCQbFqf1KiFnvHKEbI8Kuo4lUKQcUyYU3e0bTNo0HlA0A1gGLupon1abXkt2ZGkc4MpgSHm03J5Kv0O9vXWjDghaL9BVaa9DIiBoSLTWAEaOoxszcDvtwMQQAyJ67wsQndEckMgahOjksXYAoiHRdW7j9iNlAMwAuNd29GQA+CTfsiUPYoJDoBBIvFxm1R8wcF6s3vuC4PC8MmBIpq7ce1wvd5/lPeMZQAQOyVfKDDAygYXxUKw7eG4bDHvLOuMTuw0u/Ax43RiDuCGoNSQCiNe197q6JT/TtleXG8BwIIEhcHimrDOusjuDz9EayV45xvYBh+QbZbZnERgHqAYSZJ1WDdiidJ1h3t1OhkQGbhsKXd7UNt5EZsavp9+fEDOQaFA8pdKZ5XK6DS7YiDC5wfB2Kpel1bDIRCcPnGeGs6HwpLoi4JASsH26JxHs12+CB8ueQ8DwTsp4QXk0X4Sb6U4rOAxIRDvrgfbtl5Qn/hwgEE+i4RCtgJZLJrfYUzSU4BAoNCQCiMcTdLHMT7cT56HHnt0rocslkIgXlGMCxivYQi/Q5bJbk0DqdsGOhsTQaqhFM/CFR5fzzOP57DkcT5oNi/gXmzgPCSmjj+cbGxKnBYpkVn7wWEqwNuAQzRMJFIHyJ7uByACYAbB+rjxLff8A8OO+/cGm+vlbgsKPSjCkLPOWw7ZF75ESCi+oJAOIKntP6ZfubsiWw+Hi80AXmgoMAcTLZb6pd+BFPKSLJt7D88qAIiWZ8YjdDRWhmcTDqew5BBKvlvWrCRTtRewvAfFFlc4DOgagsRvrJVrlzv/xueBBXBXIBiC6zsQhLpigK6HO09twCCTyaD6WSG0i4ftkcg1wyNNX6pmQLonFqXk0n8GwKhmn2ETHBAR4IgiAeEsd/61UAoqsp0iLZ5KHoZBnrZ5UCwcQAdvuTg6K3xRN+FyAQ6DQHkRKjmFar3IDgeoT0npCJYB4stzu7uSg0ExJR28oBAzv6ggoeRQiE5s85MMeOKAQyOI52a53Y73EutaoA1R4DOcT0N5Tad0AF8dDm2VyCk9cMRgeS/Vx6QZ3m0geK0eoFih0po72mAQCCKIZ0HJp3Szr08x5+CDBOIBoMLTNqTPmj8RkmwlpDjCcSJAI2OKt7SsyAGYA3Ov5ZgD88B8WE8fe0Kjdi2p13Q99poN48EDEpQkTCQovVeWG6luGrTQppf9CCYfS2lfmhjyI6OaBTwbEj1R+pDtSIJG6xlLqkukwc8DhBZ24F3TqXtD+ZjyI1ryWYHA9eRF5ri2g6JLQOWMNHWI+q5pzfyqB2u57LqyZronxfHgPr6VyVSWP5tvUZZ9LARNWAgqHBLbAIcDYhAfRmgEXZtvW4fBG2macomGLZR8Aw9MJEkdSSVi/GQ8iuoEtgHBZuitABHJ5Lu+W7MkixMDhqR0lS+E00ZmimfnNFSDe1lkJINqbCGztBETD4WgCWwCx+x5ENKPLoVpD4YI0GxSZsb8qW7IUPB3+cWXDoUtmjzd1HrJEP5MR7m7DYUBirJcYgAgUAomU5CY8iNiZ8wwQRKdzBbbMICYBr3UwBLzQ3JQHEU2MR5xLIDutEu2U9nwCvetzD4pfnfzbvJVO2wfC1o9Q6vkROtaDOFQD4Pd/o5gYuFEUKx/qSqq7jx5dEAc14QMgHHrJ5bDKIcK1zVx40sFvAYiXlKVzA61lfcvPBS16TwgKpbNfuilTVr23mTtTNDvMjNfwkjqpSypdZ2azDkAXedYxMxT26lm31F0e5s8bSQRdPP4QKLyiepSExoHa4RIMz6k8J1hxyVNXmgIAh5kBROAQMHSJF5HAF95Yh5YNhgbEF7WPyTXNeGrt2WKR5OvKPKYKOCQT0p+TLgLjzKoFEM+oPJ0yHsUmxiBGY8RHhPfQgAgk3kzaWRaHY2JCyiFp3JlZJqn7ofzQTJgZjyFguCjtkQk903YYhQgQRh6TfurdWkQ7dNZLQrKMO1wQyPLsY0ogkdJQS7gWuDqZAJHnIlNnQepuj0EM3diSRbX1nIoyAy6u24PYK62MiTMUonlCdULN3ZyBHXopHwbEuzoCNDMZy558ZmGj2R45a0d3t9ZzrOuN+r25u8WxSQ2fygAYJsnlU1pg9xAw4do1ebBWPjAUrrzvcvUjnS2a+dknoAIMR14WHEYGvJqDlgIPIiAIHG5K94bypnSz/YCxTwLX5D2U3gSJlMq9JwW8PU9ptv17+5Y8QcBhlT/UZf9DXZRYPoblQJmkclF3/MDhS2VmJnPf/ol4yk/iEh9QuC6gXZfHc0MlT18hsUj2gMLgOzOah57ym/bv7YzZY/zhqkLiVQYU7V1mAW1D4VnB1tntelPeQ46czpQlbwDC5QSJUbJE0rrsPCStQGHA4Yup3o3H8T3qlzHU8oSHG7UMJN5QuwbE8R8SqgUQT6c8qtLew95HfeyB7+cxfQGFi2oT1BeU15JjBT8+s2pPCVScqRNubsp7iEGA2goObwtYgEPA3N5lJqPgMQQKI7PdJLQAtXg9DVhoNhwSuuU1Qt8TSTNgGBkQ35+JE8/SkDgP8RRa851UBiASl2DdQ4/hAxCteVIlE24O8oY4h4CJ++S0FwvsDoAf94mbuitKcAggAofvudzQrL6eAcHhBYPhyKdUlnlA3rkGQat4oHWeCC9vAIVlps64RJpR72kBorSS+8gA4lm91FynxLLOXubmA5UfaOvDVDJhhct/j0Crr3hZndDLKgFE6he0vzkvLQDAZBSgMDJwiCcRzyJBrQFpNBxSus6cyibThsJaFRheEXQZFLn0E1wOj+GwvJ1DypT9KfLSnGqAqgLDa6o78wQWPECMOzQcGgxHBLY8aeUgO6WPswbg6rGHNwQC12Vd4PC6bE94WZeONLP2jFoDHrgzyoTGWU6ouRsee7WY5AEU3lAGENGNJ25TNh3Tvxd2ZLyHTYVpsaO9WvMCrFs7Mh5EoAUIHJPGiQSHp4QqZECr2fMQPy1QOCedVWb5qZXUBuyFA7LQ7vKgQQt7Pi4xKxhvYeidTdoZG+wn8ODxrIMhcMiklb16aTMApp77cT9Nfu1jLPBsAPi4D92ShxBPYYDhcgmH6yVoDZ2T51CABRiOvKryFa230TQcbgkEr5dwKL0byptkg1aahNIvnYBhKqk3DYdc4rlrBgwBxPdTnfGHgBah5b7kMfyULpwAImWzcEiz2VL3GWC4Ls/nuqCWbYdpCS3jObygjuiiypdSvamJKdHM8cM5tAwYXlH9I2VC44Rp6eaBlADD86qfbxwOCREyW9lQeFWlM6AFADJ7eUTjJJ3PqtsnHM7jDXvisLteGlpY4+56CYfXVMeTyBJIgBZr872YoNBwiOeTEH5zcIiReNQeULgg3XVA5DdgFUTD4elUjqutjAoWu/m0jN1+SIAKGAQQ56R9vswGLUag2ms4Ia0TgkPKAVm7ycRizow9nJPm2QS2t1MJaAFThJEBw8mU0czs/IP1wn2cPRirxxqCwKHB0JrZRyK0bL2h+8nhMANgBsCPa38f9/r+A+DjvpHQ8uoVewyX31WpvPyORp0rdNujiziewwSFAkPKEYFW/9TjPvHgX0uhZcErQLghveRNMnAocEyeQ2ntL3OfSsYiNuntTMoILQOF76vrfK8sL+kVxvAdVgf0ii6Zn1IJGFJvNqwsYdK4XMIhUGg4XEvhcO7+D6kDAgovCgQCDs/pWAb508aSQ8uM2wMKL6dyRSWP5GNsIZ5DgND5QvIeNhlWxlAOLbOO4JUEhksJDgHbgENm/gKF59Tlu2RNxCYTcLimLnRRXs4lZUoy3kSOhxAycDiWvIZAImM9m/V2Yi9Cy4ZCPIfXhSrALYu/r6vljkrvaSHKmbIkJN5sWBnNhJYJJxsMb5QlyzctJ88h3kKDIXBIbtbbiWY8sYSRAw7RDiQGHOI5nJTuem4yrIxm2jRPTkFnlRmjajjEc4i3MDRPdQBtBsAMgLSjvSQD4Mz9YsLPFNzLZ+3tbx9sCAgvlVBYguGK4HBDY+F6deeJpzBB4WsqlRl72Duwt+/c618nOLxeQiFay5xmLffLS8i4SMBQelNWvYFFsTsPcyt5DgHDd3XhfFclgCgwV2LMoaHwVZWvlnDY4NjOUjz30UDhmryd6ykDiZd1CV2VTsYcvqQOFY/hyyrxePK0l+a8WcgGDvEUVnB4KdVZ1gagDSgclseTzAzmpr1ZeNpY63BZtl1KgHhFJSH8OWmmyyQ8e24740FsckIKdrbnkDX5rpYZOARop/UqCzWdSkBoQDyb6k1OSEEziRF8wOG8QNZwiG7dDOuIhnWTBhjiMRyXjclDDUM4mvEr22sIGN4QuAC1PBt9XfrGEhBOSjNgSMlC2c2fh/jqCSsDWjeFXGh3WJlbtPAYTibNwG3zEM5NDSA4s63Z2lnHkeEQgGHf3Hjx85N/g58lzwLGCjk9tQUMgL/15WLikIBl7Lya0qerPCFgGWhuBu320WxqEkfyFv7QHsPlt7Wt8YdMSBnU4tIA4Yh0kw+9LthqHliStjRbGSiUbvKm6iyKzTOW+6W1nlkku2GvIRcdHqe3WbyjDBy6fKALkZezwWP4mjJg+Jry+RYAC6p5tNT76oI+KMv31VHdljbWOzyXgHBQns4B5UGBVpOTUaJN468ADFcEtZGZsUznz2xlQ+FFAddLqd4nbGk6sdTKimAFIIxMiJmnvbCu4ajaw6Fabmqtw7qd8AzhJTQcXpHVr6Q6T1UBAg2F54QuZ1Melqdor2Oz6t//LHWAlmcvA4b1vCpsIXRMSBkgnCjBkAkpTY6RjGNk6eM5teHZBFiUjPGclj1ZqBkP3GnlM6mcUL3JySihmZA3MAgUBhwyBpGryiG16SnZekpayXjimlrrMPRSEgoHaK/NvV+8Ofmz7MoAiBVyemoLGAB5FNyYOpjFy0Ux+wNlwcqsIItyU8AyqAWaAcMpwdXUZ1RXOXzsqb9s3/8AD9z6TUGhdC5JN2BIZjJKrwYzBxCOSC9gyNI2DUNWsgGPz0tQiFZp35D2rRt6SRCeJqJIa3+Z8SL2aH/DiWCFPYU/VAkYvqNL5EdS9UCdz9kSDD+dwJDwMsDYdGLJGryEa/JwGg4pP5TiNellXTKAkPxKgsM+dalNJzoeFsRekU7yciovae+SNI8KBl+SZS+W5UtqMc17WAAW1jtcUnswGH4kyGIS0IzaA9MK8Biel/oLKvF2nmocsvidWc4GT+FC8hxeTnDIU1N0wkknkzoAQzLamY3f/Hnomb/2Gs5J+3zSziMXN6WZRYPPlnBIyVOAhptu0kkbs5UNh9cSGOI9ZBl1xugZCgFDZ/Y1nWjTPB1lJoWSr6tmsHUYfGgbDA+XcMhjAbvt6cwhYM7UnPZigQoAH/cs4BXN0EtACBwqz3xfHjg9dqxf0JjAUFAIGJJHXmgHZG3qea7bYAgcKq9eNUwxtnBEWoFCyuEL2q8xiE2nB2uCwfcNhEAhmSVtdAlNT0Xpl9btrGPoGWxasS6TDHNm8eu31QUBh2+r/q72L6vDZPbm6wKXT2/nHnWnTScu7jxz2V7Dd1WSCYMT5pxIQAgUOhMK1w1QCxL3/YbCD7bLdQ2K75VfYlhQiLdwROHv4RQGZ3JE85dHvIaEkxfl6QQQKVcFuCSHky8mMAQOWeuwDZAFTDH5ZEF6F6SdzMQUWs2wIAsgdDYgNjnbN5olbZrH580JCOd1Prq8JsWrasfjCQyBw8g8N6UNCf/bjDQDhzPyeM4q40lkORiAcEpezijZ04Y2DQTi5QQKZ8rMWD6HZk8lb+HhpJ0QPjdoB7OSRAZAdYFtaMTPsYYnA8BHHeC6ICuBoYAQKCQvKYzVL+9PAsM3BIVlHjmlX6sFPxezlFm2Zklal9GrzALYaGNm8iEgVpoPKbMQds/BnLyPMumu+x8IAHm28oa0bmeFk+XDSLOR+6U1gSGlwvatAEO6JJacAAx/UALi29q3oJOW5Ws+owwcOhMkakNi8sa6YHBNHk6DIWMkp3UJH62B4auqA7UtGGogozGmkHDyssLg5JUUCr8lO+P/uZCgEDAckbdzQFDehk6UGbKsb7goD6fhEG8nC40/kE5mygKGZKCWJ9A0f4OGNjyEgOF8gkMAkZufddmZJ3ZcUId/XvmCdOMVb/4GjXNqVbiCtxAonBPMUmdyCgvBTMjDOZnA8FyqD8iP2IbEYkHAoKHwqkpmsc+qRTMX3GA4Jd1knjzShsQ4SCZz3C91A4g8I1oXZCk8qavFi8pnUmbG8l7BMAMgls1pLxbYGwA+6ps3lg2GCQq/JzBUXlaIs08XF7yEhz+rUplyqB3elYJJKMvyvi1L65Ly4nd15bykFqaOh8knh6Q18uAZ7W9B00uTUDR5Y116ExhKMxNR1LkWfRcEg9I8oEyZQsnNd6I0mS11okChwfD7Kn+ornVRkMVsws+oBA7Jr+kEH+JPGk8sX2MgBAydN3Wpt8cQIHxNSl9TyfjIscb1IoBgMuMLDYbvpXI9jY1kQQ88hq8ofyqVAy3xcuJl44koi4JY4HAphcGvJXsy4QQgJI8pD6VQcvPnIWDIDGpD4SWVl6T9agmGPFLsYoJCykMCgDaM18OgzPUFBmcTFAKGTPZZll0nBCwA4XmV51W+qHOxHeehx+zhebuSoDDAkJU6AdnDJRRSMsu6DYmbnQBD4PC+2gYzlu0xfEFnHmD4YiqB2Se9QcsAmAFwr+37YADwUaqSx1BhzfvfMRRSrmk8HGMMgcHDbzpPChL7mx+7kg5jS2FZJqAkKJTeJUEWT0lhZjJewkPSPKpM2dRzlDvtnTyGH4kDAUJpXleZQsnyZqbZyLL1wOdUl+aGn4QS0ulEH+ju2WD4PZVkezmZbGIg/KzKz+rCyeSTFnhmJX5Tl3aD4dsqf6jM2MgF6TxRQuGnVZJfluaBONxGSzyGjC1clqdzWeFvyg11S4wxNBQChq8qM5ta7bwFiU6UtQwDDBeTp/OWWgFjDAnJviz1n0pl00vWhLnCYzgvWwOFlCxdQ2JMocHwogALmG1+LGfoxmM4Kw8nQBhwiHeLMYYA4WRxIWUWkm6DZxbdgCswSL4v3QDimqzNc0XwEh4W0JLxHja9BmPYGZsy+SSgcFra7eVkOfQzAsKz23C425I1GQAzAEZbetayuwD4KJWMMcRLeP/bhkPGGW6uaFbyRQGhQOWIMuXouXZ43jgOxhgy8WRJmhcBQ2WeozxwUjql9dDnXTLesKf5wePJ9GmMoWB2Q5rXpRc45EkoPeOGwQFpTmAosO1pB4B7jCHr6n23hMLvCrA+UsczqM6fMOxnFRb6nMo3tK8doSA6fo8xfFueIcDwB7rUf6i9W1LNOoavK39anT5ezuaen9x5Om4IUSoofEd11pFckVaeKPKqAAAofFW6Ccm2BcBX5SXE4/aBsPs9ZWaAzwu1pxIMjgkKRwWHQGIbxhdic48xZIbvh4Is4JAxnffUFpj+cEHI8nKCQsYZ8oziNiTaNGMMZ2Vr4JDMEja0A2YkT6ldA4ZTyow5bEtijCFAaCgEaHk2+KbaxgnBFVB4IYHhIW09qeftoI+NMYaMLZyWbqCQjOeTp4cYCgHDs0UxN1IcnkzDULjwzR20rjZ+fk8bRT1HmiakdXb2n/+vxcRrP1UUxxXq7GsLrGjc28KlopgGCsvMLGXCyHgLj3xBWcBCKJkxh21JawKqxW8ZCCnxHtJZMiN5VHpHpRtAbHqB67q9tgSuyVMoOyc4FIwLXdLj8IDCfuUB6e5tyThOqaM78vhCwNCZ5yf3avZmXwJCoPBNbV9sDaw8EJqwluGqgBAopNxUSLZXXedQ8hK+kaCQmclt8RbS8fO8ZDyFS/JwLsvDySPzAHDCx4cU9ibjOWx6get6k15Tl4+XECAEDJmAQqthRrI9ha8IApgBriWZWpI2pNKewg9KMPxQsMJMWR559lIJhkzyac9NA+MfGVtoMLykM/CSFM+rHbOECkAIGBICf0Ftph1DULgRY6Hr+2oTgOG0yiUBOAMj7Ck8L8A6L+2EvtsxjpPzkIkm0/Jsku9J9+25q8XfmPwarXdSOQNgS87j50mGAfD//loxMaPlSG4r9wpWTioEe0Ydfsrq/IfG2nNM6wsCQoU07wuupv/c9S3ByrgmcBz9YgmG0j58vD2amXjCLGSAMPLmjELfZ0oglN5RaR9qkYczhZE/kKdQmjdkZ0qWquk5bBgECPvJr2lfWy7sXCZvCKq+k/JG8W1d6j9UxzOsC/kbyp9XDm9hOzycNNJNXdgDCFeL76tLfU/HwXqAL6sjBQrfUB1vIadrO5LDyO+rU3pbGTBk3Ui8hSwU/ekEhaPydA4obNiW5DAyy768W2aWBZqV5iOCQYCQjJeTBbnb4eGkHbCO4ZxAFk/hrEoW6u4XxlZQSOj7nBS35OZdP/iK2vSszr2ZMoe3kBDylGA2PIZtWKYm2ifPIZ4pgRA4JJyMt5BFrQHCI8lbyGz1dng4cwhYXU/8eLl8JgsYAFkHMJaB2dCYt1uClavfLIpr6vhvyCu0Kug6cqEoXvySoFCg8qLy+Iln+sID+SNgZU4zewHCyCt35HVTOPaItCYwlHYWuu5pSZNhAgdjCRMQSveiMs9Q7tPFJXkJpXtMmUWue9pzYS+2pg2D69ILGKZJJwLANNlEegdk54E3pbk9gOU1DBlT+O0yf1/dKmsBsrA1UPgF5c+pA506kOb5LB/KynosU7MmIFzVeEi8hSxT0y84MRR+NpV9LZnVyzECK3gHDYQGwzVN+OmXXYFBg+Hr0s1jB9sBWOhmAkcFhYS+r6s9DEvzy+rqX1Mm/H2xVYC1LsWEkGd1swAcslQNiVnIE2rXk4JZxhi2JYSMNtYwZNLJjPQaDC+lfWMaYgAUHk5gyE1Pm2508BbekNftUvIUTsvmLFNDyBggdGa2evfHcGYAzADIebWX9DAA7vZpwMo9LZVyTVB49S3D4cLtoph4QTD45aI4q06fcvJ0ewCL41i6KSCUZvI96V4QYA1OllAozUeleUKew572dEbFxlwJhdK7KN2sZQgAMslkTHpHpZvJJ73tCE2k5vJA4zU3FDZel9516WbyCeMNedJJAkJpxlvY2x5PMqP0ttR5bhZ/rsDst1R+W/jCrF4mnHxRHSdQ+AVtt8eTDGBtCE5WFfKOvCnvEI/CG9JYyCGFvMn9aYxeS2501EC8SPQPSm8h4yKvyK4jyUt4SJ7NUWWWq2lLiJA2TTiWEPK8Qt4LysxI1okoTxszkA2FAGJbZseimXAsM5HnEhQChh9o35rszALLryh/KsEhzxJpSyIcu5Aez/ZBAsP70kwIeURtGiA8LBsflm4ejdeWxHnIItHAoMGQyT335ElmcZeLKR9ROa7Q/UHe6GQA5IzMaS8WmNAfzypVHsCn+bRZhQQBwivfcDkrj9aYOsyzAhWA8NyPCQoV5uxp0c+0OlMB4bS0z2mMHuMKj5ZAeEyaJ5i40SIo3BJgMdFkQXZelGZmJJNYlgYoJAOIrYJCLUXDU04SEEozHsMHi7K1xpkOSO+g7Nwvj2GroJDuiAkn30x5Q3D4IC20zMzBLwmsvqjyi4KXFnm/1Qw2pDGAcFXh7w154fBmAoPDCQo/J+143dpzHm6qy8RTuCgP55K8myxX05tGYb2WgBAwZKka1jJsSwKwmGwyL91kAJEbCdYrxFM4ptA34wrbBIW0aGYezyrsPaeMx3BDew7Jk2wofDWV7YJCwt73SiB8X6hF2Pt+gsAAQsoRoVab0opahaHwQ6lncs+t1KKPCmQNhi+pnTBzen/6lgyAGQD32v4n9AHPDoC7ffu8PIMJCAUrlDNXFJdQKPasOvxzX3E5ockEbUrr8/IQ4iWU3nt/Zijs110yUHhMmo9K+/hL7QJZlqdhSZoF6QUMqZOYYDImvWSectI74P1t+D+NK3xHMCi9KcvmPBuZcYQD0jsgWzPppEdA3pLE3f4DdaAbxVslFH5T23d0CWehX6DwyyUUHmmJYstgjUJgkLySoPCKdB4WFH4u5eEU+uaRbG2CwiXB4DvK3xOifH8bCg+l8DGews8KAtqzBBCWZlwhaxUaCt+WNwso3JBWOvvX5XH7tOovJ7htSwOxB4tn3/4wgSFwCBSyNM2kQHZSIW+8hTwruU1pWXgFDN4XxBoKpwWBR5KH8LA8nEDhcIuGcWA7lqIBBp3xKN+Sp/CQgBAofFl+Tta1fLZJPRkAMwDu9fzcfwDcTdG8ZsZeFqhc/lNBocp5hWYPa8LDWXX453/cUDgyudtfNrdvbc5hY4DwLpq1SPSQOnk8hMekGTA8pJB3mxKTYZKnUHoXZGs8hXgFmWAyJs3j0szTTnr25w50Xw79waZcWECh9K5LN+MKH2jSDItXD0rvgHTzpJOe9oCsofCqOs1vCArfUgkUEj5+uQTCL6v8gtBqdF9MtF8fwhNNVhTqXk35W9J9Q1B4Up3m5wWFn1dJ2Ls9oTaOm4ey2VP4XXWljIX8SHYe1T8D4ag8nCxT0yaQBQodPn5bHT5QqPHJUj2exuV9RlDIeMh2gSyeQh53NyMAn02ZST2r8miydt5rwirC3i+pfbRo6ImsiqcQIJxOUPieFM/Ktizx8krKhI/b8nQT2jOJMYR4Cu/Km3xPQMtzklmv0EAIFOLdnPKbH/N/BsAMgI9pHk/0UncAsFMKYwrxDAKEH33dULgi4DqpMWPnf0KeQnX6Z+QJ6h/q/Mtmt1mvMAGhNN+Vdh57N6r1mI5J83FpxlM4iElblDaXBIXytM1LM1DIsjT96uQTEEo35aA8tG1KAGAaUyjNa9LMmMIedTxpPKE0A4V9F7WvPd4roHBLF/NNQeFG8WcqCR8z0eQNweCPqfyK8usClfaENPnJNzT+akVjIFeVKbeEAAMFMx2/ICj8ovIbQpcWLbOUNM8JVr4vyPquOs/vyso3pPm4YOVNgSEZm7frhpJn8jLRZF7h7jnlJQ01YJFtYHBCeicEtEMtGm9K2yC8zeSSGUHsjLyFjCkEtJlkMiXPJhmv4X6FNPnOvSZ7N28lIJyWvYFDHjrIM5CPyrN5JHk3WROyPTeUHDMLQAODd8u8ou0xtYdjsjUZjyHPR66nDIAZAOvt4VnqzQDgbkq3NJOXZWg++hPn69/SrytPFTOPL/wFg+HRloVhAdlFgexdgcod6QYONwRcPP/4uDQfF6xQ721Xp1+sC2SBwXlpXpD29dvybsq249I7Lt1jsnnvzovNbj9ZV/dtLcq2Atk1aV6XZp5s0ntCMCjNg9IMFPZ+/F1zNzUzk9dPNPkzdUJ/qvrb6iwPqeMndPyVlHvVgbYp0YF6rcJvqtv8c2GL4FtYyDI0w9I9LCgcSGPzWuRFlsI1LY2yqFA3UEjJGMNh6RxTyBsoZAHrtnX6G8IrYHBOMDufvJt3BYEnSyAEClnofKRNzUN2ZSbveyUUvi0rX1V7GBcMvp6A8LBKntbbpgTIMvt4Wp5NoJC1CnkMG2HjgEK8hm3yInMe4hm8K1uTCSEzBnVKHtnj0g0U9s7J7nkh6DY1tedOiwHwT/5pMfHFn1En2i73frG27MklCQr/WKClMCwzjc+rwwcK8RQOj7fL6Fua/MBTTQDCO9JMvX/UMJig8Cc1Nk/g0qYEyK4IqBakeV6aF96SOu0DBMdk5wlpHmqXxy2Zb/OWYFCa16QZKHwgLzLh4gFpHpTmFDrWEjUtSg/UFTGecKP4urqlP9VF/bo6I5748BMpM/OYdQvblFjchfUJV6R7ReHudXmC+tR1AoR4CYHCvhZ2+ivqNBcSFH5LHrd3EwAe0jjCMYW7yYMtm8xDp78qjyxAOCuQZVwhOM76hBPSPak8Ik9Wm0CFdromtXgJ7wtmZ5SZizwqnYd10wAQEjpu0xqFaMYriHfwnmwMGC7qBoJH3R0VdB9VuJvQcZvWKEQzQwtYuPqO2jJQeHPuo+KvT/63vARx6+L3o5faEwN6Pm1vAPx7f7OYuPJ9dZhyi78uqHrzp4ris8pHT7XvqGYVdr2kDv/SHzmEvLHiBasvSO9F5WMvtyo0mAzIzOPkJZTuO9K9clen7GuCQkHKCWnmGcht8xIy8xgQBAjn0fyhIPBFeQileVyamWTSN9Ku9pHGEwq416V5TZoJI/fo2jgoIByQZsredo1xo9PfKlgP7eu6vP+JssZAqotncklAYa9m8LYteebxWwpdvSVo+aaOYVFA9WkByo8JCL8srxDPPm6XlxCvIOMIFxTqJq+r0x+SR2VM0E3miSZt8xLi9SF0PCcgnJX2ZXmyBoQnk/Jqkplo0rbJGrTohbTe3/cTFLKAda8sfVjt47DC3VMp3N02b70fdQcQku/L5hwH6xMek42BwkMtWnOT60EOAXOlzGkvFjAAxjIwS5oN+wOFBr+rzvO7f6jlUuRhOf9pw+CbP10UL2lgfl+7PCoFC1dfV7j4Q+kFCu++J7hShwkMkpl9PDC8Fxvt/98yG3b2h4bB29LNo+4G9FMEEFIOtesCmYywelUwKL1zsjMhZNLYV+QhlJ2BwqF2hTOTPhauTh5CaaZMXkIB96D0DqpNsyxNi8YSoplVxjzrGCD8E3VD19SBMsHkLyQoZPHqto0lZObrmrxAKxoDuay8rrFMrE8IDA4nKGRNxUPpJ2nLf/a4Xd4GQp5qAqgQMh6XVxMoZBHrtiUWrjYQfieNKQQSWYYmoHCoZZNisB8L6MwmLyFQ+L0USOZZxwDhEWXq7bthWJdH831Z++2U7SU8nryEQCGzjpu8YcgAmAFwr9emnQDY+WmMy7ssUAEGv6P8wXfU0R+xh/BzP1MUn9H4q5HRzr9qfvu+xuUBgx/+gSeY9AhamVxyEYhVZq3CtqVVgQoh49vSfFvaNxa9YPVJ2fkEmi+0DlSKTYXoWYYmQaF082QTnnk8Ib0T0n1INwyM42xTerAh22pc2xp6lTffkVfwjGFwUJpZo7BnqE2KBYT4Ij4QYv1Ryjz7uEddfn/x48o/maCQofltSxvysAGEK5oUw3hCgljMNh7R+EegsF8elbYlpj0saJb0gvSSN4VYjB8EBsdTyPucbN8uvwOLPRMunlW4m7yqpUZG0pIueAk/L6AFVNo1DplxeSxafV/h7vtqz0w24bnMBsLPqsb4x/adh0tq0wDhXYW6WYqmT/7YI4LvY/JqHpPmQbWSbqUMgBkA99rWHg+Au336/TsGwm//y6L4vsZfAYmAIED4OXX8h1s2vo1j4FF2H2mM2AfSDBQu3y+K058XDErzSz+rUHcLx7fx/GDWJkxAKN0LlwTfr2imtDSflOYpwVVvy7yxeDZ5csmcbDwvzSxDM6D2AAxOSDNh47ZNLqF9bF4tgVCaWZ+wZ1C68RBK86C8sS2bXILkLXU/mylk/IeCwj8VIq6oi2dyyU8p/6Q6/NO8rVVpS75BZhsvJyBkUswddZivCVZ+QkD4FXWlL7UOrvBsMn5wQaFugHBF0DIkuBqTh3Bc3k3Cxu3zxhLOZPHnbysT7n5PbWIsweCUgJBZxzzqrm1pRaPxgEE8hIwppHtnDOEReWQBw7ZNLsF+62od04JvgJC8Ics7bPwZTdZ4Q+3j4JwNGQAzAO71HH56AOz8xpUlh40BQvLcvaL41BeK4vPqPL/wc0Vx6nznXzS/vbmhsLHCrgDhB/9CoPWBwq+Cq5elFyA89YY6/bZ5rjQpY/49PadZmm9J8315Y5lMcgK90s0SNH0Cl7altRsGwjnpJmwMXBEynpBmwsb93btjfmLTbM3qyi5v7JrsvCbP9wN5OlmkOgGh7N136ok/qltvZPoATzDZKADCPxAg8oi4z6jj/2nlnxEQthGu8F39UFD1dXWbX1dn+qG0vlgC4Y8LtD4jBGjXTQ7e2DVN3JlPQPiWuv8fSuG4/hEy/rLym7J1++BqTVhlD+G30iQT2iUTSwDCSc2UHmilB3k5geC0vJqAISjOEjRHpBcoHDlAuHrW85aJGjzn+K4g9q68m0v6f1w3DMcEg8fVnsf3cRJPBsAMgM/aTuPv9g6A8UlRbgiu3tOYvG+r8/zz3y+Kmx8VxYXXBYN/0fmsQKtlY64KZsEydvB96X1fum/Kc8Vs45elGSg8I6Dt648jbE+5JLi6LbC6Kd0sQcNs4xM/IyCUbmYc97dskgaW41nHKWQszXPAlTydLD8zIc14CQc0xKBt6cGqgFD2XZNmoHBLXvB+eZAHpXlIue9c2xSnoDFL0ACDBkIG4jOO8KfV2f+s6qxJ2K5QJnC1ockDwCBQyMxjZhvjIRzR+Ecebdcj9W1L6/IBLQi+5+XZZBkaoHVM3thxhbkJHfe1bOwj9tuUlZlUMiuv5oy8hFuyOBNKpqSXPCjEalsCrliC5p48m/cFhSuqjRcXSiD8nKz8Qivb9LyWygEI7yjPyzOLV/C44BsP4aT0P+vYxwyAGQD3eo7uPwB2KgKuLv1AMPh7zlfe1cQMQeAXf9753GvtA0KOgXGECQil+5rGL40ek2dTmsmsTdhGIFxVaBvv4C2BCuMJewSthIxPSTOzjfvbNQhfVlZPJO8aM43nAELgatETSyalGS/hgOzetpRmG6tNrAKEah9bV2VbheQHpZncf6FtioVWjCN8X13ov1D+lwKAHwgCWX7m50ogxNvW2zrdjCNcVqh7pfhj5e9I4ViCwRGFuXmCSY9QpW1pQ9084WKAkJJpPR5D+BUBy5cEhLpRa1nCF8uahDPSCxSua2tcY9qm5NkkDwnE25Zo0fPFJWHgt4Tg35G37YbszILPn0/5kDxvbbzJYRzhHd0okGc1pGBYCHsiAeGbsjVA2PdEps4AmAHwiRrKY9508ADY+eUAIRAIEH7zn2tsnsZ6PA9AOCtv2/vS/J7yVY0Tex6AkMfZJQ+hNDPbmAkZjB9sMxDyODtCxbPSPKe8OS8g/HF5ZH/eXsJWegi3yokl0rv6zwSElwWBbxoGh/6VVnoIOS031flsFL+foBBvYa+WRDEQ/pzqAGEPb2tV4nF2AOGyJsQwsaQCwp8qgbB9HkIeZ1cB4VsJxQHCCU3iwVPYRg8h3jYmlswo1D2T1n6cTUB4WHoBwjZ6CLnJYTLJtIAQKFxUqJ5H2RkIWeanfR5CTi7CxAGEM5rstRMIL+os3P3GLANgBsC9Xpy7D4CdigHCqwq/vqWOEyBk1jFLz3z5LxXFl5RPX+z8i3Zsz900DL77u/IQarLG+MmieEV6P6UO//Tn2jeGEKsFEN6Qre8ICHuHHC4+Jc2EjNs4hnAbCKUZKNzSmFPWIpyUZjyE/TThliUmw6SZxtKcgBAP4RcVLpbmQeW+F1om2HIMhL+XoHBT4VfGDQ7IQ9hf/Lzqr7QYCP9YQPiHAsJvCaam5CH8SeWfKkPGT+ZN6eYPUgHhnwqy3kpfzYQSAyHL5Qx3U84TfVcFhN8ogXBeelno+csJCNs4hjCA8J5uFABCPISEjI8Kvo8pj7RwFjo/hoHwO/ITMqv7knQek4fwTeXPyebVLPQMgBkAn+jkfcybmgfATnEAIV7Bbwisvv7b6vA3i+Krf68oXlPYtc1pRp38u+rw3/mn8rYJYv/VXy+KN/51tdCe9qpOIePfLwqAkLDxq18VxCq3EQTDiixQzTqEs9I8808Egr+gMZr/WTvHDobmFDLWuNhVtenV/0f2PS2v5m8KCl+Od7SurELGv6dw4O/KtzKjjuhvCwY1lKDFySHjP0pAyGPspopfkxforz7Si9KGQ2GB6nktlzOv2dxz8m4eKf6KOvt/SzDbwjG8pcFYe5AnluAhvCdvLOHi88W/38pQcfzG9ZDxHdm6V37M16R5XI8MbHNi/cE7gsFbAtkl1V4vfkXo+oVifm6+mJycRDr/Kdzzo5da3Ls+Fz9G+wCw02zvfbso/sFvqNNUaOer/1WRJpR0vqdt24SL/7+veabxL/4XAqu/1DaFD+tZ19i7t/8njdf83/U0mP9Ys6H/XXkI2+c92SEcsLr7W/LA/g+aBf3X5Hn9T9ROxna8pZUbjB1c+E0B4KsCwb8jzS+2UmZd1KYG3y8X/7V2zck/9XcFgvJotjxtaqrA/eJ/kW6g6j9SCPAvt9KLWTcjY/HuFP9YQcH/U5MEfkm+n18WqLQvrF3XzM3CXQ0luFz8QwH3l+Sj+nekmK6l3WlGIe53iv9NWseLV4tf1cjMM+0WLHUA4PeL39Itw63i3NxfLV6a/Ak0ZwBs/S/XToHtB8Cw2/f+RCAomOLxdH/zN4vihQvxSnvLe5eK4rf/S3mrrhXFX5EX80I6WdurF2U8tu57/73g9Xf0BJi/pXD8L/3/7J0FnFzV2YffdZdk47pJCBEkwa1IcWihUFoqX4FCW9yKO0GCF3crUCgtXiw4QYoTIAFCiCuxdZudHfme/707IUACSXZn59wyh9/hbmZn77xz5sw9z/2/ctxWMWWzaiYuvYds6FtJdjkIt/aRwKt7bjSZuqJJ6W5F4W5kXuQyL4pRjDMdTHhZYbD/QwQlImTYjHpSYOehUgGxjrcIi2WN3UBW8ReA4MmA4DaOW6z4TKUKPEg82wuoPX/Abbk38Or2DZmKOy+1l8nj/hfguiPpGAc6rWImJoGyiqfbfQDgAAId/sANjvvfwwbiGz+sv99+Wna63kYaABMfZvq4ViPgAeC8iy6y/iefbJkF7rocVrwruYbvHoerEgXikLPdLDy9wtj2HxZPNZtwLsmAMbO9xwMoo779DPf+3bKU3V8uRWGj/MnYcahru7hn47ctknv4q5uJb3yAGwRUTMGgdoFxuQkEQ4+aNV1OjOA+JBedBAi6r2JGvNp9F6JODQIEz+LovorZ5iUIXAOmVAGCp7LQb+TyzPBsU+GTxXYP/3+XFIY/o7DtFAAVM0K03dMgyn+w+eeUJN83ECrmMub0dFTMCmLthuGClzLockvHAHJ5d/kDCoBtHgDOv+wyy/z3v63kmGOs+JBDqB6S7bbpWjRff8Ls/svMtt7L7LcsmkXuuxy83UiexeVXxmK5F8pgt4Fuj7Osa5xLxvY4dvhYTNkeXIA9NnPfZtUaXPQ3Svk8R8meM9lS7xfuq5jaoq7lHkDwFrbQ+yP9cGzOc3qs5fqL2Eu4WC/FJbw1QMVNJMun662VcifVdhWLR54HgrmOx4BpPNtwsi6y2xjrGTgqjwFNNnd9mAHtEBXwHsFp+Qq3B4pb240xz3TabsUJLrKJlHJ+hB2Vf2KVtj9zu8BJm9MAmAbAjk7MFS5gaQ51V19tLc8+a2VnnmmF++1H/oLjfK2i08/dZ/bYTWZ7Hmy2/1EkA+R2dEyS+/eC1y9fwm4AsHJrs11x/RV1T+5rdsbZaz4jSxsVM5Obg01RMUuHd8ZZk3uO8BIyzLG1iQSMQbgty3ZI7ut1xtm160gT87nlQdzC3Njk/46rnPuLZps9xnJ/DarJfoDgMSz0Dtac/Nbnoy3pBII5AGB3+ysLfa9vPcO9f4ZwsC60m4CrRqDqeEbZfRe80kXm2QMkjHwEUB3GWG/F/HB7bVGSyzx7ltGeQHLLzxnrvUBXt7wJaQBMA2BHr1ArALC01FfQokuXWi0u4fCUKdZt/HjL3267jr5G8v++FdffozeavfJv1MCTzXY+EFBxe9H0dh/56CGzV6/ExYq92x9HWJWbd5rf+ABVT3ASrvfyDdju7zx/O7pvPMHBf4RmkVl+DrGCJLoMvgR1Ddtdb7Ea1NfL/Z1HSsbhHt7NdYvRA9uIs7uLNIZ70daOIErwDyzzbnsTpGI2E7dWbdcBUztS1uRIFnr3XfBNqJgL7XrgtQIX67GMdx/n50crWuBsu5MbhcUUGDqSNJFRztusvX2lBi6hEPl69jtUzO2cgdc0AKYBsKNfoO8AYOKEbTNmWM1ZqFOobOWXXGK5I0cmfuXusb7a7B/ErX32jtmfUNhUS9D1FgmbvXUbJW/u8SFwC+LWnM++RcWc/yTb/QFTA35GuRuUqhz3F01r/BAQxCWci+t90IVAVX/XZwfZAPPZKeV84PUr6h8y3jnuZ9/GKWgSAqjaSGDIt9OAlJ85s2iu7gNXAkODPUzdtXtxr/6GqPrfY3Pu6p7uzON1lGBZZDeDrJsQb/cncFv5AG63JpBqFu5sZTcP5UahIADxo62kESk+sAHbR3gq5oYpH+Q0AKYBsKOTcLUAmDhx63vveSCYvd561u2CCyyrd+/Er9w9Lp5ndifuSgHhkcQJDg2A4hOqR8G80mzai7izgddRe7g7vgnLYrjgZ/wdm2+lTuORFME+1HcRJ37v4lEu+NoXANhxuIR3pYbgaZRjcTvY2xvGtk8BQW7IMssBQdzaWUCs4y2G0tNil3hb0BXYBcCJ+3FrMSyus7txsD6LGngsmaF7BgBeYyiYExjte9ED9/FqCLpeOkZTV3sQCwRLQKpKOxQc1HLkdmtCd52Gyi3leCTArczhVLU0AKYBsKNz7wcBUC8QZ9Fsefppq734YivcZx8rPekkyyx0P8bHpn9sdssZbH82yK8hqBIyrrfahWQM41qtR/HZB3jVriKuN9UQVOmYBc/izkat6r8n38wMt61WDcGl95E1TOhA77+Qmf1nbHbbXekNqIpJN3Bzk7sDMYLM7Uz3FZ8oS2YLtQMzWC7zbRyRVIPdnhtYp0zharsWd/Y0oOpM7HZfeY3hgF/ilY6ZgBp4GAC7ewDgNY5j+FWvhmAv6jQOsF+hDLqvvNZQje8LQLCU+NHhdhAWd/33MA2AaQDs6IV0jQAw8SJx3MENd9xhjfSS44+34oMOosqGW4GxCVtXHKX4vPOc2d9R1bbZ248RLCha8Wtnf1hI4sJTLPBl/SgdowQGjq63ZqD1YwCwEQV2M+C1YqzrFrPSA6+LrjGrfoo9qQGrbri0nYfXGEkiD5Asci3xjIe1ZwznOD/WbfYGIDgOJXBr3H6nASddv2iu7SCF0aiq7DJszQYEz0ClGrS2p+jy50fQ1pQx3Ayi9LcTUNjc/x6qAPZCexyAfZ76gb9HxdwlEPC62N60mUB3X+JHlTGc1YXwmgbANAB29OKyVgCYeLFYfb3VXX65hSZOtHISRQp22inxK3ePyhh+5m6z/xBv9+vjzfY4CPUk0117E5ZNfZ6MYaBqFPC68ykoPwFQXmtwV354OgkiKK4qHVPYN/Fu3D2GF7MPNePcOtes8goyswOgvHoZw8Br6AnUQGzPY444Dq8qsxG2h9Cqridx4Y8sl4d5cOXuxPAt024iVXY5SuDmnms4KwDuyhC62gJUTBWQHmAnMt7ux7wqY3iu3UOs3TTiA4/mFsH98B1lDM+1pwDYl6gf+BvScXboEnhNA2DwAfBwLi8EITHXqVpGv4OO7OO1IfwfWkEX/+7vdOv8CH0X+kz6kfSX6Wrf9zv/GV//f50AMPHnkXnzrOaMMyweClm3K66wHOIEnW9NxNopUeSTNxg1jmO2d95kiwKv79xp9jbTY6e/Uobl98GA1wUor1IEB+5DogjZ2dkByHJummI251RgaqBfOiYXiHW9RYFXuYVjC4gPBF5zNnLdYi/3NgQEthFrV2DnoKztHgCbY8QGPoG+dif49zuvu57lrEFtoNzNAsa6mG3a+lFMOisAWc7NFGCZxTZ+GcyMYSxv+Whsrrcw8DqDRJE6luRR9heKdo9MqslpAAw2ACqo5AO6AO9V+s70l+i/oj9GFxBSFZYqq4TX0wV4l9Cvon9If5eOzOJdOR/mWE6Hbr73d/z6G61DAJg4U+idd6zm9NMtb/PNrezccy2rXKY43r6aY3YrrB2Nmh11OXFrYnDHW0ud2YvjAZR3/PjAIds6bjDmKVHky9vNpt9lNpps4aHAq+MqlVeip4Z4xvmEDXTfj7mB3a5vLaeZ0EbYQL2SWipRBC8mUaSnHnW6xdgzooUEkRjOv0Iub1kBKA2iRJFa7s2buCRX2Cle+RinBxnjpLxWsTvHEgClF1u09cBd6frWchrTGmoHzrJbUV03wfl+MI549z0gjeD2F2g5WWDrSIC7gF2dk9HSABhsAJRStxn9lfbJIQJ5ny5Vr4L+Aj2LnmjIEh4sSu2bQRdlNdDV8BMa6aP2KH11vxM4frt1CgDqpEoUafrXv6z+qqus5PDDrfjPf3Y/PlCGT/6vD4Ib/8Ts4LNwV5boUbfb8lnEB7LQZ+UCgsBrEHYU0R7Dky9iaznuXba4kh1FtnB7jGWd9hjW/sJL7/V3FKn4ZTDgtfUpf49hFZEuOhabmSeOt4h9DFadzQVvJMvm2SQCdHfcYipkkXcrt3AMzaeCJJcg7CiiPYYX299RCt7BLaz4wM2dH2fB62KU4gUsb9pfuLftAbxmOm/3cpuEI/vvAPeWuPh+7QFhZxqdBsBgA2BiLggEpfbF6fhvSDnzm+Csvv1nHQSE6rPpl9GH0xNN/9Z5XqKv7ndHJZ680rHTADBxzlhzs9VfeaW1PP+8Vz8wEPGBsZi/o8gj1xMfeEJw4gOnIxw/DbSO2is48YF109C9uZfJ4x5nUwTtIMQHtlX58YEt2D6E+6iiMYnp7u4x3kqSCPM5hHOgeBw7ihAf6HhTaY02XKwhuxKYOpiYNW4i0XxcbyFUquVG0Xwbg1J1Agu9Lqtut1bSRBawc4vgaqCdFIj4wAia61xK3dTZFNzCig/cyO1BxroY+eTz7RmiMSdg84E4sndiTmd0it1pAPzfAMDEZBjLD1ID/0x/LPEgRymDyBCe4rcrx9/QD6evLKEk1MFHvud3e/C7b7dOB8DEC3jxgbiFlTncDSDMqaxM/MrdYzOC6n1AyRRUwaNg8Q23dtfWhGUrxwfujCq4yYF8KzrnApN4iaQcvfjA89iZ4wBcwyeiZuYl5WU69aRNJLfMOQV4rcRuXKw5PTr19Ek5WXQJfoKzWYkWs33f33APj0jKy3TmSSk61V5IegLuswuIAtupM0+flHMJpBrtP7iGbwdMDkFZOzAQKlUDEUNKFCmfcLl2AABAAElEQVRle7Y+1LXLYsRdby1YPIPt8ORiFQjmJcnF2pnj0Iazbrr9A0VnFkEORzJH1uvw6dMAGGwAHNI+A6ToJZrUOz0uyFO7nC4ghEqMq7fXWDFXq/KtkwJ4zDHHWG5urnfyPfbYw9Q7q4XeeMNLFCnYfXcrPe00yyxw/wJjC2ea3chCX4yoqkLSQagf2FyDijkOl+XnZvtdTf1A9++OPRfr1JvMZj0AuF6Am9V9lcqLD6z+D/GBAGDvQ6kfeARXoezO+rok7zxtH+JPOBlo5b6x+FxiGt1XqWIs9M0kiBDcCJZcyoI/KHnj00lnjqFS1dgNIOx7xNmdC6Io1Nvtpl1QllOCZSnZ2dpNJAj1AzWi1YzxLIC7JzcIcg0HoX5gAxrmVEL7CxjpEaYseNaYtWjP41lTVwuHw3bTTVw/fe/fyt5CPfajaBkBfpd/wfZf03df6T1I6ZMr+Ci6YvrIUPCegzS1ogkQZ9BXjg9MuIcf5XHo5RsBEonfJTUGkNdcbYuTaOHVD7zzTis7+2wr3G8/RKoAfHSqH3gXKtUuvyU15zjUk5zVvkdnfrFoitkTJwEnI832uhAXazdnTFutIS1LSF06kxIsVejaf0Op6vjd8Wpfq7N+EW2hfiBfqZoJqIHcJJTt0FlnTt554rGv6wcWoboW/B/wmpm81+ukM7fZfwEqZQrvBlD9FWXN/ZvIMJE6VXYRF+Jy4gPPxJHds5NGI3mnieBcXci2ciFsH2inkm4xPHkv1klnjhGJudDbq/dFlJM/M9bbdNKZk3cahTosYU7PsH8Sh7kHtzU/Z56svJyv2WunFcDgK4ACOUGgXL670oX2Omo2CNyG0lcmpWr+XUdXsshLdFbNFX9Xzs8CxVX9ThSwqjsEyQB1NCstTb4iEK2qslqyhCOzZ1u3a64Jxv7CbWGzh641mwhbHz4eQNHH43hT8euPif16+XKz7biX2OqwYJSNWfYusxfltQ8wtdFZqFVFjg805oXm4hY+lW8pNweVV+Ie7ue+zTEuE40XIay9B2xfwzgHQaWKUD/wbuoH3gsEqiDzz7kwrnxpdHPYmyjwUI3zpsT2Q+v5IxZnu2noSlY125fErV3pOVj72zFYXLLSb938Mcwoz0RZi7DMrWfHc4vQ301DV7Iqymyeheq6lCV7FFFd3W3DlX77wz+mAfCHx8j1Z+yMgR/QuTUnRMDIzfcbK4qn/kkBXLkLENWkGwsQE3/3Uz3Y3kRyq/td4jmJo54bBwBJ4u26Fpo0Kf7VTjvFq04/PR5taOi6F+7IKy1bGI+P+308fu6B8fiS+R05U9f9bagxHn/6rHj8uu3j8XkfdN3rduSVYtF4fNod8fiTm8bjcx6Nx2Oxjpyt6/625qV4/OMt4vEFV8Xj0XDXvW5HXqltajxetUc8XnsMNld35Exd9rfR+LJ4Y/zoeEP8l/FIfEaXvW5HXigWD8Wr4zfG58X3jTfH3+7Iqbrsb2PxWHx5/Nn4p/FfM+L/4V/B+B7WxifHP4gfHp8Vv5P5Eeqy8erICzXFv4q/Hz8//nH8cm+mrOm5tG5r/aYnX71JEINjR/dvAR0bsG+Zo4nTZQrgyq/Nwm6N991nDTfcYGVnnmmFBxwQDLfwpIlUZzzdbKcDzA7EjZbjx06u/N6c+3npl2aPY2u3wWY/Q8Us6u6cid8xqLXabNLZKFUobFtdxyXOfXeUxcK4hbG16hHfLVy+8n3Zd96hGw9ILQ6hbjde6peMKTgENdN9t3AE1aTZUwJ3RKk6BWWt0I3x/B4r2nBWLsctnEHkVw9K3WRT0MT1FiWmUdvKNdlnuCpPY5SDkEQUxeYnqDD5jFWy00wP+4nrw+zZt5SYxi/tHrTL3dgte98fdAunFcBvukcD8SE7ZmTKADAxDtGaGt8tPHOmdb/2WssZ4f4FxiJtZg9fT872v/0kkc0k5DretNBPeQJt+GKznxxttuWhwXALL0cgf18xjbiFNz6LOEz3F3prXeBnC3MJtyHENOb2dXxyYF6sEQjk5qDtbWAbiM0Z47zNSl4IU2etFddwvp0FVv3ceZtlYLO9TnzgFThW98eVc0gg3MItOFjnkZNYQN6t3MJB2E0kTDqOdhNpIzd7PWJHlXjhetOMnmUP4xZ+10aTLdyN/6+upQEwDYCrmxtr+njKATBhaOukSVZ94omWv+OOVnbWWcHIFl62kGzhkwEpQjaPZaEPQrZwa5MPgXPfMfslC32/jRMfgbtHJS98eae/o8jYC9ha7mfu2rqyZbWE6c4FWnseZNYX6M5QaK/jLfIFPoHjAcANyRZmrDPdj/+KoaspSSROHFgBGyUFIVs4DrbWUN2rmRjBHnYeALup4xNDvkaN8ASKMt9DyZjDiFlTQeYM5+1W3cAZbIXXw7YnueV33JblOG9zM/rl5yTk5JJEpN1EVpUtnAbANAB2dCI7A4B6Iyuyhe+6y8ovusgK99yzo++va/7+vRfMbsddudcfKcFyJCk8AVjoVS7mMRb6fig9e46jULD7C72FlqEGEh4bIYlhSxJzigZ2zefbkVeJtZotvIJsYcJ3h5BwUbJFR87WNX/ruYX/iSJ4NRB4BnPjV1xp3V/oI/YWQCUlcB9qwx3nuVq7ZsDW/VXaKAuyzMZ57uAKdvbMQvNxvUXINVxoN5ItPBdX5RnAa6XrJhMsn8gWfgkN8yhGeTPnbZaBi8kWns72fZW4hJUxvPIOKGkATANgRyexUwCYeDPRJUus+tRTLR4KWXeyhbP790/8yt1ja8js/ssoZ/Ky2fHAycgAXGC00L//D7PXUQJ3A2A33j8QC70tft3fTaTy1xSRPgGVyv07emuZyR4+AHfeYOIDL8GVXe7uXE5YFqv1i0hH5+AWJuQhe1jiN84etZdIK8pJmG3DVDswx7Zz1taEYVLWmuw5r35gGcpaiREPHQBlTXGB83Bll7LVWV9Uqkyw2/XWCm5LDcxgZqzHTUJuIIC7BZvvx5E9zTawY5kfld4wpwEwDYAd/b45CYCJN9UycaLVUDy6+KCDrOToo4Oxt/D86WbXHGdWOYoS3hcGY29hFZF+CqWnYbHZATeQLDIo8RG4e9Q+vZ/idp//JGogylrPrdy1NWGZgLvqYbMFl1P0mkSiCgA2AMqahd+niNSJKIH7oLqejM3uA7dfRPpkFvoKQPBi4KR74lNw9qi9RKooGRNmoe+JzbleFTBnzfUMUxymCkgvZxeUgcTZaUeRILQqe5tqh3dYP+Iw+9rPmCfE6zreGrD4U5TXbmDgcPs/a6pvtbKyMlmt/9U7bn5SzHPfL5GUt91pJ3UaAPUu462tVnfZZdby8svW/frrLW/s2E5780k7kRb6Fx7w6wceeh5JF/sm7aU69cSz/mv2Hxb4sWwntwNqVZb7NcusYZbZuwB38RD2Fh5PwoV3QezUYen0k0Xq/NjA1rlU+gS487Hd9RaPtO8t/BBqIOCd676ypiEN25O4Ki9DmzoeoPoNC737S0aImLXldj4Zt9uz2HPjGwBlLQwGzmOcM8HtgXYy+pr7wB1lZswhgaievTnWZz/kIkpJu9605eB84jDnkeHcr/7XNqxsZ5mcBkDXPzhH7XMeABPj1jZtmlUde6zljhlj5ePGWWZxceJX7h7rqsxuPo1YKlxpJ+Bm7TXAXVsTlkXCZq9eZfb5M1SlxOZBmyd+4+5RwD2bjOxPibVTprD2Fw6CstbwLnb/1az7L4jFPCkYruwI0Fqvm4M+xDOiZGaWuzsv2i2LE7PWQvmVqH0BVF1LnN3QANgcpeI/ZbJwZatkTEEAdrjQoNaS4az4wF4kW/Sg+HUQgLuRDOfpdjUUNYaYxkOYH0FwZdfYpPpbbdsyrndpANQYpNs6jIAHgDPeeceGbeW+dE+BTGu8916vdmD5+PHBSRL56DVA8NSvk0Qy3Xc32LIZZo8cQ/Yq2aDaUi6vaB2mVxf/SWsNMZi4skNLqR2IslYUAOCWK3vRNWxs+gRJItcDVQEB7tBj3NgQy1h8JgpmMIA7Yh+SJHIqSuDPPUUwCLtyRMgGXcaewlm4sitIcMnyxJ4u/l6t5ctFGeWFdhPQPQOgOpskEfdDSqSsLWI/5K/sWZJEjkV53WQt33XXPz0dA5iOAezorPMA8OZtt7VRu+1mP6Egc3ae+3c/0aVLvZIxBkgpSSSrZ8+OjkPy/15JIvfhopz8ptlJN7HYj07+a3b0FaSsvXev2Zs3mu2N7aP26OgZu+bvlSTy/slmww81G0FWdgAKG3tJIrOOJmYU4B4EcGcFALiVJFKPwh1bhgbBHMnq3zWfbwdexU8SuQHX8NOogVeRfbtpB87WNX/qJ4lMIElE8V/H4KrcOxDKmpJE5pKI081+Ssnrg3EP53TNgHXgVUK4sqUG5lB+ZRhjnePwNnhpAOSS04HPOv2n6DoMwpn3f/KJ1VOI+fm//tV6jB5tZYPcvmPLLCqyIu0ckp9vVX/6k2Xw75yNNsLrl+HuZ5pNPJ0KRo/YzOxqlLXF88w22IYZ7HCcncZzwFj25d3P31dYhaSH7kD8V6G74yzLigebDTuYZItnAe6LzXpsiUrl+E1CDjFTPf9A0NpXZjMBQWULF6zn9jhn5PuJIZl9qR14GAG7EeoHMr8d/h5msGRk407NJr6uhRImUfvE+7d253C1yY2aS9h/McplvT2AW/jfuIS3AKhKXDXZsysXR3AFJXmabLItwPWuXUT0mMstG7zuZbuQlx0hFecyALDM2djAVuLjLyM+nqb/tbo8rsmyzeEVP1lvuVPP6ymA7AVnpaWlVjdvnj1LnJ0AcJdLL7W8ErcvMBqJWEOD1ZxzjkVmzLCKW26xbMfh1fv0olFq8KECvvhPPzZwA/fd757dnwNUz55r9tNTSLj4rdMLvWev/lczxewdgLvfbmYbknmb5e5Cv8Lm8FJiA08gvo77s8qrgSrg0PUWR+FuuMjfSaTsVkrGrO+6xSzycZTA+1k5b/MyhXNsJ+dtloEt9g5JIheTcft7+u8CoQaGSF2YSxxmIWWN+5PYkolj2PXWBmrPRHVV3cPhJLbkgbMutbQCmHYBd3Q+fgMAdTLF2X364IP29tVX2y6XXGLDdt+9o6/RJX8feustzy1c/Mc/WsmRR+L1y+yS1+3Qi3w1x+yqo1jkR5n9BaUq33FlTW82VO+XjKlbZPYrILbcfbefxQDuqSS0zHmY2EBclT1QqYLQqp6kzM0FqLAEevc4IAgWA4AfowYC3Pn7tpeMcVjhbh/RGOV2m8kCzcDtV2CXACflzo91DAystmuA109RrC5Bqap03mYB93KSWpbaI0QFnoJ+ubnzNsvAavuA7dluBlwPYAcUd9zvaQBMA2BHv0DfAcDECZuIs5tw/PGWU1hou//tb1bQrVviV84eYxSOrmMHkVaSWipuvdVyhg931tYVhinO7tl7fEXwmCtR1n664ldO/zDjNUrGoARue7jZ1n8OhhpYT2LL2wB3BQA49nxUqgKnh9gzLlKLGsg4RzkOBV5z+7hvs1cyhkzy0NPEBnKTEIB9hTWoYXuCwiBXoE0FZ1/hEC7sZWwlV0wtu3IjHCYAUVFhW4IaOB5o7UXJmBOxuNj5OR0FuGfZ7dwozKVkzKncKBD2kOKWBsA0AHZ0Cq4WABMn/uKJJ+x1oGqH886zkb+gXEUAWutHH1k1ruzC/fe3UuIaM4KwNdtyYr8UG1hOrJpAsEgfjeMt3Gz23Di2OvvE7MDbAKtKxw3GvMS+wtPvNNuC7NvewahnZ7Uvo2Diwu53IrGC/xcM4I5MQw08EmglbrT4bGzOdX5+xNB7Wuw0LwaskKLMmY65/VY1gEpsqSHrttneBKkuI87O8dhRfQ35L7Gv8AAgsMy2XdVbc+6xOhTX6cQz9kUJ7OeVuUmdpykNgGkA7OgX5AcBUC/QUlNjz594osUiEduTYsyFFRUdfd2k/328rc3qLr/cWl56yVMDc0eOTPprdvgFpAa+8pDZA1eYHUVc7xbErQWhzXnX31d4yz+iCB5B7FrqLoprPFxN883ewtYy5sWmuN+zA+B+jzYCgWcgVWH70FtIFOm3xm83ZU+M435vRrls+Ve7GrhpykxZmxduo9iuagfmA4O5LPRBaK0UNF5G2ZUi2w018PBAqIFtOIXn4sLOIppRBaSzHU9s0TyI4nhXAekG6kqOYH4U4BxORUsDYBoAOzrv1ggAEy/y5dNP28Tzz7cdzj3XRu4XjItieMoUqzrqKCvE3sCogdVLfDWwpLvZsbjSgqAGtpEE8Bzxags+bFcDhySmjbtHAff0u82mkbSg7eR6/8RdW1e2rG4iIHgqNRqPQw08KCBqIO73OoA7F6Wn+Bxszlv5HTn5c4yyxi12OlpVC8kLV6MG9nDSzpWNUvZqjd2KGvgqauClwOv6K//a2Z+r7Xlq8N1lA9ixpcyC8T2st89RA6+hxM0eIOAvAe6uvfFNA2AaADv6hV4rANSLJdTAKArbXjfcEBw18IorrOWFF6zittssOGrgw6iBl5sdeSmAsntHP+uu+ft575s9CphsQRmWbY8Mjhr4NraWslhuekkwYgOjTf52cqHZlLwBYAOhBsZQA2/iIvIAauDNxAYGRQ18HgS8IGBq4DTUwLNQA3cNkBpYzRZnl4JRBSSJnBaI2MAYkaNz7O+U5/kcNfB0LO86VT4NgGkA7OiivtYAmHjBhBq447hxNmKffRIPO3301EAyhAupIVh6wgnBiA2sWWr2t6P92MCjiQ0sdD9g2iKUpJpAksXCj81+c7tZt0FOzwvPuIQa+CWxjNpFpOdW7tssC+teRw08mdjAv5Ip/LsAqYGHowbuiBp4FjbnOD/Wvhp4GnZGWOQVG+h+UpyvBt4CvL5hPb3YwKHOj7MMrLbnUAPvxiV8Eo7hrQNhswDwS1TivtRq7Ge/QA3MSLrdaQBMA2BHJ9k6A6BeuKWaMN7jjrMsdg/Zgx058svKOmpP0v9esYG1bCPX+sYbVnH77ZYzbFjSX7PDLyA4Uc3Af+OmPO5qMlh36PApu+QEc97xYwO3OwoF84/BgJPGucQGAieJTOEs912V5sUG4hJuW44aKGWtZ5d8vB16EcUGNl1HpvBjqIFAd84GHTpdV/2xdhAJEbNWQOZtju3ZVS/bodfxYwPP8gpJl9mhXe6qXBfjFRs4hxjMXNB1ACCYhRPe9abYwNl2J4WvZ3mxgfk4h5PZ0gCYBsCOzq8OAWDixT9/5BF7k8LRu+JmHbrLLomHnT62fvihVR1zjHl1A484wu1dRBIjuXyR2RXAycD1zQ4fj9uvIPEbd4/KFH4aladqlh8bWNbXXVsTlilT+AuSLGbdT4kbjhVjE79x+1jzgu8WHkjGbcX+btuasK5tKtvJHcFc/hmxrqdwRc9K/MbZY8yqiLGjugAO1kK7nKMuo243lbyutuuB10lepnBOIPbnjTPST1M05n6sPZ30kGCEDNTZFC82MNl1A9MAmAbAjl51OgUAZUTjkiX2DMkWpQMG2J7XXRcIoFLdwFqSWtomT7YeFL/OKi/v6Hgm/++lBj5zNzX4UE3Ovte8ItLJf9WOv8L0iWZPssDveQFb4LHYB6GpbqDUwAF7s4sItgeheXUDT/TL3QxnnmRku2+16gY2EusafolQh3+yW0sAbhIY1TBFjUO4/QrtOrJXN3d/nLHQrxt4LnGBhwFU+wXCZtUNnEMMpraSG2AnBMLmKCM9k+LRrZS9Hm3no2B2/s16GgAJMQ/EbPixGCk4CVqTzQ7vXbrK4QziOJNL6bWgjfUqPwDHHwzk/EiMafJjpxKv9OM9BvA6HbgPKz3GXfGRBeD2tiuGIbWvEWQXcMmhh1o36gVmBAFMli00uxJ32cARZje+FiAX8JlEds8x+/NTxHsFQN3xXMDE0s1CjdqaY2BcwM/jAsb9O/AcbA6GumMrXMA/N+uOAhgIF/DydhdwCSrahAC5gK9Dl/qI7cxuIn5xUGoXjTV4dRWLrrKn0P8eCJQLuNYm2wyKRfe3X7GHsEIF0jc1a/Bxr9NT0gC4TsPWOX+kJJBn2XEju6DADn7llWAkgYTDfhLIm29az3/+03KGBiAzTorOC5TOeOhas+NJBBmzfed8gMk+y+y3zR7HZbMdWcz7Y3sQIDuRBNIDl96er+KOzEv2KHX8/JEGvy5gpAr3+oQAJYEwJ0KPBzQJ5Hwgao+Of3ZdcIavk0D2IUP1fnDEfcfZ10kgvWwkZVaCkwRyB0kgs21Dsq7zibZMt+SOQBoAkzu+qz17ogzMThdcYOv/nLv3ALQVZWB+9Svr/eKLlhGEHStWlIHhYnLDxOCVgTn0UcrADHR/dgiyVRQ6cGVgUILnEJ/Y7yTKwPw2GJAdmUH5GmIrc3dCqQSyA1MGhkxri5FN+0yAysDcTBkYbRH3NzJqA3CzywgHuQxMP8rADLNj0qpfF13x0wDYRQOdeJlEIWhtC/cHCisHals4oK/irrsCVAj6IX9buCAVgp77nl/6ZYtDzH5+aTCARNvCeYWgR6D6AVTZnR+wnfj+dNrRKwSNaz00x2zUk8BUQFzr3rZwuNYDWQj6dCDqF532ESbzRK2WKAS9G6rfgwCJ+9nVbaCfvy1cEarf3Vjsfs3TlQtBb0DZmgIqAaZb141AGgC7bqwtofoFais4Mnyrjj7aCvff3/rgps7Icv9CaImt4EorUP1QSAKzFdw4toL7yOzgf6HsVHbhzFzHl0qoft5WcLgje2+3jifq4j+rm2g2W6of7vUh1NILgmt9her3E+bG69ic28WDtvYvF2NTNX8ruFZQ5ElUvx5rf5Iu/otE8edmey0wW8Ep1o/d5r3iz8HcCm5PG8OWcEFwrXfxdEz6y6UBMOlD/PX2b7Fo1A5CRSvo3r0LXrVjL6GCz3WXXWYtL79sPVD9ckag7rjeBCQv/9vsn+z4cdTlbKe2q+sW+/bNeRfVj+3ftjrM7GeXBGP7t8Z5vupXPspsL6l+he6PtVfw+XTqj5AMNJqEmkCofhR8br6BiwjzuuymwGz/FrZnSZi4mDiuIKl+U9n+7WyqE+5OAsK/A6L6LfdUv2xqKY5gL+Bs0mpcbyr4PAdbG1BZR9s4VL/+rpv8P2tfGgCT/NFOffxxe+Pii22H886zkb8IiPvjo4+smiLP2vKtDwAYCNVPRZ6vPpZ4OcX6BUT1U5Fnbfm2aLLZIbirA6H6xYjzu4N4v7vYnQTVr9e2Sf4GddLpa8mQnXOGv+Vbz98HRPWbRqwfeyzn7sjcALIDofpVeaqfWRTV7ylUP1R4x5uKPNdQc67Z/ovqdwVu6vUct5gylfzHPlK22O6htt+JVmbB+B7W2adekWdt+TbUjkyrfimeaWkATNIH0LR0qbfNW05xsR300ktW0M39vS9V2Lnuwgut9b33rMe991rO8OFJGp1OPK1Uv2f+bvbELWZHX2G26U878eRJPNUMFvT/4Ibc9gizfbE7CG5IFXZ++yiSJTYPTqyfV9j5ZHikHtXvaWCqTxI/1E46dbyNbd6uIj7xmXbVb0wnnTh5pxGQtNkTqH5XovqdBUQFI7HNL+x8HrD6M3SofwVC9QuDfXNtPGPcOzCxflFuC2bZ7UD2XNsAZTgd65e87+LanNkFAByLwYn0qln8/PHavAHXnhsHSKZQHuUd9vbd5ZJLbNjuu7tm4irtCb31llWfeKIVU9evN4plIDJ8v5pjdhVAUjnar+uXX7jK9+bUgyFA5EnckPVfmf3pCXZuCID7I4Yb8nPUvrlkJG+FO7LHZk4N6WqNqfqP2fwLqet3NgraL1f7NKd+0UYMaB1Kdj7egoqJ3Bi4cIn+/hGKEX3WzH6zGda9va5f2ff/gQO/jQEk1exC0mqfUdfvOkrSVDpg1febECeDehm7p6gPslMYa27EAtCq7QPg72avrt96djzzJCMAVv84TEzV1UXQdxb9V/Qa+my6mkBQV49H6JfSAwWDdfPm2bO4TssGD7ZDXn3V8krcj8eINTRYzdlnW2TmTOvFnsTZg9wvcGrEUtqjN5q99KDZCQTxb7AVUyUA7TMUnQnnme18qtkmvwmG6lczxeydY3CdciOz50Tq+uW6P9DhJVxRTiSWMp+58SJxc93dtzkeMmu4yKztHW4KULSz13feZql+YeritdptKDoXA1E7OW+zDGyxd2w59pba/+GgPisQQBKyeWhnF7Gd22gbhds3E53V9dZGlN9Mu9Ei1mgboQznBSAcwPUx7Wz7UgGAt/ImJCFcRv8LvY6+chMA7ka/k/4+HYnH7abkjndvuMGm3H+/7X711TZou+3cNrjduuZnnrFaYhNLTzrJugdk/2GbCZBcDZBsvquv+uXmuT/WDQDJYwBJVo7Zkc+bFfdw3+YIQDL5YrOl/zXbhq9sOSqr603hAEvvMfvqJrPBlxAPCrQGobUSDtBwilnBYWYlAGtGpvNWR1nam9mlIQuHXom9AES5r75HWWqq7BKiE6soNnIHCRPulxyJ4VhfYvehkrxqg+1MElQ2cH5u6MZgGfbOtX9g88HEVf7UeZt/rAamAgAfZrCP/J4BFxBKAVTf5Xue58yvHqSQ8yhcvX98/XXLznMfSKLEJ1afcAIqQ7b1fu45y+rZ05mxXK0hrQDJvQDJFIDk1NvMKket9qnO/EJA8t49Zm8CJMruHRkQIFkMkLwPkAwHSPZ4ORBAYi0z2XruaAp9b2S2EfZnFTkzDVZrSKyGUIDTqI1cBaw+gc39V/tUV36hSL9Wux7l7xmQ7yogalNXTFutHQKSJrKSa9jCrZsdC0TtFQjVrwn39FwcYd1sZ283j0w0VtdbyJaS5HE18YndbCzzJCcAWcmuj2ky7ctI5snX8Nylq3gegVKBaLK9bua779rQLbd03mDFJzaS3NFw443Wbfx4K9hjD+dt9gz8iAX9Ztymex9q9osjglEmZRkJE4+gVPYDSPa8gH2HAwAkrQDJh8Qnhpb5sX5FA9yfH7E2sqivYfsDAGrI9Shom7tvs24MQo+aNV6KGkwkTP4vAxEOELEPUf1OYXHfF3fecUBUKvSDtft4I8QnLrNzUSp74IA8k2PZ2p0gBc+OMsoLcZ22oLIOtnNw9g5MgRVr95KKT1xoj5Oe8iw51MdauW2ydidIwbPr6+utrMybD/pfUJijU0cqld9gVnTPDaw3JBDlqrjiGIBqwzLbbz1Gjkz86Oyxbdo0q2Lf4dyxY63Pa69ZZlEAgKQOZeQmpkkz383xj1FyJABAEgmbvXKl2dRn2b+X+MRBAQGS2f8y+xS7Nz4b92kwgMQa3iHW769m3fc325CbhEz3FRKLzGWpOR61rw9JHqirmeXOXjMShsWJ5WqxC3GdTkM9uwuIGpr4lbPHONbWGTe79hjodw4xils7a+vKhtVSgHohSmVv+z3Yd2oglMpGQFWqXxnlnDch2SOL2wPXW4gUoM+IXf2xt1QC4OUMPnIOwRjplrQRiLe2Wu2ll1qIXTy6X3+95QGAzjcpJM/fb/YwAHUoSRM/2dd5kz0DZ71JOZqTKUXzW7NjAZKsVH691nDIGki8f4es05JhKJWvUibFfYXEVNplLspZ6zyz9f+JgjZkDd9sCp8Wj1Dahfkcetis9GrGedsUGrPmLx1mB48Q9+n5dgIQdUUggCRkU0jyOB8X9Q7UyHsUm90HkjCRfvPscpI7Cmx9uxXXafc1/5BS9EyVdpnDlnP19gU2n8rNQWWKLFnzl5VSOR+VknRNtvg7cM3/8H/0malcobiKp+EvmfOqZeJEqzntNCs++GDrQ1ZyIAo6z59uds1xuPNIOrhhIjFdxckcos45d3ON2VO4ThuWAqws8N2CkEmNUvkZIDL/Sb+gc0/3QxhMNwZVjO8C7h0HnIGC9qtAuE4t/B6qH0plPjcyFW9gs/tKZcwW4Ig8GXjqQY28pwET94EkRrZpFXGJYfuSxIOrcFUHQ6lcyq4jywHtgZTSKbUAfA+5albZW5TuuJPSLr9klI9inmR2zrU0iWeppxjNZ6ir3Umk2Yat55qIZv2xt1QCICsmM9/sNDor6Dda/Tf+lf7HWo1AdMkSqz7lFIuHw9aLnUiy+/dfq79PyZOV5HH/pcSgvWJ2/LUkTChR3PEmIHn/PrPXrydvHdfpxrgig1DQWUkeH/C1q/w127i9jhsylZeBNfyMW4ipnH0CsZSVuHuZI9kBUCpj3OM2oFRG55JF/Q9sDgKQKMnjJiDqMbSoS1GitlvDDyh1T/OTPJ5jEbkBN+SfQNbzAZKM1Bm0hq+sJI95qKqlthWlXe4FodxXKluJqJxO3US5eTe2v3nJHmv4dlP2tAhK5QzKFdUSwrAhsaslK5TKNACm+srPCmTqaqym3rdWx0DFAMp4F1qccjQNt99ujXffbeUXUTNqzz1dMOuHbXj3ebTgc/wkD6l+WQH4+Bd/TmmX4836jzU7DqDKC4BS2YJC+cGpZpEms5+SZF/kfnC5xbhIS/GrfQFV+Bpc1Vv88HxK9TN0Y9DyAC5f7C0+E+XvgEDcGERQdZpJlMi1X7BIsgVkALJO28iTXWbjSEfpg0vvARaObqn+9H/w9SM4TZXk0Qr+DbELcK9X/uDfpPoJMar5LbCHyfF92YbZ0Yzypqk26QdfXzcGS5jT04G/Sub0CG4OgqBU/uAb68QnpBIAL+N9HEG/oxPfz4/2VK2TJnk7eeTvtJP1oRxNZkGB+2OxbCFu3pNQRnCJXf4U7rE+7tvcCjy9cJHZPNx6SvJQlq/rLR5j/9476bdTgPpC3Kd7u26xb5/271WsX6+D/dIuGQG4MWib6id55GzMfJ6Iulri/Fhrf4kWEiXiaCRF1G7LYp8J11scfKqxWwDWiSh+5wFRwQCSamLPFqP29bXDGOUzAZIM14eaWTGZNI8bGOftGeVbUCrdD2FoJvv7cxJSVI5mK2JYcwOQ/Z2KiZBKAKzhDafhr4OferSmxmrPOccis2ZZjzvusJwRIzp4xi7480ib2UPA06vEcx2J23eznbvgRTv4ElJ1Jj9u9uJ4klKO8ev6ZWZ28KRd8OfLP8BNDWT33sF392YXdsGLdvAlWhfg7iWZRtugjfoPCRN9O3jCLvjzWCNlXS72d/IoZW7njOmCF+3YSyhTNkwQf6v9HYA6m0XyZx07YRf9dTOZslXsLFFC/Fl/ysUGoRyNSrooyaMA/WwkY55FZKXrLQxizwL42sinHk0WeBD279WMnmUPoVS+h81Hgn+jXR/mlNqXSgBUDOAtdCmBc1M6CgF88XiMkOf2mn5lZ51lhdT2ywhC/NmkV/nUCeD/KQH8N7/BQpnr/ugv/dLs8RMpN1LJvjQv4jrt7r7NIUroTDqbEjrzzba7i8zT4e7bHAtT04/4z6pHzSpx+5bt5L7NujEI4U5v5DJWdBwu6ksAV/dvDCJsstRsZ6Dl7NTu7nXfY9CG43Q5IKJt0PpSjoYy9s7PjyipBovI6m1CjxpEuHshjkjXm24MFtoTKJXP4DpVTOV2rpvs2Sfo+9Lu4aZgNy/JIzMdSfaDn1sqARD5x2tyA3MV9Zr0cP0cAF+Pb3Aq/t/60UdW/de/Wv422/ju3iDU9Fu+iK3bTuHTxR05ngU+CDX95O59iQVd5V32I2N24Gap+LjX7jU1vtPvNpvGvdXGxFUO2i8Q8WdWS028ucTL9fgt7l7GOxA1/b7A3cuNQRZwXYG7OrPb2n1WKXh2DIRqwWWq6KgiHDDBqOknd+8dQNSLwMhZKFFbpWDk1u4lFX9WbROAqHvA1IMoR3NSINy9dZTQmUF8YnfGeBP0mSDU9GtmlD/H1hxU1S1sPOkp7n8P1242Je/ZqQTA9Ke0lp9rtKrKd/fOnWsVt95quQEoQG1hgvgfQtV57TEiPoGpzXdZy3edgqdL1fnoIQo6X4F6dhSu04tY3N1XdWzZu/4Wbn12xOY3iK0MgLs3hPg/hxuDjFwyv58gmaZfCj7wtXzJWD2KH3Oi7X2UVRI9cjZZyxN0/dPjBPG3opqF2Vc2n9izHNy9QYg/a2JP2WqyTUts//aafqlcstbsc2tGh5qPi7qAPTFGeEplyZr9YQqfFWaUZxIzF6F09miyqAtIqXG9RZnRvrv3fbKoj/DKu7hus2v2pfLbVNc+GKUcuaKiNrOhU/vPHNItMQIrsnvvusvKiPcr/MUvguHufXuC2V3nUSLl97h9UXWU7OF6WzSFYs6KmRtldjSqTmEA7lNallA+B7e6tnL7yT1AyTDXR5nSKC1mC68ku/c5dh65HHfv9u7bLHW15X6/oHPRX3H3coMQgLCLNnsT1e9coG93QOolwK/A+bEOU2VO7t4slvW+xChmW0/nbY4QK6ddPEI2h5p+cveiDDvevs7ufYmM5D+zXd42jlssF2Ecze9NgPVBxnnPtLu3A59YKgFQt82ssHY6/U76r+mKB9yV/io93RiB0BtvWM0ZZ3j79vbh50Bk9y6cibuXIP4S4Cko2b0q5jzhfLMlU313bxCye7UP7tQbSZh40GzsBWT37uX+d0bqqvbtnT8eyD4Mdy9KZSCyez/kNpU5nUOh3sBk96qYM3GgxHQVkXkahOzeGI7eajJOQ8Qoagu3/ADsKauYuWXUTVxGmZS+QFRQsnuriZmbZbdTNPunZPfeGojs3gbSBabi7i1EodySOpXp7N6OXfJTCYC3Y7qAT/CnhhzALZQxIy0At04YmcwWmTfPqtnFw0j26PHAA5ZTWZnMl+ucczc3mN3Lwv7pWyRLoI5suHXnnDeZZ4lGzN6+g+3QmIa7cC/yy+sCoerYApSzj1FXBx/gu3uz8pI5Sp1z7qZPcfcCUflDzTbA/pwenXPeZJ4luphizkBUDJW17DZU7BHJfLVOOXccvS9k15K9+Rxa3wUofzt1ynmTeRJt0dVI4kEtsX5ldghK1Gkole6HXTTYh9THu5ZizluT3SvIdl9dbcbimcT5ZYFRG7EE54Harrc2XNNfUqKoAWVY7t4y3Ovp1vERyOj4Kdb5DPhTrJwu92+ilfGD3MBZiQccP8p9XUez0lL92PEWa262uiuusNALL1i3Sy+1/B2J53K9Aak24V6zR29Axz3RbI8/BCNm7stXzJ5hcR+9N1nJp1BuxP2Lt9VN8+P88nGJbUpMZWEf12cHsXJV1E0EVkPTCfS4imzZjd23Od7avncvGb7F44BW5ojjTa6xNnsc+NM2aIewsKvwbSrv8ddswEL2Ee7e8ah9YwnfP56Lf+dcS9fs1dftWa3k9s63q70/Hmh/Zaz7r9uJuvCvIqirc+0eVJZPKUZzDBC1YRe++rq9VAx1dR5bEc7nZmaY/QaFdUfmdOdgS319vZWVCTm8IoErc8i6GRvAv0rl1WES47UL/fGVxk3//milf/9ofozjGmt68EGr/xsBz0ccYXL3BmLv3sn/Jb4P5WzsDrh9XwNI3A94tuW4qJ9EXc3JN/vjQ+zdO9D9edZaSx3Ci8yW44rcArG8xxbu2ywX9eJbzZZyczDwLMro3Oi+uioXdetTfpJHPrGrFW9iMwkqjreIfYzudxbwNDowe/dGiOSqQoGKoev0wgGUSxSa6y2KU30xdfzq7V2SUk4gpnJz103mtiBKWeRniU98jJi5AwOzd+9y1NVpxH/2Ql3dFpU1CBnJzk+GbxmYSgA8HFs+oL9In0UfRhcA7kb/UbXQ2297cX55W2xhvV9+2bLKJYw63hbNNrv1DCJyWTDPuY8t0XDrud5aiDB44WLKjbxrtg/RB0O2dd1iXI+4qKfhepxxN25T3Kebo6C5nnigOVHzDHF+FwJQ+1OOBojKBLZdb22f4I/gxiAbEOn2LH4IVFbHW4ylvcXGAVFLcej9jUVylOMWM6WxuNZuQ496GVfvqdjNzaPjTS7qKnuK4jkPACS/wd17DzpUluNW8zW0SSyut6Gsbko05U3owYXO29yIi/oLQgGycadvxtzOD4CL2vlBXY2B2at5vCselgLYnf4XegVdIHgEHbL4cbQI5VyU4BEPh60HGb45663n/htvQim/D9fj5Df9XTzGBCB7c+U4v51OAv4uD4aLesEE4vzGoZ7tS5wf450dABd102Ti/ICovEHs4oGSltvb/TntxfmdA5ksJIMawM7ZyHmb4yhRIbuuPc7vbC/D13WjBVENOHzqKI1Sar9HQXs8EC7qehJSFpKYUgKOBGUXj2acpirrItVsAxNE9XV9elCiqN7bt7cey0eBBeWMdroldwSyk3v6Hzw7fi0v+eMHn/i/9IQYsQd1l19uoYkTrXz8eCvYaSf3314EJerpu3CdkqPz6xP8mn5BqI039Xmz584nzu9nZse/AZC4fwdsNZ9S1gW3egEX7Z3/E4w4v/BiP86vdZ5Z5RUBifNrJs7vWmITGeNi5kjeXs6rq4KoMFtdtdr1LO2HAiUvBwKiWnCZVrEVWj6levvZvwCTUueveSGizxbYNYxvDm7TSwMR59cGRM3BbdoISg21owhu28D5cY5xGzPXngSyX8YN+FuCGI5izDOct/t/wcCuBMBNGDC5eB+hz6H/6Fq8jVwm9uttvPNOKz3hBCu/6CJ2jcp0exzkznsHJervuPO2BaJueh0wKXLbZlm3EHfeU7ioywnOPuwxwnz7uW9z81dEwJ4HlMzH1YtK2X2M+zZHm9i+7WpSt55GqTwX1ylzxHkXdezren6Fh7XH+eU4P9Zt9jrO0wtwjW0N+E1giSxz3mbtzFoFPAmiehPHlUORFNdbBAf1ItymzTgiFedXTHKK6023BYrxW2IvEOf3e3Jkj3ceovx6fm+g9/3LS+7Yxovzcz/e1vW5sDb2dSUAKrlD/QD6kfTl9B8FDCrBo+Wpp6z24ou9Is593nzTMgsDoER9ycelOL8+lWaXPsFC2YePzPFWixvvWUCkcYnZvkBUv40dNxjz2hrNPvubmVy+Y8cRT7lHACAq6id3fHUT84Nw3o3/i81deTlZx4+19WXKugDZuTsyn18hFMB9iIoCIirknAH2FaHuBKGeXxTsq0Y9C6NEVbDncBDq+cXQVZfYP7H7eYDkMK+Ys+tKlCBqmb2CVqnYxN3a6/m5D1E1bN72hRcKMDRdz28dL2Wd8WepuGI/iuHquvIeSB9Kn0l/iE6A2f9Wa333Xas5+2zLJr6vNxCY1TsAMVGL55rdAUQ11Jgdi7oz1H03goWYOi/jevySBX6vC9hWbHf3J5ISPLRv75e3mY04ymzvNwGSVHwl12KopAjX4lafzxiX7Uatx4nEJpasxQlS9NQ23OoNZzK+3VEp/0WCx8AUGbLmLxsj37TFLsHpO5Nw+AtR/jZb8z9O0TP9BI+7SPCYQOLBsYTv4+XgP5eb3OrVZMkuZpu8CtuX+LN/BKIocq194iV4lBIrN8ZTV0tdHmbPtiZ0SoGf2saUzylCY0231I1AKlebOt72He1vXTB4BJ2rMxG3hpYd8NY2fboHfkbsXPcbbwzGvr311X6Cx+fvmv0Zl++mP3X/U4iEzf57K7PmXrMdjvfhL9Px7DxB1DzizqZcitv052Z74lbPCYBbveED7D4L9Qw33gjE+zzc6663KO50KX4q5FxyCePsvjsvTqqEX8j5RZSz03Gb7h0AiNIuso+Q4HEvOuVvWNafwGb33ep19hbu3ltw827Cvr13AtlBgKjZgJ927sgDVs/m5sD972Er+cjT7X7myGzG+TAW+g1dv3L8KOxz8dZsCCP/K7pg8EU6fhpnm64W3ygEHV261GovvNDCn35q3UjwyN9uO2eNX2FYa8gv4vwKIuzvTqEo8q/dz5JV8emPH2bTwCvNNvkNe+AeC5gUrHhLzv6w9C2zSWcTm8gFcAwqa0EvZ01dYVhoFqVzsDlG0sRgoLVw9IpfOftDDPW68TKzMKpqyQXA6q7OmpowLI7DtBV1JIwClcf9cK79HxCVynv0hGWrP8oF2cyOntUkpRTaTqh+RwAmxav/A0d+08SGYgvJos5hj+F+FEXOM/fDW0KU+pnD/AjhqB7KOJcGoORPBA17FlvkLSUJaD1iE3tT0c8VRThdCJqoHUe+j6szQzA4e3W/dODxFQCoS14dRZxbJkywsjPPtML99iMW3vHhVWbvc/eit96McnYIe+ASmpnjePyI1LNp3Bc8j0JZuTU7R6NIFelewfFW8xkRsOcA1ozvpuMpN7Ke4wZjXhjVbMHFJKVMNhvEsWx7922Ot2DvjSR54OYtPpkdPH7LVS7TabvlgmwjKkaqX67tD4wczYW50GmbZVwLzppqag8qR7a7nQiqun8zE6I8ykK2QYuBrf1JlCgMwK6jyuxVjF8tIfRD2N2lG1FzrkDU6iapZvQ83OrzCQUYbPugCO/JjYFbnpk0ABK9s7oP0JHHXYa/FUNUd/PN1vjQQ1Zy7LHW9623iIV3fFgFUa8/bnY/Csk2P2MHj4nB2MFj7nskeABR5cRvHfwgsVwcXW+NcwG/8yk1AkxtAkT1cD+OyyJEZywkKUWxfgMA7CHXByAphZuZlr8Df7cylw9lnFFaM/Kcnh1SzyI4OVrIks1GGSmmFEamVxLVabNRKacCflcCIQXoZ5cGYgePMKkSX5HZ20I8ZX8UvyDs4BHllmAB6tkye5WElN96qp/r+yPrZmYR9s7mhqaPbW/bkAikgs7p5uYIOE4qbg7ad6yKRq0P4JeZn/+dXzn3wId41O8eZ7b+pmZXPA1EuX/Xbounstcw7lKB6/7XkXU6yrlh/Y5BLUspln2JWdWHgN8FZn13/s5TnHsgFjL7CjV42QNkTxNPOUgQ5dZd+3fGLE4oQIicsqYrcPPuS2bva6is7rsgI/YeMHIhwDcY8FPSwYDvvDXXHpCmU83+t1HiubSDR14A4rgiqGeL7R7+/y6u3r9QhObsAKhnEWD1KUDqSWz+OZm9tzE/3I6n1M2M3LwzUCorSEnZipqPOWB2urk9AqkAQG7RmS3f3476/l+79duy445zH/4+e9fsrvNQRvr5W7f1rXRrEFdlTdVsXNTAU/1XuKjl8t1qVc9y6zHt2fvZVdTGw0294WlmW17jvnqmPXuXop4tJhu510Gk5wF+mW6rZ97NQOtzxPmhquZuTcTwBGzu4dZcWIU1EZuCrsNcBp8KgaksW38Vz3LrIe3ZW8NOGK3szNrdTsbubdwycBXWaM/epV5JlxeJO/uDp/q5vnWb9uxdQjzlAvs32dM7An7aycN99azKJpPgcZ+X0buZnU/ikvvfwwYCAT4EVn/sLRUA+BKDfju9iv7yj/0DSPr7n0H81p2oZzks6MdfC0QFQD2rA/heHI8aNcVsj/NRKwOgnrVREHnqDSRLPMIWaKhnYwFX57ORo6h9xMotAlIrfmm2EepZlvvqmbViZyPjmz0CBfshbO6f9K9RR18gyhLZYsAqezTkU9MvOwDFhaX01QAhLaiV3e04lvWLA6Ceydn7MEVm/4N7+gDSJO4PhHq2nCLf87C1nFI/QSnpUssNwZdkfeeSjrKRnQQAIi443pqZHZ9TeLqJ24NKYhN/7C0VAMgKaZvTy+iBUvoCMVnkJp2Dy3QSrt73XkBrxUX2JxSHEbh8XW61C6iHh83T6Uunme1+NiXDASqXE2laa1DNgJHFr5oteQNQ/Qu1/FDPsnLdHeloC2VR3iZjCZsV41e+K0olamV2N3dtjgOqkY/NWpkbUv0EfGV3YPMwZ22WSyyGQyxirxEO/yr/qkXLOQfwc1s9i7AwtlAapcXeRvH7FCA5ApfemYBfprNjHQWqG2wSbt73OApW96Yy3r1Oq2dKkqi3zwDsSbjV3/EyejfCbZqL9a42zegGm4Ny8zEY9T7jqzI0f8HRO8RVkz27mtBVl6K8L6VuogBwNGWKenED1sB/P/aWkaIB0Ixh5VlRBzBFZnT4ZVdkAZeW6scUNAHf/OkkGkwE+ljU53/pq3ybopqpjl8/R7+cUvlmvgbwYfOCSWTF9jUbjs3DsbnvRqhnDi444Xrg9E2USWxeJtAj5rP3jtiLzT1wT7sIfrFWRKf3feCrY47EAMCSbQEobC7dHohK0bz9vq+KbloiqL9h7BX0xRZh5yZ4TbE5l57V5/v+OiW/84Fvrgd8EdScKIkSmexsmmM7AH078vNwJ9Uz7djRAoAI+kIskFkASAGQqp6HruOi21Tu3UYgRMDXSGasMmKLcZiWkh2rbdsy0VhdazFmRgMlkGsBPkFfFA2qFBQpx+5yahDm8C/XmuZ0I7qkgE+9BZAqsUpuCMZ6cX4FONddbM3ov8s84JtMXcq5hCz0QA3eGOjbiFEetOJ7mM4CRl9x8QMMkE361n6jDmDSbV8Z+AR986ZRTHh9Eg12Avjo+tlF1SwBfDOwWcBX3NNsPexV78/inpVtzrUE8C2eCPi9xbhiY2+gqQ829wKisgucM9lWAB82170GPDUy1lsCfNhcCqzmOKgwrAA+7G0FrmPzGVtuAnKxWdCXNci5cf4a+F5naX+DBf1zwGMwsLc9i7mAb9SKhcYl46PoTT7wve0BXyZLegEh+wW2Hdi0MTa7l2yQAL4GVCcpfWrFOEpLsVsFnLNY4l1rKwOfyrdI7ytBl+yGi7ccgHJR6VsZ+Kq5GWgiFaUYYBLw9WC8C9ggz8XyM1L1lqFWq9eSf1zATUxPYE/AV2aV2LxqMSENgKkBwFv4sl5Gn/sDX9pKfn863WU3cfIBUMA3+3OKHrM4qi+Y0Q58LOZS+FwFvhoWcSl8M+gLcd+V9DIbhs1S+FwFvtZq35W75HUUvndQIXMBve0APmzuhesu272FxqLNuHSxtR6b63FDq1jzCuDbAeCr+IGvWQp+HY+w/zFzIozNYeaHp/Bt6ANfLnMkuzIFRn3/S/rAJ5fuG/Q3Ab4v2oFvB5Bph3bgW/VC8/1nTu5vI6g2LWRnCvpaUUUywaYC25q+TTvwMccda9LKpOw12AccP/Gsk7JXalu0A1+RYxYzhSnfXc9NQC1Kmbregw98vsLnJvDJpTsbdW8ytwWT0VUXtwPfGE/hKySmzzXg0/ewmTm9DPe5gE8KXwL4epKVXm4Cvqw1mh9pAEwNACoYjchtb//fhznOon9AV1Ns4FD6gfQhdLak4Nvkbut8AFRx5hm85U9YzD9mgVwyj5EYTVIBC6P6gPX41DLcGhFB6jLc0DOxdxZ2L6bocdkA1D3sHQaE9B/rZkJEM25oxe4J+FSuJZuFRQqf3Lo9t+LfDip8qtHXgBpZh806CqZKyIKVuqdCzS7G8sVxQ7fhhvaAj/GOLcdO5oRgL4/u4L68ineKssBE7L9ej7FQZrKXQQ5KmVS+TNQcFxfHCC47JW2E6K0ASRbajQ98W+PS3RCb3VP42kCQBoCvkbzMRg9SczzQU60+gZ+LCl8EDFEMn2CvDniKMeIlqL5y55ajlrkIfFIl60hGEuxVM7dbGXfF73VH+a1ALXNR4RPwNVBOWqkbyxlvZe8Wou0J9nraBih8g5nTmeu0HqYBMDUAmPiwduGHI+gCwqH0OH02nZXYyxJ+maPrreMAGEKx+fw9asa96fcGVKjhuETHsJir9xns3hhEgY5F3JnPwmYBn8q19Fzfh71h2NwbYHUthk+QWg+kKoZvCb2GGLMCYlg84ANSKzYDRNxTQywMpNZjr3oj90kqz6IYvlJsLpEqWeLe/IgBqeG36cyNNkEqAJizBcDH3Mj9CePsYgxfK8A3iSXyLa/HCBnPIkYr2wO+n7DEDHEQ+KLoTl96Cl8I92gbl89sSgb7Lt0tgRC5obOcmh9a0MMs4gngayaTNItlvARwKsE9WgSIaI9b11qYyD2BnrqUPi2dZR6AjOW4EVitpcCtpm3Yar2i3VOw/jPmdTNWDgf2Ngb6NkIBdq9ciyC1Fk1oOWMs6GvhpxJqZPbku9iD8dbPnXXjlQbA1AKgW9+WdbNm7QGwGyEvWgAAQABJREFUZqnZFBZFAd9UwE9gMhq1aWMWxo1wN3YjNs611koc2dx3feCbje0tZL9K1RuCzQK+7pXuqZLRsFn1RwDff/3eOAdoWh9XLjYL+so3cE+VVCxcyxfAHjY30JtRUnOA1FJsVsJGMZCa6V6Au0XnA3vYq94GpGZgYw6Q6gEfkJqphH+3WgwNJIprNEK2q4oyC0uyuRfVjhzZuEgzHSxpEWM5bEVxasFhIuBTAkeujQD4tmQx3wIIGdppi2NnfVra66QZSPVduh9h/zzwbkC7wrcpas4IbM7urJfrlPMIUluoxpcAvkZUs2zQScpeGfBUCohkMeKutRDzQaBX48XCTWNcM7F5FLC3IbGHGzBX3PsetjE7qrgJEPBVEVYRYWZ3Yx738IBvNPMjeethGgDTANjR7/D3A2CMBX0uC/qnQJOgb9YU3HTcdW3E4ijgG7UlKhRuR9ea4vcEerNZ0BcgyGZygR4MpA4BUIdguxI4XGuK31uK6iTgW8Yx0oKqh5Iq4FMcXzFKqmuuc8XvSdWTK1fQJ7WvcCTKHvaW0gs3xOZ1c28k7eORy9nL0JW99Oh05scAYA971XOAVMe2YNOCHiPixIe9twGnT1kcy1jUt6Rv4x0znFRwlrAcTvJgL9QeCZMHgBQAewI+F/feVexbE25cAZ8ydZXtWkCx6xJcucrUzUOh7CwFp7PmuOL3GoCQOuwW9LWi/hZQOlrKXhnQV0Q2dyaj7VJT0egG4t984PuMsZ4H4JW3w55i4UYAqW4pqfoeqjz3clTJKnoN30nZWMH8qPCAbxTvobjLhjkNgGkA7Ohk+yYANjf47txPARBBn9S+ylHUWQOa1IeyoGe55ZKxSNhP0piDzYK+qpn+XrsCvUr6QBb0HMfudqWU1QHWStQQ8Mmdm8PdrRI1erb3vPKOfrad+/dSesMLgD3GuZ5xFvgJSIu38F25gr68fp37mp1xthhgHWac5crVMY4a7GXoMjcEfFnD/ffRGa/VSefQMhPxSm28w/Fd4G8RC/h6LOFb0bdm0VG2q2sLegTwmArsfej1Nm9x7AXoberBXj4AlQmWuNS0oEvRE+gpWUPuXJVgkRtXLl1l6maDIq41xb7Ve7A3heNU3kUUe9dvB76NeQfuhSi0AdK1KGQJ4GsD/4qJf+uOstcNhU/ZuusaC5eszydKUEIt89gHvmke/Cl+rwfxsxUok1L6UrnFXRoA0wDY0bnvA+CFh1rpfOJCcrnjkqq3IRAi4Ktw70JitQtRJVnIBXzzCMwXAMqdW4nNQ1nQKwjHdE0p0/Zqy3FBC/jUQ8tRUke2Ax/j3A2wlkrpUtO+uo2op8rQFfSF5gB4A33YK8XmIsA6y60F3byCy7idFb/XRo/wc0Y35jXqbw5zQ8dM/u1Q89W9OR7o+S7dj1kIs/hP7tyt6VuyyKBQOtYiLIs+7E0Coj4GUpvRQkYCH5vRN29357ql/krNa0I9Feypt/Ee8gEPJWqoS+lL5YK+qo9YBZflwpW6p6QNuXaVoKG9K6TwlQIirm23Jr26kcSHGtyitXRl6srlXM78kCtXbt08x8Ba30PF68mdK1duDUXQ9T7KPXfuKIBvpJe84ZL6mwbANACu6pqxNo/5APjeK1Y6lgUyJ3dt/jb5zw3jBlXNPQ/4AJGqWYBTf9+dK+AbhPqU71gSQQwXY82nXwNfLRCSg409AGtP3dsat3mv5I/d2ryC1L0QymkDkNrIODcy5mCIFeOCVqKGel6le2AdXQzoYbOn8CkeVereaEAPe3Po+jnDLcU6zjIeQSVT3F6UOLgYtcoyrRLQk7q3FQvlGEY+f20+vaQ/VzpZK/Dhu3NVE04LegVWCvY2YTFXpqtb8VlSxVoIxvfduZP5eTrjnIu6tyF9DMC3Mf9y63soCAlRykSgp67Cy4pBLPbUvQ2BvQ2B1M5LIuisiRMGT2tQIpWwIZXPV/cGeaDXDddoiaeUufU9VIKJXLgCvmp6EykbiterwPWs3o1kk2xmtktNCSY1KNbLmMvqS+rn2a/LrpSJ+vJR5f/H1xyrJxK4D8AHwLo6S9lOIIkhU7zh0i/8ZA0lbCz8BIUJVUw19wR7iuGrGOIWhAicmuYBe8DHMmxejltUW5VJ0esJ6Gl3DReTNdpQILW7hgd82N62DJAeBvBhr0qyCPxcS9aINaHoAaZhxrkNm6OzsbE3oIfNudisLN1Mt9x1cZZCxetFSXqIeEkPXwB3RcDSZiwuioHbAijpl/gGOHGU6tFmcwARJTx87IGfqsTlodzkee5c7frgXkZxmNgsH/ameCpfjP/nAx4CPbl0C1jQXVP3BEoNQJOyctXDniLZB9DbgC5wGslcKXBiXiSMiDIj6gGnBOw1kRGtvXSl6knhU3ctWUM3A3WAUzXQVE1CTx3zW3OhO2EV3YG97gC24M8ldU83A41evOEMZoVAdRbfwghgOggX9HCsZWee+mIrL+umjyYNgIkJ2sXHP/N6q1p1rupiO9b15VIDgAKnGsBJLtx5LObzASdl6vYa6YPeYNSyfmNQcBxTJENVQB42C/h0bPkKV+ggYA8IkcLXY3Nf7VvXTyMZfxcFnJo+AvawWdAXmsG4spuGii2XYLdi+HIBKZdavA3YQ0UNY7Pq73muXOaCEjQEfDnYnlXp1M2AwMlP1PjQA74oLkZl5mah2mTjEvVhz72yJhEUSG2h1krXMcbyKMBTzF6ep+6NZrF0C0IiIEgTCpnfpzDKiz01T6DnK3wac13a3GkCp0bgwwe+qTjM52NjIZA3yoM9AV9eEjNG12UkVEmykUSNWhSyOno9ECJIKgWcEsBXxA2MS7F7AiftnVvjwd50T+XT2JeSvCPQU1ftPdeSYlTwxgc9xRzO5LtYz82L4g3XY1YIVIfwvfymZyDtAmYJWJeJ3Ul/82/Osxv9pW+dD7pht+ZgtK4BwHpcdYI8AZ+ODUtRyYgnG8RCrq5EjQLdxDjUwnW4nFGcqrBXyl4D7uc8wKkHwOTBHsfCvg4ZjCnaRq1pMqCHvYK95s9RxQCnok2BPcZZsJe/nlPg5MftTfNBTyVYtMMGd7p+ogb2CvayN8Bmd2IktcjEWMBVd8+vvTeJR2pZVJSoIXVvM8BPrtwip+aHtlHzYU+Zop8wyouxs3c77I3hOIZ/e4qCM3ZrG7Vm3IqK3RPwKWkji3EtRCXzYW8j4K83Y53KpeCbwyUNtQlY8mFPts/EuiwW9OEe7An6Ch1LetCMbiLZSKBX56lk03kkjM2DAab1PWVPRZezGG2XWgvamJQ9xeypS58sApwEenLjdvP2sy50yWRsbPQUPal66o04dPOZGT2wtYKuY8EqdaVvvo00AKYWAKN8HKymXvHnb34ywflX5wNgwxIgj+SBRK9bAHygMA1kMVfM3iBUMv3bpaY9c1VzT7tpeLAnlawYlzNg6gEfNhc75n4W7DWjknmwh936GQSxoo2xVfbSC0c7BU4+7H0J5GFvhN7GmMdbGGuU3xzslRs3Zww2u6M4CfbiBN77WbkfcfyIf1cx0gNZDJWoIdhThis3Bw61KMthKyVBQiQPaAu1CO9BcJcH5KkUi/bNzSJb1CVw8mFP2ZafAyOfY7t2L8kDlkayqPvAl+cYOMkt58PeNIDPhz3BVBHu51LsFuzpZ5fcz5rRzR7syR2qri0Cm7GzH7A3AvQYge26mXHne6ivlmBPcXs+7Eklq8XC7sxqKWTrecc8zxvqzhcxzOyoYh4nYK8BdVKRqBXMCR/4hvKvHuv0PUwDYGoBEErwANCd2bb2lqw7AMqNW48LVEkagj0d6xYBd73Y7g1wkqo3kEW9jBinDHfuzq21ph32sFcKn3bXyBHsoZIJ+CqwuVQqGTDlSlNcYfMUYI9xbsJmFViW4lG4EaCHzeqquSe1z5Xm1dsjprMNe9UjKHse7K3PeGOvgE/bqWUy9o40X9mbi6qn+m/aVePjdtgb0A57m3DchMW8pyMW+2YoI1eQ14pK5sPewnbY29CDPQFfNnXh3IK9pnZl73OOKh8zl3HNZUEfwYI42uv5KE4u7QQiRexr2FNxaC0BPuyVYLdi9lRzz6X6dYp/U5yetlAT6NWvBHvaVUPqXhnLmDavc6Xpe6iMXMGedtUQ8An28j3YG+aBnpQ9wZ9LLcQtQLUHe7O9o2Avh9uXCuaxgE+9BHWys1zmaQBMLQAewOQ7kH4afa5LE3EtbCnluXW0708CEewpA3cBio1AT8emZYAScCfQGwA86ViKS9Ql2NNeuZ6yh73V2N1I3GFumQ973bG5BzaXkPzgEuxF6hlbYEmg14jdLbhHM3MAvI190JM7V8qeU7AXAvI+BfKw1wM+fsYNZtmjAD3sVc8e4xjsRVm6p3uQp3i9KGpZnCUyE5dXNpAnVU9uXJdgTwtjhMXcBz3B3mfYvQQ7ewJ6gj0f+LK9uCx3brraWA7lxhXo6diKGpnJwqhdNAR7hfR8xt0l2JMiJsBT3J56E4kDWm6KAQ/V3Cv2bB/qFOzJ9dyAnYI8wZ7Krwhai8gclqJX5rmghzkGeyoZ81U76M3yjiprXYgqVs5YC/TU8/m/K81XUKuZ1XPagW8Os6WK718xSCrY0/7EQzoV9lb13tMAmBoAJF2VK/E3X1v/VtNVVz+7lfMuy1bdSnn4mwCounqLPycLl8V8ISCyaDLB+E1slzbEB70Bm3Cku7Sbhgor13M3LtirxmZ11dor6APsYWt3uhQ+JWy4AqiC6jA1DT3YE/DRWwHUrBLsxF51ZeMWjMBmh6aTCisrTk9dql4Ely5LiuWgQOZgb7aAj58zvhmwvOrp1zWPyuHlZ+NOBqC08f3nfEnb+JIOpyvuTbCnPVzLu8agNXgV2RdmEW/1skMV+zYVuxs8Jc/PyBXsbcC/3QmnkOuzFUD1YU/AN43xrsLGMg/y5MotxCWa56mR7ijsKqysWns+7E1HfZKCWsByvp4HegK+QqtkfrgTh6rqgErKUEaugE87aWj5KQGkE7CnmD2X3Lja+bkeO2uwW8peHbqJHiu2vuDdUL59fs/jHbjSlNpVj7u8GltrPOCbwxxvZD50579KD/QqOErn62qFPQ2AmvFd38rW4CXr1uA5LjzFB8CnxltpHUrTUqlNXOR6o9wI8lRgud/GJD+44x6wtkZ/54zqT3zQU529GNAqt61Arzs2d0dtynfITSf7tEeuB3vY3USP1qFGUtPQgz1sFuzlkhjjDKAC1VFqA7Zhq0BPxxjJPBndfNDLwWa5cLNx6ToCqLozj3Oxjnoxb1M4CvbmcJHIZ0HfkC7YU+zbaO8xF76AsiHKcijACwN7PvDJtch0AEB82NM+qCr469LCGALwZgBLPuipzp7wT/vkStnzYW8ktwY9vPfiwv8Ur9cCgEjZa/CATwpwPWNbAYQM93oJx3yHMls1o1u82oAJ2FPs2zLArojZMGxF104aLgFqCFyq5bvng94cxvwrvnOqFjm4HfSGeD9nM9qutDAzWnX2aoA9AV8tiV66qSkFUH3YqwRUB2MxN+kOtDQAsvSk8HP4Ja/92Cpef3WPr+KpKX/IB8CJd1rpiG0pZzLcr72XcrMwQKpew2wf9mqAj5rJgNN8gIPMynIUpgToqc5etiPBylL12pZgJ7Y2y17sbiHGUIBUAFQXAaZFQJMSNbLX5D6iiz6IWB2QN6Ud9rC7DaiWCzdrKLAnyMNuHbNQVB1pWhajQJOv7KnW3qdcrOtZBPu2Q95G3lFFljsr5qajb10OXBVR9mFvqneMUutLymOep4z5oCfwy5Cq6kATgKjMSgtuUCl6zRzDKGQZXrzecEBP6thI9LL1GG93si3DLOONqGNNnjo2A7ulkMWxcDCgJ2VPfTij7M73UG5n34WrDGL1OeBHmLHtBXJ8DXv565g0kIzpJLdzPS591dYT8NUxv8OMvPb9KEOBLPd6JWPdlznjhidDUKf4vJVhrxnkU7ye6ux1Z44I9Mq5mcly6HsoPK0GSqvo1cznpfUL7Xdll+hj1SSuT8bn6/o5UwGArIRee5n/70xf2YYK/v0C3Y2ZjiE/0HwA/KEYwB84SYd/rfp6tcSNaU9cgV7tVF/VU+ZtNxIdpOh1A5qKHFLIVF9PZVaUnOEBH8doA6CES06AJ9hT3F4BUO2IQmZxlEi5bD3YY5x1jAGsGVw/chhnD/Sw2dtBw407c12sY56rSJCnmLdPvX9L1ctEaZLrNnuFqqfrYOqboElgF/bi3b7wjmEWdLVcgFRqnoAvFyUy26GEEqlhLZ6qNx0UmY7SNIOxbsXOPkCIQG997+iSC1c13poBj69hbyaY3ciyXd4OecO8Y4FDCpnq6zUBTYrR8/ssxrqKuVyA2qTYMcGejpU85sr3UIEUyzy3rWBP7tsmbgx0c6Uaez7sVXIczHxxQyHT90319KTo+bA3H7sX8u2MYWFvD/YEeupCv6524cq+VbUw38Ia7BTsqetn7bRdyJyu8ABVNQ0HWryeyMh0IehVDWFSH6tuP3s5x9pVvNLtPHbGKh538aFSjPpmDGAyrWwDmuqAJm2VlgC+MEOYV+GretpBQ6BXhlqW7caFz3MvtwBNyrxVqRUBn2L3MlEiC1EflX0r4NPRFVVP6ml0DoCHvept2BwVgODezx5Bx9YcbM4G+rLciCETNMVZUHxV73MP9KKoTbwBlhgthKPpcuNuyL/d2TheewyEPVVsWjvofcny0oSdvYC8ER7s5aKQ5RLf5IqqF2NZbAE+ErAn922ES5kq1UnJS8CedtIQlLjQfPftAkZW27v5PYSK42/vVull3ypBQ1m4OSCJC00zOsSNgJQ8v8/Gdq4dtCLiIBWjp17KOOelIIZsdWOkjFvF6mn3jHrgqR4IiaL0abcMAZ7vxtWYq4xQ5upO06WPtzGba4FquW0FezrKpav6elL1yundPFDtz5x2Q13XmNbiGq/B7gTwNTPqKvjcjflRgb2yWT8rP/7bLe0C/qb69u3xSfa/X+AFdk/2iyT5/LpSdj4ARpo5KzFvtcCeYvTUlZGrcivlZLDKhSvXrYAvr3uS3+Ianj6Gy1P74XqgJ3vprXOYYUBTAXFuAjwP+ICm3H48nrGGJ07i0+RyjuLa0k4ZEcbaOxLHCYJYVmU76MlFLtAbgs1uCNMxFkUf9JTYIDeu9jxtZinpw8V5FEfB3gb09Vlg8pI4gGt+auUqhgGlMG5QH/i+xG4Vfy7l4rw+fQSWCvTW5zFuDhxoch+qll4LrlAf9may5MjlnMcSM6Qd9oZ7R22M5ULz9/Bd1A55AqbZvIdFnmkFLIZF2O2DnqDJjQLQPugtZ4bM9UBPx0YARC7/fKBJSl4C9gqJL8xkZrvQlG3rQ55AT30+86OFcS3jP6l6lczuQXTVvMx1wWTsC2HzQr55PuzpqEdymMVluGx9YBroAV8uyOpCizIP6j2X88IVsKdS0JoH5cwHAV73dtulAa+pEpkGwNQC4KlMLlbg7zSpgtX0l+j13/mtWw90DACVkLEC9AAQqXsCvWy+eGUjfcgT6An6lJHrAjQpIUPboXnuW+xtoYfmYBt3stolQyVWPNDD7rxK//FUf2aeoje3HfKw14M9Ygu5sFgWbnG5bLVbhtflck79xdpX9JZ4cCfYiwF5UeBJO1xmsCj6ip4SG9RH8pgb0OQrejNYaAR7inebjt01XKyLWQKHt3cf+FRY2YUmRS+EyuSDnmBvFvYvYUxzAZBKlsah7bCnem+qQ5aRcrOl6IVYyFVeRZAnN66yb9WUhCHQ87ts13ZjqYemrxU9AZ6SSfyj3ovi8pSBq50zBHsqveIKNLUCSIK7lXsbI56LtWXtgFeK3QI9xcG50HxFT/ULFV/oA580PiWNlAFM5V4X6A300M8Fm6Xo1eHFkJpXy02LjgnQK/Vczv092OvG3CjuBMU3DYAsdSn84G/ltQ+nT6LLvzaUvgn9Efqw9p935fgq3dW2ZgCoGL064vLUFZ8nZS8M42ZxsSjHXSvAK6O7BHpR4FQ19Jqxt4Wuo1y3Gcj/issrwN5CbBfw5Q3m8dQvMH6MHnAawdZEj85m7iQUPWz1YE9HYNUJ0FOM3rwVgCc1T/X14sSsZHLRy2wHPEFeFiqZKqmlumkhjxLPpDIrPugJ9mZit5JIylYCPR/4shxRx6QjhLjUyH3rHwV6UhLyWAS1f6+K46pm2lDegxvqmB+jN9cDvCaASaDXigqpS3cBi7ggT4kZOgr8XMhkVYyedspYGfKacdVp1kjR8yFPsDcIu91QxzSnVTw5AXkNgFMDAKIyK7mgneDO76oJOMgJ0POBut4DPEFeordyS+Arej7o+cA3kLFfc3UsmdcYxegJ8L7uX2FxDdc3FTxSSZt+HqDq6IMe4kISWhoAdRVJXXuIl36RfsdKJggIBYFH0QV/l9K3oLvavgbAYhSYprm+oidVz+sAlHahyCNGT4qeYvMEfDrm90j9e/Jq6X3lg57KrAj0dIwgwipGTzX0PEUPe5WFm9ufGZPKKdM+ZLEabJSdjK93xO4Y74NLtQd2KqCc6J7rNjvlY+3X0lOpD7k+p9EV68Z8oSkmT3AnyPMTM4bzxUx9DKdq6bVho+Cuje4D3xyWStUA7NEOeut5xxzAyYUyKwpQV9at77oV6KnP4dEW7CtmVKWICZb8Y3YnKAkdnVxayNtYAJs9wFNygEBvnveY4FT73qqOXhFdx3wPTpOzKK7Ne9GOvU0oY3LXqjdhcws3Boprk6tWgKcuZc933ab+eyigawQ+BHeCPR0bmS9yRhUwp0tRlwR6JRzVsxn/VDcBtfa79QFvEXYL9r7i0TbmQqmn6JW1Q5PcuCqonOqmOS2ok52K00vAnlzQitErB/Tkvk10JWh0tbKeBsDUAiCyGFff77aVH1/55+8+M/WP+AD4782stAhlrAglzAM9wEmQV7Y+IFKYeiujzbhpcXlK0VNCho6K14tHYaa+PugJ9gR5hYBqtgOuuXibn3jhZd0K9OhRbNd2aKqlp/1vvYQMwR4/Z/ZJOZwKPuJcnAV3UVQ8KXn6Oc7lL4MlMJMEAcXlCfYEen4yRmqVU12oo6hgPuBJERPozeQxLeQ5/Ce1Q4qY1Dy5QLXjROoXRS2JLSY1bI4HePo5zEKjJvUu4bpVrJ66CyVWpOa1oCwJ7lqADwGf3LYqBZKL7pEAPSl66rksiqlugg/V0VPWrQ95/jHKqGdjZTGwJBXPhz2pTD27fCH/9hj5ylg1cCcVT7Dnq3mt/KQEBpVUWRnyijylPbXfQ70HbYVWzxxW4eQ6uo5NRENl8l8xoQeCPKl5pRxVWy+bGZLq5scULsZevwv0GlBSdS1UZrAPegnY64vFqV8PBc71XN8W1M+yjcu21xCq/IHr4WZJ+agzknLWNTspvjpTHODjKz39l/x8BR3/nKcEPtz+Mwcnmw+AtTVWWpbii7X2jg3N8QHPgz2BHl0FkzP50sltmw+QeqA3gp/xuGuLtFQ2KZCxhcAdcCrQE+DpqNIqXKgtGxuzBNHYq4LJXtHk1F9AYgBTDPfn15Cnch8LvJHM5A48i+mb6YHe/7P3ZjGWJfl53609s6oys/aq3qa7ZzEwoimLI8ryAomGZnvRg8gRRUGAID1wCAF8tiRChvwkShRI+ImwZENPftIyfDFgmKRIwX6yJZKyIcCEuMx0T29V3dVVlVlLLrX5+8V3v4y4tzKrKjPvPaeq+5xEZMSJc5cv/jfOid/5x3K+UuIX4QkZzKxlDT2WU7lfwg8U/1AX6njzvlhAD0/e8eLN678hx5fHY8/w4G1Iq2GP7vKNAnQnijfsLXlu8Iq9Jd39r5UGTjO7tkIeoPdDjXK7rbrAXEQWesaj50A3Lvl9bgDTpkADyHNgbCF2/1QwBzpfFuS9XoK7bfGMLfYpuXw3vrx48wA90ndL9/hj1Ydz8uAxU/jVcYxnjMt1vxvLkawJlgC92wp4yFhTz968pQJ2wB2wB+jxxIyuPWPTFmISxu3igaygB/BRFjykK5p8lgDwLekmoO+JOgDoneKBvKrb72uy87XiiQSyuQlYZhz12vLov1n5qxR3AMDpH72D/W/oO35D4TcVGAPIuL+vK3xTATAl/y8r/JrCi7oZALtaBxCPHY87YxIGCyQTNgRM9z+WxQRMJ94S4AmUCAX2viJoom73uBXIUxfLQ8bmSS/hIQFgEgAefnUS8AC+wxd79+Y90uUCyHtUvGGJ35HmB6qcZ3URYbYqHj1gD9B7Xfn9dsvRzXlfsOQA4AF878jKG1J2cgx4bws33h6n35Dm4z1WDrG+VG6p4d6QN8yQ5/ihLtR4IHkyBs+5dXhL+4wZ6/cmgMaFcXj25r2v+L0SgCga64Wy7t8bUskAe0CPyQH9wgeQt6U6fVe2vievY0BvXQ0jxwCmQJ7j12Tr7h/PNV0ZmWzBUzAMeoE8AxOTMAC80wX0XlHM5Bcm6fTrzaOb+bbqh715V5XGq3dNNX29ABMTGoA8AG9JdYX9vie8uJv50+LJQyvABKiuSz0wt1w8kAY99AJ8Oy2tMv37zXOfentXdRqtCWgnj40nC6+MtZ4pMT0DS+Uc5fjQBWzQwhZ9bbjNvqsA/KlPskwA+YHitxXYSD9t43X/VAGYvKnwPyv8XYXp7TeV8TsKvzA+ABUx2QTg5Hv/lsJvKbA97ZhfUf/PHgBZTmXzHYGdZBXQG8c8IeOQLmzHvyDA+7IAT6GAniDvWM/AxCzb4smT1gJ6gj3ibchT9+xR6TwizcSEw6+rPP0BExePx+qqeKR7j4cKgN4jVbeHAiae4nFInRdH1PVpyPtSiQ+X7s++gem21L07DoG9d6V9XRoXBRpvKrylAOQR3ir5tcp2nwKXeMbtpjxhG4KlxA/VxNBYH1cDviBQIpwosPcFNZT93rgwM3VTjQldtIBeQiDvhBpEvHcsrXJSkErMI9H69NZQo3kuLxMuWC+PiRgAH5DHzdZx2fSkNLOGXgJPyegbmMAlQx6g53BXmvkN8DTSZUsw7AF5LHd0rPuK3HwjXZ947hyAPLx616QY7zTdzJcETcAduomvKLdfr2k8eWsFTgE8IPVaKQk3r0y4AJjQGnBiPGGfdZopcnSDo3VVXsjAaSCPsYPWCpQSLql+MJ7w2W3LAID9A2BzSu0rCfT9jwr/UEF0USDuFxX/skK2v60Ex/+xQgDwd5X+vxX+jsK3FOhqBkYZB/C0Yzo8se0PAB/cFuSJbQvkCZrWBUuk6a49dFSePHHtgpg4oEf62CUdOzTx5Z3uPN6UvnfkAEOnQuJH8j7qdBsdeW0MePoZCuhJc++Q90CXD8ZYAXiA3g/G6Q+k+ZFUX9DFGrhjAsPbigG+t5TfH+TRiDP+rkLeu2pUmBDAumj3pe90gTqDXmDvTeX36xV7oMsz3bWb0rkxjtkHTKsn7w0BHpDHWLH+IY/RbesFkIC8D6TbMSOEgCImW9Bl62DYO95zlxweU4DOnryPCuwBeoAp2wnpM+S9ohhYQne/kIfHdF1gymSLuwXwrpY0T8bg2AkhElAX0LMnD69Yf5DHechTMO5sQ15g72MpBkx5XsflAnfEBr3LvUMeizcb7IA7FtF2DLAyQ3ypTHRBL4BqaOob8njAI13Mhjz0Om3vI6uCni1gZ82MhWRIwvNBXjkpdvk3AGBpuXexTjfZP6uv2WnwXAtwuyn5ug7QhXykeQFjCr+h8O1x3tcU/wsFEUtZbgYA/KLCHyrwvSKxsv26/uMl/J6CaGzHYztp2hkAS1ft+4I69WwX0FNc0u/qRvyBFJ8W4EkGYLcdtH90J1NITRdb6aqVp4BlU3jqxQMFYvbLxIsT0v2WgnQeke6jCsSH+wVTd9UCdnjB8OCRptvzlqzG8OnXFd5uAA/Ie6008F2YdafvcFct48JYOBa4I7wr7dfLy3m82VEBkj15QB6BLub+wNRdtR+NIQ/Qw6P3vjq71L0va9NJ5O5aII/xVo777K4FpTdlUxZCBvQ2BB8GvauqI4x9XBAcvar/QNKrCsSvy9ac1v1sgMeWYBovHpMviBMYXQiYAnTAnQGP+BXZu1/vo2cEA6YOhr1rpTOUZmZRYHpakHeqePOIr0h3v2PFHkjdHQESM2yJ7c2jax+/gi7NqgeGPEDvsvTzTOFL+gX6PA+Z/sQEF/R+UgLgxHp5wDQzbN3FDOA5oLnP7lp08YQOwI4JIgZUp/FKAvoG04tFM148xui13bXzOBsHAFQzPg/DPudn/nO97psK/3rq9Y+n9nfb/S0dmJ6uyucBhdmAv59ToIs3248pIbJRXazbv1dSNDMCGHc7Vl89nXpfbHj8I0Ee8KSPpWvz+Bu6grytIGBa/vOj0aW/odvzN8Uk/V08RiyfUrx46CS84/jRJyqRvHjAHIB3VLqP/Slp/0mltX+oP+8Sozy8Tt47as7f2U4/UsNoL94ZAd1buoi8VUDv6OgnSnz4iaox/aPNb58m/IGAA68dwaBH/KEu0njxFnXiMS6M8KYa7z9ZYpZW6au7BVi6rwu0wQ64+0ClIP5QNgc88HlcGcPd67oL/68K5Hm9vCPzM+ZTPhlY4mFQBjsDXtIMW6cb6ERpSF6RxRlU/yNqxr+lhuWKjvR3HgJLePEq5AF6V2VvgwddtYsFkOj6fFPN4X9RIK/PiReMa7sn0AjgJb4n8OAGAG3MpjXkXVZN/pGSpjO0rzrNuDb0AUuBPAMfQz8MHqdVPwJ2Xxj95wX0eCbG83QhPqVq7vsQsLQuRArcAUxJ24t3RHZmggtPSLmoWv1VrSfwEyrDedXp/s5D1h403Bnskiafja7aZdUKNF/UDfmXiq0vlKvKvo11wDcy+vjzvvUJgD8t44su1Krvf6PLlo3P+ScKAOH/pMDGPgD42wotAJ7TPu6hduMqBhg+7Vj7+sk0S6dc/I4A7y0B08rksa728OA9BvDeHYOd4gfvOP0IL422w/IwHnlrHN4WpP45pRUf1pqEPXUvV8DDA4YX7z0FYrppmXDB8ilfUKCbk7Ftf1GXOZYi4ekGhylV5xsjre4LjB5I4wN5we4rJOYYXZ5HpQ+vHZ68RcESy06Q15cXD8DbEuAx4cJwhzfvQ+2zbA0XaZThKXhV0MQYsR/RyfCtst/X82wNeDcFeKzrR/hoO2ZCAxtLpSzIq0TAe3dODQvpPr1494UbBjwG0eNRYiwh+gNLJ6X1coE6QO+MGnHiE7p89QVLjHikS/Ze8eARA3toNywdlkWZYAHkEa6MfrzEiz2CBxB3VzYF7u5KpyGP9Cc6siVb0n14vgAeoHdJqPTF0Z/TPk/S6ad72d6wW9IKmOJ5JDbkgdj8/gBoAI9HnL2ppum04KkvL567w+8UnVWvdQOrbCdk6XjxiF/VmqZ48cjvq07zIMc12ZdwexyTZvwgYwvv68bl8771CYC/J+NzRTzo9kv6gJ9V+EWFXxl/GLOHf3wcxlnbEYNlREIT23nt4fl72rGJN0zsnPuLWgNwzt1GdCsDcgXwfjiOBXnsP3LX4eiw+Hcb8N7SGMI/6/3Dl9W+dw9LXDg80QKoS2AZDwJQ+lgXhxbw6Pb8ti7bAB/dtP1Uz0e6XNwvcAfgfTBOA3k8zQAobQGPMWJ/Rkp/UoElPRYmqkZXO3jp6I411OFNAvQ+UvyRbK3xm1JdAY/xYf+JToKfKLDHAsl9bDTgm2oENwscBfIcP1DTaM1nx4B3pcRn1BjyxItjxUtzqHPZNOCb8tRVsAPuDHlAKTUer5cB70qJVzQ82d20LOnRz3nIRAsDHnAXwPtEteaGFD8SELFC28UCdcSXRv/ZOI1nqR9YwuMF2AXuaswyTA+kiwEGdC0Dphf092XdIv6X2mcIxYnO6wZfiB+dLlpA6U6BUsCUNGtt4kkH8M4UWAKUWAj5DfUAAHjAUh+bPaW3CiQZ8KwXaNqQcjQvSCFeRjQvKb6ilQ9I7+XZu7MsG+fZPSm+XbrDATy6xZkswiSotXIe8iDH5aL5vOJz8jv+ScUXVI6VUnfW9LrR6O/NUtZL91ndX0Grib6u5M8pMElDFLOvjXF7IqMR3sS2SxfPn1xyxU1AGQN8f6z0txSI2yvxb2if8L2nHFM/7xMb1Lf68z//86Pjx4+Xg9/+9rdHhD1vj1ZVkvcUfljjR+M0Y/CQe/gVeRjfVPwFgR1BaUJPHjxOQda/qyGQ94FOQN8ZHtYJaKB7QzEBuGP5EdZsa3+CPVtsX2+g0/CBgIPuWHfTAnlOsyAy22Fd2o4J5gA6vHZHy7gw0mj277yvL9/nm2ig76sxAfAcALuk6b5/JM3H9cdCqw4npDvpPjx4XKB5siczaVkyhbXxCN7/pJTIEy0uqeFjeQYCkIcnjBmTS/u01sHe9kB1mqdZ4LXbKDHa2f9YF5oNfTjLYJ9Vw3dJWhmLx0QRB7yRfXg78O3iqbtXQgCPfSYTuQuOKQuA3Uk1gI6BJspwTnWn+65DQwdPPzEgJQbyNlRv2HhuLWCEF++UtDsNpJ7vxYPHeYjHi1mpgbqkeeqFQRpPKVCK5xHYIHbow4PHeYhnsUJptBPfLMBKnWWiBcumBPJIA3h9efDu60pxW/oCdsToJeYY26IULhWd5wrgAaYA30nl7ta2/Pqv//qIwLa1tTX61V/9VZJ027nBYu9ztPUJgI+m7Iw/Fj3Ez3NF+oZeB7R9UaEtB148PqPd/pV2flfhFxUAxX+nwNjDX1Dgc6gRQOJux+Ra27GCFABcfdY6gI/kzQDuHr0/hrtx/Ig8xv1I/iF91JE3xiGAR/y6jnU/Bo85cI8ERoY7ZtK+L6M6fqSGxd67RTUeTLLA8wXYkQbymLDQfVc43jnPoDXQ4bEz3PHYJNY7eyhdeO8uKwB2AbzXlMtzVLtfdJVG44EualvS5wDYkb6qCx1LYdyXrTUkUxc2xuAF6oAk0sd0kQakutxoVPDQAXYOhqXAHhDFhpcOSArg1ZjB/92D9AM13xsFMAA6vF8OpJn5ywYsA3cBvEWBh9N4lRbLa7r8x+/PDFrGsgXyEm+U+9vHsiXKAnZAXkDvgn6D7sfg0b3G017RfE912168G2WfLlvqPA00T4rAc2fAqzF+m90a8HnZnjrNwi4AXQLQlLS7lPGELRdIqpDH+okA6lmVqNvzEFvQcQ98GkQNSUlzW8AGeBrsAFEgD82GvaOqIV1vnnyDx/HmNtQZ7vCs24/DCqBLsimAd3ocJ82Tu2exDZNAuMnqbwOqDrL9mN4M6OHNazfAbtoFB2WxuXZ5/T+gEAjl/UDg0449/e7g/n/QBBDdtRbA09i1hwqkt+FOXWxlmRQB3mGFY39aEyz+0hjuZIaOx989VlG9PAqAB9Q5NuBdlynomj2hANgZ8Pz4sr9Q9g+pgen6Ak0X58PiucN7B9ix5pbTDwUihrsjugTTUAN3PCqJsWFfG6cvS3O31Z3GG88dILcljYDd/XFMGh8Z8H9UFzjDHVDH0gw8du1yCUxj6HKjcWZihbtmATy6aBPwgrlRYSg6XjsmWQB2K6Mf1f43lL6k8nTblWVv4+0x3OFBSgDwsL9PbWb9Lgg4gFI/9/VLSv1ZpS+pGQQ62vvI+VudNeOAO4BuXbBh0CNN19stCQjcnZdGPBt4lF6Rxf/TAnk8UbXr85AuzntquAG7CnhOA3149tDEOLaTBYzQfV5/X1StoBzndI52fR5Sa1e3QcnAZGiiLJSJjeVQAkYA3WsaB+v9c1Lc9XkYIGXxbkDUsBTtLdzFe4fWy7Lz6TI+85wUd+s4sLdxXVDHGEcCmmtMdzKvYTrZadVdg91Z1YpXNc7xRwrw4dXr+jwsP/7n9F+3V7wnjfxTyvqmwtsKf0UBEPs1hZdlswfw3b8xWj6rIuCtO/xahb1D8oJ1CHcAxWOBhYEOqGPMGmPASDMD1d1Bh3Tq2Wv3SokNenjAGHeHR6m7rlnAja5XgM6AZ7DDYwfgPdQFBEii6/WovF4OwB2LwdJV+GqBvi7hjosYixgDdcycNdgRsw/k3Sj1F88cHjpg7pggw1AHbAB3l2TlbhsVPHNMBGFpFAc0e3+reGYeFt3H1PgZ7IC7BDx5wHW3cEf3JosbM4ECmHM6gMdYsK2x5qUx3AF4CSwlgRes20YFCNpUvQ3UJWa8HXAHQrEdkUUNdgY80vbk0fXW7UxUwB8PGEugVMAD7Ax7dMix4W3Ec8fYOwMesdPM9OR4V5uB4540AknWXWPsv6ozleER+HVXVHPRjdeRYC8Y6a6fqUsXpjVHt2PDnSEaG7IMCuvd2WN3ZqzZXbVddyezXMvdAtEAHTBdwY78dMsCnYY79FbIA/YWlNMl3OGJZjyg9a6OYbTGN9dujr678vcxNd1VT3fy8KrP4NYnAH5X9vxH4/B3FdOV+wOFf6DwKwovw2YAfFYX8AFLUsEOmLs6hjrWMsu+gQOH7mFB0WF5CQ4LjBhnlzTxIV1Qutq48AJ2Bjk8Rx+PPXakgTs8jThgaTIY0wPc0TXLArDEhj2eo9vVRSNgZ6ijWxDvEXHgjoecPygmZElVQx1AR7hYoA7IO6rGpUuI5tIMwAFHW9LsNLFBj2kLvvM+KY3ABQG9jtkn3WXjbbC7IWU3xmBHzL5BjzKx0VW8oPrBOnc1DuBRb7qD6BbsNgQcgJ2hLtqBJLznTAVinOA5xedKbLizBwyE6q5O8+vfKSAXuHMcQF0tZyp66N4M3C1Kv8HOMR1y3Wn2uDUgifXjDKGka8Brhx6mrgCeBrvEBjzKw0qgXW0GO/QCdFUrZWCfSSBsACdwFM0GU4AJ3Suq08e6kqxrMWfaWrEzIIfHDr2BPFCVawdeW7Shm3gS8s5IcZfnIWBHdz12ZUxm9DrGBwn88dufLF326EV7dDveXLs/OrPCyC8dGACwszqXL/pUiZ9W+G0FCOacwtcUflPhvMLLsO0bADmpRqWi4rED6ojpFgTsHB6rYnsD7C4rXNElD6gD8ghAHnndjV1zVyzLLBjqGHOX9AOlH5af0o0ga/FVqKNrkEVUA3ndjV2jU5NxdgY6oC5gZ0h6IOgAWNkMdhcL0OG9C9gRs9/V2DX00BW7Jd0V7gA8B0DJXch4khbVpDBGEKAjBpiAOrx3QNJsxsy4Lu7+nzpNc4K3jpmyaExsuLuh+uEuZOzIUysAJDQ6XUGP5qYr4KArFn10uxrsWHqGfeKbsjkzkvFDA3YsO4NuAI8AmBrymGjRFfgDQHi4gDm6Xmtgf1W6mQnJWDsGcywVrYCSNdsT5rRnRO7+q87uCADNJAr0ARkeJ2hgch6zqH0e8tg0gx2g5BBQwpvXldcOPXRdGkStHZhLGchnTBsbmtAKaESz99G/oqPdnYcsgQIYoa8FvKQ5zuaZ1MtF8zTgsY9Hr6vzkHX5rM9eO7x3BjxD3rr2rJkhBnTXV90AXiCPY88D/sMYQK5p/W12//j7gUGgDxIHBrsfTasv3cf2BAB6Zixj0nhkEGBHDNg59gQKe5HcFQvAAXMAHuPUAnrk0w00/5+IteuAIGCOp1EY6ibTvIaN5oQnVRwRzBnoSNM1CNjRrclaZvO/66YT9oEav/vSPRmul7IAeVnfzl2x5wVwBEOd46QB6Pl3XRmQ6DoG6nYOD3TR88Z0lTNqNM4pGIwMeQY88rvwflkzXccA3XSgDORxo5KG+7RqCHrpRgbuiA1JxF1NpKAT1kBnqKNLtu4zxpGutnhzGRtIF1WCIQ9AIq+riRToAZDQCWAASMyINdwBdbf0CsMG3lqWE8GLBBABpk4DeWdk8268XwEk6w3YAUp4kgxMzEJlAzbsZWShayDJoOQ0uvF+dXMeoin6DKN4wSqcAn3Z6IrFk4TeVjeAxH5X3i+gDc9XYNRpQ5LLgOfLwzgYXGAQRXcFJecBowu65s2/beExb/bWYV+0Ow7Ysc+VnM2eUbRas4GuphdUklm2LQMA9guAzOBl9i3dvQHA/1bpn1H4cYWXYSsA+N7qnx8tk9LGunZMkjDMAUQAHc/iJA3UMYFi/i5+nOTudgWECAE8YiCJ53C6MQF+eAqFwc5AV/fx2uH5mv/6dnXSBGMC8dgRA3g1zdr+rrZYkcYZqAjYtZCH5vnfvQKiFeYAUjxGDujmmNe0K9VDWpd18WXSByAH3JE25JGHB3LeF2agjseNGd7wMgJEgBxpQ96WLsyBOros0WmYa2MAD+1MoJj/PRtNiT1zLC9jIArYsU8I1LGu3QmBkD12jtHvfWI8X/M/DwE2vHQGOeAO3UCdY9IV6gxIaAQsADl0ErNPmkd9zXvDhnRj2lvH5BrAyHDkeE313J5czkUWa7He5e0Yzxd5QBPevPnXaWYeG46Io7ONeSoFdZ8Nz5b1tZqtl7XtPF5tvjeyaMFPZ/CscORyGJRI053JBmga5gxFhlLDHWl7vuZ/Htq7GKBDdxucz8huhkPQnc2yLIY6g3TSibuYiQyI2rt4Zzu+vnZt9PWVn8S0QxcwVuh4Y8zf7ygAf19S+GMFuoH/tMI7Ci/DVgDw1ur10cpyP73WgN6WHm28NfqDcfiPOvVuqHE7pZOP8XTMYAPqLowDXYJOdwF1O/2IgN6mFoNe12OX1/WzE7PsCSDq8XQt2KEfsDunwJqC84e6nTTb0/GRLh7vKHy/hHUtjcNmmEMzMGSoA04Dd11A3c6a8dsyE+8dXaLfLfGdsgj3fWnDC4CnyEDnNB7H7HcDdTvp5lK9Kp1r40Aa+GPkFB65gB0TJYCiuo/Xa/5Qt5NmbgNWNdHqlhY8v6V6cVMxXjBmj7YAF5DDE5Z01zNMox9vEc9lvVn0flBinkrhbkEADhAKINGNnLRBdN5QF51tDDSxPMtNrV5wQ+FmsTk9LY8KHGFTZpLWGM0AU7oz5wt1rdY2zbi0T6U14UZZyWBL9nVXJpoBJYL1Gpa6grpWa9KA3qe6Ln8qrei+rhgfJLdWeOesF9tyA1AhD81dQF10tjHexBuq0+hGL+F2OQ9ZnxFYrnZ+pHvcr63817x9AMDWiB2n/7K+T2uh6HfzQswdf/2Bvq4A4DPXATzQV/jNBj1ACdAz8OHhw+N4XCvgH9djjo7r6Q6EowK8F2Ez6L07hrzvj0HvQ0nD0/GmLhpfVviSAsue4B2df5fEs+wyCXo/0OWO8J4amIfS/IouIG+PwxelmyVy5t9l9WzNAT0g711d8N5R/EMp3tSlmrW03tQl+S3Fbyn+gqx/4lkf2clxxtbdFnwAequyMTF5+AyWpXNFa0ouSzuP0WPhiBdhw1u3VqDj/QJ6AB9LouBxXNGY3DOqE2ek96z0A6cvQp2uoPeBNH84Bj3W8jwk216S1tcUXi+BxXRn2c2239+sgh56CWhnVYAHqgnnpPVV/X9NgedSc6Pb/3lIWfGGAXcEoImY211A77yuHyx5QjindFddx8/6DQJ6aAWYAD7G23mU7hW1JtHN4xa7XQVgN+149G6qF8ugZ0hdUw714KwcHmhOAFZ3Og+HLmD3pe1m4yH/2RaYOQCy7MmWPGL3i1cM0PtDXfTw6J3UBQPQA/IApq+ostOd3D80MbR7Q9CxIc8YHr0NQVM8eifUEBryvqSL4BeFHiw1089dePtzerzV+7pg49F7p8TramRoeBZ18ThZQO8tXe7e0j6LW/fjWWo1A6c8kQK4c3hX2t9X/cCTwIKpgB7hCyV0Nd6u1Tidxp50065J5+0CeQDfe2rG18egB+S9ITh9Q5fpL6heL01/RC/7jBFbVX1IuKW0PXp0eAN6r0mvYY+xdy/CeQicrgqSgDyD3oeqJ9fL+RbQ49FjwB7Pmn2egfLzNr7h9JMCebcEHsDequo4dT2gB+wRzugmscsZsruV3XB6U1flqwXwiG8qYH+8X8AdIaDHeLsXYbMXEs0OwFM8eudkWx7wZkjl+veinIesE3BNoEcA9K6pTt8qoHdONy/WDKRekeK9nYcDAPYDgAxo8ECMJ88KaIZj8x/I8OR37ydnXwDIxY3FjA15f6zLxh8q/X3l3tNFmTFiAB6wF9CjZ7zfjYseky6Au3VpJSY80OWa9ewWBEoA3qICMcuhvAigx6zUe/KKJdxVmoWNGbO2qEYcwDspaCJe0P6L4NED6O4JOO4IlAJ791RfODVYxDiAh2fvlBrzF8Gjh4f0rhpugx6wR/hAufelmYfbG/SWC3y8rvrRv0ePOs0SI2sF9ICmD0qaUXvM2FxWfTDoEb9eyvEigB4TFFa3YQndeGzWSt1dUUNoWAKYXpXdu13Xc7erFF4wdDoATMDpjQLOaKyQ94pqy4vh0cPbuKprRUDvpuCDfaCVZVAMetgb4GNN0hO7Fb+zfNoWPGHWfK3EN3VeMsMW7x06DXuXSwyw9r1xHt4tnlP0OgB6gdOzDeidV93YzaO313IMANgPANLf/qwt658863V9H38qAAJ0gN2WvGKO8ewxbuyRHNU8qxVQ+srYs/clXcD7d6+72/a9MeDh1SP8UKfoVnGuL8gzZsh7Ww3i29JO732/G/CxoYsckLcurUDePcVMGOFx8SflWQronRTosQZe3w05Fz3G5+HBu1tAz7CHDwdv4ynBR0DvtOAJryRjs/re3G37QYE7AA/QY3FjLiU8W9bePDxMrymwSHf/jaK7bT9Sw4h36cMS3x57mRiftyKtNXBedvsEhZ1+U24R1wQbePSAPcCJNECNPoCJLmfHdM11/ySTad3AB4sZ01XrgEeP51av69rB6NJXZG0H0vjK+r5J5DzEMwbc4cW7VQDkqq4cAPUR6b0o3UDTKyVeEay+CN3NdNsCdgEm9K9pj21ZStGMd4xngwBQLwKc0m17Sx5pxuhZ98dlH9BmbJ7B9FKJ8e7Nu7t5AMB+ALC9bvyUdr6p8LbCS/skkE9W/9/R4jKzVb9fwpY8Y4/UNLJa0TFBHsGw92VdCN/QRa/fhpyLHk+s2BAoORj08PAxt/ZE8XbgESMAejznt/+G/L6aQMCOMXmAHmnAD5jjcWSA3knZF8gj3fVTK9qKnTRdnYY8QO+DksabB7TSJJ6WrU9JM5BHzEiyvuEUyLirxhDAuyNgul28NR9K8ZZqB0O+8Sy9XjxkxKyF13dD7lX/rxdYWpN9DXvAx90CH8tqDOm6JQBOS2pg+vb2Gj5WC9gBee6+vaoaw03AEWm8KK1XFAxNeMb6mjCS+kzMbFpAyXB6TWkG2nMTMFIdPitoujIO1s3c1b43PGC3dK1AN7BEfGvszcMLdka2BUDOFmC6IsX9AzUzaddkV0DPAe08UnJT1wlG9wJLAB7aLxeE6rtbn5sAJl3ckG2jG+DjKgg4nxFAA3foxZvHfl9APQBgvwD4XV0UPhNPAvmD1e+Ozi9/VY0jHjFg721dwPsdQ0HjwnwovHebBfSApXd08bgmsz+WzksCuzfHkEf8pk7P7haU3q1BoMt2XYBnyGOMHrp54sl9aWatMwAPj5hhj2fP9g0f7rL9UMoNeAY+gGlDNuU+FshLeE368eb1O2idbqx7ujAb8D4axx+oftwp2k6rMcSLZ9hz3Dd8UKfpsr1dAO+qGkdAj+7PWwWaT6kxWZZt28B8xb43HrG2qvNuTcGgxzgmnirzWHVhZQx5ACrghDev/5sAnlrBWDw8eWgn3FajjhcHoAPyDKc04ldkZWbo9zu2112216UZuEO7A94yPJB48wC9M7pmAE0r2u9rtmrqJDcut1Wn0cqkhsRMJuHJ5suyK6DXhr7HFFJv6bI14AF6DozNY2MsHhMxCIG9eXvzYs+nxXQpRyvxR2vvj3565ed4yzAL+GmGm9Mxbhk/t08CmYVNDXk8OgvIo9uWmMBMWx66zXpnzEZ8Uxdt4rd0GWRsXr8eyPu6eLCEymTgecV0M59SA4hXKaBHmrF5/U7CAObw3N2VbQG9e+OYCTBoOymvEt22Bj0g71WVpZzdREQAAEAASURBVJuV/3erS17PDcgD8PDSOGa9PC/1cXEMeK8qpkvuVdUTRjX0t+FBYFbtbTXia8ULCejRJefuLRZntjcP0AOaAKa9Df6edek4D4E8llQB8gx6hjxA24tmXJZWoMPgZGDq9zykaxbNgF4gj25nuszpB8Dj2AYmkvQNTADomuAZ7x2wZEj9WNc8zsMj0gvkXZoILMTT50YdMOSh2bBETDczN69LUmsotXZgD69knz0Bhrw16b2+DU1oJoe2hUkihjzg1LC3JOv3fTOOpzGabWt6BXhmOD0uLCJlrdj4yJr6t1a+TNUYALCHE+Qz+SSQWduRrkJm1AbyNgVOwN6WLn6MJeSJFicES4AeMaB3Qo1iF0+22K2sXDxYAJlZtYa8D6SfwCPuHjSQZ7jDo7cg+Oh7vBhgCuAZ7hwDfYDpYV0+DHmvbsMe+4zW63PjMWZ0194pAUB1mk5cLsan1IifKh4avDR0fTLGrd/uLerAHTUmQF4b8OSx8Qxa4G5J2pfGkOeZtv15mDy+7UYBJoMesPexrMwj+Zics1QAD0gCmoA9Jjf06ekNmAJJVTONuCcysKj0ivRas3XT7dz3eDFgjskWBBrxpJlIQnch4/CmQa/vbma6mOmuBT6s25AKkOAZXVadRjcAYk/kpQJRfUIeULSq6zSaHayfVTjZWDePLtpoJgZW+/T0ch7ekaVtZ+tN2uch3ukLY93AKb0CrCX7pANh6ALutwv4M/MkkIOuA/hAzeCWAGmzhPfVpL+nNMt7aKVKNeOskWfIA/AMecd14e7zbsuP2mJh0A91uSYY8niSBBvj25hVa28e8Wva55F3T56I5Q0d/OOC58kiHwnyEtDOmmh0i58ucAfY0U17ahyzamFfGxc8hnvfFSwBeQE8um8Zq0e3bAU8NAN6r8j+/XV9ciHelNo70kgw5DkGWPHUuLs2kGfQ63vdPLo96eYElmr8sXLv6Fxjkss5NYAGJqCJcKrnrk/qAOPvgDoCk1sAEJ7kwe/A5JBlNdwBPetm3FWf5yGNOLOvgSUDEzEr6NlTQyc4mgN6pC+qTvd5HjL8gK78aP60pIEPfgPsuaK6ANyh2xByUYq7e6b1Ttco+i3wgN3ahlNDkz2mBtMAU+LTqjF9ti3ANJqjG5tj53uqNWw8zs5asbdtDeTRZb6XbQDAfgGQiR+/q0BX8JcUXtongTwLAPEgbQk47L0D9PDiMd6K8XiPVG1PqRl/XeG1cQzkvV7udfWCXjY8jyyXsi7dQB7j8AC9jMfDI7YoQGJxZGJADy8eT8Lo666WBo+h3oY7BtPTdQjoMXtyXbpY+oXuFQZ5E+zNW9RFpM9uccbdAXiTgcHe3ACMZNdzqiF48lgCAcBDO4/oO95L3eBLH6h24MUz4Bn0SDPKho1uz9PSSLAnzzGPBetrY4wYHjvgzgHooAzuIgKmASS8YG1MWfqq057ccks6r48BD9BDt8HDk0XwcqC56qaR7KsR5zzEL03DjVaDHpB6XbWGpa7wTDP72oC3XBpxhiPsvRGfZV1irKDBA80GEPbpqqWppNsTyAvgETNG71iv5yFd4jcaWHKaiRjc1NL9bTDF1gAT+nk2d38Tc4B89AXy7IWkfvgGAG+d7RzAs82ZfjbL83AAwH4B8C+ohv62wncUzikwyOd7Ci/TxoCp1Zt6FNzCMo9kA+4+VADuiD/UKXhflZZLBF48AA+4I35NeYzH62cygAHvui55dC8DeQ4An2GJmbXcwQJ3gB7xK8pjMdZ+ZgQH8NYFSwTAjkCae0YuDgz1NtwBpoAS8WX9Av111dIdyxp5eO2IDXp4lm6ofjyW5lMF7vDeBfSIWRR5lhe8vZxYjAO7W+AIQEpIlyc3LfgYabTpFjLoAXt9dtW6a5lH3xnqWtDDSwMsMfYOwKN71jFlYAJDX+chYx5XC9DhyQPsEhijxwYsGUqjmfiC6nR/5yGAByQR7IE0NOElo87i+QLsAklJ99lVC+ABGYG7pFlVEU87HkaAzvBhuCMN+PV3HuLhvSmFgB3aDXis9QdI0SXu7uXAnbuaWSuvr65aA97qWGvsbe1497gxoSvZdkavtTOqcKeu2r1ct/by2gEA+wVAxgDiLviHCv9K4R2Fl20rAPhvV//q6Nyywe64QOlECQAesz37uUh7PT8gI4BH7EBHKBc0A94VXfZeUSAG9K7oJOwHloBSoCiA55glBK6Vji4qB8ukAHZA3UmFePOO6TLYx0UagGNSxT1BRwDP6U9UFnvDmCKCx4518k4KPgJ5DEnuy0vDUtOA0l0BRxsz2YLG0IB3QVoBpAsKhjy6QfuCJaAUbx0zaAmAB/FdaQbwsCX60MsjzVrA62sGs72Otxq9gTyWjfJ5iI8GvYAoXjzDKWN7+/HS8PuDd3TJGu5qvK4cXzsAPPQyXpPYwMQzYfs6Dw2lBg20G/BuyPaMaWOIBx5eawY6Ant4S/uCJXsd0UqXeDQz0/3WNuABRiuyM8Gaic8W+OujwWQijqF0UjP6Ocbvz8I6BlMDnrXznPS+2kO8jmvFxqvF1lr1ce3D0XdW/iYmXFFwdwt7n6PtUM9l5TnArP9H/JsK/1Th1xRelq0A4LO6gGddGKCDZWINdNcEIKzpl5jHKD3UBY3LHUu9XB7DHYCHFxLA66dheSDoYLwdQMdYPB5rlkA3+Uiq6e4E7mqgyxYPXj8NC1Nw1gUZhrrEwN4nutTdKz8t8yUBO8OdIQ/gW9BFsA/A4w6crth7BZQ+LZAH6BHwgbB5Pb/z24Bn0KMMAN7extKUDzzgP6ADuKCL1pBXY8pCnWcpjwp4QCnB4MSxrjc0AdIGUUADzTXmd8CWDEs31AGl1ss+gyj62JhMQQNuwAPuauAYDTjr4AEbLM+LZhpz4r5mpwLSQFHVXeGDbmV8GXRrViAFktDM8Ill/Q7dTyCi+56OcOAO7YY866bWsBlKmdkewHMaD1kf6+NRp1kYO1qt24DKMi8cRxf6bGt0R/PZ3gBvo1w9Whs7DexRd/j9GdtoO6P37Ojw2rHRV1a+ys8wACBW6HmjK/iXFN5S6Kc/Rl+8x20uAMhIJUMdyxs4BPCAKDY8XgY6AM8BuMOr14eHBlDaKHCH5wuwIwb2eAyRoYMReB6DB9QBSI5J99GtTJchXjpgjqdZAEwO8d49LrY03F1Q82LIY8wg3rw+upUBJSDOQHdDegE8Qx7eO6AD6KQrlokWNQAeF1U/ugdpGg0WD8ZTRwCSDHrep+6wMWGBSRWBusAeANVHAw4MWas1t3CX7lm8dNaL5xHtBiUWRO5jogUeGBbCAJTQa2Bymoad3wLowKtkuEM3DSLaacC7n2gRUAI2mBwSzcR4IqnTQAdeJTTTeKM/gMc4t669jtgRH7q1Ym/bPLCHZqCUrljrBZismdjj2bqFUjS7G9xAGu3RTH33eQgqGZIq6LFoPZ7S7m8O6TY2iDJUAoC2vYmZZc3Gw0itOXYOoJ5Rzdl5wtPQBdxvF3D54fTvTyn8jAJrAjIW8F8o/C2Fl2HbEwByAnIfy+QKhwAe+4CS7wrpgsV7Zw8eMYDnuI/uWZ5msVG8R4ARXqTrynE6s36ZFLIg4FgUZCyMQ2Cvj+5ZugQ3BEbragSBOgDPnjzWTXQ3J6C0qCqH5pPFuwHkGfTsvev2YkejwQIYQB0wRwCUknY3J54OPI54NvDgMUaJGN0Mou/23ok6zdxZwx0NNsFgR8yvwMZECqAISKqxganr7lk3hDQdVS/gwT7QBKyyAUrWCiRhb8eUAe9d19BBQ2idASXH5DFRgXIZlAxIAB0BWEJ/H9DhLvBV6XbjjRcpoEdebljohgU20nVoQOUmBu9d1+ch4zJvjzUH7qL7lq7h90v9wJ7WCZgSsLXTu0FHeeMc/vk8RDV1YlIzeYAfm8c5Uh8ApKoZeOoD/jfL1YP6gceOOhLtXAc965cR9Ey/QSOxoRRAPaNr4cl9n4cDAPYLgIz9A/q+qMAYQLp/f0vhZdq2AfD08qJOsk/VeDDT7ROlA3nEzNjzCUhXpuEObwzh8jhmkdXZznJ6liE9EWS16AvYOQaSrutC54YQz92CGj2DXQt5dGN1O9uQC919XRgAO0MdYGfQI2Y8HhteUB5RlgDYOX1B5ZD7v+NG5b5UulvWYBeoIwb68OwZSIE7oM6AV2M8St12czLmjuVE0B1YSpp8PKhshjv00mBXWMIL2XU3J0ABDKE3Wq39VsmLlwNd1ms4CugRg31dwp27v1k2x403HjzSiRnbhh48ijTcDi3c4VHCs9udR4nzkKVErNkNON2dKQONN+XiPMNzhGaDaOIVWXlFR7u9YTFEAxnWSoxu7/s8pFnk2bToDtAF8MjretYvEE2nbGxtyEO/Q4CUiTcAkm1tEEU3mrv2ktqrG4i2TmwcOwN+vnYsFH2G0dbejPWe73k4AGC/AMg6gEDf9MxfoOplGZBZAPDfrP710fLySTV25wvMHRdsGO4Ceay71d14H0MSYwQBImDOwekbatYZU0UXBVNUzigAd4BRG87r0jzfE1ACtjc042kE7DwRpMbJC3BwP4jnzuMFA3l48rB/t2tYAUnrY9hwDODdVB7gxKBod6uw6C4wx1MriNvAJIAugRQ7MvPUcBfAI3Zg/i+/B8ABENEF6y5lAM/6mZnaZRcnDQqeRjQCRoToJc0xNLv7G7g4U7SiN2nK0SWQogd4AzBqiH4gNcBB9zceUsNdYnvwOD/37+XYPsH2kMBbhDagwzGaK3DgiabpACoCd4ZSwwd5XQOpu76BJOuk69hpx/GAAW94FQ1J6A0wBUi78zZys8Ij1arWqh1Q4ldgA5INpIa5QJ21dwukQP096TKQtjZ22uDPeehlcwykywVMnTbk0WXb1cZ5WD2Nt2Vxa722dm30Uyt/DRnDGMCufoyp76H7l27fdvuX2jnfZrzA6W0P4PIyyfluXDCAt80xJBE7DegBdgzSBewyRhAgApQAO9KAHt1X3XnAuGAwgsMQR0MN2AFIN0tMmhnL1nxS+lhA2jDn7lmDHvldAQcXDCZ4GOIMc+jFU2fIoxvId7BMPgDqFtV4G+pIA0mOAb+uNrxb1gwcGfDcpRyw8/hRfEk8g9ZgZ7iraYCjO/DHu4FGAMNANxmzCLPB7pDsulQ0G0KtP2nPPu3GAwaMesIKWg1J6E9wdyyLHOAdPSlrGi4CdtnnN9jr4rX7rUsVRtEbzTUGlvgtmC1LVyCQZL2GpGgGOrrq3kSzYRRIwr72KBmYXI6AnSEJsAvUOY1uwKPL7k28jAG7wJ1tDnhwY26w46aPbuSqmXqC3QGmg3Vv7rWePNSv725va7TuwOmajvk85HPxzAXsGC1o/Y4pT1fjdSuMUi/Q/WRMnQZGAU60optn9pB+vHZo9CdWfpQiDQCIFTre6AL+O+PvvKmYGcn8EP9Y4RcUXobtwABIJWbs36YAowbAzqAH2KUrlobbT9g4pwpdA8DEfldgx4XZ4wKBuFvSCtg57RjtjGd8XH5DvHJoZFyd4Q7IM+iR11XXJt469AJJhrnJNMvA8nuw8eA3oK6GQF63YIe3jie2AnTEBjzSwIdje2SYOQVu0HXSwh2A50CZuujaBJCYPmEIRbO1Ri8xv4S7NemqXy66rTPa7cXjst1F1yZ1mtmkNILRTSMYwCPmOK+jgTOMpsEO4KGdsNwZ2GFHNFur46ob29eGGx+0AaPqpvFGL/lddW3irbPm6E0M1GH/26pBvpE1jC5JH2BnnWhNmuPd1GkAiQXbqRPondRMfrpiAWTb+Um92Psg49bKxek5/3EtY+CJtVqzvbrRTrvj85A6jdfWdnVc09SRbsDO5yGIzJAI1wengTsDXiZ++Dw8JWXR+2T8tCEGQxdwv13APAHkryj8QOEfjdM/pxio+mWFl2HbEQDxwvEUByDOHjsgyYDn/ZsF+qjsXLyYJHFCQGSoI04asGNxzPl7ZNDC2DoDHd0PQF3gzmnKFECi2TbEAXKAHSFpxn7Nf0wSmvHEARjAW43RS57hI13HeOuYQAHUJTbgJY8B5/Mfk+RuYzwBFeyiNbCXmbFAP4DkwIUYKAWYiNG9LMXzHxvInTTdrHi+sDOxgQ4buxyZGUud5tm41hmtgTxr7qIr1t3Gd6XTIGfNbsCdRwPo7m4uNuAzMERDCMjRiNeYc3T+AO0GkGYb+0arG297Hf0bUDY21lWz3gobBjrKwG+wVIC1vHhO/3zt8II4AbhAEtDkctxRDbKHMV2a0VlhyZrxLz2t4Z5VMQyi6DN0RnsbZ8yohxYAogmuJ9ZOXjcA7TGuDCtAM0DquhF7A0v0A2TDW1c1V+3kAXjUn3kDtEEUbEMrmqM7MWWhdyIOA49mBOzAO2ybNJpZS2IWN4UDAPYLgFzB8PjhKvp3Cn9Gge0PFb5SUi/+vwKA/8fq3xsdX94Q9rlb0J46Ti6604AhgI7xR4G7M4K++QISF2X0AEJMjJgOyWfRiFQDnu3AmnbAXI0Dd+if/4w8wAcYmgzA3O1SFvLxLnGx4I9Hi7EAQKAuaeAIyCPMuzHhomx9NM5oT2w4Sh4XQjQbRCvUGe7YB47skZn3zFi0cJ8drQY7bIxm6yeOd5HuKmCiarV+exydBurm2ZhgO2oHumjwojnpxLXR9hMpDKKGCwMejbeDvTHz7TqmS9CaDRuTaefRaFM+7MdtiqEuQGTYCOjZGzPfsWoAv+HNoJE0HsWarvDsGdPo5XnaBo2UAdggPe+uY3fNA/zUjarTem1n0vEucl2wxknN0UtMueZdp/ntgaJJnRXyyI93MV4va0Q3gBSws/3n7WH0ecitE5qxt6GuTXOMc5W2ha69BV0brLkFUrq/U2dOzf1GRTImtgEA0/JPmKWznT/SN9EN/M8UfkfhOwo8wJDu4PlekfUFM9oKAH60+gejC8s8u3d+Ez1osIE1gxwQlADckTbkGehcuqM67QA5T/SgG7ZNA3mskTS/RpsLBbNf6Q4GNNBpsGvTFehQjQcOiHMA4JK2fpcBj+j8qggTNwx0zDY20Hnf5aABZz/jLdFCV6XhE50GpewDIByfp3fRHjo8uJMaaQjJi2a8j2wGDbq5A6L2FqHdULdUyjPPRjseOsb5BYqSRrfD7XFDUmQXOHL3q/UmDdAlTaM9r406TYNd9bnhntynfhvo0EHXKtMlgI02doPocsxzlqbPQz/7JTpprGvatiaP6wxbxqdVQDpdtEcz4IGfBiCZ1wb0oDFaAQ1rNnRkn7rvGs040VMFitBnW9vulAPtHJ/nDSFj6eiUR1uru+5bOzcF2QA2Oudta+u3naP9VKlDef2sY35zajR6HQJ2sbPjzNylPjGmzvCJxmgGRtl33IV38SC2GACwXwD8hn48ZgJ/UeFbCv9EAfj7LQW6hl+Gbccu4GcJN8zx7GBDHJMkgCPHNHiBOxZBdbcJkMHIEsbTEehiNdwBdeQ5ZqGIedyxctLTCQjM4YGLJ67CHfmGj0yQwA48cQKoYOlZxy3QodvH5tWQeNwf3SKBo8l0gImmJhtjEtFqqLNu9gEMA6nz5tWQ0KBxfw0MOWBXe+vqPuWoHhga7KqRxjl6XQ5rt0cj5ZxlDMwxRs4Ah24DRvbxcVj7Xb3S47sMztQPN9ZopNF2sH7S8xrnFZiz1uhFJ+kKSKQNzpxZnv0KSFSt0ezGj3x7YWYPR4G5aAQsAI6AkXUHMjwDnd8ZKDYUWTfp6X3KRD2ax2aYs12jPVqrrbE956G7Arn5iJ2tFTsbNmp8WreMOy/0e9ByUE/BIgdDUeDOebYzefwubPHQWV9sPamZsszrkWi0LfT7YFMDKDBqu5Oq6fY8xFNOxyo6rZUYmCOPPzQDffNoWw76O+33/QMA9guAzAD+f5ofDyCkS3h6WZjmJS9ccuwB/P5oQSkArkKc0+1+PEaYHTAyyAWCgLqAXSCPweSzv7jRrQcQOaATz6IBDqio6TvbXYBYnssxa75VmAPesp9y0NUz+24TLsb4MIAI6zZQGOySZ2DK0itoxn5oDNC16eQRU7ZZX9y4GNP5R4NnnTVOORzfLa9DL5vB6NSEZqAi2g0YS6ovJ0uD43fN5r8Bg3t9g5BjQ0YALg24J0XYY4Rm/FyGIrQbivASBewM1HhgZg8ZeFRoiKtuGu5ahjaNl8aQUWHOOt3gkabBSx7xPCZI2GuL5mh1HK1ARmztLkA/udMeRby31ksjbc2BUse8btZ12qCPv8i2bTVOl8NdgK6X3Cyh05ontdd8bnCBjNmCs0EfLAKEDHTRSjlchvwG9UYQmAPkrQ/tThtGXQZACXiaNTgH9KO3xrUMzmMfb7PPQ64eC0WRYQ7t+BcdT+bN6wZ2Nlei+X/KAID9AiA1ltsmFoH+5wr/WuFlWf9PUstWAPA3Vv/70bnli7rccmdHw1wDsOR9ugBnB3O+QKyr2bMnqMaGDO8bjAC8ForoirTnzVBhiDPIkfZYQMPdLCcYoBkdhkyg5944jU7SLkuOt145GgWWJ3EIDLFPQ13LQXrWAAow03hYVzRnv8a8hjK1G5CGZmtErz1e0UxM4+3xc7Nr+ABmGjl75dBomEjsYwEkPBhpQAB9mhB0GiwcozPeupRntgCKBtATO1btBqTkke9wVyXEO+4NLxA6aegmtbvxq2U5qfox6/OQDl/rsn0N/cmrmu+VWy8rZqQwXltsalsDGC5DYpeFMs0SQH0eUqej2UDnrm3qSgAvxz22Gd0AZTRb75Na0WvNs70RZBKJNWPf1ANi9Lb7zqOc2QDLWjeoEwm1zrg8s5lgkO/1eUidBjDRXbV6P0DqfF6fjVtXbqli54Bc1Z4ycB7O/qYqOj6r8QCA/QIg9eprCl9X+OY4/l3FwOCvKLwM2766gFMwuncBBgcGzZIGIgwVSWefxROycSHGa8WypgY2wM1AlNgwRx5eudnMFI1Xi4bOutrYcNTm4wFr4QI4A4gCRhXo0NmG06VJn4UHw7BM97VtTQzMYW+n233DUqvZwGyQs0bSBre6byiaFcilka760Mh4SjfQNChJ8xr2M2GDOmIvYuCT2A01jTeaa4zNTxYYSd06SByvlrVaV9LEabiT146F4ntp8qwVvdHMRB/rrHmzAzkaXYOnbUwjbZsSW3Ni9OPZqnDBpA2PiLI2a3U6ZajxrLxygWXr2k1vtAeIWshHNbrQG33Ui+h3lyDHZtUF7/MQ68Wu0UfstOO63wKRhzlEc/S1+p0HIFGPZjWsBO+rdRnkJjVaa2COY9TpXLd8HuaGyjAX0JyMgblFnYfzX4XgIOf3Z+m9AwD2D4CpT4HAv60MbtteltuZAoDvrv5/o8XlIwUo8FoZ3AwbThs2ALgWLDxbmAusgajGhjlDEmleEyA6mJcI5ATKgB9rRaf3afQMoTUmL8uo8GNxQXNXMJoME94PvNX8lOegF2IagWgkts5Wc5t2eejkzkUY3fiHrDf6DEXAUPJpELN/0AsxvzNNnUEn+tzwpQz1WMpUPS1oBtqtyQ1aC0cGz8CS4eigni030Hhoo9MNnssBHBmic5x4EoY8eQCIsG5iN9DZByhIO17U73IwL1EF5Wrrqm8yj8YZ2xMbLNylSv20bdFqzdEdnSmT44N3U3qcJ3ZuNca+2L1qTXnabmCUA2bRZ72x9WTs1ywc2EtE9y+/N9oMzK4ntQw55nxeNw341OhoBZvRhk1TDqfr/tEDApFBmTqNbdFne+8eY/fN0ghxDrKhIbqsGX3WCLRRHv7yGs7D9trjTxn+v2gWGACQut3fxgxgxv3hBfw9BSZ/4Akkfqm23x/9b1rghSds0FVjwFjSM34DQMkDNPY7E5QLGfehBiEurG4g2K/pQB3HDEJt1y9G5fvRgafKsRtk9v2Q+9e38/Oa/XoP3TijcCetNc9lsl6Xp4IQn8GdPwAHOBjWop3LLk+RvPJEedC8n4sw34cnjbXLAnDE1ohmNyDs06A4dlkm4R4PLZrdQGDLQBB5S2Xx7mp78mgcAez9bAAFEwGqJrRFa5tudbN0kVfKz3fiobLWgFAtA4vxtuWh0QZC9gv4GU9mzW6gY9eaF5vX49NQQYMbXY6r5pXyBBw3zjTeed1+Ad9gvzm2bexa40Bxq9/pOiEDW9P9ix5sDTigy0DHeYjqK+W49RqS9gv4gWQmALhO2JboqjpJu244dhl5bzZ+ZzTajrElEMd5yHNDeNKQy5L4IB5PunxZTiQ6Y0fgjXIE4sA7vwa4xztbPZ3csnJeoRJbOrZmcrl6+Ci6k7//8zC2GuLBAi+DBXwL3I/SnKW/pK+n27edENKPor1/61O7gA1tmwXcgDeDmmPvcyED4HKspsmb3AwUNBju+qXBaNMnC3BUuDMk7XU8nBuLrUZz1chFF13R7H030ClbZvBFO99Po2HNbvCsMXnWyWuiHXDaK1TgHcHrh6aEaOWO3nnRWl9DftvNhG4aWmzrgH6n00i7EcxxN3ho3uvkBiYj8P3WGY3E6Mw+WpOX9EYZPNA68Plu63QDTZoGrWq17afz9goVQFu1M7qi041wbL9TPu+zZqACPPcjmvzb2zM0qS95tSy8dq9QQZ0GGq0teqstAxboc9r1I/mTddpAUXVO23XS/ryOerNXT2egzXaMrmh3TG7KFK3sk27BjTptsEcrNrXGxK4j1pk81/UTez4P7dlEl0N0WWstB/ltHvv1PHSzFEiumtBo/WgOzE0e3/t5iH2G7fNngcED2LYg3f/+zPjF44cX8McV3lZgPUCWhnmpxgB+b/UfaCHoQ6U5l/Zy8Y33CTCogYbADUabR2M9mZ8G49neIC6aNFwEhkg7bahImkYBTyAxsDEZqmcimvG3uaENpLkM0dlqzeuAN/KfB9wMxkCmdRNbW43bvBaQrJ0umuqZwOZ4dKzLjZy1Gj7R6AC0pSxpmJ+vwUiDbF2t7qrZZTBoRH9AiH0+g7/YGVsBBjTK6CV2GapuGjfyHBuIKAPlzedQ/p02vosG2fBjzWhEYauvhaOUL7p5f7vxndZsTdYem8fO1o/mepxyPJ9XFjCOjukYXckLZNS6k9+lrrGGdjTjEXYdsL2tbVIfx1vNtjman+c8BIyx7JP6kl/1UmfawDk5qRndvhGx3thxUl/qScoEKDv9PJMCfB5aXdWTugGeURaXKekAnV+/pRrGfXz1I1CnrQFbVu1tXi0DudXmB+3uxWbDNljgeS0wAGB75j6v1ebzuh/Tx/6Mwks5BvDq6nuj88uX1CjvPvbDDbFBjIsqQEZDBtAwLo908hIHdrJPnK2ChBtkIIGG2XGbbvPcQNsrZ+h8Wlep4bKCWnRatxuHmk55kk+j5rQbiShPg+zGoTbM0YxejmXfjXTAKOXcDTTxUFWdaI/+xNFX92nMPDayloHPwcbtBsDYxhUmvO+yRKNBzmWo5Tih+rHz0Fa+Jx5M67VudMWGiZ0X7RU4XKcmYQ3tNKpVs3Vak8sSsKBsk7r92t08hC1cRhsaJvVVW0/mt68DfCbtDLxYi+3s+pC0dcauVXPsfaKUeDc4rkBsG0c7ipJuy9Hmt+npumGYx6bRl3pMjErqcz1GTg0c49qxM2ja68q3RzMpANL7jm3rmjd5nNfX89DAxn+ff9HluNXZQhxHsbtj69/tPKTuDdtggRfZAgMAcv73t/2svvqnFfAA8gQQloFhn/il2v6v0b/U5fxIaUAACS60aYDSUOCxAbxozCbj4+N9LqzMC1vRaww/fl1AiPdVb4QbYLo9gUmHpKdj1m97MLpRXudG7r7Sk3BRG4dqek/4cANWdQeCks9oHyaosO9GzmmXlXQaiUCDYWdS97Rmliy9r2phmKvl43VpqKe9Uyjnu7ATjZhDdE7GjLOyTpcnIJG8dowYHqnosE7bfVIzuI6lb5ffpD0WmxP7eaixccAHiOcvGmNjl8Ha8LEuldFhvC55bbr1ChqEa/2w3WLHyXzWQpvUW0Ej+VHawhpwuLudDROME1zSCNmUbVo3n1HPFeDdHksUtjZn31qIWTZ9reynXDX2cT4FG0xv1I+qYWc7ozXPdqUUrXa/t8Ja6nT01Rgb8ldjHph1X2vd13xwjd+EV9nm7gYFzarFfR4au2Jv63JeysM4vJpPHbH2vOp5vILT9hr2BwsMFvjsWqD67rsvI929Wf/v33f/9TP5xjIG8L3VP9I6gBeEgPD0YTU79jMYzO6XDq00Zlzsne8Lf16zUx7NAvk7wRnqAZ3AjtOGiOl8Gg2/zhA5vY9Pju+o2tCYMKnTmqaPuaFrywI00bAHgNPIG4QNDq1ma6r5rUZyoz+vYwY1mrF01WpdkxqjbVIzueh17HSAsja9WPlx+V0DO9YxrdP70UyD69cZ4JLvBtjdsq3mVkPyn1aGesy/TdVbU4GG2M76AczYEo0os8fMkFOPBXrSLedu2djQcWyI5loGUqkzNZ+8Nj/1Agtno46gqdoafbFlbE7scnD0yeD381kPt+t0q6PVvlO+tftVSbtMk5pjazRbMVqiHZVV205p56V8xOS0Nx6xyxAPFhgsMHsLDB7Afj2AjPv7TGy/Ofpf5Ofw0hABnMCNG7TjurD7gp99jvMeYo7xPrwTBiW4nBQABYIEKB8olUYY8NkaAxANlY/h1+MhQDTK9bWkDWQYPA2Zv8vj56zLjee09jRqxHgZcjxd3sBGPsuq3fj6+w1oVUsFNpcKMGAG61rRzNGApIEs9yhpcCmBF9GNLbHspP52n6aVVeR42ge2Zuyc9dozSdqfTaevfVCtRtTVfQOabc1D57Pv2L+DvTfx4iT2Eim2JfoMCzvpDjhg62gGHrFt9eLELqNxHWh1Vr22cerCA9UMhhxM676/XSewbrvxndE4bWe0TR9LVyd2psvbtra9rdg3BfaqYsdoxYLorPukyGVKzG3V6tbWvHa3GyM08/2t3qSnY17Fkx2m8+u+wYz9avvWQkN6sMBggcECL6cF+uwCfjkttoPq10ZfLT4JGq82MAqOp0nScJGfLQDGPo0VGzASEHSjSgNqkKExS0NbAcbvIJ9uNj4p0OjP9LcYbUBIOsRQYS2tTprZ7INjgA37vNaNbGAjENZqRmf0OWafEEAgbbjlP4PEGfjtR69FtfVjCTZ/K/9bza3OthzkMzg9ebzH27RuWwhlVXNN1zzb3mr5zy9hkARoYufxl0zAkyEyeBNbV7unDMRevBnb+/X5vJ1ia4udozl2Zp+6wr6hC81AJh6+k03dQHvqhNPsUT+iIlBW46oZHx6QmxuM2BnFk3WDHCyHJtfdGqMMoErs38N71A2/MmXklS5b+zkDkGHhYRssMFhgsMD+LTAA4P5tt/1O5nUyXo/g5jT/g3oGMHvyHhSoCXA5NgDgvXusBpaGeXLj88jzDFKaSgJ/NLE0+jT4BhZiEJD/STnmM/LH5+dz/GAsN+AoBrxcAgDMCOb/aK9gEDhjTNakZn9W8lDOdxlKrB3dVa9TO2l2XkrOnssM9lbrOmXlRrDoDdbUGEwEGNFcJ9Vo54mt1WtbTds59q02n7ax92NpnnQRrXwd1qVsWBxEj8oKhckhBs5HJfDebKkb7FM/DF18I3/RnfTOMa+iY3Vx/B7v5zN2eo/zDJtRMsSDBQYLDBYYLPDyWGAAwBn8Vmsa2I0/x409zbBTNOxBOQNV/hsCjGnMDAWAwLhjYxQwJPLqyc3eGzwy+GKy5XNo/PNncPIR8gJ+xFaXGYfOyWdxzOqcY8UeTG9c4X10h/n9xwrEVP9i+976mXRTAmZ4jBjTaJA1tPL9hldS1hq9iTkS3bao99tvIL9+O6mKsYe1R8n4dKDleNFj6DLictS/XP3Mh3oXHq9DY+iyPn4n/gzeiQ2LNd/fVPd3es9OeQErf94kwFm7y19VDqnBAoMFBgsMFhgssHcLDAC4d5s98Q5mfuIZy9aCW5DE3ZlBFKDDgJL/BhqjUT4nSJLPcL734nvifYY9oxteJRDukGI2f67/G3L8KZNp5+V7iF0Gp9r/6PZRI9XkJ6MqYOnj7bdxDOgBjpyq6eS0+X6tX5P09Pt3zwee8qm8ir3J2HsZpzaAVX6rIR4sMFhgsMBggc++BQYAnMFvfEsD1LcKcBki8j9wFAxzzFGOGE/iRwJV7KEiZXDhVdkDXmo6qcm8acDiVf4mw0/e5TjvTZx3Zx8w8mSLfLchinf7GMeHbbDAYIHBAoMFBgsMFnj5LDC04Af7zZ76KLiDffTw7sECgwUGCwwWGCwwWGAeFhiWgWHw2bANFhgsMFhgsMBggcECgwUGC3yuLDAA4Ofq5x4KO1hgsMBggcECgwUGCwwWGDyAQx0YLDBYYLDAYIHBAoMFBgt87iwweAA/dz/5UODBAoMFBgsMFhgsMFjg826BAQA/7zVgKP9ggcECgwUGCwwWGCzwubPAsAzMDH7yfzb6H/S4rcXxJ2VxFOJMsibFunheloXVAOsCL16ixUuseCkWL98yuWhL3csyLe2yMTXPi7R4bbv2PX5FfV2+vy7t4nf6PfV1Xjtv8hhHeX8t3wyMOHzEYIHBAoMFBgsMFhgs0JkFBgCcganP6GHyJ/VoMtb38yLJ9UOz7+WT85/lmnnOBM/0AAy9aLPfz38/kyIx7wpK5hMCcMbMyf8BzQBaYn9y1cb+5OfmGN+SRasdZwHoLFztV/h7eZc/p4XCyYWgec1OQAqAGnvByuAocSA06eS0+zu9x8f96sm0MdYLRPMEj+wTV0ugdNgGCwwWGCwwWGCwwGfbAgMAzuD3PSUAPFU8gMGpAJH3DUsBqiAc+8EqHpTGvh+plmfC5n0cySdGbo7xGQEYYqdrjkERHTlmTUa36J2Oo5Vv8zdFtWM/yYTvdgms2I9W43FvO28AL+XkPQ8K9tmTaGU1He9ijaMWnVWrU9m3lWIX6/ZeVFbtVop+nrHLcW/YeXLjPRUOvTB2xUov421wzZLeObrT/k55vL7NJ519HgxX07yyapnUOewNFhgsMFhgsMBggb1YYADAvVhrl9eujM4WBAx8BNcqcIAjYAbA8WAcgh7ENY/XVciZ/kJ/sqEgoGBAAEJ2Ayny+cz88amkgzsgFFBGzPc734r5j8JWI3sgXPJ5RTR7UGn7yTqkzVh0bAw3O2m2fmsMrNozR563ydj2jtpqbVu6tTXPIp4sgzVbNU9j3mlDBc9nrva2x9G2Jo0yvyq6HduSthHfdH/bpvke1Br6be9qZ+vEN8w7sbst7f95f40pf+zioQVGStePqj2p/AZg5uRrdtrfOc+fwbsp/7ANFhgsMFhgsMDLZ4EBAGfwm4FSD/UwuEDSAzX4brhptJO+v/1NBhfvAgzsgxEnBBtH1JXsRhfwSEPbpo/qHYEle80CHbUxDhD4OwwbRqCqEcBAH4Bhja1mcsk3puTzJsGO70Xr8bHmVq/xouo20gWWgk58rkO+gX1/p2HUqnfSOJkX7WgO3LVgtG38seajsnbgrtUd28cLZ90golGPMpN27G8Au/Kbxtaoi6bJeNrWvNKvrRqfTKHH9cNAis5p3ezbG2kws0rXEf57S2wfKXloxs5bo82xZhRHp9PROB2nRvApk59PnXYt2Fmr9aPZx7O/W+zXHSuvd73it8nvMP7yIRosMFhgsMBggee0wACAz2mop73sg9HvlzGANEZAhcHiWGmwj6pr2I3c8e34mJDJrzmuVzv/sI7yfhq1jOHzdx4qoOaG935pmEm7gb6vZnpzO01eGu6kE1coqg1/Gs/AGpr4W5Q/E83RBuKlDG6Avc/7UBw0ChiBAvZegRVost5oeTDWXPcrJLd5vKtuAQznRLN1oRRwBgywqQEhx2oeuoEjd6W2uvnU+GgnNW+N9Rvw0cefoc7H/Pr8NkAzWgGtNuZXRXXVxrjR7Fdb+/j0Pu/l97K9nYpFsHLs5hT6drJ7fofEtb5Q9p02vikaiReLfU9N5LVaW9u7ftjKqRupfXwfKqy7xvf0XO0n82tZsH2Ot3V6UrtvTNDb6nGaXNffHNspbl+TNJ7VYRssMFhgsMBnxQLVHfBZKVG35SjPAv7h6h+Nzi2fL40inZ32rLlxdQMHKBDIq+n7TR4NtvcnX0dePGLTRXPDTGMWkNwpfWLiuBszXo8/ya+niQZaqsZoj5Zoi37Hbozzmq1SgpQPKAEeDENu/kkbgaIzwJb9J+NoJHbAc+euS2sOPERHtNe42rmWo+b5fewDT2wBK9vbnqyqA1yIzqq/zbNteR22d8x/dLMFYGp9qFrJq9p2S0ezf4eqt6YMbrEZeid1V23ta2ratvaNCheJFjL9u1fNk3qdX1+TelHLwutTL4pBmn/RidrU66SPF7u7HNHHXsri45QBOx/Rdzwa18lJTdZrS/s3sLZobuOUjbxJSK62Tp22Fr6fv9jSacqFPv63ab+uvn4Y59lUhiE5WGCOFhieBTwqV8o5mvjz8dG/N/pf1dQfUcO+qWZiszQ8NMBsaejw4BgM8PrQCABgAMIJeVVI43VznvMXxq8nz+8hH1jL58YL5UaKhtbeQCDMaeKt0cbozui24uRPvh7NW2rcnpy8wXe5gQpEooVGDG3H5fU8qbhqnkzX11H2aOZ76vdHEw00OoitfXOEL2i1vLYti4+7XDTe0xt2t8bYGB3RfVxWPr29f1z52Jy4vsb7gTU+3/DDd0ZfAKzVbN33ZOlWI2Vty8tn1C0Qka70VodhAV2LmmIUfdbqMk2n0Zx6Zw9b9PKtrhtVi/P8P3ae1rop9f6NorTFY4NPtS12jybX6WXpdjmSP1kO3ntsok5PApn1oNE2JeW8u7Kzy8L/WrYcJ54ENlsdD3s0WG/sjA8ZPdg69nWcchngXF576n1+Uz/8vVUfKfIoDzbk/7rq9OroVkk/+Xpe1WquFvd5WCERHdWe3ktZkl/j+trBg1nPvCE1WGCwgPupBjvs3wLFA3h19b3R+eWLwpzj2w3w9Eca1gyIAUU3ym0eDcWGGg0aNOezz+vy2nwuYOnGHuChUSIAZgFHoNF5NG2Tx/06d5uieeeB/JOwFj3E6LRGGt+qjyYs+ej263byYFbN0egytFrdiLXHF8YN34IU76zZXh83uPl+YuxprTkW3dZIGdqyAA+B99jcnhvrRH+0RmeNbW/262sWVD927kLkewAF642eNrZdbWfrj9ZaJuzedpmj2h7Xqis2rtC727Fob6EydvAnM27QeDOpO/Ujmms5Wq22d+Cywg6f7ZulgMuk1lZvNPq3qK8DhgLCrWbSFdasE5WpJ22aPO/ndZPxdN3IjcekPspAXXBZrDe/gY8lj73dz0M8mfndJ2PrNKgnXbXntT5eb/Jqx4+xEk3RmBh78sc5V/NOlGsK/308N3fTdh72Bwu86BYYPIADAB60jhYA/N7qL46OK8Uw+unNELZYwMyNAQ1C9tvYaY+yIl29fdOf2e7b00PjBHBVWKz7yfNx/IH1dYbNNGY0YqTd9VYh0Zp23gc4j5eRYdb/PA0CkGZ0iO7Al7VaI3nRXtPJm4ZKvteNVdWZ/djd+4xio/EiRjtg9uyhsBXSohXtDoBNdLVg5rwNHfPrApWBE0MDTWmrGW3WVXW2eT4GjOZz2vownQbSrK9qDexG1/Txtiz8TpPbIelDT9WEfvaps057P+VI3tPArP0OQ1rsDMQk7dh6U1dqHvU6ENd6KrnMVcCpulMG239SezTzmt3ArNXsGw/QyxqetGmrs6br657sFqde8v3W0tq85tVj+C9td+LnOw9947G5bV+shzb+2nIkv+rOe3weVqDkxsyabWeUtvs1PVkGNDP9Z9gGC3RlgQEABwA8aF0rALi6ujpaXiY5uRl0aMC4mK4rJgTAksf+erngOs5r1ic/rDRiXOArNNIJW+HsZDlmsEm+X/s8oJAvA3Q8HhF91mrtk2kfs+72+DSYGSYDW+ghnUB5Wt3ko313D190TscGnWikoYq2thxOu3FLev2J7m8664EXOl8NMTV2I2v9k8cXd/XwTWvNfgWdaAHSNtQEt+XIsZrP8Wkww7sY4JrUXssRvW0MSO5l4/cNtDhGH/aOzqRBhORFe26Q8PhRKw2Ttil1wVrZfzKPTmW/5nlBMuWiTlfvmPW22mp5rNfHUo6NclOUz0I3EGOt0VzjatvW7hx/PpDM9/g8DLxjv+iJXdlv05Plmu7+5neO/WLf3fcXZWmXaTdPe3ROx9TpVpd1W3vSjl0natoz0P15BkrqtAESNbVORBvHKMNCOU9JUUc8Rnha17A/WGDaAgMADgA4XSf2ul8A8H9f/eXRWU0CMbwANKdKeqd9ZvvuZ6PhtSfEILml8UQBL8POvTFIAj4+RkzXZ7vx/YHECl9oTuAiin7DGPm8Yz+bvWZ4D6x5cwzA1gfkoNV6OZbXEWfjM/DAoOfENiwaGif3T46PO0bzXsC3/b7ApKEmGmmwnE7M8aSJp+HXkBCt6A84ojH7SfO6vUFCNBO3mq0pMINmN7bY1XDjmNfxvtgJWwNX0Ra9bmCtF5sbIKJ7Ub/Ozt3xrb6d0kBKwDFAVuNoDSjUcnAetFuFG8AldjUYtGXJMfKex+vbfkfSPg9BnPz2IIy1xc71WNWO5rajO8BuW8a2QI7tG5u3mp/X6xutiX0egsDWan1Vt/er1uxTHt6bjXpS9RrIYl/rNPRGM/FeYT3fRcyQBlsa+6I3Gp+MN5pjtaubTwHYOROxcTSnbjjOMWKn938e8o3D9nJYYADAAQAPWlMLAP5w9fdHC8tHdJECwoCvhLvj9J0x7NzT5bROtjDYGBYZfG4IO6ULFenJQB7es+fpjnpaoTxcnQtqND6ZZgKGj6MfSGi7AbmgGg6t0+BoGLP2mubYqX0DQsrBBR0dCVUfOp2fPMfrT4AvXfHWRQNLsL2dnt4/tW9AiOZ4ygwHwMw9BduaeDo/+3k/scEmemnAkq7xwjiPeL+gnu+ksQdUaGixa3ROxxzb2C7PJCQAg9ZpqKn6qn43siyC40lEAdDo2GuMN7RqBA6q9g2lARli/wY+Dvjm8sf3W1OrOTCATtLYPPHCDM7DhxM6DTdVt8uAbuqNfw9GibZbhTHrqnat5WjznqdbuP386bSBHTWtTtvTeU+mAbd2s289+hLHxrEvsdMH7Rb2eegaUG2K/tQJx/xPHppb8AXWrSe6dospB8M59nfz2dppSM/fAgMA5go4f1t/Vr/hqV3Azyq0wQaIAbTaQN4dXYYqQHIcj1l7YTpWGiWD4gnNbgW2JuPTZZ+8p01QeZbO9rgvqAYZIBGN0Wn4Yt/5gUzekw0dwJcDjSoaXYaFsX4fY7YuDW0dX5TP2GuMzfCEWquhMelWe/LQ3XoRaDgNNWhFc/SfksJWu6Fyvx6x6XLZ/2FwMQhg1xqm89puYW4U0FoBDM3s15i0jwO8O09Qmdb0rH3Ayg3tvTEooLcCY6sZaJj25uGrQVO0Vf0uS833WoTP0vM8x/mtafyjs8Iiug071l3LMXkegoaGcms/ub2ffGK0zwoOcoMxrW+6DOjOa9o6zc1FtO4e84BLbuJmdx7aD2m7RhdxdNrOBl/yDer+FTmvrNVwmDSz5AOMtjO2xjM9mzrNeYWi6DQCu16sT2hnj16XCur2mhoYrW2x2BR90UqKNGG/nunnqefDayYtMADgAICTNWLvewUAf2P176sL+KIulEsKQALxckkTe/+0Lkh7G2/1NDk0QO5CNThuChiBRMeGxzb9QJevbHQDG7yAxtO6WDpGZ/KdXjqwVynfSWwQ4/46mg2PBq+A5F0ptX7Kl83eUgMjegOJTrsMyZsVOOa78YAGaqtWGlZ0GnaxdeCsnYDgrmsaqGiuafISeN1BvbvRS2yooWE1kBO7cW1jpznWQrpHixly3biiuQ3oZv/kzBpZNKPBXhhDbtWMre+pNkS799uGtgJNdNKgJg3IWC+6ee2sNp+HeJjQFpCxPkPN3QIF1A3goAIvv/bh0ujHltGYmHyDATdD+xuGsVs5K4i1WmsaWwOTxO4K9ifFW2r4sk2jl9jp2YJjygAMVhvb1tjUdrZ963F6W2r3tQc2WBfaq2anbWfq/P6HNERnG3MetvAYYLRuAyOa2Se0kM5vji7rNSBaZzQDji7TrG7gWu2f9fQAgAMAHrSOFwC8uvqD0Ynlx8Vrt1VW3Fsbe/BYfY808R2d3HWZDrp8TxRIBLqAxYAisQNAicds1pu7gbnAAy23x/HO6XZmM2BVIRGNht2FAo5LOuqygJez8Ny15Xb3E40sOg2L6N8Y66/5dLdPwq4hy3CLRsMYEGPN7NP9PmvN9tLgWUKn7R2dxIYGygO8T8IujT/2tUYaWutOWVyGg3evtzYmbaABw2hYoxG7TweO0cjau4vtsKEb1tNNTNqgm3gejZWBxjBgULTeQCP6nb6jJplhGJ6IQjcqtnRDamBEpwONq2F31gCGrdFR4SX2NehGd8pSu389TtNwiL42pByn9Ut47chZ12nOQ3sZDba2K3Zv921rd/8awvBsoRldT2q3XvLxjM3yRgg7U6dzY4G9sWmAq7UzeZQt4IjtAovonrS1y+K82d4IRTN1OsDIqqho5w+dTtdy5DykSadOo9eaWa0V7T43az43Qvsbj46+z8I2AOAAgAetx/vqAuZk9VjBNV1wgEMgzKA4Ga+piaA7wY2VxwUCXisKhi2n2Xc+YDnrCyhG4qLoblS03tYFKODoMhhsnG4BjHGLaDXAoJH0cgloJk3erLpNp39Qd6MCKw6GMdJoTT6/AQCWxopOr8AXMTodLzZlmVd3jbtRueAbdrE16fWxzdebsqSxorsrmg0t1my9VTvevXlsBoOAgO0anW5kyaPB4kbI42BpYPHaVuACYJaafdJ402fTBTldbmyHdyuQhbZoJc4+MfUol0u8RNF8ssAiZUCrY/JogudxHlIGg0Grj3QbXI4WwPjdq1bb3PvAl4EXOJhVt+m0rd2NGvjaXTtgU89DHqQZfQBNC7jR7MdWTn/fLPbtvQPB7kpVa1+n27x6HtJNHfiqmg1eBt2TqiuzGgowXU7aFndWg4qtzsl9juU8pF4D3oHDSa0uA3mG84MPyZnW3Nf+AIC5ovX1C7z831sA8KPV/zi6sPyG7qcW51aiQOOmniUAJBLjXUw6Md3A9QLKveAZXfoDiGe0T5rg9FGd9rP2EsQIhkYuRwZcg4w1J20Qu72tmef0Lo71LhY4XC77hrAV6QcYT8+tcUU7jb31GXSTBsCq7urRpaGvgAh4AQOGW2KnGQIwvzvuCo231WA5TOsm3yDjX8jwFa2ODTLWjO5Zdpf6W+v/QKNBK7qBlwTyJr2jwKA1opcGdVmB9NJ2DOzMs067azQaaWRvq7HNvmNAJlCADQ0vaERz1UuaAFTOU7Oh8c5YJ5p3TgcKAMHA16mi1yBmvSnD7D3QtXZwHjIIBPjCpq3maHfscYJY75A04/FK3XhSM/af140b2rEfHrpoJga2HLscpPk9slGjsfWpUjeimf3Ul9kPAch3Ewcaq1YDb/bvjsuAF5VX88d5CBRGM/F02qsavLjAOADgAIDtebCfdAHA/3P1vxsdW94opz4fAsQcU8MEZB0fnR3HgBhph2M6ueflIUhBGDGzqUdPAYcbBRyBR0LyeCwVd9zePIkEyEKrwZF0uz8vD0E04PEECh1WFQNdxDUPz10uRHRLA7UEwHGnmF9jnps9BXi4ABbrrHHN40LLxRM9BkM0B7aSdjnm5amLHdDicWnR5xjdAUjS9kD76RwGWxolNNLIWjMQRtrjGOd3wcd29tjRkKKTxhX4ctogxiPiPAQAIAByDS1oRLuB0TF58/GYx87EFb6wcTRPptuuR08pAQSi1ZB4arxPOebRjd5qBqqALh65VzUbuGxzgy6/CRseLdt5SRa1XmArmsmb580EGrg7of+TAABAAElEQVShwMsc2IpO7xvSyQvkAoIB8oBtq5dj8/I+o5cN+3nAhfUZtmJnx/wGGe9qyDVsBRBjb2IgzN7n+Z6H1OmqlXoSrXe200y7ywbkBhIdu54kD1vPqxcoGqbjAQAHAJyuE3vd37ELmKVe7J27qRjYulnCVom9f1+NVjbDYoXDE6NzY1B0fFQnByf+PDcuRPd16m4Uvbcm4uQBkoADG95Ow+HZidieRcqyPHfARQeN/bo0BxidXlUe0GhwDMQwnrJC4hmlEwy9wNg8vXToZbOHEWhJQO9kOus3cpNQYXFFDZYBkXIkfdDlX6zq6f8BAndDR6djw5f1041OPaKu4hFFNxqj07HzZj1RZyf19mzgjVlrgoEREMDmAEMgxuCFvoSVMcB4n669Ls5DIBfNNPzWTuNKGdh3AHbYDF7LUma4BWAqxBh6u2hY6W42aEU3mq3V5QBiGAPtxxMCXAYWa281kz9PL10xnP7ZwwiwxK6ko/92yc+kHX73CrhVcy2Dn3udz55XHA8jmq3b+us+N8x1PHE8oqdLneZJ6JPa6SOaf512tzQaeSo99QRgJE1MPjcbnIf8cR4ChqfHdaSN0Y+/dBbOkwEABwA86Hm6IwDu5UOp8Pd1AgQSN0c3BI0A441x3g0dx+Nlz+Lx4pk7p9MWOCScVwDCWIj6rHBhNksfPK0MaMY/EDDckF7SbQwscrFnY4LLYtGITodFaU96HhNdyhdP/TN4ASu3SgAQk3a8KsVpWBk0DbwYcE8WWDyrvDPKO6eGd2Hq0+ezy8Qhe+RWdeFEr4PTt0peAJfJNxW20EkAGJ3GGzbviz1WMHgBAGgGFKt2g8xqAXdeS32tYHhGCrF5q33+nnJrxrtI5x0AUIHx7rgMxCAOdd8wYChEbwLlsP7luXvo0MwGoBgEqm5DjPfx3qGZzZ12BkRrJm3IJZ7HRJfyxVP/AC9DgKE20EV8p9i+eunwhBtarPt00Qs8rpT8eXvoIh3woivXdQNwsX0NXk7HSwe8ArStbu/b1vY6z/eGHt0+D6kB6KtwGzujHe8j9Zk/YDaaHXufNPDbxY0EdZWbCcOhgRGd7DuP60nOw8PSRUc0tl7SX2yObmt/2kSXAQAHAMz5vd/4wAC4ly/mImQ4BLg+1WkCKBLf0L7BMQtN26sIZJ0vAVB0+kJnoEjZuAgxAxp96wUU0U5AMyB2Q6/wull4FQ2G50rcpgHeeXfl5rfgIsToI0PhTV1u0HlzvO90uhntVQRYzpaA5sBil6CIdmDAsAUYohPwchoY8/hQTnounHg/aZDQHeByuitQRLO7GgEBwyyxocv7dKsHuuiCPrWtFVh0cFm6AUU0431zt+hq0YpeayY2PHKuotvQZbA1bJ1R4xTQXekMFNGCX9E6DVrWDRxYtwGGWcbUAADLIWnbuxtPF3ZmwxtqgAlwRTsxddrd/RW6DFnR7phVFubv6bJiexYDiK129JIPwHBl9HkYyIq9DeXo7goU0c2MdDy2hq3YGOhymmPUITb754AtQziAuDROdwWK6KBtoUYHDq21aibf40NHqtEMnDAgEqP38dqh0Z9Y+VE+akWhdsmR8znZ5n8b8tk2ZAHAf7P61/UsYBZMxSPHeoAXSkw6gSHVXW2cqHQxGxI/VYw3kRhYNDgaFBkjxVg/4PDCE4H7WO4Mu9rwCxgUgUOAC2g03K5Ld5bR8dqFgcTzsmwC9l8pF9auNONVBBTvFa3AIrodk876iyyCYUgEEAEtYgc8dF14bmMT7GhPnOHW8EWaBophC+6OAbiBK0Pi2an4jPwcs1+iKBqnY4/vovsIQKxQSxrNFRSBWzwW1o32GhiT2+15iNfQgIVtbxVosWb2q8eZLvOA4Wlpdtqw2EXXc2tvoMoAszrW6/hOsfWaao8nMHheMRCATsAraW4ouvEYRTfwimZDgEEL4EoIKDIO0eBi4Foaa3cZ8NzOb6JWtCa2V5Gu0Og01FIvyKNblI1rA5Bl3ba1gcvprjy3aAG6ANjY+bZsjt1vF8326NL+0G4wrs86Y+uV7f0uup7Ry4YePJ1oRm/ia2tXRz+18td4yQCAWGHY9myBbQ/gaQHgVoGrTxRfV4X7ZCKw4hcb4/kWRpfUEF1UDCBeVrikcFHH8GJ0B1z2zjFO7vqO4cH4AsQCIxUQ0X1Bzaj1H+8YuAy3zAgEDj+dCoDurWJnxvLhNTy5DYcXlEY3sHuuU+BCEB5FgBBQrDFpynGrXFjxCDCJ5dRYd2JAkXRXXeXFgPpHQ+9u3BuqCUDXTcWGW+IAOZ106KugdX6cPtcpcKGbRpWxfegLHDrt/Xhu6cI/PdYMcLX6OdL1eegJFwCiAZfYAS+/J2oB5AYVGn5DImVYUhr/RhdddKkbblTxg9pja60BGeoKHqNH5TwDDA1aZ4rWWgY8oN0BF9qZvGDgujWGFmu+XcqxVuoPPnKPQUMvtna8PE53CVxoxosV4IqdDVy+oUjXM7eYAVriVjsesC7rNDds1AHD1uq2rdGNrT2jmOFBLALm+mHNTmPreXtAhy7goQuY8+sg2zYALi+TfPrGRZNTeXP0sUIAkbT3MzGEuWmGwktqpoBDQ+KCYgCy683j/fAgfjIOAUbKAHA91oWeJhUvIpoBrUslALmGxO7AFvvQrRxIvCfArbBI+qYUP9QFEeACEg2GJ6XVafbP6vj8x1O2v6W9XDSogOGnCgbEu+N0xvoFEk8JZtFL7PT5zhtUgwDji26oZhtuSRu6GJbgAel0KhqyDLOnpdkAdl41Zz5rE7a2nU6jC70VDm9u7+MrYMPDaY3nSkw6YR4Lh09rnN4HyAOFNUa3IYzfAqAyYAGIZ9W4EhsSwQPqfJcbXYv2aBloafzv6PxzfKsAF5o8jsuAiOYEvF5desexDeDqSQpAogM2TjrAxdItAS30Ai3WjXd8visPTP+G/PZ08duuhqzYeE32jgeUrvCdNC9LP8e63uyZMyDavta+JntnYgi2tG0riFOGg0LiAIADAB60vu8JAJ/3y/C8AYUbo2tjUCT2vr1yjNNh5ipgeHkcXxnHl3TB7PaumnIxOtGexI914hoU14tmPKKrpeh0g1cwBBAvbu/jZex6w1tEl3MA8Z50rwsWiRmfaA8GIxPxHgKHCd4HD7re0MSM50DhXeklTYyHDq8cDSrdzKe24RBIdGAdxS49AdiHxglfYiARvYYvx3naDNoAQ0DRgAgkArlMbuoWXNDtCRaAbeDwhhpYbI2n2V45upTRuDQGWgPiBeWdFYx1CwFodlcoXi20AlrWTsxkIn4LPFiBwqUChwCiQx8QwI2Pu2+t1yDgNPDIeQoEBgoNW4ZadOP56qNOcwuBVgDLmoFEpz327JDsvKw/A22NuQma71qm1IWdNkYJx75AVvRShsx4xvNmG1v3Sqkb3Eh0N2a11Y7XFs+h9RrEY3OuKmx0KRsKAfGzUgogov9Mqe/t5yU9AOAAgKkL+43nAoDPEsNF/IFOBwPitRI7fbUAIxCAR45u5YVRwJDYgbF9fWx4Eg2FQGLCNaU/0UWeNaMYk0iDDxxebsIllaZ7cMFGwAneQ6CwBkMio47YWPLGcHipxKekn31mOXftcUGPu0Hp8jQYAod3CijiufVYZ1YiBApPFzC8qJgA2NI93v0NhD0YdBmhFTB0iDcR8HUXqKFwaawdzQBYl+MRsTGbwRYMsNbbgq6kATB+B3u3aIgCiRdKGs2Moetjo6EHatcKJAKKNXAMmGIcJXC1XHQDW+dLGtztGrawkbtBDSxu/A24lAHPF78GYyWXi2bDbNJ0QfdxAxGwtV7sbahFM5Mt2LhKAyoO2Jvg/a67x9FDncbzBhiiN8F1xGNWgfFojI2jny7dPjY8idZqII9uoJGbIuosALsyti1Qe3jt2OgrK19F7jAGsI8f7TPwnQUA/+3qz4zOLX9B99WvqvoTXttOH+7phKALlG7mjdFHClcnAqOkOCGYrAIULo5eUVxDX4BItywzm+/J87k+ET5WaQIuwBaaL2/Hi9rvo5uZ+msIwCP38RgQP1basIh3kQ0foqHwUolPFe1A7jn9Ct17ttBkjxyw9Yn01phuZ8AF2DIgBg6J0X++F0BEs7tAA4eGWnvkPpViLvJ0JeKpALIAw4slJs0SOX1sgIsnfwQSr6txdTrd4ywfYy/iBTWsaLfuvgAR2KYzkUZ/TVrRC7SQpnucOm/YMtQCiStFNzdv3Y5jzm+KJneBorMN3AR5/VLDViALzYZausz7AES0029iWLkhHxe6A+buHg9sWes5aXbAQ9d1N3NsDVDZ82k7r441Y3d3jx9SLVhRXcbG1gsoUoa+AJFrGuMRrfVmsfXVtQ9H31n5mxRrAMD8uEO8JwsUALy5en20sHxPJ/OHApgPxvGHJWYRlEPFP3FFTdDr4/CaYiDxSjm2p2+c0YsNW1zQgUMg8cPtNHNEAUR7EF8RqLyqCz7BkHhER/rYDFvMjruqAHB9VEDxnvYBRI4zqxkgPCmtDsDilYIzfWjmO/EUBhDvCmydBnIZi/hI2ljL6rIg4EqJSRNYP7EPbwuagS2D4ccFEgFFAmMTDYh0IwJZl8YBaMHz2R/U4vlmTN/tscfztvQmTXloTOleNmCh1wH46sPbgp0NW8xOBAwnQwVEurMMhomB2j7GTlozsyqZRw4YXh/HpJmU5W5mJtIYWgy1ACKhL6hFt2ErcPipIMBgy/g+n4esIYBOgyExAW9of+ehYctwiGaDIh46bi6ot3jfopX4jEKfUGvYWi1agUJrdxwPM12zaAUM0YvdKUeXUDt0AQ9dwFwXDrI9VxcwELglSNkcvT8OH4xB8aq+m64tJn28rgbfgLgweqPsH9Vp0ddmQKTL8ENd1AOIANdHUkxjSieioXBRMLugwP5xncx9XSwNiMxABBCvFkAkDSji9WRBBcYg4kGsgEgZLhY46MvWDO2/J6A1HAKI15RzTVa215OuZEPhFV3YgcNXFC6p3nS3DMu0bXhSSaDwjrTfVkAz4xAN4gyQBw4vl3ipxJdLrZn+rK72AUSPjQMMa6DblkYLLyFQuCzdiUn72dPdTmKKTQATxsEFZtfGUAssBmrdPRvN6L+o+nFG52E/3mV+fy8kYzhcLZBImuuJby4ZI+lGH+C6WAJdzvN+xF3sulMMIBoKDYdOM8bW3bUsa2JANMwaugDxPs9Dbn3xaFXNpPHQ8TswpvPMGGoBraQZN9nXxrnGmL5pzYCiz0NGuBu+A4fEs/YuDwA4AOBBz4HnAsBnfQnOaTyHFRDfK2nG+fETHVfjeUJQaDAEDuluvqQj3c5SbctBZ+1mAS0A8YMSgMUtncS+8LBOH1BYAx5EwLGvjYsLM5kBwnvSajhE/yeS9EgAwHNjX9X/V0sMJJLuY4JKbAQAMCHlrmx9R8GQ6JhuT6DF3kO0AoivlNDHBJWqmUkfzKMEDK8pGA5JswyLPXF4tK4oAIgOrIfY180D2tFmL9zHOvPQ/kmJyUUXk1EAwgR0M5mC8vS1UQfoorVW9Foz3c6ch17+Fs1AFvFlhQtS3Od5+Eh1g7FanwgCrv//7L0HnF1Hebg9u9pdaVV2VS1ZklUsV4wrmB4wvQTypwTS6BBiQgmBUB2ICc10PggBAoQSSEIgCQECmBIcSMBAbOOCcZFl9a7tq+273/PM3KNdC9mWvNp755oz+r2ac/fu3vveuXPOPOdtg6Rel7PnqNCSoHASDn1sKZNaNccyFb1R36lyIIK4lrgCDhNkLWO2GAdc3Vqqh4+PSR9dUd+O2KdjPT+CeCNzYVHUs4BDdRdza3XzoP4mfSQ41Gq4H70PRN0NS7AZ6ameU0VL4rHePJQAWAJgnFDT+O+4AOBdvb+WuGQ93MZJKxgmOBxmMU3QYl27BIVzAEPhcDYQoNu5Vs2L5Qh3pQkMtx/qdTdrhRG0WrF2JjhczcK6ms+wihO4Nq7lYpzcck8w7I9wWPRaPIe4VFr4Q7dyAsR56OyxkXK1bFriEhzuqvSC4i7Gvz9exE2o0bVcgOF8dE7Fsmtj0XKskiVOd+duREBM4lJlE7SEw7YIiKmvpWtZnZIlzvisAg73sjhprT3Ac8bEme8pXBWSoKsWCTXqa1Mv4TWBVtI7ge1+riqjzF0TEBLQCoftUXcTrmp7Hqb9bITCSeniWPdhcnm6+CegXYjeHgtatWzGviVo2VcBrQS1QqMwZcyeehYiHNbStexYCdtaD4XCqWKdRJu5wEnfpRES1dnPUat4SXVyThvTOVXfBLUaHsaZud5GTuqr/sYhHsm1XAJgCYDOqem0GQfAu1LOk2GUBagAw8GwpQKIO/kzXVruY7uWk2JN7D1OcYe1s1j4ebRZDGI1PIhLfACgLSyIupZ1hwuErUDtXMRe17IAVsumxVPLYX/UWzjcEcV4Sa2ayWq4CgwQDFfxeBXjXzuLhWMlaJm5LBD2AbWp38UnSZZl3cgJDFdyYV/JsXDolK5d8yKuG1ko7EHvBIdaPA9Epby8twHik3CotdZs69oBreehDvEEh3siGPZEqDW7fYwx1WaxnIVoRUW0HC5l3tT2PDTGMMGhY52Atpte13IBh0LhworuwuKRFtJqzhZBy1jDrqjvXnqByzqqnoezGF/hUCgsRO9Jrc/DceaxoKW+wlbSW5BxCRaqhCt1Lvrj7e481u8ogZaO5AS0nfSKwCiG6Q4XrhZXdE5wWLuwg+LzadlUT8e56D32hsd5oJ6FzOppDevbT/FPyySQYgDL/phGIALgLd0vJgv4TBBlPRfOk+lP5mK04Jhe6Hj/coJDt8jaysVxC30SrYmewM2cCALhnLDuEBw21TB+r/j8hvEPAIYHIxhui72uZbOajQxJULgm9h5bB7GW7gr11kab4HB7BQzVfyeXnAGWJG1Dq0GASdGSWEvLkDoLJgkOBcOdLFBComEIvXEhnQTDVRU4FGhraxlyTps408McTnC4G9gyLtVFSYuFgeQnMksExJXx2Pi9Wre0CZVgqL7qrsVzP59mnCXJ0hQFGKbebexqCbSOl+5wYVArZyFCogBmIkcCw6SvgJiAtjYxh8X36yJvnGFnBCwhSzGWdjCCq1bORREMl9ML5O6+VDtXuHo7B4TDBCt7Y6/+JtN4XTMWTp3VN/XuIlX9mqnFGCedJ7h2qLVQWOhsTG2y4Gs3TJCVxltIFBhr3bQsJ52T3jt7todntr9EtUoArPWXU6fvHwFwf/d1ZAHv59J4O3IbF5zb42ndwIkqDCYo3ECvnMSJXTv3rOPsQjrCiZugcPOhfpQYHHUzISWBoXC4HlnLpai2i79662SZBMOtHAu3e+PnsSj2XCydSdbSr+WT1NYtpM5CYLIWCodJhEWtc7O5TM5jPgiI89FdSGzJYPEXtk3oEAh7Ixzu4NhEmiHG1KgyoXB17Nvo3V6v1hCetp4yq3NXlG707kF0kBvvNhUM26P+tSmY7pwoWgJag+ETGAqzHrv9XnIb6r5awYw4MYrHtYZwddfapp7CVeoNOzCRZpx5rKtTMDyRI/W2+kHtz8MUV+bCvwdRd+F2X7QMeYuW4GoF/QqsWiaJ1S7zt5gf7qKitTNBlqCl7ntZX4a4Tnj1SGC4OMKhoQfGo9YWwhPQWmxlL6tJgkN7k4K00OqeFQjV2d7HtYLw0gVcuoCLc+2e9nfpAtaZJRQOA4UjYRP9RvptvJcJBydyEguEp9ArGzhBan+XlOoHGm8oGBayBcgaRueFEQhbgdoEhsLtons6dsft77zoDHFxFAgPYulM/VYQy8W/NcLgPIBQKJyLxdNt9mptYXHxH2YZEgr70LsvwuFWfubib7kSoVA4FAwFW62GtXUZ+oWZsZwshsLhDhYo3fj743dpMopgKBQmQDSBpvY3Dro0jTfsRt8Ehsm1rBVU97FA2I7FsOhbMgAWdTOxo6sChV3ArLBl0ofRqAvRN4Fh6rUk1n5Om7HcxT8BS9kVRWC0ULcwqM4JDA07qF3JoKkXH+P0hMICDu3NvE4uZV2GwsqJiGC7jDld2xv4dB4ORshKoKXuxnimBDxdygmwhFl1N/s+h/NwhPmwvwKGe0HbPfGxllvjDQtdl1R0tnrqTLYSAEsAnO78uksAvLMXF1hGuTgma6EWw1sjIJobZ15WSzgVEQrtT+WCs+TOXqqqPzexYxCQHQRqBxD7UU5h4/OSxfBkcEs41A1ujcPa3o06OELgJBgKh7rC90bdTEIRCOchwqGJKbV2zapzcilrdduGCIe6wneBjGPoaNzemoqsjZCYA2Spm/UNewFCoVA49NjPYm1GobANoFWEw1pmKTvGtsKlLBQmOEyAqEPfIkdC4UJ0FQztzU2tNWSpty5lrYVCYQFZA4eARchS75VggJbapVmchyZwCLCdFSi012poM0N5UQVo7XUv5wBZgolZqMJhB/omy2GK6zQCLlkLExh6XGvXrGOZLHCdjGwC2g4gS9ECaumXJegpyCoeu7NLrZvnoS5l9TzANST1lk0bALWbIxgKheqrpCzlhmmrXQJgCYDTnUT3CADv6k3HuOQkS+GtsRcOxzglkjtZKDwNKcCw9pYsP4uFSrQWDgCHA1g7BcMUa9jIRUewEgw3cLwBGFiVxYIkgpuI0o/eysGo//Z4AbVczTxc30nWoftJgGFtY4UcZy/ulqzpA2ITGG5F920VyLLAsWAoFCpruHjWNvg96WyChHXsBMNtFTjcxoKkVaiVxX/NITAUDmudhKLONiFwKhh2ob9Rcd4gJGvhahBAMDRZSUvW9Bek9M73/H8tncYXdkYwFA69iSggy2SOBIUJDHWB1/4GTbexlk51TqIbfA8/HWMOL45gKBQuZqyTCzyH83CCce3iqpygsOgTZFlWXCiclFonoRQzSktnB2Co5c1eMUBFd3IBhOq9FDEJJYemu1vrpkCr3vbe/midNc5QIFwawdC432NLBisBsATA6c7x4w6Ad6aQ7mRdycPhlkMyxoUzgaFAKBgqp7NELb2zl6nqz5M7eWuEQsFQcbcUCzInMNwAApwSpYWLTg6LqJBluZp+IFYoTP1W4GsMnd2pQzA8OUouFsPCndwbwXALC+pmLpJb0XiAS7tbo63jcr4WWR/BMAeLoRPRUjUJCgXDrVzWdYH3gdpGYGktXMOiLyBa97L2lgp1TpCV4KoLoBUM3T7POEPj3trRexEiGNa6rqH62oQpEzi0GHYChYq1GW0W6xYIF2PhXITkYjF0TrsPtFDYUdFbt7JWOSP2ks7qncAwB4uh45mSI3YBKrui3vZaPy1TI1wtAWaXoLOQmINbVp1NkklWt50V0LJOquehZf3VOUGhfQ4WQ3U2GcmEjgSGu7HTWlKqkzWkkXE+AZ1XgIdJb621R1pbSgAsAdC5NJ0WAbCLreDa22rjptUmpJUwgeHNsR/jtGhkEZ0VXSluc2WgrcVfFR8bx+KerrWxEBVxhgPERBaixdAEFLOTNfo3Ic3oqEweG+Rcm8KqU8GwH0unYGi2snY5L5MtLEnGQ7ag9+HHbtZ0pAvQdCbe0fztJBhurkBhshyazOHeycKh7ln19dgorcled2dtYg4LMBQIBUPFwtKCofsnW8fQ/Q3s1b841kVbK0utrm4thgJhEt32nczdFnRehKhzG2LfXnmc+loldhRgWEBhJ7r3sZS6iBplOAcc1Ear7vbqb28OsC7yWs1pwbCAwg5gtrAYetswqWPS1ZSlSf29dtTG6pmsbwKWcLgD/QVD3bIWn3dMF8Refac+NkHlWAscH8214Wh+ZyoY7o96m3GfLIbzmANJZ/X9dalVYoc3CCadCIbqLBhqrdViqOtYXY03NCt5vKchXND+UIeizAI+mglR/s6vjUAEwO3djwgL2ibikw3xwqh7Rfes/fLKsb0lS/z5zLsxtBhqIRzlFBiLciA+Fg6Ln+ucswleCQ4FReFQ8djtxtJxNWBRMBxBP2sbpr4j9iOc0sXPLV6SmqPo3pFCorDolkweT/bVgMVUqLuTS7k62v/68Sj4VbQmLj4JEgXFJOqvE0aQrAYsCoZWU9O5MsTFUZ0n++LYYrDjUW0TaRIsCorqWsBi0jsVlp55WNRtbOi7LmV3R1Fn3bJTe137NrfJK0DRrfQKUPQ4AeNCfmfmz0Mthha4Vs9Bxjwd98THxu35c4t521ykdIEnYEmQm46FMSFsIRrPfAkQx1AHuFUCk87qPVW6mT9urZiapXbUUzAsgFGALI5NWplpWEzhEb2H6eljP0cvn8f53sfMT9dpsTzpq95pzBN4FbA7H51nFhbVxQQZddNyaF/oOvm4L1pwHWkthklHgTFBYwKxycfOoZlugqG2e6E29b306j8pgpg3x1pmC7i1GmYCsKl9G79RjfPQ28pJ/dR1X8+e8Oj2pzlcJQDO9KS5l77+r7mADWcdB7wmYhzLHvq9PJ7a+9wIwzHBBWZBBQpXVHohsTg2ieLIpuvjPZbmowqGo+idYFFwnDwWGHWM2tyYLkGiRWELQLSeloHbPq5OZp/gNQoMCIaFeO83Auymx4Jvf0VnL0OTkNgSrYyCotZGQVfL4sxfhLzgC4PCYiHC7VDU297vIO3/q+LNfP8JEpdw6dfKeEephitXnXUlJ1gUvtTTPsFu6rvjb6mzpXfmoGcCxgIQ7d2xRstudfYg1SI3CYkmLwlhqU/A2MWcLmDRKK3F6CdoCYiFpJ+1cJ7ONMA4diku1YU1gaGwmGTy8SQsGkEprGhdFLYmxcxmQbIaMX7JMt6HnklvdU/wKHilY+MpbQJVAYUJvhYyGwSw1PsZquHKdU6L5Uk/4SvBbqHv4bCoFW4SFhPoTtW7Wq5cXcnqJnQlaDy872UOjcWxFnCFwwRdApfHhZhoWB0Lrq7aAhST7gl0i88glJnZbtNaXuhrnyR9Bo/9RMcTyksXcOkCjhNvGv/9GgAey2sZSiwcjmOmngRGa8S5ZZo/S1vyeGpoURQOG4hrSJBob9ycP7MOW3WC0AXBBIkWhd3LsbBonx6Ps8i6KDi1hMEEictjP3ksLJqdWJ1yCloWEywKh4W4tVRx7HZe6cI5K1roJuGwmXFPwCgsLmPMq7MjiWNo3cMEigfoD3D53195nHp3TrEZUZkAcSnaCV/2S2PvsRa8arQEuP3omaDWyKLiuOi1LdkE7mRNTGDocQLHpbEXJKs1p00HSnBYgGIHi5bHSSwiY3Px0ZIodAmJCRqXVB4Lubr6Z9ZqFBXhPxdNrYcHD0GiWy8WwCjs9lTOw4BeurzUd1GlF7jSYyGyWpnvwolb0yWdk+4FLPozjz0PnUdaDSchK+mbQNHP0M6Vo3rnofauSThMUKuuhc5aeW1alOdFmE1AWxwXvdBVjZYA1z0xuiMsWtImwVfSXfgSgG1aDLUmJthaSC9wpd7YOW2O1ToPdYkXgKuOSYrPoDW6P84N9dGFWwCu+roRo4918+pGP5qbnxIA7x0A+LvM48cgFzuhp7RPcPxMRJv/J5E3IDbNvV9BHo3chvh330dsd/Vc+o07/j8tALzjS935Iy2GCRALMBQSEyhORFjs4I/9mIKiVkThcCWnSYJEj9Pj6mV2CTBmL48BuAkQ7ffwWFC0dycEoctLkKBokVtBcQWPU+9xIyd3tS5AXjgNl09guI/LkZCYxGPd6WJZcm14Fy0UCojun7qM3npbHmsFnXlXDIrEJlQJiMPopxXxjr06D/LJdMfoyi3AUH09XhZ/5nE1rKCFzlrokiXRrQyF22QBTcdadfviryZQFBKTFXQOenqceuF2dvGSM947o5P1UNgSDg9UeoFR/bXeatkXybUmLmbEFSEx9f5MTKjenLZGphY6AasDKUCx89Cxn0t9UvxcgkQzm4XE1Au31bGC+iU6V7UbJcBS7yT9UfcEXgV0CYrzop5CS9K96BPcVgfI1VsLnaBoLcQCENOx9T67eD55UYRXYbYAQ/VN0JX6aoQmqK9NP0oBh4LipHQxawyvSNClZXbSgihwCYommCVYrGYJHDPHdZULiOpYgKKxfgl2dfWPx/NQl3PSVThMehc6D/eMhoXtCx2G0gXsKNRZW4++f4K4l8uXkJciRfsyB5qhXoxsQAS8P0b+DbkK+SnyeuRxiL/rLPDqfVfP8fSvtQSAW54b2hahzqzV8Myq1HvcwMs2VMcyp2aToOjWaQkSJwhMT8c7eT4tqg2cuo1koiULor0iJFqiZVk8cX7tk87QDxIoGpcoIO6OcGhfPB7jpLYl13MBhidWQNFeMa6yOtZEdZkERSFxLxd2q/NP7ROQCwLJzZwgsQBEayQKjdXeXSWBopCoBdF+X0V8rBU0uUR1PScwFA6VEyqiq39mi7M6vlNbAsWOCiTup1eExnRcWEGbubwLt4JhK+JxK7r72H1AqgVc6l6AolA4ECFR/SePjUayCa8JDNV1CVAgKKZjY/6qeRPheSgoFpBoL+QWj7Uo2rQWTgVDAdH8VnX359WyJqpLAYqCoWCbeiGggNue+F14HiZrooClqPNkX+0knOTKTSCrrsJh6tW7K0KZn0/Xc9Iz6W32c6F7tVy46mETFBNoCYYJaKf2fiabMzpZ5IStBIip1+JsXGX11sO0O5Cg2B11FhaTpM/Q1dMVXtz+ZtUuAdBRqLMm0F2AaP37HlIAoGC4EXGLinTVstZoaqbq+pzAV0TmX87xd5F/Re7suffx3JFaAsD9/xva5uGuHd/OmbIjicfjnelvGlg0Ixyupj+pAoj2SANqVhESVWiCjz4ewVA43FE5tgaej/fF32jgVG6IUGhx5AIS7Vfzc4GrenfW6pxczwUk7qrAosAoLLod3GjUyTjEBIUFHK6sPDYBZ+bj/NS1aEVSywhwKyAO06djHxsXqjVRdDWpYjkiGCrFsdbc6lm41FsQsF7/JBwKiXsPPTYJx4W3iYv5nENgmAAxPRbSqwuJ6jPKpb2AQncmGWQeF49NeLE5lgkKExhOHmsNrX6RZ13PCRL3V0BRi+IBRliLaFf8LgQqrYYFHM6NgLiUx8Ku1vHqWZodQ13PBRiajauuCb7UPcVVJguoFiJBK4FtAkX1XozG1btZU+dkMdJS1FEBrWQJLaDLmwybySxJ58UcJbD1scfVhkTntAW/Cx2T7gkUreZXuHBNClK/pG8Bij42Xrg6cX5x8PhPnY28dV8V4dBeuHWPYD+HsYDp2uHt2iQcugdIss45z6tnaS5dwK4+9d8+HufeJADq2vVnf4doIZTCPP4k8gzkMuRUpGg+9g7ge8idPVfAZfE3RZ8AsLs7tLUVjFk8NaUfx/IW4VBA3IZU+nGOD0Ei7tkIh2um9JXjhuoEzk/ROF5+EiQKiDt4vD3247EXEjWxt7KoJihspO6ZcJh69zt2SKvbxIAUkygg7kQstZB6LYoJEpu5mAspAuIqREBMvaVxqnmH6ugIXMYnCoRJdh/qhcVJC5dZwm4fKCDan8iCtSJaGKsNAQVwTYLhngiIg+jrz7QV2LS8uUezFkRrKKY+Pa5WLGVUpPKf+zIn66FwuI9HRa/1NkGibvIEhifQK8JiOq5FYW1xvLAkHow6C1z7oxij6AwSErUcCoVz0TdJOnaprfacFrhMuikAsR9IVBIsdvCsLmetcrpslwBdSyMo2s9HdEVX+wbTOa0FVJ0FrARcHqt7B3N6OI6jpXGEqwSG9ksqjxfG72HqfKvGsSCY9BW6JnWfComCYILEpGsBjH6OamTgHj4OJoYkQFTfTgAxiToXkGgNQvV0WzsBMUFiOvY27ni0EgDvnQCoZdD4P+XdyAbky8jrEIFXl/GFSNFey8FjEOMC7+y5xxe/fFh/dAB42B8d8eE4FsQIh0KhkLi1IhxPGDiP6o0nAodrEcFQ8RhpXMbT1Wf5lPEsIAqHyraKCIx8Hv43QWUWhXwLMGysHBufWG1wcdy1uhmDOArUJkgUEHfy050sS/v9FXRdEMGwOYKhcLgKmEmQqCu62i1Z5YztEw6VXRVJlkVhXKBqjpC1kiNhyz4dG+Zd7ZYg0cDtBIWp381jrYlmxo/E718Xs5CYQHEFfRLL5VQbXBwj3eQJDPfGfgBdEyya6JQC581wTlC4nKVIOLQXbI9tJ4Lj9Z1owUqWQ8FwXxStoG7NV7ibXU4n4bCARHW3Huis46XKUb+OEKglMcGhugpaqTe5JVmKZkc4FAoTJAqIyyJ0Wean2s3zMMWeHahAV+qFRK2gfiZhfBK21FfoSn21kkCmjovjmCCx0DVBrToLX1p0Pc9SPF+yHC6IOidY1L5Yi/NQl7L6ub9xgsQOQFGx8kOKpRRrCzhU57YIikL50d1AlAB47wRArXxa/HT3Fq2APH9+Z1a+e2wBfNnLXhZaWtIF6fGPf3xQjnubGGOd3wMUbqmAoX1FxpPbNjQurkDhOnpFQKRvXME3XV2XrZ/fi88EF5pJMBQQt1ZkN7+hFXEuF02th2sRQdFeMR6xuq4idba5OVWyHAqJ2yvH2yMoJitiUwUQV9MnaeYzaE2sRr3EpOUd/9fmogVxCJAtADEdmzjkBVN01dW58hAcColuzWeJ1Fo0bZ8m1wiH7r4yVXTp2ixO7dZ8CQwne+MUa7EwCQEpEURA3MPCvyf2gqL1FJ3xJnkkKHSv1eXMcAFRsK1uclDxnaqTNhfhUChMFkR7P0MHz3oDodYnoOsJ9ALi8srj6iYHFTrbu9AnKBQM9/MJ7N0K0cSmFPKRLHBCoZDlPtnpuBr1EqfqWhwLVFoMeyPQHqBPegtcfh7nrMkp7riSwHBpPF6A3uJuLVqKldNVKxQm8VjdiyQQQVCdBa3UJ70t61Ob83AiwriAmMAwjbnHxvzZTLZpQ+cCDNvQ/WeXXxt+dPn/onNjGB4eDh/96Ef9Vd1VRbiYj39jWvXNRsd/aHX3TiCFm/Z8joW5qQCo9e/RyMXIbchUGvoOjxVjAO/subuOAbz9C6Ft6VlE7a5n1lXf9YnejABDMEHCRITCzZP9KMfjCbZiUkrTugocouusitTIgojWfHH9XMwFwy1Rxg4d7+BZ7051MxdwuI7jdQDLOn5eGwti0nk4wuBItCK6r62gmHojd4w1TC7mkzhK0hR7obb6louks0uT8XxaD3fEfojerfnGuOwLiCasFFA4G7AVDgXGWlgQk86Ci9m2U+FwV3xsnGKCLcs+CIYrIyS2xl63fm0siOotbAmEA+g9CYhC7gGeHWc8LUIsHK64Q28pnFospupsfvMkIO7lrBQQkzVR2LojICY4nBfBVkCsvgVRndUruWoTFPahcwJFM/aHGEtLwWvJWoYkOEy92eO1Og8t0W8ywv5DcFhAYlEvsQBEoVBItFdqYUF0nD3PBEH1TDIJtmYQ24TXqWAoeKlzrSyI6mQ8Yk8E2Q56dbdPlk+hd6RnIjy3/RJ/tQRAR6FO2+EA6Me4FdGlq7VvAyIQvgj5d+TnlcdvpNf1ezlSJIUc6blFPH9ndwfJBXzjW0Jb864QBm/nSsrdRwMXxJbVCQhnn5z6OfSzscg11ubCw2fgiikgbkbQc1RdK8fjaV/Q0HgCUIieTYIhfRSOG2tzZ6rKyc2s1XAzi9Rm+nRsZjMfgIu8dcwSFDay163Hqfdrq03T6ZLiD4XCbRwXva5xoXZOBQzX0K8BVlLvriu1AoDkZhYQhUPBMPVaEXV8aY1NruUEhgkQV/Mzk2tqY6lNli2LJO9E3KZKOFR06fegl45xs2oFxFX0K6NoUaxFDGIxG7URaT1MgCgk7o66WxbHz2RCylx0vKNYJqn6rvxCZ93MWgwFw350L0TXs3PHKESBsJD56O9xtYpoF3pO7XXJGnfYB8i697G9kGifoFZ3rXC1PAKi+yJ7bEFq504tmmNpUW32qaiI4JKOkwWxEV2NiUtQqM5tHOtqrmYG9tSx+XVA3M8nUGeTsZIl3yxsdU4WuaS7elernuNUfYvjAz37w9J2wqdKACyGpC77IwGgYCYAPhrZhAiCn0ZsxXPCnxa/lyA/QGx39Vz6jTv+nwDw8CQQ3bXDWLAGeWuhcJC3sR/aAtGMAFYAlWDYCpvOKUTwqh20RAuiICgcjqH3KDKG3j6eMPYJcI3WQ/SNkGiPNC4HeBvuOCpVfDSOJUg4nJTbuezfzqIE7HJJTEkq67njFw5ProiZzLOqqOUd38pLfAGFIwDtCNbPUXp3X7FZJLsZq+cdRZ1n3/GFqvjImD3jD4dwiU+KoJisyxbQTlB4ErB10qHjWlkPHRoXU0veCIQDERKL3hJJI4zzbHQVCgs4XB2Pq7Ed3519dQlq3eFh1xQREncxrwVx7Ye6agXElVHm0SfrYW2gxc/iNn0FFPYzJzzuQ4bjvbN2fLNqVwAqSTzW3Vwr66E6C7WTcLgXYBEOBfNkXTYZRYuhUFiIj2sJLUKtVs8EWOqc4FDXrc/p+m6LOguGhQjixydxwnE71uZ5qKUw6bwv9gUg6pew7mGK4RMQk87t9CbczOQNcRkDqN+nbNMZgSMD4N294hh3RREOBUThcGPqRzv5RpqBw3UJDFtPoa9IM9a5GoJWmBjiignAjgqFFfHYuESnUeNKABFdlVmKgHgST9VuUbKscypzs4l+E49uj70JK17+GwCtWRiIG5EEiB6v4+e1s9IKACajCIWFCIdaErUs6tRqRscEh/bp2JzKWrZR3FqTYLgN6Eqg6KVf53JhMZyDtXM2Yt8UPS+101qgmgTDHRwncQcWLUDGHSY4TGDYCti608pMLkp3NxqCa4o93AUI7GR0hcOdjL3uZV1xZtauQrTArUJ0jVtOqHY3PMmqZZKHULgLERDVW0vcGGM6n38n3kG0HtbKTes4JqtWL4C15w6iBVFoEQLno2NbhMMVoIoiaNX2PNROKxT2oOekWH5qMM6BZIUTstQ99TMNWo7nXTWzgrUWFvp2R92NDe6Nf6bFcyoYCocmrUzXSlsCYFy57+qrKZ+7mxG4ZwB4Vy86joVQS2EBhgMVOBypgNbsNVgOASzBsPU0+lOpt1FrOBwHBHdW4BB9R5ExJYFWTEJpQk/BMPYe1xoOvcR71ywYCoi3xWNjEQUtXcuzosXwFC6cAqJ9beHQaTPO8lmA4QiWzxGg1sfJTatrWcvhOhai9fQnx+NaJaYU01w7XHItC4bbON6C6BrXTesyL6QUYLiW47U1h0NdhGYrJyjcTp9E0BIAzV5uJU4yyUks+7rD3d6wofjYVe8TtFjjbmcFDndwrCXREkiClrX5VkcoTHCo5VMXfu3g0EFyqz2hsA+9pwKi34FVEBMcroz9AubKPGCxmrtlHOmLFKiEQQGxB917K5JAywjUZDVsQ9c24NC+mdGuZbOYs7GHPejcHcF2b+wFLWFKN7Jg2B5Fnc3On1kr3N2Nh7F61hAUDhMYJp39mU3XctK30Pvo4bAEwBIA727+3d3zxx8A7+oddS0PbUsWwwHCHAeRgVvwv+C6Ne5Qy2GEQsDQvhXQajK8sYbN5JSYvSwYoq8ypgiHgGO0HKJrU0Vm0RuLWEtrZ9RM17JQeBtL58ZKv5lnjOFbxAJ0KpfMU+gFQ49r61ZGMXQcqMChUJjgcDi6w737n8sCJBSuBwQKOFzDZ2nxT2vWkmvZuD2hcGvsB+ndks/YQi2HAmGSddF6WEu3sgOVXMvWEdwWwfBghEPBtoBDM3+FwjUs+am3JmItm3A4zBLaj5XzIGKvaE308+hCFg7nR6uhkGisZ22tnY6XruUEhVoOd4Iqwq3F30eYufPQdyWIsqrS6xKvrVtZnXUt605OYLir0lu+aSBaDrUWJjAUDpXaWjvVWUusbuQCDtVdSCzgUMthO3pPlVq6ldXZOe3OKeo5KcaoJjjUcqi1sNB54WFAWwJgCYDOo+m0BIBdnaEt7Sk4ndea3t9OjAKEmytQWAHDQeBwlFi4Ru48tRRGKDydHjH2sLF5eu853b+OcLizAoXqWpGYtdyEldC4SMEQfaNwXIOi2Id/zPFoORQMb+XCeSu9gAiY04w5TFB4Gv1pFTisYWxnRXnvo4XCYaydI1GExK1cQofQ05jDk1lQtRhuoNfi6W4vtbNmqbZwqKVwEg43x2PL2gi0BRTOweKpmMFca2uWljZrHQ4wtgcjIG6j14Xfg84umbpn1xwSLYi1TEhxnJPl0Jp82ysiHAq0HTxroaYVEQgTIJ4Uj2uZkKLONiP4hMNeQDbBoXpzM8wnmsNNmmCoxXABY6zMrjGEq7N25WQ1FAx3AS5CrXujj6Df/AiE7egsGNpbKLv256G2et3KgtZukEvdk1vZW7TCYtgedRZuaw/h3tQIgl2HdE66W8fRcAjBcFbPgnBR+x/4tbQjd5bo6fP32lbbK3z9D2sCwC/dL7TNBVjmr2UqnTEpbQBLc+0yaA8N7xhJHNFaeHOyGA7cxGPiD01IaTkxAWEreitzzwS2ag8sUbeYrSwUorcyxrFFsd1juQldp4pFsmtsNfSi43Z6Y+EWRDhM/QQXolTORovh6YhgeDqyNgNgUWu3lrqNJWhTpb+NhWovulnvcE0EwhYsnc1IC6BVy2SUYk5rrxAMB4HaQsxYdvE3WzlB4XqA6+R4PAtsqXWz1MogsCIQFqKL2d1erGs4j/kwd4rUqtbh1HHSMqSVMMHhNkZ9Wzx2VxUhMEHhGtDlpChzsBRNNzZr6vvfk2OB1r2XBcOpMsQar+tYl7JA2FYBQxNSahkjWXxGSx/3MIe7I2DZG+PZwXhaqFkL3EpkVezbOK5lMkqhsy5vYVAoLODQGESvKnOZ0wsZ64XoqmiJq1Wtw0Jfe13hAu2OntvC2e2/5Y9KAHQUynbMI5AA0Czg+Sww/VtD6P4VAqx0A1n2YwBLy+IEhQuBq4X34Zh+ztJjfrPj/gda4EZ2A4XoeRC9BUPFZJRGgpkLIGxFX8HQ0jY1hqw4Bm6fF6FQXdF9FN3Hd/EUEB4TUdC1qSJaERv4eY2bzopkKbyZXjC8hUvkFrSaYPE5qQKGZ0Qw1L0sMNa6WbJGK+EwFs4Eh/a3o/Ew+lqXTCBUTo1wOIsltdbNhceC2IPoqQzEfjM/PYjO84DBkxnZ9ZX+ZGZM7S0sAov1Dg8yHxIYbgGyTALqYj6YVqDFcC3ar6PX2rmi5pDl92w5Gy2FfdFyuDXCobumcMKhp0kdgqGi7m4ZWfvzMGX+JqthD7r3Rt3dcnEMnS0afFIFDu3d/WdOrad01M1s5QSHOyIYaj20jLoxegkKBcMk/qzWzTnt7ihd0ZW8k6MEtskNPvsQGC6qwKHbAlbb0lm6gD1TyzadEZgEwLvaC3iQDL0IhMIh0nUjFrj9QArQqMVQKCyk9cQ8IGusfwoYCofI0PYEU8YWtqKzUGg/Zx0/Jwax1m1iGBi8LQGhUKhY0oZLaNwVpQldDwmfoaGl1hpzmTTM2ULYN7EECYc3cXwrPx9gwTR780zA5YxD0sByWuvmxd09l5PV8FZ6RTe4bs62CIRCYRJd4dwAZdC8709QuOlQP0JQfCN2iTlAodbCVtzfc6Ib3OSI2l8etRrqTu7H0ikg2g8BuLbkTl4fwVA4tNZhDpAlTJl80oe+feiumJjirJkDZAmESRIg1jLbt5iWzmm3z+sBCHs5H1O/A42HmMcLIhgKh4W4b0oOTftbFzoLh11YPLsRLYmWgxEIF2LlLHp/ksOcFgK1cgqFXRUxli+5ZldEa+GiqLsufG/QZqaSRAmALIE5TOI61uHoAPDOPuAIkBXBECAUCpWDuLGasP5EMDwLMKxI6wq+rQy+LrOULVtzEF0H1BexxqG6mZk8F8hqRee5iDujNMzMyXtnQ3rEn08AgO6tPIquhwR3MjaMmI3chK4RDO1x22cBhi5JlpwQDH9VAcSb+FkfJ63la+6DCIdJdBLl0EzeGAEGh7FwJjA0RrKDS/i8KWB4GsdCbQahBgyaMYW6kwdwgyuD0RW+h3HW/rMuQqFg2Iq1sxkoz2ERNUPW+ob9WDgTHGrttND4BHqaKSsYKkKtO9DU/gZN3bQQCoa9EQ4FRG9+Rhhnd+xYx4K/FlmH3lrFa3+D5jk1BK5oLRQKe4BZj01OsRBMGxbO9giGa+JxM3bEHJrFgoTBBIXb6c1i72ZGmwuewHAheivuPJJDMw7SZI7Oit4ContEc0FGw+VcLVYjq6KYsTxdMCwB0JEt23RGYHoAeGfvPDqQwDBC4S8BQ2QAF+csLi5aChfdlx6xn52HdSWYhDKA9W0AXQ8i/Tdw5dzMDGPhMflkLroW0rKKn2cw9WISCskbI+gbwRCdTURhcQ2z1gGD6NyM2EdXcu0XUafMOIuoUJjA8Eb6m1la+4EsswnvQy8cKqdzgs/2T2reLF+TgFAwTDLGpT5ZDAXC09H0dHrjI+fXXF8V0JlsfGECw42xH4mxkRb00GJ4KnJK7JszsXJqZXNHlH4gVjg8GN3gO+J4mnAiECrzkdnRlVz781AwNIM6QeFm+s3ovr0Chm4ptj5Cob01DnOI13NAzfUVBrsjFAqGJvsMMK5tAItAuJZ+Lf1qzsU8zsMUs6flbVuEwgIMrdQpyC6qQKG9WdY5NG92CjAUDjuZG2YsJ4vhiZx5guHq2AuzR3uDVgJgCYDTnd8zA4B3plW0GOLW7Lw+QaH9MPFwxhgKg4vOTtIOJDbVPnYlfoxx3LImoEQoRN+DQJa7pJiZrJVwLjrPQ+xrtY/y4eMdLYZb4ECBEJ1H6KMrGWtmzEZmrJvP4Rida7wTSqG6i+gEd88JDH9JryQrp8kmCQjvS39fLpwmn2RgmUX5MS7tCQxvor8ZMTayDz1PqEDhGfTKBnRuLj5uTXsthsYWDmDpHMD9bT/KsmSMYYJCwfA0xGxq5nkGzUXUWoYFGPZHS+ceZoExhrpkN6D9KbGvdcmaYrgKi2EvYy0U2lu6xmZMYQLD9QCWMFv7WM5Cby2G3Vg4BcICDrVuGWMoELaHdVEsJJ2DZVa9BVdhUOlEbwFxmNF2XxGthIsAWkXrYa1rMBbj7JiafFJAYQe6Jyun5dBXAYQnHYLDI5WsKQGwBMBiLt3TvroAeGdaGmOolbDzugSHxhmODZKVvB4gBFQWI/bz1uRhefNzGGNo4slBdO4XDBH3UW5ejp7oOvfc1Btv2FD74PE49DHGEJgdRecR9BUOrXHYsCDBYDM6RzAEbBvyAPAUY2hdvRsqUHgDgLWFhaeFxV837H1xC51DfxY/y8MV5MKfYgxvwjIkGP6KS/3t/HQcra1jeCZyBou+Vs7a7Z98+Ok4CqJMQuEtHFtHchBd3VHkNABAKDwNvXXJ5gLgQ1gJtbhtArs3ImaA94LaCyMMzgcK5wGHQmIO8YWOeYoxNMP3diBLODSm8wBzwfSHdSDLhgiFxhm6R3EOzTltjGE3Yy0cKpawcR6YkbyQeS0YLkSMOcylGWMoECYoFGjdG3yMuXECcCUUrotgOJdHR2t5m+nPZoyhsYUd6C0UKlo+3T0kQaFgeBKFX1rDovYYhuKFr2em9crx9RtyVKqOdGpD1+7uKz4Z2k5/SAjLcHXOygVWiHvr2xxCh1BYEbOUdSNrLVx8HgKw6Eo25jCXNgxQ9V+bgNBe66GLpRnJ89B3HnoLiLUucD11vMYB12gpZJwjHALjoEvcDk8obEKa0bsxkzhOtHM5SvGFgmES909uJHtzVgRCofBsHq/PBlYmQBNrGQ4BhEKh/Rgu2UaWztnRSnhWhEIzk3OxFrrwu1+ylsKDWDgHsHC6ZZ4Arvt4Lm5vRcthrQtcT53Swyz5WgkFQsHQBBRnjRnJyVJ4KhBgBjglmTJpo2iZLIWbKmB4O7Bipqxbnp1cAUOTfPK5aTD+0djCBIabOQM3o3Ev89gSKgKhYKgL/ETmTB4hKN6IWei6kzkhGHbQHwTADYxIlsK1ANZadNf1nUccp+ehiSYdA2BgagAAQABJREFUWDaVA+i9t2d7+IP2dzp725ESADM5j+tJjQSA33hnaOuiHMlepBFYWY4LdhULfhQW/9nz8/lMI30AIS7NTuCq4xfpeBxYWUACx5LzK2CI7nOW5aOziSdmIQuEhYx14fpeVQFC9J2H7rMzsnBGN/ImLIXoPMo421uqpmFRgkGBsEk5nZ/lcmH3MrkLqLo+ymi4jkv97Sw8c7iQn4WcixTWwjwsnE7SMS7sBRAOhRtZUjfyOawHuIGFVCg8i2OthZ6uebTkRr6NRekmRDC0bqTWQgtFnxGhcB6Wzmbchrm05Ea27MutFbEsUDc6LwYGBUJFK6cFufOwcDoPrGPYA8hqKeymt1B3Exg7CYW6vtegcSY373zhg8zpbs69rooU1kJdyAuB2cJimEOZmmJ+ug9xVwUIhUPdyVoLLWotEC6O1kKz1fOwcJYuYJae4ssr+3s0AgkArQNYlIEZJeZtD7Cy/ZoQdrDw78IqNAR0LV4XwuoLgEJAZTWy4IR79IYz8kfCSg+ZvQJhIYP7sLrhjl2MrhEM0d1C1w2ZTBkTOIwljECI3v2IeyjP4uISrYToPR9x15OGfC7sYbwjweAI+gqGMekEAIzJJujbzDg3n43O+QBWqmFoTOF1FbmRZdVagBa2FgrPQ85hAV04I9PznryolfUsUzMMEA4RD6m10DI1TcBJgsL7xn5WJlm9fkZhRetgAsIEhsMk/DQxrsJgAsMz0dttB/MALPU2gWMSCnV972Q+zEHnDSz1pyO6v9dnBVgjaKwLuZubBeHQUjU2s5DbmNftwKwxhrm4kNXNGoYmnXShbwLDzfFn8wkxEAoXRTD0pienGx2thbuwum2OlsIOxtwyNbqMBcIkZqtXP4azBMASAD2vptN+HQCP9GrCygFKpewACrdfneCwb28IbScCg/cL4SQWffv2lfkAlp/j4G6AEJ2VA+jdB2C1tFegEJ2XoHMblsOGfBajMNpTgUL07Udvi1wLgCaZzEffeeht8kljHq6JOF0miNccxW08gr4j6G3yifGG7nQSgRCdtRY25mNJNkpvnMVzLPwCx+y19NeBL2b1mnByPgunUHgej/OxJAtYo8DJEC7vQsawDrkV3mxiIWfj8laaYoxeJjc6TJBUJPpXFWuhcZHbGNfWaCWci2VzHmK5mlxchM5p3bG6kHtxefchZiRzImJpMwM5QaGAmEt2rDrrjjUTuSdCoWC4iZ8NM84WWD4VOSXCoXuJ5NJ0x/bF7dk2RTDsRGddyK3MaYFwEWO8CL3dGi+X5nlokWhhMIGhyT0HsCRb3GV9lMX0C3Ddz+SNTgmAnpFlm84ItPHH3bRJC+CxvFo3LkGBcNtVqe/GojWfBfMkQEUgXHN/oBA3Z0NGX9NQ1yQQdqB7DzF6xhUuqQDhUnRuM3EjIygcB7BMNOljnPvR2Yxkm2VphEJFQMwKCilF4y4nEQjRWYvhRD9jTZxpM/q2MM5NWAyzgkKXIxNOrokyChxOxELLZg5eAFidT38+8JKR9ZtpMIqOBRAO4f4exQqnNVMYnBOh8Bx01+qWz3k4xpKppbAfC+dBrJuWq2mMUVinRyAUDC1VYy3DXJqAZbJJL3orAqI3EtYr1FI4H9e3cYU5QaEz2szjbtzePYgWw1F+MhdLcoLC02KfFxTq9j5QAcLbQC3d3p0RAgsgtG8FtXJqg8yKBIW3o73JPXvijF4CyCYwPJl5Yub08VlbSgAsAXC687+NF7jnAHikd+/FMhiBEFix79qGXwJX7Eks+GsuTH0byQQ5tZFeLIRaCdH3wP8lKGziLlkoXIrOS9B9wcl5gazlaSxJ04e+gqHHNhNM5qOv4i4njc3p5zn8H+MKbwEG0TcKY+7eyMYRNqNvM2Nt0kkDQJ5J825/ggV0NFxdgcJreLyPS7iFfoXC+1WgcHEmGic1rFEoDCqDEQq3oecioPCcKHOi69st2XKCwoPA4C3IL0GUGw9B4dzoPtZSeF8gIJ8SQI60cYXWKkxQeBPWLKFwFF1d7M/E4nYGxxsi3OYyQZIFy71vb45gKBwKhZamaQdk23F5ay10r+Sc2gB4JQx2ArEJCjuAwMXRQrgIC6dQOCejMA7HzlI0wmASLcp7sBTOBQiFwg3YOa1rec+SekoALAFwuufn8QfAI2nUS2bsVkBl68+BQvpeXLOLSHg4iQV/7QMSFLa2H+kva/ez4Z7kNhYI96szRaJns8hrIVyKzoLhXFzeOTWTYaKlEH37GGsthVoFTTCZj84L0NndThqOzx3ocfnoE2OYsIRC9B1Bb+MKJ0iasXh1C/o2o7c7nTTkA7IJCrezaF4FFF5NLxTqPt5QAcL70Z8HWs07LkN0vF7EHU0GcXUPRbkWvXcBhctZNM8FCs+l1+2dj6vNz+2mbMlSeANLqbGQWxjnefxLQDgPC6dlanICWaEwuY9vYsEXColPRusFMS7vPkCh8ZB5gayWQre76wLAu6OY1DOERdPaeaeDVbq9T2Z+ZBR6wqhqKRQIOyIUbkTjbsbWEi+nRtF9nMvuJs5nmzGEWgr3Y00+ANC6T7L1ChMQCoVaNxemX76L/0sALAHwLqbHUT1VHQA8XBVjCrUMCoRbfpagcBDgWk7M2NoHYilk0V+FJahp9uF/WdvH1iuMQIjO+9Hdbe/mUY9pKTovQ2cthS0OaUZt7CBQiKWtF52FQsvSNLHIRyBEb/sWLLQ5NQEwxhSi8zA6G1PYwMIT4wnRWSictZ6f5WO9EgrHuZiPAYWj4f/odR+baHIWMHh/+guRMwGVfFyafuWjxF8NEgM5hNiPgwDNwUzH84DC85GzQJeMyixFnXuAlRuBrBtYPG9glHeh8zJg5WzAUHHM87qhdE9eE016cXf3IAcJNbDItjDYhr5tAO3sjOJNnRu6t00u6QJiu7AWGlMoaJtkshDLpqLV8Hi5NH3P6bZk3dwTgbCD8RYO3XTQPZCXYNlcHK2b1oTM54bSz2wBaGFwf0UGeTyf+bCUsVa0GLo/8tRWAmAJgFPnwz05rg0AHknTcTJ5LUOz5adJdl7Lt4ulyszjdQ9KYLgkMzesINsPyO4HVPaht3A4CnC5//EydF4GrHjcmNeiH0YAWWGwF5370H1kL9ZNxnYB+i5A7/mMeeMdLzZH+sqq+rPxfsYWkB1G5xF0dmeTxhOAQXRuQWehsPHu75qrqbOZvGlHk/9jEfo5xzexWM5l4dd1fGGURhbQnJoLaKpVeA3L5i/AFuAbLLQMzRz0ngMUNsfYvIysyGg4TGmUflzdQqG9MYZz0HM+Lm+h0ALWuS36o+CVMNgDzPZG6+Z+IHB5BQiFQgudt+Y0PRhXM3k3VqDwJkZ5O/NhATB4ZgTCRfTu1ptTE2TNPu7AsikUWqvQbdh0GxdQqNUwJyuy56GWwf2MtaIL2RjUhVhkl6G3UNjYw7iXhaBzmmp1p0sCwJ9+P7Sd/zAW0bzM+2F4ICWXRCi8EtDCDWum8VoWfKFQS+GcBXkN+jjJD+5qIhDuQ2ePm+YlGIxQ+GBi8wCXnJogOwhQ9aFzLzr3XY12/EwQnM84t6Hz7LwsbnH4xvYAg+g8jM5C4QRWZN3Fzejcgs7RdUyJmozaBEuR8YSj4WcsSz/nor6TxcgdHx4Yxcxj6xbm1CzuYn3CQfQexN09giVoFkunQKiVUCicleGiP8ii2Reh8FosbrdGAJxLHOF83N1KS2bJPC76Q1hkBcJuQNa4QnHc+oRt6N2OtGLJyglUnKfDaKuVsBOY7ULMRZ6Hnou4aRAIdR3nVKNQnbUKah08wBgLhv3cQLjV3RKgewnubl3HOdUoVGdDCyxcvY+5LBTu7tkSntn+Xp+SuLn4/ea1fHxA9Tn2CQDf9sLQtu1GFkzM4mcCVWc/JIT7IktW5PepunG7bmbB3/yT5EIeHUwFq9eh73pk6YasXINxAM08jlZC9N6H3oP7OWVPBwqBlBPQ2T2Qc7MSmnksCAqEvep8OxC4GgshOi9AZ5NMZrXmNT9iPCHAPYLOw+isG7mBa2MLQNiMzvaNecW4ueiPB+uh/YzL+08RYiBZ4k0uKaCwkQze3FrKPL4a19XVQMs1fIZ+gOoMAOX+AOH9sAq593FeVkKtgsYR9uHqVkZY9GdjUZkPdCvuaJKblVCrj67jHoCwG90HsGQ1gyftWDUVE01yS9ZwRvfFen83Rii0gHUjI72I+bEId/fC6O7OzVqftroTCJVOxtzPYX3CpYyxUDg3o5qbXg9KF7BXyrJNZwQSABZlYA6SDfsrXIM3sHje8GPKpWBhWXtGgsGzHxrCyQTmz8rLohIsXL0Td/Ht6CsU7t8IXLFgCoOK2cfNc6YzRsf/b82G7b45weBe9Haru2a+igII7WfndYGMgzC0HRhE3x7GWReybf6FWAgZZ6Fwdl7uzKifhaujhRCd7aOVEOBuQd8W5rRlaTKKJVRnq4ylrGOB8KcsQztYQE0weVCEQotX5xZLaObrMFagQWIgB5ARYpmsTygMzolQaE3FufEryeW/ZHHbeggI3dVEUNFlvACrplBoEevcmoWrExBeH2MKhUTL0BRQODuzpBjHzwI63dFKKBT+MjqS3etYIFyMeJzfDcMIFs3bGO2boiQr4bJoJRQKzTqu5Q1DCYAlAE732nRHADz81YzL2wqoCIPXI5uuZ6FfnCyE5zwshPsQf9U67/C/qv3jTuLyhMHb/zclmDQArSaXrBdiEWsV5taGABVdxnvReS+6j/angtXLGecT1HlddqASxnDRW4YmQiF6u7OJex63oW8bes/lhsE4zpzaxChjS1zbsPoiY7dgFVyVYLAFna1R2DA7J40BQm0Rm0Csn0Rx7+MGlvym8ADkwREKDc3PrY1iYRMIB0mKMZ5QJ5bZxq3EPwqFTVhUcmumPfSRJd2HvsoYiGX8oDC4ILq81zD2edkdLPasu7gbd7cyRKmR1ljSRSvhuQCtoJJXHLJxeRat7sTd3cl8NtnEfZkTEN6XI+Mf8zsPDzKnBcL9uLotRTMLe+xi4HspVs2l6NzCLKlWKwGwBMDpzrW7BsAjvXrnvgSE1/1PCDcSfyUkCoIC4Tks/Isyi2/zM7iV3RZixDahs1A40BnCynOBQXQ++bdwdWcY3+b+wdYmjECI3n2bge9TyZRG5+XovBC4aszMGqtl051LehjjXnS2DE0z80EYbENn3ca5JZc4P8a2V4AQna1P2NCC3loI0bkFa2xmySWqPM7yMxZdxj8GCn8OIg6yxJtc8hDkwSz4K/21rNo4tkGzjQciEJoUs48F83Rg5YEA4YUspSdnB1daNo0f7MPVLRAOAi2zgav5WAgXYN3UbZyfNVZ3psWfr0N0d29kTsyPMLgQIDTr2K3ucmuDROMJg1oIjSl0eTeGcDEWWcEwt+QSx2+E2dEBfAuEyigjn9zG9yFZ4yzmx8wZG0oALAFwuufwsQPg4e84eDC5jQVCpedACKecF8K5LJ7nPTyEFWsP/4vaPx4bxW2M21Ug3PQjQGsT7lfgagP6CoQrzmLRz81yRVJG70b2aUbnPejciTXWZJIT1Be9LUEzC3DJrQ3vSkDYg966jYUrXcZt6KzbuKl6d8xHPTTj3VzZscYOM87DWL4nsHRapDoCIeM9a8VRv1S1ftH0AXcwGQ0C4f8CiG4Rdx8W/ociDwMIc4QrbVc3A1U/Y9n8GYvp7ei6ugKEDwC07gMC5HWTozV2mMSd3giEV7P834yGC/iny/h+yNmMdX5wNQxWJQvhtTHJxHlpYolA2E6mdHOWFuSBCIIdWDUFQ1HcEjSL0VcobJ1BuLqn562JGu5zvB+I3Y918yD/L+CGYSkwuIz5vOA4JvGUAFgC4D2dp8XfTR8Ai1cq+lHgaiMxedexeP7ihyHs3hLCujOBwUckOQnQyizmKpgFa+zgbeh7G3rvxnJltvEGdBYKVwG0s5qKT5hPfxC42gtY7UZvS9CYbXzCwwBC9DbjuCmzJA1Hzr2Oo8sYnXuEKyydlp9pQ2ethM2EGOTWJoYAQsZ3GJ2FwnGs4E1YkFvQeTYya01uGkensSVohMEEhAbiG0f4UBb73+LYmoR5uTKFq1GSB4RBodDMY7ONtRC2Ev/o1nYNaJ9bG8EG1Ad892LZtAyN0Dofa+wC3Ny6jmdlFvvo+I0xyiaVdGPV7MJKOM6Im1CyEH2VFhArtyZcWYLmAJbNTqBwkKMFYV0FCM9hlE/Mck73UipHINyH9GKZ1Sq4DPjWQtiO/vc09rEEwBIAp3uOHn8APFwj4Wrzr4DB/06y7VYSM4DA8y9Ksub0/IDQz2AcYQRC9N5B/NK8pVg20VmxNmGOQDiEa1vr4B5AxXjCBqBVl/EKdDbbuCmvIHxGmZUI65qZxj0CoXDVnxJL2tFZK2Ez455bi9nGzIkhgZD5Mb6dscUl34LOStO63DQGrYwjvI0l9EfI/wAAvwICLT/z8AoQam1rzE5v4wgHcHUPhiuR69FwfoTBVtzc7mDSAKrk1kZZ5nUXC4T2pvWkGMILAZYLAEJu1DJr2mKtSdiFvkLhCI8WENO2EMumMhsQz605o3vDZjDwWhD8eqxtuxhnCz6fG2Uulrccb3KMI9zHjYLSTUjBHBD2hAiEZzPWAuGsoxrqEgBLADyqiXIXvzTzAHj4mwuEQqBAeM0VxOYR61EPQNiNte02dN6IbCdOrB6A0O3sooUQnc02NiHD+MGcgdDt7HQVd6NzDzLWCxA+AIvsRclKmKWFcLySWIK+Qz8ACLcCgWcnGJz9yCwthJ6WYyw+o+GHEQq1FjZSEiUB4cM5Fggb/LWsmtvZCYQDJMSYWDIJhA+pAGF+FkK3s5sEwqsjiguEbSTxaCnM0UKotc3Eki5c3V2x9mN3BMJF6CsQ5mgh9CbHZJIOgFAo7MdV71Z2CQgt85OfhdCTSzdxAYRdJHvdEQjXcxYe+casBMASAKd7ca4+AB6usUC4Hffr1SycAqFZx5aeud+jQrgAWbn+8L/I43HP7gSDt/4XFkKSNRYsD+FU9D2FBX/lOfnFEDpqBRDuYqz3AYSNs5O7eAU66zLOMYbwEBCis1A4TsyptQjb0VkLYZNTOLNmMkzMNEbnCIRaCM/HXYzOLcisEzNTOKmTgPC/IxSO4X41brAZC2FTuIjjUzMGwisBwh8DhNcCUwuxED4YeUjFZXx01pRqfiGTQPhzIOvq+NYmlCQgtFzOnGqqc1TvNQmEV1WAsBd9LfR8vwiEOcYQFkB4gBsFgVALoS7jJcD3UqQ1wyx0v4wEhNdjJzSrezN6LsVCeDZyDmM+mYVeAmAJgEd18t7FL9UeAA9XTiDUKngVYPWzy1nwx0J48dtCOB23a86ti0X+Vhb8W76PtQ2IfeybQjjryczQhny1ji7jH4YgEOo2Pu3FQCySIwgWo2iBausQdqNz17cBwUcTo/naPGMHC52jy5i42CHm9NC3GN+VWDUvBQo3FL+RXT/pMv5v3IH/hW2li4XoEmCQUIKMW3IZ/yQCodvYLQwvwQr0lDu1ouTwUSxQ3Uu5nF6yuXuwbi4OT2Sx/31gNsMY3sqAWXvQHUu0EB7AGqu7eG14Xpau4uI7nuoy3sdYN2LHPB2dF7BlYM7N+oP7gME9gOxBjs4Mvwe6nhd6e3pDe3u7qvsf7p7fvJbx6loXX0Z+AHj4sG28LoRPv4VFE9fOi/86xISSw38nt8e6i7/3zpRp/Pi/AqwelZuGv67PCLF3N/0N8ZpfZjeYV5AN/WwshPlZT+6guGC1/0tYYD9AFvTTsLz+GfNk/h1+JcsHxg72XQoAngYI/iU6r85SzalKjRF8PxDezo96sE+9GRDEopl5GyNVoDN8DL2FqpfjAnxMllbMqcNoLN6+8BWcgl8lSeDp2H6eAajk59aeqrM3C/sJJdgavgBwX4CN6o/Q2KUl79aFi/uW8Dl0XRBOC88lMnNV3gqjnQB4Y/gStwx7wpqep4ST2x+oziUAZv/N5alg/gBYjNsvfwoIAlNuT/fCS0M4cV3xTL79gc0hXP5WrFU7QngiVsx18WTNV181c9u6X74feP0OO8C8Dnf80/O2YqqzNRP3fpZs6I+T7PIc3NoXA6/5udFU9VDT0j2EhbuPedHCvJiPxbgxw4SXQwqng1EsEYMBnbGetIa3YKUCYjNvoyyWneEjZBXfBAi+BhB8cOYaG59pqsA/Ec/2Haw9z8Zt+STgNe8bMos77w3fJ4/7nwHXR5CO8aysrZjFJDCr+NbweQBwNYEOz+YGJ//zsJf4xqt6vhAe2f56P0YJgMWXWfbHNAIRALe+7W1h1WteExpb83U5HPpUuob//lJclVggnndJnoWnDylbOdj9qxC+9WaSAcdDeNI7AJQzD/+N/B4P7GX3l3dhYaP8yXmXYl17dH46Hq6R7uFdf0t84xe5QcCKKQy6C0zOTRAc/NcQ+t9NjOBTSC56NSCYvxVzNNbu+2usU2sAwTfR52/FHIkJAh8EUw4Agq9loT8755kRdbPwye7wWf7/KSkML8bCdlEdWDFHibb7BojyH+j8ZEqS/05dWDH3MadvxYq5hFi7DbjgtQzm3MoYQC7vOX9BdaBbBMBtl10WGr/0pbDgZS8L85/3PKqHNOWtuovmD78awhcuC+FBTwzh91k05+Xvcoi7kXwTl187i+UTsQwuOinvcVa7vi1kbF/KDh+7KduDC3Dp/fLX2VqDO99PKZ9vU7LnjWyp9//yt2K6Rd3AZwHBj7GF3vORl6Dz7KzHWtffaPgeLtZ34RJ+EEDFTSTLZ+5tiHInHeF9LB6zIwi2ZB4D5niO4GTdGT7BWG/EUfky0OT+uQ8zoD1IBbyv4LT8L24PjFt7LGPemLXexgnuDFdQyvkr7Kj8sLAuPI253ZqlziUAlgA43Yl5yAWszaH7Ax8IA9/8Zmh/4xvD3Kc+lfyFzPnaotPf/nwI//bREJ7w3BCe9lKSAVqmOyYz+/fC6y3fQ28AcN2DQngMrr95i2f2PY/Hq3f+kixtrJiN3BxcgBWz7dTj8aoz+xrDe8gwR9d+EjDW4LZsf/jMvt/xeHV3HelnPg/8E25hbmzm/AFXufwXzZHwbyz3H8Rq8lRA8GUs9BnWnDzs+3FLOkGwGQBcHP6chf6Ew34jv4eDOFh3hI8CV31A1SsZ5fxd8KaLbA1fJGHkGoDqhYz1A5kfea8tJrlsDd9ktL9FcsuTGesngq55eRNKACwBcLpXqEMA2NaWLGhje/eGLlzCw9dfHxa94x1hzkMfOt33mPm/H8L1969/E8J/fQlr4GtCeNSzAJW8F824+8g1/xLCD96LixV9f+sVhFXlead5hy/QeoJX43pfeBbb/b0lbUd3h1/I8MHgJjLL/5JYQRJd1r4T6xq6597GO7G+vjvtPLLgUtzDj81dY+yBI8TZfZo0hs9hW/sTogSfzTKftzdBK+ZB4tY6wv8HTD2CsiYXs9Dn74Lvx4q5I3wYeF2Ci/XljPeK7OfHELbA28OnuFHYTYGhi0kTOTN7nd3bV2vgHgqRnxL+ACvmQ7OB1xIASwCc7gn0awBYvODIxo2h801Yp7CyLXznO0PLGWcUT+Xb93SE8A/Erf3yyhBehIXNWoK5t9HhEH78CUrefDZB4IXErWWffYsVc9vX2O4PmFr925S7wVLVnP+iGfquAgRxCbfgel/z10DVqtxnB9kA29gp5a+A113UP2S8m/PPvp2goMkgQDVCAsOc8Dog5bezWTTv7As3gaE3fJm6a5/Dvfp7RNX/ITq33NmvZ/Pzbkqw7Ax/C7KeT7zdi8Bt8wHybv0g1Sbc2WY3n8yNQmsdxI8OkUZkfGAvup8erZj3rfkglwBYAuB0J+GdAmDxwkM/+1kEwaZTTgmL3vrWMGv58uKpfPvdW0P4FO5KgfBi4gRPrgOLz2APFsz3hnDzd3FnA69nPj7f8S00G8cFv/Ez6Pxx6jReTBHsFyQXcfF8jr0u+K7vALCX4hJ+DDUEX0c5lryDveMwjtwACHJD1rgQEMStPQuIzbyNY+kZCO+MW9C1hrcCJ/nHrY2jcXf4exys38Qa+HIyQ59QB/A6jgXzW4z257AHPiXWEMy9dIxT1z2IBcEFINW68AJw0OUo79aP3fVmrNxajs8AuM0crlUrAbAEwOnOvbsFQN9ggkVz4BvfCF1vf3uY+5SnhLZXvzo0zs0/xifc+osQPvYGtj9bk2oIWkIm99a1g4xhXKs9WHyeAry6q0juzRqClo7Z/k3c2VirVj2BM7Mhb62tIbj382QNEzqw/I/JzH4xOuftrowDajHpXm5uWh5OjCBzuzF/i88YS+YAtQMbWC7nhEuJpFqb99xAOzOFO8KHcGffDFS9Eb3zt7yO44DfE0vHfAtr4AsB2MfVAbxO4Bj+QawheAJ1GleH38UymL/ltZNqfDcBgm3Ej54anoPG1T8PSwAsAXC6F9KjAsDiTSZwB/d+8pOhD1nwyleG+c95DlU28gqMLXQ91GvxufLbIXwGq9qDn5RiBFvnHXo624MdJC58nQW+fSWlY0xgoM+9HQRafwEA9mGBvR/wuuS83DVmpQded34whI6vsyc1YLUIl3b28DpOksgXSRb5EPGML6xkDDdnP9Yj4UeA4KVYAh+E2+91wEn1F81jHaRhbFQHwmXo2gQIvgEr1ZpjfYmq//4otjUzhg+CKKvCn2Fhy/88tAD2jvDvAOzl1A/8Q6yYj64LeN0d/ifcBnSfSPyoGcOzqgivJQCWADjdi8sxAWDxZuM9PaH73e8Og1dcERaSKNJ60UXFU/n2Zgz/59+H8B/E2z3zlSE8/jlYTxrz1bfQ7FeXkzEMVJ0JvD7qL7D81IHltRN35VWvJ0EEi6ulY+aeWHyafPvh3exDzTgPbQlh3XvIzK4Dy2vMGAZeB7+KNRDdZzNHModXy2wMh3/BVvVhEheez3L5wghX+U6MpJm7iRwI78YSeP/oGp5VB+7KQexq27FiWkB6dXgV451/zKsZw1vCZ4m1u5n4wD/lFiH/8B0zhreErwOw36N+4O+RjvPwqsBrCYAlAE73unmPALB409GtW0PnG94QJgYHw6L3vCc0EyeYfesn1s5EkWt/RHwg/bm/lb3KYQx4vfJTIfzkkyFc9OeUYfnD+oDX7VhetQie9BQSRcjObqqDLOf+60PY/Fpg6qRUOqYFiM29jQGvuoXHtxMfCLw2n527xjH3dhAIHCHWrjX8JZa1x9WBzuPEBn4V+9qnwL8/iJJ7lrOD2ku5m+2M9Xy2aVtJMelZdZDlfJACLJvYxq+BmbGBjOE52Nhyb8PA60YSRbqxCZ4Z/pii3WfMqMolAJYAON0JNi0ALN588MorQ+frXx9m3//+of3Nbw6zFi4snsq337U5hI/jYh0bC+GllNtYdXK+uhaaDXSH8N13AChXpvjA9Q8pnsm3N1Hklr8L4dZPh3AfsoVPBl4zt1LFEj2dxDNuI2xg8VOZG+id+9ZyzoARwgZ6TGpZh0UQy+usZfnOi4pm4+wZMUCCyDjOv7kkjMyqg9IgJop04WLtp3zMkvAXsXxM7gOt5fUAu3PsAVBOYIu2pbgrc99azjHtpHbgpvBxrK7n43x/Lo74/D0gfeD2TeGTzOU5IOCLucGZmfOwBMASAKd73TkuAKgSJor0//M/h573vS8seMlLwvwXvzj/+EAVv+5/Ewie87AQnvsm3JV1kBG6fxPxgSz0swiWfgrwWg87irjH8HXEMu6/KoQLyXZeeqGjn3dzj2H3F977ubSjyJKn1we8DhHP6B7DFpGe93J0zj+ofjT8Aqy6hEXzDJbNS0gEWJz33EC7UfJudQuPY/NZQpJLPewo4h7Du8NnsFVdiVvY+MD8M7OF191YireHf437Cy8Pjwde8w/f2R+uxpH9GYD7AbiznxmB8HhO6hIASwCc7nw6bgBYKDJ+8GDoee97w8Dll8f6gXURHzhOUL07inzlw8QH/ln9xAfe+oMQvgG0nvnE+okP7L45hP/TxboEV/Y76yM+cORAig8cQPf17wOqzi2me779xBBJIsznwS9jDbwUGCQ+MPNmaY0RXKyD4b3A1HOJWeMmEptP7m0QK9X+QNH8cC6Wqj9jofeymncbIk1kOzu3CFcnhVfXRXzgKDbXLZS66Q7X4xY2PjD/UIdx8sm3hf8kGvNb6PwsHNkXMacbjsvkKAGwBMDpTqTjDoCFQjE+ELewmcOLAMLmdeuKp/LtD/aG8Hmg5Hqsgi8lluq+D8pX10KzqfGBj8IqeP6zOCuOzwWmeIsZ6WN84FvYmeMZuIZfhTVz9oy8zXF90X6SWzaTiDN7HXrjYm1eelxffkZebGwPQWCXEB9InGDb+3EPnz4jb3M8X5SiU5VC0t/CffZWosAuOp4vPyOvJUj1hf/ANfx3gMnzsKw9qy6sVL3hKkDwQyDrA0leeBHw2joj43M8X3QAjTeyHZ4uVkFw9gy5WI+nziNEYt4a/gHL6yaCHC5mjpwy7ZcvAbAEwOlOohkDwEKxwR/9KCaKtD7ucaHtda8Lja35X2DCjttC+BsW+vmUqbCQdD3UDzzYiRXzUlyWN4bw1A9QPzD/u+Ogi/VXHw1h0xcB17fiZs3fShXjAzv+g/hAAHD5C6gf+CdchfK3UoWRq4gPfA3Qiut9PgkjjflbqcZZ6A+SIEJwI1jyLhb8NcVlJdt+HCtVZ/gICPsz4uzeDKKcn62uhWLugrKfEix7yc52N5F6qB+o7h2M8SaAexk3CCcB3PVQP7AXG+avSG5pZaRPj1nwrDH3sJUAWALgPZw6h/5sxgHQd5og0SLWD/zUp0L7JZeEuU99KkaqOrBSWT/w01ipHv37IfzuK7CeNB8auGwPdl4fwldfDZycEcIT/xoX66JsVT2k2ABWqqveSAmWA8QHvh9L1fTvjg+99kwdjA1QPxB3cOe3sAZyk9D+8Jl6p+P3uhPjk/UD52F1bf0jrqCNx+/1Z+iVRsL/AlRmCj8WoPpzLGv530QOs2XYgfA2oGQh8YFvxJG9bIZG5/i97CjO1R1sKzeI7ieF15Jucerxe/EZeqVxIjF3xL16vxvWEzKwJDx4ht7p+L2soQ57mNMbwz8Sh/l4bmuezDyZdcxvUAJgCYDHPGkO+4OqAGDxnmMHDoQusoRHb789LPrgB+tjf+GR4RD+5UMhXPGvIbzkHQDKY4qPk29v8etfEPv1/XeH8NCXhvDAF9ZH2Zh9Pw3h51heVwBTZxPb2Dwv3zEuNBvcgluYmMYGbg7Wkdwye2XxTL79OKEOJomM/AzY/iDjXA9WqlHqB/499QM/BwRakPnJgGD+N5H97HLREd6PS/ipuP2ej8b5W4sPhluIW3tvdLCuCi9D4wX5zuWKZsOM8m1Y1kZxsp4SXsktwqrsdR5jNm/C6ro3/By38EtIezq2/YVLACwBcLqTvKoAWCg7dM01oZPt5Foe+MCw8C//MjTOn188lW+/f2cIH2WhN+bu5VipTlidr66FZkP9IXyPmMbbfhTC01joT7pf8Uy+vVaqW/+e/YU/FsI5xK6teRpnef4Lfej6fghbsGIu/b0QTnwlwF0H1uLRm3ALG3+JxXUBQNiYv7V4HGflQPgrbCi7WeTfg91kQ75zuaLZBAu9tQP7wndwC78RvfOPLdZK1RG+HTOGl4dnY1l7Sl0AtwkiG8PfAFMPwLL2bOZH/rHF5mXfSKmbZmyuZ1A/cDZO+KNpJQCWAHg08+SufqcmAKhCE2Te9n3+86H3Ix8J7W98Y5j7jGfUh1v46ivYX/j1IVz0jBCexeLZ3HJX45vHc3tvCeHf0XXR2hB+GyvmvPxLbIShjhCuBgD7sLA98P/DUnVqHmN5V1qMYy3eia4HvpLcwgsfeVe/ncdzWosHsW73vSuVjGl9HlfV/N3Co1hNDkZL4COwVP0FcDI3j/G8Cy1GcFbuxy3cQI7zUkrdNIXld/HbeTw1Rkyj28r1h18CVK9jlOshiWgMnb9Khcn/DOvYaWZpeFgeg3k3WuwlpvGW8Flsl49lt+zfuVu3cAmAJQDezZS626drBoCFZmOdncktfNttYfGHPhSaT8//AhNGR0L4MiU2/utLKUnkfo8qPk6+vQv99V8N4TtvD+FhfxrCA15QH27h/f+HW9iYRtzC5+AWbsp/oQ9D23EL48rmEh7WYy1uOTHfeVFoNt4HBHJzMPITYBuIbT63eCbb3uSFYeqsDeEanhPeBFY9OVtdpyp2MPyQ+MD34Fh9WswYrge38AAO1q3UPGzF4qpbuB52ExkmHcfdREawv55C7KiJF7k3Z/Sm8GXcwj8N9yFbeBH/31krAbAEwDubG0f785oDYKHo0NVXh45XvSrMecQjQvub3lQf2cL7dpAt/BrW+VnJLVwP2cK6hYXALVeG8HQW+pXnFF9Bvr1u4Vs+lXYUOe+tuLJ/O19dp2rW9T3GGWhd9hzcwkB3A/Mk96ZbuPuVAOB9yRZmrBvzj/9KbuG/jE7L1vA+4GRN7qOMrkPgycexYv4AC9VbANgL6kBn3cLfwmH5WUrGvBA3qwWZG7LXO7mFP8w4/xbJLX/AbVlz9jofxH55Iwk5LXFDuRfT/3q2cAmAJQBOdyJnA4B+kEPZwp/+dFj4treFuU94wnQ/X3X+/mffCeHvcFc+8fmUYLmYmKo6WOgtF/NvLPQrsfQ84VIKBee/0IfBfVgDicMcJYnhAR/CZXlSdb7f6bzL+FAIO95DtvDlWAOJw1xw4XRerTp/G93C/4hF8ANA4BuYG7/LlTb/hX40/Big0hL4FOKoXhFdrdUZsHv+LiOUBdkXLo3u4CXh9cDronv+YlX6y1Fq2u0gzm4Q3dfihp8T1lXpne/520xmC38PG+ZLGeU6iIfm4+4mW/hWtu9bh0vYjOGpO6CUAFgC4D0/I9JfZgWAxYcZ27MndLz2tWFicDAsJlu4adWq4ql8+6HBEL5wGeVMSAZ4JXByRh1cYFzof/4PIfwQS+BjAdhznlYXC33Y/cO0m8i6Z1JE+s+wUuV/Rx8GbgvhdoB79lriA0nMaVqY71wuNBvvSkWkxzbjFibkoWlD8Uy2vXuJDGE5GWbbMGsHNoeHZqtroZgJF/0kXFg/sB3L2oJAPHQdWNaMC9yKK7uNhIsTKcHSWAcJF0Pg9sbwYUa3GbfwK7hZqAfgHkDnL+DIvjmcFV7O/FgXp04JgCUAFteQe9pnCYDFhxm44orQSfHo+c95Tljwp39aH3sLb7s1hA++IoR1Z4bw4r+uj72FLSL9dSw9vbtDeMZHSBbJ34UWi0jfQHzdtq9hDcSytuyBxbTJtxe4D3w5hO3vpug1iURLANg6sKyF4Z+nbOE5T8Hq+hp0zh+4UxHp17DQLwEE3w6cLM53XlQ0cy+RA5SMGWahX4bOLewgm3szDtMC0vvZBeUk4uzcUaQe2oHwE6odfjKsJA7zxPDbzBPidTNvvWh8A5bXRWDgqeGPQn/PUGhvb1dr/+vJXP0ZUS9/v8SMfOzj9qJZA6CfcmJoKHRfdlkY+P73w+IPfzjMPu+84/bhZ+yFXOi/88VUP/AFbyHp4ndm7K2O6wtv+t8Q/oMF/jy2k3s41qpZTcf15WfkxXo3hfBTgHv+evYWfgcJF/GCOCNvddxedLQ7xQYObQnhZIB7Drrn3iZGK3sL/wvWQMC7JX/LmkM6HL6Gq/IybFOvBKh+j4U+/yVjkFIm+yl1M5eYtUVsddZQB5a1YTBwK+PcCG6fFF6DfS1/4B5jZmwmgaiHvTlOYz/keZSSzr255eA24jC3kuG8sueZYUP7o1S5BMDcv7hM9cseAItxG7n55nDg5S8PLeeeGxZeeml91A7sPhDC376OWCpcaX+Gm7UeageODofwg/eFcON/UjsQndfcv/gK8u0F7tvJyL6BWDszhd1fuB4sa70/Re8/D2Hx/yMW89X14coeBVp7vDlYQTwjlszG/F3ZE8SsDVB+ZSzcBFR9iDi7+rCsdQfKZOHKtmRMax3scOEFoosMZ+MDTyDZYinFr+sBuPvIcL41fACKOpeYxucxP2bne62raGYK0dU9Hw8Paed6VwJg9t9XrgpGANx45ZVhA0WZc28TLPR9n/tcrB248B3vqJ8kkWv+GxB87WSSSGP+7oawb2MIX3kZ2atkg7ql3Ox5uU8PtpLrJAYTV/bgXmoHYlmbtzp/nd0PeecH2dj0qySJfBioqhPgHvw3bmyIZZz/RiyY9QHco+EqkkReiyXwydEiWA/lV0bJBt3HnsKzcGUvIcFlVjT25D2txxjlHeGjQPdGgOoSkkTyDynRsraT/ZB3hW+SJPJyLK/n5z3IaFfGAJYxgNOdpBEA//YhDwlnPvax4WEUZG6anf/dz9jevbFkTACkTBKZtWzZdMdh5v/eJJHP46K87n9CePVHWezvM/PvOd130LL2s8+F8D9/E8KT0P3Mx0/3Favz9yaJ/Pw1IZz6ghBOJyu7DgobxySRTX9KzCjAvQbgnlUHwG2SSA8W7vF92CCYI7NWVef7nca7pCSRj+Aa/gbWwPeRfXvBNF6tOn+akkS+hc3H+K+X4ap8Ul1Y1kwS2UIizqLwSEpePxf3cHN1Bmwa7zKIK1trYDPlVzYw1s0Zb4NXAiCXnGl81+WfYtdhEN74hWuvDT0UYr78z/88LL3PfUL7mrzv2BrnzQvz3Dlkzpxw4EUvCg08bj77bLx+Dfl+p03E01kw+vT7hfABLGu7t4Zw1oOZwRnH2Tmeq89jX96npn2FLSR98sOJ/5qb7zir2fy1IWx4LskW3wS43872bA/ASpX5TUIzMVPLnk3Q2i627gMEzRZuPSXvcW6Yw7iSGNJ4IrUDX0jALnGCzczvjM/DBpaMJtypTcTXDVDCZCxcGx+7O0euTTdqC2H/87Fc9oQv4hb+Ei7hCwGqBbmqHPVqwRHsFnL94bqwHde7u4j4s5xbE3h9Qng0edmjpOJcBgC2ZxsbOER8/GXEx9P8byjncZ0p3TJe8WfqIx/X140WwO7u7tDW1ha6t24N3yTOTgB89LveFWYvyPsC40iM9/aGTvYTHt24MSz52MdCU+bwGr+9sTFq8GEF/O4/ptjAs/J3v0e9bwSovvnmEB75FyRc/H7WC33U1/86rw/hSoB75WNDuC+Zt7PyXegP6Ty8l9jAPwOsuD9b9wGgCjjMvU1g4e59W9pJpP3jlIw5LXeNWeQnsAR+gZXzEzFTuDlclL3OKjgQriRJ5O1k3P4h8gd1YQ0cJHVhC3GY7na7isSWRhzDubcRUPs2rK7WPTyVxJbZ4GxOrbQAli7g6c7HOwCgL2ac3Q3/9E/hJx/4QHj0O98ZNjzucdN9j6r8/eCPfxzdwvOf//yw4OKL8fo1VuV9p/UmuzaH8L6XssifGcIfY6mak7llzQ872JNKxnTvDOF3gdiF+bv9wjjA/SsSWjZ/mdhAXJVLsVLVQzvwNcrcvBUrLIHeS59RDxoDgL/AGghwz/mdSsmYjC3clREdp9zuQbJAG3D7tYZ3AicLsx/rcTCwI3wQeL0Bi9U7sVSty15ngXs/SS17w1eICvwL7Jf3z15nFewI/8f2bH8LuD6DHVDycb+XAFgC4HRPoF8DwOIF+4mz+9YrXxma584Nj3v/+0ProkXFU9n24xSO7mYHkSGSWpZ8/OOh+dRTs9X1kGLG2X3zs8ki+LL3Yll75KGnsj7Y+N+UjMES+JCXhPCgF9eHNbCHxJafANxLAMDz/gorVWvWQxyVG+3CGsg4j9GfDLy2rMhf51gyhkzywW8QG8hNQh3sK+ygDoevUhjkPdim6mdf4UFc2PvYSm4+tewWBsJh6iAqajjswRr4DqD1BErGvAqN52c/p8cA7k3h77hR2ELJmNdyo0DYQ41bCYAlAE53Ct4pABYvfNNXvxp+CFQ9/C1vCWf8P8pV1EEbuuaa0IEre+7TnhbaiGtsqIet2fYT+2Vs4EJi1QTBeX41mbfhgyF8+1K2Ors2hGd9ArBal7nCqFfsK3zrp0K4kOzb5fVRzy50fR8LJi7sla8iVvCP6gO4R2/GGngx0Erc6PxL0Lkl+/kxjr1nILwuxoDNpShzY2ZuvyMNoIktnWTdHgz/A1JdRpxd5rGjnob8K/YVXg0EtoeHHOmjZfezbiyutxLPeCKWwJWxzE3tPE0lAJYAON0T5G4B0DcY6OwMl7/qVWF8dDQ8gWLMc5csme77zvjfT4yMhO53vzsMfO970RrYcsYZM/6e034DrYH/9S8hfPE9IbyUuN4LiVurh7b5p2lf4Qc8H4vgnxC7VruL4lEPV/+2EH6Mru3MiwtwvzfVgft9rA8IfAOmKnQ/+WMkiqw86o9bs1+cwP1+EMvlwD9XrIEX1EyVY3njEYrtWjtwDjDYwkJfD22Igsb7KLsyLzwWa+BL6sIaOIJTeAsu7FlEM1pAuinzxBbnwRiOdwtI91JX8nTmRyvO4Vq0EgBLAJzuvDsqACze5JZvfCNc8Vd/FR7+5jeHM55aHxfF4euvDwde+tIwF33rxhrYsSdZAxcsDuHluNLqwRo4QhLAt4lX235VxRq4vpg2+fYC961/H8LNJC24ndzyh+Wr61TNuq8ABF9LjcZXYA18Tp1YA3G/dwPcLVh65v8lOs+e+omyPB6nrPFAeD22qgGSFz6ANXBplnpOVcrs1c7wcayBP8Aa+C7g9bSpT2d73BEupwbfp8NqdmxpD/VxHvaEG7EGfpASN48HAZ8OcFf3xrcEwBIAp3tCHxMA+maFNXAMC9sTP/KR+rEGvuc9YeA73wlLPvGJUD/WwC9jDXx3CBe/C0B53HS/6+r8/dafh/CvgMmFlGF5yMX1Yw38Cbq2sVhe8M76iA0c60/byQ3eTskbALYurIHjWAM/ykXki1gD/5bYwHqxBl4OAr61zqyBN2MNfBPWwMfUkTWwgy3O3gVGtZIk8rq6iA0cJ3J0c/gM5XluxBr4ejSvnlW+BMDqLGn35ncRACcoA0Py77G1m7/+9YlPXHDBxE1f+9qx/WENf3vouusmdj7kIRNd73//BO7sGmpyDG/dsWdi4pJnTEy89+KJif7eY/jDI//qt7/97SM/cTx/OjI4MfG1109MfOzxExMdW47nK8/ca42PT0zc/KmJia9fODGx98qZe5/j/cpd/z0x8Yv7o/MXJyb8DIe1qnzfh73n3T4cuXViYv8jJyZ6LkXn4bv99Rx+YWyic6Jv4o+RF0yMTXTkoNIRdZj6fY9PjEwcmPjwxPaJZ04MTdx2xN/P8YcHJr41cQM6d0/8JEf1jqhT98QvJ34+8SLG+t8nxvlXjea67fqNuI7/Rrbq2lx/I4f4yB/6tCc/OTznu98Nv/znfw7/8cIXhkFqCebeWigWveKKK8J4T0/YQ3mbEYpfZ98WUTj1bVgCz8Et8oqLQvjFD6el8uWXXz6tvz+qP27CvfeUy0J4wqUhfOZ3Q/jpZ7hMeZ3KuFm8+LQXhXARY33NW9hS7k0E+wxlrHBFtfaHU9/wB+zI8SNc2c+iDMu+O+hcle/7Du94FA+aSFJY/F38N9QZPfBIdP7lUfxRbX/F0jDzyAJtxtXXR8btSPh2bRW6k3ef+n271d3i8Aoc12+l9MprcGh/GlrACpt5WxyegOP6b8kV/ifiA99OzB3JZpm3tnAfNo9z+7sdlL3+C7LJCeMp24yPQAmAMz7Ed/4GrYsXh6d/8Yvh1Cc9KXz+UY8Km75PpmLmraG5OSy69NKwCJfwvj/6o9BDuRju1vLWWjh5HJmf7/5aCP9IgshHXk3d94G8dVa7dQ8ihvGKlCX8KTLIu3flr7O7iDz2W2zJRmD3ty8CUH6Rv86zKKOxgaSQ5X8cwi+fiM7/nr/ODbOIBWQet38SeH0p+woT6mDCSObNfYTnh6+TBvCP7HDxUoCqJ3ON3e7pTGLUvgRIdbLf7bOB163Z69wMtp5Ctu28cC6pFi8g4eLq7HWexUifwvZx68LzyRV+IzGN/8n8yHxtyX5U71rBprt+unz2aEbAWILptNVY05583nlxK7kbibN7+CWXTOflqvO31Aic+7WvhQ6KXe99whPCMiyZ2ZeLaWGhv4T4qcv/IYSXYBG89J8ovbLimMZreHg4biJ+TH803V9+zF+zvRkWqr95UghPZqFfDxjm3laRXLGAhIUrXom+zwzhlOflrjG7nDCua/6N2MA3UED6P8kU/kCoyfd9TCMFaDd9lZsDknD2XxTCoq9gGWw9pleo/i8385Z/Q/TXf4BUjwVSPk682obqq3GEd7yr77uZzOCxcD2JC39S2VMY63HmrSU8giSLM9H5MsD7fAoxc15m3hrCWmbDZeH28ClQ+7/Z++QSEkS4iT/Obbrr9nFWpyYvd/xHtSYfo2ZvytWXbRrLVo5AOQLlCJQjUI5AOQL1OAKrUXpHPSo+XZ1LAJzeCDp+pi31Tu9lyr8uR6AcgXIEyhEoR6AcgSqPAIG0ePZTMkiV37p8u3IEyhEoR6AcgXIEyhEoR6AcgXIEyhEoR6AcgXIEyhEoR6AcgXIEyhEoR6AcgXIEyhEoR6AcgXIEyhEoR6AcgXIEyhGo8Qi08/7fRSwKdSvyaKRs974RoAgfKYp3bBS6i9+7371i7Y2nI2Wr7xF4CepvRPxODyAUYjzUyvP90FDcKw+8lr9ryicrz/Epg3EvOvwEn6UDKc/ve9GXWouPchVvyl5MceftZ9C7aLQhZbt3jMB6PoYA4MWCAnF3aP/HoxchFLwL6ypCV7Y6HoHz0V2Qf2TlMzyK3nO6APvyfK8MzL2wex2fye9+KgCW5/i974sW6r+ELEDOQ4TA8vxmEMp2bCMgHHjBcCIVze0h/qJ4UPZ1PwJUBI7gp3X3cAAUCr2AlO3eMwJa+IS+op3MgQvEuUh5vhejcu/rL+AjafX1+j0VAMtz/N71XRfn8FQjjcdK8dxv5HreeO/6nqvyabxobEKmln65hsd5VDKtyhDc69/kk3zClyLfP8InXcjP2OcsLhxaCoTFstX3CLgP438hgqCWP8H/75BrkfJ8ZxDupe1f+Fy6/g/fh7M8x+9dX7g3dK7Zf4II/D9Hfg/pQX6jz+9yJxBmwDG2xfx+12F/o7VAN1LZ7t0j4N3ibYgWA11H90N0Lbhf0aeQstX3CAgC3hRr4RUIXSjK851BuBc2Y3sFQL/ni6d8vvIcnzIY95JDAVADjf1jKsfFdbuBx7+x63kJgHz7x9h0D3iHOLUt4YF3GGW7d4/A7Xy8U6d8xM0cvwdhr7MSABmDem0u+ja/X9svEC2AWgmEhPJ8ZxDuRc3krvtX5PCPVZ7jh49I/T92ze5E9OrYNiO6/L1ue57/xp7f3u2W7dhG4Gp+3TuJqU0zspahst27R0BQODzjW+tv2ep7BLQKmCE4tbkouHB4vh8e3lGe71NHqv6On4XK/39795YsNRUFYFgtXjmKDIAIxfMBdQKg5Tu3ERxgAqA4A52DM7DKAXgbgqU+e0EGgFq+g6z/dFax3JVOuovuttP1r6p9Ope9k50vJ6cXO92EOzZcu5xjEsJHUbj130XxGg+EA4qhwRlG/giv74WDP9cQ4NZQfmiYNw++FHK0RnurzkOA20T1SyAkgM+j3IzC58VIBHgDuRHFmK8A55VrmPNK5DV9bTF7eivY673HOIAX/lbX8k3Mc375IoDXeCAcYJDcc46H/m77fn6AJ3ybh8QfD/5okAzwi5VvFDFpHJBAmwByaNej8OUPEgbO/UkUY/4CeV7zmq5Jvdf7/M/v2BHw34Nkgk+9/F3wGh9Tm9e6vIaHzmmuy2vf9/N5nVt7q4ACCiiggAIKKKCAAgoooIACCiiggAIKKKCAAgoooIACCiiggAIKKKCAAgoooIACCiiggAIKKKCAAgoooIACCiiggAIKKKCAAgoooIACCiiggFfWeisAAAUtSURBVAIKKKCAAgoooIACCiiggAIKKKCAAgoooIACCiiggAIK7JfAn9GdK32XeAwW/1O+sZpAtVutxW5q8YjC+gjDVfbKUxB4IsJU8JxcnpBjKKCAAgoooMCMBdokJp+HO+ND2lnXW7ud7XhiR7/G+gsTddrVXbtgZJ5np+Y/GkaquUoBBRRQQAEF9lEgn2f9NDpH4seD0hkJInL6VkyTUFDnXl9IfKj3MErGxZio26PupoIRrfr85dx29pFRKdbTJ57rusn4JDaWx8s+un7j9VirHX2hPs+TZUS11st+x+LXPoyCK33G9vMoRB7Tqu6LVi9/sv+vX85uZYq+fbmVLbtRBRRQQAEFFNiJAMnKcb8nko+8BZyJSN5KJHmpCRbzWZfmbOcBExEkP5lUni54hR/Zj5N+GyQ49IN95DqSvrNRuij0426UTUTu6zg2dhSF/dQEs7WjXyRfN6IQYybU5Zjod+6HUbU8plXdo8l/gsSsHj/7IVEnEf0lytUo3MIl+axJHPUysg0JL226XNG/Zh+bxc4qoIACCiigwFwESFLydh5v7JnU5Zt8vZVIYlDnqUtidDsKiUKNj2Mmk5i6fN1pEk1uOdYggWHbQ30kqakjk7XdutMkZhwjyWYGx5vR2uFz3K9klGzMpOvr8XIxCm1rUludl7nTtg0Su9pf2mZCyigjiXkG/e/6mTzvzLZtPuvr1Be2k783dbnTCigwE4EzM+mn3VRAgd0L/Bu7fNLs9q9mntlzUS5FyeTi9ZimbZu4xaLT28jUZX2NbEOy8U9Z8VZM/17mmfwhCklnRtvHXN6+kkyus+/vo/6dKJ9G+S7Kt/30j/E6FBzTz/2Kt+N1zOSjWH8/Cm0eR6muLGuPqa7HalmQTDJyV4PjIDgfjABm4Er9P6K028w2v8U6ble3QZ9p+1O7wnkFFJiHgAngPM6TvVRgHwRITIaCkSQShctl5ZsxPVT/i1Jnlcm/oxKJVI33YiaTwqF91Lp1et19vxONSfZI1ghGNUk+32BmIsZMPoi2jGKy/Sf9dqi/LNpjbOdru3Yd8zWhxnMq2jZT9V2vgAIzFFjlD9kMD8suK6DAGgLnS906ElSnqbJs/qtYx4gXCRKJ37tRHkcZGjmKxWsFt3QZtbrbt2KbjOTl59faPvXVNvLCvkj4SNgYiWRfbYK1zG7MhG0xopfJGCOBuGW0xzQ1n+14xf39sqBtW1YtnVylDaN/mYQv3ZArFFBAAQUUUGA/Bfhc2LMoN6OQhDBN1OnFksW6o5yJV+rmfBfT3Hpk2dMoD6JsKq7EhnLbfK7upN/wUB/5ksamPgPIbvisIcfDcXEL9VqUjGV2ub6Liex3a0IC+zwKx0N/ufVNnQtR8hzE5GlUZxa084tai58cfybLLKnbuhXz9UssHM91KkXUenWaZLu2oe6QO8sNBRRQQAEFFFBAgf9BgNFKvvG7zeDzl21SuM39uW0FFFBAAQUUUECBCQFGFbuJOq+ymlFNRmUNBRRQQAEFFFBAgT0RIDnbxH/BM3Q4jDBua9tD+3OZAgoooIACCiiggAIKKKCAAgoooIACCiiggAIKKKCAAgoooIACCiiggAIKKKCAAgoooIACCiiggAIKKKCAAgoooIACCiiggAIKKKCAAgoooIACCiiggAIKKKCAAgoooIACCiiggAIKKKCAAgoooIACCiiggAIKKKCAAgoooIACCiiggAIKKKCAAgoooIACCiiggAIKKKCAAgoooIACCiiggAIKKLB9gRfdwxWj5J1u8AAAAABJRU5ErkJggg==\">"
      ],
      "text/plain": [
       "<IPython.core.display.HTML object>"
      ]
     },
     "metadata": {},
     "output_type": "display_data"
    }
   ],
   "source": [
    "newT.plot()"
   ]
  },
  {
   "cell_type": "markdown",
   "metadata": {
    "collapsed": true
   },
   "source": [
    "Now, lets load a NMR dataset (in the Bruker format)"
   ]
  },
  {
   "cell_type": "code",
   "execution_count": 33,
   "metadata": {
    "run_control": {
     "frozen": false,
     "read_only": false
    }
   },
   "outputs": [
    {
     "ename": "TypeError",
     "evalue": "'NoneType' object is not callable",
     "output_type": "error",
     "traceback": [
      "\u001b[0;31m---------------------------------------------------------------------------\u001b[0m",
      "\u001b[0;31mTypeError\u001b[0m                                 Traceback (most recent call last)",
      "\u001b[0;32m<ipython-input-33-26153be41fe2>\u001b[0m in \u001b[0;36m<module>\u001b[0;34m()\u001b[0m\n\u001b[1;32m      7\u001b[0m \u001b[0;34m\u001b[0m\u001b[0m\n\u001b[1;32m      8\u001b[0m \u001b[0;31m# load the data\u001b[0m\u001b[0;34m\u001b[0m\u001b[0;34m\u001b[0m\u001b[0m\n\u001b[0;32m----> 9\u001b[0;31m \u001b[0mndd\u001b[0m\u001b[0;34m.\u001b[0m\u001b[0mread_bruker\u001b[0m\u001b[0;34m(\u001b[0m\u001b[0mpath\u001b[0m\u001b[0;34m,\u001b[0m \u001b[0mexpno\u001b[0m\u001b[0;34m=\u001b[0m\u001b[0;36m1\u001b[0m\u001b[0;34m,\u001b[0m \u001b[0mremove_digital_filter\u001b[0m\u001b[0;34m=\u001b[0m\u001b[0;32mTrue\u001b[0m\u001b[0;34m)\u001b[0m\u001b[0;34m\u001b[0m\u001b[0m\n\u001b[0m\u001b[1;32m     10\u001b[0m \u001b[0;34m\u001b[0m\u001b[0m\n\u001b[1;32m     11\u001b[0m \u001b[0;31m# view it...\u001b[0m\u001b[0;34m\u001b[0m\u001b[0;34m\u001b[0m\u001b[0m\n",
      "\u001b[0;31mTypeError\u001b[0m: 'NoneType' object is not callable"
     ]
    }
   ],
   "source": [
    "import os\n",
    "\n",
    "path = os.path.join('..','tests','testdata', 'bruker', 'tests', 'nmr','bruker_1d')\n",
    "\n",
    "# create an empty dataset \n",
    "ndd = NDDataset()\n",
    "\n",
    "# load the data\n",
    "ndd.read_bruker(path, expno=1, remove_digital_filter=True)\n",
    "\n",
    "# view it...\n",
    "fig1 = ndd.view() \n",
    "fig1"
   ]
  },
  {
   "cell_type": "code",
   "execution_count": null,
   "metadata": {
    "collapsed": true,
    "run_control": {
     "frozen": false,
     "read_only": false
    }
   },
   "outputs": [],
   "source": [
    "path = os.path.join('..','tests','testdata', 'bruker', 'tests', 'nmr','bruker_2d')\n",
    "\n",
    "# create an empty dataset \n",
    "ndd2 = NDDataset()\n",
    "\n",
    "# load the data\n",
    "ndd2.read_bruker(path, expno=1, remove_digital_filter=True)\n",
    "\n",
    "# view it...\n",
    "ndd2.x.to('ms')\n",
    "ndd2.y.to('ms')\n",
    "fig2 = ndd2.view() \n",
    "fig2"
   ]
  },
  {
   "cell_type": "markdown",
   "metadata": {},
   "source": [
    "To display a list of the currently **available services**, we just need to type"
   ]
  },
  {
   "cell_type": "code",
   "execution_count": null,
   "metadata": {
    "collapsed": true,
    "run_control": {
     "frozen": false,
     "read_only": false
    }
   },
   "outputs": [],
   "source": [
    "available_services"
   ]
  },
  {
   "cell_type": "markdown",
   "metadata": {},
   "source": [
    "### Using the API: a first example"
   ]
  },
  {
   "cell_type": "markdown",
   "metadata": {},
   "source": [
    "If you are interested by **NMR**, it might be useful to have information about NMR isotopes, *e.g.*, to include this in some further calculations.\n",
    "\n",
    "Let's get information about the $^{27}$Al nucleus. \n",
    "\n",
    "We use the **Isotopes** class:"
   ]
  },
  {
   "cell_type": "code",
   "execution_count": null,
   "metadata": {
    "collapsed": true,
    "run_control": {
     "frozen": false,
     "read_only": false
    }
   },
   "outputs": [],
   "source": [
    "al = Isotopes('27Al')\n",
    "al"
   ]
  },
  {
   "cell_type": "code",
   "execution_count": null,
   "metadata": {
    "collapsed": true,
    "run_control": {
     "frozen": false,
     "read_only": false
    }
   },
   "outputs": [],
   "source": [
    "print(al.symbol, al.spin)"
   ]
  },
  {
   "cell_type": "code",
   "execution_count": null,
   "metadata": {
    "collapsed": true,
    "run_control": {
     "frozen": false,
     "read_only": false
    }
   },
   "outputs": [],
   "source": [
    "quadrupolar_moment = al.Q.to('m^2') \n",
    "quadrupolar_moment"
   ]
  },
  {
   "cell_type": "code",
   "execution_count": null,
   "metadata": {
    "collapsed": true,
    "run_control": {
     "frozen": false,
     "read_only": false
    }
   },
   "outputs": [],
   "source": [
    "gyromagnetic_ratio = al.gamma\n",
    "gyromagnetic_ratio"
   ]
  },
  {
   "cell_type": "markdown",
   "metadata": {},
   "source": [
    "It is then obvious how to get the Larmor frequency of aluminium:"
   ]
  },
  {
   "cell_type": "code",
   "execution_count": null,
   "metadata": {
    "collapsed": true,
    "run_control": {
     "frozen": false,
     "read_only": false
    }
   },
   "outputs": [],
   "source": [
    "Bo = quantity('9.4 tesla')\n",
    "print(\"{:~.2f} at {:~.2f}\".format(al.gamma * Bo, Bo))"
   ]
  },
  {
   "cell_type": "code",
   "execution_count": null,
   "metadata": {
    "collapsed": true,
    "run_control": {
     "frozen": false,
     "read_only": false
    }
   },
   "outputs": [],
   "source": [
    "np.sin(1)"
   ]
  },
  {
   "cell_type": "markdown",
   "metadata": {},
   "source": [
    "# The dataset object"
   ]
  },
  {
   "cell_type": "code",
   "execution_count": null,
   "metadata": {
    "collapsed": true,
    "run_control": {
     "frozen": false,
     "read_only": false
    }
   },
   "outputs": [],
   "source": [
    "print(da)"
   ]
  },
  {
   "cell_type": "code",
   "execution_count": null,
   "metadata": {
    "collapsed": true,
    "run_control": {
     "frozen": false,
     "read_only": false
    }
   },
   "outputs": [],
   "source": []
  },
  {
   "cell_type": "code",
   "execution_count": null,
   "metadata": {
    "collapsed": true,
    "run_control": {
     "frozen": false,
     "read_only": false
    }
   },
   "outputs": [],
   "source": [
    "da"
   ]
  },
  {
   "cell_type": "code",
   "execution_count": null,
   "metadata": {
    "collapsed": true,
    "run_control": {
     "frozen": false,
     "read_only": false
    }
   },
   "outputs": [],
   "source": [
    "al.gamma"
   ]
  },
  {
   "cell_type": "code",
   "execution_count": null,
   "metadata": {
    "collapsed": true,
    "run_control": {
     "frozen": false,
     "read_only": false
    }
   },
   "outputs": [],
   "source": [
    "from pint import UnitRegistry\n",
    "ur = UnitRegistry()"
   ]
  },
  {
   "cell_type": "code",
   "execution_count": null,
   "metadata": {
    "collapsed": true,
    "run_control": {
     "frozen": false,
     "read_only": false
    }
   },
   "outputs": [],
   "source": [
    "(1 * ur.rps)"
   ]
  },
  {
   "cell_type": "code",
   "execution_count": null,
   "metadata": {
    "collapsed": true,
    "run_control": {
     "frozen": false,
     "read_only": false
    }
   },
   "outputs": [],
   "source": [
    "1 * ur.rad"
   ]
  },
  {
   "cell_type": "code",
   "execution_count": null,
   "metadata": {
    "collapsed": true,
    "run_control": {
     "frozen": false,
     "read_only": false
    }
   },
   "outputs": [],
   "source": [
    "print(da[4000.])"
   ]
  },
  {
   "cell_type": "code",
   "execution_count": null,
   "metadata": {
    "collapsed": true,
    "run_control": {
     "frozen": false,
     "read_only": false
    }
   },
   "outputs": [],
   "source": [
    "da[4000]"
   ]
  },
  {
   "cell_type": "code",
   "execution_count": null,
   "metadata": {
    "collapsed": true,
    "run_control": {
     "frozen": false,
     "read_only": false
    }
   },
   "outputs": [],
   "source": [
    "darange =da[4000., :,  'normal':'hot']\n",
    "print(darange)"
   ]
  },
  {
   "cell_type": "code",
   "execution_count": null,
   "metadata": {
    "collapsed": true,
    "run_control": {
     "frozen": false,
     "read_only": false
    }
   },
   "outputs": [],
   "source": [
    "print(da[0,1,2])"
   ]
  },
  {
   "cell_type": "code",
   "execution_count": null,
   "metadata": {
    "collapsed": true,
    "run_control": {
     "frozen": false,
     "read_only": false
    }
   },
   "outputs": [],
   "source": [
    "from spectrochempy.api import NDDataset\n",
    "ndd = NDDataset([1., 2., 3.])\n",
    "print(ndd)"
   ]
  },
  {
   "cell_type": "code",
   "execution_count": null,
   "metadata": {
    "collapsed": true,
    "run_control": {
     "frozen": false,
     "read_only": false
    }
   },
   "outputs": [],
   "source": [
    "print(np.sqrt(ndd))"
   ]
  },
  {
   "cell_type": "code",
   "execution_count": null,
   "metadata": {
    "collapsed": true,
    "run_control": {
     "frozen": false,
     "read_only": false
    }
   },
   "outputs": [],
   "source": [
    "dx = [0, 1, 2, 3]   # a simple list\n",
    "da = NDDataset(dx)\n",
    "da.title = 'intensity'\n",
    "da.description = 'Some experimental measurements'\n",
    "print(da)"
   ]
  },
  {
   "cell_type": "code",
   "execution_count": null,
   "metadata": {
    "collapsed": true,
    "run_control": {
     "frozen": false,
     "read_only": false
    }
   },
   "outputs": [],
   "source": [
    "da.title = 'intensity '\n",
    "da.description = 'Some experimental measurements'\n",
    "print(da)"
   ]
  },
  {
   "cell_type": "code",
   "execution_count": null,
   "metadata": {
    "collapsed": true,
    "run_control": {
     "frozen": false,
     "read_only": false
    }
   },
   "outputs": [],
   "source": [
    "da.title = 'intensity '\n",
    "da.description = 'Some experimental measurements'\n",
    "da.units = 'dimensionless'\n",
    "print(da)"
   ]
  },
  {
   "cell_type": "code",
   "execution_count": null,
   "metadata": {
    "collapsed": true,
    "run_control": {
     "frozen": false,
     "read_only": false
    }
   },
   "outputs": [],
   "source": [
    "print(da)"
   ]
  },
  {
   "cell_type": "code",
   "execution_count": null,
   "metadata": {
    "collapsed": true,
    "run_control": {
     "frozen": false,
     "read_only": false
    }
   },
   "outputs": [],
   "source": [
    "db = NDDataset(da, units='mol/g', title='concentration')\n",
    "print(db)"
   ]
  },
  {
   "cell_type": "code",
   "execution_count": null,
   "metadata": {
    "collapsed": true,
    "run_control": {
     "frozen": false,
     "read_only": false
    }
   },
   "outputs": [],
   "source": [
    "nd = NDDataset([  [1.+2.j, 2.+0j], [1.3+2.j, 2.+0.5j],\n",
    "                  [1.+4.2j, 2.+3j], [5.+4.2j, 2.+3j ] ])\n",
    "assert nd.data.size == 16\n",
    "assert nd.size == 8\n",
    "assert nd.data.shape == (4, 4)\n",
    "assert nd.shape == (4, 2)\n",
    "\n",
    "nd._is_complex[0] = True"
   ]
  },
  {
   "cell_type": "code",
   "execution_count": null,
   "metadata": {
    "collapsed": true,
    "run_control": {
     "frozen": false,
     "read_only": false
    }
   },
   "outputs": [],
   "source": [
    "print(nd)"
   ]
  },
  {
   "cell_type": "code",
   "execution_count": null,
   "metadata": {
    "collapsed": true,
    "run_control": {
     "frozen": false,
     "read_only": false
    }
   },
   "outputs": [],
   "source": [
    "print(nd.real(axis=1))"
   ]
  },
  {
   "cell_type": "code",
   "execution_count": null,
   "metadata": {
    "collapsed": true,
    "run_control": {
     "frozen": false,
     "read_only": false
    }
   },
   "outputs": [],
   "source": [
    "nd"
   ]
  },
  {
   "cell_type": "code",
   "execution_count": null,
   "metadata": {
    "collapsed": true,
    "run_control": {
     "frozen": false,
     "read_only": false
    }
   },
   "outputs": [],
   "source": [
    "nd.real(0)"
   ]
  },
  {
   "cell_type": "code",
   "execution_count": null,
   "metadata": {
    "collapsed": true,
    "run_control": {
     "frozen": false,
     "read_only": false
    }
   },
   "outputs": [],
   "source": [
    "nd.imag(0)"
   ]
  },
  {
   "cell_type": "code",
   "execution_count": null,
   "metadata": {
    "collapsed": true,
    "run_control": {
     "frozen": false,
     "read_only": false
    }
   },
   "outputs": [],
   "source": [
    "nd"
   ]
  },
  {
   "cell_type": "code",
   "execution_count": null,
   "metadata": {
    "collapsed": true,
    "run_control": {
     "frozen": false,
     "read_only": false
    }
   },
   "outputs": [],
   "source": [
    "nd.T"
   ]
  },
  {
   "cell_type": "code",
   "execution_count": null,
   "metadata": {
    "collapsed": true,
    "run_control": {
     "frozen": false,
     "read_only": false
    }
   },
   "outputs": [],
   "source": [
    "nd.transpose(1,0)"
   ]
  },
  {
   "cell_type": "code",
   "execution_count": null,
   "metadata": {
    "collapsed": true,
    "run_control": {
     "frozen": false,
     "read_only": false
    }
   },
   "outputs": [],
   "source": [
    "nd = NDDataset()\n",
    "nd._data = np.random.random((10, 10))\n",
    "nd.set_complex(axis=-1)    # this means that the data are complex in\n",
    "nd.shape"
   ]
  },
  {
   "cell_type": "code",
   "execution_count": null,
   "metadata": {
    "collapsed": true,
    "run_control": {
     "frozen": false,
     "read_only": false
    }
   },
   "outputs": [],
   "source": [
    "nd.shape"
   ]
  },
  {
   "cell_type": "code",
   "execution_count": null,
   "metadata": {
    "collapsed": true,
    "run_control": {
     "frozen": false,
     "read_only": false
    }
   },
   "outputs": [],
   "source": []
  },
  {
   "cell_type": "code",
   "execution_count": null,
   "metadata": {
    "collapsed": true,
    "run_control": {
     "frozen": false,
     "read_only": false
    }
   },
   "outputs": [],
   "source": []
  },
  {
   "cell_type": "code",
   "execution_count": null,
   "metadata": {
    "collapsed": true,
    "run_control": {
     "frozen": false,
     "read_only": false
    }
   },
   "outputs": [],
   "source": []
  },
  {
   "cell_type": "code",
   "execution_count": null,
   "metadata": {
    "collapsed": true,
    "run_control": {
     "frozen": false,
     "read_only": false
    }
   },
   "outputs": [],
   "source": [
    "dx = np.random.random((10, 100, 3))\n",
    "\n",
    "axe0 = Axis(coords = np.linspace(4000., 1000., 10),\n",
    "            labels = 'a b c d e f g h i j'.split(),\n",
    "            mask = None,\n",
    "            units = \"cm^-1\",\n",
    "            title = 'wavelength')\n",
    "\n",
    "axe1 = Axis(coords = np.linspace(0., 60., 100),\n",
    "            labels = None,\n",
    "            mask = None,\n",
    "            units = \"s\",\n",
    "            title = 'time-on-stream')\n",
    "\n",
    "axe2 = Axis(coords = np.linspace(200., 300., 3),\n",
    "            labels = ['cold', 'normal', 'hot'],\n",
    "            mask = None,\n",
    "            units = \"K\",\n",
    "            title = 'temperature')\n",
    "\n",
    "da = NDDataset(dx,\n",
    "                   axes = [axe0, axe1, axe2],\n",
    "                   title='absorbance',\n",
    "                   units='dimensionless'\n",
    "                   )\n",
    "print(da)"
   ]
  },
  {
   "cell_type": "code",
   "execution_count": null,
   "metadata": {
    "collapsed": true,
    "run_control": {
     "frozen": false,
     "read_only": false
    },
    "scrolled": false
   },
   "outputs": [],
   "source": [
    "da.set_complex(axis=1)\n",
    "da.set_complex(axis=0)\n",
    "print(da)"
   ]
  },
  {
   "cell_type": "code",
   "execution_count": null,
   "metadata": {
    "collapsed": true,
    "run_control": {
     "frozen": false,
     "read_only": false
    }
   },
   "outputs": [],
   "source": [
    "db = da.swapaxes(2, 0)\n",
    "print(db)"
   ]
  },
  {
   "cell_type": "code",
   "execution_count": null,
   "metadata": {
    "collapsed": true,
    "run_control": {
     "frozen": false,
     "read_only": false
    }
   },
   "outputs": [],
   "source": [
    "print(db.axes)"
   ]
  },
  {
   "cell_type": "code",
   "execution_count": null,
   "metadata": {
    "collapsed": true,
    "run_control": {
     "frozen": false,
     "read_only": false
    }
   },
   "outputs": [],
   "source": [
    "print(db.T)"
   ]
  },
  {
   "cell_type": "code",
   "execution_count": null,
   "metadata": {
    "collapsed": true,
    "run_control": {
     "frozen": false,
     "read_only": false
    }
   },
   "outputs": [],
   "source": [
    "db.axes"
   ]
  },
  {
   "cell_type": "code",
   "execution_count": null,
   "metadata": {
    "collapsed": true,
    "run_control": {
     "frozen": false,
     "read_only": false
    }
   },
   "outputs": [],
   "source": [
    "db.axes._axes.reverse()\n",
    "db.axes._axes"
   ]
  },
  {
   "cell_type": "code",
   "execution_count": null,
   "metadata": {
    "collapsed": true,
    "run_control": {
     "frozen": false,
     "read_only": false
    }
   },
   "outputs": [],
   "source": [
    "Application"
   ]
  },
  {
   "cell_type": "code",
   "execution_count": null,
   "metadata": {
    "collapsed": true,
    "run_control": {
     "frozen": false,
     "read_only": false
    }
   },
   "outputs": [],
   "source": [
    "quantity('10. cm')"
   ]
  },
  {
   "cell_type": "code",
   "execution_count": null,
   "metadata": {
    "collapsed": true,
    "run_control": {
     "frozen": false,
     "read_only": false
    }
   },
   "outputs": [],
   "source": []
  },
  {
   "cell_type": "code",
   "execution_count": null,
   "metadata": {
    "collapsed": true,
    "run_control": {
     "frozen": false,
     "read_only": false
    }
   },
   "outputs": [],
   "source": [
    "10. * units.cm"
   ]
  },
  {
   "cell_type": "code",
   "execution_count": null,
   "metadata": {
    "collapsed": true,
    "run_control": {
     "frozen": false,
     "read_only": false
    }
   },
   "outputs": [],
   "source": [
    "measurement(10,1,'km')"
   ]
  },
  {
   "cell_type": "code",
   "execution_count": null,
   "metadata": {
    "collapsed": true,
    "run_control": {
     "frozen": false,
     "read_only": false
    }
   },
   "outputs": [],
   "source": [
    "%precision 2"
   ]
  },
  {
   "cell_type": "code",
   "execution_count": null,
   "metadata": {
    "collapsed": true,
    "run_control": {
     "frozen": false,
     "read_only": false
    }
   },
   "outputs": [],
   "source": [
    "quantity(\"900 km / (8 hours)\")"
   ]
  },
  {
   "cell_type": "code",
   "execution_count": null,
   "metadata": {
    "collapsed": true,
    "run_control": {
     "frozen": false,
     "read_only": false
    }
   },
   "outputs": [],
   "source": [
    "a = np.arange(20)\n",
    "a[slice(2, 3, None)].squeeze(), a[2]"
   ]
  },
  {
   "cell_type": "code",
   "execution_count": null,
   "metadata": {
    "collapsed": true,
    "run_control": {
     "frozen": false,
     "read_only": false
    }
   },
   "outputs": [],
   "source": [
    "a"
   ]
  },
  {
   "cell_type": "code",
   "execution_count": null,
   "metadata": {
    "collapsed": true,
    "run_control": {
     "frozen": false,
     "read_only": false
    }
   },
   "outputs": [],
   "source": [
    "a < a*2"
   ]
  },
  {
   "cell_type": "code",
   "execution_count": null,
   "metadata": {
    "collapsed": true,
    "run_control": {
     "frozen": false,
     "read_only": false
    }
   },
   "outputs": [],
   "source": [
    "from IPython.display import display, Latex\n",
    "Latex(r\"${:Lx}$\".format(quantity(1. , ur.us)))"
   ]
  },
  {
   "cell_type": "code",
   "execution_count": null,
   "metadata": {
    "collapsed": true,
    "run_control": {
     "frozen": false,
     "read_only": false
    }
   },
   "outputs": [],
   "source": []
  },
  {
   "cell_type": "code",
   "execution_count": null,
   "metadata": {
    "collapsed": true,
    "run_control": {
     "frozen": false,
     "read_only": false
    }
   },
   "outputs": [],
   "source": [
    "from spectrochempy.api import *"
   ]
  },
  {
   "cell_type": "code",
   "execution_count": null,
   "metadata": {
    "collapsed": true,
    "run_control": {
     "frozen": false,
     "read_only": false
    }
   },
   "outputs": [],
   "source": [
    "path = \"/Users/christian/Dropbox/PycharmProjects/spectrochempy/tests/testdata/bruker/tests/nmr/bruker_1d\"\n",
    "ndd = NDDataset()\n",
    "ndd.read_bruker(path, expno=1, remove_digital_filter=False)\n",
    "\n",
    "fig1 = ndd.view(savefig='essai')\n",
    "fig2 = ndd.view()"
   ]
  },
  {
   "cell_type": "code",
   "execution_count": null,
   "metadata": {
    "collapsed": true,
    "run_control": {
     "frozen": false,
     "read_only": false
    }
   },
   "outputs": [],
   "source": [
    "ndd2 = ndd.copy()"
   ]
  },
  {
   "cell_type": "code",
   "execution_count": null,
   "metadata": {
    "collapsed": true,
    "run_control": {
     "frozen": false,
     "read_only": false
    }
   },
   "outputs": [],
   "source": [
    "ndd2.view(fig=fig1, offset=.4)"
   ]
  },
  {
   "cell_type": "code",
   "execution_count": null,
   "metadata": {
    "collapsed": true,
    "run_control": {
     "frozen": false,
     "read_only": false
    }
   },
   "outputs": [],
   "source": [
    "fig = ndd2.view(savefig='essai')\n",
    "fig"
   ]
  },
  {
   "cell_type": "code",
   "execution_count": null,
   "metadata": {
    "collapsed": true,
    "run_control": {
     "frozen": false,
     "read_only": false
    }
   },
   "outputs": [],
   "source": [
    "ndd2.view(fig=2, offset=-.6,)\n",
    "plt.show()"
   ]
  },
  {
   "cell_type": "code",
   "execution_count": null,
   "metadata": {
    "collapsed": true,
    "run_control": {
     "frozen": false,
     "read_only": false
    }
   },
   "outputs": [],
   "source": [
    "import matplotlib as mpl\n",
    "print(mpl.rcParams)\n",
    "mpl.rcParams['axes.formatter.unicode_minus']"
   ]
  },
  {
   "cell_type": "code",
   "execution_count": null,
   "metadata": {
    "collapsed": true,
    "run_control": {
     "frozen": false,
     "read_only": false
    }
   },
   "outputs": [],
   "source": []
  },
  {
   "cell_type": "code",
   "execution_count": null,
   "metadata": {
    "collapsed": true,
    "run_control": {
     "frozen": false,
     "read_only": false
    }
   },
   "outputs": [],
   "source": [
    "axe0"
   ]
  },
  {
   "cell_type": "code",
   "execution_count": null,
   "metadata": {
    "collapsed": true,
    "run_control": {
     "frozen": false,
     "read_only": false
    }
   },
   "outputs": [],
   "source": [
    "x = np.linspace(0,100.,100)\n",
    "w = x[-1]-x[0]\n",
    "f = lambda x, off=x[0], end=x[-1], pow=1 : np.sin(np.pi*off/w + np.pi*(end - off)*x /w/(x.size-1))"
   ]
  },
  {
   "cell_type": "code",
   "execution_count": null,
   "metadata": {
    "collapsed": true,
    "run_control": {
     "frozen": false,
     "read_only": false
    }
   },
   "outputs": [],
   "source": [
    "w"
   ]
  },
  {
   "cell_type": "code",
   "execution_count": null,
   "metadata": {
    "collapsed": true,
    "run_control": {
     "frozen": false,
     "read_only": false
    }
   },
   "outputs": [],
   "source": [
    "plt.plot(x, f(x,50,100.))\n",
    "plt.show()"
   ]
  },
  {
   "cell_type": "code",
   "execution_count": null,
   "metadata": {
    "collapsed": true,
    "run_control": {
     "frozen": false,
     "read_only": false
    }
   },
   "outputs": [],
   "source": [
    "i = np.arange(100)\n",
    "size = len(i)\n",
    "g = lambda i, off=0, end=1, pow=1: np.sin( np.pi*off + np.pi*(end-off)*i/(size-1) )**pow"
   ]
  },
  {
   "cell_type": "code",
   "execution_count": null,
   "metadata": {
    "collapsed": true,
    "run_control": {
     "frozen": false,
     "read_only": false
    }
   },
   "outputs": [],
   "source": [
    "plt.plot(i,g(i, 0.5, 1))\n",
    "plt.show()"
   ]
  },
  {
   "cell_type": "code",
   "execution_count": 34,
   "metadata": {
    "run_control": {
     "frozen": false,
     "read_only": false
    }
   },
   "outputs": [
    {
     "data": {
      "text/plain": [
       "True"
      ]
     },
     "execution_count": 34,
     "metadata": {},
     "output_type": "execute_result"
    }
   ],
   "source": []
  },
  {
   "cell_type": "code",
   "execution_count": null,
   "metadata": {
    "collapsed": true
   },
   "outputs": [],
   "source": []
  }
 ],
 "metadata": {
  "kernelspec": {
   "display_name": "Python [conda env:python352]",
   "language": "python",
   "name": "conda-env-python352-py"
  },
  "language_info": {
   "codemirror_mode": {
    "name": "ipython",
    "version": 3
   },
   "file_extension": ".py",
   "mimetype": "text/x-python",
   "name": "python",
   "nbconvert_exporter": "python",
   "pygments_lexer": "ipython3",
   "version": "3.6.1"
  },
  "toc": {
   "toc_cell": true,
   "toc_number_sections": false,
   "toc_threshold": 6,
   "toc_window_display": false
  }
 },
 "nbformat": 4,
 "nbformat_minor": 1
}
