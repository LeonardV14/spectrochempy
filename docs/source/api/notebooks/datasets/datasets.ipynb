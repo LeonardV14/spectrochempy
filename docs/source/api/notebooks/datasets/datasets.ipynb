{
 "cells": [
  {
   "cell_type": "markdown",
   "metadata": {},
   "source": [
    "## Multidimensional datasets"
   ]
  },
  {
   "cell_type": "code",
   "execution_count": 1,
   "metadata": {
    "run_control": {
     "frozen": false,
     "read_only": false
    },
    "scrolled": true
   },
   "outputs": [
    {
     "name": "stdout",
     "output_type": "stream",
     "text": [
      "\n",
      "SpectroChemPy's API\n",
      "    Version   : 0.1.1dev.6\n",
      "    Copyright : © 2014-2017, LCS - Laboratory for Catalysis and Spectrochempy\n",
      "\n"
     ]
    }
   ],
   "source": [
    "from spectrochempy.api import *"
   ]
  },
  {
   "cell_type": "markdown",
   "metadata": {},
   "source": [
    "### ND-Dataset\n",
    "\n",
    "Multidimensional array are defined in Spectrochempy using the NDDataset object.\n",
    "\n",
    "Below is an example, with a 3D-array with axes. \n",
    "\n",
    "Let's first create the 3 axis:"
   ]
  },
  {
   "cell_type": "code",
   "execution_count": 16,
   "metadata": {
    "collapsed": true
   },
   "outputs": [],
   "source": [
    "axe0 = Axis(coords = np.linspace(200., 300., 3),\n",
    "            labels = ['cold', 'normal', 'hot'],\n",
    "            mask = None,\n",
    "            units = \"K\",\n",
    "            title = 'temperature')\n",
    "\n",
    "axe1 = Axis(coords = np.linspace(0., 60., 100),\n",
    "            labels = None,\n",
    "            mask = None,\n",
    "            units = \"minutes\",\n",
    "            title = 'time-on-stream')\n",
    "\n",
    "axe2 = Axis(coords = np.linspace(4000., 1000., 10),\n",
    "            labels = None,\n",
    "            mask = None,\n",
    "            units = \"cm^-1\",\n",
    "            title = 'wavelength')"
   ]
  },
  {
   "cell_type": "markdown",
   "metadata": {},
   "source": [
    "Here is the displayed info for axe1 for instance:"
   ]
  },
  {
   "cell_type": "code",
   "execution_count": 17,
   "metadata": {},
   "outputs": [
    {
     "data": {
      "text/html": [
       "<table><tr><td>title</td><td>Time-on-stream</td></tr>\n",
       "<tr><td>coordinates</td><td>[       0    0.606 ...,     59.4       60]</td></tr>\n",
       "<tr><td>units</td><td>min</td></tr>\n",
       "</table>\n"
      ],
      "text/plain": [
       "Axis([       0,    0.606, ...,     59.4,       60]) min"
      ]
     },
     "execution_count": 17,
     "metadata": {},
     "output_type": "execute_result"
    }
   ],
   "source": [
    "axe1"
   ]
  },
  {
   "cell_type": "markdown",
   "metadata": {},
   "source": [
    "Now we create some 3D data:"
   ]
  },
  {
   "cell_type": "code",
   "execution_count": 18,
   "metadata": {
    "collapsed": true
   },
   "outputs": [],
   "source": [
    "nd_data=np.array([np.array([np.sin(axe2.data*2.*np.pi/4000.)*np.exp(-y/60.) for y in axe1.data])*float(T) \n",
    "         for T in axe0.data])**2"
   ]
  },
  {
   "cell_type": "markdown",
   "metadata": {},
   "source": [
    "The dataset is now create with these data and defined axis:"
   ]
  },
  {
   "cell_type": "code",
   "execution_count": 19,
   "metadata": {
    "run_control": {
     "frozen": false,
     "read_only": false
    }
   },
   "outputs": [],
   "source": [
    "mydataset = NDDataset(nd_data,\n",
    "               axes = [axe0, axe1, axe2],\n",
    "               title='Absorbance',\n",
    "               units='absorbance'\n",
    "              )\n",
    "\n",
    "mydataset.description = \"\"\"Dataset example created for this tutorial. \n",
    "It's a 3-D dataset (with dimensionless intensity)\"\"\"\n",
    "\n",
    "mydataset.author = 'Tintin and Milou'"
   ]
  },
  {
   "cell_type": "markdown",
   "metadata": {},
   "source": [
    "We can get some information about this object:"
   ]
  },
  {
   "cell_type": "code",
   "execution_count": 20,
   "metadata": {},
   "outputs": [
    {
     "data": {
      "text/html": [
       "<table>\n",
       "<tr><td>       author</td><td> Tintin and Milou</td></tr>\n",
       "<tr><td>       created</td><td> 2017-07-06 03:04:29.202878</td></tr>\n",
       "<tr><td>       last modified</td><td> 2017-07-06 03:04:29.203339</td></tr>\n",
       "<tr><td>  description</td><td> Dataset example created for this tutorial.  It's a 3-D dataset (with\n",
       "               dimensionless intensity)</td></tr>\n",
       "<tr><td>data</td><td><table><tr><td>title</td><td> Absorbance</td></tr>\n",
       "<tr><td>shape</td><td> 3 x 100 x 10</td></tr>\n",
       "<tr><td>units</td><td> AU</td></tr>\n",
       "<tr><td>values</td><td>\n",
       "         [[[ 2.4e-27    1e+04 ...,    3e+04    4e+04]\n",
       "           [2.35e-27  9.8e+03 ..., 2.94e+04 3.92e+04]\n",
       "           ..., \n",
       "           [3.31e-28 1.38e+03 ..., 4.14e+03 5.52e+03]\n",
       "           [3.25e-28 1.35e+03 ..., 4.06e+03 5.41e+03]]\n",
       "          [[3.75e-27 1.56e+04 ..., 4.69e+04 6.25e+04]\n",
       "           [3.67e-27 1.53e+04 ..., 4.59e+04 6.13e+04]\n",
       "           ..., \n",
       "           [5.18e-28 2.16e+03 ..., 6.47e+03 8.63e+03]\n",
       "           [5.07e-28 2.11e+03 ..., 6.34e+03 8.46e+03]]\n",
       "          [[ 5.4e-27 2.25e+04 ..., 6.75e+04    9e+04]\n",
       "           [5.29e-27 2.21e+04 ..., 6.62e+04 8.82e+04]\n",
       "           ..., \n",
       "           [7.46e-28 3.11e+03 ..., 9.32e+03 1.24e+04]\n",
       "           [7.31e-28 3.05e+03 ..., 9.14e+03 1.22e+04]]]</td></tr>\n",
       "</table></td></tr><tr><td>       axis 0</td><td>         <table><tr><td>title</td><td>Temperature</td></tr>\n",
       "         <tr><td>coordinates</td><td>[     200      250      300]</td></tr>\n",
       "         <tr><td>units</td><td>K</td></tr>\n",
       "         <tr border=0><td>labels</td><td>[cold normal hot]</td></tr>\n",
       "         </table>\n",
       "</td></tr>\n",
       "<tr><td>       axis 1</td><td>         <table><tr><td>title</td><td>Time-on-stream</td></tr>\n",
       "         <tr><td>coordinates</td><td>[       0    0.606 ...,     59.4       60]</td></tr>\n",
       "         <tr><td>units</td><td>min</td></tr>\n",
       "         </table>\n",
       "</td></tr>\n",
       "<tr><td>       axis 2</td><td>         <table><tr><td>title</td><td>Wavelength</td></tr>\n",
       "         <tr><td>coordinates</td><td>[   4e+03 3.67e+03 ..., 1.33e+03    1e+03]</td></tr>\n",
       "         <tr><td>units</td><td>cm<sup>-1</sup></td></tr>\n",
       "         </table>\n",
       "</td></tr>\n"
      ],
      "text/plain": [
       "NDDataset([[[ 2.4e-27,    1e+04, ...,    3e+04,    4e+04],\n",
       "            [2.35e-27,  9.8e+03, ..., 2.94e+04, 3.92e+04],\n",
       "            ..., \n",
       "            [3.31e-28, 1.38e+03, ..., 4.14e+03, 5.52e+03],\n",
       "            [3.25e-28, 1.35e+03, ..., 4.06e+03, 5.41e+03]],\n",
       "\n",
       "           [[3.75e-27, 1.56e+04, ..., 4.69e+04, 6.25e+04],\n",
       "            [3.67e-27, 1.53e+04, ..., 4.59e+04, 6.13e+04],\n",
       "            ..., \n",
       "            [5.18e-28, 2.16e+03, ..., 6.47e+03, 8.63e+03],\n",
       "            [5.07e-28, 2.11e+03, ..., 6.34e+03, 8.46e+03]],\n",
       "\n",
       "           [[ 5.4e-27, 2.25e+04, ..., 6.75e+04,    9e+04],\n",
       "            [5.29e-27, 2.21e+04, ..., 6.62e+04, 8.82e+04],\n",
       "            ..., \n",
       "            [7.46e-28, 3.11e+03, ..., 9.32e+03, 1.24e+04],\n",
       "            [7.31e-28, 3.05e+03, ..., 9.14e+03, 1.22e+04]]])"
      ]
     },
     "execution_count": 20,
     "metadata": {},
     "output_type": "execute_result"
    }
   ],
   "source": [
    "mydataset"
   ]
  },
  {
   "cell_type": "markdown",
   "metadata": {},
   "source": [
    "NDDataset can be sliced like conventional numpy-array..."
   ]
  },
  {
   "cell_type": "code",
   "execution_count": 21,
   "metadata": {
    "run_control": {
     "frozen": false,
     "read_only": false
    }
   },
   "outputs": [
    {
     "data": {
      "text/html": [
       "<table>\n",
       "<tr><td>       author</td><td> christian@MacBook-Pro-de-Christian.local</td></tr>\n",
       "<tr><td>       created</td><td> 2017-07-06 03:04:31.566162</td></tr>\n",
       "<tr><td>       last modified</td><td> 2017-07-06 03:04:31.566539</td></tr>\n",
       "<tr><td>  description</td><td> Dataset example created for this tutorial.  It's a 3-D dataset (with\n",
       "               dimensionless intensity)</td></tr>\n",
       "<tr><td>data</td><td><table><tr><td>title</td><td> Absorbance</td></tr>\n",
       "<tr><td>shape</td><td> 3 x 100 x 1</td></tr>\n",
       "<tr><td>units</td><td> AU</td></tr>\n",
       "<tr><td>values</td><td>\n",
       "         [[[ 2.4e-27]\n",
       "           [2.35e-27]\n",
       "           ..., \n",
       "           [3.31e-28]\n",
       "           [3.25e-28]]\n",
       "          [[3.75e-27]\n",
       "           [3.67e-27]\n",
       "           ..., \n",
       "           [5.18e-28]\n",
       "           [5.07e-28]]\n",
       "          [[ 5.4e-27]\n",
       "           [5.29e-27]\n",
       "           ..., \n",
       "           [7.46e-28]\n",
       "           [7.31e-28]]]</td></tr>\n",
       "</table></td></tr><tr><td>       axis 0</td><td>         <table><tr><td>title</td><td>Temperature</td></tr>\n",
       "         <tr><td>coordinates</td><td>[     200      250      300]</td></tr>\n",
       "         <tr><td>units</td><td>K</td></tr>\n",
       "         <tr border=0><td>labels</td><td>[cold normal hot]</td></tr>\n",
       "         </table>\n",
       "</td></tr>\n",
       "<tr><td>       axis 1</td><td>         <table><tr><td>title</td><td>Time-on-stream</td></tr>\n",
       "         <tr><td>coordinates</td><td>[       0    0.606 ...,     59.4       60]</td></tr>\n",
       "         <tr><td>units</td><td>min</td></tr>\n",
       "         </table>\n",
       "</td></tr>\n",
       "<tr><td>       axis 2</td><td>         <table><tr><td>title</td><td>Wavelength</td></tr>\n",
       "         <tr><td>coordinates</td><td>[   4e+03]</td></tr>\n",
       "         <tr><td>units</td><td>cm<sup>-1</sup></td></tr>\n",
       "         </table>\n",
       "</td></tr>\n"
      ],
      "text/plain": [
       "NDDataset([[[ 2.4e-27],\n",
       "            [2.35e-27],\n",
       "            ..., \n",
       "            [3.31e-28],\n",
       "            [3.25e-28]],\n",
       "\n",
       "           [[3.75e-27],\n",
       "            [3.67e-27],\n",
       "            ..., \n",
       "            [5.18e-28],\n",
       "            [5.07e-28]],\n",
       "\n",
       "           [[ 5.4e-27],\n",
       "            [5.29e-27],\n",
       "            ..., \n",
       "            [7.46e-28],\n",
       "            [7.31e-28]]])"
      ]
     },
     "execution_count": 21,
     "metadata": {},
     "output_type": "execute_result"
    }
   ],
   "source": [
    "new = mydataset[..., 0]\n",
    "new"
   ]
  },
  {
   "cell_type": "markdown",
   "metadata": {},
   "source": [
    "or using the axes labels:"
   ]
  },
  {
   "cell_type": "code",
   "execution_count": 22,
   "metadata": {
    "run_control": {
     "frozen": false,
     "read_only": false
    }
   },
   "outputs": [
    {
     "data": {
      "text/html": [
       "<table>\n",
       "<tr><td>       author</td><td> christian@MacBook-Pro-de-Christian.local</td></tr>\n",
       "<tr><td>       created</td><td> 2017-07-06 03:04:32.834741</td></tr>\n",
       "<tr><td>       last modified</td><td> 2017-07-06 03:04:32.834942</td></tr>\n",
       "<tr><td>  description</td><td> Dataset example created for this tutorial.  It's a 3-D dataset (with\n",
       "               dimensionless intensity)</td></tr>\n",
       "<tr><td>data</td><td><table><tr><td>title</td><td> Absorbance</td></tr>\n",
       "<tr><td>shape</td><td> 1 x 100 x 10</td></tr>\n",
       "<tr><td>units</td><td> AU</td></tr>\n",
       "<tr><td>values</td><td>\n",
       "         [[[ 5.4e-27 2.25e+04 ..., 6.75e+04    9e+04]\n",
       "           [5.29e-27 2.21e+04 ..., 6.62e+04 8.82e+04]\n",
       "           ..., \n",
       "           [7.46e-28 3.11e+03 ..., 9.32e+03 1.24e+04]\n",
       "           [7.31e-28 3.05e+03 ..., 9.14e+03 1.22e+04]]]</td></tr>\n",
       "</table></td></tr><tr><td>       axis 0</td><td>         <table><tr><td>title</td><td>Temperature</td></tr>\n",
       "         <tr><td>coordinates</td><td>[     300]</td></tr>\n",
       "         <tr><td>units</td><td>K</td></tr>\n",
       "         <tr border=0><td>labels</td><td>[hot]</td></tr>\n",
       "         </table>\n",
       "</td></tr>\n",
       "<tr><td>       axis 1</td><td>         <table><tr><td>title</td><td>Time-on-stream</td></tr>\n",
       "         <tr><td>coordinates</td><td>[       0    0.606 ...,     59.4       60]</td></tr>\n",
       "         <tr><td>units</td><td>min</td></tr>\n",
       "         </table>\n",
       "</td></tr>\n",
       "<tr><td>       axis 2</td><td>         <table><tr><td>title</td><td>Wavelength</td></tr>\n",
       "         <tr><td>coordinates</td><td>[   4e+03 3.67e+03 ..., 1.33e+03    1e+03]</td></tr>\n",
       "         <tr><td>units</td><td>cm<sup>-1</sup></td></tr>\n",
       "         </table>\n",
       "</td></tr>\n"
      ],
      "text/plain": [
       "NDDataset([[[ 5.4e-27, 2.25e+04, ..., 6.75e+04,    9e+04],\n",
       "            [5.29e-27, 2.21e+04, ..., 6.62e+04, 8.82e+04],\n",
       "            ..., \n",
       "            [7.46e-28, 3.11e+03, ..., 9.32e+03, 1.24e+04],\n",
       "            [7.31e-28, 3.05e+03, ..., 9.14e+03, 1.22e+04]]])"
      ]
     },
     "execution_count": 22,
     "metadata": {},
     "output_type": "execute_result"
    }
   ],
   "source": [
    "new = mydataset['hot']\n",
    "new"
   ]
  },
  {
   "cell_type": "markdown",
   "metadata": {},
   "source": [
    "Single-element dimension are kept but can also be squeezed easily:"
   ]
  },
  {
   "cell_type": "code",
   "execution_count": 23,
   "metadata": {
    "run_control": {
     "frozen": false,
     "read_only": false
    }
   },
   "outputs": [
    {
     "data": {
      "text/html": [
       "<table>\n",
       "<tr><td>       author</td><td> christian@MacBook-Pro-de-Christian.local</td></tr>\n",
       "<tr><td>       created</td><td> 2017-07-06 03:04:33.969821</td></tr>\n",
       "<tr><td>       last modified</td><td> 2017-07-06 03:04:33.969900</td></tr>\n",
       "<tr><td>  description</td><td> Dataset example created for this tutorial.  It's a 3-D dataset (with\n",
       "               dimensionless intensity)</td></tr>\n",
       "<tr><td>data</td><td><table><tr><td>title</td><td> Absorbance</td></tr>\n",
       "<tr><td>shape</td><td> 100 x 10</td></tr>\n",
       "<tr><td>units</td><td> AU</td></tr>\n",
       "<tr><td>values</td><td>\n",
       "         [[ 5.4e-27 2.25e+04 ..., 6.75e+04    9e+04]\n",
       "          [5.29e-27 2.21e+04 ..., 6.62e+04 8.82e+04]\n",
       "          ..., \n",
       "          [7.46e-28 3.11e+03 ..., 9.32e+03 1.24e+04]\n",
       "          [7.31e-28 3.05e+03 ..., 9.14e+03 1.22e+04]]</td></tr>\n",
       "</table></td></tr><tr><td>       axis 0</td><td>         <table><tr><td>title</td><td>Time-on-stream</td></tr>\n",
       "         <tr><td>coordinates</td><td>[       0    0.606 ...,     59.4       60]</td></tr>\n",
       "         <tr><td>units</td><td>min</td></tr>\n",
       "         </table>\n",
       "</td></tr>\n",
       "<tr><td>       axis 1</td><td>         <table><tr><td>title</td><td>Wavelength</td></tr>\n",
       "         <tr><td>coordinates</td><td>[   4e+03 3.67e+03 ..., 1.33e+03    1e+03]</td></tr>\n",
       "         <tr><td>units</td><td>cm<sup>-1</sup></td></tr>\n",
       "         </table>\n",
       "</td></tr>\n"
      ],
      "text/plain": [
       "NDDataset([[ 5.4e-27, 2.25e+04, ..., 6.75e+04,    9e+04],\n",
       "           [5.29e-27, 2.21e+04, ..., 6.62e+04, 8.82e+04],\n",
       "           ..., \n",
       "           [7.46e-28, 3.11e+03, ..., 9.32e+03, 1.24e+04],\n",
       "           [7.31e-28, 3.05e+03, ..., 9.14e+03, 1.22e+04]])"
      ]
     },
     "execution_count": 23,
     "metadata": {},
     "output_type": "execute_result"
    }
   ],
   "source": [
    "new = new.squeeze()\n",
    "new"
   ]
  },
  {
   "cell_type": "markdown",
   "metadata": {},
   "source": [
    "To plot a dataset, use the `plot` command (generic plot). As the NDDataset is 2D, a contour plot is displayed by default."
   ]
  },
  {
   "cell_type": "code",
   "execution_count": 24,
   "metadata": {
    "run_control": {
     "frozen": false,
     "read_only": false
    }
   },
   "outputs": [
    {
     "data": {
      "application/javascript": [
       "/* Put everything inside the global mpl namespace */\n",
       "window.mpl = {};\n",
       "\n",
       "mpl.get_websocket_type = function() {\n",
       "    if (typeof(WebSocket) !== 'undefined') {\n",
       "        return WebSocket;\n",
       "    } else if (typeof(MozWebSocket) !== 'undefined') {\n",
       "        return MozWebSocket;\n",
       "    } else {\n",
       "        alert('Your browser does not have WebSocket support.' +\n",
       "              'Please try Chrome, Safari or Firefox ≥ 6. ' +\n",
       "              'Firefox 4 and 5 are also supported but you ' +\n",
       "              'have to enable WebSockets in about:config.');\n",
       "    };\n",
       "}\n",
       "\n",
       "mpl.figure = function(figure_id, websocket, ondownload, parent_element) {\n",
       "    this.id = figure_id;\n",
       "\n",
       "    this.ws = websocket;\n",
       "\n",
       "    this.supports_binary = (this.ws.binaryType != undefined);\n",
       "\n",
       "    if (!this.supports_binary) {\n",
       "        var warnings = document.getElementById(\"mpl-warnings\");\n",
       "        if (warnings) {\n",
       "            warnings.style.display = 'block';\n",
       "            warnings.textContent = (\n",
       "                \"This browser does not support binary websocket messages. \" +\n",
       "                    \"Performance may be slow.\");\n",
       "        }\n",
       "    }\n",
       "\n",
       "    this.imageObj = new Image();\n",
       "\n",
       "    this.context = undefined;\n",
       "    this.message = undefined;\n",
       "    this.canvas = undefined;\n",
       "    this.rubberband_canvas = undefined;\n",
       "    this.rubberband_context = undefined;\n",
       "    this.format_dropdown = undefined;\n",
       "\n",
       "    this.image_mode = 'full';\n",
       "\n",
       "    this.root = $('<div/>');\n",
       "    this._root_extra_style(this.root)\n",
       "    this.root.attr('style', 'display: inline-block');\n",
       "\n",
       "    $(parent_element).append(this.root);\n",
       "\n",
       "    this._init_header(this);\n",
       "    this._init_canvas(this);\n",
       "    this._init_toolbar(this);\n",
       "\n",
       "    var fig = this;\n",
       "\n",
       "    this.waiting = false;\n",
       "\n",
       "    this.ws.onopen =  function () {\n",
       "            fig.send_message(\"supports_binary\", {value: fig.supports_binary});\n",
       "            fig.send_message(\"send_image_mode\", {});\n",
       "            fig.send_message(\"refresh\", {});\n",
       "        }\n",
       "\n",
       "    this.imageObj.onload = function() {\n",
       "            if (fig.image_mode == 'full') {\n",
       "                // Full images could contain transparency (where diff images\n",
       "                // almost always do), so we need to clear the canvas so that\n",
       "                // there is no ghosting.\n",
       "                fig.context.clearRect(0, 0, fig.canvas.width, fig.canvas.height);\n",
       "            }\n",
       "            fig.context.drawImage(fig.imageObj, 0, 0);\n",
       "        };\n",
       "\n",
       "    this.imageObj.onunload = function() {\n",
       "        this.ws.close();\n",
       "    }\n",
       "\n",
       "    this.ws.onmessage = this._make_on_message_function(this);\n",
       "\n",
       "    this.ondownload = ondownload;\n",
       "}\n",
       "\n",
       "mpl.figure.prototype._init_header = function() {\n",
       "    var titlebar = $(\n",
       "        '<div class=\"ui-dialog-titlebar ui-widget-header ui-corner-all ' +\n",
       "        'ui-helper-clearfix\"/>');\n",
       "    var titletext = $(\n",
       "        '<div class=\"ui-dialog-title\" style=\"width: 100%; ' +\n",
       "        'text-align: center; padding: 3px;\"/>');\n",
       "    titlebar.append(titletext)\n",
       "    this.root.append(titlebar);\n",
       "    this.header = titletext[0];\n",
       "}\n",
       "\n",
       "\n",
       "\n",
       "mpl.figure.prototype._canvas_extra_style = function(canvas_div) {\n",
       "\n",
       "}\n",
       "\n",
       "\n",
       "mpl.figure.prototype._root_extra_style = function(canvas_div) {\n",
       "\n",
       "}\n",
       "\n",
       "mpl.figure.prototype._init_canvas = function() {\n",
       "    var fig = this;\n",
       "\n",
       "    var canvas_div = $('<div/>');\n",
       "\n",
       "    canvas_div.attr('style', 'position: relative; clear: both; outline: 0');\n",
       "\n",
       "    function canvas_keyboard_event(event) {\n",
       "        return fig.key_event(event, event['data']);\n",
       "    }\n",
       "\n",
       "    canvas_div.keydown('key_press', canvas_keyboard_event);\n",
       "    canvas_div.keyup('key_release', canvas_keyboard_event);\n",
       "    this.canvas_div = canvas_div\n",
       "    this._canvas_extra_style(canvas_div)\n",
       "    this.root.append(canvas_div);\n",
       "\n",
       "    var canvas = $('<canvas/>');\n",
       "    canvas.addClass('mpl-canvas');\n",
       "    canvas.attr('style', \"left: 0; top: 0; z-index: 0; outline: 0\")\n",
       "\n",
       "    this.canvas = canvas[0];\n",
       "    this.context = canvas[0].getContext(\"2d\");\n",
       "\n",
       "    var rubberband = $('<canvas/>');\n",
       "    rubberband.attr('style', \"position: absolute; left: 0; top: 0; z-index: 1;\")\n",
       "\n",
       "    var pass_mouse_events = true;\n",
       "\n",
       "    canvas_div.resizable({\n",
       "        start: function(event, ui) {\n",
       "            pass_mouse_events = false;\n",
       "        },\n",
       "        resize: function(event, ui) {\n",
       "            fig.request_resize(ui.size.width, ui.size.height);\n",
       "        },\n",
       "        stop: function(event, ui) {\n",
       "            pass_mouse_events = true;\n",
       "            fig.request_resize(ui.size.width, ui.size.height);\n",
       "        },\n",
       "    });\n",
       "\n",
       "    function mouse_event_fn(event) {\n",
       "        if (pass_mouse_events)\n",
       "            return fig.mouse_event(event, event['data']);\n",
       "    }\n",
       "\n",
       "    rubberband.mousedown('button_press', mouse_event_fn);\n",
       "    rubberband.mouseup('button_release', mouse_event_fn);\n",
       "    // Throttle sequential mouse events to 1 every 20ms.\n",
       "    rubberband.mousemove('motion_notify', mouse_event_fn);\n",
       "\n",
       "    rubberband.mouseenter('figure_enter', mouse_event_fn);\n",
       "    rubberband.mouseleave('figure_leave', mouse_event_fn);\n",
       "\n",
       "    canvas_div.on(\"wheel\", function (event) {\n",
       "        event = event.originalEvent;\n",
       "        event['data'] = 'scroll'\n",
       "        if (event.deltaY < 0) {\n",
       "            event.step = 1;\n",
       "        } else {\n",
       "            event.step = -1;\n",
       "        }\n",
       "        mouse_event_fn(event);\n",
       "    });\n",
       "\n",
       "    canvas_div.append(canvas);\n",
       "    canvas_div.append(rubberband);\n",
       "\n",
       "    this.rubberband = rubberband;\n",
       "    this.rubberband_canvas = rubberband[0];\n",
       "    this.rubberband_context = rubberband[0].getContext(\"2d\");\n",
       "    this.rubberband_context.strokeStyle = \"#000000\";\n",
       "\n",
       "    this._resize_canvas = function(width, height) {\n",
       "        // Keep the size of the canvas, canvas container, and rubber band\n",
       "        // canvas in synch.\n",
       "        canvas_div.css('width', width)\n",
       "        canvas_div.css('height', height)\n",
       "\n",
       "        canvas.attr('width', width);\n",
       "        canvas.attr('height', height);\n",
       "\n",
       "        rubberband.attr('width', width);\n",
       "        rubberband.attr('height', height);\n",
       "    }\n",
       "\n",
       "    // Set the figure to an initial 600x600px, this will subsequently be updated\n",
       "    // upon first draw.\n",
       "    this._resize_canvas(600, 600);\n",
       "\n",
       "    // Disable right mouse context menu.\n",
       "    $(this.rubberband_canvas).bind(\"contextmenu\",function(e){\n",
       "        return false;\n",
       "    });\n",
       "\n",
       "    function set_focus () {\n",
       "        canvas.focus();\n",
       "        canvas_div.focus();\n",
       "    }\n",
       "\n",
       "    window.setTimeout(set_focus, 100);\n",
       "}\n",
       "\n",
       "mpl.figure.prototype._init_toolbar = function() {\n",
       "    var fig = this;\n",
       "\n",
       "    var nav_element = $('<div/>')\n",
       "    nav_element.attr('style', 'width: 100%');\n",
       "    this.root.append(nav_element);\n",
       "\n",
       "    // Define a callback function for later on.\n",
       "    function toolbar_event(event) {\n",
       "        return fig.toolbar_button_onclick(event['data']);\n",
       "    }\n",
       "    function toolbar_mouse_event(event) {\n",
       "        return fig.toolbar_button_onmouseover(event['data']);\n",
       "    }\n",
       "\n",
       "    for(var toolbar_ind in mpl.toolbar_items) {\n",
       "        var name = mpl.toolbar_items[toolbar_ind][0];\n",
       "        var tooltip = mpl.toolbar_items[toolbar_ind][1];\n",
       "        var image = mpl.toolbar_items[toolbar_ind][2];\n",
       "        var method_name = mpl.toolbar_items[toolbar_ind][3];\n",
       "\n",
       "        if (!name) {\n",
       "            // put a spacer in here.\n",
       "            continue;\n",
       "        }\n",
       "        var button = $('<button/>');\n",
       "        button.addClass('ui-button ui-widget ui-state-default ui-corner-all ' +\n",
       "                        'ui-button-icon-only');\n",
       "        button.attr('role', 'button');\n",
       "        button.attr('aria-disabled', 'false');\n",
       "        button.click(method_name, toolbar_event);\n",
       "        button.mouseover(tooltip, toolbar_mouse_event);\n",
       "\n",
       "        var icon_img = $('<span/>');\n",
       "        icon_img.addClass('ui-button-icon-primary ui-icon');\n",
       "        icon_img.addClass(image);\n",
       "        icon_img.addClass('ui-corner-all');\n",
       "\n",
       "        var tooltip_span = $('<span/>');\n",
       "        tooltip_span.addClass('ui-button-text');\n",
       "        tooltip_span.html(tooltip);\n",
       "\n",
       "        button.append(icon_img);\n",
       "        button.append(tooltip_span);\n",
       "\n",
       "        nav_element.append(button);\n",
       "    }\n",
       "\n",
       "    var fmt_picker_span = $('<span/>');\n",
       "\n",
       "    var fmt_picker = $('<select/>');\n",
       "    fmt_picker.addClass('mpl-toolbar-option ui-widget ui-widget-content');\n",
       "    fmt_picker_span.append(fmt_picker);\n",
       "    nav_element.append(fmt_picker_span);\n",
       "    this.format_dropdown = fmt_picker[0];\n",
       "\n",
       "    for (var ind in mpl.extensions) {\n",
       "        var fmt = mpl.extensions[ind];\n",
       "        var option = $(\n",
       "            '<option/>', {selected: fmt === mpl.default_extension}).html(fmt);\n",
       "        fmt_picker.append(option)\n",
       "    }\n",
       "\n",
       "    // Add hover states to the ui-buttons\n",
       "    $( \".ui-button\" ).hover(\n",
       "        function() { $(this).addClass(\"ui-state-hover\");},\n",
       "        function() { $(this).removeClass(\"ui-state-hover\");}\n",
       "    );\n",
       "\n",
       "    var status_bar = $('<span class=\"mpl-message\"/>');\n",
       "    nav_element.append(status_bar);\n",
       "    this.message = status_bar[0];\n",
       "}\n",
       "\n",
       "mpl.figure.prototype.request_resize = function(x_pixels, y_pixels) {\n",
       "    // Request matplotlib to resize the figure. Matplotlib will then trigger a resize in the client,\n",
       "    // which will in turn request a refresh of the image.\n",
       "    this.send_message('resize', {'width': x_pixels, 'height': y_pixels});\n",
       "}\n",
       "\n",
       "mpl.figure.prototype.send_message = function(type, properties) {\n",
       "    properties['type'] = type;\n",
       "    properties['figure_id'] = this.id;\n",
       "    this.ws.send(JSON.stringify(properties));\n",
       "}\n",
       "\n",
       "mpl.figure.prototype.send_draw_message = function() {\n",
       "    if (!this.waiting) {\n",
       "        this.waiting = true;\n",
       "        this.ws.send(JSON.stringify({type: \"draw\", figure_id: this.id}));\n",
       "    }\n",
       "}\n",
       "\n",
       "\n",
       "mpl.figure.prototype.handle_save = function(fig, msg) {\n",
       "    var format_dropdown = fig.format_dropdown;\n",
       "    var format = format_dropdown.options[format_dropdown.selectedIndex].value;\n",
       "    fig.ondownload(fig, format);\n",
       "}\n",
       "\n",
       "\n",
       "mpl.figure.prototype.handle_resize = function(fig, msg) {\n",
       "    var size = msg['size'];\n",
       "    if (size[0] != fig.canvas.width || size[1] != fig.canvas.height) {\n",
       "        fig._resize_canvas(size[0], size[1]);\n",
       "        fig.send_message(\"refresh\", {});\n",
       "    };\n",
       "}\n",
       "\n",
       "mpl.figure.prototype.handle_rubberband = function(fig, msg) {\n",
       "    var x0 = msg['x0'];\n",
       "    var y0 = fig.canvas.height - msg['y0'];\n",
       "    var x1 = msg['x1'];\n",
       "    var y1 = fig.canvas.height - msg['y1'];\n",
       "    x0 = Math.floor(x0) + 0.5;\n",
       "    y0 = Math.floor(y0) + 0.5;\n",
       "    x1 = Math.floor(x1) + 0.5;\n",
       "    y1 = Math.floor(y1) + 0.5;\n",
       "    var min_x = Math.min(x0, x1);\n",
       "    var min_y = Math.min(y0, y1);\n",
       "    var width = Math.abs(x1 - x0);\n",
       "    var height = Math.abs(y1 - y0);\n",
       "\n",
       "    fig.rubberband_context.clearRect(\n",
       "        0, 0, fig.canvas.width, fig.canvas.height);\n",
       "\n",
       "    fig.rubberband_context.strokeRect(min_x, min_y, width, height);\n",
       "}\n",
       "\n",
       "mpl.figure.prototype.handle_figure_label = function(fig, msg) {\n",
       "    // Updates the figure title.\n",
       "    fig.header.textContent = msg['label'];\n",
       "}\n",
       "\n",
       "mpl.figure.prototype.handle_cursor = function(fig, msg) {\n",
       "    var cursor = msg['cursor'];\n",
       "    switch(cursor)\n",
       "    {\n",
       "    case 0:\n",
       "        cursor = 'pointer';\n",
       "        break;\n",
       "    case 1:\n",
       "        cursor = 'default';\n",
       "        break;\n",
       "    case 2:\n",
       "        cursor = 'crosshair';\n",
       "        break;\n",
       "    case 3:\n",
       "        cursor = 'move';\n",
       "        break;\n",
       "    }\n",
       "    fig.rubberband_canvas.style.cursor = cursor;\n",
       "}\n",
       "\n",
       "mpl.figure.prototype.handle_message = function(fig, msg) {\n",
       "    fig.message.textContent = msg['message'];\n",
       "}\n",
       "\n",
       "mpl.figure.prototype.handle_draw = function(fig, msg) {\n",
       "    // Request the server to send over a new figure.\n",
       "    fig.send_draw_message();\n",
       "}\n",
       "\n",
       "mpl.figure.prototype.handle_image_mode = function(fig, msg) {\n",
       "    fig.image_mode = msg['mode'];\n",
       "}\n",
       "\n",
       "mpl.figure.prototype.updated_canvas_event = function() {\n",
       "    // Called whenever the canvas gets updated.\n",
       "    this.send_message(\"ack\", {});\n",
       "}\n",
       "\n",
       "// A function to construct a web socket function for onmessage handling.\n",
       "// Called in the figure constructor.\n",
       "mpl.figure.prototype._make_on_message_function = function(fig) {\n",
       "    return function socket_on_message(evt) {\n",
       "        if (evt.data instanceof Blob) {\n",
       "            /* FIXME: We get \"Resource interpreted as Image but\n",
       "             * transferred with MIME type text/plain:\" errors on\n",
       "             * Chrome.  But how to set the MIME type?  It doesn't seem\n",
       "             * to be part of the websocket stream */\n",
       "            evt.data.type = \"image/png\";\n",
       "\n",
       "            /* Free the memory for the previous frames */\n",
       "            if (fig.imageObj.src) {\n",
       "                (window.URL || window.webkitURL).revokeObjectURL(\n",
       "                    fig.imageObj.src);\n",
       "            }\n",
       "\n",
       "            fig.imageObj.src = (window.URL || window.webkitURL).createObjectURL(\n",
       "                evt.data);\n",
       "            fig.updated_canvas_event();\n",
       "            fig.waiting = false;\n",
       "            return;\n",
       "        }\n",
       "        else if (typeof evt.data === 'string' && evt.data.slice(0, 21) == \"data:image/png;base64\") {\n",
       "            fig.imageObj.src = evt.data;\n",
       "            fig.updated_canvas_event();\n",
       "            fig.waiting = false;\n",
       "            return;\n",
       "        }\n",
       "\n",
       "        var msg = JSON.parse(evt.data);\n",
       "        var msg_type = msg['type'];\n",
       "\n",
       "        // Call the  \"handle_{type}\" callback, which takes\n",
       "        // the figure and JSON message as its only arguments.\n",
       "        try {\n",
       "            var callback = fig[\"handle_\" + msg_type];\n",
       "        } catch (e) {\n",
       "            console.log(\"No handler for the '\" + msg_type + \"' message type: \", msg);\n",
       "            return;\n",
       "        }\n",
       "\n",
       "        if (callback) {\n",
       "            try {\n",
       "                // console.log(\"Handling '\" + msg_type + \"' message: \", msg);\n",
       "                callback(fig, msg);\n",
       "            } catch (e) {\n",
       "                console.log(\"Exception inside the 'handler_\" + msg_type + \"' callback:\", e, e.stack, msg);\n",
       "            }\n",
       "        }\n",
       "    };\n",
       "}\n",
       "\n",
       "// from http://stackoverflow.com/questions/1114465/getting-mouse-location-in-canvas\n",
       "mpl.findpos = function(e) {\n",
       "    //this section is from http://www.quirksmode.org/js/events_properties.html\n",
       "    var targ;\n",
       "    if (!e)\n",
       "        e = window.event;\n",
       "    if (e.target)\n",
       "        targ = e.target;\n",
       "    else if (e.srcElement)\n",
       "        targ = e.srcElement;\n",
       "    if (targ.nodeType == 3) // defeat Safari bug\n",
       "        targ = targ.parentNode;\n",
       "\n",
       "    // jQuery normalizes the pageX and pageY\n",
       "    // pageX,Y are the mouse positions relative to the document\n",
       "    // offset() returns the position of the element relative to the document\n",
       "    var x = e.pageX - $(targ).offset().left;\n",
       "    var y = e.pageY - $(targ).offset().top;\n",
       "\n",
       "    return {\"x\": x, \"y\": y};\n",
       "};\n",
       "\n",
       "/*\n",
       " * return a copy of an object with only non-object keys\n",
       " * we need this to avoid circular references\n",
       " * http://stackoverflow.com/a/24161582/3208463\n",
       " */\n",
       "function simpleKeys (original) {\n",
       "  return Object.keys(original).reduce(function (obj, key) {\n",
       "    if (typeof original[key] !== 'object')\n",
       "        obj[key] = original[key]\n",
       "    return obj;\n",
       "  }, {});\n",
       "}\n",
       "\n",
       "mpl.figure.prototype.mouse_event = function(event, name) {\n",
       "    var canvas_pos = mpl.findpos(event)\n",
       "\n",
       "    if (name === 'button_press')\n",
       "    {\n",
       "        this.canvas.focus();\n",
       "        this.canvas_div.focus();\n",
       "    }\n",
       "\n",
       "    var x = canvas_pos.x;\n",
       "    var y = canvas_pos.y;\n",
       "\n",
       "    this.send_message(name, {x: x, y: y, button: event.button,\n",
       "                             step: event.step,\n",
       "                             guiEvent: simpleKeys(event)});\n",
       "\n",
       "    /* This prevents the web browser from automatically changing to\n",
       "     * the text insertion cursor when the button is pressed.  We want\n",
       "     * to control all of the cursor setting manually through the\n",
       "     * 'cursor' event from matplotlib */\n",
       "    event.preventDefault();\n",
       "    return false;\n",
       "}\n",
       "\n",
       "mpl.figure.prototype._key_event_extra = function(event, name) {\n",
       "    // Handle any extra behaviour associated with a key event\n",
       "}\n",
       "\n",
       "mpl.figure.prototype.key_event = function(event, name) {\n",
       "\n",
       "    // Prevent repeat events\n",
       "    if (name == 'key_press')\n",
       "    {\n",
       "        if (event.which === this._key)\n",
       "            return;\n",
       "        else\n",
       "            this._key = event.which;\n",
       "    }\n",
       "    if (name == 'key_release')\n",
       "        this._key = null;\n",
       "\n",
       "    var value = '';\n",
       "    if (event.ctrlKey && event.which != 17)\n",
       "        value += \"ctrl+\";\n",
       "    if (event.altKey && event.which != 18)\n",
       "        value += \"alt+\";\n",
       "    if (event.shiftKey && event.which != 16)\n",
       "        value += \"shift+\";\n",
       "\n",
       "    value += 'k';\n",
       "    value += event.which.toString();\n",
       "\n",
       "    this._key_event_extra(event, name);\n",
       "\n",
       "    this.send_message(name, {key: value,\n",
       "                             guiEvent: simpleKeys(event)});\n",
       "    return false;\n",
       "}\n",
       "\n",
       "mpl.figure.prototype.toolbar_button_onclick = function(name) {\n",
       "    if (name == 'download') {\n",
       "        this.handle_save(this, null);\n",
       "    } else {\n",
       "        this.send_message(\"toolbar_button\", {name: name});\n",
       "    }\n",
       "};\n",
       "\n",
       "mpl.figure.prototype.toolbar_button_onmouseover = function(tooltip) {\n",
       "    this.message.textContent = tooltip;\n",
       "};\n",
       "mpl.toolbar_items = [[\"Home\", \"Reset original view\", \"fa fa-home icon-home\", \"home\"], [\"Back\", \"Back to  previous view\", \"fa fa-arrow-left icon-arrow-left\", \"back\"], [\"Forward\", \"Forward to next view\", \"fa fa-arrow-right icon-arrow-right\", \"forward\"], [\"\", \"\", \"\", \"\"], [\"Pan\", \"Pan axes with left mouse, zoom with right\", \"fa fa-arrows icon-move\", \"pan\"], [\"Zoom\", \"Zoom to rectangle\", \"fa fa-square-o icon-check-empty\", \"zoom\"], [\"\", \"\", \"\", \"\"], [\"Download\", \"Download plot\", \"fa fa-floppy-o icon-save\", \"download\"]];\n",
       "\n",
       "mpl.extensions = [\"eps\", \"jpeg\", \"pdf\", \"png\", \"ps\", \"raw\", \"svg\", \"tif\"];\n",
       "\n",
       "mpl.default_extension = \"png\";var comm_websocket_adapter = function(comm) {\n",
       "    // Create a \"websocket\"-like object which calls the given IPython comm\n",
       "    // object with the appropriate methods. Currently this is a non binary\n",
       "    // socket, so there is still some room for performance tuning.\n",
       "    var ws = {};\n",
       "\n",
       "    ws.close = function() {\n",
       "        comm.close()\n",
       "    };\n",
       "    ws.send = function(m) {\n",
       "        //console.log('sending', m);\n",
       "        comm.send(m);\n",
       "    };\n",
       "    // Register the callback with on_msg.\n",
       "    comm.on_msg(function(msg) {\n",
       "        //console.log('receiving', msg['content']['data'], msg);\n",
       "        // Pass the mpl event to the overriden (by mpl) onmessage function.\n",
       "        ws.onmessage(msg['content']['data'])\n",
       "    });\n",
       "    return ws;\n",
       "}\n",
       "\n",
       "mpl.mpl_figure_comm = function(comm, msg) {\n",
       "    // This is the function which gets called when the mpl process\n",
       "    // starts-up an IPython Comm through the \"matplotlib\" channel.\n",
       "\n",
       "    var id = msg.content.data.id;\n",
       "    // Get hold of the div created by the display call when the Comm\n",
       "    // socket was opened in Python.\n",
       "    var element = $(\"#\" + id);\n",
       "    var ws_proxy = comm_websocket_adapter(comm)\n",
       "\n",
       "    function ondownload(figure, format) {\n",
       "        window.open(figure.imageObj.src);\n",
       "    }\n",
       "\n",
       "    var fig = new mpl.figure(id, ws_proxy,\n",
       "                           ondownload,\n",
       "                           element.get(0));\n",
       "\n",
       "    // Call onopen now - mpl needs it, as it is assuming we've passed it a real\n",
       "    // web socket which is closed, not our websocket->open comm proxy.\n",
       "    ws_proxy.onopen();\n",
       "\n",
       "    fig.parent_element = element.get(0);\n",
       "    fig.cell_info = mpl.find_output_cell(\"<div id='\" + id + \"'></div>\");\n",
       "    if (!fig.cell_info) {\n",
       "        console.error(\"Failed to find cell for figure\", id, fig);\n",
       "        return;\n",
       "    }\n",
       "\n",
       "    var output_index = fig.cell_info[2]\n",
       "    var cell = fig.cell_info[0];\n",
       "\n",
       "};\n",
       "\n",
       "mpl.figure.prototype.handle_close = function(fig, msg) {\n",
       "    fig.root.unbind('remove')\n",
       "\n",
       "    // Update the output cell to use the data from the current canvas.\n",
       "    fig.push_to_output();\n",
       "    var dataURL = fig.canvas.toDataURL();\n",
       "    // Re-enable the keyboard manager in IPython - without this line, in FF,\n",
       "    // the notebook keyboard shortcuts fail.\n",
       "    IPython.keyboard_manager.enable()\n",
       "    $(fig.parent_element).html('<img src=\"' + dataURL + '\">');\n",
       "    fig.close_ws(fig, msg);\n",
       "}\n",
       "\n",
       "mpl.figure.prototype.close_ws = function(fig, msg){\n",
       "    fig.send_message('closing', msg);\n",
       "    // fig.ws.close()\n",
       "}\n",
       "\n",
       "mpl.figure.prototype.push_to_output = function(remove_interactive) {\n",
       "    // Turn the data on the canvas into data in the output cell.\n",
       "    var dataURL = this.canvas.toDataURL();\n",
       "    this.cell_info[1]['text/html'] = '<img src=\"' + dataURL + '\">';\n",
       "}\n",
       "\n",
       "mpl.figure.prototype.updated_canvas_event = function() {\n",
       "    // Tell IPython that the notebook contents must change.\n",
       "    IPython.notebook.set_dirty(true);\n",
       "    this.send_message(\"ack\", {});\n",
       "    var fig = this;\n",
       "    // Wait a second, then push the new image to the DOM so\n",
       "    // that it is saved nicely (might be nice to debounce this).\n",
       "    setTimeout(function () { fig.push_to_output() }, 1000);\n",
       "}\n",
       "\n",
       "mpl.figure.prototype._init_toolbar = function() {\n",
       "    var fig = this;\n",
       "\n",
       "    var nav_element = $('<div/>')\n",
       "    nav_element.attr('style', 'width: 100%');\n",
       "    this.root.append(nav_element);\n",
       "\n",
       "    // Define a callback function for later on.\n",
       "    function toolbar_event(event) {\n",
       "        return fig.toolbar_button_onclick(event['data']);\n",
       "    }\n",
       "    function toolbar_mouse_event(event) {\n",
       "        return fig.toolbar_button_onmouseover(event['data']);\n",
       "    }\n",
       "\n",
       "    for(var toolbar_ind in mpl.toolbar_items){\n",
       "        var name = mpl.toolbar_items[toolbar_ind][0];\n",
       "        var tooltip = mpl.toolbar_items[toolbar_ind][1];\n",
       "        var image = mpl.toolbar_items[toolbar_ind][2];\n",
       "        var method_name = mpl.toolbar_items[toolbar_ind][3];\n",
       "\n",
       "        if (!name) { continue; };\n",
       "\n",
       "        var button = $('<button class=\"btn btn-default\" href=\"#\" title=\"' + name + '\"><i class=\"fa ' + image + ' fa-lg\"></i></button>');\n",
       "        button.click(method_name, toolbar_event);\n",
       "        button.mouseover(tooltip, toolbar_mouse_event);\n",
       "        nav_element.append(button);\n",
       "    }\n",
       "\n",
       "    // Add the status bar.\n",
       "    var status_bar = $('<span class=\"mpl-message\" style=\"text-align:right; float: right;\"/>');\n",
       "    nav_element.append(status_bar);\n",
       "    this.message = status_bar[0];\n",
       "\n",
       "    // Add the close button to the window.\n",
       "    var buttongrp = $('<div class=\"btn-group inline pull-right\"></div>');\n",
       "    var button = $('<button class=\"btn btn-mini btn-primary\" href=\"#\" title=\"Stop Interaction\"><i class=\"fa fa-power-off icon-remove icon-large\"></i></button>');\n",
       "    button.click(function (evt) { fig.handle_close(fig, {}); } );\n",
       "    button.mouseover('Stop Interaction', toolbar_mouse_event);\n",
       "    buttongrp.append(button);\n",
       "    var titlebar = this.root.find($('.ui-dialog-titlebar'));\n",
       "    titlebar.prepend(buttongrp);\n",
       "}\n",
       "\n",
       "mpl.figure.prototype._root_extra_style = function(el){\n",
       "    var fig = this\n",
       "    el.on(\"remove\", function(){\n",
       "\tfig.close_ws(fig, {});\n",
       "    });\n",
       "}\n",
       "\n",
       "mpl.figure.prototype._canvas_extra_style = function(el){\n",
       "    // this is important to make the div 'focusable\n",
       "    el.attr('tabindex', 0)\n",
       "    // reach out to IPython and tell the keyboard manager to turn it's self\n",
       "    // off when our div gets focus\n",
       "\n",
       "    // location in version 3\n",
       "    if (IPython.notebook.keyboard_manager) {\n",
       "        IPython.notebook.keyboard_manager.register_events(el);\n",
       "    }\n",
       "    else {\n",
       "        // location in version 2\n",
       "        IPython.keyboard_manager.register_events(el);\n",
       "    }\n",
       "\n",
       "}\n",
       "\n",
       "mpl.figure.prototype._key_event_extra = function(event, name) {\n",
       "    var manager = IPython.notebook.keyboard_manager;\n",
       "    if (!manager)\n",
       "        manager = IPython.keyboard_manager;\n",
       "\n",
       "    // Check for shift+enter\n",
       "    if (event.shiftKey && event.which == 13) {\n",
       "        this.canvas_div.blur();\n",
       "        event.shiftKey = false;\n",
       "        // Send a \"J\" for go to next cell\n",
       "        event.which = 74;\n",
       "        event.keyCode = 74;\n",
       "        manager.command_mode();\n",
       "        manager.handle_keydown(event);\n",
       "    }\n",
       "}\n",
       "\n",
       "mpl.figure.prototype.handle_save = function(fig, msg) {\n",
       "    fig.ondownload(fig, null);\n",
       "}\n",
       "\n",
       "\n",
       "mpl.find_output_cell = function(html_output) {\n",
       "    // Return the cell and output element which can be found *uniquely* in the notebook.\n",
       "    // Note - this is a bit hacky, but it is done because the \"notebook_saving.Notebook\"\n",
       "    // IPython event is triggered only after the cells have been serialised, which for\n",
       "    // our purposes (turning an active figure into a static one), is too late.\n",
       "    var cells = IPython.notebook.get_cells();\n",
       "    var ncells = cells.length;\n",
       "    for (var i=0; i<ncells; i++) {\n",
       "        var cell = cells[i];\n",
       "        if (cell.cell_type === 'code'){\n",
       "            for (var j=0; j<cell.output_area.outputs.length; j++) {\n",
       "                var data = cell.output_area.outputs[j];\n",
       "                if (data.data) {\n",
       "                    // IPython >= 3 moved mimebundle to data attribute of output\n",
       "                    data = data.data;\n",
       "                }\n",
       "                if (data['text/html'] == html_output) {\n",
       "                    return [cell, data, j];\n",
       "                }\n",
       "            }\n",
       "        }\n",
       "    }\n",
       "}\n",
       "\n",
       "// Register the function which deals with the matplotlib target/channel.\n",
       "// The kernel may be null if the page has been refreshed.\n",
       "if (IPython.notebook.kernel != null) {\n",
       "    IPython.notebook.kernel.comm_manager.register_target('matplotlib', mpl.mpl_figure_comm);\n",
       "}\n"
      ],
      "text/plain": [
       "<IPython.core.display.Javascript object>"
      ]
     },
     "metadata": {},
     "output_type": "display_data"
    },
    {
     "data": {
      "text/html": [
       "<img src=\"data:image/png;base64,iVBORw0KGgoAAAANSUhEUgAAAoAAAAHgCAYAAAA10dzkAAAAAXNSR0IArs4c6QAAQABJREFUeAHsnQecJVld7w+7k2c65568EXYBSaLiQxAUEDHrM2cMIMoDQYJIEF3EgDmAAZ/p80QFRRERFARFEFZZwhI2TE/q7unc05PD8n7fW1szdc8959Spvvf2nZ45//nc6XurTp069a+qc37/bEyixIHEgcSBxIHEgcSBxIHEgcSBxIHEgcSBxIHEgcSBxIHEgcSBxIHEgcSBxIHEgcSBxIHEgcSBxIHEgcSBxIHEgcSBxIHEgcSBxIHEgcSBxIHEgcSBxIHEgcSBxIHEgcSBxIHEgcSBxIHEgcSBxIHEgcSBxIHEgcSBxIHEgcSBxIHEgcSBxIHEgcSBxIHEgcSBxIHEgcSBxIHEgcSBxIHEgcSBxIHEgcSBxIHEgcSBxIHEgcSBxIHEgcSBxIHEgcSBxIHEgcSBxIHEgcSBxIHEgcSBxIHEgcSBxIHEgcSBxIHEgcSBxIHEgcSBxIHEgcSBxIHEgcSBxIHEgcSBxIHEgcSBxIHEgcSBxIHEgcSBxIHEgcSBxIHEgcSBxIHEgcSBxIHEgcSBxIHEgcSBxIHEgcSBxIHEgcSBxIHEgcSBxIHEgcSBxIHEgcSBxIHEgcSBxIHEgcSBxIHEgcSBxIHEgcSBxIHEgcSBxIHEgcSBxIHEgcSBxIHEgcSBxIHEgcSBxIHEgcSBxIHEgcSBxIHEgcSBxIHEgcSBxIHEgcSBxIHEgcSBxIHEgcSBxIHEgcSBxIHEgcSBxIHEgcSBxIHEgcSBxIHEgcSBxIHEgcSBxIHEgcSBxIHEgcSBxIHEgcSBxIHEgcSBxIHEgcSBxIHEgcSBxIHEgcSBxIHEgcSBxIHEgcSBxIHEgcSBxIHEgcSBxIHEgcSBxIHEgcSBxIHEgcSBxIHEgcSBxIHEgcSBxIHEgcSBxIHEgcSBxIHEgcSBxIHEgcSBxIHEgcSBxIHEgcSBxIHEgcSBxIHEgcSBxIHEgcSBxIHEgcSBxIHEgcSBxIHEgcSBxIHEgcSBxIHEgcSBxIHEgcSBxIHEgcSBxIHEgcSBxIHEgcSBxIHEgcSBxIHEgcSBxIHEgcSBxIHEgcSBxIHEgcSBxIHEgcSBxIHEgcSBxIHEgcSBxIHEgcSBxIHEgcSBxIHEgcSBxIHEgcSBxIHEgcSBxIHEgcSBxIHEgcSBxIHEgcSBxIHEgcSBxIHEgcSBxIHEgcSBxIHEgcSBxIHEgcSBxIHEgcSBxIHEgcSBxIHEgcSBxIHEgcSBxIHEgcSBxIHEgcSBxIHEgcSBxIHEgcSBxIHEgcSBxIHEgcSBq5ADb9Q1Legzr88vFK6vR9/frc8D+tyjz1P1SZQ4kDiQOJA4kDiQOJA4kDiwzjnwVxr/X+rTpc+j9AEEfqM+0J36/I4+7PsmfQCC3fokShxIHEgcSBxIHEgcSBxIHFinHNivcV/Upwjq+M4n3wf4y+ld+vKi/Ef6mziQOJA4kDiQOJA4kDiwnjlw3XoefBNjv0HH3q/Pj+hzrz4f0edb9Tmuz2P0Yd+KPjn9j77cmP9IfxMHEgcSBxIHEgcSBxIH1jMHNqznwTcxdgAggI6/X/Hgd0zCn9fnIfos6VMkzMOPLm548Dttx/UpgkVHs7QpcSBxIHEgcSBxIHHgCuMAlr5JfVj7rzm6VgHggu70oj7PefCOT+jv6/T5Fn3epE+vPkUa0A+0gjYB/o7YG9PvxIHEgcSBxIHEgcSBdcGBXRrl0XUx0hYP8loFgC4whzYP+m99bHMvZuF/ZqdFNc3f4cOHTXc37oPN0Yz5LzNh3qqIlJebTXXuic31W+Xo8+aU+aCw8CPM95p+c1OVQ2U/P2b+x/w/8yTz/KjjPmL+SurT281Oc5u3/eclmP2dArS/zrxUqtn8FtU3/2vzK4reeYF5xctfYe64445LO5fMnPmwead5uvnuS9v48n7zD1L9PszsarjNl5u9W/FBjzJPNEM1Be/l7fm3Pze/Zb7D/FjDmO4yH9WIP69jvzBves39/UvzR+brxZ3NZkvdtU+Yz0laOmD+l+6Iiz5o/knc3m/2mVtdu2vb3mvepjv3WDNq9lxqc1HuvG81vy3p7ScubePLy1/+cvPDd3ynmTEHzePNM+v25T8mzWc1pk9o/zfnm5x//8P8iUb1RDNYcxF2Nrm08Zw5af7N/Jr5SvPTl7bFfrlbz93ndT23i3+dogXzSd2pP9Yz/DLdQWTfK4s+r5i8u83vmo2aI28239XwDoZGyzNRnCNCbcv2zevZ+ZT5C/ME8WmD9ayXHfspzUFbNcPeoKPLiPnkH8wd5qt1nuv0z0cz0lHcqzXkCebbnE3mpej6mHmvUlp8Z8P+j5p/kdZjUDP+F9Tt+0vzm/KN+vG6bcUfD+hevEVz4bdZ717eZkbnvMv8p96Fb8o3Xfr7FvNm8zXqfavZdmnbWn45fvy42b17N6esreNree4r5VzXKgDEpw8tIFo/0r8A+F6qzw/qc0CfO/Vh38v0+Qp9nqqPd4UA/LUCAHbrVD2mT9PKL5rHmZ/VAmorIjWKthOjeKX5d/Nz5kvMS8wOLbWxJC5o6bgo8Go0HZYD4tvMl4rZH9GC/sXBU+zUonvRnNB0udPZbqcgw0UB102bBJsLQLxLo/93LcaMq0i7zF5zwZxp2F5sc6t5pFkWoL3RPLS4+dL3ccHHB8w53a2hS9v4sl9T+qc0zdrnrGt0lf+4XkvykBluuMoTUrrfKBjl482SmTZPMV+r56ceOBY7AlztEY+3FBaNOS0y3FO7X56HU91zan1bw768T+DfzXL7tY/N9/MXwHFGMHK/xKKHBBbg/JjP1Z7pLwv2mbct/j1g3qOfS3obfjLqPMVjW/V9VlPfpEDokzQHdWb+ibuSL9Z0DQg8KgD2MPOj0SDQniPizuZu1S0hb4M5az4toxEg8CHmendDx9ZHmKeZD5nfF8h+hmNv46Z9EgnOaD4aDQhH283DzcfN33ufux2aDz8sAcr1rO/TW3BMgpK9r1sr0mZB7c2CaT4aEHC8Tm/JDrW1abvZLoXCPzX0S7u9eqPOmtNmpMIaY/effjfHAb840Vy/6+Hox2qQfACCpIN5sT5v0wcC8LHvAX1+Vx9AIAEibachnfah5tnSI71CLzyuh2tPWyX1P1bW8Y9LC1CV9gk2Tkjii6GR2qRzj6aOsPvFuDgyaT7j7XJUAPCYzmoTi/V1mpQvmPN1uwBti2a2bpv9Y6dgw2Fzn7350u9Rs9tMqYVNg5rOZjWaa5VOCaAVwVmRD9Pi16igmou4R2jyQuCP484I6Nv9AwAHzJirW0HKCd2Rfc59bJySrmvU3OLdz4459TGg5SoG/NH+gJa8/RJuqtB58e0+84+CFM+PPk+V/mPaHhMkudf8mcbwc1c0+ONasAbcpjnqOo30k+bXayA95hpb3Wa39NldEkwPm/+o1PUOgaYHNDOdqnkilR+6R1DxoATLEF0vOLpZgOuURFcXMRtu1BsG6LJpUO8P75FNMXMllpQjnrnyes2/nNeegzlPNldO26dMv9eQA9cyAATQPU0fxLab9flDfXLK98Ef9r0337EWfwekfbrNPFcg8JV6VcNApV3j6deiyKJ0quL5qwBAwFmPJp7FEveLcUm9mOp8xAKP9Pr0pz+9oUmflv9FaW+KNKwJe9ocKm5q+I45ZFlTog+cAmSOadqzaYsk5XOCKdcqzYkrQ+K5i47rTnRLZ+qiKd2/MYGsEJ2QDGaDP9rPC8YNOkz1T3v60/T+HNeSWK8Bzs9xQXfqopamzQVtYr6v+PeQFl4W4Bg6oWeGhXhrRe39hExw+yRnXl/Tn8ecqbVtpqUrv18uGY8T+NtYS3/a2v7b0Rsg8KHmB/RMDEpYfYPe1Yulp3HNEaUHlTS4WVrr+w2ZwqoRQsKEhIUYGpeeczogBOd9jGneRqjx0bDesVmH4Nol+wrvp00jNUH3oL257vfOGgB0eVVlzXCjmdWobBqS6MV8kahzHLiWAWDnuB5x5j5BwIfL9+JO8yotYp15SW40XyW57p0Ro73cBNPvRi1/K5Fj3iOfk8PyEglRt8yJxwXifGBsUICOSc01uQMMAAhF2ipI8IAWC5cknLdjcekVlMGP0EUjAoDTDgBIW0DgaUHna5HQfiLZ23RKJnz47vPjRIMQ8smkvwktgPscJvk53d8BBwB8wtO/UFBmwB7Kpd/HtGyPSNNbRkdl1N8pE1wMTUgTVFX7h4n5oHmfru3LY07R8jZT8lickKctmr+NukfrjfAD3K77f5f55VIQ6Jojmr1eLCZbNFsserRgvv73mi/Sff8v3+667dfXZtVezYNhhUAmLPutJQBAt7UEA3ajtWS/gOcBGblDhDUkJFAjLKP9t2lQ8/q1bC2x+dGJ3wkAdoLrkefs1WL3CAU33GleIzix9qrycU1Q04qJuShNSRXaL7PIgUiTyC5pOw9Lfg9RBsZGBcbcPNggrQmLKNocmzAN2gCQNnskKR8MSMq0CZk2AHlnpelzgVIA0LUq2WYawFHYV0doS1kofHRUYAyze4gOyOsLfz6bTujJcPkfsdCFzb+f0dNxq91d3e+TWtYRaDZqiY+hQ/L/2yMoVYWmFTo1qIUWveFa01Hzr9KF/2PN57gT52/V9d6koJkuQe+PmdfXZoJW9Rvbz00K0bhXoRpVaJNg6xaNetlhenX1kwnLYTPwkHgwq+feRyMCgARFuahfb+iiJbijsT8lcd5lws372KC3Y4P++QRqn7B8rVtLcv518m8CgJ3kfsS5e2SBfqScwjMQ2OijEdHFqptgot0l9+bD5gOV+tgtD8LDGrELHNkdbdHSDZ2RhihEZZItWkCi3GzKfFuO2ptrQKJMsg0BQDrsldlkSWe16Vr2AwQAItnbhLZ0RPfIRUQSnpa7wfaA6ZE2mPL71UuRzks4YQFyaRZxC2DB89GUynxjMgsR2undegNjaFFP/XZdPYCxCt1n3iEj2jOrHNKStkcUdHJUJc8fJwFzPYO/nBk3mv+td/JWgcA79LQ0CoN5u3b8HRCAXxE3z0pHV4WqCMu7ZS05VGItwf1gk54/33zaU7NquLWIzJWzjjk0mwf9Jl6uF+HtqMR+F2WmXrfwTnDJtWotcfFqrbclALjWHF/F+bq1PHyBYlTuNK+VNNYIclbRZfQh++UmeUCLRBVCW9KlpXexxM8u73OXjN1H5codojFpQ8t8W1yS7XZ5GeI7ZhO+Lcc0vhBIzcDjlH3opd9Iti4/wGtZA4hWFMneppAGkEXHl24n7wcT06jAnA300FjYoDA/ZkbHDEsf5yK0xedrY80EEFcbtqGdjvX/Q+vNgl6FTuip5hkkkGAtCfA3Ke3fY82rJebFaTfXcnyrPdd+pRvp03zyMSVxwCawVsRziQ/nRC2SO/6suxSBfkRWltA8lPe2XVd2TivAecHMEIX8ABknPq9nJHDZhLVkwXKXoc0+gduJEjNwBgDdIBFQCrksNAiLc5aPdq1x+m9NOJAA4JqwufmTdEvC6gQIxLdlm5bnBWlLqhB+ULFmYCTbMj/AXi3/Sw8ulq5xZL4tjaYNJjw0RGiKikRkWp8mnwUBCB/RBr+1k540UVkgSKN28Vqd1M5IlvdF8S6J0z2Cai7KzL/7XbsubUNb6/f/a4wAZkE9p/Fs0f1zEWayIfUYIhaskxo3PqhlxPnIeLZTz3IVuk8pMvC1XUu6DP5eJfC3eS1PvSbn2m++4UEQiCZw7UDgHiXPOSRrCe4osYS+rkdPzYJHe2b3My4XiEm5QoSIqPawsLxHkOtQQxc+d5ldWnt8Ub55J+N6lyYD1zCo+dvlFpPNlf45OO8//W0PBxIAbA9f29JrDgL/W87aa6kJxDxFiooqNK6FcFLakxjJtl/aOCKBQxMnQK5L5rUVh8mVcREE4DIBsw8Nke3bwvYYB2ckW9/E5tMAbhPoIF3JtUZI8q4IYIAhSaG5hy7KAOCNrl2Xth2Sv+Zeh7k2iwBuBIDHtdx0BwJAWCDLzL/H1IZURTE0pzekTyPEWT+WCEOa0TsyJj3cWtHVDv5yPnYCBJKEZUjBQvhNV6FMWP5g1CExQXMENh0LBKRkfoCNANBnLUGA3ipXnRWJ4D4iOh8h26Xl4xjcP5K1xMe9zm1PALBzvF/VmQGBjzQv0hQDCHT7Vayq48BBAzK/VvVvQe0/UHNILtccAgzIszYbkCAZXmba+KxzpExSkGsCQrIlUtQmNEpEloaIJNRHFKDgom2aFIludYFc8m2dKzHVuPpcz9t8/n8zAvek3vERvn12Qu1iW8A0z4grGS0mq37dX5vw/0Mr7KMYAIhWmgU3hkjnsT+iqkOxr8NKvYKPbZUEwsXjq34/qlQzk/o8VpkFrkbNn82PyyBw7czBq8mcMK5Qvym5wIQE4PzahqQvntV85Jpz8jZoFfHfRgPuItwiXO4yvGMEc9jWEvrI5spwNHDmVtOYGovjfYEgmbtMfZou2idaGw4kALg2fG7pWTIQ+JMCgT+rV7z96nMmhn2q0XBQPkNVKMsJGCfZ4mhPSa4QAQCnA6ZonxYw821pBMtEjqKdCkW44Xc27YmaY6z0cdLhY4hpY15T9bVE81pWBhzm0mMCgL4E0OQe6xL84xnzEdHaez3RuvDelecv5P/HQntasZf4VIVoWucNVV7Ij6W/aaWKGY1MFZMfh2/tfhXJWguaNO/TXXj3gz5/V5/Z18dDQCDZFO5SZZOYPIG+fmK348tJAMpJvQuxdJ1A16AE+9nA3Jb3hVtKj560JUH5EI0IKJLmyEXdOhs5Tl3kigSm3f6asOwWvvN+EJZ91pJhWWhcuQC3awYlACxRZziQAGBn+N70WQkMyVPEnPG8zE2fpNBB5t/y/qDkWWhe+8qCeEy+WzGS7c5aIMin7C7qfg/IVDwvb0EfZZJto2ljQBPmvEdbin8LJkgfbZLeiQhUH0hEswXAsQkg5PJ5sdtdTb99GkD4wwLgIhYM6v+GyJf/D00FJlcXeJwNBIAsaDx9AY0kYzmhJ4acljEm3RklKR+SqRitSyyRMy7PHxd7zGrbkeT5sFw4soCPawf85fy6QVU8EZqzZNEP5Jvb9vcG1bo+4Cwd7z/lPmmCYysokTqrXFi+WTOeOyE07wva9LMONxXfXIm/NJr60Fw+XptL3ZHAWESYQ13HYy06r3+J1p4DCQCuPc9bdkZSxDxcRbg/KpNOu8vGkSaC6iD4LMUSC+KQjjlWYmalP1IX0N6XvoA27KfdaU9Qhg8AZr4tbv8VNEtlZmDy1x3zAM/Mt6URAF6Lpo2Tgk2uVC4LHs0g95TUEWgOfISpi2htzEs2LalfVwQwx2Ql49wBIFn6l5vt7up+E/27WyJWDB1Q6UMW8Cp0/xoFfxzT2CbM3wr8vUZvz9UT7VuF17S90XyrvNTGZGP4VScIqdpfqP24ebxMundKbIwHNSMK7kBYRtgso116LssA4KjWhmllJvRRNlc2CtO4Uyw4hGVA47An60F+DoK8liU4+czTfdI8Lmq/TQjLC9eYtcTmQad+JwDYKc636LyYN243P6bp5lWS6Nwgp0Wn0iT6DOnK3lmpu8wM/KGoY6i2UJYOJpvY3H6FA4ISc5oabWLywrfFpcUry/VHX2iofDmuskCQRgDIpIZJ9FqhC+IuAN3WxrGdbexzEeldXOAub7ukhaFHCwemL5vQ6mKysmlFywmlrXyUmXZv8e2ubT8iAIimpYxYsGelARzWexhL56V5WRLwHaxoMo7tP283q6TUlHcD/F0Nef7y61rtXyqGUDbuU+a3vSBltX0Xj8OkO65k4EfNh4ubg995vockjM5ECMvb9Ebg33ch4GNMTWDSHLl8ohnIkMcPEA2gy1+aY8p8pnnPu/XeHdf75yKsAO5AkKFrzlri4k8ntjXOqp0YRTpnUxygbNxDzQ/VQOB5j3asqRM8eHCPpgASnZ6RHBdLLIwskK2VbN0AkEAQTAyu1A+UdbNrAnMNmCY2yiBCtnsfhXxbemRMdNXQ7NZUuCJ5+FqhRU3h/VpcbZoTSCMFhIsw4bJocA98NKFnx5X+hfZEALNg2RTy/6PtspYh0gr5CIP/CS1iMelfZqS14Rl3AVRf/4fM+7X8flnt2n1tmt0+r0x495g/q1X4WI/l3Zq9ft/xN5vvkSiyWTDrTW0Fgfh2Vs2fus98sbS1ccIytYGnSsDioJ6yOUe6F3gzLP22qybwDr0ZVNZxUUz1pCwdzITr8Fok8IzDdzETlq8tf2kngzqwMQHADjC9HaccULTizea7a+bg8210qt1nnqpJ6l+iL6GKZDugCWteE5bPhMBJSXEwE/DZ69PC7jJh+AJB6JP0IqGycAQpAPJc48oBjB3xi87LaIl3gVHOebURAS8EvtjEhO+LAM6SO++xD6n7fVAA0BcAwn12aQBZ2IYcJmM6Btht1yLHffPRjPzzhqXvjiH8tli4Y4lniGCqvW2s+7uoPHGfMX/wIPgLJ7qOHXez7eaUJPuCw+es2X6rHs99R1imvOU95k+qHh7dntypaL1POACPr5OqwvLhkqC5kLWkV084LhQ2wR9qArs0h2Q9uCC+uaKE836wlvgDQXbqjG5rSUoGnXNwbf8mANgCfi8Idl0JNKQpH4fnO5Xd/6L0dO2gXap0cEQpL1zOvL7zxUq2gCac8xcdZty8b6qMoONzmXNpw8LvkmwBCi5gyDEADICGj5gUM/8Wt2ljSH4zrgi3rFRcvLbUd/71sJ0JHEnepiwFTCgAZJ99yKXf3Gdyj/WqZxet6EkBnNsUCgAhirwstx/+VfhZlRHjI3Jz2BOh7Dp+UX5ZO/S8bNLI20HLGg8mTsy+pBjuNDFP3GN+Xcv+W2VUf6EsCI0+YGs9Rt5n3GZO65m9z/y/tp2eYJD7KwSDVBGWh81NGr3fx4+LAgAe87Rhrs0S5J9tuH6sJbheuGiXzhtKCo2/NIKdi/APxk/YJubJZb3LidaeAwkAtoDnR8xbpI5/Rwt6ar6LETmj71Hi5juVIgYpt9VEstOBmq9KfDBILtnGgMYYB2cqOPhyBvoCQTIA6E6Zgx/fjKY1l4Yv51+ZZOuOBB66ZvwAfSlgMg2gDwAeDEYAh/wDL+rpZhFjMbfppJYTAn9chGM8C2OIJqU/w8RWRpn599baOMra5vvvN++SjuRp+c+W/l2RGEOQw2PNKyUmuUFzS09Y0hmJru+Wb/JGGdMfaX5ZwulzNb4XSw94sOTI9u/m2XmkAOlxQcAJ83dtOeGoBPJjMsVXCQaJFZaJnN0m0WhFRl4fZYnz57zz2qDmPZfPNHOlL2vCPs39uGX4CFAJb31aQpLkkzu1SABf1oaY9aF4XPrePAcSAGyeh5ImXyvt0of0YrzZ+7K14DTRXYzLvDRqnti2ephV6wNnki0RxJ8rvYaYdDCZacMt/fomNZyTiVBzERMWgQZLgckU35Ypz8I1LI2O27QBAHRL0q5xrOdtRPf1icdFAlBjGqcKiE3sw9eo26HBy9v6qn+wnzxm3DOb8OXcGtCulZWAIwqdxRVNcxkdlJP/3grm3wvSOWXBH7eVdV15/yk9nXeZ15tHm5fr+kcqH9/qA84LWgH2+sWffeb7a0C9V5DrYQKnd0s7uay9nSaMnV9gXqIn6aMS/97d8uFgAh4TCJxUME4sZcLy56LAUDZXftLbNcJRDgJdjTJrSWPQnK9yEn1kgrA/bRZtQlkTqPnt8gPsFpg9rn+J1pYDCQC2gN84Fd+mSY1J73NKOIqBstO0R/VF+wRNP2HeEDWZVBlvr3QYp7XgExASS3vNFwk+lTs4ZxFup2q+Jr6+R2WG8Jk2yG91TuZvW5sHCIV8UmaZH2CWAqExbQJ9ZnUup/laR9eKczO8xtcR4FQkgmC6NLG7iEjBEPjjmEMyHuJ47iLM+a4AkJD/33k9sTwHwDsfUWeVeqtlxBWT/48FO5YOq07sbrlQuLSWsX242pEH9L8lhFIhaLu0Op2mM7o3Hzc/qWv9DgGgr64bznbBwUeYX5Ie9rckGv1b3b5O/OBpeLR5hUzU79ao/6PlQ9hnvqJSMAjP56Dmt9kIYXlXLXeqHwByMSPqy5cOZjXuMpeD5uq1eEXGjekeT0od4iIigV0AsF9m52spa4KLN53YlgBgi7iOFulm83zBjz3ywflpLYfuMjwtOl1UN/gDbtUSdbf53QZAFNVBoBFO7AfNewMt6neNSPaPTQpNMXPqsPpoh/QKJz1BGRxDDVhSgdgUSlGAH+ChgGkjj1R1+R6yD5OkDS6Jir0W8lth0sFB3Kaw/9+EwME++5BLvzEh8dkqSOOiBT0hfQ5NVwgAEjw0LOElRJn/38NDTWr78P0b1BufCxalB6jBhN6XVgd/nBPIxuf3dvM8Pfc3xAyjrW1OCNp9UlrIWwRGBzzaUZxIvkCC6aR5u4DX37R1PDGdI8CTJPuA+WtB6TtjDolus0P6MOaFUxUsAftqwvJ/lZ6jW8//ccEpfFF9FBKWyfnnqp+OZt1nLeE8e/TcH9bz76PMWjLh3O0DgAMCgNfCXOlkSgc3JgDYYubvMd+uReYrZY75SS1gnU8DQtoDqNURb7tlYkajYWvafOzEHDKgBWrO45RcPG5nLdFpWLLt1oTB5OeiIWlB3IEgI5rwGjV19NGrSQ8TsA3iiv2HEqESqLCk3otEFRGfL0yx3Xr/Pi++MYHbRGAME76LpgSHWCh8VFYhZFEA0JUEOgQA0YSgEfERz/K8xJqBwLjyYzPz7+Pzn6V/lyVebJbReotHI1ragaMBUbWAv1vNDwgMl2stHV20dNOi9JCfMa8TGP05aX5vDfa9QcD+ETJZH1canfvN70XPI8FOm9iJRx0g8LNy41nUmFpJ+2tawPdEd0lS6GmJ7WVzK5rkQT2r8x5tGycclMgx53FdQRPOfGdnKiAKmG2+85elg8ncbRoFcMaDVYTE8DZdK9YS+7o7/TsBwDbcgRG98Ps0KQMCz2gR7CQxSdxmniONGUr5v23ZUDZqwuyWkWcxIAnaJ9ujDPmHIvxhMg2gX8KkXxbyY3LgdtGgxuVybkZj5MoFSB/waUgRyK5o3vwcY5pMAS4uIhJ4xnGvAYFn2xSR7RpHJ7ZhusGEY1MoAISEsKEE0Jh/Mcv7iChFohVtWvZspx0xn9RI9RECRZf6LNPqsTCyQI9WAF0TLa77S4AXtcD3mW/UIv8Y3yWt2fYZpbY5YH6/Fuyx1QP67cFgfn2orCWAkM8KOHbadYaoaUDgp8xvyoJw0B7uqn+PS6M3KX/RkHBZ7BxhuV9P/4I4WkbjgttHNWIf4ZYBn0kK7aJevRGudDCkSjrhUWCEfPw4B3MpNdKJ4LeJa4Ns0Jk0gDan1uZ3AoBt4nO/nH9vlRP0J2QOOeEBKm06dUO3mKe/QGOZlb7gqCbqVlFV/5Yx+axMyUDkkyzzcW2QSZVo4zOaQnzEQu73bfFrANEc+Wi3TBsEHvgoA4DuhQFNlws8AowWBEevZsJ049IAohElxYNN5BhjAcjN6vZ+fpNqgjrNLuL5ocKI7ctHjjIWPJ53mzjmlBa07YGgExZSHOvLaEFCQJ8MYSysMUQU6IxmglHzqJjmpW0+L97dZX5B/T1JYscTS9u3uwFmXLIgPNL8it7cxrQ8ofMDFm5UdPB2/Z+5zriBSqiPVu6jUgiBNB8Tf08F5ooq56SA5aBcYHgGYglh+aApNwPvlBCC32qIhiUmzHjAZMha4psrAXGkdCENk49Cc6VrTtwqhcJpcTzR2nKgcaZc2/Nf1WfDDPJwmUM+Y35estDHOnqtLFaPkbR9WKXcZiImlpjBDmryoah9qCRRsZ/rteR3a8la0ijKiDQcRwMTG6YNkka7aIcWIdfklBc0dx3DNnxb0Dz5qE9gblFgx0VEt81qKrYJYHS1RwIDcG0NIL6SmJJcYAw+oW31EUE80CZPJO7pms9hV8Ph+DMNeLRPVP8oq+wxWQOAtzf0a284pPdnj0p9xdKUokyJBiXqtFkCyH5SGqoezS0EenWSGMv90voti2+YczGjrpZ2q1bvsJLMf1y+gwTTdZIIpCFFDBrWVpXXpDLIhIk3A4+Lo5PiRhltERBDuxeag0lq7reWICwfaThNf81U6xeWMQOH5kr8e6e81hL3XInwhmCXaO04kABgm3m9VQsdObDuUyDGnPn3Np8t3D3F4B+rvFz3mD8VkGnezwXpfaccvY8qMXQsZdHAHy5tTl1gFmQfXTZtNCYyZVyAh7NWIA7b7Iodxf6JSj2pxcfnVE2/BCW4ysZlaQwaTR7XQiBIFu3bXWSlQC+Jod3pSEinMyb44qNM++c31RIAwgJlEwsZaYBcRABIyPzLPV/RUlgGEumbhXlcOvVYOqDKOfvMU2KbB9t9zvxfwcitWtK/Ndiu3TvRQn5O0bwPCHw8TFG0sdrQ0LhGlB9xr3yWiSA+6xG0Qse3cl+PhMGHmR8WCHyNIMnpprvulTb7pJ7bcxJeYgitYZee8SUHOLOPH5UwQIJzH4XcZYgE9rnL+BLnc55yALhHY3IL+lnarEZhOUucX+9H7bumtL01HEgAsDV8DPayScvVF8g8ckSF2aelgeskbZR3BiAQP5cTnhe0yvj2amGrEg3Mwhkj2eKI73NezseXJYSeyH/W/R0UNJ0XNLUp88nzT+gEepAU2keYNlyZ7gGHgFI76CPzbbl6TcAAJ7R8XH+RMi3fWHHTpe8AwFHx0UeHFKyBOd5HmKZcEcAsZJi0XIQGJAQAs+AP/5jyPo9Lr7FN7zNuCjFE3WwAxA6PZjKmj7zNQUXNntbT9zCVMuskYdK+27xa4tSYgOjzave/VePpl+nzJvN/ZCx9iQQtN4Bo1bnK+iFWeZ/5BoHA1+opP1/WvHR/FjgXrwTYLS3z4QifadIWhYRlLCKnBCXR2Nq0VU8mGnWbQv7StM2qHzWCuLyfPB2XS5jOjm0Mxrva58qcN1fS3wQA1+hubNCL9gjlCCT31WHzl2t0Vvdp8HN5lHlZLVE0OcSaoW3qCwBwUrAphkiwu1my7YkSCR9H/O1aaNHK+IgFPWTamHMAwCzJqX+sZWbgzLflkHNIg4IY8xpRkSghtyQvwKuVjuvqumWQtAl/SCZ6F6HBc+Xwy9sSAbwzkK7FlwIGwD+gI100J4PVYEDrGJv/75DMuVXMvwfN+wR1n+waUqVtU+b94tqHZE14UUsBV6VBqDGRx58wLxWkeJyu67s1lnrgX7U/V/seaf8fZn5GQuor9f77q064jm31tjHzZXqrv1g+l78s+ORPtxJz3j3y2TxUIffhLnkjHolwHco0gH7fZcYWSggNCLStGlg6zmirj5jzsZiE0sUw1/Ku2rRdR2JpsQlrydXuLmNfc6d/JwC4hneAfFOkSDghdf395k1OiWythrNDOpbbzY8rLIQE1o0SYJVxZFrA+OASFtCYaGAcnEN+gMMyqxDZ6SJMgS7flswPsHFSyvvYLf1DKMfVqJZ/X0WQLMv9VN5V7W9ZSoW6xuvwh8v/j8uYlabKBQAxyxP84Yu0ZT/7QgEiRHJzH4uEdgPtq8tvkATQmYZ2Y/GQuu+xAPCI9EG7IqNuGdMRJRfeZb607lxVf8wLBEyYt+msPyPObKh6eMva45uHjx7JncfN17WsX1dH2yUAPMLcIfj3eokY/+Nqsmbb9pqvFRwal9PMm5o652YBH4Tf45GazU3SNSMwnywRIDeqV56Ls2rpI+bKsLDcaPXY4LBoFPtHS384kNYrZC3h/bazI7iCQ4rnS99bz4EEAFvP02CPvKgPVZQZiaLvUd3OZqXK4MlKdvZJzr7ZfFfN2bmZusE7a2kO/isa0O6WEZqFtIwy08bd3mYkhD7hmRwHtEwtyDBiU5lpg/QFJDa20xTk/SC9Ii27zCkAnjnBQ5uQpq/WCDcigJHcbfIlhz6mJWNYwoePjkg02iXNbojQHnAfikRZuR2eHHu4EhA05COiklk8qUITIgq5EQG5WWeKoSUJJ5h+SZm0WlqRNvTTCrR4jNw2Nsj3r1N0Vk82vnn7zPfp/j1lTYaBiTnzn/49aYb+c03O6TsJ+VQv6Bm5X8mim6F9CnQ5WCETw25pWg9L61xGBM1NKdzQR1hL8IN1EcKyy12GNEuUXPRRJizf69stNw+/sEz1JNtawjyyGDif90Rpx6o5kADgqlm3+gNRn99kfkILQ7de2TsENjoX+TQs8DZmnqzJ/ZdWDUZZEnFyno8MLNmi6wZgnS3RPPZq8VzWtOYCW3AfrQ5pPVwgEB8tFnYbYGcaQL9ZmX4zP8BG/0H2QVlFkcXsR+H/IU1qaL5supoDQTINYD0APCO466r/C19wDA8FgKB9ZWHxEc8NGkLb9Ij/n8/8mwWA3ODrUvfsPt3zMOjkYIQWhJdYovJHM8EfpzWyu/RePlrR+7xhnaLTegc/YX6qNmfho7eWhP80IPCQ+XMBmHgrQ6vHyPP2cPkmoo2dqmDGtccxKig/LY0mQTQxtKsmLJdXJxkTAJwMzL8IQNTBdhH+0i53mTJhOfPlaxSy83MMq19XZgT2Z8fWC8v4Z4eC9PJ+09/WcSABwNbxslJPTCj7zbOlIbhJDtWvFCA6V+n4VjbeY54pILVLYPQPVt0tC12VYJBd8kI8WmLagUc9AlWAQB9lZmC3ZEtJOGrOFikDb+FIs90CA2HTBhFuB4vd1r77/GYyABg+Z0Nn62QDErutAZwTd1zmXy4JvqEZ8BHpyik476OshvBAw240GCxkLspKwPkBHgtnTP1f/P9iASBC3Zy82IZlyFwN4ZZBGpKHS1DE/NgpOqn7QWm3W+X317PKa2l27BtlNn2kgPCU+Yfap9n+Vns82l/A+AGZ4xcq5PQrng/nhkE538yIqzGEH/R5CVR8QoQAgyDjI8zECMMIxTZlQK9RcC1Lm4Uig1rf9hyb90+eToJAXOfMhOXGeZ1jzutforXhQAKAa8Nn71l2m2/TK/4lmk5ephelc0lQMXFQV5TJbTU0IAmUnICxpmQi3FhQywjTRijRaQgAZpJtvW8LkzgToU+ryHhi/ABdkcAci+bLdp7uExC9WutcnhRQsesAYwbHxOOiZXGiR/xwEfn/AP3l/n9DDYejwfABwONaGikd6CNMZ2NyzAgRRuKzWup2CNLF0LTg26jgwmpy/xFxSuTpTeY7tbyGxxUzltW2WVGil7vlI3y7ebUW+ltW201LjiP1zSOUnHleKac6GUSHGZ4sCtRXX221kH21Ourx2kwyJxwtCQYhA8FGje20nlEf9ddMvYcbdnMs86EdsVvmL01HZWZgX37UQb1xCIo2MVcmM7DNlfb9TgCwfbyN7nncfI1eh2fWzCz4mXSCWHgfYV6gpfIjei3/o/IQOH5MoG4yMsl0j7QaRAK7pMPiycdqKQ78vi2hVDCYBF3FzilidyowUXbVzMr+fICUMKOUmYsAPvbEhnPzokZytRELBloA7n2RfAEgp/VsbxFctNvnxx6tRf/6TbW0cwWAsJ0ScD0OcMaCSLJc3zmpHgK42yw9W4gm9XaOVdCA4ee1Vwt9VWIh/rhSRo2qwgfRp50ikjt/VoDr4XJR2Rbwn1zL8V0nt47bpBVdEWCfUD7ETtFmzQ+Pklb0LgWonLEsDDFj6pW2bkWQ7kKkwI/W+bDC9cqo3A+QoLkDzm56NEfxDhWpRyIV9dFDBAAkb6ePcPdw5QPcIrBqB4HQR+YHePXNlT7+dHp7AoCdvgMPnp8s+LvMt2jyf7Hkf78U187hEqCCieM+palZ0iRblfbW0hy8L/qwEWn3jkmWDhGJeVc0bfk0dpu1PKE5sqVX+swAYKMvX4wfIJKrK6CDfgExRKu6xpQFgtRLtj1aMJYFXa42IgVMj8M3DQDsSgKN1jRU/5eFBPN7iACAvRbQuygxAoDniixmwRsOmJSJIh/WIlZGR7QA448VQyT7PS1g0B0wdfv6ucf8iZ6vAUGuZ/matH07UbcEqFHdY6tg75VEzFGkiKHG+v3mjc53cC3Gu0NPw20qYYeZvmqiaJ5V6gMfVVqfGOrT00BCaNccVzweLfZUwA9wSO/BrAcAMlfafoBo4i+WmGOp6DOjK/FRJiwfcu4GBDZaSwb15oRBp7OztHFVHEgAcFVsa89Bg5L695nvrYHAcx0CDBulCSHdxCfMr0tL1uijEbpyIh7PScuDqSyGYqKBmSwJBllyRPTm5+jTIrXkGCumRlcUW1bSzZ8LkH6JRA1Jtr0e6RgNoB0IkqeCycd7tfxFq9krHtuEIzeTu01EAIf8/45qSQ/5/9HfkrgLgC/SksQIitq7qAwAsmCW+f9hHJvX2AYV6BRDR2SmXE3ql8PmXXp7jsjf7gdjTtOWNgvS4FO16JHKWbo5YDZvy8kjOwXq36pE0Rc1Q91rfqNjILBf+tF95utlnH2dxhAX1JFfIrkhY3MCMgcOKV/DbKBOOf2GAB77+wTWFj3zKO4TrkhgfAftikr0lRNCF3kET3jm/MzU615HXHNlZgJOGsCcv+3+mwBguzlcsf9+SYY3mB+tmYNJvdAJ2qqp5BHm+Voaq+e9yrLdfyBq2MOaxmdkaHJp0oodlEW4oeFxmTYyndD1ktDrnYrRIC3piBABAEOBIJlk2+hPg+bLNgFzHgDR1ZYKBkmdCbtIuZm3uC3/HtIAco/Q5FFBIERoDNDAFilLAO0OlCAAhIXRR1N6/kZL/NsAfwPqg+cphg6bD0j392UxTS+1IejjoPk7Aa8XR5/n0sEt+jIn148J8+Za1C3Rt1cyAYqoGIJZ+HMtSNK82msdF5DbLvBEou4qtE1PJYFCVIqJoUxYDpuB0Y6SouiUxF4XAdbIjnBOM5FN1NB2ucsgbCF0hQit/RFPPkD8C3lv7DmY/tzuMkkDGOJ1q/fFzWitPmvqL8iBPhliSRNDOaRO1cTE+ZxF6XQJULIvZLf5X5oM4nwICcjolvZuOWBCoP/MtOE3SYckXyLcbLCH2eKY5O8QoeFDe+gDpwBAn2+LK5XB1ejc7IsAZmJ30XEtdlQPcFFWH9ifq49jyP9ngz+2s3C5AkC4d2fkQODL74f/HyauMv+/LPlznPn3lBZLnustnutkvC46Yv5ZWsOn68hNrt1t35ZVKPqLWrQt6anWAwECEZY3idckjEZT2wnab75Js8k7Kp+6irA8KoPzdIm7DAMYk1A9LW74iHQwrhKbXQL8Kw5/xuGaD9+Er7va9p0CgGjvfYQW0JUOxgUACaLDpSfR2nAgAcC14XPls5By4RYlXgUEnhFc6QTtVXDKQfP3lU5Ntnsi5U5qGoohqirgXxWiMj/AAYGxeenrXOSSbDFZEHwSmmhYXEiE6nOCHtFyjUnTRT7flqstEITrsTWAc+IKJfFsIjE0aXLgq4tYQHaWmFgPSie9Tx5gNgEAuc82ndD4dlgaymKbWZ0zJv9flQCQQ9IE7a6o/QO4HDXv0RP1tOLw1uw7+fWOKMExpSopWbmeiOeJdFokjf6M+XmBwGqm2FZcK6U1N8kbdtmjBfOdY5d5gvj+Qd/uuu0IBls1I+EPHaIyYRlriSsfIHxEW2dr6njfDpQAz1E98VMBgZr9rqA5rCV2MmiuDQGqLDgwxIO0L54DCQDG82rNW3ZL6sPX5ZNKEUMy1rWmEZWwIio4NrVLPj7MXyyEMbSzlg/wrmBTJqdQPkDMGiyirknDFwiyW5w9FJCUGVDIDxBNFADSpSF0mYGvRt8W/H66LG0R5m+XBhCwHA4AoQLIDcHn4IAiU/fpnbCJKiDbtTjaxEIXCgCJSf9ySlrLvCSX3b/rN479OytG784qHVKfkq10otLHMfNuwWdMz4C/cCS063qvlG37zPfpjdwvEeG1NdPqWo8LX0BM+FVok8D2Jr0/Kx6/PLuvTFgOV1AaFA/mPIEe9EfWBJe7DPv6pLlftAR38qaSMcEGhrTPiQQ0lI3z+Qr63GUQlF2RwATNLUWaxvMxpL+r40ACgKvj25od1SWg8lABwE8pOvd05ETRqsEhiVEMfcq8r1KXRLjFpoPBZwUQVVYVpEyyJcfVguRpmygJ5/Jt2S8gAaAIUQgAclyPJkdXMXSXaeNqA4DcM/7ZfnFI9K4I4BndG7SmLiK68bQ0hHZ5t2Jb2hAB3G+Zl9HjZn5GjZpFFjoWPB9hKivz/yNZOUJKDC1LpMC3q2rpt4Pm7TLMfV3MKVraZlpBJ9PmnbVoX/LsrXfaq7KWXZotP63chWtdXalPASEndP/JpVqFMmH5fVGH7JJrUFnyfN4F8gHi+uAirCnHPVpE31y5Uw5JRxUaFCK095Me4JkFgkw6D/flTU25AJ3savnGBABbztLWd7hDEWDUD/6UecWag8Dd5quku3lnpYvaIIPMDgGvZWlgYmin9A+Tin0O0aiAMA77PhrSEjorGdwmNENoiGwaUXv8AAExPgpFsHGMT7LNNID1ZvurDQBi0t3uMBci0fsigEc8aVHwDyLtToiO6d5yvG1CXhCE6dez5iI0gD4AmLkAnNZYu1yHXtp2RAAQzUsMHZbWu2rwxyldO2ZL0oqsJQH+junzcEWw4rF4tRCJ9bt1VZ9Wepa1BIE8l/hwEsldhcaVO3VKLjCheSjvb5ue9HPSx5G3MkQINdOeiGHGiUab2tc29XsCQdC6T5SYgQGA1PF2EaAUIsjLJt9cueTwR7SPTb+b50ACgM3zcE16oGRcJ0AgSU+31CLB/ODLxQAcnOPNwOWSbVldYAJB5hyAkwkPmRhNUZGIiCvLdE8bTL0nPdK0r2YwPnDzlpRNTq2QGaU4tvXwPfP/i68BnFUAcUeWZv5/+4OXPVHz/2s0/y4IQLn8/1hQWSx9AR48K6HoYAYDSDypO9ml+1lGnC+r/hEXLJL3d1DlzfC1XUuqB3+b1/LUa3Ku3eZbBQJvX3MQuFPlMKdkLakSjEId9W5BxyUPeLIZNqrrmi6xXCAshwJBfMIy79GCrsCmLMgjrAEcl6adMo4+GpCufV6jsimbK21heVDa/nm7afrdBg4kANgGprary06BwL3ma6V/eXuly6IM1jFlyIqRbEl0uljTxvmj+AByOPSfEMxzUb8MdfMOEzBtMRuiKbIJB+cYydYX4eYLBPHVBHY5WdtjWi+/F8XRXnG2SJh/+yUs2IRv0CZBae6hizIAeKNr16Vt+Gvu0cJm07wWLJcGcEX64FD5t8z829hfsf8ZhRWMSOyKoUWlTu7Rc3y9hI1Yuig9zJw0jMNymVgrutrBX87HToBANKnkBsSnswoRNIT2OIYwA6OVDhGBTSQ495Eva8J2PcEua0lmVN4uMbjRkpKfA0H5vJ5nl5aPNn5rCcDQBoD9CQDmjG3z3wQA28zgVndfDwKnWt29s78+mQBOaIo6J++RWKLoea/MAgsBs23eF8BgQG3nSqTgkBk4X3hdgSCYNtAU2bS3Ztr4tL257jemDR8A3CbdEHnvXITGz04HA2C6Wpyb8dGxI4CZyF0RwFQKGBZA99GilkySc/uI3H88I64cgWgsXBpA3AEGpZXwUQwApP5qrP/faqJ/p8y/yXj9RF3Z9b5htnT7MaWaOWb+6UGz7+aW9n0ldnYZBK5dYMiemrBcLXPCiGr9HpMLTIzmcFDuQHOKNg4J1gTF4ZvryvfHfco0gBMNt4x3zGUtoeFeCctE4YcIi4gvM0K2r9FHm/mCzAFF2iHRzWd1KbZL35vnQAKAzfNwzXsABN5qXloLDFmLFDFMDKSoIFdZFSIn4GHz71GHsNBOlhQ8BwAe8/i2cBK0gIsCGzZlpo1GDeAOSbyAi5BpdkxTHwmMfUTgwgmH4/eAIM+CZQbOAODVYdrAR8cFAH0BICwALiI3YJdEBZ4xH/m0f7Q/Kd5T29mmkP8fCy3JcrfrCkJ0TAse5QrLiP5mFas/LF/WKnRYYAwf27UgUr1MKVdd5vN39YO/nKeAQAJD1ipFDL6cD9ScD+pBTT4e11/SM/drTp+PEJZxS+mSReO4Q6At9k15Q58WsEsQcEWwy0VYSxYtQEY7rCVlADAUCIKP76xjbsZaYgvRzAUA3BDIdY09bavOgQQAq/PsijiiS46+t5qfqqWIWYtk0fi3TGoRqfJSUk+EhTFGsh1T2ym1DdGAjIDzATDmk2wzE7BbW4p/y2RA87hJeiciUH0gMfMDbJRsAUK2HyCA6WpxbuY6iIIuEtfrAoDkAPNFABM5WFb+jYUHDYRN+HWisXCBR5LdDup5cRFCAmWxQnRSC+QWActcsxxqO6fxDehtJGo+lpZlMqbmLz627SaSPB81b9Mb9gsa4ZZ2n+6K63+P+XbBjP0Cgb8QNRc1ewF7zFdL8H1HpW6qCstHSoXlW7zCMu9LFghyqmGMuFPgVmETCfWJwg/N5TvF46OeSGDmUawz9vGMBdeY83qXi0SA2SmPdaXYLn1vjgMJADbHv44ejWR7cy1Z9EvlfdFezdIG6Vl6tMjNl0w8RYawILIwskCWERMSZotQOhj6o91pjymaLPdVIoEZU4xpg0SmrqofHI9p01UMHQ2g7dtC3dyrBQACiDda/m6YbbZLP2HTgpYil28g7VgwWDh8hMBBtLYrghhNBQuTTRxDlCOx6C4iQrI8/ctdGldc+pcj0nIT9FSFDin4Y495VpVDVtWW8m5HzF89CP62rqqPq+GgveZ7lBxlXHf+lxpASKuvb0QJnmdUU/kBvSOxNCTd7JxsOjGJrHfKZDxp7gp2PaKVwRcJzIG+iiA+dxmA2rCectI5+Sivve5TEmT10xvXqX5pJBc0cxcpmysb2xbbpO/NcyABwOZ52NEeehQVdrNqYlIx5JxktHYS0YqHKlYGqVLuaDwqHQyS7T3Oy+zXBOXKBcjkBXh0afHQAPrqWOYnQUPly3Hl821xpTfABHw1RLddECfz1A45j7Jt14vT9aZceA73fdoxfIZGPZo6+qYOaY+WK3qwCf+/PkcKmLIKIHEAMM7/jwV7TrqlQYeG0h5v/vuCdBvH5aTfX9FknB8f+3deSakPmT8T+Hu9dCzrN8lz7PWWtdtnvl8iS59mj18T0PKnfyrrp2w/Jt1hJQM/Flnlg/7Qgw1IoI8RlqkIcl5icCgdDMLPeTm4+FLh+K0lY5pDGzWAjHGvxhcyA/Pukzgatw4XUYLTBSAza0m9yTybKxdc3aRtLeRA46zaws5TV2vDAcrG3WieKxD4Ur308YEaVUfXrYCIs1qSz3pecFd/LIzzWiBjJNvxSMnW5weIOZB6IHxsctUEpg3BGpgnSETsoxAAxAx6XFOmTV2CLbZvYJe0Yyc8KWXs46/k38u6/2TrL5IvkCMLDHHXBs7NPtw3Hx3Ss8PC46IsAKQxB+CcYA8aDh8ta4HrcQDHvD2LJibgmPQvLNiDGl+VQI6jcqUYN1+uY+rBcn7+VvxdVKTohHlzAn8WM/ebH5IosVFOH7/TVhC4R76dh8w/WmcP/6xiBsY3taw28IDeAZ/LDO4RvCc27RC4dEUC044o/EMBH2zahObKkLXE7S/dOK9yjkSt40ACgK3jZUd76lOyWiRcQCDLV7uIZKdHKiQ7rSLZ9mvCWpCMGZLOsxQH7oSjXHOvFvYlTY02hfwAy8rCdQvsAPJc42IRd0X8ovViH/6DObENHxhXP3mb9fAXMzYSepEw4WDKsQnHbyR/FxFcg3k9RAeDAHDaqQEM+f+d0NgJ/giBr1lFWRJtGUMEOe1SycQqdFTl13aar6xySKW2y/KlBeDg87fRESBTqbMWNV5SmpOL0nx2mrjvN5rnaY48VQPI7RrPVrkmoAk8qec/lqoIyzFm4FBC6B6Nz1URBP6grXdlU6CGOn63ueDmuq7VA0DbBEzGhAQAXTxu5bYEAFvAzWXz4Rb00nwXAzI7kAmf2sEXpf5vB42bJ0l/8v4akIntP2xuY10AAEAASURBVFayZerp1XK6JLOgjzbKsyur+lvvNJy3zyTbg/nPS38z35aQaeMzl9raX5gUu2WgIZmxiwA4VLOwKSsVV38M+bLOSN+4nmlJegUbAKLpcwWAYPLxRQCXBYBwn1dq2sb6hNM571Z0P7osTST7AIC+CiBoj0cUQBUi/KtYYMsIrfZ8TQPYGKDiO3ZZ598mIYUasO2gFUWS3mPeUIv23eTgTTvOGeoTgeew+RWZ/v5CV/4cgQd39Gmoj1bv432+Rb7TZ/TOHjJ/3uruL/W32zxT1x6vBawiLA9JGzdToo3DD9DnLpPBvI26H41VRXr1xi6pdxdlSaHvde2qbQv5S5Mx4ZTDAsI8yZxSJOaXBACLHGnP9wQAW8DXY+ZPNK29vQU9Nd/FkJKKjslX75OqHUw6glYTUYS9NbPux6K7vizZXtaG+Q6OMQNnVT8OOLvwOzc3FjrPOwCgzAqohDRzWaZ79zmHZfhwpThAI9YYCLL+JzaXBpAIYFegx6zEhSGPuXVSQA2++ojgDxzPXQQ4xC+QxdwmUrwQsuQiFkQWxhBhWqPiQhll0b8P0wjio38PKToUYNAOOimdFpGuDzc/L6cGN2hux3l9fTL/3C+LxHW6Gzeb39Vb9nxBlucJeE34Dlmz7QAgaqwDmI+at7blvPgBzqrMW5VgkFhhGR/cbQL4vsT4XFCW7mXWO68N6I7MO4RtX+J8+sz8AP3Cch6V79MSIgBTRrJIaByZe4sRwtQIPtcmJUbx3Nf69wQAW/AE3CSJe0klgCbN73tfthacJrqLEZmXAIJ3t6ko+p6aZPvO6PFkki0RxP6JI+9sXIarsnQwmWTrlkIHtLy6JrUu6aeOa4+LWAwyDZ9fO4FpY0qAxUWZc3OjqQdA1Bjdtv4BID6AtgZwSSKQnReQKZ1J3JXAmX1o91wavJzH5P/z+f8t63zdDpBDhHiovi8l4EIJoolCx3SHprmMjijClgU7li5I80v6l349462m05p9eN9v12eLB3C3+pyh/i7oPtxjfkz36EukTX1ODah3yU3lBnOHwl9eIi7HC5Ch8zSzj3npYeaVmhU+JKeRf2qmK+exAJth83hp4T7k3O/aWE1YfqTmpI+7uqltQzgCBPpAItYSl49gn8SfRYcbDZ2O6Q5OeVK95ANBC0jqJxfhB+iyluAzvaK3o0gIeEUXmuK+9L01HEgAsAV8vE5L3I1KL3Ber9NB83Na2i60oNfmuhg3X6fJ93Ytoa/XeMo1b1XO1q2rPS2NzznrhQ31sUupEVgwy4gIt3PynLmo/30UMm1sloRJBnwARpHyKFIfLzIHZ3+9Y1/ZN87hq3OZAcB6U0qvYJLPlFwc75X8/biuoLugYctk9we03G2oGzalo3AqdxGRgkQMujR4efvDghC7PeZaFihXCbg5aTRY2FyEuQuwT6UEH03Ji3ZMOrQy4jnKAkDizb9TEhLH5EIRuuay87r2U1DuU+YVAjM/rafffe2u49q17azuDebeEaVeGTLfUHearQIQN5vfqpmFFxUM02niabjdvFYjfqe4+IGWD2e3eYautZqw3K9nPiYpNLlTJwMAkIshIbTPDExeVVcgSJYMutGPmv7wd+b9CQXNjUmrP+XR8voSQrvmShcoZAyJWseBBABbxEukyT2SbLfo/3vNCwVgOu/ntcd8h6DpsMbzGw2AqNnL3iUt41HznuhuBrWoztbyXJWD0WEZZ44FtIXUBD4p3ZoN8vLBdAkCkArEpi5BBlfELu0yAOjXUDLxcT5XKhn2uZKcuvNboQF0p0mwx3ul/s7Mr5fNnph0tjly7iHpYx53EQtEyPyLCQnAhuO5i7IUMKMNu9BosLC5aFYGySEBkBBNCgCSjqiMWKBZqKuYf48o+IOKOq2k8wLj+PzerDmHCkGdplPiy73mJ6S5fbmgvzs34ibdhVtkEp41b5EY+ZedHrJm7s2ane7Qk/MXmlU+2tLxbNPThK8oAnMsZcLyB0ubd0ucWNFMGdKShawlWeWkyYbzUEN7WXfHR7v1tB0O+B9m7jITzsN9/tIAwHnrnMkP0MnClm5MALCF7ESyHzXfq4Xhq6S7eK7AwlILe19dV/vNszUBPSDN5B+vrgPPUWNKYzFp3lsDRZ4mdZsxh/RpgVoQZ8ooRrLt0oThimKjb8zALsk2ZNro1aSHGdOnIaTfTAvoNm2QBNV2ZCa9jO0Lkzk81weG0Pd6IeobA3iLRAqHqhHAkyUAEDPTeACsLdQ0gI0AMEsB4/YbzPz//CAJgL+g8/YHElPn133U/KfA3JfkP0v/rugNJPCjlZU/iGQl6n+/+RHpY8u1lqWDbLLBcfMRce9Vsg/8iiKtwz6U19fg6m9KdLhLloHWC6hVL4U8iURNHzBv1Lxyd9XDg+3RAlbJnHC5glK9FcM+CetNv7RtPLM+ynyiJ5y7qXLDfIdAV6TrNVez1Sdgl1lLslyA7jmuX7MoieFtcpXOJNVUCgSxOdXa3wkAtpaftd4GBADHzA9LRnqulsupNpwhvksmCRJFn9ICdNT8TfyBJS03asLcIU3LsiT+WNqpBfNohD8MOa5mSvodqdW69PkBVvdtgU+DghxzgftFXWA0Vy7CtOE6FhB4tuDMvE18s2tfuvq7Ure5cgBmKWCGG4aMBhC+uIgE0L7oYNqjYWCh8REaih71bhNCQbcWGRfNSDeFScxHaFN2qM/cXcDXjoWREocs1LHU6rq/BFhg9qXWbb95XOww2tZuQdrNozLt3qL0M1s0qhgiH9/+B11mJsyrxdXOus5srMHoO/Tk/bIsDBMxlxDVZkRpgqaVFDokXBY7QljuFbBbksa6jNBW47bgI0Ae/bmifTmGdDDLDkCG68ZJjcBFVOXh/fURc6mvRjrgElhrg04ESHKJFgkNIPNNovZxIAHANvG2R2BnryboexX5dipC69WmYdS6zSLeXiEV+4f04r67ZafaVfNviXeeHtZkNSOJ3ydZ5gPDx4TPGcniPgr5tgxqAXIFgpAM2iV95ucAcBwOAM/Mt8UXCOKPBC5ObEyOXH8ZD/IxXWl//QCwEYwt6y5Q0skmzOUX9Q9w7KMjemdIOeEieEcfdgJpzPMsdi4AxzGntKCRA9BHmf9fOahblsalW88Y/mMxRBTovBIzD7YIqHH1n5bf2pD8CYfMk2OG0NY2mHHnVGsYs+5GLdpViLlpt8zX+AZeCa4zm8XR2wRGP21+VvOP2w+uyvXRlgKWfeq1ShnNnfKZRstcRkSrlwXNkTUB9wcXZfXVG8Fcb22udF8/79g2hZfg4+sjhGW0/C7C3FucE2mztSYY1+eJRAOYAKCLg63blgBg63jZ0NN2vfSYQw6Yn9HL8t8N+9dyQ+7sPGn+ThNRfFRaaIxEM5LXLDbnINJol5b149JGlhGO+KGJDdMGITcu2q5FiIS/NmXVQBrND3k7Ag5Cme77HFJqfiyarhlNeTZxjB0J7Jrs7OOu1N9MyHYEMJO5bQLOwRgLvE0hzSBt8/QPmzyRuKf1Nm3Vk2TTopZM/JpcdFyij08zmLcHAMb4/x3Rwow2O5ZmlCd0SNGgLJzNEkD2c5pTdkivT6BXJ4mxHDW/rXftY9Kr/noNFqx2PJnrzNME+0nSXB8Nuto+V3scgTS3yp+bVFqtKq+5W1ahKsEgI8pDeSwiUnqLnmpKwpGg2UcIy2i/XeRzl8kCQfxz5R7Nlc0Iy6766WgHKSmZUwKAOSfa97dxdm7fua7JnjGH3CLTyBHzq5KX3t9RHpDDD2fnCfOHmmI/1fRY0GaNKg3GdER0b36yncqNFWMGxg8wBAAz08YGp2mDcW0SRCAauEgACp8phHakJDkpzvicqukX8OZKZsqxpDWxKQsEqXcAX88TGz45jL9IpG/Yoa1F8iWGpg3pdNAQ+OioEoXsDJhqF7U0AuZtygJA3ObHGfVJFRkfcc9XtEzGlH87Jm3eiHm0r6uG7YdVOWd3i4I/eHfJOrDHfHfDedZyA1rIg8o3eFFvzH79xZzbLA2YZ+m5+EEB3Ofq3a1/Z5rtu+rxXYKANyqNzScVzIKvZbPUo+eZQJDzgssxhNZwm57Y41o5ymhYY50JBM2F3WX81pIlvWc+YlUjSt9HY3pCqfTjokHdZZe7TK905Phh54SFAJ/jRO3jQAKA7ePtpZ436sG+Wb4xWcLov7+0vRNfKA0FCMTPBb/AZomSVkfMP0d3M6pcYNMR2tB+mYRCzs2ckHxucx4H6P5aktPGyRMQeNYChsXBk3h4RlObjwAu0479gENMknbQR+bbcnlSo98sFUwjWPSd80ravqwpuggA8Wvi2vlXpDlpQ/GpdBELQwgA4v/nS/9Cfz4ASAoYNBouygDgTa5dtW2LEosG9DyV0Yqua6v0jBsC5utiH9TNBkBs1/PYLB2VmfW03rabzI838LvZvqscj0n7fkUeb5L4t9u8WGNp3TLSI9PnHvNTghY/IROsG0BUGWszbSmvuct8i0Tln9FTflkztdo+x8yT9fS8L/rwneaL1L7cWlNmLcEiclLPIRpbm9Ckn3GA0lDAHH0QzTsnUd5H5P5E2Hb5PWb+0o3WkkxYrvcD5Nly9eE7b9pejQOte3Ornfeaa71BLxr5rxblg3esjeWHYhib+bm8qpY49qzleBtzfLHNVk0FvKSnAtJisf0GTQybxItTJefFj2ubluQTAU1AZtq4r9j9pe9kuV9wADV8W3xljjh4l+4S/mc+Arj4EkK78gG6ooPXswbwuLjXLQibE7+7Cr/z7Uj4vgog84LQ8MpHk4IXoQhgNBMuDeCC7hzA30W4C+A24CPMv6MRQR2TMudWMf8eNf+i9l/hO2309lkBhznVHX6ozJKtBFzRA3iwIfV88WvuMl+oe/TstgDRHTJ/3qDgkPsELkkr00kaNk/Rc/ME6dfuaBqI7FRfkxVyH47JZ3QqIi0NabNCGkD4l1UFqRdEc75ukf4et4oibZHIckbc9xHP4A69hb7k+hzXJw0mGQJsygJEGv27+8TpxYIGkON2aOQr1tjs/tLv1XMgAcDV867ykddJ+0TVkJOCXkTMuSSyyp2u8oDt0naQOywzccSZJXynIrcZBe5jCck2zgyMH6DfVI1Jz+/bQiRwoyYP4IAGyUdlOa5Ga6aNg87DXaYNV0qF9QwAid7jmnJy+f+xjxJw8MMmtK9oSl2BGrRlP75ydqqZYj+ZBrAeQPIuoXHA9G9T5h9Fxj6/mZLnbKwkdQn9TinVCQtzDDGmKfNvAkpPimnubbMkk/NhBVqQsLgVplbviUp24JuHj96gfA+HpRlrJ23VTMlcOWFereW/s/7TO803aeYeFSD93aYueZN051hgTkRqNsm0sEFnPq2ZLERUreGdoYqNj8JzpdsMTGJ3V97T/BxlcyVmYJewjLWA99s277qSQWdzZaM/dz6G9Lc5DiQA2Bz/Kh+NoXC/JnJ8Zw4p71Qn1dvkDttrvq/m7FylXqV90SOSkI/V0hw0mhjstvwek0M8C2kZYdqY1uh8REJoV8Jn2vdp2V2UvG1TWSAI6Q9IbGynKcj7yQqan3CCd0wbAB+b8BssStPrFQDioG1X+1iQxE6gi01UCiBS0CZKRJFGwkeZ/9+Nvt217fhpbtNCWiRSVmx3aCJpU1b+jYhiqs9QhSZEZ/REASPRYMfQcenKtkv/R9XW1dJJaUPvNb+pN+Hnm+pntefPjzsvLn5OPnFj0vr1m6fnm9v6d7N4h9UE/+nlCn7G7RjUfvNDekrwyHtLU92TQJ+E4LE0rrly0vxXafMRBRweU+yyj4YkLM8Kwroos5Y0usv0CuaHE0Lfomu519VlbRvCsgsAshPhEEtAkVwawGyu9EcbF49P36tzIAHA6jxr+gjU57vl57JBEuGEalF2Mv/VoHJUYeb4jBaY1YJRMul3S15fjEygukULLT415wISK0zu0QKwJF2hT1OKJElaD1fEL2lkkF7ta8IEHNIAcl7y081oavMRAR+UMrMp0wC6QOegTCGXfVswa5xYh2YN2/zL9aMBZOIuElo8XwRv5v/nB4CY3zHD+whgnnkc1vscYu4P+//d4OtS0OZeXcFN3v35DoSWcZk+Yymr/PGVsc0b2uGe8WmZQm9TSpJNgl2dorOCIJ+T5m+3+Um9k09Y02Fs1F29WZHGUwp+Wajga9zqQfLM3SKT9IKegRklwF8tURt4Vn0QRBND4zU/wHIASDqY6YC1ZEgWn1mtNi7K/KUbrSUAwNBc6Zvv8nNk86jbT9B1rDtxfkoFk/OzHX8TAGwHVyP6ZELZqWi3rZre7hMYJLFrp4h0Els0mvvN7616CFlpuCrBII/VpP7R4PngUY+W3OMOrVp+YEiypSTcimU+IUu9vS3vK/+7S2Ag7AfojnCzNX15f5lkexkAIgDYwDRveyX/deUAxGfHTgET8v+bli8emgEfZRVA9vt261lYkLBRDzhpjLnf5/+XlYDzaxXRMsfU/0UTw4IcQwg4C/IrHDCPimne0OaCRATSkNxiXiT9oduvseGgNmw4rSCre5VIfp8qfHRViHxu5VA26I6jCZw1b9Xnba3sulJfpNK6zbxGc8NbJJjeVenYvDEm/H7pc+cjj9+qJ+i8bBJ8QjQkDs0GfJcJWgJ0ou22qVdP/5KljaNN5i/td5fJ/AB7a++k3Se/cfVAeHedEwDospbYgXRoAF3Ctut8aVt1DiQAWJ1nLT2C/Fc90sLhWN3J+sGUjCPn1ZFVVgvp06SGh9DFSCCbSbYfLuVllujUn+l+WO7iM4KuLsK0YfsB4isTKnNEP1kgiN+0gQnTl+KA6LeiuZf+sui2egdslw8Mba9kQgPYY5lJTwpO23WAAYADmuBdtCxYRGCMi/L8fxsDEbYEgKCZsIkAEO63i7LqII3H5G2npWej+kyIyLV2Rk/4drWMIbQ8Q4oirVIrOO8XdwwiT/dqbugW5OgUEYBxv/Lh3SBXle0l/Gn3GEk9fLNyDS7Jp7KTQXSY8zHH36uxrLZaCD7T1TInPFrX/D9BFmdes9v0jDYGV+QH9mveWnD4H+LWgUBqp7/K/KVn8sOdf8uC5jK3mEarSKYBbHSXsc3A69VdxsmsK3BjAoBXwE0ZkpPxgPlaTSo/LgB1siMjQttG8tN5+fIRbViVOH5Y2pGZiLQF9N2txfqkprUy30MAYNi35QaN94BzuGiEFmRCtgn/sVOBiTLPB+jT0pH8wlcKKZvYGn1bivmtGA+RtMcFKNYToQEsRgCzYHDf+VckACB8sIkSeFu0gNrt83aTuo/jgVx9tCOCm+hCm5a13ZXo+bS4vEW6K985EVj4bFa8YYioYENy3lgiKGrnKnL/oTH5rADXoPkyfb409nQtb3dC2ssDck8hEIMqHVcCkf/wJqWvYmyT5g86NiTM8bdJI0q1kHOaYaoS+swT0lhfkKtEDMWagfEDnA644QzpPs565spuvVN2bXXqo/NehSizlviF5SxortG8zDyQC3zF/gGAxZrqW9XudIn2s3h8+l6NAwkAVuNX21pTP3jYfLt0aD+miaEzwCCrFvKzMtL9iSYDv0Oxjwk7zVMFt97j292wfUjgbjbgt8IBJOY9rmnN5wdIutTzkntt6ZVjMwDY6MuHBimUCoZjQ3WBmbzwc3ONaVAGznnLZI3ZGc1XkdajZJtpAPsuXQaloIqAMN8xp/sFH2xCazoi8OyjoxKBWFBClGkA67VwmJgAeK7IYhY8SmH5CLMZ5rMyysy/jy9rVttPst8zegq6AmlnfB1NmD+q+fvtNN/ga9L27SvmTt2pO8SV3xDkcmtV2z4IzwkIortBGriz0qEdUXCM6x30HNrSzdt0b29SrkLM9LGVkPIB8KyOCtwTOBdDPTLAL+uOlPkNZn6Ad3u7xFriKwlHBR206EXK/aiL2+zvQ3o+Zq3jim1CwrLLWmJrAH2CW/Ec6fvqOZAA4Op51/Ij+wSgiLIj1cJ5CzC0/GSeDjfI2HO7HM8/a35REKdRRe85rLaZZLfnZRI8FwlgiQaelKksREwAvep32aHJy4/rEdeWHWPFV2xF+kGbylLB0J5KFCE/QDtrfX4OTJ8AoCLlqWCK2zIN4PqKbiMJdBHw4f/nigBGsmdytwmtacj/jwjgUP4/+luURsI2AVPMvscBOGlP5COaDx+hMWHhDBGa4EX101cCTvM+pswH1OcT85/Rf6fMP0rXMaHRPif6mFY3XFaZu8PS+t0scLUp0tzd6jGU9YdZfZ+0kxdrerRf6RgI7JV/Jyli7pZfYBk4s69pvCYs/4u92fmbOXBA9pn5kpyIg3py5vWc+qhXbxflEl3kiwTGHQNh10cIXVulPScy30WZRaTRBExbcoFiLSgS86pdJ5iAsjOBMRSPT9+rcSABwGr8anvrHpVW2ynJ8h6Zg0m90AnaIg0Zzuf3yfG6KlXJdj8ov6J5aRrLpPjRmmnjU96h+IqdZzqh67VQnK87NkYDuFOmyFCKAzRZLjMwmi97UuPkWyzfwPWoAWQh4DpyAgD2ahovUm7mLW7Lv1NBxacBJGIbTZ4LOObH8/esIBJJaouUJYDeWdx06XumAfQDQNwLRpRIN0QZ+LuhpmMMtcv3kex3XJH1VeiCltCj5q81kldEn6dK/zFtKVU5qVx3tyjqlupFVzLxbu8xLxWvrpdubPUZDJq9xhEl+d6qu101MnibnjrcX85ECvpEn5elg8GCgyvDaQlqLsL/Ga2eXSKTtn0Ssl3uMlnarNWbgTkj98qVT9DnLmMng8bvGOtDotZzIAHA1vO06R679bJTYolySJ2qidkjrch5vXZnBHOq0JiS3pL8NoaYsHZo8lwRMAhRM74tPZpo7Qi3QU12MyVl8DL/lzkvOAXIuErCAWBc9YYzyfYyoO+Wzmo9TWoukJ5pAOuBArm9XP5/3N8sgveyCbl4z7Po4H3FTQ3fT6oHF0Bk4XIFgDDm09JMbBOvXZT5/53XklgPKO22WfLnuPQv1Hvlud4is38VmjbvkOjw1VqiN1c5rGVtFwVap82bpfn7bY2+t2X9trMjNGO7FKG8Qbw+KH88n89uO8dA37vMtwqc/W3l04ybJ2uufF/UcUOqUjMbyImad4IwcyxQF3hApmuq4tjUpTfIlR1hqCboTtjN634jLKO99xHzwaw4ZFPmLlNvLdmsN8dOEL0erSX2tV6pvxMAvELvTJfMC0i4gMCzlklxrYaMH9JkxbQLm7V4UO7tlKXa9405ptwRfoArmtZcIIR+B8SpeekBXOQKBMFkgbbJ5YSc95GZnnFIns031f0d0bTv0gDSCJBiRwKjKSs6N6+3SQ1HbNLcFInAFoBtkTB/u8q8oRnkePjqIvz/WEhCdEj+onsd5loAIBoMm0gSvsMaX7HNrM4Zk//vWIUAkEnliBs3X148Tel3gMu0+ScBwGeUtm1Hg4UHy1Ni9qVk5XoinifSaW0SyMhyql5c8+FjMdmoN2FF2RKr0JgCfablLhBDpB/foqf8ZMlakCWE9vsB+gJB4CPaOltTt1cxzxMlwHNEb+Uxz/zLtWXWknr/QrYzT9jJoNmOy0wxdQxzJe4niVrPgQQAW8/TlvW4wzzS7FM6CFLEkIx1rYlIxHlF9V7U2asQ5i8WwhgaVaqM6ZJST0xOWT5ANw8wa+CD4yrYjnOzy+9ltyTlwwFJmbHjB+iTbPMoNhcozXxb6iVb27kZSfe8IOh6IbSVRf8/xn1CGrkubS2Sr84vYNln/uV4+FwGACc8AJBC964qIESHhwJAjtX8/8JpVk7LMLZR0BWhJoamVbFipGL07oLyC/ZIw4P/7VrTvIDnrPLaAf6uF1xerzRufkRv1H7d8VdoLriw5pexy3yznuG/qXTejXp7NurOnwwEURQ7HJNlqCx36oCEqLmANg4A6Mua0CtAtmQJ7gSwkTHBBobFcZG7D/Do8xX0BYIgKLuO6RbQJeNATutNWM7HvR7+JgB4hd8lQjL2mVcLBL5AL4vbgbddl4Apa8g8WQvEv1Y6RZXScNQQAUSVVQUhT1soxUHmw9IoZfYJVrh8W/ZFSLaZaeNe77X31KJ75xv2Z5Kt7dw8oCntsgk4P8gFIPN9V9JfGwAybv7h31OkzATcGAGcAcBGLR3HEsFN6TjK7PmINkQA90vTUyT0uCxALs1iWQQwprJhOdeHaFrJykcja/+uSFeyVTpFarhWIYDDTvONVQ5pSdt5BZ3MyXR5k6J9ybO33mnM/KCu4qHKXfhyPZlrCwJ7lCKIsn3nPcEQPt7ulLB8NHJ+HTMkz7/T11VtO0AMgeWM9JEucqV7ydu5rCXsoyDfpFagEBG8NenJxxoKBHFbS7C8XJ4rEwAMcb65ffWzd3N9paPbxAGSsO6Xj8u95oVrDgLHlZ9w0ry90pWhLdmmhXrFk3PK7mxE5u5j5mP25rrfAMCZgMYOTQ81X21CM0SdWJuGZbbADzAEwAY19bkCOvK+/KaNEWlO630nbRMwfaynHFcZALzsS0e9ZDsBNNeERO/y08tqAO+mSQPN6wkj7U6IuFfcMxvoobGgkoGLshrA+127aiam8xrrlgDo5EAWXNwUYigL/nhqTNNLbU5r+Ud7TVqRtaQM/L1d4O9XBf7itJtrOb7VnovE+tulTV1rEMhzOWaepeflHZWGnuVO/XBwHso7zKqCnBS0DVtk8AOc8UQMM85Nut9nNSvahLDsspbgdnGwJF0XwrIPAAJKP6+TFc26+bldZuA+GYcXNYPmtN78pfNxr4e/CQCuh7ukMW6TpqITIJCkp1tk1KqaF7CKGTjzA/xI8E6U1QUeFHdcSU6Z8DLflnpzK+kLiAYO1bqkDabeUx5p2lcz2DWpUefSNqOsJ8mWpNVFEzD+jJi1i+QDf7RZVntfBZAY8y8L0F5HVQy0u5j5bQLYn9Od2+zRxi0IIgxIaxEiojRPSQTYIR1gGXG+WWkLhyrUCqbPo9LAjZuvL+u+pfuvVvCXM2nUfHdHQOCIEn/PKA9qlWAUgn52KNDieMBsm18Xf4flFjRrPl7c1PB9uBYI4s/jOiCbkktY7teT6AKA4xITyjSAY5p/fQCQAWbZEerdYtg+oLWlUViuTwbtqhHMsYma50ACgM3zcM166BQIJNfVUdXhrEKDMlewIIY0bHl/WaJTtHEP5Jsa/gLkcOg/qV5dhPmCQnYuympd1ptkadesZAsARLNlE8EOLt8WnJsvFExT6wsA1peBc6WAwfzbrwndJnjBJM49dNFRgbGyCiCHpdHYLS2wTSxYfQ7t4Yqek1AASJb+pbG/Yv9zShEz6ACdxTb592WNr0uLIM76sYRv7aLyYK5lxY+rHfzlvO8ECEST2iOAtmA+nA8j6i9BQ/E+0+VmYBKbzyl80EeDHgC4zWMtwahM6qUTelp9hKCMTzPVhl3kF5ZdAJCAucsmYPpj7ohZS1znTtv8HEgA0M+bK3JPPQh0B0W0euDd8pc7JSMAaWFiiYWwR5LjUkRFEV7uPpkQyLcWomEBAF+KA2phMkG4zAxZlvtG/8k9WtwPBkonMRZ8W3yBINu15OO75iJXrV80YGjCcuoSh9ZLKhjGyXhzQgOID2SRkOSR6G2aEQeHHFq6vJ2vvFu+n9x/kMu0vKilE9OVTZn5d5+9+dJvnqOy/H+Z+fcxl44JfVlN9C++tUNa/NFRrwUR8DEnd46rzezr4109CHQDE9+xq92OL+fRipkTEJbnFAgXA3AGlKVxQdHGobZkA8Q3FxcHFw0JAPqsJVn1j3prCX1kwrI/upg2Gcg7zNcG8rnL9Eu7vmBFNu+QrYEa40VCqD7lMFsX26Tv1TmQAGB1nnX8iAwEvqbmE3jOennaMTgA2qh5ps70j5W6Jyn0lHlf1DGjmgSnSxycy3Jc+bSAmW9LowZwhyTeMwJwtmm2OOBRTX3TDt/CvA0gkGhYm6hXu+D0A7xcEi7TALoz6Nv9dfo3wBpQm5PLBMz1ugHgEYEtt//fimD/DkFJnjEfEa1N1LaLiFB05fkDALLQuQhNM8lyt1kA1m47J7PzoISfMqK/eZnlBsyjy5rW7Z80fy8B42vqtrXrx4L5Z4GMt14z4C/nIyBwmwS9A8qmULVaR95Hlb/blJLqAWnCzmjmiyWC7XqktYsTlonVxr+6UaAtng8tIGUOXdSluQkNuYsya0mjqRZh+VCJMI+wPOUJBBnSkz7rGDN+xPgTF4m5AIBbBLnMlSsVA2yKfabvbg4kAOjmyxW/lWi3LEXMCzTdhDO1t+JiRsxXann/57qXsqzfAQV3sDCGTLt5HyOKoiPfWoj6dcULATDm823BRIimyEX4t0wFNI9k3yIC1QcS/aYNclwdqzslgSBFDeB6mdSKE3F+QdQ2dmkAkehtQgM47NDS0Q6/obESX7yDWnhc/n9EAKP5dYFHACBJb120JLM95QVDdErL1WZdIf2X0aKAYq98dKm0EEvkjNusEeJj224iyfOMUr3cZH5NI9za7tNdcf2Pme/TW3yDnojXRM1FzV7AuPk6Pddvr9QNSaEno4VlUmeFo4HxA1xdIIjbDzArn0lNdr+bDm4cuHO4KPeBto/n3cXEbKfEAhiSOzSnFAiSc6K1fxMAbC0/17Q3UsTsMS+TJvD5eoHqfSZaPRBylHXJBLtUMvEUz8uC2KtjWCDLiNQZmC3OWar/4nH0R9WGMw6NG+3Q+Licm7NIYLf/CsCizAw8Ii7PeKqV+ABgv1cDWDQBd68LE7ArCTSAuKgRhP9U6uApsclnGqYdAHBnAAACPme0dBMBbBMVXshdZhPHEOW4xTEW2mbpX9waxbwvclOSozKGWLhZwKsQlSPG1yD1y5Kq8hwzfyp90K/r7Vn/qV6q8LjYdlw11kkWfVB1zl0CTbFts98HVQd6XjWVXXlJfX0PSABeMJ8IAqz82JjcqaQ38gFA+hnU++SqCOITlgFqw4F5kD4zFxd/9SRf/XTqidv1f+2sCbifJA0gXG4tJQDYWn6ueW8ki95tfkrKfkCgG+S0alBUBiFqsQpVkWyzdDBhLeBIYGLLcgE2+qAweWWRwOcbhj6upXHSYyrJG4f8AAGArkCQLBLY1gD2C0BfBoDrJbrN9v8jkIWAliIBCOGxrY3DdMw2n3aMCgIsLD5aliauW8sVEdk2odV1pYDJKoD4NWukEyrP/xcHADErIuD0K/VILFH3d0VBI73SkLeTls0Hpd3+I2n+yPNXLTdhO8fVqb53mufoCe3VE/cLbQWBmHQHzBMkjL4/+lKZofokjC6UVN2gQyqCXJB+LJQOhthifAB9IJSsCXOCwzb1CST7rCWZGdjvB8h73q0rp+Sji0Jzpe0ug3WhOFdiLUnVQFxcbW5b46zaXH/p6A5woEu+R7sEAO9V2bgLHu1YK4a1Q0vJOQGYc54X3HWOfvlQsUDG+N80K9lmFUEw2DY6fFMTeFkaI5vQYuE07Uv1QvtxTZZTnpyGTFSuCQ+J9YSmsCLh3OzyF2y3RqI4htV8R/LGBJMT12ubf11l4WhPaThSQLgoN/vYmsRiW/yO9jiif2nDQuWKAEazgTuAj47rbpJWyEcsmpiA8bUqIxbsPmniqwRyzKj0GilDbLBcdq4q+1cUgX/U/I7Em9/Q892ola3S19XUdqf5cfF9g5wAfq2tIBDfzin5eFYhSsPF1lEf0jM3VwIWM5eZRpDHmHw1gbdrPnPlTeWYrHrSZ/nqpdBciRuIqyZwnLUkaQC9TG9iRwKATTDvSjq02zxey9UP18zBF/UKt4vGVLB+qkIwSCbZ3i7IUG4G7hXQWpJJMASIBrWkzekqfdQjLtjljGibmTamnIcxsR0JJJnu0qRIsIJrXCziABi7gHlWIeMhdWCUbfRR7Idk0GckqV/JZGsAlxwAcEEGJ1cACI7fvghgtH/UEQ1RBgDd5dq4z2gsbApFAJ+UALNVR4XAF1GW/Yq2jKEpaXlYuKtQVvf3q6ocUqntCfndHjZvqJl9CS+4EuikSkM+IFjdaeK+7zYvkoh4Qk/PG9s2nC16Kpj7TjvSRPlOWkVYHokooRkyA/sEYvjDPOXKpkANdbSOueDmuo5QPkAAIP7ANpE6ivmjSJm/9GVNIiUnkwm4yKHWfE8AsAV8PCVTy5VAvfI9GTHfJXj0f/QCtwdUDJuvkBT3rwIxfmdgmxexki0TT7em5+MCBj4iIxUavouCXC7y+7YADCddh0jD9FCd8dPOfWxkSqQmpkvTx/4swq2xb3sSoy35ss4UFsL14NuyoitnnDm5kjpjwnHlAAwFgKBVRWPgI3S5KwJsPdIhuuiElo0dOqtNaAB5DlyEXxRuBCGK9f+7bP4tjxTOz7ciQQNwsFFPVDvolPo/aO6oBXxsFCTvNDFPzGk8y+YP9fZ9twBEe32VY66X93mv+Wm9h4cFAv845pBVtRmrVVGK1wJWEZYHNWfNBYRWBpwBwM84x85cS4DTeQE6m3p05HELkOVtypJCh/ylKfXosrTY5l7OZW+jdrotZOdjSn9Xz4EEAFfPu0tHLkmSXKmYKPnSwS3+0meeqsXvGxTX+iJNvY0+b82e7nq9iN0yPyzJST6WLku25aAxxgw8WCt4fr/z9L5I4F5BjUVN9y4aEgSc1WJQ1MzZ7ZBsfWZgNFwzDknfnQqmX4thUbK98nMBogEsmoB9GkBMOTZh8gEguwh+wlcf5eXfXPsRAnJthb3/lMZLUlsXzUq7N1QCAGdlWhuKSP+CVhu/rSrm30nzd+LG17qG1vS209KeHzCvEvh7g3TSjfei6RNU7IBQnGNyS3mIXCzGFIgyYF6sd+h7tZAfqNhT65sDgPYrKvik7jUR0u0g/ABJCu3zw3OdM1ZYvk7gDV9AXBV8tEPPwAnt981r/RK2FxzCti8QhPPgB3g4ICwT0Qv5tITk8ytG99I28w+ut4z4AJ/vWugnUXUOJABYnWcNR4ya39OL9i69TL/lfdkaDmrjhgHl7Os1T9Zy8FKNp9EfrtlTj8m/pUqaAxbI2GjgYUXDzZSkgxmSeY6F3EUDtUmtMRCkS7B4xaN9IMCAQINlz37OkwHACdcpNc2GfFvqTRuZZFsPANGwXcnUqAFc0P2s17y5fACZrMmI5krgzD7M6l1axHxE/j+f/99xPQHdgmk2nRYvQ/V95yQaDQaijolCx4l/Y0TE7HRF8y+ehaR/6WlD8MdZmdbuV0aAG83rxW834LZ51c7fF/U2TZrvl7n9SwX8frIG1reaL5b29VcFCn9MT8X/tPP0UX3jC3iDeZ3EhfdLz/yOqGOqNMqCQb5Yff979GGZsHy33o4YYZka6n4+IiBt19Puq56U+QE2Wlt8uQC5CFK9TAbSZtEmpAVEGHSZgckFavtMMy9jBciJeeSsnpxEreNAAoAZL9+tP68rsPWv9J0nL/+Aor6xsL/u63V6MEflcH1Rj/asTAvtAF11J4z4MWy+RS//w007cl91CYCd1bWe1yQfS2MyT0+bD5Q23ypgcU5Tgc/ESwfDOv+MBwBu0sJ9TjKmLSnmUaS+iTVzcPabgYcFLGcc0jLjcdX+ZXvm3NwIAIsaQDRrV7pvSwbitnBJNVqpaQQva9jgNT5DRAEXiQmdZNsuWpG4hG8li5SPKP+2y6Otw//PFQGMRsNn/j2vxSMzfW3ynVL3+ON6vh7p3Z/v4DlCA1gl+hfXiWFp6EPXnPdf5e85zTr3CmRRK3yL2Vfl0La0PS+IMGm+R/fn2Xq6v73uHJv07o4pMnlOYz2pvKKdJjRpN5pf0njeJnHkvS0fTiYsVzMDk1NyMaBlywdJ1oRp87H8p/NvZgZ2C8uZu0wjAAxFAhNox8dXAYlBlFlLXAmhXXMloLA4N+IH6Aqic1542hjFgQQAjXKoGPMUi1vYpX5IH/7eoM+N+rxVHy+h5RqUSWGjdBbTCsag1kCnaUwS+EaN6rAmOBsQNTu2EfMMXec/RXfTL81ebFLowVqE293evpFqT6k33zXtECQjFYhNbAd4uCgDgG5/GdoT6MH5XAmh2cd2G1xiAl4UpCgSGsAiAFwPPoCMvwhakMqLaV3I5L/NEWkaNv9OaKHYV2RN3XeSPONwjuO5izDnuyKASW3Rr3fQRfM17R+vsp+mpVEZiajosSTtJAt1FfPvtHmnBMVn+E++ij0X9DTh87tX2n4qBHWazgq4TAv4DQngbW+YVrPRbRAXxs2faOR/Wvt0eswkxyZJ9rT8AY+bD7V0OFtlHWDWOKPeYykTlt9f2nyH+j4hqB1SOISE5axCUmMt8y7dPZ8PIIPaJRB/RMKZj0LWEp+/tCsQxDVXHtcTk6h1HLjWAeBjxMof1uc9FksBfXfqc1CfiQc/+hMmFsk+86NaskgB8L3SiiyGD1iDvaQ9YIKYMm9q6dmoDDIjtvlAmH0yAAPljpY9mrti+ywfYFiyxb9lRQYQFw0IALiTnPoDQXrVHznnbBBX7H9IU5/L1482WZLTetDpyvNnB4Zc6QAQx+vcr4fr5LedtgWQSzJXm8IAEP+/ffYhl35TUmo0YKrNNICjl9rnX+alAeT+uwitMe4DPuJZJgq9L3De/NgpabNHzf/Kf5b+PalpZKPegFZW/rgoMYgk8DvN8zTnPKp0DO1ucFrgaUa+x1hDtkjgC9F1EhjGFBhyRtPsvPmV6Hkk1Gcz+yiwBgg8Yn5ToOqTzXTVcOyYeZbm339s2O7b0K97mQnLn/c1qW3P1htqqN/vbdcvHcaCx+cyq5/emDYLTT5bfXM7bhlo532UBczVz4V52wzoNc7bmb+0S1i+3E+KBM652Lq/1zoAfItYCQC0xQrsVi/Xh3wjH9UHbWA0dZmv1yLyPMlm3yu90GT0ce1oyCSxR9oBHMRnzF+27BRUBqHu5UqEqSI/KQtmjBl4SI7Gc8avAaS/zA/wnrzrur/4tixoirKJqhFUj3ARfBrQUjoXuF8AFl9d4EEtZ3Oa5m2ilBwm1JxsJ2jSwFBp40olTC7FCODjWm6QzItECgdXBDAA0FcCLksB4wZq9B2q/8v+ZYF/UlnYtKKxdDu20y4LAPEDwJO6u9s14jKtHgvjgvxUKXUYS1PmH/SEPCu2eWk7Arzuk9l32Hyn+PAlpe3b3eCEtJvz5hd1jf9XQHdf1OkeIjg8rICVz+sNmJX/IpqyTtJGzdo3CYweNK+tzZetGsug0gTNSWAICZfFcyEsd0sIOV5bfop7Gr8jLId8prNSidfpabk8BxV76dac6MqPmlVPWio2vfQ9qwiCbsRNzKXb9VTaPn20JoE874+dqxUTcKO1pE9ju6xEYR5KJmA3z1e79VoGgL8npgEA/9Vi3n79vk+fd+nzFfq8Tp836vNsfaJpm176IZUdwhxyNiAtRXfYRMMs4u3nBH4+oEn6nU30VH9oJtn+Q/3GwK8BmdbmZGLzSZb5odfLjZ3PWU2BPhqWNjEUCIImyKaQczNt8TcLmzb2CeJN2N3WfmemjaMN++wyR0yOXH/OA35fyYTJBck7J8zX3Vooi8TE3e/QAGaBIY2pSPAXRMOwUffYR0dVnWWn7rGL4F3mc7ixbjdmYxzvc3/P4k6OOaXFhES3PqIW9XAEqDuu6WGHhAzOFUNEgS5KjuxTrs5WEFd/QPIpEf/90sR3mjDlHjd/UTPrbpB7RhVibho0r9CzsF9z5XP0VHTWdWaTABGBNATUnHUIdFWuLW/LXNYjf+wqmRNihWX8VctqqJM1AfcHF6EtdwvLY3rzGwVa+gCgbtWscKIAzuy+R/V++ObKzDWmPnrZFozpr9EEnHIB2nxu9ve1CgC/WYx7nD5o+WwiRwErzx/qM6HP3+jzi/p8iz5OevnLX25e+MIX1j7vehe4MaMtejlHzG9reXyhpjUUiZ2j3Nl51vyVXuz/aMlAiGYkr9lFj3RpnySr5LtTx5SngWBiwyHfR5lpY8K5e7t0My4fwEwD6J7U6KgMAGImXtKoXJSlgmnU9gIA7SSn9mTHIgiguRLJ1gAikTdqAGcFRobrho9PJAsF12YTWtZBwQUf5RpTtKcuOqMniAXIpkVFwuLX5CLcBdB2hGhGDvUjJaZLjp9WVGcV8++83rcBRcDGAsbQGAGy5PnD32/IMI11jhjLgqJ6T5v/qplzrxMsXi31mR/R0V8l0PB9ehfcmqfV9l31OAJp9plXCjK9UE/xZQ1U1X6K7asKy4PmsRJw7yx24fwOtMTD8KLgqo/CWRPc7jLMlYt60n20W89fyAwcspb4/ADtcp3MM1gccsrcZfxKgbxd6C/rc75Ws25f69Q4O18bHPnfusxH64ODAVEBzKQv0Qeb4j59nqpPkWjnpTvuuMO84Q1vqH2e/vSn17XbJMl2zLxZJ/p5Rb3Zysa6pm3/kTk7/6qWyd8RQPpE0+dDezVonqSJ6t+i+xpVNPCxiMTZzZg2GBdZsogGLhLb0BL5CN8VzBZop1xEv1ukQ3JFwKEVI62JTT7TRv3ERnTbCfvQK+I3KWAoYZcTGsAeXWuRTkqkIGKvSPO6y67KILTBjD5ae82KR1z+PinTl0/7RyvM+CxQNhEBTG4zF83q1aaKjI8wSp0UuI8p/zYnYW5IC3QsTSvFyKgq6LSCJpVy6jpplEbND7aiu1X3Ab/mzM8IeCwLNP+63oxNq+4rP7BLiRZ65UMNCLyg56eTtF2BaLvMCwQCX6BrbN5Fo0uA6bRm3guR7znC8jbd5RMOS4bNl8Gay8yn7c2Xfg/VrCV4MzVS5i99uGFHnLD8uYbj8g1U+MHNw0U+AIgfNUnmc7J9qLdL6DsZyb+8D/sv63O+VrNuX+t0rQJAzLmsYvv12afPe/R5vT6P0ech+pAW5hv1YVVj28v0wWS8Ktog7ciY+WMtXG8SSHjbqvpo1UGUhsr9XM7UFJzN9UxUI9GNsTQkxeus+UhpcxzxFz1mi/zgzLRxf/6z7i9AYNGRnNkFDIsHDuk4kkL7CNPGdC02qL4F4JBgCTsBqm0C5ijAYtG3JasRvFzf4RXyy9YAZj6AlwFg7tfE9RcppOWDf6EAEMzwvvQvnMMPAA8LdO4pDuPSdwAgbgM+WpJWmlKEZXRSi/hmLVQkRI8h6maT/2+bB5jG9JG3IWHxGfGOUmY2v/M2a/GX7I4keL5eHB1U4mmXlne149huvlz38GcEAn9A79LEartpyXGU1xxWGpv7lMC6FUn1qaJE4FwsjSiH4nSEtWakZi25y9stFpFTeg7R2Nq0RaAKjbpNuMvgZ+sjAuLmAvMkFY/I2ZfPD8V+AIAuX2vXXMlxeR+4duTfi/2l76vnwLUKANEjFz+56oY3Afskvn/oh9EOEjnxYn2aQm7EwKIJPKEC4Uv620nCz+UG8wua2F6iqbzeF6PquLZI/mcxOqMpO4Y2aGLYKD3L6cDkQj844m/VxIVWxkdItnM1pW1jCxJCu/wACRzwBYLQS5kZGM2VLxDElQ+wR9dQTPvCOdy+LTyOVx5lSaAvawDJAdglqJRTViXkMiDMtxMQM6Qn3kXz2tevZ9BHRACP1TIvuVtw/3ibbFoQ4O/THXQRkZC4DfgIR/qY/H9or0dV4SGWpuVKPGKeHtvc227R/Is4/15dwWtbCri8J/TsoJ7vlGLitpovEj+p8lEP/D2HVdq8VdrVYQVjTJvnCkTcXenYVjfu173rUfDahHm1wEcjgKpyvhHzNF3TP0cfMiwAOivzehmRNmu2hE879Db6EkJv0Xxsg0C2ndURPgL079DbdrygsbPbulK70IaScK5gDhcAzITj4tyID7XbQmOfP/0u58C1CgBtznyrNqDly+lf9QUfwev1QW2AP2DTlCWMfqNerLv02hD91tyE0syAtgoC7tUl3ysTxwWHBFil71H57lTJCZhJth8sPUVZVZBB6TLR7LiIXHAuAJiZNvy+LVmOK79pY1T9ujSAjMEVCYxfi+3fZ/u22AlPXdfTqW1M1DsK/nZUYS4mfM5SwNT7/zHWWcEE+GHTWUF/Esm6AjVoy34WFzvVTLEfnNN7BauKxLtEpOMmQRObMPsDVIiI9FFsAuhjSnUyLH++GGJMWfLnp8Q097ZZkS/YtPLm3Wh+ucYZb8M278A3D/NslzxmelTXt520WbVuqbA0I9kbH8NO0oi0gJv0vB2Rv2MztEmAiVRApASKIQRlAkjOSMwN0QZpo/EvJYG+j3B/CM+VjVYP2yfP7rtcWMZagj7l/7P3HvC2LHWdb59zds7phHsvShB5T0cxjTqj45NxREcM5DCYGCWo84yAKOoYxoDA+BQdUUF9JpQgguCIAcw6jogJwzPA5cINJ+yc07nv9+06tVd1dVV1994r7HXY//Pps9fqrq6urtX9r98/F4l3kffbr+0b8pc21hL0MIbGBB83E8DUtjv7W28GzgBgvXlqWysefVIf3JRe6IYSR/dSmiF32J2S5k9aNxg/QJPmoB6gvay0FdeyP6mcU2Pa+OtoO1PmqOUz4jYkGGAlkNIFAJgybVC5YkugJ+YHSHoDCnqFwDsaL4CPT37QB0yt7ANYNsP4/fTiO+DV5gE80GfSOLi0rDuGcfuEn2QoOfQ1mY0oFRUj/P8oN5Uifh+/1i8RvmMaSYiWpFFMaf8w77F4Uls1Rbu6BoEtQ45PZKr9hvIOjkojScqk49K23s57lMid+r4XTtDPca9vzzvIn+xn6e34KgHAz7e7O/qXpPq4ziwq6GUz+92OXquqc/KpHoijXFW080moqbB8SbwSoaOKqF1NDesYXcyF5ZgfIO4yZQA4pZWqOiF0XFjGD/CBiB8gwuGijroEHyFzgEtGWG4FBZ1VA3Fn5+SfzwDgyeewcQ9oOBZkUkCJjoRLWode0YzAG+kk3iu/m+OCUaTUCUmYawkG5N7fsK5Iaoz9Cs3jpMy4a5K7Q2CL/pAkx7S0b+aWevcKWa5lOtQV/HOncwBYZDzFMyk1l/YDpH5tKOBjXkwt7tvSMmWjUXNNIHx3Sx754+nVd+bOnT9TAq4IkgCAMx4ARIsXi+BFe4ofZYzuFWhK+f8BzPnd+ecSqSww+4foukAUC2CMlqRFnkskiLbnXWug/eMcU/njc+zpjf/uiTu8R54opCUZ1N31ivbl93i/qgrNayzj2WO6OowB/XKAwGVlU9hokEy53YPkeXuoeCQZFJYa+PH545gXoFvSc1SX116Wu0GdoLlL2UfrTfwb/3JH3+dl8YklhMZfejEAAI2wHOeVCxKyF/VsxOiS3uTrAT9s2htryX2FU+EZ+7IBuORrAMsmYbf12eemM3AGAJvOWJvaw1Dm5cxNbcyrShqNY3Wv6FL2NEG4O/WqvuLYQzCSbf1gEPxbrlWYdpijSY1rI8FkMAPH/ABNSbiiRDmpWV/3pEz/pu/SbwIQiVEsEGRMMHhH+kGfAEgAJUsIAC6wMglOT58GEBMNBdgtEbgCQ3ZpRfc1K3buUsr/zySAjgNA4//3CLe7wucN/XaT3vVowAIW8//j+UhFABvz70cXrhP6wkKM9roOIeCsKK3MbINoYbffQz31/6w0JA9VbfGRBGB2z+nE5z1B0AdkJbiodKijbcpj2HScFyRi3CkQSK7BNaWx6hXZVFpXZY5fVz7T4xB9TCtoYzl7V63TRzXzBxJxCSRK0ZyijBcT+WYH9CaTfJnn0if8aUM5/6r8pa0fYKy8JpYD+JzvAsP1AYAhawlmZzeQjowDrrUEAIhf8hm1ZwbOAGB75vHYvZD/alSpUXCs7mUSVEwc+3olr2W/dKx7mVb+NJMTsCjBxTprItleS0i2RALf0FIZIiRbP8kpJjyj14qbqwGAH0gAQJPi4H2hS+aAyQeBIedm1wdmWEs8WrPTRiYFzOTRsGDEU1qMXQrVAb4hyIA2NEQ4PhAYEyKb/y+VIBojXKgCCBHfsRQw5ACc9HwG3etjOsOEliJyXWLAn3KzAABAAElEQVQCHovcl38uWp45AaaqqiL+eXw3VT5eoCt9uUSKR4eadGUfdX0RTknzMiINUy/pvHSPV7JXCwr9hoD1T/dsKBf0BGCOv0da2e2Af1udgSEsX22cOeGdya7xbx3UHO0KysVoVvxwOWCSBXShkfTdXqoAINepEpbJ9xmyihgNYNldxpTUbAntRgNoYzQzvQ9YT06fsByb89O+/wwAnoJfaDp7ph7rJwoEfrlewrgjbyeHirbtYTJLr8jXhq0pGY3mp0gK/aNap07Iv4d4wqr0ChfzFAdx04YBgO8JXtMAwA+Ujo0KxmwnpEhMvJuahZiZBh+2qwGTCRda0DIFAHIJDZnv2wKQwqQKMXenkUwKmFYEsAGALQ2gWTAYfXH8aACZB5/wCySPot/etkP7d2fCVEs7ylaFAOCafpFQCbgd/c7Derti1zyU5p1tSG1SRAWbhTwjVKpV6xhBUSz0TQnh5H3yDZ7JHqOn8N83Pb1t7XekvbymUnMEYgzlcXBt6/rYHZ3X08N4dqQ9W1Yu017RoJ6ER0gjSrWQfXG8pjSpABcCQQ5rCn3GD7DaZ/piHg0c9wM01pJ/CQ53Uo4vlFF0ifdszbFcuMfsZ4LmqNoTo5iwbNLElIVe3w/Q958+MwHHZvp4+88A4PHmre1nUT+YyLr75GtDctVeEOaJR8jh/L7sVWJQf9t4CKS7uJpX0Kt36pzA3VKi2ge9kJh3Q4DCNZm6vQ8JUOyLkfrSK20wCYZyAcLYUoEgnJuqC2yY11ZwTEi2pDlxaUq9+alg/EAQNJMhU4nbT7c/mwjgOAA0PoFFjSBjxLmbefDJBICE/fRoi9k9lQCaNqEawMashUGqzM5uyP+PhS9GS7om5rMquqqgJRbiOkSy310tnOOJtDOxfkj0PKAn91L2jFiTju8n6va6yrPdoeQHBGKcJiLb5uXsBwXZ36Pn7L8H38FujHdUv+2HyoWHesx1gZwdF8II9YGvZ79vdyX/TsnKsS7AWOUrflFa2rS1BHeZmLXkISVrCdH6+FGnaCHh58d5ZE2ICcu4l/jWEl8D6AtuZwAw9Ws0P1bmmM37ODujTTNAKaRZRdnhcH2o17EXNCBNyIeJsd4tLcRuwvcuNDaS3RLYsV8TwF5WOo2qCDcYwJSYzHpE48Y4pqU3WgtE/E7JsBeKYjMAsKil8+8HIHJfQrKdFgvHnOmTCQQp9m0KoN8sNDUAsBXdNi6oe9qqgfgpYHwNIP5/fgAIN4kp1/UdtDde7f/3LwId6QhgkwOwmALGgMKyxpHrsuChJY6R8f9Lm3/RBK8KKM7UAIpc57o06JeOob27oRyh2xovFSh6RVsqc3dDVYvIWToQAPG9Gpd7Xczql1Sd86bEOyosxYRD95xOfJ5UprCL8p+mLnMVOPOvf0U5Aa/WzAkID5yR1nBZJvkUzUnQWY4APM6bzjMjlC0iHDPCcjmgA3cMv6IS7S0hdJEzcFOcNkSxwDjahszAIXcZXGR2bmlLJ/Jr9cZKFrq/ft93BgBP2S9IJvw5SZZoAkm90Aui0BTO5++Xr0tTuqSI4mtKWluHZuV3tSxNYxUDN5JtyrQR9gM0OiE0a0Upto4G0Pi2pEwbSLb3lG7TmICLGkAa+dJu2bclnBy1dIEu7sDXBonbEpn9R5ygkGVBBSR2l7a1FITAH21ICXFZQkKIiAlHAxo7156zK8cBFhyX8POcE2wKkdEAxgHgDSXQJZFuilYlCExpceV5qkNXVUiIqg9NiKCPq9nPSQP/PbWv06T/Om03lWh6Se88ARdE355m4rdYUFJsHCgoSRdz1+j0Pcxnj5Oe7E7xsd9udKkRgeubgla7grB1qE7qLCw4+AHu3HIt8fvFykASI/Jl+hTyl6ZNPV75yKiwjH8hAJb326eQu4yvAeQc11pifLiLwrTf79n3+jNQj6PV7++sZRtmYEyh/wsCYJRD6lVNzAkFdRxI77Hn+bNV3d6l7DMEAN9R1Sw/TvLScUmlVfUuq3JcpfwAQ2lfSBdyTTrOFBkN3/UoOI35AQJgbDCD27/P2FwfQNrh3LwpwHWayK0DHALp+DX6ABDzLxVRQkS04KSgWoiu6ve4LC/UFG3peRyWE75PmPlDEcCMeUfnjGqUIWr5/xUBpd+W9C9oq+vQjp4swAnl4prQjezNOuMJuT6lyXntarspbRSpVtD8XdBs9gMBLEhNc14w5XquhesNMLgi151rx4hOvpwLy/WA47xyti6qgEAV4Qd4I+G+My/T9aLM5z6ZjAllMLogVQDJiFJ0p6wlKT/AWCBIqHJSiH/6vJKxhPhRaoxnx8IzcAYAw/PS872kXLgoM6wBgWWNUjcGeCl7ql7+1zW6FNnuqZO67fnBxTqhqgILbIqq/ABnBRyW5TofopBpY1QwBK1gyrTB4jKtX2A1ooUlVyA+bSGCiVX5tlBOzU9vcNqi2wCkAFOI+8Eh26VQCpiY/19VAAgLCAtJij6ghe1DAtG6y1p+QgBwU0shycJjZPz/0tfk3BsKOqgbAEKt10vZY2OXDO5He4X5dyF7fPB4p3duKCJ1RRG2d+bgb7rTl2tr/wYEvlCi5BW9j73JqUppTWqsbyXSsIRu+qKEZdwF6hCau2EJT1sVAnmVsDwvd4hFeS76xDwikPvWkg+RX+H7E1kY6McEetztd3n0/ZL8AK8FrCUhAMhJvj80QXmUnLSEFcKahO2+s7/Hm4EzAHi8eevKWSOKOrwokxDRwfvScnSbZsSgVuUTdFOGiibEAnhNZrA6dFF+NNezdyabwpxS+QBxVsYHJ5Tjioog1Ij16a7sIwUb0j41RKRSmSJE6UCQciSwrwHEr8UthWTSG4T9aELX78Y+IDLLDmRq/hY1aRt6Oihj55JJAVPWAFYFgNynRakqAvgeBQyxIPm0Kfg/HtBaoekgXjNGddK/7Gi5HNCCQw3rOnQ9+z29s59ep+lRmzUFmKBx70Wlj3UBz1XltUPzd/4W2D8aWB99mMu+TubPh4vvPD/nBd0eOuXirma/2OiygzJukhVwKyJI+p1dUv3la9mf+rsL3+ckRJHYPEa8DzciGr0ZPQUU+3OJvKlU3vGBoduGfH9ssVRWuH2EAkFikcDG5NvygUcD6ArL43pOT5u1xJ2Pfvp8BgBP+a81ItU/Ds8PZM8VCAxrnDp1C/iUUCVkqUFkL2NZUF7DuhFuQ2KAaECqqoJUSbYzYjKhckb4hqEh8ulDBSQAFCkiEOTeCADkPPLZrQog+BSSbH0AaM+xpozTGN1mx8ZYYcBoLS1xjH++X5wxAReDNDiHBQCtaYiI4N6WtpEi8TGiDQEgs4KJLlHnlxxoCAk+4f+HxiNG16VRrPL/u66I2ItaeOvQpsIBhtW6aek3cm/2Iup3XWbnNYEWon3Js9fvNKechUMKlriafa2ezIOu3s6EEn5vC3jhNtOELjcIBqkDAOHZCCy7+mVDNClt5XpEi4iwHMqacIf44P0JUMl1CN66P6BZ5FgqECRsLSmWhDMAsKUBhFeeJYNmZk9OZwDw5HPY8R6GZfa6pPQsDyhpdLdB4MXsyQJzv9zoHtGWjGqh3ogwBL+zi2Ke11XwPkUmx9XfRZtQ6ijk20J9WOrE+nRR2oLrGakV4gmhTSqYsvbQ9mVMG2VQHgKAgEU/FyCFzQmagIxUu2G77vlfU/d34GgcfsqXUAJoGqMFQLL3CQ0g8xUiyknNe8DOb8dvdVGmfh/oUe8ZzUWIFgXIeC5ChLb4QGMdToBOzqNaDVVr6hDBH5cbmn93pZ1G/CGtSDfJgL/X3QJ/5d+rm2Np57Vms6/Qb/pogcCv6yoI5LnEh/NG9qZGtzOffar41h8n+ZDtcERX2BdXJSl5ihZk3ViMWDcY55Dez13141PIXYY2D8nNwO/2mxe+AwBj1hJbS/xQI/dpXm/Mon4tl2b01hJgZgnB0+ZMZd9p9Je2Y+23v2cAsE9+sWE59/YCBJL0dEgvadO8gCyEdc3ASLZoWlJEXeD1gCnXnhMDgDA8NERoilwifUFVOhiT4mBcADIcnEGty5AfYAgAYkr1I+GMH6CRbMcFATcDTNkdczc/Mxbr/8d1MQHji2OJFDh+AEiqBnCqAkgd8+8HVK0j7v93lx3W0V+A/Z7ugSrVIVqWcDKb0A5yDiBxW4sTgUpVxPWo/kGt1yaEjy2lGLtJLfD3ar0FrVJ/3RxDJ681K2tJL0DgfPa5AjP/U09C/WAU6qiPSTDaqNCw2flakEXohpJ0p8gIy/E8rrG6wEYDWLaW3KFkzw8kKiMxljskaJHIPUZoAZc88zJtQ7wSvuJaVuCdbnk44y4T5smx65/tD8/AGQAMz8up3NsrEHhJ/i1NS8TNCdQtCdSlNGx2kifFPNakrUkxToDcmBjDpkYSolkx0VCZI9qaSOCibwv7ARTvF7BIEX5pMdNGLBCEYAk/CIRrkBLBBYGuZHva0huQ1wutpCVfA9gkAtgCQ37DEKE5uEvznKIPKF0Lfps+mQCQMkDbkEgxIWgVIyIlq8y/y3o25gJBJ6E+16VxGddzfF7iUl3Ct3ZNoHFGSYG7Rbc7+LPz2AsQSJm4Sfltr9ashmTH2kRYxh2hSliuqgscE5bH9CRuSdDzCQ3esJ5ufG1jRIUfhOyQlo9z4JUhP8CwBrBcOQneYdeSMx/A2K/QfP8ZAGw+Zz09owgCy9JaJwY3IamTupdN/FtYCCfkO7KmhbuKeLmnBQBItpsiFuxYigO0fFComkYsEKQeAIybNmD3RLeGCKnVDfKgzZTghFsR5DSnNyAiuQgAV3W3rYCPFek6pr2ULphyYOg+XZfm9mIkTx9tqe87EzjP9kPuPyiUAmZF5uNQBDDuADHzL33h/4emJEWYf+v6/x3H/Itv7azyBVLdohu0nv2q3kfMvren5s+fQ0DgiIJrrmbfIPBQNj/67dvx/VL2dD1br2vU1axcDJYUCGcBTurkWfk4rmT/kGw7oDcFnor+OkRzcjcIBYJwTshaQh8P0btSJSxfFMi7Hoj25fyYtWROPolLnk+iAXhFH0a3JNyZBpAZbQ+dAcD2zGNXewEEXlQxcgJDDgJq9XYPBsawkH2BmMavNuraJIWul+fqYvaJYh7paGB8W0jcGyMCQVbEpnwCIOAr5hORozsCcKkIN3LTkaMuRgQubArW+UQxryWd6RK+La5pw2gAW+cOeZHB7rnd/uybgNFcDjraLe7DNwFzvyEAeE0AkAUgROvSKkzod+AZi9F90q49JKD9oz25AUcdYGr7MAAw7FeHpnlH1x3VaFNEmcK5QNSxfw79rahW8Ix8WZvQjeyNeo+f1OSUY7fdkGlyTcEmHyzgz07UTPYcwaGPlN3gBQJN9U2z9vymf0fEL0yC57LFIdYX6VcmVWVmrcIawflAtDH5y24m3GFoNy+guBhJSzMpYWsjYknBn5Z62z4RfU8aphTdmQgEuSj9/Y0ADx7T248/sUsElgGGXUCM8GlTwZxpAN3ZOtnnMwB4svnr2dkjeiFNipjnCASWX9h2Dwz/lqXcvyUeNOFfc0bmkBX5q9RhvORZI99aimZkYltO+pk8XGN8b6kLIkeXA8yHhlekpXwg4X8DKLuZ6xX3S/2yA6kXgOMTQMgHgCa5dCtq2PUB5PzTJNmaKiDGBOwyYnufAEACW1xCAzgX0OShAYxFAGNex38oRWge0ED4lIoA5jlA0xGiNQkJU/rdUrStX3VIkI78a1W0qjxpUwIZLOR1iZxxAxKr8LHtNG1I07ia/Yzm+VW3pc9f1fwRGEKV8+vZi2rxoqr+qo6bwLk3VDUrHKdyTN0KSkZYTvtMp4RlhK1Bwcg9wUifZnJeWbYszYhTEoWf4uUmEjjsB4gRGT8+/3zGgonZ9fFjTL51xXWXIYUWVYnO6OQzcAYATz6HPeuBFDEXs++SDhAQeL2j4yBH2ZgW4fXsz2pfhwWRhZEFsooGBX+Q/PYk58UIP7khjSOW4oAFv0kkMNf5kNy0kZZsY4lMOR/NFgDHJ4BQKLoN06klpFo3uo16wKclvxXjYDwQkcp+EmhfI0g74zdYTuUCEJ4NAEPOMQDwkXwMEuDzmsAcUds+oakIRQBzDlGOI9KrhMiUfyv7E7ptr+s5Z6GtQyzcTUu/meCPp9fp/kRtNlWVhyTPt0uql+NOxlz21eJGd+pd/RY9HfWF2ONcb0blPFezP5DgGBYaQ33OiJfXFZZN7tQ0H17IPkIC9d+HLpXvoyLIUsCygbsMbhU+GSvQh6rPe/xDR9+nJMyQOD82v7FUWKH6v1hLirySSGBjLWEssWscDebsQ60Z6HcA+LG6S2wobHz+oCOSRS9k/1UL6bOlp4o76bZjYo5TGaSJZFtHCzifM7awGXguEggCwzDZ5csM+Q6ZXu6v8D00km04IXTMtyXk3GzyBt44+in86DZMG6elGogBgAZAmQjglv8f4I/5dIl9tu6nux+fTOafKqQhuqoKLpTVi9Ga4N+UoBgR2T4RAILGwqdNgexUBZB2AkB8y1ZlKp6Rr1ldOhRU3pIrw6SSoHeStgRClrMfuQX+DJjv5PVOe9+zSg1DmbsbqrDUSQBBLr5p5UJdqVnlg3lDWJ5WwNFqjXJvIwJH+3qGUulghvR04QMYSo7P9WLCstEAlt1lOActfMoMzHtOqUdKPoYIP+CQsEwkcNlaUnSXmfKEZTg6uUHP6GQzUOaqJ+uvG2cD9PCy5dd/u7YX39reob94+r5W2wcVGByVpmI++0YBmS/PlyPdf0doTGBpX6/wvqPFqrrQjHJyoQH0Vf+h8+r6AcZyXKEfxFzL5pOJBC765NGGKiKYJ0hEHKNUioMpzbwb2GH7wGSxoSXApViyZ7sYnSbfFnwArQYQLSX3Ywm/PQJaXApFBXN8UU8ljt4hsql5+A1iRPRvyPxLe5MDsAwAjfn3YbEu9Uvfq/sJ+yRyEs8PJuDxALj0O10R+JuWOwYQty6RKmQu+5wcGNc9p2m7bVWMWMr+ew7+LujXOiP8585p3l+oqTinufn+joJAzMA3GuZPpTTctex3av1U8+KrixWJ7HGZWQm4xHCBmAZwXDO0GQFwROHzPqYoxSuNtaSsXcRaUgUAXRMw1x/Tvy2N9IxONgP9BgB/TLf7Km2APJKS4YSEGM3GisT2em2v1vZKbR80NKaEorPKhI8m8GYHXwyT7PTNteeVhXFakiNakiqakhPxmnzCLCAKtZ9XTqrFhMZuWov2asDfL+bbwjXuklbx3gRjoxwSUm1oXCwqBEfsy+joEhIqC40rpZp9RfOTWw7JmIA33G569hnNnU3gSsk3zNWWMM1gonFpSUtXKADE+P+FwZbR/j3U7ab0GY1DLAAkBQBjEcDbGvuI2AS/W4xWZDqbkRN9HbouEysLdxNazOv+fkGTUxq13VFAyo3svwl2vzrXeDU6uUON97Pf1Ptjork7dIla3fK7YzFBb7ucvaLWOcdpNJwLD+flqVYOSov1hxYZPlknYnlBQv+NyqA5zMBhwDalp2Mt4DvO/KDdD2kOqaF+ID5nBbfQfVwRD38g4qeNBjDkLz0nBwr4h0t+lSVKTloTMO1M8F1caHf7Ovscn4F+A4CAOxxzfllbK3yydX/sw/sWQMjfrtB+9vtduU7VRca1EM1kXyYQ+By9wOEUAFV9VB2fyz5bL+vbxKTqq98vqpzcNS2UVQTrmcweKt3T3dGmlDmCQR7KWzBEmDZCgSAAwFAkMH0Y00aYUXIcpmhAYMt/j/2WFtT39QDoJE2KG/VLe7/0kRvdRhDIafEBdMEujNfVAJoAEGStFhk/v0utHbc+XRe0JgIwRCSOTQWAAJ43BNimtECEiGMTucxXPEoFkDlFY4YIvyj8o1JENHod/z9j/v0bvXOPTnVXOEZC9SE9LwM6qxO0q/6vZ9+qeX2VrrHQiUs06hM+sZV9m4DQj+i3fIK+FRf6Rp21qTHvMwF0++Izy9mPt6nXcjdNqygZYRkzcLWwPCehejkC7uxIcJeJWUsMzCNBflFw5Vzet1Uvg4Htk6TQKZcZ3DkQ7EIEaKOusE8+2OO47wPo104/TcKyfz/99L3fACAmX0vP1ocXBDZ73G1r93Xk7072/+g1+qWO9N200wmZlqayp0oK+yoBpTBIatqn254kBBNa8JoEgxgzMJJtNWhcEHavSgczq5yBy5EavSz8YefmOACcF9NaTDg3c/8p00bMt6WOZAsARMMGnRamZv358kHpPwMAWxpAACCmb5eQ4LlfnwCACxEAiKbgSiICmPJvCxIIQoSZloXcaFWLLbYF9SkBGKI6AHBJfljzNXz6cG3Ab6uJ+ZeyigCDTtCe3olrMnFeyX5M4O+OTlyiUZ+E4mzJLYU4zwnVHR4RENyQu/ZhzRKRjS7WsDHPDZWVdpWlYDX7hYZn12s+k3264M4fi+uVfY9jPdQ1A+NnOKRnHFeFGI3LtErifFeYc9ua5PllsJYSlu/K/QDjwrJ154hpCUkY7edOxb+XMbrjJPuCb1Vxx36ahGV3XP32ud8AoJ1fTMAv1fZJ3lYvbM/20qa/E9lr9LC+WVLuywsPcZu6b9zNZPZEvWafIUmMephlf7jGHXonLDSsD8wCOZWbgd/t9VT+Wi8QhBxX/1A+WXsMACwztQktuxsyiIQIBjQpqEHAQYwAKg9E/GnQcIWcm8O+LcVk0CYS2ABAagOfBr+WTS0bMFhL+ABigrGEz6OfAibkAwhD39NbgdbTJ45hVsdpPEaY5UPVP2hvgkMul07d0ZERPW0xWlbKHwSIGBGFzvNKPesqui5/rSbm38P81+1M8Me+vLOuZl+jJf+HBQ0+pGroHT/+oGDVRvYUzeOn6df/ds0prhKfpif8J/R0fYk0T/+742OougDA9HL2QxrPb+pZfFNV88bH6X9arjmrDSxELTNwtbBMDfUbiRrqzPmYntAtcacQxXilAYD3h06RcPFI8cF/DB6zOy9LaLsWEagNrywHmcBffJ9p34XGTf9i8gee+QDaOT/u334FgE/VDX+8tqd529OPOxEnOe9cniTj5yXp3Svp5us7Arqajm86+2ItvB+lV/+bNZ6i31nTvvz24zIt7IkNHAgY1KWLSo3AgllF+GeZgudx7aVJcRAGgBQ63xfL8++5JWWGGWuVg3MqFQx1Lgl28KmOBtD1bTG+N+0H7P64qr5jhobBWqKiCczXkgkCaZkwmWvXZ9C2g6GT5DlE9AH4Y5GK0b0y1+KfGaJVzfd0QMuF9nc2ojU8EBg1pq940MmiNELz2ceFLlnYhzabAJAm0b9U/sCFInXPhYvU/HKg5faB7Hm5Rmuoor5xzS5P1OymwOh69ng9MV+l5+bLCn1dUCDBhGL4tpSTby/7tcKxXnw5Jz0aGlOSZG9mv932ISxI43ldCb/rkhGWP1Lj+dvKU4y15M+T7eCVMTNwzFqSAoAEzFFphAT6MboiN5yUsHxDz4dPIV5prCOtNcbllcZacuYD6M9j0+/9CgDfpRsNO2Q1nYE2tefFHc1+QLqkDxUj+UItiZ3xwWsy3Fkx4AtachblEO4Doib9hNrOZ58n6fOtoUPBfSbP1V/UGsesgOtyIneglWpj94S2bzOg7ZuQlm898thUBYJgcGHRxzzqE8cO9M83cVMNZNnTKvr+Ln50m993L76TmR8Ga4l5dkELvnluGhjau4DRnpfy/8P8m/L/w4SEfxKO5yEisTcJvn0CABLhGCLcBuaU+DtFxv/vE1JN8mMs0FMKFOG9r0uLqqSzkH1+3ea12pH6CZ/fBaU2oUJQr+lQWtsNlUMbkzVkUO4oITovWD8pi8mu/O9283i9UKvu7Tuvp+yKNJPL2Y8KmP5xWy88Im3sg+IZu4JEdeli9hhxjWqf6XHN46aUDikrDxVBYvkAZ+T9HKqcRNqltYgPIPdwp/pEOIsR1hL8e0Nk3GVikcBFC0yZV7bypsKfTkvKrNB99su+fgWAL9IEE+kbdhDq0eyzSI6o7uSgnJ3xdbkpE1evaS7Pfr8r5vYjbR3KfPY43d2vi/nU0y6ackePEgCLMw47wIs1qoJMiGVvRpgqGqClgCOyKXNU1tRx3WkZg9Ykq/sgzo6Jv6bWZTiqjySnfsCHn+ePPggMWXOeCyPlthyjAZN+DWHO6ya5KWAYC2Oy5H9nPyAXsOvTjdz/rwzSaGf8/8JAjeNXBdYuJ0y1x9EAshDiGB8jnuVVmYinK0Ai51/Pfk/Pw2NiXZX2b2tBJB6+nZU/CK9A8zcvnjOax72VLtvVHfvZH+mdfK6Eh5+TluhfJ699TvB5QnF6BwJc29l31+YjyU5PcBAnFcrkLWbfJ+3WX52gp/KpZE5YbGBipoIS+QCreCvrDTXUyZwQoxlphFciYKyVNqtoFYFXwwdj1ycqPwUA8Q9eCwjgjJGE8H7KF7O/LCyb2unLR7dW9Jee1NN/ZgI+mpxjfuhXAPhbul/MwO/Vhs2Mjae49/YzDWI4e4aA4PMFAp+oQZXV3WrSNYJJLEgDuCefuVUx5nbRBbFv6l6S0LYusWCycFYR9VeXKupimlqXYTMwpo1laYJ8AgDGIoGZJ7LgL4m1xShl2iASOFTr0tT33TnqclTz5ta+dIuc04hcgL1mbG4S6A2xchivJcCrnwMQABgOALlPICkcAYyP0KWE/JYy/zIWohQB7T6ta/+khIMQURt1XrksY7QlvcWYzq3S6rEwrqhsYZPavzeyX9FcPCl26cb78a58IPtKzcGXaMyf3vj8dp+wJ+3mttKrTCjI5UIisMe9LubXMYGuB8Upt1SpI6XJcs/r1GesJVeklcRthoCadtGs/LGXpdFLCZfutQBg45rDjQpfO86p8pm+IJGD5xn3hxABe9f13PtEENWWnvIQXRR/JUArRvDScT2ZZZ++TCO5oHlgJopLtTEBF30V0QCuORYb1wQ8KpFnWyM8o5PNQL8CQByL7IYXORvf+XsqaFC1HceUiHVDboqHNbRenRw0fk+XFamMj8u6cpC1i5Bsr2thq0uz0gosq8RWTLK0/VwQtDyfa8JW7a7SXxbyWLHzmAYQn7FQoXPb+V2Vpo24bwuRrpg8ffLLHMEcITsH9rs97zREArsaQCKUYbyW1vQLosV0aUl3HgKAlIVCM+oT/oJs+BPF6H5p4kg5ESKzgBxoKRksHCY1EKbpUNUQztkReB3VohIjalGzoFbRpsDBuMzMLNR1iCjQNSVmns4+pU7zyjYApavyNR7PHqvf5vMq23e6wW72k7kpd1JaLjhNE4I3jWUv0a/2SPGn3rvODEqQI5CGgJr9QGqnJvdm254XP5tQVPl6Rd4+256/Rlj+XXdX8DP+qjeU9zFFc5rbWNYEwyvvLp1uav+WgSENecdGJQZuqNcYpYRlrAUr4g0uIQjveBo9Yy1pXcO1lvDcwEXP6GQz0K8AEGQQ2042I208GzPIePazeqyfreXuf7Wx5+ZdGWfnV2oh+jnJTdVauDpXoJTVpjR1NyPSpd8HoG5UPjGbEZOE236hgrGlTBvjWuRDPoBGAxhmalzb+AHGTdQzOeMq+qnYMV/MNYBlABhybjapEFrmCwALgAjCl67XuQABgNanjxQwVDCxZFLAFAGgMQFftE3yv7ZcnGHUhUNasEgN85DiTufbvp4ndAQ8LSHa0VIaqvO7Im07fk0h2pSWY0KQMkV1ASBa7IXs/0p1VThGFCjRoESFnpQAsjekaRuSsDKdfdFJuzvR+YxlO/teAaU/0Ny+QfcX9tesc5ERZSwYzL5AT96T9cuHNU91+mlHGwJpLgqUYl4/lNDQDlqQNahJMMis0t0u1YiUHtYTT0m4Q0HwGKWtJTF3mXBCfXsNeOV9CcXG5YpAkJCwDLB0fayNCbg1/64G0I6DZ/CMjj8D/QYA0Rs/SZs19/Ldbnbf8WejA2ci2cIct2RW2FcUYC8JWRsTx6I0kzuKdjwpGbMp5o231+7qosxVN2qkRUATs5iQbI1p47wYRpnxMa5BgYc9z0QwKNgQam8HPyHgiNnDrd5hj/EXMBPKY8UxIlrRjvlkNIBF0DglZbXrB2hKxJmINjSAvTYBu0EgIROwrwE0WsKZwq0vS4cSKwF3VeYjNAQxSmn/OMf4/5XNvPh9zso8FSK0xXMRjSLtAZzGBBz2WXT7XJI2by77N+6u5OcbCnhAW94OWlbakkxPN1V/eknM17bcXB7UWzqe/ZTejZaf6HHHNZw9U+/X1woE4jpTP2jiuNdLnTeiXKfz2TdJbHhu/mSk2tY5Ni6/uV0JKAcSXurQBWnHRySwbOpdqaJZ9b2ciBqeS1hLjLvM+0qXMKUz478B1pL7Iqm46OyK3sNrAT9sjsXcZUzQRwvwGR/qFn837jGt+eN4r/2luZ9+pn4DgI/UZL9R26w21BDuZvdp9+mi83qRJ2Qq3cl+UA/s63o6OIqh35H7ubxYY8GF8mQ0L6n9RgOz8lz2yVoyqrWhOOLjkJ+iWbWJmzY+VFCuHLABCNzT0hWjqqTQ5LgCwPgE6BzQv3317hLmDkykLvmmDSRbNxm06yPontetz7t6Um3al5AJ2PUBBAhAvimbyigw+hCRIuJyBKjRHs3CnYlgjRWBA7S5Pi1rwZlTFH6Iqvz/cKSnFKF/H35f21rEh3RnLNB1aF9vx2GusXxonebJNiQsxjeNUmZV40x2dMKD+B+aBM8XJWa9XGNp3zIyqDQ5YwrEQBN42Ab+dJJbpbzmdPaletr+i4BuOfq/ad+kAFpuoAS4KC1zHWG5ygw8pieGEoghbRk5M8md6RPuMrxnMZqXJWcxwF9t+2H9iuQAtfzB7uevAYBha4mfNQHOYvuwqbxsX1gpei0s27H069/2vbndmQGLWKz5F/2vv3VnJA2vcl5LFg7SAMAd5Z3qJVElgASoV6VFOND/J6FhyXrQbsCRONQv7s2D0pftJJgL5+G4PCJWsZUYH36AS9LshCjuB3hFwDLO2Or4AYYAIGMgH+CS17efyoB2AKiyBtAwYZJBY4LtJbFQWICBBtD1ASQptFsWbi3/juxVJAJiYgBwSc/KXADA2R4eEMgh4WyM+P3QUPi0rMCSmQgAJBISt4EYGfPvx8UOH+2/Lu01C3NdWlSuO1ImnZQ2VH5xU9tlpZpqJ+BqOi7q+W4qyG0g+7cCf9989Jw07SfVfkDa1XEJqfgEHiTSQaX6aNexSaXtIcjmWvaNeitYao5P89nnCjT9Wu0O5jTHi9mfVLY3QXN/k2w3JkF0S3cRouGcHxdBIF6Luwk+xDM4LmVCLK0W1yHiF0uATyZApHg90/6i2heFZWMdKba1gPA0+Ev799Zv3/sNANr5faE+YPrF5obDiN3KNjgdPC1EXvbx7Bc18D+TRPY9J2YoJ7mvIWnPFrLv0lL6POlwWmr14/RJbjNynNUl/KfqSrYpMzAmvXggyIfq4YiZNu6PDpUcV/dFQCUnobl6IKAB5FjItEHUmx/xVgaAxfxWvQSA/iJnAGDLt4t7oU6GJRg2Zm6fYilg0AqQViYUqEEfaGdZXFIBIqEUMIx7X+cSV+qT8Y9CpCgGjbjt6iaAXlTaknlphuoQY1pSlYnZ7LPqNI+22ZYv2Iry1F3JXqm5ObmpNXqhigP45pHeakim2mGZRjtJF5QLdFwazy1FOvfaf3ome5aeeJK9v+REtzwosYdUQNs1NZsIyojBux4o8gdBfXSebhLox2g+wSvnZNVAePKJ9yVW0o22hlfGfaZjvBLh0phvdwqXhI9QUtIln1e6Wj/zOX7Pbj9nn8Mz0K8A8Pt1O1+h7YI27sFufD/VhHfamAq14zuzLR8Tf8Ht5uBHVUpoVuYN0kmcpG7wzFGag3oS8kL27wQA/6jyVo0f4F9G29mE0KEGJsnpB0qHqiKBkWq3pSOM+QEivVLQPPS7zeeBIPeVrumnesEHcDWXXUxTpFwb+OEyuFJHXdhhzL+t4Au3wocN7HCHEQoA4Tj1Pse0gPlUlf6FQvN3VOThw09zTPo8l7Y0n2NaYEO0LPPubEL7R5Tufm6mDZ9v+9zT8mRg5JTdlfy7JR+pYQWlDATmIXmic3BPbhA3lOQZ393z0sr0im5qYcY3b0TRx0Mq8dYNuiA/UeM//U36fer7GXdibHOqsXyoX2Il+39P1L0Rlt9Su4+6vHJePotLqkwTI4TlpUhamVhN4ClpDVPlMesIyzFrCf7Bi1p5XAIA+tHBxl+6pddxNYKnwVrijr8fP/crAETj96p+nHDGjIZjVIEYlJDbUrWOXua/IpXEePYfxd5fGAQ1deaYpABj0pxt1kygOqSF2iy6a8nuJ2TOW5cWLwS2zDwyg3MCG4ulfihXdKhlwz+3yrmZjqr8ACcFJyhl5tNCriUoaxf9QBAD+Fr37jI1U+8y7qPoX7Pd3zHwwVghf+4w/8KQXQppAHf1i5D/MEQsCPhRxuh+aV/v0LMUI4A5GgRrorbtVqTBwOwfIha+VADIioDaTOKatk+j/aufysVU/ni8Pb3x3wMtkFcVFEFakoGAlrVxh8c8gVym+OSNKmEzPnrdpPMCChNy+97Jvl/a4Td389KFa/G8XZIGcEvlLDeUAP+4NC3rx2r2h3q3jO9sVT/zqp98Q1HWVWT8AOPCMvWv4/7SaADfX7pEFa+cl3CzpGcjRqbqR7lf2mMtWZStxSWTM7UV9MExXwPo8srTEDDnjr8fP/crAHyRJvu12uD4iOPupq+nn2Aoo9l3SIX5KC25zxJDKAYPdPMOSCcxkL+QKFaPRwt5MMiv1j55Xv4tSxXBIMzRhJgM5Y5ilJJsKf226ZlPJrVv3dvn932nfAurzMAhyZYkz9u6ok8GAN442m18uFraUpepcc8+8Do6sQsf3ByAaAMx1VgiytkHgCtanrg/l6iLHPP/Y94uJQJAqvz/NnS9Se96XBtz/6wc00O0JC0aJrAYLUpwmc8+Nnb4aD8L8YIW5DqEgLOe/bnm65PrNC+1wS0DzfxFga6hmomVS520Yceh/DFNabcfEvirZ/puw2ULXZwXfMd/2uQb/PnCsW5+wXpzJfsfEoNepff8nce6NM4NE3rW1uUGVIdG9LYc6Bc4EPRMEQLMSiIp/4AEMgpZsvk0Jd6/GuCxVQDQ+AHOaHRlAZxrDOjJBejaFFfudRGWbwT8xgc0P24gXVgDuJp3haDa64A595768XO/AkDm+qna3qsNbSDqGPtXH/uHMKkMZv9esOEZell6p/mZk5Mz6WVXlbfwODShtC2bSkVwU2y6DrGQ1pNsP0bs5S+iXRo/wH8MHjeBIPcUjpFrCoCVAlkAwPsTKQ7wbQkBQC40Ili/4zHrGS3jvnMzjM6mMBjWOWjNXEqNz23X7s8wVKsB3MwDQFrmTrSeaD9d2tJS5pt6CQDBHB6iVf3q04JRISL/HwC4yv9vSjoxn/BhwpQVog39muNacGIEAJyTCS1F+BFiAh6N3Jd/7pp8BacUzIDJuCnhzfiALAMz8nIZqZGYumn/ddsfKsfnpqJgx5XoeaCH42C85BicUADdvjIO9DKIDjP8FQXxkYtxL1GCLTXHC9njdX59YZnMCaQeShFl3Qiw282XwXDLafGtVQlgPuHTC1Dz3V6qACD9oK1PCcskyMcf2Cf4g68BpA2J4xEqLZU1gGRMMNYT3GV66S9tx9jPf/sVAL5Ek/48bYyfDS5r/+pjf9Fw9mVa9J6mB/tpehF749TKwntJZpYNpSmgYkhT4vwZmTdWauT4o+8xKW+3xRjQlKQIzQwO+jFKmzbCqWDIYr99i4mE+iUf4KbuJGamuSSggS9biIhuRQPm0qzH1DgGY8OkCjF3LoVMIe7xTn42JmDja+ZHABO57OYAtAuGP36jASwDLjL9j+iX99vb+0H7l6r/SztTAq4cAbwmyDQZAHm7OmNIR2LXpHoI4G5Iv0iKlqXxoZJNXSI1ElrxpgTwvybf4LHsP2h5++ymp7et/YG0l5tisePZz4u5xk3ybbtgjY6otM54CArZUWWjXtGAOKXJovA1GksLrNQdz5jy9u0oKv3QExRj5+MHuFjDZ3pe1Uaq/QD/KXiZSd3Rhhexa3wArwbb251GWA4L4LSh3GMoHyB8YMcTemlv/ABbc+r7T7vWEqMBLFtc6OeM6s0AoKkfCY1f3/oAhiac+sHD2ZfrJexdJnxTLeRHxUReoZfzr0PDTO4j3cVi9tZkG3uQBXlaDGulwm9wTBLkpmTMmEZsSMvkvhhpCKzNyCQYim6rI9mm6gKzDO3m12yZce19kQrGB4C+FEtbY9pYsqdJenGrgWDa6A1jc30AAYAkX7WECdjVAJqUMEWNIG1x7g4lgb4qM22q/q/x/4ubauk7lAIGsxbPUyiyGPNv2v/v77XofARdJwlt9bwW4jpEsl8q9Y4mUtnE+iHR8wWJUkSe9ooOlHpkS5U5JuRlQyDGaSL0w2gkD6Wh72UmBZNF4Vv1K3+FhNii9r5qvnhWZ2T1WZE/YR2aUFDUhrSNVb7ic+KnaLNjNKd+4oEgZV5p/ahj/bGffIA3IsIwx7GWhAAgx7B8lK0lRQ2gL7iNi3NaDSDWFt9yQr9nVH8G+hUAvki3+EptD61/q6e/5ZCqBWASNiCwJQV1c+SkKSDdxHVpIfYTDr6hMY3o5zgQW2OrQ0ay/cNkUxgAwSAbCSYzJT/B9YCZYVJwY0Psx6cp3SEaoxRVSbaYMTFn+hQKBMHE4qeC8QNJAFo2Etg4N/dGE2xMwBP5bRkNYEsz5vsAErGHdtMnmDISvk8sBKkAEOP/9+H+aYXva9JS+CZgfkuK2oeoCgAa/7+PCZ16tA/hYl2AY6oGUOSkZWnQ5xRc1ZTWFeywpyCY+exbmp7atvb72e8K/H2T3rnXC1A/pG39trMjzOpj4lEUxdvOvjUqHLbzmqG+RuXHPK1chQTqVIEz//wmOQHhgVPSGq4mqn3Q/4z8XFcTKaymxEfXAsEe5tywtaQqcT4uNeQM3NKVQxQz9dLW8MpiIIjxly7mAsQiYoGe4Y0mbZkPDkPXP9uXnoF+BYCv121hAsYHkHyAbIRV8bevaVARuaPZtwm4PEU3lFa/d+pGB6V1W8j+m6TJ72l8iTmNf6lmtns0gKvSNMa0e/bimDbSZuCwZItOiM13Qp4WDMGUmKI7KgJBjGnj7lIXIQ0gjXxpd0rs2i0d50q2vTRtoAEc1z8IQIrJxRI5/LgPS8tagPHZcYkgmBD4o01KA0iKGaK2qSCQot28fwNQbTuTAPpD7NfCXwMAH1nY535ZUqJhEummaF2L6qQWV56lOrSU/U/1+bg6TY/aADFXsldLZOldoud95Szc1ntPwAXRt6eZ+C1GNVeQKUlX1sZ3Y/yTSo0zkFsp3tbocsM656bgPpVi6pARlv8g2ZQAk5QfIGANX8EDzZhPJhXMPf5uvf2XxaeqeOWj5PQSNgObnKHndM2yq0+IV/o+gAzIDQSxPtx2oFVrh2139jc8A/U4WvjcXu7F7mS3OX1m4zt/+54Gs8doGfxegcCnikkU/cm6dXPkCKQQ+kHD61PuiOS3dei82NWotAxb0gylqDrHVTzFwbScjddkQnaJNC83KpKxTilwg2jhGIOJ+QGagI5iglOu7TM2owFsaUoBWlYD2EsACIDDuRpyg0BC84CzNgEuLlHlA8YeonU9GdRMDtF1/R6XKqJd8dsMJXqm5F8oAIQx4xQ/krOG8lWt/x8Jd1OE/1Xd5M+YfnFJHvLmJdU/x9ZUL3xSPsDAml7QnipU7GQvuwX+iqC+F+Opc000QKSmwZlkK/sa/dr1UqvU6btJm1klxV7Nfq7JKXlbwyt/o9Z5MwrCWU4Ew9lOCGZK+QFSDYe8mD6NS5DblJjt00Juwn2Pv7vw/Q4JRzEASMN5gd3FgIXGAMCiJQb+iaDpkm8t4ZjlRySVd6OG3fPOPlfPQL8BQGv2Rd8c27jrh2mjbd/SQPYpWohfJhD4NLG1chRVN25sSulhVuV03YTIdn8+V9kXQVesDxZW8qulqMoPcEZ+SisRQIcf4Ipnyh7RUotEmqoJzOJCupG1SMoYAwDfHxx2OBK46NviSrV0ggYQwAX1EgDimD2if5DxATQaQHx18H10yQDAIljA/y8EAEkMzfkxsw0LyJWKBNAfkLbuIQFtHQCQ39mnbQFU6qDGqG7+vyYBIIsq1zaffU7sksH9xsT8Bj0BTwke7/RO8uvtyu+XpMuUrOwnMiDw2zXuO/SEUrO3+yCQKiHM265qWDehOVWIqSssU3t6WLx1u0Igrw4ECQvLzCMCOVp4l3jfPpDwK6TtRfFfBLgYXY4EzYWSQdMHWj7XamOsJS1h2fX9g1eeRQLHZr56f78BQAI/3q4NsenZ2j5DGysUG5/Zh/rpt7T9uLa+pgGF/4/JzEEerpsR341O3uCEzLkkPkWP0oRYADGD1aF5pcqoqncJczL5AD8Q7BLmiI9dKMeVqQhSBmp3yafmvkTeLC6UkmxTgSBEAvs1gX0NIH4t+868TghuWudmP/IteNMd2olkbU2dQGSbB9AEgBTBwYag9aS0Ly4ZAFg2H17X8wtojpGpAPKo2OF8//vlLhACgGguQlVAMP/OJkAlmhK0yynaFYhEoMG0Vofw/5tVBG8T2lLkPOleelHpY09+h7tilYA/NGn9SqPZizV/Dxe/ep6e4MOu38aM0uWsZj/d6LoDmm+2nYR/s9vhvJQCVcLyjFxXVhJ+gLwPvBchMlWSioI7eVPx73MBmX8uKa0AjzGB+mIEAOIqYn373D79ADmsBm7ifd9dZlsjPKPjzUC/AcB36TYfqe2l2j5L209oQzQgKpjPeF5/v7YP1/aX2vqeBrJP1GvywwIHz9BLeE9X78dE3H22Xr63NrquKQ33O7XOGcwXHZLBGO1X7CRj2vir2GH18lCxqbIpeUbMJ5Tl/iFa+AEUKaIk2QMR3xbOIxBkTSzZp3npsvwkpwBAPxcg51lThsvUcHTe1L/TRDBgGLMlO24LFu1+TMChCGBTAi4MAEkns6OnbCx/FmxPxb+0oQYw0dkuUasUg2tIs7icRwDDLsIEAKzy/yNZOUnL69C2TGtD8pm6oN+vCa1mP6M7f1aTU9rSdk+gb1eghYAP9N39TqPKZXpBgt1W9pyug8ARCbK7Al6H+VJUfybn5Su6KPN7HapjLTF+gJhRw/x0QsIpeTFDZKwlZWH5iky8KT5IX1e0LBPEFSITCBK2Yvm+0ZxveGXLNxINoE2ZxXEC5qywfFYPmBk5PvUbALR3ihbwadrg7tzDhVufn66/HLutaCD7OC2O/0OQ4D91HQROqfD7WvaLjeaTGD2cnLcikqbf2Wz2SWKbf+bvLnw3APDdhX3uF2q9hnxbxgQZtgNM+aL8zfADtEDG7ct+npO+adEzH9tj/L0os+P1ACgHAIY0gKseWHQ1fWgArSnD3e9er9OfD2QYN07bmT4d6MXitTJkUr60NIButLBtw19jQi4HcjBPMQ0g5aSY6xQtZncLQj+sBPSoYDDtgULbj6kBHAaAphThpgBbWutlyr99qu0y+XdRWm8W9Ca0nz8/+xrHhzU57cRtDfj7GYG/12pO62k3T3zRLnRAFoULEu66DQIRQKbks70mMN2EprNPl2Dz+0k+ZPsbFsc50BUOPR85e9z+nc0+ShwvzCsZJ4l09gShfAq5y9AGYRn3ixThvvFAhN+jIYTPHuqfT3MSmKp45UQOANHxGHIzJhh3mTMNoJ2bpn/7FQA2vc++bz+ghMgGBD6zqyCQGqQDAjQ7FQzAn+C53Az86/7u4Hc0LFVm4KpUMLGE0DA849uyV7g2OeNIdEpeuRgBgIhKjSWNjgWCoAHzmRrOyn4knGFsKLDx+yOVgklvQGXlXuQBdHMAMhY3B6BfBSRU0QNzDrWMQ0T7KUG4ENVJ/xIz/+LfiZnfJxYcFjmSQIdoVYvVtDQbKcKlYEfPx1igf/88rkeN1+mauQLt+fjY4mvbTSqCvzJY7+ZYOnGtEeUw7AUIJCJ4I3uTnoT6fojUUR+W9WI7YbZ152hWwXkrGYawOCEsLyb4NcLySiAQJOYuYzSA/xC/oI6gAbwa0QBy4pyC8Za8YDz2x4RltxoIbihuoIcbMNcrYZmx3w50BgD76Fc0IPBHuq4JnM79W36m0UxNK7jDFD2vTs9gEp3+c5JxAuSoi7kVSUlgyhyVTcAMmkjg1QDzqS/Zhk0baACvBXwzYzWBAZQuCMSkan1bOGa1kSRraLKINPphEo2JAIahQkQkuwBwTUvGpKCWpVAACKA3ZP4FGFLejd8wRJiXMLenCH/Nu7J/VWqyGgGAPCfj0i7EiPQvVf5/pCia1mJahyiDOKZ7OK/7rEsYvreVYHo8+8y6p5y43e0O/uwEtUDgs/UuHdjdHf17Xr/kiFx28OlsQsYMXM9nei73A/yTZPezeV3geEAKwvJSAKyNih9tBawl1PQd1r1tBo7ZgXAcn+aYr+Cl3FpSNi+byklFIdz4S5ddayx/LGsAT5e7jJ2Tfvh7BgD74VdyxmhA4I/mIPCmFr9u0IhKYO1JY3KYu1vWu+J5MY0xMaLNhCRqewIYTMp5mWS7KZqTaYOFO0QXBDHwqAuVlotJtg9RfycxbYxJdxPTDqLx89MZUEZtVXdgCUDl+raw3zI5+9e27cZfNIBoHyETAdzSnpmADxcALgoczRWGZQBgGXTdEEi+mNCixcq72c7J/UfBvHAKmLAG0Jh/42bVOvn/0ErPyberDi1lv662zaJ/N+T7Na5zzknH3g0yAR/W7Hv7af78OTQg8GMEaroXGDKdfbGMtD/nDyX5fUoWkDX5mtZ550kIvSZhI9WW1Mzw1FC+PwaSspbAR/Gr9clEA4d5r227IH/rWFWQWCBISANoAB5JPlpkNH3GbO36S/cyY0JrdP376QwA9uFvN6DEyDYwpBspYmAmpKhYl9N4EzJJod9W6xQW2qqC5zjsL0cAIBch0/1qwCdvWuBjJZBKZ1xLNsEHfuoDd8CX5St4LZHigMCFTV3VJ3xblr0qJKZ6SEuy9QEgcvaepGgIE7Wttev33anvJgeg0QDi44epxRKaS0CtJfwZkdRdWpTWLaQBvC6YzQIQog396uPqKaYd5Jz7lF7jzkgVDjQWaC58WpaGA1NXiBATdnXdEW/8fttVxZHNyP+2iuhvXT6sU4rab0Jr2S/pnGc0OeXYbU2ql5/Ub/pLmuvbH/zZiTIgkMCQr8zFQ7u/U3+HpF2jNNx+gN/ErkngBvWBNyuC0jjf5E69S1e4J9Zdvn9G78tKJMsBmvHNqCWlnDeVDu+SsHxvxK/QDgQ/wJgZeEE93AjMCdYSeI1LNrDMBbkmF6DhswDElrvMuObiTAPozl+Tz/0OAFmh/K3J/fdt2wGljRhTQXSig7uRLBr/lvXcv6XapGsndUrBHevZO2sx3llpGcm3lqIpMde1gO+KPSft2xLWll7OmVY4LQL9UgoJX7AYSIybNsp+gDMyOrq+LT4ARLK1uQBNLsFte2td+RvTALqM2A4EADit+3FpOWICJgIYc3mIrur3vKzfNUUsPKH0LyYCeDAIHpez9wi8hQEgZQUnKqpI7gi8E6GOF2gVbShP2rgWyCaavF0tzgMCoANya+g07SmKf1dpUQ34MwC/09c8Tf2PZM8XcHqEQMP/XYsXnXTs08cInDNJoesLy4vSGKYIYXkpAtgQtmKBIDFheSZ3o3kgOX+8x7FIYNJe8b76ri2MZUD/XNcY7su40bSAIbwSKwSEn/GuRHdoTP/gW2d0vBnoVwD4At0uIUWEBvFUuH/19YODTIqYl+vFIE/g1Y7eNDnKhsVUtmUWq0u82iyMGzUy8phqDOckOYfTF3BN/OTocS+gceN4PBJ4TkyipXmjrSVjX7IoqQAAQABJREFU2ni3/Rr8e1HRp9ezuyPH8AMsS+Mmuq34m6Axc03ABIFYpkbnrm9LL5ybYaSYVCDXB9D4BhZTm/gaQc4xZuOW1pB9EMBwVm7iISJysCoB9HWBuQXlePOJCi/4d/oEYN2T6DGcy4b+0UwLI+XfPqp8wNlD+pf65t+3qe1/dM6u/kjliKnsS6obnrDFvhJTmyTPr9NS2zLpn7Dbvjt9VPWNSRa9rSjhkEDTzhsaVzWkrewdus5+7W6n5Du4nv15CSCFOpiTprnKWjIrjeJyonbwjADxit4rn2akqcOv1ieA2ryEpsUAr7NtqZ60Jm4Ym99pHQ/VT58NWEsQll1e6QrLjMVeIxRcZ8dz9rd6BvoVAL5Ut/YV2i5o4x7cv/r6wUMmWfRLboHAMMhp12wcx7+liRl4VkywKh3MrAIBYoyNXIArAaAGw8C3JaTFo+bvAxUReCnJFtPmjQDDxBRKUmSXjA/gjaNdfnSbCwB7kd6AhKpuEMjYLcCAn+KEoJYlwB9g3CWcvwleYa5dYj8mHY6FCGANwI4RdUipyIJJ3CfM+qEUMFUVQNCMkCojRXUBIMktNlSia1LRmXXpps7YFQgdrelfWLdfv92+krhvq5rQeAb4KwNzv/3t/n0k+1bNw7Tm5EVHAKIT94x+bSx7jISo36rdvRGWH50/S1UnDUscOlDLQz1FMSK90YHe51ByfM6ZFQAMpc0y/tJlAMg5BGGlfKZ59ycE3DYiwrZJm/V+uipQKBUM1gXXWuJmTOBkrtVtF5nCoG+TL2Wu2h83htbvVf0x1M6PkrJxo9m3i+E8XYyt7I/WrhEMS6o8kIR3IMhTl1gY0QD6qv/Q+VQFqZJs58SEliKSLeY6FmSqgvg0KUC2FkiAOqBziHLDFzBGAEBMlSGaEqMKJYM2JotW7irOBURtBH4fK82aBNBmHARjdNu3BQBoNYD45TAeyA8AMUmhiwEgK9KR+nWBOTeWGJpj1tmc+Y/RB/Rbh6J/aU8OwFAKGBa2mPmX8zYVlEJaoRg1Sf8C+JuQTy4iRl1az35VgPHx+SJW95ym7Q5UXnE7+y6N7XWCzq3gnab93E7tAQ0j2Xfmt7STfUdHb21KOVub5k9tUkd9RmnBVipqA0/JBSLmMsP7EdIAjomfbemtDRHvYVX1pMvqN8YrCQSLCctLngULAOjmTaXikBswV7SQtDSCoXGf7YvPQL8CwBfpll6r7aHaPih9AP2fdDD792JuL9BiDQhs+U747U76nWSn6w2SnbIwTiiVBgtlFZEOZl0mQQuIQu2Nc/Pfhw7l+yYFF9YDzsYABQBDiO4UsL03AippPylmhFQbGheLCgDGj/hF68XmSqnWudkdA+WQqLMLuRrAXuQCNKZeEyCA5o4ErhCMF0BraUVzgYnGJRg4krxPJgAk7P9Xpf2jL/z/cEAPEaaqkAaQhS0WALKjJWhYY+d3i9G6gk6ItqxD1HKdzYsS1Wlt2hBMNdnBur8H8qXdkskTn7/z3u9Uf5Rtbrn7mwpx733CXn73URWLuimQs50XjWrzfd7qbjD3ecWl5X21LzApv274ZB1huU7QXMpaMhmpCML8GL5VTp1DDXVSvVjBLXRjqYogC5FUMLPyg60GgMWMCS6vHBSfcvMEhsZ1ti88A/0KALmbp2p7r7be+wDu/j7j6TkNyg9pWJbxDUmfD4q9dYImsi9Q/2+pxaTs9WflE7OUl2+2e8J/YTzjwvSbAd8Ue8aAAJMJyiinKqCN8W0pa+sACiQNDhGSbQoAwhIxbaxHTBtEuC0GwOWUIJHv8+KXPnJ9WzC54nsHGQm3uwsmjtUj+ucTWksXAJoAkKIGcFkAEF8en6gBDOMPkQkA+bDQoXwf4BngTcLuEFEDeDwAcEwAyCNCp+g5fLd+lTCgtCfgYI+fVRUZ8+9fam4+vqrp0XESqg/oebmg2eoEHSiSdEuJkCdUved84PfoxDWTfT54M8vWvllq5JdJHfw4eW5fTzbvxkHe57Hsh/R0/ZOe+Fd07JJoAVcbVFFCWB6vKSxPyx97NZERgZsyabPC/s1ci+jjg4AZeSq3lhTdV+wkXalwmUn5SxPkZqN3bX/8RdvnW1Fwl0HQtOTXTncBoLGWdJdX2nH1+99+BYAv0cQ/TxvjZ8P+Yv/qY5dp8/uzbPs1Xb5o+HJD2ROkj/pCAYkvFkgLg6TwmfX2nhfrHFFqjO2KKDS3NyPZ1jMDGwfn/+2eXvo8owoOVHIIkYkELjs3AwBDyaDpY14+aIsVkjqmjWsRM/CCtItounwKOTf7pg3XLAxTsykResHU0HACwkNl4FwfQAAgpm+XYhpATD4A5BCRMoJ5jZEt/xY6jpnfaiv84zuCeaNaQEKE/ygO8imi0sJMDVCHawPa7Sbm37XsNVrwnpm6/LGPHeqd2JIAOJ79gn7F8Jwfu/PjnPig+M/Kl8hhS+x57jflA/Edigj6XNn+ywLacbo/yTk852PZj+lZ/1NBoJ86SVfRc0nwvZ39nt6q/Wgb/4AxA/+Wv7v0HfA2pGecaPUYjeZBL0TuhjM3zIjvrQZ8plO80gjLfxe7ZG4N4WBMS2gsHsWoXZME/2ZhnAjKvlXFvWiRV5IK5gwAuvNT93O/AkCcq15V9yY73m729QKAb5CU+1KZOcIvW8fH4FxgWKlhBqV12+xQUXRTH7g+4DWS7UdLm/NXzijDH08aCDKjaNGVQN6+CWmRNgXTQkSAwYRgChFsMUr5tgAAw74toVyAxWTQbiSwCfww5ns+d9sHENdqqFwGrmgCJjoPIOtSqDQcCw9MHGbuE8fQqKJZjRFaWczzIVqXxpHf1Kdd/Yqx6F/arqrqyLS0GDEiCp3nlWjzKlqSk38T8+9NzeyuNHQjHQj+uClN62b2LI36pzV6PGN6TDfli7z0+Vk29GnyofhuPVp6toYfI3WPwNby07Js73/3eIA87fzKP6Vn9C3axMPbTCYY5NP1u7y9ds9GWH6X3o6blefM5UFz8XlEQBrVO7Id4WuGV76ndB0DAMPuMibX3z+WznF3oAW8ERGoY8KyywdtX8YU3ZoHtIBUFYJ8DeBZKhg7a83+9isAfJFu85XaTgGn0yjOjSmsSgzk8H0yd3yNQOBhs1+hA62HBf4GpJ3Yyr66IFm141LDMpkeyOR5qDiyujSXPVatpQWoIBPhRnLmeIRbKsUB+a32dde+1AvIY1+MsVaZgRf0qMVSwSwIpiwGSs3h24Jp1CVfA2icm03gDpKw9RnstgbQatQYq0kBYwJA+A6Ig/laMkEgLZ9AZtX1GbTtNgXFYewhIgE0vpUsUjFKJYBGm8tC5RP+fyxsITKVEYB38aCTZaXiICdlFfEcbUhT2MT8u6F8fBPZ5yXvueq6oeOkgNqQVpFa4RcS4DZ0bkf2HUobvvQftUp/tTYMNQ4Nyvw+92bxya/Nsp23Ogd68/GcxIUJaUzRAu6rmku7iUTfa7m7er2ejbD8r/QO/nXlCXPKs7qUxQEgHRg/wLAZ2ASCvLd0HVM6MwwACZojo8KOnrgYGWG5DCxpb4Tl95dONdaSIq+EN7ppslxriVs73QjLZxrA0qTW2NGvABBxDc7C0wvaYkNU6B3ywswx9SMyRj9EZg9JuA8aSUVj6hmZBKgLkplenEOfdg5kMnuSNDhvrN3lpBZVk+fqwcpzqL9KHdYYURMYqdYHebb9mNKGbAW0feNiP5uSTUOEpum+RCAItWy5np+wlL4IAgEA+eDSAMBrhcv5ANBIvgYAug3xAeymVGtSwBhNHWZomwLGjskFaoBUNw3MttqPCgr5hFkchh8i/P8uKRVFjDAh7etXHpWxOUQE9IQB4Hu1PwwA0f7NVACkZS2oLKxVRInDcQlCaJHqkgn+eHLd5rXa3ZSIQTL4seylGsnH1jqno432/1bg7/HihT+UZSOfF74UPHJOSY83f1jq5p8It+niXjwCCZjZzl6uZ+7323rlwexh4gsETtxfu99ZCctol6toVJHsW9L8+nzHPS8VCGIqJ73PbZ5/npRjBhr2GMEr71egVIwMAPzn4OGYBnBO3GDJ01TiZlKMBCYQxPBKowE0INQIy0WzcvDiZztLM9CvAHBWd2I3nH3Y+B5fUXSw44SZY+JFMnU8UUzwcwVJ62vIOjU20h48KNizI+bWTppQGov17M3quxrQcV0WSlMbWAtEBVWZgQEj47l/S5ipogFaDZiBU74t07njM6CyZXLwh0mty1gi1FA6GN9xmf5wbl4Tq7PkSrXsMzWEd/WXvIUHtlnH/27nYGs8v86mIAUMFqI0nVsCzv9OG0rewcB9ovRTDADiT5ny/7sm/8BLiQohBgDe6V9SOkcigMNswPj//avSOe6OdeWEpC51FS1nv63rfGZVs6Pj1NI+LzDbzsofvNebCjQYlYA3oHqyPae9P5SN/VnixK+V6bcCRJ+fFtd+S5bt/q7CzL+z564z5Ac0IPBb9da9q61TSeaENaXjqUuTeVJoKiileSt8cFL+0BsRf2iuR/WkVb1LIUKTh+6ezSXKzWERiF3fCMt/555S+Dypt349ImiTEH4lAC7D/tK4y7TWUMMrifk0JuCiv3TvFS6FSeiTL/0KAFc1vw/X9gne1t4397g/4tgXGSC49DnSScoc0kOCSVAy7lAai93sJ9s2kgtiLUNaaPFpqkssmCycVTSjvGorFf6CM5JClyNSaMwP0Jg27gtennmalUlxORDNa09AYxXLcWVMG2WzCZpD15nZr31pon1b5hTj3Nx9adZoAOXKIMIHEJ0IRJ3jcS2OlgCvRDe7BABE2+lTKgDkunyEUgmgyTeGWT5GaCiIVvRpQ7qJCQkHIeJ5SQWAbOu3H1GfmOFSxMK4Jk3hZA1Noe0HANDOur94VxLoNZw9W8v4Y+1levd3580y60r4nX2rVOKPrDeOczLFz/y8wJ8W9bWv1N8iEKnXSftandcTiTmYknGH0ha3i8aVnWFTWRBSwqV7LQI8RgXctrJ/cHcHP+OukDID4+6Att64P5S7mJD7ynpAOzmmN2XbAV/umRe19F4PCNi2jVlzqJFuwJrdz18SwvP++LlaY+4ybnSwKyxTKtP6SJ9pAN0Zbva5XwEgUcCAPdDE67W9QRs6897bEzSInIY/W+KXTBzLT8iy/bi63Dbv5F/jV/JqLRk4O/9K2y41pZyDFLSvS1NKrbGm6OGYZGn7uaCX+7wY177AR4yMH2BYCjWpYN5bOjUFAGlcJdleFgC8FklRY4qdl8G+bwaGOUJ2Duz3fKf+c31b7L5u/HVzABoNoAGAmFzwxbG0pkUBLaZL+DnOBFKOrGqZoPyTT2g2SeVDneUY3S9NHCknQsTcUdXF9+U71NON9iIE4DhnV/rbEWknYrSU/ZmWvU+MHT7avy1wMKroZRbqOkQU6Hb2h/ptH1OneWUbls/N7Lm6+ufoLXlKZfuON9hSPN7WK6XR+3Wt8JebXe6clqDJH9B5H3bLdWan2fltbn1eKYsIpNnM/rNmufw+H+dy5/W0jCiqvEnmhLrC8qx0IFU11KfzrAlhQJsOBAkLywBKcgJuRgAic4SwHOOVMzpK4niXTO3fouBrrCW+BtCsCQSIWOq2v7S97u3wtzWL/XU3z9FwEXsRNd+ujRVJIqQ4/GmiIS0mM6+RWeSLZUv7k56O7JyWCuPs/EotR+9oy1iIZtyVpu6mWFsdOi99xYjMqDuRdCpuH0i2OOTHCNPGWsS0MapFPuQDOCWIR/3YGFUBwGmBnNWA+YL+YhpAHwDSdkRLjJVe+Q5DteZeAKDNBUgi5m4lOI1pAMkBiORtyaSA8QEgGsAi0LPl4kIl3Ja0sM5FfAO5zr6eEGhIC2eIdqWzYAHyaU3+UPg1hWhLv/tYRDNo21OGsA4AXBbLmc3+gz2t8u+m3rfR7NMFTAcq21Y1AMhuZ8/XE/MReptggz0kMh6sf7fMuOIns9IAnp863mBy15kXynXm8bdcZ8qao+N1fLyzCKQhTyCBNTfbtKRMNhSWp2XSX6tRd51UMId6IqqD5mLCcjhrwpTelVjifGa1ildekoAUt5bcFcyagHbQ9bE2eVSXjn5EkzO1qBTgfehFztSjQfX5h34FgLOad8Kf3qMNUzCE9u95+afT9N/Ao8Qc5euy9nwxyt/o6cjwnBvPnZ2/Uy8aCtSTEdorY954W+2OZrPPELCrBqAGAL4z2i/aH6TAw1tgwW3IuAbEFogGdgmNkwUX7n77mZQkmC1sJK7db/9yvWHdcSgCblKMeN3x7bPnhADglOCD6wdIglQL+ii/ZoM/jGRbD1zb6x33744WEa4HuUEgPgBk3L4G0LSZKVx6WXWQqYccomsyH6UCQB6Qhu2KtBYxIgIYMO8T6X/IbRaiKvMvWrUdmcJGA5HFfn+r2R/p+p/i745+p3LOVPa06PEmB3by6hVoYL6xyWntb5sneP56+TlflZD7C3LyHT75Nca+RM5dLzAg8PCBk/d3gh4GJICOyn96UyAQX8uT0ogSN1MV5FBvfh06r194SG/BdsLUavupSgqNu8xKwl0mnAsQYfl+e4nS3zslgNyfMFFfys3Ed5fOY8e83rFQ4nxKSbpBH6ZWeisbhG8d4Tg+ySSvh3+dUfMZ6FcACPCzHBWb2kO1oaaQHeEU0gX5JM39mvIEfr/yBdY3mXbiTs5rWW75uYSdg5tcl5JW69kv1z5lOvs0veR/WNkeR/z1BIOhg2mVjoslhJ4WEFgN5KLCuwaDXIzm80CP98UOC7g8XKaNsnkZ0En2OD8BqjF3XCv0lzJtEH1LVC3klokrdNCBL2gAuR5ERRB0tRDgrugDuCww09IAApy4d/65BIOH0YcI0xDzGCPSv9yhBSZGaHEx5/tE4A+/e4hYACkjGCMc6SekVfbvw2+/Iy3joPS9uCnUIepmH2oO8Zc9KZGq5FD3MaqI36pxnvRayfMf3JdV40ul8dNzMPUKgb82LiMjn6M+XyrXmc9XNuHye5YcV5sPUl4TLetm9qUCgbrnE9Jk9vl6n95auxe0zCttEJZHBawogYi2zKdhvTG7ej59MtaSOACcSwTE0deweMmeOBn8wSfjLnOvv1vv50Xdb5FXEj5o+8BSYj9zMoAQXunvL3V8tiM6A218c6PX6MSBr1CncjzJuT2aPzgFoBBfwNNJ56W0nNPLvy1pefNHezrG8zK/jWevFmN7ll7Pk0nag7cW4v2EadW9WYodXRDI2a24Lr5c5ATcSbRjQV9WsECIZiQThCKBMW2cTLKN+7bMaS4WPanZT/vCWAFQrgZwQnsAWhA5rfDBg0b1D2DWDXJNwCwUFmBsaqSuCdivC0xOwFCuPxMBHAaAy3pWZgMAzt7nVYGxywL3MTIawHKgx0p2dxQA4i6A20CM6ub/Y0FuYv7dkM8tKZNOSnvZr2pBfZOejp/Qb9NDtk093+UnK1z938p3779qfS4C/5PeZ37+0KdKulPA2vJT5A/wN23p8rid4GM5ICC2lf0XvRVlANWk38nsiRJqf6X2KQjLKzXS0kwraG61ImhuVG/UdsR9ZSjnx2uFceFisXuLDxUO3PqCa8e43oSNSLQvzWakwVwJ8O9xHSG4zKeQtcTwRndsLUBo3GUMr/T7OvtebwZ6yEnqDTDSiuAPxn63NgDgY7U9V9vTtJ1eOicNy+wb5Q/4x/Kd+W89TX1wQWaBMaWGwc+FmMaT0GT2ZDG2+tgbM/BKjez4VWZgAGDMtEEuOACBT9O5b8t9/u6j73dk/6fgSRhU0sg4N4c1EyYhdFGyRSt4qH8u+SZgN7oNDaCtl9lN52ajARwtLXLGvNvy7SJ6j3uyZCKAi/5/HCMx9nwA5KEVIP0EUnuIOM7iQvR0jADwvgaQxZlIx0E91T4Z/yg0tEP+oaPvAMCZPKnA0a7ghxWV9prJ/q/gMX8nY1rPkz9/rn+o0feD7I8lCP2ggPbPC/zF56VRp8dpfFO+eUufJ8nkP8lU+1XH6aH+OYOPFq9UfN/ql/Xcf3pE7uXnxTd2sm+vP/5Aywt6Iy7o6dmr4QPN6QMSWdA075W0YsXOSbDF072vpy1GM+JrMV5pSsKVeRpCOIFVMTK88h9ih2/xSvQyRUK4NOmujK+vPRoCgL6wbMzABvS5n+njpADdjuOD6W+/AkB+I8TqV2rDAe3PtJ1MPFMHXaFzgxKNfla+M9K8rb+gpyBwQEEcI9nXCwSerG5wK81BvZ9gRg7xLKRVVBUIYqRa32Rgep2WiWItu6d0iSrTxri0c9s6M+YHOCbosS3pNcRsjG9LGVz6qV4MU1s+GhsAEE0bZJia8TnCJNstDeCOYCeA0zX/Mh6CUwhGgWxgR/7l1n9E88G4fcI0M6YFzCdKRKXSv+D/dznh/0d/23p6RnVVl0z933l319Fn8qBNJ7R/RCQTcT6sBTpF+/J/RPs2oEW8Du1JkBjUc0jKpOPSodwgtrIXCvy9Rtc+fj/Hvf7ReYd6z8htio8eALAbNPAIgcBflf/0N8gvoTp9VCeHNJJ9R24t2cl+/ESXMcJyfZeZmewxetp/t/KaM0oCvqra1DFKC8thdxmTEDrMX7mO8QP8+9glczePkLsMJ8wJUC951hJjAr5e6M8Iyy1eib/0xhGvJFm+AYPkXMUf8IyazcD5Zs1PTevnaCSYgBEvPlEbdohXa3u+ttNP+MxQNQRpflW30sP8V0PySxlSeaqTmDhIczAsjeJOzcASfKjIY3Zw60WO/WBj0uJtSosXAlucgyTJoo1/i08XdIRUIf65VSZg+qnyA5wQ+6KUmU9ovEIl4WBsy07aA9+sYZiaMYnge2frXQLIAGbdoF1dlWsb4DaRX9KfO8y/MGSXuC/uzyXGH9PgmQCQh7vNC59xLEezECOAOb87/1zCkf24/n/r8qub0vNbRQgt0xJe6tJaHvzxlLrNS+1uaoHczL5cprafFuwMB9SUTurEjsP3G5+8ye+TY+rjOnGFeJ9H/tPfpdJx9c2n8Q6Pd4TnjVJ7lIvDHH9cGpf1Y0uAzvVlS/U1XRMAmnQw74p2Zfylwz7fMX9prCUpd5k5pcwhoj9G8zq+KJ/ZEIWE5VDifF8DCO9sCctYSwwA7Ka1JHQ//bqvXwHgSzThT9X2Mm2sBKyen6ntxdr6g/Cdmfpe6fk/XPmvnikQGFe1d/qGcHQ+L/CyIyn3uGSCQeqbgesEgxim+xDBiTATYazGtBE2Q4xLBt3yzCcTAisbDhgL3S8AJBXhFkuESi6rHbEnn3zJ1vhwtbSlrgmYe7bAyyQ7jQes+Nc52Xfj94f/IVpIKFwDuAgA0QAS6OLSksy/OHqHiASyzF+Mqvz/NnW9cQ9w0hfm/lgE8IpAJc9JjMijxgJaRWhi0MjUIYIGdrI/lWj07+o0L7XBLWMj+0L9Fj8gDeKjSse7tuPgnwT+nihe9T8kr9Yzfbd9bASbzP6afKdl8Nn62bZ3X7dDDJcT2c/pd/1BCa//q+5phXak4xrRs7ZdI8ULJw4L+B/KtHtYIQhOKWn6WvbuwrXcL2RFuKlnEm23T1PyCSeFkk9VabPgY/jzbQjmhYgSmQBdm+LKbWOE5XvdXfln3Evc1Fe+BtDllfhLWwAIrzyLBC5NZ+WOfgWArELvuHV3diX9F32vZ5upnJYuNqB03NBnGMfqHtYPNiaO+6QHQpHanEakiDU5AYt+HbGeZhRht5L9Tuzw0X4j2f750Xf/Q8q3ZToPBLm7cIqNGLMgq3Dw1hcA4AOJCGQATMy0Qe66XY9ZGwBYNKVgVrUmi+H8nCLQY3y9kGpNChgDADG1wHAtkQR60tMAbqmNXzc45v9HP2sCcFMBAMcxIBMAOKY9NOffr/Pv4GOBjAbwoYV99ovJAXin/Vr6u5L9hRjHx5X2uztIErMvTfOItBp1aEvawlE58YeSUledD3jcyL5E1/o6LYefXNW8c8f3BSiWn6GADIGuoX/duevU6fn8pOyG0rztvLGnQXQUXzNZFJ4vYCNwfAxq6jNNyiFSD6WIxPkX9Cbu6R2N0aT41npuNCu2wOMWoOaXhJsU+Fz1zLTFMzO1SAvL5PsMaQlT1pJVx6LjawBda4nrA9gLXunPRT9+71cA+NuabN/c+1zt+4t+/BGy8efJtPJ0+dg8Qb6BRqXd7fuwJg7MG/u5W2WzESANjuXmjWpQR88jYkak1EAqTRGO+SsJ0/KM0sWsRMo2xUwbI4IQO7nSOHxlmw8wZqa5KGB5XRqnEM0LnPhmYHzk/Mz3MLYN7YWYe5da+a2QajtvAjb3acZAgmoka8iUgWv5nfk5AI059nxp/Nw/EdE+kT+RPIr+/dp2Rvv3SPs1+BeTVAgAxkrA7WqOh3RG7JoEiJBLclBtUkTpNyrZ1CVSIx0n+hfgv5V9jcbz2Rr3F9S9XPvb7b9LdpVnSfP2OkX8VpvH2z+AQI/nRkxgyN7vKz/RywMNurOLgJBxldU01UKKPmt1RjCsqF1qQ9dNoF/fD/Dj9bSn/AAJBPn/gkMcF5Tb8KKEKbVIycUUGWE53Cfn4e8b4pUkw7euLm7/vrXE+E+3rCpxf+nu8Ep3rLfD534FgEJM2bdoQwRDG8jfb9L2FG39SdQPHhOGJf/VzdWe3APmifHsZ2We+D4ZCppjaRa8ujkBWZAnVR5pI1Htg0kYlQS5JT+TmMYOo8yBWoTAGoEgoVyAdfwAU3WBR3TNvfyaVvnc+rlwbvYBoC/F0to3baCZtKYSJFt88YwPYFEz2LpS+z7tCADZvH9oADFlQ0YD2AJGvgZwI9cIlpXupMIBCPtUVf/XlH+Lm2rpzwDAK4WujVmLJ+pCYT9fVrXgTSfMv2sK1MB8VkVoqwleqkMk+yUt0nDiurF+dvIcf9MSkL4y1qTz+6latPoV4qy/IheVD+v89ZpcIQ+i+wVFJEk7uf5dcp0pv4NNujtu2wv6bUez7xUI/CLxnmbvKE/qePZZOvdttS4/pmtta4nzNXT+ybPip2izY5RylzG88u7CqSTiSkUB09j4S99TOM/9EgOAtMFa4rvM+ADQF9zQAFofQNdy0l13GfcO+/tzvwJAnIjkGJKDPsAg4I8Qvru19S+NPllRdi80qRZuhv0qOn1z57XMjcvPhaCQmwG/kNT1SXZ7KFDAVoeMZPt7yaaGWT5U43lftN24QOJmwBkZqXYzIMEaAPhAtD8O3CHNIoAkRpgxMWf6hGnDj27Dr8Uvfk5ZIwCVpXHBYVsNxEYCW02gbdOpv24VEKMBNAAQRgvDtcR43SCQFZlqQrV+SeVCIlifjP/fw/zdR9+v5hVA5BOboDUZ530NINq/yYDGkW7QeKAljhHaZRbOFCF8bGZ/q7n46FSzo2Ob2f8UhH7c0fe6H3ZVpedQ+dwAFj2jXWnwibol+vZCPXN318d6TkB/+qduZVIQ6+8RCBxUOqCh7Fl6Np4dFEBT82JyAr4p1eTomOGBj5ZA9tdH+0IfJgUUCWiK0YQsFxsRPoq1JJQ1YUCiSCpxPoLrsJ72rYhFJWYCZozGWnJ/Ybg+AOQgXpNWW+jySRccdktYLgz2NvjSrwDwDZr7J2r7ZW2vuvVXf24DIspu8jsMCCT1Qg/ogjRnY9l/10v94sZXn2iQ7X5CflfrWoBj2j17cfyzVhKawphki1mazTczY9pIRbdxXXxbUn6AC2KYABqfYr4tACLXnGs0gEtHp1Ntw0q21rfFZXBHDTvwweYApOuUDyBBIUjdlkwAyIL9mv9Fog+BPw6mUsBQQYWo7aEAcHQvQHJaFhyX0PLi7xkiAkCmkwDwL3X8Y0KnHu3bkpZwTH3wLNWhdblRTGaPr9P0qA0ZA3ezVwhk/mTt6xyd3K4Pu78prdq3SbR+i8BfUcvarku0rZ88k4ICU/TUZGtf1zMQOJz9Jz0Vd+rJfXOjWxuUL+mDep8OAkJkqCOTOut3Q4eO9uHLR6L9mB8gYA1fQfJl+hTyl6ZNPV75KPHKsLBscoaey99t/5pEAhMw5lIIALrWEuvDbc+xa4cJAum8u4y97u3ytx5HO313+1QNSTaKCs59+sZdb0TD/0Fv3ktlDv4C8be0pqpeh81bDagY+YNiTjdV0qsJTSilTN1yRzCsEYHNnQCQcq9pAGDKtwU/wDADmhSTWfeYzKzAwmLAGdq95pT89tYU6mEZjHuMz5g2ADQ+AX6stOoem1FcrOsHSDAFaVUsFdMbjItFt/xebJtO/UUDCAOFqEPc8gFsaQBD82AA4MXCsGLmXxqta8bwrwyR0Q6mzY3kX8RJwacYAGTMe5rjkdxY4J8FdNjV871b6f9HNYa60b8H0kbi1TkgEaIJ7SrJ85DycZ5zAHaT80/cdufXZPP/bgP+zhdB/Yn77lQH585JWH6ZplvPxNp/EQi82akrJfsdyb5WTxF6iGbURFieyj5J7887Ky9APsCUH2CsfOaYOBoR9j7N5XzuX/zdhe9XJByRvzNG83kgSHkdCeUCNGbdnUJXhle2rCUctPyIhNJEDZsgkDKwLXR09qU0A/0KAH9Ld/JYbX+hTSJgvvH28/n2oKFPEwj8AYFAaRIOi1JSt25wWKaNplHBAwI657Tk7gdMsqFxT8uMUlXuaFTScsoPcEqm57VIdn0kW9+0QRAI2qaUaQPt26RA4LqXRsbegwkEKQNAjhttXxHATWteitFtsxpXi6lh2rAJTnF8BogZapU+urWj7X/QTFJ2DuKzBYOuCdjs10LrECZgJHaXkOiPEwCCBuFKRbqT+2QCuzN7tHu5/DO/71RAA7ij327ES1Hjnrye+/99pLsr+HlNKTumlDS9Dq1LE9Rc+3dTS9hr9Nx8YZ1LtL/NjrRXmy+X2VeaP0pW9hPlIPB7NG6lIlp9Xk9AIKU1z+lNOMj+ptHMTWSf20BYHpagMid+nF4LjLDMshimab1jqwGwhnbbVP7YL5x4lwDlvYnAEhqbtFjvKZznfjHWkrvdXflnTMC+uwwHLuif9Yfm+5Tmds0Rll3fP5sK5kwDyEw1p34FgHApu83pMxvf+Xv70NCn6On/YYHAJwgEvr/r9zUoMxYRwQ+K7TQhFsB11S2tQ9PKk7aa/UGyKWBsTCAwlg/wgpZ5HKTDOa7CgSB3yPH//kTeLAYEIIlJtkSzxgJBDGMram5904af9NR1biYIgyAQiOAMgjQ6Sdu5BnDs6BLW1Lmv3x0/RMgEgMwcteEDUcxumhj2wdDjASBhMy3nGf+//4OPUbpX8h4Lkk9bAqKjAc2i8f97lN/86Duakqr0L6R+IdE5prU6hGM/lXGa0IEyWg0ojVJPKn1sy5tm8xXG5+/8dJNhn562OQj8DiGHhwkEfplAYPf1AMMK2tnNC1PVn5YLWrJMabiyK0moF4Tl1YrawFMqj5nyA8QflsCoEBlryQcKh8ibSuUdF5AVGugL+f4w9eL7G6JY1oSYtcQPmvM1gG4ksOGVm7nQepYHMDT76X39CgBlI9VzXN7Yf3vR0CfJ4fmVAoFPEgi8p6v3Rka2QaWi2Mve2Oi640phsZnJn6gGDea4HfaylmxdJdlOylSxnt1d6sP4tpTnrY5kSyBIDAByoUlp9TBr+mRMG0VJHQ0gGjOfrCnDBYBGqjUaQCPZhhmr39dxv7smYDsev691LwDEtCN5dJGFAAC5f59u6LdBExAi0slsayYpsxcj2qxK+zEjbYtLRClSWzjkL4mm46T+fysSTkhaXodI7XFBYkPT0m+7Ki82nD2vziXa22b7dbL5//gt8DfZ3r570dvktwiNSKO7+qyug8ABCbKHChS66Wj160zBRPYECVJvrtNUz361tcTmA9yP8NMxiVCbES1iyFrCwC6JD15L5EWlzeXswyXE/RMfS2QCQcomYBqavKlF/kZgme8uE7OWWA2gCZjbK137bEd6BorcO932NBxF/Gd7lbaPufXZ7gP8vV7b7UeDnyAQKEa9/OSug8Dh7D9rif3pRnNKfvhBLdS7FUzDdkqiU8xsKTK+LX8VbWJMG2UGhP/XdiBT/bxqw96Q2TgGeLjQrLSOS4lI6AWZHUN+gCHfFnwA17xxkAvL+voZALie359JA2MAIKbZTku2+CwCNKmI69b9NQ7cZsrxVyRy2ZIpGVcGDfQVCgJhnpivEC3LXYBFIkVL8tmcl6nfB3rrOncycu6qFiR8nkKEtvhAS+GQc0+hdminWXjr0HHMv4eaFzTsF7TIdpW2XyvwJzY6+yaZT+tpN7s6vuNebOIbBQLlJtBlEMhzOSwfzj1lUGhC4ypgtZm9PcmHbH9DglkHEoNISp6iaUWrr0YihhnngEQtUo37NJWnzSoLy3dqqb1P0ekpSgFAw0ew0RyUupiTwOSbgeGVqw6vhO/YnKl0AK/cksAImTyBWyW+kB88+69yBvoNAL5Dd8Q2q+13bn22+wB/L9N2e9Lgx98CgU9SDqyw71knbpwapOek0WmaF3BCZuC6kq0pC/cHyeGPSXu0JS1SjAwALJs2YHhoiPx8Vni8VEW40Yao1O2INI1pIw4AiyZgqltgUnUJxoZmDcKUYZnaSH5NqwEkergoIbt9tOMzJmDjRL2Z/6VPEw3cAniM060CgoSOVtMlwB+m7RCtaaZiFUAw/16u8P+7VwvQXYGYr9Xc/+9DSpcE2O9rdkkCHaJ1mcEmK0AX0eP4XBGoVEVcb0usaUwVbpoQPrb42naVcvD36tsP/NlJnHhhT0DgUPYMAcDX6km4aUdS+Rf3gkElxd9LpG9xOyEYhKTkKaoOBMEPsCwskwvQ95fmOldkVr5aMb4UAKSPWXnvLgc0jyFh2fhLX+e0nNDuueXhitYS+GYZzNpzz/6mZ6DfAOCcboftt2/9td/t329K326fH81B4E8ouZk0gV0EgcPZc7UQ6roNaDx7jF7M36sl2ZLodEsgIMU4jYR9WWDo/uAoTJmjsC8NGiI0RT7VkWzxA4yZNowGsCwxA+b8BKdcG0kYLZsl0hvYSGAcn+398xmTJzSif50GgAR44GtI4AkSNeQGgPDd1wAS0OIDwGUZzGe1XPiEbxAAmN8wRA9oMboS0dTZ9vhr3pF9lP169JcFi4XLp209J6OBsdh2q7n/H8aDOG2ozWRFiTh79q40LkMClOc1j3XJpAH5bc3N4+qecvJ2tzv4szNkQeDKl3bNHHxO7/2AgoUOpNFrQsZnup4Z2PgBpoXlKb0nqbrAJhL4H0tDNNaSpdL+C3qyib7fkq4uRvhEU8ox5IfNOTFeGQKAJmPCYulS1lpjcgGu5cf9SiGWh5ZOPtsRnIF+A4D2Jj7Lfvig+5uDQJluAIFdCgwZkIn2UBGTTfxbMIgMZR8p4PiXlT8RwMCAwL9Ptp2RBmglYoqAScEg/Jx/dDglUy6aIp8MAPxrf3fhO5opNFQhGlXPMe2gSU9Q1PiVnZvRAK4UurZMzv5FG9h5ALgj2DKqeyEa2AWArgawaALGROMDQOP/VwaAizKjLwRAmr1x6o1OB/wG7fE9wVEolALGRACXAeBq9s/qM2z+pS8TAJIGgJh/CVKqQ2i7JxqWbtvLfkXg7/F6+gfqXOLkbbZff3uafWMzAwgclKfQ6n/uGgg0wrL4cwMak4vBtp41+86nTp2QeZeE0Km2BMWRiogKSSGKRwJba0mRb9EH0fdE4adoXhaRxQCf5Rze/7i1pCjUGw3fauFSLtDjuJsxwbrRoCnc1b8zqj8D/QoAH6ZblBNLbt/5OP1FXULoVxP7y3PV/p9vnYu48RJtlvBG/y1t9PtP2vAvPD00qFue+rFbgSFh59p2DhaANpQ9U2aK1zTqdjJPCv2WWueYaOA/TLYlYW/Mt4UTJ8WA1gO5+fBtWQv48o1LmbyjI6SEidEl+Z1dS+QMJHAhlAV/RtqnZUFHl4xpoxUIYkzALQCI+ZRkyxDmZ7SAaABDeQXdfk/6eU9XGNY/49c3kXdHVRIkbUtoLgG1lowGcN5+zf/GA0Di/n+b0iqMSW8Y0w7S8f1yrg9p/zi2rfNDef5MAMijaFIixIQ9LVXDXgobv+G6ko9PZv/a3136Tn/b8mEdqwkWbQd72c9oDM+yXzv7d+dNAn/iGbebz1/VrOWawI8QCHyOQCDsvLOELyfOADcDFofYlQm2G5bWbjdRxs2ei7AwLIF2N8DnbBv+Gi3g37m7jj6P6W3ailpSsJbcd9TWfqgnLMcDQeY1ZgRBn9yMB/aYCSwD4j5od0m4agnLY3orrbsMQSAWABpeafjn0YlnH5Iz0K8A8A237go9MMDtRdq+WdtLtdUhQOMrtYkraKXNsqdqk/ewitkaeof+APwAgt+kDTAYdibSgZ7QkBamqR8RCHyioO8DHR8CGe/3sl8svJRVFx3NPjVfGOuo5cmztpb9r2SXE9LorEe0cZwYCwRBAxgCgJxDhNv1RJ+kqqaMWwwkUgvzRkDqDTk3GwDYMm34ANAtc2TzWhl/wM76AGplFAA7nzNSfAEhGCySNuQy4nyH/gtpAAG84Qjge6IawKuSwfAfSlEs/x+JnNH8hsCjCQB5ZLDbTSUex6c0RXsyZw9o0Tmv5baKdgQUhyWcsJDXJXLGndOs4GPbcdp5q2z6P3QL/BmA3/FrnqYLTGhpuPBw5TL6yq6AQALndrOfajQDJIWmgkwdmpGgsZKlheUZaexwcwgR78uA3u5wIAi8smwtmZYHLlH4KV6OG0fMXQY+SrUf/3zGYlxj9gpDHRXIs6mwOGDcZYy/tJsHEM2gzZnaDWtJYZC3wZd+BYAfr7kHvEGP1fYybTipsb8OvUeNOI9AEuhubTxd/6JNnCKPNAZUrmv7ZW0AwOdqO1009Ml6M35QI3+8QOC1jo6NHGUX5A91UJGHyh2EkVY/Vjqtd7q7g58HcrBxXv2vBo+zk0SlhnGF28R8W8gRty2YFiJMGwQYpIj0JaQxCVHctFGObvM1gEi1bnTbmObASrbG5GGSMndaA2jvq2gCJi2L0QAiYSOpuwQzdzWCHNvUb8c9+LSSm3jDQMcEgHy4f0rh+6Jey/nswwr7+IKmIhQBDGA1ASDIb2VCi4w7QYpWsz+SQPGpqSZHxzayt2h2Pv/oe50Pe3nwh2Vhdc44Zpudt+mHEXucfbNeIPN7HrOn/j5t8tt0/5cFAr9aILClWerETQ3qWdjPfj1/Cuv2P6rKSzvZn5YAUuh8rCVrFQBwOgeAfxM6Pd83pSwIuEn4FBOWAWpUBVmK8EH6IXF+qnpSrH76rETAsrVkXuNbPBqeKyy7Ah88yPpVd8Nf+mhAt8mHfgWA2M0Aap+hjYAQ6BO0sb8OgSDQ8rFC3NSGtg8ACRIARAIQAX+W/kIfyiuQPdrLv0OfIhD4coHAJ+hO4k667RiiqQzyk426albuCC3gnyT7TzG2SZlr1wNl5WAYlJ0LafEuK8KtOsfVIyXZlpklAwUAhvxeCIYIM7UWEC1Ht03mwRf0awAgdW9HBF47pwF0tXtE03FdyASBGMCAn6Kb8BmGS01Ol0jxwD6XOXPcpH4wUr7b3n42JeB4lcO0Jk0cyWgxifuEVncqkAJmRzrdVAWQVb3mVfV/DQD8d/4lS9/RaOxkf6Z5+zelY7EdD2qeD1QDe6BmeplYP5X7d8XiKO+Wg78yMK88/3ZrMPGdco3TM73+go6CQBxmBrPP0lvya7Vn0AjLH1dLWB4U1znQM5RKBzOoJ5w0R7GgjGkBwLUAT4sBQG7kTvkf3peodsK7Py5RbdMBbu4EGGH5HndX/tnwyqIVKyQsu/7SXMsGytkOu5Ez1V7rdvlb5qr9cWeYfQFlaOZ+TBsriDycs9dpa0IAQeYA8Pg8bU/SNqfNB5KIIo/Qdjpp6NMkfn2XyjA8XiCQW+oMDUhr8qC0OTcDNSNjVxzNPjlfIH3Vf6j9tIJNVrM/Dh062mcAIDi9TCYQ5EBjPCwdnBT72gj4tuBRQ5qYnQLeL56OifJagFnSimTQpDjxyWSvLwJyQNSG7tAnC8JcE3BRA7jjn9K276RXsJo8UxLOAEA0kVYDiJYSCdySSQrNa9KiVT0TM4Gya6R+IAVEiNAiQlQSiNH9WnDu0MITIgDgpMz7PqXMv7TdkolrTMA9Rg9q6dyVXrhO+hfA34hkRiBuXdoTqxqS14kPluueX6vd3h8J6HyLuNmbxeFav12tc2/XRufO6YX9PoG/AwHj/9rRuxzKzcA/3egaRliuBxontWTho5qiCYG8zQjfMtYS9B5FGhU/C+VNpRXvYVX1pMu6ZruEZTdvKvzH5Z2GP24eDR4eegYAj6aj9od+BYD4+mHC/Sxtb7x1t5hs5eRRiwCMbJb+Uh/QAD5dG6u2zzHntQ+tYJBe/OIXZ9/wDd+Qb7/xG78RbNPxncOfmWUTmgJ8Am+2Xox2X3co+yIt2z9fu1sWxmGZjlkoq2hM2rgtJY+2gCjUfkqRxWuKSI7RuADBRsABG1NhzA+QAIMHEmXhJsQU1wVwQuNCtwiA8XP8sd+XUtmn1acwdNefxXVutnn5Om3WoMwcjBPC1ItTNYTmziaFXhdoncyV5fmh3DSDhO7SUiQFjIkALoM0zr0hbS11RFMEAAzV/+Wc9YgGEM0GJq4Q7ep3HNLYzW8RakGJu3drFsKg0z9jI3urNJSf5+9Oft/LfkFjeGayzYkO7uldW/t6af5+ReAP1nUKaEWy+mHnNNm17xAQiNvM4VX90N9b+7SmDS9kD9Mp5/Qevbf2qaPK8bejHH/1hOVP1XsokJ+gVNaE8bwiyAdKZ8OzeDdCmkNqqB9ohFZwK52sHQDAmLCMv3QoEMT4S/sawHmJnS3BGv7jagBdXokAiyBreGlaWGZ9tms16/YHO/UrAOR3e/utjc+8Za/iQ00SWlL9pSIB+gB//z973wEnW1Xff7ZM3/o6TaoIqNiQYqEJIsbejQ17NGqKJkYTjYnGlkQTE7v+VWIHowSDDQQEATEqglJFHs3H6+9tmZndnd33/37vb8/MmXPPOffOzswuu+zvffbNLeece+6dub/z/fVf4s8299IsfDv+nPT+t5+tPvKRj0R/Z511lrPNohzMYyEqvhEgEIrMfeEXYaHzyarn4VU7PxWT0tfgAsmFMonIePIABFX/owYoKUXMiQEALqJpw5XklJHArlyAHGO/hBQHZIkDMG1MGAzJvPZagEsXYxsC0DClWPZhlQxq2jSZvi2S/kA8D7QGkGZVF/DU/dv9lMod+WiYKcyMJmebqAGkv6ImajyH8TxMkhyAG81D0TbN42T8LqKmYIMHqLE9TTwTAGyDWFZcxBrARUckbygFDP3/WCkhRGOR/9/jQk2ic9Q00781j4U7LdXgmN8LIaXXAtBp+ye2m7ke4A88YBRycd+mxOZdb0B/uzv/Tql7PqTUjWcrNdNY1Lt+bd8FCAJZXrN2E3wdAAa7RK1WUWpFWB6AUD2REDUsFUFucN4dr0WLSc3hXjIAjjgBgc5FDJoLJYVeB/5Ntw4X+TImDIFD2FYUObazPky4djqT9bMeMN1lGry13tnY4Pqs1+r3v797AoBxyfv15nIGgO082IvR+Un4A1KKiICQHtk0IfPXS906bAUR8RzbUkPopnvwQ9r+dfe5xT5aeB4cyF4KEPhCgMCZjl+dXh79SI1RS3BCNi9MM3AFGsD0ku1VZvfYNis4THgid6n5GXMASPqK+TSAa8C0Qs7NnACByjbHuDznS3Egzs3NjJTAiSlUNJmBIKZUa5aJ02278ckcg1oDSKBJEE4fv1AZODpnE9yaRH9H3q9NBMZ8Pi6ipiAEAHfhVeR34yJGZlPD4tLkTWF+eVzVRXuhUUwGgNfi/pJBHcEftdutmX+/gGX3la6ptX+sdiucVzD2CNhY34Htj9fuCHPT8K4+B6PMKfVQaAAP+nuAwKcqVfUaU9q9Yvr+PTDZD39Bqekr4RPw+fT9WmjJBN8z8FJiSFJaEmH5osTm9Gnux298ygPUOEAeWr4qXDB8AqT4TG+OXYt+gNSuu4hm4JC1RLtz+LSETBhdBfc2SQu55jyTtHkmr9TmYPIxCrGrlP4JPFABIEEeTcjvxB+4U5QSBsipHhVMwPcY4xxB4Bj+3HTUt2DPAgC8918Auva52yzm0eLLoGqCJnLPOZgPF8rOEhewVuoDc4HMR2Zg4uowDSEabizRD5C1Lt2S7RCUty7n5hKgxiRAiosYYFACoBn3nGcfAYC/c3WPAI5LAzjiiG4TyZaKZiExbYhfoJnTSpuAdbtufZoAUF/DLgNH3xszCGQMcHk4cpXVPeg0uw3H1jcOYIsMnXkNWfDdJp6bAFCjZtVH4v/3MOdpfpcDjhQq05irr/wbBxqHi8EgXA18xCh00Y4M+JrUj0+oizCHp9X3kzb24RdYg2zZr56Y1LT187N34Uv4Y4C/L8Op0g2aWx+0jR41sMubngGfu5OUOhgCMrVuI6cpdQTA1s3PxxeR7BLSxtXTde3px5y+AkAK/l2h7N9ZYlqgDJYZRgSnpdbMwOSVV3uHpniUAw/ygUQfrxR3mXuc425E1aatCTXemTVhpydPoc8MbArC+sI6F6repxZQZ0Sgv7QuAaetJas+gPpJpf9cCQBwKP3tNrX8MfaOwx+fwYPxB4eZOhHsPRl/+tyl9TOujb6iUkedD0ZyO/SHf9YV0OW6bPBY6Y3Igo/Fk+agDoPSfmTJYRH7uchiHpxF/eQApGEumEmUBYioYZmew6vuo5BpI4MlmdFvpjTJcbSWxqeFTHJwXg+m5spkz7HXQLu4G0EDNvnTG+yoNzUZHyVh0WzpKGAxZ5CR6+P1jh3a0GZfjq8jbSUAZKB+BTETN0CcXReYz9r0GdQdJwELS4bpWB/nJyMFCf54bz4KJYCmhmIQGg6bQv5/s9B2yi8hZ3er77PO6hA01knE35FE/yZrCvVY03BXzqpnB+9Zt23pk/5suyG/Dn8G77wf3LY0ZjuNp/Au3PgUFJEF79nvT5pHKj1cqaMRmHLHW+Bwk8wPmjt3Ya8Hv4WR8yRJdrXz88mqV0AI+mLqiUs08CPA/a5L7DOEoLl2hGWJBMaaZZGvdCabSdBcFvNr1uKZQ2yAEO4LBPG5y4iw3GwtkaC5PfWhzSC6IrgHk9WTdO10uq+sagDrjyvVxkoAgO9IdafdbkRp8rBPoF7V/krd8oL7h8MzE6D2rIG0/dcdB4E6MXTaxyp5rq6JATNX/yT/FpFqt3rHYgqQKjRSNtFfrAwPFRcxEIQaJx+R8XHRd6WSodmDAMgGlwSAeyytIjWAZn4rMjUGWdhkagAlEKQ7pg1qAMk45VNAnhkBrOdlAjUBizChzVMFd0CTjE3i/3eQfTja3wpz+vqYq22j6SyWTfon0fHcRWMI9HHlAKT/HzUbLhqLtH9HuU7Vj1GjQi10EnGBzsEcxgU7LUnwx0vSNk/Xbg4LJH1+hz4K8PfodH262ap8IzR/z0SIHeazFhpAF+Vgnj4GWrEt8L+773OuFot7rLckATMMCpm6vKPX7sNvkXrwViqDiLD8v4nzyEMorUIQt/mO2TEkLA+gvyttFjXrE+CGPtqEQLz7UJ3HRwuxlriEZZtXmv7ScROw5EwlH1ul9E9gJQBAvwoh/XPoTEuaOQ78G6iEwABvehqcjBvSS2cusIBRBsHU9kFam/zQAjr7u2TVC8DWzgPzSWfy5kKZVQ+FhHa9f9D5M8NYgPcGqoIQjOThqEz/FhcNg+m6/ABFso1r6jjGEMajCTh0P2K+uMt1SYCRtejf0Oyxke24zGP0ARw3NKc0AZvpDXREGz8lhx4DRwoRQGP/TpOOApZkz1gIQTSt0MRCYnSdjgZu7Gejc/q/3QDbLv+/XQBpIf8/Rgz6aBt8PNejDrOPGNBDXyWb+L37IoDHUvj/TWJhK+F3mkQTMOtxoU5Ls+oW/GpZWWRT2i7J7faVBfwNvgWiIZ8AAEAASURBVBs/tscnt+92i7GrlLr15Uo95Gsw/SZoUftHoAm8ECVlLlHq7vd2XEBt+VZ7hwUEUlie+VXL3UMdmDlhqoXMCRSWWVowxIt4PfJBqaF+s/fy9Jcex2/PRZI2axbXmW06zbwGFPJ810+ylgzizWXWBBeNgM8yMbxNzAVoC8s2rzQ1gAyYa5iAJbCOfEonhbbHX913P4GVAADTIRD3/Xfn6AYwwQPeJlFvNIcsJRGUsmTczHVY2T/bsZn0ALj0YQGfTYhEMy84oM6G2h6SfwINIK/aRBSM7W/IWpd7PalbxLfl97HONBn6IoHJTEdgyt3jcX7mYNRY+QJB1gCM7HSkn2GVT13fl2Owooau9qH3zZJHpmTL8yRqALtl2tBRwCYApGlFa/TiEcC7wHqhVTaIjJsmHJvoF0nzuItYWYW+Qj6ihsFX/5d9qKFgtKJNZQgFJU/eQf5eQgEgVcw3h77aXcAeW+9zYawgUpgLdVqaUucC0oMvdIoY4LX7BYj6f534+3Zq3IWOs/N/lNr8V9DsfRc/8genG6U3p9SRXwFv2okkW28CCGwGIukG6WCrvvUAgefBl/I1EN5v7djAWfVMCFIX4lczl2pM+g5mAdymA1o2PZD4TF+jd2OfvRiJv2dxf4idxrtyIHhyfI0q4M2tGoKq2XMdUuLu8ATEsR15aQFvWhnc1CYGl/H9IcA0STSAzVYbWwNoAkD6+5FnkXQQCK+7Sq09gZUAAFu748VqPXo2zCD/LuaQsl9CW5Tp9MBcN3IufBS/DWfn8zt2SS5oLGifllgbuKyuiBhAqE8fXmkyrpqDgeh+wwCAY0EAGA/YkEjge/QQsc9NGDNs2vADQGq6qPGyicCIARKaNJPS0rXe1+fp26IlW32smxpAAkthpmU89WJ0SV6f8yDFA0AYAdwcuCERwHHN1hi0AEMwx9vEHGP8Y31QHzHVxAY4nPuI/anBMIlmY2qaXQCOz3say1YOMN5Hac2/05hbFtpJVnxIQ4wCraHwEKtDdIT2AUjsOQfA74+w+r2oI0O2NcjWz8OUCyGTZt1s/HcQHLsHSxDNxbkHwXUG9zJXDTbv+sk+zIOBNAyomY2/zwu5PuFQv3osfgNXpO5OYZla5iRitPoYSsiFaBDvEd0fXMRIYL+1xH3/1BDSNaPsAYi8TihrwjB44l6DJ7I9BWM7OpiCJgPONJkAUKL/RfcjNYChDY9oFQTq55XmcxUApnlKC20zeDzMIV+FWeSl8MPzS2kLHb6lfj1YrJgeovwf8HO5uKWuvsb9qElZQyoM6kPSELP8ZaD1mfakcDHHGIQjfoixhUwb9AGsWAyGYw9AuzPukHb1dfeD6S+U6V4Y1326edMnNV2uSGCRbJv7MMVLdV565SAM/tDmXmreWIaNRJMGTbDd1ADSBCw+gPSh0QCQGkANAMew1fDDY15DtwawGejRV5JMWgeWRDc0/x+BMjWmPprBnAjYsvPzsdtN4fm4In0noFUcVAfbzaP9Kr73giNoxGw8BreDNAEgXJhL6iyza3B7Rn0f3+SZETgNNkxzkgFdY3+GHwfAcekNaXp0rw3ncvf7AZZ+JObc/sbvpKWLRq4zb4frzNNgNXk6tG9xn9iWxmu3MQNphj4pgTUdKq8pwjKE8JRUQKR4OUXd9QyEsVlwjKSgObo/uMjvLnMA3rK4ZlCPQV7ZjrDs4pXkg6YJVwAgtMPz5PKXJp8Qf2kNAKFIxr9VSvcEVgFguue08FaFI8EcYR654y/AUH6w8HE60bMXizoTxLJE1Mwv2h6RC3wGaTBo3khLJfUUsKvk58CFOAQAG6aNuMaAWrV+gIcaWKhJmehYvL1uw1QwlGrtGpP6PO9X8liN60P1T/EBbDArfYLl0UwNII/bkq2ZAJrAS5uEydiYNLqb0W1uDaBpAmYVEPhrzRMlclsDaJuJ2XQ3oPSow0TLc9tQVGd9oLIiazMz3YSPaMZ3RwDfjuOHObvthTltKODbR6PUFMbNeZJWm4OW1eX4Zk41DwW3WTknq14WbJP6pK5eMfB3qbt0pSG1kHf8JfLo/QFm3K9CioE5t13a8AoUnP1zyRU4vbXd0drrn30s/Bjhmxgl1W/mIwsZuA9psGYRoLTPEfDlGq830hruD/Hv967TTccGkJVhIhA1THcZX/Uk0QDGr8H3ayIAADclAEBW+GGlHxdRWHZZS5hGykycLz7U0/UhJPWLCMc8SPcaVmCS9C/yHTHxjgki651XN5xPYCUAwPu/zjeHyOBjLkI2/A8iYfQ3nF/Eoh1kaajIz+V1kLTjZtJW55GLHJzhx5OSSlg4y+qyxNYlRJpNBkq+cQCaNpjXzUWDYEBjDgaUAWOdsYCh2X8NNEi7oUnyEYGLK9O9gE4ynwbD4hijTgDIzPe2aUP8ZcQHcCK6vKQ3IADsXoJTAsAc/kkdYNEAyrFCNAeWXyrBn0eTAMA1ehcL2hzgtvyrH8SGaPkONA/Vt7dHEcBuoMZG1CxwgfERtbhuAHgHQN7hzm5jCQCwDEf5IvyueCchmsFvox/fKRfoNDQHuLsPz7AvyjSVpkegTflzeGevhwTxb3C0Cs8zMEr7p+bgf3jbOdBC4ndx2H9gLh1cRtbArH3IhySIruoGEO3fQMoRcmfCx/JPAAJfDLVSLWUndzP+rqSKEgTwlDTQIWGZFpGp6HcY14zlwKGm8fu0Sfyl/RrAUVhydnly/XEsCsrTEGVdfo8+ACjC8tamqfC56TF0wmjdQOcCNI/rjAa6zepn+Al08M0NX6iLZ2/v4tidG7p/VBykt/8X0h/AvLCUFPm5nAvTDRjb7H1tzYRlrah0T5vmoBdLN/9mPBG8ejISNbwejGuLPhT7pEaHC7uLJMt9XLKlGXgicG2RbG90DRkd2xABwPi4PMkIt93W2KyYYVb+YDtbA0gT6wTuhCRBIgIAtQZQ0sCkM7NHg7TwH80lZKAsoaRNwPw+NRCiOZqmF02SA3BE7wKA78Z5/LYtIgBkzi8XMWfiaMAcmxwBTAAIocqicWhLCPxdxEjIgUBUcXrz7w9bMv9Oq29g4X+ha0qtHav+D/x3EaBAX1769C4VzULTcvNzIX0dr9SD3tMdIDr0hPmE0c9D9oLfLNWdynXpY5l7EqKVITC3mU+Vv4Np9fXU91NUp0EIviSx/SBqFoxHxav8TfMQqXwJoelOwQTqJuVwbAqj+oiuHUU4cvjKY7LfcBTZG+ffzA3KHKE2uYRlWkc0b5T2DUBoB9TxfDetJfZ8V8L+SgCAn102X0RfCQmjvw0T7E/hO/O+thlKW/edgYaFmgQmkJ3zv+hprpFTLwGzaEULeBYYQBoz8ImAH9d4pxACgEMAam7nZkYC+yXbjYmmjcMgS7tlDkly2uw4zag3O+ItDgAbqWBKgCk6SrihAexeFLB+uNQA8nq2/4wEgTR8u3gvZpk4mrcpudu0C8/YFQFMrQATAhF0umga8xDXgrzrdHTMpQHkvGnyzwCe2cS60QS0fVgefDQOR3r6nSZRGQtySZ2R1Kx+flp9C3cLwNQOTV+FaBxoxai5Z+LipSL65jG91XqAov3e1N1ZlI6F/zR8ln/3Svg8Xt3dayWNXnoLTNwbxXUmqW3gfC/eE2ZPmFW3BVo1TvXhzaLfdM3KJdpoIVt9eG/562YCfR+RV9INwkU+M3Af3iYGVvmI+QC3esZkH7GWxIVlvotivq02DS3JoLc1HSOvNNNmsVpSGasHyQ6YIw8Qc3DzuE0Dru40PYGVAACbbuh+v9ObQd0RSPH0ndn810sLArOPR2TE26AJhIaijbrBGfV0aPS+GwMPvu+CC+gkamQmEf0Ax1GZwUeUaqswGLqIwQATDhNFkmmjBIZTgXTq8wMsgilXAC1toMQ5jELj5aoIInV9J+rTHLSYGjVsOvDD1AASkHXbB1BPSgNAKd3WAF9mhQ+7RjD7+gAgk0MXIL3bxBJRofQv26CpY8H5EFXxlPN4hiZJ/d915qH6NutGh7R/c/j11vCdsgpNiGYRACMhO3GNp6tfTf0ay/Kh0aLvOp/qWO0WACAAkNFv4dLx55lqjE40mtkuvnn7vxUr+x93YsTkMQqHQ2C+QPyn91yc3L6bLZhPdQ6C4+Qn27pKFsIyE4KnpWLEK5PvnVrAiYAWcAhgLWwtiZvbmWZp0sNfOX+xltzkvRWfuww7jEKDb1tLXCZgW1imO4rmlSYAzEK4m4agx0+6sKxSuiewCgDTPafOtqLPzGEfhzTfr9Ttrwf4mu3s+K2Mln8W9OaQ6ve+dsFglOlI+yBhzqqfp7oyfaj24TWdtcwOduc8/Lkq0La5wBbbUpLMAk5MOZKOsvowpVe7L02H45aZ1r5ukh/gAMAHS5nZtAZmTWq+bCJj22vMUYI+xOTLtmLmEBOM6e8nAFAqdXSDqRHk8hmSxO8vD+m6kQLGfnYS7NEMfgQAQjtiELV8dOB20faEAJCt8PukZsFHkrSWs5Z563ZjAfMvHeC5APpoEumESnCUT6JJdTHanZ7UrH5eKn+0AZbonrHnJTD7AjD0baqPu+gbU9Bq3wgewZq+9NFbTMrtD9eZ/4XF5B+V2gkwuFREn8vhz+JFgSm+uvB5ZODXNwPrh/ZrS7qdElIHpRGWBxPSwYi/NIQJB4m1JK6pk6wJUFR4aAQBU7sdQrZuHkqc7+KVrsT5FJab/aVpEhZeSX9pHTCnheVuZkzQ97WSPlcB4FJ9m2Qoh3wAWX4PkzQxc35Ve9enyLrBvfvBzPSuBV+qVcmWC2kZudFCxEU+D03eVIDJiGR7o3OYAmJJ7XQwRRwrw2wZIjED+yXbddDquAJBCmBIdi4rXseWbOk/Yy4AzfmtCGzEWVsztW75tWiJWT8LPm8TANrawDGw+yHL308AYLPmjCDY5+NHAMjn56Mk/79JPPkSALVNLGnFhcxFSQEg1DJzAU2iSUX/vycnNYvOS+6/K2DuPj1V+1gjumXQPWPoYwi2CGtEY307eaDyO5h9ISQe9p8AQKd0cuT0Y2XWIpMCQOAWzGHbf6Xv1+mWOpXWxIdhwblmQaP3QEPVr06ExvmKVP0zEFjnAHjmAANDNKAeAWB0vbcJc6vyN8n8mTYNwI970pEAP8laov0AXcIwr0FXDwpsOsWVeV0JBIkLy1LNo7EW2iZgsZYIADStJToVjClAm9db3XY/gVUA6H4ui3eUpeOGToZjNZj9UiZBpYlj9i7kCfzMgu69H0mea9AAUrOXhlqTbK/1DhkybQwBaDAwwCSJGJvDPOMRcbrdJnU0fFvcoJJtfL4tPJcFo50CjDKJAJDl0kwic2SOP5IwrYp5OpqfznbPKF2CtU6T1P/NNQ1LiZqMlUTn6+YAkHgVkDLaFC1Tr/j/HdA0rt7xJYfmeeb/I4USRDM1BTUTNoU0gBUEpBQ8ASkcZxy/2yF1nD1k0/4cRIkavsOMJ89gU2Ps1KAtJPhzJaW228b26Y6x50Vwz4C5Nfu42OlFO1D+LZIzvxBpXr6EoI/HLtplnRfqH5R0WjvgB7nlU84mi3KwF/MYPR9m+TfhS75tQZdsVVguqlPAUS4PXotpsegLOANO46MSLCqTSEVjE5N5EajZJeHEWhIHaWb/jeCV9wV4JfN97sb7Z5NoAOPHmQpmj2EtGYQoaWoAzaAQMQFDUAI1hGWagJt5qX3t1f3GE1jOAPA1uI23Of4ad7dctvZ7g1LrAABZRH02LOl17ZaokRz+nFQKqX6v5cuI4/5ZYEDfT9U3gzJyTKlBqTREQ8igzwXaR0mpYFzFznPwI5lyRKHpa+h8gKaWTp/jJ33YWMrMReLb0sw0ydRMEzD7iWQrzNo2Z4qD9DRAC30AKwAR1Bj6AatrHmmOEVQSfPI+9RxMDeAkZk2Gq0kigNfoXfQKpYCJA0BqR5keQl+rPtD8xnb46iX5/9F874oALgMYFh2RxUxxkcH37bsms/+xTFY/9LQhYum3IoSctDSlvoZ7fXHa5o12jDTd+0ZIBWdhVXt24/hib038EpaJVyAQ4xvwtn/oYl/dfb2+AnwCAb72XqrUvR9xt1mMo32wlgyfK+b5uR0tX7EP/nqzqCazzxIUfQOl9ZkehBATigYWYfkm52WK8PcrW/5+pQQfQA5EALgN9+Ijavtd+QDJB2xBmWPYvJLCqDbz8rxpLZGcqbJeNgAgBfDOC8u89kqk5QoAwZUU9PCR3Ya2G/23xGJqGz8R1g/eCEx709MhWYqKu43RFtaVJo7Rb0L18w9Qx/yq5TGyWPCmsfClIS7IeQR5VAJBHhwnB41LFSZgHwDKAKDUINe6wBpTgrgAIAEEa8mGaASS6x6H5Mo+ebAhMi/XnESybfabYeJkM8Epx6Bka0a3UTNJYwlJOzdrphYdxPPqNEkVEHGappmZFNcANgAgJXHOW5PLJ5Dn6NztMgEn1f9l+TcuKCFiCh9bAyhmLcLkeGTxOMYcDPj/0Ww2oI4NXTI6J/5/ac2/NNndhdk8LHHcWIPJD8IdYwCOoW+JnVq0A4y6pW/y0f+NvERHLNplU12oFzzqIfCJnPz10mZSyByDl/hD+LE/Hx4brWmcyPskgf53U91yFv7V08h3amvo7M50YwgFzYXcZVy8sh/cNxQFzOuvgTC8U222p1Lfp7C83XPeZy0xhWVbcKNAqoNAKLxSQCbpZNC0lnTDX7p+QytsY7kCQLx16tH4e4H198Jl/f2sw23t/5eSamFm19LcSi80ISNfh3QLMDp7d0tz6EOetX2Q9+YAFNJQCeWxkhycBSgeihf9Du+QRYC1MhZcm0Sq3WIfjgBEKBUMOxCIEJD4aBBavXHDVKHbEfjYWe5dqWDEublhrpEE0GPRMCLZTsCo0x3Tr54rffwkcWojByBTLPD6JDLaZg1gswmY9Txp3raJQSA5jGITNQGsEOAjVgBZiAaQxexZ1N5FEgDiB5XjKGWY5P9HoD+FiN4cKi6koWn1HXx3C9DeVb4mFXoG/yXNZbrTZu9lEnXL6kW5B3XnGu2OyuC5B38BfnjQtN/5zgUHr7U7DZU7DQD5VeCV0JSyMkoLlFUvwm8K33cKIg/kb6+qwkI5A5kmA2lZigBjkx4+6gKAnBqr/oYS51PoyoFfVOYDM+zboa+fywTMdq5AEPGX3tY0jABFAXpM/jwJzksScLgv2hZhuXsBc9FFVuB/yxUA/hLfRTwMcyV8QayHedDfz4PA7UtzR/2HQBf/Mfi5/FXL188g59mMguYgBRVg3q1GfoPyEvu6JJmBKdlS02MTdUL0wWKaD5OSkkGzbRIAJJBxBYKQqdnpDTie+PmVuRkRgylMDaArGbQp/XLbl5pGj9nqp478pRRNCZpkawBNAEjfGt6HJgaA0GRjkph54+CPbUIaQGoaWD/YV/9XX2MautssFgGTqOUdxOLmIgLAwYBWkSazwUiWdPWWY1Ooo5rFb4y/pzQ0rc5De8qoLRCDPiYA/JYy0fPuHwJQ/S2ibi+E7yHMnPdnijIpfALAC+Y+lqRrM0nzgm+1+DJobOGTWv12S0P0Rb6kVbzTW1P1E2H54mBb+vL1AYzNeATwXsA5+graJTI5KAGgq3ISU8EkWUtCvJK5BEl8t22isGynzbJ9ANlHrCUiLBNwuqw9DQ1g93Om2vexnPfTcbT73x2+HVOCw1pKj+z73/zDMxo5A3f2ASmMPn1fuG23zmbh7zQH5jTbbM5MuhyT3jL5bRqiIYRO9TNWoIbdV3xb/s8+XN/nAj/mAIBsQM3QpGXKHQGz2+Vwhq4PiI1BQMAx+MS4zLxstw7zdvkBUvPFZMY22YzNZGpsa5o2Ctgz/V54vhvaQPrKxDWAjTQw1AASmJJcz4GmmhELABL8EgS7aBxPbABPzkU78BtY6ynjpttPQcuQxbOxaVxtjhYw+zjnTKf4HEZ2Ef3/5iCC9APGhojR6mmTP89BG0ndRK8jUCV0DVX5Emz/0CT1uMFzsG8nTu66CKUq3wuzL8BfphnUd2L4rozR06PUIf8KAAb3hd+/qWUtXMfmxGCd8idbHk54ZVph+STwhKsSr5FUFWQQOTaZF9OmAnTvVQh0No3gndzlaG+2o9ae2nsfMT+qbRVh2zV4R2xhmQImLQgm2byS5zQ/YtQwg+maNYCrPoDm8wttL1cA+CPcFEXsO/BH3Tudp/QnNlcAMeXCoWBuDAyZag2EdezuWQez3FrEHbPd0yNj1mGSdc1LHJzDkm2SH+AA6qxOeLLrUzNEgGASyxxRKxgybVDjNoh7GfdI6Gsxrs/3hVqsKcBOk2jaMH1bbKZmAkDTuZljUOLthm+LaPTyYPwNzZ4khBYtn2kCruJ+mNDaJEbr2RpA8f+DRsSiKp5kKACEjuQbUds5RPepX6LNo2JNJjwAcArfXQ49fDQJzd6AerjvdP14Wf0E3+gT6/uhjWl1fuvaP5oPCQAL54SG7t455te798MAf/BJy6zp3nW6MTJBIPMT9gPk3w5+1aIptiNT6jsIIBSuMzPXtzRcRj0HPCgdAGTt6T4IMjOWMGtfMElYHvIIy2It6Qffnm4achO043zvQrQeAX07PNWR2M8XNCcawPjaRi2fmTrGtpaINUVAonaX0RrALN6+bmRMCN3/cj63XAHgKB66+Ueuxf1lxr0SfjpD0MId9u9IEUMQ2Jo/XsLI6U7nnwPTBhYFmllaoCxcM2fUN1P1KKpToS+7NNiWYCyUD5BJn1kIzJ3j6uAYAOTFNsDxf1sgbxbb0LThk2yTAkFsyVY0gA0Jm0lP6YOniZo27dxs5reSHICiqeu0c7NLA0i4qU2dM4CxOqGzRADzFWsQ63kOWNGzAgDjGsAdUQWQgxudra2t0CDweYeIC9EmRFDaVAEQzTs0i9QKc8HzEf3/Bhzjme2Z+qUHi28vWqahaXUBnhne11ZoGgJQ5gSACNG2ttK17bY7oK3fAh5Dn7/+sCa07Wt1a4AIBP4j/CwAxH73avyEqQ9YZCq+GU6z/9nSRXuxXPVg2ZoNgCdzQArLLEUYIvED/I23Ca0lLncZdnBZS5hzk5V3bDca8wJ9+MXTvOyyfLCdDwCKtaRZ28f24h+9k5sRibC8R+/iTWxUA9G8UmsAhXftq7dd3Qg/geUKAPfitrgSfBB/RBr8fDT+eHxl0eCJAIGfBAgEGFtsENgD/w2moqie39IzzaI03LS6MFWfPjBBgrekqiBJkm0JSYAnHaZkcW7eHJtLGsl2AzRSBCY+GgRrcxVDZyqYXTCFmkQAuBdysk3alEENoC56rqVattWRwAIEG4DRHmch+wSUNC2bPoC+ccYB9siINXHe/KfBoj7u0wDSXE6tqYvo21iFublggUmzLbWgY0hWO4SAH5OosaDvk+kvqc+P47ujyctH4wCUNJmFiMJJ2uofsyhj1wufKdZ7bYkmPw7z75+21KUjjZlT7z7wlgj8LQH47MhNGIMc9C5oUaFFvu2Viw8Csycje8MNsEPtNiaUvElheTqlsMzf4WRC8nzJB1gAR3UvhQW4ZzAvpotc1hK2WwvQuCOQ649t1sMKwzROLgoFgjDnp50Ohm4ltrWkORfgYJ1X6jQx3XCRcd3LSju2XAHga/FF0G4I/T9sLvLJfYh/K5AGj1Pq8E/Ng8C7FvcGi3jU5c+2dM0eyGi9KBM0m8A09KBFdTKY0pV61/kpANBvivCVOqJmqOoAXqNgWLvhB6gBmOuio1GpI//zFsn2zlhXAsA9MQC4DgBme1NbmlRpWiURAJYhm5OkdrAcb5g2Oh8RTADI0km6DrBZ65fbNMVosjWAEiwyqE/XP8nMXRHArAG83gMA9wDYMe1OiHZDSzIKU5MN9CbgasBKBi4SAAhA4CBqNGaxjGQMUOtohm/nUph/T3edih3jQt5y8EdtM8AKgH3Gr6mMXagTByLw9xmAvwtQZi6ddrMTl+36GAe+XfIWLjYIpBaycA545RdbusWMeip+iRcF+ZAesB/CxSw4C5OSh2gAupAJT8QwBbZ+vDEz87zGHIcAkO4UNomw/Cv7cNM+3TdYxcdFDAShAOey0Aiv3NLUzRaWKXgy5ZQm1gPWvLIIzlnBW2rzBd129TP8BJYrAPxr3NaZ+PsT/BGd8PMs/P0N/lYmDUBTcfinAQKfC02gH5R0/OZZg7QXfy3mBeRC2EnJNg8NH+sC+4iaHi74NpExUENk+7YQ3JRgUGReOR+xDf3WqJ1y0VoEgrj8ACUZdDNT08mdzXFMP0Bq/ZiEmSRBIBoASjLobmgApRSc+AASaJKRUqImcS5MuaBJACD8nOaJEvqwZXaVGsDiP6jb6U+mzKFPpYu2QXOWlP5FzL9U8jfTBIClKwKYwL6GXwSTQLuoDPNwMWAeZh+GkNQATrPqUNcQTcd4PdZ4Za3Xlog+tiWyr0WkOvj7DsBfs1/nIs6ie5eKQODDoAk8Z3E1gYWXwFryVVyT7ujpSOqoHwH+dEOqDkXFYJBrgm2TAkEGokCQW2JjiAbwztjx9YiA3x5IL8MO65ECjO+xj0Y82RGEVzbzYPIVUwNo805JBSM8WTSAwiv1tcnzO50xQY+90j6XKwA8DF/EJdaXQQ0gj69cGsACuBQgsATzFM1ULVAGeHwGtVNDGjY9nCQ6ZWZ8P+PkS50FYJvyALYBaIcmPQDRV+syjWQrEW5uxubTAIp/YDNT4r0yHyA1a5pM3xaCTc20+qLt2aiZaAB1fqsp3bUjn+ID2DABCwAUQGAGgPBiE9CXmiZgmrNdASAj+I5sIjBkUlmflE4/y6QAkG3Iw0e/TZsY4DMAzYVNVST6zkNj4iNJ/wKhKkAV+AjmkaooDc3CnNwXpYrJp2kubaj5m/oRfNeenr5Puy1XOvjTz+dA6AiKD19cEMgE3pmTkJ8Q32kLlImE5fNS9aA2OtkP8Fi8r7/2jjcEbd24A6wxWn7KkV2NYjCj7yuOc/oizAVYg6js0vKxDbMm0Apg0yjeUZe/9JjDaqPXEjNgzhSWyV/YZtUcbD9l//5yBYDUR9vm3tfgWFhP7X8Oy+dMEwh0+3J0/GYyT4B/CxyL5xpq+KRrMHVpHyIsZ7GIJpGAu2PAfPzOyxyDku2EJyKNvi8+M4PPt2UTIkq3JvxkQgCwALNtxaMdlFq/zYBtCGxw3GCipgZQnhHZV7MDM30AJVq38xnuJcgjG5mAGVkXAoD0ARwwzKU0Z9sawN0AXZTobdoJM+1amNN9NIZ+Q45+uv0MoD0pO6+d1Mf5KRrAeHBJkv8ff0dJ+f/o/8cgpTQk0b/PS9O00aZyvvjYMrHxYhADPu77NMy+K1TzZz/DOgh81eJpAktvhLAMv8oWKIPgjhr0Gfa77xoiD/NuFb/dUNs+vMv0ipoFVHRRq9YSjsHo+60BUMk2rAqyCwKZi2gtcaXNcllLaOI1Tb4cj5q+hruM6QNYqltONPDTgXOueawea34CyxUAvg638Vn8/Rx/38AfUQY4myIIXPlEEHjYJ+Z9ApvV5125+ci/5eVIVXFuS8Nn1fNgBsaik4JK6jS8yJcGW9K3hY77PirBVOcKBBkA8yFQsKkQSbx7wSgbWjm7zTr4Cu4I5AwkCCw7HK6pCdtjlZtjSTgzEGQQnm8mozMjgwmKqREkM2OQhmZu9vza2SfUpIFcagLncJUJMFqtARwH+BmsD19DqwxmocmlAeT9UqK3iZI/FwAXTWLJKKCXTzvIPozWdmn/eK4KQO3K80cNB/1CXURBYRqjUqMcIpraCurEUJPoHMerqcuh5TwtsW1Tg8rnoaVaJJbFVC/3QYv/QAF/+kETBBaORHQwlowWTLO6e8uf/fjN7YPA0kIVJdo2+tQjwIe4nIWpB78yyZ16R7AhyxtOerIc5KNAEPe64YoE5oXSCcs0A7v9ACkA7oI7hU15vKW2EK0Dy0yQS15JNxSSVE0aj7bJrzQwpBDb4JXQrq9S4hNYrgCQKGAUf/BiroO/Ndi+Dn8PDBqEaeqwjwEEPhsmh/u6f8+FlwIAfhnMjbAhHfWrU6OFMWTa1SMV1BMApK7Qu87PEhb0ssPPTzf2JTklABz35CVkhNvOwJiMUpsDa/aBRJ9pYwRAyAaAtnMzNWomAKRvi3Zu1po/moB1vr5Op4HBl6kfXQQETQ0g56F9AIUR99TbcoMAkBpNkxj4MuLQ5BEA8jm5aHvk/4cFOkD3QUu70VGGjX6dTEHhAo8CAB/iHLWKaPFCQtLpGsBsH76fXnz/STSLetZ9EE6Y2Dw1MWdc73r4BYRBaOrxQg13fVepP3xUqaMAAldSwEfons1zB/2tlLW7Hdq5FviXOURL21Hg3Oda6tKKsFxMLSy7DWJ8X/oAo2rgPjb5hOVBBFoxCj/Ey9fDt9AXCUw+SiHS7s+5ENKarjGcUyECho35Md2U5pVmHkDxARRNp7jLMAiNKbaarS/2fa7uyxNYrgCQs9+LP2oB/3n+k/sPLGKKmEM/gmTRzwII3Nbde2eOsgw0j9OXp74OF8Q+dRzA088S+/RB7U/Jb3ZeynN1IKtg6EbNiAgz20kk8M3moWhbIoG3x47zwCYAi60BrSLbrIVmcacjxYycC/m2NAeC0GRq+rYwn5WWajlWEZBK17kkY2Mghki1wtTos9dNMgGg6QNolofT17c1gjxext0VcU82CTCMawbZjhqDpAAQRmszatsmVnhx1QAmYK1hLr4AEGqRBxwJpc3xy9DopTf/svTb88zuydsM/ii+Iblduy12/2A+yTPAX39Do9vusMuu/0HvBv9ah4ohb+4+CMyDH1cvxHX8lgX7+fWrU/Cb/UkMINntuF9E27K6zHWqfmwQv2+fuwwbiRk4rq0bjITlzfVx9AaBGiso7fHUEmY7XT1J97E/WT/dzoTANsMQ7/Yi3bRJNq80NYCmwEerBF1ZSKYGsNu80pzrct5ezgBwOT/3zs2dyaIP+TA0gWA6M7s6N65rpKgyyKddZ7zHWpFsqQWsqJ96x+IJLtwTHkVvCVqdCUcgCBkGkx/YkcAcbx0KqCdHuPklW4kEvotDNZFLA0iNmWkCpslXMy92NqPbqAEkIBNNoOTr66RUq7V6/NQMtRkANkzAlLwJVjXZKWJ4nJn7Gciix9JtJaO/PH99zPwksA6VgJvAwlDEwsGxbaJZnxoLm6QCyAb7cH2fKTKS/P8mscCmAYBi/r0Kv64n1sdP3JiDZmMG5r7sqYlN22qw51Kl7v5HSfWyXJM8t/UAjM50Y3nQe6EBLSq1+a+6CwJ7skAjT0GAz3eNCYQ3Rbh9LN6ja8INcbYfgGkOomMoHUw/4Nos+AdFIRcNImrXFQgyAFMtUyu5SPwA/UY2vvsl8LhJRwAHxxMzcHxs8kr6D5tk80paS+iHrInX0kFzkgWO6bO0taTzKbP0dVfaZ+9Ku6EH5P0Mn6zUQe8REFgb694jyDwSK/09+HNr01wX7geoq6GGpa36d7WVqiBhDSMBoM8PkNFqZHj7wPpsoqaoHNVpbT7D6FT2m4Js6qMNUZLT25ynmQyaKU5sGoBL9AS8XkySDPYNJqbPCRijZD9oaADFt0XMGtoHsKq7tP3J+pmsxEwwRxMMyQSApgmYANCMAB7HfdGf0aQx6PKGoMuzido/lnxyEbWIWIlxfSyYHtoKsO8y/7L5eAQA48El49AqUsPhowpAZx7aDB/xN1TDIpgm/UtNXY35n4DlKA5QfeOr6texWr0I6xZASbdo7Cql7nzHPPgb7dZVlte4fN4Hfwg/OWiM7n5Pd+e+gPyprdQGzuM3V0mwrBQB8sqOaF/e+ADOuWoC5/EOVx38jH3SVE8ir/T7AfqtJXF3Gdta0jABcy5m9C/3yUM1AKS/dOfdZXiVlUcrAQDCNrlKavTJSh0AyZY+gbOT3XsgxXOkbmnKK3Bh7EcqjTSSbQ7auCnkm9KAyHUJcW6+wXUqOlaEBFt2SLAhyTaJsZWggZoAU3TNS3RbDTOEnhiPN0upEnBhj8GkyfTxI5k+gDq/lUS0MQ0MmRoWrg6RpIBp5ADksHSm5nVJ1NxpYCgRwCPRcf43BoO4HQFMBu5KASMBIHGQxnFE+3cYN70UAoCSBDo+Nhc2LnAuYvBHBt8nvx8fVQE6cw6fQ1f7GQQ5saZrS1T+EtD+K1rq0lLjiV+gSvqfS8AHzZ73B/rDJcgkEE5gvCjTJAg89N+hnbtXqXs+2L1L9h8qY9fuSH0NEZZ/Cj4zl9hHzMCXB9tJ0JzbD7AIn76yIyiDPIs825XOJY83vAZeNRvgQ8wH6PMDpAaQGQFsGo4C5u5rOpwUMGcGgogZeBrvrA4CWfUBbHqYgR0/Fwx0up+dgpi7xLT1yiWewPzl1zwdTm1/AhD4XKRs6Zy2qOnmqLmofqMlEwoXyDTRwFyUMzDjTnsiyTgP+gCyigPjOF3Ehb910wb9AK9zDRcdI0ssQePlM22MQru4y8HYRDu4o2lcAj4dtcYTdG7WfoDNGkAxAev8gITRDZNH05AL2pEk0ASVBJeFaAwdbGIPKCZgEwDGA0BownEDwLugC42DNF6DCwVLSPmImtxJfDNM2O2iKsBcwaF1FA2gGwCK+feRruHqx8T/75T6vm9DzL/UAMINIy0xoXrfgQgA6RIwm4RwdDt4wFHfgonZ/dzSTrUj7Rh08at3K3X9P6F201PBO3Z2ZNi2BunBsnfEp+G0+hsEx3ysraGCnVvUAoqwfDxA1tXBYXmyAN/qakKKLXGX+aVzLF5LEuTH14kiTLJlT77VdQll4ejO4fOXLoJDuDImDIEL2FYUmoBNf2kzQwJvSHIBjkf3VgBPFXcZAYAiLMfvy/kgHuAHVwIAhEi3xETmdsc3l3gS85df93ykZf9jpW55EUDgTOfn1FuCM/VxLQWDtGYGPgUvc1I08DEABjc6701MG3FzbUgDOIr84Xs8QR76IiLZxsfleZFs79ZN658i2cZ9W6hB02SmgmnWADbSG+i2nfw06wBrAIilOtKM0SxMwKlJTMAmANzpiAAmANxPd6l/MvXDWk+ptu3qNrB+N1DjALvxnYxiQSEAt4mR2ZytS5M3DR+kLBYQF9F/NCkApAKXhWIKUEetdsvmX5ZVLL7ONbX2j1Xw+2QJtIdAQMsd1P547Y5A/nMl5sPPsy5W6hHvEhA4nl4r1u4UvP17YLJ/8Behzr5cqa1f8DZr60TuadA0fh/CMu4/JVFYnlHfSWwtqWPWASw28xezYw6C6RQCpWyrg24zgHfL5TMd4pUboqC56/UQsU+6c/B64t4ROw1hk3xtoumEFnLNeZInTaOlj0wNoC6pyT4UYruRMss3j+V+fCUAQK5bS0unno/osq8o9duPtKQZ69qkN7xcqZEzu5cFv8U0B5Q2JRr42sRbLsKZvoxouBCFAkEGoVGaALCwqQgtUtnDLDk/BhpMWpFo5hhS7Dw+Ltv4nZuZCzBu2jAlW0lvsDe6lFkOTuoBS3oDcx6d2pbcfyzELlVGZFx5lRh9TAarya0BXKtPR5+SGLrZB5AMXcrDwfHeIp6jRpVO4z5i9Y+NyI/mogq+S2oqbJrGE2f0rws0su0kXAxK6qF2t/o+a62KdkRM4fUTjo1p9W1cCy4XaWkOrhkzeAe6EfwxBQHklhcrdeS58C88LO2MutduGj61lzwTwugJSj3mA8DqWGr2O12px31Wqcuep9SO/+vetdOOzATcR34Vc4HwzgopnaaeDID4WQCBF6UemdrkGgLh0pmBTw7ySr4DWaRlmvbwPb+wzLypdznnvA7VbnZ4hG/dgVkTdnmihSkMuqwlJYh6k1YGCM7ftHpk5wEer2MLy9QACgCs4pN8bUpPZ/Uz8ATwVq5S208gA63YaTC57EVY/bV/AYmX2oklpv3+FJoGLHTdyH3FdDCzkOLnmoMcQnecVc8CI/p2qEl0jhFuXIT3BV7gAUihvkhgFjpnfitTmuTAXNRJPsa6AUBjqydxKvuthZbQZ9pgkMNuR4AJTaLx9AZrIx86jkky81tREtbzo1lDm4p7YaxhJsJOkjYBM3EqnaepUdPaNAaAEIxqEm1hXu9GJmszKITPmj6DLPpuUhlPhYzdRWU8TZrVfUCNfbahPqovAfQENIvUVNhE8D/gMSvP4l5Fx9m4F7s/tX+FFNo/Mf9e2Zr5twpBMQ8NfaeDP6a3itsHzZrFY+xbWvz98h+g6TsbmsjXwxT9hubrrzlWqdOh4frZm+GDlx4YNQ/Swb3eHOaI72XLJ6By/l4HB54fqvhqmJrT5wSUaOBH4X1KBshFFQaAnEGIV/I9cQWCsHQm3y8XSdBcFrxczK+uNiFrCd1BXH6ALl7JyN9JrAWaGEQ3EWV/w8/cCJhjpoQqoHA+An6rGkD9vNJ8rgLANE8pTZteSJMnfRLOGRuVuhzm15pffZ1muI60OfAdyBkA092db+/IcE2DRImhofVMSf1gVpLnKllhS/8W1mH1ESs4UKq1QZ5un8f5KUvzxnP0F6sAVrhoIzLnU+PkIzI+LvquhNA8x+MavOkxyNTiGsBm3xZhag0mp/uKBlCCeXQgCMFSp4CgaAAlWo7jk4ESdJIEADY0gITNJlDjUzDTslSxGDBxq01i/o2DNLaj+ZdVVnzElD10OM8Z6WfMthIAEjdzhgBgOdL+hQEStc9cWJOIC3QfItK5YKemyhfxI3xF6uapGtbw27n5OZIPdOAxqbp0tdGem6D5e4ZSx/0r0q5AA+iiEr63M76n1I3/ptStn3e1WNxjfRDgj4Zwevf7IMT/pLPX7j8Crw+0UcyekJKy0CqnEZYzEEpnoGmz+Y55GQGAvzIP1bdL6O+qnFSE1tDnA8jO6xGsR+HMR2ItgTLEQWItiYNLN6+ksLyjPoopLIu1RECojgimBrBRCWRVA1h/cIGNVQAYeDgtn6JkfyxA10FPAxPE31R8YW95zHY6cD4HfxBgdC+k7Q+3M1K8bwF+hpWvpTZ5S1LoYwEdfhkfyzpSiMzAV1hHG7sEIzlo3ejf4qKSOgKS4u9ip0qRZHtX7DgPDGC8cTg++0Al26xBzjlfrUsJ+NjJZnXS2e/rB7DB6DbTB5BMbXJeqmU7HdHGT50dv2Ha6Fx+K5pIJF2CBIFUIgkaCyGIJmCaWEjMU5jB09Yk6WOyejf63APdKRm4TTuhRVgT9P/zA8CdSF+xNpDKJRwB7B5X/P8eaU+zaX8KWuAchIEkmlYX4Pk9O6lZ43ztZmj+RhAAEn9OjUYtbs2WBfwd9C78sJ7QYucuNN92tVJXwP3kFPCFDSeGL5DDs3jShQjC+JFSv/6n1HwkPGgbZykoHwUQuPltKDDtBkwLHr14Dl6qL6Xu3kgKHRaWyQezMMkyc4KPSgjamFQA5Q5i+itG+9pps5gzlcd8vJBuGSzP6KMBCNrMmuAiV35UtvMDwAZPNXklg0DIp0hSDq6MWUtaq05nTIguskL/WwkAECjnfkZHQMp/6FvFDEJzyFISQeDhMG8wNcR96U0RiVPuHYZ28XCAy2RAp8fKqGcCUFygd72fBeS4qqK8VogGwIQmPRo78QOMA0CaDFk9wkVkpsM4P+bxfWGfUF1gmjZcvi10ip7B3WiipowaNk1aetX7pnOzPtYN52YxAWcjiVkkZ0k6zWuyGon2AaTJhcXZNY3DgDMIaGYSzdwMeLGJGkAfANwJzQXN6j4K1f9ln0mY3IuO/IJlfL9MceGiCfxe+Lvx0QzyCvbDcV67C/jacWGsqcvQ9hRfk/jx8hdgt3pV/PhCjzCwgoFeG1+LophPWegonet393dRlBPgiaBuyA3AYxfrg2BxylcRGQwTNk3CS+06k90As/V5qBuMZ8qAmk5RHoLC1LcBcudSjSjC8jGAYH6QpQeiz3RFXal3Y5+9AHn8Pc+C67ioGOVHjWvkcnhzp8DRXDQKAXuXw89atyUvLQDS0QXEJoJLPIjIlmKec6eCobWkMQfTWkK3Ffr9kbS1hNclifA8HW2v/hd+AisBAN4evsUlOnsgfGCO/zcxh+y5eYkmMX9ZRrzROXznt+DsjL9OUeHVkGz/X+rRMup0gKEfeyVLPVAvlnDKtqGycFzIuaC7aCDSAMYZOJNB+3xbOE5SPsBQIMgajO0qdm5LtppJaemafnd6m3MwA0G4T5IEp6wG0rn8VgIAJQhEM1OCUZIEgQxE2wSAlLw1UXtpJ4GmmXsEvps2jUNPMIinahO1DkzlQw2pj3ZAq7HOE6zB58U0QKwDbBLzk3GBcQE49pmGppLuAz4qYyEtInF5Es2q3+DaR0W/0aS20XlGgU79CAEB4AmdIAKJ371SgN/6F3dixPbGuA084KaPwax7EX7A/ufrvEgPlqDj/x39DlDqJ7iXpXadyR8MXvlfME3DwsFcgZ2gngJQyQnInPCT1KNl1DNSCsuPx/t6RXDcErSEDH5ykQSCxIVlsZbc7eoSvWN0zaiAF/hoHXjwDocVhu2HwCvG8C6aRMF4ah7Q6eMua4n2ARR/5X1RU/GXbgBc8lg5o0da/fQ9gZUAAD/ru7klP84IuJO/ArPIS+H09LOlnU7k7AzpdgsY9Z5LOjOX7MmwEeK+9lVSjdeDBb8XqQfmVDIgLqjHgcFc5R23CKZW9oyTwyJfdfgA0rl50uPczAslAcAhjDvmGJd9qelyAUBKtnstZqfTFrAfSYI8atG2ODePRds0adDkKj56dG7Ogkl2xrdFawAZ4KF9AOlMTTKDQCQCuKEBJAAcxN2aJBrAZgDIoBAyaf6zaTe0rCMeLR3b0vePEC8zPx+7/zSeaNYApfp8WW1Gj0P0btMn3QVygWuyMTUpdD9IImqxM+rpSc0a56e+B/B3JkzA1H60Scyrd8dfQCo4ElG1b2xzsDa7cy7XfwC1hn8gmr9s43fS0sjadeaApyr142cAKMnvv6UxOtm4eLRSh31cAms6VV6T2t/K51PPMqPOwLt/cWL7fohJc+Bqc4aVwe4UspZIIMhtdhcIfeSVd8WO6wMb1MODfoAEgPTzdRF5Jd1DbKJfseljTT5j+gDSEkF+ZBIFO60B1MdNgVofW/10P4E4d3a3Wz260Ccw/BBEvV0AE8efib/LQsfpRL8+aHWO+m8EhbyzM34ulN5zz4QJ5zupZ5eFZDutYCZKIGpiqJHxUS8gAKGTRHY2t6IEyMQuNUui7Mex2QCjZCoYSrW2T4wenYAmCy3Z1LzviT7OzwEw4gmHRCyFzpulXUq2LKemiYxNm4WpAazMjy9AsRwBNJ23j8CtEyQAUCeC1kEgWgPYMAHTP5GmF02iAVynd6NPRurZ0b4sATfsSNPCDjtQr5kLhI92wGeJ6SZ8RBA/AI2rTQwAofnfRXQXCJl/CThpAs54AKQ5JhfmjHqyeSi8Xf4iNFwAAJ2ge+HTu28Wfsbv6sRoCx+DWsifvxW2eCzkJ38Vvo0w57ZLDz4HwRhvllyBlW3tjtZe/8Hj4T/9XgGB9LVsl/ofDckGgGhub6qRaETtxW981gOizEEK6jHgar8wDzVtl6KsCTc0HdM7Yi35nd6tf4oG8J76vr1BYXl7IBBkHQR9X9YEAsDdDgDIhNAm4KPFw8wnaKZ+4Xzom0wfZbGQiBJCC832fFf33U9gFQC6n0tnj5YOUOpMmEfo7LzUCaMzawECtZ/L7e3fJ0taVc5NPU5GnYmX+oeJ7emIP+Ux8erONG2UPQ7Ovgi3voip+Bn6iDoUcGazvkTsk4zNZdoQ0Ekn5GbfE5pG7Uhg+tA1B4I0JFvxAdTOzZLeQPsA0rmZGsFOUCMIJK4BFK1gIbpM3AeQdYAbGkACJ5KYZKLN6L/d0LjRLO4iPr8QAGSE4XpoGHxEP04uUDYx8IcBQC6agD8Vywj6aBq5zbJwmNcmel+7Wfgu9kJX3OPRTsb6sW72PoD9fgiC7RITFk9cB+0UTKbUmi0V6QTPmUGlToSmrLevczM56OlKPfr9EkQ3vrlz4y5kJOZS3fQ6MQfvqy1khEYffl/5F0JYBu9NSdQyz6QQlgsQlkPJ87PgQdOwXLg0Y1mkWplx+OpRwApZS0YgKO3Bu+CjHN62aYyg+YPZTtxl4uBShOX7zKbR+6jH0AmjdQMBhBN4H1m6TviQdpdhG9f96r6rn/IEVgHgYv0Sclg0z/hf5OX7EqTKTy7WVd3XyT1IsuDf+iKYW5q1U+4OgaN9GIvagNm4St/VqwfwgX9zWMRDJPmwNoI53ettVor8AK93nhfThkuyJWPzX5spDsKSrd+3ZQTpE6j5MmkQUGbcSGXAcwRQJgAU04ZoBliLV0e3SX4rJjilrx59ADtXD5gaQI5LJkkGKqWUivNTb6R9sTWA1FwyP5emCSweAwYg1MdDEcB78PxHPOCQ/XdGGkCY4Tw04QWAt2MubgBIQaEIgOejtP5/XJDpn5Waql9BmOJLUjf3Ntx1IVSnXxdfXvr0LhWxnu+lz0NizMco9ah/6A4Q3XQyUmp9RqnLnovcfG7ftUW7ffpYDp8Kn8vXg8/B5N0O8XdQ+XLqETLqKeB/30tsz6C5SiBojkJNLpAQuh8caQaafpOy0N9Pg0v5iDaWAt77sifal/2Gcc0xRxLqIvhHGZzSJpe1pIi5mVkSeC8aEAqvHG8aRmdMYOkBuqGsUvgJLGcA+BzcGpHU9/E3hD/u378pShj9bZQeumLpUx+UHobcYR8VE0et+SVq+SEWXgbG9l+pu2XU08BcLkxsnxThNgAt0aQnUs5v2kgTCHKDd27rATBownSRKxCEJdVsRkQNIKNpNZnRbaUIAMr3QQDI9CwCAHWC06ru1tan9gHUg0gi1WJMaqbPjRkFzByAZpk4+jcOOwI9qAFkjWSbZnBHDN4g6HTRDO6X+sR+gFMfEcDbJmACWVYO7sdsbRL/KOoo/WZKSQD9OLtrbJ8LckadHTvuPVD5JjQ/L/CeTnVi7GqkcYLplxGq9OVdKpoGSGB6q0Oer9Qxb+nuLNY+EhHCeHZXnrP0/tP7/znsjXB7uOtd7d1z3wb8tEdgCr411Ti9kaDFJO1bgu17o988AY8fsJXAK6kFd5FPWJZawX6LA7X0oXyAvkAQgjjmTjWzI3BedsAcj4m1BBr0eTIFZDtgjjzA5JWd8pfW116Jn8sVAL4WX8Zn8fd7/D0Wf9Cvq8/h7634u39TX1apJwIslaGF+sXb25cq27lb5g47AI+MmkCadRZKTHNQBbBNKSFn1FNTSrYMBMHi5yGWOZqyNG66aQmm3EmHiUKcm/0awALAWRVaLZ8fINMbVACKXOYFAh5XRRDx5ROzLudHDaDtAzg5z7xNBtfwAWSNS9EAdsoEzITSJpCTRNAlAHOJNtbPkeCVfjUku0YwjwkA3MjNJqrgfoqAhjZJ+pdD7cP1/ST/PzacAnjO4XsyifV/c9C2umgSwUJFRO36aB9+jYw4ZxWaEM1FmlwCyeZre/vM/Bq+cYcAtMWfg7ePfaJ8C7jcm6VaRT/l3CWi6g745v0RgB/A0OEvXZxJDB2O4JILxH96y48X55q+qxz8Afzw7kQQ3ad8LdIdL7y8RZeZs/HrvChx7II6EW/uz7ztCAD9wvLhOBcXaktIs+Qrn8kLMRBkOyLifbQ2cpeJj8v2ow5ryRBGHAOkNCnOKxsaQRMA0jpCf0ABgJ3lleZ8Vtr2cgWAEIcVxFD1z/gj+INoirAppd6Jv/s/0WfmxE9gnnj8V//J0ua/WgvwNgqNxu3A1CkBXOwB90Lr0v9wqXMaOxk/0Bul4qhCst0TP2kcySIR8LS61Qm22IySZBaL/rTFNHiOvn5zYAg2UGMqmJAJmH2T/ACLAACThgaPfUhSEi4OLm3TBoGRadagBlDvaxMGx9MljugMrQFgJ6VaPhs+Q5KMnwfDZx1gBAuB7GcnEcGj0Tn9nwDATXo3+mT9X1+KF2pPuTD4iOZ3muF9pIFLGhovAABAAElEQVS5nrdux6L2Jc+4kxiTC6CPqvA1zQfyA+p+rWv/voTgD/jILpSm74NwBrPhkV9G/eD9FjpK+/0m7xXw96j3Ifjk6e2P18oIxf3Fdea690AD9z+t9OxsWwa8HfF5pXZ9Bz4KAKULpTxAdPV7eLnmUo2QhbVkRv1vYltmTSgHsiaw/nXZU8N3AO8N3x+bCABDvHIYifH3qs12t/q+JM4HaHYQheVd0OSbxFq/BHEmMRLYtpZoYZn+0o2AObGWSKosAYC0cqxS+AksVwDIVUiLhNoxg79g6NeXCdEp+Djg2IFDkSbmZe1p4Nq95f3eBBMHtB93vXvhI7HEVQULXkpiFGVSMAgX+QyYzEyAyYhke4Pzqq6ScAWAz7InlYseRPwA/ZKtRLjFGWYBur3qfASvHoufAgAbki1To5jgyvQBNIGNzm/VMGswqbTfJGNeM822mIFz800FDJoAULSBhfpQkgR6TX2fGy4NYCgAZCcWGj4/H+2Etm5dQFtXgcmZ36FN1GD4/P8IAEMBIBX1U4z5eHvI2P6M+i5+j0+LHXceiHL/XQbgdobzdOJBumXc/DwJ+Cgeldi8aw3G8Dv/8bMgsP4n0s6c2rXLBAfOQ+P6pO8i1+B/QFD9SrBpV0/2wnrzEJil7/2QUjTLL4R68L5lT4Lv9eWpevci2GkuskhMBNvnUZawGqiyxKwIjHPnn01F8NhJB49NEpYbfoA77CGjfSmfOYtr1mLnxVrSDADZiFYJM5DONgGbvLLZWiK103UQCFNmrQLA2GOPHViuAPBi3MlbrbtBuJb6lXXs/r977N8gm/8TxbF6KZOgRiaOO1At5DMLe2ZZ3MM0TBCse5mCxA8wjWT7eEh5P/WOWIK2yOfbQo2QLdnS94xOxCYAswdPAwB9foCUYuMJTTdEQMm8jlQIETCno3wb5zk7+rPoKGApAdfJIBBeS2v9GtcFhscTI2MlUdJmySVNNFvbOQBp6iXwNcnn/8c24wBwgx5TK/P/kfoxoo8kAOSA2GmJAD4sdpwHqshnlkOlFh9V1DW44om+09HxfRhlDoJDH1wLUtHUD5EiCeCvB9r+VonuGLe+GO4Zfwl/gce32rtz7ffciLrmL1DqCV9AGZzHdm7chYyUxW/sSdAAbv4GKqB8eiEjdKYPzfAPOR9m+TfhZbltYWO2bAZOzgnYCx02fQFnjfRS9uSKSJFUcaSVYXIrata1dl33SwKAbJcUNMd8n66UL75IYDEDb9dTiPiNqQEkANTWEjEBQ1ACaWsJhWVdD7iT1pL6hFbYxnIFgLCbqr/FH99AagP5CSSlIDIvQzrqDcg59RyAwGfDjDq5NDegTRw7zkPkHUwUrRL7588Gqkj2V+HQvTDvzkFrQ/+rEBXUSWBafmlbTBu/dQ5B04ar2HkOP5npgPm5kQ/QbaZhCTP6srloBGYTOxKYGkA78z2B1MQ8sza1fhxT8ltN15maTrHCEkedkGo1+KWGjwxToup6otsxNYBktGYACAGgWQVEp16w578LkduuFDDMn8g8inZ7/Ryp/Vsb0P6xHUvAcWGyqQJzUsFxnCku+rFo+K7JAJE56IT7IjZij9rYZ+m3TCul3xgUxeCoVoluGL//U9gyzkSkLXjCUtFOyNJRXV8ArtGHLdUsmq/bX1DqVICvLZco9duPNp9bzL3c/hKNzWohMztav3IGYLr2GwjL5VR9xWc6ma9KNPDPvGOKtQTXdVABPnkVK9ikhGN830LEaj07PKZl9hNe+fvYEDm8xdN472wiAKRVQROFUW3m5TEKpA0TMM/JeqkBoGkC7qS1RM9npX0uVwDIX9Qa/L0Df6/HH8Ef7AQOPTYOLgs64hVIzfKqpc2EH1ULgYnjrr+XfGOtPjgueGUsfCmIC3I//FZqAe0eh8kAbM0AbGnQYg/NxZ3Rnzo1gHnepQHk+STfFrYZguQ65khWynOS42rCOSeXH+AgjJqmFMsxBgE4zDqXUg1klqciHzwCMW0Cjg7iP+3orPcX+lnDU+/HvymwT+1zSNMJydYADhjaPVsDOAlw5UoBsweLBlPi2MTEsKH6v9tRrmq9p/ybHos+Sfz+TNImJqkzap4hYPwN2vsBzJS6DhD4Uc2dHHvT8MNKbf5lst/ZO/Hj9fsdOi4hh2he7C0qtf+feZt0/QSrFl0Ntnrat/AiHNH1y7V0AQbRMfH0LgBU5lVdKio+FEI7vqubn4/vWjTXqadC958ogf4Fqbr0IZHzLNwYbA2d3VmqJ4WE5YdF74Pdj/vklXYgiPhRT7ua14+NgD/vjmIx64eaNkIJoV3WEmYUMANBbMHN1ACSd1HbRxIASH6m/aUpLIfn3jTRB+jOcgWA+uv6ITa+gb8f4Y92qGZbFA4sK4rSK/y5pFqY2rU0U+8fhYkDj/R3r4Y27+7W5sBkt3NQ38+lm3sayZYMQEDg7d655ODDUnVg/wIqUVQdUcICAMOSrZg23JpFTmQAjGrCEXwiALB5bPq1MH2KSXY1EOa7KoP1kWjaIBCjJpBaOk0EgJ1gauL7J2XlmFzazAGYpAE0TcDUarpSwDAIhBK+TQSAIf+/NBHA5UgD2AwAKwDqRY+JNwkAUrtMLXOIKHzMotJCnzou1KxxrvrfWJGe29hPu7X967CRX4v0TP+atkfn2933E4m6PR3BDgMHd378TozY2w+z9BeB7u9CJoV3QpMGrelS0MjpcN85B/YnCO8pgzrq0ywgkrrylfpuaIM8sA/JLmbVz0PNAH0eAW5xnbdNASCv4qnP6wsEYba/mkNTpy9Cl5os+FXVY1EREzC+Jwe5eKXtL81uAhQF6JnVQAQcyncvALA5Z6odUOKYwgP+UO8yfQJvw7y5ou42/vbMb+NjGROj7B7xLoBAfDL1wlJQHn5OrDaw+a9av3oBEnHlvFT9+uF4Tw2gT7unB0kyA0s+wLhpg2yTxmbb8TmNb4uYNvwA0GfacDE13ocwsYbJg8mUm1PBNEwb2rnZlH65TS0hU7G0SwSABJfUAEqEsWgCOa5oHgeiS0gVkIZMpTWG+vp7AYBpsjGJ/o9ZwDEXiQYQvy0HsQboLOBtxgEczebTeGpMUmsSzfys/OKiZAD4Myxxx7u61o/NIkq4D1pEbYqvn/BtVL4G8++LfWfdxxn0ce8/S8TvQvwG3aO2dvQPcK3+BYwpZ1wIKWT/1vouduseLF0nfQqmVLxTLEm3VCBwA8BfdpNEB7fyDPoPERPw7LZUvbJR6qyLgm2ZE6EXtoVZR4YCdqTNhbkwZx2AzqUBZJ90wrLfDNyHN5pk1viNDuA/F6+0TcBsS2uJ5pUEnLYwzTZxDWDnkuZz/JVKyxUAfhhfCP0AucLrP94Lt5c/7X8msuz/k4DAytaluR/mCGSVkKk/tHb9qNzRN1P1oW6vFwv3nMMx2RxAAOA15qGm7SLMhpMwH7qoCFMuNUQmDeKaexOuOQDt4QR8YnzgdC2CAVy1LsW3JW4SEufmBrMXH0DKL0KSCkY0gAWwXdPvhS0I1Drl08JxRJtIH0CaUcoRA+V1qA3UaWCokdQ+gK7nQFPNkBXQwTyIZOwumkDWsBKMvC7aje9jjaeOr24/BS2DCyBORADwcN2s/sk5z8BDiamCXLQPEHgOd5zk/yfpX57qGiJ+bPZeOdbnfgbxDvNHtp+LxGoAE31Fb5Ounrjn+0pd9x6Av+9iNXU/r65efyGD05R6/Ech40Ej+LM3t66FW8g1XX0OgD5iyyddZ8LHmCC8mo5X9sP/dEZdHh4PZ5OqgjAfpqt8Zh7vcdXwvdMXGoLWcA98c0PEut07PPyX/UbBg/dYPFiOH4jjzesLA99oQTDJ5pU8p/mRrv1r+wDSX7pT/NKcy0rbXq4AkNq+z660L6PpfvY7FWlioBG45BlQy2xpOrVoO5uAse+DlN0K9W2EqJmHyHdXql6sqpBU7igDsBXyAywioKTsYVLUDBEgmJSDh9os2J2OOjXP6W1q3ErQbk06mCLbhAJBXL4tLHROjZkmMrXxSIEtR8S5Gb5jIDEBT0bbnAf9G2mqZdRuJ8g2AZsAULYL0WXMKOCpCCSWmi4/BkA3bIErHwBkAAh9J02tpjkY/f+4kIRou/o/tHlMrEkZPqJM/G3TNL67rCNljG5Hc1ke/lVJVFOXAHg+KamZnK98vXXtH7VX274EAHhOumt0utXd0Pjd8AFJtZKja/UyIoLAx3wIEtII/BbfsDQgMPcghK5DKz15Q2sPjtaSlLWBewDtevGuzSKiPUSMZmdUu4/oD0utuE1iX6CrSrPf3HqYnrcnmJ7XqCMRHnabPWR938cr6SfsSpxPLZ9ZPcm2lhAk0hpB0u4y4stcxvsugXL6sz6J1Q3nE1iuAPDtuJtv4O9g/NFGZf5hd4XQRmjhjocp9sfPBHO5Z/FvilGIu6ERmJtq7dp5mL9oBktBzAc4o34QbEnQkFGHRCDQ1ZB+KvsA52xTL9sSALoigdfC8X9nQtagkBm4Uewci7dF7kjgZudm0eg1AJ3UvNQawEY9YDHRSnUO8QfEgtcm0Y9QUspIFDAdqXUQCGVrbeoUoAgwD7IDQHiMUcwlyPcmMQDEpQGktnSNA6TpvowkTAoA4UK0wWGupeYiZ5miOa6Yfx+qLxH7FP+/E2PHzQNzkQBQwDMZNA/7tyP/P7w3rdBemF4HYIZeikofd/43Imo/AvAHEJgDiFqORBD46PcBDUDr+tPXgF81+9suyi0xl+qW/2jtUr1rISzjmdduT9UvjbCc5AfIrAl+a8mDIOY1W0uKEKCq4JQu3qonLaUdM+DPMMc7yOcu44sEZu6/CcOMLcLyrvrIZiSwdpch/yIf07xLAuaawWx9gNWN+hNYrgCQNwDxKcrFsQeftKXpT2yuINqABerEjwMEPnvxQWAv/DfWPAtF6M9v7YHm0ad6Qao+vdDpsMjYPujHQpQk2RZQo7fqzGbvBoAEEtsCBdQ5FzFt3Oid1gAgC82aNrHMEXPhmWSbgPU5bcowq4GYJuBm3xZKvXHAqcdK+0nTiKSUEWBJ7R6l6hARAFIS16TnrRmuPr4bJh1XBPAuvKo0m7uIGs4pfP95Y3y7HdtMQPsxAEHApFn0ZB4zl2axDK0iFzwfVfD9J/n/zagf4lmd5Rui+XjtZphw94NJEtqgVmgL3u/9/rSVHp1pu/lbiGLFtQn+mGdvudMj3w1VwIMBAl+9+CBw6BTw51+DlXEpaoHoK5paWH4KQNb3g4P34E3uxbvM0oYuYj7MKQvk6XYiLMfB6BpoDXcFTLzsvxZWmJ3qFj1U02coEITWEjsdjM0rbROwGQmseSUFZTNgjvxtNQ9g09fg3FmuAPCDuJvX44/z51+f8YnNFUZMwnrSJ+dBYLOE1vU73fRapba2aG3vRRBB30HIkeUHT+a8+2Fem6kXdjHPNLbz6gQAvGsbB6ytEsyHk458VKwPO+UAacNgWHsDZeY4/DDAxh612bpSY5caLQIbm6gBJBAyiSZgmkxNogRcxaxJEgU8Hm1L7is5TgBIgCYMjmCn2TwSdWjxv4YJ2NQAFqMAE10fmCaYvui1ksFZBo7O2Jqq0AnmHVoxMnN3BPAdXg3gGIAdy0qFiD6bwwD5NtArqzvxhGCCcxA1HT4ASO/AOXwjfVi6QkTtdEY9JdSkcY4LObXfrVD1ToAVaE6KR7fSq/22myHU3QKecvoFSFeD93Wl0LHvwIt7FEDgqxYXBFILueEc8MovtvYkcwj2mwIATxHE0gu+sg+cZd+8+dN3oTzMtlW4S7hITL0lvN3Ca8w2vvrp6xH9viPBDLxOHQ0AeJM5XH1bAkEowtXqx/SGmIFtXklrSYNXShBIA9BSA1ien792l7H5Ak3Aqz6A+in7P5crAOSvoUVU4n8Iy+LMuuMk6u3HMC9NLiIIZA1SRrlN/Kq1x0TJtooFMQVRw5Ik2WYRIDAd8DORQJA44CRjoIaImiKTCKRo3gglOmUbpjiYAjtykQSCxAGgFDrf0tSFtXHttARkbBPzkjoZmWZqItUKANS5rhr5rdpPBSMAUFLMiImZJmCpOkLwSeJcCEo12RpAMmiCWpNCNYDHoW8ddJhp2Z/m37VYQEJE8y/9kWyajPz/DrMPY5GkU8BexD2OxM7xwBT8oHKB+sBsIyDxDvwKjuBumLiAMwl6/qnhdvbZrZ9Wir62i0kR+PsUwN93Vhb408+Q1ZVG4E+62CBww8vwY/4qfjhzeibJn6yj3offV+2G5LZokVEn43f9k2BbarWp3fYRhWVXIIhoAOP8bI06FuAuPD++v0zj5KNhJGmne4hNBIB2IIidC1AS4zf4t20CruBuTCLPz+BfJ1JmmeOuxO3lCgDfji8D4muC2mClfWPrHrM0IHATzFP3faK1p5k7Gwvi91JJtn3IXyWJTv2MkzCuH5G5Mw4mwokV4YhcgUbPRdQQVRzO02kcnFmZwpfpfg00hC4NIDVj1JDZRO2amQ4hnt5A7p+aN53qQAOzBgBsP8GpNgEzqITjMvCDQFNSwGBBApkBINwnUKUpRpNEADcDQDJyl/l3Bk+fTNw2F+ux0uT/2wF/zXXq0bpL/VMA4KH1fb0xjd9JzhONzDYVxfQvJ+jmzs8anOn7E3IE1jvWICD1A3T0FOqHEjfoW7v7B3CzeEZi0441qIO/Fab5sx/Qw7FELDYI7IPwNHgSnJHg09kKRWZgAMcURG10krCcx3tSRd5KH4m15Lex01m8YVPgdjb14U1i9D19AX1EQZlBdS4tH/tQWHbxSvoL28BwEKLeXkMDqK+p3U7EX3pvdFibgBtt5iC05yC8cSarPoD6ufg+lysAPA839Hr8UVyZnf/j6sntlU0aBF76XKzScYmqKzfPlDCMcKvtST98Tw4L4rEwA/sZkR6MElsfpEzmWwtRHpKtzwws9SxZnGwmNoRPsl0XmTbcphI9iJg2bta7TZ8FwJ2qRztoS63saFcEoU8dTasmaSanj0l0G/P1UWPH/H3tmzYkCETGoamEEXV0omYKGDJUElPAFDFjTQSAA4Y2TTSAG/Tp6NMHAHepzbjTQ5ramjvjAGuDAbA2g6dEfVxmXjtp9vVFANMdoBiIKk4DAMX8e5Z5Of82o39bNf/St3btswAa+/3jdvIMAz7qZl/5njs5/P1uLA0Cr3pNa1q5dm5k0xsgLFM30QLlnoyUWwCNKczAfeCBNWjDbT5hXo0+gCSWOHQRrSVlh7uMWEsy4MMNbZvuz+j7HQFQyXYjAHl7HC4xPCfC8mZuNpHLBEwfvwogoEm0TGh3GTMZtGkt0W4y8jkTfEbm2A/k7eUKAEfxpek/qiX4x/2GigI7K5YIAk/4T6kdvBgpYiL/lpcjVcW5rT3SwgthBsbCmILEDPzDYMsk0wYz3VetlC8csATwQU2RTQVImswtxwTEPpIUB27NIvsQBFYsEMfjw9BW7rVqa9p+gAIAG74t1MZpR2YyY8JZAjNJwCznOgEAtQaQiwi1crwmAaaUgXNrAJmAmqBWk8sEHAKAaz0AsAKtQh6vLe/XRzshGKz1pGuhxoKaC5to4qKmw0XUDswiupca5RDV1BVo88RQEzkXmX8vQRTtk5Lbmi22fg6VJABOFoPu+h+lbvqPebPvAwD86WdKEDh4uFJXvX5xQCB9OWfHYf24R88g+bMnC2H5kRCW/WZbPYgkcz4Uv+Df6UPOT9ECut12cjDHTllBanoQsZbEXYzoB8g0TCGiGdjnBzgKY91u+Ova5LKWkCeRN5kg1+SVzRkTGjlTNa/UwjIkK/tyq/vWE1iuAJDige/PusUVurv+eKSI+RgCQ6BBWIxk0etfqtT2L6eSUutPPHs6GOGPUzHefnUaJFu0DVAOkit9t3zkCwQpQjKdhBbKRWsw5h6HNKzbZiBN05hgmm71OX6SsVHDZdMIwIXt22IDQNMHkP2pcdN+gBL8wQod4ptHpsaotk7kt9JpYPSc4b0WAUHRAA5Eh00fQJMR6z4EgNRomrQHgJf3bVNIAyjmXzjtB4gLDxcgm0IRwKIBxGLsIPqS0qc0RHPQSvZEwDQfaibnZq6Bnyzm15NJbqtbUKOeWYt+8eelm3Ts856LJNXL6Rfgmg2tbsfGv78P9Ii/w8uFFDHXvKk1/rXQ+9r42tYD5yJh+RuprphRZ0Ic+1GwLYVln7VENH2tBYIMgM8xCp/Ck49oLdnhyceqfaDt/pwLg0Rsc20+0vhN1C9FAKjzpmqrCE9KwJxoOoVXamtJFWfJ2VYp9ASWGwCkifc5+OOvkNvmnz6Gww8QYoqYx34EyaKfCU3b9u7eNHOUlR6l1Njl6a/DBTELx/2ZqxP79EbmRWq9Ghoxu5NUDmGpI3ebIhgQU3/YJJHA2+zD0T7NwEmSLQue73GkmOEAPt8Wl3Mz0xswGEKTydR4zJRs89BfUSMn+a10FHC1QyZgMSXreWhGaZqA6QOoTcA0vXA+JhEQmxpBnivjKRWj79FsSUntXhzFAuwgagzoZxmivUgvwahtm3w1gAlYa5hLJjIK2L3wqsCExkjJEHGBZY7KVBSZf6HtboWYYJ3mwm7TvdCq3/BBpHoB+FsJqV4W+rwe+ffQ0I4qde2fdR8Ern02SsNdiFUq7o7inX72NAjLl2FufoCl+woADFtL+PuuBCJ3pSJI3LWlqNzWEgI1VgUZ8/BBzq0UBdXdp6cZ+2QQmMn/dINh9NurmvuJsNzglaawbFoLxCIiJmvNK7W/tB5/9dP/BJYbADwCtwJHlrq5lyZf/Ye3+wFiAsaN1mnj41Ex5EOiCZxyA6N623Y3osogn2ltFJaGq3wzVR/RAl4abJsHYPOlOGAgSNkRKUyGQdOJyz9wDSJBdyVEuIX8AMW35c7YnAUAbmk6To3ZmOFkTQBlSr6iARyL+mjfFpF2dSJorQGcbhq31R0xAYu2ytTuEegVAOFIUgZOtEXi/8fXS4gpYhghbZI+ZjJnnpeM/hLCY7bX27tgygqVgCsjsKSAhcO+HvvTrM8Fy6bkCiA/x5jQoAdIAOCZgRbzp7hgT18BcHVKclvdYhaajYlr4ScADXk3actlSv36HyTVS3a4m1e6/49NN5ZHvQ9Jw3KodwyzcAp/uwXfVC9MuqNPkST6aQehH2j2BAjLVyX26IWWnXlTQ+lgWN5wDnCLopCLSpGwfFPsFN1lympz7DgPJPkB8t0voFXZEcDB/kyb5TIDi7XE5pXrMfsd7BZRCSKkzpjAA7wWXWRM0ppBbQJmG1vjaLZf3ZYcesvpOdwxP9kn4XOv44/HH3i0CYvPI94tIHBaAERXHsLAo7DY3Q0m1XgxE6+TPVkWyFSS7RkpTBvHQbL9P+dle6HXYeqOfZFiuLmJqyYwW/SDZTGAZDr6OTX30XtMcuozbTAZtEuqHQC7M7PZcywyMWrJbNIgzMxvpQFgwxQsaVs65QPIOeixtCavHAFA7QPYSAND0wu1lZp4XwPQ25k0Bp86ajhtCmn/xNl8H6AkFmUP7VC/jBYe12nmAOSCZRMd3LnA+Ygm4EwgtYtUldmM38XhviEax7lgZ6GJ7+lrHEva2v51rKYQjAhKukXbrgbQ+Rvx+cs1vrtuXW5ZjMvnfdyHEcwGk+F1/9DdKS/EDMzawJXzUs2rXz0e0O6nwbY5+MBOedxbxFoSB4C5qCbwNue461A9idH4IZKE0HHNIvus8bjLuP2lKSw3rFqiAWzwTvJHHRTCsclDNQDUGkCpE9yCFpYDPcBouWkA4SkbeYN/Fp+PmN/Wxwj+0r09aLji6ICzlHroWyUwZGaye7e3/hUIBvli+vFbkGz7wGAYCawBkesi4tz8S9ep6FgegKCqNsfOi2kjfpwNydh2oi6sj4pgiqwJ7JqX6LYYUVtt6s7jtpSqnZvNhsK0sCCBqAGcBJwkaQAozEz8WsQHMIdrtacBlPxY+wB781gg6GdYiK4pGsCBaJsmXjJQ0iRAazwCeH10Tv8n/n/769365258F74I4N0wJ40m+OJtDwBASQFzSP1aeoN1obnAuagGP8U+fJ/8Lnw0CwGjH5pmfn+JRO12/vmJzZoabP9Sd+v+7kDk/c/eAvD3bcyt+Xtqmsdi7tz6YwiClcW8ovtaBIEnfAwqbgiyN8By0i3KHypaxqrWWaS4UIeF5ZC1JA8wVnUEZfA3z3fDlc4lh7e1BhHWFSWs747uHDs9foD+SGD6S2/RQ0SfTAUT1wA2AKDpLkMBljxRC8sSBdwZd5mmSa3AHT8XvH/eLLhIFClAkfbS+W19jODvn/G3+PT7sCS2aBN60DOUOvL1eDLPhZTbDEg6Nof1L0Ky02+0ZkJJKdmS8fTCjDvnYSC8h15AEaggAcbE78O+Ly78roogEgm82W4e7TO/3PZAigOyxBIYks+0MYo8g3sceQbJxOxScSx9NIUZapLoNmFsLhMwTZ80dTCHIGNXqbVrN8Epx6nhnwSWEADmo+mwlqbe1vPjp50CZhxPawiw2SRGPNOXx6ZdWGQo+buICwU1Bj6iJrcC36CiI7CEfabgT0mNhU2MAKaPk4uoPS44AkrMtjT/9qszzEPu7cj8eyU0gNBypyUmVM8eBPVr8/NL2z2x3e7fKHU1eMDp8JQpLkKASdKEaGq96N1K/fC9SN3/R5Amdib16P75Hix7J8GVZff1St0IMNgtiqoofS796NQiZ09MZQZmfsqaujo4diGqCPJzZxuGXtCnmm+YTQVECVc8UcJSFg6/MQ+tgWadgp2LfBkTBOw1ax3tgDkKqUw0r0l4pRaWizgzCV7AesD0l26kzGqXV+rrrdTP5QYA1+CL4N/F8596X3/+zZJ8UWRu1xF/3g/oUJgRDgVI+8mLW3NCTjt1JjstPQbBID9J20MWSPpJpTYDXxIcmxUcqp5oYHFuviXWnxpAmgxdNAwt1FhCWgVKtrs8tS4lEjg+NgHRHqdz8/b6NEzfFkq1TMZMEhOHaAbrjbGhzbbmsda3e8BMmQQ6h/+lCoiMIWlhmPJFl4TjceYqNE3AlMzJtE3yawDvhN7ABwBvCQaA7MV3QsdzlyZONBSirTDnwe1pANSMwxzNc0yQmxQAwkoLGXUKm4eJwU1ZLNitmH9ZVpHmwW7Q2O+UuvIVSp0CAa0EkLnUNAvz21dfCWEUwtob8U6f8U6lPv1UpXbesdQzgyQJsPWELyFn32VK3faF7sxn9OkAmd8D33P74Tkvmn8ezMDnO0+ZB6Xm7zoIhfeYh5u2+/HezYDnuSwXbCjJ829r6sMd8QOM8zOeo7BMtwwf0Z2D1/Ol1sqBk0zN8zg9BoVc9jHnSUE5blXp0V0wdzNjgpiDxZqi/aX52X7O1PoFV+jGcgOA+mtIGZ6nm3f585XfUur/vqzUZR/t8oVSDv/gcxBheBoWg1emAl0pR200a7U+cCTZPhaS7c8aY3i2Mup0vPjE937KIympPxDkIYA0N8c65wHGqlZ9Xt2I0nAegKFsmSH0eX6ugabKV+zcl+PK5dsiyaB31IemaVUng5a6liLVShRwQ1OoO3SKqTXKwcW1fow+JoPVJABwRO9GgSx2ChipDLKh3oYbZOiU2rMYzSaeo0a1aAFJs91OT/UPtqniuyqgjJRNjP7thy7SBRrZdkpdjyXq4Xa3+r5EoVM7MlQ/5t2oYqHmgp2WZgHoJ6CRGT41bY/07Vge8nIIfk84V6mhw9P361bLKn7Hn3umUg/Ce/8MmFp7sdQ8BFrVF0Lz9gU8s7t/0a0rpx+3t1+pk7+KcgIAzKyQ0mnqhQvFCJaqXf+bfmRqk6chXKcQlqmlDtVQ5zvQj+j7mofv+SOBD/YKy6PqYdDw/SZ4P6MQ2vY48rGyk49XFnGmjJFN4vzNQA+aenWe1Li/NKsZaZeWhgawXXcZcz4rcXu5AsD713eRKylFELgVwOPbfwHN29zSz++Yt2ChORq5r/4UzGRfZ+czAA1g9fcAdLvSj8uFkgtmAvViUd8HXZvPxMvu4tviXkD6sXDXAGBMaZJ9WEiOx3xRYUkOzqORaQMaFgeNqoPAurAAW+SOblsH35ad9ZbUrNHHjqTNvdxmNK52cqZhXJeGExMwNCptEYEZI4pZBo4AkLkOZ8FuhR2YOQB5GQFxhfoVJ3G3DHLRJE+1BhgtPoP6OBk6GbuLKtAjMGLQB9TYhw7na+Gf6SJqc4sOzaL4/7nNv3O4V1Ivruyjmrocv5RTfacbx7lAT2Gh5oKdlnaeh7xBeA86HfxRgfnsUox70qewwj407Wy6127vFmj6noL5vE6pJ4L/mHTAI5R69beVOh/Hb4R2bKmpH+4Pp4F33/xxpe75fudns/HVWBc+l35c+kxnjgNvvTaxT0Y9KQgAOUBYWD4KoAtrlkV8r3zWkkbQ3JjVq7ErgSBxKwxb+KwlI5G1BL8bg0oWKDSF5UKkAZQ50PePvLLhAyg5UzvhLmNMZ0VurgLATn2tfXhxXwAGPLBeqXNfjBe42qmRFz7OsTC5MPHrL96x8DF8PaPE0F/xnY0fz56KBfPSVGC0Xz0OIO6q+BjzR0SqvScG8nSHLJjJtGV65bl8FOG2VTdr+qRpgxonH/UDJhE8uhJC8xyP2+DSld9KNIDb65cxmVr9IDZMDaBItlUAF0LEPtzbtNl0QdtaA6irjLCgeiMFDCOAB+rjEuCZQI1PgTPRxLrHTNxqE1M+hM2/R9pd6vs0IdHhPAcNqYv8APAWzB2Cj4OmEOiTQ8nBEM2oSwBjTw81kXMzP8e79WiAObz3aWnblxD88Yq0rdO1m94rgV/H/TPscwAOS00Ugj/3dGj9/kWpY5/lns3og1DIE+Dvso8gWKVL5lf3ld1HMyWAQIDS698LsHalu81CjxYeDIUABI9WKoMUAOZTCcv0l741xnfMqYYCQQoQaisO1xfxAbzXHKZpey3iL1mdx0diLYkDS7anP7ArFYzbWrK2KW1Ws7vMALiDWEsaAXNSNcn0AVzVAPq+JTm+CgDDz6e1s5TszwToOvpsODyDCVbAnJeSOJ/HfAgqHGjqfoMFopO0/o+hovlqKkAXXZZJoTOQ/mu/TJxFJqoKArDoITFtHASAENe6sUsR5tqKw18vJNmW4Pg8AX8agh0fSa1LaD4dxCSnE9BZmcTs9zVo2kyic3Mouk37+PGTgRok8W2RSGDOjj56CyWt6WsGgOI8rZM9Sx3goegSZKCci6YZ3E+/sc/jTOJKBm7TbgTG+AJA6E/JhcJHrM4y6inlxj5+AMgIYPe4VfguJQWAzKJNH1wMEqn630Dpz01sVm9QvkWpvmFoDDfVD7W9wXQmlz4HQOtv4fLRgiay7Qt7Bth8jVJffqlSLwNfOPQkT6P5w8VRpV73XZSn+75SP3p/ej4SHnXhZ3MQNAgCf/6XMNn6wc2CLrDhHGROAPhPSxSWpy9LfCbkg31wZ5iFW4OPcjDZ+qon9YKzMOWRnTaL1hL62Pp4IbXyoawJpfmsCa45DcHCs9dhkqa1xE4GbUcCU1jW1hLbBMzgD0n7Mg3uJGUzxV1m4bzSNf+VdmwVAHbjGz3hHKVO/QuYQQAE9/6hG1dIPyZB4ImfRBk3mBRu/Xz6fkkt+8Ew84cjqi8Z0NWH4oJZgbklgfrVEwBxfhpsJelgfuFssxDfFjLTQUinE2qzc0weDNUFZiSwS7KldtB0Zmbty8q85Moxpcj5BDcjMp2bsQJEx0wAyGPtaABnMBsxjdAETFMJTcAEgGJC4QUZiKJ9AMlwKXlrcuUAlAhgFwCkBhDaHgdJAugjHGfk0A5o63zmX7YoA/xTU2ETU1vkPdeUABA/uJtFYule9OWyGiS6VEwjqCGXQlOoB9r2/xD88Sq91/4nq0zQ5+/Br1bqwKe2P167I/wWfm7fAXh6zYXQch6ZbrT+nFIvB1gc24L0/m+Bpmw2Xb9utSrAh/WUbyr1UzxTBtR0itaC7+0EuEzh1xddMqoNfAwkvWQgSjNwqIQmc6NCTQ1ABy2kg3L4vbvSweTA7aYNVxWz6wgELFbn8RF5aR48owqOaBODy2gpMX372MZnLTFzqUrGhL3RkDT3MvKXpLd5XVIG/7TguqoBjB6J979VAOh9NG2eOAZM+VkfhTnkGTAr+F+WNq+Srjsj3k7+slKbz1PqTjCiTtEGMMqtWNjSUu4MLJw/SiHZlvAq58AkdnlHFt+WEAC8Nda3FPm23BU7rg8QcBB4+Igaq10wubhInJvjY9uMTTMpLV3rfT0mAaE2behj2rmZki2l9XaYmjDGDJi7RMtN4ZPjm2XgxAdQTLp2AIhEAK/TU4s+RQMY12yNI3figCNNC7ULrMpCfyIf7YJWg1VafDSHO7ATSM8BztLt3QXg+Lxr0FT2OzSV+hpcSKl9TqTaDcggfjTW1Wxi06gBwdoe/O5HIRB2gggkrgSY3P/JSh0GTfxSE824l/+bmHWH44JAcHrkTc/5GAJX0O9c3AsjhpeSBg+B3+K5Aq7Lf+jMTPrwOx88vrXMCRSWqWVOIPqrzqjLgq3o9jDlMdmKsBznaSFrCTWEGfhaVz0AkZOhsOwLmhvCOzhuuehQMK5C8DTJDpgrASbS/5gk/soiIDdnTCBH7Y3aaGtKtLP6n/MJyJNynlo92PYTOOQEpV76FZhFXgLgdW3bw7U1QB+k7dPOh+M1GPWWS9saqt55+BSlxn+Gel9u6bLeTm/0QBrtOxxM/iZ9xPvZjzQcdMj3Uci04fMBLCBYw+fczOusQ47xkB/gIMwX46hr6yIJBLkzdsoGgGyQg07NzAVIfzopmSbJoDUA1CYN0dCJCZhmYZpxF0rUHjY0gFlDA1iOJGmOy+vTyZokGsDhaJv/CQBcW9/nhgsA8n4kr2OcxeyFlm5YHdI0hrlTAxylliCD5+SiaWglM4ZWUrepIP9YARGILqrBHJ2BABCiGaQW7U/j/8eFOffs0FDN55gKhNGgrfgLNo/Q2KP28Vpo2oagPT36TY3jS7HFuVz8QZhxcX805xYav5OWplN3nXmKuM5Ux1rq3vHGI9C+nfhxyafaqfKaG17VorCM38vUDxJvrReuJ/vgKbcP8MlHIiz/0nlaymfeHDsXAoBsnJQ8X4TlW2Lj8oCPV5p8kO0GYQMw3WVc/tIU7LQGkH1IWrimCbgda4mMtrL/j3PnlX2/i393Gx+CqLcLxMRxy8WLf33zihlodRjxxhJRO39lnlnYNhOqrn0mfGZwf2kpj4Vz6juJramJ4YLsIzFtMDo2Dj5FBiwAJsFHyqB+AIrZAKMsREEiO8BA3ACLgIagZBpsySYmirZ9ANnGBQDJ2EzThuT/k0XPTgUjiU21TwvNye1pSOg/2ACATJtADaD4AFKSJokGUAPAvdDijUbH+R8jmDl/kyiVM2LPJJaAG0YKChdRi0oNgY+YZoIJZ30k/n9x03IZZqmQ/x/dBnwkZqnb8Q27AWRTPy7MubOaDgV3tn0RZtFXBpukPsnqFfugUWTpx6UkZjq44G149yH0vPxr0IhCwGyXTsAzeiJALXMFjm9rd7T2+q8/ATWn3iMgsBbnMS0PzswJFWjaainBbQ+0hn1wcajdlnipfnUixK1rvO3CAJD+0nENYAGm4bIjub2+yNpIWA5ZS46AtcRtRh/B2PQPtol+1GZZTfpQm/xO+GSD99IiwvM6+pfj0fyrfaS1AG1fZ3W/8QRWAWDjWXRvawQL4esukmz4153fveukGTm/TqlTv6nUVa8Fk/19mh7hNutf3pqDc+5smDbwLBKoD4s1HfJDJKaNG5xNJMItztiY8a827zvi6jioDoM87X8u4gcYZ8oEnUyDUgM8NGkYoDLu3MxUMDvqzcS5eW+0L+kNJua3md6AkbBmdBvH76n3bXWDErFIxqYPINPBNDSAkiQaCxCIJmCaXjQRuJo5AAmceO/8ZxIro1DSd5EAwAe7TkXHGGHISEMfVeD/V8QiYhMXsoIHWFYR4Z0LAEA60tOh3r4P+xqqdgfyyGzEn1s7GWs/sx2L+E6odiEItktMWLwL78TxH8NPoPl5tzt0S/1na0p97VUIaMEzeP4n8Cxgxu0UPewZSv3RP0ET+DQBl50adyHjsLwmfSwvfzH8E3HP7RC/r3UvgOB9XvpRqGWuphGWTwXf8QvLdHtgLkCtGTMnkMGbNuNwteH7RT9bHw1FfPJ232nwmEGMO4lrzsXa+N1lyCu3NrXn+6jHoIZQb7OR5pU8rn0KpdKSAHYTDDYNurpTfwKrALD+KLq8UVojIPBaMPGffrrLF0sYfuBgJIz9olKXvRBSafMLl9AzfjqPsagxm/Izi6ZOvUNYMAAoZsPt6cvVC8Y1F2BCefjsMbLTRdQElR2SLRkbAYSPRLL9te802OWRXj/AEWi89lqZ+UWqBQgwaACjmLkACbAayaAbQSKUbBmcoQGgmQjVGK6lTe0craOAyVDJQOkDyOuRuFBoIDSJO2oOAtmFffyW52kST8Pc18eZF9EXADKGc0MOANfo+1v0fZjejX36NYC34Q7cmkVGQubUQ2Nj6QM1dVlK8y8W5PyzdLfkz+1fUWr9S5LbJbW4+0IkLIam7Yn/1VnAlXTd/8/ed8BJUtT7187MzmzevUAOd2SQpETJIEoQkCCigiQF9RkwPPUp5qyYfe//zEQVkAeSk0oGCRIlpzuOfFzYvDuz6f/99m9rprq6qqd7I9zN7z57011dVR1m+lffX7aPs54vEzmv/xal3vmt6QGim+6DlFrgkWceBXeVR+wrmNn9TfDdrY3r+edHq/ouV70w/g6Wwhc7KTUcAr56ZdXeDJqLS5vFdzmHgKlhj/sKE6czgbpJebhYDOHd9xHF3QbwsQGUY/RRK/hhjyPi15X0mXO4rCVNaO23rkODQFpLtLsMuRZJ+0sz2IR8rWYCDh6L978aAPQ+mmk4wITRH/yrUk/fJL4z03CKxFPOwQK7y8/ExDEkGqfEY+2OgRYQC1NSajgcku1lVXvnqpiBBQDe75yHmiAfAIwzbYgf4APOOdk4B2XjfIEgYtoIg0syIu3fpye1fVsIsHR6AzMKWHxbdIZ7KW1E4KaZnZ4vzWclCEQ0gHqsaACbA/Cn2/hp+wDS/9AsE+fy/+O4ToC8DocGcAjfShb6ATJnFzH3HzWccQEi/P5sDSBB6whgdBaLgk2jgNEkcRuwj8o+HekTlX8rAog1QDuVlJZB2z4fgtZkaCnMew99X6l9L4JZsDCZmSY3lr55DGp7MwDgPp+a3FzVRhNgnngBSsmdOPv+01t/BsgCQs/9X6t21fHH82vBVN4OoTtqQXAOzMxBcwOE5Zedh3VjXfCbp3asSzdFPiciLNPhZSTG5aS6GdjNKwlIKcya2RF4wS4A2AJvQ9NawiA5VioikVeaGRXIA7SwzAwH5JOTCZgLTrKK/1cDgDP9BefyyJMFKZD1MK+AL95UV+lIcz9r7anU1p+ViDdGKk6U5h0Jc81fk99L4bBEki0XZNZl9VEOAMOXC5DBAIMOHxQJBAmDNHP+BjCcIiCezw+wEdqvQcAblzmFJk8CH5uYJNmMcCNTM30AJbpNmLdEAQuDY14+bQLWUbsCACtmEftc1fZ1GhiCUhPI8TxMBC3mXyw648R+9KUhMf7YBm5d0AC0OSJ9B7AYsfi7TSwR1RHjZ7cCmro5MZo6zleE+TyPZ2jSEMrK5eFD5KKiegTLgV/7x2ViDKZtapxjaXSZHM6Ez+0d0/cggMNCWfS9naoc6IIbw12fkACuPMDDbFEv7v230EjtfZpSO31gZq5iDbgJ0H/64k+iXu+NM3NO31l2/AH8IcCzn4BmcjK05gnQAp6bfIaGZLwyp/bAr/h277wN8NmjG4SLGiHUDqgoKG2EBs9XPpPzzEV08fKYHIQUllc6eDDHtkMjaVtLyEe6LRMwKw71gh9r8vFKnftPJ83XAFD7A+rxtc/wE6gBwPDzmJk9+sywagjTOVz0MfiXRP0kZuZCcJYFMLOsdxB8Aj+cHMDZF5eFZrNpWzDIu+0j7v0sFtoxaHpGBfS4O1Fj8yaAjsecYItjKElmwTSY3sOmLOAH04LYQI3RbXEmYM7TBoAS5wfIEmYsZWYTNV4uAGgzNtusYTI1SrAEYaQGbAsAlBqXOqpN8lxNDLBrEzDn57PRpl4Gg5CJSgRwCw9Hnl0v2LlZAo59uvHsbQBYwiz1uHYXrcBCMxcVCHy0oor/H4E5g3H0det5xP8PgMFBRSx81ID4iL6mObWT73ClffBKALpDK/vVtrjQT6byRz9+17ccK2bfpnWrnW36jne+KD55B39LqW0ASGaSAv9p5Bi8+qtIZg/t62wRA972OFPSaNEcP1GaAxC98mq8XAl5fgM0roOXVz0b08HEZ01gKph/O+eRSGAIGhaJH+ASq7WySz/Anhh/6Q4c99UEJq+0y2fSf8/WCrqtJbJuiAawN7ggcZeRnKYiLDPJ9eRyplbudNXdwq+6RrPyBOgUfNgPYVPcUKk/HQ/1ysQW9Cm5dqaTaID25IGvT3y6tJItg0GK18Sej4t8BkxkFOk9fBQn2eah0SmpsPmkAWXiBhx+Keb8Itk+aDaFtglgCGRsagAUYlk0m2jaMCVblnQzgakAQPHBMYGNqQHUAI1Rb5LfamK/F20C5jVqraJcr4BBmld0CpjwcQaELAMAnBe6Pd4XA11MomTf4UjSzD7UCMyFZsBHK6Cti9MADuJ8/A5t6sf34fP/kwAQPwCk+Zdph6oS3RbovpCExhA00AWtVcfbk/SO9qFbxk1Hw03jF5hjq+jxmWpZ9qxSf8A9H4nr2Gy/mTpr+Dwt8+E/DRDIXIP3nh8+NpN7WVhv9r1QzPE0y0+EMjBNtr41eU7ALNaHUWjARgXo+E6ZU7sAAN7lOwyOQ/eOEv6ifKNBbQS+Be2mRdWsJRS/mTB6ANp3FzEJPl1GmPfTJp+1xA6kc/lL0y+ZJOZg4bfaX5pCLJPbUwNIX8GaCdh+8uH9GgAMP4+Z3SMIfMeXlFq4Oxyr3zO79YN3/D6iggG0nvz9xJ5B294YD6Y4Wko2voBFJYEfoJiBb/LOKb4tbp89MW2EJVsmMSVjMAGYPfk8mDaYiNhHBDArHQCQ/fOBGbUvNJQaMjsSmOXUdIqDAsZQ06eJ18Z/4gPYFzAzgjGdvkUAYMLnrCcd/9QmYO5yTppMTCIA1HWAJQCkvXy4B0/FBoB00G4EBDRJAkA2MJvK270A5M0eUyvz/5Gq+f9xYbIpTgM4pBbj2S20h5T3h9WtOOee5X3nxhi0sqMv4eI2cR6ONK68Hnau/aGmhrY/LTHilJGnb/oMqofskXb01PV/5TGlzjlGqfefBR6169TNO5GZmGPw1CsAAP+EgIzfTWSGqRlDMzzzqd71cYC4pyc2J7XCaczAhQMkgX7M2Zg4n76Aow7LhB5WUFsCHD2ud8ufGXAYKQk3Wm7jRhPeswFHuhazE4XlOF7ZDosL837a5NIAsk8b3Di6jcASO2WWKSxLEIgAY50MWpuA6WPInKkj+Fcj/xOoAUD/s5m5I3uBmWx7hES9lSpAYOYuAGfSJo5FkHBfvC79qTmelQ5o3khCrKQw8hRMIVGJ1ByeU3sDKN1qNoW2JRWMG6wRAPY7fFDy0DENAcL5qJIPMMwQdf850ACu9GglqfnqtCKBbabGeWhKZQQtydT6cZ/SayW/VT+OU2Mo7fQBnEx6A0rE2qdP5wCUqDoIIyCWgaNkTSIApLlak6SAqWgAmXqB125fvwSArK+HlT9LmJt5FO3+uoPU/91a7zo/JQVMFAAOYqFylYAbwTPOQB/pO+cYnucYritj+RRGTl68AV/A2yLN3obXzoP59wTvYe8B+gTfCY38OjjXwnd7u037gRcgVNEywRx/68K94/VA+SYE0V2i1OPgTzdDIzlbRHP8nucISB9clv4qWnbGi/Yw+F9CXk8/wEGA3yok0cC3eXsV4AfoqwhSAN8qWnyLpRYHPJHD+iQiLP9b70Y+fbyyAB5DfmAThWUzF6BdIcR0l6GlQgeE0HVG+0uLtYQC9sSEZPuaVuX9GgB8vXy7u56k1M6QDH/Hl717dq6KEYbMEchot4kURF/jA8klW2o/83tBsvUzLD6EDEDcKLRtPo1dFov7KFiGTg1gPrgmjHUnOV0fQOd5s2tkuwWSa69DcmVH5rgi83JdkwsASlHzsJlETBsCADkngyt0tLCOdBMfQNGKyXkLOK8AQGryJkJ0iqYJmiBQm5X5yXORxARcAYBkuJoIAE0fwH6AK1cKGAJgVwSwmH/9/n90KI8r/8brkBrAYQBIQw+JscM2DcKnkG4CPhpW/8IoLMjVqAg/LPpjJSEm+y0uVqp5AsDp4TMQ6QtT45s+neRM09Nn8V1KXXiqUidfjBQ2fnP99Jy8yqwMojvhAqWe/5dSf/telc7TeJhZFBgYchM0pMPQDqch8r65+C2twG8qCeXeAuvQgxCWR2J7i7XELyyLuwyAvYNcgSBM9BIXBcxp2sBjuzzWEB6nu4wvECQP7lGCmGkShWUzF6AtuJkAUKd84XjtA6iDQbQQbc5d244+gRoAjD6T2WvZ4b2SXuG3h0L9UgEHM3pBhTm4BjDY2z+Ia3gh3ambtgSjWoq/hNceRAPHM0EygAxSuow6cvrpi6uHn+CQwxlZpNoXdbfyZ7VcgOxYLcKtGZJqnxWxxnECAMPgktG2dvk2AkAzEtisBqIjgTUz47wMydCmX/0p7en+p1RMXZ+Yk+k0HU4CzbQK2gRM824YAIZNwL4IYDJ1MnebuBAwMtBHjACOqwDCca4k0MVA+7fAOS01Hg0xSaXpOJ9TEETiiFq50t14aLvE9aocWw7gNG8C2jtq31+7E4Lgz4Bm+S3NAj1zi1QtOuUyvATuZzoLVxU+ZRZA/9hzJFH0VV/Gq4HvZzZo3f2V2vRE1GU+Cdcwmu4KmBPwtT8mGxMIy/jtDeE3GENZtSOMngDGHsqDj5ZQLcdFFJZdabMYTBeXOJ+CKwXiosei0haYgBe7TunklXbAHAeyIkgJbz7JrAYilhH57rUPoAaFkjO1pgEMHlrMf6s7ADwaz+bX1vO5CPt8m/Ufxa6jrD7Tt8tM+Ad8Bfm2oAlk6oXZoNaN4Hz+c6X+9fn0Z0+T7T7QAEJircLA67FAx6WD4QI/qKKSLZ2UySS0hkjfTDXnZvabh6oQKzxRczwupo2oD5BEAkdBJ30Dzfq/kt5gOacKyJRsdXSbKf3yPshsqcGbTIkjag6pLaWErDWA2nTCC2FCaNME3AwZXxOZMP0VNTEAhBK7SUXA2vy4Cdls57YAwE3s5mB/BCx+FH/1nrF60BA8hFiI3iSmsGDlFxdRA1iIBYC343nu6RpaaRu+H6vQ9gBl2Upb3NYymE3nHxvXI3qMQR/U/u0FUDCVlTWiZ/K3PPkPSU1FX7t2mDlfz5TB0sVMCkVokC4Hn6rCQ6btVggAG/EOLLk03SkawGNH+yFYLE02jsJyFTNwHd68OmjsRz1BGdSQ01dw1NK68QJcGkC2NwVm4Be46SXxA3SbgRnUQbJ5MNuEV4bnZkCZ6QPIfiavJA8MW3tMACgCLfmaCLjUzMpxzlOj6BNYXQEg3j4F/b36Lf7sXwiPnYo/fm6MP65Yl+Bv5mhLOP2+8ztiDp6tmphrQSsy8Apsbi+lu28mvV0GTUYSqgNzyOLxjjwZ25samiF1m7cPF/iiJ2ijARJo0TLltuAr7XE4Q5snaEIOrD74v7jMvOw3B3O4/ABdZg32t/0Ahamt4KGACLT6wfpIdGjWvi00bJJMk4ZoACdmAhYAOBbMp4NABnE2StAkMw2M6QPoeg5k1DYAjIsA7sPC1GQBxuCk+K8LGt4OVG+JoxKeeM4BEAegWeQCZhOveQTXmMOi4iLx/+sDsJ7rOlxpG7wqefqX4osy8DKqCgAAQABJREFUrpASQD1zLjjNCQCaUc1p5UKmceuxa5W65usSaNEaBvXTeNbJTU3N2JHUlmIZu+RTswcCt/4c/BJ/lf5e5h2DfLB/STausB/A4o1V++bU7hASb/f2K6DCDqvi2CQZE8DvLWqB1rAbqbjiiG4b1N77SAJBlkQOi7Vk/H0ZPypBdADGBom1pMIreUjzIwmmKwX8i4KstpoIvywFs+i+xpS1zfEngDdntaS3467b8VdRwVQew8bYvBd/z+Fv8fgfPmaYNsML/y5oBJh5v+vlGT75+Ok2/0j6xKfMdp9pgGQefeGdN8G8asyvFkPiB/h0+aW3uzLJL5P9ukgk27CmjkEgzBEoVSdcowi76gBWmDLG/ewJADs9gSDuSOBwdJsNABlsEU5v0BtcGJY43Pco5HaaQSjR0iRSD0A8UQDIVBCjgYSsNYBFME4NAJlCQW8TkGoTMLWXBcusKxrAMLgS/7/1g+s0/ysBchMcm1pN8zi1rXHl39h3hbobUG0Xc1iwPYDvwQUAh/HdsQ6qj8T/byff4Up78XoAwHdU9uO2KPzMf19cj+gxaq+ePgfmxJOix2ai5RG8f/SnOxWfzfNm4oxTdw6CQKbTamidvZyqLRtCQsNystKtBfPe7PyjISzT4JSA6hrBV9eAsBzPV+sRNDccIyzTWuISlmlhYH0OauFNmqveivfuTrMpst0Owa0zRqAWYTnMgzlJO4RsO2CO7dTymaljbF4puVIH2BU8WiqD0IeZfEwLyjpnqsxFI16NXE9gdQWAv8PD+A/8weYRoQ60nI4//mLpUHEq/maHNoEW7oifSh4uJmOdaWIUIpOejhTTnXn+++Hfcn6yMQ0HAyxeHdtX/AA3AVN4xtkvg5df0hhEQRErgjBHnE0d8JfpDHC+faSyHyfZpg0EsaPb7KSnpglYB4HwSiSvFdO1kMFpADjxCLeoBlCi53QQCKVlLgYkRiLz/CRm4ycjNqkfGrlmwDaTBACuZzYF29SWxlUAWRn4/20bGWc2rFD/xBW81WwKtktIRp13aPno/8cocR8lSv8y8iqkAS6+bb5pwu0T8f97GWxoPoAoQcRM00N/RTnIn4jmr4ms7w1IBIG0mLStLcErs5FYf8tPKPXY/6R7ePXzYQHBdz74bLJxhUPQF9roGKrmB0hrCd0iXERriZ0PsBECFCvvuEy4eg4p7ZgDv+jTTaFPvvcua4lEAkfHSPm35eU5BABW9sPCskQCiw/gQMC7aNKTUnOTy5lavoBVeGN1BYC+r3QjHCDKuA5/1BJ+H3+/wd8p+Jsd2mh3pd4NxvKHI1BgdYZBYKZeqQ0Phy704nT3PhfXuuLSZGOCslrDcBLpiu1fHxQ8v83bJw8TYMkB9OgbRg2RTfMAJJZXkWwFAPqlepoz+42cVfocLsnWNgHrvto8QQBYMQFTqhXGqBmbBoIcJxrAsKSu56v2SR9CBqRoHxlKzOIDKCZg0yNCXxvntAEgj/GfBov6vJ0wm7PMk01cAKgJcBE1knQiZ3F5H7FPn1oMwLlxqAtHiu8TQIBF1QHgHdAQ7mGNsnaZrJxJy5NQ/xMAcQAhrPeahh7/f0pt+fE0I6am74OXKHXrf4O7XQ6/g5TXPDVXMHWzEAQeBBP2PPw+LgC7nmkQuPY+4HkAVsXOdPe0Rhph+Z0JhGXmA2zG27LSeR3Mh8m8mC6isOzile0w8XbF+ENzrjmo2tTpMRW345yuXIAc5zL5Cq+E4DVOtgZQhOWwu4wEfRTHR2gXF50xYWK8Up9/Vf6sAcDwt7sIu5vh7w/4W4w/Ih/YYdV78Oel008/XX32s58N/q677jpvvwkfWACz13v+dxwEvjDhaSY0cPMPwwz823RDc614szeAQ9kjycbl3wHG9rfYvtVyXDVA0+MybdRDMzTkAGmtaisYJf1l5ngxrQAbcSXh5uC4q9QRfVu6rPxZTAVjOzfTpKoDQ8JRwBUfQNH8iW8LyyTRpMFwkInWuCRooxaQwI8aRcmfRbMvo/2GMHsu+B7MbTYQAJopX1jxhDm6bGIEMCV7m/icfACwB69aKxaJOOqFj2ArTE22CZkaC1YycNEgFi3+Llwk9X878STXcB2utFE73QDNSxKaSPBH7xKoWnvhEf+mJGeYuj4PgrXdBuBJ8Efz6apCB3wZqWs2BQj8EEDgyMzdFQEoA0KeOSfdOXU6mCRBLFnw1NHXIKOJ+dN3opzaDe/yP52HJZisBSKgACizkwjLUVPtXLUr3v67zK6Rbbpv+PwAGQhCAc406+oJKCzbvJIAsMcIZLEBoPBKURhoa0mYL9CYLVYS21+a67Neq7lur+5UA4DhXwBXkv3DTU4/wVCX733ve+qnP/1p8HfggQeGjk3ZzoY7j4PAI6EJnEEQ2LQOtAPw81r+QLpbSSXZYoGtYgbOIIs96wL7iKa+QUcgCBmD+LZo6VBmYCa8BrUuJF7/syTYYlRqCSzKReLb8kzkkIupMZXBMCCXSSZjY1JTBmCQGsb9WmSbVUIq0W30bSETn6gPIOeUcnLMKSj1f7UGcBDgTUcASzqYitmTSat5vZpcASBxNYCZMqfZUcKN89H8W83/j9paLkQ2SQBIVLNIoEstSNa4ZnPsCKLGszH5AYO+TFI+Apkwt7k51L3NBXzlVVCFQEuThp74tVJbfDTNiMn3Jfi7/VcAf5dBuxkF65M/wSzP8A4s7GvgOws0gTMIAjf5gFLP/gkAjQkkEhLrqDfg99vvtzSEZsrvB155U6jJ3hFh+Xa7ubxfgEbPFQji0wB2oI52J+ppxxE1gCs9ftgc14aqIj0OXuuylrQCAJrCsvDOihaPAXN94wBWAGDf+KXhHQQBioNv14O/FcHl60PCMtdnvVZz3V7dqQYAo78AqqKOwh9tIjvg70v4A5d+HVAAAsG4/zDDIJDmKZqp0lBQFeQaMEN5KWOH5t4MVAKAGcM4RXJdH4v6886p8gCIJY8jstS6XBwZRzNwNQdn5qXzSbYsdr7SkX9QagJHJWyCzhHAL00mAMwCjuhcgea2mIDFuZmAjRKtaPEqDFHPl+xTCqQTSEoQCDWBEvgRTgHTDQfrCgC0TcDM1k+tpkldqLHcDlBt0xCgLauGhqX0Sq9q9X/ZcyXccec4EjZLAEgUAA7jd5JzlIzTZ2WkZH01828JWpT63fWQ+M+++yAoQYuXhb9gUqJv7YvXiptF0jGT7UezL8Hfhy5dNcGffj4ssUkQeP6HZk4TWA9N6vxdlaJPZxpKJSxDwChC0Igh1gUeidHYCQB8KDKDz1rCdzeHt52+gD7Kg1eMgI+4tHwcQ2uJyw/QZS1pc1hLOAf5Hok+gMxRSrIzJlDsozmYn7RiTMZdJjjBKv5fDQCGv+BF2H07/k7H3wr8XYi/z+Pvr/h7fdCGO0ETCAZ+JjBq10szc01MCcMItzT+LYwEbt4OtsN/Vb9Gmk/qAQKHAQJjiP5aQ54UBxnozZj0w1Xs3CfZzgGjZGRpHM1BhPFK9aizSwPYWhGysYsotdJka1Iryo2ZyZ9pUtXl4NiPAEkzOZFjqQ1k8AeLmzMKmD4tBFIMeakASfMcSbYrGkAGeYgPIM8jVUCgkQBJBHBbebo+PAUz4KMbJhoGtphEUw4Zuk1dMPF2eMy07NsHsNaiEEnpoWE8NWHsUVOlAECY/CyihoMLnY8IAKv7/8H8m9T/77ULADje5zudu52+tRsegQCTnPv4VLc+dKmYfVd18KefG0HgmluAi3945nwCt/yP9ClhOmA16oTeIYmwXL8bhOU7Y/syfwH5xxjeLBcJAIxqHMVakgd0gmBiEaPvV6p7rNbwbht8CHscAjF7+YRll7WkCb0HLL5Kq0jYXUZbSyruMuRl5JHMmMCE9+Sltgk4fMW1vdUdANL2gjc2RDdgDygLSouKP2Cow6zvEAQGgSHQBHa/Mv2XQ4C2yfEwb5yX7lxpcgJyoR28JnZ+8W2JM20w0/1TkTkEAEZ9WxpgamBuubgItw5oFn3OzTxRAcxqEHPY1AZNWDc0YibZfoAtAJC9xljJeC+gkcyYXjPiAygAUDR2+WDKyZmAmXCZ80gQB5mmAMGKCZgA0KwDPIwnRfCpya0BZADIerpL+ZNaUi4ALhqEVqEAIOzTDnLMSkRrz0HUtouGAETrLU0k+9EftMEDAAkmR/HdZBxgNXSO0s34gvcJNTl3uHB3gW20U3ZMQU/+XqnNT0kxYBJdH75CqVt+sepr/uxHRBA4dyFSxIDVz0RgCH05h6Cd6nvRvhL/fgbvYvP2EJbjAVYwQR2EhexGcE2I8jPzBFloy4c9gE0CQZ4zu5e3G9RC8LPF5X29QQBY3Q9wa/R5RA8JfVIA7IK/rk0uawmtPQRvFWEYjyfgldTJcJs5U7UGsAXXK0DXFJZ1xoQcxLzJCMv29a5q+6s7AHzjfp8MDDny5xIYMhPJogkAn/ljrOQZeZjt+8vCGGPaLY9hnrUSpOAYos/WiCeFAYdJktOoaaMR4GPAI5lKhNvD3rPmAIMIEFmpwkW+QBCaQmkSNcnl3GxqAM1k0DT9Mq8VK29UEpxKWgNxpx4yp060rRkqpWOagCskQNCsAywAUDRuelylvwqctGmqMYkaQJcJmPkS+ZxcRO0qtaxx5Mv/Fx8BTA0gNNAOGkU5rCyAfSyNYAHPzIEipTG2W3Cw506UKwBAZdR8UqJGvTAX9qyoyTzpFIn7PQpN5o0/Fp+/VSngI+kDOPCriOhaGyF9n0jHv5LOb/fb7FSlnvyd3Rq/T+1x0gT6FJYZnR5DcQmhKWxloFFjDXWbfLyyCcCwD6lxKTz5SKwlbgCYg4WBPtD2eLkWusaE+SsDzFhVSBPdZTSvZAot8kSS6QMovLJiLeFxMQGn55UcuzpQDQC+kb/ljWAOOByM/feHQ3pcNr13koc5cO6blXr1luTn4YLYsjPQwj+rj8l0SJ/RqDZND2YwRx2kv1FPXA4X/KIjXYH4tryqpwl9JpFs24Ns+G6JO41pw9YA0gRM3zpNZiRwA+Rc+uRRqhUASPPGQKCFIxMliEtLI2DBjPIVU7IJAGUmOZ82AXcBeuI7Bw3iKu0k0NQI5tBqEvMCNgLO2dQDYNjq0bZJAEg8AGS0NqO2baKmgrnLbCJgHcG1ZB3Xwr5i/sW7E0fF6wDQDorrUTkWJH9+b2U/ydZMBX88fr1Sf/8+NH+XwZ9Avs8kl7fK9Tn4m0AL4DEzUTFkAdxzXrgCGsfh5I+xfT8IyzcBoPoBVnky/i6L15Z3XRtxkcDsL8nzo4Kvz1pCoNaClFq9DguLPn8ThN5+S+jVx/jZgiAwV/30NuQa7LIS7sfxStNaICbeYnAa0QBSaG7AOjAQtEnZzBoADB6G478aAHQ8lDdU08Z7KnUoGDzzBPb7wdOU3NMWH0lfGSQwA1+U7PRBOph/xPbNIRJ02OPgzECQoiNSmAyDdTBdpt4OaBW7HHWEzYuQCLdHzabytpg2Fpf39Yb4toQ1gGRqZnoDmlQJpDSZAJDOzTRt6ATQFR9ABoHwTlIsLuMnoNlYGCbBmwBAU7sXBoA9AIDtwUj6/5kRwASSDGgxSdpYe7nObC4/c7u/7tRZpQTcAMBjAb6GrvHU6nLBskkqgKxrN5f3hxFRTA1JLHGBTeL/xwW7G0JRewJTsT7hEExWr92l1Dpv0y3T8/n0zUpd+w0Bf2/UJM9T9WToxnLId2E+hVB6xRenVxOYxbu17gFIon9l8qunabcVVh1qk6tRFr9tCsox6WAyyKk5BjcOegu7yFcSrgHvk50MWo+fC7PyCo9ZmX347jfAz3nAkXaLx8krOx1mYPJKl7uMySvpLkM+pImpsGgJERKeo1Naka9SyBWuH44C1uNrn/IEagBwVfglbLavUgfAzEEQOBhV60/ZLc7bAb4tS3COFNrG9r1lgUwk2R6YQLJlrct/Om9JKoIMBfofu0MBQQZ2TWD2yQJCZACGhsZ9Suxx3I9LcdAMcNKLShQ2NYMB91lRc02YiVoymzQIa4Kei6ZXkjZtaB9AXQqOptsR/JuIX4sAQJaRKwUwTQCogEKe0w4C4fWQ7AAQBrKwPqdJPXgGbY40L91I/cAUEC4Ss88YvoOC63DQxgWHC4+LBgEAGxym5VIQAOLXKjKdENMKeWkMi+bIs/hxbOrtUj7QcwcW7l2x+oUBcfm4a2PRBag0Do1h3TSy30V4Ry7/gph9m2FqrhGeN4ACLSZF8MjrvjW9T2RzmIGfSmkGnvcemIH/kuy68nvBZebW2L5Z+MCOOFJjcZAAwEci4/N4h1lZx0Vz4BrPaPw4qiYsu/KmutxlbGGZPoB9RmAILSS0TGgiDzV5JQPdqP0jCJwIr9Tzruqf08iBVvVH9zq7v60Anvb9LKKDjwRjEP+IabnCTU+SuqVJJw8kWyyQSczA9QCYQ/fHSueS4sAfuZuHBDvkqPwhpg0s6g5iWTgGGvioEUxxAHnsNFAz+9GbhqWQhsGOTGI7mU9FSoWLGP7Zc9BvhfnzSKIBFACvGZxmajrCjRq8Yfyz5zHP7dsmIyRTLOEfx3NOmkp4DhI1jjwvSfflNn1vKIFrcgeAuFPAUOJvh+Tvoi5o/2hej6OViNJmtLaLRAO4ceTQYEwEsAR/rI1vJob1Dd0D5yGATgKGasRarvOOqdYrfPzps6e37u/z98HUeZoEfLSsET73bO3ddxOAV/gdmZVL4XfKALoVz6EQ6BnTdwmt+F1S6O1ZnPwcqYTlg/A84aYQQ2IGvtPZox6CU8nBJ8mzyKlc1pI8RLER8KoRcA0fxWVNIB/oVIsjQwUAvhhqt/2lzSAQdjR5pfDEEngX/abpAyg5TtlOLjyZgLnQRa2COzFccBW82+m6pX9D2n490LaHK/VWSJ5nvhtAapqY7UbvU4oajCQpC/QzSSrZUiOS2xLo41E9MvJZB60UM9mNeZiQ+LZEJVtxbn4mMh8bxLThB5VkiowYHvSaNhZCf4gFxaLmIO3L0lArSx/pdAY8YDI22wRMk6zOCUjfPer9qLWjdIsvIDRvkh0N6phvkHNJ5C99ZgQAknnSj8YmSt68Tk00zVBCN4kmHEY+20QA2KEW2s3BvgSAvMl5jI305BuAb1CjI7KYx6UG8DrcDFGcBlDMv7uF+kd2Av8/CFTVKDD/QgvDhTspMaF68/rwxws/v6TDq/Z7Gb/9v3xYqQ8ixUx79NlUHT/VHcgn/vAN8CT8feEQWANWTPUZ0s+XAZ95H7RzL+K7uBVgcLpos1PSaQHLwjK0ytUovwdegNtie8X5AdaBs7CE4ijeMJsaAmvJ83ZzsN+OWsJdMYF4FOi6EGTlIqbNGjR8nnWfFvDWXqPyB9ttDaBdO93FK8nHdMAco4AJAEkT8ZcOBq4G/9UA4FR8yWd9A1F2/zcVM01+jh1gWnoLNBLnHQszltv/Y1InqW+BxmNHBIPEmx9C5wgkW/RPZAY+AIztb6Hh9k4OmelZycFFeSRudmW5p6nQ59vCEmMsNRZHcxCEsNLhX8gxlGxdKQ4o2XY7nJtN3xbTtGEyNdEA9lmXVClxZB1ItEtGyKg4kq4CYmoAqRWkZoxAUZeEY1+7DFwPTNs2AGTEswsAxuUA7EQEcAcqCPioB99JKxYU0UqEe4lvE49EWdgwgHrWylGoRxMAZlEqK5ZKN6CU4dtiuwQHqdUOzL/Z6n11D5oFWV5xOmgZBJw/naDUiRfCb2HD6ThDujmHh1BN/UPQVAFk/BLP9ANfVOo/D0ai5MXp5pmO3hl8Z8edg2jdfyh1Nz6ngzZ8F4JBrkkXDBIIywnWkroCFHUQIhit7qEMeN6oJ/sBhxTgBuFKnh/HK+dWMQNrdw47qpfn49uaxxtdsqKPaUOhX7Np1bABH8eb5OKVBICSKkvnTJWk+eRnNXI/gSj3dPertcY9ge9eAmfrcyF5/zyu18wd2/Vk5O2DU/r5+JyO3Ff0b0mT5oCSbRANfFf1Z8B0MMXrY/vlUMGDC7mLCgAUrkCQAsBYEQEFLqI0zECDgZgINvq2+PIBUsPlMm0QENmpYJgMOgoAxS9Q/P7Er0Uy3NsAkGkNpMal6z6qtdEUwrxYJMn9J9FyttYvWgYunATapQHsgYnc9gEkQ2cVkPpxs7J5fTxGZ/FGSP8+kuofOzkPF/FdFRyaQYn+7XCCRk40DFN/Lijw45wW70snDoAtZto8HYzmZVio5x1tNFTZHO6X4I+1UwSMVJmyfJjlIc+B8Hcc+ND8TcrNs7bRD1eGL8IisQXcOj72QzxPPNOd8W5/4TdKfRkWiifum7VLK5+YASEnnK/UffhjebypJmZBWBf3/MLVyWdOJSxj7pga6iIesXoSfhsOEmEZGmOLGiHQDjiCNdhNNIAPWSPCu21qUwi+T4cbx/faPbyS2QOi/tFhFxrJkwphAiT+0viNgbS/tEQBh03AtCPUAGDwmJz/4a2s0aSfQCP8pggCFz2q1H/DD286QFfai9znU1IKaTpyXzEYpAfahqIAl0SXNh8L5fIEkm0Q4bYc723RO202AID/dB7PgkWNAnaZ0iQ7MgqYzMDOQ6Unqebg3K42w6xuLWEbUpG4TMB+DeAyfdrAtKqj27QkzIOmBpDtNNry+gkACd4mQtoEzLGiAWQVEPoAMtfhCGCPsAPWJNYBINKXTLWxfErbJ5AHWHiJlZNNormnEQZ2Fw3C5NMAM7JLu6f7xyWAZgAIFyqbikhEm/fkFRzDEsPz1Rn3Yo9XRWr/9o80RxoC8+8tWBFTgLnF8BdcgPeArg5TScwDSrcPVghaZ+upnHlicy17GZq+g5Q67FT4230iPMdmb1bqe39V6icfU+rOa8PHZmOvvkGpk8GXbvlvpR67buqvgIm+n/p98nkDYXnHZEmh87CWJBKW3bxShOUoAJTSmc86rzmLt5Z2iKHxYDVXp/hAELrLLIoME175Uqid1pF+iNaaxFoia04jxE0dMKd5pWgANQCU5PYihE6DJUxf1Bv8c4o50Rv8aUzm8nMAGJRuW7HgfeP9WGEntkhP5hIiYw/4ChYzgNMrT48cmlRDXR00jB+QwudJJ2rbdzzP1Vj1Efk98fxu9/bLIKqUNYFtkKcH5KB5G3Zo8yTCDYuTg1hpIi7CjYxPfOdKkdHMh0eThw0umd+qWnoDk6mZE5Op0QeQpPNaEQjm8DdRnxYGj7hNwA2B7wyBIIkawEaYakwygZqARQJqoUHcZcHqzyPUilLidxH9/1hlxUejeJ4juH86nruIGgpWLbBJSsC5zcrD6j48PQgvcUT3A2qhqxGrNrRgLi7YSenpcxD8cWLS3sn6DXRJ4Ne7zkBZuZ2TjZnOXkueUOq/DoPW70dK7YOANBetDfP0j2EaPf/HSl19tqvHzLYVWhAwA1B6/bfA026b2nO3bQa1MzS/aSqDzAOYp3a5GgX+0o9DLhz19owLBMnD9aXk8NcrgL8OqiXeOefgHerEu+SjDrjL0L3DRb5UMJILMAwAW2KsJeGMCcIrKwBQTMAMeCNPrmkAXd+EtNUAoP/ZpD9CYHQSQNcuBwoT7AVznk3i9XBh6HtNqRvAbKeSNjoWzPLPyWekOYS1gfv8jKM8WZAP8O/lXXuDYCQDrduoI/CCfRkIUnIwIJFsF9vTBftNmK8/BlSyU1yty2aYMvutIJF6wCi7HjCZWrgecEdIymV+PvHVY7qX4eDaKoytEOzTlMsnQCCWhsQELKkRGAlsRgEzAphmZ5JoANuCbUmnkA+2+R+z+escgrqRIJcSvE3x/n+PQ77fyh5S3u+CJq8N/pw+oj+nOwXMY8H37xo3gvyRzCMZSzoCOLYTDi6/BOZfLNRJqQvAqB7PtGmdpCOq9yvBHMaa4G//EoBlCk1k9Zkn1uMRuHh88zilvvZHpbbdPX6ONgQVnXGlUndcBX/lHwDEJBAM42ec3NEmXM8H8Z1e+lkEhzw4ubns0QT9zwD8J6UgKfSN1Z8J+XtQQ91/vayeNKzud55Z6qdH02ZlAk0+66q7vxOxltzrnJONTRB8+z2pZFrhtsHE8Da5rSXklcvKXZshMupUMPQBZNoqEqN/yb900mfyNal3Th9A8qyaD2DwoBz/1QCg46FMuunQDyp19GlKfe5gSHJujdOkz5F0AjKJ9/xaqefuhMnlzKSjqvcrdEDbuTEWwvuq99U95mGx4sJZjfJ7QQN4S2wv+gFyQXeRmDaiEmicbwtBZbNaCMa1yDVl0BYfCOKOBKbfigkCaboYgBFEE4ucm/msKNkOjJtXNAMmANQmWzFpSDBH2vQGZIS8TzEjD44DwEGwS4meo9aRZJaBkxyA+K7HiQEgBLEmMYs/JXibCAB9GkBJAbOFPaS8H+f/x06DAP+uKiAlfH/1aqPyPOaGRADHAMBhfPcZaKfqECAQRwQrnf+A+fdtcb3Cx57Cu7cZ+MJU0QgWtXPfp9SumHPrQ6dq1onPQyD3y08r9cPLYeb2a3ZDJyg0ADBeoNTS55X6xadm33WmdS0E0PxFqQs+BF/Np0OXOqmdBRAUngPfi9HUheZnbeAmaLH7Hwo1O3cKb4cZOE5YpsmW6aeghXQQ35UhvKc2sb72kAG+zOOsytPtELB1H/KYPMCaK+KX4JJaOUb4myTWkvBaGacBFNCnAaAkzed58ZAD/kYAyJypPE9aPmle16q+nVnVb3DW7m8PMOVP/EQ0gUuenLXLCE6chZnq+D8p9QCY24MJAFjSq+WCxoUtKXW8AwsnTGzVKAMgwii30RXenvEVQRgIEgWAcRpAnqiaZEuTZaeCycVB/kAQmoErjE2YFNkUZVPcZsCcZZv7dGimBs4krQFkChgyT2oIKe2mlWylvwaAZJASBCIAsKIBFBNwW3AJ9MGhmVoTJXIGspjE+3MBwF60tziicWmUoYmX9UF9xOosrNLiI6YCyuB5mDSKJYe+ngzqsYnPW3IArm8fquyXsJAmMf/2P4wFGiCHC3USGgVYe+l6pdaHQDgVRB/j8/HubY7Ff6fjpmLGyc1x1VkSAEez7vyoJjh28iy+q8/+D14+gK9vHjv7rjPzFip17DkA1++Hy8pLsZee+GCuCc8F5vk0mROoXU4kLOM3UIIwEkN0e6D7g4v8foAL8TYtcg3Be0fu0wEeW9HO2R3jguZaYC0gbzCJLiRFi+9JKpjKOagB1D6B5JuaxAewAnCFpzJgjq45E0uar+de1T8rT3FVv9PZuL9tdlPqq+cJY3v8X7NxBZVz5rBYnnSRUjf/HKDtxkr7ZLbW3heS8p3QsQ8mmyUDib9hY0i2UXAWmYBpOOiQ7yExbTzgPJqDmWHYEflGnzEfU+NE4gfoN200o55tH8zELmoPAkGiDFMk2/BCUgAsMnMBSpDHcDCt6dwsJo0S2Bh99Ojc3ID7IngaAXOjIzaARQpi/zoAIa0BJIPUaWCYP0v7AIoJuCWYmRrAJjBeTS4NoOQAXFt3CT4JU8mIXWCsBwtLq0dLx8HDuBbCtdy4RjI0MXaGcE056BZtKqFOaR7BOi4aVYtxNQtdhypt1KRQo1KNll+M5JFHVutVOc5UIIwGpRvEZInax8v+E+ZnvEd7f3Kys01+/J/OUOqfV0PzdwUsApXfSaqJaaU48csSJfzFd4E/hAWgVHNNRWcG0jBZNANrpqq85mYfAt/9Q/Kr6zhAqZXXVe+fXROCMiwKY34ePBFrSXVheUeIhm5QyYsWYfkx5/WTV9pZEygYm3yQA1ltyDQBs5KSDpjTE1OwozZQ+0uzXYRr4XOEf9qVRo+pfVaeQA0AVp7F9Gwt3Go86u3jSt3rBzTTc3Jr1oZWSRB7xX8hNYEbPFkj4ncZzbgBGPbzl8X3M4/OPQKS7aVmi3u7sH+sZFsHuCKS3kBkvDCTZkCIvtCxLACFK/Gp7tSAih9F+PERfLiI56sHWyqNm2jNPk3wAeyzkpnyuADAV8yuDsbWXjYLiwm4N+gvme0lUbM2AesIYJ0YOjRxlR3TBEwtovgA0gRMgGlqALvBUtuC2ewk0GTItgmY6RuarGANloBrBWB2USccz+ko7qMulK9qV9v5DuNaF+OKN4ocLyFPY94z7wgqisT6/9E8N/x0svJvnViY5xwUOb+34emz4aP3Qe/hVAdu+JEkeT/oG6mGTXlnAtH/93loNp8VMy7NuZOlQwGSjvgPuM68E+DntcnONrnxC3dV6qCvK3XW0eBDUR6TenLmTu16EnN1JxuabYQwsh4isp6q3j8PRUPpn95+rJ407Knhm0d6K743NlUXlnfAW+8XliUhNO7XQXQLcWVNkITQS8sj7FyAkvsPYHecdFJ8zSfZTOFWW0YmIiTruVeXzxoAnIlveq0NEPUGKfmsbyp1E7QHs0ksDaX9XJaBeU+WNj0xXWm4OWTueBbVqH4nLHTxWtNsbELoLQHmoubaDKAKyxn5qAU5rHqhSfJRO8zArkz3Ir/WY+5iaKjLt0VyAS4r96OGTTs3M/qWJliSNm1oE7B2buaxiTA3XUJOawCpUSSwJAAcwDMhIyVJOSUsQCCaXEwNIANYWo06wBos8/5NIoOnpO8imtHjIoA74bTege/WRz4ASLM/TVouGg4A4C6uQ9I2DH+r+u1hk4c2Ko4GF6HfmgCKzXG9KscGAWSK+K47tqy0TXTrrrOVWnIP/Iuhnap2nRM9R5Jxw9BWfx+Ath5Whc/9Cs8im2RUsj57Q0A85dvIqHCoUq8sSTZmunptBZDPnKp/PG7ySfX5fW10jFJMBZSUqGVOIizn483AdbCIMBegdjsxT5+DO8cI3mmbBAAutpvL+y3QtMfxyTwEyCH00PyhPBAbYi15zmwKtl28ksK8noMaQvMeNK9kuy65SdBI/kUSN5kStqq800Hv1fO/MNdePZ/BzNx1+zxEvV2l1BW/R5H2383MOX1nCfxczpLEscwhNhlqwSI/hgUhaZqDHDRL/Cu+EH9WptfIrAPG+7y3n0i2dzuPUxPkjgReEGiQnIPQ2AF/mZWxpo0tAImecA5vQ/oEar5MsqVaHpNI4AoANH1byNS0DyABGTVzOg0MJV4CNtLEfQDDTtJknGSgPI8OAuH82ldRNIAdbApIqoLgtzxOzAnYbABC3S4AcKHeDX32QoPX4gGH7FhdA+hOAcOqBnlPaplh+BRmUcbKS0X4UVHrXI24IKcx/zJSfmMAiMnSI1fCgvAnVNM4D+9FdrKzTXw8q3p89T1IAwUN7Ye/Mz1AdId9lfr8r5U6HQCIuVVnk3b6AIDbnkpdBM3kZCOV+Tt49o/J72buIRCWsWZUo/ze0ADe4u0lFpENAJ7CvEkPyACSMYG6SfUwtw4bwWrmMW7TtSMP8Ogrj8k+zeCHfY5zNoJfDDhAp8tdphEcud+4DhMQSioYEZZ5PpIkgx4M+CP52kRTZslsq/7/NQA4k99xUwskZywg//o7SjadMZNnjp5rXTDwI34iaSSKvdHjaVo2OQFpDs5NPmLu4SjGfln1/kGEm9/BOat2BpNyA8ACAKCrIggjR6lB8hH9AON9WwgAo5pFzieS7eLQ1C5TLTWAYd+WigZQTMAVDSB9W0SqlahdbQIW/8Ch0Lmq7dA0QglaNIBFfEKDg32SAMCm4HjQMP4fmW8T7kyTJHzO6V3oKl8GZF27vK83ugMN4IZ6t/xJ/74M7ojM2UXDuF8uL7lxbaSrjysCmPc1iqvJjpuuzXFjuDveZ2wCaDrSJyn/tvIKAEBop5LSoguVWvjepL3d/RbfpdTfvicJi5m4eLaIvnn/9S74HgKYvfcz03sVm79FTMvfAW+Zbf/p/T6L6CwIQdd+Y3L33LgWtKZ4l7qfTjZPbg7APt7R0ivx/TNYV6iBpy+gh3KxvNJdPYnhYgzW8pHkA/SbgTuQZ9DFKwnimDt1OHgvK7OzklC3lT7G5pVm1gStAdQzkAeYwjL3me5K8zjdr/ZZeQI1AFh5FjOzlccL/XVoBV54Sqlff2nyUuVkrnoTSI77fBqawPdB05YOTIROu+GRME39Nfm9zDkMABALaTXigly60dsrLhegJDmN+qCIaSNqftAnKSD9QQnSqZ2mQB9vAHgrQutF5mITK4J0OxKoStBHBWRTY0ZNmqawBrDFMAE34Vz0AZRoXTHZiok5C6iT1rlZAkhGAwBIMEgQSbBFYhAINYDia1gBGUyioPP+8Xw2cCPDpuRu0yCAI4u/29SFElGsquKjLvVvHIdwEkND8LWst0rIjcB3M+eIOOY0Iyhen4vT/o3htz8KjWw2eh+hyxhCH1L9fPms9v8KmJWpIS8APEyUluI3fPHHBfw1VoD4RKeb8LgumAk/D40UK3scDFA2E7QBficUmH+C+7//5pk4o/8ch/0QKb2eQcDL7/x9khzZFM8ujbA859CEvBK8vHSr9wpEWL7HeZzCsqsmcAE+vEWHBk9PQjeNTk9NdvZpBwD0V0+iteR5PVXwKRrAMNiVQBD89sYp7C5TyZhA3iipXzSvpI94LQegfm6+zxoA9D2Z6Wynz8wXfit+JSyJNJul4958NOp1IuLsLx9NDuDsZ1PfDNvp1mCQbgZjd1eFdXHP0PQM+yXWYEwOcw497L0uMW2sBSn15cgpMvAFoebHBmrVfFs4kfi3+KV0ljBjKTOb2tWGYHhL7GYApLBkSyam0xmws8nUGImrfVjEBCwAkMCMmjud4DQLKJY2Clg0gASABH4kasUEAGrgZ1YB4bMzn18fgDEZskmSAiasAZT6v41mt/I2/Se5MPiI/n9zYvz/BJjzquW69TzU9vrNv/cALu+su0Y/6WtaH3Ncj6A5jgtyUmLy301OTNo72q/nVSRJPg71fc/Daop3ZrZo2UsC/k7+ulJ7HT6zV7Hm+pIw+rdflqTRM3v2ytlYy/j9ZyKV1v8pRXP8RGn9QyD843eUNCfgXGhcV1xe/Wz5/WKF5VzgL32fcx6+NxMJBKnuL70JQB5As4NcwjIT59taQfIbZh7QZPJOVzJo+ksLL5OUWcPYI5l8TM9V+wz0xrXHMCtPgE7BH4MZeM0NlPr28QBD0ELMFu1zGhw2sLBf+82JXwEXujTZ7jsOhn/LNfHn4zPKbQqg7AdjcZKtpIN5MXSOAnJQFR2Z6M1OzD8XJ9mKaeMJc0iwXQC0KYLl2UQTKU2lmqTm7pjehd6t4udiAhsJAqEPIB2baQKulDhi0AU1emmIgJE+f6LRqwNrlHqZeg6eWwBgS9DEBNZmDWAGgEQBYFQDSC0oGbyLJALYDwDp/9emtnUNDdqKqDrC79Am8f/bym4O9hkBSROYl4L6v9A2V6Pll8H8mxAAjeK7eflGpH95e7VZ3cfplsEI1CN/ptTa7vtyD5zi1hefVeqLuOdP/QI5B/ef4skTTjdnDaV+BNB04U9hCj8/4aBp6JbLK3XSX8QcT7P8RChbQI32tyLA5ZZkoxvwHg1DAzaC30Mc5XcDALzD26MOb+4Y3vcx8ACb8moT8IIoUBN3mefs7uV98QOcBy6xtNxmbkj5TKativIpXyAIcwyyrKYm8hsKnprirCWSyko0gHRvIa+jCZhWi7RVk/T5VvVPiDU1mrUnQIBzwulKBfkCESE2m/WDD/0BNHhPTbxayNowQTAn4Ejl5Y19rvOwqCTxA6RkG5MPkAv7iPqX81SFQLJ9PHSM3ie4yFiJUEwbbmmZk4lpIwoAeaweGrwSDLwmuUwbdKFmWTVSPtD69ZlDguvTGkCdrkVHAfMTvxyMjzLz0CTWTiWHIBayYDkYwEwNoV4sr0TfGlI0ACQKAMXU2x6ag1rQdjiAu6gfAK7JAeDYd6QcvdfkGhq0FeFbWICm1SYCQH7fLhrF4pZBdLeXSjfDTLuP93BwYHQQ7yeEicZN4vvpo0z8vA4AU4a/t5Q0ggXz3GPha/cpBJDsmXLwFHZ/Du8OAz6+BM3X1rtO4cQTmKoFvzHmGrz+jxJIN4EppmQIzfAnQwtIszxNwhOhtD7TzAnYid9THNXhPa5rhmWlApbs7lmUyBxRD9vN4CXUltE/eDR0rBoAZGfhlfeHxpk7rWohhN9FZlOwLdaS5yLtrXDj6FavltulGkhYAxjOmCC8thIwp4VlJoGWHIATyZhQvoBVfKMGAF8PXzD9avY4TKLeBvtn54q0ieO+Pyv1xN/SXwNzAq53EMwbVycb2/gm5Lh6EgyrCogp7IeF9ybvnHFZ7mnacKWCySFn3bDhg2dPLvkAX4swRN2PPmxdnlQxEgn8vO4afJKp9RhMjY0tuAbtB2hq/XjMzG9FqVZSrDB4gzUupQoIfffSA0BqAEcAgcUETK0itYsm42cEMquRkCQFDBa8cRIN4Hy9i7lkwbCvnwEgbQ6QNoS5mUfR7q8n7MLi1B5T/5f9JABkoR5S/vSVgBuF+agOz9p3TjUGED7WA6BWua/ypOZG5w1A/m8zW+K3nzkP5l9o9tMSI00v/iTyBu6rFN0zZoueehBBGMcp9Q1o3DbZdrauInzeBggG370EQiosBxf9MnxsJvdojj/2bAHpfX7A5b2k+bvA+vFvSHAJef1crA2JfKYhxMREA+fUTnj773VeVj3e1yG8tyZR0Co6XFrMPrSWdMHH1kciLD8VOZyHkGkLyuxEdxmTVzagX9EQqBmQpqOCyad0yiy6zpBX0kpCvibuMqXgvJIxIaqFjFzUathQA4Cvly+d9YMPxILBKLvZyoTPaiHMEXjVV5DgFQ7saWljXP+zWPiSELWfbXshIu62+N7ZzcEoARQ9KRgy8BgbAwsyQYyeUHxbwhpAHksi2TarjcBOFuupQp+S46oH58RibRElWzsQxJUKRgJBKosHzRQ6qEOi23oBziQIRJ+CtS1ptiVzw9NLDQAJ/qgFpAmaTFH7/WkgyPOYGkBXDsBmgClN/d4UMDQBb6i7lT+l/i++Tw/R7N4eU/6NwwaxIDVYc4/hnkii3Q02y/+NIKVPDql9vDR0NxB3Au1WEP2LdzMJMdlv72KYi7dL0jvch4meWbpx38+E22dy71E8kx+eArB1sVIb+r+vmbyk8rkYRMf6wY/CBHveD8rNM76xzjZKHfJdpc4+RhJzp7kA8r4N8Vt6HhrNJNSM328fQNbYSHxvCsvFG719sgCAwx4A6OKVWYiCLK8YRy1qcwA28GcPdeC4LxDEZS0Rd5lXyrPZgpvpAyiuMQKixV1GqiWJvzSFZbGw5MAB0grL5QtYxTdqAPD19AW/4/1I8vpJSYLavXJ2rqwZC/wJkPr/fDLMDmH/uaoXxGS3A1DfF1dU7Rp0oGTLhTWOyCxzW8A++IS3VxYauVEHExKpdklkXBIASCDCgAQfNUFSHTD8+nQ/Ah8bADIVjO2DQt8WatQ0sQTcwLj/oJZstc+f7qM1gxLEQdiTVqoVrSGeKCAky8DpKiAMNIF2BWQGgdgpYGwfwB5EALtSwAwFqWtEixhMOv4ftaasEOAjahKqRQDTBMzvz6QhmJjyAOwuGoZ7ABc+L3HBLOzrPRwcoPDRA8DRCs1NEnruEqUWvDtJz3Cf+yF8LboDfn8/B5rltzQL9OCtSv0MPIjRt+ssnIULSHDKHDTYXzkXQuozSv3uq17hMMFMk+uyxdvhF3m88Mq0gXwbfwA+039Mdn7+Flrw2+sBMI8jBjIN4XfqoSySpI84aqSzewGBWSVHftMMPJRHgtRM7klFlKQ2z83zW5TbBMzZXMKyaAArAJD96vHGl8CZSFINBAIWyEw+XzEBV6KAzZRZWrgOBtb+Kz+BGgAsP4rXyQaj7I4/HZpAgCOmXpgNmr+xOJ9f/vn0Z18In6HF/5dsXNve0ABiwalGXKCLN3l7ZZG7z1XsnE7K/LMdn5OZNrYHAExv2hAA+HzkWkXa7Su3287NYtroDI5rDaAp/ZLZUUvIQA4GcQCSBNvlCRNt8EmUMFbMyVoDqHMAcorBwAdQm4CZA7CjPHMpMLEIUGQjTTU0b5tUQmt+3IRstnO7EyDdlwKG7tqjgXaz1R4W2mdy2pxxTTzIhYtpf1xEk1cOvw8v0WSWx+8wjvoeQJDUdlhxsnG9KscWQYDaCMJcGmLQxz+g0Tr+TzBHJzxPmvmT9GWpyl/9F6JuIZStsV6SEbPXR2dS6OuSa/ZYCKb9Anc9CeBsvlIPX5buVK0QWIbxnbNSTBIKhOUr43vWFfAbbYNbzTJnP2rI6wCmxhyATjSAUSG7Ab681LrHUTtSLDF4y0X0dSaxNrhNLl5JgdLOBWhaS8gDTWuPtsJoa4mkzKIJmEnzi8EpqQFMmzHBvtZVdb8GAF+P3+yuB6Ic0rcEBK5cOjtXyByBXS/h7+V052fS28UXJhuTgSRfACOkL2Ac5ffBKn+ztwcXeL9vy0Z4+ReFxjYBLPSpR0Jt9k4jGN8AcmBpBmMfb0dQgcu0QfBTcjBY2w+QplRTAyimDZFsRQOIxcEgaux0SgOtAZyIVCupYMbAlrUGkE7TlTJw/SEAyDJw4gOon4MJSkUDGAaAzO1FP0gXDUBj2AgG76JuBHG0eur46v5D0DJkHeCyGABAaJ8t4jWP4pwZR57CoGvg/wdQnoHWO45WYuFl7sok1I93BudVzSkB1D3nQZt0At4HOPLPBt19vVK//5oEWsxZczauIP05qRljdDK1b7/8zOxpAvf7nFK3/yr99S88BhpfaH2TEP1Pu26o3pO8sniLtx+r4TAvpk055PwbcuT8a8I72YfcnHHUgTnjhGVW/elRiyNTuPylGRA3NK7t0wPoL82KQyZpfqR9/VgBRKKAK2lgdBUQWmDSW0vMs6262zUA+Hr9bnfEC/9RaAToE7g8rBKfsUve46PIvfWbdKdrwgKfgdTXuyTZOFZVqObgXMUPMIvEwSMeCTQPkyMBgkn1YCj0bYmrCUygw2CQQYeZl3O1BYEgT5vTlrfdvi3hQBDbBGw7N1MTp4kwRku2BBdkemSAE2FqogFkLkApK0czs2acPF8RrJbmFFI/ZHENANnOhNYmiQYwDOgkBcyGZrdgu4S56gHxTABpduqC/x8dyuOoW92B5757pItoADePtI8h3U8GdVC9NHQP7Es7ew+XDzACs+Md5d3YjUUXQPv3vtgukYPUXt19ttSdjRycgYY7rkIy+O8I+GPJyjcSEQR+HH6TDBBhwui0ptipuNe5CwDcobl++eF0swXWkoQAMNsIV5j5eEGr8FVGs8cIyxI0d2/kOmlhYOUPpooxqR3vW5e63WyKbLfCtNztMS2zM90+XMKyy12G/XktZuoYm1dS26dNwtpaQp5FQVYAoVQ5og8gNYb8V/MB5JONUg0ARp/J66flzXsr9cmfIg8XQCCTsc40bf9uJD2FOWi4lO7MNH/RDJaE5hwMP8Cr43uSyec2gx+gG3DV4eWXNAZRM4NUBHk8Mn8r0sd0K7+/DAfQtOHLBxgXCOIybdi+Lcyvxzx7msIm4HCGe/rqSXTbQNCdJmAJ6Ijer57P90lGyLFklEw4LZrAigaQwFL71ph5ACmBUxI3iUEgTVabTwPYHVQA2dQcHtqW+r/bh9rsnU51G76TPexmMPeXIOOv62in/9+OkfZyQ/EmmH/3Le86N0qvQqDh4tvmPBxpfO5iOPgfFWmObXgKmp0Nd0KKGdG2xvad6oO3wnR5/o8F/LXNmerZZ2Y+8ocPfxdaWmguf/SR2QGBe31CqVv/J939NgDQ5fGdd8OXMQkFwjLAehzV7wLfkLu9PWgt8QWC1KuNAayeDY1lNZAh5PlzmXB1xyxEQ/oCShlH3Vr59GVNEGtJb6Xj+FYLEu2bpTJNEzC7mIEg2l+aoHAQ/Iy8izyMfE0HzNF5pgYAI485aKgBQPdzef20bguNx6f/G7m4jkCevRdn9rqy9chRCPD5IBa1NLTgSJSGuzTZiPo1oNQCkKlWFSQPMByT4iCLlC8jqAZhk68kXLvaq6pkKykOHrKnLO83wv9twJEE1WXasE3AehJtyjA1gFLvsi/ooiVbCQghYKScTkl9IhrAOjBz+tqNjjNISQNDxqmDQHwaOpqrzQhgnp//JKm1vhusZR4TMANAqDV1ETWcdCIvWFVGzL7sM4jFqdGag611uBvXdVeNAA78//YyTxPd7rwW2j8IKUmoC5rmxrWhDepI0rvS57b/p9Se0F7NNN38V6RT+QXA3+XwY5sF8DmV90sQ+KFvKLUWtHE/PHXmQeCm+yIF1v1Qm3emu6uNjk0hLL8zgbBcAIuANnR0pfM6Mkj6zLyYLqK1xBUI0gLNfG9MyTfO1Yb0Td0et5pWtRFMwItcpwQnawZPEl6nOwivrFi9bBOwBIJ0Bd01r6zwR5lFm4bJK8kbRvCvRtEnUAOA0Wfy+mthEtbPQLo8HcBqpkHgbh9G/cvfpnsm9TCHNG8Ar/9Hk42jea3zb/F98/EAkKk+RhxRuzn4fw07zLgtYFj0bSGI8VEzmGWvJ98fx1Cy7XYcb4PU3GPVuWQqmB4LLJJ56RxXBIADgKQkLdVyW1IdSMJmBm0QcPFfWg0g+3Mc75fSME3AOgpY+wCynSYTEmsA623uiwZwHjcDKuJuCjDp2sTcXszxZZNoAN0AsA+LQzO0D3HUD3BPfyQb6A0BFLKSgYuGsWjR5OUkCh1jWKyzEEDiaMVVSOdySFyPyrFnofVOG/yxcgnMetCCrP2myjwzsXXzJcg3CMHyB5dBpRL9vmbiEqblHCd9BdVX8Fv6wSkzCwIJQHc5Ual7zkl3WxscJulgkgSxFMBTh17DyymWAO+J8ntCWL7deVhMva3gAsJrzE4CAJ80m4LtdrVnVWGZ0ftxgSAs4WiadfVJyCu7Ld9D4ZXQvI8TBU/TB7ARvNLOBWjzhUrGBBEOaxpA/TTDnzUAGH4er9+9N0G1/1loCqgJXPrCzF1n+zrQDsC08sID6c7JhZALYhKagwW2mhk4hwVy+BHvbFlPrUsyBmqI7HxWjIgrwD8sLtEpzRo5gLQSDMEuagsCQZ6KHHKZgJnKQFf+0ANo2tCMjQlPdVJTAkPm4yNJegNJcEqTBk0bvCNq8dL4ALIv74ZE3xhtItGmZQJNRgMTfJKYkkb7/3Gf12lqAF0RwKwBnMMMLuoLKoDgt+QgMf9u5zhSaaIfEv2RbPL7/xHqLgeIrYDW0NghaGvqPeBQd2SS8kGYxBrcwFV3Cz65gLPGK2u9pqHbf63U7h9JM2LyfW+6WKlLwEtWNfCnn8yJX8b3sCnu70MASzOo+WFKmH/9MR3wZB31VggwTAydhNr3hZr9pvie+XhhOQuNHoUjmyQVTBQAtsJs3OOptqTnaEf5Rh8AZB8GgvQ6oon91pKlemoIq2HeaVpLXAFz5I/U/JFf6qT3aXhl+cSrwUYNAL6RvuStdlbqP/935jWBe31cKZqp0tB6MJu9eE2yyLzmNwNhgCHFFUhnpZHM+mDoS5xXkQUDGnaUOWLnPIAaNUU2iWR7m90c2qdk2+2JgvP5thRgEKGGzCYCSmrWNEkk8Ipg18wVSKdlauxI4tvCPH26xqWkgKFJI41USwbIc5BoBqaJRNLAFAD8JA+gJIEWAEgJm7kJNdkmYGozW6HVNKkHkrwrAngY87MuqPYtNMdwO0n+v251J+Z+qz0U9/Ak7iQaADKKxSZj5QsMDU5i/u35J2xbAJ3U7lSjFQCUHVvBV9ANgJ3Dh4tKPQ4T8zaHOw9PSyM1fwR/31/FNH/2w2KJzfUB3AkCZyowpAGa1AWw1jz1D/tq4vc3hrCc2GcaAga10nFUj/ekhN+uh8Racl/kaBZBb8OImrcpg3dXBOHX7EPl/Xq8nXzPXVo+dvLxylZkDLCtJWndZbTgTOBHVxEKtfxk1gQCQL69aXhl+aZWg40aAHyjfckmCFz28sxc/cZ7IcINEupA1GzgvYBcA5yyt0UEc5TRRMYQ3GkQGDloNORxHaVbjYbKJlbxgMQAAEAASURBVGN2abi0c/6xRx6mWgIFmxhR2qX8jJL940wbBVQhKWEGF1G/OAxoZZI4N1eYqO3bwr7aJE1mRiIAlGANJkOV6DZhc1LnMuiU4D8yQEkfg0c4Po8GgJxfNI29+NQA0NYArsSRueUzuZJAi/8fQLpF3fA5aveYadm1H2CtyaruYU4xAt0BTUg5zGJTCSZ4FwCkO0BsBRD+jvLQlMQRtdJz3hnXo3IsiP7FQp6G6Fu7zRFS+SPNuIn2ZcDHxXAl+QF8/prke57oVG+IcQSBG0A4OANuLDMFAvf4D6SE+XW6x7PugUhqfX0yYbltNyTgvDN+/kyzCC2jfc5+tJa4NIDkOS5rCSchr+yuwitbwWd9LjO0ltANxCaXCbgJfHVArQx1LcD+oN1laAI23WVouSBVrBpSMpO8VHgeE+APh+ar7cgTqAHAN+IvgSDwU78Uc/BMpIihBoTmjXvOTfe0mBOQC2MSCqKBoTGMowAA+jV2vkCQ+gAARk21hUDiXQ5ZsaKVs0/fViXFQQHJS4oWs+IcrTAv9yANiUl2STjbt4WmDh0ZTFZMMy/zW9FHT0y1UuOSXotkaH7vRfOssu3SAJJBUiungWDYBEwNYAVwjaAXQa2mXmgACWhNoi8PJXqbusD4uQC4qKhew73NC67DdZxt3epujIdmxUHUWFBzYRMDQGjqchI1zaP4brLRaw31774ZK98+oSbnDs2/L/8Dvmdvdx72Nt75e6V2O8V7eEoP3H6lUhf+bNzsuxqAP/3wCALXxPf8YwCzmQCB62wNQbkTPs3hd19fjvMzm4efKX6ry+5xHg411uXgkrARzhHlZ6F+LG/oqQqSQVDGqMMiwvH0p7XzprJd0sHcwU0vxVlL2uDj2+04J/nnoOVioy0FWhjmCU13GfGX7g6uQweBcEf7S2teyYA5ZkygWF0DgMHjivxXA4CRR/IGadgGav7TwNDpEzgTyaJ3+gD8W85LJqXqR7ju/kq9ckOyMR1YPKsFgtS/BUzNr1EUP8D79dnLnz7fFnaoFuGWA+shQGScqovawDBdkm1rEAjyQmgITaZmoXMbAJrRbaL5E9NsRQMoGe6xkoGh+UFr6KTjO+xfMQFLPWHdTwNBmoArGkBWAREAaDJiPYYmYAJak2jKoURvE5+PDwB2wbxO/6E46kL+P5f/X1wEsASAeADg8OMw1cJcG0fFl9BnDkBiApPua9DIzNsRLgr1cTOGj70EjXoj5m9fN9w+HXt3XotyZWeMgz+YKVc3OvlrkiKGJe6SBFtM9vnsdioC536XbpY0CfQTCct7QtV/m/MaJBCkBbBIQJTZSYTlJ82mYLsBfI5R+DSt+qgt8APE79pBOXCTEejt7PEUdLPQ01HANIkBZqYbTTO0gr3wQyYxhRaFYlIj+LP2l67wTFpLBnFUawBrJuDgYTn+qwFAx0N5wzQxRQyToBIETnfZOOYoWw8L6jO3JH88XBDn7YTI5XgzazAhF1vS8Er5dP1fh/mCUkfCCOwuuSAQJAoAxbflZbt7sN+mdoMR93bnMd3YisohPVYyaX1MAkGe1rvlT5dzsx0JbDI1DjQlWzo3Mxl0JQhEJ25mQAshKRlmch2gaAAZ18uySPQBrGjz9EXL+WA+AjEIRPsA0vRCE4xJDGihxtIkmm0aDDOxPkbn7xaPiZcAkAtHHDFauxlR2zZRU8HcZTYRsI5hscio+fYh2R/CwliPBTKOgvQvB8X1qBxbdKFSXMDTEBOs01w43XTP3yXJM82+b/RULxN9VrRgnPItqJHaZqZiyHZHSf7UkeHkV7zO2yAs34RX2g+wypN14HfJ32cc5fH79gBADmNFkGFHRRCfuwyBWhN8bfs9fJBzNsLqMWBZPdiuqQkZGfodPoYtyOFpW0tEWK4EgkjpTOH7vBZN1PAxqI2k/aUrGkDIcOAQ5AZpBWY9/6r+mVnVb3CVv7/t91Lq1O8gWfTh8A3pnN7b3f2j6VPCsNzR4ouSXVegBYQpLY7yAL0ltymCgSAjjlxUZBiS5T4sZfI0rWonwJv74s4IgLINQOLDzj4EgD0O04ZoAF8MjSFTo+lUkx3dZqY3aAgkW1bfoLSr08CID6BEAFMDWGGEek7fJwEg08DQJ4YMU/vGmNq9cBBIxQewD8COJhhNDD/R2kTdRkhKeGkyZx4T8zp1DjndNfTZgxJwbTEl4IowK+excNCYY5MEgGxmN4PdV6kAwoWR7gRxtBIL7JwEAJAL9qu3II1LAlOxPl8RPkvP3anUZlj0p5MewHX9Adov5vlr7ZjOM73+5yYI/Mj3xDfuN6dPryYwB7PjFgco9ehVyZ9LBr/vQFjG76IaFdYVQXmUWi4PZfC+Ms3RmBuE0j3CVRJOUsE87ZyUwjKDsXzEd78At5BB1Ah3EXkl/YFtkrRZYV5pu8vQL5B8SBPPRT7IT/4jibvMAHibJIFmu/AphtSN6KG1T+MJ1ACg8TDesJssG3fiV0QT2N8zfbexwQ4wNy9Bmbdlyc/BhfGVm1NIttfFz53fAwDQrbGrA1hiKSMGDNhUrxZC77XIbgaDaAKbyAPS+MFze5Dk1A0Am+B/1u/IM9gE7VM//NtMaoR2zHZu5nENwqhxo+aNJL4t1LwJAKRUS7MGo3fJzkQDGHRN9B8lYDJEkZhL2CIY5H1LRDAnoQ8ggSfJ1ABKCphxDS2O9eG+mi3tWi8k+xYANZt6YRb2af9GAsl9DN9Bgz2svM8gnXYsPC4qwbTsCgCJNf9youHHoBrY0jWltI3h95M0/ctSCCNrwN+KC3hSuh8aw7dAY5iZRvb7yF1K/e8XEO17KfwY5ya9slW7H0EgKyv14l0/+9vTe6/07UxtBoawnLQ2cNtecI5FIFMc5bbHb/0hZ49cAAAfiBxjRR1W1nERo/DjACDHSEJoN68Ud5lnIlO73GUEAFaAJK0lOmUWJyB/1EEh3CcPrfBKBoEwBUweXI45U9O7zHDO1YGmkQOtDo/vdXSPbz1IqWM+jRQxR2HxEv+Iabm6nU9Ml+yUCyMXyKUJzMAtO4A5QxsX56fDFAdD/rmyMFOMOpIz07Qx5IhC4zNqU7uAsWHB9FADmOIAmKIGamY3AqlMAKQGzOYAYLHBBKPsac/B4uclQEUSfQArAFB8W4SpMQhEEjcLaBuKzBNMEPMftXYEgKIBrFQDMauAmBpAskydQ8sGgG7/vxeDwBf7EsT/bxO7OdinWZ3m9Thi5CE1Dy7i98kUPzZRs0ETl5NGXgbwWguaoBjW13sPNGYItCJgqEbUblPLnYbuPhtJg09KMyJd3yfvV+pnn1Dqe5eI71u60dPSe/CWW9ToYIzGalrO6piU3ynzqb4MYfDPP3J0mKKm+fjNj0KQWL44+YQUlqlNTmQGPhDCeDVh2W8GzoAfjjgyI5BHUG/myqZQDysAI/JHA8HNfVuSD9AHAN0aQJ+1pMcQoOkv3W9oACks62TQBHoUZHXGBKbM0sIy74Y8txYE4v6+Yrige0CtNfoEBu/0q8WjvaexZe8jlDoMkudXjoaWrDg9J9rhfUrdd0E8SLPPnLToORflRgCCgcfsGSr7mTacG6bcMff9+ZKcEigwZYiLxLTxT9ehoI1MpAFl34oe04av1FEzxlBbZpIAvr5ykwSCrAz2TROw+AD2ATKSGVNLlgPjZQ1fSXEgE4yV56m2QQbI+yCoIxjkn4BKyTHI8XSsJuAkmUCVAJAmGE00Y7tyAJKR28TIP0r+LuqGWZ0aAx8RPBdhzi04Ios5ZgjHcvA7smkESW5zPgBI7XEeWuQ44sLagQW2GgXmX2hh1tq7Ws/K8RcflMCPljUqbVO5tehRKYX2nf9Taj5MhbNMYxDmOr/1LbXyq19VSw85RI2sWDHLV4TTU/P6X79XikD5YoDB6SJqARnpnZQoLM/fJZmw3AZw131b/Mz8nXv8AAnyaLAdGxc+zYnqkT9zSD1nNpW3W1FZpyfGZaYV7hx063AR/YOLSM5uE/kkLQgm2SZgBn6UIB5rklQw3cGuJIMWdxnmNBVrSSXQjXyzBgD1kwt/1gBg+HlMaK/za19TfRdfPKGxUz5o//cqtS8A4DePhfp/eMqnV4UW5NbaEVU+sPAlJS6QS8Gskki2c7DwVo0GhqbQEw1Mzc+IeihyZRLd9nSknQ3NSPXS56gjbHaOq3XpS3HgSwVjloQzTRthE3BzYJI1r4E+f9QAavMvtY9kbklIAKA4RXMeSf0iyaUZaKKJc9LAbPr4iQ/gXN0FzPo1GGDWLO9zg07cbgD4DEDexqG+eocAkOZ1H/VjIXGVf2N/yvS8Vv7ZNIrFpA5aWycNAQDWVwGAXTcApL3NOTzUyOjfwPybDTXH7tAsyPKK00EvPqvUt4/Huw8Bbe0F03GGVHOODQ2p5aeeqkZ7etTaN96o2r/wBfXqwQer4efc4CLV5JPtnMV39pVzkNngb0pdg8/poK0PU+qxq5GeNAUfprD8XIK1JFPA7xh+fsWw71zoNrKbYA2AydVjUcmqrfGuPxIawp36WGGZZmC/tSQbgEpyJbeAXg8uURp3c9EnlpKTFDkrAi0F5SED8LEvBVhNjZjHtJYwgI3CK0Gi5AMUdxlyCvr/EQLWKPoEotwz2qfWUuUJrHnJJar3rLNU9y9+UaXnDB0+9INKMThkurLgvxWSbRr/lsDBGaDxtburP4D2dwAAXh/fL787JFv4XjlIAkFcAHADMJTnHSPIWLJgGuuAZb3gPM7GdjBLfyAIU8GA0VokADA8p50MOqwBNMvBEQD2WjOSOVcAILV5SSVbYYCiAeSkJgCkdG0SM+vrCGC2CwAMawDtHIA9MJHbPoBk6MMYXY8jLhoEUGMuRh9xofHl/+N3mXNoBkehYaiDttJcLELzl2Deze8UagrtDMM/jKAyB01zNVoMLduCd1frVTle6pfgj033rbRN1RZrhH/tGAE1LIM2yzTaCz3xkUeq/Hbbqbk/+hEs7hnVeOCBat6vf62WHnWUKt4P7dtsU65eqW8ALP/tz0qxQspUE4NBNgc/e+ya5DMHZuCbvaAtNFHHAfHCMs3d2Q1hinbzvSyqHLmEZbGWRPkZz92CTAu9jprr5nXRraPXYV5mHwqDrqA5agcHx9O86LlEwB3Vu3jfGdwhWkApB9cdHKPfMv2XKz6AFGx1yiwGotU0gOWHaG3UAKD1QCaym2mBPuSvf1Wlf/9brfjP/4Siq/Kjnch8UzKG/oBcCH5+WjJmkuak1AAuA4PoF9NloqELoJV8DgtmNSpAczMEM8GoW4IMhlODM3SHc6YMEovC6IS/ijTJjhJFOopW93dDoBEn2baqLb2mjVa1EAzvucj1+DSAZiQwNYDat0XMvXJ9EgQCwBBcOyPeRoJtAYDybFjbNykAlCAQrQEcAyOVesASYdwYzK+1aWYACE9KSZwSuaY+gCwzKpjPmtG+zOdlEs09DUb0sHmMkYIFaBG9QA2dBQDuYg4rb4v/HzQcFnFB48LmpDF5nqquci+Rfl03wvz7tkhzpIFalVduShf9+wB+/9sBME518MdKuBnQ9/dzv1Jq420ilzrTDcOvvKJePegg1XLyyartNPAfgwpveYuiwLz8ox9VA9dXEfSMcdO2WWhQ6jvQuF30S6Xugul/qumtH0pvBp67Q7Kk0AEArPIM8+CVXmHZlwqGpTPd1hIJmqPg2eV9Um0xwnIrAGC3IxjPJSzbFUFMXkkBdRAzkYRXmgBQooDJK8mZBAAOea93dT5QA4BT9O3X1cNF9ne/U5n2dvXascfCRS0GwEzROatOw8jgPBjcb/E5lUTJcsfjpPB50nnX2Q8LJhZXjzkiNA3rr3a7AV7Qj1LtCACXZ64MfNHGHNo8+osNw1TpomoRblnoxKjPciWEZhQrTR42uCRT67Ui6kQDuLR8CWICjgJpkWpFA6glWwaR0DSr814JAEzG2GgEIVCT9C9hDSDn1/WAeWECAFvL18hxJlAjQzXTutCkU4CO1Cb6/5Hhu6gbpidWWfERnzMdzul47qISNK7uAJCH8IQ8ALD0L6hQY7R/PBG1zx3Q2lQjVm2Y9xaAuTDojR12z9kI/jgxtkvqg71YiE+H7+/HzlCKFYJmmYaefFItPfRQNeeHP1TN73ZrR3MLFqi1rrlGdaFP77nnzvIV4/Qsi/e9vyp11jeVeuj2qb2eNTfHy9aHPK0vJZ93IYTlJKmzGrfEy/oE+KBbqA1OmAcv9WRNoAl4VD0auS5mTBhSiyPtuqFN7Yw3Hr9/D9FawvfbRf5I4GjlpGaklAkLy3MDawTnJQDsLwNArQG0y2YKAKSQXEsD4/o2AluH+0CtNf0TqAMw6oA/YOPb365efde71Gi3SCjpZ5qiEQRqTBS94hWlLvjpFE06Ps2OxyIY5Pzkc3KhnIOFecX91cdwAe76u79fYNpYCBC42NmHZuBhhx9gHmCEwMFFDWB6g9Di2ZpDs28LIox7PZJxExyZB6wgkRzYlLse8LLytJLfakV5X9K0iAOzTl4qme8HAXjg9wMawj+CQcLBNBpArBQBgKSmr4R/4ivDHIMEgH34vzmYXwCgADomfDZLwEmBdbmOoDP+E/+/9fRu+ZOmHn8ACAGgX1vVi0jeFh+QwxmYAqbeEVwiGsDty9cQ2mD0eB4LYhz1AiS2VAGJHP/cJTD/YqFOSkufRKZagOqprPxRhDnsywBZx30RaWX2SXol09aveNdd6rX3v1/NP+881bDHHrHnyc6dq9a86irVf/nlquuMMyDLQaM6m9QGF4fv4jv9JSwnTz80tVfCzAl3n5N8zrX3G08KXeWZkA8247feF3O99TuAYdznPDdD22gLMDMVsKPkTGWpSff5W2Et6UF5Rh81QPAdtARf3bcFbhtMDG9Ta5AMOgySRVi2eeXKYKhoAHuCbS0s0yWG/tGmDyDvQQu/9jlr+zUAOC2/gdZTTlFtH/+4ODzDHDKrRCbx+d8o9W9ItledNXWX0gSGOW8jpZ53MxfniRYclczBuW1vaABvcU5RbqzfDYwNC7qDxLfl35Ej1BgNOZI2syM1XI1BuSM3QGQfqQvslmzFtPEsu4WITtHD434rPNAATdmgYT6x81mJc7MwNj1RpR4wo/aYoIGgrD6AgEmdmwkUOZb3SdOI+AAytUwFAOocgJSseR2kPpjTm2BW18So5hYrByD9/8jAbYrTADJSkGZ1H3GBoVbWR1IFBL8/i0YADDOO1DBBtxIBIH43PhpchOMb4MeQ8/WQdoKVlyGgsHpDUrrrTKV2/WDS3tX7McDrG+9X6p0nKbXnYdX7T3OPfmj0Vnz602pNALr8VlslOlumoUGtceGFanjRIrXiM5+ZfdeZefBH/dZfoA08WakX/Xwg0c2ZnbYHSH/oYq/FwuwabLM2cAee4coYYKcHVSuhWdeAnhmce9z9QY8b/8ziXRl1CMU5uGeMGEnrzWHN0PD1eRLjs5/wmDngLcvNYcE2s4/SK88GnZIKxgUAl5bnIB/S7jIa9PGgbPcF5+W+9pPmZyUHoBvMsv/qTPhl1Gg6nkATNIBz4Py89LDD1NBTT03HKZLPmcOC9rU/KfX385W65dLk46r13BX+LVzYktI60Oy9eH313lloourABOPKwnEh54LuIJ9zMzVG1Bz5qLVKPkD6tvhNG3RuBoCwyJZstSlVS9fa704Po2RLDZxJWgPIFDA0M1MzKACwLrFpg0AxDADpAyhRwKIBZNk50QDSt4bXQSLDpZlak0QAr6F3g89emNVbHOlY+gEMmx3JoXkHNPGyPqiPetS9AIg7+g7jXopY1ri4VWgM0JpejgzqiRBB2+gLcIoHwPNRJ0AdF9Rq1PkwNHlbYK5CtZ5ynFGgT+B3/6Z3JutfrRd9jBngtQMA6IEfqNZ72o/3nnOO6v7JT9SaAIG59aKa4LgLqEM07tz//V+VnT9fLTvuuNl3nVkXQgWjg7/2XvjhhQFJ3H3EHsvjd74BtMppMidsSGEZGslq1L4/rCX/iO+Vx7np/uAgCZqLCssSCewGwQRxOQiyJSvFlTm9JM93C8tN4BV9VvL8PN72oiEYcy5qAM00Wqa7DPmm5qG0XNCCoUl4Kt1d8gF/1JYUfbz2WXkCNQBYeRZTvtWw++5qPnxcaBYp3nvvlM+fakI6O38XUugFP1Hq/ptTDfV23nRfMKk7oYnjwpuAcriG1o3hZ/VY9c5Mw9F5g79fjGkjg7qzow4zQx4AcMgh7eqTSCDI3Xo38tmEefsd87IjcwFS42WTq85lAaytZDEsrckzAaBE+TLBqRQ/J2ATfxYmaSbQyQT79jld+1oDyGMiIVeCQAgwxQdQm4AZBdwaTMMIYFMDSABI3xyTXBpABoVIrrEoGOvDd9Ds8Q3kvCN4ytQQZPGcXDSCaMGsAUp1nxGk8sn6tIojiwHYsLjHEdMPJQGAXJg3PDJupvCxx69FNCiAZZbajykgVvhYe4FS7zltCiab3BRdP/6x6r/iCrXmlVeqbEdFU5xm1sB15itfUQ37769ePfzwIG1MmvFT3peBNJ/5HzGvT1V5zSAY5A/JL3W9AyAsX1e9f34tCMqdEG5ieHBVa8mDkfPQXcYXCMLO1czAYi2J+hdybBt4ZY/FhykY069YSkeylwDAcDLoSsCc9KBTCyuAMGl+BQBqYEiBmSmtNG/VY2qflSdQA4CVZzEtWzSHMEJ4+cc+pgaQC2tWqQmLOkHg//ucUk9FX/rU18Zoxq3fBfPyZcmHcuFckkAL2VFFsi2bNuAHZRGZSR2Ywhi8TUzKAFCMGozCPMbtAsyYJUimdjCH7icsqhUsJayh4/FG+AAOOkwmrkAQllEjkNJEgDUwLv0SeOnoNjI2AWZmfqtiMIzgsA5bSZmbaABZO1MAoEQBmxpAtw9gP0zATFWjyaUBHICpp9EK1mAJuGZHmhbO0w2gFhcA0otEzi0oVeUj+nG6/f/+DQC4rXvYEAQVLoQ+oiP9IDQeDZv5elTauTCvd3Blv9rWXWch+OPkar2SHWf1igH8rj/0zWT9p6kXffZWIK8fgz5oxqU5d7JE15nWj3xEvcqE0csqvl+TnXdC47d5q1InfQ3aQJhv6Ws5WaIG8NXH8RvrSTZTDlrDZmhTu/0Wi/JEQdCc2xoS9MnjXkp3lbubG1n44Q4rlwaQ1pKoQKvHMhCkJyYQRBJCuwV9XyRwC1JC9Rp+1PXgKqYPtZn8mdeha6kzjymT2EubVAWhIVoE6KGgvfaf+wnUAKD7uUxpa26DDdRacHju/PrXVR9SIMwqzVlT/Fy+/0GlXlo0+UvZ+YR0peHWx8L5wtXVz0tHfDrkx1H9jl4HZ0lyGpVAM4AloxYwNE/RhBxW/ShR5qM2ZLrvdkTOERyS5YyAbZpEDWCvZe6gD12fqixwDAQh0CKJBlAWCe3bIhpACQKRCGBhbgwDSR4EQrMrQA5IawApIdMXkKWTirgiAk6SJFNtDLZpAo5qAOcHx/ifBsu8f5NoDqek76IePL84ANgd+P/t4hoatFGLSw2FTSPwS/JHAAMAciH0ER3pm7fDukGIHEM9eGcacP/18qxiesoh1s3uBdhfe6uqXat2YMLiR7GQs5RZteusOtnEO4zB/3A5wFqQ+eA3v1E0404VNSN3YAcqhxAEDi9ZMlXTTmye3cCrDjoR/BJm9pGRic2hR/H7evN7lHrgIt1S/XPDI5IJy9XMwJkNcP3POX0QMxBcxwxhVF+UWEv8ALAJmvY+T8UPzlGPN3wYnE/zBz0vP32Vk5hH1M6aQFFez2GmyeI84i/dDc7DaknC28RdRgC7BNTVACCflY/CXNvXq9Y+6SdAH5e1rr5a9SJVTA/+ZpXo5/KlM5X6+nvhaLx0cpcybyHMD/Bx6nwx2Tx5RJfWQxPZB3+sOKIjfv3akL6f9/cKJFss7A7yJ4RmJLAf+NIPMC7CrRWpS3o8VUNaYCK28wG2OMoc2ekNCLBoaiU1gD0yEbNsU7LtK/vqacDGY5RuKeUm1QASKDJ9C80jep48ZiYoJAOlD432AWQfMl4SgalZBq4f2j5qMDWJ9q+yr9sZAUxG76I+PP8mzzH2Z6JZJpz1Eb8/twbwYdzJ1u5hjISs988Z+FG1J/D/o/Y6jfn33j9JyiT3VSVvveMqpa49T6mv/hGm5KkDXMkvQHqynu9rxxyj6rfZRs357neBQ+V3knaeuP6N++6r5v3qV0HC6NJjbi1S3PgpPXbwCbByQHP84/9wAqhU59oJQPJefH9Jaf1DEWR3ZfXeQdDczf5+/I6yC8Cn3by0Dhr+USsJMzwzwS2EJ7kmluT5a4CXvuI6HLQ1wQIw4Ei+3wD+MWgIwHoCEZbDfpcNgXVEhGPdT4M9k1fqYyLMDoI/5sALKCBrgXzqf6f6nG/kzxoAnMFvL0gYfemlauDvfw9SH8zgqaOn2mx75A77EUwcR8OkVPGfiHZM0LLT8cgJiMUpKQWSbQKzMc3Anf/wz1q/KzSAPgC4DRhY1LQhvi3PeOcU04Zf8+jTAHJCl2RLh2kGPZhkpzewE5zqIBACMvq2UAMoWjkWOS9iKnFwpmycVANIoEiwR3BH8Mh5CAQ10dRMU4r2n9Ht4gMI0D5OBJFmmTjx/1tHHy5/9qjFTgA4jPNkADzNPILlQdgYwf2SmHDWRy4NIK97DLrZOkc+QjU2iKnGgJcbfVPCkf4G+P+9zX9cH3kBC/IGh+m96p/3X4gULRC0JkOP3KXUOd9BwuL/g59Cw2RmmtRYlnRbiuC2piOOUO2I2p1OKuywg1rj/PPVsuOPV8V/+d/H6byG8tzHfg7a4TbkCfxWuWlCG20QaPMtqIj0dLLhhTl4EfLgz6/G989BoMYbo4a7/P3y4JWldLxS0sGQ37ipVe2EN+4e90G00gzstpYQPoazI3ASSQYdBoA2ryTo0xWSTH9pjicHEGuJlINjmy6bqY/zs0aVJ1ADgJVnMSNbdYWCWuPPfw58Z1aefvrs5r9i7rB3fxKawPeBeYRBSqqHsd1RSHMA0zYjLZMQF9Dnr6jek4EgrMzgo+xCIIbFzqNZaOoYFGBTfeDcvMhuLu/n4YdSgi+fnaZAd8C3h+PLA2aj2/SnAMDFerf8mYc+qzSu1WMjNWhhE3C7YQImgxMNYAEgiL4tpglYACANrmD4oKQaQAGA1ACOAvjRT0YiiYNJ8J9oAFvQSlNzBSgRvNKUQuIc+rxBA/6jyYaSu01FaA4LjkCNXpjXmU/RR/T/Y8H5OBqGn1DWKiE3BjN7xhFxHMwz9AC0f2/2TzkKM9HQMizOUSAbGjSIPiSagJPQSzArz9kQiYY7kvR293n+KaV+8jEBf62TmMc9e+LWkeXLA7NsK3yZW06AVmwGqH6zzcR/Gim1Bm+O0XDNwLUEibaXPKHUFb+f3NkCl5lzk8+RlFcGWsBb/fMGwjIECQfRD9BdE3gB+MESxwhpag38AP3gXAJBojyYo1vUAvCO8NxiAn45dD7hla+V22gtqbjLVKwl9Aekewx5F91aKNwSEGoAmAXHqCWDLj/G8kamvFXbmLEnQJ8ZVg1htZAVYG6zWjrubfBL2Qmmrx9/NDmAs59UoRk+TlvDX8UvDYaGNGGhHemHRBojsXJAE+bsf9h/XTRtZCBVj4SZBodKEAijScOglAAwzrk5OG3gB/gkN51EEFh0BnwsBHRbHBljM7ZGAKOBcZ8/djZ9AFlyTTs0ax9ARv9SA1jx3cuDndHnsA6QLBlwZy78iglYAB2fjTb1CvBrwFl6cDZqFESiDjbG/6P5tykS7BEFgEOAt74ULxIAspU5bWibGgVqFnwkwFzu3ezDBYwLmZOGsPBxAfRR0uTPL8AMu/4hvlmi7Uz+yyTAEyW6Z3zzWGjpARjWWG+is0x63PBLLwXgrwM+zM3Q/s0kBf7TiDCmsNwPP+pZIwa8nX6WUjf8BXXQE/gw+y50Gwi/j+I+kpYL3eBdEJYv981WaW/fL15YZgWcITdYEwAIPmtRNV5ZzV+6RW0GkAcBxkEsn2nzynpwFzNnKodF/aXDAFALy7ReUIilCVisJQIAtQlYAGAyXum43FW2qQYAZ+mrpe/MHKRQyK67rloGiXpsCFqI2aJjPoU3DdqFM7858StIGwyy3kFIc3Bt/Pnq8PNs2ATqqaf9/eoRLMAF3kGSDub50JF6+KUMO/xSzE7VJFtfhFsB0mnJymXFee1cgAze0H4sPG5KtRqQsZ0aQGFqTANDzZyYgKWcGw3A6TSAlIBNjZ5IzGJS1GDQLANHUEjJWpMrApgBLnYSaPpBksG7iP6T9KP0UV8QAfwW32F8dy/imqJgiAEgXgDICEiawHxE8y+1zdVoyWUw/2JBTkLM/ff0jUpt8Y4kvaN96JbBKh+f+Anq+0IQmiUaQpJmmn3n/uxnqhFpWmaDsmusEVQNYa7B3gsumI1LkHPmC0p9+yKlzv62Uo/dM7HryGGOBfgtPnNLsvEtC8D/oHke6o3v37YbSvLc4e+TaYFEV8RfdJ3JQuAdcQS+ibvMIu+cNOTWw5rh8wNkiUwpnxkFXm0QxG0AyBPRNcQMpJOMCbj/cRJeKb6JDQg00f7SkjFB1wMWDSBdXqgBpNWC/2r5APVTrHzWAGDlWcz4ls5/VdhlF/Xae987u0lQWUuUJo6JVgvZZB+lFt8JU3Ip2XPc4PAUku1N/jm5sHtTHGwNZhKWbBk/S6ZkawbNE1AD1aPc0jL7iR/gY+aQ8jY1X0OQe01yOTfTrMoyayRq/UowbJjE6xMNYD+OS7QuP6UKCH3o6tCdcC7KXM159DbBn5iBR/EEGECC+BqwT4JKkyhRaw0gTS2NALWa+oIAkHl6N/gcDEy9lT5sFP8/LFwOGgCAa3QAOHaV/H8sV9fkGClN1N7Wq40ix0UD6AFKIxAgsptFxpQbum4CAMTvN46GB6GNfgFf/qZxvSrHnvibUpsBVGZzlbakW3THoObv6NMQObp30lFT3q/0+OPqtaOPVvPPPFM17AaAMYvEHIPMNdh37rmqB9cza9QCf1j6YjIoZKJZFCgsp/GZXvcAnOvv8becwXucaQZQXOHvl9sW/DnMD9m5DnwFA8FxRkNj+Z7F5U1lZ+GV94bGmTvM98m8nzbRBMxAMZuag1Qwr5Sbo+4y1ACK5UhSZom7TEUDqP2lmQOQ3HEI/IJVkwgAR8rz1jbkCdQA4Ovgl9B22mmqEWkPlh51lBrtDwOBGbs8beK4/o9I61KF2bguiuO3PBCS8TWuo9G2DmiBugA46X8VR5MybRAAPhKZPQupdQRgxkcF+JJRqrUZou7PEmY9DomZx1u9vi0VpsZ+NKUSUJFMrR/3K/mtmgHSWOJIst7Tr4USLU3BpDH8kcklJbJDwkDRIDLdC1PANAb3qa+BErVOAi0RwBVwR79FMmRN+vnosbqdALDFoQFk/sQcnpDdX4/rQ/3m/9/ed4DbVZVpr3vP7SW9kBBCEqQFCBBA6YSmdCU0AXWQqvPrOKMygzr6qOOMZeb3GR3LiOVXGRGQMiIt9BoETEKRGgKhJqTf3k/+993rrnPW3nutffa5957b8n15ds7eq+11vrPvt9/1tdWg9jeXzk+9BdyCWJ13C7gseFw2GQcBs4OyAOF9eIlU5r+XoxX2Zr0fbg4AdGmJL3gGRxVL9KP9weeUWnSUUnTPGCHqfvbZYGcO+itXLVo0QrMI37a8ri7wCexA4unmH/0oXDmcVzTHB1kU4DvdnAC4fHOiBpD+od0dvhbh8sAPMI0ZGIuY5ofCfe2rKlpL3JrLcvy9ZvF3a1MlyrojZXY9z7lbD3ft8ZFPVlZhGR1dKHMMusvYu4RQy2fyorLetpboNDAGAFJWcrHMlFbUAFYFspJ9qKek1aUYWcl+OwIJABwlv3LjJZeoemyFtGEkM+EzwvCbNyh19ZdhoniueM4UEw3MF/KMI5Ec9bHk+9TuiSg4AEVfgEn5FNRtwxFevXJQv3PzPAiH1xPvy32BOxwrV3aqRKRpL8CMS4vo8m2px76abVaCU44RXdkS5JloYSPYTBAI25OYtkVH7xIAgn+YQVoNINvSB5CZ8WlmoRZQ7wNMs7I2L/Me1ACGASA0Hv0UBYC+FDCteGm4TMAt6hWU4/f0ELWuSdu/sRt/t6qIBpBcIFG7G6NuvPCqDokV5wpansRbDC/kQsSgpblnFGql65nsdzO0Gzsng1nnYL//v7r4/C84q4ejsOupp9Smiy9W02+8UVXu6f+9hmMu0XsEQXQ33KC6li9XTd/9brR6+K7fB1B8+beQlgcgvQva4WKIsm+f05X6awpQx3GnLka6rmecMi502wlLsKh+MFQUuqjE30E3nncH6bypYe1gOeCW3l7R0aG/qB6Rvu2OYDvTwwcAWV8JKRgFgVF/6ehikRYJEwSiAz60wsTISl1Gf2ltLaFU4IKX8lUAoPlV8p8CAPO8GPGzhgsuUI0ICnkP+wf3bQOoGQmaOFWpr1+HHUMuQrqCd4qbAZPdNkPT1b41Xb80K1sKSwMCfaNm8JLqeyVWWw6gkHWYGQggehzl9gB6Zes3A9cg8rUTEbBRouYr6tviTgUT3g2EWe7bASpJJr+V9vnLv1wo1AjWdFQuPVw0pIvOwXVtwKr2g9kOEGXMyjUYMZ8E2g4CcWkA6ZRtSPv/zTKXuU8K9Uqs5aOk/f/2ihbnrlsK5P9jQ60BnJ/rw5Ms9nfmpvZO6sELj36iPmp+EObfY321upyLj00YZ1oKoMgejIjf/6zkMV219/8BfR9R6nM/8GssXf2GsKzz0UfV5s98Rs1AuqrK+WE+D+FtBjUUE1BPu+YanUnha18buUwKh5yo1IkXKvVvn8RDGF+AJn7JYnICUgZOBXjb6AZvufs04jlvgb+rjyr2cZqA2VwDwOdjPQkCk3ZP4qIrA9nV47GoNGAh3erZf90lK+lPHE2czx1BjItMXeD3p03AxjLCSRt3GZ0HULu2mJRZTFtFoJN+sRxjw7gtEAA4yn5aRtlNvOoqtYEgcMsAzAtD8X12XqDUZ7+PLeOuLH60/c9W6hn4yKShnY6GBhAvvEI0cUkB0wZXtnHTBp2UKdq2Q3zYVCgVDNsSALaqlXa30Dk1WS4zsDYBvxFqywtGuHVjREM0ATOq1hBNGyYymBo4auLs1S9NGNqPRfu0cGVLUJd2VWvGogmZ/QyYpAnY5ADkXGwfQM6H8zJEczS/hyEK6vpI6pUezLsS83dRC3YOoEbARVnMK4u7V0DAJxGT00b3Ae7DziJM++MkmrwYAemjpofh14fnMIm2QPsyaV/4WPF5SkErrlVq8fkpGlpN2vFs/M93lPra75Dl26HJtJqW6pRbVW698ko189ZbVcWcOaW6zZCMazIpZCEjt0Jecmu6EaHTLsYCAovmR/5Y3O2nQcZ24TfnTjFpiItl5qBMovJqPDv4++nJy5VQ87JKiA20ybaFinmhrSUvxMq1H2CytYRpm7h4cxFzfmrrQ9zVxyUroz6AHLM+cJfRfKL1wrie2Pcz28FpDSBznOZNwFoDyKT54gNo84zn5dECuR55DtSddJJiyoUNp52m+jZuHJkJMUfgJmgAN60r7v6L4Rez8rp0fcohkBqhZWiKa+9CA0zAXJoeChWFLhJTHOweaIjs9tUAC53wN0uiavjydSKa1WjOom19pg2Cn6hZg321b8v63DDaBJwX1Nq3Ra9sa9CaQMymvEmDu4BUBfOiIEy/qoUWAWRrAE0QiM41qIFd2AewKQcAyQeCSAMkORYBIPfvtKkFPKODt4s60b4mAhhNuzb4atb7dvHob9SH3QrKHeDSGwBCUJDF85uZbW4T/qT/XxYv4cop4fLoFV+8fAGnoSZohemOMKlIALXsGmw7Bp/BuoY0dxnyNh133622/fM/qxnwr8vMnDnk45diwDL4HU/5r/8C4OlRWz//+ZEDgRdgoXzLT4r/isHWcDek6zfrOKXW3V+47QT4jjY/7G9XcSCEQBys6YwJ8YWrlpVYACUQAWBrgh+gDgR5LTaCzgUYvidzpjKNlE1RWUlZZOQyZSED43TGBOZMzaeB0RpAgpxMILfSLpbte4/3cwGAo/QXrj3hBDX5298OzMG96/PAYVine8YVSv3xZ8XdktnuMwB2W99K14/bHRVa2dbukewHyC2+HEKNE3AlhEYWRgiQjgKmDcbGzYFeCiDYQT4NIJv6fVvyv6Ne1eYBoDYBa7O/ne2egItATws2bQ7m6pZl2gCs/d8cU3QWUQPI/UCMBlA7TXMXkPqgPU0tFKYkHQU8sb+cW9LpNkEB/mtFoAyBrU06BUwcABYKAOELpFAC6Hb1EGYW19Yx4bdTA5jFb1eeAMRaoR1sgPa4EL17t1KMxExDXPwUq/0jUL3j10qd8sk0dxjyNu3YonLbv/yLBn/YsnIsUZBOC+lhVHW12gLT9YjkVN0Jz3tdo1Kv/bU41h1wrlKrUgLAilp8R2ga2wrI1UKLZfrDOq0lhALUrmFRZFGdWgI58IBVEj+tV/sBsvm/u14svxTrSA0gF4xRsv2hWUdZaVtL7KwJRlYyDYy2UBg/ae0DSPOv3rkofc7U6HzG87UAwFH869Ycc4yaAuHGwBAmYx12OvZspR67FSvssAm14DwWXwAt4O8LNgsazDkZAPCO5Lb0gamBj5cvH2AZAMt2zNGZ44o7gsSFU606HBBweeJ9uR9ti8cMrDc7b4HAxMs7QjrFQViwUVNmb3ROIdaDGRiyo9uMDyDrjB8gTRvU2JFo0tAAsBgNoJ4nNYAEjgSRJreg9gHUoI/fhwKYxDQ1vC9JB4DgBWSRDgIJl2kN4FyrlT7VASAA8h4inxtgdk+idvUguLYk1iSLvI5lAOsxYuLbRPPvQzD/HhPrFirgNlyZGvwQyabpXJ9nbyre/28FNDt74rszxcgwUzvMvU3f+56aiRQrmSkFNKHDPLe0twtAIBbL5QCvm6+4YmRA4NmfVeqmH6Wdsm7XMA1yDc/Vprh2zDnQLlgsv3WbsypXSD/A1idyl7ETBoJ4IoEzSNzch0Atmyqxv3lvkBHB/w4ox5KR7jZmG0e7P899i2WftQSx3gB8G3LDUAPYau0dHJaV2lpiTMBGdmkf5y7AP0YAa7uFaABzLM2dCADMsWJ0ntQccYSa8oMfqA3wDRx2EFhZpdQRZyj1IF5qxdCiM+HMfku6HjXTYYaDcOluTm7PPG2Jpo19gFhejI3h0gCyUZ06FkLmwVh7u0CbNlbaRaHzGjUTECmv1TOV2rTxprkMPunbEo0EZoUBkHVwpO7I5beiUGsN+ukEpzq9AU0d9P3TJmCtASSYK0TmHmynNYBZADsTBEJgmdf6+cbSOQDxwuonPWYeLJpyagBdJmBuAefz/yOY7YF5two7rPiIbbrxcqqK+BAySpG6Wts0nRuDAJAaDx/xeZoY1yiGmr9zF6J5TwkVeS/eexlvO2jAa4sEcjf/GFsyfsY7bKkq2v/4R9WMBM/0+SufWOScSzWpAY4bgMBvfENx55DNl18+/CDwwCVKrX4a4KupuG9AbXHqxTKew0KL5SAfIBZtvZ4gwgwW0syL6SDKyqwjorcGeVE7E0y8HKoe6ZtaldtUTBNwqyejgs6b2haajV4sY+HVT1ENYFhW6r2BbRcZdjM+gPyk9zRUCJCUhWVl/y13mA8BgGPgp6459FA1Fb4uAQh8x22SLNnX+PDlSt16dXHD18AcQh+o9XFA5hxo9onIi3WPsypXSEd9Ouz7qBIaFMdWR2VIOpx1mHFr1AEQaqt8owXlequj8IrY7tAQBILE6xuwaiYQsqkeYJEmU5uqAZW6UEqiCdgAQGPWYLneB9jkt+oIhBkFGoEfIWAaH0C25cqY/wikdHJUAsAOjM8oYA0AmSJGm0soLHvRJx/0EE0C3Y2IZebyihL9H13lDJghv1zEdDtMu5NEXdDiVsFHMAr0qLEoh+bCSYEG0KNV3N6Ll+RWvCn8oDMYky/cOSkBIF/kxZp/12Oh0IFnYP5C51coVWEbonybsbCcQfA3If47luq+pR53EqKCK3bdVW2+7LLhBYG0Upz0CaXu/E1xX3FfLLDTpoOp3wVWkI14bvOWA+fNGo/EYvkxZ5Uqwyu/DPI5GweqGaR0YUBVlOrUMVi8PhQtDl3rxbJbnmYgZXDDQPKEOuFCy0r8DVikF8vrciU6Z+qW3LV2l9Hz17JSB8zZC10DCE3Se3YWDWCOhbkTPA1CY4ED1R/4wMiAwGmzAebwklztXt15eVfUyvZUbAtXwAxchxdk+/Pe2wWmPicAJGTgvpDaf84MQD1aBYBad0I+QJ3ioAFQyL2a1qaNOAB0JYPW+1yG52BHAuvcf1oLqrV+LcFUTX4r4wNIzR21gMYDMI1QI0jkVkhGGFILmNcAMnEqfQC57VwrPhuC+3JLOK60Del9gPMmQu3/B22XRXoPYGgfHKR3AMGz5KBWAPFGmNuTiP5/9WpJrAk1Fk7/vyAAZDN8APNay1DnVrys6heHimIXWYDEljUwE3sApt2B9+MerwvxLBdD9LH98BXF9Bh027ZbblEtP/yhmgENYHkjwMA4o0lf/aqqmD9/+EEgg3iYSL+YlDDcR33qAiyAn0v3K+y0BAvrZDAW7GqTZC2pxHPfEwdrPmtJrToUsuHPifNrwIK6Fds4+qhOzYOUeSNW7ZKVUQ2gToyfl500AecXy/U417LSHpxuMiZnKt8AdIBJs1i2x9gRzgUAjqFfOQCBP/7x8GsCl/4fpWimKoYWQmvyIkAdX4yFaMoBSm2B8HAkc8515cq1GlrFrjdzRaGTykUQam6QSg1R1LeFfbmyJbBIIgo2X4qDRrUH6l6Kda8CcOp2gEZmpKeWzZAdCGKnNyBUM6ZdDcyMBlBnuGd/mjO0/g8gpQCxLY0gRrtHUzJNIyYBtDEBEwBSK0liCphaS8MXNQG3QZtJraZNbfDF44o+Sr3QH2QwmvHPidYTANLfMok61KMYAZqNCOkUMHtHSnHZh5dNZtd4uSnhC5IRk0m0YTmSlR8OvF2W1ErXvY0X6kzMo8oNgJ0DdMOk/8SdSh35YWd1KQqp+WvBLhrjFfwZnk1CRHPFggVq86WXDp8mkIEge79fqRX3mWmk+zyoWDMwFhpJ1HgoFi6P+1sUaS0px18eo+97Lb+86OAVkHn0AaQzh4t8stJlLYnuBmLGMxo+X8Ac27EN/aa1paMbkhRuTAGlT5nV32GH+BAAOMZ+Zu4bPJUg8MwzVe+6vJq8pF+D+5G+CnBVjH9LJRznd9oXPisrC0+N4G4yABzzrSVRkOLgUXeLMtwPIsgXCJJ1ALW0ANC3sq1SUyDutjrnw43QewGjbKqDj1u72pgr0r4tedMGK4yQM6ZOHd1mfAD1JudsRYBo/uUG9JxQS0jzb14DSABIEzCDPKoDDaBOo2DvAtIEsT8pN6JbAzgrV8+TVvWmEwAyEWyDL1Ez+nUgKXeNmh8ay77IAmZzt4+MNR9T34fflaarGPWsgHnXY/5l4+ZHUvj/AZztfHJsaGfBquuLN//St/aojwxb3j8GfASaP4DA8aj5i/4uk77yFQ0ChzMw5COfVup//zs6leRrbqH58t34s06xWJ5xGBJCJ4A73ikDrSL+YlRfu/u+AQDE30eEtMyJW0vYrFYdBdmFv5kEqsOCuCMSRGKaN6CuVa02l7lPl790jZqMccJysRoA1LjL2D6AOmWWdqPJB8zpLTMpS43MIz8oL4XCHBAAGObHmLgiCDSBIX3vvVf6OQf+LR9XirnKiqEDz0ufE5Av2nfwwk2iCdAA8cXtoyDT/Qux2gwCB5gqJEqVyDrfh+iyaKJou12DWoR17bN2Uei8EsKqOyKs2KBB7YJ+b4faat+WvB9gHQCk2Q+YDWnq6LFM1TTz0geQvnpGuFFzR9L5/CjWCr80aPqg9o1GbxJNwByHfVmuNYHVuHMbZmA0gMwBOCFoz/96gz4E2Zq0BnAncxl86gCQuAawFS8FvgBc1A1AjH0dvNpB9mlHtHatOsLVHRx6F30dpuWelX4ASE1zF36b6l2cY+YK1z+IRcyS3KX3hC/uV+5FJO8J3ibOitt+odRplzirhrqw/fbbVdP3vx/s8LEjgD/DP2oCMzvvrLZgh6VhSRa9YB+shLYVt4tSRbVSsxYhwvcvZtr+T+ZObcBiqflVfxvWNHzAvytIZjeAwzXO/hn8nfY5gBrTL3UoaM0TiFp832KZC0DXjiBVWNR1RRbRxlJgy7Z6yEqTCkb7SzcHM7EBoHaXMbIS2nVIBgMAKSXTuMskfL1xWSUAcIz+rDWHHaZTxCA6eFiSRX8IAPAuAMA0q1TDU74QV9+XzicmTSAIfbZa8WL3kWdlq52b4wCQw9Qg9UhShFsG0EXvUpFk2nglNiNt2ngrVE7fFgInQ9HoNjsQhJo/k5OPwCwPALlCpz7MPR8ztv1JbSE1gNoEXJYDgHYbCl29C4gBgM0AXRODJrYgNn0Y0cw9jm1q9ZiAufKnCchF6cy/DwOMQgsdIe3XWQUx7zDR9lIDiOfFRR0w29ft5arJl7W/C3PuZGjnavNlvrM3nkCiaGgbmf8yLTFnXCPGn75z2h4DbtexbFmwb+5M+vyNo4CPtAxhUv1ypLjZ8nd/Nzwg8LRLlfoTwH0xVEwCfabOKrhYPsq/WA4CQfB37gkEcVlLqhDA1Y2/Y9oefJTkB1gBadEHCBmVJfzb5VaZfRjdJgaSdVu+fToQZHPQJJ4HUPsAGn9pLSs70Jb5TrlgJvwTDWDAvMh/AgAjDBlLlzVHHqkmY0N05gns26z/OEo2f+Yo4wbozzyS/hZ8Ie5ysFJv/Llwn2q8DAkuu7B69hFXv5lGqLC2uFsEzs148UfIFwnMZmnMwHrD87hmkf0b4F9IDVeU6qEBpEnUJh0J/F6uyBZqLLQBoF7ZtgQaQProUajpvH1VEMH0tDECk8ItmbQGkIKWELACPbUJONrLDgKxk0B3QRAb30DThzkCKzAnmzqxtV01krZGqQ2BNnQCdxE1Bg1IIZFEnWjDqO0oUVPh3AOYz1EWfw++ABBqkQv5/72zDOZfmObSEM2/1HYXQzQTfuRTxfQYUNuO++7TSZ4J/sZ4qpcBMQCdmCJm0re+pcrq6oZnx5Bjlir16K1Qm/emn/Lux8HN5oF0i+WdTwIAvCt57AnQmLc86m/D5PnOQBC3tYRAjSmYuh2WFHOTavj/dkZknqnjZy009a790+uRqSFqLWmAf7G9WLatJfaCjz5+tE6Q7IwJtGqQqAEk6NQxyEX8HkHv8f+fAMAx/hvXHH20moQs/kwRk21qKu23+TBeWMXuDMIX49N/SDev2dAYroPGMIkaD/c7ODMQpPe5WG8tMCgIDGjKN6lVH8C69Ml8geNMr2yfcdQwyanPt2UuBFgcANq5AHV0G00Vmhh0wehbkjFt2GYNHbxBDaBO5aJ7Ff6fpg+90tYmEW0CrgzK7BU5o+mYVoHEeRgNYDtM3NRWGiL8pEHZJs6IZbZwZr12Cif4DLc3ffUWcPuay9hnD3hYgRcHZx6lLFLLOCOAC+0AwhQZdCdIoiD/HzQthYgRn2seVmq3Ywq1zNd3tCn1/J+VOuj4fFkJzjofeURv7wbwl5mMBdYOTEGewO98JwgI4ZZ3JaUqmHQPOVGpxwsEa9iTyOD53uWQdIvlutlYKGMR3KtBjj1M7rwS0e/MBch0Ry7yRAKXB+4yL7t6YBGX7AfIv/0qWAVcuVE5oF4sr46NTWsJA8hs4mLZlpVxf2mdCcGWN5SVeXeZrkAWcclLeUk5JyZgm8P6XABgnCdjrqT2+OPVxC99SYPAVu0QW5IvsddBSEHwhlLbNqUfni/GNQ+lXNlC41JwZYsXd/Oj7vsHO4IAUG3vi9VTU5RkcccuAAAp3klEQVRFMEKUyiE0KLb6In4odjud5PRpuyh3XgNw0gE/tCjVQhB2RKLmauHHwt0zomRAGAFXe38yaGrcaPrNA0CduJkmDToz5zWA0dHi12xPI6kOBNGbpGtIVhmYkk2kHJ2saXomMc2CiQImAOQK3FAb/PYY0GJTO3hQB15Eiakf6j3avyxeFYSIjBD2UTuif+sc0b9sr7eA2zPeNfD/g4bDR+3Q5tbu7avFlPD8tOBZSZP+Ze3jSs19PzTTcYDqvcF90Bgedy5+kNKJ364nn1RbvvjFwOcvMzUP3r1z2gEqCAKn/Od/qr5Nm9S2b32rtN/49EthBv55cfc4EM9E2sXyTJh4NxSwxtRDs972rHsO3j2B5+AvMgzGzACMwi8UCMLFcpsnHQwBYIvDv9DlLhPNm0r5QzlkiAtkExTCMsrQvAlYy0rKNZ37lLU6bM70l0/NgdJJIOHwsHKg7pRTVCN8XBgdnG1vL929T/6b4pKd8sXIFyRflIVoymJEAq/UpmBf2yDFAbQnPqoAIOh9JVabgQ9LHzRGLiq0LRz3BO5yJJPmWARS5QEoo89JnlhO4rrTkE6svN1cBp/cX7cHoo2kNYBai2s0gHoLOG0CplmDAJD+fwY0cgaFSANAtjMawK5gXmZsmk5IBJzMR0iiRs8AQwaq0FxtiCtz+jPapP3/drGLgnP6/1Hwu6gNSWfrsPtAEnUg8rDW4f/HPvw9y50RwKv8/n9d9O2bBVYkiL5NTyE3G7QxDH4qRE/fAPMvXtzF0J2/xr6/FxXTo6i2XatWqc0Iephx880qM3NmUX1L1fgNaCN7uwj4R5YIAqf+9KeqZ/Vq1cQ9hEtFc94HOQTt27q16e8QLJYfTrdYnv0hLJaXJY8dBM1B2+2iQE7G5aGWWxnIh55Yrwos+hiRn+03r8YaoIDuHL4dQfwaQLe7jK0BjAJA212GGQ1oBtYmYBMEomUlNYQ0//KfRAHHf7EEKRhvLCVuDrz9xBPuimEurQf4a7j4YrXxnHPU9lIJ2xPOV+q+65JBWvR7c9NzvigLUXkGWhcAuKaX/C0rJuDeeJFkcbjIu7IlAHSPm860sRNA4DrXHSH0doPQey1WVwszRgfAkk2VAHzdaG3I9m3RCU6bgyrjA8gEzly90pRBIaYz3NOUbYCk+TQjxj+N6YN/7EyQymseJgWM2e+XQSfm3B6lHdrROkQ7G6JgjgeAvImyOADkHsC+FDB8UST5//F790CDWOnVIL4FABi/p0rSALbQ/Av/qCR6d1k6/z+af197FObfo5NGC9cxoTqTq0+eES4foqvuF14IEiDPuPFGVYHo15EmRt4+BBeV+7/8ZXXtqaeqjq1bR3pKwP7latovf6m6nnpKNf/kJ6WbD7WAt/0y/fjBYhkLjzSL5ZmwhLxXQAPYiOfcay2BrMVfu9oeXrhyshm1AH95cXnGulp1COAfFkgeqsNuPVzYuagKi8hua09f06ZWzYLkCcvWqAk4une6vVjW1hJaL5jM3g6YYwAIJSVzphL+AZALhTggADDEjoFdPACfkhex2h4N1HD++aoOQHDjxz4G948SPPB1iB7bA5q6YoJB+IJ8DcIqTYb82R9EVvy7k1nJaOA2aHlclODcnHUEa3CIaqR66UpI9cI2BCq+dDAEOG1e08bb7J6jqGCzV7a2UKsBnLJNHGYAagC1+VfrHgvDP2rK+tA9rwHkuc4ByMCSDvj91QXDU6vIUWlgtn32ojkA2wMAGNYs0YmbqW+i1IZt3uo9OQDJzyQA2KWex28T3/6N99CaVa7vHSIsCy1fOUCWi5qXw3GzAABcdz/Schzn6h0uY3DTXLywuXBJSzQLnn5Z2tZFtet57TW16eMfV9N///tgO7SiOpegcRby50/Yl7cToO+ihx5Sh8Mk/buTT1ZNb75ZgrsVN2RZBfRZ11yjGCHdis+S0JFnaD/AYuTwAedAtt5UeDqZajgKw8+v7R1/25rdoNZf46+v3A+BIM/F6ssTrSU0A3u0ihhJu3NwqcpFapj411oBC0NPv5+zqWVwmvHTM2VcKEfzqJo6fmpZmV8sa/cVnTKLvtXGWkL5yNmICdjmXv7cIT3zlXKWjgPnAvytworyCezXOxqoEdnvqw8/XG0qVRb8wL/lF+m/auDgfLBSbz5ZuE+adDATDsfK1iOEKuH30hP31yuHFqnPs+2b3iNjNgTTW975MR9gqwck1geRwK/G+tbDdBx3bp4BAboh11bnt9oSXJt9LXlhfABzDftP8gCQwrYCpYRtyTBQr3x1G5MXiwLSaAC5craJwSAUsIaiQSBtmH8dtJs2tcFEHvUB5Lx6wbXKfrOy3Z7nNKtXOfwGTTvf7h+sz6q1gH7zTNP8J6N/y6b4zbet0F404Fn0URCFDrBcNdHXIl/+9I1K7X92/rrQWRe0LQz+WHxsoZZF1/dij/CN552npv3616py992L7j/UHbrhi3w9FqIz9tlHfQj5B6l1e99JJ6lToXFj+fqn43+jQz2HQuOVVVaq6dddFwBAbo835FQJDdTBJyj15zvTD218ptOk2+Jied29/rHpwlCNRVmXR655F8vMBfiyc1wGzXUWCJqrQyBJuyda2JcPsAbawa6YfzS3cOPiVZPOk4q/IZA2AWsAqLfO1BpALmj1Npf5TAfa4iEmYM3F8P8CAMP8GNBVNfbTPA/Z9SnU7r7yyuHbeihhthP/4R9U5fz5asvnPjf0ua/2wgv0HQCe5q0JM4hU8UX5DF6YhageZitueN7nMfGyfxAJDE2Oi8phqtzO6LcwKNJRpHol6OpGB+eOhJUtfdXa1F9dXaHFWuA0AVMjRt84m5I0gGYlzPZaA9gWdKWWi+KLpAGg5g3BHFfVXN0mkfYB1C00AGQ8NHcB4UqZArM2GJ/3J9kBILymaZh7GRvibiZ1SN5siECPxtoMRrKJ5p5qq51dx0jBKoBIzt9H/D18CaD5gqJfZ4y4HSBfbC7q0y8PldE+j64mav0DSs0+3lkVKuTzteZBpEY6JlScePEAnv8lZw158AfzgG5YujTYIahqP2h1RphakZyemr79L7pIHfr3fx+azazFi9W5N92kbsPuHGvuLqDpD/UszUV5LcK1MJ9mBId0lGI+zAnIhN9piYvlObBwvOk3s+aGSmMtoayk1ttFgbtMHIgzcb7PWqKD5uhGAhnroWQ/QCaEXh3rqdNmhWWlDprLv2Pi1pK8BpAprLRPc9gHkJJJ/xMTcIzpKBAA6OLKAMoyWE2e8YtfqKqGBnUzzK+jweF54te+psqqqtQ2fA4pcWV54oVK3XNt+mF3h9ZjNV6uEWDmHID7r2543FkVFFbvCpC41j9W+RyoiN6O9S+HRi4b2Z3DNGKkaVKEWwaQR/uS9JguuU+aPRjRGtXEaQ1geB51iA5Ocm42Yxi/Ft7EODcTLFHrx3Qw+PLBOff4LbTJOUWfGdfWANKfkCtmPb6OOOb9OmGiqbE0gCyzgRrBqG0ipkmH+x9HiZn/qR11UVvg/7fIVRWUbcfM+qCJrPAASL6g3AAQL7TKA9zjtv4lWfvHXnQ/mHWiu79dyhf0zgCaxSR/vvPXSp18kT3KoM+zzc1B4NdkpDjhDkEjTZsRXPH7005Tx2M+C88C2HXQpHnz1IV33qkeQw7TZ0plfnXc11fEnVFmQAO4DQmjO5d7wJKvc6HyuXtgRdWq1KZ3C7XM1+8PvqVZLE/cS/tLJ+2hTmsJ/V5dVLkvrCXxRW05FrR9cN3wUa06DFLDL5911oRnnd11IAiUBxFqcFpLwqlg7LyplE9cqJK4WM5nTDABc3q/c2367YV8FgAYYXlwKQDQxZUBljHCbAmEyLxjj1XXITlzF4TzSFKQ++o//kP1wTzUhBXukNKJFyh1bxEAkC/KWdBOvL2q8DRoBl53j78dAWjNPJg21rrbEABQExQhbnPkW9lWIpCjB47PBihFugaXddA4tXtMIzWIiu20dvlghwqAxj6U2sTgCaZRMVSL4AoGWRiqABxjkmUT2cZys7JlGakH/6it4z/ts5c3kwQNIv/lASJBI7WG5RiBJmD6ALZj1Dp8EgA2BD3tHICci63Z68M152iTjgAG6I6Q3gN4t0ipvmxVz0Fs+wFgp1qF2Xk0eRhCawDxco1SbwIAbFmOABC8EJNoE0DitIOTWui6Z2+G+dcNcJyd34LWoxb8nTbLWT2Qwmxnp9oAkDXxn/5J1ULmjDS9g6CKm+CD/JHf/lbNPeKIxOnUYmeO82+7Tb0My8lj//7vQ2+lSLx7vDKD+UyHKw8tJt3PPRdvMJiSk/6muMwJux+HxTL8UAstlikHgz3U3WArmHLDQdg9aYV79mU1KMeCNpI2i2mxWO6ThdTKd2B7Rh/prAnhha9pW6d2hcR5w1zmPqkBjCaDpqy03WUYiNbRLyv1fsD6/WpSwnBxy2hgmoAp32gt4XfQ8o/L92Q5mZvMDnQiALAEP/ZBl12mDv70pwMzSOv69SW4Q/ohg7QHV1+tupCGoRWCechowmSlZkIT90oKQGduuv9SpfjiLEQzj0a+wYeSWzUehpUt/KlcFABAAIEIaefmVyKl+pIarkpoq7o9gSJs1aD2g5ByC1sdCBJf2WYAY2xn5upg78ttuTlovz8tyFjINCwmGbRpRIBmEpxqYytBmAZyTEJTSLBx9UtByH/6e1ZhPJqA8xpAvQtIfXBLDQAbg/N4BHA8ByAFN7WdUWIAiC8CuB0BHvUI8PARHc3rPPv/sg9zOsKrLN6dKYAyu8fLWdICrQWfGx+1vK5U/S6wi1T4WuhyvphfuQ/BUClMxWak23+l1KkXm6tBfzLAaxPAVsMnPqHqTj990OMNdoBX77pL3fnZz6qPAtBN33vvVMNVwvx69g03qK1r1qhln//8iLvOVMyapaZff73aBNM1A2qGjI49W6kHbyoM6MwNKwDAZoKH77pljWkWfAaL5XtDRaGLcoI8AEXj/hCqxEUGf0OOfYHLsaDdHlnQmq41CIjj7jw+0jJmCkDYplgTbvtGGWb79rER5UdrxDpDP2P6GxuyTcD0+zNBcvq8LZBtbGv8pPlJ2ad3CikrKCfNfXakTwGAJfq194IG8ITvfU9dC3MIzSIjSYx4m/a736lWHO3YFWDIiBvZ88WWlvb8oFIv3124dSU0JeUQgsx276OkHUEqDkAOrriA0hrAl30jBoAjaWVLjVUbNFcuqg9SwcQBoN7m6J1cF2NKJRgjRaNYtWkjDwjZxpiACdgoPJkHkAAwAwjE8QoBQBMEEgaARgOofQC1CSUPAI0JOJoE2hcB7EoB0w6BXottnqJEf0FGCWYgxH3Uof4M6PwBXzX4wEz/fLlZxPRA4Iwqy1iF/acEbV1va6f4eK0uoUM9d6MpROufV2rGHrhVWBPq7cYo0Cfx3B92irdJMRXbEU3PAK+aJUtUA6J+R5poxl0OLR7NuhPmzClqOuWZjDoVeflqsVPJzRdeOOKuM5ULFgSBNAyo6V23rqjv4m1cA/9Z+k0XkzlhEbTLaRbLs7AIeRfPbRI1IFKd7g8uGtBiuQp/u5Mhh/LgLDp0PRbL1PK7qA5gryMC9uhCEo0OrkfeQVsDaFtLbLlpcqaae7GOso4AkLKR8i+NnDT9d6RPAYAl/LVpBjkTWrebPvpRtW7lyhLeqfDQ5TU1irnBmmAS7nz44cId0rRgNONzy/FiDZs5vV0r8cKeMg/5q9z5+EL9mIZj3QOhotBFw2K/aSMzF6vaN0PNeUEAyP1jfaRNG4/5qgE35mHlu9ZZr6Pb1sTqXJHAVdCL9UA8GqI5l7COZKc3oLnWJDg1GkCaMyjQtAaQoo4aQN3XjBf9pAg0qRBYp1fI2szMcTXAZBQdgDcoqgGk4DWkI4Cnm8vgkyt3Al2bCPLosaiTX9s1HP9VfE9oHjyUhdinkTcT8UM0zbOIFsSeDuYy/9mL/GMVC/PX9lnX69ptwC6LnvNFOisFAHwGWuxFS6O9/ddP3IVoULyoKyr9bYqo2QqTb8Uuu6gJMFeONC1HMuWX4D9Hcy5B3ECIVopj4KdsXGcYQTySxECaKT/8odoI83rftry2flBzova3mMXyXlgsv7Ss8C1rZ8Ja24Q/Fy5+PDThMK39dlUHWROeidVkYA3xucuwcaHk+cya4LOWMC1Ua8THkACNsoJyw1Ahf2m2I9DTUcA6YM6U8ZMuM5SNtgsMy4XyHCjPn8pZKTgwfeFCdR4E5G2f+pR6/YEEQFOKm0fGDJydEfHGLaK6n302UjuAS25ldQTMT9z4PC3tdyZWtrcUbs2VbdK+wEmmDfrGlEG7lA2/SMpgXt1uAa/oJCqxMu3FlmbUsrmIcCuDMXr7nY/tNi4fQNZrAJjXALJMC7b86rkWZmHj0EwAyCAMkvZtYWLTWui7dHSbDgChnktHAOObYrZ9QXvff1pDSFGZhZDVANBEAetxa3HPNtxPa+R4f7MPcEewD/CU3NAEgNEk0F0w9dREgjXaFRND75rrZ59Qi0pzuo+YaLZGQWPioSxAPMF8jIII4P1jxUFByxPJ5l860rcAwKfZ/u0lALq9TnLfx1V6x//Dzh+fdNUUXcYFHAM/Jn3zm0X3HcoOTPB871VXqU0vvqjOgRmX5tzB0kHIGcjjd9jVqB3btY0k1Rx2mJqI/K4bzz5b0ddy0LQ3tHBrX1SqvSXdUFXQGk6crdTGVwu3nw6AlxQ0x92TWvH8u6gCfy+9LgBYaLFcKBBkX0iUv7ruiL99Js6PL5brgoTQ63N9mHmgF5LJkL37B8uMvzQBIDMV6DK9UxLhJGUkrSV5ovQTsjkgANDmRonOJ86dqy64/Xb1IFa5L5Yi31QR887MmKH9XD75SdXzOrQigyVuDXfXb9KPsvAUpV68o3D7aRCYmz1mC9ObDs5tHs1qxb4QbHEBVAZhkQQCq7C1WLcnhxVvW68o2J43M8h9al0c0yOEV+LaBAzTo0XcR5epVAzZpg1tAtYvCePbogEgU7HoPS7ZLw8A05iAtQZQawENAKSTNMfTJmA7CETvCIIXEIg+gLYGkCYZAlhDBizz+9ukE0AvsIty53wx0ETko3ZEGDLS0Ed9QQSwQ4PYi0VN5SJ3N/qLJvn/bX0ODvWYExcPSbR5LR6CaTAl+83Xoe7cN3sbfut58OkaJNGHt+vxx9VU5NKj1mykKEjwDD9n0uk//zlcJiuGbCp7I53Nkq9/Pdg1ZKQTRnN7TfpYboJpentf8iKrIAP4ex17jlL3/6Fg01wDLpaf+9/cpfek0GK5ahdYad50+yBm8Lec3RAbuhwaQP6d+agacrDLA/DYpwIm3V5E8Rv5YI9DdxnKhyi5Fst0kjFjcPltztlXW0tagmW5KdfWjHa02x7ISAbMCfk5EJba/nY7Ws1EfOF7cFAVtBoH1FGDo/rp09UFd9yhVvzsZ2olkkaPJDE/4LRf/SpIHMscYoOi2fNhgujGCjQMcrxj1oK11Y14KYa1YrH2dMSv3QkAL2HcpH2BPaYNBg4km4EPBySCWdtDGgACLDhIR7itDdXoVW3Yl0hHAr+Xa2dHtzEIJK8BZHoDmmZ1hnsd3aYBZhgAFjIB9wYCkQCQRhPu8UtNovEpZDQxAaDRAHJiXEGTokEg7dD22TkAOwFkawBoo8QVPgW9izpQV+upY3tqAGvV+11dgzL+fuVODSAAYIUHAHKhUH+gd8zAj4ov0kLEF/IivJjTElMlnXhh2tbedu3wryMApC9vGfzmRop6oQ27kQmnEehxAlK9lAKIzj/uOHVKf8LojdAwjiQRAFYfeqja/Ld/O/hI5Q99TKll16T/OvuchsThtxVuv9PRcKt5yN+O4JMgsNsjS8sm4023JdQfm+VBUoTL7AY012awEOyNbOFmt9EuM2/YRcF5NeRFl7UANg1ci+UauJ90WlkSKJcM2ONi2chKMwYXy1zUMl0WZ6gDQLabavmMcEAAYIQh/Zf345PAj0DwKhwEgxNwDIqYMPqjCMJYg+2HlsOUM5JUtf/+ajKCVJhGItvWNripfOjjEGz/k36MfT+s1F//WLh9oZVtI4IErEjgZeBrjggEPKYNmhB9VDjHVbJpoy2yhyaj3ox/n7lnVANIAMhgC5IdBBLWAJoEpwYAAiD3E70Ck0j7AOr9MBl/Rx9AmoBNWhn21RpA5joMC0umXbA1gIze43cyxB1Aov5/rCMf6pFPLEp9+KbsrxNzR2u54uKzSH2iX8OmTcDvC3dmkMf2JgQP8U9WU+55yMKMxPrEBND4k0+z/dvzf1KKL+a0dP/1WD6el7a1sx33rN32jW+o6fDhpS/vSFFXS0uQ3moPRB0f/oUvlHQasw86SC299lp1C4Jc3l2xYsjulXsmihhxIpL7lyO/axP2NB4UTcWCtg6L37dTmHV5ozoAM0YEN+fNos77V2JMLti6teuIs01EVobaUGvuSJvFdDAMtvLRQGWl9vargSTpCA3tAoA6ECSvpKgOFsgtQT/bX5oF2h8w7y7DMr1tJs9YzwWwkM0BAYA2N/T5fHwcgOOfcPBJuwkHAeDlOAZNFdXV6izs1cmV7f3wMaEvzUhR7ZIlasJnPqM2Ip3EoPYNPmapUg/frF+yab7MvqcDAOJFWogKBYJU46fqfD03Ski4V+wDAPh8rs6cZAINoF8AV2Jrsl7sdesTFlVY9XbDDBoFShyfgCcKAFleBaHV3e/Xx2uaUH0mYO0DqAWcAYBaA6hNttTcaQFKAAihD0rjA2iy4VMMEgCaSOJgAPynNY0MTuF9ak0xhDQjjvESApnAjlwlTnwAsBuBGlWOQA1uEVUHM7uPOgLt38G+6qA8Cz/NskjQicriJRnZ/zf3PLQ9jR+Hf9IeyvaAAXjJ1MHnKonaNqMWf68NcY2ns9ua5xAtDM1L4yRndZrCnldfVZvhP8wArsykgY+T5l5JbTq2bAkSPB+EuRxw0UVJTYesbtqee6rzkJvvdqTUemOIAtdyz0SRs5yMKOceyOyWwVpvTvoEXGZ+m/7u+0BWptECMnXWe4/4xw0A4BPu+mCxjGc1QkwInfVsn8mmGgDCtcJD2loSd8Nh8zo1D7JjbahnHf6mKU9sivtL53MB2im06A+oc5tSA6i3uaSMNgBQb5up5aU9/o5+LgAw/gQsRtFrOPRbWNevwsdu+nTw/zP1AXcN6WlvD3JnMa3DSFH9ueeqGphcBmXiqGtQat5C+PY9le5r0Lm5uxXhoNDYJNEkgLhtECA+kByYNrCq7g6bWIMhy+vRDyvMSF/6tiRpANm3kB8gtzDrAUiMEgFga0QDyDYUbO0ALYaoUWNwhSF9vS24rEJr49BMAMjgDGPW0D57zAFYBQDEFDB68aCDPMxo8U8TBUygSCBIAKhNKTovIHsY4UmTCgUrKQpy2wHqbPMv22gAOIenOepFKXdO4T2ipP3/9o0W5651+pdDc9fRE50/TKe/CdUl+v/hxccXoI82rUCC5kN8tfny529XauGp+etCZ3f+RikmAR4g9W3YECzOpsH0W1FkepUB3tLZrWXdusAn7+ivflXtjX18h5MC/2lEGN/3pS+p1XChGSniXsbcZ7kNeQLbBzMPBs0tx3OUVubvewYWy7cW/tpcLK+/39+O+197U8FQA+gCgHSXSfIDXIjl6PPee+rE+S8567l9ZnSxXAl5F9UKuqwlHf3b0FFOcd9ykt46k0nttQmYspLyS5uAsTbEv6g8c05sByvM25F2sC+e8HWnoE6/jfONNuP0wPxl+Kx5gDt+HIpdQx6DGfZm+JeciM+RorKLL1atX/mK6sQqdwJW+AOio87Gnpd44c3ZK133uccqtfJPSu0HAZdE5XOR5wogsHFXT6sDUI+V75STVHc39Gz2b9E2C2Y/CKDMzrm+2wG+WrGq7bM0crnK/pMeJDp9Tz2M2FxobxyUxVpgvVqB+qMitRk8OJswcnOoPIt7vhckLs5rmNogOk27XsClTfClMdftgH08Zy7+LajZGWfbYIrtAjTkZw/EWgf+tUKEdqBtE0pN39CN+y9aUNuOfwSMLfi3HcKQ99gMPxzovoK+vGbdRswjC4ip79+BO5bnxt6EFXsWQte+1waUTVMnhcqa1Uu4x+xQmZnXeiSQna0ucdaxzSZoAHdSn/DW92Fv5Q4AcM46RNztIIM12vZ8ee55WP84tm37R3TJ14X6vgYFfz0Aoq/eNF55q1If/ErhdmzPhcdTDyp1wZfTtTf36P+kZWADfO0mwvTbiZQvnYXmFuk/VJdMyXItTL4nYNu2adhqLvT3NVQ3KTQOzN6nwWrCLTbbkVNxPiwXA6XcMzHAAaqxcH8bbjNTkTS6crcB6gQW4FXyJMDaQr+fa256FZOV2roRAXEI1GAaLR9VY7H8Jp7NPT3POPu1YEHctBWGg0x4lO2QS9teAEoK9+2G5MmqFwCuloTbW1ftkIJb4NNb4fADZrNWSK0mtIi6fPTBCrJBPQHIF5ahHZAcWyEFzO5DvQB0G/E3T2lCymLxugFppxoBIHshmzZDslIeaRm6HvKKSaI2Qa5Rwjfj3s0YkX7PPYHMtGXXiDzLwbcYPf/Fl+ijZ24jNZOzcOPv4NjdmgCv6Vz0aauMpzvjeDtSJpfCAeGAcEA4IBwQDowNDtCEEbY9j415D3qWogGMs3AlihZEihfj+u5IGS9p1+PDo/XQLBESDggHhAPCAeGAcGAscKARk8z754yFGcscS86Bp3CHb/ff5QR89uGY0H8tH8IB4YBwQDggHBAOCAeEA+OQAwR71PgxOmM1DjisCQkHhAPCAeGAcEA4IBwQDggHhAPCAeGAcEA4IBwQDggHhAPCAeHAkHEAYcXqvx2j/QxlW3AwMpvBOYYYpHMPDqO1Pd5U4DOpzmomp6OYA/MxN6OVj/729rT5DBj3DZYn/fZJdfaYcj76OHA5psSEnvx7jz4PSc9K0m+eVDf6OCAz8nFgqGSAPA8+Dku5cKBEHKDwJrAjyPtp5B5/wPX1OOi4i/wvgeBfik/SChw/wcE6RnLzxWD8NpPq0ExoDHBgK+b4bzj4+zIlE5+PL+KwCbleAn9dGwAm/fZJdfa4cj66OMDfn37ZxjUHSfCCv3cjC5KelaTfPKludHFAZuPjwFDKAHkefFyWcuFAiThwGcYl8KPvpQ0ACQyjwTgEeDxMXSPODS3DCQFCUp1pK5+jmwPU5vK3t+lKXPA3NsRIfWqEWGYAIKP52U+eCzBhHBE1MwR9hvg7b8bBRWHSs5IkC5LqzH3kc3RzYChlwA7xPJSP7t9TZrcDcuDn+M7Mt3hf5LtTyL+G4wocfNEzUvs8HM04+IfPOjsdzypc71agDtVCY4ADfBaQETdEJ+KKph5DN+CEZsEmU4BPaorkubAYMk5O+Rvfj4NAMIuDi8WrcTyNI+lZETkBBo1jGkoZkPSsjBsWCgAcNz/luP8iBIAEdPxkap6rcHwXx6U4puDYhsMmagTYNqnObi/no5sDzf3T429KX0ACQr70SfQVpfAnKLAp6bdPqrPHkPPRywECwXIcB+HgwnApDlL0WZmEMj4rSb95Uh3HFBrdHBhqGbBDPA/84xESDowFDtDni7491A6uxcGVPk195+BgHYW8TVNxQe1PUp3dXs5HPwcI+Kn5pZn3EBx80TNY6GAcX8YRpaTfPqkuOo5cjy4O0DzHwxA1fwR4tAgYsp+V96OQz0rSb55UZ8aUz9HJgVLIgB3ieZCdQEbnAy2zinOAYC5KZf0FK/FJ7aBNi3FxN46kOru9nI9uDtDc24djHg7b1H8urmnqpcaXz4NZCPCl8EEc8lyACeOMaAHgwo+/ryH+7nxpk3zPCmUBNcg2iZywuTE2z0shA+S9MTafBZn1OOEAVfp2EAi/Fn19qPWj7w8FNwX+mThIrt1bjPO/q26C7ib/jwEO8IVPX695OOZbB58D/o72QdDPZyTpt0+qk+cCzBvlxGeAi4Gl/fPk88HrY3EkPSts7pIF8jyQM2OX7L9/ng9WBsjzMHafBZn5OOGACwCaP24Ke4LBS6zvauoIFFjHl4GhpDrTRj5HLwcY8cvfPHrYUcBm9tfjhADQUNJvn1Rn+svn6OTAcZjWX3CYv3ezECz0rHDRQIBg+omcADPGGQ2VDBD5MM4eDPk6wgHhgHBAOCAcEA4IB4QDwgHhgHBAOCAcEA4IB4QDwgHhgHBAOCAcEA4IB4QDwgHhgHBAOCAcEA4IB4QDwgHhgHBAOCAcEA4IB4QDwgHhgHBAOCAcEA4IB4QDwgHhgHBAOCAcEA4IB4QDwgHhgHBAOCAcEA4IB4QDwgHhgHBAOCAcEA4IB4QDwgHhgHBAOCAcEA4IB4QDwgHhgHBgKDjAbfFuGIqBZAzhgHBgfHOgfHx/Pfl2wgHhgHBgh+LAKnxb7nYhJBwQDggHEjkgADCRPVIpHBAOjGIOEOhwS69S0xbc4ID+mwz0nty7Orq3dannbcY/HifcWlFIOCAcEA7kOFCRO5MT4YBwQDgw9jiwfQSmPJB70ixLIDZYIgA9F4eZQ1n/+b34XIvDRfeh8Ds4CGKfdjWQMuGAcEA4IBwQDggHhAMD4cBf0OnS/o5GS/ZtayBq6ghATsDxKg5eb8Zh2txtneM0ILY5Dsd8HKw3fS7DOYn36QvO9H8L8OFrx74EYJwnz7lhvE1mXpwTwRo1ZlfisMdbimvz3c7COb8H7x8dC0Uh4n2XhUpKe8E5R4nzFd/AKFfkWjggHBAOCAeEA8KBQXGAYMmAnLNxTpD1VP+INH8aoMbyS3A04iAw4jWBoQFUOA2IYxCMkWiC/UJwpgEhyw0YM+OyOqmdAX2877z+tgawTsI168/EQSLA5PUXeQHiuPsHZ3kAaEAfwSnrzVj9zUIfBF52PcEmgSgBJHk0DwfJ3JMAbjUOBnQQiLJdWvBGnrIvgbNNBrjaZXIuHBAOCAeEA8IB4YBwYFAcIFgxYIyghZo9c01waADTPJwbosaOoMeAFZ4TDJIIeAjACAwJaGziePSnszWABIxJ7Tj2rjgMmfF5bYNXU0+AZgNAMy8DpHxjmf72JwGc+Y78zgSMBKKkCf0HzzlHA0JpsjUAmHXsM48ngyCOZ77HIIaRrsIB4cB44EDFePgS8h2EA8KBEefAKsxgGw4CwYNxUONFTRc1UifiMEEIH8T55Tjow/Y6jq04DN2Ik/NwPI2DgO4fcbDvbjgMGCrDOfsa7SJOA5qM/wu1e6O/bfSD/V6LFEav7Wre3zeW3c6cE/QRUJIIaAmGW3gBatYfuf/v6z/j9yMvDXE+HGetKRjAJ/nNMchfIeGAcGAH54AAwB38AZCvLxwYQg7ci7EI4ObjIMggmCGAIwgkoCMgJBBkvQFQ1GwZ+hlOeBAs3YNjLQ7Wr8GxOw5D1MIRhJWZAnwWasf2PuL4nKdNBEpP2gWDOI/em0DZRWxnA0JfO1dfKRMOCAeEA0VxoLyo1tJYOCAcEA74OUCzKrV2RttFEMfrFTgIbAjcqPEzwIaaQJYZImCcguO7OAgESTfhYBnNtGy7GMfrOAgmSQYEpm2ne4X/p+aRIHVpfzHnZWvfWDy1v44f5p5WUeIp50utKIn3Ihg235uf83CQih1X90r/P0FtkmYz/UjSUjggHBjzHBAAOOZ/QvkCwoFRwwFqAKnFMlGoBHS8Nv5/BGks24qD/noTcHwPxx/6z/ER+P7Nw+fNvOing/BJzSK1fASV/4rD1HN8Q2nbsb3d73VcUwPIuWzGQfBHoGaA6tU453cyANHui+LQWLyO0goUEHyReK8rcJAP5AFBs6HouKacn0l1djvfOYEmj6d9DaRcOCAcEA4IB4QDwgHhwI7Egfn4stQA2kQtpgF8dvlAzjm2AcUD6T8Ufah1NEB8KMaTMYQDwgHhgHBAOCAcEA6MaQ4QAGZxGLMvzct9OKihHCqitm/eUA02gHEIaA8YQD/pIhwQDggHhAPCAeGAcGDccoDaPqZroQmYEbjH4hhKIvhi6pqRIGogR+reI/F95Z7CAeGAcEA4IBwQDggHhAPCAeGAcEA4IBwQDggHhAPCAeGAcEA4IBwQDggHhAPCAeGAcEA4IBwQDggHhAPCAeGAcEA4IBwQDggHhAPCAeGAcEA4IBwQDggHhAPCAeGAcEA4IBwQDggHhAPCAeGAcEA4IBwQDggHhAPCAeGAcEA4IBwQDggHhAPCAeGAcEA4IBwQDggHhAPCAeGAcEA4IBwQDggHhAPCAeGAcEA4IBwQDggHhAPCAeGAcEA4IBwQDggHhAPCAeGAcEA4IBwQDggHhAPCAeGAcEA4IBwQDggHhAPCgUFz4P8DIoRb5Dd03PEAAAAASUVORK5CYII=\">"
      ],
      "text/plain": [
       "<IPython.core.display.HTML object>"
      ]
     },
     "metadata": {},
     "output_type": "display_data"
    }
   ],
   "source": [
    "new.plot()"
   ]
  },
  {
   "cell_type": "markdown",
   "metadata": {},
   "source": [
    "We can change or add labels to axes after creation of the dataset"
   ]
  },
  {
   "cell_type": "code",
   "execution_count": 28,
   "metadata": {},
   "outputs": [
    {
     "data": {
      "text/html": [
       "<table><tr><td>title</td><td>Time-on-stream</td></tr>\n",
       "<tr><td>coordinates</td><td>[       0    0.606 ...,     59.4       60]</td></tr>\n",
       "<tr><td>units</td><td>min</td></tr>\n",
       "<tr border=0><td>labels</td><td>[0:00:00 0:00:36.363636 ..., 0:59:23.636364 1:00:00]</td></tr>\n",
       "</table>\n"
      ],
      "text/plain": [
       "Axis([       0,    0.606, ...,     59.4,       60]) min"
      ]
     },
     "execution_count": 28,
     "metadata": {},
     "output_type": "execute_result"
    }
   ],
   "source": [
    "from datetime import datetime, timedelta\n",
    "axe1.labels = [timedelta(minutes=t) for t in axe1.data]\n",
    "axe1"
   ]
  },
  {
   "cell_type": "code",
   "execution_count": 29,
   "metadata": {},
   "outputs": [
    {
     "data": {
      "text/plain": [
       "array(datetime.timedelta(0, 727, 272727), dtype=object)"
      ]
     },
     "execution_count": 29,
     "metadata": {},
     "output_type": "execute_result"
    }
   ],
   "source": [
    "axe1[20].labels\n",
    "#todo: this should be a single object not a a zeooD array!!!!"
   ]
  },
  {
   "cell_type": "markdown",
   "metadata": {},
   "source": [
    "Dataset can be transposed"
   ]
  },
  {
   "cell_type": "code",
   "execution_count": 30,
   "metadata": {
    "run_control": {
     "frozen": false,
     "read_only": false
    }
   },
   "outputs": [
    {
     "data": {
      "text/html": [
       "<table>\n",
       "<tr><td>       author</td><td> christian@MacBook-Pro-de-Christian.local</td></tr>\n",
       "<tr><td>       created</td><td> 2017-07-06 03:06:17.584112</td></tr>\n",
       "<tr><td>       last modified</td><td> 2017-07-06 03:06:17.584127</td></tr>\n",
       "<tr><td>  description</td><td> Dataset example created for this tutorial.  It's a 3-D dataset (with\n",
       "               dimensionless intensity)</td></tr>\n",
       "<tr><td>data</td><td><table><tr><td>title</td><td> Absorbance</td></tr>\n",
       "<tr><td>shape</td><td> 10 x 100</td></tr>\n",
       "<tr><td>units</td><td> AU</td></tr>\n",
       "<tr><td>values</td><td>\n",
       "         [[ 5.4e-27 5.29e-27 ..., 7.46e-28 7.31e-28]\n",
       "          [2.25e+04 2.21e+04 ..., 3.11e+03 3.05e+03]\n",
       "          ..., \n",
       "          [6.75e+04 6.62e+04 ..., 9.32e+03 9.14e+03]\n",
       "          [   9e+04 8.82e+04 ..., 1.24e+04 1.22e+04]]</td></tr>\n",
       "</table></td></tr><tr><td>       axis 0</td><td>         <table><tr><td>title</td><td>Wavelength</td></tr>\n",
       "         <tr><td>coordinates</td><td>[   4e+03 3.67e+03 ..., 1.33e+03    1e+03]</td></tr>\n",
       "         <tr><td>units</td><td>cm<sup>-1</sup></td></tr>\n",
       "         </table>\n",
       "</td></tr>\n",
       "<tr><td>       axis 1</td><td>         <table><tr><td>title</td><td>Time-on-stream</td></tr>\n",
       "         <tr><td>coordinates</td><td>[       0    0.606 ...,     59.4       60]</td></tr>\n",
       "         <tr><td>units</td><td>min</td></tr>\n",
       "         </table>\n",
       "</td></tr>\n"
      ],
      "text/plain": [
       "NDDataset([[ 5.4e-27, 5.29e-27, ..., 7.46e-28, 7.31e-28],\n",
       "           [2.25e+04, 2.21e+04, ..., 3.11e+03, 3.05e+03],\n",
       "           ..., \n",
       "           [6.75e+04, 6.62e+04, ..., 9.32e+03, 9.14e+03],\n",
       "           [   9e+04, 8.82e+04, ..., 1.24e+04, 1.22e+04]])"
      ]
     },
     "execution_count": 30,
     "metadata": {},
     "output_type": "execute_result"
    }
   ],
   "source": [
    "newT = new.T\n",
    "newT"
   ]
  },
  {
   "cell_type": "code",
   "execution_count": 32,
   "metadata": {
    "run_control": {
     "frozen": false,
     "read_only": false
    },
    "scrolled": false
   },
   "outputs": [
    {
     "data": {
      "application/javascript": [
       "/* Put everything inside the global mpl namespace */\n",
       "window.mpl = {};\n",
       "\n",
       "mpl.get_websocket_type = function() {\n",
       "    if (typeof(WebSocket) !== 'undefined') {\n",
       "        return WebSocket;\n",
       "    } else if (typeof(MozWebSocket) !== 'undefined') {\n",
       "        return MozWebSocket;\n",
       "    } else {\n",
       "        alert('Your browser does not have WebSocket support.' +\n",
       "              'Please try Chrome, Safari or Firefox ≥ 6. ' +\n",
       "              'Firefox 4 and 5 are also supported but you ' +\n",
       "              'have to enable WebSockets in about:config.');\n",
       "    };\n",
       "}\n",
       "\n",
       "mpl.figure = function(figure_id, websocket, ondownload, parent_element) {\n",
       "    this.id = figure_id;\n",
       "\n",
       "    this.ws = websocket;\n",
       "\n",
       "    this.supports_binary = (this.ws.binaryType != undefined);\n",
       "\n",
       "    if (!this.supports_binary) {\n",
       "        var warnings = document.getElementById(\"mpl-warnings\");\n",
       "        if (warnings) {\n",
       "            warnings.style.display = 'block';\n",
       "            warnings.textContent = (\n",
       "                \"This browser does not support binary websocket messages. \" +\n",
       "                    \"Performance may be slow.\");\n",
       "        }\n",
       "    }\n",
       "\n",
       "    this.imageObj = new Image();\n",
       "\n",
       "    this.context = undefined;\n",
       "    this.message = undefined;\n",
       "    this.canvas = undefined;\n",
       "    this.rubberband_canvas = undefined;\n",
       "    this.rubberband_context = undefined;\n",
       "    this.format_dropdown = undefined;\n",
       "\n",
       "    this.image_mode = 'full';\n",
       "\n",
       "    this.root = $('<div/>');\n",
       "    this._root_extra_style(this.root)\n",
       "    this.root.attr('style', 'display: inline-block');\n",
       "\n",
       "    $(parent_element).append(this.root);\n",
       "\n",
       "    this._init_header(this);\n",
       "    this._init_canvas(this);\n",
       "    this._init_toolbar(this);\n",
       "\n",
       "    var fig = this;\n",
       "\n",
       "    this.waiting = false;\n",
       "\n",
       "    this.ws.onopen =  function () {\n",
       "            fig.send_message(\"supports_binary\", {value: fig.supports_binary});\n",
       "            fig.send_message(\"send_image_mode\", {});\n",
       "            fig.send_message(\"refresh\", {});\n",
       "        }\n",
       "\n",
       "    this.imageObj.onload = function() {\n",
       "            if (fig.image_mode == 'full') {\n",
       "                // Full images could contain transparency (where diff images\n",
       "                // almost always do), so we need to clear the canvas so that\n",
       "                // there is no ghosting.\n",
       "                fig.context.clearRect(0, 0, fig.canvas.width, fig.canvas.height);\n",
       "            }\n",
       "            fig.context.drawImage(fig.imageObj, 0, 0);\n",
       "        };\n",
       "\n",
       "    this.imageObj.onunload = function() {\n",
       "        this.ws.close();\n",
       "    }\n",
       "\n",
       "    this.ws.onmessage = this._make_on_message_function(this);\n",
       "\n",
       "    this.ondownload = ondownload;\n",
       "}\n",
       "\n",
       "mpl.figure.prototype._init_header = function() {\n",
       "    var titlebar = $(\n",
       "        '<div class=\"ui-dialog-titlebar ui-widget-header ui-corner-all ' +\n",
       "        'ui-helper-clearfix\"/>');\n",
       "    var titletext = $(\n",
       "        '<div class=\"ui-dialog-title\" style=\"width: 100%; ' +\n",
       "        'text-align: center; padding: 3px;\"/>');\n",
       "    titlebar.append(titletext)\n",
       "    this.root.append(titlebar);\n",
       "    this.header = titletext[0];\n",
       "}\n",
       "\n",
       "\n",
       "\n",
       "mpl.figure.prototype._canvas_extra_style = function(canvas_div) {\n",
       "\n",
       "}\n",
       "\n",
       "\n",
       "mpl.figure.prototype._root_extra_style = function(canvas_div) {\n",
       "\n",
       "}\n",
       "\n",
       "mpl.figure.prototype._init_canvas = function() {\n",
       "    var fig = this;\n",
       "\n",
       "    var canvas_div = $('<div/>');\n",
       "\n",
       "    canvas_div.attr('style', 'position: relative; clear: both; outline: 0');\n",
       "\n",
       "    function canvas_keyboard_event(event) {\n",
       "        return fig.key_event(event, event['data']);\n",
       "    }\n",
       "\n",
       "    canvas_div.keydown('key_press', canvas_keyboard_event);\n",
       "    canvas_div.keyup('key_release', canvas_keyboard_event);\n",
       "    this.canvas_div = canvas_div\n",
       "    this._canvas_extra_style(canvas_div)\n",
       "    this.root.append(canvas_div);\n",
       "\n",
       "    var canvas = $('<canvas/>');\n",
       "    canvas.addClass('mpl-canvas');\n",
       "    canvas.attr('style', \"left: 0; top: 0; z-index: 0; outline: 0\")\n",
       "\n",
       "    this.canvas = canvas[0];\n",
       "    this.context = canvas[0].getContext(\"2d\");\n",
       "\n",
       "    var rubberband = $('<canvas/>');\n",
       "    rubberband.attr('style', \"position: absolute; left: 0; top: 0; z-index: 1;\")\n",
       "\n",
       "    var pass_mouse_events = true;\n",
       "\n",
       "    canvas_div.resizable({\n",
       "        start: function(event, ui) {\n",
       "            pass_mouse_events = false;\n",
       "        },\n",
       "        resize: function(event, ui) {\n",
       "            fig.request_resize(ui.size.width, ui.size.height);\n",
       "        },\n",
       "        stop: function(event, ui) {\n",
       "            pass_mouse_events = true;\n",
       "            fig.request_resize(ui.size.width, ui.size.height);\n",
       "        },\n",
       "    });\n",
       "\n",
       "    function mouse_event_fn(event) {\n",
       "        if (pass_mouse_events)\n",
       "            return fig.mouse_event(event, event['data']);\n",
       "    }\n",
       "\n",
       "    rubberband.mousedown('button_press', mouse_event_fn);\n",
       "    rubberband.mouseup('button_release', mouse_event_fn);\n",
       "    // Throttle sequential mouse events to 1 every 20ms.\n",
       "    rubberband.mousemove('motion_notify', mouse_event_fn);\n",
       "\n",
       "    rubberband.mouseenter('figure_enter', mouse_event_fn);\n",
       "    rubberband.mouseleave('figure_leave', mouse_event_fn);\n",
       "\n",
       "    canvas_div.on(\"wheel\", function (event) {\n",
       "        event = event.originalEvent;\n",
       "        event['data'] = 'scroll'\n",
       "        if (event.deltaY < 0) {\n",
       "            event.step = 1;\n",
       "        } else {\n",
       "            event.step = -1;\n",
       "        }\n",
       "        mouse_event_fn(event);\n",
       "    });\n",
       "\n",
       "    canvas_div.append(canvas);\n",
       "    canvas_div.append(rubberband);\n",
       "\n",
       "    this.rubberband = rubberband;\n",
       "    this.rubberband_canvas = rubberband[0];\n",
       "    this.rubberband_context = rubberband[0].getContext(\"2d\");\n",
       "    this.rubberband_context.strokeStyle = \"#000000\";\n",
       "\n",
       "    this._resize_canvas = function(width, height) {\n",
       "        // Keep the size of the canvas, canvas container, and rubber band\n",
       "        // canvas in synch.\n",
       "        canvas_div.css('width', width)\n",
       "        canvas_div.css('height', height)\n",
       "\n",
       "        canvas.attr('width', width);\n",
       "        canvas.attr('height', height);\n",
       "\n",
       "        rubberband.attr('width', width);\n",
       "        rubberband.attr('height', height);\n",
       "    }\n",
       "\n",
       "    // Set the figure to an initial 600x600px, this will subsequently be updated\n",
       "    // upon first draw.\n",
       "    this._resize_canvas(600, 600);\n",
       "\n",
       "    // Disable right mouse context menu.\n",
       "    $(this.rubberband_canvas).bind(\"contextmenu\",function(e){\n",
       "        return false;\n",
       "    });\n",
       "\n",
       "    function set_focus () {\n",
       "        canvas.focus();\n",
       "        canvas_div.focus();\n",
       "    }\n",
       "\n",
       "    window.setTimeout(set_focus, 100);\n",
       "}\n",
       "\n",
       "mpl.figure.prototype._init_toolbar = function() {\n",
       "    var fig = this;\n",
       "\n",
       "    var nav_element = $('<div/>')\n",
       "    nav_element.attr('style', 'width: 100%');\n",
       "    this.root.append(nav_element);\n",
       "\n",
       "    // Define a callback function for later on.\n",
       "    function toolbar_event(event) {\n",
       "        return fig.toolbar_button_onclick(event['data']);\n",
       "    }\n",
       "    function toolbar_mouse_event(event) {\n",
       "        return fig.toolbar_button_onmouseover(event['data']);\n",
       "    }\n",
       "\n",
       "    for(var toolbar_ind in mpl.toolbar_items) {\n",
       "        var name = mpl.toolbar_items[toolbar_ind][0];\n",
       "        var tooltip = mpl.toolbar_items[toolbar_ind][1];\n",
       "        var image = mpl.toolbar_items[toolbar_ind][2];\n",
       "        var method_name = mpl.toolbar_items[toolbar_ind][3];\n",
       "\n",
       "        if (!name) {\n",
       "            // put a spacer in here.\n",
       "            continue;\n",
       "        }\n",
       "        var button = $('<button/>');\n",
       "        button.addClass('ui-button ui-widget ui-state-default ui-corner-all ' +\n",
       "                        'ui-button-icon-only');\n",
       "        button.attr('role', 'button');\n",
       "        button.attr('aria-disabled', 'false');\n",
       "        button.click(method_name, toolbar_event);\n",
       "        button.mouseover(tooltip, toolbar_mouse_event);\n",
       "\n",
       "        var icon_img = $('<span/>');\n",
       "        icon_img.addClass('ui-button-icon-primary ui-icon');\n",
       "        icon_img.addClass(image);\n",
       "        icon_img.addClass('ui-corner-all');\n",
       "\n",
       "        var tooltip_span = $('<span/>');\n",
       "        tooltip_span.addClass('ui-button-text');\n",
       "        tooltip_span.html(tooltip);\n",
       "\n",
       "        button.append(icon_img);\n",
       "        button.append(tooltip_span);\n",
       "\n",
       "        nav_element.append(button);\n",
       "    }\n",
       "\n",
       "    var fmt_picker_span = $('<span/>');\n",
       "\n",
       "    var fmt_picker = $('<select/>');\n",
       "    fmt_picker.addClass('mpl-toolbar-option ui-widget ui-widget-content');\n",
       "    fmt_picker_span.append(fmt_picker);\n",
       "    nav_element.append(fmt_picker_span);\n",
       "    this.format_dropdown = fmt_picker[0];\n",
       "\n",
       "    for (var ind in mpl.extensions) {\n",
       "        var fmt = mpl.extensions[ind];\n",
       "        var option = $(\n",
       "            '<option/>', {selected: fmt === mpl.default_extension}).html(fmt);\n",
       "        fmt_picker.append(option)\n",
       "    }\n",
       "\n",
       "    // Add hover states to the ui-buttons\n",
       "    $( \".ui-button\" ).hover(\n",
       "        function() { $(this).addClass(\"ui-state-hover\");},\n",
       "        function() { $(this).removeClass(\"ui-state-hover\");}\n",
       "    );\n",
       "\n",
       "    var status_bar = $('<span class=\"mpl-message\"/>');\n",
       "    nav_element.append(status_bar);\n",
       "    this.message = status_bar[0];\n",
       "}\n",
       "\n",
       "mpl.figure.prototype.request_resize = function(x_pixels, y_pixels) {\n",
       "    // Request matplotlib to resize the figure. Matplotlib will then trigger a resize in the client,\n",
       "    // which will in turn request a refresh of the image.\n",
       "    this.send_message('resize', {'width': x_pixels, 'height': y_pixels});\n",
       "}\n",
       "\n",
       "mpl.figure.prototype.send_message = function(type, properties) {\n",
       "    properties['type'] = type;\n",
       "    properties['figure_id'] = this.id;\n",
       "    this.ws.send(JSON.stringify(properties));\n",
       "}\n",
       "\n",
       "mpl.figure.prototype.send_draw_message = function() {\n",
       "    if (!this.waiting) {\n",
       "        this.waiting = true;\n",
       "        this.ws.send(JSON.stringify({type: \"draw\", figure_id: this.id}));\n",
       "    }\n",
       "}\n",
       "\n",
       "\n",
       "mpl.figure.prototype.handle_save = function(fig, msg) {\n",
       "    var format_dropdown = fig.format_dropdown;\n",
       "    var format = format_dropdown.options[format_dropdown.selectedIndex].value;\n",
       "    fig.ondownload(fig, format);\n",
       "}\n",
       "\n",
       "\n",
       "mpl.figure.prototype.handle_resize = function(fig, msg) {\n",
       "    var size = msg['size'];\n",
       "    if (size[0] != fig.canvas.width || size[1] != fig.canvas.height) {\n",
       "        fig._resize_canvas(size[0], size[1]);\n",
       "        fig.send_message(\"refresh\", {});\n",
       "    };\n",
       "}\n",
       "\n",
       "mpl.figure.prototype.handle_rubberband = function(fig, msg) {\n",
       "    var x0 = msg['x0'];\n",
       "    var y0 = fig.canvas.height - msg['y0'];\n",
       "    var x1 = msg['x1'];\n",
       "    var y1 = fig.canvas.height - msg['y1'];\n",
       "    x0 = Math.floor(x0) + 0.5;\n",
       "    y0 = Math.floor(y0) + 0.5;\n",
       "    x1 = Math.floor(x1) + 0.5;\n",
       "    y1 = Math.floor(y1) + 0.5;\n",
       "    var min_x = Math.min(x0, x1);\n",
       "    var min_y = Math.min(y0, y1);\n",
       "    var width = Math.abs(x1 - x0);\n",
       "    var height = Math.abs(y1 - y0);\n",
       "\n",
       "    fig.rubberband_context.clearRect(\n",
       "        0, 0, fig.canvas.width, fig.canvas.height);\n",
       "\n",
       "    fig.rubberband_context.strokeRect(min_x, min_y, width, height);\n",
       "}\n",
       "\n",
       "mpl.figure.prototype.handle_figure_label = function(fig, msg) {\n",
       "    // Updates the figure title.\n",
       "    fig.header.textContent = msg['label'];\n",
       "}\n",
       "\n",
       "mpl.figure.prototype.handle_cursor = function(fig, msg) {\n",
       "    var cursor = msg['cursor'];\n",
       "    switch(cursor)\n",
       "    {\n",
       "    case 0:\n",
       "        cursor = 'pointer';\n",
       "        break;\n",
       "    case 1:\n",
       "        cursor = 'default';\n",
       "        break;\n",
       "    case 2:\n",
       "        cursor = 'crosshair';\n",
       "        break;\n",
       "    case 3:\n",
       "        cursor = 'move';\n",
       "        break;\n",
       "    }\n",
       "    fig.rubberband_canvas.style.cursor = cursor;\n",
       "}\n",
       "\n",
       "mpl.figure.prototype.handle_message = function(fig, msg) {\n",
       "    fig.message.textContent = msg['message'];\n",
       "}\n",
       "\n",
       "mpl.figure.prototype.handle_draw = function(fig, msg) {\n",
       "    // Request the server to send over a new figure.\n",
       "    fig.send_draw_message();\n",
       "}\n",
       "\n",
       "mpl.figure.prototype.handle_image_mode = function(fig, msg) {\n",
       "    fig.image_mode = msg['mode'];\n",
       "}\n",
       "\n",
       "mpl.figure.prototype.updated_canvas_event = function() {\n",
       "    // Called whenever the canvas gets updated.\n",
       "    this.send_message(\"ack\", {});\n",
       "}\n",
       "\n",
       "// A function to construct a web socket function for onmessage handling.\n",
       "// Called in the figure constructor.\n",
       "mpl.figure.prototype._make_on_message_function = function(fig) {\n",
       "    return function socket_on_message(evt) {\n",
       "        if (evt.data instanceof Blob) {\n",
       "            /* FIXME: We get \"Resource interpreted as Image but\n",
       "             * transferred with MIME type text/plain:\" errors on\n",
       "             * Chrome.  But how to set the MIME type?  It doesn't seem\n",
       "             * to be part of the websocket stream */\n",
       "            evt.data.type = \"image/png\";\n",
       "\n",
       "            /* Free the memory for the previous frames */\n",
       "            if (fig.imageObj.src) {\n",
       "                (window.URL || window.webkitURL).revokeObjectURL(\n",
       "                    fig.imageObj.src);\n",
       "            }\n",
       "\n",
       "            fig.imageObj.src = (window.URL || window.webkitURL).createObjectURL(\n",
       "                evt.data);\n",
       "            fig.updated_canvas_event();\n",
       "            fig.waiting = false;\n",
       "            return;\n",
       "        }\n",
       "        else if (typeof evt.data === 'string' && evt.data.slice(0, 21) == \"data:image/png;base64\") {\n",
       "            fig.imageObj.src = evt.data;\n",
       "            fig.updated_canvas_event();\n",
       "            fig.waiting = false;\n",
       "            return;\n",
       "        }\n",
       "\n",
       "        var msg = JSON.parse(evt.data);\n",
       "        var msg_type = msg['type'];\n",
       "\n",
       "        // Call the  \"handle_{type}\" callback, which takes\n",
       "        // the figure and JSON message as its only arguments.\n",
       "        try {\n",
       "            var callback = fig[\"handle_\" + msg_type];\n",
       "        } catch (e) {\n",
       "            console.log(\"No handler for the '\" + msg_type + \"' message type: \", msg);\n",
       "            return;\n",
       "        }\n",
       "\n",
       "        if (callback) {\n",
       "            try {\n",
       "                // console.log(\"Handling '\" + msg_type + \"' message: \", msg);\n",
       "                callback(fig, msg);\n",
       "            } catch (e) {\n",
       "                console.log(\"Exception inside the 'handler_\" + msg_type + \"' callback:\", e, e.stack, msg);\n",
       "            }\n",
       "        }\n",
       "    };\n",
       "}\n",
       "\n",
       "// from http://stackoverflow.com/questions/1114465/getting-mouse-location-in-canvas\n",
       "mpl.findpos = function(e) {\n",
       "    //this section is from http://www.quirksmode.org/js/events_properties.html\n",
       "    var targ;\n",
       "    if (!e)\n",
       "        e = window.event;\n",
       "    if (e.target)\n",
       "        targ = e.target;\n",
       "    else if (e.srcElement)\n",
       "        targ = e.srcElement;\n",
       "    if (targ.nodeType == 3) // defeat Safari bug\n",
       "        targ = targ.parentNode;\n",
       "\n",
       "    // jQuery normalizes the pageX and pageY\n",
       "    // pageX,Y are the mouse positions relative to the document\n",
       "    // offset() returns the position of the element relative to the document\n",
       "    var x = e.pageX - $(targ).offset().left;\n",
       "    var y = e.pageY - $(targ).offset().top;\n",
       "\n",
       "    return {\"x\": x, \"y\": y};\n",
       "};\n",
       "\n",
       "/*\n",
       " * return a copy of an object with only non-object keys\n",
       " * we need this to avoid circular references\n",
       " * http://stackoverflow.com/a/24161582/3208463\n",
       " */\n",
       "function simpleKeys (original) {\n",
       "  return Object.keys(original).reduce(function (obj, key) {\n",
       "    if (typeof original[key] !== 'object')\n",
       "        obj[key] = original[key]\n",
       "    return obj;\n",
       "  }, {});\n",
       "}\n",
       "\n",
       "mpl.figure.prototype.mouse_event = function(event, name) {\n",
       "    var canvas_pos = mpl.findpos(event)\n",
       "\n",
       "    if (name === 'button_press')\n",
       "    {\n",
       "        this.canvas.focus();\n",
       "        this.canvas_div.focus();\n",
       "    }\n",
       "\n",
       "    var x = canvas_pos.x;\n",
       "    var y = canvas_pos.y;\n",
       "\n",
       "    this.send_message(name, {x: x, y: y, button: event.button,\n",
       "                             step: event.step,\n",
       "                             guiEvent: simpleKeys(event)});\n",
       "\n",
       "    /* This prevents the web browser from automatically changing to\n",
       "     * the text insertion cursor when the button is pressed.  We want\n",
       "     * to control all of the cursor setting manually through the\n",
       "     * 'cursor' event from matplotlib */\n",
       "    event.preventDefault();\n",
       "    return false;\n",
       "}\n",
       "\n",
       "mpl.figure.prototype._key_event_extra = function(event, name) {\n",
       "    // Handle any extra behaviour associated with a key event\n",
       "}\n",
       "\n",
       "mpl.figure.prototype.key_event = function(event, name) {\n",
       "\n",
       "    // Prevent repeat events\n",
       "    if (name == 'key_press')\n",
       "    {\n",
       "        if (event.which === this._key)\n",
       "            return;\n",
       "        else\n",
       "            this._key = event.which;\n",
       "    }\n",
       "    if (name == 'key_release')\n",
       "        this._key = null;\n",
       "\n",
       "    var value = '';\n",
       "    if (event.ctrlKey && event.which != 17)\n",
       "        value += \"ctrl+\";\n",
       "    if (event.altKey && event.which != 18)\n",
       "        value += \"alt+\";\n",
       "    if (event.shiftKey && event.which != 16)\n",
       "        value += \"shift+\";\n",
       "\n",
       "    value += 'k';\n",
       "    value += event.which.toString();\n",
       "\n",
       "    this._key_event_extra(event, name);\n",
       "\n",
       "    this.send_message(name, {key: value,\n",
       "                             guiEvent: simpleKeys(event)});\n",
       "    return false;\n",
       "}\n",
       "\n",
       "mpl.figure.prototype.toolbar_button_onclick = function(name) {\n",
       "    if (name == 'download') {\n",
       "        this.handle_save(this, null);\n",
       "    } else {\n",
       "        this.send_message(\"toolbar_button\", {name: name});\n",
       "    }\n",
       "};\n",
       "\n",
       "mpl.figure.prototype.toolbar_button_onmouseover = function(tooltip) {\n",
       "    this.message.textContent = tooltip;\n",
       "};\n",
       "mpl.toolbar_items = [[\"Home\", \"Reset original view\", \"fa fa-home icon-home\", \"home\"], [\"Back\", \"Back to  previous view\", \"fa fa-arrow-left icon-arrow-left\", \"back\"], [\"Forward\", \"Forward to next view\", \"fa fa-arrow-right icon-arrow-right\", \"forward\"], [\"\", \"\", \"\", \"\"], [\"Pan\", \"Pan axes with left mouse, zoom with right\", \"fa fa-arrows icon-move\", \"pan\"], [\"Zoom\", \"Zoom to rectangle\", \"fa fa-square-o icon-check-empty\", \"zoom\"], [\"\", \"\", \"\", \"\"], [\"Download\", \"Download plot\", \"fa fa-floppy-o icon-save\", \"download\"]];\n",
       "\n",
       "mpl.extensions = [\"eps\", \"jpeg\", \"pdf\", \"png\", \"ps\", \"raw\", \"svg\", \"tif\"];\n",
       "\n",
       "mpl.default_extension = \"png\";var comm_websocket_adapter = function(comm) {\n",
       "    // Create a \"websocket\"-like object which calls the given IPython comm\n",
       "    // object with the appropriate methods. Currently this is a non binary\n",
       "    // socket, so there is still some room for performance tuning.\n",
       "    var ws = {};\n",
       "\n",
       "    ws.close = function() {\n",
       "        comm.close()\n",
       "    };\n",
       "    ws.send = function(m) {\n",
       "        //console.log('sending', m);\n",
       "        comm.send(m);\n",
       "    };\n",
       "    // Register the callback with on_msg.\n",
       "    comm.on_msg(function(msg) {\n",
       "        //console.log('receiving', msg['content']['data'], msg);\n",
       "        // Pass the mpl event to the overriden (by mpl) onmessage function.\n",
       "        ws.onmessage(msg['content']['data'])\n",
       "    });\n",
       "    return ws;\n",
       "}\n",
       "\n",
       "mpl.mpl_figure_comm = function(comm, msg) {\n",
       "    // This is the function which gets called when the mpl process\n",
       "    // starts-up an IPython Comm through the \"matplotlib\" channel.\n",
       "\n",
       "    var id = msg.content.data.id;\n",
       "    // Get hold of the div created by the display call when the Comm\n",
       "    // socket was opened in Python.\n",
       "    var element = $(\"#\" + id);\n",
       "    var ws_proxy = comm_websocket_adapter(comm)\n",
       "\n",
       "    function ondownload(figure, format) {\n",
       "        window.open(figure.imageObj.src);\n",
       "    }\n",
       "\n",
       "    var fig = new mpl.figure(id, ws_proxy,\n",
       "                           ondownload,\n",
       "                           element.get(0));\n",
       "\n",
       "    // Call onopen now - mpl needs it, as it is assuming we've passed it a real\n",
       "    // web socket which is closed, not our websocket->open comm proxy.\n",
       "    ws_proxy.onopen();\n",
       "\n",
       "    fig.parent_element = element.get(0);\n",
       "    fig.cell_info = mpl.find_output_cell(\"<div id='\" + id + \"'></div>\");\n",
       "    if (!fig.cell_info) {\n",
       "        console.error(\"Failed to find cell for figure\", id, fig);\n",
       "        return;\n",
       "    }\n",
       "\n",
       "    var output_index = fig.cell_info[2]\n",
       "    var cell = fig.cell_info[0];\n",
       "\n",
       "};\n",
       "\n",
       "mpl.figure.prototype.handle_close = function(fig, msg) {\n",
       "    fig.root.unbind('remove')\n",
       "\n",
       "    // Update the output cell to use the data from the current canvas.\n",
       "    fig.push_to_output();\n",
       "    var dataURL = fig.canvas.toDataURL();\n",
       "    // Re-enable the keyboard manager in IPython - without this line, in FF,\n",
       "    // the notebook keyboard shortcuts fail.\n",
       "    IPython.keyboard_manager.enable()\n",
       "    $(fig.parent_element).html('<img src=\"' + dataURL + '\">');\n",
       "    fig.close_ws(fig, msg);\n",
       "}\n",
       "\n",
       "mpl.figure.prototype.close_ws = function(fig, msg){\n",
       "    fig.send_message('closing', msg);\n",
       "    // fig.ws.close()\n",
       "}\n",
       "\n",
       "mpl.figure.prototype.push_to_output = function(remove_interactive) {\n",
       "    // Turn the data on the canvas into data in the output cell.\n",
       "    var dataURL = this.canvas.toDataURL();\n",
       "    this.cell_info[1]['text/html'] = '<img src=\"' + dataURL + '\">';\n",
       "}\n",
       "\n",
       "mpl.figure.prototype.updated_canvas_event = function() {\n",
       "    // Tell IPython that the notebook contents must change.\n",
       "    IPython.notebook.set_dirty(true);\n",
       "    this.send_message(\"ack\", {});\n",
       "    var fig = this;\n",
       "    // Wait a second, then push the new image to the DOM so\n",
       "    // that it is saved nicely (might be nice to debounce this).\n",
       "    setTimeout(function () { fig.push_to_output() }, 1000);\n",
       "}\n",
       "\n",
       "mpl.figure.prototype._init_toolbar = function() {\n",
       "    var fig = this;\n",
       "\n",
       "    var nav_element = $('<div/>')\n",
       "    nav_element.attr('style', 'width: 100%');\n",
       "    this.root.append(nav_element);\n",
       "\n",
       "    // Define a callback function for later on.\n",
       "    function toolbar_event(event) {\n",
       "        return fig.toolbar_button_onclick(event['data']);\n",
       "    }\n",
       "    function toolbar_mouse_event(event) {\n",
       "        return fig.toolbar_button_onmouseover(event['data']);\n",
       "    }\n",
       "\n",
       "    for(var toolbar_ind in mpl.toolbar_items){\n",
       "        var name = mpl.toolbar_items[toolbar_ind][0];\n",
       "        var tooltip = mpl.toolbar_items[toolbar_ind][1];\n",
       "        var image = mpl.toolbar_items[toolbar_ind][2];\n",
       "        var method_name = mpl.toolbar_items[toolbar_ind][3];\n",
       "\n",
       "        if (!name) { continue; };\n",
       "\n",
       "        var button = $('<button class=\"btn btn-default\" href=\"#\" title=\"' + name + '\"><i class=\"fa ' + image + ' fa-lg\"></i></button>');\n",
       "        button.click(method_name, toolbar_event);\n",
       "        button.mouseover(tooltip, toolbar_mouse_event);\n",
       "        nav_element.append(button);\n",
       "    }\n",
       "\n",
       "    // Add the status bar.\n",
       "    var status_bar = $('<span class=\"mpl-message\" style=\"text-align:right; float: right;\"/>');\n",
       "    nav_element.append(status_bar);\n",
       "    this.message = status_bar[0];\n",
       "\n",
       "    // Add the close button to the window.\n",
       "    var buttongrp = $('<div class=\"btn-group inline pull-right\"></div>');\n",
       "    var button = $('<button class=\"btn btn-mini btn-primary\" href=\"#\" title=\"Stop Interaction\"><i class=\"fa fa-power-off icon-remove icon-large\"></i></button>');\n",
       "    button.click(function (evt) { fig.handle_close(fig, {}); } );\n",
       "    button.mouseover('Stop Interaction', toolbar_mouse_event);\n",
       "    buttongrp.append(button);\n",
       "    var titlebar = this.root.find($('.ui-dialog-titlebar'));\n",
       "    titlebar.prepend(buttongrp);\n",
       "}\n",
       "\n",
       "mpl.figure.prototype._root_extra_style = function(el){\n",
       "    var fig = this\n",
       "    el.on(\"remove\", function(){\n",
       "\tfig.close_ws(fig, {});\n",
       "    });\n",
       "}\n",
       "\n",
       "mpl.figure.prototype._canvas_extra_style = function(el){\n",
       "    // this is important to make the div 'focusable\n",
       "    el.attr('tabindex', 0)\n",
       "    // reach out to IPython and tell the keyboard manager to turn it's self\n",
       "    // off when our div gets focus\n",
       "\n",
       "    // location in version 3\n",
       "    if (IPython.notebook.keyboard_manager) {\n",
       "        IPython.notebook.keyboard_manager.register_events(el);\n",
       "    }\n",
       "    else {\n",
       "        // location in version 2\n",
       "        IPython.keyboard_manager.register_events(el);\n",
       "    }\n",
       "\n",
       "}\n",
       "\n",
       "mpl.figure.prototype._key_event_extra = function(event, name) {\n",
       "    var manager = IPython.notebook.keyboard_manager;\n",
       "    if (!manager)\n",
       "        manager = IPython.keyboard_manager;\n",
       "\n",
       "    // Check for shift+enter\n",
       "    if (event.shiftKey && event.which == 13) {\n",
       "        this.canvas_div.blur();\n",
       "        event.shiftKey = false;\n",
       "        // Send a \"J\" for go to next cell\n",
       "        event.which = 74;\n",
       "        event.keyCode = 74;\n",
       "        manager.command_mode();\n",
       "        manager.handle_keydown(event);\n",
       "    }\n",
       "}\n",
       "\n",
       "mpl.figure.prototype.handle_save = function(fig, msg) {\n",
       "    fig.ondownload(fig, null);\n",
       "}\n",
       "\n",
       "\n",
       "mpl.find_output_cell = function(html_output) {\n",
       "    // Return the cell and output element which can be found *uniquely* in the notebook.\n",
       "    // Note - this is a bit hacky, but it is done because the \"notebook_saving.Notebook\"\n",
       "    // IPython event is triggered only after the cells have been serialised, which for\n",
       "    // our purposes (turning an active figure into a static one), is too late.\n",
       "    var cells = IPython.notebook.get_cells();\n",
       "    var ncells = cells.length;\n",
       "    for (var i=0; i<ncells; i++) {\n",
       "        var cell = cells[i];\n",
       "        if (cell.cell_type === 'code'){\n",
       "            for (var j=0; j<cell.output_area.outputs.length; j++) {\n",
       "                var data = cell.output_area.outputs[j];\n",
       "                if (data.data) {\n",
       "                    // IPython >= 3 moved mimebundle to data attribute of output\n",
       "                    data = data.data;\n",
       "                }\n",
       "                if (data['text/html'] == html_output) {\n",
       "                    return [cell, data, j];\n",
       "                }\n",
       "            }\n",
       "        }\n",
       "    }\n",
       "}\n",
       "\n",
       "// Register the function which deals with the matplotlib target/channel.\n",
       "// The kernel may be null if the page has been refreshed.\n",
       "if (IPython.notebook.kernel != null) {\n",
       "    IPython.notebook.kernel.comm_manager.register_target('matplotlib', mpl.mpl_figure_comm);\n",
       "}\n"
      ],
      "text/plain": [
       "<IPython.core.display.Javascript object>"
      ]
     },
     "metadata": {},
     "output_type": "display_data"
    },
    {
     "data": {
      "text/html": [
       "<img src=\"data:image/png;base64,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\">"
      ],
      "text/plain": [
       "<IPython.core.display.HTML object>"
      ]
     },
     "metadata": {},
     "output_type": "display_data"
    }
   ],
   "source": [
    "newT.plot()"
   ]
  },
  {
   "cell_type": "markdown",
   "metadata": {
    "collapsed": true
   },
   "source": [
    "Now, lets load a NMR dataset (in the Bruker format)"
   ]
  },
  {
   "cell_type": "code",
   "execution_count": 33,
   "metadata": {
    "run_control": {
     "frozen": false,
     "read_only": false
    }
   },
   "outputs": [
    {
     "ename": "TypeError",
     "evalue": "'NoneType' object is not callable",
     "output_type": "error",
     "traceback": [
      "\u001b[0;31m---------------------------------------------------------------------------\u001b[0m",
      "\u001b[0;31mTypeError\u001b[0m                                 Traceback (most recent call last)",
      "\u001b[0;32m<ipython-input-33-26153be41fe2>\u001b[0m in \u001b[0;36m<module>\u001b[0;34m()\u001b[0m\n\u001b[1;32m      7\u001b[0m \u001b[0;34m\u001b[0m\u001b[0m\n\u001b[1;32m      8\u001b[0m \u001b[0;31m# load the data\u001b[0m\u001b[0;34m\u001b[0m\u001b[0;34m\u001b[0m\u001b[0m\n\u001b[0;32m----> 9\u001b[0;31m \u001b[0mndd\u001b[0m\u001b[0;34m.\u001b[0m\u001b[0mread_bruker\u001b[0m\u001b[0;34m(\u001b[0m\u001b[0mpath\u001b[0m\u001b[0;34m,\u001b[0m \u001b[0mexpno\u001b[0m\u001b[0;34m=\u001b[0m\u001b[0;36m1\u001b[0m\u001b[0;34m,\u001b[0m \u001b[0mremove_digital_filter\u001b[0m\u001b[0;34m=\u001b[0m\u001b[0;32mTrue\u001b[0m\u001b[0;34m)\u001b[0m\u001b[0;34m\u001b[0m\u001b[0m\n\u001b[0m\u001b[1;32m     10\u001b[0m \u001b[0;34m\u001b[0m\u001b[0m\n\u001b[1;32m     11\u001b[0m \u001b[0;31m# view it...\u001b[0m\u001b[0;34m\u001b[0m\u001b[0;34m\u001b[0m\u001b[0m\n",
      "\u001b[0;31mTypeError\u001b[0m: 'NoneType' object is not callable"
     ]
    }
   ],
   "source": [
    "import os\n",
    "\n",
    "path = os.path.join('..','tests','testdata', 'bruker', 'tests', 'nmr','bruker_1d')\n",
    "\n",
    "# create an empty dataset \n",
    "ndd = NDDataset()\n",
    "\n",
    "# load the data\n",
    "ndd.read_bruker(path, expno=1, remove_digital_filter=True)\n",
    "\n",
    "# view it...\n",
    "fig1 = ndd.view() \n",
    "fig1"
   ]
  },
  {
   "cell_type": "code",
   "execution_count": null,
   "metadata": {
    "run_control": {
     "frozen": false,
     "read_only": false
    }
   },
   "outputs": [],
   "source": [
    "path = os.path.join('..','tests','testdata', 'bruker', 'tests', 'nmr','bruker_2d')\n",
    "\n",
    "# create an empty dataset \n",
    "ndd2 = NDDataset()\n",
    "\n",
    "# load the data\n",
    "ndd2.read_bruker(path, expno=1, remove_digital_filter=True)\n",
    "\n",
    "# view it...\n",
    "ndd2.x.to('ms')\n",
    "ndd2.y.to('ms')\n",
    "fig2 = ndd2.view() \n",
    "fig2"
   ]
  },
  {
   "cell_type": "markdown",
   "metadata": {},
   "source": [
    "To display a list of the currently **available services**, we just need to type"
   ]
  },
  {
   "cell_type": "code",
   "execution_count": null,
   "metadata": {
    "run_control": {
     "frozen": false,
     "read_only": false
    }
   },
   "outputs": [],
   "source": [
    "available_services"
   ]
  },
  {
   "cell_type": "markdown",
   "metadata": {},
   "source": [
    "### Using the API: a first example"
   ]
  },
  {
   "cell_type": "markdown",
   "metadata": {},
   "source": [
    "If you are interested by **NMR**, it might be useful to have information about NMR isotopes, *e.g.*, to include this in some further calculations.\n",
    "\n",
    "Let's get information about the $^{27}$Al nucleus. \n",
    "\n",
    "We use the **Isotopes** class:"
   ]
  },
  {
   "cell_type": "code",
   "execution_count": null,
   "metadata": {
    "run_control": {
     "frozen": false,
     "read_only": false
    }
   },
   "outputs": [],
   "source": [
    "al = Isotopes('27Al')\n",
    "al"
   ]
  },
  {
   "cell_type": "code",
   "execution_count": null,
   "metadata": {
    "run_control": {
     "frozen": false,
     "read_only": false
    }
   },
   "outputs": [],
   "source": [
    "print(al.symbol, al.spin)"
   ]
  },
  {
   "cell_type": "code",
   "execution_count": null,
   "metadata": {
    "run_control": {
     "frozen": false,
     "read_only": false
    }
   },
   "outputs": [],
   "source": [
    "quadrupolar_moment = al.Q.to('m^2') \n",
    "quadrupolar_moment"
   ]
  },
  {
   "cell_type": "code",
   "execution_count": null,
   "metadata": {
    "run_control": {
     "frozen": false,
     "read_only": false
    }
   },
   "outputs": [],
   "source": [
    "gyromagnetic_ratio = al.gamma\n",
    "gyromagnetic_ratio"
   ]
  },
  {
   "cell_type": "markdown",
   "metadata": {},
   "source": [
    "It is then obvious how to get the Larmor frequency of aluminium:"
   ]
  },
  {
   "cell_type": "code",
   "execution_count": null,
   "metadata": {
    "run_control": {
     "frozen": false,
     "read_only": false
    }
   },
   "outputs": [],
   "source": [
    "Bo = quantity('9.4 tesla')\n",
    "print(\"{:~.2f} at {:~.2f}\".format(al.gamma * Bo, Bo))"
   ]
  },
  {
   "cell_type": "code",
   "execution_count": null,
   "metadata": {
    "run_control": {
     "frozen": false,
     "read_only": false
    }
   },
   "outputs": [],
   "source": [
    "np.sin(1)"
   ]
  },
  {
   "cell_type": "markdown",
   "metadata": {},
   "source": [
    "# The dataset object"
   ]
  },
  {
   "cell_type": "code",
   "execution_count": null,
   "metadata": {
    "run_control": {
     "frozen": false,
     "read_only": false
    }
   },
   "outputs": [],
   "source": [
    "print(da)"
   ]
  },
  {
   "cell_type": "code",
   "execution_count": null,
   "metadata": {
    "collapsed": true,
    "run_control": {
     "frozen": false,
     "read_only": false
    }
   },
   "outputs": [],
   "source": []
  },
  {
   "cell_type": "code",
   "execution_count": null,
   "metadata": {
    "run_control": {
     "frozen": false,
     "read_only": false
    }
   },
   "outputs": [],
   "source": [
    "da"
   ]
  },
  {
   "cell_type": "code",
   "execution_count": null,
   "metadata": {
    "run_control": {
     "frozen": false,
     "read_only": false
    }
   },
   "outputs": [],
   "source": [
    "al.gamma"
   ]
  },
  {
   "cell_type": "code",
   "execution_count": null,
   "metadata": {
    "collapsed": true,
    "run_control": {
     "frozen": false,
     "read_only": false
    }
   },
   "outputs": [],
   "source": [
    "from pint import UnitRegistry\n",
    "ur = UnitRegistry()"
   ]
  },
  {
   "cell_type": "code",
   "execution_count": null,
   "metadata": {
    "run_control": {
     "frozen": false,
     "read_only": false
    }
   },
   "outputs": [],
   "source": [
    "(1 * ur.rps)"
   ]
  },
  {
   "cell_type": "code",
   "execution_count": null,
   "metadata": {
    "run_control": {
     "frozen": false,
     "read_only": false
    }
   },
   "outputs": [],
   "source": [
    "1 * ur.rad"
   ]
  },
  {
   "cell_type": "code",
   "execution_count": null,
   "metadata": {
    "run_control": {
     "frozen": false,
     "read_only": false
    }
   },
   "outputs": [],
   "source": [
    "print(da[4000.])"
   ]
  },
  {
   "cell_type": "code",
   "execution_count": null,
   "metadata": {
    "run_control": {
     "frozen": false,
     "read_only": false
    }
   },
   "outputs": [],
   "source": [
    "da[4000]"
   ]
  },
  {
   "cell_type": "code",
   "execution_count": null,
   "metadata": {
    "run_control": {
     "frozen": false,
     "read_only": false
    }
   },
   "outputs": [],
   "source": [
    "darange =da[4000., :,  'normal':'hot']\n",
    "print(darange)"
   ]
  },
  {
   "cell_type": "code",
   "execution_count": null,
   "metadata": {
    "run_control": {
     "frozen": false,
     "read_only": false
    }
   },
   "outputs": [],
   "source": [
    "print(da[0,1,2])"
   ]
  },
  {
   "cell_type": "code",
   "execution_count": null,
   "metadata": {
    "run_control": {
     "frozen": false,
     "read_only": false
    }
   },
   "outputs": [],
   "source": [
    "from spectrochempy.api import NDDataset\n",
    "ndd = NDDataset([1., 2., 3.])\n",
    "print(ndd)"
   ]
  },
  {
   "cell_type": "code",
   "execution_count": null,
   "metadata": {
    "run_control": {
     "frozen": false,
     "read_only": false
    }
   },
   "outputs": [],
   "source": [
    "print(np.sqrt(ndd))"
   ]
  },
  {
   "cell_type": "code",
   "execution_count": null,
   "metadata": {
    "run_control": {
     "frozen": false,
     "read_only": false
    }
   },
   "outputs": [],
   "source": [
    "dx = [0, 1, 2, 3]   # a simple list\n",
    "da = NDDataset(dx)\n",
    "da.title = 'intensity'\n",
    "da.description = 'Some experimental measurements'\n",
    "print(da)"
   ]
  },
  {
   "cell_type": "code",
   "execution_count": null,
   "metadata": {
    "run_control": {
     "frozen": false,
     "read_only": false
    }
   },
   "outputs": [],
   "source": [
    "da.title = 'intensity '\n",
    "da.description = 'Some experimental measurements'\n",
    "print(da)"
   ]
  },
  {
   "cell_type": "code",
   "execution_count": null,
   "metadata": {
    "run_control": {
     "frozen": false,
     "read_only": false
    }
   },
   "outputs": [],
   "source": [
    "da.title = 'intensity '\n",
    "da.description = 'Some experimental measurements'\n",
    "da.units = 'dimensionless'\n",
    "print(da)"
   ]
  },
  {
   "cell_type": "code",
   "execution_count": null,
   "metadata": {
    "run_control": {
     "frozen": false,
     "read_only": false
    }
   },
   "outputs": [],
   "source": [
    "print(da)"
   ]
  },
  {
   "cell_type": "code",
   "execution_count": null,
   "metadata": {
    "run_control": {
     "frozen": false,
     "read_only": false
    }
   },
   "outputs": [],
   "source": [
    "db = NDDataset(da, units='mol/g', title='concentration')\n",
    "print(db)"
   ]
  },
  {
   "cell_type": "code",
   "execution_count": null,
   "metadata": {
    "run_control": {
     "frozen": false,
     "read_only": false
    }
   },
   "outputs": [],
   "source": [
    "nd = NDDataset([  [1.+2.j, 2.+0j], [1.3+2.j, 2.+0.5j],\n",
    "                  [1.+4.2j, 2.+3j], [5.+4.2j, 2.+3j ] ])\n",
    "assert nd.data.size == 16\n",
    "assert nd.size == 8\n",
    "assert nd.data.shape == (4, 4)\n",
    "assert nd.shape == (4, 2)\n",
    "\n",
    "nd._is_complex[0] = True"
   ]
  },
  {
   "cell_type": "code",
   "execution_count": null,
   "metadata": {
    "run_control": {
     "frozen": false,
     "read_only": false
    }
   },
   "outputs": [],
   "source": [
    "print(nd)"
   ]
  },
  {
   "cell_type": "code",
   "execution_count": null,
   "metadata": {
    "run_control": {
     "frozen": false,
     "read_only": false
    }
   },
   "outputs": [],
   "source": [
    "print(nd.real(axis=1))"
   ]
  },
  {
   "cell_type": "code",
   "execution_count": null,
   "metadata": {
    "run_control": {
     "frozen": false,
     "read_only": false
    }
   },
   "outputs": [],
   "source": [
    "nd"
   ]
  },
  {
   "cell_type": "code",
   "execution_count": null,
   "metadata": {
    "run_control": {
     "frozen": false,
     "read_only": false
    }
   },
   "outputs": [],
   "source": [
    "nd.real(0)"
   ]
  },
  {
   "cell_type": "code",
   "execution_count": null,
   "metadata": {
    "run_control": {
     "frozen": false,
     "read_only": false
    }
   },
   "outputs": [],
   "source": [
    "nd.imag(0)"
   ]
  },
  {
   "cell_type": "code",
   "execution_count": null,
   "metadata": {
    "run_control": {
     "frozen": false,
     "read_only": false
    }
   },
   "outputs": [],
   "source": [
    "nd"
   ]
  },
  {
   "cell_type": "code",
   "execution_count": null,
   "metadata": {
    "run_control": {
     "frozen": false,
     "read_only": false
    }
   },
   "outputs": [],
   "source": [
    "nd.T"
   ]
  },
  {
   "cell_type": "code",
   "execution_count": null,
   "metadata": {
    "run_control": {
     "frozen": false,
     "read_only": false
    }
   },
   "outputs": [],
   "source": [
    "nd.transpose(1,0)"
   ]
  },
  {
   "cell_type": "code",
   "execution_count": null,
   "metadata": {
    "run_control": {
     "frozen": false,
     "read_only": false
    }
   },
   "outputs": [],
   "source": [
    "nd = NDDataset()\n",
    "nd._data = np.random.random((10, 10))\n",
    "nd.set_complex(axis=-1)    # this means that the data are complex in\n",
    "nd.shape"
   ]
  },
  {
   "cell_type": "code",
   "execution_count": null,
   "metadata": {
    "run_control": {
     "frozen": false,
     "read_only": false
    }
   },
   "outputs": [],
   "source": [
    "nd.shape"
   ]
  },
  {
   "cell_type": "code",
   "execution_count": null,
   "metadata": {
    "collapsed": true,
    "run_control": {
     "frozen": false,
     "read_only": false
    }
   },
   "outputs": [],
   "source": []
  },
  {
   "cell_type": "code",
   "execution_count": null,
   "metadata": {
    "collapsed": true,
    "run_control": {
     "frozen": false,
     "read_only": false
    }
   },
   "outputs": [],
   "source": []
  },
  {
   "cell_type": "code",
   "execution_count": null,
   "metadata": {
    "collapsed": true,
    "run_control": {
     "frozen": false,
     "read_only": false
    }
   },
   "outputs": [],
   "source": []
  },
  {
   "cell_type": "code",
   "execution_count": null,
   "metadata": {
    "run_control": {
     "frozen": false,
     "read_only": false
    }
   },
   "outputs": [],
   "source": [
    "dx = np.random.random((10, 100, 3))\n",
    "\n",
    "axe0 = Axis(coords = np.linspace(4000., 1000., 10),\n",
    "            labels = 'a b c d e f g h i j'.split(),\n",
    "            mask = None,\n",
    "            units = \"cm^-1\",\n",
    "            title = 'wavelength')\n",
    "\n",
    "axe1 = Axis(coords = np.linspace(0., 60., 100),\n",
    "            labels = None,\n",
    "            mask = None,\n",
    "            units = \"s\",\n",
    "            title = 'time-on-stream')\n",
    "\n",
    "axe2 = Axis(coords = np.linspace(200., 300., 3),\n",
    "            labels = ['cold', 'normal', 'hot'],\n",
    "            mask = None,\n",
    "            units = \"K\",\n",
    "            title = 'temperature')\n",
    "\n",
    "da = NDDataset(dx,\n",
    "                   axes = [axe0, axe1, axe2],\n",
    "                   title='absorbance',\n",
    "                   units='dimensionless'\n",
    "                   )\n",
    "print(da)"
   ]
  },
  {
   "cell_type": "code",
   "execution_count": null,
   "metadata": {
    "run_control": {
     "frozen": false,
     "read_only": false
    },
    "scrolled": false
   },
   "outputs": [],
   "source": [
    "da.set_complex(axis=1)\n",
    "da.set_complex(axis=0)\n",
    "print(da)"
   ]
  },
  {
   "cell_type": "code",
   "execution_count": null,
   "metadata": {
    "run_control": {
     "frozen": false,
     "read_only": false
    }
   },
   "outputs": [],
   "source": [
    "db = da.swapaxes(2, 0)\n",
    "print(db)"
   ]
  },
  {
   "cell_type": "code",
   "execution_count": null,
   "metadata": {
    "run_control": {
     "frozen": false,
     "read_only": false
    }
   },
   "outputs": [],
   "source": [
    "print(db.axes)"
   ]
  },
  {
   "cell_type": "code",
   "execution_count": null,
   "metadata": {
    "run_control": {
     "frozen": false,
     "read_only": false
    }
   },
   "outputs": [],
   "source": [
    "print(db.T)"
   ]
  },
  {
   "cell_type": "code",
   "execution_count": null,
   "metadata": {
    "run_control": {
     "frozen": false,
     "read_only": false
    }
   },
   "outputs": [],
   "source": [
    "db.axes"
   ]
  },
  {
   "cell_type": "code",
   "execution_count": null,
   "metadata": {
    "run_control": {
     "frozen": false,
     "read_only": false
    }
   },
   "outputs": [],
   "source": [
    "db.axes._axes.reverse()\n",
    "db.axes._axes"
   ]
  },
  {
   "cell_type": "code",
   "execution_count": null,
   "metadata": {
    "run_control": {
     "frozen": false,
     "read_only": false
    }
   },
   "outputs": [],
   "source": [
    "Application"
   ]
  },
  {
   "cell_type": "code",
   "execution_count": null,
   "metadata": {
    "run_control": {
     "frozen": false,
     "read_only": false
    }
   },
   "outputs": [],
   "source": [
    "quantity('10. cm')"
   ]
  },
  {
   "cell_type": "code",
   "execution_count": null,
   "metadata": {
    "run_control": {
     "frozen": false,
     "read_only": false
    }
   },
   "outputs": [],
   "source": []
  },
  {
   "cell_type": "code",
   "execution_count": null,
   "metadata": {
    "run_control": {
     "frozen": false,
     "read_only": false
    }
   },
   "outputs": [],
   "source": [
    "10. * units.cm"
   ]
  },
  {
   "cell_type": "code",
   "execution_count": null,
   "metadata": {
    "run_control": {
     "frozen": false,
     "read_only": false
    }
   },
   "outputs": [],
   "source": [
    "measurement(10,1,'km')"
   ]
  },
  {
   "cell_type": "code",
   "execution_count": null,
   "metadata": {
    "run_control": {
     "frozen": false,
     "read_only": false
    }
   },
   "outputs": [],
   "source": [
    "%precision 2"
   ]
  },
  {
   "cell_type": "code",
   "execution_count": null,
   "metadata": {
    "run_control": {
     "frozen": false,
     "read_only": false
    }
   },
   "outputs": [],
   "source": [
    "quantity(\"900 km / (8 hours)\")"
   ]
  },
  {
   "cell_type": "code",
   "execution_count": null,
   "metadata": {
    "run_control": {
     "frozen": false,
     "read_only": false
    }
   },
   "outputs": [],
   "source": [
    "a = np.arange(20)\n",
    "a[slice(2, 3, None)].squeeze(), a[2]"
   ]
  },
  {
   "cell_type": "code",
   "execution_count": null,
   "metadata": {
    "run_control": {
     "frozen": false,
     "read_only": false
    }
   },
   "outputs": [],
   "source": [
    "a"
   ]
  },
  {
   "cell_type": "code",
   "execution_count": null,
   "metadata": {
    "run_control": {
     "frozen": false,
     "read_only": false
    }
   },
   "outputs": [],
   "source": [
    "a < a*2"
   ]
  },
  {
   "cell_type": "code",
   "execution_count": null,
   "metadata": {
    "run_control": {
     "frozen": false,
     "read_only": false
    }
   },
   "outputs": [],
   "source": [
    "from IPython.display import display, Latex\n",
    "Latex(r\"${:Lx}$\".format(quantity(1. , ur.us)))"
   ]
  },
  {
   "cell_type": "code",
   "execution_count": null,
   "metadata": {
    "collapsed": true,
    "run_control": {
     "frozen": false,
     "read_only": false
    }
   },
   "outputs": [],
   "source": []
  },
  {
   "cell_type": "code",
   "execution_count": null,
   "metadata": {
    "run_control": {
     "frozen": false,
     "read_only": false
    }
   },
   "outputs": [],
   "source": [
    "from spectrochempy.api import *"
   ]
  },
  {
   "cell_type": "code",
   "execution_count": null,
   "metadata": {
    "run_control": {
     "frozen": false,
     "read_only": false
    }
   },
   "outputs": [],
   "source": [
    "path = \"/Users/christian/Dropbox/PycharmProjects/spectrochempy/tests/testdata/bruker/tests/nmr/bruker_1d\"\n",
    "ndd = NDDataset()\n",
    "ndd.read_bruker(path, expno=1, remove_digital_filter=False)\n",
    "\n",
    "fig1 = ndd.view(savefig='essai')\n",
    "fig2 = ndd.view()"
   ]
  },
  {
   "cell_type": "code",
   "execution_count": null,
   "metadata": {
    "run_control": {
     "frozen": false,
     "read_only": false
    }
   },
   "outputs": [],
   "source": [
    "ndd2 = ndd.copy()"
   ]
  },
  {
   "cell_type": "code",
   "execution_count": null,
   "metadata": {
    "run_control": {
     "frozen": false,
     "read_only": false
    }
   },
   "outputs": [],
   "source": [
    "ndd2.view(fig=fig1, offset=.4)"
   ]
  },
  {
   "cell_type": "code",
   "execution_count": null,
   "metadata": {
    "run_control": {
     "frozen": false,
     "read_only": false
    }
   },
   "outputs": [],
   "source": [
    "fig = ndd2.view(savefig='essai')\n",
    "fig"
   ]
  },
  {
   "cell_type": "code",
   "execution_count": null,
   "metadata": {
    "run_control": {
     "frozen": false,
     "read_only": false
    }
   },
   "outputs": [],
   "source": [
    "ndd2.view(fig=2, offset=-.6,)\n",
    "plt.show()"
   ]
  },
  {
   "cell_type": "code",
   "execution_count": null,
   "metadata": {
    "run_control": {
     "frozen": false,
     "read_only": false
    }
   },
   "outputs": [],
   "source": [
    "import matplotlib as mpl\n",
    "print(mpl.rcParams)\n",
    "mpl.rcParams['axes.formatter.unicode_minus']"
   ]
  },
  {
   "cell_type": "code",
   "execution_count": null,
   "metadata": {
    "run_control": {
     "frozen": false,
     "read_only": false
    }
   },
   "outputs": [],
   "source": []
  },
  {
   "cell_type": "code",
   "execution_count": null,
   "metadata": {
    "run_control": {
     "frozen": false,
     "read_only": false
    }
   },
   "outputs": [],
   "source": [
    "axe0"
   ]
  },
  {
   "cell_type": "code",
   "execution_count": null,
   "metadata": {
    "run_control": {
     "frozen": false,
     "read_only": false
    }
   },
   "outputs": [],
   "source": [
    "x = np.linspace(0,100.,100)\n",
    "w = x[-1]-x[0]\n",
    "f = lambda x, off=x[0], end=x[-1], pow=1 : np.sin(np.pi*off/w + np.pi*(end - off)*x /w/(x.size-1))"
   ]
  },
  {
   "cell_type": "code",
   "execution_count": null,
   "metadata": {
    "run_control": {
     "frozen": false,
     "read_only": false
    }
   },
   "outputs": [],
   "source": [
    "w"
   ]
  },
  {
   "cell_type": "code",
   "execution_count": null,
   "metadata": {
    "run_control": {
     "frozen": false,
     "read_only": false
    }
   },
   "outputs": [],
   "source": [
    "plt.plot(x, f(x,50,100.))\n",
    "plt.show()"
   ]
  },
  {
   "cell_type": "code",
   "execution_count": null,
   "metadata": {
    "collapsed": true,
    "run_control": {
     "frozen": false,
     "read_only": false
    }
   },
   "outputs": [],
   "source": [
    "i = np.arange(100)\n",
    "size = len(i)\n",
    "g = lambda i, off=0, end=1, pow=1: np.sin( np.pi*off + np.pi*(end-off)*i/(size-1) )**pow"
   ]
  },
  {
   "cell_type": "code",
   "execution_count": null,
   "metadata": {
    "run_control": {
     "frozen": false,
     "read_only": false
    }
   },
   "outputs": [],
   "source": [
    "plt.plot(i,g(i, 0.5, 1))\n",
    "plt.show()"
   ]
  },
  {
   "cell_type": "code",
   "execution_count": 34,
   "metadata": {
    "run_control": {
     "frozen": false,
     "read_only": false
    }
   },
   "outputs": [
    {
     "data": {
      "text/plain": [
       "True"
      ]
     },
     "execution_count": 34,
     "metadata": {},
     "output_type": "execute_result"
    }
   ],
   "source": []
  },
  {
   "cell_type": "code",
   "execution_count": null,
   "metadata": {
    "collapsed": true
   },
   "outputs": [],
   "source": []
  }
 ],
 "metadata": {
  "kernelspec": {
   "display_name": "Python 3",
   "language": "python",
   "name": "python3"
  },
  "language_info": {
   "codemirror_mode": {
    "name": "ipython",
    "version": 3
   },
   "file_extension": ".py",
   "mimetype": "text/x-python",
   "name": "python",
   "nbconvert_exporter": "python",
   "pygments_lexer": "ipython3",
   "version": "3.5.3"
  },
  "toc": {
   "toc_cell": true,
   "toc_number_sections": false,
   "toc_threshold": 6,
   "toc_window_display": false
  }
 },
 "nbformat": 4,
 "nbformat_minor": 1
}
