{
 "cells": [
  {
   "cell_type": "markdown",
   "metadata": {
    "toc-hr-collapsed": false
   },
   "source": [
    "# Introduction to NMR processing"
   ]
  },
  {
   "cell_type": "code",
   "execution_count": null,
   "metadata": {},
   "outputs": [],
   "source": [
    "#Library Imports\n",
    "from spectrochempy import *\n",
    "# additional useful library\n",
    "import os"
   ]
  },
  {
   "cell_type": "markdown",
   "metadata": {},
   "source": [
    "## Import data\n",
    "\n",
    "Here we import two dataset, one is 1D and the other is 2D\n",
    "\n",
    "Because , we will sometimes need to recall the original dataset, we create to getting functions"
   ]
  },
  {
   "cell_type": "code",
   "execution_count": null,
   "metadata": {},
   "outputs": [],
   "source": [
    "# 1D dataset getting function \n",
    "datadir = general_preferences.datadir\n",
    "def get_dataset1D():\n",
    "    dataset1D = NDDataset()\n",
    "    path = os.path.join(datadir,'nmrdata','bruker', 'tests', 'nmr','bruker_1d')\n",
    "    dataset1D.read_bruker_nmr(path, expno=1, remove_digital_filter=True)\n",
    "    return dataset1D\n",
    "\n",
    "# 2D dataset getting function\n",
    "def get_dataset2D():\n",
    "    dataset2D = NDDataset()\n",
    "    path = os.path.join(datadir,'nmrdata','bruker', 'tests', 'nmr','bruker_2d')\n",
    "    dataset2D.read_bruker_nmr(path, expno=1, remove_digital_filter=True)\n",
    "    return dataset2D"
   ]
  },
  {
   "cell_type": "code",
   "execution_count": null,
   "metadata": {},
   "outputs": [],
   "source": [
    "# get the 1D dataset\n",
    "dataset1D = get_dataset1D()\n",
    "# display info\n",
    "dataset1D "
   ]
  },
  {
   "cell_type": "code",
   "execution_count": null,
   "metadata": {},
   "outputs": [],
   "source": [
    "# get the 2D dataset\n",
    "dataset2D = get_dataset2D()\n",
    "# display info\n",
    "dataset2D"
   ]
  },
  {
   "cell_type": "markdown",
   "metadata": {},
   "source": [
    "## Plot the 1D dataset raw data"
   ]
  },
  {
   "cell_type": "code",
   "execution_count": null,
   "metadata": {},
   "outputs": [],
   "source": [
    "# restore the original dataset (useful in case of mutiple execution of part of the code, \n",
    "# to avoid unexpected cumulative processing)\n",
    "dataset1D = get_dataset1D()\n",
    "\n",
    "# plot the real data\n",
    "dataset1D.plot(color='blue', xlim=(0,15000.)) \n",
    "\n",
    "# plot the imaginary data on the same plot\n",
    "# Note that we assign the results of this function to `_` in order to avoid output such as :\n",
    "# <matplotlib.axes._subplots.AxesSubplot at 0x1c1b2fbac8>\n",
    "_ = dataset1D.plot(imag=True, color='red', ls='--', ylim=(-600,600), \n",
    "                   data_only=True, clear=False)\n",
    "\n",
    "# Note the two additional flags:\n",
    "# ------------------------------\n",
    "# `clear=False`to plot on the previous plot (without this a new plot is created)\n",
    "# `data_only =True` to plot only the additional data, without updating the figure setting \n",
    "#  such as xlim and so on, except if they are specifically indicated."
   ]
  },
  {
   "cell_type": "markdown",
   "metadata": {},
   "source": [
    "To display the imaginary part, one can also simply use the show_complex commands."
   ]
  },
  {
   "cell_type": "code",
   "execution_count": null,
   "metadata": {},
   "outputs": [],
   "source": [
    "_ = dataset1D.plot(show_complex=True, color='green', xlim=(0.,25000.))"
   ]
  },
  {
   "cell_type": "markdown",
   "metadata": {},
   "source": [
    "## Plot the 2D dataset raw data"
   ]
  },
  {
   "cell_type": "code",
   "execution_count": null,
   "metadata": {},
   "outputs": [],
   "source": [
    "# restore the original dataset\n",
    "dataset2D = get_dataset2D()\n",
    "# plot the dataset as a contour map\n",
    "_ = dataset2D.plot_map(xlim=(0.,25000.))"
   ]
  },
  {
   "cell_type": "markdown",
   "metadata": {},
   "source": [
    "Multiple display are also possible for 2D dataset"
   ]
  },
  {
   "cell_type": "code",
   "execution_count": null,
   "metadata": {},
   "outputs": [],
   "source": [
    "dataset2D.plot_map(xlim=(0.,6000.), ylim=(0.,6000.))\n",
    "# here we plot the transposed dataset (dataset2D.T) on the same figure.\n",
    "_ = dataset2D.T.plot_map(cmap='magma', data_only=True, clear=False)"
   ]
  },
  {
   "cell_type": "markdown",
   "metadata": {},
   "source": [
    "## Apodization"
   ]
  },
  {
   "cell_type": "markdown",
   "metadata": {},
   "source": [
    "### Introduction to apodization processing"
   ]
  },
  {
   "cell_type": "markdown",
   "metadata": {},
   "source": [
    "In most situation, there is two syntaxes to perform operation on the dataset.\n",
    "\n",
    "For instance, to perform the apodization using an exponential multiplication:\n",
    "\n",
    "1. newdataset = dataset.em(lb=...)\n",
    "2. newdataset = em(dataset, lb=...)"
   ]
  },
  {
   "cell_type": "code",
   "execution_count": null,
   "metadata": {},
   "outputs": [],
   "source": [
    "# tke the original dataset\n",
    "dataset1D = get_dataset1D()\n",
    "\n",
    "# plot it\n",
    "dataset1D.plot() \n",
    "\n",
    "# Create the apodized dataset usint exponential multiplication (em)\n",
    "lb_dataset = dataset1D.em(lb=100.*ur.Hz)\n",
    "\n",
    "# plot the apodized dataset on the same figure\n",
    "lb_dataset.plot(xlim=(0,25000), zlim=(-100,100), color='r', clear=False)\n",
    "\n",
    "# add some text\n",
    "_ = lb_dataset.ax.text(12500,90,'Dual display (original & apodized fids)', \n",
    "                       ha='center', fontsize=10)"
   ]
  },
  {
   "cell_type": "markdown",
   "metadata": {},
   "source": [
    "Note that the apodized dataset actually replace the original data"
   ]
  },
  {
   "cell_type": "code",
   "execution_count": null,
   "metadata": {},
   "outputs": [],
   "source": [
    "# check that both dataset are the same (an error should be issued by the assert command if it is not the case)\n",
    "assert lb_dataset is dataset1D  # note here, that the original data are modified by default \n",
    "                                # when applying apodization function. "
   ]
  },
  {
   "cell_type": "markdown",
   "metadata": {},
   "source": [
    "We can use the `inplace` keyword to modify this behavior"
   ]
  },
  {
   "cell_type": "code",
   "execution_count": null,
   "metadata": {},
   "outputs": [],
   "source": [
    "dataset1D = get_dataset1D()\n",
    "lb_dataset = dataset1D.em(lb=100.*ur.Hz, inplace=False)\n",
    "assert not lb_dataset is dataset1D"
   ]
  },
  {
   "cell_type": "markdown",
   "metadata": {},
   "source": [
    "We can use of the second syntax."
   ]
  },
  {
   "cell_type": "code",
   "execution_count": null,
   "metadata": {},
   "outputs": [],
   "source": [
    "# restore original and plot it\n",
    "dataset1D = get_dataset1D() \n",
    "\n",
    "# Create the apodized dataset\n",
    "lb2_dataset = em(dataset1D, lb=100.*ur.Hz, inplace=False)\n",
    "\n",
    "# check that lb2_dataset and the previous lb_dataset are equal\n",
    "assert lb2_dataset == lb_dataset"
   ]
  },
  {
   "cell_type": "markdown",
   "metadata": {},
   "source": [
    "We can also get only the apodization function"
   ]
  },
  {
   "cell_type": "code",
   "execution_count": null,
   "metadata": {},
   "outputs": [],
   "source": [
    "dataset1D = get_dataset1D()\n",
    "\n",
    "# create the apodized dataset \n",
    "# when apply is False, the apodization function is not applied to the dataset, \n",
    "# but returned as a new dataset\n",
    "apodfunc = dataset1D.em(lb=100.*ur.Hz, apply=False, inplace=False)*200\n",
    "lb_dataset = dataset1D.em(lb=100.*ur.Hz, apply=True, inplace=False)\n",
    "\n",
    "# plot the 3 datasets on the same figure \n",
    "dataset1D.plot() \n",
    "apodfunc.plot(color='r', clear=False)\n",
    "lb_dataset.plot(data_only=True, xlim=(0,25000), zlim=(-200,200), color='g', clear=False) \n",
    "\n",
    "_ = dataset1D.ax.text(12500,180,'Multiple display (original & em apodized fids + apod.function)', ha='center', fontsize=10)"
   ]
  },
  {
   "cell_type": "markdown",
   "metadata": {},
   "source": [
    "### available apodization functions"
   ]
  },
  {
   "cell_type": "markdown",
   "metadata": {},
   "source": [
    "#### em"
   ]
  },
  {
   "cell_type": "code",
   "execution_count": null,
   "metadata": {},
   "outputs": [],
   "source": [
    "# restore original\n",
    "dataset1D = get_dataset1D()[:10000.0]  # take a selection\n",
    "\n",
    "# normalize amplitude\n",
    "dataset1D /= dataset1D.max()\n",
    "\n",
    "# apodize\n",
    "LB = 100.*ur.Hz\n",
    "apodfunc = dataset1D.em(lb=LB, apply=False)\n",
    "lb_dataset = dataset1D.em(lb=LB, inplace=False) #  apply=True by default\n",
    "\n",
    "# Plot\n",
    "dataset1D.plot(lw=1, color='gray') \n",
    "apodfunc.plot(color='r', clear=False)\n",
    "lb_dataset.plot(color='r', ls='--', clear=False) \n",
    "\n",
    "# shifted\n",
    "apodfuncshifted = dataset1D.em(lb=LB, shifted=3000, apply=False)\n",
    "apodfuncshifted.plot(color='b', clear=False)\n",
    "lbshifted_dataset = dataset1D.em(lb=LB, shifted=3000, inplace=False) #  apply=True by default\n",
    "lbshifted_dataset.plot(xlim=(0,10000), ylim=(-1,1), color='b', ls='--', clear=False) \n",
    "\n",
    "# rev\n",
    "apodfuncrev = dataset1D.em(lb=LB, rev=True, apply=False)\n",
    "apodfuncrev.plot(color='g', clear=False)\n",
    "lbrev_dataset = dataset1D.em(lb=LB, rev=True, inplace=False) #  apply=True by default\n",
    "lbrev_dataset.plot(ylim=(-1,1), color='g', ls='--', clear=False) \n",
    "\n",
    "# inv\n",
    "apodfuncinv = dataset1D.em(lb=LB, inv=True, apply=False)\n",
    "apodfuncinv.plot(color='m', clear=False)\n",
    "lbinv_dataset = dataset1D.em(lb=LB, inv=True, inplace=False) #  apply=True by default\n",
    "_ = lbinv_dataset.plot(ylim=(-1.5,1.5), color='m', ls='--', clear=False) "
   ]
  },
  {
   "cell_type": "markdown",
   "metadata": {},
   "source": [
    "#### gm"
   ]
  },
  {
   "cell_type": "code",
   "execution_count": null,
   "metadata": {},
   "outputs": [],
   "source": [
    "# restore original\n",
    "dataset1D = get_dataset1D() \n",
    "dataset1D /= dataset1D.max()\n",
    "\n",
    "# apodize\n",
    "LB = -100.*ur.Hz\n",
    "GB = 300.*ur.Hz\n",
    "apodfunc = dataset1D.gm(gb=GB, lb=LB, apply=False)\n",
    "gb_dataset = dataset1D.gm(gb=GB, lb=LB, inplace=False) #  apply=True by default\n",
    "\n",
    "# plot \n",
    "dataset1D.plot() \n",
    "apodfunc.plot(color='r', clear=False)\n",
    "_ = gb_dataset.plot(xlim=(0,25000), zlim=(-1.5,1.5), color='r', ls='--', clear=False) \n",
    "\n",
    "# shifted\n",
    "LB = 10.*ur.Hz\n",
    "GB = 300.*ur.Hz\n",
    "apodfuncsh = dataset1D.gm(gb=GB, lb=LB, shifted=2000, apply=False)\n",
    "gbsh_dataset = dataset1D.gm(gb=GB, lb=LB, shifted=2000, inplace=False) #  apply=True by default\n",
    "\n",
    "# plot \n",
    "apodfuncsh.plot(color='g', clear=False)\n",
    "_ = gbsh_dataset.plot(xlim=(0,25000), zlim=(-1.5,1.5), color='g', ls='--', clear=False) "
   ]
  },
  {
   "cell_type": "markdown",
   "metadata": {},
   "source": [
    "**TODO**: sp function"
   ]
  },
  {
   "cell_type": "code",
   "execution_count": null,
   "metadata": {},
   "outputs": [],
   "source": [
    "# Plot\n",
    "dataset1D = get_dataset1D() # restore original\n",
    "# normalize amplitude\n",
    "dataset1D /= dataset1D.data.max()\n",
    "\n",
    "dataset1D.plot() \n",
    "\n",
    "#apodfunc = dataset1D.sp(off=0, end=10., pow=1.2, apply=False)\n",
    "\n",
    "#apodfunc.plot(color='r', clear=False)"
   ]
  },
  {
   "cell_type": "markdown",
   "metadata": {},
   "source": [
    "### Apodization of 2D data"
   ]
  },
  {
   "cell_type": "code",
   "execution_count": null,
   "metadata": {},
   "outputs": [],
   "source": [
    "dataset2D = get_dataset2D()\n",
    "dataset2D.plot_map(xlim=(0.,25000.))\n",
    "\n",
    "LB = 200.*ur.Hz\n",
    "dataset2D.em(lb=LB)\n",
    "dataset2D.em(lb=LB/2, axis=0)  \n",
    "dataset2D.plot_map(data_only=True, cmap='copper', clear=False)"
   ]
  },
  {
   "cell_type": "markdown",
   "metadata": {},
   "source": [
    "## Time-frequency transforms : FFT"
   ]
  },
  {
   "cell_type": "code",
   "execution_count": null,
   "metadata": {},
   "outputs": [],
   "source": [
    "dataset1D = get_dataset1D() # restore original\n",
    "LB = 10.*ur.Hz\n",
    "dataset1D.em(lb=LB)\n",
    "#dataset1D.zf_auto(inplace=True)\n",
    "#transf1 = source1D.fft() # by defauut fft create a new dataset"
   ]
  },
  {
   "cell_type": "code",
   "execution_count": null,
   "metadata": {},
   "outputs": [],
   "source": [
    "dataset1D = get_dataset1D() # restore original\n",
    "LB = 10.*ur.Hz\n",
    "GB = 50.*ur.Hz\n",
    "dataset1D.gm(gb=GB, lb=LB)\n",
    "#dataset1D.zf_auto()\n",
    "#transf2 = dataset1D.fft()"
   ]
  },
  {
   "cell_type": "markdown",
   "metadata": {},
   "source": [
    "As the new dataset is transformed, function that apply to time data such as **em** should not work"
   ]
  },
  {
   "cell_type": "code",
   "execution_count": null,
   "metadata": {},
   "outputs": [],
   "source": [
    "#_ = transf1.em(lb=10*ur.Hz)"
   ]
  }
 ],
 "metadata": {
  "jupytext": {
   "text_representation": {
    "extension": ".py",
    "format_name": "percent",
    "format_version": "1.2",
    "jupytext_version": "0.8.6"
   }
  },
  "kernelspec": {
   "display_name": "Python 3",
   "language": "python",
   "name": "python3"
  },
  "language_info": {
   "codemirror_mode": {
    "name": "ipython",
    "version": 3
   },
   "file_extension": ".py",
   "mimetype": "text/x-python",
   "name": "python",
   "nbconvert_exporter": "python",
   "pygments_lexer": "ipython3",
   "version": "3.7.1"
  }
 },
 "nbformat": 4,
 "nbformat_minor": 2
}
