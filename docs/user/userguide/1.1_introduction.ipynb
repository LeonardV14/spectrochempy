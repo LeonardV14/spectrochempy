{
 "cells": [
  {
   "cell_type": "markdown",
   "metadata": {},
   "source": [
    "## 1.1. Getting Started\n",
    "\n",
    "<div class=\"alert alert-info\">\n",
    "\n",
    "**Note:** We assume the spectrochemistry package has been properly installed - if not please go to ``install``\n",
    "\n",
    "</div>"
   ]
  },
  {
   "cell_type": "markdown",
   "metadata": {},
   "source": [
    "Before using the package, we need to load the **API (Application Programming Interface)**\n",
    "\n",
    "The simplest way is to import all the objects and methods at once into your python namespace."
   ]
  },
  {
   "cell_type": "code",
   "execution_count": 1,
   "metadata": {},
   "outputs": [
    {
     "name": "stdout",
     "output_type": "stream",
     "text": [
      "SpectroChemPy's API - v.0.1a4.dev8+g9c633c75\n",
      "© Copyright 2014-2019 - A.Travert & C.Fernandez @ LCS\n"
     ]
    }
   ],
   "source": [
    "from spectrochempy import *"
   ]
  },
  {
   "cell_type": "markdown",
   "metadata": {},
   "source": [
    "but you can also import method only when it is needed.\n",
    "\n",
    "For instances, one object very usefull in the following will be a nd-dataset to contain some data. Instead of issuing the previous command, one can do:"
   ]
  },
  {
   "cell_type": "code",
   "execution_count": 2,
   "metadata": {},
   "outputs": [],
   "source": [
    "from spectrochempy import NDDataset\n",
    "mydataset = NDDataset()"
   ]
  },
  {
   "cell_type": "markdown",
   "metadata": {},
   "source": [
    "In the second line we have defined a new empty instance of **NDDataset**, wich will be further use to load our data."
   ]
  },
  {
   "cell_type": "markdown",
   "metadata": {},
   "source": [
    "Another way to proceed is to not mix the API namespace with your normal python. \n",
    "\n",
    "In this case, you can simply do:\n"
   ]
  },
  {
   "cell_type": "code",
   "execution_count": 3,
   "metadata": {},
   "outputs": [],
   "source": [
    "import spectrochempy as sc\n",
    "mydataset = sc.NDDataset()"
   ]
  },
  {
   "cell_type": "markdown",
   "metadata": {},
   "source": [
    "As such, the above command ``from spectrochempy import *``, lead to import of several objects and methods in the namespace.\n",
    "\n",
    "To get a list of all available methods or objects, type the following command (*remove the leading #, first*):"
   ]
  },
  {
   "cell_type": "code",
   "execution_count": 26,
   "metadata": {},
   "outputs": [],
   "source": [
    "# APIref"
   ]
  },
  {
   "cell_type": "markdown",
   "metadata": {},
   "source": [
    "If something goes wrong with during a cell execution,  a ``traceback`` is displayed.\n",
    "\n",
    "For instance, the object or method ``toto`` does not exist in the API, so an error (**ImportError**) is generated when trying to import this from the API. Here we catch the error with a try except structure"
   ]
  },
  {
   "cell_type": "code",
   "execution_count": 5,
   "metadata": {},
   "outputs": [
    {
     "name": "stderr",
     "output_type": "stream",
     "text": [
      "[SpectroChemPy] ERROR | OOPS, THAT'S AN IMPORT ERROR! : cannot import name 'toto' from 'spectrochempy' (/Users/spectrocat/Dropbox/spectrochempy/spectrochempy/__init__.py)\n"
     ]
    }
   ],
   "source": [
    "try:\n",
    "    from spectrochempy import toto\n",
    "except ImportError as e:\n",
    "    log.error(\"OOPS, THAT'S AN IMPORT ERROR! : %s\"%e)"
   ]
  },
  {
   "cell_type": "markdown",
   "metadata": {},
   "source": [
    "The error will stop the execution if not catched.\n",
    "\n",
    "This is a basic behavior of python : on way to avoid. stoppping the execution without displaying a message is :"
   ]
  },
  {
   "cell_type": "code",
   "execution_count": 6,
   "metadata": {},
   "outputs": [],
   "source": [
    "try:\n",
    "    from spectrochempy import toto\n",
    "except:\n",
    "    pass"
   ]
  },
  {
   "cell_type": "markdown",
   "metadata": {},
   "source": [
    "### 1.1.2. Configuration\n",
    "\n",
    "Many options of the API can be set up"
   ]
  },
  {
   "cell_type": "code",
   "execution_count": 7,
   "metadata": {},
   "outputs": [],
   "source": [
    "set_loglevel(INFO)"
   ]
  },
  {
   "cell_type": "markdown",
   "metadata": {},
   "source": [
    "In the above cell, we have set the **log** level to display ``info`` messages, such as this one:"
   ]
  },
  {
   "cell_type": "code",
   "execution_count": 8,
   "metadata": {},
   "outputs": [
    {
     "name": "stderr",
     "output_type": "stream",
     "text": [
      "this is an info message!\n"
     ]
    }
   ],
   "source": [
    "log.info('this is an info message!')\n",
    "log.debug('this is a debug message!')"
   ]
  },
  {
   "cell_type": "markdown",
   "metadata": {},
   "source": [
    "Only the info message is displayed, as expected.\n",
    "\n",
    "If we change it to ``DEBUG``, we should get the two messages"
   ]
  },
  {
   "cell_type": "code",
   "execution_count": 9,
   "metadata": {},
   "outputs": [
    {
     "name": "stderr",
     "output_type": "stream",
     "text": [
      "[application.py-_log_level_changed DEBUG] changed default log_level to DEBUG\n",
      "[<ipython-input-9-ef0a7a37be7a>-<module> INFO] this is an info message!\n",
      "[<ipython-input-9-ef0a7a37be7a>-<module> DEBUG] this is a debug message!\n"
     ]
    }
   ],
   "source": [
    "set_loglevel(DEBUG)\n",
    "\n",
    "log.info('this is an info message!')\n",
    "log.debug('this is a debug message!')"
   ]
  },
  {
   "cell_type": "markdown",
   "metadata": {},
   "source": [
    "Let's now come back to a standard level of message for the rest of the Tutorial."
   ]
  },
  {
   "cell_type": "code",
   "execution_count": 10,
   "metadata": {},
   "outputs": [
    {
     "name": "stderr",
     "output_type": "stream",
     "text": [
      "this is a warning message!\n"
     ]
    }
   ],
   "source": [
    "set_loglevel(WARNING)\n",
    "\n",
    "log.info('this is an info message!')\n",
    "log.debug('this is a debug message!')\n",
    "log.warning('this is a warning message!')"
   ]
  },
  {
   "cell_type": "markdown",
   "metadata": {},
   "source": [
    "## Access to scientific libraries"
   ]
  },
  {
   "cell_type": "markdown",
   "metadata": {},
   "source": [
    "Several libraries are imported with **SpectroChemPy** (so you don't need to re-import them):\n",
    "\n",
    "- **np** :  This is actually the **`numpy`** library, to perform numerical calculation on nD arrays. \n",
    "- **plt** : This is the **`matplotlib`** library, to allow plotting data \n",
    "\n",
    "Optionally, **scipy** and **sympy** can be available, if **SpectroChempy** can find these libraries installed on your system."
   ]
  },
  {
   "cell_type": "code",
   "execution_count": 11,
   "metadata": {
    "scrolled": false
   },
   "outputs": [
    {
     "data": {
      "application/vnd.jupyter.widget-view+json": {
       "model_id": "833bb682176a489190dad02733952548",
       "version_major": 2,
       "version_minor": 0
      },
      "text/plain": [
       "FigureCanvasNbAgg()"
      ]
     },
     "metadata": {},
     "output_type": "display_data"
    }
   ],
   "source": [
    "x = np.linspace(0, 2*np.pi, 100)\n",
    "y = np.sin(x)\n",
    "plt.figure(figsize=(5,2.5))\n",
    "p, = plt.plot(x,y)\n",
    "p.set_linewidth(2)\n",
    "p.set_color('red')\n",
    "plt.show()"
   ]
  },
  {
   "cell_type": "markdown",
   "metadata": {},
   "source": [
    "## Units, uncertainties and measurements"
   ]
  },
  {
   "cell_type": "markdown",
   "metadata": {},
   "source": [
    "The objets **ur**, **Quantity** and **Measurement**, allows the manipulation of data with units and uncertainties. (see tutorial-1-units-uncertainties)\n",
    "\n",
    "* **ur**: the unit registry\n",
    "* **Quantity**: a scalar or an array with some units\n",
    "* **Measurement**: a scalar with units and unertainty"
   ]
  },
  {
   "cell_type": "code",
   "execution_count": 12,
   "metadata": {},
   "outputs": [
    {
     "data": {
      "text/html": [
       "centimeter.second<sup>-1</sup>"
      ],
      "text/latex": [
       "$\\mathrm{cm} \\cdot \\mathrm{s}^{-1}$"
      ],
      "text/plain": [
       "<Unit('centimeter / second')>"
      ]
     },
     "execution_count": 12,
     "metadata": {},
     "output_type": "execute_result"
    }
   ],
   "source": [
    "ur.cm / ur.s"
   ]
  },
  {
   "cell_type": "code",
   "execution_count": 13,
   "metadata": {},
   "outputs": [
    {
     "data": {
      "text/html": [
       "20.0 km"
      ],
      "text/latex": [
       "$20.0\\ \\mathrm{km}$"
      ],
      "text/plain": [
       "<Quantity(20.0, 'kilometer')>"
      ]
     },
     "execution_count": 13,
     "metadata": {},
     "output_type": "execute_result"
    }
   ],
   "source": [
    "x = Quantity(10., 'km')\n",
    "x * 2."
   ]
  },
  {
   "cell_type": "code",
   "execution_count": 14,
   "metadata": {},
   "outputs": [
    {
     "data": {
      "text/html": [
       "5.0 km"
      ],
      "text/latex": [
       "$5.0\\ \\mathrm{km}$"
      ],
      "text/plain": [
       "<Quantity(5.0, 'kilometer')>"
      ]
     },
     "execution_count": 14,
     "metadata": {},
     "output_type": "execute_result"
    }
   ],
   "source": [
    "xa = Quantity(np.array((1,2)), 'km')\n",
    "xa[1] * 2.5"
   ]
  },
  {
   "cell_type": "code",
   "execution_count": 15,
   "metadata": {},
   "outputs": [
    {
     "data": {
      "text/html": [
       "10.00 &plusmn; 0.10 km"
      ],
      "text/latex": [
       "$\\left(10.00 \\pm 0.10\\right)\\ \\mathrm{km}$"
      ],
      "text/plain": [
       "<Measurement(10.00, 0.10, kilometer)>"
      ]
     },
     "execution_count": 15,
     "metadata": {},
     "output_type": "execute_result"
    }
   ],
   "source": [
    "y = Measurement(10, .1, 'km')\n",
    "y  "
   ]
  },
  {
   "cell_type": "code",
   "execution_count": 16,
   "metadata": {},
   "outputs": [
    {
     "data": {
      "text/html": [
       "10.000 &plusmn; 0.010 km"
      ],
      "text/latex": [
       "$\\left(10.000 \\pm 0.010\\right)\\ \\mathrm{km}$"
      ],
      "text/plain": [
       "<Measurement(10.00, 0.01, kilometer)>"
      ]
     },
     "execution_count": 16,
     "metadata": {},
     "output_type": "execute_result"
    }
   ],
   "source": [
    "z = x.plus_minus(.01)\n",
    "z"
   ]
  },
  {
   "cell_type": "markdown",
   "metadata": {},
   "source": [
    "**Warning**, this is not available for numpy.array based quantities !  For this we will use NDDataset described \n",
    "below"
   ]
  },
  {
   "cell_type": "code",
   "execution_count": 17,
   "metadata": {},
   "outputs": [
    {
     "name": "stderr",
     "output_type": "stream",
     "text": [
      "'numpy.ndarray' object has no attribute 'strip'\n"
     ]
    }
   ],
   "source": [
    "try:\n",
    "    za = xa.plus_minus(.01)\n",
    "except AttributeError as e:\n",
    "    log.error(e)"
   ]
  },
  {
   "cell_type": "markdown",
   "metadata": {},
   "source": [
    "More information are given in the section [4.1. units and uncertainties](4.1_units_and_uncertainties.ipynb)"
   ]
  },
  {
   "cell_type": "markdown",
   "metadata": {},
   "source": [
    "## NDDataset, the main object\n",
    "\n",
    "NDDataset is a python object, actually a container, which can represent most of your multidimensional spectroscopic data.\n",
    "\n",
    "For instance, in the following we read data from a series of FTIR experiments, provided  by the OMNIC software:"
   ]
  },
  {
   "cell_type": "code",
   "execution_count": 18,
   "metadata": {},
   "outputs": [],
   "source": [
    "nd = NDDataset.read_omnic(os.path.join('irdata', 'NH4Y-activation.SPG'))"
   ]
  },
  {
   "cell_type": "markdown",
   "metadata": {},
   "source": [
    "Note that for this example, we use data stored in a ``test`` directory. For your own usage, you probably have to give the full pathname (see ... for the way to overcome this using `preferences` setting)"
   ]
  },
  {
   "cell_type": "markdown",
   "metadata": {},
   "source": [
    "### Display dataset information\n",
    "\n",
    "Several ways are available to display the data we have jsut read and that are now stored in the ``source`` dataset \n",
    "\n",
    "* **Printing** them, using the print function of python to get a text version of the `source` information"
   ]
  },
  {
   "cell_type": "code",
   "execution_count": 19,
   "metadata": {},
   "outputs": [
    {
     "name": "stdout",
     "output_type": "stream",
     "text": [
      "      name/id: NH4Y-activation.SPG\n",
      "       author: spectrocat@cf-macbookpro.local\n",
      "      created: 2019-01-08 20:08:39.691010\n",
      "last modified: 2019-01-08 20:08:39.691010\n",
      "  description: Dataset from spg file : NH4Y-activation.SPG\n",
      "               History of the 1st spectrum: vz0521.spa, Thu Jul 07 06:10:41 2016 (GMT+02:00)\n",
      "      history: 2019-01-08 20:08:39.685718:read from spg file\n",
      "               sorted\n",
      "   data title: Absorbance\n",
      "   data shape: 55 x 5549\n",
      "  data values:\n",
      "         [[   2.057    2.061 ...    2.013    2.012]\n",
      "          [   2.033    2.037 ...    1.913    1.911]\n",
      "          ...\n",
      "          [   1.794    1.791 ...    1.198    1.198]\n",
      "          [   1.816    1.815 ...    1.240    1.238]] a.u.\n",
      " y-coordinate:\n",
      "               title: Acquisition timestamp (gmt)\n",
      "                data: [1467831794.000 1467832394.000 ... 1467864197.000 1467864797.000] s\n",
      "              labels: [[2016-07-06 19:03:14+00:00 2016-07-06 19:13:14+00:00 ... 2016-07-07 04:03:17+00:00 2016-07-07 04:13:17+00:00]\n",
      "          [vz0466.spa, Wed Jul 06 21:00:38 2016 (GMT+02:00) vz0467.spa, Wed Jul 06 21:10:38 2016 (GMT+02:00) ...\n",
      "           vz0520.spa, Thu Jul 07 06:00:41 2016 (GMT+02:00) vz0521.spa, Thu Jul 07 06:10:41 2016 (GMT+02:00)]]\n",
      " x-coordinate:\n",
      "               title: Wavenumbers\n",
      "                data: [5999.556 5998.591 ...  650.868  649.904] cm^-1\n",
      "\n",
      "\n"
     ]
    }
   ],
   "source": [
    "print(nd)"
   ]
  },
  {
   "cell_type": "markdown",
   "metadata": {},
   "source": [
    "* **Displaying html**, inside a jupyter notebook, by just typing the name of the dataset (must be the last instruction of a cell, however!)"
   ]
  },
  {
   "cell_type": "code",
   "execution_count": 20,
   "metadata": {
    "scrolled": false
   },
   "outputs": [
    {
     "data": {
      "text/html": [
       "<table style='width:100%'>\n",
       "<tr style='border: 1px solid lightgray;'><td style='padding-right:5px; width:100px'><strong>Name/Id</strong></td><td style='text-align:left'>NH4Y-activation.SPG</td><tr>\n",
       "<tr style='border: 1px solid lightgray;'><td style='padding-right:5px; width:100px'><strong>Author</strong></td><td style='text-align:left'>spectrocat@cf-macbookpro.local</td><tr>\n",
       "<tr style='border: 1px solid lightgray;'><td style='padding-right:5px; width:100px'><strong>Created</strong></td><td style='text-align:left'>2019-01-08 20:08:39.691010</td><tr>\n",
       "<tr style='border: 1px solid lightgray;'><td style='padding-right:5px; width:100px'><strong>Last Modified</strong></td><td style='text-align:left'>2019-01-08 20:08:39.723252</td><tr>\n",
       "<tr style='border: 1px solid lightgray;'><td style='padding-right:5px; width:100px'><strong>Description</strong></td><td style='text-align:left'>Dataset from spg file : NH4Y-activation.SPG <br/>History of the 1st spectrum: vz0521.spa, Thu Jul 07 06:10:41 2016 (GMT+02:00)</td><tr>\n",
       "<tr style='border: 1px solid lightgray;'><td style='padding-right:5px; width:100px'><strong>History</strong></td><td style='text-align:left'>2019-01-08 20:08:39.685718:read from spg file \n",
       "<br/>sorted</td><tr>\n",
       "<tr style='border: 1px solid lightgray;'><td style='padding-right:5px; width:100px'><strong>data</strong></td><td style='text-align:left'><table style='width:100%'>\n",
       "<tr style='border: 1px solid lightgray;'><td style='padding-right:5px; width:100px'><strong>Title</strong></td><td style='text-align:left'>Absorbance</td><tr>\n",
       "<tr style='border: 1px solid lightgray;'><td style='padding-right:5px; width:100px'><strong>Shape</strong></td><td style='text-align:left'>55 x 5549</td><tr>\n",
       "<tr style='border: 1px solid lightgray;'><td style='padding-right:5px; width:100px'><strong>Values</strong></td><td style='text-align:left'>[[   2.057    2.061 ...    2.013    2.012]<br/> [   2.033    2.037 ...    1.913    1.911]<br/> ...<br/> [   1.794    1.791 ...    1.198    1.198]<br/> [   1.816    1.815 ...    1.240    1.238]] a.u.<br/</td><tr>\n",
       "</table>\n",
       "</td><tr>\n",
       "<tr style='border: 1px solid lightgray;'><td style='padding-right:5px; width:100px'><strong>y-coordinate</strong></td><td style='text-align:left'><table style='width:100%'>\n",
       "<tr style='border: 1px solid lightgray;'><td style='padding-right:5px; width:100px'><strong>Title</strong></td><td style='text-align:left'>Acquisition timestamp (gmt)</td><tr>\n",
       "<tr style='border: 1px solid lightgray;'><td style='padding-right:5px; width:100px'><strong>Data</strong></td><td style='text-align:left'>[1467831794.000 1467832394.000 ... 1467864197.000 1467864797.000] s<br/</td><tr>\n",
       "<tr style='border: 1px solid lightgray;'><td style='padding-right:5px; width:100px'><strong>Labels</strong></td><td style='text-align:left'>[[2016-07-06 19:03:14+00:00 2016-07-06 19:13:14+00:00 ... 2016-07-07 04:03:17+00:00 2016-07-07 04:13:17+00:00]\n",
       " [vz0466.spa, Wed Jul 06 21:00:38 2016 (GMT+02:00) vz0467.spa, Wed Jul 06 21:10:38 2016 (GMT+02:00) ...\n",
       "  vz0520.spa, Thu Jul 07 06:00:41 2016 (GMT+02:00) vz0521.spa, Thu Jul 07 06:10:41 2016 (GMT+02:00)]]</td><tr>\n",
       "</table>\n",
       "</td><tr>\n",
       "<tr style='border: 1px solid lightgray;'><td style='padding-right:5px; width:100px'><strong>x-coordinate</strong></td><td style='text-align:left'><table style='width:100%'>\n",
       "<tr style='border: 1px solid lightgray;'><td style='padding-right:5px; width:100px'><strong>Title</strong></td><td style='text-align:left'>Wavenumbers</td><tr>\n",
       "<tr style='border: 1px solid lightgray;'><td style='padding-right:5px; width:100px'><strong>Data</strong></td><td style='text-align:left'>[5999.556 5998.591 ...  650.868  649.904] cm<sup>-1</sup><br/</td><tr>\n",
       "</table>\n",
       "</td><tr>\n",
       "</table><br/>\n"
      ],
      "text/plain": [
       "NDDataset: [[   2.057,    2.061, ...,    2.013,    2.012],\n",
       "            [   2.033,    2.037, ...,    1.913,    1.911],\n",
       "            ...,\n",
       "            [   1.794,    1.791, ...,    1.198,    1.198],\n",
       "            [   1.816,    1.815, ...,    1.240,    1.238]] a.u."
      ]
     },
     "execution_count": 20,
     "metadata": {},
     "output_type": "execute_result"
    }
   ],
   "source": [
    "nd"
   ]
  },
  {
   "cell_type": "markdown",
   "metadata": {},
   "source": [
    "* **Plotting**\n",
    "\n",
    "Let's plot first a 1D spectrum (for instance one row of nd)"
   ]
  },
  {
   "cell_type": "code",
   "execution_count": 21,
   "metadata": {},
   "outputs": [
    {
     "data": {
      "application/vnd.jupyter.widget-view+json": {
       "model_id": "05119ed3581048aabb5c22bda654fe1d",
       "version_major": 2,
       "version_minor": 0
      },
      "text/plain": [
       "FigureCanvasNbAgg()"
      ]
     },
     "metadata": {},
     "output_type": "display_data"
    }
   ],
   "source": [
    "row = nd[-1]\n",
    "_ = row.plot()"
   ]
  },
  {
   "cell_type": "code",
   "execution_count": 22,
   "metadata": {},
   "outputs": [
    {
     "data": {
      "application/vnd.jupyter.widget-view+json": {
       "model_id": "fe8b433b41bc488f83fa3cddf1dcc2d2",
       "version_major": 2,
       "version_minor": 0
      },
      "text/plain": [
       "FigureCanvasNbAgg()"
      ]
     },
     "metadata": {},
     "output_type": "display_data"
    }
   ],
   "source": [
    "_ = nd.plot(method='stack') # or nd.plot_stack()"
   ]
  },
  {
   "cell_type": "markdown",
   "metadata": {},
   "source": [
    "or as a contour plot: "
   ]
  },
  {
   "cell_type": "code",
   "execution_count": 23,
   "metadata": {},
   "outputs": [
    {
     "data": {
      "application/vnd.jupyter.widget-view+json": {
       "model_id": "bb9ccf3b40424732b1c9943f908e3af7",
       "version_major": 2,
       "version_minor": 0
      },
      "text/plain": [
       "FigureCanvasNbAgg()"
      ]
     },
     "metadata": {},
     "output_type": "display_data"
    }
   ],
   "source": [
    "_ = nd.plot(method='map')"
   ]
  },
  {
   "cell_type": "markdown",
   "metadata": {},
   "source": [
    "Note that as we plot wavenumbers as abcissa, by convention the coordinates dirtection is reversed.\n",
    "\n",
    "This can be changed by using the keyword argument `reversed` = `False`."
   ]
  },
  {
   "cell_type": "markdown",
   "metadata": {},
   "source": [
    "## Processing a dataset"
   ]
  },
  {
   "cell_type": "markdown",
   "metadata": {},
   "source": [
    "Some arithmetic can be performed on such dataset. Here is an example where we subtract one reference spectrum to the whole nddataset that we have read above (`nd`)."
   ]
  },
  {
   "cell_type": "markdown",
   "metadata": {},
   "source": [
    "Lets take, e.g., the last row as reference"
   ]
  },
  {
   "cell_type": "code",
   "execution_count": 24,
   "metadata": {},
   "outputs": [
    {
     "data": {
      "application/vnd.jupyter.widget-view+json": {
       "model_id": "744cb469a35945aaa0b1bd99c63c3293",
       "version_major": 2,
       "version_minor": 0
      },
      "text/plain": [
       "FigureCanvasNbAgg()"
      ]
     },
     "metadata": {},
     "output_type": "display_data"
    }
   ],
   "source": [
    "ref = nd[-1]\n",
    "_ = ref.plot() "
   ]
  },
  {
   "cell_type": "markdown",
   "metadata": {},
   "source": [
    "Now suppress this ref spectrum to all other spectra of the whole dataset"
   ]
  },
  {
   "cell_type": "code",
   "execution_count": 25,
   "metadata": {},
   "outputs": [
    {
     "data": {
      "application/vnd.jupyter.widget-view+json": {
       "model_id": "6bb824b87fa840b78c2e807b82574779",
       "version_major": 2,
       "version_minor": 0
      },
      "text/plain": [
       "FigureCanvasNbAgg()"
      ]
     },
     "metadata": {},
     "output_type": "display_data"
    }
   ],
   "source": [
    "nds = nd - ref  \n",
    "_ = nds.plot(method='stack')"
   ]
  },
  {
   "cell_type": "markdown",
   "metadata": {},
   "source": [
    "More details on available on available processing and analysis function will be given later in this user guide.\n"
   ]
  }
 ],
 "metadata": {
  "kernelspec": {
   "display_name": "Python 3",
   "language": "python",
   "name": "python3"
  },
  "language_info": {
   "codemirror_mode": {
    "name": "ipython",
    "version": 3
   },
   "file_extension": ".py",
   "mimetype": "text/x-python",
   "name": "python",
   "nbconvert_exporter": "python",
   "pygments_lexer": "ipython3",
   "version": "3.7.1"
  },
  "latex_envs": {
   "LaTeX_envs_menu_present": true,
   "autocomplete": true,
   "bibliofile": "biblio.bib",
   "cite_by": "apalike",
   "current_citInitial": 1,
   "eqLabelWithNumbers": true,
   "eqNumInitial": 1,
   "hotkeys": {
    "equation": "Ctrl-E",
    "itemize": "Ctrl-I"
   },
   "labels_anchors": false,
   "latex_user_defs": false,
   "report_style_numbering": false,
   "user_envs_cfg": false
  },
  "toc": {
   "nav_menu": {},
   "number_sections": true,
   "sideBar": true,
   "skip_h1_title": true,
   "toc_cell": true,
   "toc_position": {},
   "toc_section_display": "block",
   "toc_window_display": false
  },
  "toc-autonumbering": true,
  "toc-showcode": false,
  "toc-showmarkdowntxt": false,
  "toc-showtags": false,
  "varInspector": {
   "cols": {
    "lenName": 16,
    "lenType": 16,
    "lenVar": 40
   },
   "kernels_config": {
    "python": {
     "delete_cmd_postfix": "",
     "delete_cmd_prefix": "del ",
     "library": "var_list.py",
     "varRefreshCmd": "print(var_dic_list())"
    },
    "r": {
     "delete_cmd_postfix": ") ",
     "delete_cmd_prefix": "rm(",
     "library": "var_list.r",
     "varRefreshCmd": "cat(var_dic_list()) "
    }
   },
   "types_to_exclude": [
    "module",
    "function",
    "builtin_function_or_method",
    "instance",
    "_Feature"
   ],
   "window_display": false
  }
 },
 "nbformat": 4,
 "nbformat_minor": 2
}
