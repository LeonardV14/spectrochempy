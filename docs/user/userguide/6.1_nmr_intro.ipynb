{
 "cells": [
  {
   "cell_type": "markdown",
   "metadata": {},
   "source": [
    "# Introduction to NMR processing"
   ]
  },
  {
   "cell_type": "markdown",
   "metadata": {},
   "source": [
    "## Library Imports"
   ]
  },
  {
   "cell_type": "code",
   "execution_count": 1,
   "metadata": {},
   "outputs": [
    {
     "name": "stdout",
     "output_type": "stream",
     "text": [
      "SpectroChemPy's API - v.0.1a3.dev24+gab598c30.d20181226\n",
      "© Copyright 2014-2018 - A.Travert & C.Fernandez @ LCS\n"
     ]
    }
   ],
   "source": [
    "from spectrochempy import *\n",
    "import os"
   ]
  },
  {
   "cell_type": "markdown",
   "metadata": {},
   "source": [
    "## Import data\n",
    "\n",
    "Here we import two dataset, one is 1D and the other is 2D\n",
    "\n",
    "Because , we will sometimes need to recall the original dataset, we create to getting functions"
   ]
  },
  {
   "cell_type": "code",
   "execution_count": 2,
   "metadata": {},
   "outputs": [],
   "source": [
    "# 1D dataset getting function \n",
    "def get_dataset1D():\n",
    "    dataset1D = NDDataset()\n",
    "    path = os.path.join(datadir.path, 'nmrdata','bruker', 'tests', 'nmr','bruker_1d')\n",
    "    dataset1D.read_bruker_nmr(path, expno=1, remove_digital_filter=True)\n",
    "    return dataset1D\n",
    "\n",
    "# 2D dataset getting function\n",
    "def get_dataset2D():\n",
    "    dataset2D = NDDataset()\n",
    "    path = os.path.join(datadir.path, 'nmrdata','bruker', 'tests', 'nmr','bruker_2d')\n",
    "    dataset2D.read_bruker_nmr(path, expno=1, remove_digital_filter=True)\n",
    "    return dataset2D"
   ]
  },
  {
   "cell_type": "code",
   "execution_count": 3,
   "metadata": {},
   "outputs": [
    {
     "data": {
      "text/html": [
       "<table style='width:100%'>\n",
       "<tr style='border: 1px solid lightgray;'><td style='padding-right:5px; width:100px'><strong>Name/Id</strong></td><td style='text-align:left'>NDDataset_41530494</td><tr>\n",
       "<tr style='border: 1px solid lightgray;'><td style='padding-right:5px; width:100px'><strong>Author</strong></td><td style='text-align:left'>spectrocat@cf-macbookpro.local</td><tr>\n",
       "<tr style='border: 1px solid lightgray;'><td style='padding-right:5px; width:100px'><strong>Created</strong></td><td style='text-align:left'>2018-12-26 16:09:35.105232</td><tr>\n",
       "<tr style='border: 1px solid lightgray;'><td style='padding-right:5px; width:100px'><strong>Last Modified</strong></td><td style='text-align:left'>2018-12-26 16:09:35.160366</td><tr>\n",
       "<tr style='border: 1px solid lightgray;'><td style='padding-right:5px; width:100px'><strong>Description</strong></td><td style='text-align:left'></td><tr>\n",
       "<tr style='border: 1px solid lightgray;'><td style='padding-right:5px; width:100px'><strong>data</strong></td><td style='text-align:left'><table style='width:100%'>\n",
       "<tr style='border: 1px solid lightgray;'><td style='padding-right:5px; width:100px'><strong>Title</strong></td><td style='text-align:left'>intensity</td><tr>\n",
       "<tr style='border: 1px solid lightgray;'><td style='padding-right:5px; width:100px'><strong>Size</strong></td><td style='text-align:left'>12411 (complex)</td><tr>\n",
       "<tr style='border: 1px solid lightgray;'><td style='padding-right:5px; width:100px'><strong>Values</strong></td><td style='text-align:left'>R[-1037.267 -2200.383 ...    0.062   -0.053]<br/>I[-1077.841 -2283.510 ...   -0.234    0.101]<br/</td><tr>\n",
       "</table>\n",
       "</td><tr>\n",
       "<tr style='border: 1px solid lightgray;'><td style='padding-right:5px; width:100px'><strong>Coordinate 0</strong></td><td style='text-align:left'><table style='width:100%'>\n",
       "<tr style='border: 1px solid lightgray;'><td style='padding-right:5px; width:100px'><strong>Title</strong></td><td style='text-align:left'>Coord_415acc88</td><tr>\n",
       "</table>\n",
       "</td><tr>\n",
       "<tr style='border: 1px solid lightgray;'><td style='padding-right:5px; width:100px'><strong>Coordinate 1</strong></td><td style='text-align:left'><table style='width:100%'>\n",
       "<tr style='border: 1px solid lightgray;'><td style='padding-right:5px; width:100px'><strong>Title</strong></td><td style='text-align:left'>Acquisition time</td><tr>\n",
       "<tr style='border: 1px solid lightgray;'><td style='padding-right:5px; width:100px'><strong>Data</strong></td><td style='text-align:left'>[   0.000    4.000 ... 49636.000 49640.000] us<br/</td><tr>\n",
       "</table>\n",
       "</td><tr>\n",
       "</table><br/>\n"
      ],
      "text/plain": [
       "NDDataset: [-1037.267, -1077.841, ...,   -0.053,    0.101] unitless"
      ]
     },
     "execution_count": 3,
     "metadata": {},
     "output_type": "execute_result"
    }
   ],
   "source": [
    "dataset1D = get_dataset1D()\n",
    "dataset1D # display info"
   ]
  },
  {
   "cell_type": "code",
   "execution_count": 4,
   "metadata": {},
   "outputs": [
    {
     "data": {
      "text/html": [
       "<table style='width:100%'>\n",
       "<tr style='border: 1px solid lightgray;'><td style='padding-right:5px; width:100px'><strong>Name/Id</strong></td><td style='text-align:left'>NDDataset_4169d584</td><tr>\n",
       "<tr style='border: 1px solid lightgray;'><td style='padding-right:5px; width:100px'><strong>Author</strong></td><td style='text-align:left'>spectrocat@cf-macbookpro.local</td><tr>\n",
       "<tr style='border: 1px solid lightgray;'><td style='padding-right:5px; width:100px'><strong>Created</strong></td><td style='text-align:left'>2018-12-26 16:09:35.256849</td><tr>\n",
       "<tr style='border: 1px solid lightgray;'><td style='padding-right:5px; width:100px'><strong>Last Modified</strong></td><td style='text-align:left'>2018-12-26 16:09:35.329060</td><tr>\n",
       "<tr style='border: 1px solid lightgray;'><td style='padding-right:5px; width:100px'><strong>Description</strong></td><td style='text-align:left'></td><tr>\n",
       "<tr style='border: 1px solid lightgray;'><td style='padding-right:5px; width:100px'><strong>data</strong></td><td style='text-align:left'><table style='width:100%'>\n",
       "<tr style='border: 1px solid lightgray;'><td style='padding-right:5px; width:100px'><strong>Title</strong></td><td style='text-align:left'>intensity</td><tr>\n",
       "<tr style='border: 1px solid lightgray;'><td style='padding-right:5px; width:100px'><strong>Shape</strong></td><td style='text-align:left'>96(complex) x 948(complex)</td><tr>\n",
       "<tr style='border: 1px solid lightgray;'><td style='padding-right:5px; width:100px'><strong>Values</strong></td><td style='text-align:left'>RR[[   0.062    0.147 ...    0.046    0.031]<br/>   [  -0.060   -0.088 ...   -0.051   -0.060]<br/>   ...<br/>   [   0.000    0.000 ...    0.000    0.000]<br/>   [   0.000    0.000 ...    0.000    0.000]]<br/>RI[[   0.224    0.198 ...    0.166   -0.033]<br/>   [   0.007   -0.028 ...    0.029    0.067]<br/>   ...<br/>   [  -0.000   -0.000 ...   -0.000   -0.000]<br/>   [  -0.000   -0.000 ...   -0.000   -0.000]]<br/>IR[[  -0.003   -0.002 ...    0.021   -0.081]<br/>   [  -0.057    0.117 ...    0.058   -0.003]<br/>   ...<br/>   [   0.000    0.000 ...    0.000    0.000]<br/>   [   0.000    0.000 ...    0.000    0.000]]<br/>II[[   0.162    0.056 ...   -0.027    0.011]<br/>   [  -0.134    0.007 ...    0.082   -0.005]<br/>   ...<br/>   [  -0.000   -0.000 ...   -0.000   -0.000]<br/>   [  -0.000   -0.000 ...   -0.000   -0.000]]<br/</td><tr>\n",
       "</table>\n",
       "</td><tr>\n",
       "<tr style='border: 1px solid lightgray;'><td style='padding-right:5px; width:100px'><strong>Coordinate 0</strong></td><td style='text-align:left'><table style='width:100%'>\n",
       "<tr style='border: 1px solid lightgray;'><td style='padding-right:5px; width:100px'><strong>Title</strong></td><td style='text-align:left'>Acquisition time</td><tr>\n",
       "<tr style='border: 1px solid lightgray;'><td style='padding-right:5px; width:100px'><strong>Data</strong></td><td style='text-align:left'>[   0.000   74.000 ... 6956.000 7030.000] us<br/</td><tr>\n",
       "</table>\n",
       "</td><tr>\n",
       "<tr style='border: 1px solid lightgray;'><td style='padding-right:5px; width:100px'><strong>Coordinate 1</strong></td><td style='text-align:left'><table style='width:100%'>\n",
       "<tr style='border: 1px solid lightgray;'><td style='padding-right:5px; width:100px'><strong>Title</strong></td><td style='text-align:left'>Acquisition time</td><tr>\n",
       "<tr style='border: 1px solid lightgray;'><td style='padding-right:5px; width:100px'><strong>Data</strong></td><td style='text-align:left'>[   0.000   48.000 ... 45408.000 45456.000] us<br/</td><tr>\n",
       "</table>\n",
       "</td><tr>\n",
       "</table><br/>\n"
      ],
      "text/plain": [
       "NDDataset: [[   0.062,    0.224, ...,    0.031,   -0.033],\n",
       "            [  -0.003,    0.162, ...,   -0.081,    0.011],\n",
       "            ...,\n",
       "            [   0.000,   -0.000, ...,    0.000,   -0.000],\n",
       "            [   0.000,   -0.000, ...,    0.000,   -0.000]] unitless"
      ]
     },
     "execution_count": 4,
     "metadata": {},
     "output_type": "execute_result"
    }
   ],
   "source": [
    "dataset2D = get_dataset2D()\n",
    "dataset2D"
   ]
  },
  {
   "cell_type": "markdown",
   "metadata": {},
   "source": [
    "## Plot the 1D dataset raw data"
   ]
  },
  {
   "cell_type": "code",
   "execution_count": 5,
   "metadata": {
    "scrolled": false
   },
   "outputs": [
    {
     "data": {
      "application/vnd.jupyter.widget-view+json": {
       "model_id": "e31d1620f6da4a509376206902d9a25a",
       "version_major": 2,
       "version_minor": 0
      },
      "text/plain": [
       "FigureCanvasNbAgg()"
      ]
     },
     "metadata": {},
     "output_type": "display_data"
    },
    {
     "data": {
      "text/plain": [
       "True"
      ]
     },
     "execution_count": 5,
     "metadata": {},
     "output_type": "execute_result"
    }
   ],
   "source": [
    "# plot the real data\n",
    "dataset1D.plot(xlim=(0,25000)) \n",
    "   \n",
    "# plot the imaginary data on the same plot\n",
    "dataset1D.plot(imag=True, data_only=True, clear=False)\n",
    "    # `clear=False`to plot on the previous plot\n",
    "    # `data_only=True` to plot only the additional data, without updating the figure setting \n",
    "    # such as xlim and so on."
   ]
  },
  {
   "cell_type": "markdown",
   "metadata": {},
   "source": [
    "To display the imaginary part, one can also simply use the show_complex commands."
   ]
  },
  {
   "cell_type": "code",
   "execution_count": 6,
   "metadata": {},
   "outputs": [
    {
     "data": {
      "application/vnd.jupyter.widget-view+json": {
       "model_id": "b75b97fdb8d74df580fe396372b023d3",
       "version_major": 2,
       "version_minor": 0
      },
      "text/plain": [
       "FigureCanvasNbAgg()"
      ]
     },
     "metadata": {},
     "output_type": "display_data"
    },
    {
     "data": {
      "text/plain": [
       "<matplotlib.axes._subplots.AxesSubplot at 0x1c1e9ecd68>"
      ]
     },
     "execution_count": 6,
     "metadata": {},
     "output_type": "execute_result"
    }
   ],
   "source": [
    "dataset1D.plot(show_complex=True, color='green',\n",
    "                xlim=(0.,20000.))"
   ]
  },
  {
   "cell_type": "markdown",
   "metadata": {},
   "source": [
    "## Plot the 2D dataset raw data"
   ]
  },
  {
   "cell_type": "code",
   "execution_count": 7,
   "metadata": {},
   "outputs": [
    {
     "data": {
      "application/vnd.jupyter.widget-view+json": {
       "model_id": "c79bd7cef27a44ca817a54b48210a3a8",
       "version_major": 2,
       "version_minor": 0
      },
      "text/plain": [
       "FigureCanvasNbAgg()"
      ]
     },
     "metadata": {},
     "output_type": "display_data"
    },
    {
     "data": {
      "text/plain": [
       "<matplotlib.axes._subplots.AxesSubplot at 0x1c1e8dc3c8>"
      ]
     },
     "execution_count": 7,
     "metadata": {},
     "output_type": "execute_result"
    }
   ],
   "source": [
    "dataset2D = get_dataset2D()\n",
    "dataset2D.plot_map(xlim=(0.,25000.))"
   ]
  },
  {
   "cell_type": "markdown",
   "metadata": {},
   "source": [
    "probably less util, but multiple display is also possible"
   ]
  },
  {
   "cell_type": "code",
   "execution_count": 8,
   "metadata": {},
   "outputs": [
    {
     "data": {
      "application/vnd.jupyter.widget-view+json": {
       "model_id": "cda65cc193d742a99aae948263992d23",
       "version_major": 2,
       "version_minor": 0
      },
      "text/plain": [
       "FigureCanvasNbAgg()"
      ]
     },
     "metadata": {},
     "output_type": "display_data"
    },
    {
     "data": {
      "text/plain": [
       "<matplotlib.axes._subplots.AxesSubplot at 0x131c7da5c0>"
      ]
     },
     "execution_count": 8,
     "metadata": {},
     "output_type": "execute_result"
    }
   ],
   "source": [
    "dataset2D.plot_map(xlim=(0.,6000.))\n",
    "dataset2D.T.plot_map(cmap='magma', xlim=(0.,6000.), data_only=True, clear=False)"
   ]
  },
  {
   "cell_type": "markdown",
   "metadata": {},
   "source": [
    "## Apodization"
   ]
  },
  {
   "cell_type": "code",
   "execution_count": 9,
   "metadata": {},
   "outputs": [
    {
     "data": {
      "application/vnd.jupyter.widget-view+json": {
       "model_id": "5bd5b060c80f4e8eb32a6228e7c70472",
       "version_major": 2,
       "version_minor": 0
      },
      "text/plain": [
       "FigureCanvasNbAgg()"
      ]
     },
     "metadata": {},
     "output_type": "display_data"
    }
   ],
   "source": [
    "# Plot\n",
    "dataset1D = get_dataset1D() # restore original\n",
    "dataset1D.plot() \n",
    "\n",
    "# Create the apodized dataset\n",
    "lb_dataset = dataset1D.em(lb=100.*ur.Hz)\n",
    "\n",
    "lb_dataset.plot(xlim=(0,25000), zlim=(-100,100), color='r', clear=False)\n",
    "\n",
    "t = lb_dataset.ax.text(12500,90,'Dual display (original & apodized fids)', ha='center', fontsize=10)"
   ]
  },
  {
   "cell_type": "code",
   "execution_count": 10,
   "metadata": {},
   "outputs": [
    {
     "data": {
      "application/vnd.jupyter.widget-view+json": {
       "model_id": "3857982e82594729907162e73d568497",
       "version_major": 2,
       "version_minor": 0
      },
      "text/plain": [
       "FigureCanvasNbAgg()"
      ]
     },
     "metadata": {},
     "output_type": "display_data"
    }
   ],
   "source": [
    "# Plot\n",
    "dataset1D = get_dataset1D() # restore original\n",
    "\n",
    "# Create the apodized dataset\n",
    "lb_dataset = em(dataset1D, lb=100.*ur.Hz, inplace=False)\n",
    "\n",
    "dataset1D.plot() \n",
    "lb_dataset.plot(xlim=(0,25000), zlim=(-100,100), color='r', clear=False)\n",
    "t = lb_dataset.ax.text(12500,90,'Dual display (original & apodized fids)', ha='center', fontsize=10)"
   ]
  },
  {
   "cell_type": "markdown",
   "metadata": {},
   "source": [
    "Note that the apodized dataset actually replace the original data"
   ]
  },
  {
   "cell_type": "code",
   "execution_count": 11,
   "metadata": {},
   "outputs": [
    {
     "data": {
      "text/plain": [
       "False"
      ]
     },
     "execution_count": 11,
     "metadata": {},
     "output_type": "execute_result"
    }
   ],
   "source": [
    "# check that both dataset are the same\n",
    "lb_dataset is dataset1D  # note here, that the original data are modified by default \n",
    "                       # when applying apodization function. \n",
    "                       # Use the `inplace` keyword to modify this behavior"
   ]
  },
  {
   "cell_type": "markdown",
   "metadata": {},
   "source": [
    "If we want to avoid this behavior and create a new dataset instead, we use the `inplace` flag."
   ]
  },
  {
   "cell_type": "code",
   "execution_count": 12,
   "metadata": {},
   "outputs": [
    {
     "data": {
      "text/plain": [
       "True"
      ]
     },
     "execution_count": 12,
     "metadata": {},
     "output_type": "execute_result"
    }
   ],
   "source": [
    "dataset1D = get_dataset1D()\n",
    "\n",
    "lb2_dataset = dataset1D.em(lb=100.*ur.Hz, inplace=False)\n",
    "\n",
    "# check that both dataset are different\n",
    "lb2_dataset is not dataset1D"
   ]
  },
  {
   "cell_type": "markdown",
   "metadata": {},
   "source": [
    "We can also get only the apodization function"
   ]
  },
  {
   "cell_type": "code",
   "execution_count": 13,
   "metadata": {},
   "outputs": [
    {
     "data": {
      "application/vnd.jupyter.widget-view+json": {
       "model_id": "6d85009c3e41454abdfa011bdb56bdee",
       "version_major": 2,
       "version_minor": 0
      },
      "text/plain": [
       "FigureCanvasNbAgg()"
      ]
     },
     "metadata": {},
     "output_type": "display_data"
    }
   ],
   "source": [
    "# Plot\n",
    "dataset1D = get_dataset1D() # restore original\n",
    "dataset1D.plot() \n",
    "\n",
    "# create the apodized dataset (if apply is False, the apodization function is not applied to the dataset, \n",
    "# but returned)\n",
    "apodfunc = dataset1D.em(lb=100.*ur.Hz, apply=False)*200\n",
    "\n",
    "apodfunc.plot(color='r', clear=False)\n",
    "\n",
    "dataset1D.em(lb=100.*ur.Hz, apply=True)\n",
    "dataset1D.plot(data_only=True, xlim=(0,25000), zlim=(-200,200), color='g', clear=False) \n",
    "\n",
    "t = dataset1D.ax.text(12500,180,'Multiple display (original & em apodized fids + apod.function)', ha='center', fontsize=10)"
   ]
  },
  {
   "cell_type": "markdown",
   "metadata": {},
   "source": [
    "Apodization function can be em, gm, sp ..."
   ]
  },
  {
   "cell_type": "code",
   "execution_count": 14,
   "metadata": {},
   "outputs": [
    {
     "data": {
      "application/vnd.jupyter.widget-view+json": {
       "model_id": "eae967a0f1304bc2baaacc1407ecbfae",
       "version_major": 2,
       "version_minor": 0
      },
      "text/plain": [
       "FigureCanvasNbAgg()"
      ]
     },
     "metadata": {},
     "output_type": "display_data"
    }
   ],
   "source": [
    "# Plot\n",
    "dataset1D = get_dataset1D() # restore original\n",
    "# normalize amplitude\n",
    "dataset1D /= dataset1D.data.max()\n",
    "\n",
    "dataset1D.plot() \n",
    "\n",
    "LB = 100.*ur.Hz\n",
    "GB = 300.*ur.Hz\n",
    "apodfunc = dataset1D.gm(gb=GB, lb=LB, apply=False)\n",
    "\n",
    "apodfunc.plot(color='r', clear=False)\n",
    "\n",
    "dataset1D.gm(gb=GB, lb=LB) #  apply=True by default\n",
    "\n",
    "dataset1D.plot(xlim=(0,25000), zlim=(-1,1), color='g', clear=False) \n",
    "\n",
    "t = dataset1D.ax.text(12500,.70,'Multiple display (original & gm apodized fids + apod.function)', ha='center', fontsize=10)"
   ]
  },
  {
   "cell_type": "markdown",
   "metadata": {},
   "source": [
    "**TODO**: sp function"
   ]
  },
  {
   "cell_type": "code",
   "execution_count": 20,
   "metadata": {},
   "outputs": [
    {
     "data": {
      "application/vnd.jupyter.widget-view+json": {
       "model_id": "d08db9743d7946f0a0295015d609a6a3",
       "version_major": 2,
       "version_minor": 0
      },
      "text/plain": [
       "FigureCanvasNbAgg()"
      ]
     },
     "metadata": {},
     "output_type": "display_data"
    },
    {
     "name": "stderr",
     "output_type": "stream",
     "text": [
      "[SpectroChemPy] ERROR | TypeError: 'NoneType' object is not callable\n"
     ]
    }
   ],
   "source": [
    "# Plot\n",
    "dataset1D = get_dataset1D() # restore original\n",
    "# normalize amplitude\n",
    "dataset1D /= dataset1D.data.max()\n",
    "\n",
    "dataset1D.plot() \n",
    "\n",
    "apodfunc = dataset1D.sp(off=0, end=10., pow=1.2, apply=False)\n",
    "\n",
    "apodfunc.plot(color='r', clear=False)"
   ]
  },
  {
   "cell_type": "markdown",
   "metadata": {},
   "source": [
    "### Apodization of 2D data"
   ]
  },
  {
   "cell_type": "code",
   "execution_count": 16,
   "metadata": {},
   "outputs": [
    {
     "data": {
      "application/vnd.jupyter.widget-view+json": {
       "model_id": "803354c526b441b38121a805da7e9359",
       "version_major": 2,
       "version_minor": 0
      },
      "text/plain": [
       "FigureCanvasNbAgg()"
      ]
     },
     "metadata": {},
     "output_type": "display_data"
    },
    {
     "data": {
      "text/plain": [
       "<matplotlib.axes._subplots.AxesSubplot at 0x1c1e8d24a8>"
      ]
     },
     "execution_count": 16,
     "metadata": {},
     "output_type": "execute_result"
    }
   ],
   "source": [
    "dataset2D = get_dataset2D()\n",
    "dataset2D.plot_map(xlim=(0.,25000.))\n",
    "\n",
    "LB = 200.*ur.Hz\n",
    "dataset2D.em(lb=LB)\n",
    "dataset2D.em(lb=LB/2, axis=0)  \n",
    "dataset2D.plot_map(data_only=True, cmap='copper', clear=False)"
   ]
  },
  {
   "cell_type": "markdown",
   "metadata": {},
   "source": [
    "## Time-frequency transforms : FFT"
   ]
  },
  {
   "cell_type": "code",
   "execution_count": 17,
   "metadata": {},
   "outputs": [
    {
     "data": {
      "text/html": [
       "<table style='width:100%'>\n",
       "<tr style='border: 1px solid lightgray;'><td style='padding-right:5px; width:100px'><strong>Name/Id</strong></td><td style='text-align:left'>NDDataset_442d6a88</td><tr>\n",
       "<tr style='border: 1px solid lightgray;'><td style='padding-right:5px; width:100px'><strong>Author</strong></td><td style='text-align:left'>spectrocat@cf-macbookpro.local</td><tr>\n",
       "<tr style='border: 1px solid lightgray;'><td style='padding-right:5px; width:100px'><strong>Created</strong></td><td style='text-align:left'>2018-12-26 16:09:39.894021</td><tr>\n",
       "<tr style='border: 1px solid lightgray;'><td style='padding-right:5px; width:100px'><strong>Last Modified</strong></td><td style='text-align:left'>2018-12-26 16:09:39.982293</td><tr>\n",
       "<tr style='border: 1px solid lightgray;'><td style='padding-right:5px; width:100px'><strong>Description</strong></td><td style='text-align:left'></td><tr>\n",
       "<tr style='border: 1px solid lightgray;'><td style='padding-right:5px; width:100px'><strong>History</strong></td><td style='text-align:left'>2018-12-26 16:09:39.981350: em apodization performed: 10.0 hertz\n",
       "</td><tr>\n",
       "<tr style='border: 1px solid lightgray;'><td style='padding-right:5px; width:100px'><strong>data</strong></td><td style='text-align:left'><table style='width:100%'>\n",
       "<tr style='border: 1px solid lightgray;'><td style='padding-right:5px; width:100px'><strong>Title</strong></td><td style='text-align:left'>intensity</td><tr>\n",
       "<tr style='border: 1px solid lightgray;'><td style='padding-right:5px; width:100px'><strong>Size</strong></td><td style='text-align:left'>12411 (complex)</td><tr>\n",
       "<tr style='border: 1px solid lightgray;'><td style='padding-right:5px; width:100px'><strong>Values</strong></td><td style='text-align:left'>R[-1037.267 -2200.107 ...    0.013   -0.011]<br/>I[-1077.841 -2283.223 ...   -0.049    0.021]<br/</td><tr>\n",
       "</table>\n",
       "</td><tr>\n",
       "<tr style='border: 1px solid lightgray;'><td style='padding-right:5px; width:100px'><strong>Coordinate 0</strong></td><td style='text-align:left'><table style='width:100%'>\n",
       "<tr style='border: 1px solid lightgray;'><td style='padding-right:5px; width:100px'><strong>Title</strong></td><td style='text-align:left'>Coord_44368fbe</td><tr>\n",
       "</table>\n",
       "</td><tr>\n",
       "<tr style='border: 1px solid lightgray;'><td style='padding-right:5px; width:100px'><strong>Coordinate 1</strong></td><td style='text-align:left'><table style='width:100%'>\n",
       "<tr style='border: 1px solid lightgray;'><td style='padding-right:5px; width:100px'><strong>Title</strong></td><td style='text-align:left'>Acquisition time</td><tr>\n",
       "<tr style='border: 1px solid lightgray;'><td style='padding-right:5px; width:100px'><strong>Data</strong></td><td style='text-align:left'>[   0.000    4.000 ... 49636.000 49640.000] us<br/</td><tr>\n",
       "</table>\n",
       "</td><tr>\n",
       "</table><br/>\n"
      ],
      "text/plain": [
       "NDDataset: [-1037.267, -1077.841, ...,   -0.011,    0.021] unitless"
      ]
     },
     "execution_count": 17,
     "metadata": {},
     "output_type": "execute_result"
    }
   ],
   "source": [
    "dataset1D = get_dataset1D() # restore original\n",
    "LB = 10.*ur.Hz\n",
    "dataset1D.em(lb=LB)\n",
    "#dataset1D.zf_auto(inplace=True)\n",
    "#transf1 = source1D.fft() # by defauut fft create a new dataset"
   ]
  },
  {
   "cell_type": "code",
   "execution_count": 18,
   "metadata": {},
   "outputs": [
    {
     "data": {
      "text/html": [
       "<table style='width:100%'>\n",
       "<tr style='border: 1px solid lightgray;'><td style='padding-right:5px; width:100px'><strong>Name/Id</strong></td><td style='text-align:left'>NDDataset_4446d068</td><tr>\n",
       "<tr style='border: 1px solid lightgray;'><td style='padding-right:5px; width:100px'><strong>Author</strong></td><td style='text-align:left'>spectrocat@cf-macbookpro.local</td><tr>\n",
       "<tr style='border: 1px solid lightgray;'><td style='padding-right:5px; width:100px'><strong>Created</strong></td><td style='text-align:left'>2018-12-26 16:09:40.060350</td><tr>\n",
       "<tr style='border: 1px solid lightgray;'><td style='padding-right:5px; width:100px'><strong>Last Modified</strong></td><td style='text-align:left'>2018-12-26 16:09:40.126250</td><tr>\n",
       "<tr style='border: 1px solid lightgray;'><td style='padding-right:5px; width:100px'><strong>Description</strong></td><td style='text-align:left'></td><tr>\n",
       "<tr style='border: 1px solid lightgray;'><td style='padding-right:5px; width:100px'><strong>History</strong></td><td style='text-align:left'>2018-12-26 16:09:40.125289: em apodization performed: 10.0 hertz\n",
       "</td><tr>\n",
       "<tr style='border: 1px solid lightgray;'><td style='padding-right:5px; width:100px'><strong>data</strong></td><td style='text-align:left'><table style='width:100%'>\n",
       "<tr style='border: 1px solid lightgray;'><td style='padding-right:5px; width:100px'><strong>Title</strong></td><td style='text-align:left'>intensity</td><tr>\n",
       "<tr style='border: 1px solid lightgray;'><td style='padding-right:5px; width:100px'><strong>Size</strong></td><td style='text-align:left'>12411 (complex)</td><tr>\n",
       "<tr style='border: 1px solid lightgray;'><td style='padding-right:5px; width:100px'><strong>Values</strong></td><td style='text-align:left'>R[-1037.267 -2200.659 ...    0.000   -0.000]<br/>I[-1077.841 -2283.796 ...   -0.000    0.000]<br/</td><tr>\n",
       "</table>\n",
       "</td><tr>\n",
       "<tr style='border: 1px solid lightgray;'><td style='padding-right:5px; width:100px'><strong>Coordinate 0</strong></td><td style='text-align:left'><table style='width:100%'>\n",
       "<tr style='border: 1px solid lightgray;'><td style='padding-right:5px; width:100px'><strong>Title</strong></td><td style='text-align:left'>Coord_444b9b52</td><tr>\n",
       "</table>\n",
       "</td><tr>\n",
       "<tr style='border: 1px solid lightgray;'><td style='padding-right:5px; width:100px'><strong>Coordinate 1</strong></td><td style='text-align:left'><table style='width:100%'>\n",
       "<tr style='border: 1px solid lightgray;'><td style='padding-right:5px; width:100px'><strong>Title</strong></td><td style='text-align:left'>Acquisition time</td><tr>\n",
       "<tr style='border: 1px solid lightgray;'><td style='padding-right:5px; width:100px'><strong>Data</strong></td><td style='text-align:left'>[   0.000    4.000 ... 49636.000 49640.000] us<br/</td><tr>\n",
       "</table>\n",
       "</td><tr>\n",
       "</table><br/>\n"
      ],
      "text/plain": [
       "NDDataset: [-1037.267, -1077.841, ...,   -0.000,    0.000] unitless"
      ]
     },
     "execution_count": 18,
     "metadata": {},
     "output_type": "execute_result"
    }
   ],
   "source": [
    "dataset1D = get_dataset1D() # restore original\n",
    "LB = 10.*ur.Hz\n",
    "GB = 50.*ur.Hz\n",
    "dataset1D.gm(gb=GB, lb=LB)\n",
    "#dataset1D.zf_auto()\n",
    "#transf2 = dataset1D.fft()"
   ]
  },
  {
   "cell_type": "markdown",
   "metadata": {},
   "source": [
    "As the new dataset is transformed, function that apply to time data such as **em** should not work"
   ]
  },
  {
   "cell_type": "code",
   "execution_count": 19,
   "metadata": {},
   "outputs": [],
   "source": [
    "#_ = transf1.em(lb=10*ur.Hz)"
   ]
  }
 ],
 "metadata": {
  "kernelspec": {
   "display_name": "Python 3",
   "language": "python",
   "name": "python3"
  },
  "language_info": {
   "codemirror_mode": {
    "name": "ipython",
    "version": 3
   },
   "file_extension": ".py",
   "mimetype": "text/x-python",
   "name": "python",
   "nbconvert_exporter": "python",
   "pygments_lexer": "ipython3",
   "version": "3.7.1"
  },
  "latex_envs": {
   "LaTeX_envs_menu_present": true,
   "autocomplete": true,
   "bibliofile": "biblio.bib",
   "cite_by": "apalike",
   "current_citInitial": 1,
   "eqLabelWithNumbers": true,
   "eqNumInitial": 1,
   "hotkeys": {
    "equation": "Ctrl-E",
    "itemize": "Ctrl-I"
   },
   "labels_anchors": false,
   "latex_user_defs": false,
   "report_style_numbering": false,
   "user_envs_cfg": false
  },
  "toc": {
   "nav_menu": {},
   "number_sections": true,
   "sideBar": true,
   "skip_h1_title": true,
   "toc_cell": false,
   "toc_position": {},
   "toc_section_display": "block",
   "toc_window_display": false
  },
  "varInspector": {
   "cols": {
    "lenName": 16,
    "lenType": 16,
    "lenVar": 40
   },
   "kernels_config": {
    "python": {
     "delete_cmd_postfix": "",
     "delete_cmd_prefix": "del ",
     "library": "var_list.py",
     "varRefreshCmd": "print(var_dic_list())"
    },
    "r": {
     "delete_cmd_postfix": ") ",
     "delete_cmd_prefix": "rm(",
     "library": "var_list.r",
     "varRefreshCmd": "cat(var_dic_list()) "
    }
   },
   "types_to_exclude": [
    "module",
    "function",
    "builtin_function_or_method",
    "instance",
    "_Feature"
   ],
   "window_display": false
  },
  "widgets": {
   "state": {},
   "version": "1.1.1"
  }
 },
 "nbformat": 4,
 "nbformat_minor": 2
}
