{
 "cells": [
  {
   "cell_type": "markdown",
   "metadata": {
    "toc-hr-collapsed": false
   },
   "source": [
    "## 6.1. Introduction to NMR processing"
   ]
  },
  {
   "cell_type": "code",
   "execution_count": 1,
   "metadata": {},
   "outputs": [
    {
     "name": "stdout",
     "output_type": "stream",
     "text": [
      "SpectroChemPy's API - v.0.1a4.dev11+ge3c4de8c.d20190109\n",
      "© Copyright 2014-2019 - A.Travert & C.Fernandez @ LCS\n"
     ]
    }
   ],
   "source": [
    "#Library Imports\n",
    "from spectrochempy import *\n",
    "# additional useful library\n",
    "import os"
   ]
  },
  {
   "cell_type": "markdown",
   "metadata": {},
   "source": [
    "### 6.1.1. Import data\n",
    "\n",
    "Here we import two dataset, one is 1D and the other is 2D\n",
    "\n",
    "Because , we will sometimes need to recall the original dataset, we create to getting functions"
   ]
  },
  {
   "cell_type": "code",
   "execution_count": 2,
   "metadata": {},
   "outputs": [],
   "source": [
    "# 1D dataset getting function \n",
    "def get_dataset1D():\n",
    "    dataset1D = NDDataset()\n",
    "    path = os.path.join(datadir.path, 'nmrdata','bruker', 'tests', 'nmr','bruker_1d')\n",
    "    dataset1D.read_bruker_nmr(path, expno=1, remove_digital_filter=True)\n",
    "    return dataset1D\n",
    "\n",
    "# 2D dataset getting function\n",
    "def get_dataset2D():\n",
    "    dataset2D = NDDataset()\n",
    "    path = os.path.join(datadir.path, 'nmrdata','bruker', 'tests', 'nmr','bruker_2d')\n",
    "    dataset2D.read_bruker_nmr(path, expno=1, remove_digital_filter=True)\n",
    "    return dataset2D"
   ]
  },
  {
   "cell_type": "code",
   "execution_count": 3,
   "metadata": {},
   "outputs": [
    {
     "data": {
      "text/html": [
       "<table style='width:100%'>\n",
       "<tr style='border: 1px solid lightgray;'><td style='padding-right:5px; width:100px'><strong>Name/Id</strong></td><td style='text-align:left'>NDDataset_df3eebb0</td><tr>\n",
       "<tr style='border: 1px solid lightgray;'><td style='padding-right:5px; width:100px'><strong>Author</strong></td><td style='text-align:left'>spectrocat@cf-macbookpro.local</td><tr>\n",
       "<tr style='border: 1px solid lightgray;'><td style='padding-right:5px; width:100px'><strong>Created</strong></td><td style='text-align:left'>2019-01-09 12:58:26.432491</td><tr>\n",
       "<tr style='border: 1px solid lightgray;'><td style='padding-right:5px; width:100px'><strong>Last Modified</strong></td><td style='text-align:left'>2019-01-09 12:58:26.475761</td><tr>\n",
       "<tr style='border: 1px solid lightgray;'><td style='padding-right:5px; width:100px'><strong>Description</strong></td><td style='text-align:left'></td><tr>\n",
       "<tr style='border: 1px solid lightgray;'><td style='padding-right:5px; width:100px'><strong>data</strong></td><td style='text-align:left'><table style='width:100%'>\n",
       "<tr style='border: 1px solid lightgray;'><td style='padding-right:5px; width:100px'><strong>Title</strong></td><td style='text-align:left'>intensity</td><tr>\n",
       "<tr style='border: 1px solid lightgray;'><td style='padding-right:5px; width:100px'><strong>Size</strong></td><td style='text-align:left'>12411 (complex)</td><tr>\n",
       "<tr style='border: 1px solid lightgray;'><td style='padding-right:5px; width:100px'><strong>Values</strong></td><td style='text-align:left'>R[-1037.267 -2200.383 ...    0.062   -0.053]<br/>I[-1077.841 -2283.510 ...   -0.234    0.101]<br/</td><tr>\n",
       "</table>\n",
       "</td><tr>\n",
       "<tr style='border: 1px solid lightgray;'><td style='padding-right:5px; width:100px'><strong>y-coordinate</strong></td><td style='text-align:left'><table style='width:100%'>\n",
       "<tr style='border: 1px solid lightgray;'><td style='padding-right:5px; width:100px'><strong>Title</strong></td><td style='text-align:left'>Coord_df44d84a</td><tr>\n",
       "<tr style='border: 1px solid lightgray;'><td style='padding-right:5px; width:100px'><strong>Data</strong></td><td style='text-align:left'>       0<br/</td><tr>\n",
       "</table>\n",
       "</td><tr>\n",
       "<tr style='border: 1px solid lightgray;'><td style='padding-right:5px; width:100px'><strong>x-coordinate</strong></td><td style='text-align:left'><table style='width:100%'>\n",
       "<tr style='border: 1px solid lightgray;'><td style='padding-right:5px; width:100px'><strong>Title</strong></td><td style='text-align:left'>Acquisition time</td><tr>\n",
       "<tr style='border: 1px solid lightgray;'><td style='padding-right:5px; width:100px'><strong>Data</strong></td><td style='text-align:left'>[   0.000    4.000 ... 49636.000 49640.000] us<br/</td><tr>\n",
       "</table>\n",
       "</td><tr>\n",
       "</table><br/>\n"
      ],
      "text/plain": [
       "NDDataset: [-1037.267-1077.841j, -2200.383-2283.510j, ...,    0.062-0.234j,   -0.053+0.101j] unitless"
      ]
     },
     "execution_count": 3,
     "metadata": {},
     "output_type": "execute_result"
    }
   ],
   "source": [
    "# get the 1D dataset\n",
    "dataset1D = get_dataset1D()\n",
    "# display info\n",
    "dataset1D "
   ]
  },
  {
   "cell_type": "code",
   "execution_count": 4,
   "metadata": {},
   "outputs": [
    {
     "data": {
      "text/html": [
       "<table style='width:100%'>\n",
       "<tr style='border: 1px solid lightgray;'><td style='padding-right:5px; width:100px'><strong>Name/Id</strong></td><td style='text-align:left'>NDDataset_df4884cc</td><tr>\n",
       "<tr style='border: 1px solid lightgray;'><td style='padding-right:5px; width:100px'><strong>Author</strong></td><td style='text-align:left'>spectrocat@cf-macbookpro.local</td><tr>\n",
       "<tr style='border: 1px solid lightgray;'><td style='padding-right:5px; width:100px'><strong>Created</strong></td><td style='text-align:left'>2019-01-09 12:58:26.497342</td><tr>\n",
       "<tr style='border: 1px solid lightgray;'><td style='padding-right:5px; width:100px'><strong>Last Modified</strong></td><td style='text-align:left'>2019-01-09 12:58:26.603645</td><tr>\n",
       "<tr style='border: 1px solid lightgray;'><td style='padding-right:5px; width:100px'><strong>Description</strong></td><td style='text-align:left'></td><tr>\n",
       "<tr style='border: 1px solid lightgray;'><td style='padding-right:5px; width:100px'><strong>data</strong></td><td style='text-align:left'><table style='width:100%'>\n",
       "<tr style='border: 1px solid lightgray;'><td style='padding-right:5px; width:100px'><strong>Title</strong></td><td style='text-align:left'>intensity</td><tr>\n",
       "<tr style='border: 1px solid lightgray;'><td style='padding-right:5px; width:100px'><strong>Shape</strong></td><td style='text-align:left'>96(complex) x 948(complex)</td><tr>\n",
       "<tr style='border: 1px solid lightgray;'><td style='padding-right:5px; width:100px'><strong>Values</strong></td><td style='text-align:left'>RR[[   0.062    0.147 ...    0.046    0.031]<br/>   [  -0.060   -0.088 ...   -0.051   -0.060]<br/>   ...<br/>   [   0.000    0.000 ...    0.000    0.000]<br/>   [   0.000    0.000 ...    0.000    0.000]]<br/>RI[[   0.224    0.198 ...    0.166   -0.033]<br/>   [   0.007   -0.028 ...    0.029    0.067]<br/>   ...<br/>   [  -0.000   -0.000 ...   -0.000   -0.000]<br/>   [  -0.000   -0.000 ...   -0.000   -0.000]]<br/>IR[[  -0.003   -0.002 ...    0.021   -0.081]<br/>   [  -0.057    0.117 ...    0.058   -0.003]<br/>   ...<br/>   [   0.000    0.000 ...    0.000    0.000]<br/>   [   0.000    0.000 ...    0.000    0.000]]<br/>II[[   0.162    0.056 ...   -0.027    0.011]<br/>   [  -0.134    0.007 ...    0.082   -0.005]<br/>   ...<br/>   [  -0.000   -0.000 ...   -0.000   -0.000]<br/>   [  -0.000   -0.000 ...   -0.000   -0.000]]<br/</td><tr>\n",
       "</table>\n",
       "</td><tr>\n",
       "<tr style='border: 1px solid lightgray;'><td style='padding-right:5px; width:100px'><strong>y-coordinate</strong></td><td style='text-align:left'><table style='width:100%'>\n",
       "<tr style='border: 1px solid lightgray;'><td style='padding-right:5px; width:100px'><strong>Title</strong></td><td style='text-align:left'>Acquisition time</td><tr>\n",
       "<tr style='border: 1px solid lightgray;'><td style='padding-right:5px; width:100px'><strong>Data</strong></td><td style='text-align:left'>[   0.000   74.000 ... 6956.000 7030.000] us<br/</td><tr>\n",
       "</table>\n",
       "</td><tr>\n",
       "<tr style='border: 1px solid lightgray;'><td style='padding-right:5px; width:100px'><strong>x-coordinate</strong></td><td style='text-align:left'><table style='width:100%'>\n",
       "<tr style='border: 1px solid lightgray;'><td style='padding-right:5px; width:100px'><strong>Title</strong></td><td style='text-align:left'>Acquisition time</td><tr>\n",
       "<tr style='border: 1px solid lightgray;'><td style='padding-right:5px; width:100px'><strong>Data</strong></td><td style='text-align:left'>[   0.000   48.000 ... 45408.000 45456.000] us<br/</td><tr>\n",
       "</table>\n",
       "</td><tr>\n",
       "</table><br/>\n"
      ],
      "text/plain": [
       "NDDataset: [[(   0.062+0.224j,   -0.003+0.162j), (   0.147+0.198j,   -0.002+0.056j), ..., (   0.046+0.166j,    0.021-0.027j),\n",
       "             (   0.031-0.033j,   -0.081+0.011j)],\n",
       "            [(  -0.060+0.007j,   -0.057-0.134j), (  -0.088-0.028j,    0.117+0.007j), ..., (  -0.051+0.029j,    0.058+0.082j),\n",
       "             (  -0.060+0.067j,   -0.003-0.005j)],\n",
       "            ...,\n",
       "            [(   0.000-0.000j,    0.000-0.000j), (   0.000-0.000j,    0.000-0.000j), ..., (   0.000-0.000j,    0.000-0.000j),\n",
       "             (   0.000-0.000j,    0.000-0.000j)],\n",
       "            [(   0.000-0.000j,    0.000-0.000j), (   0.000-0.000j,    0.000-0.000j), ..., (   0.000-0.000j,    0.000-0.000j),\n",
       "             (   0.000-0.000j,    0.000-0.000j)]] unitless"
      ]
     },
     "execution_count": 4,
     "metadata": {},
     "output_type": "execute_result"
    }
   ],
   "source": [
    "# get the 2D dataset\n",
    "dataset2D = get_dataset2D()\n",
    "# display info\n",
    "dataset2D"
   ]
  },
  {
   "cell_type": "markdown",
   "metadata": {},
   "source": [
    "### 6.1.2. Plot the 1D dataset raw data"
   ]
  },
  {
   "cell_type": "code",
   "execution_count": 5,
   "metadata": {
    "scrolled": false
   },
   "outputs": [
    {
     "data": {
      "application/vnd.jupyter.widget-view+json": {
       "model_id": "5bc0f32153a8432eae1b05aa84c28055",
       "version_major": 2,
       "version_minor": 0
      },
      "text/plain": [
       "FigureCanvasNbAgg()"
      ]
     },
     "metadata": {},
     "output_type": "display_data"
    }
   ],
   "source": [
    "# restore the original dataset (useful in case of mutiple execution of part of the code, \n",
    "# to avoid unexpected cumulative processing)\n",
    "dataset1D = get_dataset1D()\n",
    "\n",
    "# plot the real data\n",
    "dataset1D.plot(color='blue', xlim=(0,15000.)) \n",
    "\n",
    "# plot the imaginary data on the same plot\n",
    "# Note that we assign the results of this function to `_` in order to avoid output such as :\n",
    "# <matplotlib.axes._subplots.AxesSubplot at 0x1c1b2fbac8>\n",
    "_ = dataset1D.plot(imag=True, color='red', ls='--', ylim=(-600,600), \n",
    "                   data_only=True, clear=False)\n",
    "\n",
    "# Note the two additional flags:\n",
    "# ------------------------------\n",
    "# `clear=False`to plot on the previous plot (without this a new plot is created)\n",
    "# `data_only =True` to plot only the additional data, without updating the figure setting \n",
    "#  such as xlim and so on, except if they are specifically indicated."
   ]
  },
  {
   "cell_type": "markdown",
   "metadata": {},
   "source": [
    "To display the imaginary part, one can also simply use the show_complex commands."
   ]
  },
  {
   "cell_type": "code",
   "execution_count": 6,
   "metadata": {},
   "outputs": [
    {
     "data": {
      "application/vnd.jupyter.widget-view+json": {
       "model_id": "97c6e03bba524eccad9c6dcdd142946c",
       "version_major": 2,
       "version_minor": 0
      },
      "text/plain": [
       "FigureCanvasNbAgg()"
      ]
     },
     "metadata": {},
     "output_type": "display_data"
    }
   ],
   "source": [
    "_ = dataset1D.plot(show_complex=True, color='green', xlim=(0.,25000.))"
   ]
  },
  {
   "cell_type": "markdown",
   "metadata": {},
   "source": [
    "### 6.1.3. Plot the 2D dataset raw data"
   ]
  },
  {
   "cell_type": "code",
   "execution_count": 7,
   "metadata": {},
   "outputs": [
    {
     "data": {
      "application/vnd.jupyter.widget-view+json": {
       "model_id": "0197ec57c56546f3887208878804fc2a",
       "version_major": 2,
       "version_minor": 0
      },
      "text/plain": [
       "FigureCanvasNbAgg()"
      ]
     },
     "metadata": {},
     "output_type": "display_data"
    }
   ],
   "source": [
    "# restore the original dataset\n",
    "dataset2D = get_dataset2D()\n",
    "# plot the dataset as a contour map\n",
    "_ = dataset2D.plot_map(xlim=(0.,25000.))"
   ]
  },
  {
   "cell_type": "markdown",
   "metadata": {},
   "source": [
    "Multiple display are also possible for 2D dataset"
   ]
  },
  {
   "cell_type": "code",
   "execution_count": 8,
   "metadata": {},
   "outputs": [
    {
     "data": {
      "application/vnd.jupyter.widget-view+json": {
       "model_id": "76c4ebdea1ec480688d88f4f1bfefa9d",
       "version_major": 2,
       "version_minor": 0
      },
      "text/plain": [
       "FigureCanvasNbAgg()"
      ]
     },
     "metadata": {},
     "output_type": "display_data"
    }
   ],
   "source": [
    "dataset2D.plot_map(xlim=(0.,6000.), ylim=(0.,6000.))\n",
    "# here we plot the transposed dataset (dataset2D.T) on the same figure.\n",
    "_ = dataset2D.T.plot_map(cmap='magma', data_only=True, clear=False)"
   ]
  },
  {
   "cell_type": "markdown",
   "metadata": {},
   "source": [
    "### 6.1.4. Apodization"
   ]
  },
  {
   "cell_type": "markdown",
   "metadata": {},
   "source": [
    "#### 6.1.4.1. Introduction to apodization processing"
   ]
  },
  {
   "cell_type": "markdown",
   "metadata": {},
   "source": [
    "In most situation, there is two syntaxes to perform operation on the dataset.\n",
    "\n",
    "For instance, to perform the apodization using an exponential multiplication:\n",
    "\n",
    "1. newdataset = dataset.em(lb=...)\n",
    "2. newdataset = em(dataset, lb=...)"
   ]
  },
  {
   "cell_type": "code",
   "execution_count": 9,
   "metadata": {},
   "outputs": [
    {
     "data": {
      "application/vnd.jupyter.widget-view+json": {
       "model_id": "c83cde68946b435a9d3c3dbaea399127",
       "version_major": 2,
       "version_minor": 0
      },
      "text/plain": [
       "FigureCanvasNbAgg()"
      ]
     },
     "metadata": {},
     "output_type": "display_data"
    }
   ],
   "source": [
    "# tke the original dataset\n",
    "dataset1D = get_dataset1D()\n",
    "\n",
    "# plot it\n",
    "dataset1D.plot() \n",
    "\n",
    "# Create the apodized dataset usint exponential multiplication (em)\n",
    "lb_dataset = dataset1D.em(lb=100.*ur.Hz)\n",
    "\n",
    "# plot the apodized dataset on the same figure\n",
    "lb_dataset.plot(xlim=(0,25000), zlim=(-100,100), color='r', clear=False)\n",
    "\n",
    "# add some text\n",
    "_ = lb_dataset.ax.text(12500,90,'Dual display (original & apodized fids)', \n",
    "                       ha='center', fontsize=10)"
   ]
  },
  {
   "cell_type": "markdown",
   "metadata": {},
   "source": [
    "Note that the apodized dataset actually replace the original data"
   ]
  },
  {
   "cell_type": "code",
   "execution_count": 10,
   "metadata": {},
   "outputs": [],
   "source": [
    "# check that both dataset are the same (an error should be issued by the assert command if it is not the case)\n",
    "assert lb_dataset is dataset1D  # note here, that the original data are modified by default \n",
    "                                # when applying apodization function. "
   ]
  },
  {
   "cell_type": "markdown",
   "metadata": {},
   "source": [
    "We can use the `inplace` keyword to modify this behavior"
   ]
  },
  {
   "cell_type": "code",
   "execution_count": 11,
   "metadata": {},
   "outputs": [],
   "source": [
    "dataset1D = get_dataset1D()\n",
    "lb_dataset = dataset1D.em(lb=100.*ur.Hz, inplace=False)\n",
    "assert not lb_dataset is dataset1D"
   ]
  },
  {
   "cell_type": "markdown",
   "metadata": {},
   "source": [
    "We can use of the second syntax."
   ]
  },
  {
   "cell_type": "code",
   "execution_count": 12,
   "metadata": {},
   "outputs": [],
   "source": [
    "# restore original and plot it\n",
    "dataset1D = get_dataset1D() \n",
    "\n",
    "# Create the apodized dataset\n",
    "lb2_dataset = em(dataset1D, lb=100.*ur.Hz, inplace=False)\n",
    "\n",
    "# check that lb2_dataset and the previous lb_dataset are equal\n",
    "assert lb2_dataset == lb_dataset"
   ]
  },
  {
   "cell_type": "markdown",
   "metadata": {},
   "source": [
    "We can also get only the apodization function"
   ]
  },
  {
   "cell_type": "code",
   "execution_count": 13,
   "metadata": {},
   "outputs": [
    {
     "data": {
      "application/vnd.jupyter.widget-view+json": {
       "model_id": "abf73246847240439d043d064d99f55f",
       "version_major": 2,
       "version_minor": 0
      },
      "text/plain": [
       "FigureCanvasNbAgg()"
      ]
     },
     "metadata": {},
     "output_type": "display_data"
    }
   ],
   "source": [
    "dataset1D = get_dataset1D()\n",
    "\n",
    "# create the apodized dataset \n",
    "# when apply is False, the apodization function is not applied to the dataset, \n",
    "# but returned as a new dataset\n",
    "apodfunc = dataset1D.em(lb=100.*ur.Hz, apply=False, inplace=False)*200\n",
    "lb_dataset = dataset1D.em(lb=100.*ur.Hz, apply=True, inplace=False)\n",
    "\n",
    "# plot the 3 datasets on the same figure \n",
    "dataset1D.plot() \n",
    "apodfunc.plot(color='r', clear=False)\n",
    "lb_dataset.plot(data_only=True, xlim=(0,25000), zlim=(-200,200), color='g', clear=False) \n",
    "\n",
    "_ = dataset1D.ax.text(12500,180,'Multiple display (original & em apodized fids + apod.function)', ha='center', fontsize=10)"
   ]
  },
  {
   "cell_type": "markdown",
   "metadata": {},
   "source": [
    "#### 6.1.4.2. available apodization functions"
   ]
  },
  {
   "cell_type": "markdown",
   "metadata": {},
   "source": [
    "##### em"
   ]
  },
  {
   "cell_type": "code",
   "execution_count": 14,
   "metadata": {},
   "outputs": [
    {
     "data": {
      "application/vnd.jupyter.widget-view+json": {
       "model_id": "8ad8d969df1e4f278913ad40a7b6638e",
       "version_major": 2,
       "version_minor": 0
      },
      "text/plain": [
       "FigureCanvasNbAgg()"
      ]
     },
     "metadata": {},
     "output_type": "display_data"
    }
   ],
   "source": [
    "# restore original\n",
    "dataset1D = get_dataset1D()[:10000.0]  # take a selection\n",
    "\n",
    "# normalize amplitude\n",
    "dataset1D /= dataset1D.max()\n",
    "\n",
    "# apodize\n",
    "LB = 100.*ur.Hz\n",
    "apodfunc = dataset1D.em(lb=LB, apply=False)\n",
    "lb_dataset = dataset1D.em(lb=LB, inplace=False) #  apply=True by default\n",
    "\n",
    "# Plot\n",
    "dataset1D.plot(lw=1, color='gray') \n",
    "apodfunc.plot(color='r', clear=False)\n",
    "lb_dataset.plot(color='r', ls='--', clear=False) \n",
    "\n",
    "# shifted\n",
    "apodfuncshifted = dataset1D.em(lb=LB, shifted=3000, apply=False)\n",
    "apodfuncshifted.plot(color='b', clear=False)\n",
    "lbshifted_dataset = dataset1D.em(lb=LB, shifted=3000, inplace=False) #  apply=True by default\n",
    "lbshifted_dataset.plot(xlim=(0,10000), ylim=(-1,1), color='b', ls='--', clear=False) \n",
    "\n",
    "# rev\n",
    "apodfuncrev = dataset1D.em(lb=LB, rev=True, apply=False)\n",
    "apodfuncrev.plot(color='g', clear=False)\n",
    "lbrev_dataset = dataset1D.em(lb=LB, rev=True, inplace=False) #  apply=True by default\n",
    "lbrev_dataset.plot(ylim=(-1,1), color='g', ls='--', clear=False) \n",
    "\n",
    "# inv\n",
    "apodfuncinv = dataset1D.em(lb=LB, inv=True, apply=False)\n",
    "apodfuncinv.plot(color='m', clear=False)\n",
    "lbinv_dataset = dataset1D.em(lb=LB, inv=True, inplace=False) #  apply=True by default\n",
    "_ = lbinv_dataset.plot(ylim=(-1.5,1.5), color='m', ls='--', clear=False) "
   ]
  },
  {
   "cell_type": "markdown",
   "metadata": {},
   "source": [
    "##### gm"
   ]
  },
  {
   "cell_type": "code",
   "execution_count": 15,
   "metadata": {},
   "outputs": [
    {
     "data": {
      "application/vnd.jupyter.widget-view+json": {
       "model_id": "5b5765ef9516454f9d0b227f37acfce4",
       "version_major": 2,
       "version_minor": 0
      },
      "text/plain": [
       "FigureCanvasNbAgg()"
      ]
     },
     "metadata": {},
     "output_type": "display_data"
    }
   ],
   "source": [
    "# restore original\n",
    "dataset1D = get_dataset1D() \n",
    "dataset1D /= dataset1D.max()\n",
    "\n",
    "# apodize\n",
    "LB = -100.*ur.Hz\n",
    "GB = 300.*ur.Hz\n",
    "apodfunc = dataset1D.gm(gb=GB, lb=LB, apply=False)\n",
    "gb_dataset = dataset1D.gm(gb=GB, lb=LB, inplace=False) #  apply=True by default\n",
    "\n",
    "# plot \n",
    "dataset1D.plot() \n",
    "apodfunc.plot(color='r', clear=False)\n",
    "_ = gb_dataset.plot(xlim=(0,25000), zlim=(-1.5,1.5), color='r', ls='--', clear=False) \n",
    "\n",
    "# shifted\n",
    "LB = 10.*ur.Hz\n",
    "GB = 300.*ur.Hz\n",
    "apodfuncsh = dataset1D.gm(gb=GB, lb=LB, shifted=2000, apply=False)\n",
    "gbsh_dataset = dataset1D.gm(gb=GB, lb=LB, shifted=2000, inplace=False) #  apply=True by default\n",
    "\n",
    "# plot \n",
    "apodfuncsh.plot(color='g', clear=False)\n",
    "_ = gbsh_dataset.plot(xlim=(0,25000), zlim=(-1.5,1.5), color='g', ls='--', clear=False) "
   ]
  },
  {
   "cell_type": "markdown",
   "metadata": {},
   "source": [
    "**TODO**: sp function"
   ]
  },
  {
   "cell_type": "code",
   "execution_count": 16,
   "metadata": {},
   "outputs": [
    {
     "data": {
      "application/vnd.jupyter.widget-view+json": {
       "model_id": "917a7c56290047e8bf2a765e618cbf95",
       "version_major": 2,
       "version_minor": 0
      },
      "text/plain": [
       "FigureCanvasNbAgg()"
      ]
     },
     "metadata": {},
     "output_type": "display_data"
    },
    {
     "data": {
      "text/plain": [
       "<matplotlib.axes._subplots.AxesSubplot at 0x1c1eb852b0>"
      ]
     },
     "execution_count": 16,
     "metadata": {},
     "output_type": "execute_result"
    }
   ],
   "source": [
    "# Plot\n",
    "dataset1D = get_dataset1D() # restore original\n",
    "# normalize amplitude\n",
    "dataset1D /= dataset1D.data.max()\n",
    "\n",
    "dataset1D.plot() \n",
    "\n",
    "#apodfunc = dataset1D.sp(off=0, end=10., pow=1.2, apply=False)\n",
    "\n",
    "#apodfunc.plot(color='r', clear=False)"
   ]
  },
  {
   "cell_type": "markdown",
   "metadata": {},
   "source": [
    "### Apodization of 2D data"
   ]
  },
  {
   "cell_type": "code",
   "execution_count": 17,
   "metadata": {},
   "outputs": [
    {
     "data": {
      "application/vnd.jupyter.widget-view+json": {
       "model_id": "217869b15a464cedaf4d1ca6670447ed",
       "version_major": 2,
       "version_minor": 0
      },
      "text/plain": [
       "FigureCanvasNbAgg()"
      ]
     },
     "metadata": {},
     "output_type": "display_data"
    },
    {
     "data": {
      "text/plain": [
       "<matplotlib.axes._subplots.AxesSubplot at 0x1c1ddc1f60>"
      ]
     },
     "execution_count": 17,
     "metadata": {},
     "output_type": "execute_result"
    }
   ],
   "source": [
    "dataset2D = get_dataset2D()\n",
    "dataset2D.plot_map(xlim=(0.,25000.))\n",
    "\n",
    "LB = 200.*ur.Hz\n",
    "dataset2D.em(lb=LB)\n",
    "dataset2D.em(lb=LB/2, axis=0)  \n",
    "dataset2D.plot_map(data_only=True, cmap='copper', clear=False)"
   ]
  },
  {
   "cell_type": "markdown",
   "metadata": {},
   "source": [
    "## Time-frequency transforms : FFT"
   ]
  },
  {
   "cell_type": "code",
   "execution_count": 18,
   "metadata": {},
   "outputs": [
    {
     "data": {
      "text/html": [
       "<table style='width:100%'>\n",
       "<tr style='border: 1px solid lightgray;'><td style='padding-right:5px; width:100px'><strong>Name/Id</strong></td><td style='text-align:left'>NDDataset_e10e0732</td><tr>\n",
       "<tr style='border: 1px solid lightgray;'><td style='padding-right:5px; width:100px'><strong>Author</strong></td><td style='text-align:left'>spectrocat@cf-macbookpro.local</td><tr>\n",
       "<tr style='border: 1px solid lightgray;'><td style='padding-right:5px; width:100px'><strong>Created</strong></td><td style='text-align:left'>2019-01-09 12:58:29.469456</td><tr>\n",
       "<tr style='border: 1px solid lightgray;'><td style='padding-right:5px; width:100px'><strong>Last Modified</strong></td><td style='text-align:left'>2019-01-09 12:58:29.520682</td><tr>\n",
       "<tr style='border: 1px solid lightgray;'><td style='padding-right:5px; width:100px'><strong>Description</strong></td><td style='text-align:left'></td><tr>\n",
       "<tr style='border: 1px solid lightgray;'><td style='padding-right:5px; width:100px'><strong>History</strong></td><td style='text-align:left'>2019-01-09 12:58:29.520079: em apodization performed: 10.0 hertz\n",
       "</td><tr>\n",
       "<tr style='border: 1px solid lightgray;'><td style='padding-right:5px; width:100px'><strong>data</strong></td><td style='text-align:left'><table style='width:100%'>\n",
       "<tr style='border: 1px solid lightgray;'><td style='padding-right:5px; width:100px'><strong>Title</strong></td><td style='text-align:left'>intensity</td><tr>\n",
       "<tr style='border: 1px solid lightgray;'><td style='padding-right:5px; width:100px'><strong>Size</strong></td><td style='text-align:left'>12411 (complex)</td><tr>\n",
       "<tr style='border: 1px solid lightgray;'><td style='padding-right:5px; width:100px'><strong>Values</strong></td><td style='text-align:left'>R[-1037.267 -2200.107 ...    0.013   -0.011]<br/>I[-1077.841 -2283.223 ...   -0.049    0.021]<br/</td><tr>\n",
       "</table>\n",
       "</td><tr>\n",
       "<tr style='border: 1px solid lightgray;'><td style='padding-right:5px; width:100px'><strong>y-coordinate</strong></td><td style='text-align:left'><table style='width:100%'>\n",
       "<tr style='border: 1px solid lightgray;'><td style='padding-right:5px; width:100px'><strong>Title</strong></td><td style='text-align:left'>Coord_e113a552</td><tr>\n",
       "<tr style='border: 1px solid lightgray;'><td style='padding-right:5px; width:100px'><strong>Data</strong></td><td style='text-align:left'>       0<br/</td><tr>\n",
       "</table>\n",
       "</td><tr>\n",
       "<tr style='border: 1px solid lightgray;'><td style='padding-right:5px; width:100px'><strong>x-coordinate</strong></td><td style='text-align:left'><table style='width:100%'>\n",
       "<tr style='border: 1px solid lightgray;'><td style='padding-right:5px; width:100px'><strong>Title</strong></td><td style='text-align:left'>Acquisition time</td><tr>\n",
       "<tr style='border: 1px solid lightgray;'><td style='padding-right:5px; width:100px'><strong>Data</strong></td><td style='text-align:left'>[   0.000    4.000 ... 49636.000 49640.000] us<br/</td><tr>\n",
       "</table>\n",
       "</td><tr>\n",
       "</table><br/>\n"
      ],
      "text/plain": [
       "NDDataset: [-1037.267-1077.841j, -2200.107-2283.223j, ...,    0.013-0.049j,   -0.011+0.021j] unitless"
      ]
     },
     "execution_count": 18,
     "metadata": {},
     "output_type": "execute_result"
    }
   ],
   "source": [
    "dataset1D = get_dataset1D() # restore original\n",
    "LB = 10.*ur.Hz\n",
    "dataset1D.em(lb=LB)\n",
    "#dataset1D.zf_auto(inplace=True)\n",
    "#transf1 = source1D.fft() # by defauut fft create a new dataset"
   ]
  },
  {
   "cell_type": "code",
   "execution_count": 19,
   "metadata": {},
   "outputs": [
    {
     "data": {
      "text/html": [
       "<table style='width:100%'>\n",
       "<tr style='border: 1px solid lightgray;'><td style='padding-right:5px; width:100px'><strong>Name/Id</strong></td><td style='text-align:left'>NDDataset_e12058b0</td><tr>\n",
       "<tr style='border: 1px solid lightgray;'><td style='padding-right:5px; width:100px'><strong>Author</strong></td><td style='text-align:left'>spectrocat@cf-macbookpro.local</td><tr>\n",
       "<tr style='border: 1px solid lightgray;'><td style='padding-right:5px; width:100px'><strong>Created</strong></td><td style='text-align:left'>2019-01-09 12:58:29.589523</td><tr>\n",
       "<tr style='border: 1px solid lightgray;'><td style='padding-right:5px; width:100px'><strong>Last Modified</strong></td><td style='text-align:left'>2019-01-09 12:58:29.647427</td><tr>\n",
       "<tr style='border: 1px solid lightgray;'><td style='padding-right:5px; width:100px'><strong>Description</strong></td><td style='text-align:left'></td><tr>\n",
       "<tr style='border: 1px solid lightgray;'><td style='padding-right:5px; width:100px'><strong>History</strong></td><td style='text-align:left'>2019-01-09 12:58:29.646566: em apodization performed: 10.0 hertz\n",
       "</td><tr>\n",
       "<tr style='border: 1px solid lightgray;'><td style='padding-right:5px; width:100px'><strong>data</strong></td><td style='text-align:left'><table style='width:100%'>\n",
       "<tr style='border: 1px solid lightgray;'><td style='padding-right:5px; width:100px'><strong>Title</strong></td><td style='text-align:left'>intensity</td><tr>\n",
       "<tr style='border: 1px solid lightgray;'><td style='padding-right:5px; width:100px'><strong>Size</strong></td><td style='text-align:left'>12411 (complex)</td><tr>\n",
       "<tr style='border: 1px solid lightgray;'><td style='padding-right:5px; width:100px'><strong>Values</strong></td><td style='text-align:left'>R[-1037.267 -2200.659 ...    0.000   -0.000]<br/>I[-1077.841 -2283.796 ...   -0.000    0.000]<br/</td><tr>\n",
       "</table>\n",
       "</td><tr>\n",
       "<tr style='border: 1px solid lightgray;'><td style='padding-right:5px; width:100px'><strong>y-coordinate</strong></td><td style='text-align:left'><table style='width:100%'>\n",
       "<tr style='border: 1px solid lightgray;'><td style='padding-right:5px; width:100px'><strong>Title</strong></td><td style='text-align:left'>Coord_e1256602</td><tr>\n",
       "<tr style='border: 1px solid lightgray;'><td style='padding-right:5px; width:100px'><strong>Data</strong></td><td style='text-align:left'>       0<br/</td><tr>\n",
       "</table>\n",
       "</td><tr>\n",
       "<tr style='border: 1px solid lightgray;'><td style='padding-right:5px; width:100px'><strong>x-coordinate</strong></td><td style='text-align:left'><table style='width:100%'>\n",
       "<tr style='border: 1px solid lightgray;'><td style='padding-right:5px; width:100px'><strong>Title</strong></td><td style='text-align:left'>Acquisition time</td><tr>\n",
       "<tr style='border: 1px solid lightgray;'><td style='padding-right:5px; width:100px'><strong>Data</strong></td><td style='text-align:left'>[   0.000    4.000 ... 49636.000 49640.000] us<br/</td><tr>\n",
       "</table>\n",
       "</td><tr>\n",
       "</table><br/>\n"
      ],
      "text/plain": [
       "NDDataset: [-1037.267-1077.841j, -2200.659-2283.796j, ...,    0.000-0.000j,   -0.000+0.000j] unitless"
      ]
     },
     "execution_count": 19,
     "metadata": {},
     "output_type": "execute_result"
    }
   ],
   "source": [
    "dataset1D = get_dataset1D() # restore original\n",
    "LB = 10.*ur.Hz\n",
    "GB = 50.*ur.Hz\n",
    "dataset1D.gm(gb=GB, lb=LB)\n",
    "#dataset1D.zf_auto()\n",
    "#transf2 = dataset1D.fft()"
   ]
  },
  {
   "cell_type": "markdown",
   "metadata": {},
   "source": [
    "As the new dataset is transformed, function that apply to time data such as **em** should not work"
   ]
  },
  {
   "cell_type": "code",
   "execution_count": 20,
   "metadata": {},
   "outputs": [],
   "source": [
    "#_ = transf1.em(lb=10*ur.Hz)"
   ]
  },
  {
   "cell_type": "code",
   "execution_count": null,
   "metadata": {},
   "outputs": [],
   "source": []
  }
 ],
 "metadata": {
  "kernelspec": {
   "display_name": "Python 3",
   "language": "python",
   "name": "python3"
  },
  "language_info": {
   "codemirror_mode": {
    "name": "ipython",
    "version": 3
   },
   "file_extension": ".py",
   "mimetype": "text/x-python",
   "name": "python",
   "nbconvert_exporter": "python",
   "pygments_lexer": "ipython3",
   "version": "3.7.1"
  },
  "latex_envs": {
   "LaTeX_envs_menu_present": true,
   "autocomplete": true,
   "bibliofile": "biblio.bib",
   "cite_by": "apalike",
   "current_citInitial": 1,
   "eqLabelWithNumbers": true,
   "eqNumInitial": 1,
   "hotkeys": {
    "equation": "Ctrl-E",
    "itemize": "Ctrl-I"
   },
   "labels_anchors": false,
   "latex_user_defs": false,
   "report_style_numbering": false,
   "user_envs_cfg": false
  },
  "toc": {
   "nav_menu": {},
   "number_sections": true,
   "sideBar": true,
   "skip_h1_title": true,
   "toc_cell": false,
   "toc_position": {},
   "toc_section_display": "block",
   "toc_window_display": false
  },
  "varInspector": {
   "cols": {
    "lenName": 16,
    "lenType": 16,
    "lenVar": 40
   },
   "kernels_config": {
    "python": {
     "delete_cmd_postfix": "",
     "delete_cmd_prefix": "del ",
     "library": "var_list.py",
     "varRefreshCmd": "print(var_dic_list())"
    },
    "r": {
     "delete_cmd_postfix": ") ",
     "delete_cmd_prefix": "rm(",
     "library": "var_list.r",
     "varRefreshCmd": "cat(var_dic_list()) "
    }
   },
   "types_to_exclude": [
    "module",
    "function",
    "builtin_function_or_method",
    "instance",
    "_Feature"
   ],
   "window_display": false
  },
  "widgets": {
   "state": {},
   "version": "1.1.1"
  }
 },
 "nbformat": 4,
 "nbformat_minor": 2
}
