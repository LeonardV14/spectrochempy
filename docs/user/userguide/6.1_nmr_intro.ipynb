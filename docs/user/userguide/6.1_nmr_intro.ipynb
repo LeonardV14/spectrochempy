{
 "cells": [
  {
   "cell_type": "markdown",
   "metadata": {},
   "source": [
    "# Introduction to NMR processing"
   ]
  },
  {
   "cell_type": "markdown",
   "metadata": {},
   "source": [
    "## Library Imports"
   ]
  },
  {
   "cell_type": "code",
   "execution_count": 1,
   "metadata": {},
   "outputs": [
    {
     "name": "stdout",
     "output_type": "stream",
     "text": [
      "SpectroChemPy's API - v.0.1a4.dev3+ga0ae3bee.d20190107\n",
      "© Copyright 2014-2019 - A.Travert & C.Fernandez @ LCS\n"
     ]
    }
   ],
   "source": [
    "from spectrochempy import *\n",
    "import os"
   ]
  },
  {
   "cell_type": "markdown",
   "metadata": {},
   "source": [
    "## Import data\n",
    "\n",
    "Here we import two dataset, one is 1D and the other is 2D\n",
    "\n",
    "Because , we will sometimes need to recall the original dataset, we create to getting functions"
   ]
  },
  {
   "cell_type": "code",
   "execution_count": 2,
   "metadata": {},
   "outputs": [],
   "source": [
    "# 1D dataset getting function \n",
    "def get_dataset1D():\n",
    "    dataset1D = NDDataset()\n",
    "    path = os.path.join(datadir.path, 'nmrdata','bruker', 'tests', 'nmr','bruker_1d')\n",
    "    dataset1D.read_bruker_nmr(path, expno=1, remove_digital_filter=True)\n",
    "    return dataset1D\n",
    "\n",
    "# 2D dataset getting function\n",
    "def get_dataset2D():\n",
    "    dataset2D = NDDataset()\n",
    "    path = os.path.join(datadir.path, 'nmrdata','bruker', 'tests', 'nmr','bruker_2d')\n",
    "    dataset2D.read_bruker_nmr(path, expno=1, remove_digital_filter=True)\n",
    "    return dataset2D"
   ]
  },
  {
   "cell_type": "code",
   "execution_count": 3,
   "metadata": {},
   "outputs": [
    {
     "ename": "TypeError",
     "evalue": "_str() got an unexpected keyword argument 'sep'",
     "output_type": "error",
     "traceback": [
      "\u001b[0;31m---------------------------------------------------------------------------\u001b[0m",
      "\u001b[0;31mTypeError\u001b[0m                                 Traceback (most recent call last)",
      "\u001b[0;32m~/miniconda3/envs/scp37/lib/python3.7/site-packages/IPython/core/formatters.py\u001b[0m in \u001b[0;36m__call__\u001b[0;34m(self, obj)\u001b[0m\n\u001b[1;32m    343\u001b[0m             \u001b[0mmethod\u001b[0m \u001b[0;34m=\u001b[0m \u001b[0mget_real_method\u001b[0m\u001b[0;34m(\u001b[0m\u001b[0mobj\u001b[0m\u001b[0;34m,\u001b[0m \u001b[0mself\u001b[0m\u001b[0;34m.\u001b[0m\u001b[0mprint_method\u001b[0m\u001b[0;34m)\u001b[0m\u001b[0;34m\u001b[0m\u001b[0;34m\u001b[0m\u001b[0m\n\u001b[1;32m    344\u001b[0m             \u001b[0;32mif\u001b[0m \u001b[0mmethod\u001b[0m \u001b[0;32mis\u001b[0m \u001b[0;32mnot\u001b[0m \u001b[0;32mNone\u001b[0m\u001b[0;34m:\u001b[0m\u001b[0;34m\u001b[0m\u001b[0;34m\u001b[0m\u001b[0m\n\u001b[0;32m--> 345\u001b[0;31m                 \u001b[0;32mreturn\u001b[0m \u001b[0mmethod\u001b[0m\u001b[0;34m(\u001b[0m\u001b[0;34m)\u001b[0m\u001b[0;34m\u001b[0m\u001b[0;34m\u001b[0m\u001b[0m\n\u001b[0m\u001b[1;32m    346\u001b[0m             \u001b[0;32mreturn\u001b[0m \u001b[0;32mNone\u001b[0m\u001b[0;34m\u001b[0m\u001b[0;34m\u001b[0m\u001b[0m\n\u001b[1;32m    347\u001b[0m         \u001b[0;32melse\u001b[0m\u001b[0;34m:\u001b[0m\u001b[0;34m\u001b[0m\u001b[0;34m\u001b[0m\u001b[0m\n",
      "\u001b[0;32m~/Dropbox/spectrochempy/spectrochempy/dataset/nddataset.py\u001b[0m in \u001b[0;36m_repr_html_\u001b[0;34m(self)\u001b[0m\n\u001b[1;32m    814\u001b[0m         \u001b[0mdata\u001b[0m \u001b[0;34m+=\u001b[0m \u001b[0mtr\u001b[0m\u001b[0;34m.\u001b[0m\u001b[0mformat\u001b[0m\u001b[0;34m(\u001b[0m\u001b[0msh\u001b[0m\u001b[0;34m,\u001b[0m \u001b[0msizetxt\u001b[0m\u001b[0;34m)\u001b[0m\u001b[0;34m\u001b[0m\u001b[0;34m\u001b[0m\u001b[0m\n\u001b[1;32m    815\u001b[0m \u001b[0;34m\u001b[0m\u001b[0m\n\u001b[0;32m--> 816\u001b[0;31m         \u001b[0mdata_str\u001b[0m \u001b[0;34m=\u001b[0m \u001b[0msuper\u001b[0m\u001b[0;34m(\u001b[0m\u001b[0mNDDataset\u001b[0m\u001b[0;34m,\u001b[0m \u001b[0mself\u001b[0m\u001b[0;34m)\u001b[0m\u001b[0;34m.\u001b[0m\u001b[0m_repr_html_\u001b[0m\u001b[0;34m(\u001b[0m\u001b[0;34m)\u001b[0m\u001b[0;34m\u001b[0m\u001b[0;34m\u001b[0m\u001b[0m\n\u001b[0m\u001b[1;32m    817\u001b[0m         \u001b[0mdata\u001b[0m \u001b[0;34m+=\u001b[0m \u001b[0mtr\u001b[0m\u001b[0;34m.\u001b[0m\u001b[0mformat\u001b[0m\u001b[0;34m(\u001b[0m\u001b[0;34m\"Values\"\u001b[0m\u001b[0;34m,\u001b[0m \u001b[0mdata_str\u001b[0m\u001b[0;34m)\u001b[0m\u001b[0;34m\u001b[0m\u001b[0;34m\u001b[0m\u001b[0m\n\u001b[1;32m    818\u001b[0m \u001b[0;34m\u001b[0m\u001b[0m\n",
      "\u001b[0;32m~/Dropbox/spectrochempy/spectrochempy/dataset/ndarray.py\u001b[0m in \u001b[0;36m_repr_html_\u001b[0;34m(self)\u001b[0m\n\u001b[1;32m   1933\u001b[0m         \u001b[0mufmt\u001b[0m \u001b[0;34m=\u001b[0m \u001b[0;34m' {:~H}'\u001b[0m\u001b[0;34m\u001b[0m\u001b[0;34m\u001b[0m\u001b[0m\n\u001b[1;32m   1934\u001b[0m \u001b[0;34m\u001b[0m\u001b[0m\n\u001b[0;32m-> 1935\u001b[0;31m         \u001b[0;32mreturn\u001b[0m \u001b[0mself\u001b[0m\u001b[0;34m.\u001b[0m\u001b[0m_str\u001b[0m\u001b[0;34m(\u001b[0m\u001b[0msep\u001b[0m\u001b[0;34m=\u001b[0m\u001b[0msep\u001b[0m\u001b[0;34m,\u001b[0m \u001b[0mufmt\u001b[0m\u001b[0;34m=\u001b[0m\u001b[0mufmt\u001b[0m\u001b[0;34m)\u001b[0m\u001b[0;34m\u001b[0m\u001b[0;34m\u001b[0m\u001b[0m\n\u001b[0m\u001b[1;32m   1936\u001b[0m \u001b[0;34m\u001b[0m\u001b[0m\n\u001b[1;32m   1937\u001b[0m     \u001b[0;31m# .........................................................................\u001b[0m\u001b[0;34m\u001b[0m\u001b[0;34m\u001b[0m\u001b[0;34m\u001b[0m\u001b[0m\n",
      "\u001b[0;31mTypeError\u001b[0m: _str() got an unexpected keyword argument 'sep'"
     ]
    },
    {
     "data": {
      "text/plain": [
       "NDDataset: [-1037.267-1077.841j, -2200.383-2283.510j, ...,    0.062-0.234j,   -0.053+0.101j] unitless"
      ]
     },
     "execution_count": 3,
     "metadata": {},
     "output_type": "execute_result"
    }
   ],
   "source": [
    "dataset1D = get_dataset1D()\n",
    "dataset1D # display info"
   ]
  },
  {
   "cell_type": "code",
   "execution_count": null,
   "metadata": {},
   "outputs": [],
   "source": [
    "dataset2D = get_dataset2D()\n",
    "dataset2D"
   ]
  },
  {
   "cell_type": "markdown",
   "metadata": {},
   "source": [
    "## Plot the 1D dataset raw data"
   ]
  },
  {
   "cell_type": "code",
   "execution_count": null,
   "metadata": {
    "scrolled": false
   },
   "outputs": [],
   "source": [
    "# plot the real data\n",
    "dataset1D.plot(xlim=(0,25000)) \n",
    "   \n",
    "# plot the imaginary data on the same plot\n",
    "dataset1D.plot(imag=True, data_only=True, clear=False)\n",
    "    # `clear=False`to plot on the previous plot\n",
    "    # `data_only=True` to plot only the additional data, without updating the figure setting \n",
    "    # such as xlim and so on."
   ]
  },
  {
   "cell_type": "markdown",
   "metadata": {},
   "source": [
    "To display the imaginary part, one can also simply use the show_complex commands."
   ]
  },
  {
   "cell_type": "code",
   "execution_count": null,
   "metadata": {},
   "outputs": [],
   "source": [
    "dataset1D.plot(show_complex=True, color='green',\n",
    "                xlim=(0.,20000.))"
   ]
  },
  {
   "cell_type": "markdown",
   "metadata": {},
   "source": [
    "## Plot the 2D dataset raw data"
   ]
  },
  {
   "cell_type": "code",
   "execution_count": null,
   "metadata": {},
   "outputs": [],
   "source": [
    "dataset2D = get_dataset2D()\n",
    "dataset2D.plot_map(xlim=(0.,25000.))"
   ]
  },
  {
   "cell_type": "markdown",
   "metadata": {},
   "source": [
    "probably less util, but multiple display is also possible"
   ]
  },
  {
   "cell_type": "code",
   "execution_count": null,
   "metadata": {},
   "outputs": [],
   "source": [
    "dataset2D.plot_map(xlim=(0.,6000.))\n",
    "dataset2D.T.plot_map(cmap='magma', xlim=(0.,6000.), data_only=True, clear=False)"
   ]
  },
  {
   "cell_type": "markdown",
   "metadata": {},
   "source": [
    "## Apodization"
   ]
  },
  {
   "cell_type": "code",
   "execution_count": null,
   "metadata": {},
   "outputs": [],
   "source": [
    "# Plot\n",
    "dataset1D = get_dataset1D() # restore original\n",
    "dataset1D.plot() \n",
    "\n",
    "# Create the apodized dataset\n",
    "lb_dataset = dataset1D.em(lb=100.*ur.Hz)\n",
    "\n",
    "lb_dataset.plot(xlim=(0,25000), zlim=(-100,100), color='r', clear=False)\n",
    "\n",
    "t = lb_dataset.ax.text(12500,90,'Dual display (original & apodized fids)', ha='center', fontsize=10)"
   ]
  },
  {
   "cell_type": "code",
   "execution_count": null,
   "metadata": {},
   "outputs": [],
   "source": [
    "# Plot\n",
    "dataset1D = get_dataset1D() # restore original\n",
    "\n",
    "# Create the apodized dataset\n",
    "lb_dataset = em(dataset1D, lb=100.*ur.Hz, inplace=False)\n",
    "\n",
    "dataset1D.plot() \n",
    "lb_dataset.plot(xlim=(0,25000), zlim=(-100,100), color='r', clear=False)\n",
    "t = lb_dataset.ax.text(12500,90,'Dual display (original & apodized fids)', ha='center', fontsize=10)"
   ]
  },
  {
   "cell_type": "markdown",
   "metadata": {},
   "source": [
    "Note that the apodized dataset actually replace the original data"
   ]
  },
  {
   "cell_type": "code",
   "execution_count": null,
   "metadata": {},
   "outputs": [],
   "source": [
    "# check that both dataset are the same\n",
    "lb_dataset is dataset1D  # note here, that the original data are modified by default \n",
    "                       # when applying apodization function. \n",
    "                       # Use the `inplace` keyword to modify this behavior"
   ]
  },
  {
   "cell_type": "markdown",
   "metadata": {},
   "source": [
    "If we want to avoid this behavior and create a new dataset instead, we use the `inplace` flag."
   ]
  },
  {
   "cell_type": "code",
   "execution_count": null,
   "metadata": {},
   "outputs": [],
   "source": [
    "dataset1D = get_dataset1D()\n",
    "\n",
    "lb2_dataset = dataset1D.em(lb=100.*ur.Hz, inplace=False)\n",
    "\n",
    "# check that both dataset are different\n",
    "lb2_dataset is not dataset1D"
   ]
  },
  {
   "cell_type": "markdown",
   "metadata": {},
   "source": [
    "We can also get only the apodization function"
   ]
  },
  {
   "cell_type": "code",
   "execution_count": null,
   "metadata": {},
   "outputs": [],
   "source": [
    "# Plot\n",
    "dataset1D = get_dataset1D() # restore original\n",
    "dataset1D.plot() \n",
    "\n",
    "# create the apodized dataset (if apply is False, the apodization function is not applied to the dataset, \n",
    "# but returned)\n",
    "apodfunc = dataset1D.em(lb=100.*ur.Hz, apply=False)*200\n",
    "\n",
    "apodfunc.plot(color='r', clear=False)\n",
    "\n",
    "dataset1D.em(lb=100.*ur.Hz, apply=True)\n",
    "dataset1D.plot(data_only=True, xlim=(0,25000), zlim=(-200,200), color='g', clear=False) \n",
    "\n",
    "t = dataset1D.ax.text(12500,180,'Multiple display (original & em apodized fids + apod.function)', ha='center', fontsize=10)"
   ]
  },
  {
   "cell_type": "markdown",
   "metadata": {},
   "source": [
    "Apodization function can be em, gm, sp ..."
   ]
  },
  {
   "cell_type": "code",
   "execution_count": null,
   "metadata": {},
   "outputs": [],
   "source": [
    "# Plot\n",
    "dataset1D = get_dataset1D() # restore original\n",
    "# normalize amplitude\n",
    "dataset1D /= dataset1D.data.max()\n",
    "\n",
    "dataset1D.plot() \n",
    "\n",
    "LB = 100.*ur.Hz\n",
    "GB = 300.*ur.Hz\n",
    "apodfunc = dataset1D.gm(gb=GB, lb=LB, apply=False)\n",
    "\n",
    "apodfunc.plot(color='r', clear=False)\n",
    "\n",
    "dataset1D.gm(gb=GB, lb=LB) #  apply=True by default\n",
    "\n",
    "dataset1D.plot(xlim=(0,25000), zlim=(-1,1), color='g', clear=False) \n",
    "\n",
    "t = dataset1D.ax.text(12500,.70,'Multiple display (original & gm apodized fids + apod.function)', ha='center', fontsize=10)"
   ]
  },
  {
   "cell_type": "markdown",
   "metadata": {},
   "source": [
    "**TODO**: sp function"
   ]
  },
  {
   "cell_type": "code",
   "execution_count": null,
   "metadata": {},
   "outputs": [],
   "source": [
    "# Plot\n",
    "dataset1D = get_dataset1D() # restore original\n",
    "# normalize amplitude\n",
    "dataset1D /= dataset1D.data.max()\n",
    "\n",
    "dataset1D.plot() \n",
    "\n",
    "apodfunc = dataset1D.sp(off=0, end=10., pow=1.2, apply=False)\n",
    "\n",
    "apodfunc.plot(color='r', clear=False)"
   ]
  },
  {
   "cell_type": "markdown",
   "metadata": {},
   "source": [
    "### Apodization of 2D data"
   ]
  },
  {
   "cell_type": "code",
   "execution_count": null,
   "metadata": {},
   "outputs": [],
   "source": [
    "dataset2D = get_dataset2D()\n",
    "dataset2D.plot_map(xlim=(0.,25000.))\n",
    "\n",
    "LB = 200.*ur.Hz\n",
    "dataset2D.em(lb=LB)\n",
    "dataset2D.em(lb=LB/2, axis=0)  \n",
    "dataset2D.plot_map(data_only=True, cmap='copper', clear=False)"
   ]
  },
  {
   "cell_type": "markdown",
   "metadata": {},
   "source": [
    "## Time-frequency transforms : FFT"
   ]
  },
  {
   "cell_type": "code",
   "execution_count": null,
   "metadata": {},
   "outputs": [],
   "source": [
    "dataset1D = get_dataset1D() # restore original\n",
    "LB = 10.*ur.Hz\n",
    "dataset1D.em(lb=LB)\n",
    "#dataset1D.zf_auto(inplace=True)\n",
    "#transf1 = source1D.fft() # by defauut fft create a new dataset"
   ]
  },
  {
   "cell_type": "code",
   "execution_count": null,
   "metadata": {},
   "outputs": [],
   "source": [
    "dataset1D = get_dataset1D() # restore original\n",
    "LB = 10.*ur.Hz\n",
    "GB = 50.*ur.Hz\n",
    "dataset1D.gm(gb=GB, lb=LB)\n",
    "#dataset1D.zf_auto()\n",
    "#transf2 = dataset1D.fft()"
   ]
  },
  {
   "cell_type": "markdown",
   "metadata": {},
   "source": [
    "As the new dataset is transformed, function that apply to time data such as **em** should not work"
   ]
  },
  {
   "cell_type": "code",
   "execution_count": null,
   "metadata": {},
   "outputs": [],
   "source": [
    "#_ = transf1.em(lb=10*ur.Hz)"
   ]
  }
 ],
 "metadata": {
  "kernelspec": {
   "display_name": "Python 3",
   "language": "python",
   "name": "python3"
  },
  "language_info": {
   "codemirror_mode": {
    "name": "ipython",
    "version": 3
   },
   "file_extension": ".py",
   "mimetype": "text/x-python",
   "name": "python",
   "nbconvert_exporter": "python",
   "pygments_lexer": "ipython3",
   "version": "3.7.1"
  },
  "latex_envs": {
   "LaTeX_envs_menu_present": true,
   "autocomplete": true,
   "bibliofile": "biblio.bib",
   "cite_by": "apalike",
   "current_citInitial": 1,
   "eqLabelWithNumbers": true,
   "eqNumInitial": 1,
   "hotkeys": {
    "equation": "Ctrl-E",
    "itemize": "Ctrl-I"
   },
   "labels_anchors": false,
   "latex_user_defs": false,
   "report_style_numbering": false,
   "user_envs_cfg": false
  },
  "toc": {
   "nav_menu": {},
   "number_sections": true,
   "sideBar": true,
   "skip_h1_title": true,
   "toc_cell": false,
   "toc_position": {},
   "toc_section_display": "block",
   "toc_window_display": false
  },
  "varInspector": {
   "cols": {
    "lenName": 16,
    "lenType": 16,
    "lenVar": 40
   },
   "kernels_config": {
    "python": {
     "delete_cmd_postfix": "",
     "delete_cmd_prefix": "del ",
     "library": "var_list.py",
     "varRefreshCmd": "print(var_dic_list())"
    },
    "r": {
     "delete_cmd_postfix": ") ",
     "delete_cmd_prefix": "rm(",
     "library": "var_list.r",
     "varRefreshCmd": "cat(var_dic_list()) "
    }
   },
   "types_to_exclude": [
    "module",
    "function",
    "builtin_function_or_method",
    "instance",
    "_Feature"
   ],
   "window_display": false
  },
  "widgets": {
   "state": {},
   "version": "1.1.1"
  }
 },
 "nbformat": 4,
 "nbformat_minor": 2
}
