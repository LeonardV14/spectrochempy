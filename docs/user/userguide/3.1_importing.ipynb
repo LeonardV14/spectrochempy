{
 "cells": [
  {
   "cell_type": "markdown",
   "metadata": {},
   "source": [
    "# Import and export of NDDataset objects"
   ]
  },
  {
   "cell_type": "markdown",
   "metadata": {},
   "source": [
    "As usual we start by importing the SpectroChemPy API"
   ]
  },
  {
   "cell_type": "code",
   "execution_count": 1,
   "metadata": {},
   "outputs": [
    {
     "name": "stdout",
     "output_type": "stream",
     "text": [
      "SpectroChemPy's API - v.0.1a7.dev0+g9d02aecf.d20190113\n",
      "© Copyright 2014-2019 - A.Travert & C.Fernandez @ LCS\n"
     ]
    }
   ],
   "source": [
    "from spectrochempy import *"
   ]
  },
  {
   "cell_type": "markdown",
   "metadata": {},
   "source": [
    "### Data directory\n",
    "\n",
    "The builtin **datadir** variable contains a path to our *test*'s data.\n",
    "\n",
    "However it is always possible to specify alternative locations: Any existing file path can be specified in import\n",
    "functions calls.\n",
    "\n",
    "<div class='alert alert-info'>**NOTE:**\n",
    "In import function calls, if we do not specify the **datadir**, the application will first look in this directory by default, if it doesn't find the path in the current directory.\n",
    "</div>"
   ]
  },
  {
   "cell_type": "code",
   "execution_count": 7,
   "metadata": {},
   "outputs": [],
   "source": [
    "# let check if the `datadir` directory exists\n",
    "import os\n",
    "datadir = general_preferences.datadir\n",
    "if os.path.exists(datadir):\n",
    "    assert datadir.endswith(\"/spectrochempy/scp_data/testdata\")"
   ]
  },
  {
   "cell_type": "markdown",
   "metadata": {},
   "source": [
    "##  Infrared spectroscopy OMNIC file Import (.spg extension)\n"
   ]
  },
  {
   "cell_type": "code",
   "execution_count": 8,
   "metadata": {},
   "outputs": [
    {
     "data": {
      "text/html": [
       "<table style='width:100%'>\n",
       "<tr style='border: 1px solid lightgray;'><td style='padding-right:5px; width:100px'><strong>Name/Id</strong></td><td style='text-align:left'>NH4Y-activation.SPG</td><tr>\n",
       "<tr style='border: 1px solid lightgray;'><td style='padding-right:5px; width:100px'><strong>Author</strong></td><td style='text-align:left'>spectrocat@cf-macbookpro.local</td><tr>\n",
       "<tr style='border: 1px solid lightgray;'><td style='padding-right:5px; width:100px'><strong>Created</strong></td><td style='text-align:left'>2019-01-13 21:13:54.336874</td><tr>\n",
       "<tr style='border: 1px solid lightgray;'><td style='padding-right:5px; width:100px'><strong>Last Modified</strong></td><td style='text-align:left'>2019-01-13 21:13:54.340340</td><tr>\n",
       "<tr style='border: 1px solid lightgray;'><td style='padding-right:5px; width:100px'><strong>Description</strong></td><td style='text-align:left'>Dataset from spg file : NH4Y-activation.SPG <br/>History of the 1st spectrum: vz0521.spa, Thu Jul 07 06:10:41 2016 (GMT+02:00)</td><tr>\n",
       "<tr style='border: 1px solid lightgray;'><td style='padding-right:5px; width:100px'><strong>History</strong></td><td style='text-align:left'>2019-01-13 21:13:54.333307:read from spg file \n",
       "<br/>sorted</td><tr>\n",
       "<tr style='border: 1px solid lightgray;'><td style='padding-right:5px; width:100px'><strong>data</strong></td><td style='text-align:left'><table style='width:100%'>\n",
       "<tr style='border: 1px solid lightgray;'><td style='padding-right:5px; width:100px'><strong>Title</strong></td><td style='text-align:left'>Absorbance</td><tr>\n",
       "<tr style='border: 1px solid lightgray;'><td style='padding-right:5px; width:100px'><strong>Shape</strong></td><td style='text-align:left'>55 x 5549</td><tr>\n",
       "<tr style='border: 1px solid lightgray;'><td style='padding-right:5px; width:100px'><strong>Values</strong></td><td style='text-align:left'>[[   2.057    2.061 ...    2.013    2.012]<br/> [   2.033    2.037 ...    1.913    1.911]<br/> ...<br/> [   1.794    1.791 ...    1.198    1.198]<br/> [   1.816    1.815 ...    1.240    1.238]] a.u.<br/</td><tr>\n",
       "</table>\n",
       "</td><tr>\n",
       "<tr style='border: 1px solid lightgray;'><td style='padding-right:5px; width:100px'><strong>y-coordinate</strong></td><td style='text-align:left'><table style='width:100%'>\n",
       "<tr style='border: 1px solid lightgray;'><td style='padding-right:5px; width:100px'><strong>Title</strong></td><td style='text-align:left'>Acquisition timestamp (gmt)</td><tr>\n",
       "<tr style='border: 1px solid lightgray;'><td style='padding-right:5px; width:100px'><strong>Data</strong></td><td style='text-align:left'>[1467831794.000 1467832394.000 ... 1467864197.000 1467864797.000] s<br/</td><tr>\n",
       "<tr style='border: 1px solid lightgray;'><td style='padding-right:5px; width:100px'><strong>Labels</strong></td><td style='text-align:left'>[[2016-07-06 19:03:14+00:00 2016-07-06 19:13:14+00:00 ... 2016-07-07 04:03:17+00:00 2016-07-07 04:13:17+00:00]\n",
       " [vz0466.spa, Wed Jul 06 21:00:38 2016 (GMT+02:00) vz0467.spa, Wed Jul 06 21:10:38 2016 (GMT+02:00) ...\n",
       "  vz0520.spa, Thu Jul 07 06:00:41 2016 (GMT+02:00) vz0521.spa, Thu Jul 07 06:10:41 2016 (GMT+02:00)]]</td><tr>\n",
       "</table>\n",
       "</td><tr>\n",
       "<tr style='border: 1px solid lightgray;'><td style='padding-right:5px; width:100px'><strong>x-coordinate</strong></td><td style='text-align:left'><table style='width:100%'>\n",
       "<tr style='border: 1px solid lightgray;'><td style='padding-right:5px; width:100px'><strong>Title</strong></td><td style='text-align:left'>Wavenumbers</td><tr>\n",
       "<tr style='border: 1px solid lightgray;'><td style='padding-right:5px; width:100px'><strong>Data</strong></td><td style='text-align:left'>[5999.556 5998.591 ...  650.868  649.904] cm<sup>-1</sup><br/</td><tr>\n",
       "</table>\n",
       "</td><tr>\n",
       "</table><br/>\n"
      ],
      "text/plain": [
       "NDDataset: [[   2.057,    2.061, ...,    2.013,    2.012],\n",
       "            [   2.033,    2.037, ...,    1.913,    1.911],\n",
       "            ...,\n",
       "            [   1.794,    1.791, ...,    1.198,    1.198],\n",
       "            [   1.816,    1.815, ...,    1.240,    1.238]] a.u."
      ]
     },
     "execution_count": 8,
     "metadata": {},
     "output_type": "execute_result"
    }
   ],
   "source": [
    "dataset = NDDataset.read_omnic(os.path.join('irdata', 'NH4Y-activation.SPG'))\n",
    "dataset"
   ]
  },
  {
   "cell_type": "code",
   "execution_count": 9,
   "metadata": {},
   "outputs": [
    {
     "data": {
      "application/vnd.jupyter.widget-view+json": {
       "model_id": "9c576af5aa7b47ce9c91d28f0b7b7e74",
       "version_major": 2,
       "version_minor": 0
      },
      "text/plain": [
       "FigureCanvasNbAgg()"
      ]
     },
     "metadata": {},
     "output_type": "display_data"
    }
   ],
   "source": [
    "# view it...\n",
    "_ = dataset.plot(method='stack')"
   ]
  },
  {
   "cell_type": "markdown",
   "metadata": {},
   "source": [
    "\n",
    "## NMR Bruker data Import"
   ]
  },
  {
   "cell_type": "markdown",
   "metadata": {},
   "source": [
    "Now, lets load a NMR dataset (in the Bruker format)."
   ]
  },
  {
   "cell_type": "code",
   "execution_count": 10,
   "metadata": {},
   "outputs": [
    {
     "data": {
      "text/html": [
       "<table style='width:100%'>\n",
       "<tr style='border: 1px solid lightgray;'><td style='padding-right:5px; width:100px'><strong>Name/Id</strong></td><td style='text-align:left'>NDDataset_c8d9f1a4</td><tr>\n",
       "<tr style='border: 1px solid lightgray;'><td style='padding-right:5px; width:100px'><strong>Author</strong></td><td style='text-align:left'>spectrocat@cf-macbookpro.local</td><tr>\n",
       "<tr style='border: 1px solid lightgray;'><td style='padding-right:5px; width:100px'><strong>Created</strong></td><td style='text-align:left'>2019-01-13 21:14:09.004446</td><tr>\n",
       "<tr style='border: 1px solid lightgray;'><td style='padding-right:5px; width:100px'><strong>Last Modified</strong></td><td style='text-align:left'>2019-01-13 21:14:09.042744</td><tr>\n",
       "<tr style='border: 1px solid lightgray;'><td style='padding-right:5px; width:100px'><strong>Description</strong></td><td style='text-align:left'></td><tr>\n",
       "<tr style='border: 1px solid lightgray;'><td style='padding-right:5px; width:100px'><strong>data</strong></td><td style='text-align:left'><table style='width:100%'>\n",
       "<tr style='border: 1px solid lightgray;'><td style='padding-right:5px; width:100px'><strong>Title</strong></td><td style='text-align:left'>intensity</td><tr>\n",
       "<tr style='border: 1px solid lightgray;'><td style='padding-right:5px; width:100px'><strong>Size</strong></td><td style='text-align:left'>12411 (complex)</td><tr>\n",
       "<tr style='border: 1px solid lightgray;'><td style='padding-right:5px; width:100px'><strong>Values</strong></td><td style='text-align:left'>R[-1037.267 -2200.383 ...    0.062   -0.053]<br/>I[-1077.841 -2283.510 ...   -0.234    0.101]<br/</td><tr>\n",
       "</table>\n",
       "</td><tr>\n",
       "<tr style='border: 1px solid lightgray;'><td style='padding-right:5px; width:100px'><strong>x-coordinate</strong></td><td style='text-align:left'><table style='width:100%'>\n",
       "<tr style='border: 1px solid lightgray;'><td style='padding-right:5px; width:100px'><strong>Title</strong></td><td style='text-align:left'>Acquisition time</td><tr>\n",
       "<tr style='border: 1px solid lightgray;'><td style='padding-right:5px; width:100px'><strong>Data</strong></td><td style='text-align:left'>[   0.000    4.000 ... 49636.000 49640.000] us<br/</td><tr>\n",
       "</table>\n",
       "</td><tr>\n",
       "</table><br/>\n"
      ],
      "text/plain": [
       "NDDataset: [-1037.267-1077.841j, -2200.383-2283.510j, ...,    0.062-0.234j,   -0.053+0.101j] unitless"
      ]
     },
     "execution_count": 10,
     "metadata": {},
     "output_type": "execute_result"
    }
   ],
   "source": [
    "path = os.path.join(datadir, 'nmrdata','bruker', 'tests', 'nmr','bruker_1d')\n",
    "ndd = NDDataset.read_bruker_nmr(path, expno=1, remove_digital_filter=True)\n",
    "ndd"
   ]
  },
  {
   "cell_type": "code",
   "execution_count": 11,
   "metadata": {},
   "outputs": [
    {
     "data": {
      "application/vnd.jupyter.widget-view+json": {
       "model_id": "7f8500d15bda4741b496f2cea872287d",
       "version_major": 2,
       "version_minor": 0
      },
      "text/plain": [
       "FigureCanvasNbAgg()"
      ]
     },
     "metadata": {},
     "output_type": "display_data"
    }
   ],
   "source": [
    "# view it...\n",
    "_ = ndd.plot(color='blue')"
   ]
  }
 ],
 "metadata": {
  "kernelspec": {
   "display_name": "Python 3",
   "language": "python",
   "name": "python3"
  },
  "language_info": {
   "codemirror_mode": {
    "name": "ipython",
    "version": 3
   },
   "file_extension": ".py",
   "mimetype": "text/x-python",
   "name": "python",
   "nbconvert_exporter": "python",
   "pygments_lexer": "ipython3",
   "version": "3.6.8"
  },
  "latex_envs": {
   "LaTeX_envs_menu_present": true,
   "autocomplete": true,
   "bibliofile": "biblio.bib",
   "cite_by": "apalike",
   "current_citInitial": 1,
   "eqLabelWithNumbers": true,
   "eqNumInitial": 1,
   "hotkeys": {
    "equation": "Ctrl-E",
    "itemize": "Ctrl-I"
   },
   "labels_anchors": false,
   "latex_user_defs": false,
   "report_style_numbering": false,
   "user_envs_cfg": false
  },
  "toc": {
   "nav_menu": {},
   "number_sections": true,
   "sideBar": true,
   "skip_h1_title": true,
   "toc_cell": true,
   "toc_position": {},
   "toc_section_display": "block",
   "toc_window_display": false
  },
  "varInspector": {
   "cols": {
    "lenName": 16,
    "lenType": 16,
    "lenVar": 40
   },
   "kernels_config": {
    "python": {
     "delete_cmd_postfix": "",
     "delete_cmd_prefix": "del ",
     "library": "var_list.py",
     "varRefreshCmd": "print(var_dic_list())"
    },
    "r": {
     "delete_cmd_postfix": ") ",
     "delete_cmd_prefix": "rm(",
     "library": "var_list.r",
     "varRefreshCmd": "cat(var_dic_list()) "
    }
   },
   "types_to_exclude": [
    "module",
    "function",
    "builtin_function_or_method",
    "instance",
    "_Feature"
   ],
   "window_display": false
  }
 },
 "nbformat": 4,
 "nbformat_minor": 2
}
