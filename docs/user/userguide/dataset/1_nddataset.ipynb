{
 "cells": [
  {
   "cell_type": "markdown",
   "metadata": {},
   "source": [
    "# The NDDataset object"
   ]
  },
  {
   "cell_type": "markdown",
   "metadata": {},
   "source": [
    "The NDDataset is the main object use by **SpectroChemPy**. \n",
    "\n",
    "Like numpy ndarrays, NDDataset have the capability to be sliced, sorted and subject to matematical operations. \n",
    "\n",
    "But, in addition, NDDataset may have units, can be masked and each dimensions can have coordinates also with units. This make NDDataset aware of unit compatibility, *e.g.*, for binary operation such as addtions or subtraction or during the application of mathematical operations. In addition or in replacement of numerical data for coordinates, NDDatset can also have labeled coordinates where labels can be different kind of objects (strings, datetime, numpy nd.ndarray or othe NDDatasets, etc...). \n",
    "\n",
    "This offers a lot of flexibility in using NDDatasets that,  we hope, will be useful for applications. See the **Tutorials** for more information about such possible applications. \n",
    "\n",
    "**SpectroChemPy** provides another kind of data structure, aggregating several datasets: **NDPanel**: See "
   ]
  },
  {
   "cell_type": "markdown",
   "metadata": {},
   "source": [
    "**Below (and in the next sections), we try to give an almost complete view of the NDDataset features.**"
   ]
  },
  {
   "cell_type": "code",
   "execution_count": null,
   "metadata": {},
   "outputs": [],
   "source": [
    "from spectrochempy import *"
   ]
  },
  {
   "cell_type": "markdown",
   "metadata": {},
   "source": [
    "Multidimensional array are defined in Spectrochempy using the ``NDDataset`` object.\n",
    "\n",
    "``NDDataset`` objects mostly behave as numpy's `numpy.ndarray`.\n",
    "\n",
    "However, unlike raw numpy's ndarray, the presence of optional properties make them (hopefully) more appropriate for handling spectroscopic information, one of the major objectives of the SpectroChemPy package:\n",
    "\n",
    "* **mask**, \n",
    "* **units**, \n",
    "* and **coords**.\n",
    "\n",
    "Additional metadata can also be added to the instances of this class through the `meta` properties."
   ]
  },
  {
   "cell_type": "markdown",
   "metadata": {},
   "source": [
    "## Create a ND-Dataset from scratch"
   ]
  },
  {
   "cell_type": "markdown",
   "metadata": {},
   "source": [
    "### 1D-Dataset (unidimensional dataset)"
   ]
  },
  {
   "cell_type": "markdown",
   "metadata": {},
   "source": [
    "In the following example, a minimal 1D dataset is created from a simple list, to which we can add some metadata:"
   ]
  },
  {
   "cell_type": "code",
   "execution_count": null,
   "metadata": {
    "lines_to_next_cell": 2
   },
   "outputs": [],
   "source": [
    "d1D = NDDataset([10., 20., 30.])\n",
    "print_(d1D)"
   ]
  },
  {
   "cell_type": "markdown",
   "metadata": {},
   "source": [
    "<div class='alert-info'>\n",
    "\n",
    "**Note** : In the above code, we use of `print_` (with an underscore) not the usual `print` function. \n",
    "The `print` output only a short line of information\n",
    "\n",
    "</div>"
   ]
  },
  {
   "cell_type": "code",
   "execution_count": null,
   "metadata": {},
   "outputs": [],
   "source": [
    "print(d1D)"
   ]
  },
  {
   "cell_type": "markdown",
   "metadata": {},
   "source": [
    "To get a rich display of the dataset, we can simply type on the last line of the cell: This output a html version of the information string."
   ]
  },
  {
   "cell_type": "code",
   "execution_count": null,
   "metadata": {},
   "outputs": [],
   "source": [
    "d1D"
   ]
  },
  {
   "cell_type": "markdown",
   "metadata": {},
   "source": [
    "Except few addtional metadata such `author`, `created` ..., there is not much\n",
    "differences with respect to a conventional `numpy.ndarray`. For example, one\n",
    "can apply numpy ufunc's directly to a NDDataset or make basic arithmetic\n",
    "operation with these objects:"
   ]
  },
  {
   "cell_type": "code",
   "execution_count": null,
   "metadata": {},
   "outputs": [],
   "source": [
    "np.sqrt(d1D ** 3)"
   ]
  },
  {
   "cell_type": "code",
   "execution_count": null,
   "metadata": {},
   "outputs": [],
   "source": [
    "d1D + d1D / 2."
   ]
  },
  {
   "cell_type": "markdown",
   "metadata": {},
   "source": [
    "As seen above, there is some metadata taht are automatically added to the dataset:\n",
    "\n",
    "* **`id`**      : This is a unique identifier for the object\n",
    "* **`author`**  : author determined from the computer name\n",
    "* **`created`** : date/time of creation\n",
    "* **`modified`**: date/time of modification\n",
    "\n",
    "additionaly, dataset can have a **`name`** (equal to the `id` if it is not provided)\n",
    "\n",
    "Some other metadata are defined:\n",
    "\n",
    "* **`history`** : history of operation achieved on the object since the object creation\n",
    "* **`description`** : A user friendly description of the objects purpose or contents.\n",
    "* **`title`** : A title that will be used in plots or in some other operation on the objects.\n",
    "\n",
    "\n",
    "All this metadata (except, the `id`, `created`, `modified`) can be changed by the user.\n",
    "\n",
    "For instance:"
   ]
  },
  {
   "cell_type": "code",
   "execution_count": null,
   "metadata": {},
   "outputs": [],
   "source": [
    "d1D.title = 'intensity'\n",
    "d1D.name = 'mydataset'\n",
    "d1D.history = 'created from scratch'\n",
    "d1D.description = 'Some experimental measurements'\n",
    "d1D"
   ]
  },
  {
   "cell_type": "markdown",
   "metadata": {},
   "source": [
    "d1D is a 1D (1-dimensional) dataset with only one dimension. \n",
    "\n",
    "Some attributes are useful to check this kind of information:"
   ]
  },
  {
   "cell_type": "code",
   "execution_count": null,
   "metadata": {},
   "outputs": [],
   "source": [
    "d1D.shape # the shape of 1D contain only one dimension size"
   ]
  },
  {
   "cell_type": "code",
   "execution_count": null,
   "metadata": {},
   "outputs": [],
   "source": [
    "d1D.ndim # the number of dimensions"
   ]
  },
  {
   "cell_type": "code",
   "execution_count": null,
   "metadata": {},
   "outputs": [],
   "source": [
    "d1D.dims # the name of the dimension (it has been automatically attributed)"
   ]
  },
  {
   "cell_type": "markdown",
   "metadata": {},
   "source": [
    "**Note** : The names of the dimensions are set automatically. But they can be changed, with the limitation that the name must be a single letter."
   ]
  },
  {
   "cell_type": "code",
   "execution_count": null,
   "metadata": {},
   "outputs": [],
   "source": [
    "d1D.dims = ['q']  # change the list of dim names."
   ]
  },
  {
   "cell_type": "code",
   "execution_count": null,
   "metadata": {},
   "outputs": [],
   "source": [
    "d1D.dims"
   ]
  },
  {
   "cell_type": "markdown",
   "metadata": {},
   "source": [
    "### nD-Dataset (multidimensional dataset)"
   ]
  },
  {
   "cell_type": "markdown",
   "metadata": {},
   "source": [
    "To create a nD NDDataset, we have to provide a nD-array like object to the NDDataset instance constructor"
   ]
  },
  {
   "cell_type": "code",
   "execution_count": null,
   "metadata": {},
   "outputs": [],
   "source": [
    "a = np.random.rand(2,4,6) # note here that np (for numpy space has been automatically \n",
    "                            # imported with spectrochempy, thus no need to use the \n",
    "                            # classical `import numpy as np`)\n",
    "a"
   ]
  },
  {
   "cell_type": "code",
   "execution_count": null,
   "metadata": {},
   "outputs": [],
   "source": [
    "d2D = NDDataset(a)\n",
    "d2D.title = 'Energy'\n",
    "d2D.name = '3D dataset creation'\n",
    "d2D.history = 'created from scratch'\n",
    "d2D.description = 'Some example'\n",
    "d2D.dims = ['v','u','t']\n",
    "d2D"
   ]
  },
  {
   "cell_type": "markdown",
   "metadata": {},
   "source": [
    "We can also add all information in a single statement"
   ]
  },
  {
   "cell_type": "code",
   "execution_count": null,
   "metadata": {},
   "outputs": [],
   "source": [
    "d2D = NDDataset(a, dims = ['v','u','t'], title = 'Energy', name = '3D_dataset', \n",
    "                history = 'created from scratch', description = 'a single line creation example')\n",
    "d2D"
   ]
  },
  {
   "cell_type": "markdown",
   "metadata": {},
   "source": [
    "Three names are attributed at the creation (if they are not provided with the `dims` attribute, then the name are : 'z','y','x' automatically attributed)"
   ]
  },
  {
   "cell_type": "code",
   "execution_count": null,
   "metadata": {},
   "outputs": [],
   "source": [
    "d2D.dims "
   ]
  },
  {
   "cell_type": "code",
   "execution_count": null,
   "metadata": {},
   "outputs": [],
   "source": [
    "d2D.ndim"
   ]
  },
  {
   "cell_type": "code",
   "execution_count": null,
   "metadata": {},
   "outputs": [],
   "source": [
    "d2D.shape"
   ]
  },
  {
   "cell_type": "markdown",
   "metadata": {},
   "source": [
    "### Units"
   ]
  },
  {
   "cell_type": "markdown",
   "metadata": {},
   "source": [
    "One interesting possibility for a NDDataset is to have defined units for the internal data."
   ]
  },
  {
   "cell_type": "code",
   "execution_count": null,
   "metadata": {},
   "outputs": [],
   "source": [
    "d1D.units = 'eV'"
   ]
  },
  {
   "cell_type": "code",
   "execution_count": null,
   "metadata": {},
   "outputs": [],
   "source": [
    "d1D  # note the eV symbol of the units added to the values field below"
   ]
  },
  {
   "cell_type": "markdown",
   "metadata": {},
   "source": [
    "This allows to make units-aware calculations:"
   ]
  },
  {
   "cell_type": "code",
   "execution_count": null,
   "metadata": {},
   "outputs": [],
   "source": [
    "np.sqrt(d1D) # note the results en eV^0.5"
   ]
  },
  {
   "cell_type": "code",
   "execution_count": null,
   "metadata": {},
   "outputs": [],
   "source": [
    "time = 5.*ur.second   # ur is a registry containing all available units\n",
    "d1D/time              # here we get results in eV/s"
   ]
  },
  {
   "cell_type": "markdown",
   "metadata": {},
   "source": [
    "Conversion can be done between different units transparently"
   ]
  },
  {
   "cell_type": "code",
   "execution_count": null,
   "metadata": {},
   "outputs": [],
   "source": [
    "d1D.to('J')"
   ]
  },
  {
   "cell_type": "code",
   "execution_count": null,
   "metadata": {},
   "outputs": [],
   "source": [
    "d1D.to('K')"
   ]
  },
  {
   "cell_type": "markdown",
   "metadata": {},
   "source": [
    "### Coordinates"
   ]
  },
  {
   "cell_type": "markdown",
   "metadata": {},
   "source": [
    "The above created `d2D` dataset has 3 dimensions, but no coordinate for these dimensions. Here arises a big difference with simple `numpy`-arrays: \n",
    "* We can add coordinates to each dimensions of a NDDataset. "
   ]
  },
  {
   "cell_type": "markdown",
   "metadata": {},
   "source": [
    "To get the list of all defined coordinates, we can use the `coords` attribute:"
   ]
  },
  {
   "cell_type": "code",
   "execution_count": null,
   "metadata": {},
   "outputs": [],
   "source": [
    "d2D.coords  # no coordinates, so it returns nothing (None)"
   ]
  },
  {
   "cell_type": "code",
   "execution_count": null,
   "metadata": {},
   "outputs": [],
   "source": [
    "d2D.t       # the same for coordinate  u, v, t which are not yet set"
   ]
  },
  {
   "cell_type": "markdown",
   "metadata": {},
   "source": [
    "To add coordinates, on way is to set them one by one:"
   ]
  },
  {
   "cell_type": "code",
   "execution_count": null,
   "metadata": {},
   "outputs": [],
   "source": [
    "d2D.t = np.arange(6)*.1 # we need a sequence of 6 values for `t` dimension (see shape above) \n",
    "d2D.t.title = 'time'\n",
    "d2D.t.units = 'seconds'\n",
    "d2D.coords # now return a list of coordinates"
   ]
  },
  {
   "cell_type": "code",
   "execution_count": null,
   "metadata": {},
   "outputs": [],
   "source": [
    "d2D.t   "
   ]
  },
  {
   "cell_type": "code",
   "execution_count": null,
   "metadata": {},
   "outputs": [],
   "source": [
    "d2D.coords('t')  # Alternative way to get a given coordinates"
   ]
  },
  {
   "cell_type": "code",
   "execution_count": null,
   "metadata": {},
   "outputs": [],
   "source": [
    "d2D['t'] # another alternative way to get a given coordinates"
   ]
  },
  {
   "cell_type": "markdown",
   "metadata": {},
   "source": [
    "The two other coordinates u and v are still undefined"
   ]
  },
  {
   "cell_type": "code",
   "execution_count": null,
   "metadata": {},
   "outputs": [],
   "source": [
    "d2D.u"
   ]
  },
  {
   "cell_type": "code",
   "execution_count": null,
   "metadata": {},
   "outputs": [],
   "source": [
    "d2D.v"
   ]
  },
  {
   "cell_type": "markdown",
   "metadata": {},
   "source": [
    "Programatically, we can use the attribute `is_empty` or `has_data` to check this"
   ]
  },
  {
   "cell_type": "code",
   "execution_count": null,
   "metadata": {},
   "outputs": [],
   "source": [
    "d2D.v.has_data, d2D.v.is_empty"
   ]
  },
  {
   "cell_type": "markdown",
   "metadata": {},
   "source": [
    "An error is raised when a coordinate doesn't exist"
   ]
  },
  {
   "cell_type": "code",
   "execution_count": null,
   "metadata": {},
   "outputs": [],
   "source": [
    "try:\n",
    "    d2D.x\n",
    "except KeyError:\n",
    "    error_('not found')"
   ]
  },
  {
   "cell_type": "markdown",
   "metadata": {},
   "source": [
    "In some case it can also be usefull to get a coordinate from its title instead of its name (the militation is that if several coordinates have the same title, then only the first ones that is found in the coordinate list, will be returned - this can be ambiguous) "
   ]
  },
  {
   "cell_type": "code",
   "execution_count": null,
   "metadata": {},
   "outputs": [],
   "source": [
    "d2D['time']"
   ]
  },
  {
   "cell_type": "code",
   "execution_count": null,
   "metadata": {},
   "outputs": [],
   "source": [
    "d2D.time"
   ]
  },
  {
   "cell_type": "markdown",
   "metadata": {},
   "source": [
    "It is possible to use labels instead of numerical coordinates. They are sequence of objects .The length of the sequence must be equal to the size of a dimension"
   ]
  },
  {
   "cell_type": "code",
   "execution_count": null,
   "metadata": {},
   "outputs": [],
   "source": [
    "from datetime import datetime, timedelta, time\n",
    "timedelta()"
   ]
  },
  {
   "cell_type": "code",
   "execution_count": null,
   "metadata": {},
   "outputs": [],
   "source": [
    "start = timedelta(0)\n",
    "times = [start + timedelta(seconds=x*60) for x in range(6)]\n",
    "d2D.t = None\n",
    "d2D.t.labels = times\n",
    "d2D.t.title = 'time'\n",
    "d2D"
   ]
  },
  {
   "cell_type": "code",
   "execution_count": null,
   "metadata": {},
   "outputs": [],
   "source": [
    "tags = list('abcdef')\n",
    "d2D.t.labels = tags\n",
    "d2D"
   ]
  },
  {
   "cell_type": "markdown",
   "metadata": {},
   "source": [
    "In this case, getting a coordinate that doesn't possess numerical data but labels, will return the labelq"
   ]
  },
  {
   "cell_type": "code",
   "execution_count": null,
   "metadata": {},
   "outputs": [],
   "source": [
    "d2D.time"
   ]
  },
  {
   "cell_type": "markdown",
   "metadata": {},
   "source": [
    "Sometimes it is not necessary to have different coordinates for the axis. \n",
    "\n",
    "For example, if we have a square matrix with the same coordinate in the two dimensions, the second dimension can refer to the first."
   ]
  },
  {
   "cell_type": "code",
   "execution_count": null,
   "metadata": {},
   "outputs": [],
   "source": [
    "a = np.diag((3,3,2.5))\n",
    "nd = NDDataset(a, coords=CoordSet(x=np.arange(3), y='x'))\n",
    "nd"
   ]
  },
  {
   "cell_type": "markdown",
   "metadata": {},
   "source": [
    "## Create a NDDataset : full example\n",
    "\n",
    "There are many ways to create `NDDataset` objects.\n",
    "\n",
    "Above we have created a `NDDataset` from a simple list, but also from a `numpy.ndarray`).\n",
    "\n",
    "Below is an example of a 3D-Dataset created from a ``numpy.ndarray`` to which axes for each dimension can be added at creation. \n",
    "\n",
    "Let's first create the 3 one-dimensional coordinates, for which we can define `labels`, `units`, and `masks`! "
   ]
  },
  {
   "cell_type": "code",
   "execution_count": null,
   "metadata": {},
   "outputs": [],
   "source": [
    "coord0 = Coord(data=np.linspace(4000., 1000., 100),\n",
    "               labels=None,\n",
    "               mask=None,\n",
    "               units=\"cm^-1\",\n",
    "               title='wavenumber')\n",
    "\n",
    "coord1 = Coord(data=np.linspace(0., 60., 60),\n",
    "               labels=None,\n",
    "               mask=None,\n",
    "               units=\"minutes\",\n",
    "               title='time-on-stream')\n",
    "\n",
    "coord2 = Coord(data=np.linspace(200., 300., 3),\n",
    "               labels=['cold', 'normal', 'hot'],\n",
    "               mask=None,\n",
    "               units=\"K\",\n",
    "               title='temperature')"
   ]
  },
  {
   "cell_type": "markdown",
   "metadata": {},
   "source": [
    "Here is the displayed info for coord1 for instance:"
   ]
  },
  {
   "cell_type": "code",
   "execution_count": null,
   "metadata": {},
   "outputs": [],
   "source": [
    "coord1"
   ]
  },
  {
   "cell_type": "markdown",
   "metadata": {},
   "source": [
    "Now we create some 3D data (a ``numpy.ndarray``):"
   ]
  },
  {
   "cell_type": "code",
   "execution_count": null,
   "metadata": {},
   "outputs": [],
   "source": [
    "nd_data = np.array(\n",
    "    [np.array([np.sin(coord2.data * 2. * np.pi / 4000.) * np.exp(-y / 60.) for y in coord1.data]) * float(t)\n",
    "     for t in coord0.data]) ** 2"
   ]
  },
  {
   "cell_type": "markdown",
   "metadata": {},
   "source": [
    "The dataset is now created with these data and axis. All needed information are passed as parameter of the \n",
    "NDDataset instance constructor. "
   ]
  },
  {
   "cell_type": "code",
   "execution_count": null,
   "metadata": {},
   "outputs": [],
   "source": [
    "d3D = NDDataset(nd_data,\n",
    "                      name = 'mydataset',\n",
    "                      coords=[coord0, coord1, coord2],\n",
    "                      title='Absorbance',\n",
    "                      units='absorbance'\n",
    "                      )\n",
    "\n",
    "d3D.description = \"\"\"Dataset example created for this tutorial. \n",
    "It's a 3-D dataset (with dimensionless intensity)\"\"\"\n",
    "\n",
    "d3D.author = 'Blake & Mortimer'"
   ]
  },
  {
   "cell_type": "markdown",
   "metadata": {},
   "source": [
    "We can get some information about this object:"
   ]
  },
  {
   "cell_type": "code",
   "execution_count": null,
   "metadata": {},
   "outputs": [],
   "source": [
    "d3D"
   ]
  },
  {
   "cell_type": "markdown",
   "metadata": {},
   "source": [
    "One can set all the coordinates independantly"
   ]
  },
  {
   "cell_type": "code",
   "execution_count": null,
   "metadata": {},
   "outputs": [],
   "source": [
    "d3D = NDDataset(nd_data,\n",
    "                      name = 'mydataset',\n",
    "                      title='Absorbance',\n",
    "                      units='absorbance'\n",
    "                      )\n",
    "d3D.description = \"\"\"Dataset example created for this tutorial. \n",
    "It's a 3-D dataset (with dimensionless intensity)\"\"\"\n",
    "\n",
    "d3D.author = 'Blake & Mortimer'\n",
    "d3D"
   ]
  },
  {
   "cell_type": "code",
   "execution_count": null,
   "metadata": {},
   "outputs": [],
   "source": [
    "d3D.set_coords(x=coord2, y=coord1, z=coord0)          # syntax 1\n",
    "d3D.set_coords({'x':coord2, 'y':coord1, 'z':coord0})  # syntax 2\n",
    "d3D"
   ]
  },
  {
   "cell_type": "markdown",
   "metadata": {},
   "source": [
    "One can add several coordinates to the same dimension"
   ]
  },
  {
   "cell_type": "code",
   "execution_count": null,
   "metadata": {},
   "outputs": [],
   "source": [
    "coord2b = Coord([1,2,3], units='millitesla', title='magnetic field')"
   ]
  },
  {
   "cell_type": "code",
   "execution_count": null,
   "metadata": {
    "lines_to_next_cell": 2
   },
   "outputs": [],
   "source": [
    "d3D.set_coords(x=CoordSet(coord2,coord2b), y=coord1, z=coord0)\n",
    "d3D"
   ]
  },
  {
   "cell_type": "markdown",
   "metadata": {},
   "source": [
    "Some additional information about coordinate setting syntax"
   ]
  },
  {
   "cell_type": "code",
   "execution_count": null,
   "metadata": {},
   "outputs": [],
   "source": [
    "# A. fist syntax (probably the safer because thename of the dimension is specified, so this is less prone to errors!)\n",
    "d3D.set_coords(x=CoordSet(coord2,coord2b), y=coord1, z=coord0)\n",
    "d3D.set_coords(x=[coord2,coord2b], y=coord1, z=coord0) # equivalent\n",
    "\n",
    "# B. second syntax in the order of the dimensions : z,y,x (if no swap or transpopse has been performed)\n",
    "d3D.set_coords(coord0, coord1, [coord2,coord2b])\n",
    "d3D.set_coords((coord0, coord1, [coord2,coord2b]))  # equivalent\n",
    "   \n",
    "# C. third syntax (from a dictionary)\n",
    "d3D.set_coords({'z':coord0, 'y':coord1, 'x':[coord2,coord2b]})\n",
    "\n",
    "# D. Fourth syntax (from another coordset)\n",
    "d3D.set_coords(**CoordSet(z=coord0, y=coord1, x=[coord2,coord2b]))   # note the **\n",
    "\n",
    "# It is also possible to use the coords property (with slightly less possibility)\n",
    "d3D.coords = coord0, coord1,[coord2,coord2b]\n",
    "d3D.coords = {'z':coord0, 'y':coord1, 'x':[coord2,coord2b]}\n",
    "d3D.coords = CoordSet(z=coord0, y=coord1, x=[coord2,coord2b])"
   ]
  },
  {
   "cell_type": "markdown",
   "metadata": {},
   "source": [
    "WARNING: do not use list for setting multiples coordinates! use tuples"
   ]
  },
  {
   "cell_type": "code",
   "execution_count": null,
   "metadata": {},
   "outputs": [],
   "source": [
    "# This raise an error (list have another signification: it's used to set a \"same dim\" CoordSet see example A or B)\n",
    "try:\n",
    "    d3D.coords = [coord0, coord1, coord2]\n",
    "except ValueError:\n",
    "    error_('Coordinates must be of the same size for a dimension with multiple coordinates')\n",
    "    \n",
    "# This works (not a tuple `()`, not a list `[]`)\n",
    "d3D.coords = (coord0, coord1, coord2) "
   ]
  },
  {
   "cell_type": "markdown",
   "metadata": {},
   "source": [
    "## Copying existing NDDataset\n",
    "\n",
    "To copy an existing dataset, this is as simple as:"
   ]
  },
  {
   "cell_type": "code",
   "execution_count": null,
   "metadata": {},
   "outputs": [],
   "source": [
    "d3D_copy = d3D.copy()"
   ]
  },
  {
   "cell_type": "markdown",
   "metadata": {},
   "source": [
    "or alternatively:"
   ]
  },
  {
   "cell_type": "code",
   "execution_count": null,
   "metadata": {},
   "outputs": [],
   "source": [
    "d3D_copy = d3D[:]"
   ]
  },
  {
   "cell_type": "markdown",
   "metadata": {},
   "source": [
    "Finally, it is also possible to initialize a dataset using an existing one:"
   ]
  },
  {
   "cell_type": "code",
   "execution_count": null,
   "metadata": {},
   "outputs": [],
   "source": [
    "d3Dduplicate = NDDataset(d3D, name='duplicate of %s'%d3D.name , units='absorbance')\n",
    "d3Dduplicate"
   ]
  },
  {
   "cell_type": "markdown",
   "metadata": {},
   "source": [
    "### Other ways to create NDDatasets\n",
    "\n",
    "Some numpy creation function can be used to set up the initial dataset array:\n",
    "       [numpy array creation routines](https://docs.scipy.org/doc/numpy/reference/routines.array-creation.html#routines-array-creation)\n"
   ]
  },
  {
   "cell_type": "code",
   "execution_count": null,
   "metadata": {},
   "outputs": [],
   "source": [
    "dz = zeros((2, 2), units='meters', title='Datasets with only zeros')\n",
    "dz"
   ]
  },
  {
   "cell_type": "code",
   "execution_count": null,
   "metadata": {},
   "outputs": [],
   "source": [
    "do = ones((2, 2), units='kilograms', title='Datasets with only ones')\n",
    "do"
   ]
  },
  {
   "cell_type": "code",
   "execution_count": null,
   "metadata": {},
   "outputs": [],
   "source": [
    "df = full((2, 2), fill_value=1.25, units='radians',\n",
    "     title='with only float=1.25')  \n",
    "df"
   ]
  },
  {
   "cell_type": "markdown",
   "metadata": {},
   "source": [
    "As with numpy, it is also possible to take another dataset as a template:"
   ]
  },
  {
   "cell_type": "code",
   "execution_count": null,
   "metadata": {},
   "outputs": [],
   "source": [
    "do = ones((2, 3), dtype=bool)\n",
    "do[1,1]=0\n",
    "do"
   ]
  },
  {
   "cell_type": "markdown",
   "metadata": {},
   "source": [
    "Now we use the previous dataset ``do`` as a template, for the shape, but we can change the `dtype`."
   ]
  },
  {
   "cell_type": "code",
   "execution_count": null,
   "metadata": {
    "lines_to_next_cell": 2
   },
   "outputs": [],
   "source": [
    "df = full_like(d3D, dtype=np.float64, fill_value=2.5)\n",
    "df"
   ]
  },
  {
   "cell_type": "markdown",
   "metadata": {},
   "source": [
    "## Importing from external dataset\n",
    "\n",
    "NDDataset can be created from the importation of external data\n",
    "\n",
    "A **test**'s data folder contains some data for experimenting some features of datasets."
   ]
  },
  {
   "cell_type": "code",
   "execution_count": null,
   "metadata": {},
   "outputs": [],
   "source": [
    "# let check if this directory exists and display its actual content:\n",
    "import os\n",
    "\n",
    "datadir = general_preferences.datadir\n",
    "if os.path.exists(datadir):\n",
    "    # let's display only the last part of the path\n",
    "    print(os.path.basename(datadir))"
   ]
  },
  {
   "cell_type": "markdown",
   "metadata": {},
   "source": [
    "###  Reading a IR dataset saved by OMNIC (.spg extension)\n",
    "\n",
    "Even if we do not specify the **datadir**, the application first look in tht directory by default."
   ]
  },
  {
   "cell_type": "code",
   "execution_count": null,
   "metadata": {},
   "outputs": [],
   "source": [
    "dataset = NDDataset.read_omnic(os.path.join('irdata', 'NH4Y-activation.SPG'))\n",
    "dataset"
   ]
  },
  {
   "cell_type": "markdown",
   "metadata": {},
   "source": [
    "## Slicing a NDDataset"
   ]
  },
  {
   "cell_type": "markdown",
   "metadata": {},
   "source": [
    "NDDataset can be sliced like conventional numpy-array...\n",
    "\n",
    "*e.g.,*:\n",
    "\n",
    "1. by index, using a slice such as [3], [0:10], [:, 3:4], [..., 5:10], ...\n",
    "\n",
    "2. by values, using a slice such as [3000.0:3500.0], [..., 300.0], ...\n",
    "\n",
    "3. by labels, using a slice such as ['monday':'friday'], ..."
   ]
  },
  {
   "cell_type": "code",
   "execution_count": null,
   "metadata": {},
   "outputs": [],
   "source": [
    "new = d3D[..., 0]\n",
    "new"
   ]
  },
  {
   "cell_type": "markdown",
   "metadata": {},
   "source": [
    "or using the axes labels:"
   ]
  },
  {
   "cell_type": "code",
   "execution_count": null,
   "metadata": {},
   "outputs": [],
   "source": [
    "new = d3D[..., 'hot']\n",
    "new"
   ]
  },
  {
   "cell_type": "markdown",
   "metadata": {},
   "source": [
    "Be sure to use the correct type for slicing.\n",
    "\n",
    "Floats are used for slicing by values"
   ]
  },
  {
   "cell_type": "code",
   "execution_count": null,
   "metadata": {},
   "outputs": [],
   "source": [
    "correct = d3D[2000.]\n",
    "correct"
   ]
  },
  {
   "cell_type": "code",
   "execution_count": null,
   "metadata": {},
   "outputs": [],
   "source": [
    "outside_limits = d3D[2000]"
   ]
  },
  {
   "cell_type": "markdown",
   "metadata": {},
   "source": [
    "<div class='alert alert-info'>\n",
    "    \n",
    "**NOTE:**\n",
    "If one use an integer value (2000), then the slicing is made **by index not by value**, and in the following particular case, an `Error` is issued as index 2000 does not exists (size along axis `x` (axis:0) is only 100, so that index vary between 0 and 99!). \n",
    "\n",
    "</div>"
   ]
  },
  {
   "cell_type": "markdown",
   "metadata": {},
   "source": [
    "One can mixed slicing methods for different dimension:"
   ]
  },
  {
   "cell_type": "code",
   "execution_count": null,
   "metadata": {},
   "outputs": [],
   "source": [
    "new = d3D[4000.0:2000., 0, 'normal':'hot']\n",
    "new"
   ]
  },
  {
   "cell_type": "markdown",
   "metadata": {},
   "source": [
    "## Loading of experimental data"
   ]
  },
  {
   "cell_type": "markdown",
   "metadata": {},
   "source": [
    "\n",
    "### NMR Data"
   ]
  },
  {
   "cell_type": "markdown",
   "metadata": {},
   "source": [
    "Now, lets load a NMR dataset (in the Bruker format)."
   ]
  },
  {
   "cell_type": "code",
   "execution_count": null,
   "metadata": {},
   "outputs": [],
   "source": [
    "path = os.path.join(datadir, 'nmrdata', 'bruker', 'tests', 'nmr', 'bruker_1d')\n",
    "\n",
    "# load the data in a new dataset\n",
    "ndd = NDDataset()\n",
    "ndd.read_bruker_nmr(path, expno=1, remove_digital_filter=True)\n",
    "ndd"
   ]
  },
  {
   "cell_type": "code",
   "execution_count": null,
   "metadata": {},
   "outputs": [],
   "source": [
    "# view it...\n",
    "_ = ndd.plot(color='blue')"
   ]
  },
  {
   "cell_type": "code",
   "execution_count": null,
   "metadata": {},
   "outputs": [],
   "source": [
    "path = os.path.join(datadir, 'nmrdata', 'bruker', 'tests', 'nmr', 'bruker_2d')\n",
    "\n",
    "# load the data directly (no need to create the dataset first)\n",
    "ndd2 = NDDataset.read_bruker_nmr(path, expno=1, remove_digital_filter=True)\n",
    "\n",
    "# view it...\n",
    "ndd2.x.to('s')\n",
    "ndd2.y.to('ms')\n",
    "\n",
    "ax = ndd2.plot(method='map')\n",
    "ndd2"
   ]
  },
  {
   "cell_type": "markdown",
   "metadata": {},
   "source": [
    "### IR data"
   ]
  },
  {
   "cell_type": "code",
   "execution_count": null,
   "metadata": {},
   "outputs": [],
   "source": [
    "dataset = NDDataset.read_omnic(os.path.join(datadir, 'irdata', 'NH4Y-activation.SPG'))\n",
    "dataset"
   ]
  },
  {
   "cell_type": "code",
   "execution_count": null,
   "metadata": {},
   "outputs": [],
   "source": [
    "ax = dataset.plot(method='stack')"
   ]
  },
  {
   "cell_type": "markdown",
   "metadata": {},
   "source": [
    "## Masks"
   ]
  },
  {
   "cell_type": "markdown",
   "metadata": {},
   "source": [
    "if we try to get for example the maximum of the previous dataset, we face a problem due to the saturation around 1100 cm$^{-1}$."
   ]
  },
  {
   "cell_type": "code",
   "execution_count": null,
   "metadata": {},
   "outputs": [],
   "source": [
    "dataset.max()"
   ]
  },
  {
   "cell_type": "markdown",
   "metadata": {},
   "source": [
    "One way is to apply the max function to only a part of the spectrum. Another way is to mask the undesired data.\n",
    "\n",
    "Masking values in a dataset is straigthforward. Just set a value `masked` or True for those data you want to mask."
   ]
  },
  {
   "cell_type": "code",
   "execution_count": null,
   "metadata": {},
   "outputs": [],
   "source": [
    "dataset[1290.:890.] = MASKED"
   ]
  },
  {
   "cell_type": "markdown",
   "metadata": {},
   "source": [
    "Now the max function return the  correct position "
   ]
  },
  {
   "cell_type": "code",
   "execution_count": null,
   "metadata": {},
   "outputs": [],
   "source": [
    "dataset.max().x"
   ]
  },
  {
   "cell_type": "markdown",
   "metadata": {},
   "source": [
    "Here is a display the figure with the new mask"
   ]
  },
  {
   "cell_type": "code",
   "execution_count": null,
   "metadata": {},
   "outputs": [],
   "source": [
    "_ = dataset.plot_stack()"
   ]
  },
  {
   "cell_type": "markdown",
   "metadata": {},
   "source": [
    "## Transposition"
   ]
  },
  {
   "cell_type": "markdown",
   "metadata": {},
   "source": [
    "Dataset can be transposed"
   ]
  },
  {
   "cell_type": "code",
   "execution_count": null,
   "metadata": {},
   "outputs": [],
   "source": [
    "datasetT = dataset.T\n",
    "datasetT"
   ]
  },
  {
   "cell_type": "markdown",
   "metadata": {},
   "source": [
    "As it can be observed the dimension `x`and `y`have been exchanged, *e.g.* the originalshape was **(x:5549, y:55)**, and after transposition it is **(y:55, x:5549)**.\n",
    "(the dimension names stay the same, but the index of the corresponding axis are exchanged)."
   ]
  },
  {
   "cell_type": "markdown",
   "metadata": {},
   "source": [
    "Let's vizualize the result:"
   ]
  },
  {
   "cell_type": "code",
   "execution_count": null,
   "metadata": {},
   "outputs": [],
   "source": [
    "_ = datasetT.plot()"
   ]
  },
  {
   "cell_type": "code",
   "execution_count": null,
   "metadata": {},
   "outputs": [],
   "source": [
    "dataset[:, 4000.:3000.], datasetT[4000.:3000.]"
   ]
  },
  {
   "cell_type": "markdown",
   "metadata": {},
   "source": [
    "## Numpy universal functions (ufunc's)\n",
    "\n",
    "A numpy universal function (or `numpy.ufunc` for short) is a function that\n",
    "operates on `numpy.ndarray` in an element-by-element fashion. It's\n",
    "vectorized and so rather fast.\n",
    "\n",
    "As SpectroChemPy NDDataset imitate the behaviour of numpy objects, many numpy\n",
    "ufuncs can be applied directly.\n",
    "\n",
    "For example, if you need all the elements of a NDDataset to be changed to the\n",
    "squared rooted values, you can use the `numpy.sqrt` function:"
   ]
  },
  {
   "cell_type": "code",
   "execution_count": null,
   "metadata": {},
   "outputs": [],
   "source": [
    "da = NDDataset([1., 2., 3.])\n",
    "da_sqrt = np.sqrt(da)\n",
    "da_sqrt"
   ]
  },
  {
   "cell_type": "markdown",
   "metadata": {},
   "source": [
    "### Ufuncs with NDDataset with units\n",
    "\n",
    "When NDDataset have units, some restrictions apply on the use of ufuncs:\n",
    "\n",
    "Some function functions accept only dimensionless quantities. This is the\n",
    "case for example of logarithmic functions: :`exp` and `log`."
   ]
  },
  {
   "cell_type": "code",
   "execution_count": null,
   "metadata": {},
   "outputs": [],
   "source": [
    "np.log10(da)"
   ]
  },
  {
   "cell_type": "code",
   "execution_count": null,
   "metadata": {},
   "outputs": [],
   "source": [
    "da.units = ur.cm\n",
    "\n",
    "try:\n",
    "    np.log10(da)\n",
    "except DimensionalityError as e:\n",
    "    error_(e)"
   ]
  },
  {
   "cell_type": "markdown",
   "metadata": {},
   "source": [
    "## Complex or hypercomplex NDDatasets\n",
    "\n",
    "\n",
    "NDDataset objects with complex data are handled differently than in\n",
    "`numpy.ndarray`.\n",
    "\n",
    "Instead, complex data are stored by interlacing the real and imaginary part.\n",
    "This allows the definition of data that can be complex in several axis, and *e\n",
    ".g.,* allows 2D-hypercomplex array that can be transposed (useful for NMR data)."
   ]
  },
  {
   "cell_type": "code",
   "execution_count": null,
   "metadata": {},
   "outputs": [],
   "source": [
    "da = NDDataset([[1. + 2.j, 2. + 0j], [1.3 + 2.j, 2. + 0.5j], [1. + 4.2j, 2. + 3j], [5. + 4.2j, 2. + 3j]])\n",
    "da"
   ]
  },
  {
   "cell_type": "markdown",
   "metadata": {},
   "source": [
    "A dataset of type float can be transformed into a complex dataset (using two cionsecutive rows to create a complex row)"
   ]
  },
  {
   "cell_type": "code",
   "execution_count": null,
   "metadata": {},
   "outputs": [],
   "source": [
    "da = NDDataset(np.arange(40).reshape(10,4))\n",
    "da"
   ]
  },
  {
   "cell_type": "code",
   "execution_count": null,
   "metadata": {},
   "outputs": [],
   "source": [
    "dac = da.set_complex()\n",
    "dac"
   ]
  },
  {
   "cell_type": "markdown",
   "metadata": {},
   "source": [
    "Note the `x`dimension size is divided by a factor of two "
   ]
  },
  {
   "cell_type": "markdown",
   "metadata": {},
   "source": [
    "A dataset which is complex in two dimensions is called hypercomplex (it's datatype in SpectroChemPy is set to quaternion). "
   ]
  },
  {
   "cell_type": "code",
   "execution_count": null,
   "metadata": {},
   "outputs": [],
   "source": [
    "daq = da.set_quaternion()   # equivalently one can use the set_hypercomplex method\n",
    "daq"
   ]
  },
  {
   "cell_type": "code",
   "execution_count": null,
   "metadata": {},
   "outputs": [],
   "source": [
    "daq.dtype"
   ]
  }
 ],
 "metadata": {
  "jupytext": {
   "formats": "ipynb,py:percent",
   "text_representation": {
    "extension": ".py",
    "format_name": "percent",
    "format_version": "1.2",
    "jupytext_version": "1.1.6"
   }
  },
  "kernelspec": {
   "display_name": "Python 3",
   "language": "python",
   "name": "python3"
  },
  "language_info": {
   "codemirror_mode": {
    "name": "ipython",
    "version": 3
   },
   "file_extension": ".py",
   "mimetype": "text/x-python",
   "name": "python",
   "nbconvert_exporter": "python",
   "pygments_lexer": "ipython3",
   "version": "3.6.7"
  }
 },
 "nbformat": 4,
 "nbformat_minor": 2
}
