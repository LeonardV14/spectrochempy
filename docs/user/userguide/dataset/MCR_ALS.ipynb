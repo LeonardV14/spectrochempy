{
 "cells": [
  {
   "cell_type": "markdown",
   "metadata": {},
   "source": [
    "# MCR ALS"
   ]
  },
  {
   "cell_type": "code",
   "execution_count": 1,
   "metadata": {
    "scrolled": false
   },
   "outputs": [
    {
     "data": {
      "text/html": [
       "\n",
       "    \n",
       "    <table><tr><td>\n",
       "    \n",
       "    <img src='data:image/png;base64,iVBORw0KGgoAAAANSUhEUgAAABgAAAAYCAYAAADgdz34AAAAAXNSR0IArs4c6QAAAAlw\n",
       "    SFlzAAAJOgAACToB8GSSSgAAAetpVFh0WE1MOmNvbS5hZG9iZS54bXAAAAAAADx4OnhtcG1ldGEgeG1sbnM6eD0iYWRvYmU6bnM6\n",
       "    bWV0YS8iIHg6eG1wdGs9IlhNUCBDb3JlIDUuNC4wIj4KICAgPHJkZjpSREYgeG1sbnM6cmRmPSJodHRwOi8vd3d3LnczLm9yZy8x\n",
       "    OTk5LzAyLzIyLXJkZi1zeW50YXgtbnMjIj4KICAgICAgPHJkZjpEZXNjcmlwdGlvbiByZGY6YWJvdXQ9IiIKICAgICAgICAgICAg\n",
       "    eG1sbnM6eG1wPSJodHRwOi8vbnMuYWRvYmUuY29tL3hhcC8xLjAvIgogICAgICAgICAgICB4bWxuczp0aWZmPSJodHRwOi8vbnMu\n",
       "    YWRvYmUuY29tL3RpZmYvMS4wLyI+CiAgICAgICAgIDx4bXA6Q3JlYXRvclRvb2w+bWF0cGxvdGxpYiB2ZXJzaW9uIDIuMS4wLCBo\n",
       "    dHRwOi8vbWF0cGxvdGxpYi5vcmcvPC94bXA6Q3JlYXRvclRvb2w+CiAgICAgICAgIDx0aWZmOk9yaWVudGF0aW9uPjE8L3RpZmY6\n",
       "    T3JpZW50YXRpb24+CiAgICAgIDwvcmRmOkRlc2NyaXB0aW9uPgogICA8L3JkZjpSREY+CjwveDp4bXBtZXRhPgqNQaNYAAAGiUlE\n",
       "    QVRIDY1We4xU1Rn/3XPuYx47u8w+hnU38hTcuoUEt/6D2y4RB0ME1BoEd9taJaKh9CFiN7YGp7appUAMNmktMZFoJTYVLVQ0smsy\n",
       "    26CN0SU1QgsuFAaW3WVmx33N677O6XfuyoIxTXqSO/fec+75fd93vt/3/UbDV0aKSZmCpkFMLz3T9utuu2N+o98aDSMBKVAo89z5\n",
       "    y+zEz3ZafcCOfvWdlGCalqKn1Bf71CygTd+mf1esSOnpdMpTb+vWpTZuWVfe3jLPa5tzHYNm0T5N0gpdkkHaDBeGBU6d1/t/fyS8\n",
       "    +/CbqdfUvmsx1PuMgc2bNxv79u1zgd31r+7JH1jbIZKxWRXAcYUQ8IWvBfBXNjEuJWPgMA02NR7C3/pYT9fjdZ3A9tGrWF8YSJHn\n",
       "    qcDz3y7q2T967PZv+gnYJdd1mEZ+62zGDQV/dQgKhmLzDNOXCEWM3j6eTT5Y3w78dOBKJLR1PQf+4ivPj76UPZnssBN+wbM9Aet/\n",
       "    AV81Mf1EEULXYfOobvX2WWQk0aoioXwwSmirOlioY0mu8BIouzYl7P8GV3vpqCCEZvlFz769w08oLDWvyKIyL1asSm28d6WfzA97\n",
       "    ztvvV1kexUMsmhlkULEkuGYmFYC6AvfUrITnwUKl5K79lkjeSSRRTCTbQPd95e1WzMbZSya74XoXAxctCllCnbECMOjZNGRwvzIX\n",
       "    nD85wbkMmKK+U045Dtdi8Qp+SAxU2GTg2bYlC9224pgvmSb54vkVTBQYyhUt2KjAMyMmPjwRQW5Mh2WKwJhlBh6jVGagFM84wZnQ\n",
       "    4bpC0Rt4pk1PbSt0NDcxDA5xryosDHWgtbM0DGZDWLSoiDMDYeQnGVrmOThxLozB0RAaahzkJzjKNqcIQBymJFMkOlN8Dqjpg0XY\n",
       "    Tx5xO/QbmmUrqIjGJznq47TqTaClKYfjp+PInLMwnOdYvtQBZ2XcunQY+VwIo4U4muoFEjVEFE6lQyEUKzHYfgQG9ylCyngU+Cxj\n",
       "    tOqxCDGHcCsOMCs6iQul5ZiStdATYxjMZXDLTUVwLY8Jey4uOh2IxjwsrP8UXJYxUrkZrghBahzV5iXU6gNkq0Z1EzIsUBUSCV2n\n",
       "    EOHo0LVxHCpuxabJJdhi5PFnvw5vLXwXIfNZvD/+JNo/X40NegE54sUaazl+UL8XD1x+FB9Ijjt4EQfdGN6J/x131LwIV9ap/AYs\n",
       "    0x1fz1ZKFbh6A7qKy/By9Dg6G36Ep91vUJJ15Cqr0Z67E8/HzmBrw1OwxWyM+3Mo6BAuSB17oyfx0Oyl2DN0Hqs/70Cx6hBCvESF\n",
       "    UY1ShWXZZEE7OTAYxZzaPH4TuoiusZvRnunFy2NbiHYuBp2vB66srX4vMEjpRKPxKXmnoQ4+Mn4DPiv8CYcrs3GfNUXJLtM+alSO\n",
       "    hrMj/KT+wBNW3+E/2liywNO3iSflbaFva/+stGDTxE0E9Sjaox8HBhxpEamzMGSEaFKg+mjEddzDh1MxTDq3YV1kGBsjfwW3S9Cq\n",
       "    anjmko+ndlb1UR3s6K8JlfphNWq9Ew/7c61T2BB/EbcaNkb8GBaE0tANH7/M34PLdhJDzjIcL9xPbdTG6zyM72Y+wXPHmvB489No\n",
       "    fm0b5HnbQ9Rgp/7DSSd29AeVvPeNyK6JcYl/yQVi5dBjuGvoV/gaJe47s45QUxrDmcYX0MBsdF7egvXZ7+O0vZA4X8QmOQWjlSK7\n",
       "    RDz5wIM30gp9UbWcGjXxhzdDu1SiNSpx6kcQB57rPnr/3dlkZarWLnlRq5oPET1dOCIOk4wALib9eeS5iygfhkd09H0DWphB/+gs\n",
       "    +PcOAS+ssrFmmXXgVfR0de9cpbAJfH3Q1jofW9DZk56dDcVsq9YcsoUMEd1qyLoT3BX1YiyHMJuk97hyjqIoE91t+NcTLeN0ZrfM\n",
       "    oXatZbu6G0h4VG+ibqq0IJVK6cAjo6serG3vSUezCMct0yQeSOFJSUImqb2qbknUpDqlZxE0QZ+ZUpSlZx79h4Nda6zef9dlk121\n",
       "    JDjbR5XggPRZlRnS6bRQRtLpn4++cuie/Yvn2svmNxuLw9WCcYIl4fEoTEGiSTUqJdfgU+8ROqf1iMkLzS389YtNPXc/PH8l8ONB\n",
       "    JZkHD+4JtD04HmVEDWWErmBhzV2/2LB1bemJG6krzv2S6NOHUgtEP0Oif5pE/3fHoruP7N8RiP61GArzSwbUhJJQpXJKiKbfr/3b\n",
       "    IhKq76sKPUdF9NW/LSqfSn6vjv8C45H/6FSgvZQAAAAASUVORK5CYII='\n",
       "         style='height:25px; border-radius:12px; display: inline-block; float: left; vertical-align: middle'></img>\n",
       "    \n",
       "    </td><td>\n",
       "    \n",
       "    &nbsp;&nbsp;<span style='font-size:12px'>SpectroChemPy's API - v.0.1a9.dev47+g2f2815a.d20190216<br/>© Copyright 2014-2019 - A.Travert & C.Fernandez @ LCS</span>\n",
       "    \n",
       "    </td></tr></table>\n",
       "    </div>\n",
       "    "
      ]
     },
     "metadata": {},
     "output_type": "display_data"
    }
   ],
   "source": [
    "from spectrochempy import *"
   ]
  },
  {
   "cell_type": "markdown",
   "metadata": {},
   "source": [
    "## 1. Introduction \n",
    "\n",
    "MCR-ALS (standing for Multivariate Curve Resolution - Alternating Least Squares) is a popular method for resolving a set (or several sets) of spectra $X$ of an evolving mixture (or a set of mixtures) into the spectra $S^t$ of 'pure' species and their concentration profiles $C$. In term of matrix equation:\n",
    "$$ X = C S^t + E $$\n",
    "The ALS algorithm allows applying soft or hard constraints (e.g. non negativity, unimodality, equality to a given profile) to the spectra or concentration profiles of pure species. This property makes MCR-ALS an extremely flexible and powerful method. Its current implementation in Scpy is limited to soft constraints but is exected to cover more advanced features in further releases.\n",
    "\n",
    "In, this tutorial the application of MCS-ALS as implemented in Scpy to a 'classical' dataset form the literature is presented.\n",
    "\n",
    "## 2. The (minimal) dataset\n",
    "\n",
    "In this example, we perform the MCR ALS optimization of a dataset corresponding to a HPLC-DAD run, from Jaumot et al. Chemolab, 76 (2005), \n",
    "pp. 101-110 and Jaumot et al. Chemolab, 140 (2015) pp. 1-12. This dataset (and others) can be loaded from the \"Multivariate Curve Resolution Homepage\"\n",
    "at https://mcrals.wordpress.com/download/example-data-sets. For the user convenience, this dataset is present in the 'datadir' of spectrochempy in 'als2004dataset.MAT' and can be read as follows in Scpy: "
   ]
  },
  {
   "cell_type": "code",
   "execution_count": 2,
   "metadata": {
    "scrolled": false
   },
   "outputs": [],
   "source": [
    "A = read_matlab(\"matlabdata/als2004dataset.MAT\")"
   ]
  },
  {
   "cell_type": "markdown",
   "metadata": {},
   "source": [
    "The .mat file contains 6 matrices which are thus returned in A as a list of 6 NDdatasets. We print the names and dimensions of these datasets:"
   ]
  },
  {
   "cell_type": "code",
   "execution_count": 3,
   "metadata": {
    "scrolled": false
   },
   "outputs": [
    {
     "name": "stdout",
     "output_type": "stream",
     "text": [
      "m1: (51, 96)\n",
      "spure: (4, 96)\n",
      "cpure: (204, 4)\n",
      "MATRIX: (204, 96)\n",
      "csel_matrix: (51, 4)\n",
      "isp_matrix: (4, 4)\n"
     ]
    }
   ],
   "source": [
    "for a in A:\n",
    "    print(a.name + ': ' + str(a.shape))"
   ]
  },
  {
   "cell_type": "markdown",
   "metadata": {},
   "source": [
    "In this tutorial, we are first interested in the dataset named ('m1') that contains a singleHPLC-DAD run(s).\n",
    "As usual, the rows correspond to the 'time axis' of the HPLC run(s), and the columns to the 'wavelength' axis\n",
    "of the UV spectra. \n",
    "\n",
    "Let's name it 'X' (as in the matrix equation above), display its content and plot it:"
   ]
  },
  {
   "cell_type": "code",
   "execution_count": 4,
   "metadata": {
    "scrolled": false
   },
   "outputs": [
    {
     "data": {
      "text/html": [
       "<table style='width:100%'>\n",
       "<tr style='border: 1px solid lightgray;'><td style='padding-right:5px; width:100px'><strong>Name/Id</strong></td><td style='text-align:left'>m1</td><tr>\n",
       "<tr style='border: 1px solid lightgray;'><td style='padding-right:5px; width:100px'><strong>Author</strong></td><td style='text-align:left'>Arnaud@LCS077N</td><tr>\n",
       "<tr style='border: 1px solid lightgray;'><td style='padding-right:5px; width:100px'><strong>Created</strong></td><td style='text-align:left'>2019-02-16 06:02:31.654733</td><tr>\n",
       "<tr style='border: 1px solid lightgray;'><td style='padding-right:5px; width:100px'><strong>Last Modified</strong></td><td style='text-align:left'>2019-02-16 06:02:31.701588</td><tr>\n",
       "<tr style='border: 1px solid lightgray;'><td style='padding-right:5px; width:100px'><strong>Description</strong></td><td style='text-align:left'></td><tr>\n",
       "<tr style='border: 1px solid lightgray;'><td style='padding-right:5px; width:100px'><strong>data</strong></td><td style='text-align:left'><table style='width:100%'>\n",
       "<tr style='border: 1px solid lightgray;'><td style='padding-right:5px; width:100px'><strong>Title</strong></td><td style='text-align:left'>m1</td><tr>\n",
       "<tr style='border: 1px solid lightgray;'><td style='padding-right:5px; width:100px'><strong>Shape</strong></td><td style='text-align:left'>51 x 96</td><tr>\n",
       "<tr style='border: 1px solid lightgray;'><td style='padding-right:5px; width:100px'><strong>Values</strong></td><td style='text-align:left'>[[   0.015    0.013 ...    0.000   -0.000]<br/> [   0.020    0.016 ...   -0.007    0.001]<br/> ...<br/> [   0.010    0.014 ...   -0.001    0.004]<br/> [   0.008    0.011 ...   -0.007   -0.001]]<br/</td><tr>\n",
       "</table>\n",
       "</td><tr>\n",
       "</table><br/>\n"
      ],
      "text/plain": [
       "NDDataset: [[   0.015,    0.013, ...,    0.000,   -0.000],\n",
       "            [   0.020,    0.016, ...,   -0.007,    0.001],\n",
       "            ...,\n",
       "            [   0.010,    0.014, ...,   -0.001,    0.004],\n",
       "            [   0.008,    0.011, ...,   -0.007,   -0.001]] unitless"
      ]
     },
     "execution_count": 4,
     "metadata": {},
     "output_type": "execute_result"
    }
   ],
   "source": [
    "X = A[0]\n",
    "X"
   ]
  },
  {
   "cell_type": "code",
   "execution_count": 5,
   "metadata": {
    "scrolled": false
   },
   "outputs": [
    {
     "data": {
      "application/vnd.jupyter.widget-view+json": {
       "model_id": "ffcc164cde2f4a53a72272dfc00324df",
       "version_major": 2,
       "version_minor": 0
      },
      "text/plain": [
       "FigureCanvasNbAgg()"
      ]
     },
     "metadata": {},
     "output_type": "display_data"
    },
    {
     "data": {
      "text/plain": [
       "<matplotlib.axes._subplots.AxesSubplot at 0x271ff9f7278>"
      ]
     },
     "execution_count": 5,
     "metadata": {},
     "output_type": "execute_result"
    }
   ],
   "source": [
    "X.plot()"
   ]
  },
  {
   "cell_type": "markdown",
   "metadata": {},
   "source": [
    "The original dataset is the 'm1' matrix and does not contain information as to the actual elution time, wavelength, and data units. Hence the resulting NDDataset has no coordinates and on the plot, only the matrix line and row indexes are indicated. For the clarity of the tutorial, we add: (i) a proper title to the data, (ii) the default coordinates (index) do the NDDataset and (iii) a proper name for these coordinates:"
   ]
  },
  {
   "cell_type": "code",
   "execution_count": 6,
   "metadata": {
    "scrolled": true
   },
   "outputs": [
    {
     "data": {
      "text/html": [
       "<table style='width:100%'>\n",
       "<tr style='border: 1px solid lightgray;'><td style='padding-right:5px; width:100px'><strong>Name/Id</strong></td><td style='text-align:left'>m1</td><tr>\n",
       "<tr style='border: 1px solid lightgray;'><td style='padding-right:5px; width:100px'><strong>Author</strong></td><td style='text-align:left'>Arnaud@LCS077N</td><tr>\n",
       "<tr style='border: 1px solid lightgray;'><td style='padding-right:5px; width:100px'><strong>Created</strong></td><td style='text-align:left'>2019-02-16 06:02:31.654733</td><tr>\n",
       "<tr style='border: 1px solid lightgray;'><td style='padding-right:5px; width:100px'><strong>Last Modified</strong></td><td style='text-align:left'>2019-02-16 06:02:31.935964</td><tr>\n",
       "<tr style='border: 1px solid lightgray;'><td style='padding-right:5px; width:100px'><strong>Description</strong></td><td style='text-align:left'></td><tr>\n",
       "<tr style='border: 1px solid lightgray;'><td style='padding-right:5px; width:100px'><strong>data</strong></td><td style='text-align:left'><table style='width:100%'>\n",
       "<tr style='border: 1px solid lightgray;'><td style='padding-right:5px; width:100px'><strong>Title</strong></td><td style='text-align:left'>absorbance</td><tr>\n",
       "<tr style='border: 1px solid lightgray;'><td style='padding-right:5px; width:100px'><strong>Shape</strong></td><td style='text-align:left'>51 x 96</td><tr>\n",
       "<tr style='border: 1px solid lightgray;'><td style='padding-right:5px; width:100px'><strong>Values</strong></td><td style='text-align:left'>[[   0.015    0.013 ...    0.000   -0.000]<br/> [   0.020    0.016 ...   -0.007    0.001]<br/> ...<br/> [   0.010    0.014 ...   -0.001    0.004]<br/> [   0.008    0.011 ...   -0.007   -0.001]]<br/</td><tr>\n",
       "</table>\n",
       "</td><tr>\n",
       "<tr style='border: 1px solid lightgray;'><td style='padding-right:5px; width:100px'><strong>y-coordinate</strong></td><td style='text-align:left'><table style='width:100%'>\n",
       "<tr style='border: 1px solid lightgray;'><td style='padding-right:5px; width:100px'><strong>Title</strong></td><td style='text-align:left'>Elution time</td><tr>\n",
       "<tr style='border: 1px solid lightgray;'><td style='padding-right:5px; width:100px'><strong>Data</strong></td><td style='text-align:left'>[       0        1 ...       49       50]<br/</td><tr>\n",
       "</table>\n",
       "</td><tr>\n",
       "<tr style='border: 1px solid lightgray;'><td style='padding-right:5px; width:100px'><strong>x-coordinate</strong></td><td style='text-align:left'><table style='width:100%'>\n",
       "<tr style='border: 1px solid lightgray;'><td style='padding-right:5px; width:100px'><strong>Title</strong></td><td style='text-align:left'>Wavelength</td><tr>\n",
       "<tr style='border: 1px solid lightgray;'><td style='padding-right:5px; width:100px'><strong>Data</strong></td><td style='text-align:left'>[       0        1 ...       94       95]<br/</td><tr>\n",
       "</table>\n",
       "</td><tr>\n",
       "</table><br/>\n"
      ],
      "text/plain": [
       "NDDataset: [[   0.015,    0.013, ...,    0.000,   -0.000],\n",
       "            [   0.020,    0.016, ...,   -0.007,    0.001],\n",
       "            ...,\n",
       "            [   0.010,    0.014, ...,   -0.001,    0.004],\n",
       "            [   0.008,    0.011, ...,   -0.007,   -0.001]] unitless"
      ]
     },
     "execution_count": 6,
     "metadata": {},
     "output_type": "execute_result"
    }
   ],
   "source": [
    "X.title = 'absorbance'\n",
    "X.coordset = [X.y, X.x]\n",
    "X.y.title = 'Elution Time'\n",
    "X.x.title = 'Wavelength'\n",
    "X"
   ]
  },
  {
   "cell_type": "markdown",
   "metadata": {},
   "source": [
    "From now on, these names will be taken into account by Scpy in the plottings as well as in the analysis treatments (PCA, EFA, MCR-ALs, ...). For instance to plot X as a surface:"
   ]
  },
  {
   "cell_type": "code",
   "execution_count": 7,
   "metadata": {
    "scrolled": false
   },
   "outputs": [
    {
     "data": {
      "application/vnd.jupyter.widget-view+json": {
       "model_id": "423b5313a90a4680a7ad9c299c5c8601",
       "version_major": 2,
       "version_minor": 0
      },
      "text/plain": [
       "FigureCanvasNbAgg()"
      ]
     },
     "metadata": {},
     "output_type": "display_data"
    },
    {
     "data": {
      "text/plain": [
       "<matplotlib.axes._subplots.Axes3DSubplot at 0x271ffcedf60>"
      ]
     },
     "execution_count": 7,
     "metadata": {},
     "output_type": "execute_result"
    }
   ],
   "source": [
    "plt.figure()\n",
    "X.plot_3D(cmap='viridis', linewidth=0, ccount=100)"
   ]
  },
  {
   "cell_type": "markdown",
   "metadata": {},
   "source": [
    "## 3 Initial guess and MCR ALS optimization\n",
    "\n",
    "The ALS optimization of the MCR equation above requires the input of a guess for either the concentration matrix $C_0$ or the spectra matrix $S^t_0$. Given the data matrix $X$, the lacking initial matrix ($S^t_0$ or $C_0$, respectively) is computed by:\n",
    "$$ S^t_0 = \\left( C_0^tC_0 \\right)^{-1} C_0^t X $$\n",
    "\n",
    "or\n",
    "\n",
    "$$ C_0 = X {S^t_0}^t  \\left( S_0^t {S_0^t}^t \\right)^{-1} $$\n",
    "\n",
    "### 3.1. Case of initial spectral profiles\n",
    "The matrix spure provided in the initial dataset is a guess for the spectral profiles. Let's name it 'St0', and plot it:  "
   ]
  },
  {
   "cell_type": "code",
   "execution_count": 8,
   "metadata": {},
   "outputs": [
    {
     "data": {
      "application/vnd.jupyter.widget-view+json": {
       "model_id": "acfa5436484b467fb2b379c458fa60aa",
       "version_major": 2,
       "version_minor": 0
      },
      "text/plain": [
       "FigureCanvasNbAgg()"
      ]
     },
     "metadata": {},
     "output_type": "display_data"
    },
    {
     "data": {
      "text/plain": [
       "<matplotlib.axes._subplots.AxesSubplot at 0x271ffd26fd0>"
      ]
     },
     "execution_count": 8,
     "metadata": {},
     "output_type": "execute_result"
    }
   ],
   "source": [
    "St0 = A[1]\n",
    "St0.plot()"
   ]
  },
  {
   "cell_type": "markdown",
   "metadata": {},
   "source": [
    "Note that, again, no information has been given as to the ordinate ad abscissa data. We could add them as previously but this is niot very important. The key point is that the 'wavelength' dimension is compatible with the data 'X', which is indeed the case (both have a legth of 95). If it was not, an error would be generated in the following.  \n",
    "\n",
    "#### 3.1.1 ALS Optimization\n",
    "With this guess 'St0' and the dataset 'X' we can create a MCR ALS object. At this point of the tutorial, we will use all the default parameters except for the 'verbose' option which is swiched on to have a summary of the ALS iterations: "
   ]
  },
  {
   "cell_type": "code",
   "execution_count": 9,
   "metadata": {},
   "outputs": [
    {
     "name": "stdout",
     "output_type": "stream",
     "text": [
      "*** ALS optimisation log***\n",
      "#iter     Error/PCA        Error/Exp      %change\n",
      "---------------------------------------------------\n",
      "  1        0.001907        0.003097      -97.514809\n",
      "  2        0.001888        0.003085       -0.399710\n",
      "  3        0.001881        0.003081       -0.139103\n",
      "  4        0.001877        0.003078       -0.080699\n",
      "converged !\n"
     ]
    }
   ],
   "source": [
    "mcr = MCRALS(X, St0, verbose='True')"
   ]
  },
  {
   "cell_type": "markdown",
   "metadata": {},
   "source": [
    "The optimization has converged within 4 iterations. The figures reported for each iteration are defined as follows:\n",
    "\n",
    "'Error/PCA' is the standard deviation of the residuals with respect to data reconstructed by a PCA with a number of components equal to the number of pure species,\n",
    "\n",
    "'Error/exp': is the standard deviation of the residuals with respect to the experimental data X,\n",
    "\n",
    "'%change': is the percent change of 'Error/exp' between 2 iterations\n",
    "\n",
    "The default is to stop when this %change between two iteration is negative (so that the solution is improving), but with an absolute value lower than 0.1% (so that the improvement is considred negligible). This parameter - as well as several other parameters affecting the ALS optimization can be changed by the setting the 'tol' value in a python dictionary using the key 'tol'. For instance: "
   ]
  },
  {
   "cell_type": "code",
   "execution_count": 10,
   "metadata": {},
   "outputs": [
    {
     "name": "stdout",
     "output_type": "stream",
     "text": [
      "*** ALS optimisation log***\n",
      "#iter     Error/PCA        Error/Exp      %change\n",
      "---------------------------------------------------\n",
      "  1        0.001907        0.003097      -97.514809\n",
      "  2        0.001888        0.003085       -0.399710\n",
      "  3        0.001881        0.003081       -0.139103\n",
      "  4        0.001877        0.003078       -0.080699\n",
      "  5        0.001874        0.003077       -0.040911\n",
      "  6        0.001872        0.003075       -0.046779\n",
      "  7        0.001871        0.003075       -0.008496\n",
      "converged !\n"
     ]
    }
   ],
   "source": [
    "mcr = MCRALS(X, St0, param={'tol':0.01}, verbose='True')"
   ]
  },
  {
   "cell_type": "markdown",
   "metadata": {},
   "source": [
    "As could be expected more iterations have been necessary to reach this stricter convergence criterion.  The other convergence criterion that can be fixed by the user is 'maxdiv', the maximum number of successive diverging iterations. It is ste to 5 by default and allows for stopping the ALS algorithm when it is no converging. If for instance the 'tol' is set very low, the optimization will be stopped when no improvement is obtained after 5 iterations:    "
   ]
  },
  {
   "cell_type": "code",
   "execution_count": 11,
   "metadata": {},
   "outputs": [
    {
     "name": "stdout",
     "output_type": "stream",
     "text": [
      "*** ALS optimisation log***\n",
      "#iter     Error/PCA        Error/Exp      %change\n",
      "---------------------------------------------------\n",
      "  1        0.001907        0.003097      -97.514809\n",
      "  2        0.001888        0.003085       -0.399710\n",
      "  3        0.001881        0.003081       -0.139103\n",
      "  4        0.001877        0.003078       -0.080699\n",
      "  5        0.001874        0.003077       -0.040911\n",
      "  6        0.001872        0.003075       -0.046779\n",
      "  7        0.001871        0.003075       -0.008496\n",
      "  8        0.001871        0.003075        0.009975\n",
      "  9        0.001872        0.003076        0.025752\n",
      " 10        0.001875        0.003078        0.055160\n",
      " 11        0.001878        0.003080        0.072724\n",
      " 12        0.001882        0.003083        0.085280\n",
      "Optimization not improved since 5 iterations... unconverged or 'tol' set too small ?\n",
      "Stop ALS optimization\n"
     ]
    }
   ],
   "source": [
    "mcr = MCRALS(X, St0, param={'tol':0.001}, verbose='True')"
   ]
  },
  {
   "cell_type": "markdown",
   "metadata": {},
   "source": [
    "Now if 'maxdiv' is set to 3:  "
   ]
  },
  {
   "cell_type": "code",
   "execution_count": 12,
   "metadata": {},
   "outputs": [
    {
     "name": "stdout",
     "output_type": "stream",
     "text": [
      "*** ALS optimisation log***\n",
      "#iter     Error/PCA        Error/Exp      %change\n",
      "---------------------------------------------------\n",
      "  1        0.001907        0.003097      -97.514809\n",
      "  2        0.001888        0.003085       -0.399710\n",
      "  3        0.001881        0.003081       -0.139103\n",
      "  4        0.001877        0.003078       -0.080699\n",
      "  5        0.001874        0.003077       -0.040911\n",
      "  6        0.001872        0.003075       -0.046779\n",
      "  7        0.001871        0.003075       -0.008496\n",
      "  8        0.001871        0.003075        0.009975\n",
      "  9        0.001872        0.003076        0.025752\n",
      " 10        0.001875        0.003078        0.055160\n",
      "Optimization not improved since 3 iterations... unconverged or 'tol' set too small ?\n",
      "Stop ALS optimization\n"
     ]
    }
   ],
   "source": [
    "mcr = MCRALS(X, St0, param={'tol':0.001, 'maxdiv':3}, verbose='True')"
   ]
  },
  {
   "cell_type": "markdown",
   "metadata": {},
   "source": [
    "#### 3.1.2 Solutions\n",
    "\n",
    "The solutions of the MCR ALS optimization are the optimized concentration and pure spectra matrices. The can be obtained by the MCRALS.transform() method. let's remake and MCRALS object with the default settings, ('tol' = 0.1 and verbose = False), and get C and St."
   ]
  },
  {
   "cell_type": "code",
   "execution_count": 13,
   "metadata": {},
   "outputs": [],
   "source": [
    "mcr1 = MCRALS(X, St0)\n",
    "C1, St1 = mcr1.transform()"
   ]
  },
  {
   "cell_type": "markdown",
   "metadata": {},
   "source": [
    "As the dimensions of C are such that the rows direction (C.y) corresponds to the elution time and the columns direction (C.x) correspond to the four pure species, it is necessary to transpose it before plotting in order to plot the concentration vs. the elution time."
   ]
  },
  {
   "cell_type": "code",
   "execution_count": 14,
   "metadata": {},
   "outputs": [
    {
     "data": {
      "application/vnd.jupyter.widget-view+json": {
       "model_id": "1b8c63fbb6ae4ed0b5d3471cb031f98b",
       "version_major": 2,
       "version_minor": 0
      },
      "text/plain": [
       "FigureCanvasNbAgg()"
      ]
     },
     "metadata": {},
     "output_type": "display_data"
    },
    {
     "data": {
      "text/plain": [
       "<matplotlib.axes._subplots.AxesSubplot at 0x271ffe92358>"
      ]
     },
     "execution_count": 14,
     "metadata": {},
     "output_type": "execute_result"
    }
   ],
   "source": [
    "C1.T.plot()"
   ]
  },
  {
   "cell_type": "markdown",
   "metadata": {},
   "source": [
    "On the other hand, the spectra of the pure species can be plot directly:"
   ]
  },
  {
   "cell_type": "code",
   "execution_count": 15,
   "metadata": {},
   "outputs": [
    {
     "data": {
      "application/vnd.jupyter.widget-view+json": {
       "model_id": "a4224a25f1c244f6966fc8a7c9e32930",
       "version_major": 2,
       "version_minor": 0
      },
      "text/plain": [
       "FigureCanvasNbAgg()"
      ]
     },
     "metadata": {},
     "output_type": "display_data"
    },
    {
     "data": {
      "text/plain": [
       "<matplotlib.axes._subplots.AxesSubplot at 0x271ffe6a898>"
      ]
     },
     "execution_count": 15,
     "metadata": {},
     "output_type": "execute_result"
    }
   ],
   "source": [
    "St1.plot()"
   ]
  },
  {
   "cell_type": "markdown",
   "metadata": {},
   "source": [
    "#### 3.1.3 A basic illustration of the rotational ambiguity\n",
    "We have thus obtained the elution profiles of the four pure species. Note that the 'concentration' vaules are very low. This results from the fact that the absorbance values in X are on the order of 0-1 while the absorbances of the initial pure spectra are of the order of 10^4. As can be seen above, the absorbance of the final spectra is of the same order of magnitude.\n",
    "\n",
    "It is possible to normalize the intensity of the spectral profiles by setting the 'normSpec' parameter to True. With thios option, the specra are normalized such that their euclidian norm is 1. The other normalization option is n ormspec = 'max', whereby the maximum intyensity of tyhe spectra is 1. Let's look at the effect of both normalizations:"
   ]
  },
  {
   "cell_type": "code",
   "execution_count": 16,
   "metadata": {},
   "outputs": [
    {
     "data": {
      "application/vnd.jupyter.widget-view+json": {
       "model_id": "66568949fa7c41d0ace7949960836b22",
       "version_major": 2,
       "version_minor": 0
      },
      "text/plain": [
       "FigureCanvasNbAgg()"
      ]
     },
     "metadata": {},
     "output_type": "display_data"
    },
    {
     "data": {
      "application/vnd.jupyter.widget-view+json": {
       "model_id": "c5f72b8c77f743228b3fd7a776ce052e",
       "version_major": 2,
       "version_minor": 0
      },
      "text/plain": [
       "FigureCanvasNbAgg()"
      ]
     },
     "metadata": {},
     "output_type": "display_data"
    },
    {
     "data": {
      "application/vnd.jupyter.widget-view+json": {
       "model_id": "0d1c87a500674940a89902f25ed5b4f6",
       "version_major": 2,
       "version_minor": 0
      },
      "text/plain": [
       "FigureCanvasNbAgg()"
      ]
     },
     "metadata": {},
     "output_type": "display_data"
    },
    {
     "data": {
      "text/plain": [
       "<matplotlib.axes._subplots.AxesSubplot at 0x27180d02eb8>"
      ]
     },
     "execution_count": 16,
     "metadata": {},
     "output_type": "execute_result"
    }
   ],
   "source": [
    "mcr2 = MCRALS(X, St0, param={'normSpec': 'euclid'})\n",
    "C2, St2 = mcr2.transform()\n",
    "mcr3 = MCRALS(X, St0, param={'normSpec': 'max'})\n",
    "C3, St3 = mcr3.transform()\n",
    "St1.plot()\n",
    "St2.plot()\n",
    "St3.plot()"
   ]
  },
  {
   "cell_type": "code",
   "execution_count": 17,
   "metadata": {},
   "outputs": [
    {
     "data": {
      "application/vnd.jupyter.widget-view+json": {
       "model_id": "fe91f768d6bd4f5a8f411824442b1971",
       "version_major": 2,
       "version_minor": 0
      },
      "text/plain": [
       "FigureCanvasNbAgg()"
      ]
     },
     "metadata": {},
     "output_type": "display_data"
    },
    {
     "data": {
      "application/vnd.jupyter.widget-view+json": {
       "model_id": "b25689f2a00b40cb9267dfa9ceff99eb",
       "version_major": 2,
       "version_minor": 0
      },
      "text/plain": [
       "FigureCanvasNbAgg()"
      ]
     },
     "metadata": {},
     "output_type": "display_data"
    },
    {
     "data": {
      "application/vnd.jupyter.widget-view+json": {
       "model_id": "24003d7c1b5e4c76b86416e57e70f79d",
       "version_major": 2,
       "version_minor": 0
      },
      "text/plain": [
       "FigureCanvasNbAgg()"
      ]
     },
     "metadata": {},
     "output_type": "display_data"
    },
    {
     "data": {
      "text/plain": [
       "<matplotlib.axes._subplots.AxesSubplot at 0x27180e3d048>"
      ]
     },
     "execution_count": 17,
     "metadata": {},
     "output_type": "execute_result"
    }
   ],
   "source": [
    "C1.T.plot()\n",
    "C2.T.plot()\n",
    "C3.T.plot()"
   ]
  },
  {
   "cell_type": "markdown",
   "metadata": {},
   "source": [
    "It is clear that the normalization affects the relative intensity of the spectra and of the concentration. This is a basic example of the well known rotational ambiguity of the MCS ALS solutions."
   ]
  },
  {
   "cell_type": "markdown",
   "metadata": {},
   "source": [
    "### 3.2 Guessing the concentration profile with PCA + EFA\n",
    "\n",
    "Generally, in MCR ALS, the initial guess cannot be obtained independently of the experimental data 'x'. In such a case, one has to rely on 'X' to obtained (i) the number of pure species  and (ii) their initial concentrations or spectral profiles. The number of of pure species can be assessed by carryiong out a PCA analyse of the data while the concentrations or spectral profiles can be estimated using procedures such EFA of SIMPLISMA. The latter is not implemented yet in Scpy. The following will illustrate the use of PCA followed by EFA.\n",
    "\n",
    "#### 3.2.1 Use of PCA to assess the number of pure species\n",
    "\n",
    "Let's first analyse our dataset using PCA and plot a screeplot:"
   ]
  },
  {
   "cell_type": "code",
   "execution_count": 18,
   "metadata": {},
   "outputs": [
    {
     "name": "stdout",
     "output_type": "stream",
     "text": [
      "\n",
      "PC\t\tEigenvalue\t\t%variance\t%cumulative\n",
      "   \t\tof cov(X)\t\t per PC\t     variance\n",
      "#1  \t1.053e+00\t\t 93.941\t      93.941\n",
      "#2  \t6.020e-02\t\t  5.370\t      99.311\n",
      "#3  \t4.912e-03\t\t  0.438\t      99.749\n",
      "#4  \t1.880e-03\t\t  0.168\t      99.917\n",
      "#5  \t1.851e-04\t\t  0.017\t      99.934\n",
      "#6  \t4.452e-05\t\t  0.004\t      99.938\n",
      "#7  \t4.337e-05\t\t  0.004\t      99.941\n",
      "#8  \t3.994e-05\t\t  0.004\t      99.945\n",
      "#9  \t3.761e-05\t\t  0.003\t      99.948\n",
      "#10  \t3.442e-05\t\t  0.003\t      99.951\n",
      "\n"
     ]
    },
    {
     "data": {
      "application/vnd.jupyter.widget-view+json": {
       "model_id": "7cfb5ff761c04f039688e8cb8212d63f",
       "version_major": 2,
       "version_minor": 0
      },
      "text/plain": [
       "FigureCanvasNbAgg()"
      ]
     },
     "metadata": {},
     "output_type": "display_data"
    },
    {
     "data": {
      "text/plain": [
       "(<matplotlib.axes._subplots.AxesSubplot at 0x27180ea2470>,\n",
       " <matplotlib.axes._subplots.AxesSubplot at 0x271ffe80438>)"
      ]
     },
     "execution_count": 18,
     "metadata": {},
     "output_type": "execute_result"
    }
   ],
   "source": [
    "pca = PCA(X)\n",
    "pca.printev(n_pc=10)\n",
    "pca.screeplot(n_pc=8)"
   ]
  },
  {
   "cell_type": "markdown",
   "metadata": {},
   "source": [
    "The number of significant PC's is clearly larger or equal to 2. It is, however, difficult tto determine whether it sould be set to 3 or 4...  Let's look at the score and loading matrices:\n"
   ]
  },
  {
   "cell_type": "code",
   "execution_count": 19,
   "metadata": {},
   "outputs": [
    {
     "data": {
      "application/vnd.jupyter.widget-view+json": {
       "model_id": "3d9e68f7d12a4db3b308f6698ad9dbc7",
       "version_major": 2,
       "version_minor": 0
      },
      "text/plain": [
       "FigureCanvasNbAgg()"
      ]
     },
     "metadata": {},
     "output_type": "display_data"
    },
    {
     "data": {
      "application/vnd.jupyter.widget-view+json": {
       "model_id": "c5a25f2df1e244fbb9b485886191ee17",
       "version_major": 2,
       "version_minor": 0
      },
      "text/plain": [
       "FigureCanvasNbAgg()"
      ]
     },
     "metadata": {},
     "output_type": "display_data"
    },
    {
     "data": {
      "text/plain": [
       "<matplotlib.axes._subplots.AxesSubplot at 0x27180f98d30>"
      ]
     },
     "execution_count": 19,
     "metadata": {},
     "output_type": "execute_result"
    }
   ],
   "source": [
    "S, LT = pca.transform(n_pc=8)\n",
    "S.T.plot()\n",
    "LT.plot()"
   ]
  },
  {
   "cell_type": "markdown",
   "metadata": {},
   "source": [
    "Examination of the scores and loadings indicate that the 4th component has structured, non random scores and loadings. Hence we will fix the number of pure species to 4.\n",
    "\n",
    "NB: The PCA.transform() can also be used with n_pc='auto' to determine automatically the number of components using the method of Thomas P. Minka (Automatic Choice of Dimensionality for PCA. NIPS 2000: 598-604). This type of methods, however, often lead to too many PC's for the chemist because they recover all contributions to the data variance: chemical AND non-chemical, thus including non-gaussian noise, baseline changes, background absorption...\n",
    "\n",
    "32 in the present case:"
   ]
  },
  {
   "cell_type": "code",
   "execution_count": 28,
   "metadata": {},
   "outputs": [
    {
     "data": {
      "text/plain": [
       "(51, 32)"
      ]
     },
     "execution_count": 28,
     "metadata": {},
     "output_type": "execute_result"
    }
   ],
   "source": [
    "S3, LT3 = pca.transform(n_pc='auto')\n",
    "S3.shape"
   ]
  },
  {
   "cell_type": "markdown",
   "metadata": {},
   "source": [
    "#### 3.2.2 determination of initial concentrations using EFA\n",
    "\n",
    "Once the number of components has been determined, the initial concentration matrix is obtained very easyly using EFA:\n"
   ]
  },
  {
   "cell_type": "code",
   "execution_count": 21,
   "metadata": {},
   "outputs": [
    {
     "data": {
      "application/vnd.jupyter.widget-view+json": {
       "model_id": "14267c63c49045ea996d985b11ea12f4",
       "version_major": 2,
       "version_minor": 0
      },
      "text/plain": [
       "FigureCanvasNbAgg()"
      ]
     },
     "metadata": {},
     "output_type": "display_data"
    }
   ],
   "source": [
    "efa = EFA(X)\n",
    "C0 = efa.get_conc(npc=4)"
   ]
  },
  {
   "cell_type": "markdown",
   "metadata": {},
   "source": [
    "The MCR ALS can then be launched using this new guess:"
   ]
  },
  {
   "cell_type": "code",
   "execution_count": 22,
   "metadata": {},
   "outputs": [
    {
     "name": "stdout",
     "output_type": "stream",
     "text": [
      "*** ALS optimisation log***\n",
      "#iter     Error/PCA        Error/Exp      %change\n",
      "---------------------------------------------------\n",
      "  1        0.009651        0.009964      -92.005286\n",
      "  2        0.006920        0.007346      -26.267914\n",
      "  3        0.005431        0.005963      -18.828724\n",
      "  4        0.004567        0.005187      -13.021951\n",
      "  5        0.003980        0.004677       -9.824356\n",
      "  6        0.003558        0.004322       -7.589010\n",
      "  7        0.003291        0.004104       -5.053534\n",
      "  8        0.003077        0.003934       -4.134529\n",
      "  9        0.003224        0.004050        2.938200\n",
      " 10        0.003125        0.003971       -1.946138\n",
      " 11        0.003090        0.003943       -0.710665\n",
      " 12        0.003043        0.003905       -0.949558\n",
      " 13        0.003013        0.003882       -0.593437\n",
      " 14        0.002993        0.003866       -0.423345\n",
      " 15        0.002976        0.003853       -0.330744\n",
      " 16        0.002963        0.003842       -0.277568\n",
      " 17        0.002945        0.003828       -0.362661\n",
      " 18        0.002928        0.003815       -0.352807\n",
      " 19        0.002911        0.003802       -0.329305\n",
      " 20        0.002896        0.003790       -0.307565\n",
      " 21        0.002881        0.003779       -0.309439\n",
      " 22        0.002868        0.003769       -0.256999\n",
      " 23        0.002857        0.003760       -0.237737\n",
      " 24        0.002846        0.003752       -0.222399\n",
      " 25        0.002835        0.003744       -0.208788\n",
      " 26        0.002826        0.003736       -0.196299\n",
      " 27        0.002817        0.003730       -0.184688\n",
      " 28        0.002808        0.003723       -0.175057\n",
      " 29        0.002800        0.003717       -0.165010\n",
      " 30        0.002793        0.003711       -0.155358\n",
      " 31        0.002785        0.003706       -0.146232\n",
      " 32        0.002779        0.003701       -0.137588\n",
      " 33        0.002772        0.003696       -0.129397\n",
      " 34        0.002764        0.003690       -0.166556\n",
      " 35        0.002756        0.003683       -0.172224\n",
      " 36        0.002748        0.003677       -0.167871\n",
      " 37        0.002740        0.003671       -0.161541\n",
      " 38        0.002732        0.003665       -0.155029\n",
      " 39        0.002725        0.003660       -0.148763\n",
      " 40        0.002717        0.003654       -0.151565\n",
      " 41        0.002710        0.003649       -0.150887\n",
      " 42        0.002703        0.003644       -0.146505\n",
      " 43        0.002696        0.003638       -0.142419\n",
      " 44        0.002689        0.003633       -0.138537\n",
      " 45        0.002682        0.003628       -0.134813\n",
      " 46        0.002676        0.003624       -0.131232\n",
      " 47        0.002670        0.003619       -0.127784\n",
      " 48        0.002664        0.003615       -0.124463\n",
      " 49        0.002658        0.003610       -0.121262\n",
      " 50        0.002652        0.003606       -0.118176\n",
      " 51        0.002646        0.003602       -0.115199\n",
      " 52        0.002641        0.003598       -0.112327\n",
      " 53        0.002635        0.003594       -0.109555\n",
      " 54        0.002630        0.003590       -0.106879\n",
      " 55        0.002625        0.003586       -0.097469\n",
      "converged !\n"
     ]
    }
   ],
   "source": [
    "mcr4 = MCRALS(X, guess=C0, param={'maxit':100, 'normSpec':'euclid'}, verbose=True) "
   ]
  },
  {
   "cell_type": "code",
   "execution_count": 23,
   "metadata": {},
   "outputs": [
    {
     "data": {
      "application/vnd.jupyter.widget-view+json": {
       "model_id": "a6d261b290cb41f8833a0f6615c20426",
       "version_major": 2,
       "version_minor": 0
      },
      "text/plain": [
       "FigureCanvasNbAgg()"
      ]
     },
     "metadata": {},
     "output_type": "display_data"
    },
    {
     "data": {
      "application/vnd.jupyter.widget-view+json": {
       "model_id": "33850c8d6f1a478ab6f68049c01b798c",
       "version_major": 2,
       "version_minor": 0
      },
      "text/plain": [
       "FigureCanvasNbAgg()"
      ]
     },
     "metadata": {},
     "output_type": "display_data"
    },
    {
     "data": {
      "text/plain": [
       "<matplotlib.axes._subplots.AxesSubplot at 0x271810eb128>"
      ]
     },
     "execution_count": 23,
     "metadata": {},
     "output_type": "execute_result"
    }
   ],
   "source": [
    "C4, ST4 = mcr4.transform()\n",
    "C4.T.plot()\n",
    "ST4.plot()"
   ]
  },
  {
   "cell_type": "markdown",
   "metadata": {},
   "source": [
    "## 4. Augmented datasets"
   ]
  },
  {
   "cell_type": "markdown",
   "metadata": {},
   "source": [
    "The 'MATRIX' dataset is a columnwise augmented dataset consting into 5 successive runs:\n",
    "\n",
    "MATRIX: (204, 96)"
   ]
  },
  {
   "cell_type": "code",
   "execution_count": 24,
   "metadata": {},
   "outputs": [
    {
     "data": {
      "application/vnd.jupyter.widget-view+json": {
       "model_id": "873e661dfbb84b45b8254cec57230890",
       "version_major": 2,
       "version_minor": 0
      },
      "text/plain": [
       "FigureCanvasNbAgg()"
      ]
     },
     "metadata": {},
     "output_type": "display_data"
    },
    {
     "data": {
      "text/plain": [
       "<matplotlib.axes._subplots.AxesSubplot at 0x2718114e0b8>"
      ]
     },
     "execution_count": 24,
     "metadata": {},
     "output_type": "execute_result"
    }
   ],
   "source": [
    "X2 = A[3]\n",
    "X2.title = 'absorbance'\n",
    "X2.coordset = [X2.y, X2.x]\n",
    "X2.y.title = 'Elution Time'\n",
    "X2.x.title = 'Wavelength'\n",
    "X2.plot(method='map')"
   ]
  },
  {
   "cell_type": "code",
   "execution_count": 25,
   "metadata": {},
   "outputs": [
    {
     "name": "stdout",
     "output_type": "stream",
     "text": [
      "*** ALS optimisation log***\n",
      "#iter     Error/PCA        Error/Exp      %change\n",
      "---------------------------------------------------\n",
      "  1        0.001880        0.002970      -97.337127\n",
      "  2        0.001876        0.002967       -0.086177\n",
      "converged !\n"
     ]
    }
   ],
   "source": [
    "mcr5 = MCRALS(X2, guess=St0, param={'unimodConc': [0] * 4}, verbose=True)"
   ]
  },
  {
   "cell_type": "code",
   "execution_count": 26,
   "metadata": {},
   "outputs": [
    {
     "data": {
      "application/vnd.jupyter.widget-view+json": {
       "model_id": "8aabbba7802e4de2b866c06dd1c00065",
       "version_major": 2,
       "version_minor": 0
      },
      "text/plain": [
       "FigureCanvasNbAgg()"
      ]
     },
     "metadata": {},
     "output_type": "display_data"
    },
    {
     "data": {
      "text/plain": [
       "<matplotlib.axes._subplots.AxesSubplot at 0x27182253e80>"
      ]
     },
     "execution_count": 26,
     "metadata": {},
     "output_type": "execute_result"
    }
   ],
   "source": [
    "C5, St5 = mcr5.transform()\n",
    "C5.T.plot()"
   ]
  },
  {
   "cell_type": "code",
   "execution_count": 27,
   "metadata": {},
   "outputs": [
    {
     "data": {
      "application/vnd.jupyter.widget-view+json": {
       "model_id": "55aa4627da07408881e44a0e3fb5de07",
       "version_major": 2,
       "version_minor": 0
      },
      "text/plain": [
       "FigureCanvasNbAgg()"
      ]
     },
     "metadata": {},
     "output_type": "display_data"
    },
    {
     "data": {
      "text/plain": [
       "<matplotlib.axes._subplots.AxesSubplot at 0x27182b4a208>"
      ]
     },
     "execution_count": 27,
     "metadata": {},
     "output_type": "execute_result"
    }
   ],
   "source": [
    "St5.plot()"
   ]
  },
  {
   "cell_type": "code",
   "execution_count": null,
   "metadata": {},
   "outputs": [],
   "source": []
  }
 ],
 "metadata": {
  "celltoolbar": "Format de la Cellule Texte Brut",
  "kernelspec": {
   "display_name": "Python 3",
   "language": "python",
   "name": "python3"
  },
  "language_info": {
   "codemirror_mode": {
    "name": "ipython",
    "version": 3
   },
   "file_extension": ".py",
   "mimetype": "text/x-python",
   "name": "python",
   "nbconvert_exporter": "python",
   "pygments_lexer": "ipython3",
   "version": "3.7.1"
  },
  "widgets": {
   "application/vnd.jupyter.widget-state+json": {
    "state": {
     "0fb2e3d18a644e948df2a820d2f60ee7": {
      "model_module_version": "^2.1.4",
      "state": {
       "_toolbar_items": [
        [
         "Home",
         "Reset original view",
         "fa fa-home icon-home",
         "home"
        ],
        [
         "Back",
         "Back to previous view",
         "fa fa-arrow-left icon-arrow-left",
         "back"
        ],
        [
         "Forward",
         "Forward to next view",
         "fa fa-arrow-right icon-arrow-right",
         "forward"
        ],
        [
         "",
         "",
         "",
         ""
        ],
        [
         "Pan",
         "Pan axes with left mouse, zoom with right",
         "fa fa-arrows icon-move",
         "pan"
        ],
        [
         "Zoom",
         "Zoom to rectangle",
         "fa fa-square-o icon-check-empty",
         "zoom"
        ],
        [
         "",
         "",
         "",
         ""
        ],
        [
         "Download",
         "Download plot",
         "fa fa-floppy-o icon-save",
         "download"
        ]
       ],
       "value": "<table style=\"width:100%\">\n                <thead>\n                    <tr>\n                        <th colspan=\"2\">\n                        Could not create model:\n                        </th>\n                    </tr>\n                </thead>\n                <tbody>\n                    <tr>\n                        <td>Model name</td>\n                        <td> undefined </td>\n                    </tr>\n                    <tr>\n                        <td>Model module</td>\n                        <td> undefined </td>\n                    </tr>\n                    <tr>\n                        <td>Model module version</td>\n                        <td> undefined </td>\n                    </tr>\n                <tbody>\n                <tfoot>\n                    <tr>\n                        <th colspan=\"2\">\n                        Class undefined not found in registry \n                        </th>\n                    </tr>\n                </tfoot>\n                </table>"
      }
     },
     "21a97a4101ff42c4af4c04fb70f83ddd": {
      "model_module_version": "^2.1.4",
      "state": {
       "value": "<table style=\"width:100%\">\n                <thead>\n                    <tr>\n                        <th colspan=\"2\">\n                        Could not create model:\n                        </th>\n                    </tr>\n                </thead>\n                <tbody>\n                    <tr>\n                        <td>Model name</td>\n                        <td> undefined </td>\n                    </tr>\n                    <tr>\n                        <td>Model module</td>\n                        <td> undefined </td>\n                    </tr>\n                    <tr>\n                        <td>Model module version</td>\n                        <td> undefined </td>\n                    </tr>\n                <tbody>\n                <tfoot>\n                    <tr>\n                        <th colspan=\"2\">\n                        Class undefined not found in registry \n                        </th>\n                    </tr>\n                </tfoot>\n                </table>"
      }
     },
     "67d1f186cdb0479083181d17641b882f": {
      "model_module_version": "^2.1.4",
      "state": {
       "value": "<table style=\"width:100%\">\n                <thead>\n                    <tr>\n                        <th colspan=\"2\">\n                        Could not create model:\n                        </th>\n                    </tr>\n                </thead>\n                <tbody>\n                    <tr>\n                        <td>Model name</td>\n                        <td> LayoutModel </td>\n                    </tr>\n                    <tr>\n                        <td>Model module</td>\n                        <td> @jupyter-widgets/base </td>\n                    </tr>\n                    <tr>\n                        <td>Model module version</td>\n                        <td> 1.1.0 </td>\n                    </tr>\n                <tbody>\n                <tfoot>\n                    <tr>\n                        <th colspan=\"2\">\n                        Script error for \"@jupyter-widgets/base\"\nhttp://requirejs.org/docs/errors.html#scripterror\n                        </th>\n                    </tr>\n                </tfoot>\n                </table>"
      }
     },
     "7aa69d39d38d4249bc4bf8b5fe04a364": {
      "model_module_version": "^2.1.4",
      "state": {
       "value": "<table style=\"width:100%\">\n                <thead>\n                    <tr>\n                        <th colspan=\"2\">\n                        Could not create model:\n                        </th>\n                    </tr>\n                </thead>\n                <tbody>\n                    <tr>\n                        <td>Model name</td>\n                        <td> LayoutModel </td>\n                    </tr>\n                    <tr>\n                        <td>Model module</td>\n                        <td> @jupyter-widgets/base </td>\n                    </tr>\n                    <tr>\n                        <td>Model module version</td>\n                        <td> 1.1.0 </td>\n                    </tr>\n                <tbody>\n                <tfoot>\n                    <tr>\n                        <th colspan=\"2\">\n                        Script error for \"@jupyter-widgets/base\"\nhttp://requirejs.org/docs/errors.html#scripterror\n                        </th>\n                    </tr>\n                </tfoot>\n                </table>"
      }
     }
    },
    "version_major": 1,
    "version_minor": 0
   }
  }
 },
 "nbformat": 4,
 "nbformat_minor": 2
}
