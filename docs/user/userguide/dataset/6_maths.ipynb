{
 "cells": [
  {
   "cell_type": "markdown",
   "metadata": {},
   "source": [
    "# Mathematical operations"
   ]
  },
  {
   "cell_type": "code",
   "execution_count": 1,
   "metadata": {},
   "outputs": [
    {
     "name": "stderr",
     "output_type": "stream",
     "text": [
      "[SpectroChemPy] ERROR | AttributeError: 'numpy.ufunc' object has no attribute 'info'\n"
     ]
    },
    {
     "name": "stdout",
     "output_type": "stream",
     "text": [
      "\n"
     ]
    }
   ],
   "source": [
    "from spectrochempy import *"
   ]
  },
  {
   "cell_type": "markdown",
   "metadata": {},
   "source": [
    "## Ufuncs (Universal Numpy's functions)\n",
    "A universal function (or `ufunc` in short) is a function that operates on numpy arrays in an element-by-element fashion, supporting array broadcasting, type casting, and several other standard features. That is, a `ufunc` is a “vectorized” wrapper for a function that takes a fixed number of specific inputs and produces a fixed number of specific outputs.\n",
    "\n",
    "For instance, in numpy to calculate the square root of each element of a given nd-array, we can write something like this using the `np.sqrt` functions :"
   ]
  },
  {
   "cell_type": "code",
   "execution_count": null,
   "metadata": {},
   "outputs": [],
   "source": [
    "x = np.array([1.,2.,3.,4.,6.])\n",
    "np.sqrt(x)"
   ]
  },
  {
   "cell_type": "markdown",
   "metadata": {},
   "source": [
    "As seen above, `np.sqrt(x)` return a numpy array.\n",
    "\n",
    "The interesting thing, it that `ufunc`'s can also work with `NDDataset`."
   ]
  },
  {
   "cell_type": "code",
   "execution_count": null,
   "metadata": {},
   "outputs": [],
   "source": [
    "dx = NDDataset(x)\n",
    "np.sqrt(dx)"
   ]
  },
  {
   "cell_type": "markdown",
   "metadata": {},
   "source": [
    "In this case a `NDDataset` object is returned.\n",
    "\n",
    "A subset of `ufunc`'s also work works with `NDPanel`. Ufunc is then broadcasted to all internal arrays."
   ]
  },
  {
   "cell_type": "code",
   "execution_count": null,
   "metadata": {},
   "outputs": [],
   "source": [
    "x = np.arange(6.)\n",
    "y = np.arange(8.)\n",
    "pnl = NDPanel(x, y)\n",
    "np.sqrt(pnl)"
   ]
  },
  {
   "cell_type": "markdown",
   "metadata": {},
   "source": [
    "As observed in the example above, in this case a `NDPanel`is returned on which each internal datasets have been transformed by the `ufunc`."
   ]
  },
  {
   "cell_type": "markdown",
   "metadata": {},
   "source": [
    "It is worth to note, that in spectrochempy, when can use internal equivalent of these `ufunc`'s.\n",
    "\n",
    "For instance, the square root can be calculated using the following syntax:"
   ]
  },
  {
   "cell_type": "code",
   "execution_count": null,
   "metadata": {},
   "outputs": [],
   "source": [
    "sqrt(dx)"
   ]
  },
  {
   "cell_type": "markdown",
   "metadata": {},
   "source": [
    "## List of UFuncs working on `NDDataset`:\n",
    "\n",
    "if an Ufunc works on `NDDataset` but not on `NDPanel`, this is specified in the list below.\n",
    "\n",
    "### Functions affecting magnitudes of the number but keeping units\n",
    "* [negative](#negative)(x, \\*\\*kwargs) : Numerical negative, element-wise. \n",
    "* [absolute](#abs)(x, \\*\\*kwargs) : Calculate the absolute value, element-wise. Alias: [abs](#abs)\n",
    "* [fabs](#abs)(x, \\*\\*kwargs) : Calculate the absolute value, element-wise. Complex values are not handled, use [absolute](#absolute) to find the absolute values of complex data.\n",
    "* [conj](#)(x, \\*\\*kwargs) : Return the complex conjugate, element-wise. \n",
    "* [rint](#rint)(x, \\*\\*kwargs) :Round to the nearest integer, element-wise.  \n",
    "* [floor](#floor)(x, \\*\\*kwargs) : Return the floor of the input, element-wise.\n",
    "* [ceil](#ceil)(x, \\*\\*kwargs) : Return the ceiling of the input, element-wise.\n",
    "* [trunc](#trunc)(x, \\*\\*kwargs) : Return the truncated value of the input, element-wise. \n",
    "\n",
    "### Functions affecting magnitudes of the number but also units\n",
    "* [sqrt](#sqrt)(x, \\*\\*kwargs) : Return the non-negative square-root of an array, element-wise.\n",
    "* [square](#square)(x, \\*\\*kwargs) : Return the element-wise square of the input.\n",
    "* [cbrt](#cbrt)(x, \\*\\*kwargs) : Return the cube-root of an array, element-wise.\n",
    "* [reciprocal](#reciprocal)(x, \\*\\*kwargs) : Return the reciprocal of the argument, element-wise.\n",
    "\n",
    "### Functions that require no units or dimensionless units for inputs. Returns dimensionless objects.\n",
    "* [exp](#exp)(x, \\*\\*kwargs) : Calculate the exponential of all elements in the input array.\n",
    "* [exp2](#exp)(x, \\*\\*kwargs) : Calculate 2\\*\\*p for all p in the input array.\n",
    "* [expm1](#exp)(x, \\*\\*kwargs) : Calculate `exp(x) - 1` for all elements in the array. \n",
    "* [log](#log)(x, \\*\\*kwargs) : Natural logarithm, element-wise. \n",
    "* [log2](#log)(x, \\*\\*kwargs) : Base-2 logarithm of x.\n",
    "* [log10](#log)(x, \\*\\*kwargs) : Return the base 10 logarithm of the input array, element-wise. \n",
    "* [log1p](#log)(x, \\*\\*kwargs) : Return `log(x + 1)`, element-wise.\n",
    "\n",
    "### Functions that return numpy arrays (*Work only for NDDataset*)\n",
    "* [sign](#sign)(x) : Returns an element-wise indication of the sign of a number.\n",
    "* [logical_not](#logical_not)(x) : Compute the truth value of NOT x element-wise. \n",
    "* [isfinite](#isfinite)(x) : Test element-wise for finiteness.\n",
    "* [isinf](#isinf)(x) : Test element-wise for positive or negative infinity.\n",
    "* [isnan](#isnan)(x) : Test element-wise for `NaN` and return result as a boolean array.\n",
    "* [signbit](#signbit)(x) : Returns element-wise `True` where signbit is set.\n",
    "\n",
    "### Trigonometric functions. Require unitless data or radian units.\n",
    "* [sin](#sin)(x, \\*\\*kwargs) : Trigonometric sine, element-wise.\n",
    "* [cos](#cos)(x, \\*\\*kwargs) : Trigonometric cosine element-wise.\n",
    "* [tan](#tan)(x, \\*\\*kwargs) : Compute tangent element-wise. \n",
    "\n",
    "* [arcsin](#arcsin)(x, \\*\\*kwargs) : Inverse sine, element-wise.\n",
    "* [arccos](#arccos)(x, \\*\\*kwargs) : Trigonometric inverse cosine, element-wise.\n",
    "* [arctan](#arctan)(x, \\*\\*kwargs) : Trigonometric inverse tangent, element-wise.\n",
    "\n",
    "### Hyperbolic functions\n",
    "* [sinh](#sinh)(x, \\*\\*kwargs) : Hyperbolic sine, element-wise.\n",
    "* [cosh](#cosh)(x, \\*\\*kwargs) : Hyperbolic cosine, element-wise.\n",
    "* [tanh](#tanh)(x, \\*\\*kwargs) : Compute hyperbolic tangent element-wise.\n",
    "* [arcsinh](#arcsinh)(x, \\*\\*kwargs) : Inverse hyperbolic sine element-wise.\n",
    "* [arccosh](#arccosh)(x, \\*\\*kwargs) : Inverse hyperbolic cosine, element-wise.\n",
    "* [arctanh](#arctanh)(x, \\*\\*kwargs) : Inverse hyperbolic tangent element-wise.\n",
    "\n",
    "### Unit conversions\n",
    "* [deg2rad](#deg2rad)(x, \\*\\*kwargs) : Convert angles from degrees to radians.\n",
    "* [rad2deg](#rad2deg)(x, \\*\\*kwargs) : Convert angles from radians to degrees.\n",
    "\n",
    "### Binary Ufuncs\n",
    "\n",
    "* [add](#add)(x1, x2, \\*\\*kwargs) : Add arguments élement-wise.\n",
    "* [subtract](#subtract)(x1, x2, \\*\\*kwargs) : Subtract arguments, element-wise.\n",
    "* [multiply](#multiply)(x1, x2, \\*\\*kwargs) : Multiply arguments element-wise.\n",
    "* [divide](#divide) or [true_divide](#true_divide)(x1, x2, \\*\\*kwargs) : Returns a true division of the inputs, element-wise.\n",
    "* [floor_divide](#floor_divide)(x1, x2, \\*\\*kwargs) : Return the largest integer smaller or equal to the division of the inputs.\n",
    "* [mod](#mod) or [remainder](#remainder)(x1, x2,\\*\\*kwargs) : Return element-wise remainder of division.\n",
    "* [fmod](#fmod)(x1, x2, \\*\\*kwargs) : Return the element-wise remainder of division. \n",
    "* [logaddexp](#logaddexp)(x1, x2,\\*\\*kwargs) : Logarithm of the sum of exponentiations of the inputs.\n",
    "* [logaddexp2](#logaddexp2)(x1, x2, \\*\\*kwargs) : Logarithm of the sum of exponentiations of the inputs in base-2.\n",
    "* [heaviside](#heaviside)(x1, x2, \\*\\*kwargs) : Compute the Heaviside step function.\n",
    "\n"
   ]
  },
  {
   "cell_type": "markdown",
   "metadata": {},
   "source": [
    "## Usage\n",
    "To demonstrate the use of mathematical operations on spectrochempy object, we will first load an experimental 2D dataset."
   ]
  },
  {
   "cell_type": "code",
   "execution_count": null,
   "metadata": {},
   "outputs": [],
   "source": [
    "# import a dataset to check the ufuncs\n",
    "dataset = NDDataset.read_omnic(os.path.join('irdata', 'NH4Y-activation.SPG'))\n",
    "dataset"
   ]
  },
  {
   "cell_type": "markdown",
   "metadata": {},
   "source": [
    "This dataset will be artificially modified already using some mathematical operation (subtraction with a scalar) to present negative values."
   ]
  },
  {
   "cell_type": "code",
   "execution_count": null,
   "metadata": {},
   "outputs": [],
   "source": [
    "dataset = dataset - 2.     # add an offset to make that some of the values become negative\n",
    "dataset"
   ]
  },
  {
   "cell_type": "code",
   "execution_count": null,
   "metadata": {},
   "outputs": [],
   "source": [
    "dataset = dataset.clip(1.8)  # additionally limit the upper values using the clip \n",
    "dataset"
   ]
  },
  {
   "cell_type": "code",
   "execution_count": null,
   "metadata": {},
   "outputs": [],
   "source": [
    "_ = dataset.plot(figsize=(6,2.5))"
   ]
  },
  {
   "cell_type": "markdown",
   "metadata": {},
   "source": [
    "### Unary functions"
   ]
  },
  {
   "cell_type": "markdown",
   "metadata": {},
   "source": [
    "#### Functions affecting magnitudes of the number but keeping units"
   ]
  },
  {
   "cell_type": "markdown",
   "metadata": {},
   "source": [
    "##### negative\n",
    "Numerical negative, element-wise, keep units"
   ]
  },
  {
   "cell_type": "code",
   "execution_count": null,
   "metadata": {},
   "outputs": [],
   "source": [
    "out = np.negative(dataset)\n",
    "_ = out.plot(figsize=(6,2.5))"
   ]
  },
  {
   "cell_type": "markdown",
   "metadata": {},
   "source": [
    "##### abs\n",
    "##### absolute (alias of abs)\n",
    "##### fabs (absolute for float arrays)\n",
    "Numerical absolute value element-wise, element-wise, keep units"
   ]
  },
  {
   "cell_type": "code",
   "execution_count": null,
   "metadata": {},
   "outputs": [],
   "source": [
    "out = np.abs(dataset)\n",
    "_ = out.plot(figsize=(6,2.5))"
   ]
  },
  {
   "cell_type": "markdown",
   "metadata": {},
   "source": [
    "##### rint\n",
    "Round elements of the array to the nearest integer, element-wise, keep units"
   ]
  },
  {
   "cell_type": "code",
   "execution_count": null,
   "metadata": {},
   "outputs": [],
   "source": [
    "out = np.rint(dataset)\n",
    "_ = out.plot(figsize=(6,2.5))  # not that title is not modified for this ufunc"
   ]
  },
  {
   "cell_type": "markdown",
   "metadata": {},
   "source": [
    "##### floor\n",
    "Return the floor of the input, element-wise."
   ]
  },
  {
   "cell_type": "code",
   "execution_count": null,
   "metadata": {},
   "outputs": [],
   "source": [
    "out = np.floor(dataset)\n",
    "_ = out.plot(figsize=(6,2.5)) "
   ]
  },
  {
   "cell_type": "markdown",
   "metadata": {},
   "source": [
    "##### ceil\n",
    "Return the ceiling of the input, element-wise."
   ]
  },
  {
   "cell_type": "code",
   "execution_count": null,
   "metadata": {},
   "outputs": [],
   "source": [
    "out = np.ceil(dataset)\n",
    "_ = out.plot(figsize=(6,2.5)) "
   ]
  },
  {
   "cell_type": "markdown",
   "metadata": {},
   "source": [
    "##### trunc\n",
    "Return the truncated value of the input, element-wise."
   ]
  },
  {
   "cell_type": "code",
   "execution_count": null,
   "metadata": {},
   "outputs": [],
   "source": [
    "out = np.trunc(dataset)\n",
    "_ = out.plot(figsize=(6,2.5)) "
   ]
  },
  {
   "cell_type": "markdown",
   "metadata": {},
   "source": [
    "#### Functions affecting magnitudes of the number but also units\n",
    "##### sqrt\n",
    "Return the non-negative square-root of an array, element-wise."
   ]
  },
  {
   "cell_type": "code",
   "execution_count": null,
   "metadata": {},
   "outputs": [],
   "source": [
    "d = dataset-np.min(dataset)"
   ]
  },
  {
   "cell_type": "code",
   "execution_count": null,
   "metadata": {},
   "outputs": [],
   "source": [
    "out = np.sqrt(dataset)   # as they are some negative elements, return dataset has complex dtype.\n",
    "_ = out.real.plot(figsize=(6,2.5))\n",
    "_ = out.imag.plot(figsize=(6,2.5))"
   ]
  },
  {
   "cell_type": "markdown",
   "metadata": {},
   "source": [
    "##### square\n",
    "Return the element-wise square of the input."
   ]
  },
  {
   "cell_type": "code",
   "execution_count": null,
   "metadata": {},
   "outputs": [],
   "source": [
    "out = np.square(dataset)\n",
    "_ = out.plot(figsize=(6,2.5))"
   ]
  },
  {
   "cell_type": "markdown",
   "metadata": {},
   "source": [
    "##### cbrt\n",
    "Return the cube-root of an array, element-wise."
   ]
  },
  {
   "cell_type": "code",
   "execution_count": null,
   "metadata": {},
   "outputs": [],
   "source": [
    "out = np.cbrt(dataset)\n",
    "_ = out.plot(figsize=(6,2.5))"
   ]
  },
  {
   "cell_type": "markdown",
   "metadata": {},
   "source": [
    "##### reciprocal\n",
    "Return the reciprocal of the argument, element-wise."
   ]
  },
  {
   "cell_type": "code",
   "execution_count": null,
   "metadata": {},
   "outputs": [],
   "source": [
    "out = np.reciprocal(dataset+3.)\n",
    "_ = out.plot(figsize=(6,2.5))"
   ]
  },
  {
   "cell_type": "markdown",
   "metadata": {},
   "source": [
    "#### Functions that require no units or dimensionless units for inputs. Returns dimensionless objects."
   ]
  },
  {
   "cell_type": "markdown",
   "metadata": {},
   "source": [
    "##### exp\n",
    "Exponential of all elements in the input array, element-wise"
   ]
  },
  {
   "cell_type": "code",
   "execution_count": null,
   "metadata": {},
   "outputs": [],
   "source": [
    "out = np.exp(dataset)\n",
    "_ = out.plot(figsize=(6,2.5))"
   ]
  },
  {
   "cell_type": "markdown",
   "metadata": {},
   "source": [
    "Obviously numpy exponential functions applies only to dimensionless array. Else an error is generated."
   ]
  },
  {
   "cell_type": "code",
   "execution_count": null,
   "metadata": {},
   "outputs": [],
   "source": [
    "x = NDDataset(np.arange(5), units='m')\n",
    "try:\n",
    "    np.exp(x)  # A dimensionality error will be generated\n",
    "except DimensionalityError as e:\n",
    "    error_(e)"
   ]
  },
  {
   "cell_type": "markdown",
   "metadata": {},
   "source": [
    "##### exp2\n",
    "Calculate 2\\*\\*p for all p in the input array."
   ]
  },
  {
   "cell_type": "code",
   "execution_count": null,
   "metadata": {},
   "outputs": [],
   "source": [
    "out = np.exp2(dataset)\n",
    "_ = out.plot(figsize=(6,2.5))"
   ]
  },
  {
   "cell_type": "markdown",
   "metadata": {},
   "source": [
    "##### expm1 \n",
    "Calculate `exp(x) - 1` for all elements in the array. "
   ]
  },
  {
   "cell_type": "code",
   "execution_count": null,
   "metadata": {},
   "outputs": [],
   "source": [
    "out = np.expm1(dataset)\n",
    "_ = out.plot(figsize=(6,2.5))"
   ]
  },
  {
   "cell_type": "markdown",
   "metadata": {},
   "source": [
    "##### log\n",
    "Natural logarithm, element-wise. "
   ]
  },
  {
   "cell_type": "code",
   "execution_count": null,
   "metadata": {},
   "outputs": [],
   "source": [
    "out = np.log(dataset)\n",
    "_ = out.plot(figsize=(6,2.5))"
   ]
  },
  {
   "cell_type": "markdown",
   "metadata": {},
   "source": [
    "##### log2\n",
    "Base-2 logarithm of x."
   ]
  },
  {
   "cell_type": "code",
   "execution_count": null,
   "metadata": {},
   "outputs": [],
   "source": [
    "out = np.log2(dataset)\n",
    "_ = out.plot(figsize=(6,2.5))"
   ]
  },
  {
   "cell_type": "markdown",
   "metadata": {},
   "source": [
    "##### log10\n",
    "Return the base 10 logarithm of the input array, element-wise. "
   ]
  },
  {
   "cell_type": "code",
   "execution_count": null,
   "metadata": {},
   "outputs": [],
   "source": [
    "out = np.log10(dataset)\n",
    "_ = out.plot(figsize=(6,2.5))"
   ]
  },
  {
   "cell_type": "markdown",
   "metadata": {},
   "source": [
    "##### log1p\n",
    "Return `log(x + 1)`, element-wise."
   ]
  },
  {
   "cell_type": "code",
   "execution_count": null,
   "metadata": {},
   "outputs": [],
   "source": [
    "out = np.log1p(dataset)\n",
    "_ = out.plot(figsize=(6,2.5))"
   ]
  },
  {
   "cell_type": "markdown",
   "metadata": {},
   "source": [
    "#### Functions that return numpy arrays (*Work only for NDDataset*)"
   ]
  },
  {
   "cell_type": "markdown",
   "metadata": {},
   "source": [
    "##### sign\n",
    "Returns an element-wise indication of the sign of a number. Returned object is a ndarray"
   ]
  },
  {
   "cell_type": "code",
   "execution_count": null,
   "metadata": {},
   "outputs": [],
   "source": [
    "np.sign(dataset)"
   ]
  },
  {
   "cell_type": "code",
   "execution_count": null,
   "metadata": {},
   "outputs": [],
   "source": [
    "np.logical_not(dataset<0)"
   ]
  },
  {
   "cell_type": "markdown",
   "metadata": {},
   "source": [
    "##### isfinite\n",
    "Test element-wise for finiteness."
   ]
  },
  {
   "cell_type": "code",
   "execution_count": null,
   "metadata": {},
   "outputs": [],
   "source": [
    "np.isfinite(dataset)"
   ]
  },
  {
   "cell_type": "markdown",
   "metadata": {},
   "source": [
    "##### isinf\n",
    "Test element-wise for positive or negative infinity."
   ]
  },
  {
   "cell_type": "code",
   "execution_count": null,
   "metadata": {},
   "outputs": [],
   "source": [
    "np.isinf(dataset)"
   ]
  },
  {
   "cell_type": "markdown",
   "metadata": {},
   "source": [
    "##### isnan\n",
    "Test element-wise for `NaN` and return result as a boolean array."
   ]
  },
  {
   "cell_type": "code",
   "execution_count": null,
   "metadata": {},
   "outputs": [],
   "source": [
    "np.isnan(dataset)"
   ]
  },
  {
   "cell_type": "markdown",
   "metadata": {},
   "source": [
    "##### signbit\n",
    "Returns element-wise `True` where signbit is set."
   ]
  },
  {
   "cell_type": "code",
   "execution_count": null,
   "metadata": {},
   "outputs": [],
   "source": [
    "np.signbit(dataset)"
   ]
  },
  {
   "cell_type": "markdown",
   "metadata": {},
   "source": [
    "#### Trigonometric functions. Require unitless dataset or radians."
   ]
  },
  {
   "cell_type": "markdown",
   "metadata": {},
   "source": [
    "##### sin\n",
    "Trigonometric sine, element-wise."
   ]
  },
  {
   "cell_type": "code",
   "execution_count": null,
   "metadata": {},
   "outputs": [],
   "source": [
    "out = np.sin(dataset)\n",
    "_ = out.plot(figsize=(6,2.5))"
   ]
  },
  {
   "cell_type": "markdown",
   "metadata": {},
   "source": [
    "##### cos\n",
    "Trigonometric cosine element-wise."
   ]
  },
  {
   "cell_type": "code",
   "execution_count": null,
   "metadata": {},
   "outputs": [],
   "source": [
    "out = np.cos(dataset)\n",
    "_ = out.plot(figsize=(6,2.5))"
   ]
  },
  {
   "cell_type": "markdown",
   "metadata": {},
   "source": [
    "##### tan\n",
    "Compute tangent element-wise."
   ]
  },
  {
   "cell_type": "code",
   "execution_count": null,
   "metadata": {},
   "outputs": [],
   "source": [
    "out = np.tan(dataset/np.max(dataset))\n",
    "_ = out.plot(figsize=(6,2.5))"
   ]
  },
  {
   "cell_type": "markdown",
   "metadata": {},
   "source": [
    "##### arcsin\n",
    "Inverse sine, element-wise."
   ]
  },
  {
   "cell_type": "code",
   "execution_count": null,
   "metadata": {},
   "outputs": [],
   "source": [
    "out = np.arcsin(dataset)\n",
    "_ = out.plot(figsize=(6,2.5))"
   ]
  },
  {
   "cell_type": "markdown",
   "metadata": {},
   "source": [
    "##### arccos\n",
    "Trigonometric inverse cosine, element-wise."
   ]
  },
  {
   "cell_type": "code",
   "execution_count": null,
   "metadata": {},
   "outputs": [],
   "source": [
    "out = np.arccos(dataset)\n",
    "_ = out.plot(figsize=(6,2.5))"
   ]
  },
  {
   "cell_type": "markdown",
   "metadata": {},
   "source": [
    "##### arctan\n",
    "Trigonometric inverse tangent, element-wise."
   ]
  },
  {
   "cell_type": "code",
   "execution_count": null,
   "metadata": {
    "lines_to_next_cell": 2
   },
   "outputs": [],
   "source": [
    "out = np.arctan(dataset)\n",
    "_ = out.plot(figsize=(6,2.5))"
   ]
  },
  {
   "cell_type": "markdown",
   "metadata": {},
   "source": [
    "##### arctan2\n",
    "Element-wise arc tangent of x1/x2 choosing the quadrant correctly.\n",
    "\n",
    "The quadrant (i.e., branch) is chosen so that arctan2(x1, x2) is the signed angle in radians between the ray ending at the origin and passing through the point (1,0), and the ray ending at the origin and passing through the point (x2, x1). "
   ]
  },
  {
   "cell_type": "code",
   "execution_count": null,
   "metadata": {},
   "outputs": [],
   "source": [
    "out = np.arctan2(dataset, dataset*2.)\n",
    "_ = out.plot(figsize=(6,2.5))"
   ]
  },
  {
   "cell_type": "markdown",
   "metadata": {},
   "source": [
    "#### Angle units conversion"
   ]
  },
  {
   "cell_type": "markdown",
   "metadata": {
    "lines_to_next_cell": 2
   },
   "source": [
    "##### rad2deg\n",
    "Convert angles from radians to degrees (warning: unitless or dimensionless are assumed to be radians, so no error will be issued)."
   ]
  },
  {
   "cell_type": "markdown",
   "metadata": {
    "lines_to_next_cell": 2
   },
   "source": [
    "for instance, if we take the z axis (the data magintude) in the figure above, it's expressed in radians. We can change to degrees easily."
   ]
  },
  {
   "cell_type": "code",
   "execution_count": null,
   "metadata": {},
   "outputs": [],
   "source": [
    "out = np.rad2deg(dataset)\n",
    "out.title = 'data' # just to avoid a too long title\n",
    "_ = out.plot(figsize=(6,2.5))"
   ]
  },
  {
   "cell_type": "code",
   "execution_count": null,
   "metadata": {},
   "outputs": [],
   "source": [
    "pi = NDDataset(Quantity(np.pi,'dimensionless'))\n",
    "np.sin(pi).data, np.sin(np.rad2deg(pi)).data"
   ]
  },
  {
   "cell_type": "markdown",
   "metadata": {
    "lines_to_next_cell": 2
   },
   "source": [
    "##### deg2rad\n",
    "Convert angles from degrees to radians."
   ]
  },
  {
   "cell_type": "code",
   "execution_count": null,
   "metadata": {},
   "outputs": [],
   "source": [
    "out = np.deg2rad(out)\n",
    "out.title = 'data' \n",
    "_ = out.plot(figsize=(6,2.5))"
   ]
  },
  {
   "cell_type": "markdown",
   "metadata": {},
   "source": [
    "#### Hyperbolic functions"
   ]
  },
  {
   "cell_type": "markdown",
   "metadata": {},
   "source": [
    "##### sinh\n",
    "Hyperbolic sine, element-wise."
   ]
  },
  {
   "cell_type": "code",
   "execution_count": null,
   "metadata": {
    "lines_to_next_cell": 2
   },
   "outputs": [],
   "source": [
    "out = np.sinh(dataset)\n",
    "_ = out.plot(figsize=(6,2.5))"
   ]
  },
  {
   "cell_type": "markdown",
   "metadata": {},
   "source": [
    "##### cosh\n",
    "Hyperbolic cosine, element-wise."
   ]
  },
  {
   "cell_type": "code",
   "execution_count": null,
   "metadata": {
    "lines_to_next_cell": 2
   },
   "outputs": [],
   "source": [
    "out = np.cosh(dataset)\n",
    "_ = out.plot(figsize=(6,2.5))"
   ]
  },
  {
   "cell_type": "markdown",
   "metadata": {},
   "source": [
    "##### tanh\n",
    "Compute hyperbolic tangent element-wise."
   ]
  },
  {
   "cell_type": "code",
   "execution_count": null,
   "metadata": {
    "lines_to_next_cell": 2
   },
   "outputs": [],
   "source": [
    "out = np.tanh(dataset)\n",
    "_ = out.plot(figsize=(6,2.5))"
   ]
  },
  {
   "cell_type": "markdown",
   "metadata": {},
   "source": [
    "##### arcsinh\n",
    "Inverse hyperbolic sine element-wise."
   ]
  },
  {
   "cell_type": "code",
   "execution_count": null,
   "metadata": {
    "lines_to_next_cell": 2
   },
   "outputs": [],
   "source": [
    "out = np.arcsinh(dataset)\n",
    "_ = out.plot(figsize=(6,2.5))"
   ]
  },
  {
   "cell_type": "markdown",
   "metadata": {},
   "source": [
    "##### arccosh\n",
    "Inverse hyperbolic cosine, element-wise."
   ]
  },
  {
   "cell_type": "markdown",
   "metadata": {},
   "source": [
    "##### arctanh\n",
    "Inverse hyperbolic tangent element-wise."
   ]
  },
  {
   "cell_type": "code",
   "execution_count": null,
   "metadata": {
    "lines_to_next_cell": 2
   },
   "outputs": [],
   "source": [
    "out = np.arctanh(dataset)\n",
    "_ = out.plot(figsize=(6,2.5))"
   ]
  },
  {
   "cell_type": "markdown",
   "metadata": {},
   "source": [
    "### Binary functions"
   ]
  },
  {
   "cell_type": "code",
   "execution_count": null,
   "metadata": {},
   "outputs": [],
   "source": [
    "dataset2 = np.exp(dataset)  # create a second dataset\n",
    "_ = dataset.plot(figsize=(6,2.5))\n",
    "_ = dataset2.plot(figsize=(6,2.5))"
   ]
  },
  {
   "cell_type": "markdown",
   "metadata": {},
   "source": [
    "#### Arithmetics"
   ]
  },
  {
   "cell_type": "markdown",
   "metadata": {},
   "source": [
    "##### add\n",
    "Add arguments element-wise."
   ]
  },
  {
   "cell_type": "code",
   "execution_count": null,
   "metadata": {
    "lines_to_next_cell": 2
   },
   "outputs": [],
   "source": [
    "out = np.add(dataset, dataset2)\n",
    "_ = out.plot(figsize=(6,2.5))"
   ]
  },
  {
   "cell_type": "markdown",
   "metadata": {},
   "source": [
    "##### subtract\n",
    "Subtract arguments, element-wise."
   ]
  },
  {
   "cell_type": "code",
   "execution_count": null,
   "metadata": {
    "lines_to_next_cell": 2
   },
   "outputs": [],
   "source": [
    "out = np.subtract(dataset, dataset2)\n",
    "_ = out.plot(figsize=(6,2.5))"
   ]
  },
  {
   "cell_type": "markdown",
   "metadata": {},
   "source": [
    "##### multiply\n",
    "Multiply arguments element-wise."
   ]
  },
  {
   "cell_type": "code",
   "execution_count": null,
   "metadata": {
    "lines_to_next_cell": 2
   },
   "outputs": [],
   "source": [
    "out = np.multiply(dataset, dataset2)\n",
    "_ = out.plot(figsize=(6,2.5))"
   ]
  },
  {
   "cell_type": "markdown",
   "metadata": {},
   "source": [
    "##### divide\n",
    "or\n",
    "##### true_divide\n",
    "Returns a true division of the inputs, element-wise."
   ]
  },
  {
   "cell_type": "code",
   "execution_count": null,
   "metadata": {
    "lines_to_next_cell": 2
   },
   "outputs": [],
   "source": [
    "out = np.divide(dataset, dataset2)\n",
    "_ = out.plot(figsize=(6,2.5))"
   ]
  },
  {
   "cell_type": "markdown",
   "metadata": {},
   "source": [
    "##### floor_divide\n",
    "Return the largest integer smaller or equal to the division of the inputs."
   ]
  },
  {
   "cell_type": "code",
   "execution_count": null,
   "metadata": {
    "lines_to_next_cell": 2
   },
   "outputs": [],
   "source": [
    "out = np.floor_divide(dataset, dataset2)\n",
    "_ = out.plot(figsize=(6,2.5))"
   ]
  },
  {
   "cell_type": "markdown",
   "metadata": {},
   "source": [
    "##### mod\n",
    "or\n",
    "##### remainder\n",
    "Return element-wise remainder of division."
   ]
  },
  {
   "cell_type": "code",
   "execution_count": null,
   "metadata": {
    "lines_to_next_cell": 2
   },
   "outputs": [],
   "source": [
    "out = np.mod(dataset, dataset2)\n",
    "_ = out.plot(figsize=(6,2.5))"
   ]
  },
  {
   "cell_type": "markdown",
   "metadata": {},
   "source": [
    "##### fmod\n",
    "Return element-wise remainder of division.\n",
    "\n",
    "**Note**: For `fmod`, the sign of result is the sign of the dividend, while for remainder the sign of the result is the sign of the divisor."
   ]
  },
  {
   "cell_type": "code",
   "execution_count": null,
   "metadata": {
    "lines_to_next_cell": 2
   },
   "outputs": [],
   "source": [
    "out = np.fmod(dataset, dataset2)\n",
    "_ = out.plot(figsize=(6,2.5))"
   ]
  },
  {
   "cell_type": "markdown",
   "metadata": {},
   "source": [
    "##### logaddexp\n",
    "Logarithm of the sum of exponentiations of the inputs.\n",
    "##### logaddexp2\n",
    "Logarithm of the sum of exponentiations of the inputs in base-2."
   ]
  },
  {
   "cell_type": "code",
   "execution_count": null,
   "metadata": {
    "lines_to_next_cell": 2
   },
   "outputs": [],
   "source": [
    "out = np.logaddexp2(dataset, dataset2)\n",
    "_ = out.plot(figsize=(6,2.5))"
   ]
  },
  {
   "cell_type": "markdown",
   "metadata": {},
   "source": [
    "##### heaviside\n",
    "Compute the Heaviside step function.\n",
    "\n",
    "```\n",
    "                      0   if x1 < 0\n",
    "heaviside(x1, x2) =  x2   if x1 == 0\n",
    "                      1   if x1 > 0\n",
    "```"
   ]
  },
  {
   "cell_type": "code",
   "execution_count": null,
   "metadata": {
    "lines_to_next_cell": 2
   },
   "outputs": [],
   "source": [
    "h = np.heaviside(dataset, dataset2)\n",
    "_ = h.plot(figsize=(6,2.5))\n",
    "out = dataset * h\n",
    "_ = out.plot(figsize=(6,2.5))"
   ]
  },
  {
   "cell_type": "markdown",
   "metadata": {},
   "source": [
    "#### Logical and comparison operations"
   ]
  },
  {
   "cell_type": "markdown",
   "metadata": {},
   "source": [
    "##### logical_not\n",
    "Compute the truth value of NOT x element-wise. "
   ]
  },
  {
   "cell_type": "code",
   "execution_count": null,
   "metadata": {},
   "outputs": [],
   "source": [
    "np.logical_not(dataset)"
   ]
  }
 ],
 "metadata": {
  "jupytext": {
   "text_representation": {
    "extension": ".py",
    "format_name": "percent",
    "format_version": "1.2",
    "jupytext_version": "0.8.6"
   }
  },
  "kernelspec": {
   "display_name": "Python 3",
   "language": "python",
   "name": "python3"
  },
  "language_info": {
   "codemirror_mode": {
    "name": "ipython",
    "version": 3
   },
   "file_extension": ".py",
   "mimetype": "text/x-python",
   "name": "python",
   "nbconvert_exporter": "python",
   "pygments_lexer": "ipython3",
   "version": "3.6.8"
  }
 },
 "nbformat": 4,
 "nbformat_minor": 2
}
