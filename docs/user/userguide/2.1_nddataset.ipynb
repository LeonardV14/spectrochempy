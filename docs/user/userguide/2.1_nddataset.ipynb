{
 "cells": [
  {
   "cell_type": "markdown",
   "metadata": {},
   "source": [
    "# 2. Create NDDataset objects"
   ]
  },
  {
   "cell_type": "code",
   "execution_count": 1,
   "metadata": {
    "scrolled": true
   },
   "outputs": [
    {
     "name": "stdout",
     "output_type": "stream",
     "text": [
      "SpectroChemPy's API - v.0.1a3.dev6+g98c959a8.d20181224\n",
      "© Copyright 2014-2018 - A.Travert & C.Fernandez @ LCS\n"
     ]
    }
   ],
   "source": [
    "from spectrochempy import *"
   ]
  },
  {
   "cell_type": "markdown",
   "metadata": {},
   "source": [
    "Multidimensional array are defined in Spectrochempy using the ``NDDataset`` object.\n",
    "\n",
    "``NDDataset`` objects mostly behave as numpy's `numpy.ndarray`.\n",
    "\n",
    "However, unlike raw numpy's ndarray, the presence of optional properties such\n",
    "as `uncertainty`, `mask`, `units`, `axes`, and axes `labels` make them\n",
    "(hopefully) more appropriate for handling spectroscopic information, one of\n",
    "the major objectives of the SpectroChemPy package.\n",
    "\n",
    "Additional metadata can also be added to the instances of this class through the\n",
    "`meta` properties."
   ]
  },
  {
   "cell_type": "markdown",
   "metadata": {},
   "source": [
    "## Create a ND-Dataset from scratch\n",
    "\n",
    "In the following example, a minimal 1D dataset is created from a simple list, to which we can add some metadata:"
   ]
  },
  {
   "cell_type": "code",
   "execution_count": 2,
   "metadata": {},
   "outputs": [
    {
     "name": "stdout",
     "output_type": "stream",
     "text": [
      "      name/id: NDDataset_2cbf2ae0\n",
      "       author: christian@MacBook-Pro-de-Christian.local\n",
      "      created: 2018-12-24 19:53:17.297086\n",
      "last modified: 2018-12-24 19:53:17.298795\n",
      "  description: Some experimental measurements\n",
      "      history: created from scratch\n",
      "   data title: intensity\n",
      "    data size: 3\n",
      "  data values:\n",
      "         [       1        2        3] dimensionless\n",
      "\n",
      "\n"
     ]
    }
   ],
   "source": [
    "da = NDDataset([1,2,3])\n",
    "da.title = 'intensity'   \n",
    "da.history = 'created from scratch'\n",
    "da.description = 'Some experimental measurements'\n",
    "da.units = 'dimensionless'\n",
    "print(da)"
   ]
  },
  {
   "cell_type": "markdown",
   "metadata": {},
   "source": [
    "to get a rich display of the dataset, simply type on the last line of the cell."
   ]
  },
  {
   "cell_type": "code",
   "execution_count": 3,
   "metadata": {},
   "outputs": [
    {
     "data": {
      "text/html": [
       "<table style='width:100%'>\n",
       "<tr style='border: 1px solid lightgray;'><td style='padding-right:5px; width:100px'><strong>Name/Id</strong></td><td style='text-align:left'>NDDataset_2cbf2ae0</td><tr>\n",
       "<tr style='border: 1px solid lightgray;'><td style='padding-right:5px; width:100px'><strong>Author</strong></td><td style='text-align:left'>christian@MacBook-Pro-de-Christian.local</td><tr>\n",
       "<tr style='border: 1px solid lightgray;'><td style='padding-right:5px; width:100px'><strong>Created</strong></td><td style='text-align:left'>2018-12-24 19:53:17.297086</td><tr>\n",
       "<tr style='border: 1px solid lightgray;'><td style='padding-right:5px; width:100px'><strong>Last Modified</strong></td><td style='text-align:left'>2018-12-24 19:53:17.310314</td><tr>\n",
       "<tr style='border: 1px solid lightgray;'><td style='padding-right:5px; width:100px'><strong>Description</strong></td><td style='text-align:left'>Some experimental measurements</td><tr>\n",
       "<tr style='border: 1px solid lightgray;'><td style='padding-right:5px; width:100px'><strong>History</strong></td><td style='text-align:left'>created from scratch</td><tr>\n",
       "<tr style='border: 1px solid lightgray;'><td style='padding-right:5px; width:100px'><strong>data</strong></td><td style='text-align:left'><table style='width:100%'>\n",
       "<tr style='border: 1px solid lightgray;'><td style='padding-right:5px; width:100px'><strong>Title</strong></td><td style='text-align:left'>intensity</td><tr>\n",
       "<tr style='border: 1px solid lightgray;'><td style='padding-right:5px; width:100px'><strong>Size</strong></td><td style='text-align:left'>3</td><tr>\n",
       "<tr style='border: 1px solid lightgray;'><td style='padding-right:5px; width:100px'><strong>Values</strong></td><td style='text-align:left'>[       1        2        3] dimensionless<br/</td><tr>\n",
       "</table>\n",
       "</td><tr>\n",
       "</table><br/>\n"
      ],
      "text/plain": [
       "NDDataset: [       1,        2,        3] dimensionless"
      ]
     },
     "execution_count": 3,
     "metadata": {},
     "output_type": "execute_result"
    }
   ],
   "source": [
    "da"
   ]
  },
  {
   "cell_type": "markdown",
   "metadata": {},
   "source": [
    "Except few addtional metadata such `author`, `created` ..., there is not much\n",
    "differences with respect to a conventional `numpy.ndarray`. For example, one\n",
    "can apply numpy ufunc's directly to a NDDataset or make basic arithmetic\n",
    "operation with these objects:"
   ]
  },
  {
   "cell_type": "code",
   "execution_count": 4,
   "metadata": {},
   "outputs": [
    {
     "data": {
      "text/html": [
       "<table style='width:100%'>\n",
       "<tr style='border: 1px solid lightgray;'><td style='padding-right:5px; width:100px'><strong>Name/Id</strong></td><td style='text-align:left'>2cc52a94</td><tr>\n",
       "<tr style='border: 1px solid lightgray;'><td style='padding-right:5px; width:100px'><strong>Author</strong></td><td style='text-align:left'>christian@MacBook-Pro-de-Christian.local</td><tr>\n",
       "<tr style='border: 1px solid lightgray;'><td style='padding-right:5px; width:100px'><strong>Created</strong></td><td style='text-align:left'>2018-12-24 19:53:17.336718</td><tr>\n",
       "<tr style='border: 1px solid lightgray;'><td style='padding-right:5px; width:100px'><strong>Last Modified</strong></td><td style='text-align:left'>2018-12-24 19:53:17.337985</td><tr>\n",
       "<tr style='border: 1px solid lightgray;'><td style='padding-right:5px; width:100px'><strong>Description</strong></td><td style='text-align:left'>Some experimental measurements</td><tr>\n",
       "<tr style='border: 1px solid lightgray;'><td style='padding-right:5px; width:100px'><strong>History</strong></td><td style='text-align:left'>created from scratch<br/>binary operation pow with `3` has been performed<br/>ufunc sqrt applied.</td><tr>\n",
       "<tr style='border: 1px solid lightgray;'><td style='padding-right:5px; width:100px'><strong>data</strong></td><td style='text-align:left'><table style='width:100%'>\n",
       "<tr style='border: 1px solid lightgray;'><td style='padding-right:5px; width:100px'><strong>Title</strong></td><td style='text-align:left'>intensity</td><tr>\n",
       "<tr style='border: 1px solid lightgray;'><td style='padding-right:5px; width:100px'><strong>Size</strong></td><td style='text-align:left'>3</td><tr>\n",
       "<tr style='border: 1px solid lightgray;'><td style='padding-right:5px; width:100px'><strong>Values</strong></td><td style='text-align:left'>[   1.000    2.828    5.196] dimensionless<br/</td><tr>\n",
       "</table>\n",
       "</td><tr>\n",
       "</table><br/>\n"
      ],
      "text/plain": [
       "NDDataset: [   1.000,    2.828,    5.196] dimensionless"
      ]
     },
     "execution_count": 4,
     "metadata": {},
     "output_type": "execute_result"
    }
   ],
   "source": [
    "da2 = np.sqrt(da**3)\n",
    "da2"
   ]
  },
  {
   "cell_type": "code",
   "execution_count": 5,
   "metadata": {},
   "outputs": [
    {
     "data": {
      "text/html": [
       "<table style='width:100%'>\n",
       "<tr style='border: 1px solid lightgray;'><td style='padding-right:5px; width:100px'><strong>Name/Id</strong></td><td style='text-align:left'>2cc99bec</td><tr>\n",
       "<tr style='border: 1px solid lightgray;'><td style='padding-right:5px; width:100px'><strong>Author</strong></td><td style='text-align:left'>christian@MacBook-Pro-de-Christian.local</td><tr>\n",
       "<tr style='border: 1px solid lightgray;'><td style='padding-right:5px; width:100px'><strong>Created</strong></td><td style='text-align:left'>2018-12-24 19:53:17.365802</td><tr>\n",
       "<tr style='border: 1px solid lightgray;'><td style='padding-right:5px; width:100px'><strong>Last Modified</strong></td><td style='text-align:left'>2018-12-24 19:53:17.366753</td><tr>\n",
       "<tr style='border: 1px solid lightgray;'><td style='padding-right:5px; width:100px'><strong>Description</strong></td><td style='text-align:left'>Some experimental measurements</td><tr>\n",
       "<tr style='border: 1px solid lightgray;'><td style='padding-right:5px; width:100px'><strong>History</strong></td><td style='text-align:left'>created from scratch<br/>binary operation add with `2cc85ade` has been performed</td><tr>\n",
       "<tr style='border: 1px solid lightgray;'><td style='padding-right:5px; width:100px'><strong>data</strong></td><td style='text-align:left'><table style='width:100%'>\n",
       "<tr style='border: 1px solid lightgray;'><td style='padding-right:5px; width:100px'><strong>Title</strong></td><td style='text-align:left'>intensity</td><tr>\n",
       "<tr style='border: 1px solid lightgray;'><td style='padding-right:5px; width:100px'><strong>Size</strong></td><td style='text-align:left'>3</td><tr>\n",
       "<tr style='border: 1px solid lightgray;'><td style='padding-right:5px; width:100px'><strong>Values</strong></td><td style='text-align:left'>[   1.500    3.000    4.500] dimensionless<br/</td><tr>\n",
       "</table>\n",
       "</td><tr>\n",
       "</table><br/>\n"
      ],
      "text/plain": [
       "NDDataset: [   1.500,    3.000,    4.500] dimensionless"
      ]
     },
     "execution_count": 5,
     "metadata": {},
     "output_type": "execute_result"
    }
   ],
   "source": [
    "da3 = da + da/2.\n",
    "da3"
   ]
  },
  {
   "cell_type": "markdown",
   "metadata": {},
   "source": [
    "## Create a NDDataset : full example\n",
    "\n",
    "There are many ways to create |NDDataset| objects.\n",
    "\n",
    "Above we have created a NDDataset from a simple list, but it is generally more\n",
    "convenient to create `numpy.ndarray`).\n",
    "\n",
    "Below is an example of a 3D-Dataset created from a ``numpy.ndarray`` to which axes can be added. \n",
    "\n",
    "Let's first create the 3 one-dimensional coordinates, for which we can define labels, units, and masks! "
   ]
  },
  {
   "cell_type": "code",
   "execution_count": 6,
   "metadata": {},
   "outputs": [],
   "source": [
    "coord0 = Coord(data = np.linspace(200., 300., 3),\n",
    "            labels = ['cold', 'normal', 'hot'],\n",
    "            mask = None,\n",
    "            units = \"K\",\n",
    "            title = 'temperature')\n",
    "\n",
    "coord1 = Coord(data = np.linspace(0., 60., 100),\n",
    "            labels = None,\n",
    "            mask = None,\n",
    "            units = \"minutes\",\n",
    "            title = 'time-on-stream')\n",
    "\n",
    "coord2 = Coord(data = np.linspace(4000., 1000., 100),\n",
    "            labels = None,\n",
    "            mask = None,\n",
    "            units = \"cm^-1\",\n",
    "            title = 'wavenumber')"
   ]
  },
  {
   "cell_type": "markdown",
   "metadata": {},
   "source": [
    "Here is the displayed info for coord1 for instance:"
   ]
  },
  {
   "cell_type": "code",
   "execution_count": 7,
   "metadata": {},
   "outputs": [
    {
     "data": {
      "text/html": [
       "<table style='width:100%'>\n",
       "<tr style='border: 1px solid lightgray;'><td style='padding-right:5px; width:100px'><strong>Title</strong></td><td style='text-align:left'>Time-on-stream</td><tr>\n",
       "<tr style='border: 1px solid lightgray;'><td style='padding-right:5px; width:100px'><strong>Data</strong></td><td style='text-align:left'>[   0.000    0.606 ...   59.394   60.000] min<br/</td><tr>\n",
       "</table>\n"
      ],
      "text/plain": [
       "Coord: [   0.000,    0.606, ...,   59.394,   60.000] min"
      ]
     },
     "execution_count": 7,
     "metadata": {},
     "output_type": "execute_result"
    }
   ],
   "source": [
    "coord1"
   ]
  },
  {
   "cell_type": "markdown",
   "metadata": {},
   "source": [
    "Now we create some 3D data (a ``numpy.ndarray``):"
   ]
  },
  {
   "cell_type": "code",
   "execution_count": 8,
   "metadata": {},
   "outputs": [],
   "source": [
    "nd_data=np.array([np.array([np.sin(coord2.data*2.*np.pi/4000.)*np.exp(-y/60.) for y in coord1.data])*float(t) \n",
    "         for t in coord0.data])**2"
   ]
  },
  {
   "cell_type": "markdown",
   "metadata": {},
   "source": [
    "The dataset is now created with these data and axis. All needed information are passed as parameter of the \n",
    "NDDataset instance constructor. "
   ]
  },
  {
   "cell_type": "code",
   "execution_count": 9,
   "metadata": {},
   "outputs": [],
   "source": [
    "mydataset = NDDataset(nd_data,\n",
    "               coordset = [coord0, coord1, coord2],\n",
    "               title='Absorbance',\n",
    "               units='absorbance'\n",
    "              )\n",
    "\n",
    "mydataset.description = \"\"\"Dataset example created for this tutorial. \n",
    "It's a 3-D dataset (with dimensionless intensity)\"\"\"\n",
    "\n",
    "mydataset.author = 'Blake & Mortimer'"
   ]
  },
  {
   "cell_type": "markdown",
   "metadata": {},
   "source": [
    "We can get some information about this object:"
   ]
  },
  {
   "cell_type": "code",
   "execution_count": 10,
   "metadata": {},
   "outputs": [
    {
     "name": "stdout",
     "output_type": "stream",
     "text": [
      "      name/id: NDDataset_2cd4b50e\n",
      "       author: Blake & Mortimer\n",
      "      created: 2018-12-24 19:53:17.438418\n",
      "last modified: 2018-12-24 19:53:17.442885\n",
      "  description: Dataset example created for this tutorial.\n",
      "               It's a 3-D dataset (with dimensionless intensity)\n",
      "      history: \n",
      "   data title: Absorbance\n",
      "   data shape: 3 x 100 x 100\n",
      "  data values:\n",
      "         [[[   0.000   90.562 ... 39909.438 40000.000]\n",
      "           [   0.000   88.750 ... 39111.277 39200.027]\n",
      "           ...\n",
      "           [   0.000   12.506 ... 5511.379 5523.885]\n",
      "           [   0.000   12.256 ... 5401.155 5413.411]]\n",
      "\n",
      "          [[   0.000  141.502 ... 62358.498 62500.000]\n",
      "           [   0.000  138.672 ... 61111.370 61250.042]\n",
      "           ...\n",
      "           [   0.000   19.541 ... 8611.530 8631.071]\n",
      "           [   0.000   19.150 ... 8439.305 8458.455]]\n",
      "\n",
      "          [[   0.000  203.763 ... 89796.237 90000.000]\n",
      "           [   0.000  199.688 ... 88000.372 88200.061]\n",
      "           ...\n",
      "           [   0.000   28.139 ... 12400.603 12428.742]\n",
      "           [   0.000   27.576 ... 12152.599 12180.175]]] a.u.\n",
      "coordinates 0:\n",
      "               title: Temperature\n",
      "                data: [ 200.000  250.000  300.000] K\n",
      "              labels: [cold normal hot]\n",
      "coordinates 1:\n",
      "               title: Time-on-stream\n",
      "                data: [   0.000    0.606 ...   59.394   60.000] min\n",
      "coordinates 2:\n",
      "               title: Wavenumber\n",
      "                data: [4000.000 3969.697 ... 1030.303 1000.000] cm^-1\n",
      "\n",
      "\n"
     ]
    },
    {
     "data": {
      "text/html": [
       "<table style='width:100%'>\n",
       "<tr style='border: 1px solid lightgray;'><td style='padding-right:5px; width:100px'><strong>Name/Id</strong></td><td style='text-align:left'>NDDataset_2cd4b50e</td><tr>\n",
       "<tr style='border: 1px solid lightgray;'><td style='padding-right:5px; width:100px'><strong>Author</strong></td><td style='text-align:left'>Blake & Mortimer</td><tr>\n",
       "<tr style='border: 1px solid lightgray;'><td style='padding-right:5px; width:100px'><strong>Created</strong></td><td style='text-align:left'>2018-12-24 19:53:17.438418</td><tr>\n",
       "<tr style='border: 1px solid lightgray;'><td style='padding-right:5px; width:100px'><strong>Last Modified</strong></td><td style='text-align:left'>2018-12-24 19:53:17.455144</td><tr>\n",
       "<tr style='border: 1px solid lightgray;'><td style='padding-right:5px; width:100px'><strong>Description</strong></td><td style='text-align:left'>Dataset example created for this tutorial. <br/>It's a 3-D dataset (with dimensionless intensity)</td><tr>\n",
       "<tr style='border: 1px solid lightgray;'><td style='padding-right:5px; width:100px'><strong>data</strong></td><td style='text-align:left'><table style='width:100%'>\n",
       "<tr style='border: 1px solid lightgray;'><td style='padding-right:5px; width:100px'><strong>Title</strong></td><td style='text-align:left'>Absorbance</td><tr>\n",
       "<tr style='border: 1px solid lightgray;'><td style='padding-right:5px; width:100px'><strong>Shape</strong></td><td style='text-align:left'>3 x 100 x 100</td><tr>\n",
       "<tr style='border: 1px solid lightgray;'><td style='padding-right:5px; width:100px'><strong>Values</strong></td><td style='text-align:left'>[[[   0.000   90.562 ... 39909.438 40000.000]<br/>  [   0.000   88.750 ... 39111.277 39200.027]<br/>  ...<br/>  [   0.000   12.506 ... 5511.379 5523.885]<br/>  [   0.000   12.256 ... 5401.155 5413.411]]<br/><br/> [[   0.000  141.502 ... 62358.498 62500.000]<br/>  [   0.000  138.672 ... 61111.370 61250.042]<br/>  ...<br/>  [   0.000   19.541 ... 8611.530 8631.071]<br/>  [   0.000   19.150 ... 8439.305 8458.455]]<br/><br/> [[   0.000  203.763 ... 89796.237 90000.000]<br/>  [   0.000  199.688 ... 88000.372 88200.061]<br/>  ...<br/>  [   0.000   28.139 ... 12400.603 12428.742]<br/>  [   0.000   27.576 ... 12152.599 12180.175]]] a.u.<br/</td><tr>\n",
       "</table>\n",
       "</td><tr>\n",
       "<tr style='border: 1px solid lightgray;'><td style='padding-right:5px; width:100px'><strong>Coordinate 0</strong></td><td style='text-align:left'><table style='width:100%'>\n",
       "<tr style='border: 1px solid lightgray;'><td style='padding-right:5px; width:100px'><strong>Title</strong></td><td style='text-align:left'>Temperature</td><tr>\n",
       "<tr style='border: 1px solid lightgray;'><td style='padding-right:5px; width:100px'><strong>Data</strong></td><td style='text-align:left'>[ 200.000  250.000  300.000] K<br/</td><tr>\n",
       "<tr style='border: 1px solid lightgray;'><td style='padding-right:5px; width:100px'><strong>Labels</strong></td><td style='text-align:left'>[cold normal hot]</td><tr>\n",
       "</table>\n",
       "</td><tr>\n",
       "<tr style='border: 1px solid lightgray;'><td style='padding-right:5px; width:100px'><strong>Coordinate 1</strong></td><td style='text-align:left'><table style='width:100%'>\n",
       "<tr style='border: 1px solid lightgray;'><td style='padding-right:5px; width:100px'><strong>Title</strong></td><td style='text-align:left'>Time-on-stream</td><tr>\n",
       "<tr style='border: 1px solid lightgray;'><td style='padding-right:5px; width:100px'><strong>Data</strong></td><td style='text-align:left'>[   0.000    0.606 ...   59.394   60.000] min<br/</td><tr>\n",
       "</table>\n",
       "</td><tr>\n",
       "<tr style='border: 1px solid lightgray;'><td style='padding-right:5px; width:100px'><strong>Coordinate 2</strong></td><td style='text-align:left'><table style='width:100%'>\n",
       "<tr style='border: 1px solid lightgray;'><td style='padding-right:5px; width:100px'><strong>Title</strong></td><td style='text-align:left'>Wavenumber</td><tr>\n",
       "<tr style='border: 1px solid lightgray;'><td style='padding-right:5px; width:100px'><strong>Data</strong></td><td style='text-align:left'>[4000.000 3969.697 ... 1030.303 1000.000] cm<sup>-1</sup><br/</td><tr>\n",
       "</table>\n",
       "</td><tr>\n",
       "</table><br/>\n"
      ],
      "text/plain": [
       "NDDataset: [[[   0.000,   90.562, ..., 39909.438, 40000.000],\n",
       "             [   0.000,   88.750, ..., 39111.277, 39200.027],\n",
       "             ...,\n",
       "             [   0.000,   12.506, ..., 5511.379, 5523.885],\n",
       "             [   0.000,   12.256, ..., 5401.155, 5413.411]],\n",
       "\n",
       "            [[   0.000,  141.502, ..., 62358.498, 62500.000],\n",
       "             [   0.000,  138.672, ..., 61111.370, 61250.042],\n",
       "             ...,\n",
       "             [   0.000,   19.541, ..., 8611.530, 8631.071],\n",
       "             [   0.000,   19.150, ..., 8439.305, 8458.455]],\n",
       "\n",
       "            [[   0.000,  203.763, ..., 89796.237, 90000.000],\n",
       "             [   0.000,  199.688, ..., 88000.372, 88200.061],\n",
       "             ...,\n",
       "             [   0.000,   28.139, ..., 12400.603, 12428.742],\n",
       "             [   0.000,   27.576, ..., 12152.599, 12180.175]]] a.u."
      ]
     },
     "execution_count": 10,
     "metadata": {},
     "output_type": "execute_result"
    }
   ],
   "source": [
    "print(mydataset)\n",
    "mydataset"
   ]
  },
  {
   "cell_type": "markdown",
   "metadata": {},
   "source": [
    "## Copying existing NDDataset\n",
    "\n",
    "To copy an existing dataset, this is as simple as:"
   ]
  },
  {
   "cell_type": "code",
   "execution_count": 11,
   "metadata": {},
   "outputs": [],
   "source": [
    "da_copy = da.copy()"
   ]
  },
  {
   "cell_type": "markdown",
   "metadata": {},
   "source": [
    "or alternatively:"
   ]
  },
  {
   "cell_type": "code",
   "execution_count": 12,
   "metadata": {},
   "outputs": [],
   "source": [
    "da_copy = da[:]"
   ]
  },
  {
   "cell_type": "markdown",
   "metadata": {},
   "source": [
    "Finally, it is also possible to initialize a dataset using an existing one:"
   ]
  },
  {
   "cell_type": "code",
   "execution_count": 13,
   "metadata": {},
   "outputs": [
    {
     "data": {
      "text/html": [
       "<table style='width:100%'>\n",
       "<tr style='border: 1px solid lightgray;'><td style='padding-right:5px; width:100px'><strong>Name/Id</strong></td><td style='text-align:left'>duplicate</td><tr>\n",
       "<tr style='border: 1px solid lightgray;'><td style='padding-right:5px; width:100px'><strong>Author</strong></td><td style='text-align:left'>christian@MacBook-Pro-de-Christian.local</td><tr>\n",
       "<tr style='border: 1px solid lightgray;'><td style='padding-right:5px; width:100px'><strong>Created</strong></td><td style='text-align:left'>2018-12-24 19:53:17.365802</td><tr>\n",
       "<tr style='border: 1px solid lightgray;'><td style='padding-right:5px; width:100px'><strong>Last Modified</strong></td><td style='text-align:left'>2018-12-24 19:53:17.502411</td><tr>\n",
       "<tr style='border: 1px solid lightgray;'><td style='padding-right:5px; width:100px'><strong>Description</strong></td><td style='text-align:left'></td><tr>\n",
       "<tr style='border: 1px solid lightgray;'><td style='padding-right:5px; width:100px'><strong>data</strong></td><td style='text-align:left'><table style='width:100%'>\n",
       "<tr style='border: 1px solid lightgray;'><td style='padding-right:5px; width:100px'><strong>Title</strong></td><td style='text-align:left'>intensity</td><tr>\n",
       "<tr style='border: 1px solid lightgray;'><td style='padding-right:5px; width:100px'><strong>Size</strong></td><td style='text-align:left'>3</td><tr>\n",
       "<tr style='border: 1px solid lightgray;'><td style='padding-right:5px; width:100px'><strong>Values</strong></td><td style='text-align:left'>[   1.500    3.000    4.500] a.u.<br/</td><tr>\n",
       "</table>\n",
       "</td><tr>\n",
       "</table><br/>\n"
      ],
      "text/plain": [
       "NDDataset: [   1.500,    3.000,    4.500] a.u."
      ]
     },
     "execution_count": 13,
     "metadata": {},
     "output_type": "execute_result"
    }
   ],
   "source": [
    "dc = NDDataset(da3, name='duplicate', units='absorbance')\n",
    "dc"
   ]
  },
  {
   "cell_type": "markdown",
   "metadata": {},
   "source": [
    "### Other ways to create NDDatasets\n",
    "\n",
    "Any numpy creation function can be used to set up the initial dataset array:\n",
    "       [numpy array creation routines](https://docs.scipy.org/doc/numpy/reference/routines.array-creation.html#routines-array-creation)\n"
   ]
  },
  {
   "cell_type": "code",
   "execution_count": 14,
   "metadata": {},
   "outputs": [
    {
     "data": {
      "text/html": [
       "<table style='width:100%'>\n",
       "<tr style='border: 1px solid lightgray;'><td style='padding-right:5px; width:100px'><strong>Name/Id</strong></td><td style='text-align:left'>NDDataset_2ce14ce2</td><tr>\n",
       "<tr style='border: 1px solid lightgray;'><td style='padding-right:5px; width:100px'><strong>Author</strong></td><td style='text-align:left'>christian@MacBook-Pro-de-Christian.local</td><tr>\n",
       "<tr style='border: 1px solid lightgray;'><td style='padding-right:5px; width:100px'><strong>Created</strong></td><td style='text-align:left'>2018-12-24 19:53:17.520901</td><tr>\n",
       "<tr style='border: 1px solid lightgray;'><td style='padding-right:5px; width:100px'><strong>Last Modified</strong></td><td style='text-align:left'>2018-12-24 19:53:17.523457</td><tr>\n",
       "<tr style='border: 1px solid lightgray;'><td style='padding-right:5px; width:100px'><strong>Description</strong></td><td style='text-align:left'></td><tr>\n",
       "<tr style='border: 1px solid lightgray;'><td style='padding-right:5px; width:100px'><strong>data</strong></td><td style='text-align:left'><table style='width:100%'>\n",
       "<tr style='border: 1px solid lightgray;'><td style='padding-right:5px; width:100px'><strong>Title</strong></td><td style='text-align:left'>Datasets with only zeros</td><tr>\n",
       "<tr style='border: 1px solid lightgray;'><td style='padding-right:5px; width:100px'><strong>Shape</strong></td><td style='text-align:left'>2 x 2</td><tr>\n",
       "<tr style='border: 1px solid lightgray;'><td style='padding-right:5px; width:100px'><strong>Values</strong></td><td style='text-align:left'>[[   0.000    0.000]<br/> [   0.000    0.000]] m<br/</td><tr>\n",
       "</table>\n",
       "</td><tr>\n",
       "</table><br/>\n"
      ],
      "text/plain": [
       "NDDataset: [[   0.000,    0.000],\n",
       "            [   0.000,    0.000]] m"
      ]
     },
     "execution_count": 14,
     "metadata": {},
     "output_type": "execute_result"
    }
   ],
   "source": [
    "zeros((2,2), units='meters', title='Datasets with only zeros')"
   ]
  },
  {
   "cell_type": "code",
   "execution_count": 15,
   "metadata": {},
   "outputs": [
    {
     "data": {
      "text/html": [
       "<table style='width:100%'>\n",
       "<tr style='border: 1px solid lightgray;'><td style='padding-right:5px; width:100px'><strong>Name/Id</strong></td><td style='text-align:left'>NDDataset_2ce359c4</td><tr>\n",
       "<tr style='border: 1px solid lightgray;'><td style='padding-right:5px; width:100px'><strong>Author</strong></td><td style='text-align:left'>christian@MacBook-Pro-de-Christian.local</td><tr>\n",
       "<tr style='border: 1px solid lightgray;'><td style='padding-right:5px; width:100px'><strong>Created</strong></td><td style='text-align:left'>2018-12-24 19:53:17.534335</td><tr>\n",
       "<tr style='border: 1px solid lightgray;'><td style='padding-right:5px; width:100px'><strong>Last Modified</strong></td><td style='text-align:left'>2018-12-24 19:53:17.536031</td><tr>\n",
       "<tr style='border: 1px solid lightgray;'><td style='padding-right:5px; width:100px'><strong>Description</strong></td><td style='text-align:left'></td><tr>\n",
       "<tr style='border: 1px solid lightgray;'><td style='padding-right:5px; width:100px'><strong>data</strong></td><td style='text-align:left'><table style='width:100%'>\n",
       "<tr style='border: 1px solid lightgray;'><td style='padding-right:5px; width:100px'><strong>Title</strong></td><td style='text-align:left'>Datasets with only ones</td><tr>\n",
       "<tr style='border: 1px solid lightgray;'><td style='padding-right:5px; width:100px'><strong>Shape</strong></td><td style='text-align:left'>2 x 2</td><tr>\n",
       "<tr style='border: 1px solid lightgray;'><td style='padding-right:5px; width:100px'><strong>Values</strong></td><td style='text-align:left'>[[   1.000    1.000]<br/> [   1.000    1.000]] kg<br/</td><tr>\n",
       "</table>\n",
       "</td><tr>\n",
       "</table><br/>\n"
      ],
      "text/plain": [
       "NDDataset: [[   1.000,    1.000],\n",
       "            [   1.000,    1.000]] kg"
      ]
     },
     "execution_count": 15,
     "metadata": {},
     "output_type": "execute_result"
    }
   ],
   "source": [
    "ones((2,2), units='kilograms', title='Datasets with only ones')"
   ]
  },
  {
   "cell_type": "code",
   "execution_count": 16,
   "metadata": {},
   "outputs": [
    {
     "data": {
      "text/html": [
       "<table style='width:100%'>\n",
       "<tr style='border: 1px solid lightgray;'><td style='padding-right:5px; width:100px'><strong>Name/Id</strong></td><td style='text-align:left'>NDDataset_2ce5452c</td><tr>\n",
       "<tr style='border: 1px solid lightgray;'><td style='padding-right:5px; width:100px'><strong>Author</strong></td><td style='text-align:left'>christian@MacBook-Pro-de-Christian.local</td><tr>\n",
       "<tr style='border: 1px solid lightgray;'><td style='padding-right:5px; width:100px'><strong>Created</strong></td><td style='text-align:left'>2018-12-24 19:53:17.546966</td><tr>\n",
       "<tr style='border: 1px solid lightgray;'><td style='padding-right:5px; width:100px'><strong>Last Modified</strong></td><td style='text-align:left'>2018-12-24 19:53:17.548161</td><tr>\n",
       "<tr style='border: 1px solid lightgray;'><td style='padding-right:5px; width:100px'><strong>Description</strong></td><td style='text-align:left'></td><tr>\n",
       "<tr style='border: 1px solid lightgray;'><td style='padding-right:5px; width:100px'><strong>data</strong></td><td style='text-align:left'><table style='width:100%'>\n",
       "<tr style='border: 1px solid lightgray;'><td style='padding-right:5px; width:100px'><strong>Title</strong></td><td style='text-align:left'>with only float=1.25</td><tr>\n",
       "<tr style='border: 1px solid lightgray;'><td style='padding-right:5px; width:100px'><strong>Shape</strong></td><td style='text-align:left'>2 x 2</td><tr>\n",
       "<tr style='border: 1px solid lightgray;'><td style='padding-right:5px; width:100px'><strong>Values</strong></td><td style='text-align:left'>[[   1.250    1.250]<br/> [   1.250    1.250]] dimensionless<br/</td><tr>\n",
       "</table>\n",
       "</td><tr>\n",
       "</table><br/>\n"
      ],
      "text/plain": [
       "NDDataset: [[   1.250,    1.250],\n",
       "            [   1.250,    1.250]] dimensionless"
      ]
     },
     "execution_count": 16,
     "metadata": {},
     "output_type": "execute_result"
    }
   ],
   "source": [
    "full((2,2), fill_value=1.25, units='radians', title = 'with only float=1.25')  #TODO: check the pb. of radians not displaying"
   ]
  },
  {
   "cell_type": "markdown",
   "metadata": {},
   "source": [
    "As with numpy, it is also possible to take another dataset as a template:"
   ]
  },
  {
   "cell_type": "code",
   "execution_count": 17,
   "metadata": {},
   "outputs": [
    {
     "data": {
      "text/html": [
       "<table style='width:100%'>\n",
       "<tr style='border: 1px solid lightgray;'><td style='padding-right:5px; width:100px'><strong>Name/Id</strong></td><td style='text-align:left'>NDDataset_2ce71e92</td><tr>\n",
       "<tr style='border: 1px solid lightgray;'><td style='padding-right:5px; width:100px'><strong>Author</strong></td><td style='text-align:left'>christian@MacBook-Pro-de-Christian.local</td><tr>\n",
       "<tr style='border: 1px solid lightgray;'><td style='padding-right:5px; width:100px'><strong>Created</strong></td><td style='text-align:left'>2018-12-24 19:53:17.559111</td><tr>\n",
       "<tr style='border: 1px solid lightgray;'><td style='padding-right:5px; width:100px'><strong>Last Modified</strong></td><td style='text-align:left'>2018-12-24 19:53:17.561066</td><tr>\n",
       "<tr style='border: 1px solid lightgray;'><td style='padding-right:5px; width:100px'><strong>Description</strong></td><td style='text-align:left'></td><tr>\n",
       "<tr style='border: 1px solid lightgray;'><td style='padding-right:5px; width:100px'><strong>data</strong></td><td style='text-align:left'><table style='width:100%'>\n",
       "<tr style='border: 1px solid lightgray;'><td style='padding-right:5px; width:100px'><strong>Title</strong></td><td style='text-align:left'>NDDataset_2ce71e92</td><tr>\n",
       "<tr style='border: 1px solid lightgray;'><td style='padding-right:5px; width:100px'><strong>Shape</strong></td><td style='text-align:left'>2 x 3</td><tr>\n",
       "<tr style='border: 1px solid lightgray;'><td style='padding-right:5px; width:100px'><strong>Values</strong></td><td style='text-align:left'>[[True True True]<br/> [True True True]]<br/</td><tr>\n",
       "</table>\n",
       "</td><tr>\n",
       "</table><br/>\n"
      ],
      "text/plain": [
       "NDDataset: [[True, True, True],\n",
       "            [True, True, True]] unitless"
      ]
     },
     "execution_count": 17,
     "metadata": {},
     "output_type": "execute_result"
    }
   ],
   "source": [
    "ds = ones((2,3), dtype='bool')\n",
    "ds"
   ]
  },
  {
   "cell_type": "markdown",
   "metadata": {},
   "source": [
    "Now we use ``ds`` as a template, for the shape, but we can change the `dtype`."
   ]
  },
  {
   "cell_type": "code",
   "execution_count": 18,
   "metadata": {},
   "outputs": [
    {
     "data": {
      "text/html": [
       "<table style='width:100%'>\n",
       "<tr style='border: 1px solid lightgray;'><td style='padding-right:5px; width:100px'><strong>Name/Id</strong></td><td style='text-align:left'>2cea7812</td><tr>\n",
       "<tr style='border: 1px solid lightgray;'><td style='padding-right:5px; width:100px'><strong>Author</strong></td><td style='text-align:left'>christian@MacBook-Pro-de-Christian.local</td><tr>\n",
       "<tr style='border: 1px solid lightgray;'><td style='padding-right:5px; width:100px'><strong>Created</strong></td><td style='text-align:left'>2018-12-24 19:53:17.581172</td><tr>\n",
       "<tr style='border: 1px solid lightgray;'><td style='padding-right:5px; width:100px'><strong>Last Modified</strong></td><td style='text-align:left'>2018-12-24 19:53:17.582277</td><tr>\n",
       "<tr style='border: 1px solid lightgray;'><td style='padding-right:5px; width:100px'><strong>Description</strong></td><td style='text-align:left'></td><tr>\n",
       "<tr style='border: 1px solid lightgray;'><td style='padding-right:5px; width:100px'><strong>data</strong></td><td style='text-align:left'><table style='width:100%'>\n",
       "<tr style='border: 1px solid lightgray;'><td style='padding-right:5px; width:100px'><strong>Title</strong></td><td style='text-align:left'>NDDataset_2ce71e92</td><tr>\n",
       "<tr style='border: 1px solid lightgray;'><td style='padding-right:5px; width:100px'><strong>Shape</strong></td><td style='text-align:left'>2 x 3</td><tr>\n",
       "<tr style='border: 1px solid lightgray;'><td style='padding-right:5px; width:100px'><strong>Values</strong></td><td style='text-align:left'>[[   2.500    2.500    2.500]<br/> [   2.500    2.500    2.500]]<br/</td><tr>\n",
       "</table>\n",
       "</td><tr>\n",
       "</table><br/>\n"
      ],
      "text/plain": [
       "NDDataset: [[   2.500,    2.500,    2.500],\n",
       "            [   2.500,    2.500,    2.500]] unitless"
      ]
     },
     "execution_count": 18,
     "metadata": {},
     "output_type": "execute_result"
    }
   ],
   "source": [
    "full_like(ds, dtype=float, fill_value=2.5)"
   ]
  },
  {
   "cell_type": "markdown",
   "metadata": {},
   "source": [
    "## Importing from external dataset\n",
    "\n",
    "NDDataset can be created from the importation of external data\n",
    "\n",
    "(The builtin **datadir** variable contains a path to our *test*'s data)"
   ]
  },
  {
   "cell_type": "code",
   "execution_count": 19,
   "metadata": {},
   "outputs": [
    {
     "name": "stdout",
     "output_type": "stream",
     "text": [
      "testdata\n"
     ]
    }
   ],
   "source": [
    "# let check if this directory exists and display its actual content:\n",
    "import os\n",
    "path = datadir.path\n",
    "if os.path.exists(path):\n",
    "    # let's display only the last part of the path\n",
    "    print(os.path.basename(path))"
   ]
  },
  {
   "cell_type": "markdown",
   "metadata": {},
   "source": [
    "Print a listing of this directory content"
   ]
  },
  {
   "cell_type": "code",
   "execution_count": 20,
   "metadata": {},
   "outputs": [
    {
     "name": "stdout",
     "output_type": "stream",
     "text": [
      "*******************************************************************************\n",
      "testdata\n",
      "|__test_concentration.scp\n",
      "|__irdata\n",
      "   |__nh4.scp\n",
      "   |__IR.CSV\n",
      "   |__nh4y-activation.spg\n",
      "|__agirdata\n",
      "   |__P350\n",
      "      |__TGA\n",
      "         |__tg.scp\n",
      "         |__tg.csv\n",
      "      |__FTIR\n",
      "         |__FTIR.zip\n",
      "         |__FTIR_corrected.scp\n",
      "         |__FTIR.scp\n",
      "   |__agir_setup.png\n",
      "   |__B350\n",
      "      |__TGA\n",
      "         |__tg.scp\n",
      "         |__tg.csv\n",
      "      |__FTIR\n",
      "         |__FTIR.zip\n",
      "         |__FTIR_corrected.scp\n",
      "         |__FTIR.scp\n",
      "   |__A350\n",
      "      |__TGA\n",
      "         |__tg.scp\n",
      "         |__tg.csv\n",
      "      |__FTIR\n",
      "         |__FTIR.zip\n",
      "         |__FTIR_corrected.scp\n",
      "         |__FTIR.scp\n",
      "   |__conversion.csv\n",
      "|__mydataset.scp\n",
      "|__test_full2D.scp\n",
      "|__nmrdata\n",
      "   |__simpson\n",
      "      |__simpson_1d\n",
      "         |__rr.in\n",
      "      |__simpson_2d\n",
      "         |__2d.in\n",
      "   |__bruker\n",
      "      |__tests\n",
      "         |__nmr\n",
      "            |__bruker_2d\n",
      "               |__1\n",
      "                  |__audita.txt\n",
      "                  |__pdata\n",
      "                     |__1\n",
      "                        |__proc\n",
      "                        |__proc2\n",
      "                        |__title\n",
      "                        |__auditp.txt\n",
      "                        |__proc2s\n",
      "                        |__procs\n",
      "               |__2\n",
      "                  |__pdata\n",
      "                     |__1\n",
      "                        |__proc\n",
      "                        |__proc2\n",
      "                        |__title\n",
      "                        |__proc2s\n",
      "                        |__procs\n",
      "            |__bruker_1d\n",
      "               |__1\n",
      "                  |__pdata\n",
      "                     |__1\n",
      "                        |__proc\n",
      "                        |__title\n",
      "                        |__procs\n",
      "|__spec.spg\n",
      "|__test_spectra.scp\n",
      "\n"
     ]
    }
   ],
   "source": [
    "print('*'*79)\n",
    "print(datadir)"
   ]
  },
  {
   "cell_type": "markdown",
   "metadata": {},
   "source": [
    "###  Reading a IR dataset saved by OMNIC (.spg extension)\n",
    "\n",
    "Even if we do not specify the **datadir.path**, the application first look in tht directory by default."
   ]
  },
  {
   "cell_type": "code",
   "execution_count": 21,
   "metadata": {},
   "outputs": [
    {
     "data": {
      "text/html": [
       "<table style='width:100%'>\n",
       "<tr style='border: 1px solid lightgray;'><td style='padding-right:5px; width:100px'><strong>Name/Id</strong></td><td style='text-align:left'>NH4Y-activation.SPG</td><tr>\n",
       "<tr style='border: 1px solid lightgray;'><td style='padding-right:5px; width:100px'><strong>Author</strong></td><td style='text-align:left'>christian@MacBook-Pro-de-Christian.local</td><tr>\n",
       "<tr style='border: 1px solid lightgray;'><td style='padding-right:5px; width:100px'><strong>Created</strong></td><td style='text-align:left'>2018-12-24 19:53:17.859246</td><tr>\n",
       "<tr style='border: 1px solid lightgray;'><td style='padding-right:5px; width:100px'><strong>Last Modified</strong></td><td style='text-align:left'>2018-12-24 19:53:17.863287</td><tr>\n",
       "<tr style='border: 1px solid lightgray;'><td style='padding-right:5px; width:100px'><strong>Description</strong></td><td style='text-align:left'>Dataset from spg file : NH4Y-activation.SPG <br/>History of the 1st spectrum: vz0521.spa, Thu Jul 07 06:10:41 2016 (GMT+02:00)</td><tr>\n",
       "<tr style='border: 1px solid lightgray;'><td style='padding-right:5px; width:100px'><strong>History</strong></td><td style='text-align:left'>2018-12-24 19:53:17.847838:read from spg file \n",
       "<br/>sorted</td><tr>\n",
       "<tr style='border: 1px solid lightgray;'><td style='padding-right:5px; width:100px'><strong>data</strong></td><td style='text-align:left'><table style='width:100%'>\n",
       "<tr style='border: 1px solid lightgray;'><td style='padding-right:5px; width:100px'><strong>Title</strong></td><td style='text-align:left'>Absorbance</td><tr>\n",
       "<tr style='border: 1px solid lightgray;'><td style='padding-right:5px; width:100px'><strong>Shape</strong></td><td style='text-align:left'>55 x 5549</td><tr>\n",
       "<tr style='border: 1px solid lightgray;'><td style='padding-right:5px; width:100px'><strong>Values</strong></td><td style='text-align:left'>[[   2.057    2.061 ...    2.013    2.012]<br/> [   2.033    2.037 ...    1.913    1.911]<br/> ...<br/> [   1.794    1.791 ...    1.198    1.198]<br/> [   1.816    1.815 ...    1.240    1.238]] a.u.<br/</td><tr>\n",
       "</table>\n",
       "</td><tr>\n",
       "<tr style='border: 1px solid lightgray;'><td style='padding-right:5px; width:100px'><strong>Coordinate 0</strong></td><td style='text-align:left'><table style='width:100%'>\n",
       "<tr style='border: 1px solid lightgray;'><td style='padding-right:5px; width:100px'><strong>Title</strong></td><td style='text-align:left'>Acquisition timestamp (gmt)</td><tr>\n",
       "<tr style='border: 1px solid lightgray;'><td style='padding-right:5px; width:100px'><strong>Data</strong></td><td style='text-align:left'>[1467831794.000 1467832394.000 ... 1467864197.000 1467864797.000] s<br/</td><tr>\n",
       "<tr style='border: 1px solid lightgray;'><td style='padding-right:5px; width:100px'><strong>Labels</strong></td><td style='text-align:left'>[[2016-07-06 19:03:14+00:00 2016-07-06 19:13:14+00:00 ... 2016-07-07 04:03:17+00:00 2016-07-07 04:13:17+00:00]\n",
       " [vz0466.spa, Wed Jul 06 21:00:38 2016 (GMT+02:00) vz0467.spa, Wed Jul 06 21:10:38 2016 (GMT+02:00) ...\n",
       "  vz0520.spa, Thu Jul 07 06:00:41 2016 (GMT+02:00) vz0521.spa, Thu Jul 07 06:10:41 2016 (GMT+02:00)]]</td><tr>\n",
       "</table>\n",
       "</td><tr>\n",
       "<tr style='border: 1px solid lightgray;'><td style='padding-right:5px; width:100px'><strong>Coordinate 1</strong></td><td style='text-align:left'><table style='width:100%'>\n",
       "<tr style='border: 1px solid lightgray;'><td style='padding-right:5px; width:100px'><strong>Title</strong></td><td style='text-align:left'>Wavenumbers</td><tr>\n",
       "<tr style='border: 1px solid lightgray;'><td style='padding-right:5px; width:100px'><strong>Data</strong></td><td style='text-align:left'>[5999.556 5998.591 ...  650.868  649.904] cm<sup>-1</sup><br/</td><tr>\n",
       "</table>\n",
       "</td><tr>\n",
       "</table><br/>\n"
      ],
      "text/plain": [
       "NDDataset: [[   2.057,    2.061, ...,    2.013,    2.012],\n",
       "            [   2.033,    2.037, ...,    1.913,    1.911],\n",
       "            ...,\n",
       "            [   1.794,    1.791, ...,    1.198,    1.198],\n",
       "            [   1.816,    1.815, ...,    1.240,    1.238]] a.u."
      ]
     },
     "execution_count": 21,
     "metadata": {},
     "output_type": "execute_result"
    }
   ],
   "source": [
    "dataset = NDDataset.read_omnic(os.path.join('irdata', 'NH4Y-activation.SPG'))\n",
    "dataset"
   ]
  },
  {
   "cell_type": "markdown",
   "metadata": {},
   "source": [
    "## Slicing a NDDataset"
   ]
  },
  {
   "cell_type": "markdown",
   "metadata": {},
   "source": [
    "NDDataset can be sliced like conventional numpy-array...\n",
    "\n",
    "*e.g.,*:\n",
    "\n",
    "1. by index, using a slice such as [3], [0:10], [:, 3:4], [..., 5:10], ...\n",
    "\n",
    "2. by values, using a slice such as [3000.0:3500.0], [..., 300.0], ...\n",
    "\n",
    "3. by labels, using a slice such as ['monday':'friday'], ..."
   ]
  },
  {
   "cell_type": "code",
   "execution_count": 22,
   "metadata": {},
   "outputs": [
    {
     "data": {
      "text/html": [
       "<table style='width:100%'>\n",
       "<tr style='border: 1px solid lightgray;'><td style='padding-right:5px; width:100px'><strong>Name/Id</strong></td><td style='text-align:left'>*NDDataset_2cd4b50e</td><tr>\n",
       "<tr style='border: 1px solid lightgray;'><td style='padding-right:5px; width:100px'><strong>Author</strong></td><td style='text-align:left'>christian@MacBook-Pro-de-Christian.local</td><tr>\n",
       "<tr style='border: 1px solid lightgray;'><td style='padding-right:5px; width:100px'><strong>Created</strong></td><td style='text-align:left'>2018-12-24 19:53:17.887911</td><tr>\n",
       "<tr style='border: 1px solid lightgray;'><td style='padding-right:5px; width:100px'><strong>Last Modified</strong></td><td style='text-align:left'>2018-12-24 19:53:17.899933</td><tr>\n",
       "<tr style='border: 1px solid lightgray;'><td style='padding-right:5px; width:100px'><strong>Description</strong></td><td style='text-align:left'>Dataset example created for this tutorial. <br/>It's a 3-D dataset (with dimensionless intensity)</td><tr>\n",
       "<tr style='border: 1px solid lightgray;'><td style='padding-right:5px; width:100px'><strong>data</strong></td><td style='text-align:left'><table style='width:100%'>\n",
       "<tr style='border: 1px solid lightgray;'><td style='padding-right:5px; width:100px'><strong>Title</strong></td><td style='text-align:left'>Absorbance</td><tr>\n",
       "<tr style='border: 1px solid lightgray;'><td style='padding-right:5px; width:100px'><strong>Shape</strong></td><td style='text-align:left'>3 x 100</td><tr>\n",
       "<tr style='border: 1px solid lightgray;'><td style='padding-right:5px; width:100px'><strong>Values</strong></td><td style='text-align:left'>[[   0.000    0.000 ...    0.000    0.000]<br/> [   0.000    0.000 ...    0.000    0.000]<br/> [   0.000    0.000 ...    0.000    0.000]] a.u.<br/</td><tr>\n",
       "</table>\n",
       "</td><tr>\n",
       "<tr style='border: 1px solid lightgray;'><td style='padding-right:5px; width:100px'><strong>Coordinate 0</strong></td><td style='text-align:left'><table style='width:100%'>\n",
       "<tr style='border: 1px solid lightgray;'><td style='padding-right:5px; width:100px'><strong>Title</strong></td><td style='text-align:left'>Temperature</td><tr>\n",
       "<tr style='border: 1px solid lightgray;'><td style='padding-right:5px; width:100px'><strong>Data</strong></td><td style='text-align:left'>[ 200.000  250.000  300.000] K<br/</td><tr>\n",
       "<tr style='border: 1px solid lightgray;'><td style='padding-right:5px; width:100px'><strong>Labels</strong></td><td style='text-align:left'>[cold normal hot]</td><tr>\n",
       "</table>\n",
       "</td><tr>\n",
       "<tr style='border: 1px solid lightgray;'><td style='padding-right:5px; width:100px'><strong>Coordinate 1</strong></td><td style='text-align:left'><table style='width:100%'>\n",
       "<tr style='border: 1px solid lightgray;'><td style='padding-right:5px; width:100px'><strong>Title</strong></td><td style='text-align:left'>Time-on-stream</td><tr>\n",
       "<tr style='border: 1px solid lightgray;'><td style='padding-right:5px; width:100px'><strong>Data</strong></td><td style='text-align:left'>[   0.000    0.606 ...   59.394   60.000] min<br/</td><tr>\n",
       "</table>\n",
       "</td><tr>\n",
       "<tr style='border: 1px solid lightgray;'><td style='padding-right:5px; width:100px'><strong>Coordinate 2</strong></td><td style='text-align:left'><table style='width:100%'>\n",
       "<tr style='border: 1px solid lightgray;'><td style='padding-right:5px; width:100px'><strong>Title</strong></td><td style='text-align:left'>Wavenumber</td><tr>\n",
       "<tr style='border: 1px solid lightgray;'><td style='padding-right:5px; width:100px'><strong>Data</strong></td><td style='text-align:left'>4000.000 cm<sup>-1</sup><br/</td><tr>\n",
       "</table>\n",
       "</td><tr>\n",
       "</table><br/>\n"
      ],
      "text/plain": [
       "NDDataset: [[   0.000,    0.000, ...,    0.000,    0.000],\n",
       "            [   0.000,    0.000, ...,    0.000,    0.000],\n",
       "            [   0.000,    0.000, ...,    0.000,    0.000]] a.u."
      ]
     },
     "execution_count": 22,
     "metadata": {},
     "output_type": "execute_result"
    }
   ],
   "source": [
    "new = mydataset[..., 0]\n",
    "new"
   ]
  },
  {
   "cell_type": "markdown",
   "metadata": {},
   "source": [
    "or using the axes labels:"
   ]
  },
  {
   "cell_type": "code",
   "execution_count": 23,
   "metadata": {},
   "outputs": [
    {
     "data": {
      "text/html": [
       "<table style='width:100%'>\n",
       "<tr style='border: 1px solid lightgray;'><td style='padding-right:5px; width:100px'><strong>Name/Id</strong></td><td style='text-align:left'>*NDDataset_2cd4b50e</td><tr>\n",
       "<tr style='border: 1px solid lightgray;'><td style='padding-right:5px; width:100px'><strong>Author</strong></td><td style='text-align:left'>christian@MacBook-Pro-de-Christian.local</td><tr>\n",
       "<tr style='border: 1px solid lightgray;'><td style='padding-right:5px; width:100px'><strong>Created</strong></td><td style='text-align:left'>2018-12-24 19:53:17.921405</td><tr>\n",
       "<tr style='border: 1px solid lightgray;'><td style='padding-right:5px; width:100px'><strong>Last Modified</strong></td><td style='text-align:left'>2018-12-24 19:53:17.933667</td><tr>\n",
       "<tr style='border: 1px solid lightgray;'><td style='padding-right:5px; width:100px'><strong>Description</strong></td><td style='text-align:left'>Dataset example created for this tutorial. <br/>It's a 3-D dataset (with dimensionless intensity)</td><tr>\n",
       "<tr style='border: 1px solid lightgray;'><td style='padding-right:5px; width:100px'><strong>data</strong></td><td style='text-align:left'><table style='width:100%'>\n",
       "<tr style='border: 1px solid lightgray;'><td style='padding-right:5px; width:100px'><strong>Title</strong></td><td style='text-align:left'>Absorbance</td><tr>\n",
       "<tr style='border: 1px solid lightgray;'><td style='padding-right:5px; width:100px'><strong>Shape</strong></td><td style='text-align:left'>100 x 100</td><tr>\n",
       "<tr style='border: 1px solid lightgray;'><td style='padding-right:5px; width:100px'><strong>Values</strong></td><td style='text-align:left'>[[   0.000  203.763 ... 89796.237 90000.000]<br/> [   0.000  199.688 ... 88000.372 88200.061]<br/> ...<br/> [   0.000   28.139 ... 12400.603 12428.742]<br/> [   0.000   27.576 ... 12152.599 12180.175]] a.u.<br/</td><tr>\n",
       "</table>\n",
       "</td><tr>\n",
       "<tr style='border: 1px solid lightgray;'><td style='padding-right:5px; width:100px'><strong>Coordinate 0</strong></td><td style='text-align:left'><table style='width:100%'>\n",
       "<tr style='border: 1px solid lightgray;'><td style='padding-right:5px; width:100px'><strong>Title</strong></td><td style='text-align:left'>Temperature</td><tr>\n",
       "<tr style='border: 1px solid lightgray;'><td style='padding-right:5px; width:100px'><strong>Data</strong></td><td style='text-align:left'> 300.000 K<br/</td><tr>\n",
       "<tr style='border: 1px solid lightgray;'><td style='padding-right:5px; width:100px'><strong>Labels</strong></td><td style='text-align:left'>[hot]</td><tr>\n",
       "</table>\n",
       "</td><tr>\n",
       "<tr style='border: 1px solid lightgray;'><td style='padding-right:5px; width:100px'><strong>Coordinate 1</strong></td><td style='text-align:left'><table style='width:100%'>\n",
       "<tr style='border: 1px solid lightgray;'><td style='padding-right:5px; width:100px'><strong>Title</strong></td><td style='text-align:left'>Time-on-stream</td><tr>\n",
       "<tr style='border: 1px solid lightgray;'><td style='padding-right:5px; width:100px'><strong>Data</strong></td><td style='text-align:left'>[   0.000    0.606 ...   59.394   60.000] min<br/</td><tr>\n",
       "</table>\n",
       "</td><tr>\n",
       "<tr style='border: 1px solid lightgray;'><td style='padding-right:5px; width:100px'><strong>Coordinate 2</strong></td><td style='text-align:left'><table style='width:100%'>\n",
       "<tr style='border: 1px solid lightgray;'><td style='padding-right:5px; width:100px'><strong>Title</strong></td><td style='text-align:left'>Wavenumber</td><tr>\n",
       "<tr style='border: 1px solid lightgray;'><td style='padding-right:5px; width:100px'><strong>Data</strong></td><td style='text-align:left'>[4000.000 3969.697 ... 1030.303 1000.000] cm<sup>-1</sup><br/</td><tr>\n",
       "</table>\n",
       "</td><tr>\n",
       "</table><br/>\n"
      ],
      "text/plain": [
       "NDDataset: [[   0.000,  203.763, ..., 89796.237, 90000.000],\n",
       "            [   0.000,  199.688, ..., 88000.372, 88200.061],\n",
       "            ...,\n",
       "            [   0.000,   28.139, ..., 12400.603, 12428.742],\n",
       "            [   0.000,   27.576, ..., 12152.599, 12180.175]] a.u."
      ]
     },
     "execution_count": 23,
     "metadata": {},
     "output_type": "execute_result"
    }
   ],
   "source": [
    "new = mydataset['hot']\n",
    "new"
   ]
  },
  {
   "cell_type": "markdown",
   "metadata": {},
   "source": [
    "Be sure to use the correct type for slicing.\n",
    "\n",
    "Floats are use for slicing by values"
   ]
  },
  {
   "cell_type": "code",
   "execution_count": 24,
   "metadata": {},
   "outputs": [],
   "source": [
    "correct = mydataset[...,2000.]"
   ]
  },
  {
   "cell_type": "code",
   "execution_count": 25,
   "metadata": {},
   "outputs": [
    {
     "name": "stderr",
     "output_type": "stream",
     "text": [
      "[SpectroChemPy] WARNING | SpectroChemPyWarning:  This coordinate (10000.0) is outside the axis limits (1000.0-4000.0).\n",
      "The closest limit index is returned\n"
     ]
    }
   ],
   "source": [
    "outside_limits = mydataset[...,10000.]"
   ]
  },
  {
   "cell_type": "markdown",
   "metadata": {},
   "source": [
    "<div class='alert alert-info'>**NOTE:**\n",
    "\n",
    "If one use an integer value (2000), then the slicing is made **by index not by value**, and in the following particular case, an `IndexError` is issued as index 2000 does not exists (size along axis -1 is only 100, so that index vary between 0 and 99!).\n",
    "\n",
    "</div>"
   ]
  },
  {
   "cell_type": "markdown",
   "metadata": {},
   "source": [
    "When slicing by index, an error is generated is the index is out of limits:"
   ]
  },
  {
   "cell_type": "code",
   "execution_count": 26,
   "metadata": {},
   "outputs": [
    {
     "name": "stderr",
     "output_type": "stream",
     "text": [
      "[SpectroChemPy] ERROR | Empty array of shape (3, 100, 0)resulted from slicing.\n",
      "Check the indexes and make sure to use floats for location slicing\n"
     ]
    }
   ],
   "source": [
    "try:\n",
    "    fail = mydataset[...,2000]\n",
    "except IndexError as e:\n",
    "    log.error(e)"
   ]
  },
  {
   "cell_type": "markdown",
   "metadata": {},
   "source": [
    "One can mixed slicing methods for different dimension:"
   ]
  },
  {
   "cell_type": "code",
   "execution_count": 27,
   "metadata": {},
   "outputs": [
    {
     "data": {
      "text/html": [
       "<table style='width:100%'>\n",
       "<tr style='border: 1px solid lightgray;'><td style='padding-right:5px; width:100px'><strong>Name/Id</strong></td><td style='text-align:left'>*NDDataset_2cd4b50e</td><tr>\n",
       "<tr style='border: 1px solid lightgray;'><td style='padding-right:5px; width:100px'><strong>Author</strong></td><td style='text-align:left'>christian@MacBook-Pro-de-Christian.local</td><tr>\n",
       "<tr style='border: 1px solid lightgray;'><td style='padding-right:5px; width:100px'><strong>Created</strong></td><td style='text-align:left'>2018-12-24 19:53:18.031337</td><tr>\n",
       "<tr style='border: 1px solid lightgray;'><td style='padding-right:5px; width:100px'><strong>Last Modified</strong></td><td style='text-align:left'>2018-12-24 19:53:18.042890</td><tr>\n",
       "<tr style='border: 1px solid lightgray;'><td style='padding-right:5px; width:100px'><strong>Description</strong></td><td style='text-align:left'>Dataset example created for this tutorial. <br/>It's a 3-D dataset (with dimensionless intensity)</td><tr>\n",
       "<tr style='border: 1px solid lightgray;'><td style='padding-right:5px; width:100px'><strong>data</strong></td><td style='text-align:left'><table style='width:100%'>\n",
       "<tr style='border: 1px solid lightgray;'><td style='padding-right:5px; width:100px'><strong>Title</strong></td><td style='text-align:left'>Absorbance</td><tr>\n",
       "<tr style='border: 1px solid lightgray;'><td style='padding-right:5px; width:100px'><strong>Shape</strong></td><td style='text-align:left'>2 x 67</td><tr>\n",
       "<tr style='border: 1px solid lightgray;'><td style='padding-right:5px; width:100px'><strong>Values</strong></td><td style='text-align:left'>[[   0.000  141.502 ...  141.502    0.000]<br/> [   0.000  203.763 ...  203.763    0.000]] a.u.<br/</td><tr>\n",
       "</table>\n",
       "</td><tr>\n",
       "<tr style='border: 1px solid lightgray;'><td style='padding-right:5px; width:100px'><strong>Coordinate 0</strong></td><td style='text-align:left'><table style='width:100%'>\n",
       "<tr style='border: 1px solid lightgray;'><td style='padding-right:5px; width:100px'><strong>Title</strong></td><td style='text-align:left'>Temperature</td><tr>\n",
       "<tr style='border: 1px solid lightgray;'><td style='padding-right:5px; width:100px'><strong>Data</strong></td><td style='text-align:left'>[ 250.000  300.000] K<br/</td><tr>\n",
       "<tr style='border: 1px solid lightgray;'><td style='padding-right:5px; width:100px'><strong>Labels</strong></td><td style='text-align:left'>[normal hot]</td><tr>\n",
       "</table>\n",
       "</td><tr>\n",
       "<tr style='border: 1px solid lightgray;'><td style='padding-right:5px; width:100px'><strong>Coordinate 1</strong></td><td style='text-align:left'><table style='width:100%'>\n",
       "<tr style='border: 1px solid lightgray;'><td style='padding-right:5px; width:100px'><strong>Title</strong></td><td style='text-align:left'>Time-on-stream</td><tr>\n",
       "<tr style='border: 1px solid lightgray;'><td style='padding-right:5px; width:100px'><strong>Data</strong></td><td style='text-align:left'>   0.000 min<br/</td><tr>\n",
       "</table>\n",
       "</td><tr>\n",
       "<tr style='border: 1px solid lightgray;'><td style='padding-right:5px; width:100px'><strong>Coordinate 2</strong></td><td style='text-align:left'><table style='width:100%'>\n",
       "<tr style='border: 1px solid lightgray;'><td style='padding-right:5px; width:100px'><strong>Title</strong></td><td style='text-align:left'>Wavenumber</td><tr>\n",
       "<tr style='border: 1px solid lightgray;'><td style='padding-right:5px; width:100px'><strong>Data</strong></td><td style='text-align:left'>[4000.000 3969.697 ... 2030.303 2000.000] cm<sup>-1</sup><br/</td><tr>\n",
       "</table>\n",
       "</td><tr>\n",
       "</table><br/>\n"
      ],
      "text/plain": [
       "NDDataset: [[   0.000,  141.502, ...,  141.502,    0.000],\n",
       "            [   0.000,  203.763, ...,  203.763,    0.000]] a.u."
      ]
     },
     "execution_count": 27,
     "metadata": {},
     "output_type": "execute_result"
    }
   ],
   "source": [
    "new = mydataset['normal':'hot', 0, 4000.0:2000.]\n",
    "new"
   ]
  },
  {
   "cell_type": "markdown",
   "metadata": {},
   "source": [
    "## Loading of experimental data"
   ]
  },
  {
   "cell_type": "markdown",
   "metadata": {},
   "source": [
    "\n",
    "### NMR Data"
   ]
  },
  {
   "cell_type": "markdown",
   "metadata": {},
   "source": [
    "Now, lets load a NMR dataset (in the Bruker format)."
   ]
  },
  {
   "cell_type": "code",
   "execution_count": 28,
   "metadata": {},
   "outputs": [
    {
     "data": {
      "text/html": [
       "<table style='width:100%'>\n",
       "<tr style='border: 1px solid lightgray;'><td style='padding-right:5px; width:100px'><strong>Name/Id</strong></td><td style='text-align:left'>NDDataset_2d331496</td><tr>\n",
       "<tr style='border: 1px solid lightgray;'><td style='padding-right:5px; width:100px'><strong>Author</strong></td><td style='text-align:left'>christian@MacBook-Pro-de-Christian.local</td><tr>\n",
       "<tr style='border: 1px solid lightgray;'><td style='padding-right:5px; width:100px'><strong>Created</strong></td><td style='text-align:left'>2018-12-24 19:53:18.056762</td><tr>\n",
       "<tr style='border: 1px solid lightgray;'><td style='padding-right:5px; width:100px'><strong>Last Modified</strong></td><td style='text-align:left'>2018-12-24 19:53:18.112494</td><tr>\n",
       "<tr style='border: 1px solid lightgray;'><td style='padding-right:5px; width:100px'><strong>Description</strong></td><td style='text-align:left'></td><tr>\n",
       "<tr style='border: 1px solid lightgray;'><td style='padding-right:5px; width:100px'><strong>data</strong></td><td style='text-align:left'><table style='width:100%'>\n",
       "<tr style='border: 1px solid lightgray;'><td style='padding-right:5px; width:100px'><strong>Title</strong></td><td style='text-align:left'>intensity</td><tr>\n",
       "<tr style='border: 1px solid lightgray;'><td style='padding-right:5px; width:100px'><strong>Size</strong></td><td style='text-align:left'>12411 (complex)</td><tr>\n",
       "<tr style='border: 1px solid lightgray;'><td style='padding-right:5px; width:100px'><strong>Values</strong></td><td style='text-align:left'>R[-1037.267 -2200.383 ...    0.062   -0.053]<br/>I[-1077.841 -2283.510 ...   -0.234    0.101]<br/</td><tr>\n",
       "</table>\n",
       "</td><tr>\n",
       "<tr style='border: 1px solid lightgray;'><td style='padding-right:5px; width:100px'><strong>Coordinate 0</strong></td><td style='text-align:left'><table style='width:100%'>\n",
       "<tr style='border: 1px solid lightgray;'><td style='padding-right:5px; width:100px'><strong>Title</strong></td><td style='text-align:left'>Coord_2d3b598a</td><tr>\n",
       "</table>\n",
       "</td><tr>\n",
       "<tr style='border: 1px solid lightgray;'><td style='padding-right:5px; width:100px'><strong>Coordinate 1</strong></td><td style='text-align:left'><table style='width:100%'>\n",
       "<tr style='border: 1px solid lightgray;'><td style='padding-right:5px; width:100px'><strong>Title</strong></td><td style='text-align:left'>Acquisition time</td><tr>\n",
       "<tr style='border: 1px solid lightgray;'><td style='padding-right:5px; width:100px'><strong>Data</strong></td><td style='text-align:left'>[   0.000    4.000 ... 49636.000 49640.000] us<br/</td><tr>\n",
       "</table>\n",
       "</td><tr>\n",
       "</table><br/>\n"
      ],
      "text/plain": [
       "NDDataset: [-1037.267, -1077.841, ...,   -0.053,    0.101] unitless"
      ]
     },
     "execution_count": 28,
     "metadata": {},
     "output_type": "execute_result"
    }
   ],
   "source": [
    "path = os.path.join(datadir.path, 'nmrdata','bruker', 'tests', 'nmr','bruker_1d')\n",
    "\n",
    "# load the data in a new dataset\n",
    "ndd = NDDataset()\n",
    "ndd.read_bruker_nmr(path, expno=1, remove_digital_filter=True)\n",
    "ndd"
   ]
  },
  {
   "cell_type": "code",
   "execution_count": 29,
   "metadata": {},
   "outputs": [
    {
     "data": {
      "application/vnd.jupyter.widget-view+json": {
       "model_id": "7e8ace5411284627befdb2b89e5666f3",
       "version_major": 2,
       "version_minor": 0
      },
      "text/plain": [
       "FigureCanvasNbAgg()"
      ]
     },
     "metadata": {},
     "output_type": "display_data"
    }
   ],
   "source": [
    "# view it...\n",
    "_ = ndd.plot(color='blue')"
   ]
  },
  {
   "cell_type": "code",
   "execution_count": 30,
   "metadata": {},
   "outputs": [
    {
     "data": {
      "application/vnd.jupyter.widget-view+json": {
       "model_id": "d13ae1162c014435b12538873be06e24",
       "version_major": 2,
       "version_minor": 0
      },
      "text/plain": [
       "FigureCanvasNbAgg()"
      ]
     },
     "metadata": {},
     "output_type": "display_data"
    }
   ],
   "source": [
    "path = os.path.join(datadir.path, 'nmrdata','bruker', 'tests', 'nmr','bruker_2d')\n",
    "\n",
    "# load the data directly (no need to create the dataset first)\n",
    "ndd2 = NDDataset.read_bruker_nmr(path, expno=1, remove_digital_filter=True)\n",
    "\n",
    "# view it...\n",
    "ndd2.x.to('s')\n",
    "ndd2.y.to('ms')\n",
    "\n",
    "ax = ndd2.plot() "
   ]
  },
  {
   "cell_type": "markdown",
   "metadata": {},
   "source": [
    "### IR data"
   ]
  },
  {
   "cell_type": "code",
   "execution_count": 31,
   "metadata": {
    "scrolled": false
   },
   "outputs": [
    {
     "data": {
      "text/html": [
       "<table style='width:100%'>\n",
       "<tr style='border: 1px solid lightgray;'><td style='padding-right:5px; width:100px'><strong>Name/Id</strong></td><td style='text-align:left'>NH4Y-activation.SPG</td><tr>\n",
       "<tr style='border: 1px solid lightgray;'><td style='padding-right:5px; width:100px'><strong>Author</strong></td><td style='text-align:left'>christian@MacBook-Pro-de-Christian.local</td><tr>\n",
       "<tr style='border: 1px solid lightgray;'><td style='padding-right:5px; width:100px'><strong>Created</strong></td><td style='text-align:left'>2018-12-24 19:53:18.778341</td><tr>\n",
       "<tr style='border: 1px solid lightgray;'><td style='padding-right:5px; width:100px'><strong>Last Modified</strong></td><td style='text-align:left'>2018-12-24 19:53:18.779642</td><tr>\n",
       "<tr style='border: 1px solid lightgray;'><td style='padding-right:5px; width:100px'><strong>Description</strong></td><td style='text-align:left'>Dataset from spg file : NH4Y-activation.SPG <br/>History of the 1st spectrum: vz0521.spa, Thu Jul 07 06:10:41 2016 (GMT+02:00)</td><tr>\n",
       "<tr style='border: 1px solid lightgray;'><td style='padding-right:5px; width:100px'><strong>History</strong></td><td style='text-align:left'>2018-12-24 19:53:18.775656:read from spg file \n",
       "<br/>sorted</td><tr>\n",
       "<tr style='border: 1px solid lightgray;'><td style='padding-right:5px; width:100px'><strong>data</strong></td><td style='text-align:left'><table style='width:100%'>\n",
       "<tr style='border: 1px solid lightgray;'><td style='padding-right:5px; width:100px'><strong>Title</strong></td><td style='text-align:left'>Absorbance</td><tr>\n",
       "<tr style='border: 1px solid lightgray;'><td style='padding-right:5px; width:100px'><strong>Shape</strong></td><td style='text-align:left'>55 x 5549</td><tr>\n",
       "<tr style='border: 1px solid lightgray;'><td style='padding-right:5px; width:100px'><strong>Values</strong></td><td style='text-align:left'>[[   2.057    2.061 ...    2.013    2.012]<br/> [   2.033    2.037 ...    1.913    1.911]<br/> ...<br/> [   1.794    1.791 ...    1.198    1.198]<br/> [   1.816    1.815 ...    1.240    1.238]] a.u.<br/</td><tr>\n",
       "</table>\n",
       "</td><tr>\n",
       "<tr style='border: 1px solid lightgray;'><td style='padding-right:5px; width:100px'><strong>Coordinate 0</strong></td><td style='text-align:left'><table style='width:100%'>\n",
       "<tr style='border: 1px solid lightgray;'><td style='padding-right:5px; width:100px'><strong>Title</strong></td><td style='text-align:left'>Acquisition timestamp (gmt)</td><tr>\n",
       "<tr style='border: 1px solid lightgray;'><td style='padding-right:5px; width:100px'><strong>Data</strong></td><td style='text-align:left'>[1467831794.000 1467832394.000 ... 1467864197.000 1467864797.000] s<br/</td><tr>\n",
       "<tr style='border: 1px solid lightgray;'><td style='padding-right:5px; width:100px'><strong>Labels</strong></td><td style='text-align:left'>[[2016-07-06 19:03:14+00:00 2016-07-06 19:13:14+00:00 ... 2016-07-07 04:03:17+00:00 2016-07-07 04:13:17+00:00]\n",
       " [vz0466.spa, Wed Jul 06 21:00:38 2016 (GMT+02:00) vz0467.spa, Wed Jul 06 21:10:38 2016 (GMT+02:00) ...\n",
       "  vz0520.spa, Thu Jul 07 06:00:41 2016 (GMT+02:00) vz0521.spa, Thu Jul 07 06:10:41 2016 (GMT+02:00)]]</td><tr>\n",
       "</table>\n",
       "</td><tr>\n",
       "<tr style='border: 1px solid lightgray;'><td style='padding-right:5px; width:100px'><strong>Coordinate 1</strong></td><td style='text-align:left'><table style='width:100%'>\n",
       "<tr style='border: 1px solid lightgray;'><td style='padding-right:5px; width:100px'><strong>Title</strong></td><td style='text-align:left'>Wavenumbers</td><tr>\n",
       "<tr style='border: 1px solid lightgray;'><td style='padding-right:5px; width:100px'><strong>Data</strong></td><td style='text-align:left'>[5999.556 5998.591 ...  650.868  649.904] cm<sup>-1</sup><br/</td><tr>\n",
       "</table>\n",
       "</td><tr>\n",
       "</table><br/>\n"
      ],
      "text/plain": [
       "NDDataset: [[   2.057,    2.061, ...,    2.013,    2.012],\n",
       "            [   2.033,    2.037, ...,    1.913,    1.911],\n",
       "            ...,\n",
       "            [   1.794,    1.791, ...,    1.198,    1.198],\n",
       "            [   1.816,    1.815, ...,    1.240,    1.238]] a.u."
      ]
     },
     "execution_count": 31,
     "metadata": {},
     "output_type": "execute_result"
    }
   ],
   "source": [
    "dataset = NDDataset.read_omnic(os.path.join(datadir.path, 'irdata', 'NH4Y-activation.SPG'))\n",
    "dataset"
   ]
  },
  {
   "cell_type": "code",
   "execution_count": 32,
   "metadata": {},
   "outputs": [],
   "source": [
    "dataset = read_omnic(NDDataset(), os.path.join(datadir.path, 'irdata', 'NH4Y-activation.SPG'))"
   ]
  },
  {
   "cell_type": "code",
   "execution_count": 33,
   "metadata": {},
   "outputs": [
    {
     "data": {
      "application/vnd.jupyter.widget-view+json": {
       "model_id": "9e1614a7188c4c38a22c660e63925a8c",
       "version_major": 2,
       "version_minor": 0
      },
      "text/plain": [
       "FigureCanvasNbAgg()"
      ]
     },
     "metadata": {},
     "output_type": "display_data"
    }
   ],
   "source": [
    "ax = dataset.plot(method='stack')"
   ]
  },
  {
   "cell_type": "markdown",
   "metadata": {},
   "source": [
    "## Masks\n",
    "\n",
    "Masking values in a dataset is straigthforward. Just set a value `masked` or True for those data you want to mask."
   ]
  },
  {
   "cell_type": "code",
   "execution_count": 34,
   "metadata": {},
   "outputs": [
    {
     "data": {
      "application/vnd.jupyter.widget-view+json": {
       "model_id": "de284ac2187a44d38224e85860f0657c",
       "version_major": 2,
       "version_minor": 0
      },
      "text/plain": [
       "FigureCanvasNbAgg()"
      ]
     },
     "metadata": {},
     "output_type": "display_data"
    }
   ],
   "source": [
    "dataset[:,1290.:890.] = masked\n",
    "ax = dataset.plot_stack()"
   ]
  },
  {
   "cell_type": "markdown",
   "metadata": {},
   "source": [
    "Here is a display the figure with the new mask"
   ]
  },
  {
   "cell_type": "code",
   "execution_count": 35,
   "metadata": {},
   "outputs": [
    {
     "data": {
      "application/vnd.jupyter.widget-view+json": {
       "model_id": "d9d89f052a3749d182b7900ac1e94b15",
       "version_major": 2,
       "version_minor": 0
      },
      "text/plain": [
       "FigureCanvasNbAgg()"
      ]
     },
     "metadata": {},
     "output_type": "display_data"
    }
   ],
   "source": [
    "_ = dataset.plot_stack(figsize=(9, 4))"
   ]
  },
  {
   "cell_type": "markdown",
   "metadata": {},
   "source": [
    "## Transposition"
   ]
  },
  {
   "cell_type": "markdown",
   "metadata": {},
   "source": [
    "Dataset can be transposed"
   ]
  },
  {
   "cell_type": "code",
   "execution_count": 36,
   "metadata": {},
   "outputs": [
    {
     "data": {
      "text/html": [
       "<table style='width:100%'>\n",
       "<tr style='border: 1px solid lightgray;'><td style='padding-right:5px; width:100px'><strong>Name/Id</strong></td><td style='text-align:left'>2e88c7c8</td><tr>\n",
       "<tr style='border: 1px solid lightgray;'><td style='padding-right:5px; width:100px'><strong>Author</strong></td><td style='text-align:left'>christian@MacBook-Pro-de-Christian.local</td><tr>\n",
       "<tr style='border: 1px solid lightgray;'><td style='padding-right:5px; width:100px'><strong>Created</strong></td><td style='text-align:left'>2018-12-24 19:53:20.296381</td><tr>\n",
       "<tr style='border: 1px solid lightgray;'><td style='padding-right:5px; width:100px'><strong>Last Modified</strong></td><td style='text-align:left'>2018-12-24 19:53:20.300775</td><tr>\n",
       "<tr style='border: 1px solid lightgray;'><td style='padding-right:5px; width:100px'><strong>Description</strong></td><td style='text-align:left'>Dataset from spg file : NH4Y-activation.SPG <br/>History of the 1st spectrum: vz0521.spa, Thu Jul 07 06:10:41 2016 (GMT+02:00)</td><tr>\n",
       "<tr style='border: 1px solid lightgray;'><td style='padding-right:5px; width:100px'><strong>History</strong></td><td style='text-align:left'>2018-12-24 19:53:19.389911:read from spg file \n",
       "<br/>sorted</td><tr>\n",
       "<tr style='border: 1px solid lightgray;'><td style='padding-right:5px; width:100px'><strong>data</strong></td><td style='text-align:left'><table style='width:100%'>\n",
       "<tr style='border: 1px solid lightgray;'><td style='padding-right:5px; width:100px'><strong>Title</strong></td><td style='text-align:left'>Absorbance</td><tr>\n",
       "<tr style='border: 1px solid lightgray;'><td style='padding-right:5px; width:100px'><strong>Shape</strong></td><td style='text-align:left'>5549 x 55</td><tr>\n",
       "<tr style='border: 1px solid lightgray;'><td style='padding-right:5px; width:100px'><strong>Values</strong></td><td style='text-align:left'>[[   2.057    2.033 ...    1.794    1.816]<br/> [   2.061    2.037 ...    1.791    1.815]<br/> ...<br/> [   2.013    1.913 ...    1.198    1.240]<br/> [   2.012    1.911 ...    1.198    1.238]] a.u.<br/</td><tr>\n",
       "</table>\n",
       "</td><tr>\n",
       "<tr style='border: 1px solid lightgray;'><td style='padding-right:5px; width:100px'><strong>Coordinate 0</strong></td><td style='text-align:left'><table style='width:100%'>\n",
       "<tr style='border: 1px solid lightgray;'><td style='padding-right:5px; width:100px'><strong>Title</strong></td><td style='text-align:left'>Wavenumbers</td><tr>\n",
       "<tr style='border: 1px solid lightgray;'><td style='padding-right:5px; width:100px'><strong>Data</strong></td><td style='text-align:left'>[5999.556 5998.591 ...  650.868  649.904] cm<sup>-1</sup><br/</td><tr>\n",
       "</table>\n",
       "</td><tr>\n",
       "<tr style='border: 1px solid lightgray;'><td style='padding-right:5px; width:100px'><strong>Coordinate 1</strong></td><td style='text-align:left'><table style='width:100%'>\n",
       "<tr style='border: 1px solid lightgray;'><td style='padding-right:5px; width:100px'><strong>Title</strong></td><td style='text-align:left'>Acquisition timestamp (gmt)</td><tr>\n",
       "<tr style='border: 1px solid lightgray;'><td style='padding-right:5px; width:100px'><strong>Data</strong></td><td style='text-align:left'>[1467831794.000 1467832394.000 ... 1467864197.000 1467864797.000] s<br/</td><tr>\n",
       "<tr style='border: 1px solid lightgray;'><td style='padding-right:5px; width:100px'><strong>Labels</strong></td><td style='text-align:left'>[[2016-07-06 19:03:14+00:00 2016-07-06 19:13:14+00:00 ... 2016-07-07 04:03:17+00:00 2016-07-07 04:13:17+00:00]\n",
       " [vz0466.spa, Wed Jul 06 21:00:38 2016 (GMT+02:00) vz0467.spa, Wed Jul 06 21:10:38 2016 (GMT+02:00) ...\n",
       "  vz0520.spa, Thu Jul 07 06:00:41 2016 (GMT+02:00) vz0521.spa, Thu Jul 07 06:10:41 2016 (GMT+02:00)]]</td><tr>\n",
       "</table>\n",
       "</td><tr>\n",
       "</table><br/>\n"
      ],
      "text/plain": [
       "NDDataset: [[   2.057,    2.033, ...,    1.794,    1.816],\n",
       "            [   2.061,    2.037, ...,    1.791,    1.815],\n",
       "            ...,\n",
       "            [   2.013,    1.913, ...,    1.198,    1.240],\n",
       "            [   2.012,    1.911, ...,    1.198,    1.238]] a.u."
      ]
     },
     "execution_count": 36,
     "metadata": {},
     "output_type": "execute_result"
    }
   ],
   "source": [
    "datasetT = dataset.T\n",
    "datasetT"
   ]
  },
  {
   "cell_type": "code",
   "execution_count": 37,
   "metadata": {},
   "outputs": [
    {
     "data": {
      "application/vnd.jupyter.widget-view+json": {
       "model_id": "0049d5ce67e94798bb2be47a9c1eb206",
       "version_major": 2,
       "version_minor": 0
      },
      "text/plain": [
       "FigureCanvasNbAgg()"
      ]
     },
     "metadata": {},
     "output_type": "display_data"
    }
   ],
   "source": [
    "_ = datasetT.plot()"
   ]
  },
  {
   "cell_type": "code",
   "execution_count": 38,
   "metadata": {},
   "outputs": [
    {
     "data": {
      "application/vnd.jupyter.widget-view+json": {
       "model_id": "caa361a8c0fc4fde870e0ad17664efbd",
       "version_major": 2,
       "version_minor": 0
      },
      "text/plain": [
       "FigureCanvasNbAgg()"
      ]
     },
     "metadata": {},
     "output_type": "display_data"
    }
   ],
   "source": [
    "_ = dataset.T[4000.:3000.].plot_stack()"
   ]
  },
  {
   "cell_type": "markdown",
   "metadata": {},
   "source": [
    "## Units\n",
    "\n",
    "\n",
    "Spectrochempy can do calculations with units - it uses [pint](https://pint.readthedocs.io) to define and perform operation on data with units.\n",
    "\n",
    "### Create quantities\n",
    "\n",
    "* to create quantity, use for instance, one of the following expression:"
   ]
  },
  {
   "cell_type": "code",
   "execution_count": 39,
   "metadata": {},
   "outputs": [
    {
     "data": {
      "text/html": [
       "10.0 cm<sup>-1</sup>"
      ],
      "text/latex": [
       "$10.0\\ \\mathrm{cm}^{-1}$"
      ],
      "text/plain": [
       "<Quantity(10.0, '1 / centimeter')>"
      ]
     },
     "execution_count": 39,
     "metadata": {},
     "output_type": "execute_result"
    }
   ],
   "source": [
    "Quantity('10.0 cm^-1')"
   ]
  },
  {
   "cell_type": "code",
   "execution_count": 40,
   "metadata": {},
   "outputs": [
    {
     "data": {
      "text/html": [
       "1.0 cm<sup>-1</sup>.hr<sup>-1</sup>"
      ],
      "text/latex": [
       "$1.0\\ \\mathrm{cm}^{-1} \\cdot \\mathrm{hr}^{-1}$"
      ],
      "text/plain": [
       "<Quantity(1.0, '1 / centimeter / hour')>"
      ]
     },
     "execution_count": 40,
     "metadata": {},
     "output_type": "execute_result"
    }
   ],
   "source": [
    "Quantity(1.0, 'cm^-1/hour')"
   ]
  },
  {
   "cell_type": "code",
   "execution_count": 41,
   "metadata": {},
   "outputs": [
    {
     "data": {
      "text/html": [
       "10.0 scaled-dimensionless (1e-05)"
      ],
      "text/latex": [
       "$10.0\\ \\mathrm{scaled-dimensionless (1e-05)}$"
      ],
      "text/plain": [
       "<Quantity(10.0, 'centimeter / kilometer')>"
      ]
     },
     "execution_count": 41,
     "metadata": {},
     "output_type": "execute_result"
    }
   ],
   "source": [
    "Quantity(10.0, ur.cm/ur.km)"
   ]
  },
  {
   "cell_type": "markdown",
   "metadata": {},
   "source": [
    "or may be (?) simpler,"
   ]
  },
  {
   "cell_type": "code",
   "execution_count": 42,
   "metadata": {},
   "outputs": [
    {
     "data": {
      "text/html": [
       "10.0 m.V<sup>-1</sup>.g<sup>-1</sup>"
      ],
      "text/latex": [
       "$10.0\\ \\mathrm{m} \\cdot \\mathrm{V}^{-1} \\cdot \\mathrm{g}^{-1}$"
      ],
      "text/plain": [
       "<Quantity(10.0, 'meter / gram / volt')>"
      ]
     },
     "execution_count": 42,
     "metadata": {},
     "output_type": "execute_result"
    }
   ],
   "source": [
    "10.0 * ur.meter/ur.gram/ur.volt"
   ]
  },
  {
   "cell_type": "markdown",
   "metadata": {},
   "source": [
    "`ur` stands for **unit registry**, which handle many type of units\n",
    "(and conversion between them)"
   ]
  },
  {
   "cell_type": "markdown",
   "metadata": {},
   "source": [
    "### Do arithmetics with units"
   ]
  },
  {
   "cell_type": "code",
   "execution_count": 43,
   "metadata": {},
   "outputs": [
    {
     "data": {
      "text/html": [
       "200.0 km.hr<sup>-1</sup>"
      ],
      "text/latex": [
       "$200.0\\ \\mathrm{km} \\cdot \\mathrm{hr}^{-1}$"
      ],
      "text/plain": [
       "<Quantity(200.0, 'kilometer / hour')>"
      ]
     },
     "execution_count": 43,
     "metadata": {},
     "output_type": "execute_result"
    }
   ],
   "source": [
    "a = 900 * ur.km\n",
    "b = 4.5 * ur.hours\n",
    "a/b"
   ]
  },
  {
   "cell_type": "markdown",
   "metadata": {},
   "source": [
    "Such calculations can also be done using the following syntax, using a string expression"
   ]
  },
  {
   "cell_type": "code",
   "execution_count": 44,
   "metadata": {},
   "outputs": [
    {
     "data": {
      "text/html": [
       "112.5 km.hr<sup>-1</sup>"
      ],
      "text/latex": [
       "$112.5\\ \\mathrm{km} \\cdot \\mathrm{hr}^{-1}$"
      ],
      "text/plain": [
       "<Quantity(112.5, 'kilometer / hour')>"
      ]
     },
     "execution_count": 44,
     "metadata": {},
     "output_type": "execute_result"
    }
   ],
   "source": [
    "Quantity(\"900 km / (8 hours)\")"
   ]
  },
  {
   "cell_type": "markdown",
   "metadata": {},
   "source": [
    "### Convert between units"
   ]
  },
  {
   "cell_type": "code",
   "execution_count": 45,
   "metadata": {},
   "outputs": [
    {
     "data": {
      "text/html": [
       "5555.555555555556 cm.s<sup>-1</sup>"
      ],
      "text/latex": [
       "$5555.555555555556\\ \\mathrm{cm} \\cdot \\mathrm{s}^{-1}$"
      ],
      "text/plain": [
       "<Quantity(5555.555555555556, 'centimeter / second')>"
      ]
     },
     "execution_count": 45,
     "metadata": {},
     "output_type": "execute_result"
    }
   ],
   "source": [
    "c = a/b\n",
    "c.to('cm/s')"
   ]
  },
  {
   "cell_type": "markdown",
   "metadata": {},
   "source": [
    "We can make the conversion *inplace* using *ito* instead of *to*"
   ]
  },
  {
   "cell_type": "code",
   "execution_count": 46,
   "metadata": {},
   "outputs": [
    {
     "data": {
      "text/html": [
       "55.55555555555556 m.s<sup>-1</sup>"
      ],
      "text/latex": [
       "$55.55555555555556\\ \\mathrm{m} \\cdot \\mathrm{s}^{-1}$"
      ],
      "text/plain": [
       "<Quantity(55.55555555555556, 'meter / second')>"
      ]
     },
     "execution_count": 46,
     "metadata": {},
     "output_type": "execute_result"
    }
   ],
   "source": [
    "c.ito('m/s')\n",
    "c"
   ]
  },
  {
   "cell_type": "markdown",
   "metadata": {},
   "source": [
    "### Do math operations with consistent units"
   ]
  },
  {
   "cell_type": "code",
   "execution_count": 47,
   "metadata": {},
   "outputs": [
    {
     "data": {
      "text/html": [
       "-0.5440211108893699 dimensionless"
      ],
      "text/latex": [
       "$-0.5440211108893699\\ \\mathrm{dimensionless}$"
      ],
      "text/plain": [
       "<Quantity(-0.5440211108893699, 'dimensionless')>"
      ]
     },
     "execution_count": 47,
     "metadata": {},
     "output_type": "execute_result"
    }
   ],
   "source": [
    "x = 10 * ur.radians\n",
    "np.sin(x)"
   ]
  },
  {
   "cell_type": "markdown",
   "metadata": {},
   "source": [
    "Consistency of the units are checked!"
   ]
  },
  {
   "cell_type": "code",
   "execution_count": 48,
   "metadata": {},
   "outputs": [
    {
     "data": {
      "text/html": [
       "3.1622776601683795 m<sup>0.5</sup>"
      ],
      "text/latex": [
       "$3.1622776601683795\\ \\mathrm{m}^{0.5}$"
      ],
      "text/plain": [
       "<Quantity(3.1622776601683795, 'meter ** 0.5')>"
      ]
     },
     "execution_count": 48,
     "metadata": {},
     "output_type": "execute_result"
    }
   ],
   "source": [
    "x = 10 * ur.meters\n",
    "np.sqrt(x)"
   ]
  },
  {
   "cell_type": "markdown",
   "metadata": {},
   "source": [
    "but this is wrong..."
   ]
  },
  {
   "cell_type": "code",
   "execution_count": 49,
   "metadata": {},
   "outputs": [
    {
     "name": "stderr",
     "output_type": "stream",
     "text": [
      "[SpectroChemPy] ERROR | Cannot convert from 'meter' to 'radian'\n"
     ]
    }
   ],
   "source": [
    "x = 10 * ur.meters\n",
    "try:\n",
    "    np.cos(x)\n",
    "except DimensionalityError as e:\n",
    "    log.error(e)"
   ]
  },
  {
   "cell_type": "markdown",
   "metadata": {},
   "source": [
    "Units can be set for NDDataset data and/or Coordinates"
   ]
  },
  {
   "cell_type": "code",
   "execution_count": 50,
   "metadata": {},
   "outputs": [
    {
     "data": {
      "text/html": [
       "<table style='width:100%'>\n",
       "<tr style='border: 1px solid lightgray;'><td style='padding-right:5px; width:100px'><strong>Name/Id</strong></td><td style='text-align:left'>NDDataset_3002faf6</td><tr>\n",
       "<tr style='border: 1px solid lightgray;'><td style='padding-right:5px; width:100px'><strong>Author</strong></td><td style='text-align:left'>christian@MacBook-Pro-de-Christian.local</td><tr>\n",
       "<tr style='border: 1px solid lightgray;'><td style='padding-right:5px; width:100px'><strong>Created</strong></td><td style='text-align:left'>2018-12-24 19:53:22.774739</td><tr>\n",
       "<tr style='border: 1px solid lightgray;'><td style='padding-right:5px; width:100px'><strong>Last Modified</strong></td><td style='text-align:left'>2018-12-24 19:53:22.776418</td><tr>\n",
       "<tr style='border: 1px solid lightgray;'><td style='padding-right:5px; width:100px'><strong>Description</strong></td><td style='text-align:left'></td><tr>\n",
       "<tr style='border: 1px solid lightgray;'><td style='padding-right:5px; width:100px'><strong>data</strong></td><td style='text-align:left'><table style='width:100%'>\n",
       "<tr style='border: 1px solid lightgray;'><td style='padding-right:5px; width:100px'><strong>Title</strong></td><td style='text-align:left'>concentration</td><tr>\n",
       "<tr style='border: 1px solid lightgray;'><td style='padding-right:5px; width:100px'><strong>Size</strong></td><td style='text-align:left'>3</td><tr>\n",
       "<tr style='border: 1px solid lightgray;'><td style='padding-right:5px; width:100px'><strong>Values</strong></td><td style='text-align:left'>[   1.000    2.000    3.000] g.cm<sup>-3</sup><br/</td><tr>\n",
       "</table>\n",
       "</td><tr>\n",
       "</table><br/>\n"
      ],
      "text/plain": [
       "NDDataset: [   1.000,    2.000,    3.000] g.cm^-3"
      ]
     },
     "execution_count": 50,
     "metadata": {},
     "output_type": "execute_result"
    }
   ],
   "source": [
    "ds = NDDataset([1., 2., 3.], units='g/cm^3', title='concentration')\n",
    "ds"
   ]
  },
  {
   "cell_type": "code",
   "execution_count": 51,
   "metadata": {},
   "outputs": [
    {
     "data": {
      "text/html": [
       "<table style='width:100%'>\n",
       "<tr style='border: 1px solid lightgray;'><td style='padding-right:5px; width:100px'><strong>Name/Id</strong></td><td style='text-align:left'>3006acdc</td><tr>\n",
       "<tr style='border: 1px solid lightgray;'><td style='padding-right:5px; width:100px'><strong>Author</strong></td><td style='text-align:left'>christian@MacBook-Pro-de-Christian.local</td><tr>\n",
       "<tr style='border: 1px solid lightgray;'><td style='padding-right:5px; width:100px'><strong>Created</strong></td><td style='text-align:left'>2018-12-24 19:53:22.799207</td><tr>\n",
       "<tr style='border: 1px solid lightgray;'><td style='padding-right:5px; width:100px'><strong>Last Modified</strong></td><td style='text-align:left'>2018-12-24 19:53:22.801206</td><tr>\n",
       "<tr style='border: 1px solid lightgray;'><td style='padding-right:5px; width:100px'><strong>Description</strong></td><td style='text-align:left'></td><tr>\n",
       "<tr style='border: 1px solid lightgray;'><td style='padding-right:5px; width:100px'><strong>data</strong></td><td style='text-align:left'><table style='width:100%'>\n",
       "<tr style='border: 1px solid lightgray;'><td style='padding-right:5px; width:100px'><strong>Title</strong></td><td style='text-align:left'>concentration</td><tr>\n",
       "<tr style='border: 1px solid lightgray;'><td style='padding-right:5px; width:100px'><strong>Size</strong></td><td style='text-align:left'>3</td><tr>\n",
       "<tr style='border: 1px solid lightgray;'><td style='padding-right:5px; width:100px'><strong>Values</strong></td><td style='text-align:left'>[1000.000 2000.000 3000.000] kg.m<sup>-3</sup><br/</td><tr>\n",
       "</table>\n",
       "</td><tr>\n",
       "</table><br/>\n"
      ],
      "text/plain": [
       "NDDataset: [1000.000, 2000.000, 3000.000] kg.m^-3"
      ]
     },
     "execution_count": 51,
     "metadata": {},
     "output_type": "execute_result"
    }
   ],
   "source": [
    "ds.to('kg/m^3')"
   ]
  },
  {
   "cell_type": "markdown",
   "metadata": {},
   "source": [
    "## Uncertainties\n",
    "\n",
    "Spectrochempy can do calculations with uncertainties (and units).\n",
    "\n",
    "A quantity, with an `uncertainty` is called a **Measurement** .\n",
    "\n",
    "Use one of the following expression to create such `Measurement`:"
   ]
  },
  {
   "cell_type": "code",
   "execution_count": 52,
   "metadata": {},
   "outputs": [
    {
     "data": {
      "text/html": [
       "10.00 &plusmn; 0.20 cm"
      ],
      "text/latex": [
       "$\\left(10.00 \\pm 0.20\\right)\\ \\mathrm{cm}$"
      ],
      "text/plain": [
       "<Measurement(10.00, 0.20, centimeter)>"
      ]
     },
     "execution_count": 52,
     "metadata": {},
     "output_type": "execute_result"
    }
   ],
   "source": [
    "Measurement(10.0, .2, 'cm') "
   ]
  },
  {
   "cell_type": "code",
   "execution_count": 53,
   "metadata": {},
   "outputs": [
    {
     "data": {
      "text/html": [
       "10.00 &plusmn; 0.20 cm"
      ],
      "text/latex": [
       "$\\left(10.00 \\pm 0.20\\right)\\ \\mathrm{cm}$"
      ],
      "text/plain": [
       "<Measurement(10.00, 0.20, centimeter)>"
      ]
     },
     "execution_count": 53,
     "metadata": {},
     "output_type": "execute_result"
    }
   ],
   "source": [
    "Quantity(10.0, 'cm').plus_minus(.2)   "
   ]
  },
  {
   "cell_type": "markdown",
   "metadata": {},
   "source": [
    "## Numpy universal functions (ufunc's)\n",
    "\n",
    "A numpy universal function (or `numpy.ufunc` for short) is a function that\n",
    "operates on `numpy.ndarray` in an element-by-element fashion. It's\n",
    "vectorized and so rather fast.\n",
    "\n",
    "As SpectroChemPy NDDataset imitate the behaviour of numpy objects, many numpy\n",
    "ufuncs can be applied directly.\n",
    "\n",
    "For example, if you need all the elements of a NDDataset to be changed to the\n",
    "squared rooted values, you can use the `numpy.sqrt` function:"
   ]
  },
  {
   "cell_type": "code",
   "execution_count": 54,
   "metadata": {},
   "outputs": [
    {
     "data": {
      "text/html": [
       "<table style='width:100%'>\n",
       "<tr style='border: 1px solid lightgray;'><td style='padding-right:5px; width:100px'><strong>Name/Id</strong></td><td style='text-align:left'>3010fe4e</td><tr>\n",
       "<tr style='border: 1px solid lightgray;'><td style='padding-right:5px; width:100px'><strong>Author</strong></td><td style='text-align:left'>christian@MacBook-Pro-de-Christian.local</td><tr>\n",
       "<tr style='border: 1px solid lightgray;'><td style='padding-right:5px; width:100px'><strong>Created</strong></td><td style='text-align:left'>2018-12-24 19:53:22.866826</td><tr>\n",
       "<tr style='border: 1px solid lightgray;'><td style='padding-right:5px; width:100px'><strong>Last Modified</strong></td><td style='text-align:left'>2018-12-24 19:53:22.868131</td><tr>\n",
       "<tr style='border: 1px solid lightgray;'><td style='padding-right:5px; width:100px'><strong>Description</strong></td><td style='text-align:left'></td><tr>\n",
       "<tr style='border: 1px solid lightgray;'><td style='padding-right:5px; width:100px'><strong>History</strong></td><td style='text-align:left'>ufunc sqrt applied.</td><tr>\n",
       "<tr style='border: 1px solid lightgray;'><td style='padding-right:5px; width:100px'><strong>data</strong></td><td style='text-align:left'><table style='width:100%'>\n",
       "<tr style='border: 1px solid lightgray;'><td style='padding-right:5px; width:100px'><strong>Title</strong></td><td style='text-align:left'>3010fe4e</td><tr>\n",
       "<tr style='border: 1px solid lightgray;'><td style='padding-right:5px; width:100px'><strong>Size</strong></td><td style='text-align:left'>3</td><tr>\n",
       "<tr style='border: 1px solid lightgray;'><td style='padding-right:5px; width:100px'><strong>Values</strong></td><td style='text-align:left'>[   1.000    1.414    1.732]<br/</td><tr>\n",
       "</table>\n",
       "</td><tr>\n",
       "</table><br/>\n"
      ],
      "text/plain": [
       "NDDataset: [   1.000,    1.414,    1.732] unitless"
      ]
     },
     "execution_count": 54,
     "metadata": {},
     "output_type": "execute_result"
    }
   ],
   "source": [
    "da = NDDataset([1., 2., 3.])\n",
    "da_sqrt = np.sqrt(da)\n",
    "da_sqrt"
   ]
  },
  {
   "cell_type": "markdown",
   "metadata": {},
   "source": [
    "### Ufuncs with NDDataset with units\n",
    "\n",
    "When NDDataset have units, some restrictions apply on the use of ufuncs:\n",
    "\n",
    "Some function functions accept only dimensionless quantities. This is the\n",
    "case for example of logarithmic functions: :`exp` and `log`."
   ]
  },
  {
   "cell_type": "code",
   "execution_count": 55,
   "metadata": {},
   "outputs": [
    {
     "data": {
      "text/html": [
       "<table style='width:100%'>\n",
       "<tr style='border: 1px solid lightgray;'><td style='padding-right:5px; width:100px'><strong>Name/Id</strong></td><td style='text-align:left'>3014c65a</td><tr>\n",
       "<tr style='border: 1px solid lightgray;'><td style='padding-right:5px; width:100px'><strong>Author</strong></td><td style='text-align:left'>christian@MacBook-Pro-de-Christian.local</td><tr>\n",
       "<tr style='border: 1px solid lightgray;'><td style='padding-right:5px; width:100px'><strong>Created</strong></td><td style='text-align:left'>2018-12-24 19:53:22.891607</td><tr>\n",
       "<tr style='border: 1px solid lightgray;'><td style='padding-right:5px; width:100px'><strong>Last Modified</strong></td><td style='text-align:left'>2018-12-24 19:53:22.892564</td><tr>\n",
       "<tr style='border: 1px solid lightgray;'><td style='padding-right:5px; width:100px'><strong>Description</strong></td><td style='text-align:left'></td><tr>\n",
       "<tr style='border: 1px solid lightgray;'><td style='padding-right:5px; width:100px'><strong>History</strong></td><td style='text-align:left'>ufunc log10 applied.</td><tr>\n",
       "<tr style='border: 1px solid lightgray;'><td style='padding-right:5px; width:100px'><strong>data</strong></td><td style='text-align:left'><table style='width:100%'>\n",
       "<tr style='border: 1px solid lightgray;'><td style='padding-right:5px; width:100px'><strong>Title</strong></td><td style='text-align:left'>3014c65a</td><tr>\n",
       "<tr style='border: 1px solid lightgray;'><td style='padding-right:5px; width:100px'><strong>Size</strong></td><td style='text-align:left'>3</td><tr>\n",
       "<tr style='border: 1px solid lightgray;'><td style='padding-right:5px; width:100px'><strong>Values</strong></td><td style='text-align:left'>[   0.000    0.301    0.477]<br/</td><tr>\n",
       "</table>\n",
       "</td><tr>\n",
       "</table><br/>\n"
      ],
      "text/plain": [
       "NDDataset: [   0.000,    0.301,    0.477] unitless"
      ]
     },
     "execution_count": 55,
     "metadata": {},
     "output_type": "execute_result"
    }
   ],
   "source": [
    "np.log10(da)"
   ]
  },
  {
   "cell_type": "code",
   "execution_count": 56,
   "metadata": {},
   "outputs": [
    {
     "name": "stderr",
     "output_type": "stream",
     "text": [
      "[SpectroChemPy] ERROR | Cannot convert from 'centimeter' ([length]) to 'dimensionless' (dimensionless)\n"
     ]
    }
   ],
   "source": [
    "da.units = ur.cm\n",
    "\n",
    "try:\n",
    "    np.log10(da)\n",
    "except DimensionalityError as e:\n",
    "    log.error(e)"
   ]
  },
  {
   "cell_type": "markdown",
   "metadata": {},
   "source": [
    "## Complex or hypercomplex NDDatasets\n",
    "\n",
    "\n",
    "NDDataset objects with complex data are handled differently than in\n",
    "`numpy.ndarray`.\n",
    "\n",
    "Instead, complex data are stored by interlacing the real and imaginary part.\n",
    "This allows the definition of data that can be complex in several axis, and *e\n",
    ".g.,* allows 2D-hypercomplex array that can be transposed (useful for NMR data)."
   ]
  },
  {
   "cell_type": "code",
   "execution_count": 57,
   "metadata": {},
   "outputs": [
    {
     "data": {
      "text/html": [
       "<table style='width:100%'>\n",
       "<tr style='border: 1px solid lightgray;'><td style='padding-right:5px; width:100px'><strong>Name/Id</strong></td><td style='text-align:left'>NDDataset_301a5bec</td><tr>\n",
       "<tr style='border: 1px solid lightgray;'><td style='padding-right:5px; width:100px'><strong>Author</strong></td><td style='text-align:left'>christian@MacBook-Pro-de-Christian.local</td><tr>\n",
       "<tr style='border: 1px solid lightgray;'><td style='padding-right:5px; width:100px'><strong>Created</strong></td><td style='text-align:left'>2018-12-24 19:53:22.928072</td><tr>\n",
       "<tr style='border: 1px solid lightgray;'><td style='padding-right:5px; width:100px'><strong>Last Modified</strong></td><td style='text-align:left'>2018-12-24 19:53:22.929569</td><tr>\n",
       "<tr style='border: 1px solid lightgray;'><td style='padding-right:5px; width:100px'><strong>Description</strong></td><td style='text-align:left'></td><tr>\n",
       "<tr style='border: 1px solid lightgray;'><td style='padding-right:5px; width:100px'><strong>data</strong></td><td style='text-align:left'><table style='width:100%'>\n",
       "<tr style='border: 1px solid lightgray;'><td style='padding-right:5px; width:100px'><strong>Title</strong></td><td style='text-align:left'>NDDataset_301a5bec</td><tr>\n",
       "<tr style='border: 1px solid lightgray;'><td style='padding-right:5px; width:100px'><strong>Shape</strong></td><td style='text-align:left'>4 x 2(complex)</td><tr>\n",
       "<tr style='border: 1px solid lightgray;'><td style='padding-right:5px; width:100px'><strong>Values</strong></td><td style='text-align:left'>RR[[   1.000    2.000]<br/>   [   1.300    2.000]<br/>   [   1.000    2.000]<br/>   [   5.000    2.000]]<br/>RI[[   2.000    0.000]<br/>   [   2.000    0.500]<br/>   [   4.200    3.000]<br/>   [   4.200    3.000]]<br/</td><tr>\n",
       "</table>\n",
       "</td><tr>\n",
       "</table><br/>\n"
      ],
      "text/plain": [
       "NDDataset: [[   1.000,    2.000,    2.000,    0.000],\n",
       "            [   1.300,    2.000,    2.000,    0.500],\n",
       "            [   1.000,    4.200,    2.000,    3.000],\n",
       "            [   5.000,    4.200,    2.000,    3.000]] unitless"
      ]
     },
     "execution_count": 57,
     "metadata": {},
     "output_type": "execute_result"
    }
   ],
   "source": [
    "da = NDDataset([  [1.+2.j, 2.+0j], [1.3+2.j, 2.+0.5j],[1.+4.2j, 2.+3j], [5.+4.2j, 2.+3j ] ])\n",
    "da"
   ]
  },
  {
   "cell_type": "markdown",
   "metadata": {},
   "source": [
    "if the dataset is also complex in the first dimension (columns) then we\n",
    "should have (note the shape description!):"
   ]
  },
  {
   "cell_type": "code",
   "execution_count": 58,
   "metadata": {},
   "outputs": [
    {
     "data": {
      "text/html": [
       "<table style='width:100%'>\n",
       "<tr style='border: 1px solid lightgray;'><td style='padding-right:5px; width:100px'><strong>Name/Id</strong></td><td style='text-align:left'>NDDataset_301a5bec</td><tr>\n",
       "<tr style='border: 1px solid lightgray;'><td style='padding-right:5px; width:100px'><strong>Author</strong></td><td style='text-align:left'>christian@MacBook-Pro-de-Christian.local</td><tr>\n",
       "<tr style='border: 1px solid lightgray;'><td style='padding-right:5px; width:100px'><strong>Created</strong></td><td style='text-align:left'>2018-12-24 19:53:22.928072</td><tr>\n",
       "<tr style='border: 1px solid lightgray;'><td style='padding-right:5px; width:100px'><strong>Last Modified</strong></td><td style='text-align:left'>2018-12-24 19:53:22.952122</td><tr>\n",
       "<tr style='border: 1px solid lightgray;'><td style='padding-right:5px; width:100px'><strong>Description</strong></td><td style='text-align:left'></td><tr>\n",
       "<tr style='border: 1px solid lightgray;'><td style='padding-right:5px; width:100px'><strong>data</strong></td><td style='text-align:left'><table style='width:100%'>\n",
       "<tr style='border: 1px solid lightgray;'><td style='padding-right:5px; width:100px'><strong>Title</strong></td><td style='text-align:left'>NDDataset_301a5bec</td><tr>\n",
       "<tr style='border: 1px solid lightgray;'><td style='padding-right:5px; width:100px'><strong>Shape</strong></td><td style='text-align:left'>2(complex) x 2(complex)</td><tr>\n",
       "<tr style='border: 1px solid lightgray;'><td style='padding-right:5px; width:100px'><strong>Values</strong></td><td style='text-align:left'>RR[[   1.000    2.000]<br/>   [   1.000    2.000]]<br/>RI[[   2.000    0.000]<br/>   [   4.200    3.000]]<br/>IR[[   1.300    2.000]<br/>   [   5.000    2.000]]<br/>II[[   2.000    0.500]<br/>   [   4.200    3.000]]<br/</td><tr>\n",
       "</table>\n",
       "</td><tr>\n",
       "</table><br/>\n"
      ],
      "text/plain": [
       "NDDataset: [[   1.000,    2.000,    2.000,    0.000],\n",
       "            [   1.300,    2.000,    2.000,    0.500],\n",
       "            [   1.000,    4.200,    2.000,    3.000],\n",
       "            [   5.000,    4.200,    2.000,    3.000]] unitless"
      ]
     },
     "execution_count": 58,
     "metadata": {},
     "output_type": "execute_result"
    }
   ],
   "source": [
    "da.set_complex(0)\n",
    "da"
   ]
  }
 ],
 "metadata": {
  "kernelspec": {
   "display_name": "Python 3",
   "language": "python",
   "name": "python3"
  },
  "language_info": {
   "codemirror_mode": {
    "name": "ipython",
    "version": 3
   },
   "file_extension": ".py",
   "mimetype": "text/x-python",
   "name": "python",
   "nbconvert_exporter": "python",
   "pygments_lexer": "ipython3",
   "version": "3.7.1"
  },
  "latex_envs": {
   "LaTeX_envs_menu_present": true,
   "autocomplete": true,
   "bibliofile": "biblio.bib",
   "cite_by": "apalike",
   "current_citInitial": 1,
   "eqLabelWithNumbers": true,
   "eqNumInitial": 1,
   "hotkeys": {
    "equation": "Ctrl-E",
    "itemize": "Ctrl-I"
   },
   "labels_anchors": false,
   "latex_user_defs": false,
   "report_style_numbering": false,
   "user_envs_cfg": false
  },
  "toc": {
   "nav_menu": {},
   "number_sections": true,
   "sideBar": true,
   "skip_h1_title": true,
   "toc_cell": true,
   "toc_position": {},
   "toc_section_display": "block",
   "toc_window_display": false
  },
  "toc-autonumbering": true,
  "toc-showmarkdowntxt": false,
  "varInspector": {
   "cols": {
    "lenName": 16,
    "lenType": 16,
    "lenVar": 40
   },
   "kernels_config": {
    "python": {
     "delete_cmd_postfix": "",
     "delete_cmd_prefix": "del ",
     "library": "var_list.py",
     "varRefreshCmd": "print(var_dic_list())"
    },
    "r": {
     "delete_cmd_postfix": ") ",
     "delete_cmd_prefix": "rm(",
     "library": "var_list.r",
     "varRefreshCmd": "cat(var_dic_list()) "
    }
   },
   "types_to_exclude": [
    "module",
    "function",
    "builtin_function_or_method",
    "instance",
    "_Feature"
   ],
   "window_display": false
  }
 },
 "nbformat": 4,
 "nbformat_minor": 2
}
