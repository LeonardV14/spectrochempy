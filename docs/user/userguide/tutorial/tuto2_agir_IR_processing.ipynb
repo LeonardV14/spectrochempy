{
 "cells": [
  {
   "cell_type": "markdown",
   "metadata": {
    "nbpresent": {
     "id": "00240045-c477-45dd-94f4-037a0fbd5000"
    },
    "slideshow": {
     "slide_type": "slide"
    }
   },
   "source": [
    "# Processing the IR dataset"
   ]
  },
  {
   "cell_type": "code",
   "execution_count": 1,
   "metadata": {
    "cell_style": "center",
    "hide_input": false,
    "nbpresent": {
     "id": "4187b2b2-7280-42b1-8c0d-a4af39101f17"
    },
    "slideshow": {
     "slide_type": "subslide"
    }
   },
   "outputs": [
    {
     "data": {
      "text/html": [
       "\n",
       "    \n",
       "    <table><tr><td>\n",
       "    \n",
       "    <img src='data:image/png;base64,iVBORw0KGgoAAAANSUhEUgAAABgAAAAYCAYAAADgdz34AAAAAXNSR0IArs4c6QAAAAlw\n",
       "    SFlzAAAJOgAACToB8GSSSgAAAetpVFh0WE1MOmNvbS5hZG9iZS54bXAAAAAAADx4OnhtcG1ldGEgeG1sbnM6eD0iYWRvYmU6bnM6\n",
       "    bWV0YS8iIHg6eG1wdGs9IlhNUCBDb3JlIDUuNC4wIj4KICAgPHJkZjpSREYgeG1sbnM6cmRmPSJodHRwOi8vd3d3LnczLm9yZy8x\n",
       "    OTk5LzAyLzIyLXJkZi1zeW50YXgtbnMjIj4KICAgICAgPHJkZjpEZXNjcmlwdGlvbiByZGY6YWJvdXQ9IiIKICAgICAgICAgICAg\n",
       "    eG1sbnM6eG1wPSJodHRwOi8vbnMuYWRvYmUuY29tL3hhcC8xLjAvIgogICAgICAgICAgICB4bWxuczp0aWZmPSJodHRwOi8vbnMu\n",
       "    YWRvYmUuY29tL3RpZmYvMS4wLyI+CiAgICAgICAgIDx4bXA6Q3JlYXRvclRvb2w+bWF0cGxvdGxpYiB2ZXJzaW9uIDIuMS4wLCBo\n",
       "    dHRwOi8vbWF0cGxvdGxpYi5vcmcvPC94bXA6Q3JlYXRvclRvb2w+CiAgICAgICAgIDx0aWZmOk9yaWVudGF0aW9uPjE8L3RpZmY6\n",
       "    T3JpZW50YXRpb24+CiAgICAgIDwvcmRmOkRlc2NyaXB0aW9uPgogICA8L3JkZjpSREY+CjwveDp4bXBtZXRhPgqNQaNYAAAGiUlE\n",
       "    QVRIDY1We4xU1Rn/3XPuYx47u8w+hnU38hTcuoUEt/6D2y4RB0ME1BoEd9taJaKh9CFiN7YGp7appUAMNmktMZFoJTYVLVQ0smsy\n",
       "    26CN0SU1QgsuFAaW3WVmx33N677O6XfuyoIxTXqSO/fec+75fd93vt/3/UbDV0aKSZmCpkFMLz3T9utuu2N+o98aDSMBKVAo89z5\n",
       "    y+zEz3ZafcCOfvWdlGCalqKn1Bf71CygTd+mf1esSOnpdMpTb+vWpTZuWVfe3jLPa5tzHYNm0T5N0gpdkkHaDBeGBU6d1/t/fyS8\n",
       "    +/CbqdfUvmsx1PuMgc2bNxv79u1zgd31r+7JH1jbIZKxWRXAcYUQ8IWvBfBXNjEuJWPgMA02NR7C3/pYT9fjdZ3A9tGrWF8YSJHn\n",
       "    qcDz3y7q2T967PZv+gnYJdd1mEZ+62zGDQV/dQgKhmLzDNOXCEWM3j6eTT5Y3w78dOBKJLR1PQf+4ivPj76UPZnssBN+wbM9Aet/\n",
       "    AV81Mf1EEULXYfOobvX2WWQk0aoioXwwSmirOlioY0mu8BIouzYl7P8GV3vpqCCEZvlFz769w08oLDWvyKIyL1asSm28d6WfzA97\n",
       "    ztvvV1kexUMsmhlkULEkuGYmFYC6AvfUrITnwUKl5K79lkjeSSRRTCTbQPd95e1WzMbZSya74XoXAxctCllCnbECMOjZNGRwvzIX\n",
       "    nD85wbkMmKK+U045Dtdi8Qp+SAxU2GTg2bYlC9224pgvmSb54vkVTBQYyhUt2KjAMyMmPjwRQW5Mh2WKwJhlBh6jVGagFM84wZnQ\n",
       "    4bpC0Rt4pk1PbSt0NDcxDA5xryosDHWgtbM0DGZDWLSoiDMDYeQnGVrmOThxLozB0RAaahzkJzjKNqcIQBymJFMkOlN8Dqjpg0XY\n",
       "    Tx5xO/QbmmUrqIjGJznq47TqTaClKYfjp+PInLMwnOdYvtQBZ2XcunQY+VwIo4U4muoFEjVEFE6lQyEUKzHYfgQG9ylCyngU+Cxj\n",
       "    tOqxCDGHcCsOMCs6iQul5ZiStdATYxjMZXDLTUVwLY8Jey4uOh2IxjwsrP8UXJYxUrkZrghBahzV5iXU6gNkq0Z1EzIsUBUSCV2n\n",
       "    EOHo0LVxHCpuxabJJdhi5PFnvw5vLXwXIfNZvD/+JNo/X40NegE54sUaazl+UL8XD1x+FB9Ijjt4EQfdGN6J/x131LwIV9ap/AYs\n",
       "    0x1fz1ZKFbh6A7qKy/By9Dg6G36Ep91vUJJ15Cqr0Z67E8/HzmBrw1OwxWyM+3Mo6BAuSB17oyfx0Oyl2DN0Hqs/70Cx6hBCvESF\n",
       "    UY1ShWXZZEE7OTAYxZzaPH4TuoiusZvRnunFy2NbiHYuBp2vB66srX4vMEjpRKPxKXmnoQ4+Mn4DPiv8CYcrs3GfNUXJLtM+alSO\n",
       "    hrMj/KT+wBNW3+E/2liywNO3iSflbaFva/+stGDTxE0E9Sjaox8HBhxpEamzMGSEaFKg+mjEddzDh1MxTDq3YV1kGBsjfwW3S9Cq\n",
       "    anjmko+ndlb1UR3s6K8JlfphNWq9Ew/7c61T2BB/EbcaNkb8GBaE0tANH7/M34PLdhJDzjIcL9xPbdTG6zyM72Y+wXPHmvB489No\n",
       "    fm0b5HnbQ9Rgp/7DSSd29AeVvPeNyK6JcYl/yQVi5dBjuGvoV/gaJe47s45QUxrDmcYX0MBsdF7egvXZ7+O0vZA4X8QmOQWjlSK7\n",
       "    RDz5wIM30gp9UbWcGjXxhzdDu1SiNSpx6kcQB57rPnr/3dlkZarWLnlRq5oPET1dOCIOk4wALib9eeS5iygfhkd09H0DWphB/+gs\n",
       "    +PcOAS+ssrFmmXXgVfR0de9cpbAJfH3Q1jofW9DZk56dDcVsq9YcsoUMEd1qyLoT3BX1YiyHMJuk97hyjqIoE91t+NcTLeN0ZrfM\n",
       "    oXatZbu6G0h4VG+ibqq0IJVK6cAjo6serG3vSUezCMct0yQeSOFJSUImqb2qbknUpDqlZxE0QZ+ZUpSlZx79h4Nda6zef9dlk121\n",
       "    JDjbR5XggPRZlRnS6bRQRtLpn4++cuie/Yvn2svmNxuLw9WCcYIl4fEoTEGiSTUqJdfgU+8ROqf1iMkLzS389YtNPXc/PH8l8ONB\n",
       "    JZkHD+4JtD04HmVEDWWErmBhzV2/2LB1bemJG6krzv2S6NOHUgtEP0Oif5pE/3fHoruP7N8RiP61GArzSwbUhJJQpXJKiKbfr/3b\n",
       "    IhKq76sKPUdF9NW/LSqfSn6vjv8C45H/6FSgvZQAAAAASUVORK5CYII='\n",
       "         style='height:25px; border-radius:12px; display: inline-block; float: left; vertical-align: middle'></img>\n",
       "    \n",
       "    </td><td>\n",
       "    \n",
       "    &nbsp;&nbsp;<span style='font-size:12px'>SpectroChemPy's API - v.0.1a9.dev14+g2be3ec3a.d20190120<br/>© Copyright 2014-2019 - A.Travert & C.Fernandez @ LCS</span>\n",
       "    \n",
       "    </td></tr></table>\n",
       "    </div>\n",
       "    "
      ]
     },
     "metadata": {},
     "output_type": "display_data"
    }
   ],
   "source": [
    "from spectrochempy import *\n",
    "set_loglevel(ERROR)"
   ]
  },
  {
   "cell_type": "markdown",
   "metadata": {},
   "source": [
    "## Loading a project"
   ]
  },
  {
   "cell_type": "markdown",
   "metadata": {
    "nbpresent": {
     "id": "af79a3ae-e4ce-4602-8ed8-e590658d0d90"
    },
    "slideshow": {
     "slide_type": "-"
    }
   },
   "source": [
    "We read the ``HIZECOKE`` project that was saved previously"
   ]
  },
  {
   "cell_type": "code",
   "execution_count": 2,
   "metadata": {
    "nbpresent": {
     "id": "0126e973-e46c-4a4f-bf9e-dccf54347cce"
    },
    "slideshow": {
     "slide_type": "-"
    }
   },
   "outputs": [
    {
     "data": {
      "text/html": [
       "Project&nbsp;HIZECOKE:<br/>\n",
       "&nbsp;&nbsp;&nbsp;&nbsp;⤷&nbsp;P350&nbsp;(sub-project)<br/>\n",
       "&nbsp;&nbsp;&nbsp;&nbsp;&nbsp;&nbsp;&nbsp;⤷&nbsp;IR&nbsp;(dataset)<br/>\n",
       "&nbsp;&nbsp;&nbsp;&nbsp;&nbsp;&nbsp;&nbsp;⤷&nbsp;TGA&nbsp;(dataset)<br/>\n",
       "&nbsp;&nbsp;&nbsp;&nbsp;⤷&nbsp;A350&nbsp;(sub-project)<br/>\n",
       "&nbsp;&nbsp;&nbsp;&nbsp;&nbsp;&nbsp;&nbsp;⤷&nbsp;IR&nbsp;(dataset)<br/>\n",
       "&nbsp;&nbsp;&nbsp;&nbsp;&nbsp;&nbsp;&nbsp;⤷&nbsp;TGA&nbsp;(dataset)<br/>\n",
       "&nbsp;&nbsp;&nbsp;&nbsp;⤷&nbsp;B350&nbsp;(sub-project)<br/>\n",
       "&nbsp;&nbsp;&nbsp;&nbsp;&nbsp;&nbsp;&nbsp;⤷&nbsp;IR&nbsp;(dataset)<br/>\n",
       "&nbsp;&nbsp;&nbsp;&nbsp;&nbsp;&nbsp;&nbsp;⤷&nbsp;TGA&nbsp;(dataset)<br/>\n",
       "&nbsp;&nbsp;&nbsp;&nbsp;⤷&nbsp;plotIR&nbsp;(script)<br/>\n",
       "&nbsp;&nbsp;&nbsp;&nbsp;⤷&nbsp;preprocess&nbsp;(script)<br/>\n",
       "&nbsp;&nbsp;&nbsp;&nbsp;⤷&nbsp;print_info&nbsp;(script)<br/>\n"
      ],
      "text/plain": [
       "<spectrochempy.core.projects.project.Project at 0x11aceaf28>"
      ]
     },
     "execution_count": 2,
     "metadata": {},
     "output_type": "execute_result"
    }
   ],
   "source": [
    "proj = Project.load('HIZECOKE')\n",
    "proj"
   ]
  },
  {
   "cell_type": "markdown",
   "metadata": {},
   "source": [
    "## Preprocessing the IR spectra"
   ]
  },
  {
   "cell_type": "markdown",
   "metadata": {
    "nbpresent": {
     "id": "837d22f3-a331-4bc6-a464-6b3cf80a4e26"
    }
   },
   "source": [
    "Let's replot the data. But we will slice the data in order to keep only the region of interest, between 3990 and 1300 cm$^{-1}$.\n",
    "\n",
    "\n",
    "\n",
    "### Some notes about slicing\n",
    "\n",
    "Slicing can be done by index, coordinates or labels (when they are present).\n",
    "\n",
    "* `proj.P350.IR[:, 10]` for column slicing (here we get the 10th column (with index starting at 0!))\n",
    "* or `proj.P350.IR[10]` for row slicing\n",
    "\n",
    "As said above, we can also slice using the real coordinates. For example,\n",
    "\n",
    "* `proj.P350.IR[:, 3000.0:3100.0]` will select all columns from wavenumbers 3000 to 3100. \n",
    "\n",
    "<div class='alert alert-info'>**IMPORTANT** : \n",
    "\n",
    "* When doing such slicing, the wavenumbers must be expressed as **floating numbers** (with the decimal separator present) or it will fail!.\n",
    "\n",
    "* Note that when using a range of coordinates, both limits needs to be set as SpectroChemPy cannot infer which direction to take (and so results may be impredictable):  \n",
    "This is ok: `proj.P350.IR[:, 3000.0:3100.0]`, but not this: `proj.P350.IR[:, 3000.0:]`\n",
    "\n",
    "</div>"
   ]
  },
  {
   "cell_type": "code",
   "execution_count": 3,
   "metadata": {},
   "outputs": [],
   "source": [
    "for p in proj.projects:   \n",
    "    p.IR[:, 3990.:1300., INPLACE]         # we slice the data inplace \n",
    "    p.IR = (p.IR.T - p.IR[:,3990.]).T     # we remove some offset "
   ]
  },
  {
   "cell_type": "code",
   "execution_count": 4,
   "metadata": {
    "nbpresent": {
     "id": "57b59b4c-a867-44b9-a9a4-98d1756a6a42"
    }
   },
   "outputs": [
    {
     "data": {
      "application/vnd.jupyter.widget-view+json": {
       "model_id": "b23d86c8a8694e1582da9a9488e87988",
       "version_major": 2,
       "version_minor": 0
      },
      "text/plain": [
       "FigureCanvasNbAgg()"
      ]
     },
     "metadata": {},
     "output_type": "display_data"
    }
   ],
   "source": [
    "datasets =[]\n",
    "labels = []\n",
    "\n",
    "for p in reversed(proj.projects):   # we put the parent first this way\n",
    "    datasets.append(p.IR)\n",
    "    labels.append(p.label) \n",
    "    \n",
    "_ = multiplot_stack(datasets=datasets, labels=labels, \n",
    "                nrow=1, ncol=3, sharex=True, sharez=True, \n",
    "                figsize=(6.8,3), dpi=100, style='sans')"
   ]
  },
  {
   "cell_type": "markdown",
   "metadata": {},
   "source": [
    "## Creating and using project's scripts"
   ]
  },
  {
   "cell_type": "markdown",
   "metadata": {
    "nbpresent": {
     "id": "304c27b4-dbb2-4a59-90a0-1e61285000f8"
    }
   },
   "source": [
    "In order to avoid having to write this basic pre-processing and plotting function each time we read the initial project, there is two ways:\n",
    "\n",
    "1. We can save the mofified data and reopen the project with the modified files next time we need them. However, the processing that was applied cannot be modified.\n",
    "2. The second possibility is to save the processing scripts along with the project, and reapply them next time we will open this project. If a modification is required, any of the scripts can be modified before being applied.\n",
    "\n",
    "it would be useful to keep the script used here along with the project.\n",
    "\n",
    "To do so, we will store them in the project, using the `%addscript` magic function.\n",
    "\n",
    "The syntax is simple!\n",
    "\n",
    "There are two possibilities: \n",
    "\n",
    "1. `%addscript -p <project_name> -o <scriptname> <cell_reference, file or objects>`\n",
    "1. `%%addscript -p <project_name> -o <scriptname>` \n",
    "    \n",
    "        ...code lines...\n",
    "\n",
    "where\n",
    "\n",
    "* `-p <project_name>` to say in wich project we want to strore our script\n",
    "* `-o <script_name>` to say which name will be used for that script. It must be unique in a project, or confusion may rapidly arise.\n",
    "\n",
    "That's almost all:\n",
    "* The script can come from the current cell (in this case modify the command like this: `%%addscript -p <project_name> -o <script_name>` (yes with two `%`). This should be the first line of the cell to use as a script. \n",
    "* it can also come from another already executed cell: in this case with give the `id` (*e.g.,* `3`) of the cell to use or a range of cells to use (*e.g.,* `3-10`)"
   ]
  },
  {
   "cell_type": "code",
   "execution_count": 5,
   "metadata": {
    "nbpresent": {
     "id": "a1ae86af-bf52-49f8-97f5-eae32d3845b2"
    }
   },
   "outputs": [
    {
     "data": {
      "text/plain": [
       "'Script plotIR created.'"
      ]
     },
     "execution_count": 5,
     "metadata": {},
     "output_type": "execute_result"
    }
   ],
   "source": [
    "%addscript -p proj -o plotIR 4"
   ]
  },
  {
   "cell_type": "code",
   "execution_count": 6,
   "metadata": {
    "nbpresent": {
     "id": "a1ae86af-bf52-49f8-97f5-eae32d3845b2"
    }
   },
   "outputs": [
    {
     "data": {
      "text/plain": [
       "'Script preprocess created.'"
      ]
     },
     "execution_count": 6,
     "metadata": {},
     "output_type": "execute_result"
    }
   ],
   "source": [
    "%addscript -p proj -o preprocess 3"
   ]
  },
  {
   "cell_type": "code",
   "execution_count": 7,
   "metadata": {
    "nbpresent": {
     "id": "4bcb0c3f-b26c-4c4e-b918-a2911e247dd6"
    }
   },
   "outputs": [
    {
     "data": {
      "text/plain": [
       "'Script print_info created.'"
      ]
     },
     "execution_count": 7,
     "metadata": {},
     "output_type": "execute_result"
    }
   ],
   "source": [
    "%%addscript -p proj -o print_info\n",
    "print(\"samples contained in the project are: %s\"%proj.projects_names)"
   ]
  },
  {
   "cell_type": "markdown",
   "metadata": {},
   "source": [
    "Let's check that the scripts are stored in the project:"
   ]
  },
  {
   "cell_type": "code",
   "execution_count": 8,
   "metadata": {},
   "outputs": [
    {
     "data": {
      "text/html": [
       "Project&nbsp;HIZECOKE:<br/>\n",
       "&nbsp;&nbsp;&nbsp;&nbsp;⤷&nbsp;P350&nbsp;(sub-project)<br/>\n",
       "&nbsp;&nbsp;&nbsp;&nbsp;&nbsp;&nbsp;&nbsp;⤷&nbsp;IR&nbsp;(dataset)<br/>\n",
       "&nbsp;&nbsp;&nbsp;&nbsp;&nbsp;&nbsp;&nbsp;⤷&nbsp;TGA&nbsp;(dataset)<br/>\n",
       "&nbsp;&nbsp;&nbsp;&nbsp;⤷&nbsp;A350&nbsp;(sub-project)<br/>\n",
       "&nbsp;&nbsp;&nbsp;&nbsp;&nbsp;&nbsp;&nbsp;⤷&nbsp;IR&nbsp;(dataset)<br/>\n",
       "&nbsp;&nbsp;&nbsp;&nbsp;&nbsp;&nbsp;&nbsp;⤷&nbsp;TGA&nbsp;(dataset)<br/>\n",
       "&nbsp;&nbsp;&nbsp;&nbsp;⤷&nbsp;B350&nbsp;(sub-project)<br/>\n",
       "&nbsp;&nbsp;&nbsp;&nbsp;&nbsp;&nbsp;&nbsp;⤷&nbsp;IR&nbsp;(dataset)<br/>\n",
       "&nbsp;&nbsp;&nbsp;&nbsp;&nbsp;&nbsp;&nbsp;⤷&nbsp;TGA&nbsp;(dataset)<br/>\n",
       "&nbsp;&nbsp;&nbsp;&nbsp;⤷&nbsp;plotIR&nbsp;(script)<br/>\n",
       "&nbsp;&nbsp;&nbsp;&nbsp;⤷&nbsp;preprocess&nbsp;(script)<br/>\n",
       "&nbsp;&nbsp;&nbsp;&nbsp;⤷&nbsp;print_info&nbsp;(script)<br/>\n"
      ],
      "text/plain": [
       "<spectrochempy.core.projects.project.Project at 0x11aceaf28>"
      ]
     },
     "execution_count": 8,
     "metadata": {},
     "output_type": "execute_result"
    }
   ],
   "source": [
    "proj"
   ]
  },
  {
   "cell_type": "markdown",
   "metadata": {},
   "source": [
    "and that a script can be executed!"
   ]
  },
  {
   "cell_type": "code",
   "execution_count": 9,
   "metadata": {},
   "outputs": [
    {
     "name": "stdout",
     "output_type": "stream",
     "text": [
      "samples contained in the project are: ['A350', 'B350', 'P350']\n"
     ]
    }
   ],
   "source": [
    "proj.print_info()"
   ]
  },
  {
   "cell_type": "markdown",
   "metadata": {},
   "source": [
    "Now, we save the project... but as we want to keep the original data intacts, we will save only the scripts and keep all data unchanged."
   ]
  },
  {
   "cell_type": "code",
   "execution_count": 10,
   "metadata": {},
   "outputs": [],
   "source": [
    "proj.save(overwrite_data=False)"
   ]
  },
  {
   "cell_type": "markdown",
   "metadata": {},
   "source": [
    "Let's now reload the project in a new object, and check that this is the original data for the dataset"
   ]
  },
  {
   "cell_type": "code",
   "execution_count": 13,
   "metadata": {},
   "outputs": [
    {
     "data": {
      "application/vnd.jupyter.widget-view+json": {
       "model_id": "5653af2826864a6ba6ce1dfe10664649",
       "version_major": 2,
       "version_minor": 0
      },
      "text/plain": [
       "FigureCanvasNbAgg()"
      ]
     },
     "metadata": {},
     "output_type": "display_data"
    }
   ],
   "source": [
    "#set_loglevel(DEBUG)\n",
    "proj = Project.load('HIZECOKE')\n",
    "proj.plotIR()"
   ]
  },
  {
   "cell_type": "markdown",
   "metadata": {},
   "source": [
    "We get the original spectra as expected. \n",
    "\n",
    "But now we can use the `preprocess` script which is stored in the project, to apply all change that were recorded."
   ]
  },
  {
   "cell_type": "code",
   "execution_count": 12,
   "metadata": {
    "run_control": {
     "marked": false
    }
   },
   "outputs": [
    {
     "data": {
      "application/vnd.jupyter.widget-view+json": {
       "model_id": "519902439d3b4726a023a1ec40482573",
       "version_major": 2,
       "version_minor": 0
      },
      "text/plain": [
       "FigureCanvasNbAgg()"
      ]
     },
     "metadata": {},
     "output_type": "display_data"
    }
   ],
   "source": [
    "proj.preprocess()\n",
    "proj.plotIR()"
   ]
  },
  {
   "cell_type": "markdown",
   "metadata": {
    "nbpresent": {
     "id": "d64f8d55-67db-44a9-a1d3-d95f8f8f0cca"
    }
   },
   "source": [
    "## Masking bad data\n",
    "\n",
    "### Set a mask on a range of columns\n",
    "Clearly some of the spectra above displayed have problem with noise, or some experiment artifacts. \n",
    "Although we could be tempted to simply remove the data, another way, it to mask these bad data. \n",
    "\n",
    "For instance, we may want to mask all data ranging between 2300 and 2700. Let's do that:"
   ]
  },
  {
   "cell_type": "code",
   "execution_count": 13,
   "metadata": {},
   "outputs": [
    {
     "data": {
      "application/vnd.jupyter.widget-view+json": {
       "model_id": "41cb9d6703034157ac3928237c152f20",
       "version_major": 2,
       "version_minor": 0
      },
      "text/plain": [
       "FigureCanvasNbAgg()"
      ]
     },
     "metadata": {},
     "output_type": "display_data"
    }
   ],
   "source": [
    "for p in proj.projects:   \n",
    "    p.IR[:, 2300.:2700.]=masked\n",
    "\n",
    "proj.plotIR()"
   ]
  },
  {
   "cell_type": "markdown",
   "metadata": {
    "nbpresent": {
     "id": "e3682b70-bede-4108-a2c4-30410480a159"
    }
   },
   "source": [
    "### Remove a mask\n",
    "\n",
    "To remove the mask, we cannot make it selectively. All mask must be removed at the same time:"
   ]
  },
  {
   "cell_type": "code",
   "execution_count": 14,
   "metadata": {
    "nbpresent": {
     "id": "fcfbcfdd-efce-4243-89e2-1cbc57f20494"
    }
   },
   "outputs": [
    {
     "data": {
      "application/vnd.jupyter.widget-view+json": {
       "model_id": "032052a59fc14a0a9bc1d0b298455436",
       "version_major": 2,
       "version_minor": 0
      },
      "text/plain": [
       "FigureCanvasNbAgg()"
      ]
     },
     "metadata": {},
     "output_type": "display_data"
    }
   ],
   "source": [
    "for p in proj.projects:   \n",
    "    p.IR.remove_masks()\n",
    "\n",
    "proj.plotIR()"
   ]
  },
  {
   "cell_type": "markdown",
   "metadata": {
    "nbpresent": {
     "id": "ef14e3b1-4974-4895-bcec-73eeb0ae5664"
    }
   },
   "source": [
    "### Masking bad data for rows"
   ]
  },
  {
   "cell_type": "markdown",
   "metadata": {
    "nbpresent": {
     "id": "4def4553-804c-405f-babc-4063afa5d4d8"
    }
   },
   "source": [
    "It appears that the data to remove correspond to some row but it is difficult to find which one in the plot above. So it may be interesting to work on transposed data (we use the operator `.T`).\n",
    "\n",
    "First, let's make a script for plotting the transposed data"
   ]
  },
  {
   "cell_type": "code",
   "execution_count": 15,
   "metadata": {
    "nbpresent": {
     "id": "42228607-2aaa-4b18-aa06-c22b87793d97"
    }
   },
   "outputs": [
    {
     "data": {
      "text/plain": [
       "'Script plotIR_T created.'"
      ]
     },
     "execution_count": 15,
     "metadata": {},
     "output_type": "execute_result"
    }
   ],
   "source": [
    "%%addscript -p proj -o plotIR_T\n",
    "\n",
    "datasets_T =[]\n",
    "labels = []\n",
    "\n",
    "for p in reversed(proj.projects):   # we put the parent first this way\n",
    "    datasets_T.append(p.IR.T)\n",
    "    labels.append(p.label) \n",
    "    \n",
    "_ = multiplot_stack(datasets=datasets_T, labels=labels, \n",
    "                nrow=1, ncol=3, sharex=False, sharez=True, \n",
    "                figsize=(6.8,3), dpi=100, style='sans')"
   ]
  },
  {
   "cell_type": "code",
   "execution_count": 16,
   "metadata": {},
   "outputs": [
    {
     "data": {
      "application/vnd.jupyter.widget-view+json": {
       "model_id": "fe7e5011eb6d43758bcc68a712c8365a",
       "version_major": 2,
       "version_minor": 0
      },
      "text/plain": [
       "FigureCanvasNbAgg()"
      ]
     },
     "metadata": {},
     "output_type": "display_data"
    }
   ],
   "source": [
    "proj.plotIR_T()"
   ]
  },
  {
   "cell_type": "markdown",
   "metadata": {},
   "source": [
    "Now mask some of the rows, that are clearly not correct"
   ]
  },
  {
   "cell_type": "code",
   "execution_count": 17,
   "metadata": {
    "nbpresent": {
     "id": "fa866432-6983-4b1f-bfd1-bf2fa986a77d"
    }
   },
   "outputs": [
    {
     "data": {
      "application/vnd.jupyter.widget-view+json": {
       "model_id": "966a353e9bd2460c81a19c16e648699b",
       "version_major": 2,
       "version_minor": 0
      },
      "text/plain": [
       "FigureCanvasNbAgg()"
      ]
     },
     "metadata": {},
     "output_type": "display_data"
    },
    {
     "data": {
      "application/vnd.jupyter.widget-view+json": {
       "model_id": "94818c1a2ecf4899821dd7b2d4b1104b",
       "version_major": 2,
       "version_minor": 0
      },
      "text/plain": [
       "FigureCanvasNbAgg()"
      ]
     },
     "metadata": {},
     "output_type": "display_data"
    }
   ],
   "source": [
    "proj.P350.IR[14.4:24.]=masked\n",
    "proj.A350.IR[24.17:24.36]=masked\n",
    "\n",
    "proj.plotIR_T()\n",
    "proj.plotIR()"
   ]
  },
  {
   "cell_type": "markdown",
   "metadata": {},
   "source": [
    "## Make our final preprocessing script\n",
    "\n",
    "OK, the data are now clean. Let's update our `preprocess` script with a summary of all actions, so that we can apply this next time."
   ]
  },
  {
   "cell_type": "code",
   "execution_count": null,
   "metadata": {
    "lines_to_next_cell": 2
   },
   "outputs": [],
   "source": [
    "%%addscript -p proj -o preprocess\n",
    "\n",
    "# slicing\n",
    "for p in proj.projects:\n",
    "    p.IR[:, 3990.:1300., INPLACE]   # we slice the data inplace \n",
    "    p.IR = (p.IR.T - p.IR[:,3990.]).T     # we remove the offset \n",
    "\n",
    "# mask some rows\n",
    "proj.P350.IR[14.4:24.]=masked        \n",
    "proj.A350.IR[24.17:24.36]=masked"
   ]
  },
  {
   "cell_type": "markdown",
   "metadata": {},
   "source": [
    "Save these scripts"
   ]
  },
  {
   "cell_type": "code",
   "execution_count": null,
   "metadata": {},
   "outputs": [],
   "source": [
    "proj.save('HIZECOKE', overwrite_data=False)"
   ]
  },
  {
   "cell_type": "markdown",
   "metadata": {},
   "source": [
    "In the next [notebook](tuto3_agir_tg_processing.ipynb), we will proceed with some basic pre-processing of the TGA data."
   ]
  }
 ],
 "metadata": {
  "jupytext": {
   "text_representation": {
    "extension": ".py",
    "format_name": "percent",
    "format_version": "1.2",
    "jupytext_version": "0.8.6"
   }
  },
  "kernelspec": {
   "display_name": "Python 3",
   "language": "python",
   "name": "python3"
  },
  "language_info": {
   "codemirror_mode": {
    "name": "ipython",
    "version": 3
   },
   "file_extension": ".py",
   "mimetype": "text/x-python",
   "name": "python",
   "nbconvert_exporter": "python",
   "pygments_lexer": "ipython3",
   "version": "3.7.1"
  }
 },
 "nbformat": 4,
 "nbformat_minor": 2
}
