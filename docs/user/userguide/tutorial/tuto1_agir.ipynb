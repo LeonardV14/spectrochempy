{
 "cells": [
  {
   "cell_type": "markdown",
   "metadata": {
    "cell_style": "center",
    "nbpresent": {
     "id": "8c1a09c3-41be-4a90-bb14-9ee105fbd2a4"
    },
    "slideshow": {
     "slide_type": "slide"
    }
   },
   "source": [
    "# A full working example: an AGIR study of coked zeolites"
   ]
  },
  {
   "cell_type": "markdown",
   "metadata": {
    "cell_style": "center",
    "nbpresent": {
     "id": "e4d6f81d-e9ac-48e6-80e3-6ab639743531"
    },
    "slideshow": {
     "slide_type": "slide"
    }
   },
   "source": [
    "This example concerns the **study of coked hierarchical zeolites**.\n",
    "\n",
    "This notebook however focuses on the processing step we have used for this work, as well as some details about the use of the **SpectroChemPy** python package.\n",
    "\n",
    "Fisrt, and this will be done at the top of each notebook in the tutorial, we load the **SpectroChemPy** API. It will expose all available methods that can act on `projects` and `datasets`."
   ]
  },
  {
   "cell_type": "code",
   "execution_count": 1,
   "metadata": {
    "nbpresent": {
     "id": "7ebe96fc-565c-46f4-bdd4-ca8903347319"
    }
   },
   "outputs": [
    {
     "data": {
      "text/html": [
       "\n",
       "    \n",
       "    <table><tr><td>\n",
       "    \n",
       "    <img src='data:image/png;base64,iVBORw0KGgoAAAANSUhEUgAAABgAAAAYCAYAAADgdz34AAAAAXNSR0IArs4c6QAAAAlw\n",
       "    SFlzAAAJOgAACToB8GSSSgAAAetpVFh0WE1MOmNvbS5hZG9iZS54bXAAAAAAADx4OnhtcG1ldGEgeG1sbnM6eD0iYWRvYmU6bnM6\n",
       "    bWV0YS8iIHg6eG1wdGs9IlhNUCBDb3JlIDUuNC4wIj4KICAgPHJkZjpSREYgeG1sbnM6cmRmPSJodHRwOi8vd3d3LnczLm9yZy8x\n",
       "    OTk5LzAyLzIyLXJkZi1zeW50YXgtbnMjIj4KICAgICAgPHJkZjpEZXNjcmlwdGlvbiByZGY6YWJvdXQ9IiIKICAgICAgICAgICAg\n",
       "    eG1sbnM6eG1wPSJodHRwOi8vbnMuYWRvYmUuY29tL3hhcC8xLjAvIgogICAgICAgICAgICB4bWxuczp0aWZmPSJodHRwOi8vbnMu\n",
       "    YWRvYmUuY29tL3RpZmYvMS4wLyI+CiAgICAgICAgIDx4bXA6Q3JlYXRvclRvb2w+bWF0cGxvdGxpYiB2ZXJzaW9uIDIuMS4wLCBo\n",
       "    dHRwOi8vbWF0cGxvdGxpYi5vcmcvPC94bXA6Q3JlYXRvclRvb2w+CiAgICAgICAgIDx0aWZmOk9yaWVudGF0aW9uPjE8L3RpZmY6\n",
       "    T3JpZW50YXRpb24+CiAgICAgIDwvcmRmOkRlc2NyaXB0aW9uPgogICA8L3JkZjpSREY+CjwveDp4bXBtZXRhPgqNQaNYAAAGiUlE\n",
       "    QVRIDY1We4xU1Rn/3XPuYx47u8w+hnU38hTcuoUEt/6D2y4RB0ME1BoEd9taJaKh9CFiN7YGp7appUAMNmktMZFoJTYVLVQ0smsy\n",
       "    26CN0SU1QgsuFAaW3WVmx33N677O6XfuyoIxTXqSO/fec+75fd93vt/3/UbDV0aKSZmCpkFMLz3T9utuu2N+o98aDSMBKVAo89z5\n",
       "    y+zEz3ZafcCOfvWdlGCalqKn1Bf71CygTd+mf1esSOnpdMpTb+vWpTZuWVfe3jLPa5tzHYNm0T5N0gpdkkHaDBeGBU6d1/t/fyS8\n",
       "    +/CbqdfUvmsx1PuMgc2bNxv79u1zgd31r+7JH1jbIZKxWRXAcYUQ8IWvBfBXNjEuJWPgMA02NR7C3/pYT9fjdZ3A9tGrWF8YSJHn\n",
       "    qcDz3y7q2T967PZv+gnYJdd1mEZ+62zGDQV/dQgKhmLzDNOXCEWM3j6eTT5Y3w78dOBKJLR1PQf+4ivPj76UPZnssBN+wbM9Aet/\n",
       "    AV81Mf1EEULXYfOobvX2WWQk0aoioXwwSmirOlioY0mu8BIouzYl7P8GV3vpqCCEZvlFz769w08oLDWvyKIyL1asSm28d6WfzA97\n",
       "    ztvvV1kexUMsmhlkULEkuGYmFYC6AvfUrITnwUKl5K79lkjeSSRRTCTbQPd95e1WzMbZSya74XoXAxctCllCnbECMOjZNGRwvzIX\n",
       "    nD85wbkMmKK+U045Dtdi8Qp+SAxU2GTg2bYlC9224pgvmSb54vkVTBQYyhUt2KjAMyMmPjwRQW5Mh2WKwJhlBh6jVGagFM84wZnQ\n",
       "    4bpC0Rt4pk1PbSt0NDcxDA5xryosDHWgtbM0DGZDWLSoiDMDYeQnGVrmOThxLozB0RAaahzkJzjKNqcIQBymJFMkOlN8Dqjpg0XY\n",
       "    Tx5xO/QbmmUrqIjGJznq47TqTaClKYfjp+PInLMwnOdYvtQBZ2XcunQY+VwIo4U4muoFEjVEFE6lQyEUKzHYfgQG9ylCyngU+Cxj\n",
       "    tOqxCDGHcCsOMCs6iQul5ZiStdATYxjMZXDLTUVwLY8Jey4uOh2IxjwsrP8UXJYxUrkZrghBahzV5iXU6gNkq0Z1EzIsUBUSCV2n\n",
       "    EOHo0LVxHCpuxabJJdhi5PFnvw5vLXwXIfNZvD/+JNo/X40NegE54sUaazl+UL8XD1x+FB9Ijjt4EQfdGN6J/x131LwIV9ap/AYs\n",
       "    0x1fz1ZKFbh6A7qKy/By9Dg6G36Ep91vUJJ15Cqr0Z67E8/HzmBrw1OwxWyM+3Mo6BAuSB17oyfx0Oyl2DN0Hqs/70Cx6hBCvESF\n",
       "    UY1ShWXZZEE7OTAYxZzaPH4TuoiusZvRnunFy2NbiHYuBp2vB66srX4vMEjpRKPxKXmnoQ4+Mn4DPiv8CYcrs3GfNUXJLtM+alSO\n",
       "    hrMj/KT+wBNW3+E/2liywNO3iSflbaFva/+stGDTxE0E9Sjaox8HBhxpEamzMGSEaFKg+mjEddzDh1MxTDq3YV1kGBsjfwW3S9Cq\n",
       "    anjmko+ndlb1UR3s6K8JlfphNWq9Ew/7c61T2BB/EbcaNkb8GBaE0tANH7/M34PLdhJDzjIcL9xPbdTG6zyM72Y+wXPHmvB489No\n",
       "    fm0b5HnbQ9Rgp/7DSSd29AeVvPeNyK6JcYl/yQVi5dBjuGvoV/gaJe47s45QUxrDmcYX0MBsdF7egvXZ7+O0vZA4X8QmOQWjlSK7\n",
       "    RDz5wIM30gp9UbWcGjXxhzdDu1SiNSpx6kcQB57rPnr/3dlkZarWLnlRq5oPET1dOCIOk4wALib9eeS5iygfhkd09H0DWphB/+gs\n",
       "    +PcOAS+ssrFmmXXgVfR0de9cpbAJfH3Q1jofW9DZk56dDcVsq9YcsoUMEd1qyLoT3BX1YiyHMJuk97hyjqIoE91t+NcTLeN0ZrfM\n",
       "    oXatZbu6G0h4VG+ibqq0IJVK6cAjo6serG3vSUezCMct0yQeSOFJSUImqb2qbknUpDqlZxE0QZ+ZUpSlZx79h4Nda6zef9dlk121\n",
       "    JDjbR5XggPRZlRnS6bRQRtLpn4++cuie/Yvn2svmNxuLw9WCcYIl4fEoTEGiSTUqJdfgU+8ROqf1iMkLzS389YtNPXc/PH8l8ONB\n",
       "    JZkHD+4JtD04HmVEDWWErmBhzV2/2LB1bemJG6krzv2S6NOHUgtEP0Oif5pE/3fHoruP7N8RiP61GArzSwbUhJJQpXJKiKbfr/3b\n",
       "    IhKq76sKPUdF9NW/LSqfSn6vjv8C45H/6FSgvZQAAAAASUVORK5CYII='\n",
       "         style='height:25px; border-radius:12px; display: inline-block; float: left; vertical-align: middle'></img>\n",
       "    \n",
       "    </td><td>\n",
       "    \n",
       "    &nbsp;&nbsp;<span style='font-size:12px'>SpectroChemPy's API - v.0.1a10.dev19+ga1959195.d20190205<br/>© Copyright 2014-2019 - A.Travert & C.Fernandez @ LCS</span>\n",
       "    \n",
       "    </td></tr></table>\n",
       "    </div>\n",
       "    "
      ]
     },
     "metadata": {},
     "output_type": "display_data"
    }
   ],
   "source": [
    "from spectrochempy import *\n",
    "set_loglevel(WARNING)"
   ]
  },
  {
   "cell_type": "markdown",
   "metadata": {
    "nbpresent": {
     "id": "6045aec1-0300-4f99-91ad-e45b8feffcd7"
    },
    "slideshow": {
     "slide_type": "subslide"
    }
   },
   "source": [
    "## Introduction\n",
    "\n",
    "The AGIR instrument setup is displayed in the following figure. \n",
    "\n",
    "![figagirsetup](annotated_fig_agir_setup.jpg)\n",
    "\n",
    "This instrument consists in the combination of an infrared cell and a balance. It allows recording *operando* IR spectra and, simultaneously, the mass of the sample."
   ]
  },
  {
   "cell_type": "markdown",
   "metadata": {
    "nbpresent": {
     "id": "0e06a074-383c-4411-82a4-cb4539971d2f"
    }
   },
   "source": [
    "## Managing the data in a project and subprojects\n",
    "\n",
    "The data we will be processing in this tutorial were produced using this AGIR setup at the Laboratory LCS.\n",
    "\n",
    "We have TGA (Thermogravimetric analysis) and FTIR (Fourier Transform InfraRed spectroscopy) data for 3 samples, which have been recorded simultaneously at 350 °C (623 K) under reaction with methanol:\n",
    "\n",
    "* P (parent zeolite sample), \n",
    "* A (subjected to an acid treatment), \n",
    "* B (subjected to a basic treatment).\n",
    "\n",
    "We know that some of the bands that develop on the IR spectra are mainly due to an increase of the coke deposits, which corresponds to an increase of the mass of the pellet. This mass is recorded.\n",
    "\n",
    "In this work we will try to correlate those evolutions of IR bands and mass of the deposits."
   ]
  },
  {
   "cell_type": "markdown",
   "metadata": {
    "nbpresent": {
     "id": "14a6077d-9206-4023-b4f1-d741f50390aa"
    }
   },
   "source": [
    "To manage all the data for three samples easily, we will create a *project*.\n",
    "\n",
    "For this we can use the ``Project manager`` included in SpectroChemPy.\n",
    "\n",
    "First we create a main project containing three sub-projects, one for each sample. A project need at least a project name (*e.g.*, the name of the sample) but if if it is not provided, some automatic title will be generated.\n",
    "\n",
    "Some metadata can be also added at this stage or later, for example here, we add for each project a `Latex` formatted string that will serve as a label for the plot of the data. In the same way other useful metadata could be added, *e.g.*, a description of the project, etc.\n",
    "\n",
    "The actual TG and IR data will be added later."
   ]
  },
  {
   "cell_type": "code",
   "execution_count": 2,
   "metadata": {
    "nbpresent": {
     "id": "352318e6-4461-47fc-a0f8-4338ce4f319c"
    }
   },
   "outputs": [],
   "source": [
    "proj = Project(\n",
    "                Project(name='P350', label=r'$\\mathrm{M_P\\,(623\\,K)}$'),\n",
    "                Project(name='A350', label=r'$\\mathrm{M_A\\,(623\\,K)}$'),\n",
    "                Project(name='B350', label=r'$\\mathrm{M_B\\,(623\\,K)}$'),\n",
    "                name = 'HIZECOKE',\n",
    "              )"
   ]
  },
  {
   "cell_type": "markdown",
   "metadata": {
    "nbpresent": {
     "id": "32d224ec-f047-43b8-829a-556e01023899"
    }
   },
   "source": [
    "Display the structure of this project"
   ]
  },
  {
   "cell_type": "code",
   "execution_count": 3,
   "metadata": {
    "nbpresent": {
     "id": "66ad9612-6cc8-4993-a4e8-4cd1be6951a3"
    }
   },
   "outputs": [
    {
     "data": {
      "text/html": [
       "Project&nbsp;HIZECOKE:<br/>\n",
       "&nbsp;&nbsp;&nbsp;&nbsp;⤷&nbsp;P350&nbsp;(sub-project)<br/>\n",
       "&nbsp;&nbsp;&nbsp;&nbsp;⤷&nbsp;A350&nbsp;(sub-project)<br/>\n",
       "&nbsp;&nbsp;&nbsp;&nbsp;⤷&nbsp;B350&nbsp;(sub-project)<br/>\n"
      ],
      "text/plain": [
       "<spectrochempy.core.project.project.Project at 0x1c2365acc0>"
      ]
     },
     "execution_count": 3,
     "metadata": {},
     "output_type": "execute_result"
    }
   ],
   "source": [
    "proj"
   ]
  },
  {
   "cell_type": "markdown",
   "metadata": {
    "nbpresent": {
     "id": "addb48d9-2b44-4ffa-a339-f5b7cabbd230"
    }
   },
   "source": [
    "We can access the content and attributes of a Project object using 2 syntax. One is the following (which works only if the name of the object doesn't contain any space, dash, dot, or other non alphanumeric characters, excepted the underscore \"`_`\". Also, do not start a name with a number.):"
   ]
  },
  {
   "cell_type": "code",
   "execution_count": 4,
   "metadata": {
    "nbpresent": {
     "id": "2620f592-af9c-40f3-a4da-3eeb617cf346"
    }
   },
   "outputs": [
    {
     "data": {
      "text/plain": [
       "'$\\\\mathrm{M_P\\\\,(623\\\\,K)}$'"
      ]
     },
     "execution_count": 4,
     "metadata": {},
     "output_type": "execute_result"
    }
   ],
   "source": [
    "label = proj.P350.label\n",
    "label"
   ]
  },
  {
   "cell_type": "markdown",
   "metadata": {
    "nbpresent": {
     "id": "f7c40a67-f94b-492c-9103-ef85a0a0a4e1"
    }
   },
   "source": [
    "As the label is a latex string, we can use the `Latex` command get a prettier output of the latex content for this label"
   ]
  },
  {
   "cell_type": "code",
   "execution_count": 5,
   "metadata": {
    "nbpresent": {
     "id": "6e8d57c6-9e05-4e1c-b090-8af20fe33b84"
    }
   },
   "outputs": [
    {
     "data": {
      "text/latex": [
       "$\\mathrm{M_P\\,(623\\,K)}$"
      ],
      "text/plain": [
       "<IPython.core.display.Latex object>"
      ]
     },
     "execution_count": 5,
     "metadata": {},
     "output_type": "execute_result"
    }
   ],
   "source": [
    "Latex(label)  # note that this work only on the real jupyter notebook (not in the HTML documentation)"
   ]
  },
  {
   "cell_type": "markdown",
   "metadata": {
    "nbpresent": {
     "id": "a82ec5f8-f33a-4077-961c-f117a3565fa8"
    }
   },
   "source": [
    "If the above syntax doesn't work (e.g., it the name contains space), we can always access using keys (Project are actually behaving mainly as python dictionaries)"
   ]
  },
  {
   "cell_type": "code",
   "execution_count": 6,
   "metadata": {
    "nbpresent": {
     "id": "0447056e-7e6b-49c0-83f2-34e3c468c69a"
    }
   },
   "outputs": [
    {
     "data": {
      "text/latex": [
       "$\\mathrm{M_P\\,(623\\,K)}$"
      ],
      "text/plain": [
       "<IPython.core.display.Latex object>"
      ]
     },
     "execution_count": 6,
     "metadata": {},
     "output_type": "execute_result"
    }
   ],
   "source": [
    "Latex(proj['P350'].label)"
   ]
  },
  {
   "cell_type": "markdown",
   "metadata": {
    "nbpresent": {
     "id": "b6db65a9-efc2-4489-b158-a7adb30e83c8"
    }
   },
   "source": [
    "## Reading the experimental data"
   ]
  },
  {
   "cell_type": "markdown",
   "metadata": {
    "nbpresent": {
     "id": "617d191e-c90b-4457-a2f4-30d942690b2c"
    }
   },
   "source": [
    "The IR data have been exported as `csv` file (on file per spectra) and then zipped. Therefore, we will use the function `read_zip` to open the IR data. \n",
    "\n",
    "For the TGA data are in `csv` files, so we use `read_csv` to read them."
   ]
  },
  {
   "cell_type": "markdown",
   "metadata": {
    "nbpresent": {
     "id": "80f7c86f-60ac-40cc-9ce3-262c7fdde02d"
    }
   },
   "source": [
    "### Reading the raw  IR data\n",
    "\n",
    "Note that reading a large set of `.csv` file is rather slow. Be patient! \n",
    "\n",
    "After reading each dataset, we save the data in the `scp` format of SpectroChemPy (extension `.scp`, so that any further reading of the data will be much faster.\n",
    "\n",
    "For this tutorial, the experimental data re stored in a example directory, accessed here through, the variable `general_preferences.datadir`. As we have to repeating the same kind of reading three times, let's write a small reading function:"
   ]
  },
  {
   "cell_type": "code",
   "execution_count": 7,
   "metadata": {
    "nbpresent": {
     "id": "10466eb8-8fa0-483d-9f88-b78e1368d1b3"
    }
   },
   "outputs": [],
   "source": [
    "# Our data are in our example directory. \n",
    "datadir = general_preferences.datadir\n",
    "    \n",
    "def readIR(name, force_read_original=False):\n",
    "    \n",
    "    # Here is the full path (depending on name) without the file extension:\n",
    "    basename = os.path.join(datadir,'agirdata','{}'.format(name),'FTIR','FTIR')\n",
    "    \n",
    "    # Check first if a `.scp` file have already been saved.\n",
    "    # This happens if this not the first time we are executing this notebook.\n",
    "    # If it exists we will use this file which is much faster to read.\n",
    "    if os.path.exists(basename+'.scp') and not force_read_original:\n",
    "        # A `.scp` file allready exists, use this one (except if the flag\n",
    "        # `force_read_original` is set):\n",
    "        filename = basename + '.scp'\n",
    "        # we use the generic `read` method of the class NDDataset \n",
    "        # to read this file and create a new dataset.\n",
    "        dataset = NDDataset.read( filename)\n",
    "        \n",
    "    else:\n",
    "        # This is the first time we execute this function, \n",
    "        # then we read the original `.zip` file\n",
    "        filename = basename + '.zip'\n",
    "        # to read it, we use the `read_zip` method:\n",
    "        dataset = NDDataset.read_zip( filename, origin='omnic_export')\n",
    "        # to accelerate the process next time, we save this dataset \n",
    "        # in a `scp` format\n",
    "        dataset.save(basename + '.scp')\n",
    "        \n",
    "    return dataset"
   ]
  },
  {
   "cell_type": "markdown",
   "metadata": {
    "nbpresent": {
     "id": "9aaf6138-8601-4b8d-bb9a-0a1bd021c475"
    }
   },
   "source": [
    "Ok, now we use this function to read the 3 FTIR file and we add them to the corresponding sub-project of our project"
   ]
  },
  {
   "cell_type": "markdown",
   "metadata": {
    "nbpresent": {
     "id": "a622712c-d5df-405b-b95f-353fd8b9245f"
    }
   },
   "source": [
    "The list of names of the subprojects is accessible in the property `projects_names` of the dataset."
   ]
  },
  {
   "cell_type": "code",
   "execution_count": 8,
   "metadata": {
    "nbpresent": {
     "id": "00e09b98-a48a-4ffa-9f9a-f4ecee874d37"
    }
   },
   "outputs": [],
   "source": [
    "for name in proj.projects_names:\n",
    "    # read the corresponding dataset\n",
    "    dataset = readIR(name, force_read_original=False)\n",
    "    # add it to the corresponding sub-project. We can access directy using its name\n",
    "    # NOTE: all names of objects contained in a given project \n",
    "    # must be unique for this to work!\n",
    "    # Last thing. because the name of the Dataset is not very informative \n",
    "    # we give explicitely a name for the entry in the subproject\n",
    "    proj[name].add_dataset(dataset, name='IR')"
   ]
  },
  {
   "cell_type": "markdown",
   "metadata": {
    "nbpresent": {
     "id": "31de88d7-4261-445a-9918-df6775eb9907"
    }
   },
   "source": [
    "Display the updated structure of the project:"
   ]
  },
  {
   "cell_type": "code",
   "execution_count": 9,
   "metadata": {
    "nbpresent": {
     "id": "bb61f400-a242-47a4-b0ff-78f2aa14b451"
    }
   },
   "outputs": [
    {
     "data": {
      "text/html": [
       "Project&nbsp;HIZECOKE:<br/>\n",
       "&nbsp;&nbsp;&nbsp;&nbsp;⤷&nbsp;P350&nbsp;(sub-project)<br/>\n",
       "&nbsp;&nbsp;&nbsp;&nbsp;&nbsp;&nbsp;&nbsp;⤷&nbsp;IR&nbsp;(dataset)<br/>\n",
       "&nbsp;&nbsp;&nbsp;&nbsp;⤷&nbsp;A350&nbsp;(sub-project)<br/>\n",
       "&nbsp;&nbsp;&nbsp;&nbsp;&nbsp;&nbsp;&nbsp;⤷&nbsp;IR&nbsp;(dataset)<br/>\n",
       "&nbsp;&nbsp;&nbsp;&nbsp;⤷&nbsp;B350&nbsp;(sub-project)<br/>\n",
       "&nbsp;&nbsp;&nbsp;&nbsp;&nbsp;&nbsp;&nbsp;⤷&nbsp;IR&nbsp;(dataset)<br/>\n"
      ],
      "text/plain": [
       "<spectrochempy.core.project.project.Project at 0x1c2365acc0>"
      ]
     },
     "execution_count": 9,
     "metadata": {},
     "output_type": "execute_result"
    }
   ],
   "source": [
    "proj"
   ]
  },
  {
   "cell_type": "markdown",
   "metadata": {},
   "source": [
    "Let's look at one of the dataset"
   ]
  },
  {
   "cell_type": "code",
   "execution_count": 10,
   "metadata": {},
   "outputs": [
    {
     "data": {
      "text/html": [
       "<table style='width:100%'>\n",
       "<tr style='border: 1px solid lightgray;'><td style='padding-right:5px; width:100px'><strong>Name/Id</strong></td><td style='text-align:left'>None</td><tr>\n",
       "<tr style='border: 1px solid lightgray;'><td style='padding-right:5px; width:100px'><strong>Author</strong></td><td style='text-align:left'>spectrocat@cf-macbookpro.local</td><tr>\n",
       "<tr style='border: 1px solid lightgray;'><td style='padding-right:5px; width:100px'><strong>Created</strong></td><td style='text-align:left'>2019-02-05 12:44:10.546635</td><tr>\n",
       "<tr style='border: 1px solid lightgray;'><td style='padding-right:5px; width:100px'><strong>Last Modified</strong></td><td style='text-align:left'>2019-02-05 17:32:25.376337</td><tr>\n",
       "<tr style='border: 1px solid lightgray;'><td style='padding-right:5px; width:100px'><strong>Description</strong></td><td style='text-align:left'>Stack of 130  datasets :<br/>( LOS2221, LOS2222, LOS2223, LOS2224, LOS2225, LOS2226, LOS2227, LOS2228, LOS2229, LOS2230, LOS2231, LOS2232, LOS2233, LOS2234, LOS2235, LOS2236, LOS2237, LOS2238, LOS2239, LOS2240, LOS2241, LOS2242, LOS2243, LOS2244, LOS2245, LOS2246, LOS2247, LOS2248, LOS2249, LOS2250, LOS2251, LOS2252, LOS2253, LOS2254, LOS2255, LOS2256, LOS2257, LOS2258, LOS2259, LOS2260, LOS2261, LOS2262, LOS2263, LOS2264, LOS2265, LOS2266, LOS2267, LOS2268, LOS2269, LOS2270, LOS2271, LOS2272, LOS2273, LOS2274, LOS2275, LOS2276, LOS2277, LOS2278, LOS2279, LOS2280, LOS2281, LOS2282, LOS2283, LOS2284, LOS2285, LOS2286, LOS2287, LOS2288, LOS2289, LOS2290, LOS2291, LOS2292, LOS2293, LOS2294, LOS2295, LOS2296, LOS2297, LOS2298, LOS2299, LOS2300, LOS2301, LOS2302, LOS2303, LOS2304, LOS2305, LOS2306, LOS2307, LOS2308, LOS2309, LOS2310, LOS2311, LOS2312, LOS2313, LOS2314, LOS2315, LOS2316, LOS2317, LOS2318, LOS2319, LOS2320, LOS2321, LOS2322, LOS2323, LOS2324, LOS2325, LOS2326, LOS2327, LOS2328, LOS2329, LOS2330, LOS2331, LOS2332, LOS2333, LOS2334, LOS2335, LOS2336, LOS2337, LOS2338, LOS2339, LOS2340, LOS2341, LOS2342, LOS2343, LOS2344, LOS2345, LOS2346, LOS2347, LOS2348, LOS2349, LOS2350 )</td><tr>\n",
       "<tr style='border: 1px solid lightgray;'><td style='padding-right:5px; width:100px'><strong>History</strong></td><td style='text-align:left'>2019-02-05 12:44:10.546635:created by Stack</td><tr>\n",
       "<tr style='border: 1px solid lightgray;'><td style='padding-right:5px; width:100px'><strong>data</strong></td><td style='text-align:left'><table style='width:100%'>\n",
       "<tr style='border: 1px solid lightgray;'><td style='padding-right:5px; width:100px'><strong>Title</strong></td><td style='text-align:left'>Absorbance</td><tr>\n",
       "<tr style='border: 1px solid lightgray;'><td style='padding-right:5px; width:100px'><strong>Shape</strong></td><td style='text-align:left'>130 x 2842</td><tr>\n",
       "<tr style='border: 1px solid lightgray;'><td style='padding-right:5px; width:100px'><strong>Values</strong></td><td style='text-align:left'>  data values:\n",
       "         [[   3.109    3.076 ...    1.345    1.345]<br/> [   2.758    2.756 ...    1.305    1.305]<br/> ...<br/> [   4.164    4.104 ...    3.153    3.151]<br/> [   3.251    3.215 ...    6.000    6.000]] a.u.<br/><br/>   dimensions:\n",
       "     * x\n",
       "                index: 1\n",
       "                title: Wavenumbers\n",
       "          coordinates: [1260.273 1261.237 ... 3998.740 3999.704] cm^-1\n",
       "                 size: 2842\n",
       "     * y\n",
       "                index: 0\n",
       "                title: Acquisition timestamp (gmt)\n",
       "          coordinates: [1377848107.000 1377848708.000 ... 1377925154.000 1377925756.000] s\n",
       "                 size: 130\n",
       "               labels: [[  2013-08-30 09:35:07   2013-08-30 09:45:08 ...   2013-08-31 06:59:14   2013-08-31 07:09:16]\n",
       "         [  LOS2221   LOS2222 ...   LOS2349   LOS2350]]</td><tr>\n",
       "</table>\n",
       "</td><tr>\n",
       "<tr style='border: 1px solid lightgray;'><td style='padding-right:5px; width:100px'><strong>y-coordinate</strong></td><td style='text-align:left'><table style='width:100%'>\n",
       "<tr style='border: 1px solid lightgray;'><td style='padding-right:5px; width:100px'><strong>Title</strong></td><td style='text-align:left'>Acquisition timestamp (gmt)</td><tr>\n",
       "<tr style='border: 1px solid lightgray;'><td style='padding-right:5px; width:100px'><strong>Data</strong></td><td style='text-align:left'>  data values:\n",
       "         [1377848107.000 1377848708.000 ... 1377925154.000 1377925756.000] s<br/><br/></td><tr>\n",
       "<tr style='border: 1px solid lightgray;'><td style='padding-right:5px; width:100px'><strong>Labels</strong></td><td style='text-align:left'>[[  2013-08-30 09:35:07   2013-08-30 09:45:08 ...   2013-08-31 06:59:14   2013-08-31 07:09:16]\n",
       " [  LOS2221   LOS2222 ...   LOS2349   LOS2350]]</td><tr>\n",
       "</table>\n",
       "</td><tr>\n",
       "<tr style='border: 1px solid lightgray;'><td style='padding-right:5px; width:100px'><strong>x-coordinate</strong></td><td style='text-align:left'><table style='width:100%'>\n",
       "<tr style='border: 1px solid lightgray;'><td style='padding-right:5px; width:100px'><strong>Title</strong></td><td style='text-align:left'>Wavenumbers</td><tr>\n",
       "<tr style='border: 1px solid lightgray;'><td style='padding-right:5px; width:100px'><strong>Data</strong></td><td style='text-align:left'>  data values:\n",
       "         [1260.273 1261.237 ... 3998.740 3999.704] cm<sup>-1</sup><br/><br/></td><tr>\n",
       "</table>\n",
       "</td><tr>\n",
       "</table><br/>\n"
      ],
      "text/plain": [
       "NDDataset: [[   3.109,    3.076, ...,    1.345,    1.345],\n",
       "            [   2.758,    2.756, ...,    1.305,    1.305],\n",
       "            ...,\n",
       "            [   4.164,    4.104, ...,    3.153,    3.151],\n",
       "            [   3.251,    3.215, ...,    6.000,    6.000]] a.u. (shape: (y:130, x:2842))"
      ]
     },
     "execution_count": 10,
     "metadata": {},
     "output_type": "execute_result"
    }
   ],
   "source": [
    "proj.P350.IR"
   ]
  },
  {
   "cell_type": "markdown",
   "metadata": {
    "nbpresent": {
     "id": "3ec263c9-e9b9-4d2b-a78a-d4cc50a86569"
    }
   },
   "source": [
    "### Plot of the raw IR data "
   ]
  },
  {
   "cell_type": "markdown",
   "metadata": {},
   "source": [
    "We can plot these IR data using the `plot_stack` method. Note: this method (as other plot methods) return some values. So to avoid their display in the output we affect them to some variables, e.g., \"`_`\" if we do not want to keep the results"
   ]
  },
  {
   "cell_type": "code",
   "execution_count": 11,
   "metadata": {},
   "outputs": [
    {
     "ename": "TypeError",
     "evalue": "a part should be real, but it can't be casted!",
     "output_type": "error",
     "traceback": [
      "\u001b[0;31m---------------------------------------------------------------------------\u001b[0m",
      "\u001b[0;31mTypeError\u001b[0m                                 Traceback (most recent call last)",
      "\u001b[0;32m<ipython-input-11-aa6ee0470d9c>\u001b[0m in \u001b[0;36m<module>\u001b[0;34m\u001b[0m\n\u001b[0;32m----> 1\u001b[0;31m \u001b[0mp\u001b[0m \u001b[0;34m=\u001b[0m \u001b[0mproj\u001b[0m\u001b[0;34m.\u001b[0m\u001b[0mP350\u001b[0m\u001b[0;34m.\u001b[0m\u001b[0mIR\u001b[0m\u001b[0;34m.\u001b[0m\u001b[0mplot_stack\u001b[0m\u001b[0;34m(\u001b[0m\u001b[0;34m)\u001b[0m\u001b[0;34m\u001b[0m\u001b[0;34m\u001b[0m\u001b[0m\n\u001b[0m",
      "\u001b[0;32m~/Dropbox/spectrochempy/spectrochempy/core/plotters/plot2d.py\u001b[0m in \u001b[0;36mplot_stack\u001b[0;34m(dataset, **kwargs)\u001b[0m\n\u001b[1;32m     65\u001b[0m     \"\"\"\n\u001b[1;32m     66\u001b[0m     \u001b[0mkwargs\u001b[0m\u001b[0;34m[\u001b[0m\u001b[0;34m'method'\u001b[0m\u001b[0;34m]\u001b[0m \u001b[0;34m=\u001b[0m \u001b[0;34m'stack'\u001b[0m\u001b[0;34m\u001b[0m\u001b[0;34m\u001b[0m\u001b[0m\n\u001b[0;32m---> 67\u001b[0;31m     \u001b[0max\u001b[0m \u001b[0;34m=\u001b[0m \u001b[0mplot_2D\u001b[0m\u001b[0;34m(\u001b[0m\u001b[0mdataset\u001b[0m\u001b[0;34m,\u001b[0m \u001b[0;34m**\u001b[0m\u001b[0mkwargs\u001b[0m\u001b[0;34m)\u001b[0m\u001b[0;34m\u001b[0m\u001b[0;34m\u001b[0m\u001b[0m\n\u001b[0m\u001b[1;32m     68\u001b[0m     \u001b[0;32mreturn\u001b[0m \u001b[0max\u001b[0m\u001b[0;34m\u001b[0m\u001b[0;34m\u001b[0m\u001b[0m\n\u001b[1;32m     69\u001b[0m \u001b[0;34m\u001b[0m\u001b[0m\n",
      "\u001b[0;32m~/Dropbox/spectrochempy/spectrochempy/core/plotters/plot2d.py\u001b[0m in \u001b[0;36mplot_2D\u001b[0;34m(dataset, **kwargs)\u001b[0m\n\u001b[1;32m    277\u001b[0m \u001b[0;34m\u001b[0m\u001b[0m\n\u001b[1;32m    278\u001b[0m     \u001b[0;32mif\u001b[0m \u001b[0;32mnot\u001b[0m \u001b[0mkwargs\u001b[0m\u001b[0;34m.\u001b[0m\u001b[0mget\u001b[0m\u001b[0;34m(\u001b[0m\u001b[0;34m'imag'\u001b[0m\u001b[0;34m,\u001b[0m \u001b[0;32mFalse\u001b[0m\u001b[0;34m)\u001b[0m\u001b[0;34m:\u001b[0m\u001b[0;34m\u001b[0m\u001b[0;34m\u001b[0m\u001b[0m\n\u001b[0;32m--> 279\u001b[0;31m         \u001b[0mzdata\u001b[0m \u001b[0;34m=\u001b[0m \u001b[0mnew\u001b[0m\u001b[0;34m.\u001b[0m\u001b[0mRR\u001b[0m\u001b[0;34m.\u001b[0m\u001b[0mmasked_data\u001b[0m\u001b[0;34m\u001b[0m\u001b[0;34m\u001b[0m\u001b[0m\n\u001b[0m\u001b[1;32m    280\u001b[0m     \u001b[0;32melse\u001b[0m\u001b[0;34m:\u001b[0m\u001b[0;34m\u001b[0m\u001b[0;34m\u001b[0m\u001b[0m\n\u001b[1;32m    281\u001b[0m         \u001b[0mzdata\u001b[0m \u001b[0;34m=\u001b[0m \u001b[0mnew\u001b[0m\u001b[0;34m.\u001b[0m\u001b[0mRI\u001b[0m\u001b[0;34m.\u001b[0m\u001b[0mmasked_data\u001b[0m\u001b[0;34m\u001b[0m\u001b[0;34m\u001b[0m\u001b[0m\n",
      "\u001b[0;32m~/Dropbox/spectrochempy/spectrochempy/core/dataset/ndcomplex.py\u001b[0m in \u001b[0;36mRR\u001b[0;34m(self)\u001b[0m\n\u001b[1;32m    226\u001b[0m         \u001b[0;32mif\u001b[0m \u001b[0mself\u001b[0m\u001b[0;34m.\u001b[0m\u001b[0mndim\u001b[0m \u001b[0;34m!=\u001b[0m \u001b[0;36m2\u001b[0m\u001b[0;34m:\u001b[0m\u001b[0;34m\u001b[0m\u001b[0;34m\u001b[0m\u001b[0m\n\u001b[1;32m    227\u001b[0m             \u001b[0;32mraise\u001b[0m \u001b[0mTypeError\u001b[0m\u001b[0;34m(\u001b[0m\u001b[0;34m'Not a two dimensional array'\u001b[0m\u001b[0;34m)\u001b[0m\u001b[0;34m\u001b[0m\u001b[0;34m\u001b[0m\u001b[0m\n\u001b[0;32m--> 228\u001b[0;31m         \u001b[0;32mreturn\u001b[0m \u001b[0mself\u001b[0m\u001b[0;34m.\u001b[0m\u001b[0mpart\u001b[0m\u001b[0;34m(\u001b[0m\u001b[0;34m'RR'\u001b[0m\u001b[0;34m)\u001b[0m\u001b[0;34m\u001b[0m\u001b[0;34m\u001b[0m\u001b[0m\n\u001b[0m\u001b[1;32m    229\u001b[0m \u001b[0;34m\u001b[0m\u001b[0m\n\u001b[1;32m    230\u001b[0m     \u001b[0;31m# .........................................................................\u001b[0m\u001b[0;34m\u001b[0m\u001b[0;34m\u001b[0m\u001b[0;34m\u001b[0m\u001b[0m\n",
      "\u001b[0;32m~/Dropbox/spectrochempy/spectrochempy/core/dataset/ndcomplex.py\u001b[0m in \u001b[0;36mpart\u001b[0;34m(self, select)\u001b[0m\n\u001b[1;32m    358\u001b[0m         \u001b[0;31m# from now, ma should be real\u001b[0m\u001b[0;34m\u001b[0m\u001b[0;34m\u001b[0m\u001b[0;34m\u001b[0m\u001b[0m\n\u001b[1;32m    359\u001b[0m         \u001b[0;32mif\u001b[0m \u001b[0;32mnot\u001b[0m \u001b[0mnp\u001b[0m\u001b[0;34m.\u001b[0m\u001b[0mcan_cast\u001b[0m\u001b[0;34m(\u001b[0m\u001b[0mma\u001b[0m\u001b[0;34m.\u001b[0m\u001b[0mdtype\u001b[0m\u001b[0;34m,\u001b[0m \u001b[0mfloat\u001b[0m\u001b[0;34m)\u001b[0m\u001b[0;34m:\u001b[0m\u001b[0;34m\u001b[0m\u001b[0;34m\u001b[0m\u001b[0m\n\u001b[0;32m--> 360\u001b[0;31m             \u001b[0;32mraise\u001b[0m \u001b[0mTypeError\u001b[0m\u001b[0;34m(\u001b[0m\u001b[0;34m\"a part should be real, but it can't be casted!\"\u001b[0m\u001b[0;34m)\u001b[0m\u001b[0;34m\u001b[0m\u001b[0;34m\u001b[0m\u001b[0m\n\u001b[0m\u001b[1;32m    361\u001b[0m         \u001b[0mnew\u001b[0m\u001b[0;34m.\u001b[0m\u001b[0m_dtype\u001b[0m \u001b[0;34m=\u001b[0m \u001b[0mma\u001b[0m\u001b[0;34m.\u001b[0m\u001b[0mdtype\u001b[0m\u001b[0;34m\u001b[0m\u001b[0;34m\u001b[0m\u001b[0m\n\u001b[1;32m    362\u001b[0m         \u001b[0;32mif\u001b[0m \u001b[0misinstance\u001b[0m\u001b[0;34m(\u001b[0m\u001b[0mma\u001b[0m\u001b[0;34m,\u001b[0m \u001b[0mnp\u001b[0m\u001b[0;34m.\u001b[0m\u001b[0mma\u001b[0m\u001b[0;34m.\u001b[0m\u001b[0mmasked_array\u001b[0m\u001b[0;34m)\u001b[0m\u001b[0;34m:\u001b[0m\u001b[0;34m\u001b[0m\u001b[0;34m\u001b[0m\u001b[0m\n",
      "\u001b[0;31mTypeError\u001b[0m: a part should be real, but it can't be casted!"
     ]
    }
   ],
   "source": [
    "p = proj.P350.IR.plot_stack()"
   ]
  },
  {
   "cell_type": "markdown",
   "metadata": {},
   "source": [
    "In such 2D stacked plot, the `x` axis corresponds to coordinate `1` and the `y` axis to coordinate `0`.\n",
    "This is because the array of data is arranged with dimensions as follow `[y, x]`. The adsorbance (or `z` axis) corresponds to the valueof each element in the array. Sometimes it can be easier to look at the data as a map or an image."
   ]
  },
  {
   "cell_type": "code",
   "execution_count": 12,
   "metadata": {},
   "outputs": [
    {
     "name": "stderr",
     "output_type": "stream",
     "text": [
      "[SpectroChemPy] WARNING | SpectroChemPyWarning:  The length of a 1D array in spectrochempy is ambiguous. It stands for the number of rows: so len(array1D)=1. If what you want is the length of the row, then you have to use the `size` attibute intead of  `len`.\n"
     ]
    }
   ],
   "source": [
    "p = proj.P350.IR.plot_map()"
   ]
  },
  {
   "cell_type": "code",
   "execution_count": 13,
   "metadata": {},
   "outputs": [
    {
     "name": "stderr",
     "output_type": "stream",
     "text": [
      "[SpectroChemPy] WARNING | SpectroChemPyWarning:  The length of a 1D array in spectrochempy is ambiguous. It stands for the number of rows: so len(array1D)=1. If what you want is the length of the row, then you have to use the `size` attibute intead of  `len`.\n"
     ]
    }
   ],
   "source": [
    "p = proj.P350.IR.plot_image()"
   ]
  },
  {
   "cell_type": "markdown",
   "metadata": {},
   "source": [
    "### Multiplot of the raw IR data "
   ]
  },
  {
   "cell_type": "markdown",
   "metadata": {},
   "source": [
    "In our project, the data have the same structure : three 2D IR spectra. We can plot them using the `multiplot_stack` function."
   ]
  },
  {
   "cell_type": "markdown",
   "metadata": {
    "nbpresent": {
     "id": "6de1226b-7b75-4e03-b1ce-82c9b7df624e"
    }
   },
   "source": [
    "We need to select the datasets we want to plot and the correspondings labels"
   ]
  },
  {
   "cell_type": "code",
   "execution_count": 14,
   "metadata": {
    "nbpresent": {
     "id": "d02d88d0-cac8-486c-adc6-daab89652fc1"
    }
   },
   "outputs": [],
   "source": [
    "datasets = []\n",
    "labels = []\n",
    "for p in proj.projects:\n",
    "    datasets.append(p.IR)\n",
    "    labels.append(p.label)   "
   ]
  },
  {
   "cell_type": "markdown",
   "metadata": {},
   "source": [
    "Now we have two list containing the datasets and their corresponding labels"
   ]
  },
  {
   "cell_type": "code",
   "execution_count": 15,
   "metadata": {},
   "outputs": [
    {
     "data": {
      "text/plain": [
       "[NDDataset: [[   0.000,    0.000, ...,    1.466,    0.000],\n",
       "             [   0.000,    0.000, ...,    1.333,    0.000],\n",
       "             ...,\n",
       "             [   0.000,    0.000, ...,    1.570,    0.000],\n",
       "             [   0.000,    0.000, ...,    1.572,    0.000]] a.u. (shape: (y:178, x:3735)),\n",
       " NDDataset: [[   2.846,    2.829, ...,    0.744,    0.745],\n",
       "             [   2.895,    2.964, ...,    0.813,    0.814],\n",
       "             ...,\n",
       "             [   3.169,    3.218, ...,    1.252,    1.253],\n",
       "             [   3.224,    3.070, ...,    1.251,    1.253]] a.u. (shape: (y:216, x:2842)),\n",
       " NDDataset: [[   3.109,    3.076, ...,    1.345,    1.345],\n",
       "             [   2.758,    2.756, ...,    1.305,    1.305],\n",
       "             ...,\n",
       "             [   4.164,    4.104, ...,    3.153,    3.151],\n",
       "             [   3.251,    3.215, ...,    6.000,    6.000]] a.u. (shape: (y:130, x:2842))]"
      ]
     },
     "execution_count": 15,
     "metadata": {},
     "output_type": "execute_result"
    }
   ],
   "source": [
    "datasets"
   ]
  },
  {
   "cell_type": "code",
   "execution_count": 16,
   "metadata": {},
   "outputs": [
    {
     "data": {
      "text/plain": [
       "['$\\\\mathrm{M_A\\\\,(623\\\\,K)}$',\n",
       " '$\\\\mathrm{M_B\\\\,(623\\\\,K)}$',\n",
       " '$\\\\mathrm{M_P\\\\,(623\\\\,K)}$']"
      ]
     },
     "execution_count": 16,
     "metadata": {},
     "output_type": "execute_result"
    }
   ],
   "source": [
    "labels"
   ]
  },
  {
   "cell_type": "markdown",
   "metadata": {
    "nbpresent": {
     "id": "4f12fc98-2120-4a95-8101-66a3687a146d"
    }
   },
   "source": [
    "Now we call the `multiplot_stack` function to plots the datasets in row. Note the use of `sharez` , because the vertical axis here is `z` (the intensity) and not `y` (which refer to the evolution) (see above). "
   ]
  },
  {
   "cell_type": "code",
   "execution_count": 17,
   "metadata": {
    "nbpresent": {
     "id": "f8a96a51-2ca0-4c1f-ba85-3dd46899c36c"
    }
   },
   "outputs": [
    {
     "name": "stderr",
     "output_type": "stream",
     "text": [
      "[SpectroChemPy] WARNING | SpectroChemPyWarning:  The length of a 1D array in spectrochempy is ambiguous. It stands for the number of rows: so len(array1D)=1. If what you want is the length of the row, then you have to use the `size` attibute intead of  `len`.\n",
      "[SpectroChemPy] WARNING | SpectroChemPyWarning:  The length of a 1D array in spectrochempy is ambiguous. It stands for the number of rows: so len(array1D)=1. If what you want is the length of the row, then you have to use the `size` attibute intead of  `len`.\n",
      "[SpectroChemPy] WARNING | SpectroChemPyWarning:  The length of a 1D array in spectrochempy is ambiguous. It stands for the number of rows: so len(array1D)=1. If what you want is the length of the row, then you have to use the `size` attibute intead of  `len`.\n",
      "[SpectroChemPy] WARNING | SpectroChemPyWarning:  The length of a 1D array in spectrochempy is ambiguous. It stands for the number of rows: so len(array1D)=1. If what you want is the length of the row, then you have to use the `size` attibute intead of  `len`.\n"
     ]
    }
   ],
   "source": [
    "_ = multiplot_stack(datasets=datasets, labels=labels, \n",
    "                nrow=1, ncol=3, sharex=False, sharez=True, \n",
    "                figsize=(6.8,3), dpi=100)"
   ]
  },
  {
   "cell_type": "markdown",
   "metadata": {
    "nbpresent": {
     "id": "4e26d490-9925-4077-9aa3-0be86d846f98"
    }
   },
   "source": [
    "May be to analyse more easily the `y` dimension, map plot would be better. \n",
    "\n",
    "Let's then plot the data using this plot method (plot method: `map` instead of `stack`)\n",
    "\n",
    "Note:\n",
    "    This work only if latex is installed"
   ]
  },
  {
   "cell_type": "code",
   "execution_count": 18,
   "metadata": {
    "nbpresent": {
     "id": "08de904a-eacb-4bcf-afde-844c68b78f87"
    }
   },
   "outputs": [
    {
     "name": "stderr",
     "output_type": "stream",
     "text": [
      "[SpectroChemPy] WARNING | SpectroChemPyWarning:  The length of a 1D array in spectrochempy is ambiguous. It stands for the number of rows: so len(array1D)=1. If what you want is the length of the row, then you have to use the `size` attibute intead of  `len`.\n",
      "[SpectroChemPy] WARNING | SpectroChemPyWarning:  The length of a 1D array in spectrochempy is ambiguous. It stands for the number of rows: so len(array1D)=1. If what you want is the length of the row, then you have to use the `size` attibute intead of  `len`.\n",
      "[SpectroChemPy] WARNING | SpectroChemPyWarning:  The length of a 1D array in spectrochempy is ambiguous. It stands for the number of rows: so len(array1D)=1. If what you want is the length of the row, then you have to use the `size` attibute intead of  `len`.\n",
      "[SpectroChemPy] WARNING | SpectroChemPyWarning:  The length of a 1D array in spectrochempy is ambiguous. It stands for the number of rows: so len(array1D)=1. If what you want is the length of the row, then you have to use the `size` attibute intead of  `len`.\n"
     ]
    }
   ],
   "source": [
    "_ = multiplot_map(datasets=datasets, labels=labels, \n",
    "                nrow=1, ncol=3, sharex=False, sharey=True, \n",
    "                figsize=(6.8,3), dpi=100, style='serif') "
   ]
  },
  {
   "cell_type": "markdown",
   "metadata": {
    "nbpresent": {
     "id": "5ba758c4-5eb5-4eaa-99c1-79899bb42241"
    }
   },
   "source": [
    "Hum? this is not very nice, because the `y` scale being the timestamps (the time from some reference date of the acquisition of the data), they cannot be easily compared.\n",
    "\n",
    "Let's take a common origin (and express the units in hours instead of seconds)!"
   ]
  },
  {
   "cell_type": "code",
   "execution_count": 19,
   "metadata": {
    "nbpresent": {
     "id": "e6e5307c-f948-49e6-a80c-6dfcc23fb34d"
    }
   },
   "outputs": [],
   "source": [
    "for ds in datasets:\n",
    "    ds.y -= ds.y[0]    # remove the timestamp offset from the axe y\n",
    "    ds.y.ito('hour')   # adapt units to the length of the acquisition \n",
    "                       # for a prettier display\n",
    "    ds.y.title = 'Time-on-stream' \n",
    "                       # put some explicit title (to replace timestamps)"
   ]
  },
  {
   "cell_type": "markdown",
   "metadata": {
    "nbpresent": {
     "id": "0d262e59-9a75-4bc2-85c6-ae234325424e"
    }
   },
   "source": [
    "Now we replot the data:"
   ]
  },
  {
   "cell_type": "code",
   "execution_count": 20,
   "metadata": {
    "nbpresent": {
     "id": "b7ba84e3-436d-4604-a055-66b9661613c7"
    }
   },
   "outputs": [
    {
     "name": "stderr",
     "output_type": "stream",
     "text": [
      "[SpectroChemPy] WARNING | SpectroChemPyWarning:  The length of a 1D array in spectrochempy is ambiguous. It stands for the number of rows: so len(array1D)=1. If what you want is the length of the row, then you have to use the `size` attibute intead of  `len`.\n",
      "[SpectroChemPy] WARNING | SpectroChemPyWarning:  The length of a 1D array in spectrochempy is ambiguous. It stands for the number of rows: so len(array1D)=1. If what you want is the length of the row, then you have to use the `size` attibute intead of  `len`.\n",
      "[SpectroChemPy] WARNING | SpectroChemPyWarning:  The length of a 1D array in spectrochempy is ambiguous. It stands for the number of rows: so len(array1D)=1. If what you want is the length of the row, then you have to use the `size` attibute intead of  `len`.\n",
      "[SpectroChemPy] WARNING | SpectroChemPyWarning:  The length of a 1D array in spectrochempy is ambiguous. It stands for the number of rows: so len(array1D)=1. If what you want is the length of the row, then you have to use the `size` attibute intead of  `len`.\n"
     ]
    }
   ],
   "source": [
    "_ = multiplot_map(datasets=datasets, labels=labels, \n",
    "                nrow=1, ncol=3, sharex=False, sharey=True, \n",
    "                figsize=(6.8,3), dpi=100, style='sans') #<--'Sans-serif style (default)'"
   ]
  },
  {
   "cell_type": "markdown",
   "metadata": {
    "nbpresent": {
     "id": "f2f2d6a1-4e39-43eb-ac49-2be9c17aa5a0"
    }
   },
   "source": [
    "This is much better!"
   ]
  },
  {
   "cell_type": "markdown",
   "metadata": {
    "nbpresent": {
     "id": "b27eadf5-931a-4cfb-a646-0360f3f4feb2"
    }
   },
   "source": [
    "### Reading the raw TGA data\n",
    "\n",
    "Now read the TGA data. And again we will create a reading function to apply to the 3 samples."
   ]
  },
  {
   "cell_type": "code",
   "execution_count": 21,
   "metadata": {
    "nbpresent": {
     "id": "afe7d1ed-566d-473b-9db9-3e0464c4ecfd"
    }
   },
   "outputs": [],
   "source": [
    "def readTGA(name, force_read_original=False):\n",
    "    basename = os.path.join(datadir,'agirdata','{}'.format(name),'TGA','tg')\n",
    "    if os.path.exists(basename+'.scp') and not force_read_original:\n",
    "        # check if the scp file have already been saved\n",
    "        filename = basename + '.scp'\n",
    "        dataset = NDDataset.read( filename)\n",
    "    else:\n",
    "        # else read the original csv file\n",
    "        filename = basename + '.csv'\n",
    "        dataset = NDDataset.read_csv(filename)\n",
    "        dataset.save(basename + '.scp')\n",
    "    return dataset"
   ]
  },
  {
   "cell_type": "markdown",
   "metadata": {
    "nbpresent": {
     "id": "fbeb48f0-6db5-4f38-b974-3e1e88141cfc"
    }
   },
   "source": [
    "Now we read the TGA datasets and add them to our current project"
   ]
  },
  {
   "cell_type": "code",
   "execution_count": 22,
   "metadata": {
    "nbpresent": {
     "id": "4b8c99b8-543d-414f-86b9-a4a20358c1ec"
    }
   },
   "outputs": [],
   "source": [
    "for name in proj.projects_names:\n",
    "    # read the corresponding dataset\n",
    "    dataset = readTGA(name, force_read_original=False)\n",
    "    # add it to the corresponding sub-project. \n",
    "    proj[name].add_dataset(dataset, name='TGA')"
   ]
  },
  {
   "cell_type": "markdown",
   "metadata": {
    "nbpresent": {
     "id": "8442c958-ff1c-4a93-8c84-fd20943fd3b0"
    }
   },
   "source": [
    "Display the updated structure:"
   ]
  },
  {
   "cell_type": "code",
   "execution_count": 23,
   "metadata": {
    "nbpresent": {
     "id": "daf71e59-62fc-4269-8c4f-4b2b28ce4c40"
    }
   },
   "outputs": [
    {
     "data": {
      "text/html": [
       "Project&nbsp;HIZECOKE:<br/>\n",
       "&nbsp;&nbsp;&nbsp;&nbsp;⤷&nbsp;P350&nbsp;(sub-project)<br/>\n",
       "&nbsp;&nbsp;&nbsp;&nbsp;&nbsp;&nbsp;&nbsp;⤷&nbsp;IR&nbsp;(dataset)<br/>\n",
       "&nbsp;&nbsp;&nbsp;&nbsp;&nbsp;&nbsp;&nbsp;⤷&nbsp;TGA&nbsp;(dataset)<br/>\n",
       "&nbsp;&nbsp;&nbsp;&nbsp;⤷&nbsp;A350&nbsp;(sub-project)<br/>\n",
       "&nbsp;&nbsp;&nbsp;&nbsp;&nbsp;&nbsp;&nbsp;⤷&nbsp;IR&nbsp;(dataset)<br/>\n",
       "&nbsp;&nbsp;&nbsp;&nbsp;&nbsp;&nbsp;&nbsp;⤷&nbsp;TGA&nbsp;(dataset)<br/>\n",
       "&nbsp;&nbsp;&nbsp;&nbsp;⤷&nbsp;B350&nbsp;(sub-project)<br/>\n",
       "&nbsp;&nbsp;&nbsp;&nbsp;&nbsp;&nbsp;&nbsp;⤷&nbsp;IR&nbsp;(dataset)<br/>\n",
       "&nbsp;&nbsp;&nbsp;&nbsp;&nbsp;&nbsp;&nbsp;⤷&nbsp;TGA&nbsp;(dataset)<br/>\n"
      ],
      "text/plain": [
       "<spectrochempy.core.project.project.Project at 0x1c2ab6b8d0>"
      ]
     },
     "execution_count": 23,
     "metadata": {},
     "output_type": "execute_result"
    }
   ],
   "source": [
    "proj"
   ]
  },
  {
   "cell_type": "markdown",
   "metadata": {
    "nbpresent": {
     "id": "2866ee37-9b7b-4ddd-a8f7-3fd9fd574866"
    }
   },
   "source": [
    "### Plot of the raw TGA data"
   ]
  },
  {
   "cell_type": "markdown",
   "metadata": {
    "nbpresent": {
     "id": "f3b2c715-6f44-46ca-8f88-7aa77b146095"
    }
   },
   "source": [
    "Let's plot the 3 1D TGA datasets on the same figure."
   ]
  },
  {
   "cell_type": "code",
   "execution_count": 24,
   "metadata": {
    "nbpresent": {
     "id": "3be77f88-bd4c-447d-950a-ccf1da4f72ed"
    }
   },
   "outputs": [],
   "source": [
    "tga_datasets =[]\n",
    "for p in proj.projects:\n",
    "    tga_datasets.append(p.TGA) "
   ]
  },
  {
   "cell_type": "code",
   "execution_count": 25,
   "metadata": {
    "nbpresent": {
     "id": "999b54fd-d3cf-4ffd-b251-4d28da340e3b"
    }
   },
   "outputs": [
    {
     "name": "stderr",
     "output_type": "stream",
     "text": [
      "[SpectroChemPy] WARNING | SpectroChemPyWarning:  The length of a 1D array in spectrochempy is ambiguous. It stands for the number of rows: so len(array1D)=1. If what you want is the length of the row, then you have to use the `size` attibute intead of  `len`.\n",
      "[SpectroChemPy] WARNING | SpectroChemPyWarning:  The length of a 1D array in spectrochempy is ambiguous. It stands for the number of rows: so len(array1D)=1. If what you want is the length of the row, then you have to use the `size` attibute intead of  `len`.\n",
      "[SpectroChemPy] WARNING | SpectroChemPyWarning:  The length of a 1D array in spectrochempy is ambiguous. It stands for the number of rows: so len(array1D)=1. If what you want is the length of the row, then you have to use the `size` attibute intead of  `len`.\n"
     ]
    }
   ],
   "source": [
    "_ = plot_multiple(datasets=tga_datasets, labels=labels, pen=True, style='sans', \n",
    "                  markevery=50, markersize=7,\n",
    "                  legend='lower right')"
   ]
  },
  {
   "cell_type": "markdown",
   "metadata": {
    "nbpresent": {
     "id": "7a2d363c-ad8f-41d1-a8da-ec903d0bf931"
    }
   },
   "source": [
    "Some information on this data are not present in the csv files used, so we need to add them now, to get better plots (also some part of the data, *e.g.*, before time 0, are not very useful and will be removed)"
   ]
  },
  {
   "cell_type": "code",
   "execution_count": 26,
   "metadata": {
    "nbpresent": {
     "id": "4fbd6096-bf08-45b3-9eaf-e2be419bee99"
    }
   },
   "outputs": [
    {
     "name": "stderr",
     "output_type": "stream",
     "text": [
      "[SpectroChemPy] WARNING | SpectroChemPyWarning:  This coordinate (-0.5) is outside the axis limits (-0.494659132-29.44875667).\n",
      "The closest limit index is returned\n",
      "[SpectroChemPy] WARNING | SpectroChemPyWarning:  This coordinate (35.0) is outside the axis limits (-0.494659132-29.44875667).\n",
      "The closest limit index is returned\n",
      "[SpectroChemPy] WARNING | SpectroChemPyWarning:  This coordinate (-0.5) is outside the axis limits (-0.499333434-34.9945012).\n",
      "The closest limit index is returned\n",
      "[SpectroChemPy] WARNING | SpectroChemPyWarning:  This coordinate (35.0) is outside the axis limits (-0.499333434-34.9945012).\n",
      "The closest limit index is returned\n",
      "[SpectroChemPy] WARNING | SpectroChemPyWarning:  This coordinate (35.0) is outside the axis limits (-0.502332899-30.66650174).\n",
      "The closest limit index is returned\n"
     ]
    }
   ],
   "source": [
    "for tgads in tga_datasets:       \n",
    "    tgads = tgads[-0.5:35.0]          # keep only useful range. \n",
    "                                       # Note the slicing by location\n",
    "    tgads.x.units = 'hour'             # x dimension units\n",
    "    tgads.units = 'weight_percent'     # data units\n",
    "    tgads.x.title = 'Time-on-stream'   # x title information for labeling\n",
    "    tgads.title = 'Mass change'        # data title information for labeling"
   ]
  },
  {
   "cell_type": "markdown",
   "metadata": {
    "nbpresent": {
     "id": "bc5863e4-def2-4485-84bd-c5eb439f419b"
    }
   },
   "source": [
    "We get some warnings because the axis range is too high for two of the dataset. We can safely ignore this.\n",
    "\n",
    "Note that we can easily remove such warnings by changing the loglevel temporarilly:"
   ]
  },
  {
   "cell_type": "code",
   "execution_count": 27,
   "metadata": {
    "nbpresent": {
     "id": "5d61baf9-e4e4-4477-9c34-2329e273648f"
    }
   },
   "outputs": [],
   "source": [
    "set_loglevel(ERROR)\n",
    "\n",
    "for tgads in tga_datasets:       \n",
    "    tgads = tgads[-0.5:35.0]          \n",
    "    tgads.x.units = 'hour'            \n",
    "    tgads.units = 'weight_percent'    \n",
    "    tgads.x.title = 'Time-on-stream'  \n",
    "    tgads.title = 'Mass change'        \n",
    "    \n",
    "set_loglevel(WARNING)"
   ]
  },
  {
   "cell_type": "markdown",
   "metadata": {
    "nbpresent": {
     "id": "d0e300bb-5436-4357-a447-0198ee8cce18"
    }
   },
   "source": [
    "Let's now plot the data again:"
   ]
  },
  {
   "cell_type": "code",
   "execution_count": 28,
   "metadata": {
    "nbpresent": {
     "id": "8802705f-6dc5-4a06-b163-25b2bc1a6e67"
    }
   },
   "outputs": [
    {
     "name": "stderr",
     "output_type": "stream",
     "text": [
      "SpectroChemPyWarning:  The length of a 1D array in spectrochempy is ambiguous. It stands for the number of rows: so len(array1D)=1. If what you want is the length of the row, then you have to use the `size` attibute intead of  `len`.\n",
      "SpectroChemPyWarning:  The length of a 1D array in spectrochempy is ambiguous. It stands for the number of rows: so len(array1D)=1. If what you want is the length of the row, then you have to use the `size` attibute intead of  `len`.\n",
      "SpectroChemPyWarning:  The length of a 1D array in spectrochempy is ambiguous. It stands for the number of rows: so len(array1D)=1. If what you want is the length of the row, then you have to use the `size` attibute intead of  `len`.\n"
     ]
    }
   ],
   "source": [
    "_ = plot_multiple(datasets=tga_datasets, labels=labels, pen=True, style='sans', markevery=50, markersize=7,\n",
    "                  legend='lower right')"
   ]
  },
  {
   "cell_type": "markdown",
   "metadata": {
    "nbpresent": {
     "id": "f2018a33-66c5-49d3-8ff2-da427f33d3fa"
    }
   },
   "source": [
    "**Why nothing has changed?**\n",
    "\n",
    "Simply because when we have done the slicing we have actually created a **copy** of the initial object \n",
    "before doing the slicing. So the original object has not been changed, but the copy!\n",
    "\n",
    "**How to solve this problem ?**\n",
    "\n",
    "We need to do the slicing in place and for this just put the constant **INPLACE** in the slicing indications."
   ]
  },
  {
   "cell_type": "code",
   "execution_count": 29,
   "metadata": {
    "nbpresent": {
     "id": "45812edb-5347-4507-bdbb-b70807ced787"
    }
   },
   "outputs": [
    {
     "name": "stderr",
     "output_type": "stream",
     "text": [
      "SpectroChemPyWarning:  The length of a 1D array in spectrochempy is ambiguous. It stands for the number of rows: so len(array1D)=1. If what you want is the length of the row, then you have to use the `size` attibute intead of  `len`.\n",
      "SpectroChemPyWarning:  The length of a 1D array in spectrochempy is ambiguous. It stands for the number of rows: so len(array1D)=1. If what you want is the length of the row, then you have to use the `size` attibute intead of  `len`.\n",
      "SpectroChemPyWarning:  The length of a 1D array in spectrochempy is ambiguous. It stands for the number of rows: so len(array1D)=1. If what you want is the length of the row, then you have to use the `size` attibute intead of  `len`.\n"
     ]
    }
   ],
   "source": [
    "set_loglevel(ERROR)\n",
    "    \n",
    "for tgads in tga_datasets:       \n",
    "    tgads[-0.5:35.0, INPLACE]          # keep only useful range. Note the slicing by location\n",
    "                                       # NOTE: the INPLACE addition!\n",
    "    tgads.x.units = 'hour'             # x dimension units\n",
    "    tgads.units = 'weight_percent'     # data units\n",
    "    tgads.x.title = 'Time-on-stream'   # x title information for labeling\n",
    "    tgads.title = 'Mass change'        # data title information for labeling\n",
    "    \n",
    "set_loglevel(WARNING)\n",
    "\n",
    "_ = plot_multiple(datasets=tga_datasets, labels=labels, pen=True, style='sans', markevery=50, markersize=7,\n",
    "                  legend='lower right')"
   ]
  },
  {
   "cell_type": "markdown",
   "metadata": {
    "nbpresent": {
     "id": "337a475f-b929-4cc6-8740-61273f51bf94"
    }
   },
   "source": [
    "### Saving the project"
   ]
  },
  {
   "cell_type": "markdown",
   "metadata": {
    "nbpresent": {
     "id": "a483ef45-cca7-443e-a1df-3f29d1e96bfc"
    }
   },
   "source": [
    "Ok, we have now build our project with some data and attributes. \n",
    "\n",
    "If we go to another notebook, we would like to get all the data without doing again the operations made on this notebook. \n",
    "\n",
    "So we need to save this project."
   ]
  },
  {
   "cell_type": "code",
   "execution_count": 30,
   "metadata": {
    "nbpresent": {
     "id": "81fecd85-1420-4e3f-8597-5545c570797f"
    }
   },
   "outputs": [],
   "source": [
    "proj.save('HIZECOKE')"
   ]
  },
  {
   "cell_type": "markdown",
   "metadata": {},
   "source": [
    "In the next [notebook](tuto2_agir_IR_processing.ipynb), we will now proceed with some basic pre-processing of the IR data, such as slicing interesting regions, and masking some data. "
   ]
  },
  {
   "cell_type": "code",
   "execution_count": null,
   "metadata": {
    "lines_to_next_cell": 2
   },
   "outputs": [],
   "source": [
    "\n"
   ]
  }
 ],
 "metadata": {
  "jupytext": {
   "text_representation": {
    "extension": ".py",
    "format_name": "percent",
    "format_version": "1.2",
    "jupytext_version": "0.8.6"
   }
  },
  "kernelspec": {
   "display_name": "Python 3",
   "language": "python",
   "name": "python3"
  },
  "language_info": {
   "codemirror_mode": {
    "name": "ipython",
    "version": 3
   },
   "file_extension": ".py",
   "mimetype": "text/x-python",
   "name": "python",
   "nbconvert_exporter": "python",
   "pygments_lexer": "ipython3",
   "version": "3.6.8"
  }
 },
 "nbformat": 4,
 "nbformat_minor": 2
}
