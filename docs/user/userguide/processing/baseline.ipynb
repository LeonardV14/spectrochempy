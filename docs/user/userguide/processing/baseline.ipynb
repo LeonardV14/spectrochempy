{
 "cells": [
  {
   "cell_type": "markdown",
   "metadata": {},
   "source": [
    "# Baseline corrections"
   ]
  },
  {
   "cell_type": "code",
   "execution_count": null,
   "metadata": {},
   "outputs": [],
   "source": [
    "from spectrochempy import *"
   ]
  },
  {
   "cell_type": "code",
   "execution_count": null,
   "metadata": {},
   "outputs": [],
   "source": [
    "dataset = NDDataset.read_omnic(os.path.join('irdata', 'NH4Y-activation.SPG'))\n",
    "dataset"
   ]
  },
  {
   "cell_type": "code",
   "execution_count": null,
   "metadata": {},
   "outputs": [],
   "source": [
    "s = dataset[:, 1260.0:5999.0]\n",
    "s = s - s[-1]\n",
    "\n",
    "# Important note that we use floating point number\n",
    "# integer would mean points, not wavenumbers!\n",
    "    \n",
    "basc = BaselineCorrection(s)\n",
    "\n",
    "ranges=[[1261.86, 1285.89],\n",
    "        [1556.30, 1568.26],\n",
    "        [1795.00, 1956.75], \n",
    "        [3766.03, 3915.81],  \n",
    "        [4574.26, 4616.04], \n",
    "        [4980.10, 4998.01],\n",
    "        [5437.52, 5994.70]]  # predefined ranges\n",
    "\n",
    "_ = basc.run(*ranges, method='multivariate',\n",
    "                  interpolation='pchip',\n",
    "                  npc=5,\n",
    "                  figsize=(6,6),\n",
    "                  zoompreview=4)"
   ]
  },
  {
   "cell_type": "markdown",
   "metadata": {},
   "source": [
    "The regions used to set the baseline are accessible using the `ranges` attibute:"
   ]
  },
  {
   "cell_type": "code",
   "execution_count": null,
   "metadata": {},
   "outputs": [],
   "source": [
    "ranges = basc.ranges\n",
    "print(ranges)"
   ]
  },
  {
   "cell_type": "code",
   "execution_count": null,
   "metadata": {},
   "outputs": [],
   "source": [
    "_ = basc.corrected.plot_stack()"
   ]
  }
 ],
 "metadata": {
  "jupytext": {
   "formats": "ipynb,py:percent",
   "text_representation": {
    "extension": ".py",
    "format_name": "percent",
    "format_version": "1.2",
    "jupytext_version": "1.0.5"
   }
  },
  "kernelspec": {
   "display_name": "Python 3",
   "language": "python",
   "name": "python3"
  },
  "language_info": {
   "codemirror_mode": {
    "name": "ipython",
    "version": 3
   },
   "file_extension": ".py",
   "mimetype": "text/x-python",
   "name": "python",
   "nbconvert_exporter": "python",
   "pygments_lexer": "ipython3",
   "version": "3.6.7"
  }
 },
 "nbformat": 4,
 "nbformat_minor": 2
}
