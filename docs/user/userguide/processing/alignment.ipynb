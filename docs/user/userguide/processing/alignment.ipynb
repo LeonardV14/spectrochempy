{
 "cells": [
  {
   "cell_type": "markdown",
   "metadata": {},
   "source": [
    "# Alignment of datasets"
   ]
  },
  {
   "cell_type": "code",
   "execution_count": null,
   "metadata": {},
   "outputs": [],
   "source": [
    "from spectrochempy import *"
   ]
  },
  {
   "cell_type": "markdown",
   "metadata": {},
   "source": [
    "## Example"
   ]
  },
  {
   "cell_type": "markdown",
   "metadata": {},
   "source": [
    "To allow some mathematical operations or dataset processing, it is often necessary that the datasets are aligned, *i.e.,* that they have compatible coordinate for the dimensions.\n",
    "\n",
    "For sake of demonstration, let's take an experimental dataset that we will arbitrary split into four unaligned datasets. Then will realign them and appy some binary mathematical operation such as addition or subtration that required aligned coordinates."
   ]
  },
  {
   "cell_type": "code",
   "execution_count": null,
   "metadata": {},
   "outputs": [],
   "source": [
    "dataset = NDDataset.read_omnic(os.path.join('irdata', 'NH4Y-activation.SPG'))\n",
    "dataset.y = dataset.y - dataset.y[0]  # remove offset in the time\n",
    "dataset.y.title = 'Time'\n",
    "_ = dataset.plot_map(colormap='viridis', colorbar=True)\n",
    "dataset.shape"
   ]
  },
  {
   "cell_type": "code",
   "execution_count": null,
   "metadata": {},
   "outputs": [],
   "source": [
    "nd1 = dataset[0:30, 0:4000]\n",
    "nd2 = dataset[0:30, 2000:5549]\n",
    "nd3 = dataset[10:55, 0:4000]\n",
    "nd4 = dataset[10:55, 2000:5549]\n",
    "_ = multiplot_map(datasets=[nd1, nd2, nd3, nd4],  colormap='viridis',\n",
    "                nrow=2, ncol=2, sharex=True, sharey=True, \n",
    "                figsize=(6,6), dpi=100)"
   ]
  },
  {
   "cell_type": "markdown",
   "metadata": {},
   "source": [
    "The four datasets `nd1` to `nd4` have some overlapping in both dimensions. But it we want for example to add `nd2` with `nd4`. This will fail because the dimension are not aligned. "
   ]
  },
  {
   "cell_type": "code",
   "execution_count": null,
   "metadata": {},
   "outputs": [],
   "source": [
    "try:\n",
    "    nd2 + nd4\n",
    "except ArithmeticError:\n",
    "    error_('Cannot add unaligned datasets')"
   ]
  },
  {
   "cell_type": "markdown",
   "metadata": {},
   "source": [
    "Let try to align them, in the `y` dimension (*i.e.* the first) as this the one which differ in size.\n",
    "(NOTE: to find the actual names of the dimensions, just get the `dims` attribute of the datasets."
   ]
  },
  {
   "cell_type": "code",
   "execution_count": null,
   "metadata": {},
   "outputs": [],
   "source": [
    "nd2.dims, nd4.dims"
   ]
  },
  {
   "cell_type": "markdown",
   "metadata": {},
   "source": [
    "To align we can use different methods, depending on the expected results (missing values in the aligned datasets will be masked)"
   ]
  },
  {
   "cell_type": "code",
   "execution_count": null,
   "metadata": {},
   "outputs": [],
   "source": [
    "# `outer` method => union of the coordinates\n",
    "nd2a, nd4a = align(nd2, nd4, dim='y', method='outer')"
   ]
  },
  {
   "cell_type": "markdown",
   "metadata": {},
   "source": [
    "New we can perform an addition without any problem"
   ]
  },
  {
   "cell_type": "code",
   "execution_count": null,
   "metadata": {},
   "outputs": [],
   "source": [
    "ndadd = nd2a + nd4a\n",
    "ndadd.shape"
   ]
  },
  {
   "cell_type": "markdown",
   "metadata": {},
   "source": [
    "Let's plot both individual aligned arrays, and their sum. Note, that only the common region appears in the result array, as the mathematical operation are aware of the masks."
   ]
  },
  {
   "cell_type": "code",
   "execution_count": null,
   "metadata": {},
   "outputs": [],
   "source": [
    "_ = multiplot_map(datasets=[nd2a, nd4a, ndadd],  colormap='viridis', sharey=True,\n",
    "                nrow=1, ncol=3, figsize=(8, 3), dpi=100)"
   ]
  },
  {
   "cell_type": "markdown",
   "metadata": {},
   "source": [
    "## Methods for alignments\n",
    "Method for alignments are:\n",
    "\n",
    "* **outer** which means that a union of the different coordinates is achieved (missing values are masked)\n",
    "* **inner** which means that the intersection of the coordinates is used\n",
    "* **first** which means that the first dataset is used as reference\n",
    "* **last** which means that the last dataset is used as reference\n",
    "* **interpolate** means that interpolation is performed to handle missing points whenever it is possible (Not yet implemented)"
   ]
  },
  {
   "cell_type": "markdown",
   "metadata": {
    "lines_to_next_cell": 2
   },
   "source": [
    "### `inner` method"
   ]
  },
  {
   "cell_type": "code",
   "execution_count": null,
   "metadata": {},
   "outputs": [],
   "source": [
    "# `inner` method => intersection of the coordinates\n",
    "nd2a, nd4a = align(nd2, nd4, dim='y', method='inner')\n",
    "ndadd = nd2a + nd4a\n",
    "ndadd.shape   # note the difference with the outer method above (the shape correspond to the intersection)"
   ]
  },
  {
   "cell_type": "code",
   "execution_count": null,
   "metadata": {},
   "outputs": [],
   "source": [
    "_ = multiplot_map(datasets=[nd2a, nd4a, ndadd],  colormap='viridis', sharey=True,\n",
    "                nrow=1, ncol=3, figsize=(8, 3), dpi=100)"
   ]
  },
  {
   "cell_type": "markdown",
   "metadata": {},
   "source": [
    "### `first` method"
   ]
  },
  {
   "cell_type": "code",
   "execution_count": null,
   "metadata": {},
   "outputs": [],
   "source": [
    "# `inner` method => align on the first dataset\n",
    "nd2a, nd4a = align(nd2, nd4, dim='y', method='first')\n",
    "ndadd = nd2a + nd4a\n",
    "ndadd.shape   # note the difference with the outer method above"
   ]
  },
  {
   "cell_type": "code",
   "execution_count": null,
   "metadata": {},
   "outputs": [],
   "source": [
    "_ = multiplot_map(datasets=[nd2a, nd4a, ndadd],  colormap='viridis', sharey=True,\n",
    "                nrow=1, ncol=3, figsize=(8, 3), dpi=100)"
   ]
  },
  {
   "cell_type": "markdown",
   "metadata": {},
   "source": [
    "### `last` method"
   ]
  },
  {
   "cell_type": "code",
   "execution_count": null,
   "metadata": {},
   "outputs": [],
   "source": [
    "# `last` method => align on the last dataset\n",
    "nd2a, nd4a = align(nd2, nd4, dim='y', method='last')\n",
    "ndadd = nd2a + nd4a\n",
    "ndadd.shape   # note the difference with the outer method above"
   ]
  },
  {
   "cell_type": "code",
   "execution_count": null,
   "metadata": {},
   "outputs": [],
   "source": [
    "_ = multiplot_map(datasets=[nd2a, nd4a, ndadd],  colormap='viridis', sharey=True,\n",
    "                nrow=1, ncol=3, figsize=(8, 3), dpi=100)"
   ]
  },
  {
   "cell_type": "markdown",
   "metadata": {},
   "source": [
    "## Alignment along several dimensions "
   ]
  },
  {
   "cell_type": "code",
   "execution_count": null,
   "metadata": {},
   "outputs": [],
   "source": [
    "nd1a, nd2a, nd3a, nd4a = align(nd1, nd2, nd3, nd4, dims=['x','y'])   # by default the outer method is used\n",
    "nd1a.shape"
   ]
  },
  {
   "cell_type": "code",
   "execution_count": null,
   "metadata": {},
   "outputs": [],
   "source": [
    "ndadd = nd1a + nd2a + nd3a + nd4a"
   ]
  },
  {
   "cell_type": "code",
   "execution_count": null,
   "metadata": {},
   "outputs": [],
   "source": [
    "# Comparison of the result array with the original (only the common region is visible, due to the masks)\n",
    "_ = multiplot_map(datasets=[dataset, ndadd],  colormap='viridis', sharex=0, sharey=True,\n",
    "                nrow=1, ncol=2, figsize=(8, 3), dpi=100)"
   ]
  },
  {
   "cell_type": "code",
   "execution_count": null,
   "metadata": {
    "lines_to_next_cell": 2
   },
   "outputs": [],
   "source": []
  }
 ],
 "metadata": {
  "jupytext": {
   "formats": "ipynb,py:percent",
   "text_representation": {
    "extension": ".py",
    "format_name": "percent",
    "format_version": "1.2",
    "jupytext_version": "1.0.5"
   }
  },
  "kernelspec": {
   "display_name": "Python 3",
   "language": "python",
   "name": "python3"
  },
  "language_info": {
   "codemirror_mode": {
    "name": "ipython",
    "version": 3
   },
   "file_extension": ".py",
   "mimetype": "text/x-python",
   "name": "python",
   "nbconvert_exporter": "python",
   "pygments_lexer": "ipython3",
   "version": "3.6.7"
  }
 },
 "nbformat": 4,
 "nbformat_minor": 2
}
