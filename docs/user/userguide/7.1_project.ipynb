{
 "cells": [
  {
   "cell_type": "markdown",
   "metadata": {},
   "source": [
    "# Project management"
   ]
  },
  {
   "cell_type": "markdown",
   "metadata": {},
   "source": [
    "## Library Imports"
   ]
  },
  {
   "cell_type": "code",
   "execution_count": 1,
   "metadata": {},
   "outputs": [
    {
     "name": "stdout",
     "output_type": "stream",
     "text": [
      "SpectroChemPy's API - v.0.1a5.dev5+g9796de3f.d20190111\n",
      "© Copyright 2014-2019 - A.Travert & C.Fernandez @ LCS\n"
     ]
    }
   ],
   "source": [
    "from spectrochempy import *\n",
    "import os"
   ]
  },
  {
   "cell_type": "markdown",
   "metadata": {},
   "source": [
    "## Project creation\n",
    "We can easily create a new project to store various datasets"
   ]
  },
  {
   "cell_type": "code",
   "execution_count": 2,
   "metadata": {},
   "outputs": [],
   "source": [
    "proj = Project()"
   ]
  },
  {
   "cell_type": "markdown",
   "metadata": {},
   "source": [
    "As we did not specify a name, a name has been attributed automatically : "
   ]
  },
  {
   "cell_type": "code",
   "execution_count": 3,
   "metadata": {},
   "outputs": [
    {
     "data": {
      "text/plain": [
       "'Project-a8080b4a'"
      ]
     },
     "execution_count": 3,
     "metadata": {},
     "output_type": "execute_result"
    }
   ],
   "source": [
    "proj.name"
   ]
  },
  {
   "cell_type": "markdown",
   "metadata": {},
   "source": [
    "------\n",
    "To get the signature of the object, one can use the usual '?'"
   ]
  },
  {
   "cell_type": "code",
   "execution_count": 4,
   "metadata": {},
   "outputs": [],
   "source": [
    "Project?"
   ]
  },
  {
   "cell_type": "markdown",
   "metadata": {},
   "source": [
    "----\n",
    "Let's change this name"
   ]
  },
  {
   "cell_type": "code",
   "execution_count": 5,
   "metadata": {},
   "outputs": [
    {
     "data": {
      "text/html": [
       "Project&nbsp;myNMRdata:<br/>\n",
       "&nbsp;&nbsp;&nbsp;&nbsp;(empty&nbsp;project)<br/>\n"
      ],
      "text/plain": [
       "<spectrochempy.core.projects.project.Project at 0x1045790f0>"
      ]
     },
     "execution_count": 5,
     "metadata": {},
     "output_type": "execute_result"
    }
   ],
   "source": [
    "proj.name = 'myNMRdata'\n",
    "proj"
   ]
  },
  {
   "cell_type": "markdown",
   "metadata": {},
   "source": [
    "Now we will add a dataset to the project.\n",
    "\n",
    "First we read the dataset (here some NMR data) and we give it some name (e.g. 'nmr n°1')"
   ]
  },
  {
   "cell_type": "code",
   "execution_count": 6,
   "metadata": {},
   "outputs": [],
   "source": [
    "path = os.path.join(datadir.path, 'nmrdata','bruker', 'tests', 'nmr','bruker_1d')\n",
    "nd1 = NDDataset(name = 'NMR_1D').read_bruker_nmr(path, expno=1, remove_digital_filter=True)\n",
    "path = os.path.join(datadir.path, 'nmrdata','bruker', 'tests', 'nmr','bruker_2d')\n",
    "nd2 = NDDataset(name = 'NMR_2D').read_bruker_nmr(path, expno=1, remove_digital_filter=True)"
   ]
  },
  {
   "cell_type": "markdown",
   "metadata": {},
   "source": [
    "To add it to the project, we use the `add_dataset` function for a single dataset:"
   ]
  },
  {
   "cell_type": "code",
   "execution_count": 7,
   "metadata": {},
   "outputs": [],
   "source": [
    "proj.add_datasets(nd1)"
   ]
  },
  {
   "cell_type": "markdown",
   "metadata": {},
   "source": [
    "or `add_datasets` for several datasets. "
   ]
  },
  {
   "cell_type": "code",
   "execution_count": 8,
   "metadata": {},
   "outputs": [],
   "source": [
    "proj.add_datasets(nd1, nd2)"
   ]
  },
  {
   "cell_type": "markdown",
   "metadata": {},
   "source": [
    "Display its structure"
   ]
  },
  {
   "cell_type": "code",
   "execution_count": 9,
   "metadata": {},
   "outputs": [
    {
     "data": {
      "text/html": [
       "Project&nbsp;myNMRdata:<br/>\n",
       "&nbsp;&nbsp;&nbsp;&nbsp;⤷&nbsp;NMR_1D&nbsp;(dataset)<br/>\n",
       "&nbsp;&nbsp;&nbsp;&nbsp;⤷&nbsp;NMR_2D&nbsp;(dataset)<br/>\n"
      ],
      "text/plain": [
       "<spectrochempy.core.projects.project.Project at 0x1045790f0>"
      ]
     },
     "execution_count": 9,
     "metadata": {},
     "output_type": "execute_result"
    }
   ],
   "source": [
    "proj   "
   ]
  },
  {
   "cell_type": "markdown",
   "metadata": {},
   "source": [
    "It is also possible to add other projects as sub-project (using the `add_project`)"
   ]
  },
  {
   "cell_type": "markdown",
   "metadata": {},
   "source": [
    "## Remove an element from a project"
   ]
  },
  {
   "cell_type": "code",
   "execution_count": 10,
   "metadata": {},
   "outputs": [
    {
     "data": {
      "text/html": [
       "Project&nbsp;myNMRdata:<br/>\n",
       "&nbsp;&nbsp;&nbsp;&nbsp;⤷&nbsp;NMR_2D&nbsp;(dataset)<br/>\n"
      ],
      "text/plain": [
       "<spectrochempy.core.projects.project.Project at 0x1045790f0>"
      ]
     },
     "execution_count": 10,
     "metadata": {},
     "output_type": "execute_result"
    }
   ],
   "source": [
    "proj.remove_dataset('NMR_1D')\n",
    "proj"
   ]
  },
  {
   "cell_type": "markdown",
   "metadata": {},
   "source": [
    "## Get project's elements"
   ]
  },
  {
   "cell_type": "code",
   "execution_count": 11,
   "metadata": {},
   "outputs": [
    {
     "data": {
      "text/html": [
       "Project&nbsp;myNMRdata:<br/>\n",
       "&nbsp;&nbsp;&nbsp;&nbsp;⤷&nbsp;NMR_1D&nbsp;(dataset)<br/>\n",
       "&nbsp;&nbsp;&nbsp;&nbsp;⤷&nbsp;NMR_2D&nbsp;(dataset)<br/>\n"
      ],
      "text/plain": [
       "<spectrochempy.core.projects.project.Project at 0x1045790f0>"
      ]
     },
     "execution_count": 11,
     "metadata": {},
     "output_type": "execute_result"
    }
   ],
   "source": [
    "proj.add_datasets(nd1, nd2)\n",
    "proj"
   ]
  },
  {
   "cell_type": "markdown",
   "metadata": {},
   "source": [
    "We can just use the name of the element as a project attribute."
   ]
  },
  {
   "cell_type": "code",
   "execution_count": 12,
   "metadata": {},
   "outputs": [
    {
     "data": {
      "text/html": [
       "<table style='width:100%'>\n",
       "<tr style='border: 1px solid lightgray;'><td style='padding-right:5px; width:100px'><strong>Name/Id</strong></td><td style='text-align:left'>NMR_1D</td><tr>\n",
       "<tr style='border: 1px solid lightgray;'><td style='padding-right:5px; width:100px'><strong>Author</strong></td><td style='text-align:left'>spectrocat@cf-macbookpro.local</td><tr>\n",
       "<tr style='border: 1px solid lightgray;'><td style='padding-right:5px; width:100px'><strong>Created</strong></td><td style='text-align:left'>2019-01-11 18:02:20.200172</td><tr>\n",
       "<tr style='border: 1px solid lightgray;'><td style='padding-right:5px; width:100px'><strong>Last Modified</strong></td><td style='text-align:left'>2019-01-11 18:02:20.822427</td><tr>\n",
       "<tr style='border: 1px solid lightgray;'><td style='padding-right:5px; width:100px'><strong>Description</strong></td><td style='text-align:left'></td><tr>\n",
       "<tr style='border: 1px solid lightgray;'><td style='padding-right:5px; width:100px'><strong>data</strong></td><td style='text-align:left'><table style='width:100%'>\n",
       "<tr style='border: 1px solid lightgray;'><td style='padding-right:5px; width:100px'><strong>Title</strong></td><td style='text-align:left'>intensity</td><tr>\n",
       "<tr style='border: 1px solid lightgray;'><td style='padding-right:5px; width:100px'><strong>Size</strong></td><td style='text-align:left'>12411 (complex)</td><tr>\n",
       "<tr style='border: 1px solid lightgray;'><td style='padding-right:5px; width:100px'><strong>Values</strong></td><td style='text-align:left'>R[-1037.267 -2200.383 ...    0.062   -0.053]<br/>I[-1077.841 -2283.510 ...   -0.234    0.101]<br/</td><tr>\n",
       "</table>\n",
       "</td><tr>\n",
       "<tr style='border: 1px solid lightgray;'><td style='padding-right:5px; width:100px'><strong>x-coordinate</strong></td><td style='text-align:left'><table style='width:100%'>\n",
       "<tr style='border: 1px solid lightgray;'><td style='padding-right:5px; width:100px'><strong>Title</strong></td><td style='text-align:left'>Acquisition time</td><tr>\n",
       "<tr style='border: 1px solid lightgray;'><td style='padding-right:5px; width:100px'><strong>Data</strong></td><td style='text-align:left'>[   0.000    4.000 ... 49636.000 49640.000] us<br/</td><tr>\n",
       "</table>\n",
       "</td><tr>\n",
       "</table><br/>\n"
      ],
      "text/plain": [
       "NDDataset: [-1037.267-1077.841j, -2200.383-2283.510j, ...,    0.062-0.234j,   -0.053+0.101j] unitless"
      ]
     },
     "execution_count": 12,
     "metadata": {},
     "output_type": "execute_result"
    }
   ],
   "source": [
    "proj.NMR_1D"
   ]
  },
  {
   "cell_type": "code",
   "execution_count": 13,
   "metadata": {},
   "outputs": [
    {
     "data": {
      "application/javascript": [
       "/* Put everything inside the global mpl namespace */\n",
       "window.mpl = {};\n",
       "\n",
       "\n",
       "mpl.get_websocket_type = function() {\n",
       "    if (typeof(WebSocket) !== 'undefined') {\n",
       "        return WebSocket;\n",
       "    } else if (typeof(MozWebSocket) !== 'undefined') {\n",
       "        return MozWebSocket;\n",
       "    } else {\n",
       "        alert('Your browser does not have WebSocket support.' +\n",
       "              'Please try Chrome, Safari or Firefox ≥ 6. ' +\n",
       "              'Firefox 4 and 5 are also supported but you ' +\n",
       "              'have to enable WebSockets in about:config.');\n",
       "    };\n",
       "}\n",
       "\n",
       "mpl.figure = function(figure_id, websocket, ondownload, parent_element) {\n",
       "    this.id = figure_id;\n",
       "\n",
       "    this.ws = websocket;\n",
       "\n",
       "    this.supports_binary = (this.ws.binaryType != undefined);\n",
       "\n",
       "    if (!this.supports_binary) {\n",
       "        var warnings = document.getElementById(\"mpl-warnings\");\n",
       "        if (warnings) {\n",
       "            warnings.style.display = 'block';\n",
       "            warnings.textContent = (\n",
       "                \"This browser does not support binary websocket messages. \" +\n",
       "                    \"Performance may be slow.\");\n",
       "        }\n",
       "    }\n",
       "\n",
       "    this.imageObj = new Image();\n",
       "\n",
       "    this.context = undefined;\n",
       "    this.message = undefined;\n",
       "    this.canvas = undefined;\n",
       "    this.rubberband_canvas = undefined;\n",
       "    this.rubberband_context = undefined;\n",
       "    this.format_dropdown = undefined;\n",
       "\n",
       "    this.image_mode = 'full';\n",
       "\n",
       "    this.root = $('<div/>');\n",
       "    this._root_extra_style(this.root)\n",
       "    this.root.attr('style', 'display: inline-block');\n",
       "\n",
       "    $(parent_element).append(this.root);\n",
       "\n",
       "    this._init_header(this);\n",
       "    this._init_canvas(this);\n",
       "    this._init_toolbar(this);\n",
       "\n",
       "    var fig = this;\n",
       "\n",
       "    this.waiting = false;\n",
       "\n",
       "    this.ws.onopen =  function () {\n",
       "            fig.send_message(\"supports_binary\", {value: fig.supports_binary});\n",
       "            fig.send_message(\"send_image_mode\", {});\n",
       "            if (mpl.ratio != 1) {\n",
       "                fig.send_message(\"set_dpi_ratio\", {'dpi_ratio': mpl.ratio});\n",
       "            }\n",
       "            fig.send_message(\"refresh\", {});\n",
       "        }\n",
       "\n",
       "    this.imageObj.onload = function() {\n",
       "            if (fig.image_mode == 'full') {\n",
       "                // Full images could contain transparency (where diff images\n",
       "                // almost always do), so we need to clear the canvas so that\n",
       "                // there is no ghosting.\n",
       "                fig.context.clearRect(0, 0, fig.canvas.width, fig.canvas.height);\n",
       "            }\n",
       "            fig.context.drawImage(fig.imageObj, 0, 0);\n",
       "        };\n",
       "\n",
       "    this.imageObj.onunload = function() {\n",
       "        fig.ws.close();\n",
       "    }\n",
       "\n",
       "    this.ws.onmessage = this._make_on_message_function(this);\n",
       "\n",
       "    this.ondownload = ondownload;\n",
       "}\n",
       "\n",
       "mpl.figure.prototype._init_header = function() {\n",
       "    var titlebar = $(\n",
       "        '<div class=\"ui-dialog-titlebar ui-widget-header ui-corner-all ' +\n",
       "        'ui-helper-clearfix\"/>');\n",
       "    var titletext = $(\n",
       "        '<div class=\"ui-dialog-title\" style=\"width: 100%; ' +\n",
       "        'text-align: center; padding: 3px;\"/>');\n",
       "    titlebar.append(titletext)\n",
       "    this.root.append(titlebar);\n",
       "    this.header = titletext[0];\n",
       "}\n",
       "\n",
       "\n",
       "\n",
       "mpl.figure.prototype._canvas_extra_style = function(canvas_div) {\n",
       "\n",
       "}\n",
       "\n",
       "\n",
       "mpl.figure.prototype._root_extra_style = function(canvas_div) {\n",
       "\n",
       "}\n",
       "\n",
       "mpl.figure.prototype._init_canvas = function() {\n",
       "    var fig = this;\n",
       "\n",
       "    var canvas_div = $('<div/>');\n",
       "\n",
       "    canvas_div.attr('style', 'position: relative; clear: both; outline: 0');\n",
       "\n",
       "    function canvas_keyboard_event(event) {\n",
       "        return fig.key_event(event, event['data']);\n",
       "    }\n",
       "\n",
       "    canvas_div.keydown('key_press', canvas_keyboard_event);\n",
       "    canvas_div.keyup('key_release', canvas_keyboard_event);\n",
       "    this.canvas_div = canvas_div\n",
       "    this._canvas_extra_style(canvas_div)\n",
       "    this.root.append(canvas_div);\n",
       "\n",
       "    var canvas = $('<canvas/>');\n",
       "    canvas.addClass('mpl-canvas');\n",
       "    canvas.attr('style', \"left: 0; top: 0; z-index: 0; outline: 0\")\n",
       "\n",
       "    this.canvas = canvas[0];\n",
       "    this.context = canvas[0].getContext(\"2d\");\n",
       "\n",
       "    var backingStore = this.context.backingStorePixelRatio ||\n",
       "\tthis.context.webkitBackingStorePixelRatio ||\n",
       "\tthis.context.mozBackingStorePixelRatio ||\n",
       "\tthis.context.msBackingStorePixelRatio ||\n",
       "\tthis.context.oBackingStorePixelRatio ||\n",
       "\tthis.context.backingStorePixelRatio || 1;\n",
       "\n",
       "    mpl.ratio = (window.devicePixelRatio || 1) / backingStore;\n",
       "\n",
       "    var rubberband = $('<canvas/>');\n",
       "    rubberband.attr('style', \"position: absolute; left: 0; top: 0; z-index: 1;\")\n",
       "\n",
       "    var pass_mouse_events = true;\n",
       "\n",
       "    canvas_div.resizable({\n",
       "        start: function(event, ui) {\n",
       "            pass_mouse_events = false;\n",
       "        },\n",
       "        resize: function(event, ui) {\n",
       "            fig.request_resize(ui.size.width, ui.size.height);\n",
       "        },\n",
       "        stop: function(event, ui) {\n",
       "            pass_mouse_events = true;\n",
       "            fig.request_resize(ui.size.width, ui.size.height);\n",
       "        },\n",
       "    });\n",
       "\n",
       "    function mouse_event_fn(event) {\n",
       "        if (pass_mouse_events)\n",
       "            return fig.mouse_event(event, event['data']);\n",
       "    }\n",
       "\n",
       "    rubberband.mousedown('button_press', mouse_event_fn);\n",
       "    rubberband.mouseup('button_release', mouse_event_fn);\n",
       "    // Throttle sequential mouse events to 1 every 20ms.\n",
       "    rubberband.mousemove('motion_notify', mouse_event_fn);\n",
       "\n",
       "    rubberband.mouseenter('figure_enter', mouse_event_fn);\n",
       "    rubberband.mouseleave('figure_leave', mouse_event_fn);\n",
       "\n",
       "    canvas_div.on(\"wheel\", function (event) {\n",
       "        event = event.originalEvent;\n",
       "        event['data'] = 'scroll'\n",
       "        if (event.deltaY < 0) {\n",
       "            event.step = 1;\n",
       "        } else {\n",
       "            event.step = -1;\n",
       "        }\n",
       "        mouse_event_fn(event);\n",
       "    });\n",
       "\n",
       "    canvas_div.append(canvas);\n",
       "    canvas_div.append(rubberband);\n",
       "\n",
       "    this.rubberband = rubberband;\n",
       "    this.rubberband_canvas = rubberband[0];\n",
       "    this.rubberband_context = rubberband[0].getContext(\"2d\");\n",
       "    this.rubberband_context.strokeStyle = \"#000000\";\n",
       "\n",
       "    this._resize_canvas = function(width, height) {\n",
       "        // Keep the size of the canvas, canvas container, and rubber band\n",
       "        // canvas in synch.\n",
       "        canvas_div.css('width', width)\n",
       "        canvas_div.css('height', height)\n",
       "\n",
       "        canvas.attr('width', width * mpl.ratio);\n",
       "        canvas.attr('height', height * mpl.ratio);\n",
       "        canvas.attr('style', 'width: ' + width + 'px; height: ' + height + 'px;');\n",
       "\n",
       "        rubberband.attr('width', width);\n",
       "        rubberband.attr('height', height);\n",
       "    }\n",
       "\n",
       "    // Set the figure to an initial 600x600px, this will subsequently be updated\n",
       "    // upon first draw.\n",
       "    this._resize_canvas(600, 600);\n",
       "\n",
       "    // Disable right mouse context menu.\n",
       "    $(this.rubberband_canvas).bind(\"contextmenu\",function(e){\n",
       "        return false;\n",
       "    });\n",
       "\n",
       "    function set_focus () {\n",
       "        canvas.focus();\n",
       "        canvas_div.focus();\n",
       "    }\n",
       "\n",
       "    window.setTimeout(set_focus, 100);\n",
       "}\n",
       "\n",
       "mpl.figure.prototype._init_toolbar = function() {\n",
       "    var fig = this;\n",
       "\n",
       "    var nav_element = $('<div/>')\n",
       "    nav_element.attr('style', 'width: 100%');\n",
       "    this.root.append(nav_element);\n",
       "\n",
       "    // Define a callback function for later on.\n",
       "    function toolbar_event(event) {\n",
       "        return fig.toolbar_button_onclick(event['data']);\n",
       "    }\n",
       "    function toolbar_mouse_event(event) {\n",
       "        return fig.toolbar_button_onmouseover(event['data']);\n",
       "    }\n",
       "\n",
       "    for(var toolbar_ind in mpl.toolbar_items) {\n",
       "        var name = mpl.toolbar_items[toolbar_ind][0];\n",
       "        var tooltip = mpl.toolbar_items[toolbar_ind][1];\n",
       "        var image = mpl.toolbar_items[toolbar_ind][2];\n",
       "        var method_name = mpl.toolbar_items[toolbar_ind][3];\n",
       "\n",
       "        if (!name) {\n",
       "            // put a spacer in here.\n",
       "            continue;\n",
       "        }\n",
       "        var button = $('<button/>');\n",
       "        button.addClass('ui-button ui-widget ui-state-default ui-corner-all ' +\n",
       "                        'ui-button-icon-only');\n",
       "        button.attr('role', 'button');\n",
       "        button.attr('aria-disabled', 'false');\n",
       "        button.click(method_name, toolbar_event);\n",
       "        button.mouseover(tooltip, toolbar_mouse_event);\n",
       "\n",
       "        var icon_img = $('<span/>');\n",
       "        icon_img.addClass('ui-button-icon-primary ui-icon');\n",
       "        icon_img.addClass(image);\n",
       "        icon_img.addClass('ui-corner-all');\n",
       "\n",
       "        var tooltip_span = $('<span/>');\n",
       "        tooltip_span.addClass('ui-button-text');\n",
       "        tooltip_span.html(tooltip);\n",
       "\n",
       "        button.append(icon_img);\n",
       "        button.append(tooltip_span);\n",
       "\n",
       "        nav_element.append(button);\n",
       "    }\n",
       "\n",
       "    var fmt_picker_span = $('<span/>');\n",
       "\n",
       "    var fmt_picker = $('<select/>');\n",
       "    fmt_picker.addClass('mpl-toolbar-option ui-widget ui-widget-content');\n",
       "    fmt_picker_span.append(fmt_picker);\n",
       "    nav_element.append(fmt_picker_span);\n",
       "    this.format_dropdown = fmt_picker[0];\n",
       "\n",
       "    for (var ind in mpl.extensions) {\n",
       "        var fmt = mpl.extensions[ind];\n",
       "        var option = $(\n",
       "            '<option/>', {selected: fmt === mpl.default_extension}).html(fmt);\n",
       "        fmt_picker.append(option)\n",
       "    }\n",
       "\n",
       "    // Add hover states to the ui-buttons\n",
       "    $( \".ui-button\" ).hover(\n",
       "        function() { $(this).addClass(\"ui-state-hover\");},\n",
       "        function() { $(this).removeClass(\"ui-state-hover\");}\n",
       "    );\n",
       "\n",
       "    var status_bar = $('<span class=\"mpl-message\"/>');\n",
       "    nav_element.append(status_bar);\n",
       "    this.message = status_bar[0];\n",
       "}\n",
       "\n",
       "mpl.figure.prototype.request_resize = function(x_pixels, y_pixels) {\n",
       "    // Request matplotlib to resize the figure. Matplotlib will then trigger a resize in the client,\n",
       "    // which will in turn request a refresh of the image.\n",
       "    this.send_message('resize', {'width': x_pixels, 'height': y_pixels});\n",
       "}\n",
       "\n",
       "mpl.figure.prototype.send_message = function(type, properties) {\n",
       "    properties['type'] = type;\n",
       "    properties['figure_id'] = this.id;\n",
       "    this.ws.send(JSON.stringify(properties));\n",
       "}\n",
       "\n",
       "mpl.figure.prototype.send_draw_message = function() {\n",
       "    if (!this.waiting) {\n",
       "        this.waiting = true;\n",
       "        this.ws.send(JSON.stringify({type: \"draw\", figure_id: this.id}));\n",
       "    }\n",
       "}\n",
       "\n",
       "\n",
       "mpl.figure.prototype.handle_save = function(fig, msg) {\n",
       "    var format_dropdown = fig.format_dropdown;\n",
       "    var format = format_dropdown.options[format_dropdown.selectedIndex].value;\n",
       "    fig.ondownload(fig, format);\n",
       "}\n",
       "\n",
       "\n",
       "mpl.figure.prototype.handle_resize = function(fig, msg) {\n",
       "    var size = msg['size'];\n",
       "    if (size[0] != fig.canvas.width || size[1] != fig.canvas.height) {\n",
       "        fig._resize_canvas(size[0], size[1]);\n",
       "        fig.send_message(\"refresh\", {});\n",
       "    };\n",
       "}\n",
       "\n",
       "mpl.figure.prototype.handle_rubberband = function(fig, msg) {\n",
       "    var x0 = msg['x0'] / mpl.ratio;\n",
       "    var y0 = (fig.canvas.height - msg['y0']) / mpl.ratio;\n",
       "    var x1 = msg['x1'] / mpl.ratio;\n",
       "    var y1 = (fig.canvas.height - msg['y1']) / mpl.ratio;\n",
       "    x0 = Math.floor(x0) + 0.5;\n",
       "    y0 = Math.floor(y0) + 0.5;\n",
       "    x1 = Math.floor(x1) + 0.5;\n",
       "    y1 = Math.floor(y1) + 0.5;\n",
       "    var min_x = Math.min(x0, x1);\n",
       "    var min_y = Math.min(y0, y1);\n",
       "    var width = Math.abs(x1 - x0);\n",
       "    var height = Math.abs(y1 - y0);\n",
       "\n",
       "    fig.rubberband_context.clearRect(\n",
       "        0, 0, fig.canvas.width, fig.canvas.height);\n",
       "\n",
       "    fig.rubberband_context.strokeRect(min_x, min_y, width, height);\n",
       "}\n",
       "\n",
       "mpl.figure.prototype.handle_figure_label = function(fig, msg) {\n",
       "    // Updates the figure title.\n",
       "    fig.header.textContent = msg['label'];\n",
       "}\n",
       "\n",
       "mpl.figure.prototype.handle_cursor = function(fig, msg) {\n",
       "    var cursor = msg['cursor'];\n",
       "    switch(cursor)\n",
       "    {\n",
       "    case 0:\n",
       "        cursor = 'pointer';\n",
       "        break;\n",
       "    case 1:\n",
       "        cursor = 'default';\n",
       "        break;\n",
       "    case 2:\n",
       "        cursor = 'crosshair';\n",
       "        break;\n",
       "    case 3:\n",
       "        cursor = 'move';\n",
       "        break;\n",
       "    }\n",
       "    fig.rubberband_canvas.style.cursor = cursor;\n",
       "}\n",
       "\n",
       "mpl.figure.prototype.handle_message = function(fig, msg) {\n",
       "    fig.message.textContent = msg['message'];\n",
       "}\n",
       "\n",
       "mpl.figure.prototype.handle_draw = function(fig, msg) {\n",
       "    // Request the server to send over a new figure.\n",
       "    fig.send_draw_message();\n",
       "}\n",
       "\n",
       "mpl.figure.prototype.handle_image_mode = function(fig, msg) {\n",
       "    fig.image_mode = msg['mode'];\n",
       "}\n",
       "\n",
       "mpl.figure.prototype.updated_canvas_event = function() {\n",
       "    // Called whenever the canvas gets updated.\n",
       "    this.send_message(\"ack\", {});\n",
       "}\n",
       "\n",
       "// A function to construct a web socket function for onmessage handling.\n",
       "// Called in the figure constructor.\n",
       "mpl.figure.prototype._make_on_message_function = function(fig) {\n",
       "    return function socket_on_message(evt) {\n",
       "        if (evt.data instanceof Blob) {\n",
       "            /* FIXME: We get \"Resource interpreted as Image but\n",
       "             * transferred with MIME type text/plain:\" errors on\n",
       "             * Chrome.  But how to set the MIME type?  It doesn't seem\n",
       "             * to be part of the websocket stream */\n",
       "            evt.data.type = \"image/png\";\n",
       "\n",
       "            /* Free the memory for the previous frames */\n",
       "            if (fig.imageObj.src) {\n",
       "                (window.URL || window.webkitURL).revokeObjectURL(\n",
       "                    fig.imageObj.src);\n",
       "            }\n",
       "\n",
       "            fig.imageObj.src = (window.URL || window.webkitURL).createObjectURL(\n",
       "                evt.data);\n",
       "            fig.updated_canvas_event();\n",
       "            fig.waiting = false;\n",
       "            return;\n",
       "        }\n",
       "        else if (typeof evt.data === 'string' && evt.data.slice(0, 21) == \"data:image/png;base64\") {\n",
       "            fig.imageObj.src = evt.data;\n",
       "            fig.updated_canvas_event();\n",
       "            fig.waiting = false;\n",
       "            return;\n",
       "        }\n",
       "\n",
       "        var msg = JSON.parse(evt.data);\n",
       "        var msg_type = msg['type'];\n",
       "\n",
       "        // Call the  \"handle_{type}\" callback, which takes\n",
       "        // the figure and JSON message as its only arguments.\n",
       "        try {\n",
       "            var callback = fig[\"handle_\" + msg_type];\n",
       "        } catch (e) {\n",
       "            console.log(\"No handler for the '\" + msg_type + \"' message type: \", msg);\n",
       "            return;\n",
       "        }\n",
       "\n",
       "        if (callback) {\n",
       "            try {\n",
       "                // console.log(\"Handling '\" + msg_type + \"' message: \", msg);\n",
       "                callback(fig, msg);\n",
       "            } catch (e) {\n",
       "                console.log(\"Exception inside the 'handler_\" + msg_type + \"' callback:\", e, e.stack, msg);\n",
       "            }\n",
       "        }\n",
       "    };\n",
       "}\n",
       "\n",
       "// from http://stackoverflow.com/questions/1114465/getting-mouse-location-in-canvas\n",
       "mpl.findpos = function(e) {\n",
       "    //this section is from http://www.quirksmode.org/js/events_properties.html\n",
       "    var targ;\n",
       "    if (!e)\n",
       "        e = window.event;\n",
       "    if (e.target)\n",
       "        targ = e.target;\n",
       "    else if (e.srcElement)\n",
       "        targ = e.srcElement;\n",
       "    if (targ.nodeType == 3) // defeat Safari bug\n",
       "        targ = targ.parentNode;\n",
       "\n",
       "    // jQuery normalizes the pageX and pageY\n",
       "    // pageX,Y are the mouse positions relative to the document\n",
       "    // offset() returns the position of the element relative to the document\n",
       "    var x = e.pageX - $(targ).offset().left;\n",
       "    var y = e.pageY - $(targ).offset().top;\n",
       "\n",
       "    return {\"x\": x, \"y\": y};\n",
       "};\n",
       "\n",
       "/*\n",
       " * return a copy of an object with only non-object keys\n",
       " * we need this to avoid circular references\n",
       " * http://stackoverflow.com/a/24161582/3208463\n",
       " */\n",
       "function simpleKeys (original) {\n",
       "  return Object.keys(original).reduce(function (obj, key) {\n",
       "    if (typeof original[key] !== 'object')\n",
       "        obj[key] = original[key]\n",
       "    return obj;\n",
       "  }, {});\n",
       "}\n",
       "\n",
       "mpl.figure.prototype.mouse_event = function(event, name) {\n",
       "    var canvas_pos = mpl.findpos(event)\n",
       "\n",
       "    if (name === 'button_press')\n",
       "    {\n",
       "        this.canvas.focus();\n",
       "        this.canvas_div.focus();\n",
       "    }\n",
       "\n",
       "    var x = canvas_pos.x * mpl.ratio;\n",
       "    var y = canvas_pos.y * mpl.ratio;\n",
       "\n",
       "    this.send_message(name, {x: x, y: y, button: event.button,\n",
       "                             step: event.step,\n",
       "                             guiEvent: simpleKeys(event)});\n",
       "\n",
       "    /* This prevents the web browser from automatically changing to\n",
       "     * the text insertion cursor when the button is pressed.  We want\n",
       "     * to control all of the cursor setting manually through the\n",
       "     * 'cursor' event from matplotlib */\n",
       "    event.preventDefault();\n",
       "    return false;\n",
       "}\n",
       "\n",
       "mpl.figure.prototype._key_event_extra = function(event, name) {\n",
       "    // Handle any extra behaviour associated with a key event\n",
       "}\n",
       "\n",
       "mpl.figure.prototype.key_event = function(event, name) {\n",
       "\n",
       "    // Prevent repeat events\n",
       "    if (name == 'key_press')\n",
       "    {\n",
       "        if (event.which === this._key)\n",
       "            return;\n",
       "        else\n",
       "            this._key = event.which;\n",
       "    }\n",
       "    if (name == 'key_release')\n",
       "        this._key = null;\n",
       "\n",
       "    var value = '';\n",
       "    if (event.ctrlKey && event.which != 17)\n",
       "        value += \"ctrl+\";\n",
       "    if (event.altKey && event.which != 18)\n",
       "        value += \"alt+\";\n",
       "    if (event.shiftKey && event.which != 16)\n",
       "        value += \"shift+\";\n",
       "\n",
       "    value += 'k';\n",
       "    value += event.which.toString();\n",
       "\n",
       "    this._key_event_extra(event, name);\n",
       "\n",
       "    this.send_message(name, {key: value,\n",
       "                             guiEvent: simpleKeys(event)});\n",
       "    return false;\n",
       "}\n",
       "\n",
       "mpl.figure.prototype.toolbar_button_onclick = function(name) {\n",
       "    if (name == 'download') {\n",
       "        this.handle_save(this, null);\n",
       "    } else {\n",
       "        this.send_message(\"toolbar_button\", {name: name});\n",
       "    }\n",
       "};\n",
       "\n",
       "mpl.figure.prototype.toolbar_button_onmouseover = function(tooltip) {\n",
       "    this.message.textContent = tooltip;\n",
       "};\n",
       "mpl.toolbar_items = [[\"Home\", \"Reset original view\", \"fa fa-home icon-home\", \"home\"], [\"Back\", \"Back to previous view\", \"fa fa-arrow-left icon-arrow-left\", \"back\"], [\"Forward\", \"Forward to next view\", \"fa fa-arrow-right icon-arrow-right\", \"forward\"], [\"\", \"\", \"\", \"\"], [\"Pan\", \"Pan axes with left mouse, zoom with right\", \"fa fa-arrows icon-move\", \"pan\"], [\"Zoom\", \"Zoom to rectangle\", \"fa fa-square-o icon-check-empty\", \"zoom\"], [\"\", \"\", \"\", \"\"], [\"Download\", \"Download plot\", \"fa fa-floppy-o icon-save\", \"download\"]];\n",
       "\n",
       "mpl.extensions = [\"eps\", \"jpeg\", \"pdf\", \"png\", \"ps\", \"raw\", \"svg\", \"tif\"];\n",
       "\n",
       "mpl.default_extension = \"png\";var comm_websocket_adapter = function(comm) {\n",
       "    // Create a \"websocket\"-like object which calls the given IPython comm\n",
       "    // object with the appropriate methods. Currently this is a non binary\n",
       "    // socket, so there is still some room for performance tuning.\n",
       "    var ws = {};\n",
       "\n",
       "    ws.close = function() {\n",
       "        comm.close()\n",
       "    };\n",
       "    ws.send = function(m) {\n",
       "        //console.log('sending', m);\n",
       "        comm.send(m);\n",
       "    };\n",
       "    // Register the callback with on_msg.\n",
       "    comm.on_msg(function(msg) {\n",
       "        //console.log('receiving', msg['content']['data'], msg);\n",
       "        // Pass the mpl event to the overridden (by mpl) onmessage function.\n",
       "        ws.onmessage(msg['content']['data'])\n",
       "    });\n",
       "    return ws;\n",
       "}\n",
       "\n",
       "mpl.mpl_figure_comm = function(comm, msg) {\n",
       "    // This is the function which gets called when the mpl process\n",
       "    // starts-up an IPython Comm through the \"matplotlib\" channel.\n",
       "\n",
       "    var id = msg.content.data.id;\n",
       "    // Get hold of the div created by the display call when the Comm\n",
       "    // socket was opened in Python.\n",
       "    var element = $(\"#\" + id);\n",
       "    var ws_proxy = comm_websocket_adapter(comm)\n",
       "\n",
       "    function ondownload(figure, format) {\n",
       "        window.open(figure.imageObj.src);\n",
       "    }\n",
       "\n",
       "    var fig = new mpl.figure(id, ws_proxy,\n",
       "                           ondownload,\n",
       "                           element.get(0));\n",
       "\n",
       "    // Call onopen now - mpl needs it, as it is assuming we've passed it a real\n",
       "    // web socket which is closed, not our websocket->open comm proxy.\n",
       "    ws_proxy.onopen();\n",
       "\n",
       "    fig.parent_element = element.get(0);\n",
       "    fig.cell_info = mpl.find_output_cell(\"<div id='\" + id + \"'></div>\");\n",
       "    if (!fig.cell_info) {\n",
       "        console.error(\"Failed to find cell for figure\", id, fig);\n",
       "        return;\n",
       "    }\n",
       "\n",
       "    var output_index = fig.cell_info[2]\n",
       "    var cell = fig.cell_info[0];\n",
       "\n",
       "};\n",
       "\n",
       "mpl.figure.prototype.handle_close = function(fig, msg) {\n",
       "    var width = fig.canvas.width/mpl.ratio\n",
       "    fig.root.unbind('remove')\n",
       "\n",
       "    // Update the output cell to use the data from the current canvas.\n",
       "    fig.push_to_output();\n",
       "    var dataURL = fig.canvas.toDataURL();\n",
       "    // Re-enable the keyboard manager in IPython - without this line, in FF,\n",
       "    // the notebook keyboard shortcuts fail.\n",
       "    IPython.keyboard_manager.enable()\n",
       "    $(fig.parent_element).html('<img src=\"' + dataURL + '\" width=\"' + width + '\">');\n",
       "    fig.close_ws(fig, msg);\n",
       "}\n",
       "\n",
       "mpl.figure.prototype.close_ws = function(fig, msg){\n",
       "    fig.send_message('closing', msg);\n",
       "    // fig.ws.close()\n",
       "}\n",
       "\n",
       "mpl.figure.prototype.push_to_output = function(remove_interactive) {\n",
       "    // Turn the data on the canvas into data in the output cell.\n",
       "    var width = this.canvas.width/mpl.ratio\n",
       "    var dataURL = this.canvas.toDataURL();\n",
       "    this.cell_info[1]['text/html'] = '<img src=\"' + dataURL + '\" width=\"' + width + '\">';\n",
       "}\n",
       "\n",
       "mpl.figure.prototype.updated_canvas_event = function() {\n",
       "    // Tell IPython that the notebook contents must change.\n",
       "    IPython.notebook.set_dirty(true);\n",
       "    this.send_message(\"ack\", {});\n",
       "    var fig = this;\n",
       "    // Wait a second, then push the new image to the DOM so\n",
       "    // that it is saved nicely (might be nice to debounce this).\n",
       "    setTimeout(function () { fig.push_to_output() }, 1000);\n",
       "}\n",
       "\n",
       "mpl.figure.prototype._init_toolbar = function() {\n",
       "    var fig = this;\n",
       "\n",
       "    var nav_element = $('<div/>')\n",
       "    nav_element.attr('style', 'width: 100%');\n",
       "    this.root.append(nav_element);\n",
       "\n",
       "    // Define a callback function for later on.\n",
       "    function toolbar_event(event) {\n",
       "        return fig.toolbar_button_onclick(event['data']);\n",
       "    }\n",
       "    function toolbar_mouse_event(event) {\n",
       "        return fig.toolbar_button_onmouseover(event['data']);\n",
       "    }\n",
       "\n",
       "    for(var toolbar_ind in mpl.toolbar_items){\n",
       "        var name = mpl.toolbar_items[toolbar_ind][0];\n",
       "        var tooltip = mpl.toolbar_items[toolbar_ind][1];\n",
       "        var image = mpl.toolbar_items[toolbar_ind][2];\n",
       "        var method_name = mpl.toolbar_items[toolbar_ind][3];\n",
       "\n",
       "        if (!name) { continue; };\n",
       "\n",
       "        var button = $('<button class=\"btn btn-default\" href=\"#\" title=\"' + name + '\"><i class=\"fa ' + image + ' fa-lg\"></i></button>');\n",
       "        button.click(method_name, toolbar_event);\n",
       "        button.mouseover(tooltip, toolbar_mouse_event);\n",
       "        nav_element.append(button);\n",
       "    }\n",
       "\n",
       "    // Add the status bar.\n",
       "    var status_bar = $('<span class=\"mpl-message\" style=\"text-align:right; float: right;\"/>');\n",
       "    nav_element.append(status_bar);\n",
       "    this.message = status_bar[0];\n",
       "\n",
       "    // Add the close button to the window.\n",
       "    var buttongrp = $('<div class=\"btn-group inline pull-right\"></div>');\n",
       "    var button = $('<button class=\"btn btn-mini btn-primary\" href=\"#\" title=\"Stop Interaction\"><i class=\"fa fa-power-off icon-remove icon-large\"></i></button>');\n",
       "    button.click(function (evt) { fig.handle_close(fig, {}); } );\n",
       "    button.mouseover('Stop Interaction', toolbar_mouse_event);\n",
       "    buttongrp.append(button);\n",
       "    var titlebar = this.root.find($('.ui-dialog-titlebar'));\n",
       "    titlebar.prepend(buttongrp);\n",
       "}\n",
       "\n",
       "mpl.figure.prototype._root_extra_style = function(el){\n",
       "    var fig = this\n",
       "    el.on(\"remove\", function(){\n",
       "\tfig.close_ws(fig, {});\n",
       "    });\n",
       "}\n",
       "\n",
       "mpl.figure.prototype._canvas_extra_style = function(el){\n",
       "    // this is important to make the div 'focusable\n",
       "    el.attr('tabindex', 0)\n",
       "    // reach out to IPython and tell the keyboard manager to turn it's self\n",
       "    // off when our div gets focus\n",
       "\n",
       "    // location in version 3\n",
       "    if (IPython.notebook.keyboard_manager) {\n",
       "        IPython.notebook.keyboard_manager.register_events(el);\n",
       "    }\n",
       "    else {\n",
       "        // location in version 2\n",
       "        IPython.keyboard_manager.register_events(el);\n",
       "    }\n",
       "\n",
       "}\n",
       "\n",
       "mpl.figure.prototype._key_event_extra = function(event, name) {\n",
       "    var manager = IPython.notebook.keyboard_manager;\n",
       "    if (!manager)\n",
       "        manager = IPython.keyboard_manager;\n",
       "\n",
       "    // Check for shift+enter\n",
       "    if (event.shiftKey && event.which == 13) {\n",
       "        this.canvas_div.blur();\n",
       "        event.shiftKey = false;\n",
       "        // Send a \"J\" for go to next cell\n",
       "        event.which = 74;\n",
       "        event.keyCode = 74;\n",
       "        manager.command_mode();\n",
       "        manager.handle_keydown(event);\n",
       "    }\n",
       "}\n",
       "\n",
       "mpl.figure.prototype.handle_save = function(fig, msg) {\n",
       "    fig.ondownload(fig, null);\n",
       "}\n",
       "\n",
       "\n",
       "mpl.find_output_cell = function(html_output) {\n",
       "    // Return the cell and output element which can be found *uniquely* in the notebook.\n",
       "    // Note - this is a bit hacky, but it is done because the \"notebook_saving.Notebook\"\n",
       "    // IPython event is triggered only after the cells have been serialised, which for\n",
       "    // our purposes (turning an active figure into a static one), is too late.\n",
       "    var cells = IPython.notebook.get_cells();\n",
       "    var ncells = cells.length;\n",
       "    for (var i=0; i<ncells; i++) {\n",
       "        var cell = cells[i];\n",
       "        if (cell.cell_type === 'code'){\n",
       "            for (var j=0; j<cell.output_area.outputs.length; j++) {\n",
       "                var data = cell.output_area.outputs[j];\n",
       "                if (data.data) {\n",
       "                    // IPython >= 3 moved mimebundle to data attribute of output\n",
       "                    data = data.data;\n",
       "                }\n",
       "                if (data['text/html'] == html_output) {\n",
       "                    return [cell, data, j];\n",
       "                }\n",
       "            }\n",
       "        }\n",
       "    }\n",
       "}\n",
       "\n",
       "// Register the function which deals with the matplotlib target/channel.\n",
       "// The kernel may be null if the page has been refreshed.\n",
       "if (IPython.notebook.kernel != null) {\n",
       "    IPython.notebook.kernel.comm_manager.register_target('matplotlib', mpl.mpl_figure_comm);\n",
       "}\n"
      ],
      "text/plain": [
       "<IPython.core.display.Javascript object>"
      ]
     },
     "metadata": {},
     "output_type": "display_data"
    },
    {
     "data": {
      "text/html": [
       "<img src=\"data:image/png;base64,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\" width=\"680\">"
      ],
      "text/plain": [
       "<IPython.core.display.HTML object>"
      ]
     },
     "metadata": {},
     "output_type": "display_data"
    }
   ],
   "source": [
    "_ = proj.NMR_1D.plot()"
   ]
  },
  {
   "cell_type": "markdown",
   "metadata": {},
   "source": [
    "However this work only if the name contains no space, dot, comma, colon, etc. The only special character allowed is the underscore `_`.  If the name is not respecting this, then it is possible to use the following syntax (as a project behave as a dictionary). For example:"
   ]
  },
  {
   "cell_type": "code",
   "execution_count": 14,
   "metadata": {},
   "outputs": [
    {
     "data": {
      "text/plain": [
       "array([-1037.267-1077.841j, -2200.383-2283.510j, ...,    0.062-0.234j,   -0.053+0.101j])"
      ]
     },
     "execution_count": 14,
     "metadata": {},
     "output_type": "execute_result"
    }
   ],
   "source": [
    "proj['NMR_1D'].data"
   ]
  },
  {
   "cell_type": "markdown",
   "metadata": {},
   "source": [
    "## Saving and loading projects"
   ]
  },
  {
   "cell_type": "code",
   "execution_count": 15,
   "metadata": {},
   "outputs": [
    {
     "data": {
      "text/html": [
       "Project&nbsp;myNMRdata:<br/>\n",
       "&nbsp;&nbsp;&nbsp;&nbsp;⤷&nbsp;NMR_1D&nbsp;(dataset)<br/>\n",
       "&nbsp;&nbsp;&nbsp;&nbsp;⤷&nbsp;NMR_2D&nbsp;(dataset)<br/>\n"
      ],
      "text/plain": [
       "<spectrochempy.core.projects.project.Project at 0x1045790f0>"
      ]
     },
     "execution_count": 15,
     "metadata": {},
     "output_type": "execute_result"
    }
   ],
   "source": [
    "proj"
   ]
  },
  {
   "cell_type": "markdown",
   "metadata": {},
   "source": [
    "#### Saving"
   ]
  },
  {
   "cell_type": "code",
   "execution_count": 16,
   "metadata": {},
   "outputs": [],
   "source": [
    "proj.save('NMR')"
   ]
  },
  {
   "cell_type": "markdown",
   "metadata": {},
   "source": [
    "#### Loading"
   ]
  },
  {
   "cell_type": "code",
   "execution_count": 17,
   "metadata": {},
   "outputs": [],
   "source": [
    "proj2 = Project.load('NMR')"
   ]
  },
  {
   "cell_type": "code",
   "execution_count": 18,
   "metadata": {},
   "outputs": [
    {
     "data": {
      "text/html": [
       "Project&nbsp;myNMRdata:<br/>\n",
       "&nbsp;&nbsp;&nbsp;&nbsp;⤷&nbsp;NMR_1D&nbsp;(dataset)<br/>\n",
       "&nbsp;&nbsp;&nbsp;&nbsp;⤷&nbsp;NMR_2D&nbsp;(dataset)<br/>\n"
      ],
      "text/plain": [
       "<spectrochempy.core.projects.project.Project at 0x1c1dbe9358>"
      ]
     },
     "execution_count": 18,
     "metadata": {},
     "output_type": "execute_result"
    }
   ],
   "source": [
    "proj2"
   ]
  },
  {
   "cell_type": "code",
   "execution_count": 19,
   "metadata": {},
   "outputs": [
    {
     "data": {
      "text/html": [
       "<table style='width:100%'>\n",
       "<tr style='border: 1px solid lightgray;'><td style='padding-right:5px; width:100px'><strong>Name/Id</strong></td><td style='text-align:left'>NMR_2D</td><tr>\n",
       "<tr style='border: 1px solid lightgray;'><td style='padding-right:5px; width:100px'><strong>Author</strong></td><td style='text-align:left'>spectrocat@cf-macbookpro.local</td><tr>\n",
       "<tr style='border: 1px solid lightgray;'><td style='padding-right:5px; width:100px'><strong>Created</strong></td><td style='text-align:left'>2019-01-11 18:02:20.354774</td><tr>\n",
       "<tr style='border: 1px solid lightgray;'><td style='padding-right:5px; width:100px'><strong>Last Modified</strong></td><td style='text-align:left'>2019-01-11 18:02:22.631023</td><tr>\n",
       "<tr style='border: 1px solid lightgray;'><td style='padding-right:5px; width:100px'><strong>Description</strong></td><td style='text-align:left'></td><tr>\n",
       "<tr style='border: 1px solid lightgray;'><td style='padding-right:5px; width:100px'><strong>data</strong></td><td style='text-align:left'><table style='width:100%'>\n",
       "<tr style='border: 1px solid lightgray;'><td style='padding-right:5px; width:100px'><strong>Title</strong></td><td style='text-align:left'>intensity</td><tr>\n",
       "<tr style='border: 1px solid lightgray;'><td style='padding-right:5px; width:100px'><strong>Shape</strong></td><td style='text-align:left'>96(complex) x 948(complex)</td><tr>\n",
       "<tr style='border: 1px solid lightgray;'><td style='padding-right:5px; width:100px'><strong>Values</strong></td><td style='text-align:left'>RR[[   0.062    0.147 ...    0.046    0.031]<br/>   [  -0.060   -0.088 ...   -0.051   -0.060]<br/>   ...<br/>   [   0.000    0.000 ...    0.000    0.000]<br/>   [   0.000    0.000 ...    0.000    0.000]]<br/>RI[[   0.224    0.198 ...    0.166   -0.033]<br/>   [   0.007   -0.028 ...    0.029    0.067]<br/>   ...<br/>   [  -0.000   -0.000 ...   -0.000   -0.000]<br/>   [  -0.000   -0.000 ...   -0.000   -0.000]]<br/>IR[[  -0.003   -0.002 ...    0.021   -0.081]<br/>   [  -0.057    0.117 ...    0.058   -0.003]<br/>   ...<br/>   [   0.000    0.000 ...    0.000    0.000]<br/>   [   0.000    0.000 ...    0.000    0.000]]<br/>II[[   0.162    0.056 ...   -0.027    0.011]<br/>   [  -0.134    0.007 ...    0.082   -0.005]<br/>   ...<br/>   [  -0.000   -0.000 ...   -0.000   -0.000]<br/>   [  -0.000   -0.000 ...   -0.000   -0.000]]<br/</td><tr>\n",
       "</table>\n",
       "</td><tr>\n",
       "<tr style='border: 1px solid lightgray;'><td style='padding-right:5px; width:100px'><strong>y-coordinate</strong></td><td style='text-align:left'><table style='width:100%'>\n",
       "<tr style='border: 1px solid lightgray;'><td style='padding-right:5px; width:100px'><strong>Title</strong></td><td style='text-align:left'>Acquisition time</td><tr>\n",
       "<tr style='border: 1px solid lightgray;'><td style='padding-right:5px; width:100px'><strong>Data</strong></td><td style='text-align:left'>[   0.000   74.000 ... 6956.000 7030.000] us<br/</td><tr>\n",
       "</table>\n",
       "</td><tr>\n",
       "<tr style='border: 1px solid lightgray;'><td style='padding-right:5px; width:100px'><strong>x-coordinate</strong></td><td style='text-align:left'><table style='width:100%'>\n",
       "<tr style='border: 1px solid lightgray;'><td style='padding-right:5px; width:100px'><strong>Title</strong></td><td style='text-align:left'>Acquisition time</td><tr>\n",
       "<tr style='border: 1px solid lightgray;'><td style='padding-right:5px; width:100px'><strong>Data</strong></td><td style='text-align:left'>[   0.000   48.000 ... 45408.000 45456.000] us<br/</td><tr>\n",
       "</table>\n",
       "</td><tr>\n",
       "</table><br/>\n"
      ],
      "text/plain": [
       "NDDataset: [[(   0.062+0.224j,   -0.003+0.162j), (   0.147+0.198j,   -0.002+0.056j), ..., (   0.046+0.166j,    0.021-0.027j),\n",
       "             (   0.031-0.033j,   -0.081+0.011j)],\n",
       "            [(  -0.060+0.007j,   -0.057-0.134j), (  -0.088-0.028j,    0.117+0.007j), ..., (  -0.051+0.029j,    0.058+0.082j),\n",
       "             (  -0.060+0.067j,   -0.003-0.005j)],\n",
       "            ...,\n",
       "            [(   0.000-0.000j,    0.000-0.000j), (   0.000-0.000j,    0.000-0.000j), ..., (   0.000-0.000j,    0.000-0.000j),\n",
       "             (   0.000-0.000j,    0.000-0.000j)],\n",
       "            [(   0.000-0.000j,    0.000-0.000j), (   0.000-0.000j,    0.000-0.000j), ..., (   0.000-0.000j,    0.000-0.000j),\n",
       "             (   0.000-0.000j,    0.000-0.000j)]] unitless"
      ]
     },
     "execution_count": 19,
     "metadata": {},
     "output_type": "execute_result"
    }
   ],
   "source": [
    "proj2.NMR_2D"
   ]
  }
 ],
 "metadata": {
  "kernelspec": {
   "display_name": "Python 3",
   "language": "python",
   "name": "python3"
  },
  "language_info": {
   "codemirror_mode": {
    "name": "ipython",
    "version": 3
   },
   "file_extension": ".py",
   "mimetype": "text/x-python",
   "name": "python",
   "nbconvert_exporter": "python",
   "pygments_lexer": "ipython3",
   "version": "3.7.1"
  },
  "latex_envs": {
   "LaTeX_envs_menu_present": true,
   "autocomplete": true,
   "bibliofile": "biblio.bib",
   "cite_by": "apalike",
   "current_citInitial": 1,
   "eqLabelWithNumbers": true,
   "eqNumInitial": 1,
   "hotkeys": {
    "equation": "Ctrl-E",
    "itemize": "Ctrl-I"
   },
   "labels_anchors": false,
   "latex_user_defs": false,
   "report_style_numbering": false,
   "user_envs_cfg": false
  },
  "toc": {
   "nav_menu": {},
   "number_sections": true,
   "sideBar": true,
   "skip_h1_title": true,
   "toc_cell": false,
   "toc_position": {},
   "toc_section_display": "block",
   "toc_window_display": false
  },
  "varInspector": {
   "cols": {
    "lenName": 16,
    "lenType": 16,
    "lenVar": 40
   },
   "kernels_config": {
    "python": {
     "delete_cmd_postfix": "",
     "delete_cmd_prefix": "del ",
     "library": "var_list.py",
     "varRefreshCmd": "print(var_dic_list())"
    },
    "r": {
     "delete_cmd_postfix": ") ",
     "delete_cmd_prefix": "rm(",
     "library": "var_list.r",
     "varRefreshCmd": "cat(var_dic_list()) "
    }
   },
   "types_to_exclude": [
    "module",
    "function",
    "builtin_function_or_method",
    "instance",
    "_Feature"
   ],
   "window_display": false
  },
  "widgets": {
   "state": {},
   "version": "1.1.1"
  }
 },
 "nbformat": 4,
 "nbformat_minor": 2
}
