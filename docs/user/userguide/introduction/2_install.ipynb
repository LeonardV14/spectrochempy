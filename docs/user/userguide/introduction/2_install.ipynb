{
 "cells": [
  {
   "cell_type": "markdown",
   "metadata": {},
   "source": [
    "# Installation Guide"
   ]
  },
  {
   "cell_type": "markdown",
   "metadata": {},
   "source": [
    "## Requirements"
   ]
  },
  {
   "cell_type": "markdown",
   "metadata": {},
   "source": [
    "|scpy| requires a working python installation.\n",
    "\n",
    "* `Python <http://www.python.org/>`_\n",
    "\n",
    ".. warning::\n",
    "\n",
    "\tOnly the python version 3.6 and 3.7 have been tested so far.\n",
    "\n",
    "\n",
    "The following libraries are also required such as :\n",
    "\n",
    "* `Numpy <http://numpy.scipy.org>`_\n",
    "\n",
    "* `Scipy <http://www.scipy.org/>`_\n",
    "\n",
    "* `Matplotlib <http://matplotlib.sourceforge.net/index.html>`_\n",
    "\n",
    "\n",
    "Follow the instructions to install these packages on those sites, or, far easier,\n",
    "install them as packages from your operating system\n",
    "(e.g. apt-get or the synaptic GUI on Ubuntu, `Macports <http://www.macports.org/>`_ on OS X, etc.).\n",
    "\n",
    "Regarding the installation of all these above packages, we highy recommend to install **anaconda** or **canopy** python framework (a much straitforward solution!)\n",
    "which is available for most platforms.\n",
    "\n",
    "We prefer the **anaconda distribution**, so tha the rest of this guide will mainly\n",
    "use commands for this distribution.\n",
    "\n",
    "* install the **Anaconda Scientific Python Distribution** : Go to `http://continuum.io/downloads <http://continuum.io/downloads>`_ and follow the instructions for your platform\n",
    "\n",
    "  If you register as academic member of the university you get interesting\n",
    "  add-ons.\n",
    "\n",
    "  Finally, see :ref:`conda` for installing the |scpy| conda package.\n",
    "\n",
    "If you prefer **Canopy** here it is:\n",
    "\n",
    "* install the **Canopy Enthought Distribution** :Go to `https://store.enthought.com/downloads/ <https://store.enthought.com/downloads/>`_ (it's a commercial distribution, but you have a free version Canopy Express.\n",
    "\n",
    "  If you register with your academic email, you can get the full academic version).\n",
    "\n",
    "  Finally, see :ref:`pypi` for installing |scpy| ."
   ]
  },
  {
   "cell_type": "markdown",
   "metadata": {},
   "source": [
    "## Installation"
   ]
  },
  {
   "cell_type": "markdown",
   "metadata": {},
   "source": [
    "### Where to Get SpectroChemPy?"
   ]
  },
  {
   "cell_type": "markdown",
   "metadata": {},
   "source": [
    "To get a working installation of |scpy| , on any platform (windows, mac OS X, Linux ... ),\n",
    "several solutions are (*or will be soon*) available.\n",
    "\n",
    "* :ref:`pypi`\n",
    "\n",
    "* :ref:`conda`\n",
    "\n",
    "* :ref:`dev`\n",
    "\n",
    "* :ref:`clone`"
   ]
  },
  {
   "cell_type": "markdown",
   "metadata": {},
   "source": [
    "#### Standard installation using Conda"
   ]
  },
  {
   "cell_type": "markdown",
   "metadata": {},
   "source": [
    "Very simple, use the following command in a terminal:\n",
    "\n",
    ".. sourcecode:: bash\n",
    "\n",
    "   $ conda config –add channels conda-forge\n",
    "   $ conda config –add channels fernandezc  #TODO: create a channel spectrocat\n",
    "\n",
    "This will add the necessary channels where to find the various libraries used by |scpy| .\n",
    "\n",
    "Next we it is recommended to use a dedicated environment for |scpy|, called\n",
    "for example `scp37` (using python 3.7)\n",
    "\n",
    ".. sourcecode:: bash\n",
    "\n",
    "   $ conda create -n scp37 python=3.7\n",
    "   $ source activate scp37\n",
    "\n",
    "Next one can install |scpy|:\n",
    "\n",
    ".. sourcecode:: bash\n",
    "\n",
    "   $ conda install spectrochempy\n",
    "\n",
    ".. note::\n",
    "\n",
    "   the conda installer doesn't exist right now. It will be present for version\n",
    "   1.b1.\n",
    "\n",
    "   For now, use the method described for developper, here: :ref:`develguide`"
   ]
  },
  {
   "cell_type": "markdown",
   "metadata": {},
   "source": [
    "#### Standard Installation from PyPi using pip"
   ]
  },
  {
   "cell_type": "markdown",
   "metadata": {},
   "source": [
    "Again very simple, use the following command in a terminal:\n",
    "\n",
    ".. sourcecode:: bash\n",
    "\n",
    "   $ pip install spectrochempy\n",
    "\n",
    "or to update a previous installation with the latest stable release:\n",
    "\n",
    ".. sourcecode:: bash\n",
    "\n",
    "   $ pip install -U spectrochempy\n",
    "\n",
    ".. note::\n",
    "\n",
    "   the Pypi installer doesn't exist right now. It will be present for version\n",
    "   1.b1."
   ]
  },
  {
   "cell_type": "markdown",
   "metadata": {},
   "source": [
    "#### Installation from zip archives"
   ]
  },
  {
   "cell_type": "markdown",
   "metadata": {},
   "source": [
    "Downloads of zip source archives working for all platforms are available, on Bitbucket\n",
    "\n",
    ".. include:: download.rst\n",
    "\n",
    "or on PyPi:\n",
    "\n",
    "* `Download tar.gz archives from PyPi <http://pypi.python.org/pypi/spectrochempy>`_\n",
    "\n",
    "Ungzip and untar the source package and execute:\n",
    "\n",
    ".. sourcecode:: bash\n",
    "\n",
    "\t$ cd <directory>    # replace <directory> by the actual download folder\n",
    "\t$ pip install .\n",
    "\n",
    "or better :\n",
    "\n",
    ".. sourcecode:: bash\n",
    "\n",
    "\t$ pip install -e .\n",
    "\n",
    "to install it in the developper mode.\n",
    "\n",
    ".. tip::\n",
    "\n",
    "\tOn most UNIX-like systems, you’ll probably need to run these commands as\n",
    "\troot or using sudo.\n",
    "\n",
    ".. _clone:"
   ]
  },
  {
   "cell_type": "markdown",
   "metadata": {},
   "source": [
    "#### Clone or Fork of the Bitbucket Repository"
   ]
  },
  {
   "cell_type": "markdown",
   "metadata": {},
   "source": [
    "Alternatively, you can make a clone/fork of the github sources at:\n",
    "\n",
    "* `https://bitbucket.org/spectrocat/spectrochempy  <https://bitbucket.org/spectrocat/spectrochempy>`_\n",
    "\n",
    "This is the recommended solution for developpers \n",
    "and those who would like to contribute (see :ref:`develguide`)"
   ]
  },
  {
   "cell_type": "markdown",
   "metadata": {},
   "source": [
    "### Check the Installation"
   ]
  },
  {
   "cell_type": "markdown",
   "metadata": {},
   "source": [
    "Run a IPython session by issuing in the terminal the following command:\n",
    "\n",
    ".. sourcecode:: bash\n",
    "\n",
    "\t$ ipython\n",
    "\n",
    "Then execute two commands as following:\n",
    "\n",
    ".. sourcecode:: ipython\n",
    "\n",
    "\tIn [1]: from spectrochempy import *\n",
    "\n",
    "\tIn [2]: NDDataset()\n",
    "\n",
    "If this goes well, the |scpy| application is likely functional."
   ]
  },
  {
   "cell_type": "markdown",
   "metadata": {},
   "source": [
    "## What's next?"
   ]
  },
  {
   "cell_type": "markdown",
   "metadata": {},
   "source": [
    "The recommended next step is to proceed to the :ref:`userguide`\n",
    "\n",
    "\n",
    ".. _`easy_install`: http://pypi.python.org/pypi/setuptools\n",
    ".. _`pip`: http://pypi.python.org/pypi/pip"
   ]
  },
  {
   "cell_type": "markdown",
   "metadata": {},
   "source": [
    "## Additional notes"
   ]
  },
  {
   "cell_type": "markdown",
   "metadata": {},
   "source": [
    "### Install ipyparallel in Jupyter notebook"
   ]
  },
  {
   "cell_type": "markdown",
   "metadata": {},
   "source": [
    "Before using parallel computing in the notebbok, one have to install the module\n",
    "from pypi or conda\n",
    "\n",
    ".. sourcecode:: bash\n",
    "\n",
    "\t$ conda install ipyparallel\n",
    "\n",
    "To enable the IPython Clusters tab in Jupyter Notebook:\n",
    "\n",
    ".. sourcecode:: bash\n",
    "\n",
    "\t$ ipcluster nbextension enable\n",
    "\t$ ipcluster start"
   ]
  }
 ],
 "metadata": {
  "jupytext": {
   "main_language": "python",
   "text_representation": {
    "extension": ".py",
    "format_name": "percent",
    "format_version": "1.2",
    "jupytext_version": "0.8.6"
   }
  },
  "kernelspec": {
   "display_name": "Python 3",
   "language": "python",
   "name": "python3"
  },
  "language_info": {
   "codemirror_mode": {
    "name": "ipython",
    "version": 3
   },
   "file_extension": ".py",
   "mimetype": "text/x-python",
   "name": "python",
   "nbconvert_exporter": "python",
   "pygments_lexer": "ipython3",
   "version": "3.7.1"
  }
 },
 "nbformat": 4,
 "nbformat_minor": 2
}
