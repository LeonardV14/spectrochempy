{
 "cells": [
  {
   "cell_type": "markdown",
   "metadata": {},
   "source": [
    "# Getting Started\n",
    "\n",
    "Currently **SpectroChemPy** can be used as a library for python script. \n",
    "Indeed, at this time, there is no particular graphical user interface (GUI) available. This may change in the future\n",
    "but for now we prefer to recommend the use of `Jupyter Notebook` document (see https://jupyter.org/).\n",
    "\n",
    "## Using `Jupyter Notebook`\n",
    "\n",
    "Assuming `Jupyter` is installed (*i.e.*, you have followed the [Spectrochempy installation procedure](../../../gettingstarted/install.rst)), go to your favorite user document folder (*e.g.,* `$HOME/workspace/) or any other folder you want to use to store your development).\n",
    "\n",
    "    $ cd ~/workspace\n",
    "\n",
    "From this location, type the following command:\n",
    "\n",
    "    $ jupyter notebook\n",
    "\n",
    "Your default Web explorer is now launched.\n",
    "\n",
    "![launched](../images/jupyter_home.png)\n",
    "\n",
    "Here you can create a new notebook and follow our [UserGuide](../index.rst) or [Tutorials](../../tutorials/index.rst)."
   ]
  },
  {
   "cell_type": "markdown",
   "metadata": {},
   "source": [
    "## Using `Jupyter Lab`\n",
    "\n",
    "Using the new application `jupyter lab` is very similar to the `jupyter notebook`. \n",
    "\n",
    "We recommend to use this application as it is quite intuitive to use, and advantageously replace the traditional `jupyter notebook` application.\n",
    "\n",
    "To get more information on its usage, one can go to : \n",
    "[https://jupyterlab.readthedocs.io](https://jupyterlab.readthedocs.io/en/stable/getting_started/overview.html)\n",
    "\n",
    "From you worspace folder or any other location on your computer, open a terminal and issue commands as follows:\n",
    "\n",
    "    $ jupyter lab\n",
    "\n",
    "The home window should looks similar to this:\n",
    "\n",
    "![launch](../images/jupyter_lab_home.png)\n",
    "\n",
    "From there, it is quite easy to create new notebooks or to navigate to already existing ones.\n",
    "\n",
    "Then follow our [UserGuide](../index.rst) or [Tutorials](../../tutorials/index.rst) to get strated with **SpectroChemPy**"
   ]
  }
 ],
 "metadata": {
  "jupytext": {
   "formats": "ipynb,py:percent",
   "text_representation": {
    "extension": ".py",
    "format_name": "percent",
    "format_version": "1.2",
    "jupytext_version": "1.1.6"
   }
  },
  "kernelspec": {
   "display_name": "Python 3",
   "language": "python",
   "name": "python3"
  },
  "language_info": {
   "codemirror_mode": {
    "name": "ipython",
    "version": 3
   },
   "file_extension": ".py",
   "mimetype": "text/x-python",
   "name": "python",
   "nbconvert_exporter": "python",
   "pygments_lexer": "ipython3",
   "version": "3.6.7"
  }
 },
 "nbformat": 4,
 "nbformat_minor": 2
}
