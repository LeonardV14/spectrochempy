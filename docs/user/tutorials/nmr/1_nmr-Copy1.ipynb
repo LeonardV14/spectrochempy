{
 "cells": [
  {
   "cell_type": "markdown",
   "metadata": {
    "toc-hr-collapsed": false
   },
   "source": [
    "# FFT"
   ]
  },
  {
   "cell_type": "code",
   "execution_count": 1,
   "metadata": {},
   "outputs": [
    {
     "ename": "ModuleNotFoundError",
     "evalue": "No module named 'spectrochempy'",
     "output_type": "error",
     "traceback": [
      "\u001b[0;31m---------------------------------------------------------------------------\u001b[0m",
      "\u001b[0;31mModuleNotFoundError\u001b[0m                       Traceback (most recent call last)",
      "\u001b[0;32m<ipython-input-1-eda726baf6bc>\u001b[0m in \u001b[0;36m<module>\u001b[0;34m\u001b[0m\n\u001b[0;32m----> 1\u001b[0;31m \u001b[0;32mfrom\u001b[0m \u001b[0mspectrochempy\u001b[0m \u001b[0;32mimport\u001b[0m \u001b[0;34m*\u001b[0m\u001b[0;34m\u001b[0m\u001b[0;34m\u001b[0m\u001b[0m\n\u001b[0m",
      "\u001b[0;31mModuleNotFoundError\u001b[0m: No module named 'spectrochempy'"
     ]
    }
   ],
   "source": [
    "from spectrochempy import *"
   ]
  },
  {
   "cell_type": "code",
   "execution_count": null,
   "metadata": {},
   "outputs": [],
   "source": [
    "def _ps(data, p0=0.0, p1=0.0):\n",
    "    \"\"\"\n",
    "    Linear phase correction\n",
    "\n",
    "    Parameters\n",
    "    ----------\n",
    "    data : ndarray\n",
    "        Array of NMR data.\n",
    "    p0 : float\n",
    "        Zero order phase in degree\n",
    "    p1 : float\n",
    "        First order phase in degree\n",
    "\n",
    "    Returns\n",
    "    -------\n",
    "    out : ndarray\n",
    "        Phased NMR data.\n",
    "\n",
    "    \"\"\"\n",
    "    p0r = p0.copy().to('rad').m\n",
    "    p1r = p1.copy().to('rad').m\n",
    "    size = data.shape[-1]\n",
    "    out = data * np.exp(1.0j * (p0r + p1r * np.arange(size)/ size)).astype(data.dtype)\n",
    "    \n",
    "    return out"
   ]
  },
  {
   "cell_type": "markdown",
   "metadata": {},
   "source": [
    "## Import data\n",
    "\n",
    "Here we import two dataset, one is 1D and the other is 2D\n",
    "\n",
    "Because , we will sometimes need to recall the original dataset, we create two getting functions"
   ]
  },
  {
   "cell_type": "code",
   "execution_count": null,
   "metadata": {
    "lines_to_next_cell": 1
   },
   "outputs": [],
   "source": [
    "# 1D dataset getting function\n",
    "datadir = general_preferences.datadir\n",
    "def get_dataset1D():\n",
    "    dataset1D = NDDataset()\n",
    "    path = os.path.join(datadir,'nmrdata','bruker', 'tests', 'nmr','bruker_1d')\n",
    "    dataset1D.read_bruker_nmr(path, expno=1, remove_digital_filter=True)\n",
    "    return dataset1D\n",
    "\n",
    "# 2D dataset getting function\n",
    "def get_dataset2D():\n",
    "    dataset2D = NDDataset()\n",
    "    path = os.path.join(datadir,'nmrdata','bruker', 'tests', 'nmr','bruker_2d')\n",
    "    dataset2D.read_bruker_nmr(path, expno=1, remove_digital_filter=True)\n",
    "    return dataset2D"
   ]
  },
  {
   "cell_type": "code",
   "execution_count": null,
   "metadata": {},
   "outputs": [],
   "source": [
    "dataset1D = get_dataset1D() # restore original\n",
    "LB = 10.*ur.Hz\n",
    "dataset1D.em(lb=LB)\n",
    "transf1 = dataset1D.fft(size=32000)\n",
    "_ = transf1.plot(xlim=[30,-30])"
   ]
  },
  {
   "cell_type": "markdown",
   "metadata": {},
   "source": [
    "by default, the frequency axis unit is in ppm when data originate from NMR. Note that the axis is automatically reversed as it is usual for ppm scale in NMR."
   ]
  },
  {
   "cell_type": "markdown",
   "metadata": {},
   "source": [
    "To get frequency scale, then set `ppm` flag to False"
   ]
  },
  {
   "cell_type": "code",
   "execution_count": null,
   "metadata": {
    "lines_to_next_cell": 2
   },
   "outputs": [],
   "source": [
    "from ipywidgets import interactive, fixed, FloatSlider\n",
    "from IPython.display import display\n",
    "#import matplotlib.pyplot as plt\n",
    "\n",
    "def interact_pk(dataset, dim=-1, **kwargs):\n",
    "    \n",
    "    verbose = kwargs.get('verbose', False)\n",
    "    if verbose:\n",
    "        print_(' ')\n",
    "        print_('INTERACTIVE PHASING MODE')\n",
    "    \n",
    "    new = dataset.copy()\n",
    "    \n",
    "    # On which axis do we want to phase? (get axis from arguments)\n",
    "    # The last dimension is always the dimension on which we apply the phases.\n",
    "    # If needed, we swap the dimensions to be sure to be in this situation\n",
    "    axis, dim = new.get_axis(dim, negative_axis=True)\n",
    "    swaped = False\n",
    "    if axis != -1:\n",
    "        new.swapaxes(axis, -1, inplace=True)  # must be done in  place\n",
    "        swaped = True\n",
    "    \n",
    "    # select the last coordinates and check the unit validity\n",
    "    lastcoord = new.coords[dim]\n",
    "    if (lastcoord.units.dimensionality != '1/[time]' and lastcoord.units != 'ppm'):\n",
    "        error_('Phasing apply only to dimensions with [frequency] dimensionality or with ppm units\\n'\n",
    "               'Phasing processing was thus cancelled')\n",
    "        return new\n",
    "    \n",
    "    # get initial absolute phase and pivot\n",
    "    # get the initial phase setting\n",
    "    if verbose:\n",
    "        print_(f'Current phases : {new.meta.phc0[-1]}, {new.meta.phc1[-1]}')\n",
    "    \n",
    "    phc0 = new.meta.phc0[-1]\n",
    "    phc1 = new.meta.phc1[-1]\n",
    "    pivot = float(abs(new).max().coords[-1].data) \n",
    "    ppivot = lastcoord.loc2index(pivot)\n",
    "    \n",
    "    ax = new.plot(xlim=[50,-50]).axes\n",
    "    l = ax.lines[0]\n",
    "    p = ax.axvline(pivot, color='r', alpha=0.5)\n",
    "    \n",
    "    def _phasing( ph0, ph1, pivot):\n",
    "        \n",
    "        rphc0 = (ph0 - phc0) * ur.deg\n",
    "        rphc1 = (ph1 - phc1) * ur.deg\n",
    "        ppivot = lastcoord.loc2index(pivot)\n",
    "        \n",
    "        data = _ps(new.data, rphc0, rphc1)\n",
    "        \n",
    "        l.set_ydata(data)\n",
    "        p.set_xdata([pivot,pivot])\n",
    "        \n",
    "    w = interactive(_phasing,\n",
    "                 ph0=FloatSlider(min=phc0-45, max=phc0+45, step=0.001,\n",
    "                                 value=phc0, continuous_update=True),\n",
    "                 ph1=FloatSlider(min=phc1-20, max=phc1+20, step=0.001,\n",
    "                                 value=phc1, continuous_update=True),\n",
    "                 pivot=FloatSlider(min=lastcoord[-1].values,\n",
    "                                   max=lastcoord[0].values,\n",
    "                                   value=pivot,\n",
    "                                   continuous_update=True))\n",
    "    \n",
    "    return w\n",
    "    \n",
    "    "
   ]
  },
  {
   "cell_type": "code",
   "execution_count": null,
   "metadata": {},
   "outputs": [],
   "source": [
    "%matplotlib widget"
   ]
  },
  {
   "cell_type": "code",
   "execution_count": null,
   "metadata": {
    "lines_to_next_cell": 2
   },
   "outputs": [],
   "source": [
    "w = interact_pk(transf1)\n",
    "w"
   ]
  },
  {
   "cell_type": "code",
   "execution_count": null,
   "metadata": {},
   "outputs": [],
   "source": [
    "w.children[0].value + phc0"
   ]
  },
  {
   "cell_type": "code",
   "execution_count": null,
   "metadata": {
    "lines_to_next_cell": 2
   },
   "outputs": [],
   "source": [
    "x = transf1.plot()"
   ]
  },
  {
   "cell_type": "code",
   "execution_count": null,
   "metadata": {},
   "outputs": [],
   "source": [
    "x.axes.lines[0].set_ydata(0)"
   ]
  },
  {
   "cell_type": "code",
   "execution_count": null,
   "metadata": {},
   "outputs": [],
   "source": [
    "ax = transf1.plot(xlim=[50,-50]).axes\n",
    "l = ax.lines[0]\n",
    "p = ax.axvline(0.2, color='r', alpha=0.5)"
   ]
  },
  {
   "cell_type": "code",
   "execution_count": null,
   "metadata": {},
   "outputs": [],
   "source": [
    "p.get_xdata()"
   ]
  },
  {
   "cell_type": "code",
   "execution_count": null,
   "metadata": {},
   "outputs": [],
   "source": []
  },
  {
   "cell_type": "code",
   "execution_count": null,
   "metadata": {},
   "outputs": [],
   "source": []
  }
 ],
 "metadata": {
  "jupytext": {
   "encoding": "# -*- coding: utf-8 -*-",
   "formats": "ipynb,py:percent"
  },
  "kernelspec": {
   "display_name": "Python 3",
   "language": "python",
   "name": "python3"
  },
  "language_info": {
   "codemirror_mode": {
    "name": "ipython",
    "version": 3
   },
   "file_extension": ".py",
   "mimetype": "text/x-python",
   "name": "python",
   "nbconvert_exporter": "python",
   "pygments_lexer": "ipython3",
   "version": "3.7.3"
  }
 },
 "nbformat": 4,
 "nbformat_minor": 4
}
