{
 "cells": [
  {
   "cell_type": "code",
   "execution_count": 1,
   "metadata": {
    "lines_to_next_cell": 2
   },
   "outputs": [],
   "source": [
    "import matplotlib.pyplot as plt\n",
    "\n",
    "fig = plt.figure(figsize=(3.6,5), dpi=100, frameon=False)\n",
    "ax = fig.add_subplot(111)\n",
    "agir = plt.imread('agir_setup.png')\n",
    "ax.imshow(agir)\n",
    "ax.axis('off')\n",
    "    \n",
    "fs = 10\n",
    "\n",
    "ax.annotate('Balance', xy=(3200, 1000),  xycoords='data',fontsize=fs,\n",
    "                xytext=(-55, 15), textcoords='offset points',\n",
    "                arrowprops=dict(arrowstyle=\"->\", color='red',\n",
    "                                connectionstyle=\"arc3,rad=.2\"),\n",
    "                bbox=dict(boxstyle=\"round\", fc=\"0.95\"),\n",
    "                )\n",
    "ax.annotate('IR cell reactor', xy=(3000, 4400),  xycoords='data',fontsize=fs,\n",
    "                xytext=(-105, -42), textcoords='offset points',\n",
    "                arrowprops=dict(arrowstyle=\"->\", color='red',\n",
    "                                connectionstyle=\"arc3,rad=-.2\"),\n",
    "                bbox=dict(boxstyle=\"round\", fc=\"0.95\"),\n",
    "                )\n",
    "\n",
    "ax.annotate('Gas flow\\n   in/out', xy=(3000, 3200),  xycoords='data',fontsize=fs,\n",
    "                xytext=(-40, 25), textcoords='offset points',\n",
    "                arrowprops=dict(arrowstyle=\"->\", color='red',\n",
    "                                connectionstyle=\"arc3,rad=-.2\"),\n",
    "                bbox=dict(boxstyle=\"round\", fc=\"0.95\"),\n",
    "                )\n",
    "\n",
    "ax.annotate('Sample\\nholder', xy=(1050, 1000),  xycoords='data',fontsize=fs,\n",
    "                xytext=(20, -25), textcoords='offset points',\n",
    "                arrowprops=dict(arrowstyle=\"->\", color='red',\n",
    "                                connectionstyle=\"arc3,rad=.2\"),\n",
    "                bbox=dict(boxstyle=\"round\", fc=\"0.95\"),\n",
    "                )\n",
    "\n",
    "ax.annotate('Pellet', xy=(1250, 4250),  xycoords='data', fontsize=fs,\n",
    "                xytext=(3, 18), textcoords='offset points',\n",
    "                arrowprops=dict(arrowstyle=\"->\", color='red',\n",
    "                                connectionstyle=\"arc3,rad=-.2\"),\n",
    "                bbox=dict(boxstyle=\"round\", fc=\"0.95\"),\n",
    "                )\n",
    "\n",
    "plt.subplots_adjust(top=1., bottom=0.0, left=0.0, right=1.0)#, wspace=0.5)\n",
    "ax.set_xlim(500,5400)\n",
    "extension = '.jpg'\n",
    "fig.savefig('annotated_fig_agir_setup%s'%extension,figsize=(3.6,5), dpi=100)"
   ]
  },
  {
   "cell_type": "code",
   "execution_count": null,
   "metadata": {},
   "outputs": [],
   "source": []
  }
 ],
 "metadata": {
  "jupytext": {
   "main_language": "python",
   "text_representation": {
    "extension": ".py",
    "format_name": "percent"
   }
  },
  "kernelspec": {
   "display_name": "Python 3",
   "language": "python",
   "name": "python3"
  },
  "language_info": {
   "codemirror_mode": {
    "name": "ipython",
    "version": 3
   },
   "file_extension": ".py",
   "mimetype": "text/x-python",
   "name": "python",
   "nbconvert_exporter": "python",
   "pygments_lexer": "ipython3",
   "version": "3.6.8"
  }
 },
 "nbformat": 4,
 "nbformat_minor": 2
}
