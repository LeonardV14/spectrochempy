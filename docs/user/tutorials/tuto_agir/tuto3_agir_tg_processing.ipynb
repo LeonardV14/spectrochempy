{
 "cells": [
  {
   "cell_type": "markdown",
   "metadata": {},
   "source": [
    "# Processing of the TGA data"
   ]
  },
  {
   "cell_type": "code",
   "execution_count": null,
   "metadata": {},
   "outputs": [],
   "source": [
    "from spectrochempy import *\n",
    "set_loglevel(ERROR)"
   ]
  },
  {
   "cell_type": "markdown",
   "metadata": {},
   "source": [
    "First we read our project "
   ]
  },
  {
   "cell_type": "code",
   "execution_count": null,
   "metadata": {},
   "outputs": [],
   "source": [
    "proj = Project.load('HIZECOKE')\n",
    "proj"
   ]
  },
  {
   "cell_type": "code",
   "execution_count": null,
   "metadata": {},
   "outputs": [],
   "source": [
    "datasets =[]\n",
    "labels = []\n",
    "for p in proj.projects:\n",
    "    datasets.append(p.TGA) \n",
    "    labels.append(p.label)\n",
    "    \n",
    "_ = plot_multiple(datasets=datasets, labels=labels, pen=True, style='sans', \n",
    "                  markevery=1, markersize=3,\n",
    "                  legend='lower right')"
   ]
  },
  {
   "cell_type": "markdown",
   "metadata": {},
   "source": [
    "## Initial corrections of the TG data. \n",
    "\n",
    "We are interested by the gain in weight during the reaction. But, the zero in time is obviously not the same for all three samples. \n",
    "\n",
    "We will now correct this.\n",
    "\n",
    "We fist display an expansion around the zero region"
   ]
  },
  {
   "cell_type": "code",
   "execution_count": null,
   "metadata": {},
   "outputs": [],
   "source": [
    "_ = plot_multiple(datasets=datasets, labels=labels, pen=True, style='sans', \n",
    "                  markevery=1, markersize=3,\n",
    "                  legend='lower right', xlim=(-0.05,0.2), ylim=(-.1, 2.5))"
   ]
  },
  {
   "cell_type": "markdown",
   "metadata": {},
   "source": [
    "Now we correct the time origin for each sample separately, and mask data below 0 in time"
   ]
  },
  {
   "cell_type": "code",
   "execution_count": null,
   "metadata": {},
   "outputs": [],
   "source": [
    "proj.P350.TGA.x -= 0.0577 *ur.hour  # note the use of units as the x data have units!\n",
    "proj.B350.TGA.x += 0.0093 *ur.hour\n",
    "proj.A350.TGA.x -= 0.1253 *ur.hour"
   ]
  },
  {
   "cell_type": "code",
   "execution_count": null,
   "metadata": {},
   "outputs": [],
   "source": [
    "for p in proj.projects:\n",
    "    p.TGA[-0.005:35.0, INPLACE]   # slicing to keep only data for x>0 \n",
    "    # also set the first point to 0,0!\n",
    "    p.TGA.x[0] = 0 * ur.hour\n",
    "    p.TGA[0] = 0 * p.TGA.units\n",
    "    \n",
    "# finally we mask some data that seems not correct\n",
    "#proj.B350.TGA[0.0147] = masked"
   ]
  },
  {
   "cell_type": "code",
   "execution_count": null,
   "metadata": {},
   "outputs": [],
   "source": [
    "_ = plot_multiple(datasets=datasets, labels=labels, pen=True, style='sans', \n",
    "                  markevery=50, markersize=7,\n",
    "                  legend='lower right')"
   ]
  },
  {
   "cell_type": "markdown",
   "metadata": {},
   "source": [
    "As in the preprocessing of IR data, let's store two script for displaying the data and make the intial preprocessing:"
   ]
  },
  {
   "cell_type": "code",
   "execution_count": null,
   "metadata": {},
   "outputs": [],
   "source": [
    "%%addscript -p proj -o preprocessTG \n",
    "\n",
    "proj.P350.TGA.x -= 0.0577 *ur.hour  # note the use of units as the x data have units!\n",
    "proj.B350.TGA.x += 0.0093 *ur.hour\n",
    "proj.A350.TGA.x -= 0.1253 *ur.hour\n",
    "for p in proj.projects:\n",
    "    p.TGA[-0.005:35.0, INPLACE]   # slicing to keep only data for x>0 \n",
    "    # also set the first point to 0,0!\n",
    "    p.TGA.x[0] = 0 * ur.hour\n",
    "    p.TGA[0] = 0 * p.TGA.units"
   ]
  },
  {
   "cell_type": "code",
   "execution_count": null,
   "metadata": {},
   "outputs": [],
   "source": [
    "proj.save('HIZECOKE', overwrite_data=False)"
   ]
  }
 ],
 "metadata": {
  "jupytext": {
   "formats": "ipynb,py:percent",
   "text_representation": {
    "extension": ".py",
    "format_name": "percent",
    "format_version": "1.2",
    "jupytext_version": "1.0.5"
   }
  },
  "kernelspec": {
   "display_name": "Python 3",
   "language": "python",
   "name": "python3"
  },
  "language_info": {
   "codemirror_mode": {
    "name": "ipython",
    "version": 3
   },
   "file_extension": ".py",
   "mimetype": "text/x-python",
   "name": "python",
   "nbconvert_exporter": "python",
   "pygments_lexer": "ipython3",
   "version": "3.6.7"
  }
 },
 "nbformat": 4,
 "nbformat_minor": 2
}
