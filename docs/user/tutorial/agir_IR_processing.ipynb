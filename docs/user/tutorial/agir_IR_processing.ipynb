{
 "cells": [
  {
   "cell_type": "markdown",
   "metadata": {
    "nbpresent": {
     "id": "00240045-c477-45dd-94f4-037a0fbd5000"
    },
    "slideshow": {
     "slide_type": "slide"
    }
   },
   "source": [
    "# Processing the IR dataset"
   ]
  },
  {
   "cell_type": "code",
   "execution_count": 1,
   "metadata": {
    "ExecuteTime": {
     "end_time": "2017-12-10T10:52:04.509477Z",
     "start_time": "2017-12-10T10:52:03.354777Z"
    },
    "cell_style": "center",
    "hide_input": false,
    "nbpresent": {
     "id": "4187b2b2-7280-42b1-8c0d-a4af39101f17"
    },
    "slideshow": {
     "slide_type": "subslide"
    }
   },
   "outputs": [
    {
     "name": "stdout",
     "output_type": "stream",
     "text": [
      "SpectroChemPy's API - v.0.1a3.dev6+g98c959a8.d20181224\n",
      "© Copyright 2014-2018 - A.Travert & C.Fernandez @ LCS\n"
     ]
    }
   ],
   "source": [
    "from spectrochempy import *\n",
    "set_loglevel(ERROR)"
   ]
  },
  {
   "cell_type": "markdown",
   "metadata": {},
   "source": [
    "## Loading a project"
   ]
  },
  {
   "cell_type": "markdown",
   "metadata": {
    "nbpresent": {
     "id": "af79a3ae-e4ce-4602-8ed8-e590658d0d90"
    },
    "slideshow": {
     "slide_type": "-"
    }
   },
   "source": [
    "We read the ``HIZECOKE`` project that was saved previously"
   ]
  },
  {
   "cell_type": "code",
   "execution_count": 2,
   "metadata": {
    "ExecuteTime": {
     "end_time": "2017-12-10T10:52:04.856267Z",
     "start_time": "2017-12-10T10:52:04.512878Z"
    },
    "nbpresent": {
     "id": "0126e973-e46c-4a4f-bf9e-dccf54347cce"
    },
    "slideshow": {
     "slide_type": "-"
    }
   },
   "outputs": [
    {
     "data": {
      "text/html": [
       "Project&nbsp;HIZECOKE:<br/>\n",
       "&nbsp;&nbsp;&nbsp;&nbsp;⤷&nbsp;P350&nbsp;(sub-project)<br/>\n",
       "&nbsp;&nbsp;&nbsp;&nbsp;&nbsp;&nbsp;&nbsp;⤷&nbsp;IR&nbsp;(dataset)<br/>\n",
       "&nbsp;&nbsp;&nbsp;&nbsp;&nbsp;&nbsp;&nbsp;⤷&nbsp;TGA&nbsp;(dataset)<br/>\n",
       "&nbsp;&nbsp;&nbsp;&nbsp;⤷&nbsp;A350&nbsp;(sub-project)<br/>\n",
       "&nbsp;&nbsp;&nbsp;&nbsp;&nbsp;&nbsp;&nbsp;⤷&nbsp;IR&nbsp;(dataset)<br/>\n",
       "&nbsp;&nbsp;&nbsp;&nbsp;&nbsp;&nbsp;&nbsp;⤷&nbsp;TGA&nbsp;(dataset)<br/>\n",
       "&nbsp;&nbsp;&nbsp;&nbsp;⤷&nbsp;B350&nbsp;(sub-project)<br/>\n",
       "&nbsp;&nbsp;&nbsp;&nbsp;&nbsp;&nbsp;&nbsp;⤷&nbsp;IR&nbsp;(dataset)<br/>\n",
       "&nbsp;&nbsp;&nbsp;&nbsp;&nbsp;&nbsp;&nbsp;⤷&nbsp;TGA&nbsp;(dataset)<br/>\n",
       "&nbsp;&nbsp;&nbsp;&nbsp;⤷&nbsp;plotIR&nbsp;(script)<br/>\n",
       "&nbsp;&nbsp;&nbsp;&nbsp;⤷&nbsp;preprocess&nbsp;(script)<br/>\n",
       "&nbsp;&nbsp;&nbsp;&nbsp;⤷&nbsp;print_info&nbsp;(script)<br/>\n"
      ],
      "text/plain": [
       "<spectrochempy.core.projects.project.Project at 0x1c24428908>"
      ]
     },
     "execution_count": 2,
     "metadata": {},
     "output_type": "execute_result"
    }
   ],
   "source": [
    "proj = Project.load('HIZECOKE')\n",
    "proj"
   ]
  },
  {
   "cell_type": "markdown",
   "metadata": {},
   "source": [
    "## Preprocessing the IR spectra"
   ]
  },
  {
   "cell_type": "markdown",
   "metadata": {
    "nbpresent": {
     "id": "837d22f3-a331-4bc6-a464-6b3cf80a4e26"
    }
   },
   "source": [
    "Let's replot the data. But we will slice the data in order to keep only the region of interest, between 3990 and 1300 cm$^{-1}$.\n",
    "\n",
    "\n",
    "\n",
    "### Some notes about slicing\n",
    "\n",
    "Slicing can be done by index, coordinates or labels (when they are present).\n",
    "\n",
    "* `proj.P350.IR[:, 10]` for column slicing (here we get the 10th column (with index starting at 0!))\n",
    "* or `proj.P350.IR[10]` for row slicing\n",
    "\n",
    "As said above, we can also slice using the real coordinates. For example,\n",
    "\n",
    "* `proj.P350.IR[:, 3000.0:3100.0]` will select all columns from wavenumbers 3000 to 3100. \n",
    "\n",
    "<div class='alert alert-info'>**IMPORTANT** : \n",
    "\n",
    "* When doing such slicing, the wavenumbers must be expressed as **floating numbers** (with the decimal separator present) or it will fail!.\n",
    "\n",
    "* Note that when using a range of coordinates, both limits needs to be set as SpectroChemPy cannot infer which direction to take (and so results may be impredictable):  \n",
    "This is ok: `proj.P350.IR[:, 3000.0:3100.0]`, but not this: `proj.P350.IR[:, 3000.0:]`\n",
    "\n",
    "</div>"
   ]
  },
  {
   "cell_type": "code",
   "execution_count": 3,
   "metadata": {},
   "outputs": [],
   "source": [
    "for p in proj.projects:   \n",
    "    p.IR[:, 3990.:1300., INPLACE]   # we slice the data inplace \n",
    "    p.IR = p.IR - p.IR[:,3990.]     # we remove some offset "
   ]
  },
  {
   "cell_type": "code",
   "execution_count": 4,
   "metadata": {
    "ExecuteTime": {
     "end_time": "2017-12-10T10:52:06.804626Z",
     "start_time": "2017-12-10T10:52:04.859335Z"
    },
    "nbpresent": {
     "id": "57b59b4c-a867-44b9-a9a4-98d1756a6a42"
    }
   },
   "outputs": [
    {
     "data": {
      "application/vnd.jupyter.widget-view+json": {
       "model_id": "39f1392212644c218b7a3dcd4036bf42",
       "version_major": 2,
       "version_minor": 0
      },
      "text/plain": [
       "FigureCanvasNbAgg()"
      ]
     },
     "metadata": {},
     "output_type": "display_data"
    }
   ],
   "source": [
    "datasets =[]\n",
    "labels = []\n",
    "\n",
    "for p in reversed(proj.projects):   # we put the parent first this way\n",
    "    datasets.append(p.IR)\n",
    "    labels.append(p.label) \n",
    "    \n",
    "_ = multiplot_stack(datasets=datasets, labels=labels, \n",
    "                nrow=1, ncol=3, sharex=True, sharez=True, \n",
    "                figsize=(6.8,3), dpi=100, style='sans')"
   ]
  },
  {
   "cell_type": "markdown",
   "metadata": {},
   "source": [
    "## Creating and using project's scripts"
   ]
  },
  {
   "cell_type": "markdown",
   "metadata": {
    "nbpresent": {
     "id": "304c27b4-dbb2-4a59-90a0-1e61285000f8"
    }
   },
   "source": [
    "In order to avoid having to write this basic pre-processing and plotting function each time we read the initial project, there is two ways:\n",
    "\n",
    "1. We can save the mofified data and reopen the project with the modified files next time we need them. However, the processing that was applied cannot be modified.\n",
    "2. The second possibility is to save the processing scripts along with the project, and reapply them next time we will open this project. If a modification is required, any of the scripts can be modified before being applied.\n",
    "\n",
    "it would be useful to keep the script used here along with the project.\n",
    "\n",
    "To do so, we will store them in the project, using the `%addscript` magic function.\n",
    "\n",
    "The syntax is simple!\n",
    "\n",
    "There are two possibilities: \n",
    "\n",
    "1. `%addscript -p <project_name> -o <scriptname> <cell_reference, file or objects>`\n",
    "1. `%%addscript -p <project_name> -o <scriptname>` \n",
    "    \n",
    "        ...code lines...\n",
    "\n",
    "where\n",
    "\n",
    "* `-p <project_name>` to say in wich project we want to strore our script\n",
    "* `-o <script_name>` to say which name will be used for that script. It must be unique in a project, or confusion may rapidly arise.\n",
    "\n",
    "That's almost all:\n",
    "* The script can come from the current cell (in this case modify the command like this: `%%addscript -p <project_name> -o <script_name>` (yes with two `%`). This should be the first line of the cell to use as a script. \n",
    "* it can also come from another already executed cell: in this case with give the `id` (*e.g.,* `3`) of the cell to use or a range of cells to use (*e.g.,* `3-10`)"
   ]
  },
  {
   "cell_type": "code",
   "execution_count": 5,
   "metadata": {
    "ExecuteTime": {
     "end_time": "2017-12-10T10:52:06.814925Z",
     "start_time": "2017-12-10T10:52:06.806830Z"
    },
    "nbpresent": {
     "id": "a1ae86af-bf52-49f8-97f5-eae32d3845b2"
    }
   },
   "outputs": [
    {
     "data": {
      "text/plain": [
       "'Script plotIR created.'"
      ]
     },
     "execution_count": 5,
     "metadata": {},
     "output_type": "execute_result"
    }
   ],
   "source": [
    "%addscript -p proj -o plotIR 4"
   ]
  },
  {
   "cell_type": "code",
   "execution_count": 6,
   "metadata": {
    "ExecuteTime": {
     "end_time": "2017-12-10T10:52:06.814925Z",
     "start_time": "2017-12-10T10:52:06.806830Z"
    },
    "nbpresent": {
     "id": "a1ae86af-bf52-49f8-97f5-eae32d3845b2"
    }
   },
   "outputs": [
    {
     "data": {
      "text/plain": [
       "'Script preprocess created.'"
      ]
     },
     "execution_count": 6,
     "metadata": {},
     "output_type": "execute_result"
    }
   ],
   "source": [
    "%addscript -p proj -o preprocess 3"
   ]
  },
  {
   "cell_type": "code",
   "execution_count": 7,
   "metadata": {
    "ExecuteTime": {
     "end_time": "2017-12-09T20:16:35.392238Z",
     "start_time": "2017-12-09T20:16:35.387717Z"
    },
    "nbpresent": {
     "id": "4bcb0c3f-b26c-4c4e-b918-a2911e247dd6"
    }
   },
   "outputs": [
    {
     "data": {
      "text/plain": [
       "'Script print_info created.'"
      ]
     },
     "execution_count": 7,
     "metadata": {},
     "output_type": "execute_result"
    }
   ],
   "source": [
    "%%addscript -p proj -o print_info\n",
    "print(\"samples contained in the project are: %s\"%proj.projects_names)"
   ]
  },
  {
   "cell_type": "markdown",
   "metadata": {},
   "source": [
    "Let's check that the scripts are stored in the project:"
   ]
  },
  {
   "cell_type": "code",
   "execution_count": 8,
   "metadata": {
    "ExecuteTime": {
     "end_time": "2017-12-09T20:16:37.591258Z",
     "start_time": "2017-12-09T20:16:37.584218Z"
    }
   },
   "outputs": [
    {
     "data": {
      "text/html": [
       "Project&nbsp;HIZECOKE:<br/>\n",
       "&nbsp;&nbsp;&nbsp;&nbsp;⤷&nbsp;P350&nbsp;(sub-project)<br/>\n",
       "&nbsp;&nbsp;&nbsp;&nbsp;&nbsp;&nbsp;&nbsp;⤷&nbsp;IR&nbsp;(dataset)<br/>\n",
       "&nbsp;&nbsp;&nbsp;&nbsp;&nbsp;&nbsp;&nbsp;⤷&nbsp;TGA&nbsp;(dataset)<br/>\n",
       "&nbsp;&nbsp;&nbsp;&nbsp;⤷&nbsp;A350&nbsp;(sub-project)<br/>\n",
       "&nbsp;&nbsp;&nbsp;&nbsp;&nbsp;&nbsp;&nbsp;⤷&nbsp;IR&nbsp;(dataset)<br/>\n",
       "&nbsp;&nbsp;&nbsp;&nbsp;&nbsp;&nbsp;&nbsp;⤷&nbsp;TGA&nbsp;(dataset)<br/>\n",
       "&nbsp;&nbsp;&nbsp;&nbsp;⤷&nbsp;B350&nbsp;(sub-project)<br/>\n",
       "&nbsp;&nbsp;&nbsp;&nbsp;&nbsp;&nbsp;&nbsp;⤷&nbsp;IR&nbsp;(dataset)<br/>\n",
       "&nbsp;&nbsp;&nbsp;&nbsp;&nbsp;&nbsp;&nbsp;⤷&nbsp;TGA&nbsp;(dataset)<br/>\n",
       "&nbsp;&nbsp;&nbsp;&nbsp;⤷&nbsp;plotIR&nbsp;(script)<br/>\n",
       "&nbsp;&nbsp;&nbsp;&nbsp;⤷&nbsp;preprocess&nbsp;(script)<br/>\n",
       "&nbsp;&nbsp;&nbsp;&nbsp;⤷&nbsp;print_info&nbsp;(script)<br/>\n"
      ],
      "text/plain": [
       "<spectrochempy.core.projects.project.Project at 0x1c24428908>"
      ]
     },
     "execution_count": 8,
     "metadata": {},
     "output_type": "execute_result"
    }
   ],
   "source": [
    "proj"
   ]
  },
  {
   "cell_type": "markdown",
   "metadata": {},
   "source": [
    "and that a script can be executed!"
   ]
  },
  {
   "cell_type": "code",
   "execution_count": 9,
   "metadata": {
    "ExecuteTime": {
     "end_time": "2017-12-09T20:16:52.527422Z",
     "start_time": "2017-12-09T20:16:52.522137Z"
    }
   },
   "outputs": [
    {
     "name": "stdout",
     "output_type": "stream",
     "text": [
      "samples contained in the project are: ['A350', 'B350', 'P350']\n"
     ]
    }
   ],
   "source": [
    "proj.print_info()"
   ]
  },
  {
   "cell_type": "markdown",
   "metadata": {},
   "source": [
    "Now, we save the project... but as we want to keep the original data intacts, we will save only the scripts and keep all data unchanged."
   ]
  },
  {
   "cell_type": "code",
   "execution_count": 10,
   "metadata": {},
   "outputs": [],
   "source": [
    "proj.save(overwrite_data=False)"
   ]
  },
  {
   "cell_type": "markdown",
   "metadata": {},
   "source": [
    "Let's now reload the project in a new object, and check that this is the original data for the dataset"
   ]
  },
  {
   "cell_type": "code",
   "execution_count": 11,
   "metadata": {},
   "outputs": [
    {
     "data": {
      "application/vnd.jupyter.widget-view+json": {
       "model_id": "c0b4d8af6c4b4a3e861f808871074f53",
       "version_major": 2,
       "version_minor": 0
      },
      "text/plain": [
       "FigureCanvasNbAgg()"
      ]
     },
     "metadata": {},
     "output_type": "display_data"
    }
   ],
   "source": [
    "#set_loglevel(DEBUG)\n",
    "proj = Project.load('HIZECOKE')\n",
    "proj.plotIR()"
   ]
  },
  {
   "cell_type": "markdown",
   "metadata": {},
   "source": [
    "We get the original spectra as expected. \n",
    "\n",
    "But now we can use the `preprocess` script which is stored in the project, to apply all change that were recorded."
   ]
  },
  {
   "cell_type": "code",
   "execution_count": 12,
   "metadata": {
    "run_control": {
     "marked": false
    }
   },
   "outputs": [
    {
     "data": {
      "application/vnd.jupyter.widget-view+json": {
       "model_id": "8db9d31f28e648e8a598c19dab03c5aa",
       "version_major": 2,
       "version_minor": 0
      },
      "text/plain": [
       "FigureCanvasNbAgg()"
      ]
     },
     "metadata": {},
     "output_type": "display_data"
    }
   ],
   "source": [
    "proj.preprocess()\n",
    "proj.plotIR()"
   ]
  },
  {
   "cell_type": "markdown",
   "metadata": {
    "nbpresent": {
     "id": "d64f8d55-67db-44a9-a1d3-d95f8f8f0cca"
    }
   },
   "source": [
    "## Masking bad data\n",
    "\n",
    "### Set a mask on a range of columns\n",
    "Clearly some of the spectra above displayed have problem with noise, or some experiment artifacts. \n",
    "Although we could be tempted to simply remove the data, another way, it to mask these bad data. \n",
    "\n",
    "For instance, we may want to mask all data ranging between 2300 and 2700. Let's do that:"
   ]
  },
  {
   "cell_type": "code",
   "execution_count": 13,
   "metadata": {},
   "outputs": [
    {
     "data": {
      "application/vnd.jupyter.widget-view+json": {
       "model_id": "5cebe9a59ed244ecb34560b166274d3b",
       "version_major": 2,
       "version_minor": 0
      },
      "text/plain": [
       "FigureCanvasNbAgg()"
      ]
     },
     "metadata": {},
     "output_type": "display_data"
    }
   ],
   "source": [
    "for p in proj.projects:   \n",
    "    p.IR[:, 2300.:2700.]=masked\n",
    "\n",
    "proj.plotIR()"
   ]
  },
  {
   "cell_type": "markdown",
   "metadata": {
    "nbpresent": {
     "id": "e3682b70-bede-4108-a2c4-30410480a159"
    }
   },
   "source": [
    "### Remove a mask\n",
    "\n",
    "To remove the mask, we cannot make it selectively. All mask must be removed at the same time:"
   ]
  },
  {
   "cell_type": "code",
   "execution_count": 14,
   "metadata": {
    "nbpresent": {
     "id": "fcfbcfdd-efce-4243-89e2-1cbc57f20494"
    }
   },
   "outputs": [
    {
     "data": {
      "application/vnd.jupyter.widget-view+json": {
       "model_id": "14b887a2e9254af5a9e068e3337504f7",
       "version_major": 2,
       "version_minor": 0
      },
      "text/plain": [
       "FigureCanvasNbAgg()"
      ]
     },
     "metadata": {},
     "output_type": "display_data"
    }
   ],
   "source": [
    "for p in proj.projects:   \n",
    "    p.IR.remove_masks()\n",
    "\n",
    "proj.plotIR()"
   ]
  },
  {
   "cell_type": "markdown",
   "metadata": {
    "nbpresent": {
     "id": "ef14e3b1-4974-4895-bcec-73eeb0ae5664"
    }
   },
   "source": [
    "### Masking bad data for rows"
   ]
  },
  {
   "cell_type": "markdown",
   "metadata": {
    "nbpresent": {
     "id": "4def4553-804c-405f-babc-4063afa5d4d8"
    }
   },
   "source": [
    "It appears that the data to remove correspond to some row but it is difficult to find which one in the plot above. So it may be interesting to work on transposed data (we use the operator `.T`).\n",
    "\n",
    "First, let's make a script for plotting the transposed data"
   ]
  },
  {
   "cell_type": "code",
   "execution_count": 15,
   "metadata": {
    "nbpresent": {
     "id": "42228607-2aaa-4b18-aa06-c22b87793d97"
    }
   },
   "outputs": [
    {
     "data": {
      "text/plain": [
       "'Script plotIR_T created.'"
      ]
     },
     "execution_count": 15,
     "metadata": {},
     "output_type": "execute_result"
    }
   ],
   "source": [
    "%%addscript -p proj -o plotIR_T\n",
    "\n",
    "datasets_T =[]\n",
    "labels = []\n",
    "\n",
    "for p in reversed(proj.projects):   # we put the parent first this way\n",
    "    datasets_T.append(p.IR.T)\n",
    "    labels.append(p.label) \n",
    "    \n",
    "_ = multiplot_stack(datasets=datasets_T, labels=labels, \n",
    "                nrow=1, ncol=3, sharex=False, sharez=True, \n",
    "                figsize=(6.8,3), dpi=100, style='sans')"
   ]
  },
  {
   "cell_type": "code",
   "execution_count": 16,
   "metadata": {},
   "outputs": [
    {
     "data": {
      "application/vnd.jupyter.widget-view+json": {
       "model_id": "11cadbf59edc4d4fbacfae960fbd7c01",
       "version_major": 2,
       "version_minor": 0
      },
      "text/plain": [
       "FigureCanvasNbAgg()"
      ]
     },
     "metadata": {},
     "output_type": "display_data"
    }
   ],
   "source": [
    "proj.plotIR_T()"
   ]
  },
  {
   "cell_type": "markdown",
   "metadata": {},
   "source": [
    "Now mask some of the rows, that are clearly not correct"
   ]
  },
  {
   "cell_type": "code",
   "execution_count": 17,
   "metadata": {
    "nbpresent": {
     "id": "fa866432-6983-4b1f-bfd1-bf2fa986a77d"
    }
   },
   "outputs": [
    {
     "data": {
      "application/vnd.jupyter.widget-view+json": {
       "model_id": "8619ff94f31a4993843c97156cfb99a0",
       "version_major": 2,
       "version_minor": 0
      },
      "text/plain": [
       "FigureCanvasNbAgg()"
      ]
     },
     "metadata": {},
     "output_type": "display_data"
    },
    {
     "data": {
      "application/vnd.jupyter.widget-view+json": {
       "model_id": "026b6cd3f38744d49aa3feeea34a8ef4",
       "version_major": 2,
       "version_minor": 0
      },
      "text/plain": [
       "FigureCanvasNbAgg()"
      ]
     },
     "metadata": {},
     "output_type": "display_data"
    }
   ],
   "source": [
    "proj.P350.IR[14.4:24.]=masked\n",
    "proj.A350.IR[24.17:24.36]=masked\n",
    "\n",
    "proj.plotIR_T()\n",
    "proj.plotIR()"
   ]
  },
  {
   "cell_type": "markdown",
   "metadata": {},
   "source": [
    "## Make our final preprocessing script\n",
    "\n",
    "OK, the data are now clean. Let's update our `preprocess` script with a summary of all actions, so that we can apply this next time."
   ]
  },
  {
   "cell_type": "code",
   "execution_count": 18,
   "metadata": {},
   "outputs": [
    {
     "data": {
      "text/plain": [
       "'Script preprocess created.'"
      ]
     },
     "execution_count": 18,
     "metadata": {},
     "output_type": "execute_result"
    }
   ],
   "source": [
    "%%addscript -p proj -o preprocess\n",
    "\n",
    "# slicing\n",
    "for p in proj.projects:\n",
    "    p.IR[:, 3990.:1300., INPLACE]   # we slice the data inplace \n",
    "    p.IR = p.IR - p.IR[:,3990.]     # we remove the offset \n",
    "\n",
    "# mask some rows\n",
    "proj.P350.IR[14.4:24.]=masked        \n",
    "proj.A350.IR[24.17:24.36]=masked\n",
    " "
   ]
  },
  {
   "cell_type": "markdown",
   "metadata": {},
   "source": [
    "Save these scripts"
   ]
  },
  {
   "cell_type": "code",
   "execution_count": 19,
   "metadata": {},
   "outputs": [],
   "source": [
    "proj.save('HIZECOKE', overwrite_data=False)"
   ]
  },
  {
   "cell_type": "markdown",
   "metadata": {},
   "source": [
    "In the next [notebook](agir_tg_processing.ipynb), we will proceed with some basic pre-processing of the TGA data."
   ]
  }
 ],
 "metadata": {
  "kernelspec": {
   "display_name": "Python 3",
   "language": "python",
   "name": "python3"
  },
  "language_info": {
   "codemirror_mode": {
    "name": "ipython",
    "version": 3
   },
   "file_extension": ".py",
   "mimetype": "text/x-python",
   "name": "python",
   "nbconvert_exporter": "python",
   "pygments_lexer": "ipython3",
   "version": "3.7.1"
  },
  "latex_envs": {
   "LaTeX_envs_menu_present": true,
   "autocomplete": true,
   "bibliofile": "biblio.bib",
   "cite_by": "apalike",
   "current_citInitial": 1,
   "eqLabelWithNumbers": true,
   "eqNumInitial": 1,
   "hotkeys": {
    "equation": "Ctrl-E",
    "itemize": "Ctrl-I"
   },
   "labels_anchors": false,
   "latex_user_defs": false,
   "report_style_numbering": false,
   "user_envs_cfg": false
  },
  "toc": {
   "nav_menu": {},
   "number_sections": true,
   "sideBar": true,
   "skip_h1_title": true,
   "toc_cell": false,
   "toc_position": {
    "height": "calc(100% - 180px)",
    "left": "10px",
    "top": "150px",
    "width": "165px"
   },
   "toc_section_display": true,
   "toc_window_display": true
  },
  "varInspector": {
   "cols": {
    "lenName": 16,
    "lenType": 16,
    "lenVar": 40
   },
   "kernels_config": {
    "python": {
     "delete_cmd_postfix": "",
     "delete_cmd_prefix": "del ",
     "library": "var_list.py",
     "varRefreshCmd": "print(var_dic_list())"
    },
    "r": {
     "delete_cmd_postfix": ") ",
     "delete_cmd_prefix": "rm(",
     "library": "var_list.r",
     "varRefreshCmd": "cat(var_dic_list()) "
    }
   },
   "position": {
    "height": "469px",
    "left": "827px",
    "right": "9px",
    "top": "120px",
    "width": "361px"
   },
   "types_to_exclude": [
    "module",
    "function",
    "builtin_function_or_method",
    "instance",
    "_Feature"
   ],
   "window_display": false
  }
 },
 "nbformat": 4,
 "nbformat_minor": 2
}
