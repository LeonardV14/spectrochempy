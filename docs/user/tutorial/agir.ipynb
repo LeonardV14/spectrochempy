{
 "cells": [
  {
   "cell_type": "markdown",
   "metadata": {
    "cell_style": "center",
    "nbpresent": {
     "id": "8c1a09c3-41be-4a90-bb14-9ee105fbd2a4"
    },
    "slideshow": {
     "slide_type": "slide"
    }
   },
   "source": [
    "# A full working example: an AGIR study of coked zeolites"
   ]
  },
  {
   "cell_type": "markdown",
   "metadata": {
    "cell_style": "center",
    "nbpresent": {
     "id": "e4d6f81d-e9ac-48e6-80e3-6ab639743531"
    },
    "slideshow": {
     "slide_type": "slide"
    }
   },
   "source": [
    "This example concerns the **study of coked hierarchical zeolites**.\n",
    "\n",
    "This notebook however focuses on the processing step we have used for this work, as well as some details about the use of the **SpectroChemPy** python package.\n",
    "\n",
    "Fisrt, and this will be done at the top of each notebook in the tutorial, we load the **SpectroChemPy** API. It will expose all available methods that can act on `projects` and `datasets`."
   ]
  },
  {
   "cell_type": "code",
   "execution_count": 1,
   "metadata": {
    "ExecuteTime": {
     "end_time": "2017-12-10T10:46:34.846333Z",
     "start_time": "2017-12-10T10:46:33.686666Z"
    },
    "nbpresent": {
     "id": "7ebe96fc-565c-46f4-bdd4-ca8903347319"
    }
   },
   "outputs": [
    {
     "name": "stdout",
     "output_type": "stream",
     "text": [
      "SpectroChemPy's API - v.0.1a3.dev6+g98c959a8.d20181224\n",
      "© Copyright 2014-2018 - A.Travert & C.Fernandez @ LCS\n"
     ]
    }
   ],
   "source": [
    "from spectrochempy import *\n",
    "set_loglevel(WARNING)"
   ]
  },
  {
   "cell_type": "markdown",
   "metadata": {
    "nbpresent": {
     "id": "6045aec1-0300-4f99-91ad-e45b8feffcd7"
    },
    "slideshow": {
     "slide_type": "subslide"
    }
   },
   "source": [
    "## Introduction\n",
    "\n",
    "The AGIR instrument setup is displayed in the following figure. \n",
    "\n",
    "![fig_agir_setup](annotated_fig_agir_setup.jpg)\n",
    "\n",
    "This instrument consists in the combination of an infrared cell and a balance. It allows recording *operando* IR spectra and, simultaneously, the mass of the sample."
   ]
  },
  {
   "cell_type": "markdown",
   "metadata": {
    "nbpresent": {
     "id": "0e06a074-383c-4411-82a4-cb4539971d2f"
    }
   },
   "source": [
    "## Managing the data in a project and subprojects\n",
    "\n",
    "The data we will be processing in this tutorial were produced using this AGIR setup at the Laboratory LCS.\n",
    "\n",
    "We have TGA (Thermogravimetric analysis) and FTIR (Fourier Transform InfraRed spectroscopy) data for 3 samples, which have been recorded simultaneously at 350 °C (623 K) under reaction with methanol:\n",
    "\n",
    "* P (parent zeolite sample), \n",
    "* A (subjected to an acid treatment), \n",
    "* B (subjected to a basic treatment).\n",
    "\n",
    "We know that some of the bands that develop on the IR spectra are mainly due to an increase of the coke deposits, which corresponds to an increase of the mass of the pellet. This mass is recorded.\n",
    "\n",
    "In this work we will try to correlate those evolutions of IR bands and mass of the deposits."
   ]
  },
  {
   "cell_type": "markdown",
   "metadata": {
    "nbpresent": {
     "id": "14a6077d-9206-4023-b4f1-d741f50390aa"
    }
   },
   "source": [
    "To manage all the data for three samples easily, we will create a *project*.\n",
    "\n",
    "For this we can use the ``Project manager`` included in SpectroChemPy.\n",
    "\n",
    "First we create a main project containing three sub-projects, one for each sample. A project need at least a project name (*e.g.*, the name of the sample) but if if it is not provided, some automatic title will be generated.\n",
    "\n",
    "Some metadata can be also added at this stage or later, for example here, we add for each project a `Latex` formatted string that will serve as a label for the plot of the data. In the same way other useful metadata could be added, *e.g.*, a description of the project, etc.\n",
    "\n",
    "The actual TG and IR data will be added later."
   ]
  },
  {
   "cell_type": "code",
   "execution_count": 2,
   "metadata": {
    "ExecuteTime": {
     "end_time": "2017-12-10T10:46:34.892777Z",
     "start_time": "2017-12-10T10:46:34.883131Z"
    },
    "nbpresent": {
     "id": "352318e6-4461-47fc-a0f8-4338ce4f319c"
    }
   },
   "outputs": [],
   "source": [
    "proj = Project(\n",
    "                Project(name='P350', label=r'$\\mathrm{M_P\\,(623\\,K)}$'),\n",
    "                Project(name='A350', label=r'$\\mathrm{M_A\\,(623\\,K)}$'),\n",
    "                Project(name='B350', label=r'$\\mathrm{M_B\\,(623\\,K)}$'),\n",
    "                name = 'HIZECOKE',\n",
    "              )"
   ]
  },
  {
   "cell_type": "markdown",
   "metadata": {
    "nbpresent": {
     "id": "32d224ec-f047-43b8-829a-556e01023899"
    }
   },
   "source": [
    "Display the structure of this project"
   ]
  },
  {
   "cell_type": "code",
   "execution_count": 3,
   "metadata": {
    "ExecuteTime": {
     "end_time": "2017-12-10T10:46:34.902949Z",
     "start_time": "2017-12-10T10:46:34.895819Z"
    },
    "nbpresent": {
     "id": "66ad9612-6cc8-4993-a4e8-4cd1be6951a3"
    }
   },
   "outputs": [
    {
     "data": {
      "text/html": [
       "Project&nbsp;HIZECOKE:<br/>\n",
       "&nbsp;&nbsp;&nbsp;&nbsp;⤷&nbsp;P350&nbsp;(sub-project)<br/>\n",
       "&nbsp;&nbsp;&nbsp;&nbsp;⤷&nbsp;A350&nbsp;(sub-project)<br/>\n",
       "&nbsp;&nbsp;&nbsp;&nbsp;⤷&nbsp;B350&nbsp;(sub-project)<br/>\n"
      ],
      "text/plain": [
       "<spectrochempy.core.projects.project.Project at 0x1c1e804438>"
      ]
     },
     "execution_count": 3,
     "metadata": {},
     "output_type": "execute_result"
    }
   ],
   "source": [
    "proj"
   ]
  },
  {
   "cell_type": "markdown",
   "metadata": {
    "nbpresent": {
     "id": "addb48d9-2b44-4ffa-a339-f5b7cabbd230"
    }
   },
   "source": [
    "We can access the content and attributes of a Project object using 2 syntax. One is the following (which works only if the name of the object doesn't contain any space, dash, dot, or other non alphanumeric characters, excepted the underscore \"`_`\". Also, do not start a name with a number.):"
   ]
  },
  {
   "cell_type": "code",
   "execution_count": 4,
   "metadata": {
    "ExecuteTime": {
     "end_time": "2017-12-10T10:46:34.912417Z",
     "start_time": "2017-12-10T10:46:34.905950Z"
    },
    "nbpresent": {
     "id": "2620f592-af9c-40f3-a4da-3eeb617cf346"
    }
   },
   "outputs": [
    {
     "data": {
      "text/plain": [
       "'$\\\\mathrm{M_P\\\\,(623\\\\,K)}$'"
      ]
     },
     "execution_count": 4,
     "metadata": {},
     "output_type": "execute_result"
    }
   ],
   "source": [
    "label = proj.P350.label\n",
    "label"
   ]
  },
  {
   "cell_type": "markdown",
   "metadata": {
    "nbpresent": {
     "id": "f7c40a67-f94b-492c-9103-ef85a0a0a4e1"
    }
   },
   "source": [
    "As the label is a latex string, we can use the `Latex` command get a prettier output of the latex content for this label"
   ]
  },
  {
   "cell_type": "code",
   "execution_count": 5,
   "metadata": {
    "ExecuteTime": {
     "end_time": "2017-12-10T10:46:34.923851Z",
     "start_time": "2017-12-10T10:46:34.915480Z"
    },
    "nbpresent": {
     "id": "6e8d57c6-9e05-4e1c-b090-8af20fe33b84"
    }
   },
   "outputs": [
    {
     "data": {
      "text/latex": [
       "$\\mathrm{M_P\\,(623\\,K)}$"
      ],
      "text/plain": [
       "<IPython.core.display.Latex object>"
      ]
     },
     "execution_count": 5,
     "metadata": {},
     "output_type": "execute_result"
    }
   ],
   "source": [
    "Latex(label)  # note that this work only on the real jupyter notebook (not in the HTML documentation)"
   ]
  },
  {
   "cell_type": "markdown",
   "metadata": {
    "nbpresent": {
     "id": "a82ec5f8-f33a-4077-961c-f117a3565fa8"
    }
   },
   "source": [
    "If the above syntax doesn't work (e.g., it the name contains space), we can always access using keys (Project are actually behaving mainly as python dictionaries)"
   ]
  },
  {
   "cell_type": "code",
   "execution_count": 6,
   "metadata": {
    "ExecuteTime": {
     "end_time": "2017-12-10T10:46:34.933079Z",
     "start_time": "2017-12-10T10:46:34.926670Z"
    },
    "nbpresent": {
     "id": "0447056e-7e6b-49c0-83f2-34e3c468c69a"
    }
   },
   "outputs": [
    {
     "data": {
      "text/latex": [
       "$\\mathrm{M_P\\,(623\\,K)}$"
      ],
      "text/plain": [
       "<IPython.core.display.Latex object>"
      ]
     },
     "execution_count": 6,
     "metadata": {},
     "output_type": "execute_result"
    }
   ],
   "source": [
    "Latex(proj['P350'].label)"
   ]
  },
  {
   "cell_type": "markdown",
   "metadata": {
    "nbpresent": {
     "id": "b6db65a9-efc2-4489-b158-a7adb30e83c8"
    }
   },
   "source": [
    "## Reading the experimental data"
   ]
  },
  {
   "cell_type": "markdown",
   "metadata": {
    "nbpresent": {
     "id": "617d191e-c90b-4457-a2f4-30d942690b2c"
    }
   },
   "source": [
    "The IR data have been exported as `csv` file (on file per spectra) and then zipped. Therefore, we will use the function `read_zip` to open the IR data. \n",
    "\n",
    "For the TGA data are in `csv` files, so we use `read_csv` to read them."
   ]
  },
  {
   "cell_type": "markdown",
   "metadata": {
    "nbpresent": {
     "id": "80f7c86f-60ac-40cc-9ce3-262c7fdde02d"
    }
   },
   "source": [
    "### Reading the raw  IR data\n",
    "\n",
    "Note that reading a large set of `.csv` file is rather slow. Be patient! \n",
    "\n",
    "After reading each dataset, we save the data in the `scp` format of SpectroChemPy (extension `.scp`, so that any further reading of the data will be much faster.\n",
    "\n",
    "For this tutorial, the experimental data ate stored in a example directory, accessed here through, the variable `datadir.path`. As we have to repeating the same kind of reading three times, let's write a small reading function: "
   ]
  },
  {
   "cell_type": "code",
   "execution_count": 7,
   "metadata": {
    "ExecuteTime": {
     "end_time": "2017-12-10T10:46:34.964246Z",
     "start_time": "2017-12-10T10:46:34.935704Z"
    },
    "nbpresent": {
     "id": "10466eb8-8fa0-483d-9f88-b78e1368d1b3"
    }
   },
   "outputs": [],
   "source": [
    "def readIR(name, force_read_original=False):\n",
    "    \n",
    "    # Our data are in our test `datadir.path` directory. \n",
    "    # Here is the full path (depending on name) without the file extension:\n",
    "    basename = os.path.join(datadir.path,'agirdata/{}/FTIR/FTIR'.format(name))\n",
    "    \n",
    "    # Check first if a `.scp` file have already been saved.\n",
    "    # This happens if this not the first time we are executing this notebook.\n",
    "    # If it exists we will use this file which is much faster to read.\n",
    "    if os.path.exists(basename+'.scp') and not force_read_original:\n",
    "        # A `.scp` file allready exists, use this one (except if the flag\n",
    "        # `force_read_original` is set):\n",
    "        filename = basename + '.scp'\n",
    "        # we use the generic `read` method of the class NDDataset \n",
    "        # to read this file and create a new dataset.\n",
    "        dataset = NDDataset.read( filename)\n",
    "        \n",
    "    else:\n",
    "        # This is the first time we execute this function, \n",
    "        # then we read the original `.zip` file\n",
    "        filename = basename + '.zip'\n",
    "        # to read it, we use the `read_zip` method:\n",
    "        dataset = NDDataset.read_zip( filename, origin='omnic_export')\n",
    "        # to accelerate the process next time, we save this dataset \n",
    "        # in a `scp` format\n",
    "        dataset.save(basename + '.scp')\n",
    "        \n",
    "    return dataset"
   ]
  },
  {
   "cell_type": "markdown",
   "metadata": {
    "nbpresent": {
     "id": "9aaf6138-8601-4b8d-bb9a-0a1bd021c475"
    }
   },
   "source": [
    "Ok, now we use this function to read the 3 FTIR file and we add them to the corresponding sub-project of our project"
   ]
  },
  {
   "cell_type": "markdown",
   "metadata": {
    "nbpresent": {
     "id": "a622712c-d5df-405b-b95f-353fd8b9245f"
    }
   },
   "source": [
    "The list of names of the subprojects is accessible in the property `projects_names` of the dataset."
   ]
  },
  {
   "cell_type": "code",
   "execution_count": 8,
   "metadata": {
    "ExecuteTime": {
     "end_time": "2017-12-10T10:46:35.289796Z",
     "start_time": "2017-12-10T10:46:34.967038Z"
    },
    "nbpresent": {
     "id": "00e09b98-a48a-4ffa-9f9a-f4ecee874d37"
    }
   },
   "outputs": [],
   "source": [
    "for name in proj.projects_names:\n",
    "    # read the corresponding dataset\n",
    "    dataset = readIR(name, force_read_original=False)\n",
    "    # add it to the corresponding sub-project. We can access directy using its name\n",
    "    # NOTE: all names of objects contained in a given project \n",
    "    # must be unique for this to work!\n",
    "    # Last thing. because the name of the Dataset is not very informative \n",
    "    # we give explicitely a name for the entry in the subproject\n",
    "    proj[name].add_dataset(dataset, name='IR')"
   ]
  },
  {
   "cell_type": "markdown",
   "metadata": {
    "nbpresent": {
     "id": "31de88d7-4261-445a-9918-df6775eb9907"
    }
   },
   "source": [
    "Display the updated structure of the project:"
   ]
  },
  {
   "cell_type": "code",
   "execution_count": 9,
   "metadata": {
    "ExecuteTime": {
     "end_time": "2017-12-10T10:46:35.298568Z",
     "start_time": "2017-12-10T10:46:35.292159Z"
    },
    "nbpresent": {
     "id": "bb61f400-a242-47a4-b0ff-78f2aa14b451"
    }
   },
   "outputs": [
    {
     "data": {
      "text/html": [
       "Project&nbsp;HIZECOKE:<br/>\n",
       "&nbsp;&nbsp;&nbsp;&nbsp;⤷&nbsp;P350&nbsp;(sub-project)<br/>\n",
       "&nbsp;&nbsp;&nbsp;&nbsp;&nbsp;&nbsp;&nbsp;⤷&nbsp;IR&nbsp;(dataset)<br/>\n",
       "&nbsp;&nbsp;&nbsp;&nbsp;⤷&nbsp;A350&nbsp;(sub-project)<br/>\n",
       "&nbsp;&nbsp;&nbsp;&nbsp;&nbsp;&nbsp;&nbsp;⤷&nbsp;IR&nbsp;(dataset)<br/>\n",
       "&nbsp;&nbsp;&nbsp;&nbsp;⤷&nbsp;B350&nbsp;(sub-project)<br/>\n",
       "&nbsp;&nbsp;&nbsp;&nbsp;&nbsp;&nbsp;&nbsp;⤷&nbsp;IR&nbsp;(dataset)<br/>\n"
      ],
      "text/plain": [
       "<spectrochempy.core.projects.project.Project at 0x1c1e804438>"
      ]
     },
     "execution_count": 9,
     "metadata": {},
     "output_type": "execute_result"
    }
   ],
   "source": [
    "proj"
   ]
  },
  {
   "cell_type": "markdown",
   "metadata": {},
   "source": [
    "Let's look at one of the dataset"
   ]
  },
  {
   "cell_type": "code",
   "execution_count": 10,
   "metadata": {},
   "outputs": [
    {
     "data": {
      "text/html": [
       "<table style='width:100%'>\n",
       "<tr style='border: 1px solid lightgray;'><td style='padding-right:5px; width:100px'><strong>Name/Id</strong></td><td style='text-align:left'>NDDataset_ac4e8d5a</td><tr>\n",
       "<tr style='border: 1px solid lightgray;'><td style='padding-right:5px; width:100px'><strong>Author</strong></td><td style='text-align:left'>christian@MacBook-Pro-de-Christian.local</td><tr>\n",
       "<tr style='border: 1px solid lightgray;'><td style='padding-right:5px; width:100px'><strong>Created</strong></td><td style='text-align:left'>2017-12-26 18:31:57.667795</td><tr>\n",
       "<tr style='border: 1px solid lightgray;'><td style='padding-right:5px; width:100px'><strong>Last Modified</strong></td><td style='text-align:left'>2018-12-24 19:40:42.852718</td><tr>\n",
       "<tr style='border: 1px solid lightgray;'><td style='padding-right:5px; width:100px'><strong>Description</strong></td><td style='text-align:left'>Stack of 130  datasets :<br/>( LOS2221, LOS2222, LOS2223, LOS2224, LOS2225, LOS2226, LOS2227, LOS2228, LOS2229, LOS2230, LOS2231, LOS2232, LOS2233, LOS2234, LOS2235, LOS2236, LOS2237, LOS2238, LOS2239, LOS2240, LOS2241, LOS2242, LOS2243, LOS2244, LOS2245, LOS2246, LOS2247, LOS2248, LOS2249, LOS2250, LOS2251, LOS2252, LOS2253, LOS2254, LOS2255, LOS2256, LOS2257, LOS2258, LOS2259, LOS2260, LOS2261, LOS2262, LOS2263, LOS2264, LOS2265, LOS2266, LOS2267, LOS2268, LOS2269, LOS2270, LOS2271, LOS2272, LOS2273, LOS2274, LOS2275, LOS2276, LOS2277, LOS2278, LOS2279, LOS2280, LOS2281, LOS2282, LOS2283, LOS2284, LOS2285, LOS2286, LOS2287, LOS2288, LOS2289, LOS2290, LOS2291, LOS2292, LOS2293, LOS2294, LOS2295, LOS2296, LOS2297, LOS2298, LOS2299, LOS2300, LOS2301, LOS2302, LOS2303, LOS2304, LOS2305, LOS2306, LOS2307, LOS2308, LOS2309, LOS2310, LOS2311, LOS2312, LOS2313, LOS2314, LOS2315, LOS2316, LOS2317, LOS2318, LOS2319, LOS2320, LOS2321, LOS2322, LOS2323, LOS2324, LOS2325, LOS2326, LOS2327, LOS2328, LOS2329, LOS2330, LOS2331, LOS2332, LOS2333, LOS2334, LOS2335, LOS2336, LOS2337, LOS2338, LOS2339, LOS2340, LOS2341, LOS2342, LOS2343, LOS2344, LOS2345, LOS2346, LOS2347, LOS2348, LOS2349, LOS2350 )</td><tr>\n",
       "<tr style='border: 1px solid lightgray;'><td style='padding-right:5px; width:100px'><strong>History</strong></td><td style='text-align:left'>2017-12-26 18:31:57.667795:created by concatenate()</td><tr>\n",
       "<tr style='border: 1px solid lightgray;'><td style='padding-right:5px; width:100px'><strong>data</strong></td><td style='text-align:left'><table style='width:100%'>\n",
       "<tr style='border: 1px solid lightgray;'><td style='padding-right:5px; width:100px'><strong>Title</strong></td><td style='text-align:left'>Absorbance</td><tr>\n",
       "<tr style='border: 1px solid lightgray;'><td style='padding-right:5px; width:100px'><strong>Shape</strong></td><td style='text-align:left'>130 x 2843</td><tr>\n",
       "<tr style='border: 1px solid lightgray;'><td style='padding-right:5px; width:100px'><strong>Values</strong></td><td style='text-align:left'>[[   3.262    3.109 ...    1.345    1.345]<br/> [   2.847    2.758 ...    1.305    1.305]<br/> ...<br/> [   4.843    4.164 ...    3.153    3.151]<br/> [   3.117    3.251 ...    6.000    6.000]] a.u.<br/</td><tr>\n",
       "</table>\n",
       "</td><tr>\n",
       "<tr style='border: 1px solid lightgray;'><td style='padding-right:5px; width:100px'><strong>Coordinate 0</strong></td><td style='text-align:left'><table style='width:100%'>\n",
       "<tr style='border: 1px solid lightgray;'><td style='padding-right:5px; width:100px'><strong>Title</strong></td><td style='text-align:left'>Acquisition timestamp (gmt)</td><tr>\n",
       "<tr style='border: 1px solid lightgray;'><td style='padding-right:5px; width:100px'><strong>Data</strong></td><td style='text-align:left'>[1377848107.000 1377848708.000 ... 1377925154.000 1377925756.000] s<br/</td><tr>\n",
       "<tr style='border: 1px solid lightgray;'><td style='padding-right:5px; width:100px'><strong>Labels</strong></td><td style='text-align:left'>[[2013-08-30 09:35:07 2013-08-30 09:45:08 ... 2013-08-31 06:59:14 2013-08-31 07:09:16]\n",
       " [LOS2221 LOS2222 ... LOS2349 LOS2350]]</td><tr>\n",
       "</table>\n",
       "</td><tr>\n",
       "<tr style='border: 1px solid lightgray;'><td style='padding-right:5px; width:100px'><strong>Coordinate 1</strong></td><td style='text-align:left'><table style='width:100%'>\n",
       "<tr style='border: 1px solid lightgray;'><td style='padding-right:5px; width:100px'><strong>Title</strong></td><td style='text-align:left'>Wavenumbers</td><tr>\n",
       "<tr style='border: 1px solid lightgray;'><td style='padding-right:5px; width:100px'><strong>Data</strong></td><td style='text-align:left'>[1259.309 1260.273 ... 3998.740 3999.704] cm<sup>-1</sup><br/</td><tr>\n",
       "</table>\n",
       "</td><tr>\n",
       "</table><br/>\n"
      ],
      "text/plain": [
       "NDDataset: [[   3.262,    3.109, ...,    1.345,    1.345],\n",
       "            [   2.847,    2.758, ...,    1.305,    1.305],\n",
       "            ...,\n",
       "            [   4.843,    4.164, ...,    3.153,    3.151],\n",
       "            [   3.117,    3.251, ...,    6.000,    6.000]] a.u."
      ]
     },
     "execution_count": 10,
     "metadata": {},
     "output_type": "execute_result"
    }
   ],
   "source": [
    "proj.P350.IR"
   ]
  },
  {
   "cell_type": "markdown",
   "metadata": {
    "nbpresent": {
     "id": "3ec263c9-e9b9-4d2b-a78a-d4cc50a86569"
    }
   },
   "source": [
    "### Plot of the raw IR data "
   ]
  },
  {
   "cell_type": "markdown",
   "metadata": {},
   "source": [
    "We can plot these IR data using the `plot_stack` method. Note: this method (as other plot methods) return some values. So to avoid their display in the output we affect them to some variables, e.g., \"`_`\" if we do not want to keep the results"
   ]
  },
  {
   "cell_type": "code",
   "execution_count": 11,
   "metadata": {},
   "outputs": [
    {
     "data": {
      "application/vnd.jupyter.widget-view+json": {
       "model_id": "c2c19499ff234d0bbd0449e3e56f3800",
       "version_major": 2,
       "version_minor": 0
      },
      "text/plain": [
       "FigureCanvasNbAgg()"
      ]
     },
     "metadata": {},
     "output_type": "display_data"
    }
   ],
   "source": [
    "p = proj.P350.IR.plot_stack()"
   ]
  },
  {
   "cell_type": "markdown",
   "metadata": {},
   "source": [
    "In such 2D stacked plot, the `x` axis corresponds to coordinate `1` and the `y` axis to coordinate `0`.\n",
    "This is because the array of data is arranged with dimensions as follow `[y, x]`. The adsorbance (or `z` axis) corresponds to the valueof each element in the array. Sometimes it can be easier to look at the data as a map or an image."
   ]
  },
  {
   "cell_type": "code",
   "execution_count": 12,
   "metadata": {},
   "outputs": [
    {
     "data": {
      "application/vnd.jupyter.widget-view+json": {
       "model_id": "f62c1f1574f348b8a37fe928712f4e96",
       "version_major": 2,
       "version_minor": 0
      },
      "text/plain": [
       "FigureCanvasNbAgg()"
      ]
     },
     "metadata": {},
     "output_type": "display_data"
    }
   ],
   "source": [
    "p = proj.P350.IR.plot_map()"
   ]
  },
  {
   "cell_type": "code",
   "execution_count": 13,
   "metadata": {},
   "outputs": [
    {
     "data": {
      "application/vnd.jupyter.widget-view+json": {
       "model_id": "9088fc47e1514b3884925485ed8400bb",
       "version_major": 2,
       "version_minor": 0
      },
      "text/plain": [
       "FigureCanvasNbAgg()"
      ]
     },
     "metadata": {},
     "output_type": "display_data"
    }
   ],
   "source": [
    "p = proj.P350.IR.plot_image()"
   ]
  },
  {
   "cell_type": "markdown",
   "metadata": {},
   "source": [
    "### Multiplot of the raw IR data "
   ]
  },
  {
   "cell_type": "markdown",
   "metadata": {},
   "source": [
    "In our project, the data have the same structure : three 2D IR spectra. We can plot them using the `multiplot_stack` function."
   ]
  },
  {
   "cell_type": "markdown",
   "metadata": {
    "nbpresent": {
     "id": "6de1226b-7b75-4e03-b1ce-82c9b7df624e"
    }
   },
   "source": [
    "We need to select the datasets we want to plot and the correspondings labels"
   ]
  },
  {
   "cell_type": "code",
   "execution_count": 14,
   "metadata": {
    "ExecuteTime": {
     "end_time": "2017-12-10T10:46:35.305478Z",
     "start_time": "2017-12-10T10:46:35.300815Z"
    },
    "nbpresent": {
     "id": "d02d88d0-cac8-486c-adc6-daab89652fc1"
    }
   },
   "outputs": [],
   "source": [
    "datasets = []\n",
    "labels = []\n",
    "for p in proj.projects:\n",
    "    datasets.append(p.IR)\n",
    "    labels.append(p.label)   "
   ]
  },
  {
   "cell_type": "markdown",
   "metadata": {},
   "source": [
    "Now we have two list containing the datasets and their corresponding labels"
   ]
  },
  {
   "cell_type": "code",
   "execution_count": 15,
   "metadata": {},
   "outputs": [
    {
     "data": {
      "text/plain": [
       "[NDDataset: [[   0.000,    0.000, ...,    1.466,    0.000],\n",
       "             [   0.000,    0.000, ...,    1.333,    0.000],\n",
       "             ...,\n",
       "             [   0.000,    0.000, ...,    1.570,    0.000],\n",
       "             [   0.000,    0.000, ...,    1.572,    0.000]] a.u.,\n",
       " NDDataset: [[   2.906,    2.846, ...,    0.744,    0.745],\n",
       "             [   2.939,    2.895, ...,    0.813,    0.814],\n",
       "             ...,\n",
       "             [   3.229,    3.169, ...,    1.252,    1.253],\n",
       "             [   3.622,    3.224, ...,    1.251,    1.253]] a.u.,\n",
       " NDDataset: [[   3.262,    3.109, ...,    1.345,    1.345],\n",
       "             [   2.847,    2.758, ...,    1.305,    1.305],\n",
       "             ...,\n",
       "             [   4.843,    4.164, ...,    3.153,    3.151],\n",
       "             [   3.117,    3.251, ...,    6.000,    6.000]] a.u.]"
      ]
     },
     "execution_count": 15,
     "metadata": {},
     "output_type": "execute_result"
    }
   ],
   "source": [
    "datasets"
   ]
  },
  {
   "cell_type": "code",
   "execution_count": 16,
   "metadata": {},
   "outputs": [
    {
     "data": {
      "text/plain": [
       "['$\\\\mathrm{M_A\\\\,(623\\\\,K)}$',\n",
       " '$\\\\mathrm{M_B\\\\,(623\\\\,K)}$',\n",
       " '$\\\\mathrm{M_P\\\\,(623\\\\,K)}$']"
      ]
     },
     "execution_count": 16,
     "metadata": {},
     "output_type": "execute_result"
    }
   ],
   "source": [
    "labels"
   ]
  },
  {
   "cell_type": "markdown",
   "metadata": {
    "nbpresent": {
     "id": "4f12fc98-2120-4a95-8101-66a3687a146d"
    }
   },
   "source": [
    "Now we call the `multiplot_stack` function to plots the datasets in row. Note the use of `sharez` , because the vertical axis here is `z` (the intensity) and not `y` (which refer to the evolution) (see above). "
   ]
  },
  {
   "cell_type": "code",
   "execution_count": 17,
   "metadata": {
    "ExecuteTime": {
     "end_time": "2017-12-10T10:46:37.145941Z",
     "start_time": "2017-12-10T10:46:35.308918Z"
    },
    "nbpresent": {
     "id": "f8a96a51-2ca0-4c1f-ba85-3dd46899c36c"
    }
   },
   "outputs": [
    {
     "data": {
      "application/vnd.jupyter.widget-view+json": {
       "model_id": "514502f097b3453c90fd2c9c82d042c8",
       "version_major": 2,
       "version_minor": 0
      },
      "text/plain": [
       "FigureCanvasNbAgg()"
      ]
     },
     "metadata": {},
     "output_type": "display_data"
    }
   ],
   "source": [
    "_ = multiplot_stack(datasets=datasets, labels=labels, \n",
    "                nrow=1, ncol=3, sharex=False, sharez=True, \n",
    "                figsize=(6.8,3), dpi=100)"
   ]
  },
  {
   "cell_type": "markdown",
   "metadata": {
    "nbpresent": {
     "id": "4e26d490-9925-4077-9aa3-0be86d846f98"
    }
   },
   "source": [
    "May be to analyse more easily the `y` dimension, map plot would be better. \n",
    "\n",
    "Let's then plot the data using this plot method (plot method: `map` instead of `stack`)"
   ]
  },
  {
   "cell_type": "code",
   "execution_count": 18,
   "metadata": {
    "ExecuteTime": {
     "end_time": "2017-12-10T10:46:40.034727Z",
     "start_time": "2017-12-10T10:46:37.148364Z"
    },
    "nbpresent": {
     "id": "08de904a-eacb-4bcf-afde-844c68b78f87"
    }
   },
   "outputs": [
    {
     "data": {
      "application/vnd.jupyter.widget-view+json": {
       "model_id": "353e20667cb94badba652b9600abe4b8",
       "version_major": 2,
       "version_minor": 0
      },
      "text/plain": [
       "FigureCanvasNbAgg()"
      ]
     },
     "metadata": {},
     "output_type": "display_data"
    }
   ],
   "source": [
    "_ = multiplot_map(datasets=datasets, labels=labels, \n",
    "                nrow=1, ncol=3, sharex=False, sharey=True, \n",
    "                figsize=(6.8,3), dpi=100, style='serif')  #<-- here we use a different style for the plotting"
   ]
  },
  {
   "cell_type": "markdown",
   "metadata": {
    "nbpresent": {
     "id": "5ba758c4-5eb5-4eaa-99c1-79899bb42241"
    }
   },
   "source": [
    "Hum? this is not very nice, because the `y` scale being the timestamps (the time from some reference date of the acquisition of the data), they cannot be easily compared.\n",
    "\n",
    "Let's take a common origin (and express the units in hours instead of seconds)!"
   ]
  },
  {
   "cell_type": "code",
   "execution_count": 19,
   "metadata": {
    "ExecuteTime": {
     "end_time": "2017-12-10T10:46:40.077798Z",
     "start_time": "2017-12-10T10:46:40.037090Z"
    },
    "nbpresent": {
     "id": "e6e5307c-f948-49e6-a80c-6dfcc23fb34d"
    }
   },
   "outputs": [],
   "source": [
    "for ds in datasets:\n",
    "    ds.y -= ds.y[0]    # remove the timestamp offset from the axe y\n",
    "    ds.y.ito('hour')   # adapt units to the length of the acquisition \n",
    "                       # for a prettier display\n",
    "    ds.y.title = 'Time-on-stream' \n",
    "                       # put some explicit title (to replace timestamps)"
   ]
  },
  {
   "cell_type": "markdown",
   "metadata": {
    "nbpresent": {
     "id": "0d262e59-9a75-4bc2-85c6-ae234325424e"
    }
   },
   "source": [
    "Now we replot the data:"
   ]
  },
  {
   "cell_type": "code",
   "execution_count": 20,
   "metadata": {
    "ExecuteTime": {
     "end_time": "2017-12-10T10:46:43.185075Z",
     "start_time": "2017-12-10T10:46:40.086995Z"
    },
    "nbpresent": {
     "id": "b7ba84e3-436d-4604-a055-66b9661613c7"
    }
   },
   "outputs": [
    {
     "data": {
      "application/vnd.jupyter.widget-view+json": {
       "model_id": "0c7b32a884dc4af4a79c96a1fff12396",
       "version_major": 2,
       "version_minor": 0
      },
      "text/plain": [
       "FigureCanvasNbAgg()"
      ]
     },
     "metadata": {},
     "output_type": "display_data"
    }
   ],
   "source": [
    "_ = multiplot_map(datasets=datasets, labels=labels, \n",
    "                nrow=1, ncol=3, sharex=False, sharey=True, \n",
    "                figsize=(6.8,3), dpi=100, style='sans') #<--'Sans-serif style (default)'"
   ]
  },
  {
   "cell_type": "markdown",
   "metadata": {
    "nbpresent": {
     "id": "f2f2d6a1-4e39-43eb-ac49-2be9c17aa5a0"
    }
   },
   "source": [
    "This is much better!"
   ]
  },
  {
   "cell_type": "markdown",
   "metadata": {
    "nbpresent": {
     "id": "b27eadf5-931a-4cfb-a646-0360f3f4feb2"
    }
   },
   "source": [
    "### Reading the raw TGA data\n",
    "\n",
    "Now read the TGA data. And again we will create a reading function to apply to the 3 samples."
   ]
  },
  {
   "cell_type": "code",
   "execution_count": 21,
   "metadata": {
    "ExecuteTime": {
     "end_time": "2017-12-10T10:46:43.208957Z",
     "start_time": "2017-12-10T10:46:43.187741Z"
    },
    "nbpresent": {
     "id": "afe7d1ed-566d-473b-9db9-3e0464c4ecfd"
    }
   },
   "outputs": [],
   "source": [
    "def readTGA(name, force_read_original=False):\n",
    "    basename = os.path.join(datadir.path,'agirdata/{}/TGA/tg'.format(name))\n",
    "    if os.path.exists(basename+'.scp') and not force_read_original:\n",
    "        # check if the scp file have already been saved\n",
    "        filename = basename + '.scp'\n",
    "        dataset = NDDataset.read( filename)\n",
    "    else:\n",
    "        # else read the original csv file\n",
    "        filename = basename + '.csv'\n",
    "        dataset = NDDataset.read_csv(filename)\n",
    "        dataset.save(basename + '.scp')\n",
    "    return dataset"
   ]
  },
  {
   "cell_type": "markdown",
   "metadata": {
    "nbpresent": {
     "id": "fbeb48f0-6db5-4f38-b974-3e1e88141cfc"
    }
   },
   "source": [
    "Now we read the TGA datasets and add them to our current project"
   ]
  },
  {
   "cell_type": "code",
   "execution_count": 22,
   "metadata": {
    "ExecuteTime": {
     "end_time": "2017-12-10T10:46:43.267546Z",
     "start_time": "2017-12-10T10:46:43.212556Z"
    },
    "nbpresent": {
     "id": "4b8c99b8-543d-414f-86b9-a4a20358c1ec"
    }
   },
   "outputs": [],
   "source": [
    "for name in proj.projects_names:\n",
    "    # read the corresponding dataset\n",
    "    dataset = readTGA(name, force_read_original=False)\n",
    "    # add it to the corresponding sub-project. \n",
    "    proj[name].add_dataset(dataset, name='TGA')"
   ]
  },
  {
   "cell_type": "markdown",
   "metadata": {
    "nbpresent": {
     "id": "8442c958-ff1c-4a93-8c84-fd20943fd3b0"
    }
   },
   "source": [
    "Display the updated structure:"
   ]
  },
  {
   "cell_type": "code",
   "execution_count": 23,
   "metadata": {
    "ExecuteTime": {
     "end_time": "2017-12-10T10:46:43.277463Z",
     "start_time": "2017-12-10T10:46:43.269878Z"
    },
    "nbpresent": {
     "id": "daf71e59-62fc-4269-8c4f-4b2b28ce4c40"
    }
   },
   "outputs": [
    {
     "data": {
      "text/html": [
       "Project&nbsp;HIZECOKE:<br/>\n",
       "&nbsp;&nbsp;&nbsp;&nbsp;⤷&nbsp;P350&nbsp;(sub-project)<br/>\n",
       "&nbsp;&nbsp;&nbsp;&nbsp;&nbsp;&nbsp;&nbsp;⤷&nbsp;IR&nbsp;(dataset)<br/>\n",
       "&nbsp;&nbsp;&nbsp;&nbsp;&nbsp;&nbsp;&nbsp;⤷&nbsp;TGA&nbsp;(dataset)<br/>\n",
       "&nbsp;&nbsp;&nbsp;&nbsp;⤷&nbsp;A350&nbsp;(sub-project)<br/>\n",
       "&nbsp;&nbsp;&nbsp;&nbsp;&nbsp;&nbsp;&nbsp;⤷&nbsp;IR&nbsp;(dataset)<br/>\n",
       "&nbsp;&nbsp;&nbsp;&nbsp;&nbsp;&nbsp;&nbsp;⤷&nbsp;TGA&nbsp;(dataset)<br/>\n",
       "&nbsp;&nbsp;&nbsp;&nbsp;⤷&nbsp;B350&nbsp;(sub-project)<br/>\n",
       "&nbsp;&nbsp;&nbsp;&nbsp;&nbsp;&nbsp;&nbsp;⤷&nbsp;IR&nbsp;(dataset)<br/>\n",
       "&nbsp;&nbsp;&nbsp;&nbsp;&nbsp;&nbsp;&nbsp;⤷&nbsp;TGA&nbsp;(dataset)<br/>\n"
      ],
      "text/plain": [
       "<spectrochempy.core.projects.project.Project at 0x1c1e804438>"
      ]
     },
     "execution_count": 23,
     "metadata": {},
     "output_type": "execute_result"
    }
   ],
   "source": [
    "proj"
   ]
  },
  {
   "cell_type": "markdown",
   "metadata": {
    "nbpresent": {
     "id": "2866ee37-9b7b-4ddd-a8f7-3fd9fd574866"
    }
   },
   "source": [
    "### Plot of the raw TGA data"
   ]
  },
  {
   "cell_type": "markdown",
   "metadata": {
    "nbpresent": {
     "id": "f3b2c715-6f44-46ca-8f88-7aa77b146095"
    }
   },
   "source": [
    "Let's plot the 3 1D TGA datasets on the same figure."
   ]
  },
  {
   "cell_type": "code",
   "execution_count": 24,
   "metadata": {
    "ExecuteTime": {
     "end_time": "2017-12-10T10:46:43.286699Z",
     "start_time": "2017-12-10T10:46:43.279754Z"
    },
    "nbpresent": {
     "id": "3be77f88-bd4c-447d-950a-ccf1da4f72ed"
    }
   },
   "outputs": [],
   "source": [
    "tga_datasets =[]\n",
    "for p in proj.projects:\n",
    "    tga_datasets.append(p.TGA) "
   ]
  },
  {
   "cell_type": "code",
   "execution_count": 25,
   "metadata": {
    "ExecuteTime": {
     "end_time": "2017-12-10T10:46:43.423768Z",
     "start_time": "2017-12-10T10:46:43.289884Z"
    },
    "nbpresent": {
     "id": "999b54fd-d3cf-4ffd-b251-4d28da340e3b"
    },
    "scrolled": false
   },
   "outputs": [
    {
     "data": {
      "application/vnd.jupyter.widget-view+json": {
       "model_id": "15485ed923914805b911e118c5ed221d",
       "version_major": 2,
       "version_minor": 0
      },
      "text/plain": [
       "FigureCanvasNbAgg()"
      ]
     },
     "metadata": {},
     "output_type": "display_data"
    }
   ],
   "source": [
    "_ = plot_multiple(datasets=tga_datasets, labels=labels, pen=True, style='sans', \n",
    "                  markevery=50, markersize=7,\n",
    "                  legend='lower right')"
   ]
  },
  {
   "cell_type": "markdown",
   "metadata": {
    "nbpresent": {
     "id": "7a2d363c-ad8f-41d1-a8da-ec903d0bf931"
    }
   },
   "source": [
    "Some information on this data are not present in the csv files used, so we need to add them now, to get better plots (also some part of the data, *e.g.*, before time 0, are not very useful and will be removed)"
   ]
  },
  {
   "cell_type": "code",
   "execution_count": 26,
   "metadata": {
    "ExecuteTime": {
     "end_time": "2017-12-10T10:46:43.465533Z",
     "start_time": "2017-12-10T10:46:43.425919Z"
    },
    "nbpresent": {
     "id": "4fbd6096-bf08-45b3-9eaf-e2be419bee99"
    }
   },
   "outputs": [
    {
     "name": "stderr",
     "output_type": "stream",
     "text": [
      "[SpectroChemPy] WARNING | SpectroChemPyWarning:  This coordinate (-0.5) is outside the axis limits (-0.494659132-29.44875667).\n",
      "The closest limit index is returned\n",
      "[SpectroChemPy] WARNING | SpectroChemPyWarning:  This coordinate (35.0) is outside the axis limits (-0.494659132-29.44875667).\n",
      "The closest limit index is returned\n",
      "[SpectroChemPy] WARNING | SpectroChemPyWarning:  This coordinate (-0.5) is outside the axis limits (-0.499333434-34.9945012).\n",
      "The closest limit index is returned\n",
      "[SpectroChemPy] WARNING | SpectroChemPyWarning:  This coordinate (35.0) is outside the axis limits (-0.499333434-34.9945012).\n",
      "The closest limit index is returned\n",
      "[SpectroChemPy] WARNING | SpectroChemPyWarning:  This coordinate (35.0) is outside the axis limits (-0.502332899-30.66650174).\n",
      "The closest limit index is returned\n"
     ]
    }
   ],
   "source": [
    "for tgads in tga_datasets:       \n",
    "    tgads = tgads[-0.5:35.0]          # keep only useful range. \n",
    "                                       # Note the slicing by location\n",
    "    tgads.x.units = 'hour'             # x dimension units\n",
    "    tgads.units = 'weight_percent'     # data units\n",
    "    tgads.x.title = 'Time-on-stream'   # x title information for labeling\n",
    "    tgads.title = 'Mass change'        # data title information for labeling"
   ]
  },
  {
   "cell_type": "markdown",
   "metadata": {
    "nbpresent": {
     "id": "bc5863e4-def2-4485-84bd-c5eb439f419b"
    }
   },
   "source": [
    "We get some warnings because the axis range is too high for two of the dataset. We can safely ignore this.\n",
    "\n",
    "Note that we can easily remove such warnings by changing the loglevel temporarilly:"
   ]
  },
  {
   "cell_type": "code",
   "execution_count": 27,
   "metadata": {
    "ExecuteTime": {
     "end_time": "2017-12-10T10:46:43.505577Z",
     "start_time": "2017-12-10T10:46:43.467561Z"
    },
    "nbpresent": {
     "id": "5d61baf9-e4e4-4477-9c34-2329e273648f"
    }
   },
   "outputs": [],
   "source": [
    "set_loglevel(ERROR)\n",
    "\n",
    "for tgads in tga_datasets:       \n",
    "    tgads = tgads[-0.5:35.0]          \n",
    "    tgads.x.units = 'hour'            \n",
    "    tgads.units = 'weight_percent'    \n",
    "    tgads.x.title = 'Time-on-stream'  \n",
    "    tgads.title = 'Mass change'        \n",
    "    \n",
    "set_loglevel(WARNING)"
   ]
  },
  {
   "cell_type": "markdown",
   "metadata": {
    "nbpresent": {
     "id": "d0e300bb-5436-4357-a447-0198ee8cce18"
    }
   },
   "source": [
    "Let's now plot the data again:"
   ]
  },
  {
   "cell_type": "code",
   "execution_count": 28,
   "metadata": {
    "ExecuteTime": {
     "end_time": "2017-12-10T10:46:43.628112Z",
     "start_time": "2017-12-10T10:46:43.507484Z"
    },
    "nbpresent": {
     "id": "8802705f-6dc5-4a06-b163-25b2bc1a6e67"
    }
   },
   "outputs": [
    {
     "data": {
      "application/vnd.jupyter.widget-view+json": {
       "model_id": "e684d997698c4c3eb6134060a4344190",
       "version_major": 2,
       "version_minor": 0
      },
      "text/plain": [
       "FigureCanvasNbAgg()"
      ]
     },
     "metadata": {},
     "output_type": "display_data"
    }
   ],
   "source": [
    "_ = plot_multiple(datasets=tga_datasets, labels=labels, pen=True, style='sans', markevery=50, markersize=7,\n",
    "                  legend='lower right')"
   ]
  },
  {
   "cell_type": "markdown",
   "metadata": {
    "nbpresent": {
     "id": "f2018a33-66c5-49d3-8ff2-da427f33d3fa"
    }
   },
   "source": [
    "**Why nothing has changed?**\n",
    "\n",
    "Simply because when we have done the slicing we have actually created a **copy** of the initial object \n",
    "before doing the slicing. So the original object has not been changed, but the copy!\n",
    "\n",
    "**How to solve this problem ?**\n",
    "\n",
    "We need to do the slicing in place and for this just put the constant **INPLACE** in the slicing indications."
   ]
  },
  {
   "cell_type": "code",
   "execution_count": 29,
   "metadata": {
    "ExecuteTime": {
     "end_time": "2017-12-10T10:46:43.772378Z",
     "start_time": "2017-12-10T10:46:43.630065Z"
    },
    "nbpresent": {
     "id": "45812edb-5347-4507-bdbb-b70807ced787"
    }
   },
   "outputs": [
    {
     "data": {
      "application/vnd.jupyter.widget-view+json": {
       "model_id": "a3fa17e130f94a389a6c913c4269768f",
       "version_major": 2,
       "version_minor": 0
      },
      "text/plain": [
       "FigureCanvasNbAgg()"
      ]
     },
     "metadata": {},
     "output_type": "display_data"
    }
   ],
   "source": [
    "set_loglevel(ERROR)\n",
    "    \n",
    "for tgads in tga_datasets:       \n",
    "    tgads[-0.5:35.0, INPLACE]          # keep only useful range. Note the slicing by location\n",
    "                                       # NOTE: the INPLACE addition!\n",
    "    tgads.x.units = 'hour'             # x dimension units\n",
    "    tgads.units = 'weight_percent'     # data units\n",
    "    tgads.x.title = 'Time-on-stream'   # x title information for labeling\n",
    "    tgads.title = 'Mass change'        # data title information for labeling\n",
    "    \n",
    "set_loglevel(WARNING)\n",
    "\n",
    "_ = plot_multiple(datasets=tga_datasets, labels=labels, pen=True, style='sans', markevery=50, markersize=7,\n",
    "                  legend='lower right')"
   ]
  },
  {
   "cell_type": "markdown",
   "metadata": {
    "nbpresent": {
     "id": "337a475f-b929-4cc6-8740-61273f51bf94"
    }
   },
   "source": [
    "### Saving the project"
   ]
  },
  {
   "cell_type": "markdown",
   "metadata": {
    "nbpresent": {
     "id": "a483ef45-cca7-443e-a1df-3f29d1e96bfc"
    }
   },
   "source": [
    "Ok, we have now build our project with some data and attributes. \n",
    "\n",
    "If we go to another notebook, we would like to get all the data without doing again the operations made on this notebook. \n",
    "\n",
    "So we need to save this project."
   ]
  },
  {
   "cell_type": "code",
   "execution_count": 30,
   "metadata": {
    "ExecuteTime": {
     "end_time": "2017-12-10T10:46:45.088624Z",
     "start_time": "2017-12-10T10:46:43.774805Z"
    },
    "nbpresent": {
     "id": "81fecd85-1420-4e3f-8597-5545c570797f"
    }
   },
   "outputs": [],
   "source": [
    "proj.save('HIZECOKE')"
   ]
  },
  {
   "cell_type": "markdown",
   "metadata": {},
   "source": [
    "In the next [notebook](agir_IR_processing.ipynb), we will now proceed with some basic pre-processing of the IR data, such as slicing interesting regions, and masking some data. "
   ]
  }
 ],
 "metadata": {
  "kernelspec": {
   "display_name": "Python 3",
   "language": "python",
   "name": "python3"
  },
  "language_info": {
   "codemirror_mode": {
    "name": "ipython",
    "version": 3
   },
   "file_extension": ".py",
   "mimetype": "text/x-python",
   "name": "python",
   "nbconvert_exporter": "python",
   "pygments_lexer": "ipython3",
   "version": "3.7.1"
  },
  "latex_envs": {
   "LaTeX_envs_menu_present": true,
   "autocomplete": true,
   "bibliofile": "biblio.bib",
   "cite_by": "apalike",
   "current_citInitial": 1,
   "eqLabelWithNumbers": true,
   "eqNumInitial": 1,
   "hotkeys": {
    "equation": "Ctrl-E",
    "itemize": "Ctrl-I"
   },
   "labels_anchors": false,
   "latex_user_defs": false,
   "report_style_numbering": false,
   "user_envs_cfg": false
  },
  "nbpresent": {
   "slides": {
    "036fcb57-7266-40b1-97a6-24e51ef4b3dd": {
     "id": "036fcb57-7266-40b1-97a6-24e51ef4b3dd",
     "prev": "adbd40f1-ef4a-45a7-89a7-d3fd07872987",
     "regions": {
      "2b4e6a1d-5abc-4aca-a1a0-a8ff5dfaefd2": {
       "attrs": {
        "height": 0.8,
        "width": 0.8,
        "x": 0.1,
        "y": 0.1
       },
       "content": {
        "cell": "d02d88d0-cac8-486c-adc6-daab89652fc1",
        "part": "whole"
       },
       "id": "2b4e6a1d-5abc-4aca-a1a0-a8ff5dfaefd2"
      }
     }
    },
    "093360b3-9104-4364-8695-888ba98fb643": {
     "id": "093360b3-9104-4364-8695-888ba98fb643",
     "prev": "8a1d6b57-97fe-4192-9134-e9e4c507c03a",
     "regions": {
      "313f5c86-0763-4560-b883-0a3c6887b9f4": {
       "attrs": {
        "height": 0.8,
        "width": 0.8,
        "x": 0.1,
        "y": 0.1
       },
       "content": {
        "cell": "352318e6-4461-47fc-a0f8-4338ce4f319c",
        "part": "whole"
       },
       "id": "313f5c86-0763-4560-b883-0a3c6887b9f4"
      }
     }
    },
    "09af11e4-6af2-4836-bdc3-247310f81500": {
     "id": "09af11e4-6af2-4836-bdc3-247310f81500",
     "prev": "f982b63d-31e9-4d00-b206-9c04b825011a",
     "regions": {
      "d1e17bca-103a-481f-80d6-30335749e51c": {
       "attrs": {
        "height": 0.8,
        "width": 0.8,
        "x": 0.1,
        "y": 0.1
       },
       "content": {
        "cell": "e4d6f81d-e9ac-48e6-80e3-6ab639743531",
        "part": "whole"
       },
       "id": "d1e17bca-103a-481f-80d6-30335749e51c"
      }
     }
    },
    "0bfe715a-6c8d-4e12-8e30-3ca70d6592f4": {
     "id": "0bfe715a-6c8d-4e12-8e30-3ca70d6592f4",
     "prev": "66794552-b5f5-4eea-a327-2eb3c9ba88bc",
     "regions": {
      "82c4d4e1-daec-4ad7-9195-c0e834784c0f": {
       "attrs": {
        "height": 0.8,
        "width": 0.8,
        "x": 0.1,
        "y": 0.1
       },
       "content": {
        "cell": "9aaf6138-8601-4b8d-bb9a-0a1bd021c475",
        "part": "whole"
       },
       "id": "82c4d4e1-daec-4ad7-9195-c0e834784c0f"
      }
     }
    },
    "1c43c4af-ec5e-4604-988a-aadab3bc5975": {
     "id": "1c43c4af-ec5e-4604-988a-aadab3bc5975",
     "prev": "bb98ffa7-8fde-4b75-a9a0-83c819c30a3a",
     "regions": {
      "1a4fff9e-006e-4f78-980a-2e5c25fa3a24": {
       "attrs": {
        "height": 0.8,
        "width": 0.8,
        "x": 0.1,
        "y": 0.1
       },
       "content": {
        "cell": "4fbd6096-bf08-45b3-9eaf-e2be419bee99",
        "part": "whole"
       },
       "id": "1a4fff9e-006e-4f78-980a-2e5c25fa3a24"
      }
     }
    },
    "2e0e9107-bd1d-4ed1-8db8-9844ab08abce": {
     "id": "2e0e9107-bd1d-4ed1-8db8-9844ab08abce",
     "prev": "52a8ac0d-ff45-486e-9bb1-3bc3edd2249a",
     "regions": {
      "f417cb52-0bd5-4812-bd80-42f9cdebcda8": {
       "attrs": {
        "height": 0.8,
        "width": 0.8,
        "x": 0.1,
        "y": 0.1
       },
       "content": {
        "cell": "8802705f-6dc5-4a06-b163-25b2bc1a6e67",
        "part": "whole"
       },
       "id": "f417cb52-0bd5-4812-bd80-42f9cdebcda8"
      }
     }
    },
    "30912bc7-b970-453e-a8ae-d7d767acceaf": {
     "id": "30912bc7-b970-453e-a8ae-d7d767acceaf",
     "prev": "4610d50f-8c0d-41e4-984c-f5928829f109",
     "regions": {
      "35c9f18a-2988-4e03-850a-bd7ca567a9a7": {
       "attrs": {
        "height": 0.8,
        "width": 0.8,
        "x": 0.1,
        "y": 0.1
       },
       "content": {
        "cell": "00e09b98-a48a-4ffa-9f9a-f4ecee874d37",
        "part": "whole"
       },
       "id": "35c9f18a-2988-4e03-850a-bd7ca567a9a7"
      }
     }
    },
    "3468b2db-6663-418c-af21-b169787c3e3a": {
     "id": "3468b2db-6663-418c-af21-b169787c3e3a",
     "prev": "6c94865e-7161-490c-8bac-94283201ca77",
     "regions": {
      "ff5380c3-570a-4fb4-93db-51630689212d": {
       "attrs": {
        "height": 0.8,
        "width": 0.8,
        "x": 0.1,
        "y": 0.1
       },
       "content": {
        "cell": "80f7c86f-60ac-40cc-9ce3-262c7fdde02d",
        "part": "whole"
       },
       "id": "ff5380c3-570a-4fb4-93db-51630689212d"
      }
     }
    },
    "35f67c1c-2c0d-471b-a44e-16787a3ee4a6": {
     "id": "35f67c1c-2c0d-471b-a44e-16787a3ee4a6",
     "prev": "5aa44e27-d439-4f50-bede-bcae1f0728a2",
     "regions": {
      "66045bfc-d291-4f77-a627-c1969d0c7abc": {
       "attrs": {
        "height": 0.8,
        "width": 0.8,
        "x": 0.1,
        "y": 0.1
       },
       "content": {
        "cell": "afe7d1ed-566d-473b-9db9-3e0464c4ecfd",
        "part": "whole"
       },
       "id": "66045bfc-d291-4f77-a627-c1969d0c7abc"
      }
     }
    },
    "3b752baf-9232-4d9c-8dc3-64a1764e0667": {
     "id": "3b752baf-9232-4d9c-8dc3-64a1764e0667",
     "prev": "92bcfdc5-c7f1-4c47-8bc7-f66ebc01054c",
     "regions": {
      "b6fa50f4-2e53-42a9-82e0-bbd0487d0ae2": {
       "attrs": {
        "height": 0.8,
        "width": 0.8,
        "x": 0.1,
        "y": 0.1
       },
       "content": {
        "cell": "3ec263c9-e9b9-4d2b-a78a-d4cc50a86569",
        "part": "whole"
       },
       "id": "b6fa50f4-2e53-42a9-82e0-bbd0487d0ae2"
      }
     }
    },
    "41931ea6-c7d6-42bc-9114-23e58b07211f": {
     "id": "41931ea6-c7d6-42bc-9114-23e58b07211f",
     "prev": "f4e49df8-eba3-41fc-8c8f-4ac8a2a205f5",
     "regions": {
      "eb846cf4-0c35-45fb-b6e5-2fa20145f3e2": {
       "attrs": {
        "height": 0.8,
        "width": 0.8,
        "x": 0.1,
        "y": 0.1
       },
       "content": {
        "cell": "b6db65a9-efc2-4489-b158-a7adb30e83c8",
        "part": "whole"
       },
       "id": "eb846cf4-0c35-45fb-b6e5-2fa20145f3e2"
      }
     }
    },
    "438206cf-14a8-4e09-99b9-1d811a014386": {
     "id": "438206cf-14a8-4e09-99b9-1d811a014386",
     "prev": "e1fd2679-f6b9-4bac-bbae-fc5b81dee0ed",
     "regions": {
      "460ccb5b-1354-41a2-ad55-555490c3db6a": {
       "attrs": {
        "height": 0.8,
        "width": 0.8,
        "x": 0.1,
        "y": 0.1
       },
       "content": {
        "cell": "5ba758c4-5eb5-4eaa-99c1-79899bb42241",
        "part": "whole"
       },
       "id": "460ccb5b-1354-41a2-ad55-555490c3db6a"
      }
     }
    },
    "4610d50f-8c0d-41e4-984c-f5928829f109": {
     "id": "4610d50f-8c0d-41e4-984c-f5928829f109",
     "prev": "0bfe715a-6c8d-4e12-8e30-3ca70d6592f4",
     "regions": {
      "41d480fa-428a-402b-b76f-8eaab414de3e": {
       "attrs": {
        "height": 0.8,
        "width": 0.8,
        "x": 0.1,
        "y": 0.1
       },
       "content": {
        "cell": "a622712c-d5df-405b-b95f-353fd8b9245f",
        "part": "whole"
       },
       "id": "41d480fa-428a-402b-b76f-8eaab414de3e"
      }
     }
    },
    "467c6359-3c77-4b04-a397-2a33f0d9c398": {
     "id": "467c6359-3c77-4b04-a397-2a33f0d9c398",
     "prev": "eeae2aaa-82ed-4d3b-acd7-290edf5b615f",
     "regions": {
      "034390ff-2317-46e7-b7ff-84d44ed51bb9": {
       "attrs": {
        "height": 0.8,
        "width": 0.8,
        "x": 0.1,
        "y": 0.1
       },
       "content": {
        "cell": "6045aec1-0300-4f99-91ad-e45b8feffcd7",
        "part": "whole"
       },
       "id": "034390ff-2317-46e7-b7ff-84d44ed51bb9"
      }
     }
    },
    "4b642f1c-1abd-4193-aef3-1a0b567e8d28": {
     "id": "4b642f1c-1abd-4193-aef3-1a0b567e8d28",
     "prev": "ee41d5db-090f-4da9-a9ae-1f32661e31b5",
     "regions": {
      "551d6818-3935-4a3b-b626-aca6155ee63d": {
       "attrs": {
        "height": 0.8,
        "width": 0.8,
        "x": 0.1,
        "y": 0.1
       },
       "content": {
        "cell": "0e06a074-383c-4411-82a4-cb4539971d2f",
        "part": "whole"
       },
       "id": "551d6818-3935-4a3b-b626-aca6155ee63d"
      }
     }
    },
    "52a8ac0d-ff45-486e-9bb1-3bc3edd2249a": {
     "id": "52a8ac0d-ff45-486e-9bb1-3bc3edd2249a",
     "prev": "8e0c853c-579c-40ca-beaf-0bc13038f489",
     "regions": {
      "d6c81cd5-bdba-4586-a18d-19a2c1747e9a": {
       "attrs": {
        "height": 0.8,
        "width": 0.8,
        "x": 0.1,
        "y": 0.1
       },
       "content": {
        "cell": "d0e300bb-5436-4357-a447-0198ee8cce18",
        "part": "whole"
       },
       "id": "d6c81cd5-bdba-4586-a18d-19a2c1747e9a"
      }
     }
    },
    "56cc75dd-cfe0-414b-9920-a11d6e15f809": {
     "id": "56cc75dd-cfe0-414b-9920-a11d6e15f809",
     "prev": "2e0e9107-bd1d-4ed1-8db8-9844ab08abce",
     "regions": {
      "44a55c9f-e980-47d1-be0c-ce6c75d5e7f5": {
       "attrs": {
        "height": 0.8,
        "width": 0.8,
        "x": 0.1,
        "y": 0.1
       },
       "content": {
        "cell": "f2018a33-66c5-49d3-8ff2-da427f33d3fa",
        "part": "whole"
       },
       "id": "44a55c9f-e980-47d1-be0c-ce6c75d5e7f5"
      }
     }
    },
    "57816317-d143-4344-9562-75e530656c4c": {
     "id": "57816317-d143-4344-9562-75e530656c4c",
     "prev": "85312c5c-8641-4229-9ac7-cc726de40efb",
     "regions": {
      "3048160f-9b15-47e2-8b2d-17cd48cfd2ae": {
       "attrs": {
        "height": 0.8,
        "width": 0.8,
        "x": 0.1,
        "y": 0.1
       },
       "content": {
        "cell": "8442c958-ff1c-4a93-8c84-fd20943fd3b0",
        "part": "whole"
       },
       "id": "3048160f-9b15-47e2-8b2d-17cd48cfd2ae"
      }
     }
    },
    "5aa44e27-d439-4f50-bede-bcae1f0728a2": {
     "id": "5aa44e27-d439-4f50-bede-bcae1f0728a2",
     "prev": "5cd06a8e-a32b-4e7d-8ae1-e83996d33916",
     "regions": {
      "0f8755fa-5fc1-4d5b-9b1d-cd55863c26f8": {
       "attrs": {
        "height": 0.8,
        "width": 0.8,
        "x": 0.1,
        "y": 0.1
       },
       "content": {
        "cell": "b27eadf5-931a-4cfb-a646-0360f3f4feb2",
        "part": "whole"
       },
       "id": "0f8755fa-5fc1-4d5b-9b1d-cd55863c26f8"
      }
     }
    },
    "5cd06a8e-a32b-4e7d-8ae1-e83996d33916": {
     "id": "5cd06a8e-a32b-4e7d-8ae1-e83996d33916",
     "prev": "cd17538d-3fa3-4be0-9efd-75bd997f8b83",
     "regions": {
      "89ac3ad8-370c-43a2-914a-2c021babb31f": {
       "attrs": {
        "height": 0.8,
        "width": 0.8,
        "x": 0.1,
        "y": 0.1
       },
       "content": {
        "cell": "f2f2d6a1-4e39-43eb-ac49-2be9c17aa5a0",
        "part": "whole"
       },
       "id": "89ac3ad8-370c-43a2-914a-2c021babb31f"
      }
     }
    },
    "5f0c0dd9-a260-40a1-8970-01c3c36e9012": {
     "id": "5f0c0dd9-a260-40a1-8970-01c3c36e9012",
     "prev": "7cb75e2d-edb5-4c66-81c4-f1f4dfb5de75",
     "regions": {
      "6997534c-4127-4217-b3f8-1e9cdd09e844": {
       "attrs": {
        "height": 0.8,
        "width": 0.8,
        "x": 0.1,
        "y": 0.1
       },
       "content": {
        "cell": "2620f592-af9c-40f3-a4da-3eeb617cf346",
        "part": "whole"
       },
       "id": "6997534c-4127-4217-b3f8-1e9cdd09e844"
      }
     }
    },
    "5fd067a8-b73f-4a22-a46c-8f0e5a915e4e": {
     "id": "5fd067a8-b73f-4a22-a46c-8f0e5a915e4e",
     "prev": "c508ea49-799d-493d-987f-5da02347db7a",
     "regions": {
      "8186bda5-fb60-4e24-93ab-1943f458c1d5": {
       "attrs": {
        "height": 0.8,
        "width": 0.8,
        "x": 0.1,
        "y": 0.1
       },
       "content": {
        "cell": "81fecd85-1420-4e3f-8597-5545c570797f",
        "part": "whole"
       },
       "id": "8186bda5-fb60-4e24-93ab-1943f458c1d5"
      }
     }
    },
    "66794552-b5f5-4eea-a327-2eb3c9ba88bc": {
     "id": "66794552-b5f5-4eea-a327-2eb3c9ba88bc",
     "prev": "3468b2db-6663-418c-af21-b169787c3e3a",
     "regions": {
      "7d9bb488-d563-4ce6-b8aa-5a140b001ac7": {
       "attrs": {
        "height": 0.8,
        "width": 0.8,
        "x": 0.1,
        "y": 0.1
       },
       "content": {
        "cell": "10466eb8-8fa0-483d-9f88-b78e1368d1b3",
        "part": "whole"
       },
       "id": "7d9bb488-d563-4ce6-b8aa-5a140b001ac7"
      }
     }
    },
    "6764934c-ccec-43c3-b934-eda5340bafbd": {
     "id": "6764934c-ccec-43c3-b934-eda5340bafbd",
     "prev": "1c43c4af-ec5e-4604-988a-aadab3bc5975",
     "regions": {
      "f858ad26-0891-46d1-be50-7dec4fe6778f": {
       "attrs": {
        "height": 0.8,
        "width": 0.8,
        "x": 0.1,
        "y": 0.1
       },
       "content": {
        "cell": "bc5863e4-def2-4485-84bd-c5eb439f419b",
        "part": "whole"
       },
       "id": "f858ad26-0891-46d1-be50-7dec4fe6778f"
      }
     }
    },
    "6b2e6f03-57c2-459c-a15a-1c5615f8135a": {
     "id": "6b2e6f03-57c2-459c-a15a-1c5615f8135a",
     "prev": "dd730e57-1de5-41cf-9b23-a9d68aca058b",
     "regions": {
      "fe67b3d7-e723-4996-af87-431adfdc6ee9": {
       "attrs": {
        "height": 0.8,
        "width": 0.8,
        "x": 0.1,
        "y": 0.1
       },
       "content": {
        "cell": "f8a96a51-2ca0-4c1f-ba85-3dd46899c36c",
        "part": "whole"
       },
       "id": "fe67b3d7-e723-4996-af87-431adfdc6ee9"
      }
     }
    },
    "6c94865e-7161-490c-8bac-94283201ca77": {
     "id": "6c94865e-7161-490c-8bac-94283201ca77",
     "prev": "41931ea6-c7d6-42bc-9114-23e58b07211f",
     "regions": {
      "5386fefe-22c3-4ec9-b8c1-9509fca85548": {
       "attrs": {
        "height": 0.8,
        "width": 0.8,
        "x": 0.1,
        "y": 0.1
       },
       "content": {
        "cell": "617d191e-c90b-4457-a2f4-30d942690b2c",
        "part": "whole"
       },
       "id": "5386fefe-22c3-4ec9-b8c1-9509fca85548"
      }
     }
    },
    "74f99fec-ff17-4a51-bd02-326ace32becd": {
     "id": "74f99fec-ff17-4a51-bd02-326ace32becd",
     "prev": "ee2cefe5-ff10-48ae-b632-8fcf2545db7f",
     "regions": {
      "25a33975-8034-4ff4-97d6-e50617fdd092": {
       "attrs": {
        "height": 0.8,
        "width": 0.8,
        "x": 0.1,
        "y": 0.1
       },
       "content": {
        "cell": "f3b2c715-6f44-46ca-8f88-7aa77b146095",
        "part": "whole"
       },
       "id": "25a33975-8034-4ff4-97d6-e50617fdd092"
      }
     }
    },
    "7c1cc1d6-9993-4808-b5fa-d4f1d6c75ee3": {
     "id": "7c1cc1d6-9993-4808-b5fa-d4f1d6c75ee3",
     "prev": "f8660a72-f73a-40d2-9371-e6f1a3342842",
     "regions": {
      "0cc5bac3-d7ff-439b-aa9e-1ab770cde2e2": {
       "attrs": {
        "height": 0.8,
        "width": 0.8,
        "x": 0.1,
        "y": 0.1
       },
       "content": {
        "cell": "6e8d57c6-9e05-4e1c-b090-8af20fe33b84",
        "part": "whole"
       },
       "id": "0cc5bac3-d7ff-439b-aa9e-1ab770cde2e2"
      }
     }
    },
    "7cb75e2d-edb5-4c66-81c4-f1f4dfb5de75": {
     "id": "7cb75e2d-edb5-4c66-81c4-f1f4dfb5de75",
     "prev": "cadd0982-29ee-4260-bbf5-f32294e2bbf4",
     "regions": {
      "8aeb51b3-c7bd-4cab-87f1-8b799f2eecd9": {
       "attrs": {
        "height": 0.8,
        "width": 0.8,
        "x": 0.1,
        "y": 0.1
       },
       "content": {
        "cell": "addb48d9-2b44-4ffa-a339-f5b7cabbd230",
        "part": "whole"
       },
       "id": "8aeb51b3-c7bd-4cab-87f1-8b799f2eecd9"
      }
     }
    },
    "85312c5c-8641-4229-9ac7-cc726de40efb": {
     "id": "85312c5c-8641-4229-9ac7-cc726de40efb",
     "prev": "d96b48c1-be3f-4127-beec-67e67db298fc",
     "regions": {
      "7edc122b-3d78-45c5-9d4c-7fd6f24d9c1a": {
       "attrs": {
        "height": 0.8,
        "width": 0.8,
        "x": 0.1,
        "y": 0.1
       },
       "content": {
        "cell": "4b8c99b8-543d-414f-86b9-a4a20358c1ec",
        "part": "whole"
       },
       "id": "7edc122b-3d78-45c5-9d4c-7fd6f24d9c1a"
      }
     }
    },
    "8a17c34e-f2d9-4002-9713-1b91cd6002c3": {
     "id": "8a17c34e-f2d9-4002-9713-1b91cd6002c3",
     "prev": "7c1cc1d6-9993-4808-b5fa-d4f1d6c75ee3",
     "regions": {
      "f5426618-0383-47d4-a4c4-86c85f6a9c6c": {
       "attrs": {
        "height": 0.8,
        "width": 0.8,
        "x": 0.1,
        "y": 0.1
       },
       "content": {
        "cell": "a82ec5f8-f33a-4077-961c-f117a3565fa8",
        "part": "whole"
       },
       "id": "f5426618-0383-47d4-a4c4-86c85f6a9c6c"
      }
     }
    },
    "8a1d6b57-97fe-4192-9134-e9e4c507c03a": {
     "id": "8a1d6b57-97fe-4192-9134-e9e4c507c03a",
     "prev": "4b642f1c-1abd-4193-aef3-1a0b567e8d28",
     "regions": {
      "96257152-4ba9-49cf-b376-1e3e358e713c": {
       "attrs": {
        "height": 0.8,
        "width": 0.8,
        "x": 0.1,
        "y": 0.1
       },
       "content": {
        "cell": "14a6077d-9206-4023-b4f1-d741f50390aa",
        "part": "whole"
       },
       "id": "96257152-4ba9-49cf-b376-1e3e358e713c"
      }
     }
    },
    "8e0c853c-579c-40ca-beaf-0bc13038f489": {
     "id": "8e0c853c-579c-40ca-beaf-0bc13038f489",
     "prev": "6764934c-ccec-43c3-b934-eda5340bafbd",
     "regions": {
      "caeb7f3a-1da5-4fb6-813c-4017d2c66ebc": {
       "attrs": {
        "height": 0.8,
        "width": 0.8,
        "x": 0.1,
        "y": 0.1
       },
       "content": {
        "cell": "5d61baf9-e4e4-4477-9c34-2329e273648f",
        "part": "whole"
       },
       "id": "caeb7f3a-1da5-4fb6-813c-4017d2c66ebc"
      }
     }
    },
    "902eb961-1be3-4def-bf4a-b49cc62d125c": {
     "id": "902eb961-1be3-4def-bf4a-b49cc62d125c",
     "prev": "6b2e6f03-57c2-459c-a15a-1c5615f8135a",
     "regions": {
      "a393e9c1-07e2-43af-bb8f-ee33735f9ce5": {
       "attrs": {
        "height": 0.8,
        "width": 0.8,
        "x": 0.1,
        "y": 0.1
       },
       "content": {
        "cell": "4e26d490-9925-4077-9aa3-0be86d846f98",
        "part": "whole"
       },
       "id": "a393e9c1-07e2-43af-bb8f-ee33735f9ce5"
      }
     }
    },
    "92bcfdc5-c7f1-4c47-8bc7-f66ebc01054c": {
     "id": "92bcfdc5-c7f1-4c47-8bc7-f66ebc01054c",
     "prev": "f70cbb64-c6b7-4340-91c8-3a298411ab6c",
     "regions": {
      "d554717f-c475-4776-a6ba-8995b81bfc50": {
       "attrs": {
        "height": 0.8,
        "width": 0.8,
        "x": 0.1,
        "y": 0.1
       },
       "content": {
        "cell": "bb61f400-a242-47a4-b0ff-78f2aa14b451",
        "part": "whole"
       },
       "id": "d554717f-c475-4776-a6ba-8995b81bfc50"
      }
     },
     "theme": "936cf791-e64f-4aae-899c-d596af2ccd88"
    },
    "943bc906-9a65-436b-84ab-b92465e382e5": {
     "id": "943bc906-9a65-436b-84ab-b92465e382e5",
     "prev": "74f99fec-ff17-4a51-bd02-326ace32becd",
     "regions": {
      "7c08db72-c7c0-488f-a1db-b385261215d6": {
       "attrs": {
        "height": 0.8,
        "width": 0.8,
        "x": 0.1,
        "y": 0.1
       },
       "content": {
        "cell": "3be77f88-bd4c-447d-950a-ccf1da4f72ed",
        "part": "whole"
       },
       "id": "7c08db72-c7c0-488f-a1db-b385261215d6"
      }
     }
    },
    "a45e52b7-0b8b-48ee-9390-fcaea4bac357": {
     "id": "a45e52b7-0b8b-48ee-9390-fcaea4bac357",
     "prev": "438206cf-14a8-4e09-99b9-1d811a014386",
     "regions": {
      "6ef13b5d-b0c6-44a6-9d90-ff2a4d08676a": {
       "attrs": {
        "height": 0.8,
        "width": 0.8,
        "x": 0.1,
        "y": 0.1
       },
       "content": {
        "cell": "e6e5307c-f948-49e6-a80c-6dfcc23fb34d",
        "part": "whole"
       },
       "id": "6ef13b5d-b0c6-44a6-9d90-ff2a4d08676a"
      }
     }
    },
    "a877f838-a165-4903-9d2d-abfcac6f8f96": {
     "id": "a877f838-a165-4903-9d2d-abfcac6f8f96",
     "prev": "943bc906-9a65-436b-84ab-b92465e382e5",
     "regions": {
      "189ebd3e-cae7-4724-a01f-b99d458d8eec": {
       "attrs": {
        "height": 0.8,
        "width": 0.8,
        "x": 0.1,
        "y": 0.1
       },
       "content": {
        "cell": "999b54fd-d3cf-4ffd-b251-4d28da340e3b",
        "part": "whole"
       },
       "id": "189ebd3e-cae7-4724-a01f-b99d458d8eec"
      }
     }
    },
    "adbd40f1-ef4a-45a7-89a7-d3fd07872987": {
     "id": "adbd40f1-ef4a-45a7-89a7-d3fd07872987",
     "prev": "3b752baf-9232-4d9c-8dc3-64a1764e0667",
     "regions": {
      "0fef6fee-9851-4325-be38-0ccd864e87e3": {
       "attrs": {
        "height": 0.8,
        "width": 0.8,
        "x": 0.1,
        "y": 0.1
       },
       "content": {
        "cell": "6de1226b-7b75-4e03-b1ce-82c9b7df624e",
        "part": "whole"
       },
       "id": "0fef6fee-9851-4325-be38-0ccd864e87e3"
      }
     }
    },
    "bb98ffa7-8fde-4b75-a9a0-83c819c30a3a": {
     "id": "bb98ffa7-8fde-4b75-a9a0-83c819c30a3a",
     "prev": "a877f838-a165-4903-9d2d-abfcac6f8f96",
     "regions": {
      "45ae6eec-a0c5-4533-bdca-3d90a69e3f80": {
       "attrs": {
        "height": 0.8,
        "width": 0.8,
        "x": 0.1,
        "y": 0.1
       },
       "content": {
        "cell": "7a2d363c-ad8f-41d1-a8da-ec903d0bf931",
        "part": "whole"
       },
       "id": "45ae6eec-a0c5-4533-bdca-3d90a69e3f80"
      }
     }
    },
    "bc1beb37-24aa-4dcc-9e6f-ff91ceb1417d": {
     "id": "bc1beb37-24aa-4dcc-9e6f-ff91ceb1417d",
     "prev": "fec13388-7d34-4fa3-a1dc-a18b1f790643",
     "regions": {
      "9c8ea5df-5e83-435b-9ea1-bef8bf568174": {
       "attrs": {
        "height": 0.8,
        "width": 0.8,
        "x": 0.1,
        "y": 0.1
       },
       "content": {
        "cell": "337a475f-b929-4cc6-8740-61273f51bf94",
        "part": "whole"
       },
       "id": "9c8ea5df-5e83-435b-9ea1-bef8bf568174"
      }
     }
    },
    "c3302329-8677-4f94-98c6-bc3bc66bbfdc": {
     "id": "c3302329-8677-4f94-98c6-bc3bc66bbfdc",
     "prev": "57816317-d143-4344-9562-75e530656c4c",
     "regions": {
      "df97c2be-6694-454f-9f30-3d6c1116b45d": {
       "attrs": {
        "height": 0.8,
        "width": 0.8,
        "x": 0.1,
        "y": 0.1
       },
       "content": {
        "cell": "daf71e59-62fc-4269-8c4f-4b2b28ce4c40",
        "part": "whole"
       },
       "id": "df97c2be-6694-454f-9f30-3d6c1116b45d"
      }
     }
    },
    "c508ea49-799d-493d-987f-5da02347db7a": {
     "id": "c508ea49-799d-493d-987f-5da02347db7a",
     "prev": "bc1beb37-24aa-4dcc-9e6f-ff91ceb1417d",
     "regions": {
      "6d23a009-27a8-4ea2-b669-30c0aafd4cd1": {
       "attrs": {
        "height": 0.8,
        "width": 0.8,
        "x": 0.1,
        "y": 0.1
       },
       "content": {
        "cell": "a483ef45-cca7-443e-a1df-3f29d1e96bfc",
        "part": "whole"
       },
       "id": "6d23a009-27a8-4ea2-b669-30c0aafd4cd1"
      }
     }
    },
    "c85ccebd-6241-4c22-9265-c28ea485e462": {
     "id": "c85ccebd-6241-4c22-9265-c28ea485e462",
     "prev": "093360b3-9104-4364-8695-888ba98fb643",
     "regions": {
      "932c50e4-bca0-4bf3-989f-2f723ff01afb": {
       "attrs": {
        "height": 0.8,
        "width": 0.8,
        "x": 0.1,
        "y": 0.1
       },
       "content": {
        "cell": "32d224ec-f047-43b8-829a-556e01023899",
        "part": "whole"
       },
       "id": "932c50e4-bca0-4bf3-989f-2f723ff01afb"
      }
     }
    },
    "cadd0982-29ee-4260-bbf5-f32294e2bbf4": {
     "id": "cadd0982-29ee-4260-bbf5-f32294e2bbf4",
     "prev": "c85ccebd-6241-4c22-9265-c28ea485e462",
     "regions": {
      "fbfaf70c-30fa-4f39-be69-8f38bca7e0c6": {
       "attrs": {
        "height": 0.8,
        "width": 0.8,
        "x": 0.1,
        "y": 0.1
       },
       "content": {
        "cell": "66ad9612-6cc8-4993-a4e8-4cd1be6951a3",
        "part": "whole"
       },
       "id": "fbfaf70c-30fa-4f39-be69-8f38bca7e0c6"
      }
     }
    },
    "cd17538d-3fa3-4be0-9efd-75bd997f8b83": {
     "id": "cd17538d-3fa3-4be0-9efd-75bd997f8b83",
     "prev": "f82acfa0-4590-49db-b25b-c9a3530f2f13",
     "regions": {
      "49e8396c-b597-4412-81b0-7af22463bcf2": {
       "attrs": {
        "height": 0.8,
        "width": 0.8,
        "x": 0.1,
        "y": 0.1
       },
       "content": {
        "cell": "b7ba84e3-436d-4604-a055-66b9661613c7",
        "part": "whole"
       },
       "id": "49e8396c-b597-4412-81b0-7af22463bcf2"
      }
     }
    },
    "d96b48c1-be3f-4127-beec-67e67db298fc": {
     "id": "d96b48c1-be3f-4127-beec-67e67db298fc",
     "prev": "35f67c1c-2c0d-471b-a44e-16787a3ee4a6",
     "regions": {
      "142c968f-7215-40a2-98d1-4b151f876478": {
       "attrs": {
        "height": 0.8,
        "width": 0.8,
        "x": 0.1,
        "y": 0.1
       },
       "content": {
        "cell": "fbeb48f0-6db5-4f38-b974-3e1e88141cfc",
        "part": "whole"
       },
       "id": "142c968f-7215-40a2-98d1-4b151f876478"
      }
     }
    },
    "dd730e57-1de5-41cf-9b23-a9d68aca058b": {
     "id": "dd730e57-1de5-41cf-9b23-a9d68aca058b",
     "prev": "036fcb57-7266-40b1-97a6-24e51ef4b3dd",
     "regions": {
      "b38f00c3-79d0-409e-b05b-6354a326a3d9": {
       "attrs": {
        "height": 0.8,
        "width": 0.8,
        "x": 0.1,
        "y": 0.1
       },
       "content": {
        "cell": "4f12fc98-2120-4a95-8101-66a3687a146d",
        "part": "whole"
       },
       "id": "b38f00c3-79d0-409e-b05b-6354a326a3d9"
      }
     }
    },
    "e1fd2679-f6b9-4bac-bbae-fc5b81dee0ed": {
     "id": "e1fd2679-f6b9-4bac-bbae-fc5b81dee0ed",
     "prev": "902eb961-1be3-4def-bf4a-b49cc62d125c",
     "regions": {
      "50912871-3816-4323-b0d4-8fe510ccc30a": {
       "attrs": {
        "height": 0.8,
        "width": 0.8,
        "x": 0.1,
        "y": 0.1
       },
       "content": {
        "cell": "08de904a-eacb-4bcf-afde-844c68b78f87",
        "part": "whole"
       },
       "id": "50912871-3816-4323-b0d4-8fe510ccc30a"
      }
     }
    },
    "ee2cefe5-ff10-48ae-b632-8fcf2545db7f": {
     "id": "ee2cefe5-ff10-48ae-b632-8fcf2545db7f",
     "prev": "c3302329-8677-4f94-98c6-bc3bc66bbfdc",
     "regions": {
      "53736ee9-4a7b-47bc-b53d-37ef796d3bf7": {
       "attrs": {
        "height": 0.8,
        "width": 0.8,
        "x": 0.1,
        "y": 0.1
       },
       "content": {
        "cell": "2866ee37-9b7b-4ddd-a8f7-3fd9fd574866",
        "part": "whole"
       },
       "id": "53736ee9-4a7b-47bc-b53d-37ef796d3bf7"
      }
     }
    },
    "ee41d5db-090f-4da9-a9ae-1f32661e31b5": {
     "id": "ee41d5db-090f-4da9-a9ae-1f32661e31b5",
     "prev": "467c6359-3c77-4b04-a397-2a33f0d9c398",
     "regions": {
      "d4b7bdb4-5f44-49ca-817b-1bf45bbee196": {
       "attrs": {
        "height": 0.8,
        "width": 0.8,
        "x": 0.1,
        "y": 0.1
       },
       "content": {
        "cell": "396c01b7-061a-4581-8fae-c7f5ecfc51b2",
        "part": "whole"
       },
       "id": "d4b7bdb4-5f44-49ca-817b-1bf45bbee196"
      }
     }
    },
    "eeae2aaa-82ed-4d3b-acd7-290edf5b615f": {
     "id": "eeae2aaa-82ed-4d3b-acd7-290edf5b615f",
     "prev": "09af11e4-6af2-4836-bdc3-247310f81500",
     "regions": {
      "7568e82b-32a7-40ad-a60b-688c21a0b826": {
       "attrs": {
        "height": 0.8,
        "width": 0.8,
        "x": 0.1,
        "y": 0.1
       },
       "content": {
        "cell": "7ebe96fc-565c-46f4-bdd4-ca8903347319",
        "part": "whole"
       },
       "id": "7568e82b-32a7-40ad-a60b-688c21a0b826"
      }
     }
    },
    "f4e49df8-eba3-41fc-8c8f-4ac8a2a205f5": {
     "id": "f4e49df8-eba3-41fc-8c8f-4ac8a2a205f5",
     "prev": "8a17c34e-f2d9-4002-9713-1b91cd6002c3",
     "regions": {
      "11db97a6-ced0-4ca5-9fed-cfa9c6b9a26c": {
       "attrs": {
        "height": 0.8,
        "width": 0.8,
        "x": 0.1,
        "y": 0.1
       },
       "content": {
        "cell": "0447056e-7e6b-49c0-83f2-34e3c468c69a",
        "part": "whole"
       },
       "id": "11db97a6-ced0-4ca5-9fed-cfa9c6b9a26c"
      }
     }
    },
    "f70cbb64-c6b7-4340-91c8-3a298411ab6c": {
     "id": "f70cbb64-c6b7-4340-91c8-3a298411ab6c",
     "prev": "30912bc7-b970-453e-a8ae-d7d767acceaf",
     "regions": {
      "bd67e136-d7a1-4311-b740-af133561f652": {
       "attrs": {
        "height": 0.8,
        "width": 0.8,
        "x": 0.1,
        "y": 0.1
       },
       "content": {
        "cell": "31de88d7-4261-445a-9918-df6775eb9907",
        "part": "whole"
       },
       "id": "bd67e136-d7a1-4311-b740-af133561f652"
      }
     }
    },
    "f82acfa0-4590-49db-b25b-c9a3530f2f13": {
     "id": "f82acfa0-4590-49db-b25b-c9a3530f2f13",
     "prev": "a45e52b7-0b8b-48ee-9390-fcaea4bac357",
     "regions": {
      "a62c6fe1-56b6-499b-b407-494625473416": {
       "attrs": {
        "height": 0.8,
        "width": 0.8,
        "x": 0.1,
        "y": 0.1
       },
       "content": {
        "cell": "0d262e59-9a75-4bc2-85c6-ae234325424e",
        "part": "whole"
       },
       "id": "a62c6fe1-56b6-499b-b407-494625473416"
      }
     }
    },
    "f8660a72-f73a-40d2-9371-e6f1a3342842": {
     "id": "f8660a72-f73a-40d2-9371-e6f1a3342842",
     "prev": "5f0c0dd9-a260-40a1-8970-01c3c36e9012",
     "regions": {
      "c5ac8dd5-9fc2-4132-8aca-cbd6e6326a27": {
       "attrs": {
        "height": 0.8,
        "width": 0.8,
        "x": 0.1,
        "y": 0.1
       },
       "content": {
        "cell": "f7c40a67-f94b-492c-9103-ef85a0a0a4e1",
        "part": "whole"
       },
       "id": "c5ac8dd5-9fc2-4132-8aca-cbd6e6326a27"
      }
     }
    },
    "f982b63d-31e9-4d00-b206-9c04b825011a": {
     "id": "f982b63d-31e9-4d00-b206-9c04b825011a",
     "prev": null,
     "regions": {
      "0ad0637a-4b33-4aa3-8ff9-3eb6389b6cac": {
       "attrs": {
        "height": 0.8,
        "width": 0.8,
        "x": 0.1,
        "y": 0.1
       },
       "content": {
        "cell": "8c1a09c3-41be-4a90-bb14-9ee105fbd2a4",
        "part": "whole"
       },
       "id": "0ad0637a-4b33-4aa3-8ff9-3eb6389b6cac"
      }
     }
    },
    "fec13388-7d34-4fa3-a1dc-a18b1f790643": {
     "id": "fec13388-7d34-4fa3-a1dc-a18b1f790643",
     "prev": "56cc75dd-cfe0-414b-9920-a11d6e15f809",
     "regions": {
      "51782d4d-1020-44cb-913d-be01c0fd08c5": {
       "attrs": {
        "height": 0.8,
        "width": 0.8,
        "x": 0.1,
        "y": 0.1
       },
       "content": {
        "cell": "45812edb-5347-4507-bdbb-b70807ced787",
        "part": "whole"
       },
       "id": "51782d4d-1020-44cb-913d-be01c0fd08c5"
      }
     }
    }
   },
   "themes": {
    "default": "936cf791-e64f-4aae-899c-d596af2ccd88",
    "theme": {
     "936cf791-e64f-4aae-899c-d596af2ccd88": {
      "backgrounds": {
       "dc7afa04-bf90-40b1-82a5-726e3cff5267": {
        "background-color": "31af15d2-7e15-44c5-ab5e-e04b16a89eff",
        "id": "dc7afa04-bf90-40b1-82a5-726e3cff5267"
       }
      },
      "id": "936cf791-e64f-4aae-899c-d596af2ccd88",
      "palette": {
       "19cc588f-0593-49c9-9f4b-e4d7cc113b1c": {
        "id": "19cc588f-0593-49c9-9f4b-e4d7cc113b1c",
        "rgb": [
         252,
         252,
         252
        ]
       },
       "31af15d2-7e15-44c5-ab5e-e04b16a89eff": {
        "id": "31af15d2-7e15-44c5-ab5e-e04b16a89eff",
        "rgb": [
         68,
         68,
         68
        ]
       },
       "50f92c45-a630-455b-aec3-788680ec7410": {
        "id": "50f92c45-a630-455b-aec3-788680ec7410",
        "rgb": [
         197,
         226,
         245
        ]
       },
       "c5cc3653-2ee1-402a-aba2-7caae1da4f6c": {
        "id": "c5cc3653-2ee1-402a-aba2-7caae1da4f6c",
        "rgb": [
         43,
         126,
         184
        ]
       },
       "efa7f048-9acb-414c-8b04-a26811511a21": {
        "id": "efa7f048-9acb-414c-8b04-a26811511a21",
        "rgb": [
         25.118061674008803,
         73.60176211453744,
         107.4819383259912
        ]
       }
      },
      "rules": {
       "a": {
        "color": "19cc588f-0593-49c9-9f4b-e4d7cc113b1c"
       },
       "blockquote": {
        "color": "50f92c45-a630-455b-aec3-788680ec7410",
        "font-size": 3
       },
       "code": {
        "font-family": "Anonymous Pro"
       },
       "h1": {
        "color": "19cc588f-0593-49c9-9f4b-e4d7cc113b1c",
        "font-family": "Merriweather",
        "font-size": 8
       },
       "h2": {
        "color": "19cc588f-0593-49c9-9f4b-e4d7cc113b1c",
        "font-family": "Merriweather",
        "font-size": 6
       },
       "h3": {
        "color": "50f92c45-a630-455b-aec3-788680ec7410",
        "font-family": "Lato",
        "font-size": 5.5
       },
       "h4": {
        "color": "c5cc3653-2ee1-402a-aba2-7caae1da4f6c",
        "font-family": "Lato",
        "font-size": 5
       },
       "h5": {
        "font-family": "Lato"
       },
       "h6": {
        "font-family": "Lato"
       },
       "h7": {
        "font-family": "Lato"
       },
       "li": {
        "color": "50f92c45-a630-455b-aec3-788680ec7410",
        "font-size": 3.25
       },
       "pre": {
        "font-family": "Anonymous Pro",
        "font-size": 4
       }
      },
      "text-base": {
       "color": "19cc588f-0593-49c9-9f4b-e4d7cc113b1c",
       "font-family": "Lato",
       "font-size": 4
      }
     }
    }
   }
  },
  "toc": {
   "nav_menu": {
    "height": "166px",
    "width": "326px"
   },
   "number_sections": true,
   "sideBar": true,
   "skip_h1_title": true,
   "toc_cell": false,
   "toc_position": {
    "height": "calc(100% - 180px)",
    "left": "10px",
    "top": "150px",
    "width": "377px"
   },
   "toc_section_display": true,
   "toc_window_display": false
  },
  "varInspector": {
   "cols": {
    "lenName": 16,
    "lenType": 16,
    "lenVar": 40
   },
   "kernels_config": {
    "python": {
     "delete_cmd_postfix": "",
     "delete_cmd_prefix": "del ",
     "library": "var_list.py",
     "varRefreshCmd": "print(var_dic_list())"
    },
    "r": {
     "delete_cmd_postfix": ") ",
     "delete_cmd_prefix": "rm(",
     "library": "var_list.r",
     "varRefreshCmd": "cat(var_dic_list()) "
    }
   },
   "types_to_exclude": [
    "module",
    "function",
    "builtin_function_or_method",
    "instance",
    "_Feature"
   ],
   "window_display": false
  }
 },
 "nbformat": 4,
 "nbformat_minor": 2
}
