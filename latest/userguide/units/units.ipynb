{
 "cells": [
  {
   "cell_type": "code",
   "execution_count": 1,
   "id": "bf6806a7",
   "metadata": {
    "execution": {
     "iopub.execute_input": "2022-06-30T15:23:33.857080Z",
     "iopub.status.busy": "2022-06-30T15:23:33.856479Z",
     "iopub.status.idle": "2022-06-30T15:23:36.043656Z",
     "shell.execute_reply": "2022-06-30T15:23:36.042825Z"
    }
   },
   "outputs": [
    {
     "data": {
      "text/html": [
       "\n",
       "    \n",
       "    <div>\n",
       "    <table>\n",
       "    <tr>\n",
       "    <td>\n",
       "    \n",
       "    <img src='data:image/png;base64,iVBORw0KGgoAAAANSUhEUgAAABgAAAAYCAYAAADgdz34AAAAAXNSR0IArs4c6QAAAAlw\n",
       "    SFlzAAAJOgAACToB8GSSSgAAAetpVFh0WE1MOmNvbS5hZG9iZS54bXAAAAAAADx4OnhtcG1ldGEgeG1sbnM6eD0iYWRvYmU6bnM6\n",
       "    bWV0YS8iIHg6eG1wdGs9IlhNUCBDb3JlIDUuNC4wIj4KICAgPHJkZjpSREYgeG1sbnM6cmRmPSJodHRwOi8vd3d3LnczLm9yZy8x\n",
       "    OTk5LzAyLzIyLXJkZi1zeW50YXgtbnMjIj4KICAgICAgPHJkZjpEZXNjcmlwdGlvbiByZGY6YWJvdXQ9IiIKICAgICAgICAgICAg\n",
       "    eG1sbnM6eG1wPSJodHRwOi8vbnMuYWRvYmUuY29tL3hhcC8xLjAvIgogICAgICAgICAgICB4bWxuczp0aWZmPSJodHRwOi8vbnMu\n",
       "    YWRvYmUuY29tL3RpZmYvMS4wLyI+CiAgICAgICAgIDx4bXA6Q3JlYXRvclRvb2w+bWF0cGxvdGxpYiB2ZXJzaW9uIDIuMS4wLCBo\n",
       "    dHRwOi8vbWF0cGxvdGxpYi5vcmcvPC94bXA6Q3JlYXRvclRvb2w+CiAgICAgICAgIDx0aWZmOk9yaWVudGF0aW9uPjE8L3RpZmY6\n",
       "    T3JpZW50YXRpb24+CiAgICAgIDwvcmRmOkRlc2NyaXB0aW9uPgogICA8L3JkZjpSREY+CjwveDp4bXBtZXRhPgqNQaNYAAAGiUlE\n",
       "    QVRIDY1We4xU1Rn/3XPuYx47u8w+hnU38hTcuoUEt/6D2y4RB0ME1BoEd9taJaKh9CFiN7YGp7appUAMNmktMZFoJTYVLVQ0smsy\n",
       "    26CN0SU1QgsuFAaW3WVmx33N677O6XfuyoIxTXqSO/fec+75fd93vt/3/UbDV0aKSZmCpkFMLz3T9utuu2N+o98aDSMBKVAo89z5\n",
       "    y+zEz3ZafcCOfvWdlGCalqKn1Bf71CygTd+mf1esSOnpdMpTb+vWpTZuWVfe3jLPa5tzHYNm0T5N0gpdkkHaDBeGBU6d1/t/fyS8\n",
       "    +/CbqdfUvmsx1PuMgc2bNxv79u1zgd31r+7JH1jbIZKxWRXAcYUQ8IWvBfBXNjEuJWPgMA02NR7C3/pYT9fjdZ3A9tGrWF8YSJHn\n",
       "    qcDz3y7q2T967PZv+gnYJdd1mEZ+62zGDQV/dQgKhmLzDNOXCEWM3j6eTT5Y3w78dOBKJLR1PQf+4ivPj76UPZnssBN+wbM9Aet/\n",
       "    AV81Mf1EEULXYfOobvX2WWQk0aoioXwwSmirOlioY0mu8BIouzYl7P8GV3vpqCCEZvlFz769w08oLDWvyKIyL1asSm28d6WfzA97\n",
       "    ztvvV1kexUMsmhlkULEkuGYmFYC6AvfUrITnwUKl5K79lkjeSSRRTCTbQPd95e1WzMbZSya74XoXAxctCllCnbECMOjZNGRwvzIX\n",
       "    nD85wbkMmKK+U045Dtdi8Qp+SAxU2GTg2bYlC9224pgvmSb54vkVTBQYyhUt2KjAMyMmPjwRQW5Mh2WKwJhlBh6jVGagFM84wZnQ\n",
       "    4bpC0Rt4pk1PbSt0NDcxDA5xryosDHWgtbM0DGZDWLSoiDMDYeQnGVrmOThxLozB0RAaahzkJzjKNqcIQBymJFMkOlN8Dqjpg0XY\n",
       "    Tx5xO/QbmmUrqIjGJznq47TqTaClKYfjp+PInLMwnOdYvtQBZ2XcunQY+VwIo4U4muoFEjVEFE6lQyEUKzHYfgQG9ylCyngU+Cxj\n",
       "    tOqxCDGHcCsOMCs6iQul5ZiStdATYxjMZXDLTUVwLY8Jey4uOh2IxjwsrP8UXJYxUrkZrghBahzV5iXU6gNkq0Z1EzIsUBUSCV2n\n",
       "    EOHo0LVxHCpuxabJJdhi5PFnvw5vLXwXIfNZvD/+JNo/X40NegE54sUaazl+UL8XD1x+FB9Ijjt4EQfdGN6J/x131LwIV9ap/AYs\n",
       "    0x1fz1ZKFbh6A7qKy/By9Dg6G36Ep91vUJJ15Cqr0Z67E8/HzmBrw1OwxWyM+3Mo6BAuSB17oyfx0Oyl2DN0Hqs/70Cx6hBCvESF\n",
       "    UY1ShWXZZEE7OTAYxZzaPH4TuoiusZvRnunFy2NbiHYuBp2vB66srX4vMEjpRKPxKXmnoQ4+Mn4DPiv8CYcrs3GfNUXJLtM+alSO\n",
       "    hrMj/KT+wBNW3+E/2liywNO3iSflbaFva/+stGDTxE0E9Sjaox8HBhxpEamzMGSEaFKg+mjEddzDh1MxTDq3YV1kGBsjfwW3S9Cq\n",
       "    anjmko+ndlb1UR3s6K8JlfphNWq9Ew/7c61T2BB/EbcaNkb8GBaE0tANH7/M34PLdhJDzjIcL9xPbdTG6zyM72Y+wXPHmvB489No\n",
       "    fm0b5HnbQ9Rgp/7DSSd29AeVvPeNyK6JcYl/yQVi5dBjuGvoV/gaJe47s45QUxrDmcYX0MBsdF7egvXZ7+O0vZA4X8QmOQWjlSK7\n",
       "    RDz5wIM30gp9UbWcGjXxhzdDu1SiNSpx6kcQB57rPnr/3dlkZarWLnlRq5oPET1dOCIOk4wALib9eeS5iygfhkd09H0DWphB/+gs\n",
       "    +PcOAS+ssrFmmXXgVfR0de9cpbAJfH3Q1jofW9DZk56dDcVsq9YcsoUMEd1qyLoT3BX1YiyHMJuk97hyjqIoE91t+NcTLeN0ZrfM\n",
       "    oXatZbu6G0h4VG+ibqq0IJVK6cAjo6serG3vSUezCMct0yQeSOFJSUImqb2qbknUpDqlZxE0QZ+ZUpSlZx79h4Nda6zef9dlk121\n",
       "    JDjbR5XggPRZlRnS6bRQRtLpn4++cuie/Yvn2svmNxuLw9WCcYIl4fEoTEGiSTUqJdfgU+8ROqf1iMkLzS389YtNPXc/PH8l8ONB\n",
       "    JZkHD+4JtD04HmVEDWWErmBhzV2/2LB1bemJG6krzv2S6NOHUgtEP0Oif5pE/3fHoruP7N8RiP61GArzSwbUhJJQpXJKiKbfr/3b\n",
       "    IhKq76sKPUdF9NW/LSqfSn6vjv8C45H/6FSgvZQAAAAASUVORK5CYII='\n",
       "         style='height:25px; border-radius:12px; display:inline-block; float:left; vertical-align:middle'>\n",
       "    </img>\n",
       "    \n",
       "    </td>\n",
       "    <td>\n",
       "    \n",
       "    &nbsp;&nbsp;<span style='font-size:12px'>SpectroChemPy's API - v.0.4.8.dev2<br/>© Copyright 2014-2022 - A.Travert & C.Fernandez @ LCS</span>\n",
       "    \n",
       "    </td>\n",
       "    </tr>\n",
       "    </table>\n",
       "    </div>\n",
       "    "
      ]
     },
     "metadata": {},
     "output_type": "display_data"
    }
   ],
   "source": [
    "import spectrochempy as scp\n",
    "from spectrochempy import ur, Quantity  # to simplify further writing\n",
    "import numpy as np"
   ]
  },
  {
   "cell_type": "markdown",
   "id": "ba88e53a",
   "metadata": {},
   "source": [
    "# Units & Quantities"
   ]
  },
  {
   "cell_type": "markdown",
   "id": "b92ffa10",
   "metadata": {},
   "source": [
    "SpectroChemPy can do calculations with units - it uses [pint](https://pint.readthedocs.io) to define and perform\n",
    "operation on data with units.\n",
    "\n",
    "Two objects, `ur` and `Quantity`, allow the manipulation of data with units:\n",
    "\n",
    "* `ur`: stands for **unit registry**, is used to define and handle many type of units as well as making conversion\n",
    " between them.\n",
    "* `Quantity`: is a scalar or an array of scalars with some units."
   ]
  },
  {
   "cell_type": "markdown",
   "id": "28f91053",
   "metadata": {
    "lines_to_next_cell": 0
   },
   "source": [
    "## Units\n",
    "For instance, a unit of speed can be defined as:"
   ]
  },
  {
   "cell_type": "code",
   "execution_count": 2,
   "id": "b26ca314",
   "metadata": {
    "execution": {
     "iopub.execute_input": "2022-06-30T15:23:36.047485Z",
     "iopub.status.busy": "2022-06-30T15:23:36.047267Z",
     "iopub.status.idle": "2022-06-30T15:23:36.058922Z",
     "shell.execute_reply": "2022-06-30T15:23:36.058200Z"
    },
    "lines_to_next_cell": 2
   },
   "outputs": [
    {
     "data": {
      "text/html": [
       "cm.s<sup>-1</sup>"
      ],
      "text/latex": [
       "$\\mathrm{cm} \\cdot \\mathrm{s}^{-1}$"
      ],
      "text/plain": [
       "<Unit('centimeter*second^-1')>"
      ]
     },
     "execution_count": 2,
     "metadata": {},
     "output_type": "execute_result"
    }
   ],
   "source": [
    "ur.cm / ur.s"
   ]
  },
  {
   "cell_type": "markdown",
   "id": "2639e850",
   "metadata": {},
   "source": [
    "## Create quantities\n",
    "\n",
    "to create quantity, use for instance, one of the following expression:"
   ]
  },
  {
   "cell_type": "code",
   "execution_count": 3,
   "id": "91894c2d",
   "metadata": {
    "execution": {
     "iopub.execute_input": "2022-06-30T15:23:36.064096Z",
     "iopub.status.busy": "2022-06-30T15:23:36.063566Z",
     "iopub.status.idle": "2022-06-30T15:23:36.071022Z",
     "shell.execute_reply": "2022-06-30T15:23:36.070282Z"
    }
   },
   "outputs": [
    {
     "data": {
      "text/html": [
       "10.0 cm<sup>-1</sup>"
      ],
      "text/latex": [
       "$10.0\\ \\mathrm{cm}^{-1}$"
      ],
      "text/plain": [
       "10.0 <Unit('centimeter^-1')>"
      ]
     },
     "execution_count": 3,
     "metadata": {},
     "output_type": "execute_result"
    }
   ],
   "source": [
    "Quantity(\"10.0 cm^-1\")"
   ]
  },
  {
   "cell_type": "code",
   "execution_count": 4,
   "id": "71aea9cd",
   "metadata": {
    "execution": {
     "iopub.execute_input": "2022-06-30T15:23:36.074416Z",
     "iopub.status.busy": "2022-06-30T15:23:36.074042Z",
     "iopub.status.idle": "2022-06-30T15:23:36.081504Z",
     "shell.execute_reply": "2022-06-30T15:23:36.080803Z"
    }
   },
   "outputs": [
    {
     "data": {
      "text/html": [
       "1.0 cm<sup>-1</sup>.h<sup>-1</sup>"
      ],
      "text/latex": [
       "$1.0\\ \\mathrm{cm}^{-1} \\cdot \\mathrm{h}^{-1}$"
      ],
      "text/plain": [
       "1.0 <Unit('centimeter^-1*hour^-1')>"
      ]
     },
     "execution_count": 4,
     "metadata": {},
     "output_type": "execute_result"
    }
   ],
   "source": [
    "Quantity(1.0, \"cm^-1/hour\")"
   ]
  },
  {
   "cell_type": "code",
   "execution_count": 5,
   "id": "eb8ecfbe",
   "metadata": {
    "execution": {
     "iopub.execute_input": "2022-06-30T15:23:36.084527Z",
     "iopub.status.busy": "2022-06-30T15:23:36.084208Z",
     "iopub.status.idle": "2022-06-30T15:23:36.093337Z",
     "shell.execute_reply": "2022-06-30T15:23:36.092664Z"
    }
   },
   "outputs": [
    {
     "data": {
      "text/html": [
       "10.0 scaled-dimensionless (1e-05)"
      ],
      "text/latex": [
       "$10.0\\ \\mathrm{scaled-dimensionless (1e-05)}$"
      ],
      "text/plain": [
       "10.0 <Unit('centimeter*kilometer^-1')>"
      ]
     },
     "execution_count": 5,
     "metadata": {},
     "output_type": "execute_result"
    }
   ],
   "source": [
    "Quantity(10.0, ur.cm / ur.km)"
   ]
  },
  {
   "cell_type": "markdown",
   "id": "54690c62",
   "metadata": {},
   "source": [
    "or may be (?) simpler,"
   ]
  },
  {
   "cell_type": "code",
   "execution_count": 6,
   "id": "d8e1a0b0",
   "metadata": {
    "execution": {
     "iopub.execute_input": "2022-06-30T15:23:36.096897Z",
     "iopub.status.busy": "2022-06-30T15:23:36.096700Z",
     "iopub.status.idle": "2022-06-30T15:23:36.103768Z",
     "shell.execute_reply": "2022-06-30T15:23:36.103050Z"
    }
   },
   "outputs": [
    {
     "data": {
      "text/html": [
       "10.0 scaled-dimensionless (1e-05)"
      ],
      "text/latex": [
       "$10.0\\ \\mathrm{scaled-dimensionless (1e-05)}$"
      ],
      "text/plain": [
       "10.0 <Unit('centimeter*kilometer^-1')>"
      ]
     },
     "execution_count": 6,
     "metadata": {},
     "output_type": "execute_result"
    }
   ],
   "source": [
    "10.0 * ur.cm / ur.km"
   ]
  },
  {
   "cell_type": "markdown",
   "id": "2c5d5477",
   "metadata": {},
   "source": [
    "## Do arithmetic with units"
   ]
  },
  {
   "cell_type": "code",
   "execution_count": 7,
   "id": "075787ad",
   "metadata": {
    "execution": {
     "iopub.execute_input": "2022-06-30T15:23:36.106951Z",
     "iopub.status.busy": "2022-06-30T15:23:36.106620Z",
     "iopub.status.idle": "2022-06-30T15:23:36.114686Z",
     "shell.execute_reply": "2022-06-30T15:23:36.113932Z"
    }
   },
   "outputs": [
    {
     "data": {
      "text/html": [
       "200.0 km.h<sup>-1</sup>"
      ],
      "text/latex": [
       "$200.0\\ \\mathrm{km} \\cdot \\mathrm{h}^{-1}$"
      ],
      "text/plain": [
       "200.0 <Unit('kilometer*hour^-1')>"
      ]
     },
     "execution_count": 7,
     "metadata": {},
     "output_type": "execute_result"
    }
   ],
   "source": [
    "a = 900 * ur.km\n",
    "b = 4.5 * ur.hours\n",
    "a / b"
   ]
  },
  {
   "cell_type": "markdown",
   "id": "df0be909",
   "metadata": {},
   "source": [
    "Such calculations can also be done using the following syntax, using a string expression"
   ]
  },
  {
   "cell_type": "code",
   "execution_count": 8,
   "id": "87c15642",
   "metadata": {
    "execution": {
     "iopub.execute_input": "2022-06-30T15:23:36.117889Z",
     "iopub.status.busy": "2022-06-30T15:23:36.117705Z",
     "iopub.status.idle": "2022-06-30T15:23:36.123216Z",
     "shell.execute_reply": "2022-06-30T15:23:36.122482Z"
    }
   },
   "outputs": [
    {
     "data": {
      "text/html": [
       "200.0 km.h<sup>-1</sup>"
      ],
      "text/latex": [
       "$200.0\\ \\mathrm{km} \\cdot \\mathrm{h}^{-1}$"
      ],
      "text/plain": [
       "200.0 <Unit('kilometer*hour^-1')>"
      ]
     },
     "execution_count": 8,
     "metadata": {},
     "output_type": "execute_result"
    }
   ],
   "source": [
    "Quantity(\"900 km / (4.5 hours)\")"
   ]
  },
  {
   "cell_type": "markdown",
   "id": "d2dea1ca",
   "metadata": {},
   "source": [
    "## Conversion between units"
   ]
  },
  {
   "cell_type": "code",
   "execution_count": 9,
   "id": "3b1708ed",
   "metadata": {
    "execution": {
     "iopub.execute_input": "2022-06-30T15:23:36.127105Z",
     "iopub.status.busy": "2022-06-30T15:23:36.126922Z",
     "iopub.status.idle": "2022-06-30T15:23:36.130750Z",
     "shell.execute_reply": "2022-06-30T15:23:36.129961Z"
    },
    "lines_to_next_cell": 2
   },
   "outputs": [],
   "source": [
    "c = a / b\n",
    "d = c.to(\"cm/s\")"
   ]
  },
  {
   "cell_type": "markdown",
   "id": "3a1ffe16",
   "metadata": {},
   "source": [
    "As shown below `to()` has generated a new variable and does not affect the initial one:"
   ]
  },
  {
   "cell_type": "code",
   "execution_count": 10,
   "id": "8b248808",
   "metadata": {
    "execution": {
     "iopub.execute_input": "2022-06-30T15:23:36.134160Z",
     "iopub.status.busy": "2022-06-30T15:23:36.133982Z",
     "iopub.status.idle": "2022-06-30T15:23:36.138195Z",
     "shell.execute_reply": "2022-06-30T15:23:36.137452Z"
    }
   },
   "outputs": [
    {
     "name": "stdout",
     "output_type": "stream",
     "text": [
      "initial quantity: c = 200.0 km.h⁻¹\n",
      "converted quantity: d = 5555.555555555556 cm.s⁻¹\n"
     ]
    }
   ],
   "source": [
    "print(f\"initial quantity: c = {c}\")\n",
    "print(f\"converted quantity: d = {d}\")"
   ]
  },
  {
   "cell_type": "markdown",
   "id": "5ecdbfca",
   "metadata": {},
   "source": [
    "We can make the conversion *inplace* using `ito()` instead of `to()`:"
   ]
  },
  {
   "cell_type": "code",
   "execution_count": 11,
   "id": "5a733671",
   "metadata": {
    "execution": {
     "iopub.execute_input": "2022-06-30T15:23:36.142716Z",
     "iopub.status.busy": "2022-06-30T15:23:36.142524Z",
     "iopub.status.idle": "2022-06-30T15:23:36.146703Z",
     "shell.execute_reply": "2022-06-30T15:23:36.145996Z"
    }
   },
   "outputs": [
    {
     "name": "stdout",
     "output_type": "stream",
     "text": [
      "converted quantity: c = 55.55555555555556 m.s⁻¹\n"
     ]
    }
   ],
   "source": [
    "c.ito(\"m/s\")\n",
    "print(f\"converted quantity: c = {c}\")"
   ]
  },
  {
   "cell_type": "markdown",
   "id": "65845592",
   "metadata": {},
   "source": [
    "## Do math operations with consistent units\n",
    "The units are transformed consistently in maths operations:"
   ]
  },
  {
   "cell_type": "code",
   "execution_count": 12,
   "id": "398f788f",
   "metadata": {
    "execution": {
     "iopub.execute_input": "2022-06-30T15:23:36.151445Z",
     "iopub.status.busy": "2022-06-30T15:23:36.150431Z",
     "iopub.status.idle": "2022-06-30T15:23:36.158440Z",
     "shell.execute_reply": "2022-06-30T15:23:36.157722Z"
    }
   },
   "outputs": [
    {
     "data": {
      "text/html": [
       "3.1622776601683795 m<sup>0.5</sup>"
      ],
      "text/latex": [
       "$3.1622776601683795\\ \\mathrm{m}^{0.5}$"
      ],
      "text/plain": [
       "3.1622776601683795 <Unit('meter^0.5')>"
      ]
     },
     "execution_count": 12,
     "metadata": {},
     "output_type": "execute_result"
    }
   ],
   "source": [
    "x = 10 * ur.meters\n",
    "np.sqrt(x)"
   ]
  },
  {
   "cell_type": "code",
   "execution_count": 13,
   "id": "53a27e24",
   "metadata": {
    "execution": {
     "iopub.execute_input": "2022-06-30T15:23:36.161709Z",
     "iopub.status.busy": "2022-06-30T15:23:36.161381Z",
     "iopub.status.idle": "2022-06-30T15:23:36.167131Z",
     "shell.execute_reply": "2022-06-30T15:23:36.166123Z"
    }
   },
   "outputs": [
    {
     "data": {
      "text/html": [
       "-0.5440211108893698"
      ],
      "text/latex": [
       "$-0.5440211108893698\\$"
      ],
      "text/plain": [
       "-0.5440211108893698 <Unit('dimensionless')>"
      ]
     },
     "execution_count": 13,
     "metadata": {},
     "output_type": "execute_result"
    }
   ],
   "source": [
    "x = 10 * ur.radians\n",
    "np.sin(x)"
   ]
  },
  {
   "cell_type": "markdown",
   "id": "14b24b30",
   "metadata": {},
   "source": [
    "Consistency of the units are checked and errors are generated if quantities have not appropriate units\n",
    "with the math operation..."
   ]
  },
  {
   "cell_type": "code",
   "execution_count": 14,
   "id": "4c2d2952",
   "metadata": {
    "execution": {
     "iopub.execute_input": "2022-06-30T15:23:36.170913Z",
     "iopub.status.busy": "2022-06-30T15:23:36.170719Z",
     "iopub.status.idle": "2022-06-30T15:23:36.339867Z",
     "shell.execute_reply": "2022-06-30T15:23:36.339080Z"
    }
   },
   "outputs": [
    {
     "name": "stderr",
     "output_type": "stream",
     "text": [
      "DimensionalityError: ERROR: Cannot convert from 'meter' ([length]) to 'radian' (dimensionless)\n"
     ]
    }
   ],
   "source": [
    "x = 10 * ur.meters\n",
    "try:\n",
    "    np.cos(x)\n",
    "except scp.DimensionalityError as e:  # catch the error\n",
    "    scp.error_(e)  # generate the error message (see API configuration)\n",
    "\n",
    "# Consistency of the units are checked and errors are generated if quantities have not appropriate units\n",
    "# with the math operation..."
   ]
  },
  {
   "cell_type": "markdown",
   "id": "1934b35d",
   "metadata": {},
   "source": [
    "## Stripping the units\n",
    "\n",
    "If for any reason - including quick and dirty checks -\n",
    "unitless numbers are needed, the `magnitude` field can be used:"
   ]
  },
  {
   "cell_type": "code",
   "execution_count": 15,
   "id": "60b290a2",
   "metadata": {
    "execution": {
     "iopub.execute_input": "2022-06-30T15:23:36.343617Z",
     "iopub.status.busy": "2022-06-30T15:23:36.343261Z",
     "iopub.status.idle": "2022-06-30T15:23:36.348794Z",
     "shell.execute_reply": "2022-06-30T15:23:36.348063Z"
    }
   },
   "outputs": [
    {
     "data": {
      "text/plain": [
       "-0.8390715290764524"
      ]
     },
     "execution_count": 15,
     "metadata": {},
     "output_type": "execute_result"
    }
   ],
   "source": [
    "x = 10 * ur.meters\n",
    "np.cos(x.magnitude)"
   ]
  },
  {
   "cell_type": "markdown",
   "id": "1ec58299",
   "metadata": {},
   "source": [
    "Units can be set for NDDataset data and/or Coordinates"
   ]
  },
  {
   "cell_type": "code",
   "execution_count": 16,
   "id": "98621188",
   "metadata": {
    "execution": {
     "iopub.execute_input": "2022-06-30T15:23:36.353034Z",
     "iopub.status.busy": "2022-06-30T15:23:36.352842Z",
     "iopub.status.idle": "2022-06-30T15:23:36.364373Z",
     "shell.execute_reply": "2022-06-30T15:23:36.363644Z"
    }
   },
   "outputs": [
    {
     "data": {
      "text/html": [
       "<table style='background:transparent'>\n",
       "<tr><td style='padding-right:5px; padding-bottom:0px; padding-top:0px; width:124px'><font color='green'>         name</font> </td><td style='text-align:left; padding-bottom:0px; padding-top:0px; border:.5px solid lightgray;  '> NDDataset_9c534f60</td><tr>\n",
       "<tr><td style='padding-right:5px; padding-bottom:0px; padding-top:0px; width:124px'><font color='green'>       author</font> </td><td style='text-align:left; padding-bottom:0px; padding-top:0px; border:.5px solid lightgray;  '> runner@fv-az82-802</td><tr>\n",
       "<tr><td style='padding-right:5px; padding-bottom:0px; padding-top:0px; width:124px'><font color='green'>      created</font> </td><td style='text-align:left; padding-bottom:0px; padding-top:0px; border:.5px solid lightgray;  '> 2022-06-30 15:23:36.354822+00:00</td><tr>\n",
       "<tr><td style='padding-right:5px; padding-bottom:0px; padding-top:0px; width:124px'><strong>          DATA </strong></td><td style='text-align:left; padding-bottom:0px; padding-top:0px; padding-top:10px; '><hr/></td><tr>\n",
       "<tr><td style='padding-right:5px; padding-bottom:0px; padding-top:0px; width:124px'><font color='green'>        title</font> </td><td style='text-align:left; padding-bottom:0px; padding-top:0px; border:.5px solid lightgray;  '> concentration</td><tr>\n",
       "<tr><td style='padding-right:5px; padding-bottom:0px; padding-top:0px; width:124px'><font color='green'>       values</font> </td><td style='text-align:left; padding-bottom:0px; padding-top:0px; border:.5px solid lightgray;  '> <div><font color='blue'>         [       1        2        3] g.cm⁻³</font></div></td><tr>\n",
       "<tr><td style='padding-right:5px; padding-bottom:0px; padding-top:0px; width:124px'><font color='green'>         size</font> </td><td style='text-align:left; padding-bottom:0px; padding-top:0px; border:.5px solid lightgray;  '> 3</td><tr>\n",
       "</table>"
      ],
      "text/plain": [
       "NDDataset: [float64] g.cm⁻³ (size: 3)"
      ]
     },
     "execution_count": 16,
     "metadata": {},
     "output_type": "execute_result"
    }
   ],
   "source": [
    "ds = scp.NDDataset([1.0, 2.0, 3.0], units=\"g/cm^3\", title=\"concentration\")\n",
    "ds"
   ]
  },
  {
   "cell_type": "code",
   "execution_count": 17,
   "id": "6d49fed0",
   "metadata": {
    "execution": {
     "iopub.execute_input": "2022-06-30T15:23:36.368340Z",
     "iopub.status.busy": "2022-06-30T15:23:36.368028Z",
     "iopub.status.idle": "2022-06-30T15:23:36.377796Z",
     "shell.execute_reply": "2022-06-30T15:23:36.377168Z"
    }
   },
   "outputs": [
    {
     "data": {
      "text/html": [
       "<table style='background:transparent'>\n",
       "<tr><td style='padding-right:5px; padding-bottom:0px; padding-top:0px; width:124px'><font color='green'>         name</font> </td><td style='text-align:left; padding-bottom:0px; padding-top:0px; border:.5px solid lightgray;  '> NDDataset_9c55092c</td><tr>\n",
       "<tr><td style='padding-right:5px; padding-bottom:0px; padding-top:0px; width:124px'><font color='green'>       author</font> </td><td style='text-align:left; padding-bottom:0px; padding-top:0px; border:.5px solid lightgray;  '> runner@fv-az82-802</td><tr>\n",
       "<tr><td style='padding-right:5px; padding-bottom:0px; padding-top:0px; width:124px'><font color='green'>      created</font> </td><td style='text-align:left; padding-bottom:0px; padding-top:0px; border:.5px solid lightgray;  '> 2022-06-30 15:23:36.354822+00:00</td><tr>\n",
       "<tr><td style='padding-right:5px; padding-bottom:0px; padding-top:0px; width:124px'><strong>          DATA </strong></td><td style='text-align:left; padding-bottom:0px; padding-top:0px; padding-top:10px; '><hr/></td><tr>\n",
       "<tr><td style='padding-right:5px; padding-bottom:0px; padding-top:0px; width:124px'><font color='green'>        title</font> </td><td style='text-align:left; padding-bottom:0px; padding-top:0px; border:.5px solid lightgray;  '> concentration</td><tr>\n",
       "<tr><td style='padding-right:5px; padding-bottom:0px; padding-top:0px; width:124px'><font color='green'>       values</font> </td><td style='text-align:left; padding-bottom:0px; padding-top:0px; border:.5px solid lightgray;  '> <div><font color='blue'>         [    1000     2000     3000] kg.m⁻³</font></div></td><tr>\n",
       "<tr><td style='padding-right:5px; padding-bottom:0px; padding-top:0px; width:124px'><font color='green'>         size</font> </td><td style='text-align:left; padding-bottom:0px; padding-top:0px; border:.5px solid lightgray;  '> 3</td><tr>\n",
       "</table>"
      ],
      "text/plain": [
       "NDDataset: [float64] kg.m⁻³ (size: 3)"
      ]
     },
     "execution_count": 17,
     "metadata": {},
     "output_type": "execute_result"
    }
   ],
   "source": [
    "ds.to(\"kg/m^3\")"
   ]
  },
  {
   "cell_type": "markdown",
   "id": "6bb36a8c",
   "metadata": {},
   "source": [
    "One can do transparent calculation using the units"
   ]
  },
  {
   "cell_type": "code",
   "execution_count": 18,
   "id": "19866757",
   "metadata": {
    "execution": {
     "iopub.execute_input": "2022-06-30T15:23:36.382917Z",
     "iopub.status.busy": "2022-06-30T15:23:36.382494Z",
     "iopub.status.idle": "2022-06-30T15:23:36.393636Z",
     "shell.execute_reply": "2022-06-30T15:23:36.392869Z"
    }
   },
   "outputs": [
    {
     "data": {
      "text/html": [
       "<table style='background:transparent'>\n",
       "<tr><td style='padding-right:5px; padding-bottom:0px; padding-top:0px; width:124px'><font color='green'>         name</font> </td><td style='text-align:left; padding-bottom:0px; padding-top:0px; border:.5px solid lightgray;  '> NDDataset_9c57b050</td><tr>\n",
       "<tr><td style='padding-right:5px; padding-bottom:0px; padding-top:0px; width:124px'><font color='green'>       author</font> </td><td style='text-align:left; padding-bottom:0px; padding-top:0px; border:.5px solid lightgray;  '> runner@fv-az82-802</td><tr>\n",
       "<tr><td style='padding-right:5px; padding-bottom:0px; padding-top:0px; width:124px'><font color='green'>      created</font> </td><td style='text-align:left; padding-bottom:0px; padding-top:0px; border:.5px solid lightgray;  '> 2022-06-30 15:23:36.354822+00:00</td><tr>\n",
       "<tr><td style='padding-right:5px; padding-bottom:0px; padding-top:0px; width:124px'><font color='green'>      history</font> </td><td style='text-align:left; padding-bottom:0px; padding-top:0px; border:.5px solid lightgray;  '> <div>Binary operation mul with `2 m³` has been performed</div></td><tr>\n",
       "<tr><td style='padding-right:5px; padding-bottom:0px; padding-top:0px; width:124px'><strong>          DATA </strong></td><td style='text-align:left; padding-bottom:0px; padding-top:0px; padding-top:10px; '><hr/></td><tr>\n",
       "<tr><td style='padding-right:5px; padding-bottom:0px; padding-top:0px; width:124px'><font color='green'>        title</font> </td><td style='text-align:left; padding-bottom:0px; padding-top:0px; border:.5px solid lightgray;  '> concentration</td><tr>\n",
       "<tr><td style='padding-right:5px; padding-bottom:0px; padding-top:0px; width:124px'><font color='green'>       values</font> </td><td style='text-align:left; padding-bottom:0px; padding-top:0px; border:.5px solid lightgray;  '> <div><font color='blue'>         [       2        4        6] g.m³.cm⁻³</font></div></td><tr>\n",
       "<tr><td style='padding-right:5px; padding-bottom:0px; padding-top:0px; width:124px'><font color='green'>         size</font> </td><td style='text-align:left; padding-bottom:0px; padding-top:0px; border:.5px solid lightgray;  '> 3</td><tr>\n",
       "</table>"
      ],
      "text/plain": [
       "NDDataset: [float64] g.m³.cm⁻³ (size: 3)"
      ]
     },
     "execution_count": 18,
     "metadata": {},
     "output_type": "execute_result"
    }
   ],
   "source": [
    "volume = Quantity(\"2 m^3\")\n",
    "ds1 = ds * volume\n",
    "ds1"
   ]
  },
  {
   "cell_type": "code",
   "execution_count": 19,
   "id": "92ab24fd",
   "metadata": {
    "execution": {
     "iopub.execute_input": "2022-06-30T15:23:36.397753Z",
     "iopub.status.busy": "2022-06-30T15:23:36.397183Z",
     "iopub.status.idle": "2022-06-30T15:23:36.412194Z",
     "shell.execute_reply": "2022-06-30T15:23:36.411552Z"
    }
   },
   "outputs": [
    {
     "data": {
      "text/html": [
       "<table style='background:transparent'>\n",
       "<tr><td style='padding-right:5px; padding-bottom:0px; padding-top:0px; width:124px'><font color='green'>         name</font> </td><td style='text-align:left; padding-bottom:0px; padding-top:0px; border:.5px solid lightgray;  '> NDDataset_9c5a3b0e</td><tr>\n",
       "<tr><td style='padding-right:5px; padding-bottom:0px; padding-top:0px; width:124px'><font color='green'>       author</font> </td><td style='text-align:left; padding-bottom:0px; padding-top:0px; border:.5px solid lightgray;  '> runner@fv-az82-802</td><tr>\n",
       "<tr><td style='padding-right:5px; padding-bottom:0px; padding-top:0px; width:124px'><font color='green'>      created</font> </td><td style='text-align:left; padding-bottom:0px; padding-top:0px; border:.5px solid lightgray;  '> 2022-06-30 15:23:36.354822+00:00</td><tr>\n",
       "<tr><td style='padding-right:5px; padding-bottom:0px; padding-top:0px; width:124px'><font color='green'>      history</font> </td><td style='text-align:left; padding-bottom:0px; padding-top:0px; border:.5px solid lightgray;  '> <div>Binary operation mul with `2 m³` has been performed<br/>               Binary operation truediv with `NDDataset_9c534f60` has been performed</div></td><tr>\n",
       "<tr><td style='padding-right:5px; padding-bottom:0px; padding-top:0px; width:124px'><strong>          DATA </strong></td><td style='text-align:left; padding-bottom:0px; padding-top:0px; padding-top:10px; '><hr/></td><tr>\n",
       "<tr><td style='padding-right:5px; padding-bottom:0px; padding-top:0px; width:124px'><font color='green'>        title</font> </td><td style='text-align:left; padding-bottom:0px; padding-top:0px; border:.5px solid lightgray;  '> concentration</td><tr>\n",
       "<tr><td style='padding-right:5px; padding-bottom:0px; padding-top:0px; width:124px'><font color='green'>       values</font> </td><td style='text-align:left; padding-bottom:0px; padding-top:0px; border:.5px solid lightgray;  '> <div><font color='blue'>         [       2        2        2] m³</font></div></td><tr>\n",
       "<tr><td style='padding-right:5px; padding-bottom:0px; padding-top:0px; width:124px'><font color='green'>         size</font> </td><td style='text-align:left; padding-bottom:0px; padding-top:0px; border:.5px solid lightgray;  '> 3</td><tr>\n",
       "</table>"
      ],
      "text/plain": [
       "NDDataset: [float64] m³ (size: 3)"
      ]
     },
     "execution_count": 19,
     "metadata": {},
     "output_type": "execute_result"
    }
   ],
   "source": [
    "ds1 / ds"
   ]
  }
 ],
 "metadata": {
  "jupytext": {
   "formats": "ipynb,py:percent",
   "notebook_metadata_filter": "all",
   "text_representation": {
    "extension": ".py",
    "format_name": "percent",
    "format_version": "1.3",
    "jupytext_version": "1.13.7"
   }
  },
  "kernelspec": {
   "display_name": "Python 3 (ipykernel)",
   "language": "python",
   "name": "python3"
  },
  "language_info": {
   "codemirror_mode": {
    "name": "ipython",
    "version": 3
   },
   "file_extension": ".py",
   "mimetype": "text/x-python",
   "name": "python",
   "nbconvert_exporter": "python",
   "pygments_lexer": "ipython3",
   "version": "3.9.13"
  },
  "widgets": {
   "application/vnd.jupyter.widget-state+json": {
    "state": {},
    "version_major": 2,
    "version_minor": 0
   }
  }
 },
 "nbformat": 4,
 "nbformat_minor": 5
}
