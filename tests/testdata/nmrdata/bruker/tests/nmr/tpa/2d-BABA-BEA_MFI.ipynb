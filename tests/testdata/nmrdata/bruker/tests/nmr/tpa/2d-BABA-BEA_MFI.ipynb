{
 "cells": [
  {
   "cell_type": "markdown",
   "metadata": {},
   "source": [
    "# 2D NMR plotting"
   ]
  },
  {
   "cell_type": "code",
   "execution_count": 20,
   "metadata": {
    "collapsed": false
   },
   "outputs": [],
   "source": [
    "import matplotlib\n",
    "#matplotlib.use('nbagg') # this allows having inline graph, which can be modified (i.e., zooming)"
   ]
  },
  {
   "cell_type": "markdown",
   "metadata": {},
   "source": [
    "** Warning **\n",
    "The above command does work only if this notebook is within a brower.\n",
    "\n",
    "The following command must be executed in a terminal window at the prompt:\n",
    "\n",
    "> cd '/the/path/where/your/notebooks/are/saved'\n",
    "\n",
    "> ipython notebook\n",
    "\n",
    "which should automatically open a browser. \n",
    "\n",
    "Then the present notebook can be open from the file browser."
   ]
  },
  {
   "cell_type": "markdown",
   "metadata": {},
   "source": [
    "##### Python imports"
   ]
  },
  {
   "cell_type": "code",
   "execution_count": 21,
   "metadata": {
    "collapsed": false
   },
   "outputs": [],
   "source": [
    "import os\n",
    "\n",
    "from matplotlib import rcParams\n",
    "from matplotlib import pyplot as pl\n",
    "\n",
    "import numpy as np\n",
    "import nmrglue as ng\n",
    "import pandas as pd"
   ]
  },
  {
   "cell_type": "markdown",
   "metadata": {},
   "source": [
    "##### Local imports"
   ]
  },
  {
   "cell_type": "code",
   "execution_count": 22,
   "metadata": {
    "collapsed": false
   },
   "outputs": [],
   "source": [
    "from lcslib.nmr.bruker import read_pdata\n",
    "from lcslib.nmr.units import scale\n",
    "from lcslib.nmr.plotting import make_fig_2D"
   ]
  },
  {
   "cell_type": "markdown",
   "metadata": {},
   "source": [
    "##### Graph setup"
   ]
  },
  {
   "cell_type": "code",
   "execution_count": 23,
   "metadata": {
    "collapsed": false
   },
   "outputs": [
    {
     "name": "stdout",
     "output_type": "stream",
     "text": [
      "[u'seaborn-darkgrid', u'seaborn-notebook', u'classic', u'seaborn-ticks', u'grayscale', u'bmh', u'seaborn-talk', u'dark_background', u'ggplot', u'fivethirtyeight', u'lcsdefault', u'seaborn-colorblind', u'seaborn-deep', u'seaborn-whitegrid', u'seaborn-bright', u'seaborn-poster', u'seaborn-muted', u'seaborn-paper', u'seaborn-white', u'seaborn-pastel', u'seaborn-dark', u'lcsgray', u'seaborn-dark-palette']\n"
     ]
    }
   ],
   "source": [
    "print pl.style.available  \n",
    "pl.style.use('lcsdefault')"
   ]
  },
  {
   "cell_type": "markdown",
   "metadata": {},
   "source": [
    "##### i/o directory"
   ]
  },
  {
   "cell_type": "code",
   "execution_count": 24,
   "metadata": {
    "collapsed": false
   },
   "outputs": [],
   "source": [
    "OUTPUTDIR = 'figures'\n",
    "INPUTDIR = os.path.expanduser(os.path.join('~','Documents','Aurelie','data','eddy','nmr'))"
   ]
  },
  {
   "cell_type": "markdown",
   "metadata": {},
   "source": [
    "##### import data"
   ]
  },
  {
   "cell_type": "code",
   "execution_count": 25,
   "metadata": {
    "collapsed": false
   },
   "outputs": [],
   "source": [
    "# 2D\n",
    "path = os.path.join(INPUTDIR,'151202')\n",
    "expno = os.path.join(path,'12')\n",
    "procno = os.path.join(expno, 'pdata','1')\n",
    "\n",
    "dic, data = read_pdata(procno, all_components=True) # read specs and proc\n",
    "                            #data (all_components=True to read all spectra)\n",
    "\n",
    "# for 2D spectra : data = [2rr, 2ri, 2ir, 2ii]\n",
    "rr, ri, ir, ii = data\n",
    "\n",
    "# make pd.DataFrame\n",
    "x = scale(dic, unit='ppm', axis=-1)\n",
    "y = scale(dic, unit='ppm', axis=0) \n",
    "d2rr = pd.DataFrame(rr.astype(np.float64, copy=False), index=y, columns=x)\n",
    "#d2rr"
   ]
  },
  {
   "cell_type": "code",
   "execution_count": 26,
   "metadata": {
    "collapsed": false
   },
   "outputs": [],
   "source": [
    "# MAS\n",
    "procnomas= os.path.join(path,'10','pdata','1')\n",
    "\n",
    "dicm, datam = read_pdata(procnomas, all_components=True) # read specs and proc\n",
    "                            #data (all_components=True to read all spectra) useful for rephasing\n",
    "\n",
    "# for 1D spectra : data = [1r, 1i]\n",
    "r, i = datam\n",
    "\n",
    "# make pd.Series\n",
    "xm = scale(dicm, unit='ppm', axis=-1)\n",
    "d1r = pd.Series(r.astype(np.float64, copy=False), index=xm)\n",
    "#d1r"
   ]
  },
  {
   "cell_type": "markdown",
   "metadata": {},
   "source": [
    "##### Plot"
   ]
  },
  {
   "cell_type": "code",
   "execution_count": 42,
   "metadata": {
    "collapsed": false,
    "scrolled": true
   },
   "outputs": [],
   "source": [
    "PROJECTION = True\n",
    "GRAYSCALE = False\n",
    "\n",
    "matplotlib.rcdefaults()\n",
    "pl.style.use('lcsdefault')\n",
    "if GRAYSCALE:\n",
    "    pl.style.use('lcsgray')\n",
    "\n",
    "if not PROJECTION:\n",
    "    ax = make_fig_2D(d2rr, \n",
    "                proj= True,\n",
    "                projtype='sum',\n",
    "                diagonal= 2,\n",
    "                xlim = (20,-5),\n",
    "                ylim = (30,-5),\n",
    "                ylabel = r'$\\mathrm{\\delta\\, _{DQ}\\,/ppm}$',\n",
    "                xlabel = r'$\\mathrm{\\delta\\, _{SQ}\\,/ppm}$',\n",
    "                clstart = 0, # 'min'=-1\n",
    "                clspacing=250,\n",
    "                clexponent=1.3,\n",
    "                clw=0.7,\n",
    "                #cmap='Wistia', # adapted for deuteranope blind-people\n",
    "                figname = os.path.join(OUTPUTDIR,'2d_1HBE.png'),\n",
    "                left=0.2)\n",
    "else:\n",
    "    \n",
    "    xlim = (20,-5)\n",
    "    ylim = (30,-5)\n",
    "    ax, axx, axy = make_fig_2D(d2rr, \n",
    "                mas=d1r/3+1.0e8,\n",
    "                proj= True,\n",
    "                diagonal= 2,\n",
    "                xlim = xlim,\n",
    "                ylim = ylim,\n",
    "                ylabel = r'$\\mathrm{\\delta\\, _{DQ}\\,/ppm}$',\n",
    "                xlabel = r'$\\mathrm{\\delta\\, _{SQ}\\,/ppm}$',\n",
    "                clstart = 0, # if you want to start at min: use -1\n",
    "                clspacing=250,\n",
    "                clexponent=1.3,\n",
    "                clw=0.7,\n",
    "                figname = os.path.join(OUTPUTDIR, 'figureBABA_BEA_MFI.png')\n",
    "                )\n",
    "    \n",
    "    # legends (#TODO improve this)\n",
    "    dqfiltline, masline = axx.get_lines()\n",
    "    dqline, = axy.get_lines()\n",
    "    scl = axx.get_ylim()\n",
    "    off = (scl[1]-scl[0])*.1 \n",
    "    axx.text(xlim[0], dqfiltline.get_ydata()[-1]+off, 'DQ (projection)', color=dqfiltline.get_color(), fontsize=8) \n",
    "    axx.text(xlim[0], masline.get_ydata()[-1]+off, 'MAS', color=axx.get_lines()[1].get_color(), fontsize=8) \n",
    "    axy.text(dqline.get_xdata()[-1]+off*.75, ylim[0], 'SQ (projection)', color=axy.get_lines()[0].get_color(), \n",
    "                                                         rotation = -90, fontsize=8, va='bottom')\n",
    "#--------\n",
    "pl.show()\n"
   ]
  },
  {
   "cell_type": "code",
   "execution_count": null,
   "metadata": {
    "collapsed": true
   },
   "outputs": [],
   "source": []
  },
  {
   "cell_type": "code",
   "execution_count": null,
   "metadata": {
    "collapsed": true
   },
   "outputs": [],
   "source": []
  }
 ],
 "metadata": {
  "kernelspec": {
   "display_name": "Python 2",
   "language": "python",
   "name": "python2"
  },
  "language_info": {
   "codemirror_mode": {
    "name": "ipython",
    "version": 2
   },
   "file_extension": ".py",
   "mimetype": "text/x-python",
   "name": "python",
   "nbconvert_exporter": "python",
   "pygments_lexer": "ipython2",
   "version": "2.7.12"
  },
  "latex_envs": {
   "LaTeX_envs_menu_present": true,
   "bibliofile": "biblio.bib",
   "cite_by": "apalike",
   "current_citInitial": 1,
   "eqLabelWithNumbers": true,
   "eqNumInitial": 1,
   "hotkeys": {},
   "labels_anchors": false,
   "latex_user_defs": false,
   "report_style_numbering": false,
   "user_envs_cfg": false
  },
  "widgets": {
   "state": {},
   "version": "1.1.1"
  }
 },
 "nbformat": 4,
 "nbformat_minor": 0
}
